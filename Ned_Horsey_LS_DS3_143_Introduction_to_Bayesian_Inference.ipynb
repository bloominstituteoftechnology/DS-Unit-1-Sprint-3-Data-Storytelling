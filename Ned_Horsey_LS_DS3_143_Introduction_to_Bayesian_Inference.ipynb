{
  "nbformat": 4,
  "nbformat_minor": 0,
  "metadata": {
    "colab": {
      "name": "Ned_Horsey_LS_DS3_143_Introduction_to_Bayesian_Inference.ipynb",
      "version": "0.3.2",
      "provenance": [],
      "collapsed_sections": [],
      "include_colab_link": true
    },
    "kernelspec": {
      "name": "python3",
      "display_name": "Python 3"
    }
  },
  "cells": [
    {
      "cell_type": "markdown",
      "metadata": {
        "id": "view-in-github",
        "colab_type": "text"
      },
      "source": [
        "<a href=\"https://colab.research.google.com/github/Rice-from-data/DS-Unit-1-Sprint-3-Data-Storytelling/blob/master/Ned_Horsey_LS_DS3_143_Introduction_to_Bayesian_Inference.ipynb\" target=\"_parent\"><img src=\"https://colab.research.google.com/assets/colab-badge.svg\" alt=\"Open In Colab\"/></a>"
      ]
    },
    {
      "metadata": {
        "id": "H7OLbevlbd_Z",
        "colab_type": "text"
      },
      "cell_type": "markdown",
      "source": [
        "# Lambda School Data Science Module 143\n",
        "\n",
        "## Introduction to Bayesian Inference\n",
        "\n",
        "!['Detector! What would the Bayesian statistician say if I asked him whether the--' [roll] 'I AM A NEUTRINO DETECTOR, NOT A LABYRINTH GUARD. SERIOUSLY, DID YOUR BRAIN FALL OUT?' [roll] '... yes.'](https://imgs.xkcd.com/comics/frequentists_vs_bayesians.png)\n",
        "\n",
        "*[XKCD 1132](https://www.xkcd.com/1132/)*\n"
      ]
    },
    {
      "metadata": {
        "id": "3mz8p08BsN6p",
        "colab_type": "text"
      },
      "cell_type": "markdown",
      "source": [
        "## Prepare - Bayes' Theorem and the Bayesian mindset"
      ]
    },
    {
      "metadata": {
        "id": "GhycNr-Sbeie",
        "colab_type": "text"
      },
      "cell_type": "markdown",
      "source": [
        "Bayes' theorem possesses a near-mythical quality - a bit of math that somehow magically evaluates a situation. But this mythicalness has more to do with its reputation and advanced applications than the actual core of it - deriving it is actually remarkably straightforward.\n",
        "\n",
        "### The Law of Total Probability\n",
        "\n",
        "By definition, the total probability of all outcomes (events) if some variable (event space) $A$ is 1. That is:\n",
        "\n",
        "$$P(A) = \\sum_n P(A_n) = 1$$\n",
        "\n",
        "The law of total probability takes this further, considering two variables ($A$ and $B$) and relating their marginal probabilities (their likelihoods considered independently, without reference to one another) and their conditional probabilities (their likelihoods considered jointly). A marginal probability is simply notated as e.g. $P(A)$, while a conditional probability is notated $P(A|B)$, which reads \"probability of $A$ *given* $B$\".\n",
        "\n",
        "The law of total probability states:\n",
        "\n",
        "$$P(A) = \\sum_n P(A | B_n) P(B_n)$$\n",
        "\n",
        "In words - the total probability of $A$ is equal to the sum of the conditional probability of $A$ on any given event $B_n$ times the probability of that event $B_n$, and summed over all possible events in $B$.\n",
        "\n",
        "### The Law of Conditional Probability\n",
        "\n",
        "What's the probability of something conditioned on something else? To determine this we have to go back to set theory and think about the intersection of sets:\n",
        "\n",
        "The formula for actual calculation:\n",
        "\n",
        "$$P(A|B) = \\frac{P(A \\cap B)}{P(B)}$$\n",
        "\n",
        "![Visualization of set intersection](https://upload.wikimedia.org/wikipedia/commons/9/99/Venn0001.svg)\n",
        "\n",
        "Think of the overall rectangle as the whole probability space, $A$ as the left circle, $B$ as the right circle, and their intersection as the red area. Try to visualize the ratio being described in the above formula, and how it is different from just the $P(A)$ (not conditioned on $B$).\n",
        "\n",
        "We can see how this relates back to the law of total probability - multiply both sides by $P(B)$ and you get $P(A|B)P(B) = P(A \\cap B)$ - replaced back into the law of total probability we get $P(A) = \\sum_n P(A \\cap B_n)$.\n",
        "\n",
        "This may not seem like an improvement at first, but try to relate it back to the above picture - if you think of sets as physical objects, we're saying that the total probability of $A$ given $B$ is all the little pieces of it intersected with $B$, added together. The conditional probability is then just that again, but divided by the probability of $B$ itself happening in the first place.\n",
        "\n",
        "### Bayes Theorem\n",
        "\n",
        "Here is is, the seemingly magic tool:\n",
        "\n",
        "$$P(A|B) = \\frac{P(B|A)P(A)}{P(B)}$$\n",
        "\n",
        "In words - the probability of $A$ conditioned on $B$ is the probability of $B$ conditioned on $A$, times the probability of $A$ and divided by the probability of $B$. These unconditioned probabilities are referred to as \"prior beliefs\", and the conditioned probabilities as \"updated.\"\n",
        "\n",
        "Why is this important? Scroll back up to the XKCD example - the Bayesian statistician draws a less absurd conclusion because their prior belief in the likelihood that the sun will go nova is extremely low. So, even when updated based on evidence from a detector that is $35/36 = 0.972$ accurate, the prior belief doesn't shift enough to change their overall opinion.\n",
        "\n",
        "There's many examples of Bayes' theorem - one less absurd example is to apply to [breathalyzer tests](https://www.bayestheorem.net/breathalyzer-example/). You may think that a breathalyzer test that is 100% accurate for true positives (detecting somebody who is drunk) is pretty good, but what if it also has 8% false positives (indicating somebody is drunk when they're not)? And furthermore, the rate of drunk driving (and thus our prior belief)  is 1/1000.\n",
        "\n",
        "What is the likelihood somebody really is drunk if they test positive? Some may guess it's 92% - the difference between the true positives and the false positives. But we have a prior belief of the background/true rate of drunk driving. Sounds like a job for Bayes' theorem!\n",
        "\n",
        "$$\n",
        "\\begin{aligned}\n",
        "P(Drunk | Positive) &= \\frac{P(Positive | Drunk)P(Drunk)}{P(Positive)} \\\\\n",
        "&= \\frac{1 \\times 0.001}{0.08} \\\\\n",
        "&= 0.0125\n",
        "\\end{aligned}\n",
        "$$\n",
        "\n",
        "In other words, the likelihood that somebody is drunk given they tested positive with a breathalyzer in this situation is only 1.25% - probably much lower than you'd guess. This is why, in practice, it's important to have a repeated test to confirm (the probability of two false positives in a row is $0.08 * 0.08 = 0.0064$, much lower), and Bayes' theorem has been relevant in court cases where proper consideration of evidence was important."
      ]
    },
    {
      "metadata": {
        "id": "GvHQQ4h7Psmy",
        "colab_type": "text"
      },
      "cell_type": "markdown",
      "source": [
        "##Derive Baye's Rule\n",
        "\n",
        "\\begin{align} \n",
        "\n",
        "\n",
        "$$P(A|B) = \\frac{P(B|A)P(A)}{P(B)}$$\n",
        "\n",
        "\\end{align}"
      ]
    },
    {
      "metadata": {
        "id": "02VQONAVPr_z",
        "colab_type": "code",
        "colab": {}
      },
      "cell_type": "code",
      "source": [
        ""
      ],
      "execution_count": 0,
      "outputs": []
    },
    {
      "metadata": {
        "id": "htI3DGvDsRJF",
        "colab_type": "text"
      },
      "cell_type": "markdown",
      "source": [
        "## Live Lecture - Deriving Bayes' Theorem, Calculating Bayesian Confidence"
      ]
    },
    {
      "metadata": {
        "id": "moIJNQ-nbfe_",
        "colab_type": "text"
      },
      "cell_type": "markdown",
      "source": [
        "Notice that $P(A|B)$ appears in the above laws - in Bayesian terms, this is the belief in $A$ updated for the evidence $B$. So all we need to do is solve for this term to derive Bayes' theorem. Let's do it together!"
      ]
    },
    {
      "metadata": {
        "id": "ke-5EqJI0Tsn",
        "colab_type": "code",
        "colab": {
          "base_uri": "https://localhost:8080/",
          "height": 69
        },
        "outputId": "6dfa9d37-0407-4264-b774-94f53c8689f3"
      },
      "cell_type": "code",
      "source": [
        "# # Activity 2 - Use SciPy to calculate Bayesian confidence intervals\n",
        "# https://docs.scipy.org/doc/scipy/reference/generated/scipy.stats.bayes_mvs.html#scipy.stats.bayes_mvs\n",
        "\n",
        "from scipy import stats\n",
        "import numpy as np\n",
        "\n",
        "# set a random seed\n",
        "np.random.seed(seed=42)\n",
        "\n",
        "# 1 coinflip, 50% prob, 100 flips\n",
        "coinflips = np.random.binomial(n=1, p=0.5, size=100 )\n",
        "\n",
        "print(coinflips)"
      ],
      "execution_count": 9,
      "outputs": [
        {
          "output_type": "stream",
          "text": [
            "[0 1 1 1 0 0 0 1 1 1 0 1 1 0 0 0 0 1 0 0 1 0 0 0 0 1 0 1 1 0 1 0 0 1 1 1 0\n",
            " 0 1 0 0 0 0 1 0 1 0 1 1 0 1 1 1 1 1 1 0 0 0 0 0 0 1 0 0 1 0 1 0 1 1 0 0 1\n",
            " 1 1 1 0 0 0 1 1 0 0 0 0 1 1 1 0 0 1 1 1 1 0 1 0 0 0]\n"
          ],
          "name": "stdout"
        }
      ]
    },
    {
      "metadata": {
        "id": "abiFyyfjS3gS",
        "colab_type": "code",
        "colab": {}
      },
      "cell_type": "code",
      "source": [
        "def confidence_interval(data, confidence=0.95):\n",
        "  n = len(data)\n",
        "  mean = sum(data)/n\n",
        "  data = np.array(data)\n",
        "  stderr = stats.sem(data)\n",
        "  interval = stats.t.ppf((1+confidence) / 2.0, n-1) * stderr\n",
        "  return(mean, mean-interval, mean+interval)"
      ],
      "execution_count": 0,
      "outputs": []
    },
    {
      "metadata": {
        "id": "xqvHpcuEUiv8",
        "colab_type": "code",
        "colab": {
          "base_uri": "https://localhost:8080/",
          "height": 35
        },
        "outputId": "cf8dfca4-b816-420f-b61c-13645397863a"
      },
      "cell_type": "code",
      "source": [
        "confidence_interval(coinflips)"
      ],
      "execution_count": 11,
      "outputs": [
        {
          "output_type": "execute_result",
          "data": {
            "text/plain": [
              "(0.47, 0.3704689875017368, 0.5695310124982632)"
            ]
          },
          "metadata": {
            "tags": []
          },
          "execution_count": 11
        }
      ]
    },
    {
      "metadata": {
        "id": "WPbXnnooVJPe",
        "colab_type": "code",
        "colab": {
          "base_uri": "https://localhost:8080/",
          "height": 69
        },
        "outputId": "1867466d-7664-4cb0-8f49-a47a146713d9"
      },
      "cell_type": "code",
      "source": [
        "stats.bayes_mvs(coinflips, 0.95)"
      ],
      "execution_count": 12,
      "outputs": [
        {
          "output_type": "execute_result",
          "data": {
            "text/plain": [
              "(Mean(statistic=0.47, minmax=(0.37046898750173674, 0.5695310124982632)),\n",
              " Variance(statistic=0.25680412371134015, minmax=(0.1939698977025208, 0.3395533426586547)),\n",
              " Std_dev(statistic=0.5054540733507159, minmax=(0.44042013771229943, 0.5827120581030176)))"
            ]
          },
          "metadata": {
            "tags": []
          },
          "execution_count": 12
        }
      ]
    },
    {
      "metadata": {
        "id": "i4JCi2_oYIiX",
        "colab_type": "code",
        "colab": {
          "base_uri": "https://localhost:8080/",
          "height": 35
        },
        "outputId": "0e203820-c625-4418-f359-3d4372d62040"
      },
      "cell_type": "code",
      "source": [
        "coinflips_mean_dist, _,_ = stats.mvsdist(coinflips)\n",
        "coinflips_mean_dist"
      ],
      "execution_count": 136,
      "outputs": [
        {
          "output_type": "execute_result",
          "data": {
            "text/plain": [
              "<scipy.stats._distn_infrastructure.rv_frozen at 0x7feb8d2132e8>"
            ]
          },
          "metadata": {
            "tags": []
          },
          "execution_count": 136
        }
      ]
    },
    {
      "metadata": {
        "id": "M-GcjRkoJZNB",
        "colab_type": "code",
        "colab": {
          "base_uri": "https://localhost:8080/",
          "height": 1075
        },
        "outputId": "67979709-3b72-4f5f-f34d-1d1ef6af6e11"
      },
      "cell_type": "code",
      "source": [
        "help(coinflips_mean_dist)"
      ],
      "execution_count": 137,
      "outputs": [
        {
          "output_type": "stream",
          "text": [
            "Help on rv_frozen in module scipy.stats._distn_infrastructure object:\n",
            "\n",
            "class rv_frozen(builtins.object)\n",
            " |  # Frozen RV class\n",
            " |  \n",
            " |  Methods defined here:\n",
            " |  \n",
            " |  __init__(self, dist, *args, **kwds)\n",
            " |      Initialize self.  See help(type(self)) for accurate signature.\n",
            " |  \n",
            " |  cdf(self, x)\n",
            " |  \n",
            " |  entropy(self)\n",
            " |  \n",
            " |  expect(self, func=None, lb=None, ub=None, conditional=False, **kwds)\n",
            " |  \n",
            " |  interval(self, alpha)\n",
            " |  \n",
            " |  isf(self, q)\n",
            " |  \n",
            " |  logcdf(self, x)\n",
            " |  \n",
            " |  logpdf(self, x)\n",
            " |  \n",
            " |  logpmf(self, k)\n",
            " |  \n",
            " |  logsf(self, x)\n",
            " |  \n",
            " |  mean(self)\n",
            " |  \n",
            " |  median(self)\n",
            " |  \n",
            " |  moment(self, n)\n",
            " |  \n",
            " |  pdf(self, x)\n",
            " |  \n",
            " |  pmf(self, k)\n",
            " |  \n",
            " |  ppf(self, q)\n",
            " |  \n",
            " |  rvs(self, size=None, random_state=None)\n",
            " |  \n",
            " |  sf(self, x)\n",
            " |  \n",
            " |  stats(self, moments='mv')\n",
            " |  \n",
            " |  std(self)\n",
            " |  \n",
            " |  var(self)\n",
            " |  \n",
            " |  ----------------------------------------------------------------------\n",
            " |  Data descriptors defined here:\n",
            " |  \n",
            " |  __dict__\n",
            " |      dictionary for instance variables (if defined)\n",
            " |  \n",
            " |  __weakref__\n",
            " |      list of weak references to the object (if defined)\n",
            " |  \n",
            " |  random_state\n",
            "\n"
          ],
          "name": "stdout"
        }
      ]
    },
    {
      "metadata": {
        "id": "iCB_SmsJJi98",
        "colab_type": "code",
        "colab": {
          "base_uri": "https://localhost:8080/",
          "height": 35
        },
        "outputId": "64473db3-f6e6-45c1-c326-3ada6a6a2167"
      },
      "cell_type": "code",
      "source": [
        "coinflips_mean_dist.interval(0.95)"
      ],
      "execution_count": 142,
      "outputs": [
        {
          "output_type": "execute_result",
          "data": {
            "text/plain": [
              "(0.37046898750173674, 0.5695310124982632)"
            ]
          },
          "metadata": {
            "tags": []
          },
          "execution_count": 142
        }
      ]
    },
    {
      "metadata": {
        "id": "P-DzzRk5bf0z",
        "colab_type": "text"
      },
      "cell_type": "markdown",
      "source": [
        "## Assignment - Code it up!\n",
        "\n",
        "Most of the above was pure math - now write Python code to reproduce the results! This is purposefully open ended - you'll have to think about how you should represent probabilities and events. You can and should look things up, and as a stretch goal - refactor your code into helpful reusable functions!\n",
        "\n",
        "Specific goals/targets:\n",
        "\n",
        "1. Write a function `def prob_drunk_given_positive(prob_drunk_prior, prob_positive, prob_positive_drunk)` that reproduces the example from lecture, and use it to calculate and visualize a range of situations\n",
        "2. Explore `scipy.stats.bayes_mvs` - read its documentation, and experiment with it on data you've tested in other ways earlier this week\n",
        "3. Create a visualization comparing the results of a Bayesian approach to a traditional/frequentist approach\n",
        "4. In your own words, summarize the difference between Bayesian and Frequentist statistics\n",
        "\n",
        "If you're unsure where to start, check out [this blog post of Bayes theorem with Python](https://dataconomy.com/2015/02/introduction-to-bayes-theorem-with-python/) - you could and should create something similar!\n",
        "\n",
        "Stretch goals:\n",
        "\n",
        "- Apply a Bayesian technique to a problem you previously worked (in an assignment or project work) on from a frequentist (standard) perspective\n",
        "- Check out [PyMC3](https://docs.pymc.io/) (note this goes beyond hypothesis tests into modeling) - read the guides and work through some examples\n",
        "- Take PyMC3 further - see if you can build something with it!"
      ]
    },
    {
      "metadata": {
        "id": "xpVhZyUnbf7o",
        "colab_type": "code",
        "colab": {}
      },
      "cell_type": "code",
      "source": [
        "# TODO - code!\n",
        "\n",
        "import matplotlib.pyplot as plt\n",
        "from matplotlib_venn import venn3\n",
        "\n",
        "\n",
        "def prob_drunk_given_positive(prob_drunk_prior = .001, prob_positive = 0.08, prob_positive_drunk = 1):\n",
        "  \n",
        "  '''\n",
        "  Calculate Bayesian probability and display a population Venn diagram\n",
        "  the first prob_drunk_prior is likelihood of drunk drivers in the population so 1/1000 \n",
        "  is the default\n",
        "  '''\n",
        "  \n",
        "  bayes_prob = (prob_positive_drunk * prob_drunk_prior) / prob_positive\n",
        "  \n",
        "  #Printed \n",
        "  answer1 = \"The Bayesian probability that a person is drunk given that they tested positive on a breathalizer test is: \"\n",
        "  answer2 =  \"\\n And the probability of that same person taking a second brealizer test and having two false positives in a row is: \"\n",
        "  \n",
        "  print(answer1 + str(bayes_prob) + answer2 + str(prob_positive**2))\n",
        "  \n",
        "  #venn diagram of the populations\n",
        "#   v = venn3(subsets = (prob_drunk_prior, prob_positive, prob_positive_drunk, 0,0, 0,0), set_labels = ('Group A', 'Group B', 'Group C'))\n",
        "#   v.get_label_by_id('A').set_text('Probability of any one driver being drunk')\n",
        "# #   v.get_label_by_id('B').set_text('Bayesian probability a driver is drunk given a positive test')\n",
        "#   v.get_label_by_id('C').set_text('false positive rate')\n",
        "#   plt.show()\n",
        "       \n",
        "  "
      ],
      "execution_count": 0,
      "outputs": []
    },
    {
      "metadata": {
        "id": "oiY6ZnHnyY18",
        "colab_type": "code",
        "colab": {
          "base_uri": "https://localhost:8080/",
          "height": 52
        },
        "outputId": "e8a9d16f-d13d-469f-c913-8c9dd307d2db"
      },
      "cell_type": "code",
      "source": [
        "prob_drunk_given_positive()"
      ],
      "execution_count": 169,
      "outputs": [
        {
          "output_type": "stream",
          "text": [
            "The Bayesian probability that a person is drunk given that they tested positive on a breathalizer test is: 0.0125\n",
            " And the probability of that same person taking a second brealizer test and having two false positives in a row is: 0.0064\n"
          ],
          "name": "stdout"
        }
      ]
    },
    {
      "metadata": {
        "id": "nKW8URV13ZTz",
        "colab_type": "text"
      },
      "cell_type": "markdown",
      "source": [
        "The above function illustrates the example of the breathalizer from class that has a 100% chance to detect positives but a 8% chance to false positive. If we change those values a little and add a chance for a false negative I wonder what happens?"
      ]
    },
    {
      "metadata": {
        "id": "w56_qXxj4O4I",
        "colab_type": "code",
        "colab": {
          "base_uri": "https://localhost:8080/",
          "height": 52
        },
        "outputId": "5247846d-2bcf-4e1f-9104-2a5919cea8f6"
      },
      "cell_type": "code",
      "source": [
        "# this function has the same parameters except now the test detects a positive only 92% of the time\n",
        "prob_drunk_given_positive(.001, .08, .92)\n"
      ],
      "execution_count": 121,
      "outputs": [
        {
          "output_type": "stream",
          "text": [
            "The Bayesian probability that a person is drunk given that they tested positive on a breathalizer test is: 0.0115\n",
            " And the probability of that same person taking a second brealizer test and having two false positives in a row is: 0.0064\n"
          ],
          "name": "stdout"
        }
      ]
    },
    {
      "metadata": {
        "id": "rfZ57nPv1VT_",
        "colab_type": "text"
      },
      "cell_type": "markdown",
      "source": [
        "This is interesting, reducing the test accuracy by 8% reduced the probability of a true positive by only 1%.  This might be due to the 8% false positive rate on the denominator side being mirrored by the numerator.\n",
        "\n",
        "Below I'll improt our congressional data and see if a bayesian analysis differs from our previous frequentest approach:"
      ]
    },
    {
      "metadata": {
        "id": "5yEN6AG9EDaU",
        "colab_type": "code",
        "colab": {}
      },
      "cell_type": "code",
      "source": [
        "# Load in all data\n",
        "\n",
        "df_url = 'https://archive.ics.uci.edu/ml/machine-learning-databases/voting-records/house-votes-84.data'\n",
        "\n",
        "names = ['Class Name', \n",
        "'handicapped-infants: 2 (y,n)', \n",
        "'water-project-cost-sharing: 2 (y,n)',\n",
        "'adoption-of-the-budget-resolution: 2 (y,n)', \n",
        "'physician-fee-freeze: 2 (y,n)', \n",
        "'el-salvador-aid: 2 (y,n)',\n",
        "'religious-groups-in-schools: 2 (y,n)', \n",
        "'anti-satellite-test-ban: 2 (y,n)', \n",
        "'aid-to-nicaraguan-contras: 2 (y,n)', \n",
        "'mx-missile: 2 (y,n)', \n",
        "'immigration: 2 (y,n)', \n",
        "'synfuels-corporation-cutback: 2 (y,n)', \n",
        "'education-spending: 2 (y,n)', \n",
        "'superfund-right-to-sue: 2 (y,n)', \n",
        "'crime: 2 (y,n)',\n",
        "'duty-free-exports: 2 (y,n)', \n",
        "'export-administration-act-south-africa: 2 (y,n)']\n",
        "# TODO - your code here!\n",
        "import pandas as pd\n",
        "import numpy as np\n",
        "from scipy.stats  import ttest_ind\n",
        "\n",
        "dfv = pd.read_csv(df_url, header=None, names=names)\n",
        "\n",
        "dfv.columns = dfv.columns.str.strip().str.lower().str.replace(' ', '_').str.replace('(', '').str.replace(')', '').str.replace(':_2_y,n', '')\n",
        "\n",
        "boolean_filter = {'y' : 1, 'n' : 0, '?': np.nan}\n",
        "\n",
        "dfv = dfv.replace(boolean_filter)\n",
        "\n",
        "# dfv.head()"
      ],
      "execution_count": 0,
      "outputs": []
    },
    {
      "metadata": {
        "id": "3LRdcmvvFH1J",
        "colab_type": "code",
        "colab": {}
      },
      "cell_type": "code",
      "source": [
        "# I'll adapt my asses mean and CI function to also add Bayesian values\n",
        "\n",
        "def assess_mean_and_CI_both(df, party, confidence=0.95):\n",
        "  results=[]\n",
        "  for col in df.select_dtypes(include=np.number):\n",
        "    data = (df.loc[df['class_name']== party, col]).dropna()\n",
        "    mean = (data).mean()\n",
        "    n = len(data)\n",
        "    stderr = stats.sem(data)\n",
        "    \n",
        "#     this is the freq interval calulation, the standard mean error * the percent point function\n",
        "    interval = stderr * stats.t.ppf((1 + confidence) / 2., n-1)\n",
        "    \n",
        "#     bayesian values using mvsdist using the bayesian confidence intervals of bayes_mvs\n",
        "    bayesian_mean_dist, _, _ =  stats.mvsdist(data)    \n",
        "    b_mean =  bayesian_mean_dist.mean()\n",
        "    b_lower, b_upper = bayesian_mean_dist.interval(confidence)[0], bayesian_mean_dist.interval(confidence)[1]\n",
        "    \n",
        "    results.append({'Issue': col,\n",
        "                   'mean': mean,\n",
        "                    'b_mean' : b_mean,\n",
        "                    'lower CI' : mean - interval,\n",
        "                    'bayesian lower CI' : b_lower,\n",
        "                    'upper CI' : mean + interval,\n",
        "                    'bayesian upper CI' : b_upper\n",
        "                   })\n",
        "  \n",
        "  return pd.DataFrame(results)#.sort_values('mean')"
      ],
      "execution_count": 0,
      "outputs": []
    },
    {
      "metadata": {
        "id": "BybxjBu_Ge1J",
        "colab_type": "code",
        "colab": {
          "base_uri": "https://localhost:8080/",
          "height": 539
        },
        "outputId": "e5fffae7-52a1-4181-e1d4-74470eba1068"
      },
      "cell_type": "code",
      "source": [
        "democrats = assess_mean_and_CI_both(dfv, 'democrat')\n",
        "democrats"
      ],
      "execution_count": 161,
      "outputs": [
        {
          "output_type": "execute_result",
          "data": {
            "text/html": [
              "<div>\n",
              "<style scoped>\n",
              "    .dataframe tbody tr th:only-of-type {\n",
              "        vertical-align: middle;\n",
              "    }\n",
              "\n",
              "    .dataframe tbody tr th {\n",
              "        vertical-align: top;\n",
              "    }\n",
              "\n",
              "    .dataframe thead th {\n",
              "        text-align: right;\n",
              "    }\n",
              "</style>\n",
              "<table border=\"1\" class=\"dataframe\">\n",
              "  <thead>\n",
              "    <tr style=\"text-align: right;\">\n",
              "      <th></th>\n",
              "      <th>Issue</th>\n",
              "      <th>b_mean</th>\n",
              "      <th>bayesian lower CI</th>\n",
              "      <th>bayesian upper CI</th>\n",
              "      <th>lower CI</th>\n",
              "      <th>mean</th>\n",
              "      <th>upper CI</th>\n",
              "    </tr>\n",
              "  </thead>\n",
              "  <tbody>\n",
              "    <tr>\n",
              "      <th>0</th>\n",
              "      <td>handicapped-infants</td>\n",
              "      <td>0.604651</td>\n",
              "      <td>0.544593</td>\n",
              "      <td>0.664710</td>\n",
              "      <td>0.544593</td>\n",
              "      <td>0.604651</td>\n",
              "      <td>0.664710</td>\n",
              "    </tr>\n",
              "    <tr>\n",
              "      <th>1</th>\n",
              "      <td>water-project-cost-sharing</td>\n",
              "      <td>0.502092</td>\n",
              "      <td>0.438245</td>\n",
              "      <td>0.565939</td>\n",
              "      <td>0.438245</td>\n",
              "      <td>0.502092</td>\n",
              "      <td>0.565939</td>\n",
              "    </tr>\n",
              "    <tr>\n",
              "      <th>2</th>\n",
              "      <td>adoption-of-the-budget-resolution</td>\n",
              "      <td>0.888462</td>\n",
              "      <td>0.849944</td>\n",
              "      <td>0.926980</td>\n",
              "      <td>0.849944</td>\n",
              "      <td>0.888462</td>\n",
              "      <td>0.926980</td>\n",
              "    </tr>\n",
              "    <tr>\n",
              "      <th>3</th>\n",
              "      <td>physician-fee-freeze</td>\n",
              "      <td>0.054054</td>\n",
              "      <td>0.026332</td>\n",
              "      <td>0.081776</td>\n",
              "      <td>0.026332</td>\n",
              "      <td>0.054054</td>\n",
              "      <td>0.081776</td>\n",
              "    </tr>\n",
              "    <tr>\n",
              "      <th>4</th>\n",
              "      <td>el-salvador-aid</td>\n",
              "      <td>0.215686</td>\n",
              "      <td>0.164863</td>\n",
              "      <td>0.266509</td>\n",
              "      <td>0.164863</td>\n",
              "      <td>0.215686</td>\n",
              "      <td>0.266509</td>\n",
              "    </tr>\n",
              "    <tr>\n",
              "      <th>5</th>\n",
              "      <td>religious-groups-in-schools</td>\n",
              "      <td>0.476744</td>\n",
              "      <td>0.415392</td>\n",
              "      <td>0.538097</td>\n",
              "      <td>0.415392</td>\n",
              "      <td>0.476744</td>\n",
              "      <td>0.538097</td>\n",
              "    </tr>\n",
              "    <tr>\n",
              "      <th>6</th>\n",
              "      <td>anti-satellite-test-ban</td>\n",
              "      <td>0.772201</td>\n",
              "      <td>0.720782</td>\n",
              "      <td>0.823620</td>\n",
              "      <td>0.720782</td>\n",
              "      <td>0.772201</td>\n",
              "      <td>0.823620</td>\n",
              "    </tr>\n",
              "    <tr>\n",
              "      <th>7</th>\n",
              "      <td>aid-to-nicaraguan-contras</td>\n",
              "      <td>0.828897</td>\n",
              "      <td>0.783085</td>\n",
              "      <td>0.874710</td>\n",
              "      <td>0.783085</td>\n",
              "      <td>0.828897</td>\n",
              "      <td>0.874710</td>\n",
              "    </tr>\n",
              "    <tr>\n",
              "      <th>8</th>\n",
              "      <td>mx-missile</td>\n",
              "      <td>0.758065</td>\n",
              "      <td>0.704394</td>\n",
              "      <td>0.811735</td>\n",
              "      <td>0.704394</td>\n",
              "      <td>0.758065</td>\n",
              "      <td>0.811735</td>\n",
              "    </tr>\n",
              "    <tr>\n",
              "      <th>9</th>\n",
              "      <td>immigration</td>\n",
              "      <td>0.471483</td>\n",
              "      <td>0.410757</td>\n",
              "      <td>0.532208</td>\n",
              "      <td>0.410757</td>\n",
              "      <td>0.471483</td>\n",
              "      <td>0.532208</td>\n",
              "    </tr>\n",
              "    <tr>\n",
              "      <th>10</th>\n",
              "      <td>synfuels-corporation-cutback</td>\n",
              "      <td>0.505882</td>\n",
              "      <td>0.444103</td>\n",
              "      <td>0.567662</td>\n",
              "      <td>0.444103</td>\n",
              "      <td>0.505882</td>\n",
              "      <td>0.567662</td>\n",
              "    </tr>\n",
              "    <tr>\n",
              "      <th>11</th>\n",
              "      <td>education-spending</td>\n",
              "      <td>0.144578</td>\n",
              "      <td>0.100595</td>\n",
              "      <td>0.188562</td>\n",
              "      <td>0.100595</td>\n",
              "      <td>0.144578</td>\n",
              "      <td>0.188562</td>\n",
              "    </tr>\n",
              "    <tr>\n",
              "      <th>12</th>\n",
              "      <td>superfund-right-to-sue</td>\n",
              "      <td>0.289683</td>\n",
              "      <td>0.233293</td>\n",
              "      <td>0.346072</td>\n",
              "      <td>0.233293</td>\n",
              "      <td>0.289683</td>\n",
              "      <td>0.346072</td>\n",
              "    </tr>\n",
              "    <tr>\n",
              "      <th>13</th>\n",
              "      <td>crime</td>\n",
              "      <td>0.350195</td>\n",
              "      <td>0.291482</td>\n",
              "      <td>0.408907</td>\n",
              "      <td>0.291482</td>\n",
              "      <td>0.350195</td>\n",
              "      <td>0.408907</td>\n",
              "    </tr>\n",
              "    <tr>\n",
              "      <th>14</th>\n",
              "      <td>duty-free-exports</td>\n",
              "      <td>0.637450</td>\n",
              "      <td>0.577569</td>\n",
              "      <td>0.697332</td>\n",
              "      <td>0.577569</td>\n",
              "      <td>0.637450</td>\n",
              "      <td>0.697332</td>\n",
              "    </tr>\n",
              "    <tr>\n",
              "      <th>15</th>\n",
              "      <td>export-administration-act-south-africa</td>\n",
              "      <td>0.935135</td>\n",
              "      <td>0.899313</td>\n",
              "      <td>0.970957</td>\n",
              "      <td>0.899313</td>\n",
              "      <td>0.935135</td>\n",
              "      <td>0.970957</td>\n",
              "    </tr>\n",
              "  </tbody>\n",
              "</table>\n",
              "</div>"
            ],
            "text/plain": [
              "                                     Issue    b_mean  bayesian lower CI  \\\n",
              "0                      handicapped-infants  0.604651           0.544593   \n",
              "1               water-project-cost-sharing  0.502092           0.438245   \n",
              "2        adoption-of-the-budget-resolution  0.888462           0.849944   \n",
              "3                     physician-fee-freeze  0.054054           0.026332   \n",
              "4                          el-salvador-aid  0.215686           0.164863   \n",
              "5              religious-groups-in-schools  0.476744           0.415392   \n",
              "6                  anti-satellite-test-ban  0.772201           0.720782   \n",
              "7                aid-to-nicaraguan-contras  0.828897           0.783085   \n",
              "8                               mx-missile  0.758065           0.704394   \n",
              "9                              immigration  0.471483           0.410757   \n",
              "10            synfuels-corporation-cutback  0.505882           0.444103   \n",
              "11                      education-spending  0.144578           0.100595   \n",
              "12                  superfund-right-to-sue  0.289683           0.233293   \n",
              "13                                   crime  0.350195           0.291482   \n",
              "14                       duty-free-exports  0.637450           0.577569   \n",
              "15  export-administration-act-south-africa  0.935135           0.899313   \n",
              "\n",
              "    bayesian upper CI  lower CI      mean  upper CI  \n",
              "0            0.664710  0.544593  0.604651  0.664710  \n",
              "1            0.565939  0.438245  0.502092  0.565939  \n",
              "2            0.926980  0.849944  0.888462  0.926980  \n",
              "3            0.081776  0.026332  0.054054  0.081776  \n",
              "4            0.266509  0.164863  0.215686  0.266509  \n",
              "5            0.538097  0.415392  0.476744  0.538097  \n",
              "6            0.823620  0.720782  0.772201  0.823620  \n",
              "7            0.874710  0.783085  0.828897  0.874710  \n",
              "8            0.811735  0.704394  0.758065  0.811735  \n",
              "9            0.532208  0.410757  0.471483  0.532208  \n",
              "10           0.567662  0.444103  0.505882  0.567662  \n",
              "11           0.188562  0.100595  0.144578  0.188562  \n",
              "12           0.346072  0.233293  0.289683  0.346072  \n",
              "13           0.408907  0.291482  0.350195  0.408907  \n",
              "14           0.697332  0.577569  0.637450  0.697332  \n",
              "15           0.970957  0.899313  0.935135  0.970957  "
            ]
          },
          "metadata": {
            "tags": []
          },
          "execution_count": 161
        }
      ]
    },
    {
      "metadata": {
        "id": "QvptGyRFGoic",
        "colab_type": "text"
      },
      "cell_type": "markdown",
      "source": [
        "They look absolutely identical so I will seperate the frequentist and bayesian functions and compare the two results."
      ]
    },
    {
      "metadata": {
        "id": "GSySDCakGoOq",
        "colab_type": "code",
        "colab": {}
      },
      "cell_type": "code",
      "source": [
        "def bayesian_mean_and_CI(df, party, confidence=0.95):\n",
        "  results=[]\n",
        "  for col in df.select_dtypes(include=np.number):\n",
        "    data = (df.loc[df['class_name']== party, col]).dropna()\n",
        "    mean = (data).mean()\n",
        "    n = len(data)\n",
        "    stderr = stats.sem(data)\n",
        "    interval = stats.t.ppf((1+confidence) / 2.0, n-1) * stderr\n",
        "    \n",
        "    results.append({'Issue': col,\n",
        "                   'mean': mean,\n",
        "                    'lower CI' : mean - interval,\n",
        "                    'upper CI' : mean + interval,                    \n",
        "                   }) \n",
        "  return pd.DataFrame(results).sort_values('mean')\n",
        "\n",
        "def assess_mean_and_CI(df, party, confidence=0.95):\n",
        "  results=[]\n",
        "  for col in df.select_dtypes(include=np.number):\n",
        "    data = (df.loc[df['class_name']== party, col]).dropna()\n",
        "    \n",
        "#     bayesian values using mvsdist using the bayesian confidence intervals of bayes_mvs\n",
        "    bayesian_mean_dist, _, _ =  stats.mvsdist(data)    \n",
        "    b_mean =  bayesian_mean_dist.mean()\n",
        "    b_lower, b_upper = bayesian_mean_dist.interval(confidence)[0], bayesian_mean_dist.interval(confidence)[1]\n",
        "    \n",
        "    results.append({'Issue': col,\n",
        "                   'mean': b_mean,\n",
        "                    'lower CI' : b_lower,\n",
        "                    'upper CI' : b_upper\n",
        "                   })\n",
        "  return pd.DataFrame(results).sort_values('mean')"
      ],
      "execution_count": 0,
      "outputs": []
    },
    {
      "metadata": {
        "id": "Q2U3lri8HvHA",
        "colab_type": "code",
        "colab": {
          "base_uri": "https://localhost:8080/",
          "height": 539
        },
        "outputId": "0be6c851-11dd-45f7-9680-f58fa1fc69d8"
      },
      "cell_type": "code",
      "source": [
        "(bayesian_mean_and_CI(dfv, 'republican') == assess_mean_and_CI(dfv, 'republican')) "
      ],
      "execution_count": 164,
      "outputs": [
        {
          "output_type": "execute_result",
          "data": {
            "text/html": [
              "<div>\n",
              "<style scoped>\n",
              "    .dataframe tbody tr th:only-of-type {\n",
              "        vertical-align: middle;\n",
              "    }\n",
              "\n",
              "    .dataframe tbody tr th {\n",
              "        vertical-align: top;\n",
              "    }\n",
              "\n",
              "    .dataframe thead th {\n",
              "        text-align: right;\n",
              "    }\n",
              "</style>\n",
              "<table border=\"1\" class=\"dataframe\">\n",
              "  <thead>\n",
              "    <tr style=\"text-align: right;\">\n",
              "      <th></th>\n",
              "      <th>Issue</th>\n",
              "      <th>lower CI</th>\n",
              "      <th>mean</th>\n",
              "      <th>upper CI</th>\n",
              "    </tr>\n",
              "  </thead>\n",
              "  <tbody>\n",
              "    <tr>\n",
              "      <th>14</th>\n",
              "      <td>True</td>\n",
              "      <td>True</td>\n",
              "      <td>True</td>\n",
              "      <td>True</td>\n",
              "    </tr>\n",
              "    <tr>\n",
              "      <th>8</th>\n",
              "      <td>True</td>\n",
              "      <td>True</td>\n",
              "      <td>True</td>\n",
              "      <td>True</td>\n",
              "    </tr>\n",
              "    <tr>\n",
              "      <th>10</th>\n",
              "      <td>True</td>\n",
              "      <td>False</td>\n",
              "      <td>True</td>\n",
              "      <td>True</td>\n",
              "    </tr>\n",
              "    <tr>\n",
              "      <th>2</th>\n",
              "      <td>True</td>\n",
              "      <td>True</td>\n",
              "      <td>True</td>\n",
              "      <td>True</td>\n",
              "    </tr>\n",
              "    <tr>\n",
              "      <th>7</th>\n",
              "      <td>True</td>\n",
              "      <td>False</td>\n",
              "      <td>True</td>\n",
              "      <td>False</td>\n",
              "    </tr>\n",
              "    <tr>\n",
              "      <th>0</th>\n",
              "      <td>True</td>\n",
              "      <td>True</td>\n",
              "      <td>True</td>\n",
              "      <td>True</td>\n",
              "    </tr>\n",
              "    <tr>\n",
              "      <th>6</th>\n",
              "      <td>True</td>\n",
              "      <td>True</td>\n",
              "      <td>True</td>\n",
              "      <td>True</td>\n",
              "    </tr>\n",
              "    <tr>\n",
              "      <th>1</th>\n",
              "      <td>True</td>\n",
              "      <td>True</td>\n",
              "      <td>True</td>\n",
              "      <td>True</td>\n",
              "    </tr>\n",
              "    <tr>\n",
              "      <th>9</th>\n",
              "      <td>True</td>\n",
              "      <td>True</td>\n",
              "      <td>True</td>\n",
              "      <td>True</td>\n",
              "    </tr>\n",
              "    <tr>\n",
              "      <th>15</th>\n",
              "      <td>True</td>\n",
              "      <td>True</td>\n",
              "      <td>True</td>\n",
              "      <td>True</td>\n",
              "    </tr>\n",
              "    <tr>\n",
              "      <th>12</th>\n",
              "      <td>True</td>\n",
              "      <td>True</td>\n",
              "      <td>True</td>\n",
              "      <td>True</td>\n",
              "    </tr>\n",
              "    <tr>\n",
              "      <th>11</th>\n",
              "      <td>True</td>\n",
              "      <td>True</td>\n",
              "      <td>True</td>\n",
              "      <td>True</td>\n",
              "    </tr>\n",
              "    <tr>\n",
              "      <th>5</th>\n",
              "      <td>True</td>\n",
              "      <td>True</td>\n",
              "      <td>True</td>\n",
              "      <td>True</td>\n",
              "    </tr>\n",
              "    <tr>\n",
              "      <th>4</th>\n",
              "      <td>True</td>\n",
              "      <td>True</td>\n",
              "      <td>True</td>\n",
              "      <td>True</td>\n",
              "    </tr>\n",
              "    <tr>\n",
              "      <th>13</th>\n",
              "      <td>True</td>\n",
              "      <td>True</td>\n",
              "      <td>True</td>\n",
              "      <td>True</td>\n",
              "    </tr>\n",
              "    <tr>\n",
              "      <th>3</th>\n",
              "      <td>True</td>\n",
              "      <td>True</td>\n",
              "      <td>True</td>\n",
              "      <td>True</td>\n",
              "    </tr>\n",
              "  </tbody>\n",
              "</table>\n",
              "</div>"
            ],
            "text/plain": [
              "    Issue  lower CI  mean  upper CI\n",
              "14   True      True  True      True\n",
              "8    True      True  True      True\n",
              "10   True     False  True      True\n",
              "2    True      True  True      True\n",
              "7    True     False  True     False\n",
              "0    True      True  True      True\n",
              "6    True      True  True      True\n",
              "1    True      True  True      True\n",
              "9    True      True  True      True\n",
              "15   True      True  True      True\n",
              "12   True      True  True      True\n",
              "11   True      True  True      True\n",
              "5    True      True  True      True\n",
              "4    True      True  True      True\n",
              "13   True      True  True      True\n",
              "3    True      True  True      True"
            ]
          },
          "metadata": {
            "tags": []
          },
          "execution_count": 164
        }
      ]
    },
    {
      "metadata": {
        "id": "IYoRYR11IHZU",
        "colab_type": "code",
        "colab": {
          "base_uri": "https://localhost:8080/",
          "height": 539
        },
        "outputId": "e787ec1e-d137-43c8-ec5a-eaca31b35889"
      },
      "cell_type": "code",
      "source": [
        "(bayesian_mean_and_CI(dfv, 'democrat') == assess_mean_and_CI(dfv, 'democrat')) "
      ],
      "execution_count": 165,
      "outputs": [
        {
          "output_type": "execute_result",
          "data": {
            "text/html": [
              "<div>\n",
              "<style scoped>\n",
              "    .dataframe tbody tr th:only-of-type {\n",
              "        vertical-align: middle;\n",
              "    }\n",
              "\n",
              "    .dataframe tbody tr th {\n",
              "        vertical-align: top;\n",
              "    }\n",
              "\n",
              "    .dataframe thead th {\n",
              "        text-align: right;\n",
              "    }\n",
              "</style>\n",
              "<table border=\"1\" class=\"dataframe\">\n",
              "  <thead>\n",
              "    <tr style=\"text-align: right;\">\n",
              "      <th></th>\n",
              "      <th>Issue</th>\n",
              "      <th>lower CI</th>\n",
              "      <th>mean</th>\n",
              "      <th>upper CI</th>\n",
              "    </tr>\n",
              "  </thead>\n",
              "  <tbody>\n",
              "    <tr>\n",
              "      <th>3</th>\n",
              "      <td>True</td>\n",
              "      <td>True</td>\n",
              "      <td>True</td>\n",
              "      <td>True</td>\n",
              "    </tr>\n",
              "    <tr>\n",
              "      <th>11</th>\n",
              "      <td>True</td>\n",
              "      <td>True</td>\n",
              "      <td>True</td>\n",
              "      <td>True</td>\n",
              "    </tr>\n",
              "    <tr>\n",
              "      <th>4</th>\n",
              "      <td>True</td>\n",
              "      <td>True</td>\n",
              "      <td>True</td>\n",
              "      <td>True</td>\n",
              "    </tr>\n",
              "    <tr>\n",
              "      <th>12</th>\n",
              "      <td>True</td>\n",
              "      <td>True</td>\n",
              "      <td>True</td>\n",
              "      <td>True</td>\n",
              "    </tr>\n",
              "    <tr>\n",
              "      <th>13</th>\n",
              "      <td>True</td>\n",
              "      <td>True</td>\n",
              "      <td>True</td>\n",
              "      <td>True</td>\n",
              "    </tr>\n",
              "    <tr>\n",
              "      <th>9</th>\n",
              "      <td>True</td>\n",
              "      <td>False</td>\n",
              "      <td>True</td>\n",
              "      <td>True</td>\n",
              "    </tr>\n",
              "    <tr>\n",
              "      <th>5</th>\n",
              "      <td>True</td>\n",
              "      <td>True</td>\n",
              "      <td>True</td>\n",
              "      <td>True</td>\n",
              "    </tr>\n",
              "    <tr>\n",
              "      <th>1</th>\n",
              "      <td>True</td>\n",
              "      <td>True</td>\n",
              "      <td>True</td>\n",
              "      <td>True</td>\n",
              "    </tr>\n",
              "    <tr>\n",
              "      <th>10</th>\n",
              "      <td>True</td>\n",
              "      <td>True</td>\n",
              "      <td>True</td>\n",
              "      <td>True</td>\n",
              "    </tr>\n",
              "    <tr>\n",
              "      <th>0</th>\n",
              "      <td>True</td>\n",
              "      <td>True</td>\n",
              "      <td>True</td>\n",
              "      <td>True</td>\n",
              "    </tr>\n",
              "    <tr>\n",
              "      <th>14</th>\n",
              "      <td>True</td>\n",
              "      <td>True</td>\n",
              "      <td>True</td>\n",
              "      <td>True</td>\n",
              "    </tr>\n",
              "    <tr>\n",
              "      <th>8</th>\n",
              "      <td>True</td>\n",
              "      <td>True</td>\n",
              "      <td>True</td>\n",
              "      <td>True</td>\n",
              "    </tr>\n",
              "    <tr>\n",
              "      <th>6</th>\n",
              "      <td>True</td>\n",
              "      <td>True</td>\n",
              "      <td>True</td>\n",
              "      <td>True</td>\n",
              "    </tr>\n",
              "    <tr>\n",
              "      <th>7</th>\n",
              "      <td>True</td>\n",
              "      <td>True</td>\n",
              "      <td>True</td>\n",
              "      <td>True</td>\n",
              "    </tr>\n",
              "    <tr>\n",
              "      <th>2</th>\n",
              "      <td>True</td>\n",
              "      <td>True</td>\n",
              "      <td>True</td>\n",
              "      <td>True</td>\n",
              "    </tr>\n",
              "    <tr>\n",
              "      <th>15</th>\n",
              "      <td>True</td>\n",
              "      <td>True</td>\n",
              "      <td>True</td>\n",
              "      <td>True</td>\n",
              "    </tr>\n",
              "  </tbody>\n",
              "</table>\n",
              "</div>"
            ],
            "text/plain": [
              "    Issue  lower CI  mean  upper CI\n",
              "3    True      True  True      True\n",
              "11   True      True  True      True\n",
              "4    True      True  True      True\n",
              "12   True      True  True      True\n",
              "13   True      True  True      True\n",
              "9    True     False  True      True\n",
              "5    True      True  True      True\n",
              "1    True      True  True      True\n",
              "10   True      True  True      True\n",
              "0    True      True  True      True\n",
              "14   True      True  True      True\n",
              "8    True      True  True      True\n",
              "6    True      True  True      True\n",
              "7    True      True  True      True\n",
              "2    True      True  True      True\n",
              "15   True      True  True      True"
            ]
          },
          "metadata": {
            "tags": []
          },
          "execution_count": 165
        }
      ]
    },
    {
      "metadata": {
        "id": "l5npkyhZe0RG",
        "colab_type": "code",
        "colab": {}
      },
      "cell_type": "code",
      "source": [
        ""
      ],
      "execution_count": 0,
      "outputs": []
    },
    {
      "metadata": {
        "id": "2QWkNwR1IKtP",
        "colab_type": "text"
      },
      "cell_type": "markdown",
      "source": [
        "Comparing the truth tables accross parties it seems that the only differences between the Bayesian and frequentist mean and CI calculations are a few CI so I don't really see the point in graphing these differences."
      ]
    },
    {
      "metadata": {
        "id": "3D0ngAjccSPv",
        "colab_type": "text"
      },
      "cell_type": "markdown",
      "source": [
        "In fact, based on the some reading I've done (https://jakevdp.github.io/blog/2014/06/12/frequentism-and-bayesianism-3-confidence-credibility/), it seems like the mathematical basis for a bayesian mean and CI are the same as the frequentist measures. \n",
        "\n",
        "The difference has to do with the interpretation of the data.\n",
        "\n",
        "The Bayesian approach would be to say that given our data, we there is a  95% chance that the true mean lies within our  confidence interval.  Therefore the confidence interval reflects our beliefs about the data, while the true mean is random value within that interval.\n",
        "\n",
        "Whereas the frequentist understanding would be that I am 95% confident that when I compute the CI from this data,  the population mean falls in this interval. Meaning that the population mean is a true value while our sample data is random\n",
        "\n",
        "Honestly, this seems a bit philosophical but I would like to understand the practical differences (if any) between these two approaches."
      ]
    },
    {
      "metadata": {
        "id": "uWgWjp3PQ3Sq",
        "colab_type": "text"
      },
      "cell_type": "markdown",
      "source": [
        "## Resources"
      ]
    },
    {
      "metadata": {
        "id": "QRgHqmYIQ9qn",
        "colab_type": "text"
      },
      "cell_type": "markdown",
      "source": [
        "- [Worked example of Bayes rule calculation](https://en.wikipedia.org/wiki/Bayes'_theorem#Examples) (helpful as it fully breaks out the denominator)\n",
        "- [Source code for mvsdist in scipy](https://github.com/scipy/scipy/blob/90534919e139d2a81c24bf08341734ff41a3db12/scipy/stats/morestats.py#L139)"
      ]
    }
  ]
}