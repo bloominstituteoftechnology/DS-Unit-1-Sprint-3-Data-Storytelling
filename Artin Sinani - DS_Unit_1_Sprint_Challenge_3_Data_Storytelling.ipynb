{
  "nbformat": 4,
  "nbformat_minor": 0,
  "metadata": {
    "colab": {
      "name": "Copy of DS_Unit_1_Sprint_Challenge_3_Data_Storytelling.ipynb",
      "version": "0.3.2",
      "provenance": [],
      "collapsed_sections": [],
      "include_colab_link": true
    },
    "kernelspec": {
      "display_name": "Python 3",
      "language": "python",
      "name": "python3"
    }
  },
  "cells": [
    {
      "cell_type": "markdown",
      "metadata": {
        "id": "view-in-github",
        "colab_type": "text"
      },
      "source": [
        "<a href=\"https://colab.research.google.com/github/TheJoys2019/DS-Unit-1-Sprint-3-Data-Storytelling/blob/master/Artin%20Sinani%20-%20DS_Unit_1_Sprint_Challenge_3_Data_Storytelling.ipynb\" target=\"_parent\"><img src=\"https://colab.research.google.com/assets/colab-badge.svg\" alt=\"Open In Colab\"/></a>"
      ]
    },
    {
      "metadata": {
        "colab_type": "text",
        "id": "i-n_5en3ER1o"
      },
      "cell_type": "markdown",
      "source": [
        "# Data Science Unit 1 Sprint Challenge 3\n",
        "\n",
        "# Data Storytelling\n",
        "\n",
        "In this sprint challenge you'll work with a dataset from **FiveThirtyEight's article, [Every Guest Jon Stewart Ever Had On ‘The Daily Show’](https://fivethirtyeight.com/features/every-guest-jon-stewart-ever-had-on-the-daily-show/)**!"
      ]
    },
    {
      "metadata": {
        "colab_type": "text",
        "id": "Thm2n5FF2Fnp"
      },
      "cell_type": "markdown",
      "source": [
        "# Part 0 — Run this starter code\n",
        "\n",
        "You don't need to add or change anything here. Just run this cell and it loads the data for you, into a dataframe named `df`.\n",
        "\n",
        "(You can explore the data if you want, but it's not required to pass the Sprint Challenge.)"
      ]
    },
    {
      "metadata": {
        "colab_type": "code",
        "id": "0rTHgzJIuRS7",
        "colab": {}
      },
      "cell_type": "code",
      "source": [
        "%matplotlib inline\n",
        "import matplotlib.pyplot as plt\n",
        "import numpy as np\n",
        "import pandas as pd\n",
        "\n",
        "url = 'https://raw.githubusercontent.com/fivethirtyeight/data/master/daily-show-guests/daily_show_guests.csv'\n",
        "df = pd.read_csv(url).rename(columns={'YEAR': 'Year', 'Raw_Guest_List': 'Guest'})\n",
        "\n",
        "def get_occupation(group):\n",
        "    if group in ['Acting', 'Comedy', 'Musician']:\n",
        "        return 'Acting, Comedy & Music'\n",
        "    elif group in ['Media', 'media']:\n",
        "        return 'Media'\n",
        "    elif group in ['Government', 'Politician', 'Political Aide']:\n",
        "        return 'Government and Politics'\n",
        "    else:\n",
        "        return 'Other'\n",
        "      \n",
        "df['Occupation'] = df['Group'].apply(get_occupation)"
      ],
      "execution_count": 0,
      "outputs": []
    },
    {
      "metadata": {
        "colab_type": "text",
        "id": "OS0nW1vz1itX"
      },
      "cell_type": "markdown",
      "source": [
        "# Part 1 — What's the breakdown of guests’ occupations per year?\n",
        "\n",
        "For example, in 1999, what percentage of guests were actors, comedians, or musicians? What percentage were in the media? What percentage were in politics? What percentage were from another occupation?\n",
        "\n",
        "Then, what about in 2000? In 2001? And so on, up through 2015.\n",
        "\n",
        "So, **for each year of _The Daily Show_, calculate the percentage of guests from each occupation:**\n",
        "- Acting, Comedy & Music\n",
        "- Government and Politics\n",
        "- Media\n",
        "- Other\n",
        "\n",
        "#### Hints:\n",
        "You can make a crosstab. (See pandas documentation for examples, explanation, and parameters.)\n",
        "\n",
        "You'll know you've calculated correctly when the percentage of \"Acting, Comedy & Music\" guests is 90.36% in 1999, and 45% in 2015.\n",
        "\n",
        "**Optional Bonus Challenge:** Do additional insightful data exploration."
      ]
    },
    {
      "metadata": {
        "colab_type": "code",
        "id": "sRMc0H_5z6ff",
        "colab": {
          "base_uri": "https://localhost:8080/",
          "height": 195
        },
        "outputId": "c1444f1b-4d4d-4221-b34a-ccd7badb5bde"
      },
      "cell_type": "code",
      "source": [
        "df.head()"
      ],
      "execution_count": 2,
      "outputs": [
        {
          "output_type": "execute_result",
          "data": {
            "text/html": [
              "<div>\n",
              "<style scoped>\n",
              "    .dataframe tbody tr th:only-of-type {\n",
              "        vertical-align: middle;\n",
              "    }\n",
              "\n",
              "    .dataframe tbody tr th {\n",
              "        vertical-align: top;\n",
              "    }\n",
              "\n",
              "    .dataframe thead th {\n",
              "        text-align: right;\n",
              "    }\n",
              "</style>\n",
              "<table border=\"1\" class=\"dataframe\">\n",
              "  <thead>\n",
              "    <tr style=\"text-align: right;\">\n",
              "      <th></th>\n",
              "      <th>Year</th>\n",
              "      <th>GoogleKnowlege_Occupation</th>\n",
              "      <th>Show</th>\n",
              "      <th>Group</th>\n",
              "      <th>Guest</th>\n",
              "      <th>Occupation</th>\n",
              "    </tr>\n",
              "  </thead>\n",
              "  <tbody>\n",
              "    <tr>\n",
              "      <th>0</th>\n",
              "      <td>1999</td>\n",
              "      <td>actor</td>\n",
              "      <td>1/11/99</td>\n",
              "      <td>Acting</td>\n",
              "      <td>Michael J. Fox</td>\n",
              "      <td>Acting, Comedy &amp; Music</td>\n",
              "    </tr>\n",
              "    <tr>\n",
              "      <th>1</th>\n",
              "      <td>1999</td>\n",
              "      <td>Comedian</td>\n",
              "      <td>1/12/99</td>\n",
              "      <td>Comedy</td>\n",
              "      <td>Sandra Bernhard</td>\n",
              "      <td>Acting, Comedy &amp; Music</td>\n",
              "    </tr>\n",
              "    <tr>\n",
              "      <th>2</th>\n",
              "      <td>1999</td>\n",
              "      <td>television actress</td>\n",
              "      <td>1/13/99</td>\n",
              "      <td>Acting</td>\n",
              "      <td>Tracey Ullman</td>\n",
              "      <td>Acting, Comedy &amp; Music</td>\n",
              "    </tr>\n",
              "    <tr>\n",
              "      <th>3</th>\n",
              "      <td>1999</td>\n",
              "      <td>film actress</td>\n",
              "      <td>1/14/99</td>\n",
              "      <td>Acting</td>\n",
              "      <td>Gillian Anderson</td>\n",
              "      <td>Acting, Comedy &amp; Music</td>\n",
              "    </tr>\n",
              "    <tr>\n",
              "      <th>4</th>\n",
              "      <td>1999</td>\n",
              "      <td>actor</td>\n",
              "      <td>1/18/99</td>\n",
              "      <td>Acting</td>\n",
              "      <td>David Alan Grier</td>\n",
              "      <td>Acting, Comedy &amp; Music</td>\n",
              "    </tr>\n",
              "  </tbody>\n",
              "</table>\n",
              "</div>"
            ],
            "text/plain": [
              "   Year GoogleKnowlege_Occupation     Show   Group             Guest  \\\n",
              "0  1999                     actor  1/11/99  Acting    Michael J. Fox   \n",
              "1  1999                  Comedian  1/12/99  Comedy   Sandra Bernhard   \n",
              "2  1999        television actress  1/13/99  Acting     Tracey Ullman   \n",
              "3  1999              film actress  1/14/99  Acting  Gillian Anderson   \n",
              "4  1999                     actor  1/18/99  Acting  David Alan Grier   \n",
              "\n",
              "               Occupation  \n",
              "0  Acting, Comedy & Music  \n",
              "1  Acting, Comedy & Music  \n",
              "2  Acting, Comedy & Music  \n",
              "3  Acting, Comedy & Music  \n",
              "4  Acting, Comedy & Music  "
            ]
          },
          "metadata": {
            "tags": []
          },
          "execution_count": 2
        }
      ]
    },
    {
      "metadata": {
        "id": "-CGhH3ONBzNg",
        "colab_type": "code",
        "colab": {
          "base_uri": "https://localhost:8080/",
          "height": 134
        },
        "outputId": "d26cea5c-0b63-4e7d-fa30-766cfc3ac9c8"
      },
      "cell_type": "code",
      "source": [
        "df.isnull().sum()"
      ],
      "execution_count": 3,
      "outputs": [
        {
          "output_type": "execute_result",
          "data": {
            "text/plain": [
              "Year                          0\n",
              "GoogleKnowlege_Occupation    26\n",
              "Show                          0\n",
              "Group                        31\n",
              "Guest                         0\n",
              "Occupation                    0\n",
              "dtype: int64"
            ]
          },
          "metadata": {
            "tags": []
          },
          "execution_count": 3
        }
      ]
    },
    {
      "metadata": {
        "id": "GWlqv_MLEO-3",
        "colab_type": "code",
        "colab": {
          "base_uri": "https://localhost:8080/",
          "height": 101
        },
        "outputId": "60140d04-2903-45ff-dda9-714f7b627e55"
      },
      "cell_type": "code",
      "source": [
        "df['Occupation'].value_counts()"
      ],
      "execution_count": 4,
      "outputs": [
        {
          "output_type": "execute_result",
          "data": {
            "text/plain": [
              "Acting, Comedy & Music     1203\n",
              "Media                       756\n",
              "Government and Politics     384\n",
              "Other                       350\n",
              "Name: Occupation, dtype: int64"
            ]
          },
          "metadata": {
            "tags": []
          },
          "execution_count": 4
        }
      ]
    },
    {
      "metadata": {
        "id": "z2YEW_A2Du-m",
        "colab_type": "code",
        "colab": {
          "base_uri": "https://localhost:8080/",
          "height": 34
        },
        "outputId": "e9e80d1e-2c7b-4092-fbfb-44c49c978a78"
      },
      "cell_type": "code",
      "source": [
        "df['Occupation'].value_counts().sum()"
      ],
      "execution_count": 5,
      "outputs": [
        {
          "output_type": "execute_result",
          "data": {
            "text/plain": [
              "2693"
            ]
          },
          "metadata": {
            "tags": []
          },
          "execution_count": 5
        }
      ]
    },
    {
      "metadata": {
        "id": "X927h0GvCRA9",
        "colab_type": "code",
        "colab": {}
      },
      "cell_type": "code",
      "source": [
        "\"\"\"\n",
        "I have created a crosstab and used a the round(4)*100 to make the decimals into percentages. So every value\n",
        "inside each cell is a percentage.\n",
        "\n",
        "So for example, in Year 1999, the guest of the Occupation of \"Acting, Comedy & Music\", showed up 90.36%\n",
        "\n",
        "If this crosstab does not suffice for this question's answer please let me know. \n",
        "\"\"\"\n",
        "crossYearOcc = pd.crosstab(df['Occupation'], df['Year'], normalize='columns').round(4)*100"
      ],
      "execution_count": 0,
      "outputs": []
    },
    {
      "metadata": {
        "id": "TpIHgYOhDZFm",
        "colab_type": "code",
        "colab": {}
      },
      "cell_type": "code",
      "source": [
        "# I transposed it because it looks much easier to read versus the normal way. \n",
        "dailyYearOccu = crossYearOcc.T"
      ],
      "execution_count": 0,
      "outputs": []
    },
    {
      "metadata": {
        "id": "beBHB56EEqpb",
        "colab_type": "code",
        "colab": {
          "base_uri": "https://localhost:8080/",
          "height": 580
        },
        "outputId": "dbecca19-c542-42a4-c950-1c7ec6a5525a"
      },
      "cell_type": "code",
      "source": [
        "\"\"\"\n",
        "Honestly, I'm upset at myself. I want to make this sexier or 'visual' if we are using\n",
        "industry terms. I'll ponder about this after I finish objectives/parts 2 and 3\n",
        "\"\"\"\n",
        "dailyYearOccu"
      ],
      "execution_count": 8,
      "outputs": [
        {
          "output_type": "execute_result",
          "data": {
            "text/html": [
              "<div>\n",
              "<style scoped>\n",
              "    .dataframe tbody tr th:only-of-type {\n",
              "        vertical-align: middle;\n",
              "    }\n",
              "\n",
              "    .dataframe tbody tr th {\n",
              "        vertical-align: top;\n",
              "    }\n",
              "\n",
              "    .dataframe thead th {\n",
              "        text-align: right;\n",
              "    }\n",
              "</style>\n",
              "<table border=\"1\" class=\"dataframe\">\n",
              "  <thead>\n",
              "    <tr style=\"text-align: right;\">\n",
              "      <th>Occupation</th>\n",
              "      <th>Acting, Comedy &amp; Music</th>\n",
              "      <th>Government and Politics</th>\n",
              "      <th>Media</th>\n",
              "      <th>Other</th>\n",
              "    </tr>\n",
              "    <tr>\n",
              "      <th>Year</th>\n",
              "      <th></th>\n",
              "      <th></th>\n",
              "      <th></th>\n",
              "      <th></th>\n",
              "    </tr>\n",
              "  </thead>\n",
              "  <tbody>\n",
              "    <tr>\n",
              "      <th>1999</th>\n",
              "      <td>90.36</td>\n",
              "      <td>1.20</td>\n",
              "      <td>6.63</td>\n",
              "      <td>1.81</td>\n",
              "    </tr>\n",
              "    <tr>\n",
              "      <th>2000</th>\n",
              "      <td>73.96</td>\n",
              "      <td>8.28</td>\n",
              "      <td>12.43</td>\n",
              "      <td>5.33</td>\n",
              "    </tr>\n",
              "    <tr>\n",
              "      <th>2001</th>\n",
              "      <td>72.61</td>\n",
              "      <td>3.82</td>\n",
              "      <td>19.75</td>\n",
              "      <td>3.82</td>\n",
              "    </tr>\n",
              "    <tr>\n",
              "      <th>2002</th>\n",
              "      <td>62.26</td>\n",
              "      <td>6.92</td>\n",
              "      <td>26.42</td>\n",
              "      <td>4.40</td>\n",
              "    </tr>\n",
              "    <tr>\n",
              "      <th>2003</th>\n",
              "      <td>56.02</td>\n",
              "      <td>10.24</td>\n",
              "      <td>24.70</td>\n",
              "      <td>9.04</td>\n",
              "    </tr>\n",
              "    <tr>\n",
              "      <th>2004</th>\n",
              "      <td>38.41</td>\n",
              "      <td>22.56</td>\n",
              "      <td>27.44</td>\n",
              "      <td>11.59</td>\n",
              "    </tr>\n",
              "    <tr>\n",
              "      <th>2005</th>\n",
              "      <td>37.04</td>\n",
              "      <td>16.05</td>\n",
              "      <td>33.33</td>\n",
              "      <td>13.58</td>\n",
              "    </tr>\n",
              "    <tr>\n",
              "      <th>2006</th>\n",
              "      <td>36.02</td>\n",
              "      <td>19.25</td>\n",
              "      <td>29.19</td>\n",
              "      <td>15.53</td>\n",
              "    </tr>\n",
              "    <tr>\n",
              "      <th>2007</th>\n",
              "      <td>25.53</td>\n",
              "      <td>17.02</td>\n",
              "      <td>33.33</td>\n",
              "      <td>24.11</td>\n",
              "    </tr>\n",
              "    <tr>\n",
              "      <th>2008</th>\n",
              "      <td>20.73</td>\n",
              "      <td>20.12</td>\n",
              "      <td>46.95</td>\n",
              "      <td>12.20</td>\n",
              "    </tr>\n",
              "    <tr>\n",
              "      <th>2009</th>\n",
              "      <td>20.86</td>\n",
              "      <td>20.86</td>\n",
              "      <td>36.20</td>\n",
              "      <td>22.09</td>\n",
              "    </tr>\n",
              "    <tr>\n",
              "      <th>2010</th>\n",
              "      <td>35.15</td>\n",
              "      <td>18.18</td>\n",
              "      <td>30.30</td>\n",
              "      <td>16.36</td>\n",
              "    </tr>\n",
              "    <tr>\n",
              "      <th>2011</th>\n",
              "      <td>33.74</td>\n",
              "      <td>16.56</td>\n",
              "      <td>31.29</td>\n",
              "      <td>18.40</td>\n",
              "    </tr>\n",
              "    <tr>\n",
              "      <th>2012</th>\n",
              "      <td>26.83</td>\n",
              "      <td>20.12</td>\n",
              "      <td>31.71</td>\n",
              "      <td>21.34</td>\n",
              "    </tr>\n",
              "    <tr>\n",
              "      <th>2013</th>\n",
              "      <td>42.77</td>\n",
              "      <td>12.65</td>\n",
              "      <td>30.72</td>\n",
              "      <td>13.86</td>\n",
              "    </tr>\n",
              "    <tr>\n",
              "      <th>2014</th>\n",
              "      <td>39.26</td>\n",
              "      <td>12.88</td>\n",
              "      <td>32.52</td>\n",
              "      <td>15.34</td>\n",
              "    </tr>\n",
              "    <tr>\n",
              "      <th>2015</th>\n",
              "      <td>45.00</td>\n",
              "      <td>17.00</td>\n",
              "      <td>24.00</td>\n",
              "      <td>14.00</td>\n",
              "    </tr>\n",
              "  </tbody>\n",
              "</table>\n",
              "</div>"
            ],
            "text/plain": [
              "Occupation  Acting, Comedy & Music  Government and Politics  Media  Other\n",
              "Year                                                                     \n",
              "1999                         90.36                     1.20   6.63   1.81\n",
              "2000                         73.96                     8.28  12.43   5.33\n",
              "2001                         72.61                     3.82  19.75   3.82\n",
              "2002                         62.26                     6.92  26.42   4.40\n",
              "2003                         56.02                    10.24  24.70   9.04\n",
              "2004                         38.41                    22.56  27.44  11.59\n",
              "2005                         37.04                    16.05  33.33  13.58\n",
              "2006                         36.02                    19.25  29.19  15.53\n",
              "2007                         25.53                    17.02  33.33  24.11\n",
              "2008                         20.73                    20.12  46.95  12.20\n",
              "2009                         20.86                    20.86  36.20  22.09\n",
              "2010                         35.15                    18.18  30.30  16.36\n",
              "2011                         33.74                    16.56  31.29  18.40\n",
              "2012                         26.83                    20.12  31.71  21.34\n",
              "2013                         42.77                    12.65  30.72  13.86\n",
              "2014                         39.26                    12.88  32.52  15.34\n",
              "2015                         45.00                    17.00  24.00  14.00"
            ]
          },
          "metadata": {
            "tags": []
          },
          "execution_count": 8
        }
      ]
    },
    {
      "metadata": {
        "colab_type": "text",
        "id": "Nqf9oJJDDu-d"
      },
      "cell_type": "markdown",
      "source": [
        "# Part 2 — Recreate this explanatory visualization:"
      ]
    },
    {
      "metadata": {
        "id": "SyORq0dkMOB5",
        "colab_type": "code",
        "colab": {
          "base_uri": "https://localhost:8080/",
          "height": 238
        },
        "outputId": "af4933d4-351e-48a6-eda1-72172a2628c1"
      },
      "cell_type": "code",
      "source": [
        "!pip install --upgrade seaborn"
      ],
      "execution_count": 9,
      "outputs": [
        {
          "output_type": "stream",
          "text": [
            "Requirement already up-to-date: seaborn in /usr/local/lib/python3.6/dist-packages (0.9.0)\n",
            "Requirement already satisfied, skipping upgrade: numpy>=1.9.3 in /usr/local/lib/python3.6/dist-packages (from seaborn) (1.14.6)\n",
            "Requirement already satisfied, skipping upgrade: matplotlib>=1.4.3 in /usr/local/lib/python3.6/dist-packages (from seaborn) (3.0.3)\n",
            "Requirement already satisfied, skipping upgrade: scipy>=0.14.0 in /usr/local/lib/python3.6/dist-packages (from seaborn) (1.1.0)\n",
            "Requirement already satisfied, skipping upgrade: pandas>=0.15.2 in /usr/local/lib/python3.6/dist-packages (from seaborn) (0.22.0)\n",
            "Requirement already satisfied, skipping upgrade: cycler>=0.10 in /usr/local/lib/python3.6/dist-packages (from matplotlib>=1.4.3->seaborn) (0.10.0)\n",
            "Requirement already satisfied, skipping upgrade: kiwisolver>=1.0.1 in /usr/local/lib/python3.6/dist-packages (from matplotlib>=1.4.3->seaborn) (1.0.1)\n",
            "Requirement already satisfied, skipping upgrade: pyparsing!=2.0.4,!=2.1.2,!=2.1.6,>=2.0.1 in /usr/local/lib/python3.6/dist-packages (from matplotlib>=1.4.3->seaborn) (2.3.1)\n",
            "Requirement already satisfied, skipping upgrade: python-dateutil>=2.1 in /usr/local/lib/python3.6/dist-packages (from matplotlib>=1.4.3->seaborn) (2.5.3)\n",
            "Requirement already satisfied, skipping upgrade: pytz>=2011k in /usr/local/lib/python3.6/dist-packages (from pandas>=0.15.2->seaborn) (2018.9)\n",
            "Requirement already satisfied, skipping upgrade: six in /usr/local/lib/python3.6/dist-packages (from cycler>=0.10->matplotlib>=1.4.3->seaborn) (1.11.0)\n",
            "Requirement already satisfied, skipping upgrade: setuptools in /usr/local/lib/python3.6/dist-packages (from kiwisolver>=1.0.1->matplotlib>=1.4.3->seaborn) (40.8.0)\n"
          ],
          "name": "stdout"
        }
      ]
    },
    {
      "metadata": {
        "id": "bFvy4OyyL7kj",
        "colab_type": "code",
        "colab": {}
      },
      "cell_type": "code",
      "source": [
        "import seaborn as sns"
      ],
      "execution_count": 0,
      "outputs": []
    },
    {
      "metadata": {
        "colab_type": "code",
        "id": "scozkHQc0_eD",
        "outputId": "2bcf4324-0b6c-48d3-cfb9-5410a1ced5fd",
        "colab": {
          "base_uri": "https://localhost:8080/",
          "height": 406
        }
      },
      "cell_type": "code",
      "source": [
        "from IPython.display import display, Image\n",
        "png = 'https://fivethirtyeight.com/wp-content/uploads/2015/08/hickey-datalab-dailyshow.png'\n",
        "example = Image(png, width=500)\n",
        "display(example)"
      ],
      "execution_count": 11,
      "outputs": [
        {
          "output_type": "display_data",
          "data": {
            "image/png": "[encoded data removed]",
            "text/plain": [
              "<IPython.core.display.Image object>"
            ]
          },
          "metadata": {
            "tags": [],
            "image/png": {
              "width": 500
            }
          }
        }
      ]
    },
    {
      "metadata": {
        "id": "lVyy91YKTNLm",
        "colab_type": "code",
        "colab": {
          "base_uri": "https://localhost:8080/",
          "height": 580
        },
        "outputId": "7ed34fcf-f40f-46d0-c42e-024d8ccfb63d"
      },
      "cell_type": "code",
      "source": [
        "dailyYearOccu"
      ],
      "execution_count": 87,
      "outputs": [
        {
          "output_type": "execute_result",
          "data": {
            "text/html": [
              "<div>\n",
              "<style scoped>\n",
              "    .dataframe tbody tr th:only-of-type {\n",
              "        vertical-align: middle;\n",
              "    }\n",
              "\n",
              "    .dataframe tbody tr th {\n",
              "        vertical-align: top;\n",
              "    }\n",
              "\n",
              "    .dataframe thead th {\n",
              "        text-align: right;\n",
              "    }\n",
              "</style>\n",
              "<table border=\"1\" class=\"dataframe\">\n",
              "  <thead>\n",
              "    <tr style=\"text-align: right;\">\n",
              "      <th>Occupation</th>\n",
              "      <th>Acting, Comedy &amp; Music</th>\n",
              "      <th>Government and Politics</th>\n",
              "      <th>Media</th>\n",
              "      <th>Other</th>\n",
              "    </tr>\n",
              "    <tr>\n",
              "      <th>Year</th>\n",
              "      <th></th>\n",
              "      <th></th>\n",
              "      <th></th>\n",
              "      <th></th>\n",
              "    </tr>\n",
              "  </thead>\n",
              "  <tbody>\n",
              "    <tr>\n",
              "      <th>1999</th>\n",
              "      <td>90.36</td>\n",
              "      <td>1.20</td>\n",
              "      <td>6.63</td>\n",
              "      <td>1.81</td>\n",
              "    </tr>\n",
              "    <tr>\n",
              "      <th>2000</th>\n",
              "      <td>73.96</td>\n",
              "      <td>8.28</td>\n",
              "      <td>12.43</td>\n",
              "      <td>5.33</td>\n",
              "    </tr>\n",
              "    <tr>\n",
              "      <th>2001</th>\n",
              "      <td>72.61</td>\n",
              "      <td>3.82</td>\n",
              "      <td>19.75</td>\n",
              "      <td>3.82</td>\n",
              "    </tr>\n",
              "    <tr>\n",
              "      <th>2002</th>\n",
              "      <td>62.26</td>\n",
              "      <td>6.92</td>\n",
              "      <td>26.42</td>\n",
              "      <td>4.40</td>\n",
              "    </tr>\n",
              "    <tr>\n",
              "      <th>2003</th>\n",
              "      <td>56.02</td>\n",
              "      <td>10.24</td>\n",
              "      <td>24.70</td>\n",
              "      <td>9.04</td>\n",
              "    </tr>\n",
              "    <tr>\n",
              "      <th>2004</th>\n",
              "      <td>38.41</td>\n",
              "      <td>22.56</td>\n",
              "      <td>27.44</td>\n",
              "      <td>11.59</td>\n",
              "    </tr>\n",
              "    <tr>\n",
              "      <th>2005</th>\n",
              "      <td>37.04</td>\n",
              "      <td>16.05</td>\n",
              "      <td>33.33</td>\n",
              "      <td>13.58</td>\n",
              "    </tr>\n",
              "    <tr>\n",
              "      <th>2006</th>\n",
              "      <td>36.02</td>\n",
              "      <td>19.25</td>\n",
              "      <td>29.19</td>\n",
              "      <td>15.53</td>\n",
              "    </tr>\n",
              "    <tr>\n",
              "      <th>2007</th>\n",
              "      <td>25.53</td>\n",
              "      <td>17.02</td>\n",
              "      <td>33.33</td>\n",
              "      <td>24.11</td>\n",
              "    </tr>\n",
              "    <tr>\n",
              "      <th>2008</th>\n",
              "      <td>20.73</td>\n",
              "      <td>20.12</td>\n",
              "      <td>46.95</td>\n",
              "      <td>12.20</td>\n",
              "    </tr>\n",
              "    <tr>\n",
              "      <th>2009</th>\n",
              "      <td>20.86</td>\n",
              "      <td>20.86</td>\n",
              "      <td>36.20</td>\n",
              "      <td>22.09</td>\n",
              "    </tr>\n",
              "    <tr>\n",
              "      <th>2010</th>\n",
              "      <td>35.15</td>\n",
              "      <td>18.18</td>\n",
              "      <td>30.30</td>\n",
              "      <td>16.36</td>\n",
              "    </tr>\n",
              "    <tr>\n",
              "      <th>2011</th>\n",
              "      <td>33.74</td>\n",
              "      <td>16.56</td>\n",
              "      <td>31.29</td>\n",
              "      <td>18.40</td>\n",
              "    </tr>\n",
              "    <tr>\n",
              "      <th>2012</th>\n",
              "      <td>26.83</td>\n",
              "      <td>20.12</td>\n",
              "      <td>31.71</td>\n",
              "      <td>21.34</td>\n",
              "    </tr>\n",
              "    <tr>\n",
              "      <th>2013</th>\n",
              "      <td>42.77</td>\n",
              "      <td>12.65</td>\n",
              "      <td>30.72</td>\n",
              "      <td>13.86</td>\n",
              "    </tr>\n",
              "    <tr>\n",
              "      <th>2014</th>\n",
              "      <td>39.26</td>\n",
              "      <td>12.88</td>\n",
              "      <td>32.52</td>\n",
              "      <td>15.34</td>\n",
              "    </tr>\n",
              "    <tr>\n",
              "      <th>2015</th>\n",
              "      <td>45.00</td>\n",
              "      <td>17.00</td>\n",
              "      <td>24.00</td>\n",
              "      <td>14.00</td>\n",
              "    </tr>\n",
              "  </tbody>\n",
              "</table>\n",
              "</div>"
            ],
            "text/plain": [
              "Occupation  Acting, Comedy & Music  Government and Politics  Media  Other\n",
              "Year                                                                     \n",
              "1999                         90.36                     1.20   6.63   1.81\n",
              "2000                         73.96                     8.28  12.43   5.33\n",
              "2001                         72.61                     3.82  19.75   3.82\n",
              "2002                         62.26                     6.92  26.42   4.40\n",
              "2003                         56.02                    10.24  24.70   9.04\n",
              "2004                         38.41                    22.56  27.44  11.59\n",
              "2005                         37.04                    16.05  33.33  13.58\n",
              "2006                         36.02                    19.25  29.19  15.53\n",
              "2007                         25.53                    17.02  33.33  24.11\n",
              "2008                         20.73                    20.12  46.95  12.20\n",
              "2009                         20.86                    20.86  36.20  22.09\n",
              "2010                         35.15                    18.18  30.30  16.36\n",
              "2011                         33.74                    16.56  31.29  18.40\n",
              "2012                         26.83                    20.12  31.71  21.34\n",
              "2013                         42.77                    12.65  30.72  13.86\n",
              "2014                         39.26                    12.88  32.52  15.34\n",
              "2015                         45.00                    17.00  24.00  14.00"
            ]
          },
          "metadata": {
            "tags": []
          },
          "execution_count": 87
        }
      ]
    },
    {
      "metadata": {
        "id": "KUpnbAkAO8iO",
        "colab_type": "code",
        "colab": {}
      },
      "cell_type": "code",
      "source": [
        "# We don't need the 'Other' occupation column, so let's drop it like it's hot or not\n",
        "dS = dailyYearOccu.drop(columns=['Other'])"
      ],
      "execution_count": 0,
      "outputs": []
    },
    {
      "metadata": {
        "id": "tMyEsEyfPX7v",
        "colab_type": "code",
        "colab": {
          "base_uri": "https://localhost:8080/",
          "height": 580
        },
        "outputId": "4d4e694d-9fee-476e-bdbe-49253b914fa7"
      },
      "cell_type": "code",
      "source": [
        "dS"
      ],
      "execution_count": 41,
      "outputs": [
        {
          "output_type": "execute_result",
          "data": {
            "text/html": [
              "<div>\n",
              "<style scoped>\n",
              "    .dataframe tbody tr th:only-of-type {\n",
              "        vertical-align: middle;\n",
              "    }\n",
              "\n",
              "    .dataframe tbody tr th {\n",
              "        vertical-align: top;\n",
              "    }\n",
              "\n",
              "    .dataframe thead th {\n",
              "        text-align: right;\n",
              "    }\n",
              "</style>\n",
              "<table border=\"1\" class=\"dataframe\">\n",
              "  <thead>\n",
              "    <tr style=\"text-align: right;\">\n",
              "      <th>Occupation</th>\n",
              "      <th>Acting, Comedy &amp; Music</th>\n",
              "      <th>Government and Politics</th>\n",
              "      <th>Media</th>\n",
              "    </tr>\n",
              "    <tr>\n",
              "      <th>Year</th>\n",
              "      <th></th>\n",
              "      <th></th>\n",
              "      <th></th>\n",
              "    </tr>\n",
              "  </thead>\n",
              "  <tbody>\n",
              "    <tr>\n",
              "      <th>1999</th>\n",
              "      <td>90.36</td>\n",
              "      <td>1.20</td>\n",
              "      <td>6.63</td>\n",
              "    </tr>\n",
              "    <tr>\n",
              "      <th>2000</th>\n",
              "      <td>73.96</td>\n",
              "      <td>8.28</td>\n",
              "      <td>12.43</td>\n",
              "    </tr>\n",
              "    <tr>\n",
              "      <th>2001</th>\n",
              "      <td>72.61</td>\n",
              "      <td>3.82</td>\n",
              "      <td>19.75</td>\n",
              "    </tr>\n",
              "    <tr>\n",
              "      <th>2002</th>\n",
              "      <td>62.26</td>\n",
              "      <td>6.92</td>\n",
              "      <td>26.42</td>\n",
              "    </tr>\n",
              "    <tr>\n",
              "      <th>2003</th>\n",
              "      <td>56.02</td>\n",
              "      <td>10.24</td>\n",
              "      <td>24.70</td>\n",
              "    </tr>\n",
              "    <tr>\n",
              "      <th>2004</th>\n",
              "      <td>38.41</td>\n",
              "      <td>22.56</td>\n",
              "      <td>27.44</td>\n",
              "    </tr>\n",
              "    <tr>\n",
              "      <th>2005</th>\n",
              "      <td>37.04</td>\n",
              "      <td>16.05</td>\n",
              "      <td>33.33</td>\n",
              "    </tr>\n",
              "    <tr>\n",
              "      <th>2006</th>\n",
              "      <td>36.02</td>\n",
              "      <td>19.25</td>\n",
              "      <td>29.19</td>\n",
              "    </tr>\n",
              "    <tr>\n",
              "      <th>2007</th>\n",
              "      <td>25.53</td>\n",
              "      <td>17.02</td>\n",
              "      <td>33.33</td>\n",
              "    </tr>\n",
              "    <tr>\n",
              "      <th>2008</th>\n",
              "      <td>20.73</td>\n",
              "      <td>20.12</td>\n",
              "      <td>46.95</td>\n",
              "    </tr>\n",
              "    <tr>\n",
              "      <th>2009</th>\n",
              "      <td>20.86</td>\n",
              "      <td>20.86</td>\n",
              "      <td>36.20</td>\n",
              "    </tr>\n",
              "    <tr>\n",
              "      <th>2010</th>\n",
              "      <td>35.15</td>\n",
              "      <td>18.18</td>\n",
              "      <td>30.30</td>\n",
              "    </tr>\n",
              "    <tr>\n",
              "      <th>2011</th>\n",
              "      <td>33.74</td>\n",
              "      <td>16.56</td>\n",
              "      <td>31.29</td>\n",
              "    </tr>\n",
              "    <tr>\n",
              "      <th>2012</th>\n",
              "      <td>26.83</td>\n",
              "      <td>20.12</td>\n",
              "      <td>31.71</td>\n",
              "    </tr>\n",
              "    <tr>\n",
              "      <th>2013</th>\n",
              "      <td>42.77</td>\n",
              "      <td>12.65</td>\n",
              "      <td>30.72</td>\n",
              "    </tr>\n",
              "    <tr>\n",
              "      <th>2014</th>\n",
              "      <td>39.26</td>\n",
              "      <td>12.88</td>\n",
              "      <td>32.52</td>\n",
              "    </tr>\n",
              "    <tr>\n",
              "      <th>2015</th>\n",
              "      <td>45.00</td>\n",
              "      <td>17.00</td>\n",
              "      <td>24.00</td>\n",
              "    </tr>\n",
              "  </tbody>\n",
              "</table>\n",
              "</div>"
            ],
            "text/plain": [
              "Occupation  Acting, Comedy & Music  Government and Politics  Media\n",
              "Year                                                              \n",
              "1999                         90.36                     1.20   6.63\n",
              "2000                         73.96                     8.28  12.43\n",
              "2001                         72.61                     3.82  19.75\n",
              "2002                         62.26                     6.92  26.42\n",
              "2003                         56.02                    10.24  24.70\n",
              "2004                         38.41                    22.56  27.44\n",
              "2005                         37.04                    16.05  33.33\n",
              "2006                         36.02                    19.25  29.19\n",
              "2007                         25.53                    17.02  33.33\n",
              "2008                         20.73                    20.12  46.95\n",
              "2009                         20.86                    20.86  36.20\n",
              "2010                         35.15                    18.18  30.30\n",
              "2011                         33.74                    16.56  31.29\n",
              "2012                         26.83                    20.12  31.71\n",
              "2013                         42.77                    12.65  30.72\n",
              "2014                         39.26                    12.88  32.52\n",
              "2015                         45.00                    17.00  24.00"
            ]
          },
          "metadata": {
            "tags": []
          },
          "execution_count": 41
        }
      ]
    },
    {
      "metadata": {
        "id": "U8c-WaAoPsHe",
        "colab_type": "code",
        "colab": {}
      },
      "cell_type": "code",
      "source": [
        "year = dS.index.tolist()"
      ],
      "execution_count": 0,
      "outputs": []
    },
    {
      "metadata": {
        "id": "DcrQjEVVHP99",
        "colab_type": "code",
        "colab": {
          "base_uri": "https://localhost:8080/",
          "height": 436
        },
        "outputId": "0714b01e-0694-4ae1-f330-e9814a5c78be"
      },
      "cell_type": "code",
      "source": [
        "plt.style.use('fivethirtyeight')\n",
        "\n",
        "# size of our plot\n",
        "fig, ax = plt.subplots(figsize=(7,6))\n",
        "    \n",
        "# Each occupation plotted\n",
        "ax1 = sns.lineplot(x=year, y=dS['Acting, Comedy & Music']\n",
        "                   .tolist(), color='#0F95D7', lw=2.5)\n",
        "ax2 = sns.lineplot(x=year, y=dS['Government and Politics']\n",
        "                   .tolist(), color='#FF2700', lw=2.5)\n",
        "ax3 = sns.lineplot(x=year, y=dS['Media'].tolist(), color='#810F7C', lw=2.5)\n",
        "\n",
        "plt.ylim(-4.5,110)\n",
        "ax1.axhline(y=0, color='#414141', linewidth=1.5, alpha=.5)\n",
        "\n",
        "\n",
        "ax.set_xticks([2000, 2004, 2008, 2012])\n",
        "ax.set_xticklabels(['2000', \"'04\", \"'08\", \"'12\"], \n",
        "                   fontsize=12, color='#414141')\n",
        "\n",
        "ax.set_yticks([0, 25, 50, 75, 100])\n",
        "ax.set_yticklabels(labels=['0', '25', '50', '75', '100%'], \n",
        "                   fontsize=12, color='#414141')\n",
        "\n",
        "ax.text(x=1997, y=118, s=\"Who Got to Be On 'The Daily Show'?\", \n",
        "        fontsize=16.5, fontweight='semibold', color='#414141')\n",
        "\n",
        "# subtitle text\n",
        "ax.text(x=1997, y=112, s='Occupation of guests, by year', fontsize=15.5, color='#414141')\n",
        "\n",
        "# labels for texts of lines, adjusting this is extremely annoying, playing with decimals\n",
        "# my perfectionism may take up all the time today doing this. Photoshop, please?\n",
        "ax.text(x=2000.3, y=80, s=\"Acting, Comedy & Music\", fontsize=12, \n",
        "        fontweight='semibold', color='#0F95D7')\n",
        "ax.text(x=2008.9, y=6, s=\"Government and Politics\", fontsize=12, \n",
        "        fontweight='semibold', color='#FF2700')\n",
        "ax.text(x=2007.5, y=52, s=\"Media\", fontsize=12, \n",
        "        fontweight='semibold', color='#810F7C');\n"
      ],
      "execution_count": 89,
      "outputs": [
        {
          "output_type": "display_data",
          "data": {
            "image/png": "[encoded data removed]",
            "text/plain": [
              "<Figure size 504x432 with 1 Axes>"
            ]
          },
          "metadata": {
            "tags": []
          }
        }
      ]
    },
    {
      "metadata": {
        "id": "_VsFV_vlQpOM",
        "colab_type": "code",
        "colab": {
          "base_uri": "https://localhost:8080/",
          "height": 406
        },
        "outputId": "edf8fe61-ac4c-4cfd-85d6-68424deed14b"
      },
      "cell_type": "code",
      "source": [
        "display(example)"
      ],
      "execution_count": 48,
      "outputs": [
        {
          "output_type": "display_data",
          "data": {
            "image/png": "[encoded data removed]",
            "text/plain": [
              "<IPython.core.display.Image object>"
            ]
          },
          "metadata": {
            "tags": [],
            "image/png": {
              "width": 500
            }
          }
        }
      ]
    },
    {
      "metadata": {
        "colab_type": "text",
        "id": "W7lw3JzAE6BJ"
      },
      "cell_type": "markdown",
      "source": [
        "**Hints:**\n",
        "- You can choose any Python visualization library you want. I've verified the plot can be reproduced with matplotlib, pandas plot, or seaborn. I assume other libraries like altair or plotly would work too.\n",
        "- If you choose to use seaborn, you may want to upgrade the version to 0.9.0.\n",
        "\n",
        "**Expectations:** Your plot should include:\n",
        "- 3 lines visualizing \"occupation of guests, by year.\" The shapes of the lines should look roughly identical to 538's example. Each line should be a different color. (But you don't need to use the _same_ colors as 538.)\n",
        "- Legend or labels for the lines. (But you don't need each label positioned next to its line or colored like 538.)\n",
        "- Title in the upper left: _\"Who Got To Be On 'The Daily Show'?\"_ with more visual emphasis than the subtitle. (Bolder and/or larger font.)\n",
        "- Subtitle underneath the title: _\"Occupation of guests, by year\"_\n",
        "\n",
        "**Optional Bonus Challenge:**\n",
        "- Give your plot polished aesthetics, with improved resemblance to the 538 example.\n",
        "- Any visual element not specifically mentioned in the expectations is an optional bonus."
      ]
    },
    {
      "metadata": {
        "colab_type": "code",
        "id": "E8XBAr8rz_Na",
        "colab": {}
      },
      "cell_type": "code",
      "source": [
        ""
      ],
      "execution_count": 0,
      "outputs": []
    },
    {
      "metadata": {
        "colab_type": "text",
        "id": "LuacMjSf2ses"
      },
      "cell_type": "markdown",
      "source": [
        "# Part 3 — Who were the top 10 guests on _The Daily Show_?\n",
        "\n",
        "**Make a plot** that shows their names and number of appearances.\n",
        "\n",
        "**Add a title** of your choice.\n",
        "\n",
        "**Expectations:** It's ok to make a simple, quick plot: exploratory, instead of explanatory. \n",
        "\n",
        "**Optional Bonus Challenge:** You can change aesthetics and add more annotation. For example, in a relevant location, could you add the text \"19\" to show that Fareed Zakaria appeared 19 times on _The Daily Show_? (And so on, for each of the top 10 guests.)"
      ]
    },
    {
      "metadata": {
        "colab_type": "code",
        "id": "tbwfBN3HsFlh",
        "colab": {
          "base_uri": "https://localhost:8080/",
          "height": 195
        },
        "outputId": "cd04ccfa-8278-46af-bd78-a433fef8f566"
      },
      "cell_type": "code",
      "source": [
        "df.head()"
      ],
      "execution_count": 91,
      "outputs": [
        {
          "output_type": "execute_result",
          "data": {
            "text/html": [
              "<div>\n",
              "<style scoped>\n",
              "    .dataframe tbody tr th:only-of-type {\n",
              "        vertical-align: middle;\n",
              "    }\n",
              "\n",
              "    .dataframe tbody tr th {\n",
              "        vertical-align: top;\n",
              "    }\n",
              "\n",
              "    .dataframe thead th {\n",
              "        text-align: right;\n",
              "    }\n",
              "</style>\n",
              "<table border=\"1\" class=\"dataframe\">\n",
              "  <thead>\n",
              "    <tr style=\"text-align: right;\">\n",
              "      <th></th>\n",
              "      <th>Year</th>\n",
              "      <th>GoogleKnowlege_Occupation</th>\n",
              "      <th>Show</th>\n",
              "      <th>Group</th>\n",
              "      <th>Guest</th>\n",
              "      <th>Occupation</th>\n",
              "    </tr>\n",
              "  </thead>\n",
              "  <tbody>\n",
              "    <tr>\n",
              "      <th>0</th>\n",
              "      <td>1999</td>\n",
              "      <td>actor</td>\n",
              "      <td>1/11/99</td>\n",
              "      <td>Acting</td>\n",
              "      <td>Michael J. Fox</td>\n",
              "      <td>Acting, Comedy &amp; Music</td>\n",
              "    </tr>\n",
              "    <tr>\n",
              "      <th>1</th>\n",
              "      <td>1999</td>\n",
              "      <td>Comedian</td>\n",
              "      <td>1/12/99</td>\n",
              "      <td>Comedy</td>\n",
              "      <td>Sandra Bernhard</td>\n",
              "      <td>Acting, Comedy &amp; Music</td>\n",
              "    </tr>\n",
              "    <tr>\n",
              "      <th>2</th>\n",
              "      <td>1999</td>\n",
              "      <td>television actress</td>\n",
              "      <td>1/13/99</td>\n",
              "      <td>Acting</td>\n",
              "      <td>Tracey Ullman</td>\n",
              "      <td>Acting, Comedy &amp; Music</td>\n",
              "    </tr>\n",
              "    <tr>\n",
              "      <th>3</th>\n",
              "      <td>1999</td>\n",
              "      <td>film actress</td>\n",
              "      <td>1/14/99</td>\n",
              "      <td>Acting</td>\n",
              "      <td>Gillian Anderson</td>\n",
              "      <td>Acting, Comedy &amp; Music</td>\n",
              "    </tr>\n",
              "    <tr>\n",
              "      <th>4</th>\n",
              "      <td>1999</td>\n",
              "      <td>actor</td>\n",
              "      <td>1/18/99</td>\n",
              "      <td>Acting</td>\n",
              "      <td>David Alan Grier</td>\n",
              "      <td>Acting, Comedy &amp; Music</td>\n",
              "    </tr>\n",
              "  </tbody>\n",
              "</table>\n",
              "</div>"
            ],
            "text/plain": [
              "   Year GoogleKnowlege_Occupation     Show   Group             Guest  \\\n",
              "0  1999                     actor  1/11/99  Acting    Michael J. Fox   \n",
              "1  1999                  Comedian  1/12/99  Comedy   Sandra Bernhard   \n",
              "2  1999        television actress  1/13/99  Acting     Tracey Ullman   \n",
              "3  1999              film actress  1/14/99  Acting  Gillian Anderson   \n",
              "4  1999                     actor  1/18/99  Acting  David Alan Grier   \n",
              "\n",
              "               Occupation  \n",
              "0  Acting, Comedy & Music  \n",
              "1  Acting, Comedy & Music  \n",
              "2  Acting, Comedy & Music  \n",
              "3  Acting, Comedy & Music  \n",
              "4  Acting, Comedy & Music  "
            ]
          },
          "metadata": {
            "tags": []
          },
          "execution_count": 91
        }
      ]
    },
    {
      "metadata": {
        "id": "cfXIzJi0T5nD",
        "colab_type": "code",
        "colab": {
          "base_uri": "https://localhost:8080/",
          "height": 202
        },
        "outputId": "34890374-580b-490a-f2fe-66569f6739e2"
      },
      "cell_type": "code",
      "source": [
        "df['Guest'].value_counts().head(10)"
      ],
      "execution_count": 96,
      "outputs": [
        {
          "output_type": "execute_result",
          "data": {
            "text/plain": [
              "Fareed Zakaria    19\n",
              "Denis Leary       17\n",
              "Brian Williams    16\n",
              "Ricky Gervais     13\n",
              "Paul Rudd         13\n",
              "Tom Brokaw        12\n",
              "Reza Aslan        10\n",
              "Richard Lewis     10\n",
              "Will Ferrell      10\n",
              "Bill O'Reilly     10\n",
              "Name: Guest, dtype: int64"
            ]
          },
          "metadata": {
            "tags": []
          },
          "execution_count": 96
        }
      ]
    },
    {
      "metadata": {
        "id": "WkLQrEgcUEQt",
        "colab_type": "code",
        "colab": {}
      },
      "cell_type": "code",
      "source": [
        "top10 = df['Guest'].value_counts().head(10)"
      ],
      "execution_count": 0,
      "outputs": []
    },
    {
      "metadata": {
        "id": "dyRtcPSVUShs",
        "colab_type": "code",
        "colab": {
          "base_uri": "https://localhost:8080/",
          "height": 202
        },
        "outputId": "026ade71-ecb1-438a-b556-a7e59222c5b1"
      },
      "cell_type": "code",
      "source": [
        "top10"
      ],
      "execution_count": 98,
      "outputs": [
        {
          "output_type": "execute_result",
          "data": {
            "text/plain": [
              "Fareed Zakaria    19\n",
              "Denis Leary       17\n",
              "Brian Williams    16\n",
              "Ricky Gervais     13\n",
              "Paul Rudd         13\n",
              "Tom Brokaw        12\n",
              "Reza Aslan        10\n",
              "Richard Lewis     10\n",
              "Will Ferrell      10\n",
              "Bill O'Reilly     10\n",
              "Name: Guest, dtype: int64"
            ]
          },
          "metadata": {
            "tags": []
          },
          "execution_count": 98
        }
      ]
    },
    {
      "metadata": {
        "id": "9cuUaqgOUTSl",
        "colab_type": "code",
        "colab": {
          "base_uri": "https://localhost:8080/",
          "height": 281
        },
        "outputId": "bc171052-e3ba-4e20-91fd-b3a4d9576d60"
      },
      "cell_type": "code",
      "source": [
        "# That doesn't work\n",
        "top10.plot()"
      ],
      "execution_count": 99,
      "outputs": [
        {
          "output_type": "execute_result",
          "data": {
            "text/plain": [
              "<matplotlib.axes._subplots.AxesSubplot at 0x7fa90b056748>"
            ]
          },
          "metadata": {
            "tags": []
          },
          "execution_count": 99
        },
        {
          "output_type": "display_data",
          "data": {
            "image/png": "[encoded data removed]",
            "text/plain": [
              "<Figure size 432x288 with 1 Axes>"
            ]
          },
          "metadata": {
            "tags": []
          }
        }
      ]
    },
    {
      "metadata": {
        "id": "w87M2JtUUW70",
        "colab_type": "code",
        "colab": {
          "base_uri": "https://localhost:8080/",
          "height": 431
        },
        "outputId": "48866a4e-3740-4be5-f1db-32513d38d9f3"
      },
      "cell_type": "code",
      "source": [
        "plt.style.use('fivethirtyeight')\n",
        "\n",
        "fake = pd.Series([19,17,16,13,13,12,10,10,10,10],\n",
        "                index=('Fareed Zakaria','Denis Leary','Brian Williams',\n",
        "                           'Ricky Gervais', 'Paul Rudd', 'Tom Brokaw', 'Reza Aslan'\n",
        "                           , 'Richard Lewis', 'Will Ferrell', \"Bill O'Reilly\"))\n",
        "\n",
        "ax = fake.plot.bar(color='#ef7030', width=0.9);\n",
        "\n",
        "ax.set(xlabel='Guest Names', ylabel='Number of Visits', \n",
        "      yticks=range(0,20,2),\n",
        "      facecolor='#f3f9f9')\n",
        "\n",
        "fig.patch.set_facecolor\n",
        "\n",
        "ax.text(x=-2, y=22, s=\"The Daily Show's Most Daily Guests from 1999 to 2015\",\n",
        "       fontsize=14, fontweight='bold');\n",
        "ax.text(x=-2, y=20, s=\"Jon Stewart's TOP 10 \",\n",
        "       fontsize=12, fontweight='bold');\n",
        "\n",
        "ax.tick_params()"
      ],
      "execution_count": 125,
      "outputs": [
        {
          "output_type": "display_data",
          "data": {
            "image/png": "[encoded data removed]",
            "text/plain": [
              "<Figure size 432x288 with 1 Axes>"
            ]
          },
          "metadata": {
            "tags": []
          }
        }
      ]
    },
    {
      "metadata": {
        "id": "idnKJm-SVYKT",
        "colab_type": "code",
        "colab": {}
      },
      "cell_type": "code",
      "source": [
        ""
      ],
      "execution_count": 0,
      "outputs": []
    }
  ]
}