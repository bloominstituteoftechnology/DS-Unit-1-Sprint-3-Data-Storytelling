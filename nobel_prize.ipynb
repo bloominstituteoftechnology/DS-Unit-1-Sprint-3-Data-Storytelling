{
  "nbformat": 4,
  "nbformat_minor": 0,
  "metadata": {
    "colab": {
      "name": "nobel prize.ipynb",
      "version": "0.3.2",
      "provenance": [],
      "collapsed_sections": [],
      "include_colab_link": true
    },
    "kernelspec": {
      "name": "python3",
      "display_name": "Python 3"
    }
  },
  "cells": [
    {
      "cell_type": "markdown",
      "metadata": {
        "id": "view-in-github",
        "colab_type": "text"
      },
      "source": [
        "<a href=\"https://colab.research.google.com/github/danhorsley/danhorsley-DS-Unit-1-Sprint-3-Data-Storytelling/blob/master/nobel_prize.ipynb\" target=\"_parent\"><img src=\"https://colab.research.google.com/assets/colab-badge.svg\" alt=\"Open In Colab\"/></a>"
      ]
    },
    {
      "metadata": {
        "id": "T0wDjgZYQF3P",
        "colab_type": "code",
        "colab": {
          "resources": {
            "http://localhost:8080/nbextensions/google.colab/files.js": {
              "data": "Ly8gQ29weXJpZ2h0IDIwMTcgR29vZ2xlIExMQwovLwovLyBMaWNlbnNlZCB1bmRlciB0aGUgQXBhY2hlIExpY2Vuc2UsIFZlcnNpb24gMi4wICh0aGUgIkxpY2Vuc2UiKTsKLy8geW91IG1heSBub3QgdXNlIHRoaXMgZmlsZSBleGNlcHQgaW4gY29tcGxpYW5jZSB3aXRoIHRoZSBMaWNlbnNlLgovLyBZb3UgbWF5IG9idGFpbiBhIGNvcHkgb2YgdGhlIExpY2Vuc2UgYXQKLy8KLy8gICAgICBodHRwOi8vd3d3LmFwYWNoZS5vcmcvbGljZW5zZXMvTElDRU5TRS0yLjAKLy8KLy8gVW5sZXNzIHJlcXVpcmVkIGJ5IGFwcGxpY2FibGUgbGF3IG9yIGFncmVlZCB0byBpbiB3cml0aW5nLCBzb2Z0d2FyZQovLyBkaXN0cmlidXRlZCB1bmRlciB0aGUgTGljZW5zZSBpcyBkaXN0cmlidXRlZCBvbiBhbiAiQVMgSVMiIEJBU0lTLAovLyBXSVRIT1VUIFdBUlJBTlRJRVMgT1IgQ09ORElUSU9OUyBPRiBBTlkgS0lORCwgZWl0aGVyIGV4cHJlc3Mgb3IgaW1wbGllZC4KLy8gU2VlIHRoZSBMaWNlbnNlIGZvciB0aGUgc3BlY2lmaWMgbGFuZ3VhZ2UgZ292ZXJuaW5nIHBlcm1pc3Npb25zIGFuZAovLyBsaW1pdGF0aW9ucyB1bmRlciB0aGUgTGljZW5zZS4KCi8qKgogKiBAZmlsZW92ZXJ2aWV3IEhlbHBlcnMgZm9yIGdvb2dsZS5jb2xhYiBQeXRob24gbW9kdWxlLgogKi8KKGZ1bmN0aW9uKHNjb3BlKSB7CmZ1bmN0aW9uIHNwYW4odGV4dCwgc3R5bGVBdHRyaWJ1dGVzID0ge30pIHsKICBjb25zdCBlbGVtZW50ID0gZG9jdW1lbnQuY3JlYXRlRWxlbWVudCgnc3BhbicpOwogIGVsZW1lbnQudGV4dENvbnRlbnQgPSB0ZXh0OwogIGZvciAoY29uc3Qga2V5IG9mIE9iamVjdC5rZXlzKHN0eWxlQXR0cmlidXRlcykpIHsKICAgIGVsZW1lbnQuc3R5bGVba2V5XSA9IHN0eWxlQXR0cmlidXRlc1trZXldOwogIH0KICByZXR1cm4gZWxlbWVudDsKfQoKLy8gTWF4IG51bWJlciBvZiBieXRlcyB3aGljaCB3aWxsIGJlIHVwbG9hZGVkIGF0IGEgdGltZS4KY29uc3QgTUFYX1BBWUxPQURfU0laRSA9IDEwMCAqIDEwMjQ7Ci8vIE1heCBhbW91bnQgb2YgdGltZSB0byBibG9jayB3YWl0aW5nIGZvciB0aGUgdXNlci4KY29uc3QgRklMRV9DSEFOR0VfVElNRU9VVF9NUyA9IDMwICogMTAwMDsKCmZ1bmN0aW9uIF91cGxvYWRGaWxlcyhpbnB1dElkLCBvdXRwdXRJZCkgewogIGNvbnN0IHN0ZXBzID0gdXBsb2FkRmlsZXNTdGVwKGlucHV0SWQsIG91dHB1dElkKTsKICBjb25zdCBvdXRwdXRFbGVtZW50ID0gZG9jdW1lbnQuZ2V0RWxlbWVudEJ5SWQob3V0cHV0SWQpOwogIC8vIENhY2hlIHN0ZXBzIG9uIHRoZSBvdXRwdXRFbGVtZW50IHRvIG1ha2UgaXQgYXZhaWxhYmxlIGZvciB0aGUgbmV4dCBjYWxsCiAgLy8gdG8gdXBsb2FkRmlsZXNDb250aW51ZSBmcm9tIFB5dGhvbi4KICBvdXRwdXRFbGVtZW50LnN0ZXBzID0gc3RlcHM7CgogIHJldHVybiBfdXBsb2FkRmlsZXNDb250aW51ZShvdXRwdXRJZCk7Cn0KCi8vIFRoaXMgaXMgcm91Z2hseSBhbiBhc3luYyBnZW5lcmF0b3IgKG5vdCBzdXBwb3J0ZWQgaW4gdGhlIGJyb3dzZXIgeWV0KSwKLy8gd2hlcmUgdGhlcmUgYXJlIG11bHRpcGxlIGFzeW5jaHJvbm91cyBzdGVwcyBhbmQgdGhlIFB5dGhvbiBzaWRlIGlzIGdvaW5nCi8vIHRvIHBvbGwgZm9yIGNvbXBsZXRpb24gb2YgZWFjaCBzdGVwLgovLyBUaGlzIHVzZXMgYSBQcm9taXNlIHRvIGJsb2NrIHRoZSBweXRob24gc2lkZSBvbiBjb21wbGV0aW9uIG9mIGVhY2ggc3RlcCwKLy8gdGhlbiBwYXNzZXMgdGhlIHJlc3VsdCBvZiB0aGUgcHJldmlvdXMgc3RlcCBhcyB0aGUgaW5wdXQgdG8gdGhlIG5leHQgc3RlcC4KZnVuY3Rpb24gX3VwbG9hZEZpbGVzQ29udGludWUob3V0cHV0SWQpIHsKICBjb25zdCBvdXRwdXRFbGVtZW50ID0gZG9jdW1lbnQuZ2V0RWxlbWVudEJ5SWQob3V0cHV0SWQpOwogIGNvbnN0IHN0ZXBzID0gb3V0cHV0RWxlbWVudC5zdGVwczsKCiAgY29uc3QgbmV4dCA9IHN0ZXBzLm5leHQob3V0cHV0RWxlbWVudC5sYXN0UHJvbWlzZVZhbHVlKTsKICByZXR1cm4gUHJvbWlzZS5yZXNvbHZlKG5leHQudmFsdWUucHJvbWlzZSkudGhlbigodmFsdWUpID0+IHsKICAgIC8vIENhY2hlIHRoZSBsYXN0IHByb21pc2UgdmFsdWUgdG8gbWFrZSBpdCBhdmFpbGFibGUgdG8gdGhlIG5leHQKICAgIC8vIHN0ZXAgb2YgdGhlIGdlbmVyYXRvci4KICAgIG91dHB1dEVsZW1lbnQubGFzdFByb21pc2VWYWx1ZSA9IHZhbHVlOwogICAgcmV0dXJuIG5leHQudmFsdWUucmVzcG9uc2U7CiAgfSk7Cn0KCi8qKgogKiBHZW5lcmF0b3IgZnVuY3Rpb24gd2hpY2ggaXMgY2FsbGVkIGJldHdlZW4gZWFjaCBhc3luYyBzdGVwIG9mIHRoZSB1cGxvYWQKICogcHJvY2Vzcy4KICogQHBhcmFtIHtzdHJpbmd9IGlucHV0SWQgRWxlbWVudCBJRCBvZiB0aGUgaW5wdXQgZmlsZSBwaWNrZXIgZWxlbWVudC4KICogQHBhcmFtIHtzdHJpbmd9IG91dHB1dElkIEVsZW1lbnQgSUQgb2YgdGhlIG91dHB1dCBkaXNwbGF5LgogKiBAcmV0dXJuIHshSXRlcmFibGU8IU9iamVjdD59IEl0ZXJhYmxlIG9mIG5leHQgc3RlcHMuCiAqLwpmdW5jdGlvbiogdXBsb2FkRmlsZXNTdGVwKGlucHV0SWQsIG91dHB1dElkKSB7CiAgY29uc3QgaW5wdXRFbGVtZW50ID0gZG9jdW1lbnQuZ2V0RWxlbWVudEJ5SWQoaW5wdXRJZCk7CiAgaW5wdXRFbGVtZW50LmRpc2FibGVkID0gZmFsc2U7CgogIGNvbnN0IG91dHB1dEVsZW1lbnQgPSBkb2N1bWVudC5nZXRFbGVtZW50QnlJZChvdXRwdXRJZCk7CiAgb3V0cHV0RWxlbWVudC5pbm5lckhUTUwgPSAnJzsKCiAgY29uc3QgcGlja2VkUHJvbWlzZSA9IG5ldyBQcm9taXNlKChyZXNvbHZlKSA9PiB7CiAgICBpbnB1dEVsZW1lbnQuYWRkRXZlbnRMaXN0ZW5lcignY2hhbmdlJywgKGUpID0+IHsKICAgICAgcmVzb2x2ZShlLnRhcmdldC5maWxlcyk7CiAgICB9KTsKICB9KTsKCiAgY29uc3QgY2FuY2VsID0gZG9jdW1lbnQuY3JlYXRlRWxlbWVudCgnYnV0dG9uJyk7CiAgaW5wdXRFbGVtZW50LnBhcmVudEVsZW1lbnQuYXBwZW5kQ2hpbGQoY2FuY2VsKTsKICBjYW5jZWwudGV4dENvbnRlbnQgPSAnQ2FuY2VsIHVwbG9hZCc7CiAgY29uc3QgY2FuY2VsUHJvbWlzZSA9IG5ldyBQcm9taXNlKChyZXNvbHZlKSA9PiB7CiAgICBjYW5jZWwub25jbGljayA9ICgpID0+IHsKICAgICAgcmVzb2x2ZShudWxsKTsKICAgIH07CiAgfSk7CgogIC8vIENhbmNlbCB1cGxvYWQgaWYgdXNlciBoYXNuJ3QgcGlja2VkIGFueXRoaW5nIGluIHRpbWVvdXQuCiAgY29uc3QgdGltZW91dFByb21pc2UgPSBuZXcgUHJvbWlzZSgocmVzb2x2ZSkgPT4gewogICAgc2V0VGltZW91dCgoKSA9PiB7CiAgICAgIHJlc29sdmUobnVsbCk7CiAgICB9LCBGSUxFX0NIQU5HRV9USU1FT1VUX01TKTsKICB9KTsKCiAgLy8gV2FpdCBmb3IgdGhlIHVzZXIgdG8gcGljayB0aGUgZmlsZXMuCiAgY29uc3QgZmlsZXMgPSB5aWVsZCB7CiAgICBwcm9taXNlOiBQcm9taXNlLnJhY2UoW3BpY2tlZFByb21pc2UsIHRpbWVvdXRQcm9taXNlLCBjYW5jZWxQcm9taXNlXSksCiAgICByZXNwb25zZTogewogICAgICBhY3Rpb246ICdzdGFydGluZycsCiAgICB9CiAgfTsKCiAgaWYgKCFmaWxlcykgewogICAgcmV0dXJuIHsKICAgICAgcmVzcG9uc2U6IHsKICAgICAgICBhY3Rpb246ICdjb21wbGV0ZScsCiAgICAgIH0KICAgIH07CiAgfQoKICBjYW5jZWwucmVtb3ZlKCk7CgogIC8vIERpc2FibGUgdGhlIGlucHV0IGVsZW1lbnQgc2luY2UgZnVydGhlciBwaWNrcyBhcmUgbm90IGFsbG93ZWQuCiAgaW5wdXRFbGVtZW50LmRpc2FibGVkID0gdHJ1ZTsKCiAgZm9yIChjb25zdCBmaWxlIG9mIGZpbGVzKSB7CiAgICBjb25zdCBsaSA9IGRvY3VtZW50LmNyZWF0ZUVsZW1lbnQoJ2xpJyk7CiAgICBsaS5hcHBlbmQoc3BhbihmaWxlLm5hbWUsIHtmb250V2VpZ2h0OiAnYm9sZCd9KSk7CiAgICBsaS5hcHBlbmQoc3BhbigKICAgICAgICBgKCR7ZmlsZS50eXBlIHx8ICduL2EnfSkgLSAke2ZpbGUuc2l6ZX0gYnl0ZXMsIGAgKwogICAgICAgIGBsYXN0IG1vZGlmaWVkOiAkewogICAgICAgICAgICBmaWxlLmxhc3RNb2RpZmllZERhdGUgPyBmaWxlLmxhc3RNb2RpZmllZERhdGUudG9Mb2NhbGVEYXRlU3RyaW5nKCkgOgogICAgICAgICAgICAgICAgICAgICAgICAgICAgICAgICAgICAnbi9hJ30gLSBgKSk7CiAgICBjb25zdCBwZXJjZW50ID0gc3BhbignMCUgZG9uZScpOwogICAgbGkuYXBwZW5kQ2hpbGQocGVyY2VudCk7CgogICAgb3V0cHV0RWxlbWVudC5hcHBlbmRDaGlsZChsaSk7CgogICAgY29uc3QgZmlsZURhdGFQcm9taXNlID0gbmV3IFByb21pc2UoKHJlc29sdmUpID0+IHsKICAgICAgY29uc3QgcmVhZGVyID0gbmV3IEZpbGVSZWFkZXIoKTsKICAgICAgcmVhZGVyLm9ubG9hZCA9IChlKSA9PiB7CiAgICAgICAgcmVzb2x2ZShlLnRhcmdldC5yZXN1bHQpOwogICAgICB9OwogICAgICByZWFkZXIucmVhZEFzQXJyYXlCdWZmZXIoZmlsZSk7CiAgICB9KTsKICAgIC8vIFdhaXQgZm9yIHRoZSBkYXRhIHRvIGJlIHJlYWR5LgogICAgbGV0IGZpbGVEYXRhID0geWllbGQgewogICAgICBwcm9taXNlOiBmaWxlRGF0YVByb21pc2UsCiAgICAgIHJlc3BvbnNlOiB7CiAgICAgICAgYWN0aW9uOiAnY29udGludWUnLAogICAgICB9CiAgICB9OwoKICAgIC8vIFVzZSBhIGNodW5rZWQgc2VuZGluZyB0byBhdm9pZCBtZXNzYWdlIHNpemUgbGltaXRzLiBTZWUgYi82MjExNTY2MC4KICAgIGxldCBwb3NpdGlvbiA9IDA7CiAgICB3aGlsZSAocG9zaXRpb24gPCBmaWxlRGF0YS5ieXRlTGVuZ3RoKSB7CiAgICAgIGNvbnN0IGxlbmd0aCA9IE1hdGgubWluKGZpbGVEYXRhLmJ5dGVMZW5ndGggLSBwb3NpdGlvbiwgTUFYX1BBWUxPQURfU0laRSk7CiAgICAgIGNvbnN0IGNodW5rID0gbmV3IFVpbnQ4QXJyYXkoZmlsZURhdGEsIHBvc2l0aW9uLCBsZW5ndGgpOwogICAgICBwb3NpdGlvbiArPSBsZW5ndGg7CgogICAgICBjb25zdCBiYXNlNjQgPSBidG9hKFN0cmluZy5mcm9tQ2hhckNvZGUuYXBwbHkobnVsbCwgY2h1bmspKTsKICAgICAgeWllbGQgewogICAgICAgIHJlc3BvbnNlOiB7CiAgICAgICAgICBhY3Rpb246ICdhcHBlbmQnLAogICAgICAgICAgZmlsZTogZmlsZS5uYW1lLAogICAgICAgICAgZGF0YTogYmFzZTY0LAogICAgICAgIH0sCiAgICAgIH07CiAgICAgIHBlcmNlbnQudGV4dENvbnRlbnQgPQogICAgICAgICAgYCR7TWF0aC5yb3VuZCgocG9zaXRpb24gLyBmaWxlRGF0YS5ieXRlTGVuZ3RoKSAqIDEwMCl9JSBkb25lYDsKICAgIH0KICB9CgogIC8vIEFsbCBkb25lLgogIHlpZWxkIHsKICAgIHJlc3BvbnNlOiB7CiAgICAgIGFjdGlvbjogJ2NvbXBsZXRlJywKICAgIH0KICB9Owp9CgpzY29wZS5nb29nbGUgPSBzY29wZS5nb29nbGUgfHwge307CnNjb3BlLmdvb2dsZS5jb2xhYiA9IHNjb3BlLmdvb2dsZS5jb2xhYiB8fCB7fTsKc2NvcGUuZ29vZ2xlLmNvbGFiLl9maWxlcyA9IHsKICBfdXBsb2FkRmlsZXMsCiAgX3VwbG9hZEZpbGVzQ29udGludWUsCn07Cn0pKHNlbGYpOwo=",
              "ok": true,
              "headers": [
                [
                  "content-type",
                  "application/javascript"
                ]
              ],
              "status": 200,
              "status_text": ""
            }
          },
          "base_uri": "https://localhost:8080/",
          "height": 75
        },
        "outputId": "8809bffb-29d3-400d-86aa-f86340abbce6"
      },
      "cell_type": "code",
      "source": [
        "from google.colab import files\n",
        "uploaded = files.upload()"
      ],
      "execution_count": 1,
      "outputs": [
        {
          "output_type": "display_data",
          "data": {
            "text/html": [
              "\n",
              "     <input type=\"file\" id=\"files-696be87f-f60f-4e53-b01f-367f28e94455\" name=\"files[]\" multiple disabled />\n",
              "     <output id=\"result-696be87f-f60f-4e53-b01f-367f28e94455\">\n",
              "      Upload widget is only available when the cell has been executed in the\n",
              "      current browser session. Please rerun this cell to enable.\n",
              "      </output>\n",
              "      <script src=\"/nbextensions/google.colab/files.js\"></script> "
            ],
            "text/plain": [
              "<IPython.core.display.HTML object>"
            ]
          },
          "metadata": {
            "tags": []
          }
        },
        {
          "output_type": "stream",
          "text": [
            "Saving nobel_prize_by_winner.csv to nobel_prize_by_winner.csv\n"
          ],
          "name": "stdout"
        }
      ]
    },
    {
      "metadata": {
        "id": "Qgsii6TiQWOQ",
        "colab_type": "code",
        "colab": {}
      },
      "cell_type": "code",
      "source": [
        "import pandas as pd\n",
        "import numpy as np\n",
        "nobel_prize = pd.read_csv('nobel_prize_by_winner.csv', encoding = \"ISO-8859-1\")"
      ],
      "execution_count": 0,
      "outputs": []
    },
    {
      "metadata": {
        "id": "UndprJsiQcpb",
        "colab_type": "code",
        "colab": {}
      },
      "cell_type": "code",
      "source": [
        "#lots and lots of data cleaning - changing to date time - missing years - changing archaic country names etc etc\n",
        "nobel_prize['died'] = nobel_prize['died'].str.replace('0000-00-00','4/2/2019')\n",
        "nobel_prize = nobel_prize[nobel_prize['born'] != '0000/00/00']\n",
        "nobel_prize['year'] = nobel_prize['year'].astype(int).astype(str)\n",
        "nobel_prize.at[ 506,'born'] = '1/1/1943'\n",
        "nobel_prize.at[ 945,'born'] = '1/1/1898'\n",
        "nobel_prize['born'] = pd.to_datetime(nobel_prize['born'], infer_datetime_format=True)\n",
        "nobel_prize['died'] = pd.to_datetime(nobel_prize['died'], infer_datetime_format=True)\n",
        "nobel_prize['year'] = pd.to_datetime(nobel_prize['year'], format='%Y')\n",
        "nobel_prize['surname'] = nobel_prize['surname'].fillna('')\n",
        "nobel_prize['full_name'] =nobel_prize[['firstname', 'surname']].apply(lambda x: ' '.join(x), axis=1)"
      ],
      "execution_count": 0,
      "outputs": []
    },
    {
      "metadata": {
        "id": "9SuGAUpOQzOL",
        "colab_type": "code",
        "colab": {
          "base_uri": "https://localhost:8080/",
          "height": 387
        },
        "outputId": "10eac63c-9fbb-41b4-fac5-51fc6b895c62"
      },
      "cell_type": "code",
      "source": [
        "nobel_prize.head(3)"
      ],
      "execution_count": 6,
      "outputs": [
        {
          "output_type": "execute_result",
          "data": {
            "text/html": [
              "<div>\n",
              "<style scoped>\n",
              "    .dataframe tbody tr th:only-of-type {\n",
              "        vertical-align: middle;\n",
              "    }\n",
              "\n",
              "    .dataframe tbody tr th {\n",
              "        vertical-align: top;\n",
              "    }\n",
              "\n",
              "    .dataframe thead th {\n",
              "        text-align: right;\n",
              "    }\n",
              "</style>\n",
              "<table border=\"1\" class=\"dataframe\">\n",
              "  <thead>\n",
              "    <tr style=\"text-align: right;\">\n",
              "      <th></th>\n",
              "      <th>id</th>\n",
              "      <th>firstname</th>\n",
              "      <th>surname</th>\n",
              "      <th>born</th>\n",
              "      <th>died</th>\n",
              "      <th>bornCountry</th>\n",
              "      <th>bornCountryCode</th>\n",
              "      <th>bornCity</th>\n",
              "      <th>diedCountry</th>\n",
              "      <th>diedCountryCode</th>\n",
              "      <th>...</th>\n",
              "      <th>gender</th>\n",
              "      <th>year</th>\n",
              "      <th>category</th>\n",
              "      <th>overallMotivation</th>\n",
              "      <th>share</th>\n",
              "      <th>motivation</th>\n",
              "      <th>name</th>\n",
              "      <th>city</th>\n",
              "      <th>country</th>\n",
              "      <th>full_name</th>\n",
              "    </tr>\n",
              "  </thead>\n",
              "  <tbody>\n",
              "    <tr>\n",
              "      <th>0</th>\n",
              "      <td>846</td>\n",
              "      <td>Elinor</td>\n",
              "      <td>Ostrom</td>\n",
              "      <td>1933-08-07</td>\n",
              "      <td>2012-06-12</td>\n",
              "      <td>USA</td>\n",
              "      <td>US</td>\n",
              "      <td>Los Angeles, CA</td>\n",
              "      <td>USA</td>\n",
              "      <td>US</td>\n",
              "      <td>...</td>\n",
              "      <td>female</td>\n",
              "      <td>2009-01-01</td>\n",
              "      <td>economics</td>\n",
              "      <td>NaN</td>\n",
              "      <td>2.0</td>\n",
              "      <td>\"for her analysis of economic governance, espe...</td>\n",
              "      <td>Indiana University</td>\n",
              "      <td>Bloomington, IN</td>\n",
              "      <td>USA</td>\n",
              "      <td>Elinor Ostrom</td>\n",
              "    </tr>\n",
              "    <tr>\n",
              "      <th>1</th>\n",
              "      <td>846</td>\n",
              "      <td>Elinor</td>\n",
              "      <td>Ostrom</td>\n",
              "      <td>1933-08-07</td>\n",
              "      <td>2012-06-12</td>\n",
              "      <td>USA</td>\n",
              "      <td>US</td>\n",
              "      <td>Los Angeles, CA</td>\n",
              "      <td>USA</td>\n",
              "      <td>US</td>\n",
              "      <td>...</td>\n",
              "      <td>female</td>\n",
              "      <td>2009-01-01</td>\n",
              "      <td>economics</td>\n",
              "      <td>NaN</td>\n",
              "      <td>2.0</td>\n",
              "      <td>\"for her analysis of economic governance, espe...</td>\n",
              "      <td>Arizona State University</td>\n",
              "      <td>Tempe, AZ</td>\n",
              "      <td>USA</td>\n",
              "      <td>Elinor Ostrom</td>\n",
              "    </tr>\n",
              "    <tr>\n",
              "      <th>2</th>\n",
              "      <td>783</td>\n",
              "      <td>Wangari Muta</td>\n",
              "      <td>Maathai</td>\n",
              "      <td>1940-04-01</td>\n",
              "      <td>2011-09-25</td>\n",
              "      <td>Kenya</td>\n",
              "      <td>KE</td>\n",
              "      <td>Nyeri</td>\n",
              "      <td>Kenya</td>\n",
              "      <td>KE</td>\n",
              "      <td>...</td>\n",
              "      <td>female</td>\n",
              "      <td>2004-01-01</td>\n",
              "      <td>peace</td>\n",
              "      <td>NaN</td>\n",
              "      <td>1.0</td>\n",
              "      <td>\"for her contribution to sustainable developme...</td>\n",
              "      <td>NaN</td>\n",
              "      <td>NaN</td>\n",
              "      <td>NaN</td>\n",
              "      <td>Wangari Muta Maathai</td>\n",
              "    </tr>\n",
              "  </tbody>\n",
              "</table>\n",
              "<p>3 rows × 21 columns</p>\n",
              "</div>"
            ],
            "text/plain": [
              "    id     firstname  surname       born       died bornCountry  \\\n",
              "0  846        Elinor   Ostrom 1933-08-07 2012-06-12         USA   \n",
              "1  846        Elinor   Ostrom 1933-08-07 2012-06-12         USA   \n",
              "2  783  Wangari Muta  Maathai 1940-04-01 2011-09-25       Kenya   \n",
              "\n",
              "  bornCountryCode         bornCity diedCountry diedCountryCode  \\\n",
              "0              US  Los Angeles, CA         USA              US   \n",
              "1              US  Los Angeles, CA         USA              US   \n",
              "2              KE            Nyeri       Kenya              KE   \n",
              "\n",
              "           ...           gender       year   category overallMotivation share  \\\n",
              "0          ...           female 2009-01-01  economics               NaN   2.0   \n",
              "1          ...           female 2009-01-01  economics               NaN   2.0   \n",
              "2          ...           female 2004-01-01      peace               NaN   1.0   \n",
              "\n",
              "                                          motivation  \\\n",
              "0  \"for her analysis of economic governance, espe...   \n",
              "1  \"for her analysis of economic governance, espe...   \n",
              "2  \"for her contribution to sustainable developme...   \n",
              "\n",
              "                       name             city country             full_name  \n",
              "0        Indiana University  Bloomington, IN     USA         Elinor Ostrom  \n",
              "1  Arizona State University        Tempe, AZ     USA         Elinor Ostrom  \n",
              "2                       NaN              NaN     NaN  Wangari Muta Maathai  \n",
              "\n",
              "[3 rows x 21 columns]"
            ]
          },
          "metadata": {
            "tags": []
          },
          "execution_count": 6
        }
      ]
    },
    {
      "metadata": {
        "id": "l6q5e4WDQ1GU",
        "colab_type": "code",
        "colab": {
          "base_uri": "https://localhost:8080/",
          "height": 35
        },
        "outputId": "fe49607c-ee69-4f7b-bff1-f81fa75da042"
      },
      "cell_type": "code",
      "source": [
        "nobel_prize['bornCountryCode'].isna().sum(), nobel_prize['country'].isna().sum()"
      ],
      "execution_count": 16,
      "outputs": [
        {
          "output_type": "execute_result",
          "data": {
            "text/plain": [
              "(0, 251)"
            ]
          },
          "metadata": {
            "tags": []
          },
          "execution_count": 16
        }
      ]
    },
    {
      "metadata": {
        "id": "702GOR84RE3E",
        "colab_type": "code",
        "colab": {}
      },
      "cell_type": "code",
      "source": [
        "nobel_prize[nobel_prize['bornCountryCode'].isna()]"
      ],
      "execution_count": 0,
      "outputs": []
    },
    {
      "metadata": {
        "id": "g_Y99Gn1RWjf",
        "colab_type": "code",
        "colab": {}
      },
      "cell_type": "code",
      "source": [
        "nobel_prize['bornCountry'] = nobel_prize['bornCountry'].replace(np.nan,'International Organization')\n",
        "nobel_prize['bornCountryCode'] = nobel_prize['bornCountryCode'].replace(np.nan,'IO')"
      ],
      "execution_count": 0,
      "outputs": []
    },
    {
      "metadata": {
        "id": "oyK3mUSWS1sE",
        "colab_type": "code",
        "colab": {}
      },
      "cell_type": "code",
      "source": [
        "#binning times and makign a crosstab - but there were too many old country names so we had to use regex to clean it up\n",
        "win_time_bin = pd.cut(nobel_prize['year'], 10) "
      ],
      "execution_count": 0,
      "outputs": []
    },
    {
      "metadata": {
        "id": "b5Z8nYkGUm-r",
        "colab_type": "code",
        "colab": {}
      },
      "cell_type": "code",
      "source": [
        "pd.crosstab(nobel_prize['bornCountry'], win_time_bin).head()"
      ],
      "execution_count": 0,
      "outputs": []
    },
    {
      "metadata": {
        "id": "ZRlpyVOlUxzQ",
        "colab_type": "code",
        "colab": {}
      },
      "cell_type": "code",
      "source": [
        "#list of all the archaic names\n",
        "nobel_prize[nobel_prize['bornCountry'].str.contains(\"\\(\\now \")]"
      ],
      "execution_count": 0,
      "outputs": []
    },
    {
      "metadata": {
        "id": "H0Nb3TM2Vg8V",
        "colab_type": "code",
        "colab": {
          "base_uri": "https://localhost:8080/",
          "height": 35
        },
        "outputId": "b0c13b50-2f15-4f32-9432-4e9340e9f472"
      },
      "cell_type": "code",
      "source": [
        "import re\n",
        "#testing re to make sure it works on one example\n",
        "test_str = 'British India (now Bangladesh)'\n",
        "\n",
        "re.sub(r'([\\sA-Za-z0-9-]+\\s\\(\\w+\\s)([A-Za-z]+)',r'\\2',test_str).strip(')')"
      ],
      "execution_count": 80,
      "outputs": [
        {
          "output_type": "execute_result",
          "data": {
            "text/plain": [
              "'Bangladesh'"
            ]
          },
          "metadata": {
            "tags": []
          },
          "execution_count": 80
        }
      ]
    },
    {
      "metadata": {
        "id": "ajprHXKAdpTo",
        "colab_type": "code",
        "colab": {}
      },
      "cell_type": "code",
      "source": [
        "#making new column with cleansed country names\n",
        "cleanlist = []\n",
        "clist = list(nobel_prize['bornCountry']) \n",
        "for country in clist:\n",
        "  aaa = re.sub(r'([\\sA-Za-z0-9-]+\\s\\(\\w+\\s)([A-Za-z]+)',r'\\2',country).strip(')')\n",
        "  cleanlist.append(aaa)\n",
        "  \n",
        "\n",
        "  #W&uuml;Germany #Faroe Islands (Denmark\n",
        "nobel_prize['country of birth']=cleanlist\n",
        "nobel_prize['country of birth'] = nobel_prize['country of birth'].str.replace('W&uuml;Germany','Germany')\n",
        "nobel_prize['country of birth'] = nobel_prize['country of birth'].str.replace('Faroe Islands \\(\\Denmark','Denmark')\n",
        "top_winners = list(nobel_prize['country of birth'].value_counts().head(5).index)\n",
        "  "
      ],
      "execution_count": 0,
      "outputs": []
    },
    {
      "metadata": {
        "id": "kaXS8w00ho2x",
        "colab_type": "code",
        "colab": {}
      },
      "cell_type": "code",
      "source": [
        "#makign a column just of the year of win\n",
        "nobel_prize['year of win'] =nobel_prize['year'].dt.year"
      ],
      "execution_count": 0,
      "outputs": []
    },
    {
      "metadata": {
        "id": "85f2RnicZVvG",
        "colab_type": "code",
        "colab": {
          "base_uri": "https://localhost:8080/",
          "height": 274
        },
        "outputId": "29c27a0d-0159-4b64-fb08-028222b10ad9"
      },
      "cell_type": "code",
      "source": [
        "#makign cross tab of country vs year bin\n",
        "nobel_top = nobel_prize[nobel_prize['country of birth'].isin(top_winners)]\n",
        "win_time_bin_top = pd.cut(nobel_top['year of win'], 10,precision=0) \n",
        "nobel_ct = pd.crosstab(nobel_top['country of birth'], win_time_bin_top).head()\n",
        "nobel_ct"
      ],
      "execution_count": 104,
      "outputs": [
        {
          "output_type": "execute_result",
          "data": {
            "text/html": [
              "<div>\n",
              "<style scoped>\n",
              "    .dataframe tbody tr th:only-of-type {\n",
              "        vertical-align: middle;\n",
              "    }\n",
              "\n",
              "    .dataframe tbody tr th {\n",
              "        vertical-align: top;\n",
              "    }\n",
              "\n",
              "    .dataframe thead th {\n",
              "        text-align: right;\n",
              "    }\n",
              "</style>\n",
              "<table border=\"1\" class=\"dataframe\">\n",
              "  <thead>\n",
              "    <tr style=\"text-align: right;\">\n",
              "      <th>year of win</th>\n",
              "      <th>(1901.0, 1912.0]</th>\n",
              "      <th>(1912.0, 1924.0]</th>\n",
              "      <th>(1924.0, 1935.0]</th>\n",
              "      <th>(1935.0, 1947.0]</th>\n",
              "      <th>(1947.0, 1958.0]</th>\n",
              "      <th>(1958.0, 1969.0]</th>\n",
              "      <th>(1969.0, 1981.0]</th>\n",
              "      <th>(1981.0, 1992.0]</th>\n",
              "      <th>(1992.0, 2004.0]</th>\n",
              "      <th>(2004.0, 2015.0]</th>\n",
              "    </tr>\n",
              "    <tr>\n",
              "      <th>country of birth</th>\n",
              "      <th></th>\n",
              "      <th></th>\n",
              "      <th></th>\n",
              "      <th></th>\n",
              "      <th></th>\n",
              "      <th></th>\n",
              "      <th></th>\n",
              "      <th></th>\n",
              "      <th></th>\n",
              "      <th></th>\n",
              "    </tr>\n",
              "  </thead>\n",
              "  <tbody>\n",
              "    <tr>\n",
              "      <th>France</th>\n",
              "      <td>12</td>\n",
              "      <td>5</td>\n",
              "      <td>8</td>\n",
              "      <td>1</td>\n",
              "      <td>5</td>\n",
              "      <td>7</td>\n",
              "      <td>5</td>\n",
              "      <td>5</td>\n",
              "      <td>0</td>\n",
              "      <td>7</td>\n",
              "    </tr>\n",
              "    <tr>\n",
              "      <th>Germany</th>\n",
              "      <td>11</td>\n",
              "      <td>7</td>\n",
              "      <td>15</td>\n",
              "      <td>6</td>\n",
              "      <td>9</td>\n",
              "      <td>8</td>\n",
              "      <td>8</td>\n",
              "      <td>14</td>\n",
              "      <td>4</td>\n",
              "      <td>7</td>\n",
              "    </tr>\n",
              "    <tr>\n",
              "      <th>Russia</th>\n",
              "      <td>3</td>\n",
              "      <td>0</td>\n",
              "      <td>1</td>\n",
              "      <td>1</td>\n",
              "      <td>9</td>\n",
              "      <td>2</td>\n",
              "      <td>7</td>\n",
              "      <td>2</td>\n",
              "      <td>2</td>\n",
              "      <td>4</td>\n",
              "    </tr>\n",
              "    <tr>\n",
              "      <th>USA</th>\n",
              "      <td>2</td>\n",
              "      <td>3</td>\n",
              "      <td>13</td>\n",
              "      <td>16</td>\n",
              "      <td>22</td>\n",
              "      <td>23</td>\n",
              "      <td>39</td>\n",
              "      <td>35</td>\n",
              "      <td>55</td>\n",
              "      <td>65</td>\n",
              "    </tr>\n",
              "    <tr>\n",
              "      <th>United Kingdom</th>\n",
              "      <td>3</td>\n",
              "      <td>5</td>\n",
              "      <td>10</td>\n",
              "      <td>4</td>\n",
              "      <td>12</td>\n",
              "      <td>8</td>\n",
              "      <td>15</td>\n",
              "      <td>5</td>\n",
              "      <td>11</td>\n",
              "      <td>10</td>\n",
              "    </tr>\n",
              "  </tbody>\n",
              "</table>\n",
              "</div>"
            ],
            "text/plain": [
              "year of win       (1901.0, 1912.0]  (1912.0, 1924.0]  (1924.0, 1935.0]  \\\n",
              "country of birth                                                         \n",
              "France                          12                 5                 8   \n",
              "Germany                         11                 7                15   \n",
              "Russia                           3                 0                 1   \n",
              "USA                              2                 3                13   \n",
              "United Kingdom                   3                 5                10   \n",
              "\n",
              "year of win       (1935.0, 1947.0]  (1947.0, 1958.0]  (1958.0, 1969.0]  \\\n",
              "country of birth                                                         \n",
              "France                           1                 5                 7   \n",
              "Germany                          6                 9                 8   \n",
              "Russia                           1                 9                 2   \n",
              "USA                             16                22                23   \n",
              "United Kingdom                   4                12                 8   \n",
              "\n",
              "year of win       (1969.0, 1981.0]  (1981.0, 1992.0]  (1992.0, 2004.0]  \\\n",
              "country of birth                                                         \n",
              "France                           5                 5                 0   \n",
              "Germany                          8                14                 4   \n",
              "Russia                           7                 2                 2   \n",
              "USA                             39                35                55   \n",
              "United Kingdom                  15                 5                11   \n",
              "\n",
              "year of win       (2004.0, 2015.0]  \n",
              "country of birth                    \n",
              "France                           7  \n",
              "Germany                          7  \n",
              "Russia                           4  \n",
              "USA                             65  \n",
              "United Kingdom                  10  "
            ]
          },
          "metadata": {
            "tags": []
          },
          "execution_count": 104
        }
      ]
    },
    {
      "metadata": {
        "id": "NbXYWeJDapc_",
        "colab_type": "code",
        "colab": {
          "base_uri": "https://localhost:8080/",
          "height": 575
        },
        "outputId": "e96c4f99-1b28-4c08-d770-64ac3280272e"
      },
      "cell_type": "code",
      "source": [
        "#making stacked bar chart of winners by country and year bin of win\n",
        "import seaborn as sns\n",
        "sns.set()\n",
        "ax = nobel_ct.T.plot(kind='bar', stacked=True, colormap = 'Spectral')\n",
        "ax.figure.set_size_inches(15, 8)\n",
        "ax.set(facecolor='#f9f9f9')\n",
        "ax.set_title('Stacked Bar Chart - number of Nobel Prize winners by country and year of win');\n",
        "\n"
      ],
      "execution_count": 129,
      "outputs": [
        {
          "output_type": "display_data",
          "data": {
            "image/png": "[encoded data removed]",
            "text/plain": [
              "<Figure size 1080x576 with 1 Axes>"
            ]
          },
          "metadata": {
            "tags": []
          }
        }
      ]
    },
    {
      "metadata": {
        "id": "plsfr3VdXLsj",
        "colab_type": "code",
        "colab": {
          "base_uri": "https://localhost:8080/",
          "height": 223
        },
        "outputId": "0fc696a1-4a76-4b52-8db4-57af673c0362"
      },
      "cell_type": "code",
      "source": [
        "#now making new plot of subject vs country to see which countries are good in which areas - also expanding number of countries to top 20\n",
        "top_winners20 = list(nobel_prize['country of birth'].value_counts().head(20).index)\n",
        "nobel_top20 = nobel_prize[nobel_prize['country of birth'].isin(top_winners20)]\n",
        "ct_subject = pd.crosstab(nobel_top20['country of birth'], nobel_top20['category'])\n",
        "\n",
        "ct_subject.head()"
      ],
      "execution_count": 137,
      "outputs": [
        {
          "output_type": "execute_result",
          "data": {
            "text/html": [
              "<div>\n",
              "<style scoped>\n",
              "    .dataframe tbody tr th:only-of-type {\n",
              "        vertical-align: middle;\n",
              "    }\n",
              "\n",
              "    .dataframe tbody tr th {\n",
              "        vertical-align: top;\n",
              "    }\n",
              "\n",
              "    .dataframe thead th {\n",
              "        text-align: right;\n",
              "    }\n",
              "</style>\n",
              "<table border=\"1\" class=\"dataframe\">\n",
              "  <thead>\n",
              "    <tr style=\"text-align: right;\">\n",
              "      <th>category</th>\n",
              "      <th>chemistry</th>\n",
              "      <th>economics</th>\n",
              "      <th>literature</th>\n",
              "      <th>medicine</th>\n",
              "      <th>peace</th>\n",
              "      <th>physics</th>\n",
              "    </tr>\n",
              "    <tr>\n",
              "      <th>country of birth</th>\n",
              "      <th></th>\n",
              "      <th></th>\n",
              "      <th></th>\n",
              "      <th></th>\n",
              "      <th></th>\n",
              "      <th></th>\n",
              "    </tr>\n",
              "  </thead>\n",
              "  <tbody>\n",
              "    <tr>\n",
              "      <th>Australia</th>\n",
              "      <td>1</td>\n",
              "      <td>0</td>\n",
              "      <td>0</td>\n",
              "      <td>8</td>\n",
              "      <td>0</td>\n",
              "      <td>2</td>\n",
              "    </tr>\n",
              "    <tr>\n",
              "      <th>Austria</th>\n",
              "      <td>7</td>\n",
              "      <td>1</td>\n",
              "      <td>1</td>\n",
              "      <td>6</td>\n",
              "      <td>1</td>\n",
              "      <td>3</td>\n",
              "    </tr>\n",
              "    <tr>\n",
              "      <th>Canada</th>\n",
              "      <td>4</td>\n",
              "      <td>3</td>\n",
              "      <td>2</td>\n",
              "      <td>4</td>\n",
              "      <td>1</td>\n",
              "      <td>4</td>\n",
              "    </tr>\n",
              "    <tr>\n",
              "      <th>China</th>\n",
              "      <td>1</td>\n",
              "      <td>0</td>\n",
              "      <td>2</td>\n",
              "      <td>2</td>\n",
              "      <td>1</td>\n",
              "      <td>6</td>\n",
              "    </tr>\n",
              "    <tr>\n",
              "      <th>Denmark</th>\n",
              "      <td>1</td>\n",
              "      <td>0</td>\n",
              "      <td>4</td>\n",
              "      <td>4</td>\n",
              "      <td>1</td>\n",
              "      <td>2</td>\n",
              "    </tr>\n",
              "  </tbody>\n",
              "</table>\n",
              "</div>"
            ],
            "text/plain": [
              "category          chemistry  economics  literature  medicine  peace  physics\n",
              "country of birth                                                            \n",
              "Australia                 1          0           0         8      0        2\n",
              "Austria                   7          1           1         6      1        3\n",
              "Canada                    4          3           2         4      1        4\n",
              "China                     1          0           2         2      1        6\n",
              "Denmark                   1          0           4         4      1        2"
            ]
          },
          "metadata": {
            "tags": []
          },
          "execution_count": 137
        }
      ]
    },
    {
      "metadata": {
        "id": "SECst9Y8mgJS",
        "colab_type": "code",
        "colab": {
          "base_uri": "https://localhost:8080/",
          "height": 601
        },
        "outputId": "af4b66c2-17f3-420a-9f94-e54c5ee0cee1"
      },
      "cell_type": "code",
      "source": [
        "ax_subject = sns.heatmap(ct_subject.T,cmap='Blues')\n",
        "ax_subject.figure.set_size_inches(15, 8)"
      ],
      "execution_count": 140,
      "outputs": [
        {
          "output_type": "display_data",
          "data": {
            "image/png": "[encoded data removed]",
            "text/plain": [
              "<Figure size 1080x576 with 2 Axes>"
            ]
          },
          "metadata": {
            "tags": []
          }
        }
      ]
    },
    {
      "metadata": {
        "id": "TU51PpAPnJEQ",
        "colab_type": "code",
        "colab": {}
      },
      "cell_type": "code",
      "source": [
        "#now we will adjust for population to see who has the most outsized contribution\n",
        "\n",
        "df_pop = pd.read_csv('https://raw.githubusercontent.com/datasets/population/master/data/population.csv')\n",
        "\n",
        "df_pop = df_pop.rename(columns = {'Country Name':'country of birth'})\n",
        "#df_pop.groupby('Country Name')['Value'].head()\n",
        "df_pop = df_pop.set_index('country of birth')\n",
        "#df_pop.T.mean().head()\n",
        "#df_pop.agg(\"mean\", axis=\"columns\")\n",
        "pop_average = df_pop.groupby(level=0).mean()\n",
        "pop_average = pop_average.drop(['Year'], axis=1)\n",
        "pop_average.index = pop_average.index.str.replace('United States','USA')\n",
        "pop_average.index = pop_average.index.str.replace('Netherlands','the Netherlands')"
      ],
      "execution_count": 0,
      "outputs": []
    },
    {
      "metadata": {
        "id": "n-UjNIsOpMZZ",
        "colab_type": "code",
        "colab": {}
      },
      "cell_type": "code",
      "source": [
        "list(pop_average.index)"
      ],
      "execution_count": 0,
      "outputs": []
    },
    {
      "metadata": {
        "id": "0sckcrRPsGL9",
        "colab_type": "code",
        "colab": {}
      },
      "cell_type": "code",
      "source": [
        "merged = pd.merge(ct_subject, pop_average, left_index=True, right_index=True, how='inner')"
      ],
      "execution_count": 0,
      "outputs": []
    },
    {
      "metadata": {
        "id": "2RPkdL0YtQKR",
        "colab_type": "code",
        "colab": {
          "base_uri": "https://localhost:8080/",
          "height": 223
        },
        "outputId": "7ad070ae-9d96-41e5-d0bc-7651f7f926bd"
      },
      "cell_type": "code",
      "source": [
        "merged.head()"
      ],
      "execution_count": 194,
      "outputs": [
        {
          "output_type": "execute_result",
          "data": {
            "text/html": [
              "<div>\n",
              "<style scoped>\n",
              "    .dataframe tbody tr th:only-of-type {\n",
              "        vertical-align: middle;\n",
              "    }\n",
              "\n",
              "    .dataframe tbody tr th {\n",
              "        vertical-align: top;\n",
              "    }\n",
              "\n",
              "    .dataframe thead th {\n",
              "        text-align: right;\n",
              "    }\n",
              "</style>\n",
              "<table border=\"1\" class=\"dataframe\">\n",
              "  <thead>\n",
              "    <tr style=\"text-align: right;\">\n",
              "      <th></th>\n",
              "      <th>chemistry</th>\n",
              "      <th>economics</th>\n",
              "      <th>literature</th>\n",
              "      <th>medicine</th>\n",
              "      <th>peace</th>\n",
              "      <th>physics</th>\n",
              "      <th>Value</th>\n",
              "    </tr>\n",
              "    <tr>\n",
              "      <th>country of birth</th>\n",
              "      <th></th>\n",
              "      <th></th>\n",
              "      <th></th>\n",
              "      <th></th>\n",
              "      <th></th>\n",
              "      <th></th>\n",
              "      <th></th>\n",
              "    </tr>\n",
              "  </thead>\n",
              "  <tbody>\n",
              "    <tr>\n",
              "      <th>Australia</th>\n",
              "      <td>1</td>\n",
              "      <td>0</td>\n",
              "      <td>0</td>\n",
              "      <td>8</td>\n",
              "      <td>0</td>\n",
              "      <td>2</td>\n",
              "      <td>1.668664e+07</td>\n",
              "    </tr>\n",
              "    <tr>\n",
              "      <th>Austria</th>\n",
              "      <td>7</td>\n",
              "      <td>1</td>\n",
              "      <td>1</td>\n",
              "      <td>6</td>\n",
              "      <td>1</td>\n",
              "      <td>3</td>\n",
              "      <td>7.792513e+06</td>\n",
              "    </tr>\n",
              "    <tr>\n",
              "      <th>Canada</th>\n",
              "      <td>4</td>\n",
              "      <td>3</td>\n",
              "      <td>2</td>\n",
              "      <td>4</td>\n",
              "      <td>1</td>\n",
              "      <td>4</td>\n",
              "      <td>2.705982e+07</td>\n",
              "    </tr>\n",
              "    <tr>\n",
              "      <th>China</th>\n",
              "      <td>1</td>\n",
              "      <td>0</td>\n",
              "      <td>2</td>\n",
              "      <td>2</td>\n",
              "      <td>1</td>\n",
              "      <td>6</td>\n",
              "      <td>1.071848e+09</td>\n",
              "    </tr>\n",
              "    <tr>\n",
              "      <th>Denmark</th>\n",
              "      <td>1</td>\n",
              "      <td>0</td>\n",
              "      <td>4</td>\n",
              "      <td>4</td>\n",
              "      <td>1</td>\n",
              "      <td>2</td>\n",
              "      <td>5.172882e+06</td>\n",
              "    </tr>\n",
              "  </tbody>\n",
              "</table>\n",
              "</div>"
            ],
            "text/plain": [
              "                  chemistry  economics  literature  medicine  peace  physics  \\\n",
              "country of birth                                                               \n",
              "Australia                 1          0           0         8      0        2   \n",
              "Austria                   7          1           1         6      1        3   \n",
              "Canada                    4          3           2         4      1        4   \n",
              "China                     1          0           2         2      1        6   \n",
              "Denmark                   1          0           4         4      1        2   \n",
              "\n",
              "                         Value  \n",
              "country of birth                \n",
              "Australia         1.668664e+07  \n",
              "Austria           7.792513e+06  \n",
              "Canada            2.705982e+07  \n",
              "China             1.071848e+09  \n",
              "Denmark           5.172882e+06  "
            ]
          },
          "metadata": {
            "tags": []
          },
          "execution_count": 194
        }
      ]
    },
    {
      "metadata": {
        "id": "TGi--IjmuaeI",
        "colab_type": "code",
        "colab": {
          "base_uri": "https://localhost:8080/",
          "height": 164
        },
        "outputId": "f726cf89-a0b7-4b14-dffb-53e6b4b4cffd"
      },
      "cell_type": "code",
      "source": [
        "#divide by average population and multiply by 1 million\n",
        "subject_adjusted_for_pop = merged.div(merged.Value,axis=0)*1000000\n",
        "subject_adjusted_for_pop = subject_adjusted_for_pop.drop(['Value'], axis=1)\n",
        "subject_adjusted_for_pop.head(3)"
      ],
      "execution_count": 198,
      "outputs": [
        {
          "output_type": "execute_result",
          "data": {
            "text/html": [
              "<div>\n",
              "<style scoped>\n",
              "    .dataframe tbody tr th:only-of-type {\n",
              "        vertical-align: middle;\n",
              "    }\n",
              "\n",
              "    .dataframe tbody tr th {\n",
              "        vertical-align: top;\n",
              "    }\n",
              "\n",
              "    .dataframe thead th {\n",
              "        text-align: right;\n",
              "    }\n",
              "</style>\n",
              "<table border=\"1\" class=\"dataframe\">\n",
              "  <thead>\n",
              "    <tr style=\"text-align: right;\">\n",
              "      <th></th>\n",
              "      <th>chemistry</th>\n",
              "      <th>economics</th>\n",
              "      <th>literature</th>\n",
              "      <th>medicine</th>\n",
              "      <th>peace</th>\n",
              "      <th>physics</th>\n",
              "    </tr>\n",
              "    <tr>\n",
              "      <th>country of birth</th>\n",
              "      <th></th>\n",
              "      <th></th>\n",
              "      <th></th>\n",
              "      <th></th>\n",
              "      <th></th>\n",
              "      <th></th>\n",
              "    </tr>\n",
              "  </thead>\n",
              "  <tbody>\n",
              "    <tr>\n",
              "      <th>Australia</th>\n",
              "      <td>0.059928</td>\n",
              "      <td>0.000000</td>\n",
              "      <td>0.000000</td>\n",
              "      <td>0.479425</td>\n",
              "      <td>0.000000</td>\n",
              "      <td>0.119856</td>\n",
              "    </tr>\n",
              "    <tr>\n",
              "      <th>Austria</th>\n",
              "      <td>0.898298</td>\n",
              "      <td>0.128328</td>\n",
              "      <td>0.128328</td>\n",
              "      <td>0.769970</td>\n",
              "      <td>0.128328</td>\n",
              "      <td>0.384985</td>\n",
              "    </tr>\n",
              "    <tr>\n",
              "      <th>Canada</th>\n",
              "      <td>0.147821</td>\n",
              "      <td>0.110866</td>\n",
              "      <td>0.073910</td>\n",
              "      <td>0.147821</td>\n",
              "      <td>0.036955</td>\n",
              "      <td>0.147821</td>\n",
              "    </tr>\n",
              "  </tbody>\n",
              "</table>\n",
              "</div>"
            ],
            "text/plain": [
              "                  chemistry  economics  literature  medicine     peace  \\\n",
              "country of birth                                                         \n",
              "Australia          0.059928   0.000000    0.000000  0.479425  0.000000   \n",
              "Austria            0.898298   0.128328    0.128328  0.769970  0.128328   \n",
              "Canada             0.147821   0.110866    0.073910  0.147821  0.036955   \n",
              "\n",
              "                   physics  \n",
              "country of birth            \n",
              "Australia         0.119856  \n",
              "Austria           0.384985  \n",
              "Canada            0.147821  "
            ]
          },
          "metadata": {
            "tags": []
          },
          "execution_count": 198
        }
      ]
    },
    {
      "metadata": {
        "id": "fMDcU13muxRv",
        "colab_type": "code",
        "colab": {
          "base_uri": "https://localhost:8080/",
          "height": 591
        },
        "outputId": "0946541e-317f-476e-9ef0-32092401693c"
      },
      "cell_type": "code",
      "source": [
        "ax_subject_adj = sns.heatmap(subject_adjusted_for_pop.T,cmap='Blues')\n",
        "ax_subject_adj.figure.set_size_inches(15, 8)\n",
        "ax_subject_adj.set_title('Nobel Prize Winners by category per million population')"
      ],
      "execution_count": 199,
      "outputs": [
        {
          "output_type": "execute_result",
          "data": {
            "text/plain": [
              "Text(0.5, 1.0, 'Nobel Prize Winners by category per million population')"
            ]
          },
          "metadata": {
            "tags": []
          },
          "execution_count": 199
        },
        {
          "output_type": "display_data",
          "data": {
            "image/png": "[encoded data removed]",
            "text/plain": [
              "<Figure size 1080x576 with 2 Axes>"
            ]
          },
          "metadata": {
            "tags": []
          }
        }
      ]
    },
    {
      "metadata": {
        "id": "geA0XwQ0vPM_",
        "colab_type": "code",
        "colab": {}
      },
      "cell_type": "code",
      "source": [
        "#conclusions - pound for pound austria is the chemistry boss, norway leads in economics, sweden and denmark seem to produce good novels (bias here from the academy?)\n",
        "#austria,switzerland and denmark are helping us live longer, peace is more evenly distributed as is physics"
      ],
      "execution_count": 0,
      "outputs": []
    }
  ]
}