{
  "nbformat": 4,
  "nbformat_minor": 0,
  "metadata": {
    "colab": {
      "name": "LS_DS_223_Make_explanatory_visualizations.ipynb",
      "version": "0.3.2",
      "provenance": [],
      "collapsed_sections": [],
      "include_colab_link": true
    },
    "kernelspec": {
      "display_name": "Python 3",
      "language": "python",
      "name": "python3"
    }
  },
  "cells": [
    {
      "cell_type": "markdown",
      "metadata": {
        "id": "view-in-github",
        "colab_type": "text"
      },
      "source": [
        "<a href=\"https://colab.research.google.com/github/jazzathoth/DS-Unit-1-Sprint-3-Data-Storytelling/blob/master/module3-make-explanatory-visualizations/LS_DS_223_Make_explanatory_visualizations.ipynb\" target=\"_parent\"><img src=\"https://colab.research.google.com/assets/colab-badge.svg\" alt=\"Open In Colab\"/></a>"
      ]
    },
    {
      "metadata": {
        "colab_type": "text",
        "id": "-8-trVo__vRE"
      },
      "cell_type": "markdown",
      "source": [
        "_Lambda School Data Science_\n",
        "\n",
        "# Make explanatory visualizations\n",
        "\n",
        "\n",
        "\n",
        "\n",
        "Tody we will reproduce this [example by FiveThirtyEight:](https://fivethirtyeight.com/features/al-gores-new-movie-exposes-the-big-flaw-in-online-movie-ratings/)"
      ]
    },
    {
      "metadata": {
        "colab_type": "code",
        "id": "ya_w5WORGs-n",
        "colab": {
          "base_uri": "https://localhost:8080/",
          "height": 355
        },
        "outputId": "cff6531d-149e-49a1-e09b-d87b8634fcf2"
      },
      "cell_type": "code",
      "source": [
        "from IPython.display import display, Image\n",
        "\n",
        "url = 'https://fivethirtyeight.com/wp-content/uploads/2017/09/mehtahickey-inconvenient-0830-1.png'\n",
        "example = Image(url=url, width=400)\n",
        "\n",
        "display(example)"
      ],
      "execution_count": 3,
      "outputs": [
        {
          "output_type": "display_data",
          "data": {
            "text/html": [
              "<img src=\"https://fivethirtyeight.com/wp-content/uploads/2017/09/mehtahickey-inconvenient-0830-1.png\" width=\"400\"/>"
            ],
            "text/plain": [
              "<IPython.core.display.Image object>"
            ]
          },
          "metadata": {
            "tags": []
          }
        }
      ]
    },
    {
      "metadata": {
        "colab_type": "text",
        "id": "HP4DALiRG3sC"
      },
      "cell_type": "markdown",
      "source": [
        "Using this data: https://github.com/fivethirtyeight/data/tree/master/inconvenient-sequel"
      ]
    },
    {
      "metadata": {
        "colab_type": "text",
        "id": "HioPkYtUG03B"
      },
      "cell_type": "markdown",
      "source": [
        "Objectives\n",
        "- add emphasis and annotations to transform visualizations from exploratory to explanatory\n",
        "- remove clutter from visualizations\n",
        "\n",
        "Links\n",
        "- [Strong Titles Are The Biggest Bang for Your Buck](http://stephanieevergreen.com/strong-titles/)\n",
        "- [Remove to improve (the data-ink ratio)](https://www.darkhorseanalytics.com/blog/data-looks-better-naked)\n",
        "- [How to Generate FiveThirtyEight Graphs in Python](https://www.dataquest.io/blog/making-538-plots/)"
      ]
    },
    {
      "metadata": {
        "colab_type": "text",
        "id": "0w_iMnQ6-VoQ"
      },
      "cell_type": "markdown",
      "source": [
        "## Make prototypes\n",
        "\n",
        "This  helps us understand the problem"
      ]
    },
    {
      "metadata": {
        "colab_type": "code",
        "id": "5uz0eEaEN-GO",
        "colab": {
          "base_uri": "https://localhost:8080/",
          "height": 282
        },
        "outputId": "197b8ad1-190e-4bdc-e224-64572ca922d5"
      },
      "cell_type": "code",
      "source": [
        "%matplotlib inline\n",
        "import matplotlib.pyplot as plt\n",
        "import numpy as np\n",
        "import pandas as pd\n",
        "\n",
        "\n",
        "plt.style.use('fivethirtyeight')\n",
        "\n",
        "fake = pd.Series([38, 3, 2, 1, 2, 4, 6, 5, 5, 33], \n",
        "                 index=range(1,11))\n",
        "\n",
        "fake.plot.bar(color='C1', width=0.9);"
      ],
      "execution_count": 1,
      "outputs": [
        {
          "output_type": "display_data",
          "data": {
            "image/png": "[encoded data removed]",
            "text/plain": [
              "<Figure size 432x288 with 1 Axes>"
            ]
          },
          "metadata": {
            "tags": []
          }
        }
      ]
    },
    {
      "metadata": {
        "colab_type": "code",
        "id": "KZ0VLOV8OyRr",
        "colab": {
          "base_uri": "https://localhost:8080/",
          "height": 285
        },
        "outputId": "f4d8a5c2-7a96-4d69-ee05-7c9e49b7c1cd"
      },
      "cell_type": "code",
      "source": [
        "fake2 = pd.Series(\n",
        "    [1, 1, 1, 1, 1, 1, 1, 1, 1, 1, 1, 1, 1, 1, 1, 1, 1, 1, 1, 1, 1, 1, 1, 1,\n",
        "     2, 2, 2, \n",
        "     3, 3, 3,\n",
        "     4, 4,\n",
        "     5, 5, 5,\n",
        "     6, 6, 6, 6,\n",
        "     7, 7, 7, 7, 7,\n",
        "     8, 8, 8, 8,\n",
        "     9, 9, 9, 9, \n",
        "     10, 10, 10, 10, 10, 10, 10, 10, 10, 10, 10, 10, 10, 10, 10, 10, 10, 10])\n",
        "\n",
        "fake2.value_counts().sort_index().plot.bar(color='C1', width=0.9);"
      ],
      "execution_count": 2,
      "outputs": [
        {
          "output_type": "display_data",
          "data": {
            "image/png": "[encoded data removed]",
            "text/plain": [
              "<Figure size 432x288 with 1 Axes>"
            ]
          },
          "metadata": {
            "tags": []
          }
        }
      ]
    },
    {
      "metadata": {
        "colab_type": "text",
        "id": "mZb3UZWO-q05"
      },
      "cell_type": "markdown",
      "source": [
        "## Annotate with text"
      ]
    },
    {
      "metadata": {
        "colab_type": "code",
        "id": "f6U1vswr_uWp",
        "colab": {
          "base_uri": "https://localhost:8080/",
          "height": 304
        },
        "outputId": "9f86d430-fcd0-4b84-a9e5-3b55caa444e8"
      },
      "cell_type": "code",
      "source": [
        "plt.style.use('fivethirtyeight')\n",
        "\n",
        "fake = pd.Series([38,3,2,1,2,4,6,5,5,13],\n",
        "                index=range(1,11))\n",
        "fig = plt.figure()\n",
        "ax = fake.plot.bar(color='#ef7030', width=.9)\n",
        "\n",
        "ax.set(xlabel='Rating', ylabel='Percent of total votes', yticks=range(-1,50,10))\n",
        "\n",
        "\n",
        "fig.patch.set_facecolor('#fdfdfd')\n",
        "\n",
        "\n",
        "ax.text(x=0, y=45, s=\"'An Inconvenient Sequel: Truth to Power' is divisive\",\n",
        "       fontsize=14, fontweight='bold');\n",
        "\n",
        "ax.text(x=0, y=40, s=\"IMDB Ratings for the film August 29\",\n",
        "       fontsize=10);\n",
        "\n",
        "ax.set_facecolor('#fdfdfd')\n",
        "\n",
        "ax.tick_params(labelrotation=0)"
      ],
      "execution_count": 33,
      "outputs": [
        {
          "output_type": "display_data",
          "data": {
            "image/png": "[encoded data removed]",
            "text/plain": [
              "<Figure size 432x288 with 1 Axes>"
            ]
          },
          "metadata": {
            "tags": []
          }
        }
      ]
    },
    {
      "metadata": {
        "id": "c0zLlgXnDJx-",
        "colab_type": "code",
        "colab": {
          "base_uri": "https://localhost:8080/",
          "height": 355
        },
        "outputId": "0df66870-f1ed-43aa-fe31-d1810fdf5099"
      },
      "cell_type": "code",
      "source": [
        "display(example)"
      ],
      "execution_count": 11,
      "outputs": [
        {
          "output_type": "display_data",
          "data": {
            "text/html": [
              "<img src=\"https://fivethirtyeight.com/wp-content/uploads/2017/09/mehtahickey-inconvenient-0830-1.png\" width=\"400\"/>"
            ],
            "text/plain": [
              "<IPython.core.display.Image object>"
            ]
          },
          "metadata": {
            "tags": []
          }
        }
      ]
    },
    {
      "metadata": {
        "colab_type": "text",
        "id": "x8jRZkpB_MJ6"
      },
      "cell_type": "markdown",
      "source": [
        "## Reproduce with real data"
      ]
    },
    {
      "metadata": {
        "colab_type": "code",
        "id": "3SOHJckDUPI8",
        "colab": {}
      },
      "cell_type": "code",
      "source": [
        "df = pd.read_csv('https://raw.githubusercontent.com/fivethirtyeight/data/master/inconvenient-sequel/ratings.csv')"
      ],
      "execution_count": 0,
      "outputs": []
    },
    {
      "metadata": {
        "colab_type": "code",
        "id": "cDltXxhC_yG-",
        "colab": {
          "base_uri": "https://localhost:8080/",
          "height": 886
        },
        "outputId": "a9e4f09f-df98-442f-ef9c-c497fe8a19a6"
      },
      "cell_type": "code",
      "source": [
        "df.sample(1).T"
      ],
      "execution_count": 28,
      "outputs": [
        {
          "output_type": "execute_result",
          "data": {
            "text/html": [
              "<div>\n",
              "<style scoped>\n",
              "    .dataframe tbody tr th:only-of-type {\n",
              "        vertical-align: middle;\n",
              "    }\n",
              "\n",
              "    .dataframe tbody tr th {\n",
              "        vertical-align: top;\n",
              "    }\n",
              "\n",
              "    .dataframe thead th {\n",
              "        text-align: right;\n",
              "    }\n",
              "</style>\n",
              "<table border=\"1\" class=\"dataframe\">\n",
              "  <thead>\n",
              "    <tr style=\"text-align: right;\">\n",
              "      <th></th>\n",
              "      <th>47046</th>\n",
              "    </tr>\n",
              "  </thead>\n",
              "  <tbody>\n",
              "    <tr>\n",
              "      <th>timestamp</th>\n",
              "      <td>2017-08-17 21:40:09.368806</td>\n",
              "    </tr>\n",
              "    <tr>\n",
              "      <th>respondents</th>\n",
              "      <td>39</td>\n",
              "    </tr>\n",
              "    <tr>\n",
              "      <th>category</th>\n",
              "      <td>Top 1000 voters</td>\n",
              "    </tr>\n",
              "    <tr>\n",
              "      <th>link</th>\n",
              "      <td>http://www.imdb.com/title/tt6322922/ratings-to...</td>\n",
              "    </tr>\n",
              "    <tr>\n",
              "      <th>average</th>\n",
              "      <td>4.6</td>\n",
              "    </tr>\n",
              "    <tr>\n",
              "      <th>mean</th>\n",
              "      <td>4.7</td>\n",
              "    </tr>\n",
              "    <tr>\n",
              "      <th>median</th>\n",
              "      <td>5</td>\n",
              "    </tr>\n",
              "    <tr>\n",
              "      <th>1_votes</th>\n",
              "      <td>10</td>\n",
              "    </tr>\n",
              "    <tr>\n",
              "      <th>2_votes</th>\n",
              "      <td>4</td>\n",
              "    </tr>\n",
              "    <tr>\n",
              "      <th>3_votes</th>\n",
              "      <td>2</td>\n",
              "    </tr>\n",
              "    <tr>\n",
              "      <th>4_votes</th>\n",
              "      <td>2</td>\n",
              "    </tr>\n",
              "    <tr>\n",
              "      <th>5_votes</th>\n",
              "      <td>5</td>\n",
              "    </tr>\n",
              "    <tr>\n",
              "      <th>6_votes</th>\n",
              "      <td>4</td>\n",
              "    </tr>\n",
              "    <tr>\n",
              "      <th>7_votes</th>\n",
              "      <td>5</td>\n",
              "    </tr>\n",
              "    <tr>\n",
              "      <th>8_votes</th>\n",
              "      <td>1</td>\n",
              "    </tr>\n",
              "    <tr>\n",
              "      <th>9_votes</th>\n",
              "      <td>0</td>\n",
              "    </tr>\n",
              "    <tr>\n",
              "      <th>10_votes</th>\n",
              "      <td>6</td>\n",
              "    </tr>\n",
              "    <tr>\n",
              "      <th>1_pct</th>\n",
              "      <td>25.6</td>\n",
              "    </tr>\n",
              "    <tr>\n",
              "      <th>2_pct</th>\n",
              "      <td>10.3</td>\n",
              "    </tr>\n",
              "    <tr>\n",
              "      <th>3_pct</th>\n",
              "      <td>5.1</td>\n",
              "    </tr>\n",
              "    <tr>\n",
              "      <th>4_pct</th>\n",
              "      <td>5.1</td>\n",
              "    </tr>\n",
              "    <tr>\n",
              "      <th>5_pct</th>\n",
              "      <td>12.8</td>\n",
              "    </tr>\n",
              "    <tr>\n",
              "      <th>6_pct</th>\n",
              "      <td>10.3</td>\n",
              "    </tr>\n",
              "    <tr>\n",
              "      <th>7_pct</th>\n",
              "      <td>12.8</td>\n",
              "    </tr>\n",
              "    <tr>\n",
              "      <th>8_pct</th>\n",
              "      <td>2.6</td>\n",
              "    </tr>\n",
              "    <tr>\n",
              "      <th>9_pct</th>\n",
              "      <td>0</td>\n",
              "    </tr>\n",
              "    <tr>\n",
              "      <th>10_pct</th>\n",
              "      <td>15.4</td>\n",
              "    </tr>\n",
              "  </tbody>\n",
              "</table>\n",
              "</div>"
            ],
            "text/plain": [
              "                                                         47046\n",
              "timestamp                           2017-08-17 21:40:09.368806\n",
              "respondents                                                 39\n",
              "category                                       Top 1000 voters\n",
              "link         http://www.imdb.com/title/tt6322922/ratings-to...\n",
              "average                                                    4.6\n",
              "mean                                                       4.7\n",
              "median                                                       5\n",
              "1_votes                                                     10\n",
              "2_votes                                                      4\n",
              "3_votes                                                      2\n",
              "4_votes                                                      2\n",
              "5_votes                                                      5\n",
              "6_votes                                                      4\n",
              "7_votes                                                      5\n",
              "8_votes                                                      1\n",
              "9_votes                                                      0\n",
              "10_votes                                                     6\n",
              "1_pct                                                     25.6\n",
              "2_pct                                                     10.3\n",
              "3_pct                                                      5.1\n",
              "4_pct                                                      5.1\n",
              "5_pct                                                     12.8\n",
              "6_pct                                                     10.3\n",
              "7_pct                                                     12.8\n",
              "8_pct                                                      2.6\n",
              "9_pct                                                        0\n",
              "10_pct                                                    15.4"
            ]
          },
          "metadata": {
            "tags": []
          },
          "execution_count": 28
        }
      ]
    },
    {
      "metadata": {
        "id": "U9Cu_G59Mojn",
        "colab_type": "code",
        "colab": {
          "base_uri": "https://localhost:8080/",
          "height": 163
        },
        "outputId": "3a8cd023-dd99-407b-831a-e1fe8e139728"
      },
      "cell_type": "code",
      "source": [
        "lastday[lastday['category'] == 'IMDb users'].respondents.plot()"
      ],
      "execution_count": 29,
      "outputs": [
        {
          "output_type": "error",
          "ename": "NameError",
          "evalue": "ignored",
          "traceback": [
            "\u001b[0;31m---------------------------------------------------------------------------\u001b[0m",
            "\u001b[0;31mNameError\u001b[0m                                 Traceback (most recent call last)",
            "\u001b[0;32m<ipython-input-29-0d039e7f0ee8>\u001b[0m in \u001b[0;36m<module>\u001b[0;34m()\u001b[0m\n\u001b[0;32m----> 1\u001b[0;31m \u001b[0mlastday\u001b[0m\u001b[0;34m[\u001b[0m\u001b[0mlastday\u001b[0m\u001b[0;34m[\u001b[0m\u001b[0;34m'category'\u001b[0m\u001b[0;34m]\u001b[0m \u001b[0;34m==\u001b[0m \u001b[0;34m'IMDb users'\u001b[0m\u001b[0;34m]\u001b[0m\u001b[0;34m.\u001b[0m\u001b[0mrespondents\u001b[0m\u001b[0;34m.\u001b[0m\u001b[0mplot\u001b[0m\u001b[0;34m(\u001b[0m\u001b[0;34m)\u001b[0m\u001b[0;34m\u001b[0m\u001b[0;34m\u001b[0m\u001b[0m\n\u001b[0m",
            "\u001b[0;31mNameError\u001b[0m: name 'lastday' is not defined"
          ]
        }
      ]
    },
    {
      "metadata": {
        "id": "hSFuGEy3Mogo",
        "colab_type": "code",
        "colab": {}
      },
      "cell_type": "code",
      "source": [
        "df['timestamp'] = pd.to_datetime(df['timestamp'])"
      ],
      "execution_count": 0,
      "outputs": []
    },
    {
      "metadata": {
        "id": "uNbAvn13MoeF",
        "colab_type": "code",
        "colab": {}
      },
      "cell_type": "code",
      "source": [
        "df = df.set_index('timestamp')"
      ],
      "execution_count": 0,
      "outputs": []
    },
    {
      "metadata": {
        "id": "c4MGZvl-Moaz",
        "colab_type": "code",
        "colab": {
          "base_uri": "https://localhost:8080/",
          "height": 357
        },
        "outputId": "ef374121-9040-4120-fb70-f5610469c157"
      },
      "cell_type": "code",
      "source": [
        "df['category'].value_counts()"
      ],
      "execution_count": 32,
      "outputs": [
        {
          "output_type": "execute_result",
          "data": {
            "text/plain": [
              "Females Aged 45+      4216\n",
              "US users              4216\n",
              "Aged 30-44            4216\n",
              "Males                 4216\n",
              "Aged 45+              4216\n",
              "Males under 18        4216\n",
              "IMDb users            4216\n",
              "Females               4216\n",
              "Aged under 18         4216\n",
              "Males Aged 18-29      4216\n",
              "Aged 18-29            4216\n",
              "Females Aged 18-29    4216\n",
              "Males Aged 30-44      4216\n",
              "Non-US users          4216\n",
              "Top 1000 voters       4216\n",
              "Males Aged 45+        4216\n",
              "Females Aged 30-44    4216\n",
              "IMDb staff            4216\n",
              "Females under 18      4165\n",
              "Name: category, dtype: int64"
            ]
          },
          "metadata": {
            "tags": []
          },
          "execution_count": 32
        }
      ]
    },
    {
      "metadata": {
        "id": "79z-hR__MoP7",
        "colab_type": "code",
        "colab": {}
      },
      "cell_type": "code",
      "source": [
        ""
      ],
      "execution_count": 0,
      "outputs": []
    },
    {
      "metadata": {
        "id": "I4Zpw-zOMoBB",
        "colab_type": "code",
        "colab": {}
      },
      "cell_type": "code",
      "source": [
        ""
      ],
      "execution_count": 0,
      "outputs": []
    },
    {
      "metadata": {
        "colab_type": "text",
        "id": "NMEswXWh9mqw"
      },
      "cell_type": "markdown",
      "source": [
        "# ASSIGNMENT\n",
        "\n",
        "Replicate the lesson code. I recommend that you [do not copy-paste](https://docs.google.com/document/d/1ubOw9B3Hfip27hF2ZFnW3a3z9xAgrUDRReOEo-FHCVs/edit).\n",
        "\n",
        "# STRETCH OPTIONS\n",
        "\n",
        "#### Reproduce another example from [FiveThityEight's shared data repository](https://data.fivethirtyeight.com/).\n",
        "\n",
        "For example:\n",
        "- [thanksgiving-2015](https://fivethirtyeight.com/features/heres-what-your-part-of-america-eats-on-thanksgiving/) (try the [`altair`](https://altair-viz.github.io/gallery/index.html#maps) library)\n",
        "- [candy-power-ranking](https://fivethirtyeight.com/features/the-ultimate-halloween-candy-power-ranking/) (try the [`statsmodels`](https://www.statsmodels.org/stable/index.html) library)\n",
        "- or another example of your choice!\n",
        "\n",
        "#### Make more charts!\n",
        "\n",
        "Choose a chart you want to make, from [Visual Vocabulary - Vega Edition](http://ft.com/vocabulary).\n",
        "\n",
        "Find the chart in an example gallery of a Python data visualization library:\n",
        "- [Seaborn](http://seaborn.pydata.org/examples/index.html)\n",
        "- [Altair](https://altair-viz.github.io/gallery/index.html)\n",
        "- [Matplotlib](https://matplotlib.org/gallery.html)\n",
        "- [Pandas](https://pandas.pydata.org/pandas-docs/stable/visualization.html)\n",
        "\n",
        "Reproduce the chart. [Optionally, try the \"Ben Franklin Method.\"](https://docs.google.com/document/d/1ubOw9B3Hfip27hF2ZFnW3a3z9xAgrUDRReOEo-FHCVs/edit) If you want, experiment and make changes.\n",
        "\n",
        "Take notes. Consider sharing your work with your cohort!\n",
        "\n",
        "\n",
        "\n",
        "\n",
        "\n",
        "\n",
        "\n"
      ]
    },
    {
      "metadata": {
        "id": "FdgiaP2U4uXX",
        "colab_type": "code",
        "colab": {
          "base_uri": "https://localhost:8080/",
          "height": 326
        },
        "outputId": "74976c60-9f25-41d6-d2d1-61c083d6017f"
      },
      "cell_type": "code",
      "source": [
        "!npm install -g idyll"
      ],
      "execution_count": 2,
      "outputs": [
        {
          "output_type": "stream",
          "text": [
            "\u001b[K\u001b[?25h\u001b[37;40mnpm\u001b[0m \u001b[0m\u001b[30;43mWARN\u001b[0m \u001b[0m\u001b[35mnotice\u001b[0m [SECURITY] static-eval has the following vulnerability: 1 moderate. Go here for more details: https://nodesecurity.io/advisories?search=static-eval&version=2.0.2 - Run `npm i npm@latest -g` to upgrade your npm version, and then `npm audit` to get more info.\n",
            "\u001b[K\u001b[?25h/tools/node/bin/idyll -> /tools/node/lib/node_modules/idyll/bin/idyll.js\n",
            "\u001b[K\u001b[?25h\u001b[37;40mnpm\u001b[0m \u001b[0m\u001b[30;43mWARN\u001b[0m\u001b[35m\u001b[0m acorn-dynamic-import@4.0.0 requires a peer of acorn@^6.0.0 but none is installed. You must install peer dependencies yourself.\n",
            "\u001b[0m\u001b[37;40mnpm\u001b[0m \u001b[0m\u001b[30;43mWARN\u001b[0m \u001b[0m\u001b[35moptional\u001b[0m SKIPPING OPTIONAL DEPENDENCY: fsevents@1.2.7 (node_modules/idyll/node_modules/fsevents):\n",
            "\u001b[0m\u001b[37;40mnpm\u001b[0m \u001b[0m\u001b[30;43mWARN\u001b[0m \u001b[0m\u001b[35mnotsup\u001b[0m SKIPPING OPTIONAL DEPENDENCY: Unsupported platform for fsevents@1.2.7: wanted {\"os\":\"darwin\",\"arch\":\"any\"} (current: {\"os\":\"linux\",\"arch\":\"x64\"})\n",
            "\u001b[0m\n",
            "+ idyll@4.0.6-alpha.0\n",
            "added 947 packages from 843 contributors in 43.903s\n",
            "\n",
            "\u001b[33m\u001b[39m\n",
            "\u001b[33m   ╭─────────────────────────────────────╮\u001b[39m\n",
            "   \u001b[33m│\u001b[39m                                     \u001b[33m│\u001b[39m\n",
            "   \u001b[33m│\u001b[39m   Update available \u001b[2m5.7.1\u001b[22m\u001b[0m → \u001b[0m\u001b[32m6.9.0\u001b[39m    \u001b[33m│\u001b[39m\n",
            "   \u001b[33m│\u001b[39m     Run \u001b[36mnpm i -g npm\u001b[39m to update      \u001b[33m│\u001b[39m\n",
            "   \u001b[33m│\u001b[39m                                     \u001b[33m│\u001b[39m\n",
            "\u001b[33m   ╰─────────────────────────────────────╯\u001b[39m\n",
            "\u001b[33m\u001b[39m\n"
          ],
          "name": "stdout"
        }
      ]
    },
    {
      "metadata": {
        "id": "rL6cTpBV4zON",
        "colab_type": "code",
        "colab": {
          "base_uri": "https://localhost:8080/",
          "height": 309
        },
        "outputId": "ac6b461a-a69a-4e51-88da-b46c2b4c2696"
      },
      "cell_type": "code",
      "source": [
        "!idyll create"
      ],
      "execution_count": 8,
      "outputs": [
        {
          "output_type": "stream",
          "text": [
            "\n",
            "\u001b[32m?\u001b[39m \u001b[1mIn which directory would you like to install your post?\u001b[22m\u001b[0m \u001b[0m\u001b[2m(my-idyll-post) \u001b[22m\u001b[74D\u001b[74C\u001b[2K\u001b[G\u001b[32m?\u001b[39m \u001b[1mIn which directory would you like to install your post?\u001b[22m\u001b[0m \u001b[0m\u001b[2m(my-idyll-post) \u001b[22m.\u001b[75D\u001b[75C\u001b[2K\u001b[G\u001b[32m?\u001b[39m \u001b[1mIn which directory would you like to install your post?\u001b[22m\u001b[0m \u001b[0m\u001b[2m(my-idyll-post) \u001b[22m./\u001b[76D\u001b[76C\u001b[2K\u001b[G\u001b[32m?\u001b[39m \u001b[1mIn which directory would you like to install your post?\u001b[22m\u001b[0m \u001b[0m\u001b[2m(my-idyll-post) \u001b[22m./P\u001b[77D\u001b[77C\u001b[2K\u001b[G\u001b[32m?\u001b[39m \u001b[1mIn which directory would you like to install your post?\u001b[22m\u001b[0m \u001b[0m\u001b[2m(my-idyll-post) \u001b[22m./PO\u001b[78D\u001b[78C\u001b[2K\u001b[G\u001b[32m?\u001b[39m \u001b[1mIn which directory would you like to install your post?\u001b[22m\u001b[0m \u001b[0m\u001b[2m(my-idyll-post) \u001b[22m./POS\u001b[79D\u001b[79C\u001b[2K\u001b[G\u001b[32m?\u001b[39m \u001b[1mIn which directory would you like to install your post?\u001b[22m\u001b[0m \u001b[0m\u001b[2m(my-idyll-post) \u001b[22m./POST\n",
            "\u001b[1A\u001b[0D\u001b[80C\u001b[1B\u001b[2K\u001b[1A\u001b[2K\u001b[G\u001b[32m?\u001b[39m \u001b[1mIn which directory would you like to install your post?\u001b[22m\u001b[0m \u001b[0m\u001b[2m(my-idyll-post) \u001b[22m./POST\n",
            "1\u001b[1A\u001b[1D\u001b[81C\u001b[1B\u001b[2K\u001b[1A\u001b[2K\u001b[G\u001b[32m?\u001b[39m \u001b[1mIn which directory would you like to install your post?\u001b[22m\u001b[0m \u001b[0m\u001b[36m./POST1\u001b[39m\u001b[65D\u001b[65C\n",
            "\u001b[32m?\u001b[39m \u001b[1mWhat would you like to name your post?\u001b[22m\u001b[0m \u001b[0m\u001b[2m(./POST1) \u001b[22m\u001b[51D\u001b[51C\u001b[2K\u001b[G\u001b[32m?\u001b[39m \u001b[1mWhat would you like to name your post?\u001b[22m\u001b[0m \u001b[0m\u001b[2m(./POST1) \u001b[22mp\u001b[52D\u001b[52C\u001b[2K\u001b[G\u001b[32m?\u001b[39m \u001b[1mWhat would you like to name your post?\u001b[22m\u001b[0m \u001b[0m\u001b[2m(./POST1) \u001b[22mpo\u001b[53D\u001b[53C\u001b[2K\u001b[G\u001b[32m?\u001b[39m \u001b[1mWhat would you like to name your post?\u001b[22m\u001b[0m \u001b[0m\u001b[2m(./POST1) \u001b[22mpos\u001b[54D\u001b[54C\u001b[2K\u001b[G\u001b[32m?\u001b[39m \u001b[1mWhat would you like to name your post?\u001b[22m\u001b[0m \u001b[0m\u001b[2m(./POST1) \u001b[22mpost\u001b[55D\u001b[55C\u001b[2K\u001b[G\u001b[32m?\u001b[39m \u001b[1mWhat would you like to name your post?\u001b[22m\u001b[0m \u001b[0m\u001b[2m(./POST1) \u001b[22mpost1\u001b[56D\u001b[56C\u001b[2K\u001b[G\u001b[32m?\u001b[39m \u001b[1mWhat would you like to name your post?\u001b[22m\u001b[0m \u001b[0m\u001b[36mpost1\u001b[39m\u001b[46D\u001b[46C\n",
            "\u001b[32m\u001b[39m\n",
            "\u001b[32mCreating a new Idyll post in ./POST1 using the basic template...\u001b[39m\n",
            "\u001b[?25l\u001b[36m⠋\u001b[39m \u001b[94m Ensuring that the target directory is valid\u001b[39m\u001b[2K\u001b[1G\u001b[?25h\u001b[32m✔\u001b[39m \u001b[94m Ensuring that the target directory is valid\u001b[39m\n",
            "\u001b[?25l\u001b[36m⠋\u001b[39m \u001b[94m Copying files from template directory into the target directory\u001b[39m\u001b[2K\u001b[1G\u001b[?25h\u001b[32m✔\u001b[39m \u001b[94m Copying files from template directory into the target directory\u001b[39m\n",
            "\u001b[?25l\u001b[36m⠋\u001b[39m \u001b[94m Configuring post\u001b[39m\u001b[2K\u001b[1G\u001b[?25h\u001b[32m✔\u001b[39m \u001b[94m Configuring post\u001b[39m\n",
            "\u001b[?25l\u001b[36m⠋\u001b[39m \u001b[94m Installing dependencies\u001b[39m\u001b[2K\u001b[1G\u001b[36m⠙\u001b[39m \u001b[94m Installing dependencies\u001b[39m\u001b[2K\u001b[1G\u001b[36m⠹\u001b[39m \u001b[94m Installing dependencies\u001b[39m\u001b[2K\u001b[1G\u001b[36m⠸\u001b[39m \u001b[94m Installing dependencies\u001b[39m\u001b[2K\u001b[1G\u001b[36m⠼\u001b[39m \u001b[94m Installing dependencies\u001b[39m\u001b[2K\u001b[1G\u001b[36m⠴\u001b[39m \u001b[94m Installing dependencies\u001b[39m\u001b[2K\u001b[1G\u001b[36m⠦\u001b[39m \u001b[94m Installing dependencies\u001b[39m\u001b[2K\u001b[1G\u001b[36m⠧\u001b[39m \u001b[94m Installing dependencies\u001b[39m\u001b[2K\u001b[1G\u001b[36m⠇\u001b[39m \u001b[94m Installing dependencies\u001b[39m\u001b[2K\u001b[1G\u001b[36m⠏\u001b[39m \u001b[94m Installing dependencies\u001b[39m\u001b[2K\u001b[1G\u001b[36m⠋\u001b[39m \u001b[94m Installing dependencies\u001b[39m\u001b[2K\u001b[1G\u001b[36m⠙\u001b[39m \u001b[94m Installing dependencies\u001b[39m\u001b[2K\u001b[1G\u001b[36m⠹\u001b[39m \u001b[94m Installing dependencies\u001b[39m\u001b[2K\u001b[1G\u001b[36m⠸\u001b[39m \u001b[94m Installing dependencies\u001b[39m\u001b[2K\u001b[1G\u001b[36m⠼\u001b[39m \u001b[94m Installing dependencies\u001b[39m\u001b[2K\u001b[1G\u001b[36m⠴\u001b[39m \u001b[94m Installing dependencies\u001b[39m\u001b[2K\u001b[1G\u001b[36m⠦\u001b[39m \u001b[94m Installing dependencies\u001b[39m\u001b[2K\u001b[1G\u001b[36m⠧\u001b[39m \u001b[94m Installing dependencies\u001b[39m\u001b[2K\u001b[1G\u001b[36m⠇\u001b[39m \u001b[94m Installing dependencies\u001b[39m\u001b[2K\u001b[1G\u001b[36m⠏\u001b[39m \u001b[94m Installing dependencies\u001b[39m\u001b[2K\u001b[1G\u001b[36m⠋\u001b[39m \u001b[94m Installing dependencies\u001b[39m\u001b[2K\u001b[1G\u001b[36m⠙\u001b[39m \u001b[94m Installing dependencies\u001b[39m\u001b[2K\u001b[1G\u001b[36m⠹\u001b[39m \u001b[94m Installing dependencies\u001b[39m\u001b[2K\u001b[1G\u001b[36m⠸\u001b[39m \u001b[94m Installing dependencies\u001b[39m\u001b[2K\u001b[1G\u001b[36m⠼\u001b[39m \u001b[94m Installing dependencies\u001b[39m\u001b[2K\u001b[1G\u001b[36m⠴\u001b[39m \u001b[94m Installing dependencies\u001b[39m\u001b[2K\u001b[1G\u001b[36m⠦\u001b[39m \u001b[94m Installing dependencies\u001b[39m\u001b[2K\u001b[1G\u001b[36m⠧\u001b[39m \u001b[94m Installing dependencies\u001b[39m\u001b[2K\u001b[1G\u001b[36m⠇\u001b[39m \u001b[94m Installing dependencies\u001b[39m\u001b[2K\u001b[1G\u001b[36m⠏\u001b[39m \u001b[94m Installing dependencies\u001b[39m\u001b[2K\u001b[1G\u001b[36m⠋\u001b[39m \u001b[94m Installing dependencies\u001b[39m\u001b[2K\u001b[1G\u001b[36m⠙\u001b[39m \u001b[94m Installing dependencies\u001b[39m\u001b[2K\u001b[1G\u001b[36m⠹\u001b[39m \u001b[94m Installing dependencies\u001b[39m\u001b[2K\u001b[1G\u001b[36m⠸\u001b[39m \u001b[94m Installing dependencies\u001b[39m\u001b[2K\u001b[1G\u001b[36m⠼\u001b[39m \u001b[94m Installing dependencies\u001b[39m\u001b[2K\u001b[1G\u001b[36m⠴\u001b[39m \u001b[94m Installing dependencies\u001b[39m\u001b[2K\u001b[1G\u001b[36m⠦\u001b[39m \u001b[94m Installing dependencies\u001b[39m\u001b[2K\u001b[1G\u001b[36m⠧\u001b[39m \u001b[94m Installing dependencies\u001b[39m\u001b[2K\u001b[1G\u001b[36m⠇\u001b[39m \u001b[94m Installing dependencies\u001b[39m\u001b[2K\u001b[1G\u001b[36m⠏\u001b[39m \u001b[94m Installing dependencies\u001b[39m\u001b[2K\u001b[1G\u001b[36m⠋\u001b[39m \u001b[94m Installing dependencies\u001b[39m\u001b[2K\u001b[1G\u001b[36m⠙\u001b[39m \u001b[94m Installing dependencies\u001b[39m\u001b[2K\u001b[1G\u001b[36m⠹\u001b[39m \u001b[94m Installing dependencies\u001b[39m\u001b[2K\u001b[1G\u001b[36m⠸\u001b[39m \u001b[94m Installing dependencies\u001b[39m\u001b[2K\u001b[1G\u001b[36m⠼\u001b[39m \u001b[94m Installing dependencies\u001b[39m\u001b[2K\u001b[1G\u001b[36m⠴\u001b[39m \u001b[94m Installing dependencies\u001b[39m\u001b[2K\u001b[1G\u001b[36m⠦\u001b[39m \u001b[94m Installing dependencies\u001b[39m\u001b[2K\u001b[1G\u001b[36m⠧\u001b[39m \u001b[94m Installing dependencies\u001b[39m\u001b[2K\u001b[1G\u001b[36m⠇\u001b[39m \u001b[94m Installing dependencies\u001b[39m\u001b[2K\u001b[1G\u001b[36m⠏\u001b[39m \u001b[94m Installing dependencies\u001b[39m\u001b[2K\u001b[1G\u001b[36m⠋\u001b[39m \u001b[94m Installing dependencies\u001b[39m\u001b[2K\u001b[1G\u001b[36m⠙\u001b[39m \u001b[94m Installing dependencies\u001b[39m\u001b[2K\u001b[1G\u001b[36m⠹\u001b[39m \u001b[94m Installing dependencies\u001b[39m\u001b[2K\u001b[1G\u001b[36m⠸\u001b[39m \u001b[94m Installing dependencies\u001b[39m\u001b[2K\u001b[1G\u001b[36m⠼\u001b[39m \u001b[94m Installing dependencies\u001b[39m\u001b[2K\u001b[1G\u001b[36m⠴\u001b[39m \u001b[94m Installing dependencies\u001b[39m\u001b[2K\u001b[1G\u001b[36m⠦\u001b[39m \u001b[94m Installing dependencies\u001b[39m\u001b[2K\u001b[1G\u001b[36m⠧\u001b[39m \u001b[94m Installing dependencies\u001b[39m\u001b[2K\u001b[1G\u001b[36m⠇\u001b[39m \u001b[94m Installing dependencies\u001b[39m\u001b[2K\u001b[1G\u001b[36m⠏\u001b[39m \u001b[94m Installing dependencies\u001b[39m\u001b[2K\u001b[1G\u001b[36m⠋\u001b[39m \u001b[94m Installing dependencies\u001b[39m\u001b[2K\u001b[1G\u001b[36m⠙\u001b[39m \u001b[94m Installing dependencies\u001b[39m\u001b[2K\u001b[1G\u001b[36m⠹\u001b[39m \u001b[94m Installing dependencies\u001b[39m\u001b[2K\u001b[1G\u001b[36m⠸\u001b[39m \u001b[94m Installing dependencies\u001b[39m\u001b[2K\u001b[1G\u001b[36m⠼\u001b[39m \u001b[94m Installing dependencies\u001b[39m\u001b[2K\u001b[1G\u001b[36m⠴\u001b[39m \u001b[94m Installing dependencies\u001b[39m\u001b[2K\u001b[1G\u001b[36m⠦\u001b[39m \u001b[94m Installing dependencies\u001b[39m\u001b[2K\u001b[1G\u001b[36m⠧\u001b[39m \u001b[94m Installing dependencies\u001b[39m\u001b[2K\u001b[1G\u001b[36m⠇\u001b[39m \u001b[94m Installing dependencies\u001b[39m\u001b[2K\u001b[1G\u001b[36m⠏\u001b[39m \u001b[94m Installing dependencies\u001b[39m\u001b[2K\u001b[1G\u001b[36m⠋\u001b[39m \u001b[94m Installing dependencies\u001b[39m\u001b[2K\u001b[1G\u001b[36m⠙\u001b[39m \u001b[94m Installing dependencies\u001b[39m\u001b[2K\u001b[1G\u001b[36m⠹\u001b[39m \u001b[94m Installing dependencies\u001b[39m\u001b[2K\u001b[1G\u001b[36m⠸\u001b[39m \u001b[94m Installing dependencies\u001b[39m\u001b[2K\u001b[1G\u001b[36m⠼\u001b[39m \u001b[94m Installing dependencies\u001b[39m\u001b[2K\u001b[1G\u001b[36m⠴\u001b[39m \u001b[94m Installing dependencies\u001b[39m\u001b[2K\u001b[1G\u001b[36m⠦\u001b[39m \u001b[94m Installing dependencies\u001b[39m\u001b[2K\u001b[1G\u001b[36m⠧\u001b[39m \u001b[94m Installing dependencies\u001b[39m\u001b[2K\u001b[1G\u001b[36m⠇\u001b[39m \u001b[94m Installing dependencies\u001b[39m\u001b[2K\u001b[1G\u001b[36m⠏\u001b[39m \u001b[94m Installing dependencies\u001b[39m\u001b[2K\u001b[1G\u001b[36m⠋\u001b[39m \u001b[94m Installing dependencies\u001b[39m\u001b[2K\u001b[1G\u001b[36m⠙\u001b[39m \u001b[94m Installing dependencies\u001b[39m\u001b[2K\u001b[1G\u001b[36m⠹\u001b[39m \u001b[94m Installing dependencies\u001b[39m\u001b[2K\u001b[1G\u001b[36m⠸\u001b[39m \u001b[94m Installing dependencies\u001b[39m\u001b[2K\u001b[1G\u001b[36m⠼\u001b[39m \u001b[94m Installing dependencies\u001b[39m\u001b[2K\u001b[1G\u001b[36m⠴\u001b[39m \u001b[94m Installing dependencies\u001b[39m\u001b[2K\u001b[1G\u001b[36m⠦\u001b[39m \u001b[94m Installing dependencies\u001b[39m\u001b[2K\u001b[1G\u001b[36m⠧\u001b[39m \u001b[94m Installing dependencies\u001b[39m\u001b[2K\u001b[1G\u001b[36m⠇\u001b[39m \u001b[94m Installing dependencies\u001b[39m\u001b[2K\u001b[1G\u001b[36m⠏\u001b[39m \u001b[94m Installing dependencies\u001b[39m\u001b[2K\u001b[1G\u001b[36m⠋\u001b[39m \u001b[94m Installing dependencies\u001b[39m\u001b[2K\u001b[1G\u001b[36m⠙\u001b[39m \u001b[94m Installing dependencies\u001b[39m\u001b[2K\u001b[1G\u001b[36m⠹\u001b[39m \u001b[94m Installing dependencies\u001b[39m\u001b[2K\u001b[1G\u001b[36m⠸\u001b[39m \u001b[94m Installing dependencies\u001b[39m\u001b[2K\u001b[1G\u001b[36m⠼\u001b[39m \u001b[94m Installing dependencies\u001b[39m\u001b[2K\u001b[1G\u001b[36m⠴\u001b[39m \u001b[94m Installing dependencies\u001b[39m\u001b[2K\u001b[1G\u001b[36m⠦\u001b[39m \u001b[94m Installing dependencies\u001b[39m\u001b[2K\u001b[1G\u001b[36m⠧\u001b[39m \u001b[94m Installing dependencies\u001b[39m\u001b[2K\u001b[1G\u001b[36m⠇\u001b[39m \u001b[94m Installing dependencies\u001b[39m\u001b[2K\u001b[1G\u001b[36m⠏\u001b[39m \u001b[94m Installing dependencies\u001b[39m\u001b[2K\u001b[1G\u001b[36m⠋\u001b[39m \u001b[94m Installing dependencies\u001b[39m\u001b[2K\u001b[1G\u001b[36m⠙\u001b[39m \u001b[94m Installing dependencies\u001b[39m\u001b[2K\u001b[1G\u001b[36m⠹\u001b[39m \u001b[94m Installing dependencies\u001b[39m\u001b[2K\u001b[1G\u001b[36m⠸\u001b[39m \u001b[94m Installing dependencies\u001b[39m\u001b[2K\u001b[1G\u001b[36m⠼\u001b[39m \u001b[94m Installing dependencies\u001b[39m\u001b[2K\u001b[1G\u001b[36m⠴\u001b[39m \u001b[94m Installing dependencies\u001b[39m\u001b[2K\u001b[1G\u001b[36m⠦\u001b[39m \u001b[94m Installing dependencies\u001b[39m\u001b[2K\u001b[1G\u001b[36m⠧\u001b[39m \u001b[94m Installing dependencies\u001b[39m\u001b[2K\u001b[1G\u001b[36m⠇\u001b[39m \u001b[94m Installing dependencies\u001b[39m\u001b[2K\u001b[1G\u001b[36m⠏\u001b[39m \u001b[94m Installing dependencies\u001b[39m\u001b[2K\u001b[1G\u001b[36m⠋\u001b[39m \u001b[94m Installing dependencies\u001b[39m\u001b[2K\u001b[1G\u001b[36m⠙\u001b[39m \u001b[94m Installing dependencies\u001b[39m\u001b[2K\u001b[1G\u001b[36m⠹\u001b[39m \u001b[94m Installing dependencies\u001b[39m\u001b[2K\u001b[1G\u001b[36m⠸\u001b[39m \u001b[94m Installing dependencies\u001b[39m\u001b[2K\u001b[1G\u001b[36m⠼\u001b[39m \u001b[94m Installing dependencies\u001b[39m\u001b[2K\u001b[1G\u001b[36m⠴\u001b[39m \u001b[94m Installing dependencies\u001b[39m\u001b[2K\u001b[1G\u001b[36m⠦\u001b[39m \u001b[94m Installing dependencies\u001b[39m\u001b[2K\u001b[1G\u001b[36m⠧\u001b[39m \u001b[94m Installing dependencies\u001b[39m\u001b[2K\u001b[1G\u001b[36m⠇\u001b[39m \u001b[94m Installing dependencies\u001b[39m\u001b[2K\u001b[1G\u001b[36m⠏\u001b[39m \u001b[94m Installing dependencies\u001b[39m\u001b[2K\u001b[1G\u001b[36m⠋\u001b[39m \u001b[94m Installing dependencies\u001b[39m\u001b[2K\u001b[1G\u001b[36m⠙\u001b[39m \u001b[94m Installing dependencies\u001b[39m\u001b[2K\u001b[1G\u001b[36m⠹\u001b[39m \u001b[94m Installing dependencies\u001b[39m\u001b[2K\u001b[1G\u001b[36m⠸\u001b[39m \u001b[94m Installing dependencies\u001b[39m\u001b[2K\u001b[1G\u001b[36m⠼\u001b[39m \u001b[94m Installing dependencies\u001b[39m\u001b[2K\u001b[1G\u001b[36m⠴\u001b[39m \u001b[94m Installing dependencies\u001b[39m\u001b[2K\u001b[1G\u001b[36m⠦\u001b[39m \u001b[94m Installing dependencies\u001b[39m\u001b[2K\u001b[1G\u001b[36m⠧\u001b[39m \u001b[94m Installing dependencies\u001b[39m\u001b[2K\u001b[1G\u001b[36m⠇\u001b[39m \u001b[94m Installing dependencies\u001b[39m\u001b[2K\u001b[1G\u001b[36m⠏\u001b[39m \u001b[94m Installing dependencies\u001b[39m\u001b[2K\u001b[1G\u001b[36m⠋\u001b[39m \u001b[94m Installing dependencies\u001b[39m\u001b[2K\u001b[1G\u001b[36m⠙\u001b[39m \u001b[94m Installing dependencies\u001b[39m\u001b[2K\u001b[1G\u001b[36m⠹\u001b[39m \u001b[94m Installing dependencies\u001b[39m\u001b[2K\u001b[1G\u001b[36m⠸\u001b[39m \u001b[94m Installing dependencies\u001b[39m\u001b[2K\u001b[1G\u001b[36m⠼\u001b[39m \u001b[94m Installing dependencies\u001b[39m\u001b[2K\u001b[1G\u001b[36m⠴\u001b[39m \u001b[94m Installing dependencies\u001b[39m\u001b[2K\u001b[1G\u001b[36m⠦\u001b[39m \u001b[94m Installing dependencies\u001b[39m\u001b[2K\u001b[1G\u001b[36m⠧\u001b[39m \u001b[94m Installing dependencies\u001b[39m\u001b[2K\u001b[1G\u001b[36m⠇\u001b[39m \u001b[94m Installing dependencies\u001b[39m\u001b[2K\u001b[1G\u001b[36m⠏\u001b[39m \u001b[94m Installing dependencies\u001b[39m\u001b[2K\u001b[1G\u001b[36m⠋\u001b[39m \u001b[94m Installing dependencies\u001b[39m\u001b[2K\u001b[1G\u001b[36m⠙\u001b[39m \u001b[94m Installing dependencies\u001b[39m\u001b[2K\u001b[1G\u001b[36m⠹\u001b[39m \u001b[94m Installing dependencies\u001b[39m\u001b[2K\u001b[1G\u001b[36m⠸\u001b[39m \u001b[94m Installing dependencies\u001b[39m\u001b[2K\u001b[1G\u001b[36m⠼\u001b[39m \u001b[94m Installing dependencies\u001b[39m\u001b[2K\u001b[1G\u001b[36m⠴\u001b[39m \u001b[94m Installing dependencies\u001b[39m\u001b[2K\u001b[1G\u001b[36m⠦\u001b[39m \u001b[94m Installing dependencies\u001b[39m\u001b[2K\u001b[1G\u001b[36m⠧\u001b[39m \u001b[94m Installing dependencies\u001b[39m\u001b[2K\u001b[1G\u001b[36m⠇\u001b[39m \u001b[94m Installing dependencies\u001b[39m\u001b[2K\u001b[1G\u001b[36m⠏\u001b[39m \u001b[94m Installing dependencies\u001b[39m\u001b[2K\u001b[1G\u001b[36m⠋\u001b[39m \u001b[94m Installing dependencies\u001b[39m\u001b[2K\u001b[1G\u001b[36m⠙\u001b[39m \u001b[94m Installing dependencies\u001b[39m\u001b[2K\u001b[1G\u001b[36m⠹\u001b[39m \u001b[94m Installing dependencies\u001b[39m\u001b[2K\u001b[1G\u001b[36m⠸\u001b[39m \u001b[94m Installing dependencies\u001b[39m\u001b[2K\u001b[1G\u001b[36m⠼\u001b[39m \u001b[94m Installing dependencies\u001b[39m\u001b[2K\u001b[1G\u001b[36m⠴\u001b[39m \u001b[94m Installing dependencies\u001b[39m\u001b[2K\u001b[1G\u001b[36m⠦\u001b[39m \u001b[94m Installing dependencies\u001b[39m\u001b[2K\u001b[1G\u001b[36m⠧\u001b[39m \u001b[94m Installing dependencies\u001b[39m\u001b[2K\u001b[1G\u001b[36m⠇\u001b[39m \u001b[94m Installing dependencies\u001b[39m\u001b[2K\u001b[1G\u001b[36m⠏\u001b[39m \u001b[94m Installing dependencies\u001b[39m\u001b[2K\u001b[1G\u001b[36m⠋\u001b[39m \u001b[94m Installing dependencies\u001b[39m\u001b[2K\u001b[1G\u001b[36m⠙\u001b[39m \u001b[94m Installing dependencies\u001b[39m\u001b[2K\u001b[1G\u001b[36m⠹\u001b[39m \u001b[94m Installing dependencies\u001b[39m\u001b[2K\u001b[1G\u001b[36m⠸\u001b[39m \u001b[94m Installing dependencies\u001b[39m\u001b[2K\u001b[1G\u001b[36m⠼\u001b[39m \u001b[94m Installing dependencies\u001b[39m\u001b[2K\u001b[1G\u001b[36m⠴\u001b[39m \u001b[94m Installing dependencies\u001b[39m\u001b[2K\u001b[1G\u001b[36m⠦\u001b[39m \u001b[94m Installing dependencies\u001b[39m\u001b[2K\u001b[1G\u001b[36m⠧\u001b[39m \u001b[94m Installing dependencies\u001b[39m\u001b[2K\u001b[1G\u001b[36m⠇\u001b[39m \u001b[94m Installing dependencies\u001b[39m\u001b[2K\u001b[1G\u001b[36m⠏\u001b[39m \u001b[94m Installing dependencies\u001b[39m\u001b[2K\u001b[1G\u001b[36m⠋\u001b[39m \u001b[94m Installing dependencies\u001b[39m\u001b[2K\u001b[1G\u001b[36m⠙\u001b[39m \u001b[94m Installing dependencies\u001b[39m\u001b[2K\u001b[1G\u001b[36m⠹\u001b[39m \u001b[94m Installing dependencies\u001b[39m\u001b[2K\u001b[1G\u001b[36m⠸\u001b[39m \u001b[94m Installing dependencies\u001b[39m\u001b[2K\u001b[1G\u001b[36m⠼\u001b[39m \u001b[94m Installing dependencies\u001b[39m\u001b[2K\u001b[1G\u001b[36m⠴\u001b[39m \u001b[94m Installing dependencies\u001b[39m\u001b[2K\u001b[1G\u001b[36m⠦\u001b[39m \u001b[94m Installing dependencies\u001b[39m\u001b[2K\u001b[1G\u001b[36m⠧\u001b[39m \u001b[94m Installing dependencies\u001b[39m\u001b[2K\u001b[1G\u001b[36m⠇\u001b[39m \u001b[94m Installing dependencies\u001b[39m\u001b[2K\u001b[1G\u001b[36m⠏\u001b[39m \u001b[94m Installing dependencies\u001b[39m\u001b[2K\u001b[1G\u001b[36m⠋\u001b[39m \u001b[94m Installing dependencies\u001b[39m\u001b[2K\u001b[1G\u001b[36m⠙\u001b[39m \u001b[94m Installing dependencies\u001b[39m\u001b[2K\u001b[1G\u001b[36m⠹\u001b[39m \u001b[94m Installing dependencies\u001b[39m\u001b[2K\u001b[1G\u001b[36m⠸\u001b[39m \u001b[94m Installing dependencies\u001b[39m\u001b[2K\u001b[1G\u001b[36m⠼\u001b[39m \u001b[94m Installing dependencies\u001b[39m\u001b[2K\u001b[1G\u001b[36m⠴\u001b[39m \u001b[94m Installing dependencies\u001b[39m\u001b[2K\u001b[1G\u001b[36m⠦\u001b[39m \u001b[94m Installing dependencies\u001b[39m\u001b[2K\u001b[1G\u001b[36m⠧\u001b[39m \u001b[94m Installing dependencies\u001b[39m\u001b[2K\u001b[1G\u001b[36m⠇\u001b[39m \u001b[94m Installing dependencies\u001b[39m\u001b[2K\u001b[1G\u001b[36m⠏\u001b[39m \u001b[94m Installing dependencies\u001b[39m\u001b[2K\u001b[1G\u001b[36m⠋\u001b[39m \u001b[94m Installing dependencies\u001b[39m\u001b[2K\u001b[1G\u001b[36m⠙\u001b[39m \u001b[94m Installing dependencies\u001b[39m\u001b[2K\u001b[1G\u001b[36m⠹\u001b[39m \u001b[94m Installing dependencies\u001b[39m\u001b[2K\u001b[1G\u001b[36m⠸\u001b[39m \u001b[94m Installing dependencies\u001b[39m\u001b[2K\u001b[1G\u001b[36m⠼\u001b[39m \u001b[94m Installing dependencies\u001b[39m\u001b[2K\u001b[1G\u001b[36m⠴\u001b[39m \u001b[94m Installing dependencies\u001b[39m\u001b[2K\u001b[1G\u001b[36m⠦\u001b[39m \u001b[94m Installing dependencies\u001b[39m\u001b[2K\u001b[1G\u001b[36m⠧\u001b[39m \u001b[94m Installing dependencies\u001b[39m\u001b[2K\u001b[1G\u001b[36m⠇\u001b[39m \u001b[94m Installing dependencies\u001b[39m\u001b[2K\u001b[1G\u001b[36m⠏\u001b[39m \u001b[94m Installing dependencies\u001b[39m\u001b[2K\u001b[1G\u001b[36m⠋\u001b[39m \u001b[94m Installing dependencies\u001b[39m\u001b[2K\u001b[1G\u001b[36m⠙\u001b[39m \u001b[94m Installing dependencies\u001b[39m\u001b[2K\u001b[1G\u001b[36m⠹\u001b[39m \u001b[94m Installing dependencies\u001b[39m\u001b[2K\u001b[1G\u001b[36m⠸\u001b[39m \u001b[94m Installing dependencies\u001b[39m\u001b[2K\u001b[1G\u001b[36m⠼\u001b[39m \u001b[94m Installing dependencies\u001b[39m\u001b[2K\u001b[1G\u001b[36m⠴\u001b[39m \u001b[94m Installing dependencies\u001b[39m\u001b[2K\u001b[1G\u001b[36m⠦\u001b[39m \u001b[94m Installing dependencies\u001b[39m\u001b[2K\u001b[1G\u001b[36m⠧\u001b[39m \u001b[94m Installing dependencies\u001b[39m\u001b[2K\u001b[1G\u001b[36m⠇\u001b[39m \u001b[94m Installing dependencies\u001b[39m\u001b[2K\u001b[1G\u001b[36m⠏\u001b[39m \u001b[94m Installing dependencies\u001b[39m\u001b[2K\u001b[1G\u001b[36m⠋\u001b[39m \u001b[94m Installing dependencies\u001b[39m\u001b[2K\u001b[1G\u001b[36m⠙\u001b[39m \u001b[94m Installing dependencies\u001b[39m\u001b[2K\u001b[1G\u001b[36m⠹\u001b[39m \u001b[94m Installing dependencies\u001b[39m\u001b[2K\u001b[1G\u001b[36m⠸\u001b[39m \u001b[94m Installing dependencies\u001b[39m\u001b[2K\u001b[1G\u001b[36m⠼\u001b[39m \u001b[94m Installing dependencies\u001b[39m\u001b[2K\u001b[1G\u001b[36m⠴\u001b[39m \u001b[94m Installing dependencies\u001b[39m\u001b[2K\u001b[1G\u001b[36m⠦\u001b[39m \u001b[94m Installing dependencies\u001b[39m\u001b[2K\u001b[1G\u001b[36m⠧\u001b[39m \u001b[94m Installing dependencies\u001b[39m\u001b[2K\u001b[1G\u001b[36m⠇\u001b[39m \u001b[94m Installing dependencies\u001b[39m\u001b[2K\u001b[1G\u001b[36m⠏\u001b[39m \u001b[94m Installing dependencies\u001b[39m\u001b[2K\u001b[1G\u001b[36m⠋\u001b[39m \u001b[94m Installing dependencies\u001b[39m\u001b[2K\u001b[1G\u001b[36m⠙\u001b[39m \u001b[94m Installing dependencies\u001b[39m\u001b[2K\u001b[1G\u001b[36m⠹\u001b[39m \u001b[94m Installing dependencies\u001b[39m\u001b[2K\u001b[1G\u001b[36m⠸\u001b[39m \u001b[94m Installing dependencies\u001b[39m\u001b[2K\u001b[1G\u001b[36m⠼\u001b[39m \u001b[94m Installing dependencies\u001b[39m\u001b[2K\u001b[1G\u001b[36m⠴\u001b[39m \u001b[94m Installing dependencies\u001b[39m\u001b[2K\u001b[1G\u001b[36m⠦\u001b[39m \u001b[94m Installing dependencies\u001b[39m\u001b[2K\u001b[1G\u001b[36m⠧\u001b[39m \u001b[94m Installing dependencies\u001b[39m\u001b[2K\u001b[1G\u001b[36m⠇\u001b[39m \u001b[94m Installing dependencies\u001b[39m\u001b[2K\u001b[1G\u001b[36m⠏\u001b[39m \u001b[94m Installing dependencies\u001b[39m\u001b[2K\u001b[1G\u001b[36m⠋\u001b[39m \u001b[94m Installing dependencies\u001b[39m\u001b[2K\u001b[1G\u001b[36m⠙\u001b[39m \u001b[94m Installing dependencies\u001b[39m\u001b[2K\u001b[1G\u001b[36m⠹\u001b[39m \u001b[94m Installing dependencies\u001b[39m\u001b[2K\u001b[1G\u001b[36m⠸\u001b[39m \u001b[94m Installing dependencies\u001b[39m\u001b[2K\u001b[1G\u001b[36m⠼\u001b[39m \u001b[94m Installing dependencies\u001b[39m\u001b[2K\u001b[1G\u001b[36m⠴\u001b[39m \u001b[94m Installing dependencies\u001b[39m\u001b[2K\u001b[1G\u001b[36m⠦\u001b[39m \u001b[94m Installing dependencies\u001b[39m\u001b[2K\u001b[1G\u001b[36m⠧\u001b[39m \u001b[94m Installing dependencies\u001b[39m\u001b[2K\u001b[1G\u001b[36m⠇\u001b[39m \u001b[94m Installing dependencies\u001b[39m\u001b[2K\u001b[1G\u001b[36m⠏\u001b[39m \u001b[94m Installing dependencies\u001b[39m\u001b[2K\u001b[1G\u001b[36m⠋\u001b[39m \u001b[94m Installing dependencies\u001b[39m\u001b[2K\u001b[1G\u001b[36m⠙\u001b[39m \u001b[94m Installing dependencies\u001b[39m\u001b[2K\u001b[1G\u001b[36m⠹\u001b[39m \u001b[94m Installing dependencies\u001b[39m\u001b[2K\u001b[1G\u001b[36m⠸\u001b[39m \u001b[94m Installing dependencies\u001b[39m\u001b[2K\u001b[1G\u001b[36m⠼\u001b[39m \u001b[94m Installing dependencies\u001b[39m\u001b[2K\u001b[1G\u001b[36m⠴\u001b[39m \u001b[94m Installing dependencies\u001b[39m\u001b[2K\u001b[1G\u001b[36m⠦\u001b[39m \u001b[94m Installing dependencies\u001b[39m\u001b[2K\u001b[1G\u001b[36m⠧\u001b[39m \u001b[94m Installing dependencies\u001b[39m\u001b[2K\u001b[1G\u001b[36m⠇\u001b[39m \u001b[94m Installing dependencies\u001b[39m\u001b[2K\u001b[1G\u001b[36m⠏\u001b[39m \u001b[94m Installing dependencies\u001b[39m\u001b[2K\u001b[1G\u001b[36m⠋\u001b[39m \u001b[94m Installing dependencies\u001b[39m\u001b[2K\u001b[1G\u001b[36m⠙\u001b[39m \u001b[94m Installing dependencies\u001b[39m\u001b[2K\u001b[1G\u001b[36m⠹\u001b[39m \u001b[94m Installing dependencies\u001b[39m\u001b[2K\u001b[1G\u001b[36m⠸\u001b[39m \u001b[94m Installing dependencies\u001b[39m\u001b[2K\u001b[1G\u001b[36m⠼\u001b[39m \u001b[94m Installing dependencies\u001b[39m\u001b[2K\u001b[1G\u001b[36m⠴\u001b[39m \u001b[94m Installing dependencies\u001b[39m\u001b[2K\u001b[1G\u001b[36m⠦\u001b[39m \u001b[94m Installing dependencies\u001b[39m\u001b[2K\u001b[1G\u001b[36m⠧\u001b[39m \u001b[94m Installing dependencies\u001b[39m\u001b[2K\u001b[1G\u001b[36m⠇\u001b[39m \u001b[94m Installing dependencies\u001b[39m\u001b[2K\u001b[1G\u001b[36m⠏\u001b[39m \u001b[94m Installing dependencies\u001b[39m\u001b[2K\u001b[1G\u001b[36m⠋\u001b[39m \u001b[94m Installing dependencies\u001b[39m\u001b[2K\u001b[1G\u001b[36m⠙\u001b[39m \u001b[94m Installing dependencies\u001b[39m\u001b[2K\u001b[1G\u001b[36m⠹\u001b[39m \u001b[94m Installing dependencies\u001b[39m\u001b[2K\u001b[1G\u001b[36m⠸\u001b[39m \u001b[94m Installing dependencies\u001b[39m\u001b[2K\u001b[1G\u001b[36m⠼\u001b[39m \u001b[94m Installing dependencies\u001b[39m\u001b[2K\u001b[1G\u001b[36m⠴\u001b[39m \u001b[94m Installing dependencies\u001b[39m\u001b[2K\u001b[1G\u001b[36m⠦\u001b[39m \u001b[94m Installing dependencies\u001b[39m\u001b[2K\u001b[1G\u001b[36m⠧\u001b[39m \u001b[94m Installing dependencies\u001b[39m\u001b[2K\u001b[1G\u001b[36m⠇\u001b[39m \u001b[94m Installing dependencies\u001b[39m\u001b[2K\u001b[1G\u001b[36m⠏\u001b[39m \u001b[94m Installing dependencies\u001b[39m\u001b[2K\u001b[1G\u001b[36m⠋\u001b[39m \u001b[94m Installing dependencies\u001b[39m\u001b[2K\u001b[1G\u001b[36m⠙\u001b[39m \u001b[94m Installing dependencies\u001b[39m\u001b[2K\u001b[1G\u001b[36m⠹\u001b[39m \u001b[94m Installing dependencies\u001b[39m\u001b[2K\u001b[1G\u001b[36m⠸\u001b[39m \u001b[94m Installing dependencies\u001b[39m\u001b[2K\u001b[1G\u001b[36m⠼\u001b[39m \u001b[94m Installing dependencies\u001b[39m\u001b[2K\u001b[1G\u001b[36m⠴\u001b[39m \u001b[94m Installing dependencies\u001b[39m\u001b[2K\u001b[1G\u001b[36m⠦\u001b[39m \u001b[94m Installing dependencies\u001b[39m\u001b[2K\u001b[1G\u001b[36m⠧\u001b[39m \u001b[94m Installing dependencies\u001b[39m\u001b[2K\u001b[1G\u001b[36m⠇\u001b[39m \u001b[94m Installing dependencies\u001b[39m\u001b[2K\u001b[1G\u001b[36m⠏\u001b[39m \u001b[94m Installing dependencies\u001b[39m\u001b[2K\u001b[1G\u001b[36m⠋\u001b[39m \u001b[94m Installing dependencies\u001b[39m\u001b[2K\u001b[1G\u001b[36m⠙\u001b[39m \u001b[94m Installing dependencies\u001b[39m\u001b[2K\u001b[1G\u001b[36m⠹\u001b[39m \u001b[94m Installing dependencies\u001b[39m\u001b[2K\u001b[1G\u001b[36m⠸\u001b[39m \u001b[94m Installing dependencies\u001b[39m\u001b[2K\u001b[1G\u001b[36m⠼\u001b[39m \u001b[94m Installing dependencies\u001b[39m\u001b[2K\u001b[1G\u001b[36m⠴\u001b[39m \u001b[94m Installing dependencies\u001b[39m\u001b[2K\u001b[1G\u001b[36m⠦\u001b[39m \u001b[94m Installing dependencies\u001b[39m\u001b[2K\u001b[1G\u001b[36m⠧\u001b[39m \u001b[94m Installing dependencies\u001b[39m\u001b[2K\u001b[1G\u001b[36m⠇\u001b[39m \u001b[94m Installing dependencies\u001b[39m\u001b[2K\u001b[1G\u001b[36m⠏\u001b[39m \u001b[94m Installing dependencies\u001b[39m\u001b[2K\u001b[1G\u001b[36m⠋\u001b[39m \u001b[94m Installing dependencies\u001b[39m\u001b[2K\u001b[1G\u001b[36m⠙\u001b[39m \u001b[94m Installing dependencies\u001b[39m\u001b[2K\u001b[1G\u001b[36m⠹\u001b[39m \u001b[94m Installing dependencies\u001b[39m\u001b[2K\u001b[1G\u001b[36m⠸\u001b[39m \u001b[94m Installing dependencies\u001b[39m\u001b[2K\u001b[1G\u001b[36m⠼\u001b[39m \u001b[94m Installing dependencies\u001b[39m\u001b[2K\u001b[1G\u001b[36m⠴\u001b[39m \u001b[94m Installing dependencies\u001b[39m\u001b[2K\u001b[1G\u001b[36m⠦\u001b[39m \u001b[94m Installing dependencies\u001b[39m\u001b[2K\u001b[1G\u001b[36m⠧\u001b[39m \u001b[94m Installing dependencies\u001b[39m\u001b[2K\u001b[1G\u001b[36m⠇\u001b[39m \u001b[94m Installing dependencies\u001b[39m\u001b[2K\u001b[1G\u001b[36m⠏\u001b[39m \u001b[94m Installing dependencies\u001b[39m\u001b[2K\u001b[1G\u001b[36m⠋\u001b[39m \u001b[94m Installing dependencies\u001b[39m\u001b[2K\u001b[1G\u001b[36m⠙\u001b[39m \u001b[94m Installing dependencies\u001b[39m\u001b[2K\u001b[1G\u001b[36m⠹\u001b[39m \u001b[94m Installing dependencies\u001b[39m\u001b[2K\u001b[1G\u001b[36m⠸\u001b[39m \u001b[94m Installing dependencies\u001b[39m\u001b[2K\u001b[1G\u001b[36m⠼\u001b[39m \u001b[94m Installing dependencies\u001b[39m\u001b[2K\u001b[1G\u001b[36m⠴\u001b[39m \u001b[94m Installing dependencies\u001b[39m\u001b[2K\u001b[1G\u001b[36m⠦\u001b[39m \u001b[94m Installing dependencies\u001b[39m\u001b[2K\u001b[1G\u001b[36m⠧\u001b[39m \u001b[94m Installing dependencies\u001b[39m\u001b[2K\u001b[1G\u001b[36m⠇\u001b[39m \u001b[94m Installing dependencies\u001b[39m\u001b[2K\u001b[1G\u001b[36m⠏\u001b[39m \u001b[94m Installing dependencies\u001b[39m\u001b[2K\u001b[1G\u001b[36m⠋\u001b[39m \u001b[94m Installing dependencies\u001b[39m\u001b[2K\u001b[1G\u001b[36m⠙\u001b[39m \u001b[94m Installing dependencies\u001b[39m\u001b[2K\u001b[1G\u001b[36m⠹\u001b[39m \u001b[94m Installing dependencies\u001b[39m\u001b[2K\u001b[1G\u001b[36m⠸\u001b[39m \u001b[94m Installing dependencies\u001b[39m\u001b[2K\u001b[1G\u001b[36m⠼\u001b[39m \u001b[94m Installing dependencies\u001b[39m\u001b[2K\u001b[1G\u001b[36m⠴\u001b[39m \u001b[94m Installing dependencies\u001b[39m\u001b[2K\u001b[1G\u001b[36m⠦\u001b[39m \u001b[94m Installing dependencies\u001b[39m\u001b[2K\u001b[1G\u001b[36m⠧\u001b[39m \u001b[94m Installing dependencies\u001b[39m\u001b[2K\u001b[1G\u001b[36m⠇\u001b[39m \u001b[94m Installing dependencies\u001b[39m\u001b[2K\u001b[1G\u001b[36m⠏\u001b[39m \u001b[94m Installing dependencies\u001b[39m\u001b[2K\u001b[1G\u001b[36m⠋\u001b[39m \u001b[94m Installing dependencies\u001b[39m\u001b[2K\u001b[1G\u001b[36m⠙\u001b[39m \u001b[94m Installing dependencies\u001b[39m\u001b[2K\u001b[1G\u001b[36m⠹\u001b[39m \u001b[94m Installing dependencies\u001b[39m\u001b[2K\u001b[1G\u001b[36m⠸\u001b[39m \u001b[94m Installing dependencies\u001b[39m\u001b[2K\u001b[1G\u001b[36m⠼\u001b[39m \u001b[94m Installing dependencies\u001b[39m\u001b[2K\u001b[1G\u001b[36m⠴\u001b[39m \u001b[94m Installing dependencies\u001b[39m\u001b[2K\u001b[1G\u001b[36m⠦\u001b[39m \u001b[94m Installing dependencies\u001b[39m\u001b[2K\u001b[1G\u001b[36m⠧\u001b[39m \u001b[94m Installing dependencies\u001b[39m\u001b[2K\u001b[1G\u001b[36m⠇\u001b[39m \u001b[94m Installing dependencies\u001b[39m\u001b[2K\u001b[1G\u001b[36m⠏\u001b[39m \u001b[94m Installing dependencies\u001b[39m\u001b[2K\u001b[1G\u001b[36m⠋\u001b[39m \u001b[94m Installing dependencies\u001b[39m\u001b[2K\u001b[1G\u001b[36m⠙\u001b[39m \u001b[94m Installing dependencies\u001b[39m\u001b[2K\u001b[1G\u001b[36m⠹\u001b[39m \u001b[94m Installing dependencies\u001b[39m\u001b[2K\u001b[1G\u001b[36m⠸\u001b[39m \u001b[94m Installing dependencies\u001b[39m\u001b[2K\u001b[1G\u001b[36m⠼\u001b[39m \u001b[94m Installing dependencies\u001b[39m\u001b[2K\u001b[1G\u001b[36m⠴\u001b[39m \u001b[94m Installing dependencies\u001b[39m\u001b[2K\u001b[1G\u001b[36m⠦\u001b[39m \u001b[94m Installing dependencies\u001b[39m\u001b[2K\u001b[1G\u001b[36m⠧\u001b[39m \u001b[94m Installing dependencies\u001b[39m\u001b[2K\u001b[1G\u001b[36m⠇\u001b[39m \u001b[94m Installing dependencies\u001b[39m\u001b[2K\u001b[1G\u001b[36m⠏\u001b[39m \u001b[94m Installing dependencies\u001b[39m\u001b[2K\u001b[1G\u001b[36m⠋\u001b[39m \u001b[94m Installing dependencies\u001b[39m\u001b[2K\u001b[1G\u001b[36m⠙\u001b[39m \u001b[94m Installing dependencies\u001b[39m\u001b[2K\u001b[1G\u001b[36m⠹\u001b[39m \u001b[94m Installing dependencies\u001b[39m\u001b[2K\u001b[1G\u001b[36m⠸\u001b[39m \u001b[94m Installing dependencies\u001b[39m\u001b[2K\u001b[1G\u001b[36m⠼\u001b[39m \u001b[94m Installing dependencies\u001b[39m\u001b[2K\u001b[1G\u001b[36m⠴\u001b[39m \u001b[94m Installing dependencies\u001b[39m\u001b[2K\u001b[1G\u001b[36m⠦\u001b[39m \u001b[94m Installing dependencies\u001b[39m\u001b[2K\u001b[1G\u001b[36m⠧\u001b[39m \u001b[94m Installing dependencies\u001b[39m\u001b[2K\u001b[1G\u001b[36m⠇\u001b[39m \u001b[94m Installing dependencies\u001b[39m\u001b[2K\u001b[1G\u001b[36m⠏\u001b[39m \u001b[94m Installing dependencies\u001b[39m\u001b[2K\u001b[1G\u001b[36m⠋\u001b[39m \u001b[94m Installing dependencies\u001b[39m\u001b[2K\u001b[1G\u001b[36m⠙\u001b[39m \u001b[94m Installing dependencies\u001b[39m\u001b[2K\u001b[1G\u001b[36m⠹\u001b[39m \u001b[94m Installing dependencies\u001b[39m\u001b[2K\u001b[1G\u001b[36m⠸\u001b[39m \u001b[94m Installing dependencies\u001b[39m\u001b[2K\u001b[1G\u001b[36m⠼\u001b[39m \u001b[94m Installing dependencies\u001b[39m\u001b[2K\u001b[1G\u001b[36m⠴\u001b[39m \u001b[94m Installing dependencies\u001b[39m\u001b[2K\u001b[1G\u001b[36m⠦\u001b[39m \u001b[94m Installing dependencies\u001b[39m\u001b[2K\u001b[1G\u001b[36m⠧\u001b[39m \u001b[94m Installing dependencies\u001b[39m\u001b[2K\u001b[1G\u001b[?25h\u001b[32m✔\u001b[39m \u001b[94m Installing dependencies\u001b[39m\n",
            "\n",
            "\u001b[32mFinished creating the post!\u001b[39m\n",
            "To start developing, run the following commands in your terminal:\n",
            "\u001b[94m    cd ./POST1\u001b[39m\n",
            "\u001b[94m    idyll\u001b[39m\n",
            "\u001b[?25h"
          ],
          "name": "stdout"
        }
      ]
    },
    {
      "metadata": {
        "id": "dKO38Qwi5bxN",
        "colab_type": "code",
        "colab": {
          "base_uri": "https://localhost:8080/",
          "height": 34
        },
        "outputId": "c378a908-1419-4c29-eeed-3335471991ea"
      },
      "cell_type": "code",
      "source": [
        "!ls ./\n"
      ],
      "execution_count": 6,
      "outputs": [
        {
          "output_type": "stream",
          "text": [
            "sample_data\n"
          ],
          "name": "stdout"
        }
      ]
    },
    {
      "metadata": {
        "id": "SCuQBb1b5oWt",
        "colab_type": "code",
        "colab": {
          "base_uri": "https://localhost:8080/",
          "height": 238
        },
        "outputId": "bedfffe6-ba53-4495-d3eb-3ee4783d4a38"
      },
      "cell_type": "code",
      "source": [
        "!cd POST1\n",
        "!idyll"
      ],
      "execution_count": 9,
      "outputs": [
        {
          "output_type": "stream",
          "text": [
            "Usage: idyll <command> [options]\n",
            "\n",
            "Commands:\n",
            "  build               Turn index.idyll into standalone output\n",
            "  create [post-name]  Create a new post\n",
            "  publish             Publish your project to idyll.pub\n",
            "  watch               Build then start the development server\n",
            "\n",
            "Options:\n",
            "  --help     Show help                                                 [boolean]\n",
            "  --version  Show version number                                       [boolean]\n",
            "\n",
            "Not enough non-option arguments: got 0, need at least 1\n"
          ],
          "name": "stdout"
        }
      ]
    },
    {
      "metadata": {
        "id": "tyRYrJqT7hop",
        "colab_type": "code",
        "colab": {}
      },
      "cell_type": "code",
      "source": [
        "import pandas as pd\n",
        "import matplotlib.pyplot as plt\n",
        "import numpy as np"
      ],
      "execution_count": 0,
      "outputs": []
    },
    {
      "metadata": {
        "id": "35aXy82qGOoQ",
        "colab_type": "code",
        "colab": {
          "base_uri": "https://localhost:8080/",
          "height": 421
        },
        "outputId": "deb5dc0f-ce3b-4ffb-fdd5-d1f2a15f6cd1"
      },
      "cell_type": "code",
      "source": [
        "from IPython.display import display, Image\n",
        "\n",
        "url = 'https://fivethirtyeight.com/wp-content/uploads/2019/03/paine.womens-bball-programs.03tk-2.png?w=575'\n",
        "example = Image(url=url, width=400)\n",
        "\n",
        "display(example)"
      ],
      "execution_count": 20,
      "outputs": [
        {
          "output_type": "display_data",
          "data": {
            "text/html": [
              "<img src=\"https://fivethirtyeight.com/wp-content/uploads/2019/03/paine.womens-bball-programs.03tk-2.png?w=575\" width=\"400\"/>"
            ],
            "text/plain": [
              "<IPython.core.display.Image object>"
            ]
          },
          "metadata": {
            "tags": []
          }
        }
      ]
    },
    {
      "metadata": {
        "id": "l2F8_fiD549O",
        "colab_type": "code",
        "colab": {}
      },
      "cell_type": "code",
      "source": [
        "bsktball_url = 'https://raw.githubusercontent.com/fivethirtyeight/data/master/ncaa-womens-basketball-tournament/ncaa-womens-basketball-tournament-history.csv'"
      ],
      "execution_count": 0,
      "outputs": []
    },
    {
      "metadata": {
        "id": "yUJGdb9n7d12",
        "colab_type": "code",
        "colab": {
          "base_uri": "https://localhost:8080/",
          "height": 34
        },
        "outputId": "de9cfc87-7a96-462f-cee0-2ba315551734"
      },
      "cell_type": "code",
      "source": [
        "bskt = pd.read_csv(bsktball_url)\n",
        "bskt.shape"
      ],
      "execution_count": 12,
      "outputs": [
        {
          "output_type": "execute_result",
          "data": {
            "text/plain": [
              "(2092, 19)"
            ]
          },
          "metadata": {
            "tags": []
          },
          "execution_count": 12
        }
      ]
    },
    {
      "metadata": {
        "id": "XjiFrNEu7dyk",
        "colab_type": "code",
        "colab": {
          "base_uri": "https://localhost:8080/",
          "height": 204
        },
        "outputId": "932df770-b628-4024-838f-3d2da914039c"
      },
      "cell_type": "code",
      "source": [
        "bskt.head()"
      ],
      "execution_count": 13,
      "outputs": [
        {
          "output_type": "execute_result",
          "data": {
            "text/html": [
              "<div>\n",
              "<style scoped>\n",
              "    .dataframe tbody tr th:only-of-type {\n",
              "        vertical-align: middle;\n",
              "    }\n",
              "\n",
              "    .dataframe tbody tr th {\n",
              "        vertical-align: top;\n",
              "    }\n",
              "\n",
              "    .dataframe thead th {\n",
              "        text-align: right;\n",
              "    }\n",
              "</style>\n",
              "<table border=\"1\" class=\"dataframe\">\n",
              "  <thead>\n",
              "    <tr style=\"text-align: right;\">\n",
              "      <th></th>\n",
              "      <th>Year</th>\n",
              "      <th>School</th>\n",
              "      <th>Seed</th>\n",
              "      <th>Conference</th>\n",
              "      <th>Conf. W</th>\n",
              "      <th>Conf. L</th>\n",
              "      <th>Conf. %</th>\n",
              "      <th>Conf. place</th>\n",
              "      <th>Reg. W</th>\n",
              "      <th>Reg. L</th>\n",
              "      <th>Reg. %</th>\n",
              "      <th>How qual</th>\n",
              "      <th>1st game at home?</th>\n",
              "      <th>Tourney W</th>\n",
              "      <th>Tourney L</th>\n",
              "      <th>Tourney finish</th>\n",
              "      <th>Full W</th>\n",
              "      <th>Full L</th>\n",
              "      <th>Full %</th>\n",
              "    </tr>\n",
              "  </thead>\n",
              "  <tbody>\n",
              "    <tr>\n",
              "      <th>0</th>\n",
              "      <td>1982</td>\n",
              "      <td>Arizona St.</td>\n",
              "      <td>4</td>\n",
              "      <td>Western Collegiate</td>\n",
              "      <td>-</td>\n",
              "      <td>-</td>\n",
              "      <td>-</td>\n",
              "      <td>-</td>\n",
              "      <td>23</td>\n",
              "      <td>6</td>\n",
              "      <td>79.3</td>\n",
              "      <td>at-large</td>\n",
              "      <td>Y</td>\n",
              "      <td>1</td>\n",
              "      <td>1</td>\n",
              "      <td>RSF</td>\n",
              "      <td>24</td>\n",
              "      <td>7</td>\n",
              "      <td>77.4</td>\n",
              "    </tr>\n",
              "    <tr>\n",
              "      <th>1</th>\n",
              "      <td>1982</td>\n",
              "      <td>Auburn</td>\n",
              "      <td>7</td>\n",
              "      <td>Southeastern</td>\n",
              "      <td>-</td>\n",
              "      <td>-</td>\n",
              "      <td>-</td>\n",
              "      <td>-</td>\n",
              "      <td>24</td>\n",
              "      <td>4</td>\n",
              "      <td>85.7</td>\n",
              "      <td>at-large</td>\n",
              "      <td>N</td>\n",
              "      <td>0</td>\n",
              "      <td>1</td>\n",
              "      <td>1st</td>\n",
              "      <td>24</td>\n",
              "      <td>5</td>\n",
              "      <td>82.8</td>\n",
              "    </tr>\n",
              "    <tr>\n",
              "      <th>2</th>\n",
              "      <td>1982</td>\n",
              "      <td>Cheyney</td>\n",
              "      <td>2</td>\n",
              "      <td>Independent</td>\n",
              "      <td>-</td>\n",
              "      <td>-</td>\n",
              "      <td>-</td>\n",
              "      <td>-</td>\n",
              "      <td>24</td>\n",
              "      <td>2</td>\n",
              "      <td>92.3</td>\n",
              "      <td>at-large</td>\n",
              "      <td>Y</td>\n",
              "      <td>4</td>\n",
              "      <td>1</td>\n",
              "      <td>N2nd</td>\n",
              "      <td>28</td>\n",
              "      <td>3</td>\n",
              "      <td>90.3</td>\n",
              "    </tr>\n",
              "    <tr>\n",
              "      <th>3</th>\n",
              "      <td>1982</td>\n",
              "      <td>Clemson</td>\n",
              "      <td>5</td>\n",
              "      <td>Atlantic Coast</td>\n",
              "      <td>6</td>\n",
              "      <td>3</td>\n",
              "      <td>66.7</td>\n",
              "      <td>4th</td>\n",
              "      <td>20</td>\n",
              "      <td>11</td>\n",
              "      <td>64.5</td>\n",
              "      <td>at-large</td>\n",
              "      <td>N</td>\n",
              "      <td>0</td>\n",
              "      <td>1</td>\n",
              "      <td>1st</td>\n",
              "      <td>20</td>\n",
              "      <td>12</td>\n",
              "      <td>62.5</td>\n",
              "    </tr>\n",
              "    <tr>\n",
              "      <th>4</th>\n",
              "      <td>1982</td>\n",
              "      <td>Drake</td>\n",
              "      <td>4</td>\n",
              "      <td>Missouri Valley</td>\n",
              "      <td>-</td>\n",
              "      <td>-</td>\n",
              "      <td>-</td>\n",
              "      <td>-</td>\n",
              "      <td>26</td>\n",
              "      <td>6</td>\n",
              "      <td>81.3</td>\n",
              "      <td>auto</td>\n",
              "      <td>Y</td>\n",
              "      <td>2</td>\n",
              "      <td>1</td>\n",
              "      <td>RF</td>\n",
              "      <td>28</td>\n",
              "      <td>7</td>\n",
              "      <td>80</td>\n",
              "    </tr>\n",
              "  </tbody>\n",
              "</table>\n",
              "</div>"
            ],
            "text/plain": [
              "   Year       School Seed          Conference Conf. W Conf. L Conf. %  \\\n",
              "0  1982  Arizona St.    4  Western Collegiate       -       -       -   \n",
              "1  1982       Auburn    7        Southeastern       -       -       -   \n",
              "2  1982      Cheyney    2         Independent       -       -       -   \n",
              "3  1982      Clemson    5      Atlantic Coast       6       3    66.7   \n",
              "4  1982        Drake    4     Missouri Valley       -       -       -   \n",
              "\n",
              "  Conf. place  Reg. W  Reg. L  Reg. %  How qual 1st game at home?  Tourney W  \\\n",
              "0           -      23       6    79.3  at-large                 Y          1   \n",
              "1           -      24       4    85.7  at-large                 N          0   \n",
              "2           -      24       2    92.3  at-large                 Y          4   \n",
              "3         4th      20      11    64.5  at-large                 N          0   \n",
              "4           -      26       6    81.3      auto                 Y          2   \n",
              "\n",
              "   Tourney L Tourney finish  Full W  Full L Full %  \n",
              "0          1            RSF      24       7   77.4  \n",
              "1          1            1st      24       5   82.8  \n",
              "2          1           N2nd      28       3   90.3  \n",
              "3          1            1st      20      12   62.5  \n",
              "4          1             RF      28       7     80  "
            ]
          },
          "metadata": {
            "tags": []
          },
          "execution_count": 13
        }
      ]
    },
    {
      "metadata": {
        "id": "uFzcuOei7dvl",
        "colab_type": "code",
        "colab": {}
      },
      "cell_type": "code",
      "source": [
        "seed_pts_dict = {'1': 100, '2': 70, '3':55, '4':44, '5':36, '6':30, '7':25, '8':21, '9':17, '10':14, '11':11, '12':8, '13':5, '14':3, '15':1, '16':0, \"(OR)\":0}"
      ],
      "execution_count": 0,
      "outputs": []
    },
    {
      "metadata": {
        "id": "-JulmULv7dsu",
        "colab_type": "code",
        "colab": {}
      },
      "cell_type": "code",
      "source": [
        "bskt['seed points'] = bskt['Seed'].replace(seed_pts_dict)"
      ],
      "execution_count": 0,
      "outputs": []
    },
    {
      "metadata": {
        "id": "t745BCYA7dqO",
        "colab_type": "code",
        "colab": {
          "base_uri": "https://localhost:8080/",
          "height": 204
        },
        "outputId": "08830e59-ae30-49ea-c81f-9a204b8645ad"
      },
      "cell_type": "code",
      "source": [
        "bskt.head()"
      ],
      "execution_count": 44,
      "outputs": [
        {
          "output_type": "execute_result",
          "data": {
            "text/html": [
              "<div>\n",
              "<style scoped>\n",
              "    .dataframe tbody tr th:only-of-type {\n",
              "        vertical-align: middle;\n",
              "    }\n",
              "\n",
              "    .dataframe tbody tr th {\n",
              "        vertical-align: top;\n",
              "    }\n",
              "\n",
              "    .dataframe thead th {\n",
              "        text-align: right;\n",
              "    }\n",
              "</style>\n",
              "<table border=\"1\" class=\"dataframe\">\n",
              "  <thead>\n",
              "    <tr style=\"text-align: right;\">\n",
              "      <th></th>\n",
              "      <th>Year</th>\n",
              "      <th>School</th>\n",
              "      <th>Seed</th>\n",
              "      <th>Conference</th>\n",
              "      <th>Conf. W</th>\n",
              "      <th>Conf. L</th>\n",
              "      <th>Conf. %</th>\n",
              "      <th>Conf. place</th>\n",
              "      <th>Reg. W</th>\n",
              "      <th>Reg. L</th>\n",
              "      <th>Reg. %</th>\n",
              "      <th>How qual</th>\n",
              "      <th>1st game at home?</th>\n",
              "      <th>Tourney W</th>\n",
              "      <th>Tourney L</th>\n",
              "      <th>Tourney finish</th>\n",
              "      <th>Full W</th>\n",
              "      <th>Full L</th>\n",
              "      <th>Full %</th>\n",
              "      <th>seed points</th>\n",
              "    </tr>\n",
              "  </thead>\n",
              "  <tbody>\n",
              "    <tr>\n",
              "      <th>0</th>\n",
              "      <td>1982</td>\n",
              "      <td>Arizona St.</td>\n",
              "      <td>4</td>\n",
              "      <td>Western Collegiate</td>\n",
              "      <td>-</td>\n",
              "      <td>-</td>\n",
              "      <td>-</td>\n",
              "      <td>-</td>\n",
              "      <td>23</td>\n",
              "      <td>6</td>\n",
              "      <td>79.3</td>\n",
              "      <td>at-large</td>\n",
              "      <td>Y</td>\n",
              "      <td>1</td>\n",
              "      <td>1</td>\n",
              "      <td>RSF</td>\n",
              "      <td>24</td>\n",
              "      <td>7</td>\n",
              "      <td>77.4</td>\n",
              "      <td>44</td>\n",
              "    </tr>\n",
              "    <tr>\n",
              "      <th>1</th>\n",
              "      <td>1982</td>\n",
              "      <td>Auburn</td>\n",
              "      <td>7</td>\n",
              "      <td>Southeastern</td>\n",
              "      <td>-</td>\n",
              "      <td>-</td>\n",
              "      <td>-</td>\n",
              "      <td>-</td>\n",
              "      <td>24</td>\n",
              "      <td>4</td>\n",
              "      <td>85.7</td>\n",
              "      <td>at-large</td>\n",
              "      <td>N</td>\n",
              "      <td>0</td>\n",
              "      <td>1</td>\n",
              "      <td>1st</td>\n",
              "      <td>24</td>\n",
              "      <td>5</td>\n",
              "      <td>82.8</td>\n",
              "      <td>25</td>\n",
              "    </tr>\n",
              "    <tr>\n",
              "      <th>2</th>\n",
              "      <td>1982</td>\n",
              "      <td>Cheyney</td>\n",
              "      <td>2</td>\n",
              "      <td>Independent</td>\n",
              "      <td>-</td>\n",
              "      <td>-</td>\n",
              "      <td>-</td>\n",
              "      <td>-</td>\n",
              "      <td>24</td>\n",
              "      <td>2</td>\n",
              "      <td>92.3</td>\n",
              "      <td>at-large</td>\n",
              "      <td>Y</td>\n",
              "      <td>4</td>\n",
              "      <td>1</td>\n",
              "      <td>N2nd</td>\n",
              "      <td>28</td>\n",
              "      <td>3</td>\n",
              "      <td>90.3</td>\n",
              "      <td>70</td>\n",
              "    </tr>\n",
              "    <tr>\n",
              "      <th>3</th>\n",
              "      <td>1982</td>\n",
              "      <td>Clemson</td>\n",
              "      <td>5</td>\n",
              "      <td>Atlantic Coast</td>\n",
              "      <td>6</td>\n",
              "      <td>3</td>\n",
              "      <td>66.7</td>\n",
              "      <td>4th</td>\n",
              "      <td>20</td>\n",
              "      <td>11</td>\n",
              "      <td>64.5</td>\n",
              "      <td>at-large</td>\n",
              "      <td>N</td>\n",
              "      <td>0</td>\n",
              "      <td>1</td>\n",
              "      <td>1st</td>\n",
              "      <td>20</td>\n",
              "      <td>12</td>\n",
              "      <td>62.5</td>\n",
              "      <td>36</td>\n",
              "    </tr>\n",
              "    <tr>\n",
              "      <th>4</th>\n",
              "      <td>1982</td>\n",
              "      <td>Drake</td>\n",
              "      <td>4</td>\n",
              "      <td>Missouri Valley</td>\n",
              "      <td>-</td>\n",
              "      <td>-</td>\n",
              "      <td>-</td>\n",
              "      <td>-</td>\n",
              "      <td>26</td>\n",
              "      <td>6</td>\n",
              "      <td>81.3</td>\n",
              "      <td>auto</td>\n",
              "      <td>Y</td>\n",
              "      <td>2</td>\n",
              "      <td>1</td>\n",
              "      <td>RF</td>\n",
              "      <td>28</td>\n",
              "      <td>7</td>\n",
              "      <td>80</td>\n",
              "      <td>44</td>\n",
              "    </tr>\n",
              "  </tbody>\n",
              "</table>\n",
              "</div>"
            ],
            "text/plain": [
              "   Year       School Seed          Conference Conf. W Conf. L Conf. %  \\\n",
              "0  1982  Arizona St.    4  Western Collegiate       -       -       -   \n",
              "1  1982       Auburn    7        Southeastern       -       -       -   \n",
              "2  1982      Cheyney    2         Independent       -       -       -   \n",
              "3  1982      Clemson    5      Atlantic Coast       6       3    66.7   \n",
              "4  1982        Drake    4     Missouri Valley       -       -       -   \n",
              "\n",
              "  Conf. place  Reg. W  Reg. L  Reg. %  How qual 1st game at home?  Tourney W  \\\n",
              "0           -      23       6    79.3  at-large                 Y          1   \n",
              "1           -      24       4    85.7  at-large                 N          0   \n",
              "2           -      24       2    92.3  at-large                 Y          4   \n",
              "3         4th      20      11    64.5  at-large                 N          0   \n",
              "4           -      26       6    81.3      auto                 Y          2   \n",
              "\n",
              "   Tourney L Tourney finish  Full W  Full L Full %  seed points  \n",
              "0          1            RSF      24       7   77.4           44  \n",
              "1          1            1st      24       5   82.8           25  \n",
              "2          1           N2nd      28       3   90.3           70  \n",
              "3          1            1st      20      12   62.5           36  \n",
              "4          1             RF      28       7     80           44  "
            ]
          },
          "metadata": {
            "tags": []
          },
          "execution_count": 44
        }
      ]
    },
    {
      "metadata": {
        "id": "6DmJafxfIHHA",
        "colab_type": "code",
        "colab": {
          "base_uri": "https://localhost:8080/",
          "height": 306
        },
        "outputId": "08be1920-2ea0-489a-d475-8eb7c54994ad"
      },
      "cell_type": "code",
      "source": [
        "bskt['seed points'].value_counts()"
      ],
      "execution_count": 45,
      "outputs": [
        {
          "output_type": "execute_result",
          "data": {
            "text/plain": [
              "55     149\n",
              "25     149\n",
              "100    149\n",
              "36     149\n",
              "44     148\n",
              "70     147\n",
              "30     147\n",
              "21     141\n",
              "14     132\n",
              "17     131\n",
              "8      123\n",
              "11     120\n",
              "0      109\n",
              "1      100\n",
              "5       99\n",
              "3       99\n",
              "Name: seed points, dtype: int64"
            ]
          },
          "metadata": {
            "tags": []
          },
          "execution_count": 45
        }
      ]
    },
    {
      "metadata": {
        "id": "P_zlBFMBRpU-",
        "colab_type": "code",
        "colab": {
          "base_uri": "https://localhost:8080/",
          "height": 427
        },
        "outputId": "21a8cab2-57c0-45ac-e96e-790e52b6dd30"
      },
      "cell_type": "code",
      "source": [
        "llso_bskt = bskt.loc[(bskt['School'] == 'Louisiana Tech') |\n",
        "        (bskt['School'] == 'Long Beach St.') |\n",
        "        (bskt['School'] == 'Southern California') | \n",
        "        (bskt['School'] == 'Old Dominion')]\n",
        "llso_bskt.sample(10)"
      ],
      "execution_count": 58,
      "outputs": [
        {
          "output_type": "execute_result",
          "data": {
            "text/html": [
              "<div>\n",
              "<style scoped>\n",
              "    .dataframe tbody tr th:only-of-type {\n",
              "        vertical-align: middle;\n",
              "    }\n",
              "\n",
              "    .dataframe tbody tr th {\n",
              "        vertical-align: top;\n",
              "    }\n",
              "\n",
              "    .dataframe thead th {\n",
              "        text-align: right;\n",
              "    }\n",
              "</style>\n",
              "<table border=\"1\" class=\"dataframe\">\n",
              "  <thead>\n",
              "    <tr style=\"text-align: right;\">\n",
              "      <th></th>\n",
              "      <th>Year</th>\n",
              "      <th>School</th>\n",
              "      <th>Seed</th>\n",
              "      <th>Conference</th>\n",
              "      <th>Conf. W</th>\n",
              "      <th>Conf. L</th>\n",
              "      <th>Conf. %</th>\n",
              "      <th>Conf. place</th>\n",
              "      <th>Reg. W</th>\n",
              "      <th>Reg. L</th>\n",
              "      <th>Reg. %</th>\n",
              "      <th>How qual</th>\n",
              "      <th>1st game at home?</th>\n",
              "      <th>Tourney W</th>\n",
              "      <th>Tourney L</th>\n",
              "      <th>Tourney finish</th>\n",
              "      <th>Full W</th>\n",
              "      <th>Full L</th>\n",
              "      <th>Full %</th>\n",
              "      <th>seed points</th>\n",
              "    </tr>\n",
              "  </thead>\n",
              "  <tbody>\n",
              "    <tr>\n",
              "      <th>107</th>\n",
              "      <td>1985</td>\n",
              "      <td>Long Beach St.</td>\n",
              "      <td>1</td>\n",
              "      <td>Western Collegiate</td>\n",
              "      <td>13</td>\n",
              "      <td>1</td>\n",
              "      <td>92.9</td>\n",
              "      <td>1st</td>\n",
              "      <td>26</td>\n",
              "      <td>2</td>\n",
              "      <td>92.9</td>\n",
              "      <td>auto</td>\n",
              "      <td>Y</td>\n",
              "      <td>2</td>\n",
              "      <td>1</td>\n",
              "      <td>RF</td>\n",
              "      <td>28</td>\n",
              "      <td>3</td>\n",
              "      <td>90.3</td>\n",
              "      <td>100</td>\n",
              "    </tr>\n",
              "    <tr>\n",
              "      <th>1603</th>\n",
              "      <td>2011</td>\n",
              "      <td>Louisiana Tech</td>\n",
              "      <td>10</td>\n",
              "      <td>Western Athletic</td>\n",
              "      <td>15</td>\n",
              "      <td>1</td>\n",
              "      <td>93.8</td>\n",
              "      <td>1st</td>\n",
              "      <td>24</td>\n",
              "      <td>7</td>\n",
              "      <td>77.4</td>\n",
              "      <td>at-large</td>\n",
              "      <td>N</td>\n",
              "      <td>0</td>\n",
              "      <td>1</td>\n",
              "      <td>1st</td>\n",
              "      <td>24</td>\n",
              "      <td>8</td>\n",
              "      <td>75</td>\n",
              "      <td>14</td>\n",
              "    </tr>\n",
              "    <tr>\n",
              "      <th>1092</th>\n",
              "      <td>2003</td>\n",
              "      <td>Louisiana Tech</td>\n",
              "      <td>5</td>\n",
              "      <td>Western Athletic</td>\n",
              "      <td>18</td>\n",
              "      <td>0</td>\n",
              "      <td>100</td>\n",
              "      <td>1st</td>\n",
              "      <td>29</td>\n",
              "      <td>2</td>\n",
              "      <td>93.5</td>\n",
              "      <td>auto</td>\n",
              "      <td>Y</td>\n",
              "      <td>2</td>\n",
              "      <td>1</td>\n",
              "      <td>RSF</td>\n",
              "      <td>31</td>\n",
              "      <td>3</td>\n",
              "      <td>91.2</td>\n",
              "      <td>36</td>\n",
              "    </tr>\n",
              "    <tr>\n",
              "      <th>120</th>\n",
              "      <td>1985</td>\n",
              "      <td>Southern California</td>\n",
              "      <td>4</td>\n",
              "      <td>Western Collegiate</td>\n",
              "      <td>10</td>\n",
              "      <td>4</td>\n",
              "      <td>71.4</td>\n",
              "      <td>T2nd</td>\n",
              "      <td>19</td>\n",
              "      <td>8</td>\n",
              "      <td>70.4</td>\n",
              "      <td>at-large</td>\n",
              "      <td>Y</td>\n",
              "      <td>1</td>\n",
              "      <td>1</td>\n",
              "      <td>RSF</td>\n",
              "      <td>20</td>\n",
              "      <td>9</td>\n",
              "      <td>69</td>\n",
              "      <td>44</td>\n",
              "    </tr>\n",
              "    <tr>\n",
              "      <th>13</th>\n",
              "      <td>1982</td>\n",
              "      <td>Long Beach St.</td>\n",
              "      <td>1</td>\n",
              "      <td>Western Collegiate</td>\n",
              "      <td>-</td>\n",
              "      <td>-</td>\n",
              "      <td>-</td>\n",
              "      <td>-</td>\n",
              "      <td>22</td>\n",
              "      <td>5</td>\n",
              "      <td>81.5</td>\n",
              "      <td>auto</td>\n",
              "      <td>Y</td>\n",
              "      <td>1</td>\n",
              "      <td>1</td>\n",
              "      <td>RSF</td>\n",
              "      <td>23</td>\n",
              "      <td>6</td>\n",
              "      <td>79.3</td>\n",
              "      <td>100</td>\n",
              "    </tr>\n",
              "    <tr>\n",
              "      <th>588</th>\n",
              "      <td>1995</td>\n",
              "      <td>Old Dominion</td>\n",
              "      <td>8</td>\n",
              "      <td>Colonial</td>\n",
              "      <td>13</td>\n",
              "      <td>1</td>\n",
              "      <td>92.9</td>\n",
              "      <td>T1st</td>\n",
              "      <td>27</td>\n",
              "      <td>5</td>\n",
              "      <td>84.4</td>\n",
              "      <td>auto</td>\n",
              "      <td>N</td>\n",
              "      <td>0</td>\n",
              "      <td>1</td>\n",
              "      <td>1st</td>\n",
              "      <td>27</td>\n",
              "      <td>6</td>\n",
              "      <td>81.8</td>\n",
              "      <td>21</td>\n",
              "    </tr>\n",
              "    <tr>\n",
              "      <th>459</th>\n",
              "      <td>1993</td>\n",
              "      <td>Louisiana Tech</td>\n",
              "      <td>6</td>\n",
              "      <td>Sun Belt</td>\n",
              "      <td>13</td>\n",
              "      <td>1</td>\n",
              "      <td>92.9</td>\n",
              "      <td>T1st</td>\n",
              "      <td>23</td>\n",
              "      <td>5</td>\n",
              "      <td>82.1</td>\n",
              "      <td>at-large</td>\n",
              "      <td>Y</td>\n",
              "      <td>3</td>\n",
              "      <td>1</td>\n",
              "      <td>RF</td>\n",
              "      <td>26</td>\n",
              "      <td>6</td>\n",
              "      <td>81.3</td>\n",
              "      <td>30</td>\n",
              "    </tr>\n",
              "    <tr>\n",
              "      <th>47</th>\n",
              "      <td>1983</td>\n",
              "      <td>Louisiana Tech</td>\n",
              "      <td>1</td>\n",
              "      <td>Independent</td>\n",
              "      <td>-</td>\n",
              "      <td>-</td>\n",
              "      <td>-</td>\n",
              "      <td>-</td>\n",
              "      <td>27</td>\n",
              "      <td>1</td>\n",
              "      <td>96.4</td>\n",
              "      <td>at-large</td>\n",
              "      <td>Y</td>\n",
              "      <td>4</td>\n",
              "      <td>1</td>\n",
              "      <td>N2nd</td>\n",
              "      <td>31</td>\n",
              "      <td>2</td>\n",
              "      <td>93.9</td>\n",
              "      <td>100</td>\n",
              "    </tr>\n",
              "    <tr>\n",
              "      <th>226</th>\n",
              "      <td>1988</td>\n",
              "      <td>Louisiana Tech</td>\n",
              "      <td>2</td>\n",
              "      <td>American South</td>\n",
              "      <td>9</td>\n",
              "      <td>0</td>\n",
              "      <td>100</td>\n",
              "      <td>1st</td>\n",
              "      <td>27</td>\n",
              "      <td>2</td>\n",
              "      <td>93.1</td>\n",
              "      <td>at-large</td>\n",
              "      <td>Y</td>\n",
              "      <td>5</td>\n",
              "      <td>0</td>\n",
              "      <td>Champ</td>\n",
              "      <td>32</td>\n",
              "      <td>2</td>\n",
              "      <td>94.1</td>\n",
              "      <td>70</td>\n",
              "    </tr>\n",
              "    <tr>\n",
              "      <th>772</th>\n",
              "      <td>1998</td>\n",
              "      <td>Louisiana Tech</td>\n",
              "      <td>3</td>\n",
              "      <td>Sun Belt</td>\n",
              "      <td>13</td>\n",
              "      <td>1</td>\n",
              "      <td>92.9</td>\n",
              "      <td>1st</td>\n",
              "      <td>26</td>\n",
              "      <td>3</td>\n",
              "      <td>89.7</td>\n",
              "      <td>auto</td>\n",
              "      <td>Y</td>\n",
              "      <td>5</td>\n",
              "      <td>1</td>\n",
              "      <td>N2nd</td>\n",
              "      <td>31</td>\n",
              "      <td>4</td>\n",
              "      <td>88.6</td>\n",
              "      <td>55</td>\n",
              "    </tr>\n",
              "  </tbody>\n",
              "</table>\n",
              "</div>"
            ],
            "text/plain": [
              "      Year               School Seed          Conference Conf. W Conf. L  \\\n",
              "107   1985       Long Beach St.    1  Western Collegiate      13       1   \n",
              "1603  2011       Louisiana Tech   10    Western Athletic      15       1   \n",
              "1092  2003       Louisiana Tech    5    Western Athletic      18       0   \n",
              "120   1985  Southern California    4  Western Collegiate      10       4   \n",
              "13    1982       Long Beach St.    1  Western Collegiate       -       -   \n",
              "588   1995         Old Dominion    8            Colonial      13       1   \n",
              "459   1993       Louisiana Tech    6            Sun Belt      13       1   \n",
              "47    1983       Louisiana Tech    1         Independent       -       -   \n",
              "226   1988       Louisiana Tech    2      American South       9       0   \n",
              "772   1998       Louisiana Tech    3            Sun Belt      13       1   \n",
              "\n",
              "     Conf. % Conf. place  Reg. W  Reg. L  Reg. %  How qual 1st game at home?  \\\n",
              "107     92.9         1st      26       2    92.9      auto                 Y   \n",
              "1603    93.8         1st      24       7    77.4  at-large                 N   \n",
              "1092     100         1st      29       2    93.5      auto                 Y   \n",
              "120     71.4        T2nd      19       8    70.4  at-large                 Y   \n",
              "13         -           -      22       5    81.5      auto                 Y   \n",
              "588     92.9        T1st      27       5    84.4      auto                 N   \n",
              "459     92.9        T1st      23       5    82.1  at-large                 Y   \n",
              "47         -           -      27       1    96.4  at-large                 Y   \n",
              "226      100         1st      27       2    93.1  at-large                 Y   \n",
              "772     92.9         1st      26       3    89.7      auto                 Y   \n",
              "\n",
              "      Tourney W  Tourney L Tourney finish  Full W  Full L Full %  seed points  \n",
              "107           2          1             RF      28       3   90.3          100  \n",
              "1603          0          1            1st      24       8     75           14  \n",
              "1092          2          1            RSF      31       3   91.2           36  \n",
              "120           1          1            RSF      20       9     69           44  \n",
              "13            1          1            RSF      23       6   79.3          100  \n",
              "588           0          1            1st      27       6   81.8           21  \n",
              "459           3          1             RF      26       6   81.3           30  \n",
              "47            4          1           N2nd      31       2   93.9          100  \n",
              "226           5          0          Champ      32       2   94.1           70  \n",
              "772           5          1           N2nd      31       4   88.6           55  "
            ]
          },
          "metadata": {
            "tags": []
          },
          "execution_count": 58
        }
      ]
    },
    {
      "metadata": {
        "id": "V93xScmXUqlo",
        "colab_type": "code",
        "colab": {}
      },
      "cell_type": "code",
      "source": [
        "bskt_ct = pd.crosstab(index=llso_bskt['Year'], columns=llso_bskt['School'], aggfunc=np.mean, values=llso_bskt['seed points'])"
      ],
      "execution_count": 0,
      "outputs": []
    },
    {
      "metadata": {
        "id": "EJQBfDezWvHs",
        "colab_type": "code",
        "colab": {}
      },
      "cell_type": "code",
      "source": [
        "bskt_ct = bskt_ct.fillna(0)"
      ],
      "execution_count": 0,
      "outputs": []
    },
    {
      "metadata": {
        "id": "cLNC-hXK7dmt",
        "colab_type": "code",
        "colab": {
          "base_uri": "https://localhost:8080/",
          "height": 425
        },
        "outputId": "d4f57fe2-ceb1-4a23-85a2-3fe73cd71b03"
      },
      "cell_type": "code",
      "source": [
        "\n",
        "plt.style.use('fivethirtyeight')\n",
        "\n",
        "f, ((ax1, ax2), (ax3, ax4)) = plt.subplots(2, 2, sharex='col', sharey='row')\n",
        "f.suptitle(\"The fall of yesterday's women's basketball powerhouses\")\n",
        "\n",
        "f.patch.set_facecolor('#eeeeee')\n",
        "\n",
        "x = bskt_ct.index.values\n",
        "y1 = bskt_ct['Louisiana Tech']\n",
        "y2 = bskt_ct['Long Beach St.']\n",
        "y3 =  bskt_ct['Southern California']\n",
        "y4 = bskt_ct['Old Dominion']\n",
        "\n",
        "ax1.plot(x, y1, c='b', alpha=.8)\n",
        "ax2.plot(x, y2, c='y')\n",
        "ax3.plot(x, y3, c='r')\n",
        "ax4.plot(x, y4, c='#777777')\n",
        "\n",
        "ax1.set_title('Louisiana Tech')\n",
        "ax2.set_title('Long Beach State')\n",
        "ax3.set_title('Southern California')\n",
        "ax4.set_title('Old Dominion');\n",
        "\n",
        "ax1.fill_between(x,y1, color=\"#a1c9ff\", alpha=.4)\n",
        "ax2.fill_between(x,y2, color=\"#fbff3f\", alpha=.4)\n",
        "ax3.fill_between(x,y3, color=\"#ff6666\", alpha=.4)\n",
        "ax4.fill_between(x,y4, color=\"#777777\", alpha=.4)\n",
        "\n",
        "\n",
        "\n"
      ],
      "execution_count": 122,
      "outputs": [
        {
          "output_type": "execute_result",
          "data": {
            "text/plain": [
              "<matplotlib.collections.PolyCollection at 0x7f3538901f98>"
            ]
          },
          "metadata": {
            "tags": []
          },
          "execution_count": 122
        },
        {
          "output_type": "display_data",
          "data": {
            "image/png": "[encoded data removed]",
            "text/plain": [
              "<Figure size 576x396 with 4 Axes>"
            ]
          },
          "metadata": {
            "tags": []
          }
        }
      ]
    },
    {
      "metadata": {
        "id": "SEzhOeoXG7vj",
        "colab_type": "code",
        "colab": {
          "base_uri": "https://localhost:8080/",
          "height": 421
        },
        "outputId": "f8b58669-0f82-483e-dd65-ffb56ac2b5fd"
      },
      "cell_type": "code",
      "source": [
        "display(example)"
      ],
      "execution_count": 21,
      "outputs": [
        {
          "output_type": "display_data",
          "data": {
            "text/html": [
              "<img src=\"https://fivethirtyeight.com/wp-content/uploads/2019/03/paine.womens-bball-programs.03tk-2.png?w=575\" width=\"400\"/>"
            ],
            "text/plain": [
              "<IPython.core.display.Image object>"
            ]
          },
          "metadata": {
            "tags": []
          }
        }
      ]
    },
    {
      "metadata": {
        "id": "OegfSdtaG-nt",
        "colab_type": "code",
        "colab": {}
      },
      "cell_type": "code",
      "source": [
        ""
      ],
      "execution_count": 0,
      "outputs": []
    }
  ]
}