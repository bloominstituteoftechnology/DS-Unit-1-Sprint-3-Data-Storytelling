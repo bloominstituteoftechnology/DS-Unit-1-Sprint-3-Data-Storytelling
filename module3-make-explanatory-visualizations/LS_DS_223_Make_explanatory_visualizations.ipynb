{
 "cells": [
  {
   "cell_type": "markdown",
   "metadata": {
    "colab_type": "text",
    "id": "-8-trVo__vRE"
   },
   "source": [
    "_Lambda School Data Science_\n",
    "\n",
    "# Make explanatory visualizations\n",
    "\n",
    "\n",
    "\n",
    "\n",
    "Tody we will reproduce this [example by FiveThirtyEight:](https://fivethirtyeight.com/features/al-gores-new-movie-exposes-the-big-flaw-in-online-movie-ratings/)"
   ]
  },
  {
   "cell_type": "code",
   "execution_count": 5,
   "metadata": {
    "colab": {},
    "colab_type": "code",
    "id": "ya_w5WORGs-n"
   },
   "outputs": [
    {
     "data": {
      "text/html": [
       "<img src=\"https://fivethirtyeight.com/wp-content/uploads/2017/09/mehtahickey-inconvenient-0830-1.png\" width=\"400\"/>"
      ],
      "text/plain": [
       "<IPython.core.display.Image object>"
      ]
     },
     "metadata": {},
     "output_type": "display_data"
    }
   ],
   "source": [
    "from IPython.display import display, Image\n",
    "\n",
    "url = 'https://fivethirtyeight.com/wp-content/uploads/2017/09/mehtahickey-inconvenient-0830-1.png'\n",
    "example = Image(url=url, width=400)\n",
    "\n",
    "display(example)"
   ]
  },
  {
   "cell_type": "markdown",
   "metadata": {
    "colab_type": "text",
    "id": "HP4DALiRG3sC"
   },
   "source": [
    "Using this data: https://github.com/fivethirtyeight/data/tree/master/inconvenient-sequel"
   ]
  },
  {
   "cell_type": "markdown",
   "metadata": {
    "colab_type": "text",
    "id": "HioPkYtUG03B"
   },
   "source": [
    "Objectives\n",
    "- add emphasis and annotations to transform visualizations from exploratory to explanatory\n",
    "- remove clutter from visualizations\n",
    "\n",
    "Links\n",
    "- [Strong Titles Are The Biggest Bang for Your Buck](http://stephanieevergreen.com/strong-titles/)\n",
    "- [Remove to improve (the data-ink ratio)](https://www.darkhorseanalytics.com/blog/data-looks-better-naked)\n",
    "- [How to Generate FiveThirtyEight Graphs in Python](https://www.dataquest.io/blog/making-538-plots/)"
   ]
  },
  {
   "cell_type": "markdown",
   "metadata": {
    "colab_type": "text",
    "id": "0w_iMnQ6-VoQ"
   },
   "source": [
    "## Make prototypes\n",
    "\n",
    "This  helps us understand the problem"
   ]
  },
  {
   "cell_type": "code",
   "execution_count": 6,
   "metadata": {
    "colab": {},
    "colab_type": "code",
    "id": "5uz0eEaEN-GO"
   },
   "outputs": [
    {
     "data": {
      "image/png": "[encoded data removed]",
      "text/plain": [
       "<Figure size 432x288 with 1 Axes>"
      ]
     },
     "metadata": {},
     "output_type": "display_data"
    }
   ],
   "source": [
    "%matplotlib inline\n",
    "import matplotlib.pyplot as plt\n",
    "import numpy as np\n",
    "import pandas as pd\n",
    "\n",
    "plt.style.use('fivethirtyeight')\n",
    "\n",
    "fake = pd.Series([38, 3, 2, 1, 2, 4, 6, 5, 5, 33], \n",
    "                 index=range(1,11))\n",
    "\n",
    "fake.plot.bar(color='C1', width=0.9);"
   ]
  },
  {
   "cell_type": "code",
   "execution_count": 7,
   "metadata": {
    "colab": {},
    "colab_type": "code",
    "id": "KZ0VLOV8OyRr"
   },
   "outputs": [
    {
     "data": {
      "image/png": "[encoded data removed]",
      "text/plain": [
       "<Figure size 432x288 with 1 Axes>"
      ]
     },
     "metadata": {
      "needs_background": "light"
     },
     "output_type": "display_data"
    }
   ],
   "source": [
    "fake2 = pd.Series(\n",
    "    [1, 1, 1, 1, 1, 1, 1, 1, 1, 1, 1, 1, 1, 1, 1, 1, 1, 1, 1, 1, 1, 1, 1, 1,\n",
    "     2, 2, 2, \n",
    "     3, 3, 3,\n",
    "     4, 4,\n",
    "     5, 5, 5,\n",
    "     6, 6, 6, 6,\n",
    "     7, 7, 7, 7, 7,\n",
    "     8, 8, 8, 8,\n",
    "     9, 9, 9, 9, \n",
    "     10, 10, 10, 10, 10, 10, 10, 10, 10, 10, 10, 10, 10, 10, 10, 10, 10, 10])\n",
    "\n",
    "fake2.value_counts().sort_index().plot.bar(color='C1', width=0.9);"
   ]
  },
  {
   "cell_type": "markdown",
   "metadata": {
    "colab_type": "text",
    "id": "mZb3UZWO-q05"
   },
   "source": [
    "## Annotate with text"
   ]
  },
  {
   "cell_type": "code",
   "execution_count": 8,
   "metadata": {
    "colab": {},
    "colab_type": "code",
    "id": "f6U1vswr_uWp"
   },
   "outputs": [
    {
     "data": {
      "image/png": "[encoded data removed]",
      "text/plain": [
       "<Figure size 432x288 with 1 Axes>"
      ]
     },
     "metadata": {
      "needs_background": "light"
     },
     "output_type": "display_data"
    }
   ],
   "source": [
    "fake = pd.Series([38, 3, 2, 1, 2, 4, 6, 5, 5, 33], \n",
    "                 index=range(1,11))\n",
    "\n",
    "ax = fake.plot.bar(color='C1', width=0.9);\n",
    "ax.text(\n",
    "    y=45, \n",
    "    x=-1, \n",
    "    s='An Inconveinent Truth: Truth to Power is divisive',\n",
    "    fontsize=16,\n",
    "    fontweight='bold'\n",
    ")\n",
    "\n",
    "ax.text(\n",
    "    y=42, \n",
    "    x=-1, \n",
    "    s='IMDb ratings for the film as of Aug. 29',\n",
    "    fontsize=12,\n",
    "    fontweight='normal'\n",
    ")\n",
    "\n",
    "ax.set(\n",
    "    xlabel='Rating',\n",
    "    ylabel='Percent of total votes',\n",
    ");"
   ]
  },
  {
   "cell_type": "markdown",
   "metadata": {
    "colab_type": "text",
    "id": "x8jRZkpB_MJ6"
   },
   "source": [
    "## Reproduce with real data"
   ]
  },
  {
   "cell_type": "code",
   "execution_count": 46,
   "metadata": {
    "colab": {},
    "colab_type": "code",
    "id": "3SOHJckDUPI8"
   },
   "outputs": [],
   "source": [
    "df = pd.read_csv('https://raw.githubusercontent.com/fivethirtyeight/data/master/inconvenient-sequel/ratings.csv')"
   ]
  },
  {
   "cell_type": "code",
   "execution_count": 58,
   "metadata": {
    "colab": {},
    "colab_type": "code",
    "id": "cDltXxhC_yG-"
   },
   "outputs": [
    {
     "name": "stdout",
     "output_type": "stream",
     "text": [
      "Wed Jan 23 18:25:23 UTC 2019\n"
     ]
    },
    {
     "data": {
      "image/png": "[encoded data removed]",
      "text/plain": [
       "<Figure size 432x288 with 1 Axes>"
      ]
     },
     "metadata": {},
     "output_type": "display_data"
    }
   ],
   "source": [
    "# Because I'm proud, finished this before Ryan described it, during lecture!\n",
    "!date \n",
    "\n",
    "fte_color = '#ed713a'\n",
    "\n",
    "percents = df.loc[:, '1_pct':'10_pct'].apply(round).describe().loc['mean']\n",
    "percents.index = percents.index.str.replace('_pct', '')\n",
    "\n",
    "plt.style.use('fivethirtyeight')\n",
    "\n",
    "ax = percents.plot.bar(color=[fte_color])\n",
    "ax.text(\n",
    "    y=45, \n",
    "    x=-1, \n",
    "    s='An Inconveinent Truth: Truth to Power is divisive',\n",
    "    fontsize=16,\n",
    "    fontweight='bold'\n",
    ")\n",
    "\n",
    "ax.text(\n",
    "    y=42, \n",
    "    x=-1, \n",
    "    s='IMDb ratings for the film as of Aug. 29',\n",
    "    fontsize=12,\n",
    "    fontweight='normal'\n",
    ")\n",
    "\n",
    "ax.set(\n",
    "    xlabel='Rating',\n",
    "    ylabel='Percent of total votes',\n",
    ");"
   ]
  },
  {
   "cell_type": "markdown",
   "metadata": {
    "colab_type": "text",
    "id": "NMEswXWh9mqw"
   },
   "source": [
    "# ASSIGNMENT\n",
    "\n",
    "Replicate the lesson code. I recommend that you [do not copy-paste](https://docs.google.com/document/d/1ubOw9B3Hfip27hF2ZFnW3a3z9xAgrUDRReOEo-FHCVs/edit).\n",
    "\n",
    "# STRETCH OPTIONS\n",
    "\n",
    "#### Reproduce another example from [FiveThityEight's shared data repository](https://data.fivethirtyeight.com/).\n",
    "\n",
    "For example:\n",
    "- [thanksgiving-2015](https://fivethirtyeight.com/features/heres-what-your-part-of-america-eats-on-thanksgiving/) (try the [`altair`](https://altair-viz.github.io/gallery/index.html#maps) library)\n",
    "- [candy-power-ranking](https://fivethirtyeight.com/features/the-ultimate-halloween-candy-power-ranking/) (try the [`statsmodels`](https://www.statsmodels.org/stable/index.html) library)\n",
    "- or another example of your choice!\n",
    "\n",
    "#### Make more charts!\n",
    "\n",
    "Choose a chart you want to make, from [FT's Visual Vocabulary poster](http://ft.com/vocabulary).\n",
    "\n",
    "Find the chart in an example gallery of a Python data visualization library:\n",
    "- [Seaborn](http://seaborn.pydata.org/examples/index.html)\n",
    "- [Altair](https://altair-viz.github.io/gallery/index.html)\n",
    "- [Matplotlib](https://matplotlib.org/gallery.html)\n",
    "- [Pandas](https://pandas.pydata.org/pandas-docs/stable/visualization.html)\n",
    "\n",
    "Reproduce the chart. [Optionally, try the \"Ben Franklin Method.\"](https://docs.google.com/document/d/1ubOw9B3Hfip27hF2ZFnW3a3z9xAgrUDRReOEo-FHCVs/edit) If you want, experiment and make changes.\n",
    "\n",
    "Take notes. Consider sharing your work with your cohort!\n",
    "\n",
    "\n",
    "\n",
    "\n",
    "\n",
    "\n",
    "\n"
   ]
  }
 ],
 "metadata": {
  "colab": {
   "collapsed_sections": [],
   "name": "LS_DS_223_Make_explanatory_visualizations.ipynb",
   "provenance": [],
   "version": "0.3.2"
  },
  "kernelspec": {
   "display_name": "Python 3",
   "language": "python",
   "name": "python3"
  },
  "language_info": {
   "codemirror_mode": {
    "name": "ipython",
    "version": 3
   },
   "file_extension": ".py",
   "mimetype": "text/x-python",
   "name": "python",
   "nbconvert_exporter": "python",
   "pygments_lexer": "ipython3",
   "version": "3.6.7"
  }
 },
 "nbformat": 4,
 "nbformat_minor": 2
}
