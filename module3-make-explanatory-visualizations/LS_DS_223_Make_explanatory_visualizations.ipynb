{
  "nbformat": 4,
  "nbformat_minor": 0,
  "metadata": {
    "colab": {
      "name": "LS_DS_223_Make_explanatory_visualizations.ipynb",
      "version": "0.3.2",
      "provenance": [],
      "collapsed_sections": [],
      "include_colab_link": true
    },
    "kernelspec": {
      "display_name": "Python 3",
      "language": "python",
      "name": "python3"
    }
  },
  "cells": [
    {
      "cell_type": "markdown",
      "metadata": {
        "id": "view-in-github",
        "colab_type": "text"
      },
      "source": [
        "<a href=\"https://colab.research.google.com/github/derek-shing/DS-Unit-1-Sprint-3-Data-Storytelling/blob/master/module3-make-explanatory-visualizations/LS_DS_223_Make_explanatory_visualizations.ipynb\" target=\"_parent\"><img src=\"https://colab.research.google.com/assets/colab-badge.svg\" alt=\"Open In Colab\"/></a>"
      ]
    },
    {
      "metadata": {
        "id": "-8-trVo__vRE",
        "colab_type": "text"
      },
      "cell_type": "markdown",
      "source": [
        "_Lambda School Data Science_\n",
        "\n",
        "# Make explanatory visualizations\n",
        "\n",
        "\n",
        "\n",
        "\n",
        "Tody we will reproduce this [example by FiveThirtyEight:](https://fivethirtyeight.com/features/al-gores-new-movie-exposes-the-big-flaw-in-online-movie-ratings/)"
      ]
    },
    {
      "metadata": {
        "id": "ya_w5WORGs-n",
        "colab_type": "code",
        "colab": {
          "base_uri": "https://localhost:8080/",
          "height": 355
        },
        "outputId": "a08bdee9-9b47-4737-e410-4d08f9a79c9a"
      },
      "cell_type": "code",
      "source": [
        "from IPython.display import display, Image\n",
        "\n",
        "url = 'https://fivethirtyeight.com/wp-content/uploads/2017/09/mehtahickey-inconvenient-0830-1.png'\n",
        "example = Image(url=url, width=400)\n",
        "\n",
        "display(example)"
      ],
      "execution_count": 1,
      "outputs": [
        {
          "output_type": "display_data",
          "data": {
            "text/html": [
              "<img src=\"https://fivethirtyeight.com/wp-content/uploads/2017/09/mehtahickey-inconvenient-0830-1.png\" width=\"400\"/>"
            ],
            "text/plain": [
              "<IPython.core.display.Image object>"
            ]
          },
          "metadata": {
            "tags": []
          }
        }
      ]
    },
    {
      "metadata": {
        "id": "HP4DALiRG3sC",
        "colab_type": "text"
      },
      "cell_type": "markdown",
      "source": [
        "Using this data: https://github.com/fivethirtyeight/data/tree/master/inconvenient-sequel"
      ]
    },
    {
      "metadata": {
        "id": "HioPkYtUG03B",
        "colab_type": "text"
      },
      "cell_type": "markdown",
      "source": [
        "Objectives\n",
        "- add emphasis and annotations to transform visualizations from exploratory to explanatory\n",
        "- remove clutter from visualizations\n",
        "\n",
        "Links\n",
        "- [Strong Titles Are The Biggest Bang for Your Buck](http://stephanieevergreen.com/strong-titles/)\n",
        "- [Remove to improve (the data-ink ratio)](https://www.darkhorseanalytics.com/blog/data-looks-better-naked)\n",
        "- [How to Generate FiveThirtyEight Graphs in Python](https://www.dataquest.io/blog/making-538-plots/)"
      ]
    },
    {
      "metadata": {
        "id": "0w_iMnQ6-VoQ",
        "colab_type": "text"
      },
      "cell_type": "markdown",
      "source": [
        "## Make prototypes\n",
        "\n",
        "This  helps us understand the problem"
      ]
    },
    {
      "metadata": {
        "id": "5uz0eEaEN-GO",
        "colab_type": "code",
        "colab": {
          "base_uri": "https://localhost:8080/",
          "height": 282
        },
        "outputId": "b31feba3-729b-4da1-a982-bd9f159df0cb"
      },
      "cell_type": "code",
      "source": [
        "%matplotlib inline\n",
        "import matplotlib.pyplot as plt\n",
        "import numpy as np\n",
        "import pandas as pd\n",
        "\n",
        "\n",
        "plt.style.use('fivethirtyeight')\n",
        "\n",
        "fake = pd.Series([38, 3, 2, 1, 2, 4, 6, 5, 5, 33], \n",
        "                 index=range(1,11))\n",
        "\n",
        "fake.plot.bar(color='C1', width=0.9);"
      ],
      "execution_count": 2,
      "outputs": [
        {
          "output_type": "display_data",
          "data": {
            "image/png": "[encoded data removed]",
            "text/plain": [
              "<Figure size 432x288 with 1 Axes>"
            ]
          },
          "metadata": {
            "tags": []
          }
        }
      ]
    },
    {
      "metadata": {
        "id": "fvtjSHamueeM",
        "colab_type": "code",
        "colab": {
          "base_uri": "https://localhost:8080/",
          "height": 459
        },
        "outputId": "d0d1e492-d96e-4a2c-edea-71cb2dce80c2"
      },
      "cell_type": "code",
      "source": [
        "plt.style.available"
      ],
      "execution_count": 4,
      "outputs": [
        {
          "output_type": "execute_result",
          "data": {
            "text/plain": [
              "['seaborn-dark-palette',\n",
              " 'seaborn-deep',\n",
              " 'seaborn-colorblind',\n",
              " 'seaborn-darkgrid',\n",
              " 'Solarize_Light2',\n",
              " 'seaborn',\n",
              " 'fivethirtyeight',\n",
              " '_classic_test',\n",
              " 'seaborn-pastel',\n",
              " 'seaborn-bright',\n",
              " 'fast',\n",
              " 'ggplot',\n",
              " 'seaborn-dark',\n",
              " 'seaborn-poster',\n",
              " 'grayscale',\n",
              " 'seaborn-paper',\n",
              " 'seaborn-talk',\n",
              " 'dark_background',\n",
              " 'seaborn-white',\n",
              " 'classic',\n",
              " 'tableau-colorblind10',\n",
              " 'seaborn-notebook',\n",
              " 'seaborn-whitegrid',\n",
              " 'seaborn-muted',\n",
              " 'bmh',\n",
              " 'seaborn-ticks']"
            ]
          },
          "metadata": {
            "tags": []
          },
          "execution_count": 4
        }
      ]
    },
    {
      "metadata": {
        "id": "KZ0VLOV8OyRr",
        "colab_type": "code",
        "colab": {
          "base_uri": "https://localhost:8080/",
          "height": 285
        },
        "outputId": "35855a7c-72dd-4503-cd41-7455af7e3bfe"
      },
      "cell_type": "code",
      "source": [
        "fake2 = pd.Series(\n",
        "    [1, 1, 1, 1, 1, 1, 1, 1, 1, 1, 1, 1, 1, 1, 1, 1, 1, 1, 1, 1, 1, 1, 1, 1,\n",
        "     2, 2, 2, \n",
        "     3, 3, 3,\n",
        "     4, 4,\n",
        "     5, 5, 5,\n",
        "     6, 6, 6, 6,\n",
        "     7, 7, 7, 7, 7,\n",
        "     8, 8, 8, 8,\n",
        "     9, 9, 9, 9, \n",
        "     10, 10, 10, 10, 10, 10, 10, 10, 10, 10, 10, 10, 10, 10, 10, 10, 10, 10])\n",
        "\n",
        "fake2.value_counts().sort_index().plot.bar(color='C1', width=0.9);"
      ],
      "execution_count": 5,
      "outputs": [
        {
          "output_type": "display_data",
          "data": {
            "image/png": "[encoded data removed]",
            "text/plain": [
              "<Figure size 432x288 with 1 Axes>"
            ]
          },
          "metadata": {
            "tags": []
          }
        }
      ]
    },
    {
      "metadata": {
        "id": "mZb3UZWO-q05",
        "colab_type": "text"
      },
      "cell_type": "markdown",
      "source": [
        "## Annotate with text"
      ]
    },
    {
      "metadata": {
        "id": "f6U1vswr_uWp",
        "colab_type": "code",
        "colab": {
          "base_uri": "https://localhost:8080/",
          "height": 489
        },
        "outputId": "580c6f88-336f-4c68-a02e-10841ad16a8c"
      },
      "cell_type": "code",
      "source": [
        "\n",
        "\n",
        "plt.style.use('fivethirtyeight')\n",
        "\n",
        "fake = pd.Series([38, 3, 2, 1, 2, 4, 6, 5, 5, 33], \n",
        "                 index=range(1,11))\n",
        "\n",
        "ax = fake.plot.bar(color='C1', width=0.9);\n",
        "\n",
        "ax.tick_params(labelrotation=0)\n",
        "\n",
        "#ax.set(title=\"An Incovenient Sequel: Truth To Power' is divisive\")\n",
        "\n",
        "ax.text(x=-2,y=50,s=\"An Incovenient Sequel: Truth To Power' is divisive\", fontsize=16,fontweight='bold')\n",
        "\n",
        "ax.text(x=-2,y=46,s=\"IMdb ratings for the film as of Aug.29\")\n",
        "\n",
        "ax.set(xlabel='Rating', ylabel='Percent of total votes', yticks=range(0,50,10))\n"
      ],
      "execution_count": 6,
      "outputs": [
        {
          "output_type": "execute_result",
          "data": {
            "text/plain": [
              "[[<matplotlib.axis.YTick at 0x7ffa04fbb0b8>,\n",
              "  <matplotlib.axis.YTick at 0x7ffa050170f0>,\n",
              "  <matplotlib.axis.YTick at 0x7ffa04f6f9e8>,\n",
              "  <matplotlib.axis.YTick at 0x7ffa04f6ff98>,\n",
              "  <matplotlib.axis.YTick at 0x7ffa04f795f8>],\n",
              " Text(0, 0.5, 'Percent of total votes'),\n",
              " Text(0.5, 0, 'Rating')]"
            ]
          },
          "metadata": {
            "tags": []
          },
          "execution_count": 6
        },
        {
          "output_type": "display_data",
          "data": {
            "image/png": "[encoded data removed]",
            "text/plain": [
              "<Figure size 432x288 with 1 Axes>"
            ]
          },
          "metadata": {
            "tags": []
          }
        }
      ]
    },
    {
      "metadata": {
        "id": "kWOO9gpPylhd",
        "colab_type": "code",
        "colab": {
          "base_uri": "https://localhost:8080/",
          "height": 355
        },
        "outputId": "793774f2-bd8a-41fd-8c10-b18f4b5f918f"
      },
      "cell_type": "code",
      "source": [
        "display(example)"
      ],
      "execution_count": 7,
      "outputs": [
        {
          "output_type": "display_data",
          "data": {
            "text/html": [
              "<img src=\"https://fivethirtyeight.com/wp-content/uploads/2017/09/mehtahickey-inconvenient-0830-1.png\" width=\"400\"/>"
            ],
            "text/plain": [
              "<IPython.core.display.Image object>"
            ]
          },
          "metadata": {
            "tags": []
          }
        }
      ]
    },
    {
      "metadata": {
        "id": "x8jRZkpB_MJ6",
        "colab_type": "text"
      },
      "cell_type": "markdown",
      "source": [
        "## Reproduce with real data"
      ]
    },
    {
      "metadata": {
        "id": "3SOHJckDUPI8",
        "colab_type": "code",
        "colab": {}
      },
      "cell_type": "code",
      "source": [
        "df = pd.read_csv('https://raw.githubusercontent.com/fivethirtyeight/data/master/inconvenient-sequel/ratings.csv')"
      ],
      "execution_count": 0,
      "outputs": []
    },
    {
      "metadata": {
        "id": "cDltXxhC_yG-",
        "colab_type": "code",
        "colab": {
          "base_uri": "https://localhost:8080/",
          "height": 34
        },
        "outputId": "8208bb3e-c6b6-472e-d3f5-5170fdd6e898"
      },
      "cell_type": "code",
      "source": [
        "df.shape\n"
      ],
      "execution_count": 9,
      "outputs": [
        {
          "output_type": "execute_result",
          "data": {
            "text/plain": [
              "(80053, 27)"
            ]
          },
          "metadata": {
            "tags": []
          },
          "execution_count": 9
        }
      ]
    },
    {
      "metadata": {
        "id": "BbJ2Aipv5pgv",
        "colab_type": "code",
        "colab": {}
      },
      "cell_type": "code",
      "source": [
        "width, height = df.shape"
      ],
      "execution_count": 0,
      "outputs": []
    },
    {
      "metadata": {
        "id": "rUJUOpEa51R0",
        "colab_type": "code",
        "colab": {}
      },
      "cell_type": "code",
      "source": [
        "pd.options.display.max_columns=500"
      ],
      "execution_count": 0,
      "outputs": []
    },
    {
      "metadata": {
        "id": "N9mTOGg96Dvf",
        "colab_type": "code",
        "colab": {}
      },
      "cell_type": "code",
      "source": [
        "df.T"
      ],
      "execution_count": 0,
      "outputs": []
    },
    {
      "metadata": {
        "id": "9jNlaiTpBqxN",
        "colab_type": "text"
      },
      "cell_type": "markdown",
      "source": [
        ""
      ]
    },
    {
      "metadata": {
        "id": "MKspWClT6_go",
        "colab_type": "code",
        "colab": {}
      },
      "cell_type": "code",
      "source": [
        "df.timestamp = pd.to_datetime(df.timestamp)"
      ],
      "execution_count": 0,
      "outputs": []
    },
    {
      "metadata": {
        "id": "iNdTFKFq7QG0",
        "colab_type": "code",
        "colab": {}
      },
      "cell_type": "code",
      "source": [
        "df.timestamp.describe()"
      ],
      "execution_count": 0,
      "outputs": []
    },
    {
      "metadata": {
        "id": "spIinhNn7WfN",
        "colab_type": "code",
        "colab": {}
      },
      "cell_type": "code",
      "source": [
        "df=df.set_index('timestamp')"
      ],
      "execution_count": 0,
      "outputs": []
    },
    {
      "metadata": {
        "id": "TGWcXpRA7fs8",
        "colab_type": "code",
        "colab": {}
      },
      "cell_type": "code",
      "source": [
        "df.head()"
      ],
      "execution_count": 0,
      "outputs": []
    },
    {
      "metadata": {
        "id": "jqVOs1Mv8KY6",
        "colab_type": "code",
        "colab": {}
      },
      "cell_type": "code",
      "source": [
        "condition = (df.category=='IMDb users')"
      ],
      "execution_count": 0,
      "outputs": []
    },
    {
      "metadata": {
        "id": "BVbK8dpi9GsI",
        "colab_type": "code",
        "colab": {}
      },
      "cell_type": "code",
      "source": [
        "df[condition]"
      ],
      "execution_count": 0,
      "outputs": []
    },
    {
      "metadata": {
        "id": "wRHIFw3O9OYF",
        "colab_type": "code",
        "colab": {}
      },
      "cell_type": "code",
      "source": [
        "lastday= df['2017-08-29']"
      ],
      "execution_count": 0,
      "outputs": []
    },
    {
      "metadata": {
        "id": "ZVmeEHNl9rdO",
        "colab_type": "code",
        "colab": {
          "base_uri": "https://localhost:8080/",
          "height": 51
        },
        "outputId": "eefc402e-1d9d-4e6a-9939-0068aed7c962"
      },
      "cell_type": "code",
      "source": [
        " lastday = lastday[condition]"
      ],
      "execution_count": 24,
      "outputs": [
        {
          "output_type": "stream",
          "text": [
            "/usr/local/lib/python3.6/dist-packages/ipykernel_launcher.py:1: UserWarning: Boolean Series key will be reindexed to match DataFrame index.\n",
            "  \"\"\"Entry point for launching an IPython kernel.\n"
          ],
          "name": "stderr"
        }
      ]
    },
    {
      "metadata": {
        "id": "ZN-HPyLeAn0z",
        "colab_type": "code",
        "colab": {}
      },
      "cell_type": "code",
      "source": [
        "final=lastday.tail(1)"
      ],
      "execution_count": 0,
      "outputs": []
    },
    {
      "metadata": {
        "id": "z8DSdyoH-gt_",
        "colab_type": "code",
        "colab": {}
      },
      "cell_type": "code",
      "source": [
        "columns = [str(i)+'_pct' for i in range(1,11)]"
      ],
      "execution_count": 0,
      "outputs": []
    },
    {
      "metadata": {
        "id": "ifcjD2kL-wBE",
        "colab_type": "code",
        "colab": {}
      },
      "cell_type": "code",
      "source": [
        "final = final[columns]"
      ],
      "execution_count": 0,
      "outputs": []
    },
    {
      "metadata": {
        "id": "1XGY8uzE_Gf9",
        "colab_type": "code",
        "colab": {}
      },
      "cell_type": "code",
      "source": [
        "data = final.T"
      ],
      "execution_count": 0,
      "outputs": []
    },
    {
      "metadata": {
        "id": "4BBdnnBQMlwz",
        "colab_type": "code",
        "colab": {
          "base_uri": "https://localhost:8080/",
          "height": 204
        },
        "outputId": "20ddfe42-2bfc-4a67-ef7f-5067572cabcf"
      },
      "cell_type": "code",
      "source": [
        "data.head()"
      ],
      "execution_count": 35,
      "outputs": [
        {
          "output_type": "execute_result",
          "data": {
            "text/html": [
              "<div>\n",
              "<style scoped>\n",
              "    .dataframe tbody tr th:only-of-type {\n",
              "        vertical-align: middle;\n",
              "    }\n",
              "\n",
              "    .dataframe tbody tr th {\n",
              "        vertical-align: top;\n",
              "    }\n",
              "\n",
              "    .dataframe thead th {\n",
              "        text-align: right;\n",
              "    }\n",
              "</style>\n",
              "<table border=\"1\" class=\"dataframe\">\n",
              "  <thead>\n",
              "    <tr style=\"text-align: right;\">\n",
              "      <th>timestamp</th>\n",
              "      <th>2017-08-29 23:10:06.218251</th>\n",
              "    </tr>\n",
              "  </thead>\n",
              "  <tbody>\n",
              "    <tr>\n",
              "      <th>1_pct</th>\n",
              "      <td>38.4</td>\n",
              "    </tr>\n",
              "    <tr>\n",
              "      <th>2_pct</th>\n",
              "      <td>2.6</td>\n",
              "    </tr>\n",
              "    <tr>\n",
              "      <th>3_pct</th>\n",
              "      <td>1.4</td>\n",
              "    </tr>\n",
              "    <tr>\n",
              "      <th>4_pct</th>\n",
              "      <td>0.9</td>\n",
              "    </tr>\n",
              "    <tr>\n",
              "      <th>5_pct</th>\n",
              "      <td>2.1</td>\n",
              "    </tr>\n",
              "  </tbody>\n",
              "</table>\n",
              "</div>"
            ],
            "text/plain": [
              "timestamp  2017-08-29 23:10:06.218251\n",
              "1_pct                            38.4\n",
              "2_pct                             2.6\n",
              "3_pct                             1.4\n",
              "4_pct                             0.9\n",
              "5_pct                             2.1"
            ]
          },
          "metadata": {
            "tags": []
          },
          "execution_count": 35
        }
      ]
    },
    {
      "metadata": {
        "id": "0U9BdHPB5PNH",
        "colab_type": "code",
        "colab": {}
      },
      "cell_type": "code",
      "source": [
        "data.index=range(1,11)"
      ],
      "execution_count": 0,
      "outputs": []
    },
    {
      "metadata": {
        "id": "ZN44Y8wABx90",
        "colab_type": "code",
        "colab": {
          "base_uri": "https://localhost:8080/",
          "height": 487
        },
        "outputId": "55783595-a72a-47ec-ef73-d860e3559def"
      },
      "cell_type": "code",
      "source": [
        "plt.style.use('fivethirtyeight')\n",
        "\n",
        "\n",
        "ax = data.plot.bar(color='C1', width=0.9, legend=None);\n",
        "\n",
        "ax.tick_params(labelrotation=0)\n",
        "\n",
        "#ax.set(title=\"An Incovenient Sequel: Truth To Power' is divisive\")\n",
        "\n",
        "ax.text(x=-2,y=50,s=\"An Incovenient Sequel: Truth To Power' is divisive\", fontsize=16,fontweight='bold')\n",
        "\n",
        "ax.text(x=-2,y=46,s=\"IMdb ratings for the film as of Aug.29\")\n",
        "\n",
        "ax.set(xlabel='Rating', ylabel='Percent of total votes', yticks=range(0,50,10))"
      ],
      "execution_count": 41,
      "outputs": [
        {
          "output_type": "execute_result",
          "data": {
            "text/plain": [
              "[[<matplotlib.axis.YTick at 0x7ffa02825748>,\n",
              "  <matplotlib.axis.YTick at 0x7ffa02825048>,\n",
              "  <matplotlib.axis.YTick at 0x7ffa027d89b0>,\n",
              "  <matplotlib.axis.YTick at 0x7ffa027de4a8>,\n",
              "  <matplotlib.axis.YTick at 0x7ffa027decc0>],\n",
              " Text(0, 0.5, 'Percent of total votes'),\n",
              " Text(0.5, 0, 'Rating')]"
            ]
          },
          "metadata": {
            "tags": []
          },
          "execution_count": 41
        },
        {
          "output_type": "display_data",
          "data": {
            "image/png": "[encoded data removed]",
            "text/plain": [
              "<Figure size 432x288 with 1 Axes>"
            ]
          },
          "metadata": {
            "tags": []
          }
        }
      ]
    },
    {
      "metadata": {
        "id": "htVHiY4RGxyG",
        "colab_type": "code",
        "colab": {}
      },
      "cell_type": "code",
      "source": [
        "#ax.get_legend().remove()"
      ],
      "execution_count": 0,
      "outputs": []
    },
    {
      "metadata": {
        "id": "-YWou0PtL8uR",
        "colab_type": "code",
        "colab": {}
      },
      "cell_type": "code",
      "source": [
        ""
      ],
      "execution_count": 0,
      "outputs": []
    },
    {
      "metadata": {
        "id": "NMEswXWh9mqw",
        "colab_type": "text"
      },
      "cell_type": "markdown",
      "source": [
        "# ASSIGNMENT\n",
        "\n",
        "Replicate the lesson code. I recommend that you [do not copy-paste](https://docs.google.com/document/d/1ubOw9B3Hfip27hF2ZFnW3a3z9xAgrUDRReOEo-FHCVs/edit).\n",
        "\n",
        "# STRETCH OPTIONS\n",
        "\n",
        "#### Reproduce another example from [FiveThityEight's shared data repository](https://data.fivethirtyeight.com/).\n",
        "\n",
        "For example:\n",
        "- [thanksgiving-2015](https://fivethirtyeight.com/features/heres-what-your-part-of-america-eats-on-thanksgiving/) (try the [`altair`](https://altair-viz.github.io/gallery/index.html#maps) library)\n",
        "- [candy-power-ranking](https://fivethirtyeight.com/features/the-ultimate-halloween-candy-power-ranking/) (try the [`statsmodels`](https://www.statsmodels.org/stable/index.html) library)\n",
        "- or another example of your choice!\n",
        "\n",
        "#### Make more charts!\n",
        "\n",
        "Choose a chart you want to make, from [FT's Visual Vocabulary poster](http://ft.com/vocabulary).\n",
        "\n",
        "Find the chart in an example gallery of a Python data visualization library:\n",
        "- [Seaborn](http://seaborn.pydata.org/examples/index.html)\n",
        "- [Altair](https://altair-viz.github.io/gallery/index.html)\n",
        "- [Matplotlib](https://matplotlib.org/gallery.html)\n",
        "- [Pandas](https://pandas.pydata.org/pandas-docs/stable/visualization.html)\n",
        "\n",
        "Reproduce the chart. [Optionally, try the \"Ben Franklin Method.\"](https://docs.google.com/document/d/1ubOw9B3Hfip27hF2ZFnW3a3z9xAgrUDRReOEo-FHCVs/edit) If you want, experiment and make changes.\n",
        "\n",
        "Take notes. Consider sharing your work with your cohort!\n",
        "\n",
        "\n",
        "\n",
        "\n",
        "\n",
        "\n",
        "\n"
      ]
    },
    {
      "metadata": {
        "id": "fWrc5yM18edC",
        "colab_type": "text"
      },
      "cell_type": "markdown",
      "source": [
        "**Thanksgiving 2015**"
      ]
    },
    {
      "metadata": {
        "id": "_X2FjMX-8rwF",
        "colab_type": "code",
        "colab": {}
      },
      "cell_type": "code",
      "source": [
        "\n",
        "\n",
        "thanksgiving_df =pd.read_csv('https://raw.githubusercontent.com/fivethirtyeight/data/master/thanksgiving-2015/thanksgiving-2015-poll-data.csv')"
      ],
      "execution_count": 0,
      "outputs": []
    },
    {
      "metadata": {
        "id": "CgJHlQ5p80gR",
        "colab_type": "code",
        "colab": {
          "base_uri": "https://localhost:8080/",
          "height": 34
        },
        "outputId": "642a5e8f-74d6-4213-ce3e-0852de4a63b4"
      },
      "cell_type": "code",
      "source": [
        "thanksgiving_df.shape"
      ],
      "execution_count": 48,
      "outputs": [
        {
          "output_type": "execute_result",
          "data": {
            "text/plain": [
              "(1058, 65)"
            ]
          },
          "metadata": {
            "tags": []
          },
          "execution_count": 48
        }
      ]
    },
    {
      "metadata": {
        "id": "1Yk3P35Z_9XW",
        "colab_type": "code",
        "colab": {}
      },
      "cell_type": "code",
      "source": [
        "pd.options.display.max_rows=500"
      ],
      "execution_count": 0,
      "outputs": []
    },
    {
      "metadata": {
        "id": "vR0k1QjLBSTs",
        "colab_type": "code",
        "colab": {}
      },
      "cell_type": "code",
      "source": [
        "#Get subset of the columns\n",
        "\n",
        "subset = thanksgiving_df.loc[:,'Which of these side dishes aretypically served at your Thanksgiving dinner? Please select all that apply. - Carrots':'Which of these side dishes aretypically served at your Thanksgiving dinner? Please select all that apply. - Other (please specify).1']"
      ],
      "execution_count": 0,
      "outputs": []
    },
    {
      "metadata": {
        "id": "Y4GtOLMnGaiE",
        "colab_type": "text"
      },
      "cell_type": "markdown",
      "source": [
        ""
      ]
    },
    {
      "metadata": {
        "id": "XJanKuYiCK8B",
        "colab_type": "code",
        "colab": {}
      },
      "cell_type": "code",
      "source": [
        "subset"
      ],
      "execution_count": 0,
      "outputs": []
    },
    {
      "metadata": {
        "id": "L8NHp06U_jS1",
        "colab_type": "code",
        "colab": {
          "base_uri": "https://localhost:8080/",
          "height": 2115
        },
        "outputId": "e0a593e5-d657-48fa-8d21-68bbca2789dd"
      },
      "cell_type": "code",
      "source": [
        "thanksgiving_df.head(1).T"
      ],
      "execution_count": 67,
      "outputs": [
        {
          "output_type": "execute_result",
          "data": {
            "text/html": [
              "<div>\n",
              "<style scoped>\n",
              "    .dataframe tbody tr th:only-of-type {\n",
              "        vertical-align: middle;\n",
              "    }\n",
              "\n",
              "    .dataframe tbody tr th {\n",
              "        vertical-align: top;\n",
              "    }\n",
              "\n",
              "    .dataframe thead th {\n",
              "        text-align: right;\n",
              "    }\n",
              "</style>\n",
              "<table border=\"1\" class=\"dataframe\">\n",
              "  <thead>\n",
              "    <tr style=\"text-align: right;\">\n",
              "      <th></th>\n",
              "      <th>0</th>\n",
              "    </tr>\n",
              "  </thead>\n",
              "  <tbody>\n",
              "    <tr>\n",
              "      <th>RespondentID</th>\n",
              "      <td>4337954960</td>\n",
              "    </tr>\n",
              "    <tr>\n",
              "      <th>Do you celebrate Thanksgiving?</th>\n",
              "      <td>Yes</td>\n",
              "    </tr>\n",
              "    <tr>\n",
              "      <th>What is typically the main dish at your Thanksgiving dinner?</th>\n",
              "      <td>Turkey</td>\n",
              "    </tr>\n",
              "    <tr>\n",
              "      <th>What is typically the main dish at your Thanksgiving dinner? - Other (please specify)</th>\n",
              "      <td>NaN</td>\n",
              "    </tr>\n",
              "    <tr>\n",
              "      <th>How is the main dish typically cooked?</th>\n",
              "      <td>Baked</td>\n",
              "    </tr>\n",
              "    <tr>\n",
              "      <th>How is the main dish typically cooked? - Other (please specify)</th>\n",
              "      <td>NaN</td>\n",
              "    </tr>\n",
              "    <tr>\n",
              "      <th>What kind of stuffing/dressing do you typically have?</th>\n",
              "      <td>Bread-based</td>\n",
              "    </tr>\n",
              "    <tr>\n",
              "      <th>What kind of stuffing/dressing do you typically have? - Other (please specify)</th>\n",
              "      <td>NaN</td>\n",
              "    </tr>\n",
              "    <tr>\n",
              "      <th>What type of cranberry saucedo you typically have?</th>\n",
              "      <td>None</td>\n",
              "    </tr>\n",
              "    <tr>\n",
              "      <th>What type of cranberry saucedo you typically have? - Other (please specify)</th>\n",
              "      <td>NaN</td>\n",
              "    </tr>\n",
              "    <tr>\n",
              "      <th>Do you typically have gravy?</th>\n",
              "      <td>Yes</td>\n",
              "    </tr>\n",
              "    <tr>\n",
              "      <th>Which of these side dishes aretypically served at your Thanksgiving dinner? Please select all that apply. - Brussel sprouts</th>\n",
              "      <td>NaN</td>\n",
              "    </tr>\n",
              "    <tr>\n",
              "      <th>Which of these side dishes aretypically served at your Thanksgiving dinner? Please select all that apply. - Carrots</th>\n",
              "      <td>Carrots</td>\n",
              "    </tr>\n",
              "    <tr>\n",
              "      <th>Which of these side dishes aretypically served at your Thanksgiving dinner? Please select all that apply. - Cauliflower</th>\n",
              "      <td>NaN</td>\n",
              "    </tr>\n",
              "    <tr>\n",
              "      <th>Which of these side dishes aretypically served at your Thanksgiving dinner? Please select all that apply. - Corn</th>\n",
              "      <td>NaN</td>\n",
              "    </tr>\n",
              "    <tr>\n",
              "      <th>Which of these side dishes aretypically served at your Thanksgiving dinner? Please select all that apply. - Cornbread</th>\n",
              "      <td>NaN</td>\n",
              "    </tr>\n",
              "    <tr>\n",
              "      <th>Which of these side dishes aretypically served at your Thanksgiving dinner? Please select all that apply. - Fruit salad</th>\n",
              "      <td>NaN</td>\n",
              "    </tr>\n",
              "    <tr>\n",
              "      <th>Which of these side dishes aretypically served at your Thanksgiving dinner? Please select all that apply. - Green beans/green bean casserole</th>\n",
              "      <td>Green beans/green bean casserole</td>\n",
              "    </tr>\n",
              "    <tr>\n",
              "      <th>Which of these side dishes aretypically served at your Thanksgiving dinner? Please select all that apply. - Macaroni and cheese</th>\n",
              "      <td>Macaroni and cheese</td>\n",
              "    </tr>\n",
              "    <tr>\n",
              "      <th>Which of these side dishes aretypically served at your Thanksgiving dinner? Please select all that apply. - Mashed potatoes</th>\n",
              "      <td>Mashed potatoes</td>\n",
              "    </tr>\n",
              "    <tr>\n",
              "      <th>Which of these side dishes aretypically served at your Thanksgiving dinner? Please select all that apply. - Rolls/biscuits</th>\n",
              "      <td>NaN</td>\n",
              "    </tr>\n",
              "    <tr>\n",
              "      <th>Which of these side dishes aretypically served at your Thanksgiving dinner? Please select all that apply. - Squash</th>\n",
              "      <td>NaN</td>\n",
              "    </tr>\n",
              "    <tr>\n",
              "      <th>Which of these side dishes aretypically served at your Thanksgiving dinner? Please select all that apply. - Vegetable salad</th>\n",
              "      <td>NaN</td>\n",
              "    </tr>\n",
              "    <tr>\n",
              "      <th>Which of these side dishes aretypically served at your Thanksgiving dinner? Please select all that apply. - Yams/sweet potato casserole</th>\n",
              "      <td>Yams/sweet potato casserole</td>\n",
              "    </tr>\n",
              "    <tr>\n",
              "      <th>Which of these side dishes aretypically served at your Thanksgiving dinner? Please select all that apply. - Other (please specify)</th>\n",
              "      <td>NaN</td>\n",
              "    </tr>\n",
              "    <tr>\n",
              "      <th>Which of these side dishes aretypically served at your Thanksgiving dinner? Please select all that apply. - Other (please specify).1</th>\n",
              "      <td>NaN</td>\n",
              "    </tr>\n",
              "    <tr>\n",
              "      <th>Which type of pie is typically served at your Thanksgiving dinner? Please select all that apply. - Apple</th>\n",
              "      <td>Apple</td>\n",
              "    </tr>\n",
              "    <tr>\n",
              "      <th>Which type of pie is typically served at your Thanksgiving dinner? Please select all that apply. - Buttermilk</th>\n",
              "      <td>NaN</td>\n",
              "    </tr>\n",
              "    <tr>\n",
              "      <th>Which type of pie is typically served at your Thanksgiving dinner? Please select all that apply. - Cherry</th>\n",
              "      <td>NaN</td>\n",
              "    </tr>\n",
              "    <tr>\n",
              "      <th>Which type of pie is typically served at your Thanksgiving dinner? Please select all that apply. - Chocolate</th>\n",
              "      <td>NaN</td>\n",
              "    </tr>\n",
              "    <tr>\n",
              "      <th>Which type of pie is typically served at your Thanksgiving dinner? Please select all that apply. - Coconut cream</th>\n",
              "      <td>NaN</td>\n",
              "    </tr>\n",
              "    <tr>\n",
              "      <th>Which type of pie is typically served at your Thanksgiving dinner? Please select all that apply. - Key lime</th>\n",
              "      <td>NaN</td>\n",
              "    </tr>\n",
              "    <tr>\n",
              "      <th>Which type of pie is typically served at your Thanksgiving dinner? Please select all that apply. - Peach</th>\n",
              "      <td>NaN</td>\n",
              "    </tr>\n",
              "    <tr>\n",
              "      <th>Which type of pie is typically served at your Thanksgiving dinner? Please select all that apply. - Pecan</th>\n",
              "      <td>NaN</td>\n",
              "    </tr>\n",
              "    <tr>\n",
              "      <th>Which type of pie is typically served at your Thanksgiving dinner? Please select all that apply. - Pumpkin</th>\n",
              "      <td>NaN</td>\n",
              "    </tr>\n",
              "    <tr>\n",
              "      <th>Which type of pie is typically served at your Thanksgiving dinner? Please select all that apply. - Sweet Potato</th>\n",
              "      <td>NaN</td>\n",
              "    </tr>\n",
              "    <tr>\n",
              "      <th>Which type of pie is typically served at your Thanksgiving dinner? Please select all that apply. - None</th>\n",
              "      <td>NaN</td>\n",
              "    </tr>\n",
              "    <tr>\n",
              "      <th>Which type of pie is typically served at your Thanksgiving dinner? Please select all that apply. - Other (please specify)</th>\n",
              "      <td>NaN</td>\n",
              "    </tr>\n",
              "    <tr>\n",
              "      <th>Which type of pie is typically served at your Thanksgiving dinner? Please select all that apply. - Other (please specify).1</th>\n",
              "      <td>NaN</td>\n",
              "    </tr>\n",
              "    <tr>\n",
              "      <th>Which of these desserts do you typically have at Thanksgiving dinner? Please select all that apply.   - Apple cobbler</th>\n",
              "      <td>NaN</td>\n",
              "    </tr>\n",
              "    <tr>\n",
              "      <th>Which of these desserts do you typically have at Thanksgiving dinner? Please select all that apply.   - Blondies</th>\n",
              "      <td>NaN</td>\n",
              "    </tr>\n",
              "    <tr>\n",
              "      <th>Which of these desserts do you typically have at Thanksgiving dinner? Please select all that apply.   - Brownies</th>\n",
              "      <td>NaN</td>\n",
              "    </tr>\n",
              "    <tr>\n",
              "      <th>Which of these desserts do you typically have at Thanksgiving dinner? Please select all that apply.   - Carrot cake</th>\n",
              "      <td>NaN</td>\n",
              "    </tr>\n",
              "    <tr>\n",
              "      <th>Which of these desserts do you typically have at Thanksgiving dinner? Please select all that apply.   - Cheesecake</th>\n",
              "      <td>Cheesecake</td>\n",
              "    </tr>\n",
              "    <tr>\n",
              "      <th>Which of these desserts do you typically have at Thanksgiving dinner? Please select all that apply.   - Cookies</th>\n",
              "      <td>Cookies</td>\n",
              "    </tr>\n",
              "    <tr>\n",
              "      <th>Which of these desserts do you typically have at Thanksgiving dinner? Please select all that apply.   - Fudge</th>\n",
              "      <td>NaN</td>\n",
              "    </tr>\n",
              "    <tr>\n",
              "      <th>Which of these desserts do you typically have at Thanksgiving dinner? Please select all that apply.   - Ice cream</th>\n",
              "      <td>Ice cream</td>\n",
              "    </tr>\n",
              "    <tr>\n",
              "      <th>Which of these desserts do you typically have at Thanksgiving dinner? Please select all that apply.   - Peach cobbler</th>\n",
              "      <td>NaN</td>\n",
              "    </tr>\n",
              "    <tr>\n",
              "      <th>Which of these desserts do you typically have at Thanksgiving dinner? Please select all that apply.   - None</th>\n",
              "      <td>NaN</td>\n",
              "    </tr>\n",
              "    <tr>\n",
              "      <th>Which of these desserts do you typically have at Thanksgiving dinner? Please select all that apply.   - Other (please specify)</th>\n",
              "      <td>NaN</td>\n",
              "    </tr>\n",
              "    <tr>\n",
              "      <th>Which of these desserts do you typically have at Thanksgiving dinner? Please select all that apply.   - Other (please specify).1</th>\n",
              "      <td>NaN</td>\n",
              "    </tr>\n",
              "    <tr>\n",
              "      <th>Do you typically pray before or after the Thanksgiving meal?</th>\n",
              "      <td>Yes</td>\n",
              "    </tr>\n",
              "    <tr>\n",
              "      <th>How far will you travel for Thanksgiving?</th>\n",
              "      <td>Thanksgiving is local--it will take place in t...</td>\n",
              "    </tr>\n",
              "    <tr>\n",
              "      <th>Will you watch any of the following programs on Thanksgiving? Please select all that apply. - Macy's Parade</th>\n",
              "      <td>NaN</td>\n",
              "    </tr>\n",
              "    <tr>\n",
              "      <th>What's the age cutoff at your \"kids' table\" at Thanksgiving?</th>\n",
              "      <td>12</td>\n",
              "    </tr>\n",
              "    <tr>\n",
              "      <th>Have you ever tried to meet up with hometown friends on Thanksgiving night?</th>\n",
              "      <td>Yes</td>\n",
              "    </tr>\n",
              "    <tr>\n",
              "      <th>Have you ever attended a \"Friendsgiving?\"</th>\n",
              "      <td>No</td>\n",
              "    </tr>\n",
              "    <tr>\n",
              "      <th>Will you shop any Black Friday sales on Thanksgiving Day?</th>\n",
              "      <td>No</td>\n",
              "    </tr>\n",
              "    <tr>\n",
              "      <th>Do you work in retail?</th>\n",
              "      <td>No</td>\n",
              "    </tr>\n",
              "    <tr>\n",
              "      <th>Will you employer make you work on Black Friday?</th>\n",
              "      <td>NaN</td>\n",
              "    </tr>\n",
              "    <tr>\n",
              "      <th>How would you describe where you live?</th>\n",
              "      <td>Suburban</td>\n",
              "    </tr>\n",
              "    <tr>\n",
              "      <th>Age</th>\n",
              "      <td>18 - 29</td>\n",
              "    </tr>\n",
              "    <tr>\n",
              "      <th>What is your gender?</th>\n",
              "      <td>Male</td>\n",
              "    </tr>\n",
              "    <tr>\n",
              "      <th>How much total combined money did all members of your HOUSEHOLD earn last year?</th>\n",
              "      <td>$75,000 to $99,999</td>\n",
              "    </tr>\n",
              "    <tr>\n",
              "      <th>US Region</th>\n",
              "      <td>Middle Atlantic</td>\n",
              "    </tr>\n",
              "  </tbody>\n",
              "</table>\n",
              "</div>"
            ],
            "text/plain": [
              "                                                                                                    0\n",
              "RespondentID                                                                               4337954960\n",
              "Do you celebrate Thanksgiving?                                                                    Yes\n",
              "What is typically the main dish at your Thanksg...                                             Turkey\n",
              "What is typically the main dish at your Thanksg...                                                NaN\n",
              "How is the main dish typically cooked?                                                          Baked\n",
              "How is the main dish typically cooked? - Other ...                                                NaN\n",
              "What kind of stuffing/dressing do you typically...                                        Bread-based\n",
              "What kind of stuffing/dressing do you typically...                                                NaN\n",
              "What type of cranberry saucedo you typically have?                                               None\n",
              "What type of cranberry saucedo you typically ha...                                                NaN\n",
              "Do you typically have gravy?                                                                      Yes\n",
              "Which of these side dishes aretypically served ...                                                NaN\n",
              "Which of these side dishes aretypically served ...                                            Carrots\n",
              "Which of these side dishes aretypically served ...                                                NaN\n",
              "Which of these side dishes aretypically served ...                                                NaN\n",
              "Which of these side dishes aretypically served ...                                                NaN\n",
              "Which of these side dishes aretypically served ...                                                NaN\n",
              "Which of these side dishes aretypically served ...                   Green beans/green bean casserole\n",
              "Which of these side dishes aretypically served ...                                Macaroni and cheese\n",
              "Which of these side dishes aretypically served ...                                    Mashed potatoes\n",
              "Which of these side dishes aretypically served ...                                                NaN\n",
              "Which of these side dishes aretypically served ...                                                NaN\n",
              "Which of these side dishes aretypically served ...                                                NaN\n",
              "Which of these side dishes aretypically served ...                        Yams/sweet potato casserole\n",
              "Which of these side dishes aretypically served ...                                                NaN\n",
              "Which of these side dishes aretypically served ...                                                NaN\n",
              "Which type of pie is typically served at your T...                                              Apple\n",
              "Which type of pie is typically served at your T...                                                NaN\n",
              "Which type of pie is typically served at your T...                                                NaN\n",
              "Which type of pie is typically served at your T...                                                NaN\n",
              "Which type of pie is typically served at your T...                                                NaN\n",
              "Which type of pie is typically served at your T...                                                NaN\n",
              "Which type of pie is typically served at your T...                                                NaN\n",
              "Which type of pie is typically served at your T...                                                NaN\n",
              "Which type of pie is typically served at your T...                                                NaN\n",
              "Which type of pie is typically served at your T...                                                NaN\n",
              "Which type of pie is typically served at your T...                                                NaN\n",
              "Which type of pie is typically served at your T...                                                NaN\n",
              "Which type of pie is typically served at your T...                                                NaN\n",
              "Which of these desserts do you typically have a...                                                NaN\n",
              "Which of these desserts do you typically have a...                                                NaN\n",
              "Which of these desserts do you typically have a...                                                NaN\n",
              "Which of these desserts do you typically have a...                                                NaN\n",
              "Which of these desserts do you typically have a...                                         Cheesecake\n",
              "Which of these desserts do you typically have a...                                            Cookies\n",
              "Which of these desserts do you typically have a...                                                NaN\n",
              "Which of these desserts do you typically have a...                                          Ice cream\n",
              "Which of these desserts do you typically have a...                                                NaN\n",
              "Which of these desserts do you typically have a...                                                NaN\n",
              "Which of these desserts do you typically have a...                                                NaN\n",
              "Which of these desserts do you typically have a...                                                NaN\n",
              "Do you typically pray before or after the Thank...                                                Yes\n",
              "How far will you travel for Thanksgiving?           Thanksgiving is local--it will take place in t...\n",
              "Will you watch any of the following programs on...                                                NaN\n",
              "What's the age cutoff at your \"kids' table\" at ...                                                 12\n",
              "Have you ever tried to meet up with hometown fr...                                                Yes\n",
              "Have you ever attended a \"Friendsgiving?\"                                                          No\n",
              "Will you shop any Black Friday sales on Thanksg...                                                 No\n",
              "Do you work in retail?                                                                             No\n",
              "Will you employer make you work on Black Friday?                                                  NaN\n",
              "How would you describe where you live?                                                       Suburban\n",
              "Age                                                                                           18 - 29\n",
              "What is your gender?                                                                             Male\n",
              "How much total combined money did all members o...                                 $75,000 to $99,999\n",
              "US Region                                                                             Middle Atlantic"
            ]
          },
          "metadata": {
            "tags": []
          },
          "execution_count": 67
        }
      ]
    },
    {
      "metadata": {
        "id": "RyNeDFqT_qRT",
        "colab_type": "code",
        "colab": {
          "base_uri": "https://localhost:8080/",
          "height": 292
        },
        "outputId": "be260ec2-ad98-4524-f196-2f4d83ecf803"
      },
      "cell_type": "code",
      "source": [
        "subset.columns"
      ],
      "execution_count": 65,
      "outputs": [
        {
          "output_type": "execute_result",
          "data": {
            "text/plain": [
              "Index(['Which of these side dishes aretypically served at your Thanksgiving dinner? Please select all that apply. - Carrots',\n",
              "       'Which of these side dishes aretypically served at your Thanksgiving dinner? Please select all that apply. - Cauliflower',\n",
              "       'Which of these side dishes aretypically served at your Thanksgiving dinner? Please select all that apply. - Corn',\n",
              "       'Which of these side dishes aretypically served at your Thanksgiving dinner? Please select all that apply. - Cornbread',\n",
              "       'Which of these side dishes aretypically served at your Thanksgiving dinner? Please select all that apply. - Fruit salad',\n",
              "       'Which of these side dishes aretypically served at your Thanksgiving dinner? Please select all that apply. - Green beans/green bean casserole',\n",
              "       'Which of these side dishes aretypically served at your Thanksgiving dinner? Please select all that apply. - Macaroni and cheese',\n",
              "       'Which of these side dishes aretypically served at your Thanksgiving dinner? Please select all that apply. - Mashed potatoes',\n",
              "       'Which of these side dishes aretypically served at your Thanksgiving dinner? Please select all that apply. - Rolls/biscuits',\n",
              "       'Which of these side dishes aretypically served at your Thanksgiving dinner? Please select all that apply. - Squash',\n",
              "       'Which of these side dishes aretypically served at your Thanksgiving dinner? Please select all that apply. - Vegetable salad',\n",
              "       'Which of these side dishes aretypically served at your Thanksgiving dinner? Please select all that apply. - Yams/sweet potato casserole',\n",
              "       'Which of these side dishes aretypically served at your Thanksgiving dinner? Please select all that apply. - Other (please specify)',\n",
              "       'Which of these side dishes aretypically served at your Thanksgiving dinner? Please select all that apply. - Other (please specify).1'],\n",
              "      dtype='object')"
            ]
          },
          "metadata": {
            "tags": []
          },
          "execution_count": 65
        }
      ]
    },
    {
      "metadata": {
        "id": "NBIz_IiUEgko",
        "colab_type": "code",
        "colab": {
          "base_uri": "https://localhost:8080/",
          "height": 51
        },
        "outputId": "caf4df43-2c63-4e9d-fd54-adfa1f24a0b3"
      },
      "cell_type": "code",
      "source": [
        "name= subset.columns[0]\n",
        "subset[name].value_counts()"
      ],
      "execution_count": 66,
      "outputs": [
        {
          "output_type": "execute_result",
          "data": {
            "text/plain": [
              "Carrots    242\n",
              "Name: Which of these side dishes aretypically served at your Thanksgiving dinner? Please select all that apply. - Carrots, dtype: int64"
            ]
          },
          "metadata": {
            "tags": []
          },
          "execution_count": 66
        }
      ]
    },
    {
      "metadata": {
        "id": "qpaFZWI9FoGy",
        "colab_type": "code",
        "colab": {}
      },
      "cell_type": "code",
      "source": [
        ""
      ],
      "execution_count": 0,
      "outputs": []
    }
  ]
}