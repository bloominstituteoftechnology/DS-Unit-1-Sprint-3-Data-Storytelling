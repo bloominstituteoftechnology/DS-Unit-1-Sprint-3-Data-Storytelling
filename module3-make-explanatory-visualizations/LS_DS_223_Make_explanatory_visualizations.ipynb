{
  "nbformat": 4,
  "nbformat_minor": 0,
  "metadata": {
    "colab": {
      "name": "LS_DS_223_Make_explanatory_visualizations.ipynb",
      "version": "0.3.2",
      "provenance": [],
      "collapsed_sections": [],
      "include_colab_link": true
    },
    "kernelspec": {
      "display_name": "Python 3",
      "language": "python",
      "name": "python3"
    }
  },
  "cells": [
    {
      "cell_type": "markdown",
      "metadata": {
        "id": "view-in-github",
        "colab_type": "text"
      },
      "source": [
        "<a href=\"https://colab.research.google.com/github/dustiny5/DS-Unit-1-Sprint-3-Data-Storytelling/blob/master/module3-make-explanatory-visualizations/LS_DS_223_Make_explanatory_visualizations.ipynb\" target=\"_parent\"><img src=\"https://colab.research.google.com/assets/colab-badge.svg\" alt=\"Open In Colab\"/></a>"
      ]
    },
    {
      "metadata": {
        "colab_type": "text",
        "id": "-8-trVo__vRE"
      },
      "cell_type": "markdown",
      "source": [
        "_Lambda School Data Science_\n",
        "\n",
        "# Make explanatory visualizations\n",
        "\n",
        "\n",
        "\n",
        "\n",
        "Tody we will reproduce this [example by FiveThirtyEight:](https://fivethirtyeight.com/features/al-gores-new-movie-exposes-the-big-flaw-in-online-movie-ratings/)"
      ]
    },
    {
      "metadata": {
        "colab_type": "code",
        "id": "ya_w5WORGs-n",
        "outputId": "5f650f11-0b58-4660-b093-a2aaa03ce3dd",
        "colab": {
          "base_uri": "https://localhost:8080/",
          "height": 355
        }
      },
      "cell_type": "code",
      "source": [
        "from IPython.display import display, Image\n",
        "\n",
        "url = 'https://fivethirtyeight.com/wp-content/uploads/2017/09/mehtahickey-inconvenient-0830-1.png'\n",
        "example = Image(url=url, width=400)\n",
        "\n",
        "display(example)"
      ],
      "execution_count": 3,
      "outputs": [
        {
          "output_type": "display_data",
          "data": {
            "text/html": [
              "<img src=\"https://fivethirtyeight.com/wp-content/uploads/2017/09/mehtahickey-inconvenient-0830-1.png\" width=\"400\"/>"
            ],
            "text/plain": [
              "<IPython.core.display.Image object>"
            ]
          },
          "metadata": {
            "tags": []
          }
        }
      ]
    },
    {
      "metadata": {
        "colab_type": "text",
        "id": "HP4DALiRG3sC"
      },
      "cell_type": "markdown",
      "source": [
        "Using this data: https://github.com/fivethirtyeight/data/tree/master/inconvenient-sequel"
      ]
    },
    {
      "metadata": {
        "colab_type": "text",
        "id": "HioPkYtUG03B"
      },
      "cell_type": "markdown",
      "source": [
        "Objectives\n",
        "- add emphasis and annotations to transform visualizations from exploratory to explanatory\n",
        "- remove clutter from visualizations\n",
        "\n",
        "Links\n",
        "- [Strong Titles Are The Biggest Bang for Your Buck](http://stephanieevergreen.com/strong-titles/)\n",
        "- [Remove to improve (the data-ink ratio)](https://www.darkhorseanalytics.com/blog/data-looks-better-naked)\n",
        "- [How to Generate FiveThirtyEight Graphs in Python](https://www.dataquest.io/blog/making-538-plots/)"
      ]
    },
    {
      "metadata": {
        "colab_type": "text",
        "id": "0w_iMnQ6-VoQ"
      },
      "cell_type": "markdown",
      "source": [
        "## Make prototypes\n",
        "\n",
        "This  helps us understand the problem"
      ]
    },
    {
      "metadata": {
        "colab_type": "code",
        "id": "5uz0eEaEN-GO",
        "outputId": "452ba2f4-c60e-4b06-d6d9-5258ae4c59e7",
        "colab": {
          "base_uri": "https://localhost:8080/",
          "height": 282
        }
      },
      "cell_type": "code",
      "source": [
        "%matplotlib inline\n",
        "import matplotlib.pyplot as plt\n",
        "import numpy as np\n",
        "import pandas as pd\n",
        "\n",
        "\n",
        "plt.style.use('fivethirtyeight')\n",
        "\n",
        "fake = pd.Series([38, 3, 2, 1, 2, 4, 6, 5, 5, 33], \n",
        "                 index=range(1,11))\n",
        "\n",
        "fake.plot.bar(color='C1', width=0.9);"
      ],
      "execution_count": 4,
      "outputs": [
        {
          "output_type": "display_data",
          "data": {
            "image/png": "[encoded data removed]",
            "text/plain": [
              "<Figure size 432x288 with 1 Axes>"
            ]
          },
          "metadata": {
            "tags": []
          }
        }
      ]
    },
    {
      "metadata": {
        "colab_type": "code",
        "id": "KZ0VLOV8OyRr",
        "outputId": "380498dd-805a-4c5c-d1b5-76c6917777c5",
        "colab": {
          "base_uri": "https://localhost:8080/",
          "height": 285
        }
      },
      "cell_type": "code",
      "source": [
        "fake2 = pd.Series(\n",
        "    [1, 1, 1, 1, 1, 1, 1, 1, 1, 1, 1, 1, 1, 1, 1, 1, 1, 1, 1, 1, 1, 1, 1, 1,\n",
        "     2, 2, 2, \n",
        "     3, 3, 3,\n",
        "     4, 4,\n",
        "     5, 5, 5,\n",
        "     6, 6, 6, 6,\n",
        "     7, 7, 7, 7, 7,\n",
        "     8, 8, 8, 8,\n",
        "     9, 9, 9, 9, \n",
        "     10, 10, 10, 10, 10, 10, 10, 10, 10, 10, 10, 10, 10, 10, 10, 10, 10, 10])\n",
        "\n",
        "fake2.value_counts().sort_index().plot.bar(color='C1', width=0.9);"
      ],
      "execution_count": 5,
      "outputs": [
        {
          "output_type": "display_data",
          "data": {
            "image/png": "[encoded data removed]",
            "text/plain": [
              "<Figure size 432x288 with 1 Axes>"
            ]
          },
          "metadata": {
            "tags": []
          }
        }
      ]
    },
    {
      "metadata": {
        "colab_type": "text",
        "id": "mZb3UZWO-q05"
      },
      "cell_type": "markdown",
      "source": [
        "## Annotate with text"
      ]
    },
    {
      "metadata": {
        "colab_type": "code",
        "id": "f6U1vswr_uWp",
        "outputId": "3c86cc8d-0d9c-45c4-c760-9f94254ddd63",
        "colab": {
          "base_uri": "https://localhost:8080/",
          "height": 246
        }
      },
      "cell_type": "code",
      "source": [
        "plt.style.use('fivethirtyeight')\n",
        "fig = plt.figure()\n",
        "fig.patch.set_facecolor('#f9f9f9')\n",
        "\n",
        "fake = pd.Series([38, 3, 2, 1, 2, 4, 6, 5, 5, 33], \n",
        "                 index=range(1,11))\n",
        "\n",
        "ax = data.plot.bar(color='#ef7030', width=0.9);\n",
        "#help(ax.text)\n",
        "\n",
        "\n",
        "ax.set(yticks=range(0,50,10), facecolor='#f9f9f9')\n",
        "\n",
        "#plt.title('An Inconvenient Sequel: Truth to Power')\n",
        "plt.xlabel('Rating', fontsize=10, fontweight='bold')\n",
        "plt.ylabel('Percent of total votes', fontsize=10, fontweight='bold')\n",
        "ax.get_legend().remove()\n",
        "\n",
        "ax.text(x=-2, y=45, s=\"'An Inconvenient Sequel: Truth to Power' is divisive\", fontsize=14, fontweight='bold');\n",
        "ax.text(x=-2, y=42, s='IMDB ratings for the film as of Aug. 29', fontsize=10);\n",
        "ax.tick_params(labelrotation=0)"
      ],
      "execution_count": 6,
      "outputs": [
        {
          "output_type": "error",
          "ename": "NameError",
          "evalue": "ignored",
          "traceback": [
            "\u001b[0;31m---------------------------------------------------------------------------\u001b[0m",
            "\u001b[0;31mNameError\u001b[0m                                 Traceback (most recent call last)",
            "\u001b[0;32m<ipython-input-6-c2c465ba3eaf>\u001b[0m in \u001b[0;36m<module>\u001b[0;34m()\u001b[0m\n\u001b[1;32m      6\u001b[0m                  index=range(1,11))\n\u001b[1;32m      7\u001b[0m \u001b[0;34m\u001b[0m\u001b[0m\n\u001b[0;32m----> 8\u001b[0;31m \u001b[0max\u001b[0m \u001b[0;34m=\u001b[0m \u001b[0mdata\u001b[0m\u001b[0;34m.\u001b[0m\u001b[0mplot\u001b[0m\u001b[0;34m.\u001b[0m\u001b[0mbar\u001b[0m\u001b[0;34m(\u001b[0m\u001b[0mcolor\u001b[0m\u001b[0;34m=\u001b[0m\u001b[0;34m'#ef7030'\u001b[0m\u001b[0;34m,\u001b[0m \u001b[0mwidth\u001b[0m\u001b[0;34m=\u001b[0m\u001b[0;36m0.9\u001b[0m\u001b[0;34m)\u001b[0m\u001b[0;34m;\u001b[0m\u001b[0;34m\u001b[0m\u001b[0;34m\u001b[0m\u001b[0m\n\u001b[0m\u001b[1;32m      9\u001b[0m \u001b[0;31m#help(ax.text)\u001b[0m\u001b[0;34m\u001b[0m\u001b[0;34m\u001b[0m\u001b[0;34m\u001b[0m\u001b[0m\n\u001b[1;32m     10\u001b[0m \u001b[0;34m\u001b[0m\u001b[0m\n",
            "\u001b[0;31mNameError\u001b[0m: name 'data' is not defined"
          ]
        },
        {
          "output_type": "display_data",
          "data": {
            "text/plain": [
              "<Figure size 432x288 with 0 Axes>"
            ]
          },
          "metadata": {
            "tags": []
          }
        }
      ]
    },
    {
      "metadata": {
        "id": "9729DSPlDfBA",
        "colab_type": "code",
        "colab": {}
      },
      "cell_type": "code",
      "source": [
        "display(example)"
      ],
      "execution_count": 0,
      "outputs": []
    },
    {
      "metadata": {
        "colab_type": "text",
        "id": "x8jRZkpB_MJ6"
      },
      "cell_type": "markdown",
      "source": [
        "## Reproduce with real data"
      ]
    },
    {
      "metadata": {
        "colab_type": "code",
        "id": "3SOHJckDUPI8",
        "colab": {}
      },
      "cell_type": "code",
      "source": [
        "df = pd.read_csv('https://raw.githubusercontent.com/fivethirtyeight/data/master/inconvenient-sequel/ratings.csv')"
      ],
      "execution_count": 0,
      "outputs": []
    },
    {
      "metadata": {
        "colab_type": "code",
        "id": "cDltXxhC_yG-",
        "colab": {}
      },
      "cell_type": "code",
      "source": [
        "pd.set_option('display.max_columns', 500)\n",
        "df.head()"
      ],
      "execution_count": 0,
      "outputs": []
    },
    {
      "metadata": {
        "id": "Sg5OwKRvHhkc",
        "colab_type": "code",
        "colab": {}
      },
      "cell_type": "code",
      "source": [
        "df.sample(1).T"
      ],
      "execution_count": 0,
      "outputs": []
    },
    {
      "metadata": {
        "id": "koC5SOO7HkHn",
        "colab_type": "code",
        "colab": {}
      },
      "cell_type": "code",
      "source": [
        "df.dtypes"
      ],
      "execution_count": 0,
      "outputs": []
    },
    {
      "metadata": {
        "id": "kOAHsZ5jIZMH",
        "colab_type": "code",
        "colab": {}
      },
      "cell_type": "code",
      "source": [
        "df['timestamp'] = pd.to_datetime(df['timestamp'], infer_datetime_format=True)\n",
        "df['timestamp'].describe()"
      ],
      "execution_count": 0,
      "outputs": []
    },
    {
      "metadata": {
        "id": "xz8a5FQmI7kH",
        "colab_type": "code",
        "colab": {}
      },
      "cell_type": "code",
      "source": [
        "df.set_index('timestamp', inplace=True)"
      ],
      "execution_count": 0,
      "outputs": []
    },
    {
      "metadata": {
        "id": "NSH3GuQBJNSf",
        "colab_type": "code",
        "colab": {}
      },
      "cell_type": "code",
      "source": [
        "df['2017-08-29']"
      ],
      "execution_count": 0,
      "outputs": []
    },
    {
      "metadata": {
        "id": "8G8q3H-jKB5K",
        "colab_type": "code",
        "colab": {}
      },
      "cell_type": "code",
      "source": [
        "df['category'].value_counts()"
      ],
      "execution_count": 0,
      "outputs": []
    },
    {
      "metadata": {
        "id": "rcHgcwUaL1Cf",
        "colab_type": "code",
        "colab": {}
      },
      "cell_type": "code",
      "source": [
        "lastday = df['2017-08-29']"
      ],
      "execution_count": 0,
      "outputs": []
    },
    {
      "metadata": {
        "id": "eLwQjAihL4EW",
        "colab_type": "code",
        "colab": {}
      },
      "cell_type": "code",
      "source": [
        "lastday[lastday['category']=='IMDb users']"
      ],
      "execution_count": 0,
      "outputs": []
    },
    {
      "metadata": {
        "id": "zpDIAqL7ML2l",
        "colab_type": "code",
        "colab": {}
      },
      "cell_type": "code",
      "source": [
        "lastday[ lastday['category'] == 'IMDb users']['respondents'].plot()"
      ],
      "execution_count": 0,
      "outputs": []
    },
    {
      "metadata": {
        "id": "wkkEIFtCM02b",
        "colab_type": "code",
        "colab": {}
      },
      "cell_type": "code",
      "source": [
        "final = lastday[ lastday['category'] == 'IMDb users'].tail(1)\n",
        "final"
      ],
      "execution_count": 0,
      "outputs": []
    },
    {
      "metadata": {
        "id": "oys6LfcNNHsR",
        "colab_type": "code",
        "colab": {}
      },
      "cell_type": "code",
      "source": [
        "pct_columns = ['1_pct', '2_pct','3_pct', '4_pct','5_pct', '6_pct','7_pct', '8_pct','9_pct', '10_pct'] # final.columns[-10:]\n",
        "final[pct_columns]"
      ],
      "execution_count": 0,
      "outputs": []
    },
    {
      "metadata": {
        "id": "Xk2x3OVtNmVv",
        "colab_type": "code",
        "colab": {}
      },
      "cell_type": "code",
      "source": [
        "data = final[pct_columns].T\n",
        "data.index = range(1,11)\n",
        "data"
      ],
      "execution_count": 0,
      "outputs": []
    },
    {
      "metadata": {
        "id": "Sigs9H83RHt5",
        "colab_type": "code",
        "colab": {}
      },
      "cell_type": "code",
      "source": [
        "import altair as alt\n",
        "from vega_datasets import data\n",
        "\n",
        "source = data.cars()\n",
        "\n",
        "alt.Chart(source).mark_circle().encode(\n",
        "    alt.X(alt.repeat(\"column\"), type='quantitative'),\n",
        "    alt.Y(alt.repeat(\"row\"), type='quantitative'),\n",
        "    color='Origin:N'\n",
        ").properties(\n",
        "    width=150,\n",
        "    height=150\n",
        ").repeat(\n",
        "    row=['Horsepower', 'Acceleration', 'Miles_per_Gallon'],\n",
        "    column=['Miles_per_Gallon', 'Acceleration', 'Horsepower']\n",
        ").interactive()"
      ],
      "execution_count": 0,
      "outputs": []
    },
    {
      "metadata": {
        "colab_type": "text",
        "id": "NMEswXWh9mqw"
      },
      "cell_type": "markdown",
      "source": [
        "# ASSIGNMENT\n",
        "\n",
        "Replicate the lesson code. I recommend that you [do not copy-paste](https://docs.google.com/document/d/1ubOw9B3Hfip27hF2ZFnW3a3z9xAgrUDRReOEo-FHCVs/edit).\n",
        "\n",
        "# STRETCH OPTIONS\n",
        "\n",
        "#### Reproduce another example from [FiveThityEight's shared data repository](https://data.fivethirtyeight.com/).\n",
        "\n",
        "For example:\n",
        "- [thanksgiving-2015](https://fivethirtyeight.com/features/heres-what-your-part-of-america-eats-on-thanksgiving/) (try the [`altair`](https://altair-viz.github.io/gallery/index.html#maps) library)\n",
        "- [candy-power-ranking](https://fivethirtyeight.com/features/the-ultimate-halloween-candy-power-ranking/) (try the [`statsmodels`](https://www.statsmodels.org/stable/index.html) library)\n",
        "- or another example of your choice!\n",
        "\n",
        "#### Make more charts!\n",
        "\n",
        "Choose a chart you want to make, from [Visual Vocabulary - Vega Edition](http://ft.com/vocabulary).\n",
        "\n",
        "Find the chart in an example gallery of a Python data visualization library:\n",
        "- [Seaborn](http://seaborn.pydata.org/examples/index.html)\n",
        "- [Altair](https://altair-viz.github.io/gallery/index.html)\n",
        "- [Matplotlib](https://matplotlib.org/gallery.html)\n",
        "- [Pandas](https://pandas.pydata.org/pandas-docs/stable/visualization.html)\n",
        "\n",
        "Reproduce the chart. [Optionally, try the \"Ben Franklin Method.\"](https://docs.google.com/document/d/1ubOw9B3Hfip27hF2ZFnW3a3z9xAgrUDRReOEo-FHCVs/edit) If you want, experiment and make changes.\n",
        "\n",
        "Take notes. Consider sharing your work with your cohort!\n",
        "\n",
        "\n",
        "\n",
        "\n",
        "\n",
        "\n",
        "\n"
      ]
    },
    {
      "metadata": {
        "id": "8EH-rXGHwJDR",
        "colab_type": "code",
        "colab": {}
      },
      "cell_type": "code",
      "source": [
        "tksgiv_url = 'https://raw.githubusercontent.com/fivethirtyeight/data/master/thanksgiving-2015/thanksgiving-2015-poll-data.csv'\n",
        "tksgiv_df = pd.read_csv(tksgiv_url)"
      ],
      "execution_count": 0,
      "outputs": []
    },
    {
      "metadata": {
        "id": "FboASmWFytmA",
        "colab_type": "code",
        "outputId": "2d09a605-6d0f-413c-b8a5-9118542df33b",
        "colab": {
          "base_uri": "https://localhost:8080/",
          "height": 563
        }
      },
      "cell_type": "code",
      "source": [
        "tksgiv_df.head()"
      ],
      "execution_count": 8,
      "outputs": [
        {
          "output_type": "execute_result",
          "data": {
            "text/html": [
              "<div>\n",
              "<style scoped>\n",
              "    .dataframe tbody tr th:only-of-type {\n",
              "        vertical-align: middle;\n",
              "    }\n",
              "\n",
              "    .dataframe tbody tr th {\n",
              "        vertical-align: top;\n",
              "    }\n",
              "\n",
              "    .dataframe thead th {\n",
              "        text-align: right;\n",
              "    }\n",
              "</style>\n",
              "<table border=\"1\" class=\"dataframe\">\n",
              "  <thead>\n",
              "    <tr style=\"text-align: right;\">\n",
              "      <th></th>\n",
              "      <th>RespondentID</th>\n",
              "      <th>Do you celebrate Thanksgiving?</th>\n",
              "      <th>What is typically the main dish at your Thanksgiving dinner?</th>\n",
              "      <th>What is typically the main dish at your Thanksgiving dinner? - Other (please specify)</th>\n",
              "      <th>How is the main dish typically cooked?</th>\n",
              "      <th>How is the main dish typically cooked? - Other (please specify)</th>\n",
              "      <th>What kind of stuffing/dressing do you typically have?</th>\n",
              "      <th>What kind of stuffing/dressing do you typically have? - Other (please specify)</th>\n",
              "      <th>What type of cranberry saucedo you typically have?</th>\n",
              "      <th>What type of cranberry saucedo you typically have? - Other (please specify)</th>\n",
              "      <th>...</th>\n",
              "      <th>Have you ever tried to meet up with hometown friends on Thanksgiving night?</th>\n",
              "      <th>Have you ever attended a \"Friendsgiving?\"</th>\n",
              "      <th>Will you shop any Black Friday sales on Thanksgiving Day?</th>\n",
              "      <th>Do you work in retail?</th>\n",
              "      <th>Will you employer make you work on Black Friday?</th>\n",
              "      <th>How would you describe where you live?</th>\n",
              "      <th>Age</th>\n",
              "      <th>What is your gender?</th>\n",
              "      <th>How much total combined money did all members of your HOUSEHOLD earn last year?</th>\n",
              "      <th>US Region</th>\n",
              "    </tr>\n",
              "  </thead>\n",
              "  <tbody>\n",
              "    <tr>\n",
              "      <th>0</th>\n",
              "      <td>4337954960</td>\n",
              "      <td>Yes</td>\n",
              "      <td>Turkey</td>\n",
              "      <td>NaN</td>\n",
              "      <td>Baked</td>\n",
              "      <td>NaN</td>\n",
              "      <td>Bread-based</td>\n",
              "      <td>NaN</td>\n",
              "      <td>None</td>\n",
              "      <td>NaN</td>\n",
              "      <td>...</td>\n",
              "      <td>Yes</td>\n",
              "      <td>No</td>\n",
              "      <td>No</td>\n",
              "      <td>No</td>\n",
              "      <td>NaN</td>\n",
              "      <td>Suburban</td>\n",
              "      <td>18 - 29</td>\n",
              "      <td>Male</td>\n",
              "      <td>$75,000 to $99,999</td>\n",
              "      <td>Middle Atlantic</td>\n",
              "    </tr>\n",
              "    <tr>\n",
              "      <th>1</th>\n",
              "      <td>4337951949</td>\n",
              "      <td>Yes</td>\n",
              "      <td>Turkey</td>\n",
              "      <td>NaN</td>\n",
              "      <td>Baked</td>\n",
              "      <td>NaN</td>\n",
              "      <td>Bread-based</td>\n",
              "      <td>NaN</td>\n",
              "      <td>Other (please specify)</td>\n",
              "      <td>Homemade cranberry gelatin ring</td>\n",
              "      <td>...</td>\n",
              "      <td>No</td>\n",
              "      <td>No</td>\n",
              "      <td>Yes</td>\n",
              "      <td>No</td>\n",
              "      <td>NaN</td>\n",
              "      <td>Rural</td>\n",
              "      <td>18 - 29</td>\n",
              "      <td>Female</td>\n",
              "      <td>$50,000 to $74,999</td>\n",
              "      <td>East South Central</td>\n",
              "    </tr>\n",
              "    <tr>\n",
              "      <th>2</th>\n",
              "      <td>4337935621</td>\n",
              "      <td>Yes</td>\n",
              "      <td>Turkey</td>\n",
              "      <td>NaN</td>\n",
              "      <td>Roasted</td>\n",
              "      <td>NaN</td>\n",
              "      <td>Rice-based</td>\n",
              "      <td>NaN</td>\n",
              "      <td>Homemade</td>\n",
              "      <td>NaN</td>\n",
              "      <td>...</td>\n",
              "      <td>Yes</td>\n",
              "      <td>Yes</td>\n",
              "      <td>Yes</td>\n",
              "      <td>No</td>\n",
              "      <td>NaN</td>\n",
              "      <td>Suburban</td>\n",
              "      <td>18 - 29</td>\n",
              "      <td>Male</td>\n",
              "      <td>$0 to $9,999</td>\n",
              "      <td>Mountain</td>\n",
              "    </tr>\n",
              "    <tr>\n",
              "      <th>3</th>\n",
              "      <td>4337933040</td>\n",
              "      <td>Yes</td>\n",
              "      <td>Turkey</td>\n",
              "      <td>NaN</td>\n",
              "      <td>Baked</td>\n",
              "      <td>NaN</td>\n",
              "      <td>Bread-based</td>\n",
              "      <td>NaN</td>\n",
              "      <td>Homemade</td>\n",
              "      <td>NaN</td>\n",
              "      <td>...</td>\n",
              "      <td>Yes</td>\n",
              "      <td>No</td>\n",
              "      <td>No</td>\n",
              "      <td>No</td>\n",
              "      <td>NaN</td>\n",
              "      <td>Urban</td>\n",
              "      <td>30 - 44</td>\n",
              "      <td>Male</td>\n",
              "      <td>$200,000 and up</td>\n",
              "      <td>Pacific</td>\n",
              "    </tr>\n",
              "    <tr>\n",
              "      <th>4</th>\n",
              "      <td>4337931983</td>\n",
              "      <td>Yes</td>\n",
              "      <td>Tofurkey</td>\n",
              "      <td>NaN</td>\n",
              "      <td>Baked</td>\n",
              "      <td>NaN</td>\n",
              "      <td>Bread-based</td>\n",
              "      <td>NaN</td>\n",
              "      <td>Canned</td>\n",
              "      <td>NaN</td>\n",
              "      <td>...</td>\n",
              "      <td>Yes</td>\n",
              "      <td>No</td>\n",
              "      <td>No</td>\n",
              "      <td>No</td>\n",
              "      <td>NaN</td>\n",
              "      <td>Urban</td>\n",
              "      <td>30 - 44</td>\n",
              "      <td>Male</td>\n",
              "      <td>$100,000 to $124,999</td>\n",
              "      <td>Pacific</td>\n",
              "    </tr>\n",
              "  </tbody>\n",
              "</table>\n",
              "<p>5 rows × 65 columns</p>\n",
              "</div>"
            ],
            "text/plain": [
              "   RespondentID Do you celebrate Thanksgiving?  \\\n",
              "0    4337954960                            Yes   \n",
              "1    4337951949                            Yes   \n",
              "2    4337935621                            Yes   \n",
              "3    4337933040                            Yes   \n",
              "4    4337931983                            Yes   \n",
              "\n",
              "  What is typically the main dish at your Thanksgiving dinner?  \\\n",
              "0                                             Turkey             \n",
              "1                                             Turkey             \n",
              "2                                             Turkey             \n",
              "3                                             Turkey             \n",
              "4                                           Tofurkey             \n",
              "\n",
              "  What is typically the main dish at your Thanksgiving dinner? - Other (please specify)  \\\n",
              "0                                                NaN                                      \n",
              "1                                                NaN                                      \n",
              "2                                                NaN                                      \n",
              "3                                                NaN                                      \n",
              "4                                                NaN                                      \n",
              "\n",
              "  How is the main dish typically cooked?  \\\n",
              "0                                  Baked   \n",
              "1                                  Baked   \n",
              "2                                Roasted   \n",
              "3                                  Baked   \n",
              "4                                  Baked   \n",
              "\n",
              "  How is the main dish typically cooked? - Other (please specify)  \\\n",
              "0                                                NaN                \n",
              "1                                                NaN                \n",
              "2                                                NaN                \n",
              "3                                                NaN                \n",
              "4                                                NaN                \n",
              "\n",
              "  What kind of stuffing/dressing do you typically have?  \\\n",
              "0                                        Bread-based      \n",
              "1                                        Bread-based      \n",
              "2                                         Rice-based      \n",
              "3                                        Bread-based      \n",
              "4                                        Bread-based      \n",
              "\n",
              "  What kind of stuffing/dressing do you typically have? - Other (please specify)  \\\n",
              "0                                                NaN                               \n",
              "1                                                NaN                               \n",
              "2                                                NaN                               \n",
              "3                                                NaN                               \n",
              "4                                                NaN                               \n",
              "\n",
              "  What type of cranberry saucedo you typically have?  \\\n",
              "0                                               None   \n",
              "1                             Other (please specify)   \n",
              "2                                           Homemade   \n",
              "3                                           Homemade   \n",
              "4                                             Canned   \n",
              "\n",
              "  What type of cranberry saucedo you typically have? - Other (please specify)  \\\n",
              "0                                                NaN                            \n",
              "1                    Homemade cranberry gelatin ring                            \n",
              "2                                                NaN                            \n",
              "3                                                NaN                            \n",
              "4                                                NaN                            \n",
              "\n",
              "          ...          \\\n",
              "0         ...           \n",
              "1         ...           \n",
              "2         ...           \n",
              "3         ...           \n",
              "4         ...           \n",
              "\n",
              "  Have you ever tried to meet up with hometown friends on Thanksgiving night?  \\\n",
              "0                                                Yes                            \n",
              "1                                                 No                            \n",
              "2                                                Yes                            \n",
              "3                                                Yes                            \n",
              "4                                                Yes                            \n",
              "\n",
              "  Have you ever attended a \"Friendsgiving?\"  \\\n",
              "0                                        No   \n",
              "1                                        No   \n",
              "2                                       Yes   \n",
              "3                                        No   \n",
              "4                                        No   \n",
              "\n",
              "  Will you shop any Black Friday sales on Thanksgiving Day?  \\\n",
              "0                                                 No          \n",
              "1                                                Yes          \n",
              "2                                                Yes          \n",
              "3                                                 No          \n",
              "4                                                 No          \n",
              "\n",
              "  Do you work in retail? Will you employer make you work on Black Friday?  \\\n",
              "0                     No                                              NaN   \n",
              "1                     No                                              NaN   \n",
              "2                     No                                              NaN   \n",
              "3                     No                                              NaN   \n",
              "4                     No                                              NaN   \n",
              "\n",
              "  How would you describe where you live?      Age What is your gender?  \\\n",
              "0                               Suburban  18 - 29                 Male   \n",
              "1                                  Rural  18 - 29               Female   \n",
              "2                               Suburban  18 - 29                 Male   \n",
              "3                                  Urban  30 - 44                 Male   \n",
              "4                                  Urban  30 - 44                 Male   \n",
              "\n",
              "  How much total combined money did all members of your HOUSEHOLD earn last year?  \\\n",
              "0                                 $75,000 to $99,999                                \n",
              "1                                 $50,000 to $74,999                                \n",
              "2                                       $0 to $9,999                                \n",
              "3                                    $200,000 and up                                \n",
              "4                               $100,000 to $124,999                                \n",
              "\n",
              "            US Region  \n",
              "0     Middle Atlantic  \n",
              "1  East South Central  \n",
              "2            Mountain  \n",
              "3             Pacific  \n",
              "4             Pacific  \n",
              "\n",
              "[5 rows x 65 columns]"
            ]
          },
          "metadata": {
            "tags": []
          },
          "execution_count": 8
        }
      ]
    },
    {
      "metadata": {
        "id": "ry_L0N9Uwxz2",
        "colab_type": "code",
        "outputId": "68752ed7-c209-42a1-b96e-59b85d309263",
        "colab": {
          "base_uri": "https://localhost:8080/",
          "height": 34
        }
      },
      "cell_type": "code",
      "source": [
        "tksgiv_df.shape"
      ],
      "execution_count": 9,
      "outputs": [
        {
          "output_type": "execute_result",
          "data": {
            "text/plain": [
              "(1058, 65)"
            ]
          },
          "metadata": {
            "tags": []
          },
          "execution_count": 9
        }
      ]
    },
    {
      "metadata": {
        "id": "CiXD9B9hw8OF",
        "colab_type": "code",
        "outputId": "e542267c-5f8b-45f0-8e81-d14762015ae2",
        "colab": {
          "base_uri": "https://localhost:8080/",
          "height": 1095
        }
      },
      "cell_type": "code",
      "source": [
        "tksgiv_df.columns"
      ],
      "execution_count": 10,
      "outputs": [
        {
          "output_type": "execute_result",
          "data": {
            "text/plain": [
              "Index(['RespondentID', 'Do you celebrate Thanksgiving?',\n",
              "       'What is typically the main dish at your Thanksgiving dinner?',\n",
              "       'What is typically the main dish at your Thanksgiving dinner? - Other (please specify)',\n",
              "       'How is the main dish typically cooked?',\n",
              "       'How is the main dish typically cooked? - Other (please specify)',\n",
              "       'What kind of stuffing/dressing do you typically have?',\n",
              "       'What kind of stuffing/dressing do you typically have? - Other (please specify)',\n",
              "       'What type of cranberry saucedo you typically have?',\n",
              "       'What type of cranberry saucedo you typically have? - Other (please specify)',\n",
              "       'Do you typically have gravy?',\n",
              "       'Which of these side dishes aretypically served at your Thanksgiving dinner? Please select all that apply. - Brussel sprouts',\n",
              "       'Which of these side dishes aretypically served at your Thanksgiving dinner? Please select all that apply. - Carrots',\n",
              "       'Which of these side dishes aretypically served at your Thanksgiving dinner? Please select all that apply. - Cauliflower',\n",
              "       'Which of these side dishes aretypically served at your Thanksgiving dinner? Please select all that apply. - Corn',\n",
              "       'Which of these side dishes aretypically served at your Thanksgiving dinner? Please select all that apply. - Cornbread',\n",
              "       'Which of these side dishes aretypically served at your Thanksgiving dinner? Please select all that apply. - Fruit salad',\n",
              "       'Which of these side dishes aretypically served at your Thanksgiving dinner? Please select all that apply. - Green beans/green bean casserole',\n",
              "       'Which of these side dishes aretypically served at your Thanksgiving dinner? Please select all that apply. - Macaroni and cheese',\n",
              "       'Which of these side dishes aretypically served at your Thanksgiving dinner? Please select all that apply. - Mashed potatoes',\n",
              "       'Which of these side dishes aretypically served at your Thanksgiving dinner? Please select all that apply. - Rolls/biscuits',\n",
              "       'Which of these side dishes aretypically served at your Thanksgiving dinner? Please select all that apply. - Squash',\n",
              "       'Which of these side dishes aretypically served at your Thanksgiving dinner? Please select all that apply. - Vegetable salad',\n",
              "       'Which of these side dishes aretypically served at your Thanksgiving dinner? Please select all that apply. - Yams/sweet potato casserole',\n",
              "       'Which of these side dishes aretypically served at your Thanksgiving dinner? Please select all that apply. - Other (please specify)',\n",
              "       'Which of these side dishes aretypically served at your Thanksgiving dinner? Please select all that apply. - Other (please specify).1',\n",
              "       'Which type of pie is typically served at your Thanksgiving dinner? Please select all that apply. - Apple',\n",
              "       'Which type of pie is typically served at your Thanksgiving dinner? Please select all that apply. - Buttermilk',\n",
              "       'Which type of pie is typically served at your Thanksgiving dinner? Please select all that apply. - Cherry',\n",
              "       'Which type of pie is typically served at your Thanksgiving dinner? Please select all that apply. - Chocolate',\n",
              "       'Which type of pie is typically served at your Thanksgiving dinner? Please select all that apply. - Coconut cream',\n",
              "       'Which type of pie is typically served at your Thanksgiving dinner? Please select all that apply. - Key lime',\n",
              "       'Which type of pie is typically served at your Thanksgiving dinner? Please select all that apply. - Peach',\n",
              "       'Which type of pie is typically served at your Thanksgiving dinner? Please select all that apply. - Pecan',\n",
              "       'Which type of pie is typically served at your Thanksgiving dinner? Please select all that apply. - Pumpkin',\n",
              "       'Which type of pie is typically served at your Thanksgiving dinner? Please select all that apply. - Sweet Potato',\n",
              "       'Which type of pie is typically served at your Thanksgiving dinner? Please select all that apply. - None',\n",
              "       'Which type of pie is typically served at your Thanksgiving dinner? Please select all that apply. - Other (please specify)',\n",
              "       'Which type of pie is typically served at your Thanksgiving dinner? Please select all that apply. - Other (please specify).1',\n",
              "       'Which of these desserts do you typically have at Thanksgiving dinner? Please select all that apply.   - Apple cobbler',\n",
              "       'Which of these desserts do you typically have at Thanksgiving dinner? Please select all that apply.   - Blondies',\n",
              "       'Which of these desserts do you typically have at Thanksgiving dinner? Please select all that apply.   - Brownies',\n",
              "       'Which of these desserts do you typically have at Thanksgiving dinner? Please select all that apply.   - Carrot cake',\n",
              "       'Which of these desserts do you typically have at Thanksgiving dinner? Please select all that apply.   - Cheesecake',\n",
              "       'Which of these desserts do you typically have at Thanksgiving dinner? Please select all that apply.   - Cookies',\n",
              "       'Which of these desserts do you typically have at Thanksgiving dinner? Please select all that apply.   - Fudge',\n",
              "       'Which of these desserts do you typically have at Thanksgiving dinner? Please select all that apply.   - Ice cream',\n",
              "       'Which of these desserts do you typically have at Thanksgiving dinner? Please select all that apply.   - Peach cobbler',\n",
              "       'Which of these desserts do you typically have at Thanksgiving dinner? Please select all that apply.   - None',\n",
              "       'Which of these desserts do you typically have at Thanksgiving dinner? Please select all that apply.   - Other (please specify)',\n",
              "       'Which of these desserts do you typically have at Thanksgiving dinner? Please select all that apply.   - Other (please specify).1',\n",
              "       'Do you typically pray before or after the Thanksgiving meal?',\n",
              "       'How far will you travel for Thanksgiving?',\n",
              "       'Will you watch any of the following programs on Thanksgiving? Please select all that apply. - Macy's Parade',\n",
              "       'What's the age cutoff at your \"kids' table\" at Thanksgiving?',\n",
              "       'Have you ever tried to meet up with hometown friends on Thanksgiving night?',\n",
              "       'Have you ever attended a \"Friendsgiving?\"',\n",
              "       'Will you shop any Black Friday sales on Thanksgiving Day?',\n",
              "       'Do you work in retail?',\n",
              "       'Will you employer make you work on Black Friday?',\n",
              "       'How would you describe where you live?', 'Age', 'What is your gender?',\n",
              "       'How much total combined money did all members of your HOUSEHOLD earn last year?',\n",
              "       'US Region'],\n",
              "      dtype='object')"
            ]
          },
          "metadata": {
            "tags": []
          },
          "execution_count": 10
        }
      ]
    },
    {
      "metadata": {
        "id": "wfIMfl3h170w",
        "colab_type": "code",
        "outputId": "0ced9db5-a35e-4ca3-85a1-2a524af79a71",
        "colab": {
          "base_uri": "https://localhost:8080/",
          "height": 1078
        }
      },
      "cell_type": "code",
      "source": [
        "tksgiv_df.dropna().isna().sum()"
      ],
      "execution_count": 11,
      "outputs": [
        {
          "output_type": "execute_result",
          "data": {
            "text/plain": [
              "RespondentID                                                                                                                                    0\n",
              "Do you celebrate Thanksgiving?                                                                                                                  0\n",
              "What is typically the main dish at your Thanksgiving dinner?                                                                                    0\n",
              "What is typically the main dish at your Thanksgiving dinner? - Other (please specify)                                                           0\n",
              "How is the main dish typically cooked?                                                                                                          0\n",
              "How is the main dish typically cooked? - Other (please specify)                                                                                 0\n",
              "What kind of stuffing/dressing do you typically have?                                                                                           0\n",
              "What kind of stuffing/dressing do you typically have? - Other (please specify)                                                                  0\n",
              "What type of cranberry saucedo you typically have?                                                                                              0\n",
              "What type of cranberry saucedo you typically have? - Other (please specify)                                                                     0\n",
              "Do you typically have gravy?                                                                                                                    0\n",
              "Which of these side dishes aretypically served at your Thanksgiving dinner? Please select all that apply. - Brussel sprouts                     0\n",
              "Which of these side dishes aretypically served at your Thanksgiving dinner? Please select all that apply. - Carrots                             0\n",
              "Which of these side dishes aretypically served at your Thanksgiving dinner? Please select all that apply. - Cauliflower                         0\n",
              "Which of these side dishes aretypically served at your Thanksgiving dinner? Please select all that apply. - Corn                                0\n",
              "Which of these side dishes aretypically served at your Thanksgiving dinner? Please select all that apply. - Cornbread                           0\n",
              "Which of these side dishes aretypically served at your Thanksgiving dinner? Please select all that apply. - Fruit salad                         0\n",
              "Which of these side dishes aretypically served at your Thanksgiving dinner? Please select all that apply. - Green beans/green bean casserole    0\n",
              "Which of these side dishes aretypically served at your Thanksgiving dinner? Please select all that apply. - Macaroni and cheese                 0\n",
              "Which of these side dishes aretypically served at your Thanksgiving dinner? Please select all that apply. - Mashed potatoes                     0\n",
              "Which of these side dishes aretypically served at your Thanksgiving dinner? Please select all that apply. - Rolls/biscuits                      0\n",
              "Which of these side dishes aretypically served at your Thanksgiving dinner? Please select all that apply. - Squash                              0\n",
              "Which of these side dishes aretypically served at your Thanksgiving dinner? Please select all that apply. - Vegetable salad                     0\n",
              "Which of these side dishes aretypically served at your Thanksgiving dinner? Please select all that apply. - Yams/sweet potato casserole         0\n",
              "Which of these side dishes aretypically served at your Thanksgiving dinner? Please select all that apply. - Other (please specify)              0\n",
              "Which of these side dishes aretypically served at your Thanksgiving dinner? Please select all that apply. - Other (please specify).1            0\n",
              "Which type of pie is typically served at your Thanksgiving dinner? Please select all that apply. - Apple                                        0\n",
              "Which type of pie is typically served at your Thanksgiving dinner? Please select all that apply. - Buttermilk                                   0\n",
              "Which type of pie is typically served at your Thanksgiving dinner? Please select all that apply. - Cherry                                       0\n",
              "Which type of pie is typically served at your Thanksgiving dinner? Please select all that apply. - Chocolate                                    0\n",
              "                                                                                                                                               ..\n",
              "Which type of pie is typically served at your Thanksgiving dinner? Please select all that apply. - Sweet Potato                                 0\n",
              "Which type of pie is typically served at your Thanksgiving dinner? Please select all that apply. - None                                         0\n",
              "Which type of pie is typically served at your Thanksgiving dinner? Please select all that apply. - Other (please specify)                       0\n",
              "Which type of pie is typically served at your Thanksgiving dinner? Please select all that apply. - Other (please specify).1                     0\n",
              "Which of these desserts do you typically have at Thanksgiving dinner? Please select all that apply.   - Apple cobbler                           0\n",
              "Which of these desserts do you typically have at Thanksgiving dinner? Please select all that apply.   - Blondies                                0\n",
              "Which of these desserts do you typically have at Thanksgiving dinner? Please select all that apply.   - Brownies                                0\n",
              "Which of these desserts do you typically have at Thanksgiving dinner? Please select all that apply.   - Carrot cake                             0\n",
              "Which of these desserts do you typically have at Thanksgiving dinner? Please select all that apply.   - Cheesecake                              0\n",
              "Which of these desserts do you typically have at Thanksgiving dinner? Please select all that apply.   - Cookies                                 0\n",
              "Which of these desserts do you typically have at Thanksgiving dinner? Please select all that apply.   - Fudge                                   0\n",
              "Which of these desserts do you typically have at Thanksgiving dinner? Please select all that apply.   - Ice cream                               0\n",
              "Which of these desserts do you typically have at Thanksgiving dinner? Please select all that apply.   - Peach cobbler                           0\n",
              "Which of these desserts do you typically have at Thanksgiving dinner? Please select all that apply.   - None                                    0\n",
              "Which of these desserts do you typically have at Thanksgiving dinner? Please select all that apply.   - Other (please specify)                  0\n",
              "Which of these desserts do you typically have at Thanksgiving dinner? Please select all that apply.   - Other (please specify).1                0\n",
              "Do you typically pray before or after the Thanksgiving meal?                                                                                    0\n",
              "How far will you travel for Thanksgiving?                                                                                                       0\n",
              "Will you watch any of the following programs on Thanksgiving? Please select all that apply. - Macy's Parade                                     0\n",
              "What's the age cutoff at your \"kids' table\" at Thanksgiving?                                                                                    0\n",
              "Have you ever tried to meet up with hometown friends on Thanksgiving night?                                                                     0\n",
              "Have you ever attended a \"Friendsgiving?\"                                                                                                       0\n",
              "Will you shop any Black Friday sales on Thanksgiving Day?                                                                                       0\n",
              "Do you work in retail?                                                                                                                          0\n",
              "Will you employer make you work on Black Friday?                                                                                                0\n",
              "How would you describe where you live?                                                                                                          0\n",
              "Age                                                                                                                                             0\n",
              "What is your gender?                                                                                                                            0\n",
              "How much total combined money did all members of your HOUSEHOLD earn last year?                                                                 0\n",
              "US Region                                                                                                                                       0\n",
              "Length: 65, dtype: int64"
            ]
          },
          "metadata": {
            "tags": []
          },
          "execution_count": 11
        }
      ]
    },
    {
      "metadata": {
        "id": "AxzZ251XyYR2",
        "colab_type": "code",
        "outputId": "b22dffca-ab19-4f59-eca3-a23183b6cb1a",
        "colab": {
          "base_uri": "https://localhost:8080/",
          "height": 296
        }
      },
      "cell_type": "code",
      "source": [
        "\n",
        "tksgiv_df.crosstab(index='US Region', columns=tksgiv_df.columns[11:26])"
      ],
      "execution_count": 12,
      "outputs": [
        {
          "output_type": "error",
          "ename": "AttributeError",
          "evalue": "ignored",
          "traceback": [
            "\u001b[0;31m---------------------------------------------------------------------------\u001b[0m",
            "\u001b[0;31mAttributeError\u001b[0m                            Traceback (most recent call last)",
            "\u001b[0;32m<ipython-input-12-1b5f3d476793>\u001b[0m in \u001b[0;36m<module>\u001b[0;34m()\u001b[0m\n\u001b[1;32m      1\u001b[0m \u001b[0;34m\u001b[0m\u001b[0m\n\u001b[0;32m----> 2\u001b[0;31m \u001b[0mtksgiv_df\u001b[0m\u001b[0;34m.\u001b[0m\u001b[0mcrosstab\u001b[0m\u001b[0;34m(\u001b[0m\u001b[0mindex\u001b[0m\u001b[0;34m=\u001b[0m\u001b[0;34m'US Region'\u001b[0m\u001b[0;34m,\u001b[0m \u001b[0mcolumns\u001b[0m\u001b[0;34m=\u001b[0m\u001b[0mtksgiv_df\u001b[0m\u001b[0;34m.\u001b[0m\u001b[0mcolumns\u001b[0m\u001b[0;34m[\u001b[0m\u001b[0;36m11\u001b[0m\u001b[0;34m:\u001b[0m\u001b[0;36m26\u001b[0m\u001b[0;34m]\u001b[0m\u001b[0;34m)\u001b[0m\u001b[0;34m\u001b[0m\u001b[0;34m\u001b[0m\u001b[0m\n\u001b[0m",
            "\u001b[0;32m/usr/local/lib/python3.6/dist-packages/pandas/core/generic.py\u001b[0m in \u001b[0;36m__getattr__\u001b[0;34m(self, name)\u001b[0m\n\u001b[1;32m   3612\u001b[0m             \u001b[0;32mif\u001b[0m \u001b[0mname\u001b[0m \u001b[0;32min\u001b[0m \u001b[0mself\u001b[0m\u001b[0;34m.\u001b[0m\u001b[0m_info_axis\u001b[0m\u001b[0;34m:\u001b[0m\u001b[0;34m\u001b[0m\u001b[0;34m\u001b[0m\u001b[0m\n\u001b[1;32m   3613\u001b[0m                 \u001b[0;32mreturn\u001b[0m \u001b[0mself\u001b[0m\u001b[0;34m[\u001b[0m\u001b[0mname\u001b[0m\u001b[0;34m]\u001b[0m\u001b[0;34m\u001b[0m\u001b[0;34m\u001b[0m\u001b[0m\n\u001b[0;32m-> 3614\u001b[0;31m             \u001b[0;32mreturn\u001b[0m \u001b[0mobject\u001b[0m\u001b[0;34m.\u001b[0m\u001b[0m__getattribute__\u001b[0m\u001b[0;34m(\u001b[0m\u001b[0mself\u001b[0m\u001b[0;34m,\u001b[0m \u001b[0mname\u001b[0m\u001b[0;34m)\u001b[0m\u001b[0;34m\u001b[0m\u001b[0;34m\u001b[0m\u001b[0m\n\u001b[0m\u001b[1;32m   3615\u001b[0m \u001b[0;34m\u001b[0m\u001b[0m\n\u001b[1;32m   3616\u001b[0m     \u001b[0;32mdef\u001b[0m \u001b[0m__setattr__\u001b[0m\u001b[0;34m(\u001b[0m\u001b[0mself\u001b[0m\u001b[0;34m,\u001b[0m \u001b[0mname\u001b[0m\u001b[0;34m,\u001b[0m \u001b[0mvalue\u001b[0m\u001b[0;34m)\u001b[0m\u001b[0;34m:\u001b[0m\u001b[0;34m\u001b[0m\u001b[0;34m\u001b[0m\u001b[0m\n",
            "\u001b[0;31mAttributeError\u001b[0m: 'DataFrame' object has no attribute 'crosstab'"
          ]
        }
      ]
    },
    {
      "metadata": {
        "id": "M8X7dZ9l3CNo",
        "colab_type": "code",
        "outputId": "41ce2f8a-fdcc-4311-8678-f6d5416820d9",
        "colab": {
          "base_uri": "https://localhost:8080/",
          "height": 306
        }
      },
      "cell_type": "code",
      "source": [
        "tksgiv_df.columns[11:26]"
      ],
      "execution_count": 18,
      "outputs": [
        {
          "output_type": "execute_result",
          "data": {
            "text/plain": [
              "Index(['Which of these side dishes aretypically served at your Thanksgiving dinner? Please select all that apply. - Brussel sprouts',\n",
              "       'Which of these side dishes aretypically served at your Thanksgiving dinner? Please select all that apply. - Carrots',\n",
              "       'Which of these side dishes aretypically served at your Thanksgiving dinner? Please select all that apply. - Cauliflower',\n",
              "       'Which of these side dishes aretypically served at your Thanksgiving dinner? Please select all that apply. - Corn',\n",
              "       'Which of these side dishes aretypically served at your Thanksgiving dinner? Please select all that apply. - Cornbread',\n",
              "       'Which of these side dishes aretypically served at your Thanksgiving dinner? Please select all that apply. - Fruit salad',\n",
              "       'Which of these side dishes aretypically served at your Thanksgiving dinner? Please select all that apply. - Green beans/green bean casserole',\n",
              "       'Which of these side dishes aretypically served at your Thanksgiving dinner? Please select all that apply. - Macaroni and cheese',\n",
              "       'Which of these side dishes aretypically served at your Thanksgiving dinner? Please select all that apply. - Mashed potatoes',\n",
              "       'Which of these side dishes aretypically served at your Thanksgiving dinner? Please select all that apply. - Rolls/biscuits',\n",
              "       'Which of these side dishes aretypically served at your Thanksgiving dinner? Please select all that apply. - Squash',\n",
              "       'Which of these side dishes aretypically served at your Thanksgiving dinner? Please select all that apply. - Vegetable salad',\n",
              "       'Which of these side dishes aretypically served at your Thanksgiving dinner? Please select all that apply. - Yams/sweet potato casserole',\n",
              "       'Which of these side dishes aretypically served at your Thanksgiving dinner? Please select all that apply. - Other (please specify)',\n",
              "       'Which of these side dishes aretypically served at your Thanksgiving dinner? Please select all that apply. - Other (please specify).1'],\n",
              "      dtype='object')"
            ]
          },
          "metadata": {
            "tags": []
          },
          "execution_count": 18
        }
      ]
    },
    {
      "metadata": {
        "id": "EaJAZgq80SCt",
        "colab_type": "code",
        "colab": {}
      },
      "cell_type": "code",
      "source": [
        "group = tksgiv_df.groupby('US Region')[tksgiv_df.columns[11:26]]"
      ],
      "execution_count": 0,
      "outputs": []
    },
    {
      "metadata": {
        "id": "tUcVRQWl4b0g",
        "colab_type": "code",
        "outputId": "a7158d20-64b4-46e3-fe6e-294811645a29",
        "colab": {
          "base_uri": "https://localhost:8080/",
          "height": 34
        }
      },
      "cell_type": "code",
      "source": [
        "type(group)"
      ],
      "execution_count": 20,
      "outputs": [
        {
          "output_type": "execute_result",
          "data": {
            "text/plain": [
              "pandas.core.groupby.DataFrameGroupBy"
            ]
          },
          "metadata": {
            "tags": []
          },
          "execution_count": 20
        }
      ]
    },
    {
      "metadata": {
        "id": "S2c0zFi2-iBH",
        "colab_type": "code",
        "outputId": "b771ac81-9255-47f4-a1e9-69bc29572165",
        "colab": {
          "base_uri": "https://localhost:8080/",
          "height": 397
        }
      },
      "cell_type": "code",
      "source": [
        "group.columns"
      ],
      "execution_count": 21,
      "outputs": [
        {
          "output_type": "error",
          "ename": "AttributeError",
          "evalue": "ignored",
          "traceback": [
            "\u001b[0;31m---------------------------------------------------------------------------\u001b[0m",
            "\u001b[0;31mAttributeError\u001b[0m                            Traceback (most recent call last)",
            "\u001b[0;32m<ipython-input-21-77d8ed14ff86>\u001b[0m in \u001b[0;36m<module>\u001b[0;34m()\u001b[0m\n\u001b[0;32m----> 1\u001b[0;31m \u001b[0mgroup\u001b[0m\u001b[0;34m.\u001b[0m\u001b[0mcolumns\u001b[0m\u001b[0;34m\u001b[0m\u001b[0;34m\u001b[0m\u001b[0m\n\u001b[0m",
            "\u001b[0;32m/usr/local/lib/python3.6/dist-packages/pandas/core/groupby.py\u001b[0m in \u001b[0;36m__getattr__\u001b[0;34m(self, attr)\u001b[0m\n\u001b[1;32m    671\u001b[0m             \u001b[0;32mreturn\u001b[0m \u001b[0mself\u001b[0m\u001b[0;34m[\u001b[0m\u001b[0mattr\u001b[0m\u001b[0;34m]\u001b[0m\u001b[0;34m\u001b[0m\u001b[0;34m\u001b[0m\u001b[0m\n\u001b[1;32m    672\u001b[0m         \u001b[0;32mif\u001b[0m \u001b[0mhasattr\u001b[0m\u001b[0;34m(\u001b[0m\u001b[0mself\u001b[0m\u001b[0;34m.\u001b[0m\u001b[0mobj\u001b[0m\u001b[0;34m,\u001b[0m \u001b[0mattr\u001b[0m\u001b[0;34m)\u001b[0m\u001b[0;34m:\u001b[0m\u001b[0;34m\u001b[0m\u001b[0;34m\u001b[0m\u001b[0m\n\u001b[0;32m--> 673\u001b[0;31m             \u001b[0;32mreturn\u001b[0m \u001b[0mself\u001b[0m\u001b[0;34m.\u001b[0m\u001b[0m_make_wrapper\u001b[0m\u001b[0;34m(\u001b[0m\u001b[0mattr\u001b[0m\u001b[0;34m)\u001b[0m\u001b[0;34m\u001b[0m\u001b[0;34m\u001b[0m\u001b[0m\n\u001b[0m\u001b[1;32m    674\u001b[0m \u001b[0;34m\u001b[0m\u001b[0m\n\u001b[1;32m    675\u001b[0m         raise AttributeError(\"%r object has no attribute %r\" %\n",
            "\u001b[0;32m/usr/local/lib/python3.6/dist-packages/pandas/core/groupby.py\u001b[0m in \u001b[0;36m_make_wrapper\u001b[0;34m(self, name)\u001b[0m\n\u001b[1;32m    685\u001b[0m                    \"using the 'apply' method\".format(kind, name,\n\u001b[1;32m    686\u001b[0m                                                      type(self).__name__))\n\u001b[0;32m--> 687\u001b[0;31m             \u001b[0;32mraise\u001b[0m \u001b[0mAttributeError\u001b[0m\u001b[0;34m(\u001b[0m\u001b[0mmsg\u001b[0m\u001b[0;34m)\u001b[0m\u001b[0;34m\u001b[0m\u001b[0;34m\u001b[0m\u001b[0m\n\u001b[0m\u001b[1;32m    688\u001b[0m \u001b[0;34m\u001b[0m\u001b[0m\n\u001b[1;32m    689\u001b[0m         \u001b[0;31m# need to setup the selection\u001b[0m\u001b[0;34m\u001b[0m\u001b[0;34m\u001b[0m\u001b[0;34m\u001b[0m\u001b[0m\n",
            "\u001b[0;31mAttributeError\u001b[0m: Cannot access attribute 'columns' of 'DataFrameGroupBy' objects, try using the 'apply' method"
          ]
        }
      ]
    },
    {
      "metadata": {
        "id": "yWt2V5Te1yTd",
        "colab_type": "code",
        "outputId": "e4d87163-27d9-4ae8-f58f-3ed92f325e7d",
        "colab": {
          "base_uri": "https://localhost:8080/",
          "height": 635
        }
      },
      "cell_type": "code",
      "source": [
        "merged = pd.concat([tksgiv_df['US Region'], tksgiv_df[ tksgiv_df.columns[11:26] ]], axis=1)\n",
        "merged.head()\n"
      ],
      "execution_count": 22,
      "outputs": [
        {
          "output_type": "execute_result",
          "data": {
            "text/html": [
              "<div>\n",
              "<style scoped>\n",
              "    .dataframe tbody tr th:only-of-type {\n",
              "        vertical-align: middle;\n",
              "    }\n",
              "\n",
              "    .dataframe tbody tr th {\n",
              "        vertical-align: top;\n",
              "    }\n",
              "\n",
              "    .dataframe thead th {\n",
              "        text-align: right;\n",
              "    }\n",
              "</style>\n",
              "<table border=\"1\" class=\"dataframe\">\n",
              "  <thead>\n",
              "    <tr style=\"text-align: right;\">\n",
              "      <th></th>\n",
              "      <th>US Region</th>\n",
              "      <th>Which of these side dishes aretypically served at your Thanksgiving dinner? Please select all that apply. - Brussel sprouts</th>\n",
              "      <th>Which of these side dishes aretypically served at your Thanksgiving dinner? Please select all that apply. - Carrots</th>\n",
              "      <th>Which of these side dishes aretypically served at your Thanksgiving dinner? Please select all that apply. - Cauliflower</th>\n",
              "      <th>Which of these side dishes aretypically served at your Thanksgiving dinner? Please select all that apply. - Corn</th>\n",
              "      <th>Which of these side dishes aretypically served at your Thanksgiving dinner? Please select all that apply. - Cornbread</th>\n",
              "      <th>Which of these side dishes aretypically served at your Thanksgiving dinner? Please select all that apply. - Fruit salad</th>\n",
              "      <th>Which of these side dishes aretypically served at your Thanksgiving dinner? Please select all that apply. - Green beans/green bean casserole</th>\n",
              "      <th>Which of these side dishes aretypically served at your Thanksgiving dinner? Please select all that apply. - Macaroni and cheese</th>\n",
              "      <th>Which of these side dishes aretypically served at your Thanksgiving dinner? Please select all that apply. - Mashed potatoes</th>\n",
              "      <th>Which of these side dishes aretypically served at your Thanksgiving dinner? Please select all that apply. - Rolls/biscuits</th>\n",
              "      <th>Which of these side dishes aretypically served at your Thanksgiving dinner? Please select all that apply. - Squash</th>\n",
              "      <th>Which of these side dishes aretypically served at your Thanksgiving dinner? Please select all that apply. - Vegetable salad</th>\n",
              "      <th>Which of these side dishes aretypically served at your Thanksgiving dinner? Please select all that apply. - Yams/sweet potato casserole</th>\n",
              "      <th>Which of these side dishes aretypically served at your Thanksgiving dinner? Please select all that apply. - Other (please specify)</th>\n",
              "      <th>Which of these side dishes aretypically served at your Thanksgiving dinner? Please select all that apply. - Other (please specify).1</th>\n",
              "    </tr>\n",
              "  </thead>\n",
              "  <tbody>\n",
              "    <tr>\n",
              "      <th>0</th>\n",
              "      <td>Middle Atlantic</td>\n",
              "      <td>NaN</td>\n",
              "      <td>Carrots</td>\n",
              "      <td>NaN</td>\n",
              "      <td>NaN</td>\n",
              "      <td>NaN</td>\n",
              "      <td>NaN</td>\n",
              "      <td>Green beans/green bean casserole</td>\n",
              "      <td>Macaroni and cheese</td>\n",
              "      <td>Mashed potatoes</td>\n",
              "      <td>NaN</td>\n",
              "      <td>NaN</td>\n",
              "      <td>NaN</td>\n",
              "      <td>Yams/sweet potato casserole</td>\n",
              "      <td>NaN</td>\n",
              "      <td>NaN</td>\n",
              "    </tr>\n",
              "    <tr>\n",
              "      <th>1</th>\n",
              "      <td>East South Central</td>\n",
              "      <td>NaN</td>\n",
              "      <td>NaN</td>\n",
              "      <td>NaN</td>\n",
              "      <td>Corn</td>\n",
              "      <td>NaN</td>\n",
              "      <td>NaN</td>\n",
              "      <td>Green beans/green bean casserole</td>\n",
              "      <td>Macaroni and cheese</td>\n",
              "      <td>Mashed potatoes</td>\n",
              "      <td>Rolls/biscuits</td>\n",
              "      <td>NaN</td>\n",
              "      <td>Vegetable salad</td>\n",
              "      <td>Yams/sweet potato casserole</td>\n",
              "      <td>Other (please specify)</td>\n",
              "      <td>Asian vinagrette salad</td>\n",
              "    </tr>\n",
              "    <tr>\n",
              "      <th>2</th>\n",
              "      <td>Mountain</td>\n",
              "      <td>Brussel sprouts</td>\n",
              "      <td>Carrots</td>\n",
              "      <td>Cauliflower</td>\n",
              "      <td>Corn</td>\n",
              "      <td>Cornbread</td>\n",
              "      <td>NaN</td>\n",
              "      <td>NaN</td>\n",
              "      <td>NaN</td>\n",
              "      <td>Mashed potatoes</td>\n",
              "      <td>Rolls/biscuits</td>\n",
              "      <td>NaN</td>\n",
              "      <td>Vegetable salad</td>\n",
              "      <td>NaN</td>\n",
              "      <td>NaN</td>\n",
              "      <td>NaN</td>\n",
              "    </tr>\n",
              "    <tr>\n",
              "      <th>3</th>\n",
              "      <td>Pacific</td>\n",
              "      <td>Brussel sprouts</td>\n",
              "      <td>NaN</td>\n",
              "      <td>NaN</td>\n",
              "      <td>NaN</td>\n",
              "      <td>Cornbread</td>\n",
              "      <td>NaN</td>\n",
              "      <td>NaN</td>\n",
              "      <td>NaN</td>\n",
              "      <td>Mashed potatoes</td>\n",
              "      <td>Rolls/biscuits</td>\n",
              "      <td>NaN</td>\n",
              "      <td>Vegetable salad</td>\n",
              "      <td>Yams/sweet potato casserole</td>\n",
              "      <td>NaN</td>\n",
              "      <td>NaN</td>\n",
              "    </tr>\n",
              "    <tr>\n",
              "      <th>4</th>\n",
              "      <td>Pacific</td>\n",
              "      <td>Brussel sprouts</td>\n",
              "      <td>NaN</td>\n",
              "      <td>NaN</td>\n",
              "      <td>NaN</td>\n",
              "      <td>Cornbread</td>\n",
              "      <td>NaN</td>\n",
              "      <td>NaN</td>\n",
              "      <td>NaN</td>\n",
              "      <td>Mashed potatoes</td>\n",
              "      <td>Rolls/biscuits</td>\n",
              "      <td>Squash</td>\n",
              "      <td>Vegetable salad</td>\n",
              "      <td>Yams/sweet potato casserole</td>\n",
              "      <td>NaN</td>\n",
              "      <td>NaN</td>\n",
              "    </tr>\n",
              "  </tbody>\n",
              "</table>\n",
              "</div>"
            ],
            "text/plain": [
              "            US Region  \\\n",
              "0     Middle Atlantic   \n",
              "1  East South Central   \n",
              "2            Mountain   \n",
              "3             Pacific   \n",
              "4             Pacific   \n",
              "\n",
              "  Which of these side dishes aretypically served at your Thanksgiving dinner? Please select all that apply. - Brussel sprouts  \\\n",
              "0                                                NaN                                                                            \n",
              "1                                                NaN                                                                            \n",
              "2                                    Brussel sprouts                                                                            \n",
              "3                                    Brussel sprouts                                                                            \n",
              "4                                    Brussel sprouts                                                                            \n",
              "\n",
              "  Which of these side dishes aretypically served at your Thanksgiving dinner? Please select all that apply. - Carrots  \\\n",
              "0                                            Carrots                                                                    \n",
              "1                                                NaN                                                                    \n",
              "2                                            Carrots                                                                    \n",
              "3                                                NaN                                                                    \n",
              "4                                                NaN                                                                    \n",
              "\n",
              "  Which of these side dishes aretypically served at your Thanksgiving dinner? Please select all that apply. - Cauliflower  \\\n",
              "0                                                NaN                                                                        \n",
              "1                                                NaN                                                                        \n",
              "2                                        Cauliflower                                                                        \n",
              "3                                                NaN                                                                        \n",
              "4                                                NaN                                                                        \n",
              "\n",
              "  Which of these side dishes aretypically served at your Thanksgiving dinner? Please select all that apply. - Corn  \\\n",
              "0                                                NaN                                                                 \n",
              "1                                               Corn                                                                 \n",
              "2                                               Corn                                                                 \n",
              "3                                                NaN                                                                 \n",
              "4                                                NaN                                                                 \n",
              "\n",
              "  Which of these side dishes aretypically served at your Thanksgiving dinner? Please select all that apply. - Cornbread  \\\n",
              "0                                                NaN                                                                      \n",
              "1                                                NaN                                                                      \n",
              "2                                          Cornbread                                                                      \n",
              "3                                          Cornbread                                                                      \n",
              "4                                          Cornbread                                                                      \n",
              "\n",
              "  Which of these side dishes aretypically served at your Thanksgiving dinner? Please select all that apply. - Fruit salad  \\\n",
              "0                                                NaN                                                                        \n",
              "1                                                NaN                                                                        \n",
              "2                                                NaN                                                                        \n",
              "3                                                NaN                                                                        \n",
              "4                                                NaN                                                                        \n",
              "\n",
              "  Which of these side dishes aretypically served at your Thanksgiving dinner? Please select all that apply. - Green beans/green bean casserole  \\\n",
              "0                   Green beans/green bean casserole                                                                                             \n",
              "1                   Green beans/green bean casserole                                                                                             \n",
              "2                                                NaN                                                                                             \n",
              "3                                                NaN                                                                                             \n",
              "4                                                NaN                                                                                             \n",
              "\n",
              "  Which of these side dishes aretypically served at your Thanksgiving dinner? Please select all that apply. - Macaroni and cheese  \\\n",
              "0                                Macaroni and cheese                                                                                \n",
              "1                                Macaroni and cheese                                                                                \n",
              "2                                                NaN                                                                                \n",
              "3                                                NaN                                                                                \n",
              "4                                                NaN                                                                                \n",
              "\n",
              "  Which of these side dishes aretypically served at your Thanksgiving dinner? Please select all that apply. - Mashed potatoes  \\\n",
              "0                                    Mashed potatoes                                                                            \n",
              "1                                    Mashed potatoes                                                                            \n",
              "2                                    Mashed potatoes                                                                            \n",
              "3                                    Mashed potatoes                                                                            \n",
              "4                                    Mashed potatoes                                                                            \n",
              "\n",
              "  Which of these side dishes aretypically served at your Thanksgiving dinner? Please select all that apply. - Rolls/biscuits  \\\n",
              "0                                                NaN                                                                           \n",
              "1                                     Rolls/biscuits                                                                           \n",
              "2                                     Rolls/biscuits                                                                           \n",
              "3                                     Rolls/biscuits                                                                           \n",
              "4                                     Rolls/biscuits                                                                           \n",
              "\n",
              "  Which of these side dishes aretypically served at your Thanksgiving dinner? Please select all that apply. - Squash  \\\n",
              "0                                                NaN                                                                   \n",
              "1                                                NaN                                                                   \n",
              "2                                                NaN                                                                   \n",
              "3                                                NaN                                                                   \n",
              "4                                             Squash                                                                   \n",
              "\n",
              "  Which of these side dishes aretypically served at your Thanksgiving dinner? Please select all that apply. - Vegetable salad  \\\n",
              "0                                                NaN                                                                            \n",
              "1                                    Vegetable salad                                                                            \n",
              "2                                    Vegetable salad                                                                            \n",
              "3                                    Vegetable salad                                                                            \n",
              "4                                    Vegetable salad                                                                            \n",
              "\n",
              "  Which of these side dishes aretypically served at your Thanksgiving dinner? Please select all that apply. - Yams/sweet potato casserole  \\\n",
              "0                        Yams/sweet potato casserole                                                                                        \n",
              "1                        Yams/sweet potato casserole                                                                                        \n",
              "2                                                NaN                                                                                        \n",
              "3                        Yams/sweet potato casserole                                                                                        \n",
              "4                        Yams/sweet potato casserole                                                                                        \n",
              "\n",
              "  Which of these side dishes aretypically served at your Thanksgiving dinner? Please select all that apply. - Other (please specify)  \\\n",
              "0                                                NaN                                                                                   \n",
              "1                             Other (please specify)                                                                                   \n",
              "2                                                NaN                                                                                   \n",
              "3                                                NaN                                                                                   \n",
              "4                                                NaN                                                                                   \n",
              "\n",
              "  Which of these side dishes aretypically served at your Thanksgiving dinner? Please select all that apply. - Other (please specify).1  \n",
              "0                                                NaN                                                                                    \n",
              "1                             Asian vinagrette salad                                                                                    \n",
              "2                                                NaN                                                                                    \n",
              "3                                                NaN                                                                                    \n",
              "4                                                NaN                                                                                    "
            ]
          },
          "metadata": {
            "tags": []
          },
          "execution_count": 22
        }
      ]
    },
    {
      "metadata": {
        "id": "gIpM21TZFz-J",
        "colab_type": "code",
        "outputId": "3ff17ce5-b9ed-46d7-aef7-81dee0997bb2",
        "colab": {
          "base_uri": "https://localhost:8080/",
          "height": 635
        }
      },
      "cell_type": "code",
      "source": [
        "merged_fill = merged.copy()\n",
        "merged_fill.head()"
      ],
      "execution_count": 23,
      "outputs": [
        {
          "output_type": "execute_result",
          "data": {
            "text/html": [
              "<div>\n",
              "<style scoped>\n",
              "    .dataframe tbody tr th:only-of-type {\n",
              "        vertical-align: middle;\n",
              "    }\n",
              "\n",
              "    .dataframe tbody tr th {\n",
              "        vertical-align: top;\n",
              "    }\n",
              "\n",
              "    .dataframe thead th {\n",
              "        text-align: right;\n",
              "    }\n",
              "</style>\n",
              "<table border=\"1\" class=\"dataframe\">\n",
              "  <thead>\n",
              "    <tr style=\"text-align: right;\">\n",
              "      <th></th>\n",
              "      <th>US Region</th>\n",
              "      <th>Which of these side dishes aretypically served at your Thanksgiving dinner? Please select all that apply. - Brussel sprouts</th>\n",
              "      <th>Which of these side dishes aretypically served at your Thanksgiving dinner? Please select all that apply. - Carrots</th>\n",
              "      <th>Which of these side dishes aretypically served at your Thanksgiving dinner? Please select all that apply. - Cauliflower</th>\n",
              "      <th>Which of these side dishes aretypically served at your Thanksgiving dinner? Please select all that apply. - Corn</th>\n",
              "      <th>Which of these side dishes aretypically served at your Thanksgiving dinner? Please select all that apply. - Cornbread</th>\n",
              "      <th>Which of these side dishes aretypically served at your Thanksgiving dinner? Please select all that apply. - Fruit salad</th>\n",
              "      <th>Which of these side dishes aretypically served at your Thanksgiving dinner? Please select all that apply. - Green beans/green bean casserole</th>\n",
              "      <th>Which of these side dishes aretypically served at your Thanksgiving dinner? Please select all that apply. - Macaroni and cheese</th>\n",
              "      <th>Which of these side dishes aretypically served at your Thanksgiving dinner? Please select all that apply. - Mashed potatoes</th>\n",
              "      <th>Which of these side dishes aretypically served at your Thanksgiving dinner? Please select all that apply. - Rolls/biscuits</th>\n",
              "      <th>Which of these side dishes aretypically served at your Thanksgiving dinner? Please select all that apply. - Squash</th>\n",
              "      <th>Which of these side dishes aretypically served at your Thanksgiving dinner? Please select all that apply. - Vegetable salad</th>\n",
              "      <th>Which of these side dishes aretypically served at your Thanksgiving dinner? Please select all that apply. - Yams/sweet potato casserole</th>\n",
              "      <th>Which of these side dishes aretypically served at your Thanksgiving dinner? Please select all that apply. - Other (please specify)</th>\n",
              "      <th>Which of these side dishes aretypically served at your Thanksgiving dinner? Please select all that apply. - Other (please specify).1</th>\n",
              "    </tr>\n",
              "  </thead>\n",
              "  <tbody>\n",
              "    <tr>\n",
              "      <th>0</th>\n",
              "      <td>Middle Atlantic</td>\n",
              "      <td>NaN</td>\n",
              "      <td>Carrots</td>\n",
              "      <td>NaN</td>\n",
              "      <td>NaN</td>\n",
              "      <td>NaN</td>\n",
              "      <td>NaN</td>\n",
              "      <td>Green beans/green bean casserole</td>\n",
              "      <td>Macaroni and cheese</td>\n",
              "      <td>Mashed potatoes</td>\n",
              "      <td>NaN</td>\n",
              "      <td>NaN</td>\n",
              "      <td>NaN</td>\n",
              "      <td>Yams/sweet potato casserole</td>\n",
              "      <td>NaN</td>\n",
              "      <td>NaN</td>\n",
              "    </tr>\n",
              "    <tr>\n",
              "      <th>1</th>\n",
              "      <td>East South Central</td>\n",
              "      <td>NaN</td>\n",
              "      <td>NaN</td>\n",
              "      <td>NaN</td>\n",
              "      <td>Corn</td>\n",
              "      <td>NaN</td>\n",
              "      <td>NaN</td>\n",
              "      <td>Green beans/green bean casserole</td>\n",
              "      <td>Macaroni and cheese</td>\n",
              "      <td>Mashed potatoes</td>\n",
              "      <td>Rolls/biscuits</td>\n",
              "      <td>NaN</td>\n",
              "      <td>Vegetable salad</td>\n",
              "      <td>Yams/sweet potato casserole</td>\n",
              "      <td>Other (please specify)</td>\n",
              "      <td>Asian vinagrette salad</td>\n",
              "    </tr>\n",
              "    <tr>\n",
              "      <th>2</th>\n",
              "      <td>Mountain</td>\n",
              "      <td>Brussel sprouts</td>\n",
              "      <td>Carrots</td>\n",
              "      <td>Cauliflower</td>\n",
              "      <td>Corn</td>\n",
              "      <td>Cornbread</td>\n",
              "      <td>NaN</td>\n",
              "      <td>NaN</td>\n",
              "      <td>NaN</td>\n",
              "      <td>Mashed potatoes</td>\n",
              "      <td>Rolls/biscuits</td>\n",
              "      <td>NaN</td>\n",
              "      <td>Vegetable salad</td>\n",
              "      <td>NaN</td>\n",
              "      <td>NaN</td>\n",
              "      <td>NaN</td>\n",
              "    </tr>\n",
              "    <tr>\n",
              "      <th>3</th>\n",
              "      <td>Pacific</td>\n",
              "      <td>Brussel sprouts</td>\n",
              "      <td>NaN</td>\n",
              "      <td>NaN</td>\n",
              "      <td>NaN</td>\n",
              "      <td>Cornbread</td>\n",
              "      <td>NaN</td>\n",
              "      <td>NaN</td>\n",
              "      <td>NaN</td>\n",
              "      <td>Mashed potatoes</td>\n",
              "      <td>Rolls/biscuits</td>\n",
              "      <td>NaN</td>\n",
              "      <td>Vegetable salad</td>\n",
              "      <td>Yams/sweet potato casserole</td>\n",
              "      <td>NaN</td>\n",
              "      <td>NaN</td>\n",
              "    </tr>\n",
              "    <tr>\n",
              "      <th>4</th>\n",
              "      <td>Pacific</td>\n",
              "      <td>Brussel sprouts</td>\n",
              "      <td>NaN</td>\n",
              "      <td>NaN</td>\n",
              "      <td>NaN</td>\n",
              "      <td>Cornbread</td>\n",
              "      <td>NaN</td>\n",
              "      <td>NaN</td>\n",
              "      <td>NaN</td>\n",
              "      <td>Mashed potatoes</td>\n",
              "      <td>Rolls/biscuits</td>\n",
              "      <td>Squash</td>\n",
              "      <td>Vegetable salad</td>\n",
              "      <td>Yams/sweet potato casserole</td>\n",
              "      <td>NaN</td>\n",
              "      <td>NaN</td>\n",
              "    </tr>\n",
              "  </tbody>\n",
              "</table>\n",
              "</div>"
            ],
            "text/plain": [
              "            US Region  \\\n",
              "0     Middle Atlantic   \n",
              "1  East South Central   \n",
              "2            Mountain   \n",
              "3             Pacific   \n",
              "4             Pacific   \n",
              "\n",
              "  Which of these side dishes aretypically served at your Thanksgiving dinner? Please select all that apply. - Brussel sprouts  \\\n",
              "0                                                NaN                                                                            \n",
              "1                                                NaN                                                                            \n",
              "2                                    Brussel sprouts                                                                            \n",
              "3                                    Brussel sprouts                                                                            \n",
              "4                                    Brussel sprouts                                                                            \n",
              "\n",
              "  Which of these side dishes aretypically served at your Thanksgiving dinner? Please select all that apply. - Carrots  \\\n",
              "0                                            Carrots                                                                    \n",
              "1                                                NaN                                                                    \n",
              "2                                            Carrots                                                                    \n",
              "3                                                NaN                                                                    \n",
              "4                                                NaN                                                                    \n",
              "\n",
              "  Which of these side dishes aretypically served at your Thanksgiving dinner? Please select all that apply. - Cauliflower  \\\n",
              "0                                                NaN                                                                        \n",
              "1                                                NaN                                                                        \n",
              "2                                        Cauliflower                                                                        \n",
              "3                                                NaN                                                                        \n",
              "4                                                NaN                                                                        \n",
              "\n",
              "  Which of these side dishes aretypically served at your Thanksgiving dinner? Please select all that apply. - Corn  \\\n",
              "0                                                NaN                                                                 \n",
              "1                                               Corn                                                                 \n",
              "2                                               Corn                                                                 \n",
              "3                                                NaN                                                                 \n",
              "4                                                NaN                                                                 \n",
              "\n",
              "  Which of these side dishes aretypically served at your Thanksgiving dinner? Please select all that apply. - Cornbread  \\\n",
              "0                                                NaN                                                                      \n",
              "1                                                NaN                                                                      \n",
              "2                                          Cornbread                                                                      \n",
              "3                                          Cornbread                                                                      \n",
              "4                                          Cornbread                                                                      \n",
              "\n",
              "  Which of these side dishes aretypically served at your Thanksgiving dinner? Please select all that apply. - Fruit salad  \\\n",
              "0                                                NaN                                                                        \n",
              "1                                                NaN                                                                        \n",
              "2                                                NaN                                                                        \n",
              "3                                                NaN                                                                        \n",
              "4                                                NaN                                                                        \n",
              "\n",
              "  Which of these side dishes aretypically served at your Thanksgiving dinner? Please select all that apply. - Green beans/green bean casserole  \\\n",
              "0                   Green beans/green bean casserole                                                                                             \n",
              "1                   Green beans/green bean casserole                                                                                             \n",
              "2                                                NaN                                                                                             \n",
              "3                                                NaN                                                                                             \n",
              "4                                                NaN                                                                                             \n",
              "\n",
              "  Which of these side dishes aretypically served at your Thanksgiving dinner? Please select all that apply. - Macaroni and cheese  \\\n",
              "0                                Macaroni and cheese                                                                                \n",
              "1                                Macaroni and cheese                                                                                \n",
              "2                                                NaN                                                                                \n",
              "3                                                NaN                                                                                \n",
              "4                                                NaN                                                                                \n",
              "\n",
              "  Which of these side dishes aretypically served at your Thanksgiving dinner? Please select all that apply. - Mashed potatoes  \\\n",
              "0                                    Mashed potatoes                                                                            \n",
              "1                                    Mashed potatoes                                                                            \n",
              "2                                    Mashed potatoes                                                                            \n",
              "3                                    Mashed potatoes                                                                            \n",
              "4                                    Mashed potatoes                                                                            \n",
              "\n",
              "  Which of these side dishes aretypically served at your Thanksgiving dinner? Please select all that apply. - Rolls/biscuits  \\\n",
              "0                                                NaN                                                                           \n",
              "1                                     Rolls/biscuits                                                                           \n",
              "2                                     Rolls/biscuits                                                                           \n",
              "3                                     Rolls/biscuits                                                                           \n",
              "4                                     Rolls/biscuits                                                                           \n",
              "\n",
              "  Which of these side dishes aretypically served at your Thanksgiving dinner? Please select all that apply. - Squash  \\\n",
              "0                                                NaN                                                                   \n",
              "1                                                NaN                                                                   \n",
              "2                                                NaN                                                                   \n",
              "3                                                NaN                                                                   \n",
              "4                                             Squash                                                                   \n",
              "\n",
              "  Which of these side dishes aretypically served at your Thanksgiving dinner? Please select all that apply. - Vegetable salad  \\\n",
              "0                                                NaN                                                                            \n",
              "1                                    Vegetable salad                                                                            \n",
              "2                                    Vegetable salad                                                                            \n",
              "3                                    Vegetable salad                                                                            \n",
              "4                                    Vegetable salad                                                                            \n",
              "\n",
              "  Which of these side dishes aretypically served at your Thanksgiving dinner? Please select all that apply. - Yams/sweet potato casserole  \\\n",
              "0                        Yams/sweet potato casserole                                                                                        \n",
              "1                        Yams/sweet potato casserole                                                                                        \n",
              "2                                                NaN                                                                                        \n",
              "3                        Yams/sweet potato casserole                                                                                        \n",
              "4                        Yams/sweet potato casserole                                                                                        \n",
              "\n",
              "  Which of these side dishes aretypically served at your Thanksgiving dinner? Please select all that apply. - Other (please specify)  \\\n",
              "0                                                NaN                                                                                   \n",
              "1                             Other (please specify)                                                                                   \n",
              "2                                                NaN                                                                                   \n",
              "3                                                NaN                                                                                   \n",
              "4                                                NaN                                                                                   \n",
              "\n",
              "  Which of these side dishes aretypically served at your Thanksgiving dinner? Please select all that apply. - Other (please specify).1  \n",
              "0                                                NaN                                                                                    \n",
              "1                             Asian vinagrette salad                                                                                    \n",
              "2                                                NaN                                                                                    \n",
              "3                                                NaN                                                                                    \n",
              "4                                                NaN                                                                                    "
            ]
          },
          "metadata": {
            "tags": []
          },
          "execution_count": 23
        }
      ]
    },
    {
      "metadata": {
        "id": "RMaA1f2pGJ9E",
        "colab_type": "code",
        "outputId": "ccc6668b-f93d-4f8e-8d22-9e4fb5a22b0b",
        "colab": {
          "base_uri": "https://localhost:8080/",
          "height": 360
        }
      },
      "cell_type": "code",
      "source": [
        "pd.crosstab(merged['US Region'], merged[merged.columns[1]])"
      ],
      "execution_count": 24,
      "outputs": [
        {
          "output_type": "execute_result",
          "data": {
            "text/html": [
              "<div>\n",
              "<style scoped>\n",
              "    .dataframe tbody tr th:only-of-type {\n",
              "        vertical-align: middle;\n",
              "    }\n",
              "\n",
              "    .dataframe tbody tr th {\n",
              "        vertical-align: top;\n",
              "    }\n",
              "\n",
              "    .dataframe thead th {\n",
              "        text-align: right;\n",
              "    }\n",
              "</style>\n",
              "<table border=\"1\" class=\"dataframe\">\n",
              "  <thead>\n",
              "    <tr style=\"text-align: right;\">\n",
              "      <th>Which of these side dishes aretypically served at your Thanksgiving dinner? Please select all that apply. - Brussel sprouts</th>\n",
              "      <th>Brussel sprouts</th>\n",
              "    </tr>\n",
              "    <tr>\n",
              "      <th>US Region</th>\n",
              "      <th></th>\n",
              "    </tr>\n",
              "  </thead>\n",
              "  <tbody>\n",
              "    <tr>\n",
              "      <th>East North Central</th>\n",
              "      <td>22</td>\n",
              "    </tr>\n",
              "    <tr>\n",
              "      <th>East South Central</th>\n",
              "      <td>7</td>\n",
              "    </tr>\n",
              "    <tr>\n",
              "      <th>Middle Atlantic</th>\n",
              "      <td>41</td>\n",
              "    </tr>\n",
              "    <tr>\n",
              "      <th>Mountain</th>\n",
              "      <td>6</td>\n",
              "    </tr>\n",
              "    <tr>\n",
              "      <th>New England</th>\n",
              "      <td>12</td>\n",
              "    </tr>\n",
              "    <tr>\n",
              "      <th>Pacific</th>\n",
              "      <td>29</td>\n",
              "    </tr>\n",
              "    <tr>\n",
              "      <th>South Atlantic</th>\n",
              "      <td>27</td>\n",
              "    </tr>\n",
              "    <tr>\n",
              "      <th>West North Central</th>\n",
              "      <td>3</td>\n",
              "    </tr>\n",
              "    <tr>\n",
              "      <th>West South Central</th>\n",
              "      <td>4</td>\n",
              "    </tr>\n",
              "  </tbody>\n",
              "</table>\n",
              "</div>"
            ],
            "text/plain": [
              "Which of these side dishes aretypically served at your Thanksgiving dinner? Please select all that apply. - Brussel sprouts  Brussel sprouts\n",
              "US Region                                                                                                                                   \n",
              "East North Central                                                                                                                        22\n",
              "East South Central                                                                                                                         7\n",
              "Middle Atlantic                                                                                                                           41\n",
              "Mountain                                                                                                                                   6\n",
              "New England                                                                                                                               12\n",
              "Pacific                                                                                                                                   29\n",
              "South Atlantic                                                                                                                            27\n",
              "West North Central                                                                                                                         3\n",
              "West South Central                                                                                                                         4"
            ]
          },
          "metadata": {
            "tags": []
          },
          "execution_count": 24
        }
      ]
    },
    {
      "metadata": {
        "id": "FwA3iSh9IUaj",
        "colab_type": "code",
        "outputId": "cce78cfc-6bcd-422a-9308-33c3fa5e65f4",
        "colab": {
          "base_uri": "https://localhost:8080/",
          "height": 34
        }
      },
      "cell_type": "code",
      "source": [
        "merged.columns[5]"
      ],
      "execution_count": 25,
      "outputs": [
        {
          "output_type": "execute_result",
          "data": {
            "text/plain": [
              "'Which of these side dishes aretypically served at your Thanksgiving dinner? Please select all that apply. - Cornbread'"
            ]
          },
          "metadata": {
            "tags": []
          },
          "execution_count": 25
        }
      ]
    },
    {
      "metadata": {
        "id": "km8IJVtZ9X_j",
        "colab_type": "code",
        "colab": {
          "base_uri": "https://localhost:8080/",
          "height": 1549
        },
        "outputId": "3d8c61db-183d-40b2-fc08-077c96c55eee"
      },
      "cell_type": "code",
      "source": [
        "[merged[merged.columns[num]].value_counts() for num in range(1, len(merged.columns))] "
      ],
      "execution_count": 26,
      "outputs": [
        {
          "output_type": "execute_result",
          "data": {
            "text/plain": [
              "[Brussel sprouts    155\n",
              " Name: Which of these side dishes aretypically served at your Thanksgiving dinner? Please select all that apply. - Brussel sprouts, dtype: int64,\n",
              " Carrots    242\n",
              " Name: Which of these side dishes aretypically served at your Thanksgiving dinner? Please select all that apply. - Carrots, dtype: int64,\n",
              " Cauliflower    88\n",
              " Name: Which of these side dishes aretypically served at your Thanksgiving dinner? Please select all that apply. - Cauliflower, dtype: int64,\n",
              " Corn    464\n",
              " Name: Which of these side dishes aretypically served at your Thanksgiving dinner? Please select all that apply. - Corn, dtype: int64,\n",
              " Cornbread    235\n",
              " Name: Which of these side dishes aretypically served at your Thanksgiving dinner? Please select all that apply. - Cornbread, dtype: int64,\n",
              " Fruit salad    215\n",
              " Name: Which of these side dishes aretypically served at your Thanksgiving dinner? Please select all that apply. - Fruit salad, dtype: int64,\n",
              " Green beans/green bean casserole    686\n",
              " Name: Which of these side dishes aretypically served at your Thanksgiving dinner? Please select all that apply. - Green beans/green bean casserole, dtype: int64,\n",
              " Macaroni and cheese    206\n",
              " Name: Which of these side dishes aretypically served at your Thanksgiving dinner? Please select all that apply. - Macaroni and cheese, dtype: int64,\n",
              " Mashed potatoes    817\n",
              " Name: Which of these side dishes aretypically served at your Thanksgiving dinner? Please select all that apply. - Mashed potatoes, dtype: int64,\n",
              " Rolls/biscuits    766\n",
              " Name: Which of these side dishes aretypically served at your Thanksgiving dinner? Please select all that apply. - Rolls/biscuits, dtype: int64,\n",
              " Squash    171\n",
              " Name: Which of these side dishes aretypically served at your Thanksgiving dinner? Please select all that apply. - Squash, dtype: int64,\n",
              " Vegetable salad    209\n",
              " Name: Which of these side dishes aretypically served at your Thanksgiving dinner? Please select all that apply. - Vegetable salad, dtype: int64,\n",
              " Yams/sweet potato casserole    631\n",
              " Name: Which of these side dishes aretypically served at your Thanksgiving dinner? Please select all that apply. - Yams/sweet potato casserole, dtype: int64,\n",
              " Other (please specify)    111\n",
              " Name: Which of these side dishes aretypically served at your Thanksgiving dinner? Please select all that apply. - Other (please specify), dtype: int64,\n",
              " broccoli                                                                         7\n",
              " rice                                                                             4\n",
              " Rice                                                                             3\n",
              " collard greens                                                                   3\n",
              " Asparagus                                                                        2\n",
              " greens                                                                           2\n",
              " Broccoli                                                                         2\n",
              " Broccoli casserole                                                               2\n",
              " creamed onions                                                                   2\n",
              " Brocolli                                                                         2\n",
              " Turnip greens                                                                    2\n",
              " baked potato, cranberry                                                          1\n",
              " Potatoes salad                                                                   1\n",
              " gizzards                                                                         1\n",
              " Fieldpeas or crowders                                                            1\n",
              " Okra!                                                                            1\n",
              " Pearl onions                                                                     1\n",
              " Rice, beans, tamales                                                             1\n",
              " Pasta                                                                            1\n",
              " Kale and Colored Greens                                                          1\n",
              " Asian vinagrette salad                                                           1\n",
              " Brocolli & Corn Casserole AND  Homemade Noodles                                  1\n",
              " Peas and a jello salad                                                           1\n",
              " Green beans with almonds & brocolli rice casserole                               1\n",
              " asparagus                                                                        1\n",
              " ham, cheesecake, pies                                                            1\n",
              " mushrooms, broccoli rabe, turnip                                                 1\n",
              " pumpkin bisque                                                                   1\n",
              " Breaded dressing                                                                 1\n",
              " roasted vegatables                                                               1\n",
              "                                                                                 ..\n",
              " cheeseball                                                                       1\n",
              " Banana Croquets; Dumplings                                                       1\n",
              " Rice pudding                                                                     1\n",
              " plain sweet potatoes, brocolli, relish tray, oyster dressing                     1\n",
              " Spinach                                                                          1\n",
              " B52 sweet potatoes                                                               1\n",
              " Cajun Cressing (Crayfish, gorund beef & rice, etc.)                              1\n",
              " Deviled Eggs                                                                     1\n",
              " stuffing and creamed spinach                                                     1\n",
              " cheesy potatos                                                                   1\n",
              " turnip                                                                           1\n",
              " Peas with pearl onions                                                           1\n",
              " Potato salad, wild rice & mushroom casserole                                     1\n",
              " Dumplings                                                                        1\n",
              " Peas with mushrooms. Sparkly white wine. sweet gherkin pickles, pumpkin pie      1\n",
              " Sherbet                                                                          1\n",
              " Stuffing                                                                         1\n",
              " Creamed onions, broccoli                                                         1\n",
              " wild rice                                                                        1\n",
              " And then a different dish every so often                                         1\n",
              " oysters ham                                                                      1\n",
              " rutabaga                                                                         1\n",
              " Yorkshire pudding, mixed vegetable, apple sauce or squash and apple casserole    1\n",
              " baked potatoes                                                                   1\n",
              " Collard greens                                                                   1\n",
              " Root vegetables                                                                  1\n",
              " corn green beans                                                                 1\n",
              " Rice or roasted potatoes                                                         1\n",
              " Spinach souffl�                                                                  1\n",
              " Fish                                                                             1\n",
              " Name: Which of these side dishes aretypically served at your Thanksgiving dinner? Please select all that apply. - Other (please specify).1, Length: 91, dtype: int64]"
            ]
          },
          "metadata": {
            "tags": []
          },
          "execution_count": 26
        }
      ]
    },
    {
      "metadata": {
        "id": "vYusiLE7AUCP",
        "colab_type": "code",
        "outputId": "76634321-f9ab-4356-9f9e-8c2dfb16bbce",
        "colab": {
          "base_uri": "https://localhost:8080/",
          "height": 296
        }
      },
      "cell_type": "code",
      "source": [
        "m_group = merged.groupby('US Region')[merged.columns[1]].value_counts()\n"
      ],
      "execution_count": 31,
      "outputs": [
        {
          "output_type": "error",
          "ename": "AttributeError",
          "evalue": "ignored",
          "traceback": [
            "\u001b[0;31m---------------------------------------------------------------------------\u001b[0m",
            "\u001b[0;31mAttributeError\u001b[0m                            Traceback (most recent call last)",
            "\u001b[0;32m<ipython-input-31-601d6bce8a8e>\u001b[0m in \u001b[0;36m<module>\u001b[0;34m()\u001b[0m\n\u001b[1;32m      1\u001b[0m \u001b[0mm_group\u001b[0m \u001b[0;34m=\u001b[0m \u001b[0mmerged\u001b[0m\u001b[0;34m.\u001b[0m\u001b[0mgroupby\u001b[0m\u001b[0;34m(\u001b[0m\u001b[0;34m'US Region'\u001b[0m\u001b[0;34m)\u001b[0m\u001b[0;34m[\u001b[0m\u001b[0mmerged\u001b[0m\u001b[0;34m.\u001b[0m\u001b[0mcolumns\u001b[0m\u001b[0;34m[\u001b[0m\u001b[0;36m1\u001b[0m\u001b[0;34m]\u001b[0m\u001b[0;34m]\u001b[0m\u001b[0;34m.\u001b[0m\u001b[0mvalue_counts\u001b[0m\u001b[0;34m(\u001b[0m\u001b[0;34m)\u001b[0m\u001b[0;34m\u001b[0m\u001b[0;34m\u001b[0m\u001b[0m\n\u001b[0;32m----> 2\u001b[0;31m \u001b[0mm_group\u001b[0m\u001b[0;34m.\u001b[0m\u001b[0mcolumns\u001b[0m\u001b[0;34m\u001b[0m\u001b[0;34m\u001b[0m\u001b[0m\n\u001b[0m",
            "\u001b[0;32m/usr/local/lib/python3.6/dist-packages/pandas/core/generic.py\u001b[0m in \u001b[0;36m__getattr__\u001b[0;34m(self, name)\u001b[0m\n\u001b[1;32m   3608\u001b[0m         if (name in self._internal_names_set or name in self._metadata or\n\u001b[1;32m   3609\u001b[0m                 name in self._accessors):\n\u001b[0;32m-> 3610\u001b[0;31m             \u001b[0;32mreturn\u001b[0m \u001b[0mobject\u001b[0m\u001b[0;34m.\u001b[0m\u001b[0m__getattribute__\u001b[0m\u001b[0;34m(\u001b[0m\u001b[0mself\u001b[0m\u001b[0;34m,\u001b[0m \u001b[0mname\u001b[0m\u001b[0;34m)\u001b[0m\u001b[0;34m\u001b[0m\u001b[0;34m\u001b[0m\u001b[0m\n\u001b[0m\u001b[1;32m   3611\u001b[0m         \u001b[0;32melse\u001b[0m\u001b[0;34m:\u001b[0m\u001b[0;34m\u001b[0m\u001b[0;34m\u001b[0m\u001b[0m\n\u001b[1;32m   3612\u001b[0m             \u001b[0;32mif\u001b[0m \u001b[0mname\u001b[0m \u001b[0;32min\u001b[0m \u001b[0mself\u001b[0m\u001b[0;34m.\u001b[0m\u001b[0m_info_axis\u001b[0m\u001b[0;34m:\u001b[0m\u001b[0;34m\u001b[0m\u001b[0;34m\u001b[0m\u001b[0m\n",
            "\u001b[0;31mAttributeError\u001b[0m: 'Series' object has no attribute 'columns'"
          ]
        }
      ]
    },
    {
      "metadata": {
        "id": "hzXD-ULcl1tH",
        "colab_type": "code",
        "colab": {
          "base_uri": "https://localhost:8080/",
          "height": 800
        },
        "outputId": "521825ff-c129-463b-d67b-14503c8a2685"
      },
      "cell_type": "code",
      "source": [
        "empty = pd.DataFrame()\n",
        "for column in merged[1:]:\n",
        "  empty[column] = merged.groupby('US Region')[column].value_counts().sort_values(ascending=False)\n",
        "empty"
      ],
      "execution_count": 45,
      "outputs": [
        {
          "output_type": "execute_result",
          "data": {
            "text/html": [
              "<div>\n",
              "<style scoped>\n",
              "    .dataframe tbody tr th:only-of-type {\n",
              "        vertical-align: middle;\n",
              "    }\n",
              "\n",
              "    .dataframe tbody tr th {\n",
              "        vertical-align: top;\n",
              "    }\n",
              "\n",
              "    .dataframe thead th {\n",
              "        text-align: right;\n",
              "    }\n",
              "</style>\n",
              "<table border=\"1\" class=\"dataframe\">\n",
              "  <thead>\n",
              "    <tr style=\"text-align: right;\">\n",
              "      <th></th>\n",
              "      <th></th>\n",
              "      <th>US Region</th>\n",
              "      <th>Which of these side dishes aretypically served at your Thanksgiving dinner? Please select all that apply. - Brussel sprouts</th>\n",
              "      <th>Which of these side dishes aretypically served at your Thanksgiving dinner? Please select all that apply. - Carrots</th>\n",
              "      <th>Which of these side dishes aretypically served at your Thanksgiving dinner? Please select all that apply. - Cauliflower</th>\n",
              "      <th>Which of these side dishes aretypically served at your Thanksgiving dinner? Please select all that apply. - Corn</th>\n",
              "      <th>Which of these side dishes aretypically served at your Thanksgiving dinner? Please select all that apply. - Cornbread</th>\n",
              "      <th>Which of these side dishes aretypically served at your Thanksgiving dinner? Please select all that apply. - Fruit salad</th>\n",
              "      <th>Which of these side dishes aretypically served at your Thanksgiving dinner? Please select all that apply. - Green beans/green bean casserole</th>\n",
              "      <th>Which of these side dishes aretypically served at your Thanksgiving dinner? Please select all that apply. - Macaroni and cheese</th>\n",
              "      <th>Which of these side dishes aretypically served at your Thanksgiving dinner? Please select all that apply. - Mashed potatoes</th>\n",
              "      <th>Which of these side dishes aretypically served at your Thanksgiving dinner? Please select all that apply. - Rolls/biscuits</th>\n",
              "      <th>Which of these side dishes aretypically served at your Thanksgiving dinner? Please select all that apply. - Squash</th>\n",
              "      <th>Which of these side dishes aretypically served at your Thanksgiving dinner? Please select all that apply. - Vegetable salad</th>\n",
              "      <th>Which of these side dishes aretypically served at your Thanksgiving dinner? Please select all that apply. - Yams/sweet potato casserole</th>\n",
              "      <th>Which of these side dishes aretypically served at your Thanksgiving dinner? Please select all that apply. - Other (please specify)</th>\n",
              "      <th>Which of these side dishes aretypically served at your Thanksgiving dinner? Please select all that apply. - Other (please specify).1</th>\n",
              "    </tr>\n",
              "    <tr>\n",
              "      <th>US Region</th>\n",
              "      <th>US Region</th>\n",
              "      <th></th>\n",
              "      <th></th>\n",
              "      <th></th>\n",
              "      <th></th>\n",
              "      <th></th>\n",
              "      <th></th>\n",
              "      <th></th>\n",
              "      <th></th>\n",
              "      <th></th>\n",
              "      <th></th>\n",
              "      <th></th>\n",
              "      <th></th>\n",
              "      <th></th>\n",
              "      <th></th>\n",
              "      <th></th>\n",
              "      <th></th>\n",
              "    </tr>\n",
              "  </thead>\n",
              "  <tbody>\n",
              "    <tr>\n",
              "      <th>South Atlantic</th>\n",
              "      <th>South Atlantic</th>\n",
              "      <td>214</td>\n",
              "      <td>NaN</td>\n",
              "      <td>NaN</td>\n",
              "      <td>NaN</td>\n",
              "      <td>NaN</td>\n",
              "      <td>NaN</td>\n",
              "      <td>NaN</td>\n",
              "      <td>NaN</td>\n",
              "      <td>NaN</td>\n",
              "      <td>NaN</td>\n",
              "      <td>NaN</td>\n",
              "      <td>NaN</td>\n",
              "      <td>NaN</td>\n",
              "      <td>NaN</td>\n",
              "      <td>NaN</td>\n",
              "      <td>NaN</td>\n",
              "    </tr>\n",
              "    <tr>\n",
              "      <th>Middle Atlantic</th>\n",
              "      <th>Middle Atlantic</th>\n",
              "      <td>159</td>\n",
              "      <td>NaN</td>\n",
              "      <td>NaN</td>\n",
              "      <td>NaN</td>\n",
              "      <td>NaN</td>\n",
              "      <td>NaN</td>\n",
              "      <td>NaN</td>\n",
              "      <td>NaN</td>\n",
              "      <td>NaN</td>\n",
              "      <td>NaN</td>\n",
              "      <td>NaN</td>\n",
              "      <td>NaN</td>\n",
              "      <td>NaN</td>\n",
              "      <td>NaN</td>\n",
              "      <td>NaN</td>\n",
              "      <td>NaN</td>\n",
              "    </tr>\n",
              "    <tr>\n",
              "      <th>East North Central</th>\n",
              "      <th>East North Central</th>\n",
              "      <td>150</td>\n",
              "      <td>NaN</td>\n",
              "      <td>NaN</td>\n",
              "      <td>NaN</td>\n",
              "      <td>NaN</td>\n",
              "      <td>NaN</td>\n",
              "      <td>NaN</td>\n",
              "      <td>NaN</td>\n",
              "      <td>NaN</td>\n",
              "      <td>NaN</td>\n",
              "      <td>NaN</td>\n",
              "      <td>NaN</td>\n",
              "      <td>NaN</td>\n",
              "      <td>NaN</td>\n",
              "      <td>NaN</td>\n",
              "      <td>NaN</td>\n",
              "    </tr>\n",
              "    <tr>\n",
              "      <th>Pacific</th>\n",
              "      <th>Pacific</th>\n",
              "      <td>146</td>\n",
              "      <td>NaN</td>\n",
              "      <td>NaN</td>\n",
              "      <td>NaN</td>\n",
              "      <td>NaN</td>\n",
              "      <td>NaN</td>\n",
              "      <td>NaN</td>\n",
              "      <td>NaN</td>\n",
              "      <td>NaN</td>\n",
              "      <td>NaN</td>\n",
              "      <td>NaN</td>\n",
              "      <td>NaN</td>\n",
              "      <td>NaN</td>\n",
              "      <td>NaN</td>\n",
              "      <td>NaN</td>\n",
              "      <td>NaN</td>\n",
              "    </tr>\n",
              "    <tr>\n",
              "      <th>West South Central</th>\n",
              "      <th>West South Central</th>\n",
              "      <td>91</td>\n",
              "      <td>NaN</td>\n",
              "      <td>NaN</td>\n",
              "      <td>NaN</td>\n",
              "      <td>NaN</td>\n",
              "      <td>NaN</td>\n",
              "      <td>NaN</td>\n",
              "      <td>NaN</td>\n",
              "      <td>NaN</td>\n",
              "      <td>NaN</td>\n",
              "      <td>NaN</td>\n",
              "      <td>NaN</td>\n",
              "      <td>NaN</td>\n",
              "      <td>NaN</td>\n",
              "      <td>NaN</td>\n",
              "      <td>NaN</td>\n",
              "    </tr>\n",
              "    <tr>\n",
              "      <th>West North Central</th>\n",
              "      <th>West North Central</th>\n",
              "      <td>74</td>\n",
              "      <td>NaN</td>\n",
              "      <td>NaN</td>\n",
              "      <td>NaN</td>\n",
              "      <td>NaN</td>\n",
              "      <td>NaN</td>\n",
              "      <td>NaN</td>\n",
              "      <td>NaN</td>\n",
              "      <td>NaN</td>\n",
              "      <td>NaN</td>\n",
              "      <td>NaN</td>\n",
              "      <td>NaN</td>\n",
              "      <td>NaN</td>\n",
              "      <td>NaN</td>\n",
              "      <td>NaN</td>\n",
              "      <td>NaN</td>\n",
              "    </tr>\n",
              "    <tr>\n",
              "      <th>East South Central</th>\n",
              "      <th>East South Central</th>\n",
              "      <td>60</td>\n",
              "      <td>NaN</td>\n",
              "      <td>NaN</td>\n",
              "      <td>NaN</td>\n",
              "      <td>NaN</td>\n",
              "      <td>NaN</td>\n",
              "      <td>NaN</td>\n",
              "      <td>NaN</td>\n",
              "      <td>NaN</td>\n",
              "      <td>NaN</td>\n",
              "      <td>NaN</td>\n",
              "      <td>NaN</td>\n",
              "      <td>NaN</td>\n",
              "      <td>NaN</td>\n",
              "      <td>NaN</td>\n",
              "      <td>NaN</td>\n",
              "    </tr>\n",
              "    <tr>\n",
              "      <th>New England</th>\n",
              "      <th>New England</th>\n",
              "      <td>58</td>\n",
              "      <td>NaN</td>\n",
              "      <td>NaN</td>\n",
              "      <td>NaN</td>\n",
              "      <td>NaN</td>\n",
              "      <td>NaN</td>\n",
              "      <td>NaN</td>\n",
              "      <td>NaN</td>\n",
              "      <td>NaN</td>\n",
              "      <td>NaN</td>\n",
              "      <td>NaN</td>\n",
              "      <td>NaN</td>\n",
              "      <td>NaN</td>\n",
              "      <td>NaN</td>\n",
              "      <td>NaN</td>\n",
              "      <td>NaN</td>\n",
              "    </tr>\n",
              "    <tr>\n",
              "      <th>Mountain</th>\n",
              "      <th>Mountain</th>\n",
              "      <td>47</td>\n",
              "      <td>NaN</td>\n",
              "      <td>NaN</td>\n",
              "      <td>NaN</td>\n",
              "      <td>NaN</td>\n",
              "      <td>NaN</td>\n",
              "      <td>NaN</td>\n",
              "      <td>NaN</td>\n",
              "      <td>NaN</td>\n",
              "      <td>NaN</td>\n",
              "      <td>NaN</td>\n",
              "      <td>NaN</td>\n",
              "      <td>NaN</td>\n",
              "      <td>NaN</td>\n",
              "      <td>NaN</td>\n",
              "      <td>NaN</td>\n",
              "    </tr>\n",
              "  </tbody>\n",
              "</table>\n",
              "</div>"
            ],
            "text/plain": [
              "                                       US Region  \\\n",
              "US Region          US Region                       \n",
              "South Atlantic     South Atlantic            214   \n",
              "Middle Atlantic    Middle Atlantic           159   \n",
              "East North Central East North Central        150   \n",
              "Pacific            Pacific                   146   \n",
              "West South Central West South Central         91   \n",
              "West North Central West North Central         74   \n",
              "East South Central East South Central         60   \n",
              "New England        New England                58   \n",
              "Mountain           Mountain                   47   \n",
              "\n",
              "                                       Which of these side dishes aretypically served at your Thanksgiving dinner? Please select all that apply. - Brussel sprouts  \\\n",
              "US Region          US Region                                                                                                                                         \n",
              "South Atlantic     South Atlantic                                                    NaN                                                                             \n",
              "Middle Atlantic    Middle Atlantic                                                   NaN                                                                             \n",
              "East North Central East North Central                                                NaN                                                                             \n",
              "Pacific            Pacific                                                           NaN                                                                             \n",
              "West South Central West South Central                                                NaN                                                                             \n",
              "West North Central West North Central                                                NaN                                                                             \n",
              "East South Central East South Central                                                NaN                                                                             \n",
              "New England        New England                                                       NaN                                                                             \n",
              "Mountain           Mountain                                                          NaN                                                                             \n",
              "\n",
              "                                       Which of these side dishes aretypically served at your Thanksgiving dinner? Please select all that apply. - Carrots  \\\n",
              "US Region          US Region                                                                                                                                 \n",
              "South Atlantic     South Atlantic                                                    NaN                                                                     \n",
              "Middle Atlantic    Middle Atlantic                                                   NaN                                                                     \n",
              "East North Central East North Central                                                NaN                                                                     \n",
              "Pacific            Pacific                                                           NaN                                                                     \n",
              "West South Central West South Central                                                NaN                                                                     \n",
              "West North Central West North Central                                                NaN                                                                     \n",
              "East South Central East South Central                                                NaN                                                                     \n",
              "New England        New England                                                       NaN                                                                     \n",
              "Mountain           Mountain                                                          NaN                                                                     \n",
              "\n",
              "                                       Which of these side dishes aretypically served at your Thanksgiving dinner? Please select all that apply. - Cauliflower  \\\n",
              "US Region          US Region                                                                                                                                     \n",
              "South Atlantic     South Atlantic                                                    NaN                                                                         \n",
              "Middle Atlantic    Middle Atlantic                                                   NaN                                                                         \n",
              "East North Central East North Central                                                NaN                                                                         \n",
              "Pacific            Pacific                                                           NaN                                                                         \n",
              "West South Central West South Central                                                NaN                                                                         \n",
              "West North Central West North Central                                                NaN                                                                         \n",
              "East South Central East South Central                                                NaN                                                                         \n",
              "New England        New England                                                       NaN                                                                         \n",
              "Mountain           Mountain                                                          NaN                                                                         \n",
              "\n",
              "                                       Which of these side dishes aretypically served at your Thanksgiving dinner? Please select all that apply. - Corn  \\\n",
              "US Region          US Region                                                                                                                              \n",
              "South Atlantic     South Atlantic                                                    NaN                                                                  \n",
              "Middle Atlantic    Middle Atlantic                                                   NaN                                                                  \n",
              "East North Central East North Central                                                NaN                                                                  \n",
              "Pacific            Pacific                                                           NaN                                                                  \n",
              "West South Central West South Central                                                NaN                                                                  \n",
              "West North Central West North Central                                                NaN                                                                  \n",
              "East South Central East South Central                                                NaN                                                                  \n",
              "New England        New England                                                       NaN                                                                  \n",
              "Mountain           Mountain                                                          NaN                                                                  \n",
              "\n",
              "                                       Which of these side dishes aretypically served at your Thanksgiving dinner? Please select all that apply. - Cornbread  \\\n",
              "US Region          US Region                                                                                                                                   \n",
              "South Atlantic     South Atlantic                                                    NaN                                                                       \n",
              "Middle Atlantic    Middle Atlantic                                                   NaN                                                                       \n",
              "East North Central East North Central                                                NaN                                                                       \n",
              "Pacific            Pacific                                                           NaN                                                                       \n",
              "West South Central West South Central                                                NaN                                                                       \n",
              "West North Central West North Central                                                NaN                                                                       \n",
              "East South Central East South Central                                                NaN                                                                       \n",
              "New England        New England                                                       NaN                                                                       \n",
              "Mountain           Mountain                                                          NaN                                                                       \n",
              "\n",
              "                                       Which of these side dishes aretypically served at your Thanksgiving dinner? Please select all that apply. - Fruit salad  \\\n",
              "US Region          US Region                                                                                                                                     \n",
              "South Atlantic     South Atlantic                                                    NaN                                                                         \n",
              "Middle Atlantic    Middle Atlantic                                                   NaN                                                                         \n",
              "East North Central East North Central                                                NaN                                                                         \n",
              "Pacific            Pacific                                                           NaN                                                                         \n",
              "West South Central West South Central                                                NaN                                                                         \n",
              "West North Central West North Central                                                NaN                                                                         \n",
              "East South Central East South Central                                                NaN                                                                         \n",
              "New England        New England                                                       NaN                                                                         \n",
              "Mountain           Mountain                                                          NaN                                                                         \n",
              "\n",
              "                                       Which of these side dishes aretypically served at your Thanksgiving dinner? Please select all that apply. - Green beans/green bean casserole  \\\n",
              "US Region          US Region                                                                                                                                                          \n",
              "South Atlantic     South Atlantic                                                    NaN                                                                                              \n",
              "Middle Atlantic    Middle Atlantic                                                   NaN                                                                                              \n",
              "East North Central East North Central                                                NaN                                                                                              \n",
              "Pacific            Pacific                                                           NaN                                                                                              \n",
              "West South Central West South Central                                                NaN                                                                                              \n",
              "West North Central West North Central                                                NaN                                                                                              \n",
              "East South Central East South Central                                                NaN                                                                                              \n",
              "New England        New England                                                       NaN                                                                                              \n",
              "Mountain           Mountain                                                          NaN                                                                                              \n",
              "\n",
              "                                       Which of these side dishes aretypically served at your Thanksgiving dinner? Please select all that apply. - Macaroni and cheese  \\\n",
              "US Region          US Region                                                                                                                                             \n",
              "South Atlantic     South Atlantic                                                    NaN                                                                                 \n",
              "Middle Atlantic    Middle Atlantic                                                   NaN                                                                                 \n",
              "East North Central East North Central                                                NaN                                                                                 \n",
              "Pacific            Pacific                                                           NaN                                                                                 \n",
              "West South Central West South Central                                                NaN                                                                                 \n",
              "West North Central West North Central                                                NaN                                                                                 \n",
              "East South Central East South Central                                                NaN                                                                                 \n",
              "New England        New England                                                       NaN                                                                                 \n",
              "Mountain           Mountain                                                          NaN                                                                                 \n",
              "\n",
              "                                       Which of these side dishes aretypically served at your Thanksgiving dinner? Please select all that apply. - Mashed potatoes  \\\n",
              "US Region          US Region                                                                                                                                         \n",
              "South Atlantic     South Atlantic                                                    NaN                                                                             \n",
              "Middle Atlantic    Middle Atlantic                                                   NaN                                                                             \n",
              "East North Central East North Central                                                NaN                                                                             \n",
              "Pacific            Pacific                                                           NaN                                                                             \n",
              "West South Central West South Central                                                NaN                                                                             \n",
              "West North Central West North Central                                                NaN                                                                             \n",
              "East South Central East South Central                                                NaN                                                                             \n",
              "New England        New England                                                       NaN                                                                             \n",
              "Mountain           Mountain                                                          NaN                                                                             \n",
              "\n",
              "                                       Which of these side dishes aretypically served at your Thanksgiving dinner? Please select all that apply. - Rolls/biscuits  \\\n",
              "US Region          US Region                                                                                                                                        \n",
              "South Atlantic     South Atlantic                                                    NaN                                                                            \n",
              "Middle Atlantic    Middle Atlantic                                                   NaN                                                                            \n",
              "East North Central East North Central                                                NaN                                                                            \n",
              "Pacific            Pacific                                                           NaN                                                                            \n",
              "West South Central West South Central                                                NaN                                                                            \n",
              "West North Central West North Central                                                NaN                                                                            \n",
              "East South Central East South Central                                                NaN                                                                            \n",
              "New England        New England                                                       NaN                                                                            \n",
              "Mountain           Mountain                                                          NaN                                                                            \n",
              "\n",
              "                                       Which of these side dishes aretypically served at your Thanksgiving dinner? Please select all that apply. - Squash  \\\n",
              "US Region          US Region                                                                                                                                \n",
              "South Atlantic     South Atlantic                                                    NaN                                                                    \n",
              "Middle Atlantic    Middle Atlantic                                                   NaN                                                                    \n",
              "East North Central East North Central                                                NaN                                                                    \n",
              "Pacific            Pacific                                                           NaN                                                                    \n",
              "West South Central West South Central                                                NaN                                                                    \n",
              "West North Central West North Central                                                NaN                                                                    \n",
              "East South Central East South Central                                                NaN                                                                    \n",
              "New England        New England                                                       NaN                                                                    \n",
              "Mountain           Mountain                                                          NaN                                                                    \n",
              "\n",
              "                                       Which of these side dishes aretypically served at your Thanksgiving dinner? Please select all that apply. - Vegetable salad  \\\n",
              "US Region          US Region                                                                                                                                         \n",
              "South Atlantic     South Atlantic                                                    NaN                                                                             \n",
              "Middle Atlantic    Middle Atlantic                                                   NaN                                                                             \n",
              "East North Central East North Central                                                NaN                                                                             \n",
              "Pacific            Pacific                                                           NaN                                                                             \n",
              "West South Central West South Central                                                NaN                                                                             \n",
              "West North Central West North Central                                                NaN                                                                             \n",
              "East South Central East South Central                                                NaN                                                                             \n",
              "New England        New England                                                       NaN                                                                             \n",
              "Mountain           Mountain                                                          NaN                                                                             \n",
              "\n",
              "                                       Which of these side dishes aretypically served at your Thanksgiving dinner? Please select all that apply. - Yams/sweet potato casserole  \\\n",
              "US Region          US Region                                                                                                                                                     \n",
              "South Atlantic     South Atlantic                                                    NaN                                                                                         \n",
              "Middle Atlantic    Middle Atlantic                                                   NaN                                                                                         \n",
              "East North Central East North Central                                                NaN                                                                                         \n",
              "Pacific            Pacific                                                           NaN                                                                                         \n",
              "West South Central West South Central                                                NaN                                                                                         \n",
              "West North Central West North Central                                                NaN                                                                                         \n",
              "East South Central East South Central                                                NaN                                                                                         \n",
              "New England        New England                                                       NaN                                                                                         \n",
              "Mountain           Mountain                                                          NaN                                                                                         \n",
              "\n",
              "                                       Which of these side dishes aretypically served at your Thanksgiving dinner? Please select all that apply. - Other (please specify)  \\\n",
              "US Region          US Region                                                                                                                                                \n",
              "South Atlantic     South Atlantic                                                    NaN                                                                                    \n",
              "Middle Atlantic    Middle Atlantic                                                   NaN                                                                                    \n",
              "East North Central East North Central                                                NaN                                                                                    \n",
              "Pacific            Pacific                                                           NaN                                                                                    \n",
              "West South Central West South Central                                                NaN                                                                                    \n",
              "West North Central West North Central                                                NaN                                                                                    \n",
              "East South Central East South Central                                                NaN                                                                                    \n",
              "New England        New England                                                       NaN                                                                                    \n",
              "Mountain           Mountain                                                          NaN                                                                                    \n",
              "\n",
              "                                       Which of these side dishes aretypically served at your Thanksgiving dinner? Please select all that apply. - Other (please specify).1  \n",
              "US Region          US Region                                                                                                                                                 \n",
              "South Atlantic     South Atlantic                                                    NaN                                                                                     \n",
              "Middle Atlantic    Middle Atlantic                                                   NaN                                                                                     \n",
              "East North Central East North Central                                                NaN                                                                                     \n",
              "Pacific            Pacific                                                           NaN                                                                                     \n",
              "West South Central West South Central                                                NaN                                                                                     \n",
              "West North Central West North Central                                                NaN                                                                                     \n",
              "East South Central East South Central                                                NaN                                                                                     \n",
              "New England        New England                                                       NaN                                                                                     \n",
              "Mountain           Mountain                                                          NaN                                                                                     "
            ]
          },
          "metadata": {
            "tags": []
          },
          "execution_count": 45
        }
      ]
    },
    {
      "metadata": {
        "id": "uRrSkMZW7DrN",
        "colab_type": "code",
        "outputId": "708bc9a1-3962-4bf0-846d-cf4f0f89c684",
        "colab": {
          "base_uri": "https://localhost:8080/",
          "height": 154
        }
      },
      "cell_type": "code",
      "source": [
        "m_group.head()"
      ],
      "execution_count": 28,
      "outputs": [
        {
          "output_type": "execute_result",
          "data": {
            "text/plain": [
              "US Region           Which of these side dishes aretypically served at your Thanksgiving dinner? Please select all that apply. - Brussel sprouts\n",
              "East North Central  Brussel sprouts                                                                                                                22\n",
              "East South Central  Brussel sprouts                                                                                                                 7\n",
              "Middle Atlantic     Brussel sprouts                                                                                                                41\n",
              "Mountain            Brussel sprouts                                                                                                                 6\n",
              "New England         Brussel sprouts                                                                                                                12\n",
              "Name: Which of these side dishes aretypically served at your Thanksgiving dinner? Please select all that apply. - Brussel sprouts, dtype: int64"
            ]
          },
          "metadata": {
            "tags": []
          },
          "execution_count": 28
        }
      ]
    },
    {
      "metadata": {
        "id": "MLY-rw3T--QD",
        "colab_type": "code",
        "colab": {}
      },
      "cell_type": "code",
      "source": [
        ""
      ],
      "execution_count": 0,
      "outputs": []
    }
  ]
}