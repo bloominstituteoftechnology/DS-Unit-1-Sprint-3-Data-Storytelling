{
  "nbformat": 4,
  "nbformat_minor": 0,
  "metadata": {
    "colab": {
      "name": "Copy of Copy of LS_DS_222_Choose_appropriate_visualizations.ipynb",
      "version": "0.3.2",
      "provenance": [],
      "collapsed_sections": [
        "Cn-xMBPcljbc"
      ],
      "toc_visible": true,
      "include_colab_link": true
    },
    "kernelspec": {
      "display_name": "Python 3",
      "language": "python",
      "name": "python3"
    }
  },
  "cells": [
    {
      "cell_type": "markdown",
      "metadata": {
        "id": "view-in-github",
        "colab_type": "text"
      },
      "source": [
        "<a href=\"https://colab.research.google.com/github/Jaavion/DS-Unit-1-Sprint-3-Data-Storytelling/blob/master/Copy_of_Copy_of_LS_DS_222_Choose_appropriate_visualizations.ipynb\" target=\"_parent\"><img src=\"https://colab.research.google.com/assets/colab-badge.svg\" alt=\"Open In Colab\"/></a>"
      ]
    },
    {
      "metadata": {
        "colab_type": "text",
        "id": "1nwMfulDljaS"
      },
      "cell_type": "markdown",
      "source": [
        "_Lambda School Data Science_\n",
        "# Choose appropriate visualizations\n",
        "\n",
        "Objectives\n",
        "- fix misleading visualizations\n",
        "- use Seaborn to visualize distributions and relationships with continuous and discrete variables\n",
        "\n",
        "Links\n",
        "- [How to Spot Visualization Lies](https://flowingdata.com/2017/02/09/how-to-spot-visualization-lies/)\n",
        "- [Visual Vocabulary - Vega Edition](http://ft.com/vocabulary)\n",
        "- [Choosing a Python Visualization Tool flowchart](http://pbpython.com/python-vis-flowchart.html)\n",
        "- [Searborn example gallery](http://seaborn.pydata.org/examples/index.html) & [tutorial](http://seaborn.pydata.org/tutorial.html)\n"
      ]
    },
    {
      "metadata": {
        "colab_type": "text",
        "id": "yp50E_pnljaV"
      },
      "cell_type": "markdown",
      "source": [
        "# Upgrade Seaborn\n",
        "\n",
        "Make sure you have at least version 0.9.0.\n",
        "\n",
        "On Colab, go to **Restart runtime** after you run the `pip` command."
      ]
    },
    {
      "metadata": {
        "colab_type": "code",
        "id": "MJAy4kPfljaV",
        "outputId": "e7d7efb9-af51-46e5-dae1-ddd7939fac26",
        "colab": {
          "base_uri": "https://localhost:8080/",
          "height": 241
        }
      },
      "cell_type": "code",
      "source": [
        "!pip install --upgrade seaborn"
      ],
      "execution_count": 43,
      "outputs": [
        {
          "output_type": "stream",
          "text": [
            "Requirement already up-to-date: seaborn in /usr/local/lib/python3.6/dist-packages (0.9.0)\n",
            "Requirement already satisfied, skipping upgrade: pandas>=0.15.2 in /usr/local/lib/python3.6/dist-packages (from seaborn) (0.22.0)\n",
            "Requirement already satisfied, skipping upgrade: numpy>=1.9.3 in /usr/local/lib/python3.6/dist-packages (from seaborn) (1.14.6)\n",
            "Requirement already satisfied, skipping upgrade: scipy>=0.14.0 in /usr/local/lib/python3.6/dist-packages (from seaborn) (1.1.0)\n",
            "Requirement already satisfied, skipping upgrade: matplotlib>=1.4.3 in /usr/local/lib/python3.6/dist-packages (from seaborn) (3.0.3)\n",
            "Requirement already satisfied, skipping upgrade: pytz>=2011k in /usr/local/lib/python3.6/dist-packages (from pandas>=0.15.2->seaborn) (2018.9)\n",
            "Requirement already satisfied, skipping upgrade: python-dateutil>=2 in /usr/local/lib/python3.6/dist-packages (from pandas>=0.15.2->seaborn) (2.5.3)\n",
            "Requirement already satisfied, skipping upgrade: kiwisolver>=1.0.1 in /usr/local/lib/python3.6/dist-packages (from matplotlib>=1.4.3->seaborn) (1.0.1)\n",
            "Requirement already satisfied, skipping upgrade: pyparsing!=2.0.4,!=2.1.2,!=2.1.6,>=2.0.1 in /usr/local/lib/python3.6/dist-packages (from matplotlib>=1.4.3->seaborn) (2.3.1)\n",
            "Requirement already satisfied, skipping upgrade: cycler>=0.10 in /usr/local/lib/python3.6/dist-packages (from matplotlib>=1.4.3->seaborn) (0.10.0)\n",
            "Requirement already satisfied, skipping upgrade: six>=1.5 in /usr/local/lib/python3.6/dist-packages (from python-dateutil>=2->pandas>=0.15.2->seaborn) (1.11.0)\n",
            "Requirement already satisfied, skipping upgrade: setuptools in /usr/local/lib/python3.6/dist-packages (from kiwisolver>=1.0.1->matplotlib>=1.4.3->seaborn) (40.9.0)\n"
          ],
          "name": "stdout"
        }
      ]
    },
    {
      "metadata": {
        "colab_type": "code",
        "id": "fXZFXHccljaZ",
        "outputId": "2d1b73ce-b1e5-4693-86e7-d53b0ba6cce2",
        "colab": {
          "base_uri": "https://localhost:8080/",
          "height": 34
        }
      },
      "cell_type": "code",
      "source": [
        "import seaborn as sns\n",
        "sns.__version__"
      ],
      "execution_count": 44,
      "outputs": [
        {
          "output_type": "execute_result",
          "data": {
            "text/plain": [
              "'0.7.1'"
            ]
          },
          "metadata": {
            "tags": []
          },
          "execution_count": 44
        }
      ]
    },
    {
      "metadata": {
        "colab_type": "text",
        "id": "Md1lMTx1ljab"
      },
      "cell_type": "markdown",
      "source": [
        "# Fix misleading visualizations"
      ]
    },
    {
      "metadata": {
        "colab_type": "code",
        "id": "5kTa_5Lnljac",
        "colab": {}
      },
      "cell_type": "code",
      "source": [
        "%matplotlib inline\n",
        "import matplotlib.pyplot as plt\n",
        "import numpy as np\n",
        "import pandas as pd"
      ],
      "execution_count": 0,
      "outputs": []
    },
    {
      "metadata": {
        "colab_type": "code",
        "id": "FkXJKBMOljae",
        "outputId": "f7183639-4e85-4ef8-d0ca-eca80685d0be",
        "colab": {
          "base_uri": "https://localhost:8080/",
          "height": 224
        }
      },
      "cell_type": "code",
      "source": [
        "!wget https://raw.githubusercontent.com/LambdaSchool/DS-Unit-1-Sprint-3-Data-Storytelling/master/module2-choose-appropriate-visualizations/misleading.py\n",
        "    \n",
        "import misleading"
      ],
      "execution_count": 46,
      "outputs": [
        {
          "output_type": "stream",
          "text": [
            "--2019-04-09 20:23:23--  https://raw.githubusercontent.com/LambdaSchool/DS-Unit-1-Sprint-3-Data-Storytelling/master/module2-choose-appropriate-visualizations/misleading.py\n",
            "Resolving raw.githubusercontent.com (raw.githubusercontent.com)... 151.101.0.133, 151.101.64.133, 151.101.128.133, ...\n",
            "Connecting to raw.githubusercontent.com (raw.githubusercontent.com)|151.101.0.133|:443... connected.\n",
            "HTTP request sent, awaiting response... 200 OK\n",
            "Length: 1258 (1.2K) [text/plain]\n",
            "Saving to: ‘misleading.py.1’\n",
            "\n",
            "\rmisleading.py.1       0%[                    ]       0  --.-KB/s               \rmisleading.py.1     100%[===================>]   1.23K  --.-KB/s    in 0s      \n",
            "\n",
            "2019-04-09 20:23:23 (156 MB/s) - ‘misleading.py.1’ saved [1258/1258]\n",
            "\n"
          ],
          "name": "stdout"
        }
      ]
    },
    {
      "metadata": {
        "colab_type": "text",
        "id": "CBe1A0IJljag"
      },
      "cell_type": "markdown",
      "source": [
        "### Fix misleading plot #1"
      ]
    },
    {
      "metadata": {
        "colab_type": "code",
        "id": "nSkHZKmRljah",
        "outputId": "0d77b7f9-218b-4491-ed35-7e8f96e92541",
        "colab": {
          "base_uri": "https://localhost:8080/",
          "height": 309
        }
      },
      "cell_type": "code",
      "source": [
        "misleading.plot1();"
      ],
      "execution_count": 0,
      "outputs": [
        {
          "output_type": "display_data",
          "data": {
            "image/png": "[encoded data removed]",
            "text/plain": [
              "<Figure size 432x288 with 1 Axes>"
            ]
          },
          "metadata": {
            "tags": []
          }
        }
      ]
    },
    {
      "metadata": {
        "id": "-lyQn8ATCKVk",
        "colab_type": "text"
      },
      "cell_type": "markdown",
      "source": [
        "The bar for State Farm ought to appear 1.4 times as tall as the bar for GEICO"
      ]
    },
    {
      "metadata": {
        "id": "96wlHZeYCLRm",
        "colab_type": "code",
        "outputId": "11f452bf-f858-43f4-ed3a-fd7f2c3e86a4",
        "colab": {
          "base_uri": "https://localhost:8080/",
          "height": 34
        }
      },
      "cell_type": "code",
      "source": [
        "18.07 / 12.79"
      ],
      "execution_count": 0,
      "outputs": [
        {
          "output_type": "execute_result",
          "data": {
            "text/plain": [
              "1.4128225175918687"
            ]
          },
          "metadata": {
            "tags": []
          },
          "execution_count": 6
        }
      ]
    },
    {
      "metadata": {
        "id": "47GWUvR5COLV",
        "colab_type": "text"
      },
      "cell_type": "markdown",
      "source": [
        "But it appears almost 3 times as tall, in the misleading plot above"
      ]
    },
    {
      "metadata": {
        "id": "vzvab9PyCRzX",
        "colab_type": "code",
        "outputId": "b471371a-3e51-4154-f005-4b8a57e95cd9",
        "colab": {
          "base_uri": "https://localhost:8080/",
          "height": 34
        }
      },
      "cell_type": "code",
      "source": [
        "(18.07 - 10) / (12.79 - 10)"
      ],
      "execution_count": 0,
      "outputs": [
        {
          "output_type": "execute_result",
          "data": {
            "text/plain": [
              "2.892473118279571"
            ]
          },
          "metadata": {
            "tags": []
          },
          "execution_count": 7
        }
      ]
    },
    {
      "metadata": {
        "id": "2K-w3wuvCUlY",
        "colab_type": "code",
        "outputId": "3b661803-6a49-4f55-9aef-1b8a2a32dd28",
        "colab": {
          "base_uri": "https://localhost:8080/",
          "height": 322
        }
      },
      "cell_type": "code",
      "source": [
        "# fix it part 1 - fix the y axis\n",
        "insurance = pd.DataFrame(\n",
        "    index=['State Farm', 'GEICO'], \n",
        "    data={'Market Share %': [18.07, 12.79]})\n",
        "\n",
        "insurance.plot.bar()"
      ],
      "execution_count": 0,
      "outputs": [
        {
          "output_type": "execute_result",
          "data": {
            "text/plain": [
              "<matplotlib.axes._subplots.AxesSubplot at 0x7f27b4c25a20>"
            ]
          },
          "metadata": {
            "tags": []
          },
          "execution_count": 8
        },
        {
          "output_type": "display_data",
          "data": {
            "image/png": "[encoded data removed]",
            "text/plain": [
              "<Figure size 432x288 with 1 Axes>"
            ]
          },
          "metadata": {
            "tags": []
          }
        }
      ]
    },
    {
      "metadata": {
        "id": "A2JxnJIuCbN2",
        "colab_type": "code",
        "outputId": "af8a1830-e262-4342-8e22-3b598db1b496",
        "colab": {
          "base_uri": "https://localhost:8080/",
          "height": 142
        }
      },
      "cell_type": "code",
      "source": [
        "# fix it part 2- wheres everyone else?\n",
        "other = 100 - 18.07 - 12.79\n",
        "other = pd.DataFrame(\n",
        "    index=['Other'], \n",
        "    data={'Market Share %': [100 - 18.07 - 12.79]})\n",
        "\n",
        "insurance = insurance.append(other)\n",
        "\n",
        "insurance"
      ],
      "execution_count": 0,
      "outputs": [
        {
          "output_type": "execute_result",
          "data": {
            "text/html": [
              "<div>\n",
              "<style scoped>\n",
              "    .dataframe tbody tr th:only-of-type {\n",
              "        vertical-align: middle;\n",
              "    }\n",
              "\n",
              "    .dataframe tbody tr th {\n",
              "        vertical-align: top;\n",
              "    }\n",
              "\n",
              "    .dataframe thead th {\n",
              "        text-align: right;\n",
              "    }\n",
              "</style>\n",
              "<table border=\"1\" class=\"dataframe\">\n",
              "  <thead>\n",
              "    <tr style=\"text-align: right;\">\n",
              "      <th></th>\n",
              "      <th>Market Share %</th>\n",
              "    </tr>\n",
              "  </thead>\n",
              "  <tbody>\n",
              "    <tr>\n",
              "      <th>State Farm</th>\n",
              "      <td>18.07</td>\n",
              "    </tr>\n",
              "    <tr>\n",
              "      <th>GEICO</th>\n",
              "      <td>12.79</td>\n",
              "    </tr>\n",
              "    <tr>\n",
              "      <th>Other</th>\n",
              "      <td>69.14</td>\n",
              "    </tr>\n",
              "  </tbody>\n",
              "</table>\n",
              "</div>"
            ],
            "text/plain": [
              "            Market Share %\n",
              "State Farm           18.07\n",
              "GEICO                12.79\n",
              "Other                69.14"
            ]
          },
          "metadata": {
            "tags": []
          },
          "execution_count": 9
        }
      ]
    },
    {
      "metadata": {
        "id": "xIAITyv8CssV",
        "colab_type": "code",
        "outputId": "8f20df5c-504d-4eb6-ac1b-b83f1b2c7a85",
        "colab": {
          "base_uri": "https://localhost:8080/",
          "height": 322
        }
      },
      "cell_type": "code",
      "source": [
        "insurance.plot.bar()"
      ],
      "execution_count": 0,
      "outputs": [
        {
          "output_type": "execute_result",
          "data": {
            "text/plain": [
              "<matplotlib.axes._subplots.AxesSubplot at 0x7f27b2b8b390>"
            ]
          },
          "metadata": {
            "tags": []
          },
          "execution_count": 10
        },
        {
          "output_type": "display_data",
          "data": {
            "image/png": "[encoded data removed]",
            "text/plain": [
              "<Figure size 432x288 with 1 Axes>"
            ]
          },
          "metadata": {
            "tags": []
          }
        }
      ]
    },
    {
      "metadata": {
        "colab_type": "text",
        "id": "6RB2pFjQljal"
      },
      "cell_type": "markdown",
      "source": [
        "### Fix misleading plot #2"
      ]
    },
    {
      "metadata": {
        "colab_type": "code",
        "id": "PAjwPf8vljam",
        "outputId": "ce245986-8854-4833-a059-75b0c13d949a",
        "colab": {
          "base_uri": "https://localhost:8080/",
          "height": 303
        }
      },
      "cell_type": "code",
      "source": [
        "misleading.plot2();"
      ],
      "execution_count": 0,
      "outputs": [
        {
          "output_type": "display_data",
          "data": {
            "image/png": "[encoded data removed]",
            "text/plain": [
              "<Figure size 360x360 with 1 Axes>"
            ]
          },
          "metadata": {
            "tags": []
          }
        }
      ]
    },
    {
      "metadata": {
        "id": "JxDlAKBECvA8",
        "colab_type": "code",
        "outputId": "75beff08-b6b2-4eb2-9f8e-f827c1f1a152",
        "colab": {
          "base_uri": "https://localhost:8080/",
          "height": 265
        }
      },
      "cell_type": "code",
      "source": [
        "# same as before ! We already have our data so lets see what we get\n",
        "insurance.plot.pie(y='Market Share %', autopct = '%.2f')"
      ],
      "execution_count": 0,
      "outputs": [
        {
          "output_type": "execute_result",
          "data": {
            "text/plain": [
              "<matplotlib.axes._subplots.AxesSubplot at 0x7f27b4c25128>"
            ]
          },
          "metadata": {
            "tags": []
          },
          "execution_count": 12
        },
        {
          "output_type": "display_data",
          "data": {
            "image/png": "[encoded data removed]",
            "text/plain": [
              "<Figure size 432x288 with 1 Axes>"
            ]
          },
          "metadata": {
            "tags": []
          }
        }
      ]
    },
    {
      "metadata": {
        "id": "1IwmmF9ACu2p",
        "colab_type": "code",
        "colab": {}
      },
      "cell_type": "code",
      "source": [
        ""
      ],
      "execution_count": 0,
      "outputs": []
    },
    {
      "metadata": {
        "colab_type": "text",
        "id": "6FISiBH3ljaw"
      },
      "cell_type": "markdown",
      "source": [
        "## Fix misleading plot #3"
      ]
    },
    {
      "metadata": {
        "colab_type": "text",
        "id": "Dwcc8Jylljax"
      },
      "cell_type": "markdown",
      "source": [
        "_If you're on Jupyter (not Colab) then uncomment and run this cell below:_"
      ]
    },
    {
      "metadata": {
        "colab_type": "code",
        "id": "TaSuwairljax",
        "colab": {}
      },
      "cell_type": "code",
      "source": [
        "# import altair as alt\n",
        "# alt.renderers.enable('notebook')"
      ],
      "execution_count": 0,
      "outputs": []
    },
    {
      "metadata": {
        "colab_type": "code",
        "id": "JMirz9RMljaz",
        "outputId": "08461628-1df5-4dd7-ed23-af6f91b3441f",
        "colab": {
          "base_uri": "https://localhost:8080/",
          "height": 331
        }
      },
      "cell_type": "code",
      "source": [
        "misleading.plot3()"
      ],
      "execution_count": 0,
      "outputs": [
        {
          "output_type": "execute_result",
          "data": {
            "text/plain": [
              "Chart({\n",
              "  data: UrlData({\n",
              "    format: TopoDataFormat({\n",
              "      feature: 'states',\n",
              "      type: 'topojson'\n",
              "    }),\n",
              "    url: 'https://vega.github.io/vega-datasets/data/us-10m.json'\n",
              "  }),\n",
              "  encoding: EncodingWithFacet({\n",
              "    color: Color({\n",
              "      shorthand: 'State Farm policy premiums',\n",
              "      type: 'quantitative'\n",
              "    })\n",
              "  }),\n",
              "  height: 300,\n",
              "  mark: 'geoshape',\n",
              "  projection: Projection({\n",
              "    type: 'albersUsa'\n",
              "  }),\n",
              "  transform: [LookupTransform({\n",
              "    from: LookupData({\n",
              "      data:                    state  id  State Farm policy premiums  \\\n",
              "      0                Alabama   1                      768213   \n",
              "      1                 Alaska   2                      128613   \n",
              "      2                Arizona   4                      760003   \n",
              "      3               Arkansas   5                      454931   \n",
              "      4             California   6                     3655463   \n",
              "      5               Colorado   8                      827143   \n",
              "      6            Connecticut   9                      169773   \n",
              "      7               Delaware  10                      191319   \n",
              "      8   District of Columbia  11                       67231   \n",
              "      9                Florida  12                     2806322   \n",
              "      10               Georgia  13                     1761224   \n",
              "      11                Hawaii  15                      133498   \n",
              "      12                 Idaho  16                      130613   \n",
              "      13              Illinois  17                     2256543   \n",
              "      14               Indiana  18                      861382   \n",
              "      15                  Iowa  19                      368898   \n",
              "      16                Kansas  20                      351343   \n",
              "      17              Kentucky  21                      680433   \n",
              "      18             Louisiana  22                     1415980   \n",
              "      19                 Maine  23                      101111   \n",
              "      20              Maryland  24                      883401   \n",
              "      21         Massachusetts  25                           0   \n",
              "      22              Michigan  26                     1580398   \n",
              "      23             Minnesota  27                      851940   \n",
              "      24           Mississippi  28                      467887   \n",
              "      25              Missouri  29                      883774   \n",
              "      26               Montana  30                      156816   \n",
              "      27              Nebraska  31                      273727   \n",
              "      28                Nevada  32                      404688   \n",
              "      29         New Hampshire  33                      103340   \n",
              "      30            New Jersey  34                      619623   \n",
              "      31            New Mexico  35                      261922   \n",
              "      32              New York  36                     1666653   \n",
              "      33        North Carolina  37                      842368   \n",
              "      34          North Dakota  38                       67282   \n",
              "      35                  Ohio  39                     1240075   \n",
              "      36              Oklahoma  40                      636063   \n",
              "      37                Oregon  41                      564416   \n",
              "      38          Pennsylvania  42                     1654528   \n",
              "      39          Rhode Island  44                           0   \n",
              "      40        South Carolina  45                      874436   \n",
              "      41          South Dakota  46                      101912   \n",
              "      42             Tennessee  47                      889329   \n",
              "      43                 Texas  48                     3395165   \n",
              "      44                  Utah  49                      300403   \n",
              "      45               Vermont  50                       30003   \n",
              "      46              Virginia  51                      878312   \n",
              "      47            Washington  53                      794882   \n",
              "      48         West Virginia  54                      323608   \n",
              "      49             Wisconsin  55                      443680   \n",
              "      50               Wyoming  56                       90412   \n",
              "      51           Puerto Rico  72                           0   \n",
              "      \n",
              "          BERKSHIRE HATHAWAY GRP  STATE TOTAL  \n",
              "      0                   282947      3025561  \n",
              "      1                    81366       454623  \n",
              "      2                   604049      4373055  \n",
              "      3                    96908      1777917  \n",
              "      4                  2091720     25255501  \n",
              "      5                   365797      4057463  \n",
              "      6                   486498      2795415  \n",
              "      7                   129033       802005  \n",
              "      8                   115149       325239  \n",
              "      9                  3952147     17333354  \n",
              "      10                  821326      7571988  \n",
              "      11                  184743       722550  \n",
              "      12                   87222       863636  \n",
              "      13                  412978      7028885  \n",
              "      14                  201200      3506499  \n",
              "      15                   58105      1650388  \n",
              "      16                   76533      1725608  \n",
              "      17                  186915      2805864  \n",
              "      18                  369492      4136224  \n",
              "      19                   68109       699558  \n",
              "      20                 1059508      4554586  \n",
              "      21                  473913      4924736  \n",
              "      22                       0      8462142  \n",
              "      23                  108942      3412460  \n",
              "      24                  100827      1760180  \n",
              "      25                  214191      3606590  \n",
              "      26                   33538       668513  \n",
              "      27                   61046      1167135  \n",
              "      28                  262815      2129828  \n",
              "      29                  103403       806545  \n",
              "      30                 1441019      7375823  \n",
              "      31                  174865      1284430  \n",
              "      32                 3926684     12633982  \n",
              "      33                  560700      5543700  \n",
              "      34                   15516       454376  \n",
              "      35                  405652      6303148  \n",
              "      36                  151388      2515842  \n",
              "      37                  223187      2647434  \n",
              "      38                  602848      8270326  \n",
              "      39                   97597       867558  \n",
              "      40                  426033      3583918  \n",
              "      41                   15682       508569  \n",
              "      42                  292357      3769652  \n",
              "      43                 2127633     19180816  \n",
              "      44                  139315      1723931  \n",
              "      45                   52939       359996  \n",
              "      46                  884489      5105360  \n",
              "      47                  478922      4780616  \n",
              "      48                  110806      1209872  \n",
              "      49                  131845      2950711  \n",
              "      50                   30187       374169  \n",
              "      51                       0       444480  ,\n",
              "      fields: ['State Farm policy premiums'],\n",
              "      key: 'id'\n",
              "    }),\n",
              "    lookup: 'id'\n",
              "  })],\n",
              "  width: 500\n",
              "})"
            ],
            "text/html": [
              "<!DOCTYPE html>\n",
              "<html>\n",
              "<head>\n",
              "  <style>\n",
              "    .vega-actions a {\n",
              "        margin-right: 12px;\n",
              "        color: #757575;\n",
              "        font-weight: normal;\n",
              "        font-size: 13px;\n",
              "    }\n",
              "    .error {\n",
              "        color: red;\n",
              "    }\n",
              "  </style>\n",
              "  <script type=\"text/javascript\" src=\"https://cdn.jsdelivr.net/npm//vega@4\"></script>\n",
              "  <script type=\"text/javascript\" src=\"https://cdn.jsdelivr.net/npm//vega-lite@2.6.0\"></script>\n",
              "  <script type=\"text/javascript\" src=\"https://cdn.jsdelivr.net/npm//vega-embed@3\"></script>\n",
              "</head>\n",
              "<body>\n",
              "  <div id=\"altair-viz\"></div>\n",
              "  <script>\n",
              "      var spec = {\"config\": {\"view\": {\"width\": 400, \"height\": 300}}, \"data\": {\"url\": \"https://vega.github.io/vega-datasets/data/us-10m.json\", \"format\": {\"feature\": \"states\", \"type\": \"topojson\"}}, \"mark\": \"geoshape\", \"encoding\": {\"color\": {\"type\": \"quantitative\", \"field\": \"State Farm policy premiums\"}}, \"height\": 300, \"projection\": {\"type\": \"albersUsa\"}, \"transform\": [{\"lookup\": \"id\", \"from\": {\"data\": {\"name\": \"data-b615a17f98b0ca7d11f99dcf36616c5d\"}, \"key\": \"id\", \"fields\": [\"State Farm policy premiums\"]}}], \"width\": 500, \"$schema\": \"https://vega.github.io/schema/vega-lite/v2.6.0.json\", \"datasets\": {\"data-b615a17f98b0ca7d11f99dcf36616c5d\": [{\"state\": \"Alabama\", \"id\": 1, \"State Farm policy premiums\": 768213, \"BERKSHIRE HATHAWAY GRP\": 282947, \"STATE TOTAL\": 3025561}, {\"state\": \"Alaska\", \"id\": 2, \"State Farm policy premiums\": 128613, \"BERKSHIRE HATHAWAY GRP\": 81366, \"STATE TOTAL\": 454623}, {\"state\": \"Arizona\", \"id\": 4, \"State Farm policy premiums\": 760003, \"BERKSHIRE HATHAWAY GRP\": 604049, \"STATE TOTAL\": 4373055}, {\"state\": \"Arkansas\", \"id\": 5, \"State Farm policy premiums\": 454931, \"BERKSHIRE HATHAWAY GRP\": 96908, \"STATE TOTAL\": 1777917}, {\"state\": \"California\", \"id\": 6, \"State Farm policy premiums\": 3655463, \"BERKSHIRE HATHAWAY GRP\": 2091720, \"STATE TOTAL\": 25255501}, {\"state\": \"Colorado\", \"id\": 8, \"State Farm policy premiums\": 827143, \"BERKSHIRE HATHAWAY GRP\": 365797, \"STATE TOTAL\": 4057463}, {\"state\": \"Connecticut\", \"id\": 9, \"State Farm policy premiums\": 169773, \"BERKSHIRE HATHAWAY GRP\": 486498, \"STATE TOTAL\": 2795415}, {\"state\": \"Delaware\", \"id\": 10, \"State Farm policy premiums\": 191319, \"BERKSHIRE HATHAWAY GRP\": 129033, \"STATE TOTAL\": 802005}, {\"state\": \"District of Columbia\", \"id\": 11, \"State Farm policy premiums\": 67231, \"BERKSHIRE HATHAWAY GRP\": 115149, \"STATE TOTAL\": 325239}, {\"state\": \"Florida\", \"id\": 12, \"State Farm policy premiums\": 2806322, \"BERKSHIRE HATHAWAY GRP\": 3952147, \"STATE TOTAL\": 17333354}, {\"state\": \"Georgia\", \"id\": 13, \"State Farm policy premiums\": 1761224, \"BERKSHIRE HATHAWAY GRP\": 821326, \"STATE TOTAL\": 7571988}, {\"state\": \"Hawaii\", \"id\": 15, \"State Farm policy premiums\": 133498, \"BERKSHIRE HATHAWAY GRP\": 184743, \"STATE TOTAL\": 722550}, {\"state\": \"Idaho\", \"id\": 16, \"State Farm policy premiums\": 130613, \"BERKSHIRE HATHAWAY GRP\": 87222, \"STATE TOTAL\": 863636}, {\"state\": \"Illinois\", \"id\": 17, \"State Farm policy premiums\": 2256543, \"BERKSHIRE HATHAWAY GRP\": 412978, \"STATE TOTAL\": 7028885}, {\"state\": \"Indiana\", \"id\": 18, \"State Farm policy premiums\": 861382, \"BERKSHIRE HATHAWAY GRP\": 201200, \"STATE TOTAL\": 3506499}, {\"state\": \"Iowa\", \"id\": 19, \"State Farm policy premiums\": 368898, \"BERKSHIRE HATHAWAY GRP\": 58105, \"STATE TOTAL\": 1650388}, {\"state\": \"Kansas\", \"id\": 20, \"State Farm policy premiums\": 351343, \"BERKSHIRE HATHAWAY GRP\": 76533, \"STATE TOTAL\": 1725608}, {\"state\": \"Kentucky\", \"id\": 21, \"State Farm policy premiums\": 680433, \"BERKSHIRE HATHAWAY GRP\": 186915, \"STATE TOTAL\": 2805864}, {\"state\": \"Louisiana\", \"id\": 22, \"State Farm policy premiums\": 1415980, \"BERKSHIRE HATHAWAY GRP\": 369492, \"STATE TOTAL\": 4136224}, {\"state\": \"Maine\", \"id\": 23, \"State Farm policy premiums\": 101111, \"BERKSHIRE HATHAWAY GRP\": 68109, \"STATE TOTAL\": 699558}, {\"state\": \"Maryland\", \"id\": 24, \"State Farm policy premiums\": 883401, \"BERKSHIRE HATHAWAY GRP\": 1059508, \"STATE TOTAL\": 4554586}, {\"state\": \"Massachusetts\", \"id\": 25, \"State Farm policy premiums\": 0, \"BERKSHIRE HATHAWAY GRP\": 473913, \"STATE TOTAL\": 4924736}, {\"state\": \"Michigan\", \"id\": 26, \"State Farm policy premiums\": 1580398, \"BERKSHIRE HATHAWAY GRP\": 0, \"STATE TOTAL\": 8462142}, {\"state\": \"Minnesota\", \"id\": 27, \"State Farm policy premiums\": 851940, \"BERKSHIRE HATHAWAY GRP\": 108942, \"STATE TOTAL\": 3412460}, {\"state\": \"Mississippi\", \"id\": 28, \"State Farm policy premiums\": 467887, \"BERKSHIRE HATHAWAY GRP\": 100827, \"STATE TOTAL\": 1760180}, {\"state\": \"Missouri\", \"id\": 29, \"State Farm policy premiums\": 883774, \"BERKSHIRE HATHAWAY GRP\": 214191, \"STATE TOTAL\": 3606590}, {\"state\": \"Montana\", \"id\": 30, \"State Farm policy premiums\": 156816, \"BERKSHIRE HATHAWAY GRP\": 33538, \"STATE TOTAL\": 668513}, {\"state\": \"Nebraska\", \"id\": 31, \"State Farm policy premiums\": 273727, \"BERKSHIRE HATHAWAY GRP\": 61046, \"STATE TOTAL\": 1167135}, {\"state\": \"Nevada\", \"id\": 32, \"State Farm policy premiums\": 404688, \"BERKSHIRE HATHAWAY GRP\": 262815, \"STATE TOTAL\": 2129828}, {\"state\": \"New Hampshire\", \"id\": 33, \"State Farm policy premiums\": 103340, \"BERKSHIRE HATHAWAY GRP\": 103403, \"STATE TOTAL\": 806545}, {\"state\": \"New Jersey\", \"id\": 34, \"State Farm policy premiums\": 619623, \"BERKSHIRE HATHAWAY GRP\": 1441019, \"STATE TOTAL\": 7375823}, {\"state\": \"New Mexico\", \"id\": 35, \"State Farm policy premiums\": 261922, \"BERKSHIRE HATHAWAY GRP\": 174865, \"STATE TOTAL\": 1284430}, {\"state\": \"New York\", \"id\": 36, \"State Farm policy premiums\": 1666653, \"BERKSHIRE HATHAWAY GRP\": 3926684, \"STATE TOTAL\": 12633982}, {\"state\": \"North Carolina\", \"id\": 37, \"State Farm policy premiums\": 842368, \"BERKSHIRE HATHAWAY GRP\": 560700, \"STATE TOTAL\": 5543700}, {\"state\": \"North Dakota\", \"id\": 38, \"State Farm policy premiums\": 67282, \"BERKSHIRE HATHAWAY GRP\": 15516, \"STATE TOTAL\": 454376}, {\"state\": \"Ohio\", \"id\": 39, \"State Farm policy premiums\": 1240075, \"BERKSHIRE HATHAWAY GRP\": 405652, \"STATE TOTAL\": 6303148}, {\"state\": \"Oklahoma\", \"id\": 40, \"State Farm policy premiums\": 636063, \"BERKSHIRE HATHAWAY GRP\": 151388, \"STATE TOTAL\": 2515842}, {\"state\": \"Oregon\", \"id\": 41, \"State Farm policy premiums\": 564416, \"BERKSHIRE HATHAWAY GRP\": 223187, \"STATE TOTAL\": 2647434}, {\"state\": \"Pennsylvania\", \"id\": 42, \"State Farm policy premiums\": 1654528, \"BERKSHIRE HATHAWAY GRP\": 602848, \"STATE TOTAL\": 8270326}, {\"state\": \"Rhode Island\", \"id\": 44, \"State Farm policy premiums\": 0, \"BERKSHIRE HATHAWAY GRP\": 97597, \"STATE TOTAL\": 867558}, {\"state\": \"South Carolina\", \"id\": 45, \"State Farm policy premiums\": 874436, \"BERKSHIRE HATHAWAY GRP\": 426033, \"STATE TOTAL\": 3583918}, {\"state\": \"South Dakota\", \"id\": 46, \"State Farm policy premiums\": 101912, \"BERKSHIRE HATHAWAY GRP\": 15682, \"STATE TOTAL\": 508569}, {\"state\": \"Tennessee\", \"id\": 47, \"State Farm policy premiums\": 889329, \"BERKSHIRE HATHAWAY GRP\": 292357, \"STATE TOTAL\": 3769652}, {\"state\": \"Texas\", \"id\": 48, \"State Farm policy premiums\": 3395165, \"BERKSHIRE HATHAWAY GRP\": 2127633, \"STATE TOTAL\": 19180816}, {\"state\": \"Utah\", \"id\": 49, \"State Farm policy premiums\": 300403, \"BERKSHIRE HATHAWAY GRP\": 139315, \"STATE TOTAL\": 1723931}, {\"state\": \"Vermont\", \"id\": 50, \"State Farm policy premiums\": 30003, \"BERKSHIRE HATHAWAY GRP\": 52939, \"STATE TOTAL\": 359996}, {\"state\": \"Virginia\", \"id\": 51, \"State Farm policy premiums\": 878312, \"BERKSHIRE HATHAWAY GRP\": 884489, \"STATE TOTAL\": 5105360}, {\"state\": \"Washington\", \"id\": 53, \"State Farm policy premiums\": 794882, \"BERKSHIRE HATHAWAY GRP\": 478922, \"STATE TOTAL\": 4780616}, {\"state\": \"West Virginia\", \"id\": 54, \"State Farm policy premiums\": 323608, \"BERKSHIRE HATHAWAY GRP\": 110806, \"STATE TOTAL\": 1209872}, {\"state\": \"Wisconsin\", \"id\": 55, \"State Farm policy premiums\": 443680, \"BERKSHIRE HATHAWAY GRP\": 131845, \"STATE TOTAL\": 2950711}, {\"state\": \"Wyoming\", \"id\": 56, \"State Farm policy premiums\": 90412, \"BERKSHIRE HATHAWAY GRP\": 30187, \"STATE TOTAL\": 374169}, {\"state\": \"Puerto Rico\", \"id\": 72, \"State Farm policy premiums\": 0, \"BERKSHIRE HATHAWAY GRP\": 0, \"STATE TOTAL\": 444480}]}};\n",
              "      var embedOpt = {\"mode\": \"vega-lite\"};\n",
              "\n",
              "      function showError(el, error){\n",
              "          el.innerHTML = ('<div class=\"error\" style=\"color:red;\">'\n",
              "                          + '<p>JavaScript Error: ' + error.message + '</p>'\n",
              "                          + \"<p>This usually means there's a typo in your chart specification. \"\n",
              "                          + \"See the javascript console for the full traceback.</p>\"\n",
              "                          + '</div>');\n",
              "          throw error;\n",
              "      }\n",
              "      const el = document.getElementById('altair-viz');\n",
              "      vegaEmbed(\"#altair-viz\", spec, embedOpt)\n",
              "        .catch(error => showError(el, error));\n",
              "\n",
              "  </script>\n",
              "</body>\n",
              "</html>"
            ]
          },
          "metadata": {
            "tags": []
          },
          "execution_count": 14
        }
      ]
    },
    {
      "metadata": {
        "id": "HH662K3nBeK8",
        "colab_type": "code",
        "outputId": "a5701d27-3c0a-434c-f390-1167e8298deb",
        "colab": {
          "base_uri": "https://localhost:8080/",
          "height": 204
        }
      },
      "cell_type": "code",
      "source": [
        "# lets make our dataframe of information\n",
        "\n",
        "url = 'https://raw.githubusercontent.com/LambdaSchool/DS-Sprint-02-Storytelling-With-Data/master/module2-choose-appropriate-visualizations/direct_written_premium_by_state_by_group_private_passenger_auto.csv'\n",
        "df = pd.read_csv(url)\n",
        "df.rename(columns={'STATE FARM GRP': 'State Farm policy premiums'}, inplace=True)\n",
        "df.head()"
      ],
      "execution_count": 0,
      "outputs": [
        {
          "output_type": "execute_result",
          "data": {
            "text/html": [
              "<div>\n",
              "<style scoped>\n",
              "    .dataframe tbody tr th:only-of-type {\n",
              "        vertical-align: middle;\n",
              "    }\n",
              "\n",
              "    .dataframe tbody tr th {\n",
              "        vertical-align: top;\n",
              "    }\n",
              "\n",
              "    .dataframe thead th {\n",
              "        text-align: right;\n",
              "    }\n",
              "</style>\n",
              "<table border=\"1\" class=\"dataframe\">\n",
              "  <thead>\n",
              "    <tr style=\"text-align: right;\">\n",
              "      <th></th>\n",
              "      <th>state</th>\n",
              "      <th>id</th>\n",
              "      <th>State Farm policy premiums</th>\n",
              "      <th>BERKSHIRE HATHAWAY GRP</th>\n",
              "      <th>STATE TOTAL</th>\n",
              "    </tr>\n",
              "  </thead>\n",
              "  <tbody>\n",
              "    <tr>\n",
              "      <th>0</th>\n",
              "      <td>Alabama</td>\n",
              "      <td>1</td>\n",
              "      <td>768213</td>\n",
              "      <td>282947</td>\n",
              "      <td>3025561</td>\n",
              "    </tr>\n",
              "    <tr>\n",
              "      <th>1</th>\n",
              "      <td>Alaska</td>\n",
              "      <td>2</td>\n",
              "      <td>128613</td>\n",
              "      <td>81366</td>\n",
              "      <td>454623</td>\n",
              "    </tr>\n",
              "    <tr>\n",
              "      <th>2</th>\n",
              "      <td>Arizona</td>\n",
              "      <td>4</td>\n",
              "      <td>760003</td>\n",
              "      <td>604049</td>\n",
              "      <td>4373055</td>\n",
              "    </tr>\n",
              "    <tr>\n",
              "      <th>3</th>\n",
              "      <td>Arkansas</td>\n",
              "      <td>5</td>\n",
              "      <td>454931</td>\n",
              "      <td>96908</td>\n",
              "      <td>1777917</td>\n",
              "    </tr>\n",
              "    <tr>\n",
              "      <th>4</th>\n",
              "      <td>California</td>\n",
              "      <td>6</td>\n",
              "      <td>3655463</td>\n",
              "      <td>2091720</td>\n",
              "      <td>25255501</td>\n",
              "    </tr>\n",
              "  </tbody>\n",
              "</table>\n",
              "</div>"
            ],
            "text/plain": [
              "        state  id  State Farm policy premiums  BERKSHIRE HATHAWAY GRP  \\\n",
              "0     Alabama   1                      768213                  282947   \n",
              "1      Alaska   2                      128613                   81366   \n",
              "2     Arizona   4                      760003                  604049   \n",
              "3    Arkansas   5                      454931                   96908   \n",
              "4  California   6                     3655463                 2091720   \n",
              "\n",
              "   STATE TOTAL  \n",
              "0      3025561  \n",
              "1       454623  \n",
              "2      4373055  \n",
              "3      1777917  \n",
              "4     25255501  "
            ]
          },
          "metadata": {
            "tags": []
          },
          "execution_count": 15
        }
      ]
    },
    {
      "metadata": {
        "id": "5aYmV1tsDf69",
        "colab_type": "code",
        "outputId": "a658630a-1573-4fba-f0a1-50b826ce0ffc",
        "colab": {
          "base_uri": "https://localhost:8080/",
          "height": 204
        }
      },
      "cell_type": "code",
      "source": [
        "# lets make a column of normalized data!\n",
        "df['State Farm market share %'] = df['State Farm policy premiums'] / df['STATE TOTAL']\n",
        "df.head()"
      ],
      "execution_count": 0,
      "outputs": [
        {
          "output_type": "execute_result",
          "data": {
            "text/html": [
              "<div>\n",
              "<style scoped>\n",
              "    .dataframe tbody tr th:only-of-type {\n",
              "        vertical-align: middle;\n",
              "    }\n",
              "\n",
              "    .dataframe tbody tr th {\n",
              "        vertical-align: top;\n",
              "    }\n",
              "\n",
              "    .dataframe thead th {\n",
              "        text-align: right;\n",
              "    }\n",
              "</style>\n",
              "<table border=\"1\" class=\"dataframe\">\n",
              "  <thead>\n",
              "    <tr style=\"text-align: right;\">\n",
              "      <th></th>\n",
              "      <th>state</th>\n",
              "      <th>id</th>\n",
              "      <th>State Farm policy premiums</th>\n",
              "      <th>BERKSHIRE HATHAWAY GRP</th>\n",
              "      <th>STATE TOTAL</th>\n",
              "      <th>State Farm market share %</th>\n",
              "    </tr>\n",
              "  </thead>\n",
              "  <tbody>\n",
              "    <tr>\n",
              "      <th>0</th>\n",
              "      <td>Alabama</td>\n",
              "      <td>1</td>\n",
              "      <td>768213</td>\n",
              "      <td>282947</td>\n",
              "      <td>3025561</td>\n",
              "      <td>0.253908</td>\n",
              "    </tr>\n",
              "    <tr>\n",
              "      <th>1</th>\n",
              "      <td>Alaska</td>\n",
              "      <td>2</td>\n",
              "      <td>128613</td>\n",
              "      <td>81366</td>\n",
              "      <td>454623</td>\n",
              "      <td>0.282900</td>\n",
              "    </tr>\n",
              "    <tr>\n",
              "      <th>2</th>\n",
              "      <td>Arizona</td>\n",
              "      <td>4</td>\n",
              "      <td>760003</td>\n",
              "      <td>604049</td>\n",
              "      <td>4373055</td>\n",
              "      <td>0.173792</td>\n",
              "    </tr>\n",
              "    <tr>\n",
              "      <th>3</th>\n",
              "      <td>Arkansas</td>\n",
              "      <td>5</td>\n",
              "      <td>454931</td>\n",
              "      <td>96908</td>\n",
              "      <td>1777917</td>\n",
              "      <td>0.255879</td>\n",
              "    </tr>\n",
              "    <tr>\n",
              "      <th>4</th>\n",
              "      <td>California</td>\n",
              "      <td>6</td>\n",
              "      <td>3655463</td>\n",
              "      <td>2091720</td>\n",
              "      <td>25255501</td>\n",
              "      <td>0.144739</td>\n",
              "    </tr>\n",
              "  </tbody>\n",
              "</table>\n",
              "</div>"
            ],
            "text/plain": [
              "        state  id  State Farm policy premiums  BERKSHIRE HATHAWAY GRP  \\\n",
              "0     Alabama   1                      768213                  282947   \n",
              "1      Alaska   2                      128613                   81366   \n",
              "2     Arizona   4                      760003                  604049   \n",
              "3    Arkansas   5                      454931                   96908   \n",
              "4  California   6                     3655463                 2091720   \n",
              "\n",
              "   STATE TOTAL  State Farm market share %  \n",
              "0      3025561                   0.253908  \n",
              "1       454623                   0.282900  \n",
              "2      4373055                   0.173792  \n",
              "3      1777917                   0.255879  \n",
              "4     25255501                   0.144739  "
            ]
          },
          "metadata": {
            "tags": []
          },
          "execution_count": 16
        }
      ]
    },
    {
      "metadata": {
        "id": "Qqtxo2TuDOxl",
        "colab_type": "code",
        "outputId": "9bf4610c-85c1-4bb8-b031-52e1c72d332f",
        "colab": {
          "base_uri": "https://localhost:8080/",
          "height": 331
        }
      },
      "cell_type": "code",
      "source": [
        "import altair as alt\n",
        "from vega_datasets import data\n",
        "states = alt.topo_feature(data.us_10m.url, 'states')\n",
        "pop_eng_hur = data.population_engineers_hurricanes.url\n",
        "variable = 'population'\n",
        "\n",
        "alt.Chart(states).mark_geoshape().encode(\n",
        "    alt.Color(variable, type='quantitative')\n",
        ").transform_lookup(\n",
        "    lookup='id',\n",
        "    from_=alt.LookupData(pop_eng_hur, 'id', [variable])\n",
        ").properties(\n",
        "    width=500,\n",
        "    height=300\n",
        ").project(\n",
        "    type='albersUsa'\n",
        ")"
      ],
      "execution_count": 0,
      "outputs": [
        {
          "output_type": "execute_result",
          "data": {
            "text/plain": [
              "Chart({\n",
              "  data: UrlData({\n",
              "    format: TopoDataFormat({\n",
              "      feature: 'states',\n",
              "      type: 'topojson'\n",
              "    }),\n",
              "    url: 'https://vega.github.io/vega-datasets/data/us-10m.json'\n",
              "  }),\n",
              "  encoding: EncodingWithFacet({\n",
              "    color: Color({\n",
              "      shorthand: 'population',\n",
              "      type: 'quantitative'\n",
              "    })\n",
              "  }),\n",
              "  height: 300,\n",
              "  mark: 'geoshape',\n",
              "  projection: Projection({\n",
              "    type: 'albersUsa'\n",
              "  }),\n",
              "  transform: [LookupTransform({\n",
              "    from: LookupData({\n",
              "      data: 'https://vega.github.io/vega-datasets/data/population_engineers_hurricanes.csv',\n",
              "      fields: ['population'],\n",
              "      key: 'id'\n",
              "    }),\n",
              "    lookup: 'id'\n",
              "  })],\n",
              "  width: 500\n",
              "})"
            ],
            "text/html": [
              "<!DOCTYPE html>\n",
              "<html>\n",
              "<head>\n",
              "  <style>\n",
              "    .vega-actions a {\n",
              "        margin-right: 12px;\n",
              "        color: #757575;\n",
              "        font-weight: normal;\n",
              "        font-size: 13px;\n",
              "    }\n",
              "    .error {\n",
              "        color: red;\n",
              "    }\n",
              "  </style>\n",
              "  <script type=\"text/javascript\" src=\"https://cdn.jsdelivr.net/npm//vega@4\"></script>\n",
              "  <script type=\"text/javascript\" src=\"https://cdn.jsdelivr.net/npm//vega-lite@2.6.0\"></script>\n",
              "  <script type=\"text/javascript\" src=\"https://cdn.jsdelivr.net/npm//vega-embed@3\"></script>\n",
              "</head>\n",
              "<body>\n",
              "  <div id=\"altair-viz\"></div>\n",
              "  <script>\n",
              "      var spec = {\"config\": {\"view\": {\"width\": 400, \"height\": 300}}, \"data\": {\"url\": \"https://vega.github.io/vega-datasets/data/us-10m.json\", \"format\": {\"feature\": \"states\", \"type\": \"topojson\"}}, \"mark\": \"geoshape\", \"encoding\": {\"color\": {\"type\": \"quantitative\", \"field\": \"population\"}}, \"height\": 300, \"projection\": {\"type\": \"albersUsa\"}, \"transform\": [{\"lookup\": \"id\", \"from\": {\"data\": {\"url\": \"https://vega.github.io/vega-datasets/data/population_engineers_hurricanes.csv\"}, \"key\": \"id\", \"fields\": [\"population\"]}}], \"width\": 500, \"$schema\": \"https://vega.github.io/schema/vega-lite/v2.6.0.json\"};\n",
              "      var embedOpt = {\"mode\": \"vega-lite\"};\n",
              "\n",
              "      function showError(el, error){\n",
              "          el.innerHTML = ('<div class=\"error\" style=\"color:red;\">'\n",
              "                          + '<p>JavaScript Error: ' + error.message + '</p>'\n",
              "                          + \"<p>This usually means there's a typo in your chart specification. \"\n",
              "                          + \"See the javascript console for the full traceback.</p>\"\n",
              "                          + '</div>');\n",
              "          throw error;\n",
              "      }\n",
              "      const el = document.getElementById('altair-viz');\n",
              "      vegaEmbed(\"#altair-viz\", spec, embedOpt)\n",
              "        .catch(error => showError(el, error));\n",
              "\n",
              "  </script>\n",
              "</body>\n",
              "</html>"
            ]
          },
          "metadata": {
            "tags": []
          },
          "execution_count": 17
        }
      ]
    },
    {
      "metadata": {
        "id": "9kPQ4T2CDmRs",
        "colab_type": "code",
        "outputId": "765518cc-4d14-4f99-d33a-d287140d215b",
        "colab": {
          "base_uri": "https://localhost:8080/",
          "height": 331
        }
      },
      "cell_type": "code",
      "source": [
        "variable = 'State Farm market share %'\n",
        "\n",
        "alt.Chart(states).mark_geoshape().encode(\n",
        "    alt.Color(variable, type='quantitative')\n",
        ").transform_lookup(\n",
        "    lookup='id',\n",
        "    from_=alt.LookupData(df, 'id', [variable])\n",
        ").properties(\n",
        "    width=500,\n",
        "    height=300\n",
        ").project(\n",
        "    type='albersUsa'\n",
        ")"
      ],
      "execution_count": 0,
      "outputs": [
        {
          "output_type": "execute_result",
          "data": {
            "text/plain": [
              "Chart({\n",
              "  data: UrlData({\n",
              "    format: TopoDataFormat({\n",
              "      feature: 'states',\n",
              "      type: 'topojson'\n",
              "    }),\n",
              "    url: 'https://vega.github.io/vega-datasets/data/us-10m.json'\n",
              "  }),\n",
              "  encoding: EncodingWithFacet({\n",
              "    color: Color({\n",
              "      shorthand: 'State Farm market share %',\n",
              "      type: 'quantitative'\n",
              "    })\n",
              "  }),\n",
              "  height: 300,\n",
              "  mark: 'geoshape',\n",
              "  projection: Projection({\n",
              "    type: 'albersUsa'\n",
              "  }),\n",
              "  transform: [LookupTransform({\n",
              "    from: LookupData({\n",
              "      data:                    state  id  State Farm policy premiums  \\\n",
              "      0                Alabama   1                      768213   \n",
              "      1                 Alaska   2                      128613   \n",
              "      2                Arizona   4                      760003   \n",
              "      3               Arkansas   5                      454931   \n",
              "      4             California   6                     3655463   \n",
              "      5               Colorado   8                      827143   \n",
              "      6            Connecticut   9                      169773   \n",
              "      7               Delaware  10                      191319   \n",
              "      8   District of Columbia  11                       67231   \n",
              "      9                Florida  12                     2806322   \n",
              "      10               Georgia  13                     1761224   \n",
              "      11                Hawaii  15                      133498   \n",
              "      12                 Idaho  16                      130613   \n",
              "      13              Illinois  17                     2256543   \n",
              "      14               Indiana  18                      861382   \n",
              "      15                  Iowa  19                      368898   \n",
              "      16                Kansas  20                      351343   \n",
              "      17              Kentucky  21                      680433   \n",
              "      18             Louisiana  22                     1415980   \n",
              "      19                 Maine  23                      101111   \n",
              "      20              Maryland  24                      883401   \n",
              "      21         Massachusetts  25                           0   \n",
              "      22              Michigan  26                     1580398   \n",
              "      23             Minnesota  27                      851940   \n",
              "      24           Mississippi  28                      467887   \n",
              "      25              Missouri  29                      883774   \n",
              "      26               Montana  30                      156816   \n",
              "      27              Nebraska  31                      273727   \n",
              "      28                Nevada  32                      404688   \n",
              "      29         New Hampshire  33                      103340   \n",
              "      30            New Jersey  34                      619623   \n",
              "      31            New Mexico  35                      261922   \n",
              "      32              New York  36                     1666653   \n",
              "      33        North Carolina  37                      842368   \n",
              "      34          North Dakota  38                       67282   \n",
              "      35                  Ohio  39                     1240075   \n",
              "      36              Oklahoma  40                      636063   \n",
              "      37                Oregon  41                      564416   \n",
              "      38          Pennsylvania  42                     1654528   \n",
              "      39          Rhode Island  44                           0   \n",
              "      40        South Carolina  45                      874436   \n",
              "      41          South Dakota  46                      101912   \n",
              "      42             Tennessee  47                      889329   \n",
              "      43                 Texas  48                     3395165   \n",
              "      44                  Utah  49                      300403   \n",
              "      45               Vermont  50                       30003   \n",
              "      46              Virginia  51                      878312   \n",
              "      47            Washington  53                      794882   \n",
              "      48         West Virginia  54                      323608   \n",
              "      49             Wisconsin  55                      443680   \n",
              "      50               Wyoming  56                       90412   \n",
              "      51           Puerto Rico  72                           0   \n",
              "      \n",
              "          BERKSHIRE HATHAWAY GRP  STATE TOTAL  State Farm market share %  \n",
              "      0                   282947      3025561                   0.253908  \n",
              "      1                    81366       454623                   0.282900  \n",
              "      2                   604049      4373055                   0.173792  \n",
              "      3                    96908      1777917                   0.255879  \n",
              "      4                  2091720     25255501                   0.144739  \n",
              "      5                   365797      4057463                   0.203857  \n",
              "      6                   486498      2795415                   0.060733  \n",
              "      7                   129033       802005                   0.238551  \n",
              "      8                   115149       325239                   0.206713  \n",
              "      9                  3952147     17333354                   0.161903  \n",
              "      10                  821326      7571988                   0.232597  \n",
              "      11                  184743       722550                   0.184760  \n",
              "      12                   87222       863636                   0.151236  \n",
              "      13                  412978      7028885                   0.321039  \n",
              "      14                  201200      3506499                   0.245653  \n",
              "      15                   58105      1650388                   0.223522  \n",
              "      16                   76533      1725608                   0.203605  \n",
              "      17                  186915      2805864                   0.242504  \n",
              "      18                  369492      4136224                   0.342336  \n",
              "      19                   68109       699558                   0.144536  \n",
              "      20                 1059508      4554586                   0.193959  \n",
              "      21                  473913      4924736                   0.000000  \n",
              "      22                       0      8462142                   0.186761  \n",
              "      23                  108942      3412460                   0.249656  \n",
              "      24                  100827      1760180                   0.265818  \n",
              "      25                  214191      3606590                   0.245044  \n",
              "      26                   33538       668513                   0.234574  \n",
              "      27                   61046      1167135                   0.234529  \n",
              "      28                  262815      2129828                   0.190010  \n",
              "      29                  103403       806545                   0.128127  \n",
              "      30                 1441019      7375823                   0.084007  \n",
              "      31                  174865      1284430                   0.203921  \n",
              "      32                 3926684     12633982                   0.131918  \n",
              "      33                  560700      5543700                   0.151951  \n",
              "      34                   15516       454376                   0.148076  \n",
              "      35                  405652      6303148                   0.196739  \n",
              "      36                  151388      2515842                   0.252823  \n",
              "      37                  223187      2647434                   0.213194  \n",
              "      38                  602848      8270326                   0.200056  \n",
              "      39                   97597       867558                   0.000000  \n",
              "      40                  426033      3583918                   0.243989  \n",
              "      41                   15682       508569                   0.200390  \n",
              "      42                  292357      3769652                   0.235918  \n",
              "      43                 2127633     19180816                   0.177008  \n",
              "      44                  139315      1723931                   0.174255  \n",
              "      45                   52939       359996                   0.083343  \n",
              "      46                  884489      5105360                   0.172037  \n",
              "      47                  478922      4780616                   0.166272  \n",
              "      48                  110806      1209872                   0.267473  \n",
              "      49                  131845      2950711                   0.150364  \n",
              "      50                   30187       374169                   0.241634  \n",
              "      51                       0       444480                   0.000000  ,\n",
              "      fields: ['State Farm market share %'],\n",
              "      key: 'id'\n",
              "    }),\n",
              "    lookup: 'id'\n",
              "  })],\n",
              "  width: 500\n",
              "})"
            ],
            "text/html": [
              "<!DOCTYPE html>\n",
              "<html>\n",
              "<head>\n",
              "  <style>\n",
              "    .vega-actions a {\n",
              "        margin-right: 12px;\n",
              "        color: #757575;\n",
              "        font-weight: normal;\n",
              "        font-size: 13px;\n",
              "    }\n",
              "    .error {\n",
              "        color: red;\n",
              "    }\n",
              "  </style>\n",
              "  <script type=\"text/javascript\" src=\"https://cdn.jsdelivr.net/npm//vega@4\"></script>\n",
              "  <script type=\"text/javascript\" src=\"https://cdn.jsdelivr.net/npm//vega-lite@2.6.0\"></script>\n",
              "  <script type=\"text/javascript\" src=\"https://cdn.jsdelivr.net/npm//vega-embed@3\"></script>\n",
              "</head>\n",
              "<body>\n",
              "  <div id=\"altair-viz\"></div>\n",
              "  <script>\n",
              "      var spec = {\"config\": {\"view\": {\"width\": 400, \"height\": 300}}, \"data\": {\"url\": \"https://vega.github.io/vega-datasets/data/us-10m.json\", \"format\": {\"feature\": \"states\", \"type\": \"topojson\"}}, \"mark\": \"geoshape\", \"encoding\": {\"color\": {\"type\": \"quantitative\", \"field\": \"State Farm market share %\"}}, \"height\": 300, \"projection\": {\"type\": \"albersUsa\"}, \"transform\": [{\"lookup\": \"id\", \"from\": {\"data\": {\"name\": \"data-d9e3a8993215d131b3b671a2164b42c1\"}, \"key\": \"id\", \"fields\": [\"State Farm market share %\"]}}], \"width\": 500, \"$schema\": \"https://vega.github.io/schema/vega-lite/v2.6.0.json\", \"datasets\": {\"data-d9e3a8993215d131b3b671a2164b42c1\": [{\"state\": \"Alabama\", \"id\": 1, \"State Farm policy premiums\": 768213, \"BERKSHIRE HATHAWAY GRP\": 282947, \"STATE TOTAL\": 3025561, \"State Farm market share %\": 0.2539076224210981}, {\"state\": \"Alaska\", \"id\": 2, \"State Farm policy premiums\": 128613, \"BERKSHIRE HATHAWAY GRP\": 81366, \"STATE TOTAL\": 454623, \"State Farm market share %\": 0.28290033720247326}, {\"state\": \"Arizona\", \"id\": 4, \"State Farm policy premiums\": 760003, \"BERKSHIRE HATHAWAY GRP\": 604049, \"STATE TOTAL\": 4373055, \"State Farm market share %\": 0.1737922344905335}, {\"state\": \"Arkansas\", \"id\": 5, \"State Farm policy premiums\": 454931, \"BERKSHIRE HATHAWAY GRP\": 96908, \"STATE TOTAL\": 1777917, \"State Farm market share %\": 0.25587864900329993}, {\"state\": \"California\", \"id\": 6, \"State Farm policy premiums\": 3655463, \"BERKSHIRE HATHAWAY GRP\": 2091720, \"STATE TOTAL\": 25255501, \"State Farm market share %\": 0.14473927878128412}, {\"state\": \"Colorado\", \"id\": 8, \"State Farm policy premiums\": 827143, \"BERKSHIRE HATHAWAY GRP\": 365797, \"STATE TOTAL\": 4057463, \"State Farm market share %\": 0.20385718859297053}, {\"state\": \"Connecticut\", \"id\": 9, \"State Farm policy premiums\": 169773, \"BERKSHIRE HATHAWAY GRP\": 486498, \"STATE TOTAL\": 2795415, \"State Farm market share %\": 0.06073266402305203}, {\"state\": \"Delaware\", \"id\": 10, \"State Farm policy premiums\": 191319, \"BERKSHIRE HATHAWAY GRP\": 129033, \"STATE TOTAL\": 802005, \"State Farm market share %\": 0.23855088185235754}, {\"state\": \"District of Columbia\", \"id\": 11, \"State Farm policy premiums\": 67231, \"BERKSHIRE HATHAWAY GRP\": 115149, \"STATE TOTAL\": 325239, \"State Farm market share %\": 0.20671260211721226}, {\"state\": \"Florida\", \"id\": 12, \"State Farm policy premiums\": 2806322, \"BERKSHIRE HATHAWAY GRP\": 3952147, \"STATE TOTAL\": 17333354, \"State Farm market share %\": 0.16190299926950086}, {\"state\": \"Georgia\", \"id\": 13, \"State Farm policy premiums\": 1761224, \"BERKSHIRE HATHAWAY GRP\": 821326, \"STATE TOTAL\": 7571988, \"State Farm market share %\": 0.23259730469726048}, {\"state\": \"Hawaii\", \"id\": 15, \"State Farm policy premiums\": 133498, \"BERKSHIRE HATHAWAY GRP\": 184743, \"STATE TOTAL\": 722550, \"State Farm market share %\": 0.18475953221230365}, {\"state\": \"Idaho\", \"id\": 16, \"State Farm policy premiums\": 130613, \"BERKSHIRE HATHAWAY GRP\": 87222, \"STATE TOTAL\": 863636, \"State Farm market share %\": 0.15123616894154482}, {\"state\": \"Illinois\", \"id\": 17, \"State Farm policy premiums\": 2256543, \"BERKSHIRE HATHAWAY GRP\": 412978, \"STATE TOTAL\": 7028885, \"State Farm market share %\": 0.32103854309751834}, {\"state\": \"Indiana\", \"id\": 18, \"State Farm policy premiums\": 861382, \"BERKSHIRE HATHAWAY GRP\": 201200, \"STATE TOTAL\": 3506499, \"State Farm market share %\": 0.245653000328818}, {\"state\": \"Iowa\", \"id\": 19, \"State Farm policy premiums\": 368898, \"BERKSHIRE HATHAWAY GRP\": 58105, \"STATE TOTAL\": 1650388, \"State Farm market share %\": 0.22352198392135667}, {\"state\": \"Kansas\", \"id\": 20, \"State Farm policy premiums\": 351343, \"BERKSHIRE HATHAWAY GRP\": 76533, \"STATE TOTAL\": 1725608, \"State Farm market share %\": 0.20360533794465488}, {\"state\": \"Kentucky\", \"id\": 21, \"State Farm policy premiums\": 680433, \"BERKSHIRE HATHAWAY GRP\": 186915, \"STATE TOTAL\": 2805864, \"State Farm market share %\": 0.24250391323314316}, {\"state\": \"Louisiana\", \"id\": 22, \"State Farm policy premiums\": 1415980, \"BERKSHIRE HATHAWAY GRP\": 369492, \"STATE TOTAL\": 4136224, \"State Farm market share %\": 0.34233639183951353}, {\"state\": \"Maine\", \"id\": 23, \"State Farm policy premiums\": 101111, \"BERKSHIRE HATHAWAY GRP\": 68109, \"STATE TOTAL\": 699558, \"State Farm market share %\": 0.1445355495898839}, {\"state\": \"Maryland\", \"id\": 24, \"State Farm policy premiums\": 883401, \"BERKSHIRE HATHAWAY GRP\": 1059508, \"STATE TOTAL\": 4554586, \"State Farm market share %\": 0.19395857274404305}, {\"state\": \"Massachusetts\", \"id\": 25, \"State Farm policy premiums\": 0, \"BERKSHIRE HATHAWAY GRP\": 473913, \"STATE TOTAL\": 4924736, \"State Farm market share %\": 0.0}, {\"state\": \"Michigan\", \"id\": 26, \"State Farm policy premiums\": 1580398, \"BERKSHIRE HATHAWAY GRP\": 0, \"STATE TOTAL\": 8462142, \"State Farm market share %\": 0.18676098793898754}, {\"state\": \"Minnesota\", \"id\": 27, \"State Farm policy premiums\": 851940, \"BERKSHIRE HATHAWAY GRP\": 108942, \"STATE TOTAL\": 3412460, \"State Farm market share %\": 0.24965567361961752}, {\"state\": \"Mississippi\", \"id\": 28, \"State Farm policy premiums\": 467887, \"BERKSHIRE HATHAWAY GRP\": 100827, \"STATE TOTAL\": 1760180, \"State Farm market share %\": 0.2658177004624527}, {\"state\": \"Missouri\", \"id\": 29, \"State Farm policy premiums\": 883774, \"BERKSHIRE HATHAWAY GRP\": 214191, \"STATE TOTAL\": 3606590, \"State Farm market share %\": 0.24504421073645744}, {\"state\": \"Montana\", \"id\": 30, \"State Farm policy premiums\": 156816, \"BERKSHIRE HATHAWAY GRP\": 33538, \"STATE TOTAL\": 668513, \"State Farm market share %\": 0.23457434634778979}, {\"state\": \"Nebraska\", \"id\": 31, \"State Farm policy premiums\": 273727, \"BERKSHIRE HATHAWAY GRP\": 61046, \"STATE TOTAL\": 1167135, \"State Farm market share %\": 0.2345289962172328}, {\"state\": \"Nevada\", \"id\": 32, \"State Farm policy premiums\": 404688, \"BERKSHIRE HATHAWAY GRP\": 262815, \"STATE TOTAL\": 2129828, \"State Farm market share %\": 0.19000970970425782}, {\"state\": \"New Hampshire\", \"id\": 33, \"State Farm policy premiums\": 103340, \"BERKSHIRE HATHAWAY GRP\": 103403, \"STATE TOTAL\": 806545, \"State Farm market share %\": 0.12812676292085376}, {\"state\": \"New Jersey\", \"id\": 34, \"State Farm policy premiums\": 619623, \"BERKSHIRE HATHAWAY GRP\": 1441019, \"STATE TOTAL\": 7375823, \"State Farm market share %\": 0.08400730332059216}, {\"state\": \"New Mexico\", \"id\": 35, \"State Farm policy premiums\": 261922, \"BERKSHIRE HATHAWAY GRP\": 174865, \"STATE TOTAL\": 1284430, \"State Farm market share %\": 0.2039208053377763}, {\"state\": \"New York\", \"id\": 36, \"State Farm policy premiums\": 1666653, \"BERKSHIRE HATHAWAY GRP\": 3926684, \"STATE TOTAL\": 12633982, \"State Farm market share %\": 0.131918266149184}, {\"state\": \"North Carolina\", \"id\": 37, \"State Farm policy premiums\": 842368, \"BERKSHIRE HATHAWAY GRP\": 560700, \"STATE TOTAL\": 5543700, \"State Farm market share %\": 0.15195050237206198}, {\"state\": \"North Dakota\", \"id\": 38, \"State Farm policy premiums\": 67282, \"BERKSHIRE HATHAWAY GRP\": 15516, \"STATE TOTAL\": 454376, \"State Farm market share %\": 0.14807560258464356}, {\"state\": \"Ohio\", \"id\": 39, \"State Farm policy premiums\": 1240075, \"BERKSHIRE HATHAWAY GRP\": 405652, \"STATE TOTAL\": 6303148, \"State Farm market share %\": 0.19673899454685181}, {\"state\": \"Oklahoma\", \"id\": 40, \"State Farm policy premiums\": 636063, \"BERKSHIRE HATHAWAY GRP\": 151388, \"STATE TOTAL\": 2515842, \"State Farm market share %\": 0.2528231105132993}, {\"state\": \"Oregon\", \"id\": 41, \"State Farm policy premiums\": 564416, \"BERKSHIRE HATHAWAY GRP\": 223187, \"STATE TOTAL\": 2647434, \"State Farm market share %\": 0.21319360558185776}, {\"state\": \"Pennsylvania\", \"id\": 42, \"State Farm policy premiums\": 1654528, \"BERKSHIRE HATHAWAY GRP\": 602848, \"STATE TOTAL\": 8270326, \"State Farm market share %\": 0.20005595910004031}, {\"state\": \"Rhode Island\", \"id\": 44, \"State Farm policy premiums\": 0, \"BERKSHIRE HATHAWAY GRP\": 97597, \"STATE TOTAL\": 867558, \"State Farm market share %\": 0.0}, {\"state\": \"South Carolina\", \"id\": 45, \"State Farm policy premiums\": 874436, \"BERKSHIRE HATHAWAY GRP\": 426033, \"STATE TOTAL\": 3583918, \"State Farm market share %\": 0.24398884126255121}, {\"state\": \"South Dakota\", \"id\": 46, \"State Farm policy premiums\": 101912, \"BERKSHIRE HATHAWAY GRP\": 15682, \"STATE TOTAL\": 508569, \"State Farm market share %\": 0.20038972096215066}, {\"state\": \"Tennessee\", \"id\": 47, \"State Farm policy premiums\": 889329, \"BERKSHIRE HATHAWAY GRP\": 292357, \"STATE TOTAL\": 3769652, \"State Farm market share %\": 0.23591806352416617}, {\"state\": \"Texas\", \"id\": 48, \"State Farm policy premiums\": 3395165, \"BERKSHIRE HATHAWAY GRP\": 2127633, \"STATE TOTAL\": 19180816, \"State Farm market share %\": 0.17700837128097158}, {\"state\": \"Utah\", \"id\": 49, \"State Farm policy premiums\": 300403, \"BERKSHIRE HATHAWAY GRP\": 139315, \"STATE TOTAL\": 1723931, \"State Farm market share %\": 0.17425465404357832}, {\"state\": \"Vermont\", \"id\": 50, \"State Farm policy premiums\": 30003, \"BERKSHIRE HATHAWAY GRP\": 52939, \"STATE TOTAL\": 359996, \"State Farm market share %\": 0.0833425926954744}, {\"state\": \"Virginia\", \"id\": 51, \"State Farm policy premiums\": 878312, \"BERKSHIRE HATHAWAY GRP\": 884489, \"STATE TOTAL\": 5105360, \"State Farm market share %\": 0.17203723145870223}, {\"state\": \"Washington\", \"id\": 53, \"State Farm policy premiums\": 794882, \"BERKSHIRE HATHAWAY GRP\": 478922, \"STATE TOTAL\": 4780616, \"State Farm market share %\": 0.16627187793372236}, {\"state\": \"West Virginia\", \"id\": 54, \"State Farm policy premiums\": 323608, \"BERKSHIRE HATHAWAY GRP\": 110806, \"STATE TOTAL\": 1209872, \"State Farm market share %\": 0.267472922755465}, {\"state\": \"Wisconsin\", \"id\": 55, \"State Farm policy premiums\": 443680, \"BERKSHIRE HATHAWAY GRP\": 131845, \"STATE TOTAL\": 2950711, \"State Farm market share %\": 0.15036375978535343}, {\"state\": \"Wyoming\", \"id\": 56, \"State Farm policy premiums\": 90412, \"BERKSHIRE HATHAWAY GRP\": 30187, \"STATE TOTAL\": 374169, \"State Farm market share %\": 0.24163412789407995}, {\"state\": \"Puerto Rico\", \"id\": 72, \"State Farm policy premiums\": 0, \"BERKSHIRE HATHAWAY GRP\": 0, \"STATE TOTAL\": 444480, \"State Farm market share %\": 0.0}]}};\n",
              "      var embedOpt = {\"mode\": \"vega-lite\"};\n",
              "\n",
              "      function showError(el, error){\n",
              "          el.innerHTML = ('<div class=\"error\" style=\"color:red;\">'\n",
              "                          + '<p>JavaScript Error: ' + error.message + '</p>'\n",
              "                          + \"<p>This usually means there's a typo in your chart specification. \"\n",
              "                          + \"See the javascript console for the full traceback.</p>\"\n",
              "                          + '</div>');\n",
              "          throw error;\n",
              "      }\n",
              "      const el = document.getElementById('altair-viz');\n",
              "      vegaEmbed(\"#altair-viz\", spec, embedOpt)\n",
              "        .catch(error => showError(el, error));\n",
              "\n",
              "  </script>\n",
              "</body>\n",
              "</html>"
            ]
          },
          "metadata": {
            "tags": []
          },
          "execution_count": 18
        }
      ]
    },
    {
      "metadata": {
        "colab_type": "text",
        "id": "7NfsPKUtlja3"
      },
      "cell_type": "markdown",
      "source": [
        "# Use Seaborn to visualize distributions and relationships with continuous and discrete variables"
      ]
    },
    {
      "metadata": {
        "colab_type": "text",
        "id": "DMX07pfHlja4"
      },
      "cell_type": "markdown",
      "source": [
        "## 1. Anscombe dataset"
      ]
    },
    {
      "metadata": {
        "colab_type": "text",
        "id": "ohuKP3Y2lja5"
      },
      "cell_type": "markdown",
      "source": [
        "### Load dataset"
      ]
    },
    {
      "metadata": {
        "colab_type": "code",
        "id": "lhNEdJTslja6",
        "outputId": "512e923a-42d0-4f66-c938-8ebf540ee08e",
        "colab": {
          "base_uri": "https://localhost:8080/",
          "height": 1413
        }
      },
      "cell_type": "code",
      "source": [
        "df = sns.load_dataset('anscombe')\n",
        "df"
      ],
      "execution_count": 0,
      "outputs": [
        {
          "output_type": "execute_result",
          "data": {
            "text/html": [
              "<div>\n",
              "<style scoped>\n",
              "    .dataframe tbody tr th:only-of-type {\n",
              "        vertical-align: middle;\n",
              "    }\n",
              "\n",
              "    .dataframe tbody tr th {\n",
              "        vertical-align: top;\n",
              "    }\n",
              "\n",
              "    .dataframe thead th {\n",
              "        text-align: right;\n",
              "    }\n",
              "</style>\n",
              "<table border=\"1\" class=\"dataframe\">\n",
              "  <thead>\n",
              "    <tr style=\"text-align: right;\">\n",
              "      <th></th>\n",
              "      <th>dataset</th>\n",
              "      <th>x</th>\n",
              "      <th>y</th>\n",
              "    </tr>\n",
              "  </thead>\n",
              "  <tbody>\n",
              "    <tr>\n",
              "      <th>0</th>\n",
              "      <td>I</td>\n",
              "      <td>10.0</td>\n",
              "      <td>8.04</td>\n",
              "    </tr>\n",
              "    <tr>\n",
              "      <th>1</th>\n",
              "      <td>I</td>\n",
              "      <td>8.0</td>\n",
              "      <td>6.95</td>\n",
              "    </tr>\n",
              "    <tr>\n",
              "      <th>2</th>\n",
              "      <td>I</td>\n",
              "      <td>13.0</td>\n",
              "      <td>7.58</td>\n",
              "    </tr>\n",
              "    <tr>\n",
              "      <th>3</th>\n",
              "      <td>I</td>\n",
              "      <td>9.0</td>\n",
              "      <td>8.81</td>\n",
              "    </tr>\n",
              "    <tr>\n",
              "      <th>4</th>\n",
              "      <td>I</td>\n",
              "      <td>11.0</td>\n",
              "      <td>8.33</td>\n",
              "    </tr>\n",
              "    <tr>\n",
              "      <th>5</th>\n",
              "      <td>I</td>\n",
              "      <td>14.0</td>\n",
              "      <td>9.96</td>\n",
              "    </tr>\n",
              "    <tr>\n",
              "      <th>6</th>\n",
              "      <td>I</td>\n",
              "      <td>6.0</td>\n",
              "      <td>7.24</td>\n",
              "    </tr>\n",
              "    <tr>\n",
              "      <th>7</th>\n",
              "      <td>I</td>\n",
              "      <td>4.0</td>\n",
              "      <td>4.26</td>\n",
              "    </tr>\n",
              "    <tr>\n",
              "      <th>8</th>\n",
              "      <td>I</td>\n",
              "      <td>12.0</td>\n",
              "      <td>10.84</td>\n",
              "    </tr>\n",
              "    <tr>\n",
              "      <th>9</th>\n",
              "      <td>I</td>\n",
              "      <td>7.0</td>\n",
              "      <td>4.82</td>\n",
              "    </tr>\n",
              "    <tr>\n",
              "      <th>10</th>\n",
              "      <td>I</td>\n",
              "      <td>5.0</td>\n",
              "      <td>5.68</td>\n",
              "    </tr>\n",
              "    <tr>\n",
              "      <th>11</th>\n",
              "      <td>II</td>\n",
              "      <td>10.0</td>\n",
              "      <td>9.14</td>\n",
              "    </tr>\n",
              "    <tr>\n",
              "      <th>12</th>\n",
              "      <td>II</td>\n",
              "      <td>8.0</td>\n",
              "      <td>8.14</td>\n",
              "    </tr>\n",
              "    <tr>\n",
              "      <th>13</th>\n",
              "      <td>II</td>\n",
              "      <td>13.0</td>\n",
              "      <td>8.74</td>\n",
              "    </tr>\n",
              "    <tr>\n",
              "      <th>14</th>\n",
              "      <td>II</td>\n",
              "      <td>9.0</td>\n",
              "      <td>8.77</td>\n",
              "    </tr>\n",
              "    <tr>\n",
              "      <th>15</th>\n",
              "      <td>II</td>\n",
              "      <td>11.0</td>\n",
              "      <td>9.26</td>\n",
              "    </tr>\n",
              "    <tr>\n",
              "      <th>16</th>\n",
              "      <td>II</td>\n",
              "      <td>14.0</td>\n",
              "      <td>8.10</td>\n",
              "    </tr>\n",
              "    <tr>\n",
              "      <th>17</th>\n",
              "      <td>II</td>\n",
              "      <td>6.0</td>\n",
              "      <td>6.13</td>\n",
              "    </tr>\n",
              "    <tr>\n",
              "      <th>18</th>\n",
              "      <td>II</td>\n",
              "      <td>4.0</td>\n",
              "      <td>3.10</td>\n",
              "    </tr>\n",
              "    <tr>\n",
              "      <th>19</th>\n",
              "      <td>II</td>\n",
              "      <td>12.0</td>\n",
              "      <td>9.13</td>\n",
              "    </tr>\n",
              "    <tr>\n",
              "      <th>20</th>\n",
              "      <td>II</td>\n",
              "      <td>7.0</td>\n",
              "      <td>7.26</td>\n",
              "    </tr>\n",
              "    <tr>\n",
              "      <th>21</th>\n",
              "      <td>II</td>\n",
              "      <td>5.0</td>\n",
              "      <td>4.74</td>\n",
              "    </tr>\n",
              "    <tr>\n",
              "      <th>22</th>\n",
              "      <td>III</td>\n",
              "      <td>10.0</td>\n",
              "      <td>7.46</td>\n",
              "    </tr>\n",
              "    <tr>\n",
              "      <th>23</th>\n",
              "      <td>III</td>\n",
              "      <td>8.0</td>\n",
              "      <td>6.77</td>\n",
              "    </tr>\n",
              "    <tr>\n",
              "      <th>24</th>\n",
              "      <td>III</td>\n",
              "      <td>13.0</td>\n",
              "      <td>12.74</td>\n",
              "    </tr>\n",
              "    <tr>\n",
              "      <th>25</th>\n",
              "      <td>III</td>\n",
              "      <td>9.0</td>\n",
              "      <td>7.11</td>\n",
              "    </tr>\n",
              "    <tr>\n",
              "      <th>26</th>\n",
              "      <td>III</td>\n",
              "      <td>11.0</td>\n",
              "      <td>7.81</td>\n",
              "    </tr>\n",
              "    <tr>\n",
              "      <th>27</th>\n",
              "      <td>III</td>\n",
              "      <td>14.0</td>\n",
              "      <td>8.84</td>\n",
              "    </tr>\n",
              "    <tr>\n",
              "      <th>28</th>\n",
              "      <td>III</td>\n",
              "      <td>6.0</td>\n",
              "      <td>6.08</td>\n",
              "    </tr>\n",
              "    <tr>\n",
              "      <th>29</th>\n",
              "      <td>III</td>\n",
              "      <td>4.0</td>\n",
              "      <td>5.39</td>\n",
              "    </tr>\n",
              "    <tr>\n",
              "      <th>30</th>\n",
              "      <td>III</td>\n",
              "      <td>12.0</td>\n",
              "      <td>8.15</td>\n",
              "    </tr>\n",
              "    <tr>\n",
              "      <th>31</th>\n",
              "      <td>III</td>\n",
              "      <td>7.0</td>\n",
              "      <td>6.42</td>\n",
              "    </tr>\n",
              "    <tr>\n",
              "      <th>32</th>\n",
              "      <td>III</td>\n",
              "      <td>5.0</td>\n",
              "      <td>5.73</td>\n",
              "    </tr>\n",
              "    <tr>\n",
              "      <th>33</th>\n",
              "      <td>IV</td>\n",
              "      <td>8.0</td>\n",
              "      <td>6.58</td>\n",
              "    </tr>\n",
              "    <tr>\n",
              "      <th>34</th>\n",
              "      <td>IV</td>\n",
              "      <td>8.0</td>\n",
              "      <td>5.76</td>\n",
              "    </tr>\n",
              "    <tr>\n",
              "      <th>35</th>\n",
              "      <td>IV</td>\n",
              "      <td>8.0</td>\n",
              "      <td>7.71</td>\n",
              "    </tr>\n",
              "    <tr>\n",
              "      <th>36</th>\n",
              "      <td>IV</td>\n",
              "      <td>8.0</td>\n",
              "      <td>8.84</td>\n",
              "    </tr>\n",
              "    <tr>\n",
              "      <th>37</th>\n",
              "      <td>IV</td>\n",
              "      <td>8.0</td>\n",
              "      <td>8.47</td>\n",
              "    </tr>\n",
              "    <tr>\n",
              "      <th>38</th>\n",
              "      <td>IV</td>\n",
              "      <td>8.0</td>\n",
              "      <td>7.04</td>\n",
              "    </tr>\n",
              "    <tr>\n",
              "      <th>39</th>\n",
              "      <td>IV</td>\n",
              "      <td>8.0</td>\n",
              "      <td>5.25</td>\n",
              "    </tr>\n",
              "    <tr>\n",
              "      <th>40</th>\n",
              "      <td>IV</td>\n",
              "      <td>19.0</td>\n",
              "      <td>12.50</td>\n",
              "    </tr>\n",
              "    <tr>\n",
              "      <th>41</th>\n",
              "      <td>IV</td>\n",
              "      <td>8.0</td>\n",
              "      <td>5.56</td>\n",
              "    </tr>\n",
              "    <tr>\n",
              "      <th>42</th>\n",
              "      <td>IV</td>\n",
              "      <td>8.0</td>\n",
              "      <td>7.91</td>\n",
              "    </tr>\n",
              "    <tr>\n",
              "      <th>43</th>\n",
              "      <td>IV</td>\n",
              "      <td>8.0</td>\n",
              "      <td>6.89</td>\n",
              "    </tr>\n",
              "  </tbody>\n",
              "</table>\n",
              "</div>"
            ],
            "text/plain": [
              "   dataset     x      y\n",
              "0        I  10.0   8.04\n",
              "1        I   8.0   6.95\n",
              "2        I  13.0   7.58\n",
              "3        I   9.0   8.81\n",
              "4        I  11.0   8.33\n",
              "5        I  14.0   9.96\n",
              "6        I   6.0   7.24\n",
              "7        I   4.0   4.26\n",
              "8        I  12.0  10.84\n",
              "9        I   7.0   4.82\n",
              "10       I   5.0   5.68\n",
              "11      II  10.0   9.14\n",
              "12      II   8.0   8.14\n",
              "13      II  13.0   8.74\n",
              "14      II   9.0   8.77\n",
              "15      II  11.0   9.26\n",
              "16      II  14.0   8.10\n",
              "17      II   6.0   6.13\n",
              "18      II   4.0   3.10\n",
              "19      II  12.0   9.13\n",
              "20      II   7.0   7.26\n",
              "21      II   5.0   4.74\n",
              "22     III  10.0   7.46\n",
              "23     III   8.0   6.77\n",
              "24     III  13.0  12.74\n",
              "25     III   9.0   7.11\n",
              "26     III  11.0   7.81\n",
              "27     III  14.0   8.84\n",
              "28     III   6.0   6.08\n",
              "29     III   4.0   5.39\n",
              "30     III  12.0   8.15\n",
              "31     III   7.0   6.42\n",
              "32     III   5.0   5.73\n",
              "33      IV   8.0   6.58\n",
              "34      IV   8.0   5.76\n",
              "35      IV   8.0   7.71\n",
              "36      IV   8.0   8.84\n",
              "37      IV   8.0   8.47\n",
              "38      IV   8.0   7.04\n",
              "39      IV   8.0   5.25\n",
              "40      IV  19.0  12.50\n",
              "41      IV   8.0   5.56\n",
              "42      IV   8.0   7.91\n",
              "43      IV   8.0   6.89"
            ]
          },
          "metadata": {
            "tags": []
          },
          "execution_count": 19
        }
      ]
    },
    {
      "metadata": {
        "colab_type": "text",
        "id": "wGpkAGL9lja9"
      },
      "cell_type": "markdown",
      "source": [
        "### See the data's shape"
      ]
    },
    {
      "metadata": {
        "colab_type": "code",
        "id": "UJgOVrMdlja_",
        "outputId": "a34e71bc-3b64-48b9-908a-01f076afa48a",
        "colab": {
          "base_uri": "https://localhost:8080/",
          "height": 34
        }
      },
      "cell_type": "code",
      "source": [
        "df.shape"
      ],
      "execution_count": 0,
      "outputs": [
        {
          "output_type": "execute_result",
          "data": {
            "text/plain": [
              "(44, 3)"
            ]
          },
          "metadata": {
            "tags": []
          },
          "execution_count": 20
        }
      ]
    },
    {
      "metadata": {
        "colab_type": "text",
        "id": "uwhNkUorljbC"
      },
      "cell_type": "markdown",
      "source": [
        "### See the data"
      ]
    },
    {
      "metadata": {
        "colab_type": "code",
        "id": "f6VT5CbUljbD",
        "outputId": "2b293bf5-45e0-40dd-b660-872470e9b733",
        "colab": {
          "base_uri": "https://localhost:8080/",
          "height": 297
        }
      },
      "cell_type": "code",
      "source": [
        "df.describe()"
      ],
      "execution_count": 0,
      "outputs": [
        {
          "output_type": "execute_result",
          "data": {
            "text/html": [
              "<div>\n",
              "<style scoped>\n",
              "    .dataframe tbody tr th:only-of-type {\n",
              "        vertical-align: middle;\n",
              "    }\n",
              "\n",
              "    .dataframe tbody tr th {\n",
              "        vertical-align: top;\n",
              "    }\n",
              "\n",
              "    .dataframe thead th {\n",
              "        text-align: right;\n",
              "    }\n",
              "</style>\n",
              "<table border=\"1\" class=\"dataframe\">\n",
              "  <thead>\n",
              "    <tr style=\"text-align: right;\">\n",
              "      <th></th>\n",
              "      <th>x</th>\n",
              "      <th>y</th>\n",
              "    </tr>\n",
              "  </thead>\n",
              "  <tbody>\n",
              "    <tr>\n",
              "      <th>count</th>\n",
              "      <td>44.000000</td>\n",
              "      <td>44.000000</td>\n",
              "    </tr>\n",
              "    <tr>\n",
              "      <th>mean</th>\n",
              "      <td>9.000000</td>\n",
              "      <td>7.500682</td>\n",
              "    </tr>\n",
              "    <tr>\n",
              "      <th>std</th>\n",
              "      <td>3.198837</td>\n",
              "      <td>1.958925</td>\n",
              "    </tr>\n",
              "    <tr>\n",
              "      <th>min</th>\n",
              "      <td>4.000000</td>\n",
              "      <td>3.100000</td>\n",
              "    </tr>\n",
              "    <tr>\n",
              "      <th>25%</th>\n",
              "      <td>7.000000</td>\n",
              "      <td>6.117500</td>\n",
              "    </tr>\n",
              "    <tr>\n",
              "      <th>50%</th>\n",
              "      <td>8.000000</td>\n",
              "      <td>7.520000</td>\n",
              "    </tr>\n",
              "    <tr>\n",
              "      <th>75%</th>\n",
              "      <td>11.000000</td>\n",
              "      <td>8.747500</td>\n",
              "    </tr>\n",
              "    <tr>\n",
              "      <th>max</th>\n",
              "      <td>19.000000</td>\n",
              "      <td>12.740000</td>\n",
              "    </tr>\n",
              "  </tbody>\n",
              "</table>\n",
              "</div>"
            ],
            "text/plain": [
              "               x          y\n",
              "count  44.000000  44.000000\n",
              "mean    9.000000   7.500682\n",
              "std     3.198837   1.958925\n",
              "min     4.000000   3.100000\n",
              "25%     7.000000   6.117500\n",
              "50%     8.000000   7.520000\n",
              "75%    11.000000   8.747500\n",
              "max    19.000000  12.740000"
            ]
          },
          "metadata": {
            "tags": []
          },
          "execution_count": 21
        }
      ]
    },
    {
      "metadata": {
        "id": "rdKnqLnqFoac",
        "colab_type": "code",
        "outputId": "4e284223-23cf-41b2-e965-6840db177dfc",
        "colab": {
          "base_uri": "https://localhost:8080/",
          "height": 204
        }
      },
      "cell_type": "code",
      "source": [
        "df.head()"
      ],
      "execution_count": 0,
      "outputs": [
        {
          "output_type": "execute_result",
          "data": {
            "text/html": [
              "<div>\n",
              "<style scoped>\n",
              "    .dataframe tbody tr th:only-of-type {\n",
              "        vertical-align: middle;\n",
              "    }\n",
              "\n",
              "    .dataframe tbody tr th {\n",
              "        vertical-align: top;\n",
              "    }\n",
              "\n",
              "    .dataframe thead th {\n",
              "        text-align: right;\n",
              "    }\n",
              "</style>\n",
              "<table border=\"1\" class=\"dataframe\">\n",
              "  <thead>\n",
              "    <tr style=\"text-align: right;\">\n",
              "      <th></th>\n",
              "      <th>dataset</th>\n",
              "      <th>x</th>\n",
              "      <th>y</th>\n",
              "    </tr>\n",
              "  </thead>\n",
              "  <tbody>\n",
              "    <tr>\n",
              "      <th>0</th>\n",
              "      <td>I</td>\n",
              "      <td>10.0</td>\n",
              "      <td>8.04</td>\n",
              "    </tr>\n",
              "    <tr>\n",
              "      <th>1</th>\n",
              "      <td>I</td>\n",
              "      <td>8.0</td>\n",
              "      <td>6.95</td>\n",
              "    </tr>\n",
              "    <tr>\n",
              "      <th>2</th>\n",
              "      <td>I</td>\n",
              "      <td>13.0</td>\n",
              "      <td>7.58</td>\n",
              "    </tr>\n",
              "    <tr>\n",
              "      <th>3</th>\n",
              "      <td>I</td>\n",
              "      <td>9.0</td>\n",
              "      <td>8.81</td>\n",
              "    </tr>\n",
              "    <tr>\n",
              "      <th>4</th>\n",
              "      <td>I</td>\n",
              "      <td>11.0</td>\n",
              "      <td>8.33</td>\n",
              "    </tr>\n",
              "  </tbody>\n",
              "</table>\n",
              "</div>"
            ],
            "text/plain": [
              "  dataset     x     y\n",
              "0       I  10.0  8.04\n",
              "1       I   8.0  6.95\n",
              "2       I  13.0  7.58\n",
              "3       I   9.0  8.81\n",
              "4       I  11.0  8.33"
            ]
          },
          "metadata": {
            "tags": []
          },
          "execution_count": 22
        }
      ]
    },
    {
      "metadata": {
        "colab_type": "text",
        "id": "yxMSGXfmljbE"
      },
      "cell_type": "markdown",
      "source": [
        "### [Group by](https://pandas.pydata.org/pandas-docs/stable/generated/pandas.DataFrame.groupby.html) `'dataset'`"
      ]
    },
    {
      "metadata": {
        "colab_type": "code",
        "id": "Kqb2C6OnljbG",
        "outputId": "8d4e8d01-c375-400f-d85d-8d268b07a250",
        "colab": {
          "base_uri": "https://localhost:8080/",
          "height": 34
        }
      },
      "cell_type": "code",
      "source": [
        "df_gb = df.groupby('dataset')\n",
        "df_gb"
      ],
      "execution_count": 0,
      "outputs": [
        {
          "output_type": "execute_result",
          "data": {
            "text/plain": [
              "<pandas.core.groupby.DataFrameGroupBy object at 0x7f27b1b7b1d0>"
            ]
          },
          "metadata": {
            "tags": []
          },
          "execution_count": 23
        }
      ]
    },
    {
      "metadata": {
        "colab_type": "text",
        "id": "XE_VL_G5ljbI"
      },
      "cell_type": "markdown",
      "source": [
        "### [Describe](https://pandas.pydata.org/pandas-docs/stable/generated/pandas.DataFrame.describe.html) the groups"
      ]
    },
    {
      "metadata": {
        "colab_type": "code",
        "id": "3owo8EHvljbJ",
        "colab": {}
      },
      "cell_type": "code",
      "source": [
        ""
      ],
      "execution_count": 0,
      "outputs": []
    },
    {
      "metadata": {
        "colab_type": "text",
        "id": "VBjKXp0rljbK"
      },
      "cell_type": "markdown",
      "source": [
        "### Get the [count](https://pandas.pydata.org/pandas-docs/stable/generated/pandas.DataFrame.count.html), for each column in each group"
      ]
    },
    {
      "metadata": {
        "colab_type": "code",
        "id": "4ruK188dljbL",
        "colab": {}
      },
      "cell_type": "code",
      "source": [
        ""
      ],
      "execution_count": 0,
      "outputs": []
    },
    {
      "metadata": {
        "colab_type": "text",
        "id": "Ooh4iR8gljbN"
      },
      "cell_type": "markdown",
      "source": [
        "### Get the [mean](https://pandas.pydata.org/pandas-docs/stable/generated/pandas.DataFrame.mean.html) ..."
      ]
    },
    {
      "metadata": {
        "colab_type": "code",
        "id": "VHz1_kJNljbN",
        "colab": {}
      },
      "cell_type": "code",
      "source": [
        ""
      ],
      "execution_count": 0,
      "outputs": []
    },
    {
      "metadata": {
        "colab_type": "text",
        "id": "KDpAl2z8ljbQ"
      },
      "cell_type": "markdown",
      "source": [
        "### Get the [standard deviation](https://pandas.pydata.org/pandas-docs/stable/generated/pandas.DataFrame.std.html) ..."
      ]
    },
    {
      "metadata": {
        "colab_type": "code",
        "id": "H8sPCA70ljbQ",
        "colab": {}
      },
      "cell_type": "code",
      "source": [
        ""
      ],
      "execution_count": 0,
      "outputs": []
    },
    {
      "metadata": {
        "colab_type": "text",
        "id": "8_J0sQ3zljbS"
      },
      "cell_type": "markdown",
      "source": [
        "### Get the [correlation](https://pandas.pydata.org/pandas-docs/stable/generated/pandas.DataFrame.corr.html) ..."
      ]
    },
    {
      "metadata": {
        "id": "Js5pmMJVHJod",
        "colab_type": "code",
        "outputId": "f06bb579-b645-4c3b-83be-d1c0082ecfd7",
        "colab": {
          "base_uri": "https://localhost:8080/",
          "height": 111
        }
      },
      "cell_type": "code",
      "source": [
        "df.corr()"
      ],
      "execution_count": 0,
      "outputs": [
        {
          "output_type": "execute_result",
          "data": {
            "text/html": [
              "<div>\n",
              "<style scoped>\n",
              "    .dataframe tbody tr th:only-of-type {\n",
              "        vertical-align: middle;\n",
              "    }\n",
              "\n",
              "    .dataframe tbody tr th {\n",
              "        vertical-align: top;\n",
              "    }\n",
              "\n",
              "    .dataframe thead th {\n",
              "        text-align: right;\n",
              "    }\n",
              "</style>\n",
              "<table border=\"1\" class=\"dataframe\">\n",
              "  <thead>\n",
              "    <tr style=\"text-align: right;\">\n",
              "      <th></th>\n",
              "      <th>x</th>\n",
              "      <th>y</th>\n",
              "    </tr>\n",
              "  </thead>\n",
              "  <tbody>\n",
              "    <tr>\n",
              "      <th>x</th>\n",
              "      <td>1.000000</td>\n",
              "      <td>0.816366</td>\n",
              "    </tr>\n",
              "    <tr>\n",
              "      <th>y</th>\n",
              "      <td>0.816366</td>\n",
              "      <td>1.000000</td>\n",
              "    </tr>\n",
              "  </tbody>\n",
              "</table>\n",
              "</div>"
            ],
            "text/plain": [
              "          x         y\n",
              "x  1.000000  0.816366\n",
              "y  0.816366  1.000000"
            ]
          },
          "metadata": {
            "tags": []
          },
          "execution_count": 24
        }
      ]
    },
    {
      "metadata": {
        "colab_type": "code",
        "id": "oVaXOEutljbS",
        "outputId": "4ca965f3-ecaa-4ffb-a528-78816dbcc4de",
        "colab": {
          "base_uri": "https://localhost:8080/",
          "height": 328
        }
      },
      "cell_type": "code",
      "source": [
        "df_gb.corr()"
      ],
      "execution_count": 0,
      "outputs": [
        {
          "output_type": "execute_result",
          "data": {
            "text/html": [
              "<div>\n",
              "<style scoped>\n",
              "    .dataframe tbody tr th:only-of-type {\n",
              "        vertical-align: middle;\n",
              "    }\n",
              "\n",
              "    .dataframe tbody tr th {\n",
              "        vertical-align: top;\n",
              "    }\n",
              "\n",
              "    .dataframe thead th {\n",
              "        text-align: right;\n",
              "    }\n",
              "</style>\n",
              "<table border=\"1\" class=\"dataframe\">\n",
              "  <thead>\n",
              "    <tr style=\"text-align: right;\">\n",
              "      <th></th>\n",
              "      <th></th>\n",
              "      <th>x</th>\n",
              "      <th>y</th>\n",
              "    </tr>\n",
              "    <tr>\n",
              "      <th>dataset</th>\n",
              "      <th></th>\n",
              "      <th></th>\n",
              "      <th></th>\n",
              "    </tr>\n",
              "  </thead>\n",
              "  <tbody>\n",
              "    <tr>\n",
              "      <th rowspan=\"2\" valign=\"top\">I</th>\n",
              "      <th>x</th>\n",
              "      <td>1.000000</td>\n",
              "      <td>0.816421</td>\n",
              "    </tr>\n",
              "    <tr>\n",
              "      <th>y</th>\n",
              "      <td>0.816421</td>\n",
              "      <td>1.000000</td>\n",
              "    </tr>\n",
              "    <tr>\n",
              "      <th rowspan=\"2\" valign=\"top\">II</th>\n",
              "      <th>x</th>\n",
              "      <td>1.000000</td>\n",
              "      <td>0.816237</td>\n",
              "    </tr>\n",
              "    <tr>\n",
              "      <th>y</th>\n",
              "      <td>0.816237</td>\n",
              "      <td>1.000000</td>\n",
              "    </tr>\n",
              "    <tr>\n",
              "      <th rowspan=\"2\" valign=\"top\">III</th>\n",
              "      <th>x</th>\n",
              "      <td>1.000000</td>\n",
              "      <td>0.816287</td>\n",
              "    </tr>\n",
              "    <tr>\n",
              "      <th>y</th>\n",
              "      <td>0.816287</td>\n",
              "      <td>1.000000</td>\n",
              "    </tr>\n",
              "    <tr>\n",
              "      <th rowspan=\"2\" valign=\"top\">IV</th>\n",
              "      <th>x</th>\n",
              "      <td>1.000000</td>\n",
              "      <td>0.816521</td>\n",
              "    </tr>\n",
              "    <tr>\n",
              "      <th>y</th>\n",
              "      <td>0.816521</td>\n",
              "      <td>1.000000</td>\n",
              "    </tr>\n",
              "  </tbody>\n",
              "</table>\n",
              "</div>"
            ],
            "text/plain": [
              "                  x         y\n",
              "dataset                      \n",
              "I       x  1.000000  0.816421\n",
              "        y  0.816421  1.000000\n",
              "II      x  1.000000  0.816237\n",
              "        y  0.816237  1.000000\n",
              "III     x  1.000000  0.816287\n",
              "        y  0.816287  1.000000\n",
              "IV      x  1.000000  0.816521\n",
              "        y  0.816521  1.000000"
            ]
          },
          "metadata": {
            "tags": []
          },
          "execution_count": 25
        }
      ]
    },
    {
      "metadata": {
        "id": "NKasc9k4Hzuv",
        "colab_type": "code",
        "colab": {}
      },
      "cell_type": "code",
      "source": [
        ""
      ],
      "execution_count": 0,
      "outputs": []
    },
    {
      "metadata": {
        "colab_type": "text",
        "id": "wev2eLSsljbU"
      },
      "cell_type": "markdown",
      "source": [
        "### Use pandas to [plot](https://pandas.pydata.org/pandas-docs/stable/generated/pandas.DataFrame.plot.html) the groups, as scatter plots"
      ]
    },
    {
      "metadata": {
        "colab_type": "code",
        "id": "OV8_BNakljbV",
        "outputId": "374879f5-56d4-4b56-e4cc-6804587b77aa",
        "colab": {
          "base_uri": "https://localhost:8080/",
          "height": 1535
        }
      },
      "cell_type": "code",
      "source": [
        "df_gb.plot.scatter(x='x', y='y')"
      ],
      "execution_count": 0,
      "outputs": [
        {
          "output_type": "stream",
          "text": [
            "'c' argument looks like a single numeric RGB or RGBA sequence, which should be avoided as value-mapping will have precedence in case its length matches with 'x' & 'y'.  Please use a 2-D array with a single row if you really want to specify the same RGB or RGBA value for all points.\n",
            "'c' argument looks like a single numeric RGB or RGBA sequence, which should be avoided as value-mapping will have precedence in case its length matches with 'x' & 'y'.  Please use a 2-D array with a single row if you really want to specify the same RGB or RGBA value for all points.\n",
            "'c' argument looks like a single numeric RGB or RGBA sequence, which should be avoided as value-mapping will have precedence in case its length matches with 'x' & 'y'.  Please use a 2-D array with a single row if you really want to specify the same RGB or RGBA value for all points.\n",
            "'c' argument looks like a single numeric RGB or RGBA sequence, which should be avoided as value-mapping will have precedence in case its length matches with 'x' & 'y'.  Please use a 2-D array with a single row if you really want to specify the same RGB or RGBA value for all points.\n",
            "'c' argument looks like a single numeric RGB or RGBA sequence, which should be avoided as value-mapping will have precedence in case its length matches with 'x' & 'y'.  Please use a 2-D array with a single row if you really want to specify the same RGB or RGBA value for all points.\n"
          ],
          "name": "stderr"
        },
        {
          "output_type": "execute_result",
          "data": {
            "text/plain": [
              "dataset\n",
              "I      AxesSubplot(0.125,0.125;0.775x0.755)\n",
              "II     AxesSubplot(0.125,0.125;0.775x0.755)\n",
              "III    AxesSubplot(0.125,0.125;0.775x0.755)\n",
              "IV     AxesSubplot(0.125,0.125;0.775x0.755)\n",
              "dtype: object"
            ]
          },
          "metadata": {
            "tags": []
          },
          "execution_count": 26
        },
        {
          "output_type": "display_data",
          "data": {
            "image/png": "[encoded data removed]",
            "text/plain": [
              "<Figure size 432x288 with 1 Axes>"
            ]
          },
          "metadata": {
            "tags": []
          }
        },
        {
          "output_type": "display_data",
          "data": {
            "image/png": "[encoded data removed]",
            "text/plain": [
              "<Figure size 432x288 with 1 Axes>"
            ]
          },
          "metadata": {
            "tags": []
          }
        },
        {
          "output_type": "display_data",
          "data": {
            "image/png": "[encoded data removed]",
            "text/plain": [
              "<Figure size 432x288 with 1 Axes>"
            ]
          },
          "metadata": {
            "tags": []
          }
        },
        {
          "output_type": "display_data",
          "data": {
            "image/png": "[encoded data removed]",
            "text/plain": [
              "<Figure size 432x288 with 1 Axes>"
            ]
          },
          "metadata": {
            "tags": []
          }
        },
        {
          "output_type": "display_data",
          "data": {
            "image/png": "[encoded data removed]",
            "text/plain": [
              "<Figure size 432x288 with 1 Axes>"
            ]
          },
          "metadata": {
            "tags": []
          }
        }
      ]
    },
    {
      "metadata": {
        "colab_type": "text",
        "id": "aIZK7t3QljbX"
      },
      "cell_type": "markdown",
      "source": [
        "### Use Seaborn to make [relational plots](http://seaborn.pydata.org/generated/seaborn.relplot.html)"
      ]
    },
    {
      "metadata": {
        "colab_type": "code",
        "id": "VYwZwT85tggM",
        "outputId": "b66d3ad4-0cca-45cb-df81-e263b5b0e352",
        "colab": {
          "base_uri": "https://localhost:8080/",
          "height": 164
        }
      },
      "cell_type": "code",
      "source": [
        "sns.relplot(x='x', y='y', hue='dataset', col = 'dataset', data = df)"
      ],
      "execution_count": 0,
      "outputs": [
        {
          "output_type": "error",
          "ename": "AttributeError",
          "evalue": "ignored",
          "traceback": [
            "\u001b[0;31m---------------------------------------------------------------------------\u001b[0m",
            "\u001b[0;31mAttributeError\u001b[0m                            Traceback (most recent call last)",
            "\u001b[0;32m<ipython-input-27-eb70438e29ff>\u001b[0m in \u001b[0;36m<module>\u001b[0;34m()\u001b[0m\n\u001b[0;32m----> 1\u001b[0;31m \u001b[0msns\u001b[0m\u001b[0;34m.\u001b[0m\u001b[0mrelplot\u001b[0m\u001b[0;34m(\u001b[0m\u001b[0mx\u001b[0m\u001b[0;34m=\u001b[0m\u001b[0;34m'x'\u001b[0m\u001b[0;34m,\u001b[0m \u001b[0my\u001b[0m\u001b[0;34m=\u001b[0m\u001b[0;34m'y'\u001b[0m\u001b[0;34m,\u001b[0m \u001b[0mhue\u001b[0m\u001b[0;34m=\u001b[0m\u001b[0;34m'dataset'\u001b[0m\u001b[0;34m,\u001b[0m \u001b[0mcol\u001b[0m \u001b[0;34m=\u001b[0m \u001b[0;34m'dataset'\u001b[0m\u001b[0;34m,\u001b[0m \u001b[0mdata\u001b[0m \u001b[0;34m=\u001b[0m \u001b[0mdf\u001b[0m\u001b[0;34m)\u001b[0m\u001b[0;34m\u001b[0m\u001b[0;34m\u001b[0m\u001b[0m\n\u001b[0m",
            "\u001b[0;31mAttributeError\u001b[0m: module 'seaborn' has no attribute 'relplot'"
          ]
        }
      ]
    },
    {
      "metadata": {
        "colab_type": "text",
        "id": "7pC0xmYRljbZ"
      },
      "cell_type": "markdown",
      "source": [
        "### Use Seaborn to make [linear model plots](http://seaborn.pydata.org/generated/seaborn.lmplot.html)"
      ]
    },
    {
      "metadata": {
        "colab_type": "code",
        "id": "q0OUr1XytwG9",
        "colab": {}
      },
      "cell_type": "code",
      "source": [
        "sns.lmplot(x='x', y='y', col = 'dataset', data=df)"
      ],
      "execution_count": 0,
      "outputs": []
    },
    {
      "metadata": {
        "colab_type": "text",
        "id": "Cn-xMBPcljbc"
      },
      "cell_type": "markdown",
      "source": [
        "#### Links\n",
        "- [Seaborn examples: Anscombe's quartet](http://seaborn.pydata.org/examples/anscombes_quartet.html)\n",
        "- [Wikipedia: Anscombe's quartet](https://en.wikipedia.org/wiki/Anscombe%27s_quartet)\n",
        "- [The Datasaurus Dozen](https://www.autodeskresearch.com/publications/samestats)"
      ]
    },
    {
      "metadata": {
        "colab_type": "text",
        "id": "5vhSX9VJljbc"
      },
      "cell_type": "markdown",
      "source": [
        "## 2. Tips dataset"
      ]
    },
    {
      "metadata": {
        "colab_type": "text",
        "id": "tZrTgYtoljbc"
      },
      "cell_type": "markdown",
      "source": [
        "### Load dataset"
      ]
    },
    {
      "metadata": {
        "colab_type": "code",
        "id": "Ms3dbDMRljbd",
        "colab": {}
      },
      "cell_type": "code",
      "source": [
        "tips = sns.load_dataset('tips')\n",
        "tips.head(3)"
      ],
      "execution_count": 0,
      "outputs": []
    },
    {
      "metadata": {
        "colab_type": "text",
        "id": "YsR7xrSVljbe"
      },
      "cell_type": "markdown",
      "source": [
        "### See the data's shape"
      ]
    },
    {
      "metadata": {
        "colab_type": "code",
        "id": "vkd17Tv7ljbf",
        "colab": {}
      },
      "cell_type": "code",
      "source": [
        "tips.shape"
      ],
      "execution_count": 0,
      "outputs": []
    },
    {
      "metadata": {
        "colab_type": "text",
        "id": "gRlUBLZEljbg"
      },
      "cell_type": "markdown",
      "source": [
        "### See the first 5 rows"
      ]
    },
    {
      "metadata": {
        "colab_type": "code",
        "id": "tSi2F9ZHljbg",
        "colab": {}
      },
      "cell_type": "code",
      "source": [
        "tips.head()"
      ],
      "execution_count": 0,
      "outputs": []
    },
    {
      "metadata": {
        "colab_type": "text",
        "id": "sdGGrpdsljbi"
      },
      "cell_type": "markdown",
      "source": [
        "### Describe the data"
      ]
    },
    {
      "metadata": {
        "colab_type": "code",
        "id": "NvwPj20Qljbi",
        "colab": {}
      },
      "cell_type": "code",
      "source": [
        "tips.describe()"
      ],
      "execution_count": 0,
      "outputs": []
    },
    {
      "metadata": {
        "colab_type": "text",
        "id": "TDoUKNB4ljbk"
      },
      "cell_type": "markdown",
      "source": [
        "### Make univariate [distribution plots](https://seaborn.pydata.org/generated/seaborn.distplot.html)"
      ]
    },
    {
      "metadata": {
        "colab_type": "code",
        "id": "GL7qCnO1PRbM",
        "colab": {}
      },
      "cell_type": "code",
      "source": [
        "sns.distplot(a=tips['total_bill'], bins=10)"
      ],
      "execution_count": 0,
      "outputs": []
    },
    {
      "metadata": {
        "id": "mgDAUranMJmt",
        "colab_type": "code",
        "colab": {}
      },
      "cell_type": "code",
      "source": [
        "tips.sex.replace('Male', 0, inplace=True)\n",
        "tips.sex.replace('Female', 1, inplace=True)\n"
      ],
      "execution_count": 0,
      "outputs": []
    },
    {
      "metadata": {
        "id": "xEbEBGcPLqo2",
        "colab_type": "code",
        "colab": {}
      },
      "cell_type": "code",
      "source": [
        "sns.distplot(tips['sex'])"
      ],
      "execution_count": 0,
      "outputs": []
    },
    {
      "metadata": {
        "colab_type": "text",
        "id": "0N-6Munnljbm"
      },
      "cell_type": "markdown",
      "source": [
        "### Make bivariate [relational plots](https://seaborn.pydata.org/generated/seaborn.relplot.html)"
      ]
    },
    {
      "metadata": {
        "colab_type": "code",
        "id": "AVWSHwa9PT1y",
        "colab": {}
      },
      "cell_type": "code",
      "source": [
        "sns.relplot(x='total_bill', y='tip', hue='sex', data=tips)"
      ],
      "execution_count": 0,
      "outputs": []
    },
    {
      "metadata": {
        "colab_type": "text",
        "id": "7Ug5vyBlljbp"
      },
      "cell_type": "markdown",
      "source": [
        "### Make univariate [categorical plots](https://seaborn.pydata.org/generated/seaborn.catplot.html)"
      ]
    },
    {
      "metadata": {
        "colab_type": "code",
        "id": "0FdkIBUjPWLg",
        "colab": {}
      },
      "cell_type": "code",
      "source": [
        "sns.catplot(x='size', data=tips, hue = 'sex')"
      ],
      "execution_count": 0,
      "outputs": []
    },
    {
      "metadata": {
        "id": "dSResXD-QjR3",
        "colab_type": "code",
        "colab": {}
      },
      "cell_type": "code",
      "source": [
        "tips.head(4)"
      ],
      "execution_count": 0,
      "outputs": []
    },
    {
      "metadata": {
        "colab_type": "text",
        "id": "Ftchuwrgljbs"
      },
      "cell_type": "markdown",
      "source": [
        "### Make bivariate [categorical plots](https://seaborn.pydata.org/generated/seaborn.catplot.html)"
      ]
    },
    {
      "metadata": {
        "id": "lcFXvqpyRGLS",
        "colab_type": "code",
        "colab": {}
      },
      "cell_type": "code",
      "source": [
        "tips['bins'] = pd.cut(tips['total_bill'], 10)\n",
        "tips"
      ],
      "execution_count": 0,
      "outputs": []
    },
    {
      "metadata": {
        "colab_type": "code",
        "id": "yIGQcgB0PZnk",
        "colab": {}
      },
      "cell_type": "code",
      "source": [
        "sns.lmplot(x= 'total_bill',\n",
        "            y='tip',\n",
        "            data=tips,\n",
        "            col='time',\n",
        "            hue = 'sex')"
      ],
      "execution_count": 0,
      "outputs": []
    },
    {
      "metadata": {
        "colab_type": "text",
        "id": "FFWkWusYljbt"
      },
      "cell_type": "markdown",
      "source": [
        "## 3. Flights"
      ]
    },
    {
      "metadata": {
        "colab_type": "text",
        "id": "A9uGFj7fljbu"
      },
      "cell_type": "markdown",
      "source": [
        "### Load dataset"
      ]
    },
    {
      "metadata": {
        "colab_type": "code",
        "id": "x9Pd0h0_ljbu",
        "colab": {}
      },
      "cell_type": "code",
      "source": [
        "flights = sns.load_dataset('flights')"
      ],
      "execution_count": 0,
      "outputs": []
    },
    {
      "metadata": {
        "colab_type": "text",
        "id": "TqUSgAUcljbx"
      },
      "cell_type": "markdown",
      "source": [
        "### See the data's shape"
      ]
    },
    {
      "metadata": {
        "colab_type": "code",
        "id": "5WELCrPPljbx",
        "outputId": "50aae775-b765-4081-f12b-8f7cb871cfba",
        "colab": {
          "base_uri": "https://localhost:8080/",
          "height": 34
        }
      },
      "cell_type": "code",
      "source": [
        "flights.shape"
      ],
      "execution_count": 67,
      "outputs": [
        {
          "output_type": "execute_result",
          "data": {
            "text/plain": [
              "(144, 3)"
            ]
          },
          "metadata": {
            "tags": []
          },
          "execution_count": 67
        }
      ]
    },
    {
      "metadata": {
        "colab_type": "text",
        "id": "47WxnyjCljby"
      },
      "cell_type": "markdown",
      "source": [
        "### See the first 5 rows"
      ]
    },
    {
      "metadata": {
        "colab_type": "code",
        "id": "xCREANeJljby",
        "outputId": "d9c02510-051b-4461-e495-770ee1cd6aad",
        "colab": {
          "base_uri": "https://localhost:8080/",
          "height": 204
        }
      },
      "cell_type": "code",
      "source": [
        "flights.head()"
      ],
      "execution_count": 68,
      "outputs": [
        {
          "output_type": "execute_result",
          "data": {
            "text/html": [
              "<div>\n",
              "<style scoped>\n",
              "    .dataframe tbody tr th:only-of-type {\n",
              "        vertical-align: middle;\n",
              "    }\n",
              "\n",
              "    .dataframe tbody tr th {\n",
              "        vertical-align: top;\n",
              "    }\n",
              "\n",
              "    .dataframe thead th {\n",
              "        text-align: right;\n",
              "    }\n",
              "</style>\n",
              "<table border=\"1\" class=\"dataframe\">\n",
              "  <thead>\n",
              "    <tr style=\"text-align: right;\">\n",
              "      <th></th>\n",
              "      <th>year</th>\n",
              "      <th>month</th>\n",
              "      <th>passengers</th>\n",
              "    </tr>\n",
              "  </thead>\n",
              "  <tbody>\n",
              "    <tr>\n",
              "      <th>0</th>\n",
              "      <td>1949</td>\n",
              "      <td>January</td>\n",
              "      <td>112</td>\n",
              "    </tr>\n",
              "    <tr>\n",
              "      <th>1</th>\n",
              "      <td>1949</td>\n",
              "      <td>February</td>\n",
              "      <td>118</td>\n",
              "    </tr>\n",
              "    <tr>\n",
              "      <th>2</th>\n",
              "      <td>1949</td>\n",
              "      <td>March</td>\n",
              "      <td>132</td>\n",
              "    </tr>\n",
              "    <tr>\n",
              "      <th>3</th>\n",
              "      <td>1949</td>\n",
              "      <td>April</td>\n",
              "      <td>129</td>\n",
              "    </tr>\n",
              "    <tr>\n",
              "      <th>4</th>\n",
              "      <td>1949</td>\n",
              "      <td>May</td>\n",
              "      <td>121</td>\n",
              "    </tr>\n",
              "  </tbody>\n",
              "</table>\n",
              "</div>"
            ],
            "text/plain": [
              "   year     month  passengers\n",
              "0  1949   January         112\n",
              "1  1949  February         118\n",
              "2  1949     March         132\n",
              "3  1949     April         129\n",
              "4  1949       May         121"
            ]
          },
          "metadata": {
            "tags": []
          },
          "execution_count": 68
        }
      ]
    },
    {
      "metadata": {
        "colab_type": "text",
        "id": "eUc_48wbljb0"
      },
      "cell_type": "markdown",
      "source": [
        "### Describe the data"
      ]
    },
    {
      "metadata": {
        "colab_type": "code",
        "id": "rA0xTMd7ljb0",
        "outputId": "f934e5d7-4dac-4e9e-86b4-b55ea6ec3ada",
        "colab": {
          "base_uri": "https://localhost:8080/",
          "height": 297
        }
      },
      "cell_type": "code",
      "source": [
        "flights.describe()"
      ],
      "execution_count": 69,
      "outputs": [
        {
          "output_type": "execute_result",
          "data": {
            "text/html": [
              "<div>\n",
              "<style scoped>\n",
              "    .dataframe tbody tr th:only-of-type {\n",
              "        vertical-align: middle;\n",
              "    }\n",
              "\n",
              "    .dataframe tbody tr th {\n",
              "        vertical-align: top;\n",
              "    }\n",
              "\n",
              "    .dataframe thead th {\n",
              "        text-align: right;\n",
              "    }\n",
              "</style>\n",
              "<table border=\"1\" class=\"dataframe\">\n",
              "  <thead>\n",
              "    <tr style=\"text-align: right;\">\n",
              "      <th></th>\n",
              "      <th>year</th>\n",
              "      <th>passengers</th>\n",
              "    </tr>\n",
              "  </thead>\n",
              "  <tbody>\n",
              "    <tr>\n",
              "      <th>count</th>\n",
              "      <td>144.000000</td>\n",
              "      <td>144.000000</td>\n",
              "    </tr>\n",
              "    <tr>\n",
              "      <th>mean</th>\n",
              "      <td>1954.500000</td>\n",
              "      <td>280.298611</td>\n",
              "    </tr>\n",
              "    <tr>\n",
              "      <th>std</th>\n",
              "      <td>3.464102</td>\n",
              "      <td>119.966317</td>\n",
              "    </tr>\n",
              "    <tr>\n",
              "      <th>min</th>\n",
              "      <td>1949.000000</td>\n",
              "      <td>104.000000</td>\n",
              "    </tr>\n",
              "    <tr>\n",
              "      <th>25%</th>\n",
              "      <td>1951.750000</td>\n",
              "      <td>180.000000</td>\n",
              "    </tr>\n",
              "    <tr>\n",
              "      <th>50%</th>\n",
              "      <td>1954.500000</td>\n",
              "      <td>265.500000</td>\n",
              "    </tr>\n",
              "    <tr>\n",
              "      <th>75%</th>\n",
              "      <td>1957.250000</td>\n",
              "      <td>360.500000</td>\n",
              "    </tr>\n",
              "    <tr>\n",
              "      <th>max</th>\n",
              "      <td>1960.000000</td>\n",
              "      <td>622.000000</td>\n",
              "    </tr>\n",
              "  </tbody>\n",
              "</table>\n",
              "</div>"
            ],
            "text/plain": [
              "              year  passengers\n",
              "count   144.000000  144.000000\n",
              "mean   1954.500000  280.298611\n",
              "std       3.464102  119.966317\n",
              "min    1949.000000  104.000000\n",
              "25%    1951.750000  180.000000\n",
              "50%    1954.500000  265.500000\n",
              "75%    1957.250000  360.500000\n",
              "max    1960.000000  622.000000"
            ]
          },
          "metadata": {
            "tags": []
          },
          "execution_count": 69
        }
      ]
    },
    {
      "metadata": {
        "colab_type": "text",
        "id": "Pwg0lL5Lljb2"
      },
      "cell_type": "markdown",
      "source": [
        "### Plot year & passengers"
      ]
    },
    {
      "metadata": {
        "colab_type": "code",
        "id": "o2reqC4Eljb2",
        "outputId": "ff70b7ec-66e7-426e-992d-504ab4f3e9f7",
        "colab": {
          "base_uri": "https://localhost:8080/",
          "height": 333
        }
      },
      "cell_type": "code",
      "source": [
        "\n",
        "flights.plot.scatter(x= 'year', y='passengers')"
      ],
      "execution_count": 70,
      "outputs": [
        {
          "output_type": "stream",
          "text": [
            "'c' argument looks like a single numeric RGB or RGBA sequence, which should be avoided as value-mapping will have precedence in case its length matches with 'x' & 'y'.  Please use a 2-D array with a single row if you really want to specify the same RGB or RGBA value for all points.\n"
          ],
          "name": "stderr"
        },
        {
          "output_type": "execute_result",
          "data": {
            "text/plain": [
              "<matplotlib.axes._subplots.AxesSubplot at 0x7f27af48ef98>"
            ]
          },
          "metadata": {
            "tags": []
          },
          "execution_count": 70
        },
        {
          "output_type": "display_data",
          "data": {
            "image/png": "[encoded data removed]",
            "text/plain": [
              "<Figure size 432x288 with 1 Axes>"
            ]
          },
          "metadata": {
            "tags": []
          }
        }
      ]
    },
    {
      "metadata": {
        "colab_type": "text",
        "id": "g1TKShQ2ljb4"
      },
      "cell_type": "markdown",
      "source": [
        "### Plot month & passengers"
      ]
    },
    {
      "metadata": {
        "colab_type": "code",
        "id": "Le0Tc5SDwoHk",
        "colab": {
          "base_uri": "https://localhost:8080/",
          "height": 335
        },
        "outputId": "b53e3adb-346d-4c6d-8f24-765b7ff8db23"
      },
      "cell_type": "code",
      "source": [
        "import matplotlib.pyplot as plt\n",
        "flights_gb2 = flights.groupby('month')['passengers'].count()\n",
        "flights_gb2\n",
        "flights_gb2.plot(kind='bar')\n",
        "\n"
      ],
      "execution_count": 94,
      "outputs": [
        {
          "output_type": "execute_result",
          "data": {
            "text/plain": [
              "<matplotlib.axes._subplots.AxesSubplot at 0x7f27ad954c88>"
            ]
          },
          "metadata": {
            "tags": []
          },
          "execution_count": 94
        },
        {
          "output_type": "display_data",
          "data": {
            "image/png": "[encoded data removed]",
            "text/plain": [
              "<Figure size 432x288 with 1 Axes>"
            ]
          },
          "metadata": {
            "tags": []
          }
        }
      ]
    },
    {
      "metadata": {
        "id": "4D4YpicJ3UHW",
        "colab_type": "code",
        "colab": {
          "base_uri": "https://localhost:8080/",
          "height": 1088
        },
        "outputId": "832738ed-70a5-475f-85a3-bb623989ca37"
      },
      "cell_type": "code",
      "source": [
        "flights['month']"
      ],
      "execution_count": 73,
      "outputs": [
        {
          "output_type": "execute_result",
          "data": {
            "text/plain": [
              "0        January\n",
              "1       February\n",
              "2          March\n",
              "3          April\n",
              "4            May\n",
              "5           June\n",
              "6           July\n",
              "7         August\n",
              "8      September\n",
              "9        October\n",
              "10      November\n",
              "11      December\n",
              "12       January\n",
              "13      February\n",
              "14         March\n",
              "15         April\n",
              "16           May\n",
              "17          June\n",
              "18          July\n",
              "19        August\n",
              "20     September\n",
              "21       October\n",
              "22      November\n",
              "23      December\n",
              "24       January\n",
              "25      February\n",
              "26         March\n",
              "27         April\n",
              "28           May\n",
              "29          June\n",
              "         ...    \n",
              "114         July\n",
              "115       August\n",
              "116    September\n",
              "117      October\n",
              "118     November\n",
              "119     December\n",
              "120      January\n",
              "121     February\n",
              "122        March\n",
              "123        April\n",
              "124          May\n",
              "125         June\n",
              "126         July\n",
              "127       August\n",
              "128    September\n",
              "129      October\n",
              "130     November\n",
              "131     December\n",
              "132      January\n",
              "133     February\n",
              "134        March\n",
              "135        April\n",
              "136          May\n",
              "137         June\n",
              "138         July\n",
              "139       August\n",
              "140    September\n",
              "141      October\n",
              "142     November\n",
              "143     December\n",
              "Name: month, Length: 144, dtype: category\n",
              "Categories (12, object): [January, February, March, April, ..., September, October, November, December]"
            ]
          },
          "metadata": {
            "tags": []
          },
          "execution_count": 73
        }
      ]
    },
    {
      "metadata": {
        "id": "et9SIvFg237t",
        "colab_type": "code",
        "colab": {
          "base_uri": "https://localhost:8080/",
          "height": 452
        },
        "outputId": "74f50d7f-6900-4b2d-de62-411ebdde97f4"
      },
      "cell_type": "code",
      "source": [
        "flights"
      ],
      "execution_count": 65,
      "outputs": [
        {
          "output_type": "execute_result",
          "data": {
            "text/html": [
              "<div>\n",
              "<style scoped>\n",
              "    .dataframe tbody tr th:only-of-type {\n",
              "        vertical-align: middle;\n",
              "    }\n",
              "\n",
              "    .dataframe tbody tr th {\n",
              "        vertical-align: top;\n",
              "    }\n",
              "\n",
              "    .dataframe thead th {\n",
              "        text-align: right;\n",
              "    }\n",
              "</style>\n",
              "<table border=\"1\" class=\"dataframe\">\n",
              "  <thead>\n",
              "    <tr style=\"text-align: right;\">\n",
              "      <th>month</th>\n",
              "      <th>January</th>\n",
              "      <th>February</th>\n",
              "      <th>March</th>\n",
              "      <th>April</th>\n",
              "      <th>May</th>\n",
              "      <th>June</th>\n",
              "      <th>July</th>\n",
              "      <th>August</th>\n",
              "      <th>September</th>\n",
              "      <th>October</th>\n",
              "      <th>November</th>\n",
              "      <th>December</th>\n",
              "    </tr>\n",
              "    <tr>\n",
              "      <th>year</th>\n",
              "      <th></th>\n",
              "      <th></th>\n",
              "      <th></th>\n",
              "      <th></th>\n",
              "      <th></th>\n",
              "      <th></th>\n",
              "      <th></th>\n",
              "      <th></th>\n",
              "      <th></th>\n",
              "      <th></th>\n",
              "      <th></th>\n",
              "      <th></th>\n",
              "    </tr>\n",
              "  </thead>\n",
              "  <tbody>\n",
              "    <tr>\n",
              "      <th>1949</th>\n",
              "      <td>112</td>\n",
              "      <td>118</td>\n",
              "      <td>132</td>\n",
              "      <td>129</td>\n",
              "      <td>121</td>\n",
              "      <td>135</td>\n",
              "      <td>148</td>\n",
              "      <td>148</td>\n",
              "      <td>136</td>\n",
              "      <td>119</td>\n",
              "      <td>104</td>\n",
              "      <td>118</td>\n",
              "    </tr>\n",
              "    <tr>\n",
              "      <th>1950</th>\n",
              "      <td>115</td>\n",
              "      <td>126</td>\n",
              "      <td>141</td>\n",
              "      <td>135</td>\n",
              "      <td>125</td>\n",
              "      <td>149</td>\n",
              "      <td>170</td>\n",
              "      <td>170</td>\n",
              "      <td>158</td>\n",
              "      <td>133</td>\n",
              "      <td>114</td>\n",
              "      <td>140</td>\n",
              "    </tr>\n",
              "    <tr>\n",
              "      <th>1951</th>\n",
              "      <td>145</td>\n",
              "      <td>150</td>\n",
              "      <td>178</td>\n",
              "      <td>163</td>\n",
              "      <td>172</td>\n",
              "      <td>178</td>\n",
              "      <td>199</td>\n",
              "      <td>199</td>\n",
              "      <td>184</td>\n",
              "      <td>162</td>\n",
              "      <td>146</td>\n",
              "      <td>166</td>\n",
              "    </tr>\n",
              "    <tr>\n",
              "      <th>1952</th>\n",
              "      <td>171</td>\n",
              "      <td>180</td>\n",
              "      <td>193</td>\n",
              "      <td>181</td>\n",
              "      <td>183</td>\n",
              "      <td>218</td>\n",
              "      <td>230</td>\n",
              "      <td>242</td>\n",
              "      <td>209</td>\n",
              "      <td>191</td>\n",
              "      <td>172</td>\n",
              "      <td>194</td>\n",
              "    </tr>\n",
              "    <tr>\n",
              "      <th>1953</th>\n",
              "      <td>196</td>\n",
              "      <td>196</td>\n",
              "      <td>236</td>\n",
              "      <td>235</td>\n",
              "      <td>229</td>\n",
              "      <td>243</td>\n",
              "      <td>264</td>\n",
              "      <td>272</td>\n",
              "      <td>237</td>\n",
              "      <td>211</td>\n",
              "      <td>180</td>\n",
              "      <td>201</td>\n",
              "    </tr>\n",
              "    <tr>\n",
              "      <th>1954</th>\n",
              "      <td>204</td>\n",
              "      <td>188</td>\n",
              "      <td>235</td>\n",
              "      <td>227</td>\n",
              "      <td>234</td>\n",
              "      <td>264</td>\n",
              "      <td>302</td>\n",
              "      <td>293</td>\n",
              "      <td>259</td>\n",
              "      <td>229</td>\n",
              "      <td>203</td>\n",
              "      <td>229</td>\n",
              "    </tr>\n",
              "    <tr>\n",
              "      <th>1955</th>\n",
              "      <td>242</td>\n",
              "      <td>233</td>\n",
              "      <td>267</td>\n",
              "      <td>269</td>\n",
              "      <td>270</td>\n",
              "      <td>315</td>\n",
              "      <td>364</td>\n",
              "      <td>347</td>\n",
              "      <td>312</td>\n",
              "      <td>274</td>\n",
              "      <td>237</td>\n",
              "      <td>278</td>\n",
              "    </tr>\n",
              "    <tr>\n",
              "      <th>1956</th>\n",
              "      <td>284</td>\n",
              "      <td>277</td>\n",
              "      <td>317</td>\n",
              "      <td>313</td>\n",
              "      <td>318</td>\n",
              "      <td>374</td>\n",
              "      <td>413</td>\n",
              "      <td>405</td>\n",
              "      <td>355</td>\n",
              "      <td>306</td>\n",
              "      <td>271</td>\n",
              "      <td>306</td>\n",
              "    </tr>\n",
              "    <tr>\n",
              "      <th>1957</th>\n",
              "      <td>315</td>\n",
              "      <td>301</td>\n",
              "      <td>356</td>\n",
              "      <td>348</td>\n",
              "      <td>355</td>\n",
              "      <td>422</td>\n",
              "      <td>465</td>\n",
              "      <td>467</td>\n",
              "      <td>404</td>\n",
              "      <td>347</td>\n",
              "      <td>305</td>\n",
              "      <td>336</td>\n",
              "    </tr>\n",
              "    <tr>\n",
              "      <th>1958</th>\n",
              "      <td>340</td>\n",
              "      <td>318</td>\n",
              "      <td>362</td>\n",
              "      <td>348</td>\n",
              "      <td>363</td>\n",
              "      <td>435</td>\n",
              "      <td>491</td>\n",
              "      <td>505</td>\n",
              "      <td>404</td>\n",
              "      <td>359</td>\n",
              "      <td>310</td>\n",
              "      <td>337</td>\n",
              "    </tr>\n",
              "    <tr>\n",
              "      <th>1959</th>\n",
              "      <td>360</td>\n",
              "      <td>342</td>\n",
              "      <td>406</td>\n",
              "      <td>396</td>\n",
              "      <td>420</td>\n",
              "      <td>472</td>\n",
              "      <td>548</td>\n",
              "      <td>559</td>\n",
              "      <td>463</td>\n",
              "      <td>407</td>\n",
              "      <td>362</td>\n",
              "      <td>405</td>\n",
              "    </tr>\n",
              "    <tr>\n",
              "      <th>1960</th>\n",
              "      <td>417</td>\n",
              "      <td>391</td>\n",
              "      <td>419</td>\n",
              "      <td>461</td>\n",
              "      <td>472</td>\n",
              "      <td>535</td>\n",
              "      <td>622</td>\n",
              "      <td>606</td>\n",
              "      <td>508</td>\n",
              "      <td>461</td>\n",
              "      <td>390</td>\n",
              "      <td>432</td>\n",
              "    </tr>\n",
              "  </tbody>\n",
              "</table>\n",
              "</div>"
            ],
            "text/plain": [
              "month  January  February  March  April  May  June  July  August  September  \\\n",
              "year                                                                         \n",
              "1949       112       118    132    129  121   135   148     148        136   \n",
              "1950       115       126    141    135  125   149   170     170        158   \n",
              "1951       145       150    178    163  172   178   199     199        184   \n",
              "1952       171       180    193    181  183   218   230     242        209   \n",
              "1953       196       196    236    235  229   243   264     272        237   \n",
              "1954       204       188    235    227  234   264   302     293        259   \n",
              "1955       242       233    267    269  270   315   364     347        312   \n",
              "1956       284       277    317    313  318   374   413     405        355   \n",
              "1957       315       301    356    348  355   422   465     467        404   \n",
              "1958       340       318    362    348  363   435   491     505        404   \n",
              "1959       360       342    406    396  420   472   548     559        463   \n",
              "1960       417       391    419    461  472   535   622     606        508   \n",
              "\n",
              "month  October  November  December  \n",
              "year                                \n",
              "1949       119       104       118  \n",
              "1950       133       114       140  \n",
              "1951       162       146       166  \n",
              "1952       191       172       194  \n",
              "1953       211       180       201  \n",
              "1954       229       203       229  \n",
              "1955       274       237       278  \n",
              "1956       306       271       306  \n",
              "1957       347       305       336  \n",
              "1958       359       310       337  \n",
              "1959       407       362       405  \n",
              "1960       461       390       432  "
            ]
          },
          "metadata": {
            "tags": []
          },
          "execution_count": 65
        }
      ]
    },
    {
      "metadata": {
        "id": "eJjCFYtc1y7N",
        "colab_type": "code",
        "colab": {
          "base_uri": "https://localhost:8080/",
          "height": 1340
        },
        "outputId": "38446ef0-a035-4c7d-91c4-d0ff5a8a9428"
      },
      "cell_type": "code",
      "source": [
        "plt.hist(flights['month']).count"
      ],
      "execution_count": 60,
      "outputs": [
        {
          "output_type": "error",
          "ename": "KeyError",
          "evalue": "ignored",
          "traceback": [
            "\u001b[0;31m---------------------------------------------------------------------------\u001b[0m",
            "\u001b[0;31mKeyError\u001b[0m                                  Traceback (most recent call last)",
            "\u001b[0;32m/usr/local/lib/python3.6/dist-packages/pandas/core/indexes/base.py\u001b[0m in \u001b[0;36mget_loc\u001b[0;34m(self, key, method, tolerance)\u001b[0m\n\u001b[1;32m   2524\u001b[0m             \u001b[0;32mtry\u001b[0m\u001b[0;34m:\u001b[0m\u001b[0;34m\u001b[0m\u001b[0;34m\u001b[0m\u001b[0m\n\u001b[0;32m-> 2525\u001b[0;31m                 \u001b[0;32mreturn\u001b[0m \u001b[0mself\u001b[0m\u001b[0;34m.\u001b[0m\u001b[0m_engine\u001b[0m\u001b[0;34m.\u001b[0m\u001b[0mget_loc\u001b[0m\u001b[0;34m(\u001b[0m\u001b[0mkey\u001b[0m\u001b[0;34m)\u001b[0m\u001b[0;34m\u001b[0m\u001b[0;34m\u001b[0m\u001b[0m\n\u001b[0m\u001b[1;32m   2526\u001b[0m             \u001b[0;32mexcept\u001b[0m \u001b[0mKeyError\u001b[0m\u001b[0;34m:\u001b[0m\u001b[0;34m\u001b[0m\u001b[0;34m\u001b[0m\u001b[0m\n",
            "\u001b[0;32mpandas/_libs/index.pyx\u001b[0m in \u001b[0;36mpandas._libs.index.IndexEngine.get_loc\u001b[0;34m()\u001b[0m\n",
            "\u001b[0;32mpandas/_libs/index.pyx\u001b[0m in \u001b[0;36mpandas._libs.index.IndexEngine.get_loc\u001b[0;34m()\u001b[0m\n",
            "\u001b[0;32mpandas/_libs/hashtable_class_helper.pxi\u001b[0m in \u001b[0;36mpandas._libs.hashtable.PyObjectHashTable.get_item\u001b[0;34m()\u001b[0m\n",
            "\u001b[0;32mpandas/_libs/hashtable_class_helper.pxi\u001b[0m in \u001b[0;36mpandas._libs.hashtable.PyObjectHashTable.get_item\u001b[0;34m()\u001b[0m\n",
            "\u001b[0;31mKeyError\u001b[0m: 'month'",
            "\nDuring handling of the above exception, another exception occurred:\n",
            "\u001b[0;31mKeyError\u001b[0m                                  Traceback (most recent call last)",
            "\u001b[0;32m<ipython-input-60-88feccb8a78a>\u001b[0m in \u001b[0;36m<module>\u001b[0;34m()\u001b[0m\n\u001b[0;32m----> 1\u001b[0;31m \u001b[0mplt\u001b[0m\u001b[0;34m.\u001b[0m\u001b[0mhist\u001b[0m\u001b[0;34m(\u001b[0m\u001b[0mflights\u001b[0m\u001b[0;34m[\u001b[0m\u001b[0;34m'month'\u001b[0m\u001b[0;34m]\u001b[0m\u001b[0;34m)\u001b[0m\u001b[0;34m.\u001b[0m\u001b[0mcount\u001b[0m\u001b[0;34m\u001b[0m\u001b[0;34m\u001b[0m\u001b[0m\n\u001b[0m",
            "\u001b[0;32m/usr/local/lib/python3.6/dist-packages/pandas/core/frame.py\u001b[0m in \u001b[0;36m__getitem__\u001b[0;34m(self, key)\u001b[0m\n\u001b[1;32m   2137\u001b[0m             \u001b[0;32mreturn\u001b[0m \u001b[0mself\u001b[0m\u001b[0;34m.\u001b[0m\u001b[0m_getitem_multilevel\u001b[0m\u001b[0;34m(\u001b[0m\u001b[0mkey\u001b[0m\u001b[0;34m)\u001b[0m\u001b[0;34m\u001b[0m\u001b[0;34m\u001b[0m\u001b[0m\n\u001b[1;32m   2138\u001b[0m         \u001b[0;32melse\u001b[0m\u001b[0;34m:\u001b[0m\u001b[0;34m\u001b[0m\u001b[0;34m\u001b[0m\u001b[0m\n\u001b[0;32m-> 2139\u001b[0;31m             \u001b[0;32mreturn\u001b[0m \u001b[0mself\u001b[0m\u001b[0;34m.\u001b[0m\u001b[0m_getitem_column\u001b[0m\u001b[0;34m(\u001b[0m\u001b[0mkey\u001b[0m\u001b[0;34m)\u001b[0m\u001b[0;34m\u001b[0m\u001b[0;34m\u001b[0m\u001b[0m\n\u001b[0m\u001b[1;32m   2140\u001b[0m \u001b[0;34m\u001b[0m\u001b[0m\n\u001b[1;32m   2141\u001b[0m     \u001b[0;32mdef\u001b[0m \u001b[0m_getitem_column\u001b[0m\u001b[0;34m(\u001b[0m\u001b[0mself\u001b[0m\u001b[0;34m,\u001b[0m \u001b[0mkey\u001b[0m\u001b[0;34m)\u001b[0m\u001b[0;34m:\u001b[0m\u001b[0;34m\u001b[0m\u001b[0;34m\u001b[0m\u001b[0m\n",
            "\u001b[0;32m/usr/local/lib/python3.6/dist-packages/pandas/core/frame.py\u001b[0m in \u001b[0;36m_getitem_column\u001b[0;34m(self, key)\u001b[0m\n\u001b[1;32m   2144\u001b[0m         \u001b[0;31m# get column\u001b[0m\u001b[0;34m\u001b[0m\u001b[0;34m\u001b[0m\u001b[0;34m\u001b[0m\u001b[0m\n\u001b[1;32m   2145\u001b[0m         \u001b[0;32mif\u001b[0m \u001b[0mself\u001b[0m\u001b[0;34m.\u001b[0m\u001b[0mcolumns\u001b[0m\u001b[0;34m.\u001b[0m\u001b[0mis_unique\u001b[0m\u001b[0;34m:\u001b[0m\u001b[0;34m\u001b[0m\u001b[0;34m\u001b[0m\u001b[0m\n\u001b[0;32m-> 2146\u001b[0;31m             \u001b[0;32mreturn\u001b[0m \u001b[0mself\u001b[0m\u001b[0;34m.\u001b[0m\u001b[0m_get_item_cache\u001b[0m\u001b[0;34m(\u001b[0m\u001b[0mkey\u001b[0m\u001b[0;34m)\u001b[0m\u001b[0;34m\u001b[0m\u001b[0;34m\u001b[0m\u001b[0m\n\u001b[0m\u001b[1;32m   2147\u001b[0m \u001b[0;34m\u001b[0m\u001b[0m\n\u001b[1;32m   2148\u001b[0m         \u001b[0;31m# duplicate columns & possible reduce dimensionality\u001b[0m\u001b[0;34m\u001b[0m\u001b[0;34m\u001b[0m\u001b[0;34m\u001b[0m\u001b[0m\n",
            "\u001b[0;32m/usr/local/lib/python3.6/dist-packages/pandas/core/generic.py\u001b[0m in \u001b[0;36m_get_item_cache\u001b[0;34m(self, item)\u001b[0m\n\u001b[1;32m   1840\u001b[0m         \u001b[0mres\u001b[0m \u001b[0;34m=\u001b[0m \u001b[0mcache\u001b[0m\u001b[0;34m.\u001b[0m\u001b[0mget\u001b[0m\u001b[0;34m(\u001b[0m\u001b[0mitem\u001b[0m\u001b[0;34m)\u001b[0m\u001b[0;34m\u001b[0m\u001b[0;34m\u001b[0m\u001b[0m\n\u001b[1;32m   1841\u001b[0m         \u001b[0;32mif\u001b[0m \u001b[0mres\u001b[0m \u001b[0;32mis\u001b[0m \u001b[0;32mNone\u001b[0m\u001b[0;34m:\u001b[0m\u001b[0;34m\u001b[0m\u001b[0;34m\u001b[0m\u001b[0m\n\u001b[0;32m-> 1842\u001b[0;31m             \u001b[0mvalues\u001b[0m \u001b[0;34m=\u001b[0m \u001b[0mself\u001b[0m\u001b[0;34m.\u001b[0m\u001b[0m_data\u001b[0m\u001b[0;34m.\u001b[0m\u001b[0mget\u001b[0m\u001b[0;34m(\u001b[0m\u001b[0mitem\u001b[0m\u001b[0;34m)\u001b[0m\u001b[0;34m\u001b[0m\u001b[0;34m\u001b[0m\u001b[0m\n\u001b[0m\u001b[1;32m   1843\u001b[0m             \u001b[0mres\u001b[0m \u001b[0;34m=\u001b[0m \u001b[0mself\u001b[0m\u001b[0;34m.\u001b[0m\u001b[0m_box_item_values\u001b[0m\u001b[0;34m(\u001b[0m\u001b[0mitem\u001b[0m\u001b[0;34m,\u001b[0m \u001b[0mvalues\u001b[0m\u001b[0;34m)\u001b[0m\u001b[0;34m\u001b[0m\u001b[0;34m\u001b[0m\u001b[0m\n\u001b[1;32m   1844\u001b[0m             \u001b[0mcache\u001b[0m\u001b[0;34m[\u001b[0m\u001b[0mitem\u001b[0m\u001b[0;34m]\u001b[0m \u001b[0;34m=\u001b[0m \u001b[0mres\u001b[0m\u001b[0;34m\u001b[0m\u001b[0;34m\u001b[0m\u001b[0m\n",
            "\u001b[0;32m/usr/local/lib/python3.6/dist-packages/pandas/core/internals.py\u001b[0m in \u001b[0;36mget\u001b[0;34m(self, item, fastpath)\u001b[0m\n\u001b[1;32m   3841\u001b[0m \u001b[0;34m\u001b[0m\u001b[0m\n\u001b[1;32m   3842\u001b[0m             \u001b[0;32mif\u001b[0m \u001b[0;32mnot\u001b[0m \u001b[0misna\u001b[0m\u001b[0;34m(\u001b[0m\u001b[0mitem\u001b[0m\u001b[0;34m)\u001b[0m\u001b[0;34m:\u001b[0m\u001b[0;34m\u001b[0m\u001b[0;34m\u001b[0m\u001b[0m\n\u001b[0;32m-> 3843\u001b[0;31m                 \u001b[0mloc\u001b[0m \u001b[0;34m=\u001b[0m \u001b[0mself\u001b[0m\u001b[0;34m.\u001b[0m\u001b[0mitems\u001b[0m\u001b[0;34m.\u001b[0m\u001b[0mget_loc\u001b[0m\u001b[0;34m(\u001b[0m\u001b[0mitem\u001b[0m\u001b[0;34m)\u001b[0m\u001b[0;34m\u001b[0m\u001b[0;34m\u001b[0m\u001b[0m\n\u001b[0m\u001b[1;32m   3844\u001b[0m             \u001b[0;32melse\u001b[0m\u001b[0;34m:\u001b[0m\u001b[0;34m\u001b[0m\u001b[0;34m\u001b[0m\u001b[0m\n\u001b[1;32m   3845\u001b[0m                 \u001b[0mindexer\u001b[0m \u001b[0;34m=\u001b[0m \u001b[0mnp\u001b[0m\u001b[0;34m.\u001b[0m\u001b[0marange\u001b[0m\u001b[0;34m(\u001b[0m\u001b[0mlen\u001b[0m\u001b[0;34m(\u001b[0m\u001b[0mself\u001b[0m\u001b[0;34m.\u001b[0m\u001b[0mitems\u001b[0m\u001b[0;34m)\u001b[0m\u001b[0;34m)\u001b[0m\u001b[0;34m[\u001b[0m\u001b[0misna\u001b[0m\u001b[0;34m(\u001b[0m\u001b[0mself\u001b[0m\u001b[0;34m.\u001b[0m\u001b[0mitems\u001b[0m\u001b[0;34m)\u001b[0m\u001b[0;34m]\u001b[0m\u001b[0;34m\u001b[0m\u001b[0;34m\u001b[0m\u001b[0m\n",
            "\u001b[0;32m/usr/local/lib/python3.6/dist-packages/pandas/core/indexes/category.py\u001b[0m in \u001b[0;36mget_loc\u001b[0;34m(self, key, method)\u001b[0m\n\u001b[1;32m    407\u001b[0m         \u001b[0marray\u001b[0m\u001b[0;34m(\u001b[0m\u001b[0;34m[\u001b[0m\u001b[0;32mFalse\u001b[0m\u001b[0;34m,\u001b[0m  \u001b[0;32mTrue\u001b[0m\u001b[0;34m,\u001b[0m \u001b[0;32mFalse\u001b[0m\u001b[0;34m,\u001b[0m  \u001b[0;32mTrue\u001b[0m\u001b[0;34m]\u001b[0m\u001b[0;34m,\u001b[0m \u001b[0mdtype\u001b[0m\u001b[0;34m=\u001b[0m\u001b[0mbool\u001b[0m\u001b[0;34m)\u001b[0m\u001b[0;34m\u001b[0m\u001b[0;34m\u001b[0m\u001b[0m\n\u001b[1;32m    408\u001b[0m         \"\"\"\n\u001b[0;32m--> 409\u001b[0;31m         \u001b[0mcodes\u001b[0m \u001b[0;34m=\u001b[0m \u001b[0mself\u001b[0m\u001b[0;34m.\u001b[0m\u001b[0mcategories\u001b[0m\u001b[0;34m.\u001b[0m\u001b[0mget_loc\u001b[0m\u001b[0;34m(\u001b[0m\u001b[0mkey\u001b[0m\u001b[0;34m)\u001b[0m\u001b[0;34m\u001b[0m\u001b[0;34m\u001b[0m\u001b[0m\n\u001b[0m\u001b[1;32m    410\u001b[0m         \u001b[0;32mif\u001b[0m \u001b[0;34m(\u001b[0m\u001b[0mcodes\u001b[0m \u001b[0;34m==\u001b[0m \u001b[0;34m-\u001b[0m\u001b[0;36m1\u001b[0m\u001b[0;34m)\u001b[0m\u001b[0;34m:\u001b[0m\u001b[0;34m\u001b[0m\u001b[0;34m\u001b[0m\u001b[0m\n\u001b[1;32m    411\u001b[0m             \u001b[0;32mraise\u001b[0m \u001b[0mKeyError\u001b[0m\u001b[0;34m(\u001b[0m\u001b[0mkey\u001b[0m\u001b[0;34m)\u001b[0m\u001b[0;34m\u001b[0m\u001b[0;34m\u001b[0m\u001b[0m\n",
            "\u001b[0;32m/usr/local/lib/python3.6/dist-packages/pandas/core/indexes/base.py\u001b[0m in \u001b[0;36mget_loc\u001b[0;34m(self, key, method, tolerance)\u001b[0m\n\u001b[1;32m   2525\u001b[0m                 \u001b[0;32mreturn\u001b[0m \u001b[0mself\u001b[0m\u001b[0;34m.\u001b[0m\u001b[0m_engine\u001b[0m\u001b[0;34m.\u001b[0m\u001b[0mget_loc\u001b[0m\u001b[0;34m(\u001b[0m\u001b[0mkey\u001b[0m\u001b[0;34m)\u001b[0m\u001b[0;34m\u001b[0m\u001b[0;34m\u001b[0m\u001b[0m\n\u001b[1;32m   2526\u001b[0m             \u001b[0;32mexcept\u001b[0m \u001b[0mKeyError\u001b[0m\u001b[0;34m:\u001b[0m\u001b[0;34m\u001b[0m\u001b[0;34m\u001b[0m\u001b[0m\n\u001b[0;32m-> 2527\u001b[0;31m                 \u001b[0;32mreturn\u001b[0m \u001b[0mself\u001b[0m\u001b[0;34m.\u001b[0m\u001b[0m_engine\u001b[0m\u001b[0;34m.\u001b[0m\u001b[0mget_loc\u001b[0m\u001b[0;34m(\u001b[0m\u001b[0mself\u001b[0m\u001b[0;34m.\u001b[0m\u001b[0m_maybe_cast_indexer\u001b[0m\u001b[0;34m(\u001b[0m\u001b[0mkey\u001b[0m\u001b[0;34m)\u001b[0m\u001b[0;34m)\u001b[0m\u001b[0;34m\u001b[0m\u001b[0;34m\u001b[0m\u001b[0m\n\u001b[0m\u001b[1;32m   2528\u001b[0m \u001b[0;34m\u001b[0m\u001b[0m\n\u001b[1;32m   2529\u001b[0m         \u001b[0mindexer\u001b[0m \u001b[0;34m=\u001b[0m \u001b[0mself\u001b[0m\u001b[0;34m.\u001b[0m\u001b[0mget_indexer\u001b[0m\u001b[0;34m(\u001b[0m\u001b[0;34m[\u001b[0m\u001b[0mkey\u001b[0m\u001b[0;34m]\u001b[0m\u001b[0;34m,\u001b[0m \u001b[0mmethod\u001b[0m\u001b[0;34m=\u001b[0m\u001b[0mmethod\u001b[0m\u001b[0;34m,\u001b[0m \u001b[0mtolerance\u001b[0m\u001b[0;34m=\u001b[0m\u001b[0mtolerance\u001b[0m\u001b[0;34m)\u001b[0m\u001b[0;34m\u001b[0m\u001b[0;34m\u001b[0m\u001b[0m\n",
            "\u001b[0;32mpandas/_libs/index.pyx\u001b[0m in \u001b[0;36mpandas._libs.index.IndexEngine.get_loc\u001b[0;34m()\u001b[0m\n",
            "\u001b[0;32mpandas/_libs/index.pyx\u001b[0m in \u001b[0;36mpandas._libs.index.IndexEngine.get_loc\u001b[0;34m()\u001b[0m\n",
            "\u001b[0;32mpandas/_libs/hashtable_class_helper.pxi\u001b[0m in \u001b[0;36mpandas._libs.hashtable.PyObjectHashTable.get_item\u001b[0;34m()\u001b[0m\n",
            "\u001b[0;32mpandas/_libs/hashtable_class_helper.pxi\u001b[0m in \u001b[0;36mpandas._libs.hashtable.PyObjectHashTable.get_item\u001b[0;34m()\u001b[0m\n",
            "\u001b[0;31mKeyError\u001b[0m: 'month'"
          ]
        }
      ]
    },
    {
      "metadata": {
        "colab_type": "text",
        "id": "Fh9lCwC-ljb6"
      },
      "cell_type": "markdown",
      "source": [
        "### Create a [pivot table](https://pandas.pydata.org/pandas-docs/stable/generated/pandas.DataFrame.pivot_table.html) of passengers by month and year"
      ]
    },
    {
      "metadata": {
        "colab_type": "code",
        "id": "JJrQbsXxljb6",
        "colab": {}
      },
      "cell_type": "code",
      "source": [
        "flights = flights.pivot_table(index='year', columns='month', values='passengers')\n"
      ],
      "execution_count": 0,
      "outputs": []
    },
    {
      "metadata": {
        "colab_type": "text",
        "id": "MRast1t4ljb7"
      },
      "cell_type": "markdown",
      "source": [
        "### Plot the pivot table as a [heat map](https://seaborn.pydata.org/generated/seaborn.heatmap.html)"
      ]
    },
    {
      "metadata": {
        "colab_type": "code",
        "id": "nLGYX_5Bljb9",
        "colab": {
          "base_uri": "https://localhost:8080/",
          "height": 318
        },
        "outputId": "6292472c-ce6a-4b7c-e5da-b2aaf5be3fe1"
      },
      "cell_type": "code",
      "source": [
        "sns.heatmap(flights);"
      ],
      "execution_count": 49,
      "outputs": [
        {
          "output_type": "display_data",
          "data": {
            "image/png": "[encoded data removed]",
            "text/plain": [
              "<Figure size 432x288 with 2 Axes>"
            ]
          },
          "metadata": {
            "tags": []
          }
        }
      ]
    },
    {
      "metadata": {
        "colab_type": "text",
        "id": "xmEaapURMyKZ"
      },
      "cell_type": "markdown",
      "source": [
        "# ASSIGNMENT\n",
        "\n",
        "### 1.\n",
        "\n",
        "Replicate the lesson code. I recommend that you [do not copy-paste](https://docs.google.com/document/d/1ubOw9B3Hfip27hF2ZFnW3a3z9xAgrUDRReOEo-FHCVs/edit).\n",
        "\n",
        "### 2.\n",
        "\n",
        "Choose a chart you want to make, from [Visual Vocabulary - Vega Edition](http://ft.com/vocabulary).\n",
        "\n",
        "Find the chart in an example gallery of a Python data visualization library:\n",
        "- [Seaborn](http://seaborn.pydata.org/examples/index.html)\n",
        "- [Altair](https://altair-viz.github.io/gallery/index.html)\n",
        "- [Matplotlib](https://matplotlib.org/gallery.html)\n",
        "- [Pandas](https://pandas.pydata.org/pandas-docs/stable/visualization.html)\n",
        "\n",
        "Reproduce the chart. [Optionally, try the \"Ben Franklin Method.\"](https://docs.google.com/document/d/1ubOw9B3Hfip27hF2ZFnW3a3z9xAgrUDRReOEo-FHCVs/edit) If you want, experiment and make changes.\n",
        "\n",
        "Take notes. Consider sharing your work with your cohort!"
      ]
    },
    {
      "metadata": {
        "id": "_-Z7tF-0YyCf",
        "colab_type": "code",
        "colab": {}
      },
      "cell_type": "code",
      "source": [
        "import pandas as pd\n",
        "df2 = pd.read_csv('heart.csv')"
      ],
      "execution_count": 0,
      "outputs": []
    },
    {
      "metadata": {
        "id": "kcu_o0FsZDaw",
        "colab_type": "code",
        "colab": {
          "base_uri": "https://localhost:8080/",
          "height": 1969
        },
        "outputId": "3d5cd960-40ff-493c-8357-891bc057caec"
      },
      "cell_type": "code",
      "source": [
        "df2"
      ],
      "execution_count": 30,
      "outputs": [
        {
          "output_type": "execute_result",
          "data": {
            "text/html": [
              "<div>\n",
              "<style scoped>\n",
              "    .dataframe tbody tr th:only-of-type {\n",
              "        vertical-align: middle;\n",
              "    }\n",
              "\n",
              "    .dataframe tbody tr th {\n",
              "        vertical-align: top;\n",
              "    }\n",
              "\n",
              "    .dataframe thead th {\n",
              "        text-align: right;\n",
              "    }\n",
              "</style>\n",
              "<table border=\"1\" class=\"dataframe\">\n",
              "  <thead>\n",
              "    <tr style=\"text-align: right;\">\n",
              "      <th></th>\n",
              "      <th>age</th>\n",
              "      <th>sex</th>\n",
              "      <th>cp</th>\n",
              "      <th>trestbps</th>\n",
              "      <th>chol</th>\n",
              "      <th>fbs</th>\n",
              "      <th>restecg</th>\n",
              "      <th>thalach</th>\n",
              "      <th>exang</th>\n",
              "      <th>oldpeak</th>\n",
              "      <th>slope</th>\n",
              "      <th>ca</th>\n",
              "      <th>thal</th>\n",
              "      <th>target</th>\n",
              "    </tr>\n",
              "  </thead>\n",
              "  <tbody>\n",
              "    <tr>\n",
              "      <th>0</th>\n",
              "      <td>63</td>\n",
              "      <td>1</td>\n",
              "      <td>3</td>\n",
              "      <td>145</td>\n",
              "      <td>233</td>\n",
              "      <td>1</td>\n",
              "      <td>0</td>\n",
              "      <td>150</td>\n",
              "      <td>0</td>\n",
              "      <td>2.3</td>\n",
              "      <td>0</td>\n",
              "      <td>0</td>\n",
              "      <td>1</td>\n",
              "      <td>1</td>\n",
              "    </tr>\n",
              "    <tr>\n",
              "      <th>1</th>\n",
              "      <td>37</td>\n",
              "      <td>1</td>\n",
              "      <td>2</td>\n",
              "      <td>130</td>\n",
              "      <td>250</td>\n",
              "      <td>0</td>\n",
              "      <td>1</td>\n",
              "      <td>187</td>\n",
              "      <td>0</td>\n",
              "      <td>3.5</td>\n",
              "      <td>0</td>\n",
              "      <td>0</td>\n",
              "      <td>2</td>\n",
              "      <td>1</td>\n",
              "    </tr>\n",
              "    <tr>\n",
              "      <th>2</th>\n",
              "      <td>41</td>\n",
              "      <td>0</td>\n",
              "      <td>1</td>\n",
              "      <td>130</td>\n",
              "      <td>204</td>\n",
              "      <td>0</td>\n",
              "      <td>0</td>\n",
              "      <td>172</td>\n",
              "      <td>0</td>\n",
              "      <td>1.4</td>\n",
              "      <td>2</td>\n",
              "      <td>0</td>\n",
              "      <td>2</td>\n",
              "      <td>1</td>\n",
              "    </tr>\n",
              "    <tr>\n",
              "      <th>3</th>\n",
              "      <td>56</td>\n",
              "      <td>1</td>\n",
              "      <td>1</td>\n",
              "      <td>120</td>\n",
              "      <td>236</td>\n",
              "      <td>0</td>\n",
              "      <td>1</td>\n",
              "      <td>178</td>\n",
              "      <td>0</td>\n",
              "      <td>0.8</td>\n",
              "      <td>2</td>\n",
              "      <td>0</td>\n",
              "      <td>2</td>\n",
              "      <td>1</td>\n",
              "    </tr>\n",
              "    <tr>\n",
              "      <th>4</th>\n",
              "      <td>57</td>\n",
              "      <td>0</td>\n",
              "      <td>0</td>\n",
              "      <td>120</td>\n",
              "      <td>354</td>\n",
              "      <td>0</td>\n",
              "      <td>1</td>\n",
              "      <td>163</td>\n",
              "      <td>1</td>\n",
              "      <td>0.6</td>\n",
              "      <td>2</td>\n",
              "      <td>0</td>\n",
              "      <td>2</td>\n",
              "      <td>1</td>\n",
              "    </tr>\n",
              "    <tr>\n",
              "      <th>5</th>\n",
              "      <td>57</td>\n",
              "      <td>1</td>\n",
              "      <td>0</td>\n",
              "      <td>140</td>\n",
              "      <td>192</td>\n",
              "      <td>0</td>\n",
              "      <td>1</td>\n",
              "      <td>148</td>\n",
              "      <td>0</td>\n",
              "      <td>0.4</td>\n",
              "      <td>1</td>\n",
              "      <td>0</td>\n",
              "      <td>1</td>\n",
              "      <td>1</td>\n",
              "    </tr>\n",
              "    <tr>\n",
              "      <th>6</th>\n",
              "      <td>56</td>\n",
              "      <td>0</td>\n",
              "      <td>1</td>\n",
              "      <td>140</td>\n",
              "      <td>294</td>\n",
              "      <td>0</td>\n",
              "      <td>0</td>\n",
              "      <td>153</td>\n",
              "      <td>0</td>\n",
              "      <td>1.3</td>\n",
              "      <td>1</td>\n",
              "      <td>0</td>\n",
              "      <td>2</td>\n",
              "      <td>1</td>\n",
              "    </tr>\n",
              "    <tr>\n",
              "      <th>7</th>\n",
              "      <td>44</td>\n",
              "      <td>1</td>\n",
              "      <td>1</td>\n",
              "      <td>120</td>\n",
              "      <td>263</td>\n",
              "      <td>0</td>\n",
              "      <td>1</td>\n",
              "      <td>173</td>\n",
              "      <td>0</td>\n",
              "      <td>0.0</td>\n",
              "      <td>2</td>\n",
              "      <td>0</td>\n",
              "      <td>3</td>\n",
              "      <td>1</td>\n",
              "    </tr>\n",
              "    <tr>\n",
              "      <th>8</th>\n",
              "      <td>52</td>\n",
              "      <td>1</td>\n",
              "      <td>2</td>\n",
              "      <td>172</td>\n",
              "      <td>199</td>\n",
              "      <td>1</td>\n",
              "      <td>1</td>\n",
              "      <td>162</td>\n",
              "      <td>0</td>\n",
              "      <td>0.5</td>\n",
              "      <td>2</td>\n",
              "      <td>0</td>\n",
              "      <td>3</td>\n",
              "      <td>1</td>\n",
              "    </tr>\n",
              "    <tr>\n",
              "      <th>9</th>\n",
              "      <td>57</td>\n",
              "      <td>1</td>\n",
              "      <td>2</td>\n",
              "      <td>150</td>\n",
              "      <td>168</td>\n",
              "      <td>0</td>\n",
              "      <td>1</td>\n",
              "      <td>174</td>\n",
              "      <td>0</td>\n",
              "      <td>1.6</td>\n",
              "      <td>2</td>\n",
              "      <td>0</td>\n",
              "      <td>2</td>\n",
              "      <td>1</td>\n",
              "    </tr>\n",
              "    <tr>\n",
              "      <th>10</th>\n",
              "      <td>54</td>\n",
              "      <td>1</td>\n",
              "      <td>0</td>\n",
              "      <td>140</td>\n",
              "      <td>239</td>\n",
              "      <td>0</td>\n",
              "      <td>1</td>\n",
              "      <td>160</td>\n",
              "      <td>0</td>\n",
              "      <td>1.2</td>\n",
              "      <td>2</td>\n",
              "      <td>0</td>\n",
              "      <td>2</td>\n",
              "      <td>1</td>\n",
              "    </tr>\n",
              "    <tr>\n",
              "      <th>11</th>\n",
              "      <td>48</td>\n",
              "      <td>0</td>\n",
              "      <td>2</td>\n",
              "      <td>130</td>\n",
              "      <td>275</td>\n",
              "      <td>0</td>\n",
              "      <td>1</td>\n",
              "      <td>139</td>\n",
              "      <td>0</td>\n",
              "      <td>0.2</td>\n",
              "      <td>2</td>\n",
              "      <td>0</td>\n",
              "      <td>2</td>\n",
              "      <td>1</td>\n",
              "    </tr>\n",
              "    <tr>\n",
              "      <th>12</th>\n",
              "      <td>49</td>\n",
              "      <td>1</td>\n",
              "      <td>1</td>\n",
              "      <td>130</td>\n",
              "      <td>266</td>\n",
              "      <td>0</td>\n",
              "      <td>1</td>\n",
              "      <td>171</td>\n",
              "      <td>0</td>\n",
              "      <td>0.6</td>\n",
              "      <td>2</td>\n",
              "      <td>0</td>\n",
              "      <td>2</td>\n",
              "      <td>1</td>\n",
              "    </tr>\n",
              "    <tr>\n",
              "      <th>13</th>\n",
              "      <td>64</td>\n",
              "      <td>1</td>\n",
              "      <td>3</td>\n",
              "      <td>110</td>\n",
              "      <td>211</td>\n",
              "      <td>0</td>\n",
              "      <td>0</td>\n",
              "      <td>144</td>\n",
              "      <td>1</td>\n",
              "      <td>1.8</td>\n",
              "      <td>1</td>\n",
              "      <td>0</td>\n",
              "      <td>2</td>\n",
              "      <td>1</td>\n",
              "    </tr>\n",
              "    <tr>\n",
              "      <th>14</th>\n",
              "      <td>58</td>\n",
              "      <td>0</td>\n",
              "      <td>3</td>\n",
              "      <td>150</td>\n",
              "      <td>283</td>\n",
              "      <td>1</td>\n",
              "      <td>0</td>\n",
              "      <td>162</td>\n",
              "      <td>0</td>\n",
              "      <td>1.0</td>\n",
              "      <td>2</td>\n",
              "      <td>0</td>\n",
              "      <td>2</td>\n",
              "      <td>1</td>\n",
              "    </tr>\n",
              "    <tr>\n",
              "      <th>15</th>\n",
              "      <td>50</td>\n",
              "      <td>0</td>\n",
              "      <td>2</td>\n",
              "      <td>120</td>\n",
              "      <td>219</td>\n",
              "      <td>0</td>\n",
              "      <td>1</td>\n",
              "      <td>158</td>\n",
              "      <td>0</td>\n",
              "      <td>1.6</td>\n",
              "      <td>1</td>\n",
              "      <td>0</td>\n",
              "      <td>2</td>\n",
              "      <td>1</td>\n",
              "    </tr>\n",
              "    <tr>\n",
              "      <th>16</th>\n",
              "      <td>58</td>\n",
              "      <td>0</td>\n",
              "      <td>2</td>\n",
              "      <td>120</td>\n",
              "      <td>340</td>\n",
              "      <td>0</td>\n",
              "      <td>1</td>\n",
              "      <td>172</td>\n",
              "      <td>0</td>\n",
              "      <td>0.0</td>\n",
              "      <td>2</td>\n",
              "      <td>0</td>\n",
              "      <td>2</td>\n",
              "      <td>1</td>\n",
              "    </tr>\n",
              "    <tr>\n",
              "      <th>17</th>\n",
              "      <td>66</td>\n",
              "      <td>0</td>\n",
              "      <td>3</td>\n",
              "      <td>150</td>\n",
              "      <td>226</td>\n",
              "      <td>0</td>\n",
              "      <td>1</td>\n",
              "      <td>114</td>\n",
              "      <td>0</td>\n",
              "      <td>2.6</td>\n",
              "      <td>0</td>\n",
              "      <td>0</td>\n",
              "      <td>2</td>\n",
              "      <td>1</td>\n",
              "    </tr>\n",
              "    <tr>\n",
              "      <th>18</th>\n",
              "      <td>43</td>\n",
              "      <td>1</td>\n",
              "      <td>0</td>\n",
              "      <td>150</td>\n",
              "      <td>247</td>\n",
              "      <td>0</td>\n",
              "      <td>1</td>\n",
              "      <td>171</td>\n",
              "      <td>0</td>\n",
              "      <td>1.5</td>\n",
              "      <td>2</td>\n",
              "      <td>0</td>\n",
              "      <td>2</td>\n",
              "      <td>1</td>\n",
              "    </tr>\n",
              "    <tr>\n",
              "      <th>19</th>\n",
              "      <td>69</td>\n",
              "      <td>0</td>\n",
              "      <td>3</td>\n",
              "      <td>140</td>\n",
              "      <td>239</td>\n",
              "      <td>0</td>\n",
              "      <td>1</td>\n",
              "      <td>151</td>\n",
              "      <td>0</td>\n",
              "      <td>1.8</td>\n",
              "      <td>2</td>\n",
              "      <td>2</td>\n",
              "      <td>2</td>\n",
              "      <td>1</td>\n",
              "    </tr>\n",
              "    <tr>\n",
              "      <th>20</th>\n",
              "      <td>59</td>\n",
              "      <td>1</td>\n",
              "      <td>0</td>\n",
              "      <td>135</td>\n",
              "      <td>234</td>\n",
              "      <td>0</td>\n",
              "      <td>1</td>\n",
              "      <td>161</td>\n",
              "      <td>0</td>\n",
              "      <td>0.5</td>\n",
              "      <td>1</td>\n",
              "      <td>0</td>\n",
              "      <td>3</td>\n",
              "      <td>1</td>\n",
              "    </tr>\n",
              "    <tr>\n",
              "      <th>21</th>\n",
              "      <td>44</td>\n",
              "      <td>1</td>\n",
              "      <td>2</td>\n",
              "      <td>130</td>\n",
              "      <td>233</td>\n",
              "      <td>0</td>\n",
              "      <td>1</td>\n",
              "      <td>179</td>\n",
              "      <td>1</td>\n",
              "      <td>0.4</td>\n",
              "      <td>2</td>\n",
              "      <td>0</td>\n",
              "      <td>2</td>\n",
              "      <td>1</td>\n",
              "    </tr>\n",
              "    <tr>\n",
              "      <th>22</th>\n",
              "      <td>42</td>\n",
              "      <td>1</td>\n",
              "      <td>0</td>\n",
              "      <td>140</td>\n",
              "      <td>226</td>\n",
              "      <td>0</td>\n",
              "      <td>1</td>\n",
              "      <td>178</td>\n",
              "      <td>0</td>\n",
              "      <td>0.0</td>\n",
              "      <td>2</td>\n",
              "      <td>0</td>\n",
              "      <td>2</td>\n",
              "      <td>1</td>\n",
              "    </tr>\n",
              "    <tr>\n",
              "      <th>23</th>\n",
              "      <td>61</td>\n",
              "      <td>1</td>\n",
              "      <td>2</td>\n",
              "      <td>150</td>\n",
              "      <td>243</td>\n",
              "      <td>1</td>\n",
              "      <td>1</td>\n",
              "      <td>137</td>\n",
              "      <td>1</td>\n",
              "      <td>1.0</td>\n",
              "      <td>1</td>\n",
              "      <td>0</td>\n",
              "      <td>2</td>\n",
              "      <td>1</td>\n",
              "    </tr>\n",
              "    <tr>\n",
              "      <th>24</th>\n",
              "      <td>40</td>\n",
              "      <td>1</td>\n",
              "      <td>3</td>\n",
              "      <td>140</td>\n",
              "      <td>199</td>\n",
              "      <td>0</td>\n",
              "      <td>1</td>\n",
              "      <td>178</td>\n",
              "      <td>1</td>\n",
              "      <td>1.4</td>\n",
              "      <td>2</td>\n",
              "      <td>0</td>\n",
              "      <td>3</td>\n",
              "      <td>1</td>\n",
              "    </tr>\n",
              "    <tr>\n",
              "      <th>25</th>\n",
              "      <td>71</td>\n",
              "      <td>0</td>\n",
              "      <td>1</td>\n",
              "      <td>160</td>\n",
              "      <td>302</td>\n",
              "      <td>0</td>\n",
              "      <td>1</td>\n",
              "      <td>162</td>\n",
              "      <td>0</td>\n",
              "      <td>0.4</td>\n",
              "      <td>2</td>\n",
              "      <td>2</td>\n",
              "      <td>2</td>\n",
              "      <td>1</td>\n",
              "    </tr>\n",
              "    <tr>\n",
              "      <th>26</th>\n",
              "      <td>59</td>\n",
              "      <td>1</td>\n",
              "      <td>2</td>\n",
              "      <td>150</td>\n",
              "      <td>212</td>\n",
              "      <td>1</td>\n",
              "      <td>1</td>\n",
              "      <td>157</td>\n",
              "      <td>0</td>\n",
              "      <td>1.6</td>\n",
              "      <td>2</td>\n",
              "      <td>0</td>\n",
              "      <td>2</td>\n",
              "      <td>1</td>\n",
              "    </tr>\n",
              "    <tr>\n",
              "      <th>27</th>\n",
              "      <td>51</td>\n",
              "      <td>1</td>\n",
              "      <td>2</td>\n",
              "      <td>110</td>\n",
              "      <td>175</td>\n",
              "      <td>0</td>\n",
              "      <td>1</td>\n",
              "      <td>123</td>\n",
              "      <td>0</td>\n",
              "      <td>0.6</td>\n",
              "      <td>2</td>\n",
              "      <td>0</td>\n",
              "      <td>2</td>\n",
              "      <td>1</td>\n",
              "    </tr>\n",
              "    <tr>\n",
              "      <th>28</th>\n",
              "      <td>65</td>\n",
              "      <td>0</td>\n",
              "      <td>2</td>\n",
              "      <td>140</td>\n",
              "      <td>417</td>\n",
              "      <td>1</td>\n",
              "      <td>0</td>\n",
              "      <td>157</td>\n",
              "      <td>0</td>\n",
              "      <td>0.8</td>\n",
              "      <td>2</td>\n",
              "      <td>1</td>\n",
              "      <td>2</td>\n",
              "      <td>1</td>\n",
              "    </tr>\n",
              "    <tr>\n",
              "      <th>29</th>\n",
              "      <td>53</td>\n",
              "      <td>1</td>\n",
              "      <td>2</td>\n",
              "      <td>130</td>\n",
              "      <td>197</td>\n",
              "      <td>1</td>\n",
              "      <td>0</td>\n",
              "      <td>152</td>\n",
              "      <td>0</td>\n",
              "      <td>1.2</td>\n",
              "      <td>0</td>\n",
              "      <td>0</td>\n",
              "      <td>2</td>\n",
              "      <td>1</td>\n",
              "    </tr>\n",
              "    <tr>\n",
              "      <th>...</th>\n",
              "      <td>...</td>\n",
              "      <td>...</td>\n",
              "      <td>...</td>\n",
              "      <td>...</td>\n",
              "      <td>...</td>\n",
              "      <td>...</td>\n",
              "      <td>...</td>\n",
              "      <td>...</td>\n",
              "      <td>...</td>\n",
              "      <td>...</td>\n",
              "      <td>...</td>\n",
              "      <td>...</td>\n",
              "      <td>...</td>\n",
              "      <td>...</td>\n",
              "    </tr>\n",
              "    <tr>\n",
              "      <th>273</th>\n",
              "      <td>58</td>\n",
              "      <td>1</td>\n",
              "      <td>0</td>\n",
              "      <td>100</td>\n",
              "      <td>234</td>\n",
              "      <td>0</td>\n",
              "      <td>1</td>\n",
              "      <td>156</td>\n",
              "      <td>0</td>\n",
              "      <td>0.1</td>\n",
              "      <td>2</td>\n",
              "      <td>1</td>\n",
              "      <td>3</td>\n",
              "      <td>0</td>\n",
              "    </tr>\n",
              "    <tr>\n",
              "      <th>274</th>\n",
              "      <td>47</td>\n",
              "      <td>1</td>\n",
              "      <td>0</td>\n",
              "      <td>110</td>\n",
              "      <td>275</td>\n",
              "      <td>0</td>\n",
              "      <td>0</td>\n",
              "      <td>118</td>\n",
              "      <td>1</td>\n",
              "      <td>1.0</td>\n",
              "      <td>1</td>\n",
              "      <td>1</td>\n",
              "      <td>2</td>\n",
              "      <td>0</td>\n",
              "    </tr>\n",
              "    <tr>\n",
              "      <th>275</th>\n",
              "      <td>52</td>\n",
              "      <td>1</td>\n",
              "      <td>0</td>\n",
              "      <td>125</td>\n",
              "      <td>212</td>\n",
              "      <td>0</td>\n",
              "      <td>1</td>\n",
              "      <td>168</td>\n",
              "      <td>0</td>\n",
              "      <td>1.0</td>\n",
              "      <td>2</td>\n",
              "      <td>2</td>\n",
              "      <td>3</td>\n",
              "      <td>0</td>\n",
              "    </tr>\n",
              "    <tr>\n",
              "      <th>276</th>\n",
              "      <td>58</td>\n",
              "      <td>1</td>\n",
              "      <td>0</td>\n",
              "      <td>146</td>\n",
              "      <td>218</td>\n",
              "      <td>0</td>\n",
              "      <td>1</td>\n",
              "      <td>105</td>\n",
              "      <td>0</td>\n",
              "      <td>2.0</td>\n",
              "      <td>1</td>\n",
              "      <td>1</td>\n",
              "      <td>3</td>\n",
              "      <td>0</td>\n",
              "    </tr>\n",
              "    <tr>\n",
              "      <th>277</th>\n",
              "      <td>57</td>\n",
              "      <td>1</td>\n",
              "      <td>1</td>\n",
              "      <td>124</td>\n",
              "      <td>261</td>\n",
              "      <td>0</td>\n",
              "      <td>1</td>\n",
              "      <td>141</td>\n",
              "      <td>0</td>\n",
              "      <td>0.3</td>\n",
              "      <td>2</td>\n",
              "      <td>0</td>\n",
              "      <td>3</td>\n",
              "      <td>0</td>\n",
              "    </tr>\n",
              "    <tr>\n",
              "      <th>278</th>\n",
              "      <td>58</td>\n",
              "      <td>0</td>\n",
              "      <td>1</td>\n",
              "      <td>136</td>\n",
              "      <td>319</td>\n",
              "      <td>1</td>\n",
              "      <td>0</td>\n",
              "      <td>152</td>\n",
              "      <td>0</td>\n",
              "      <td>0.0</td>\n",
              "      <td>2</td>\n",
              "      <td>2</td>\n",
              "      <td>2</td>\n",
              "      <td>0</td>\n",
              "    </tr>\n",
              "    <tr>\n",
              "      <th>279</th>\n",
              "      <td>61</td>\n",
              "      <td>1</td>\n",
              "      <td>0</td>\n",
              "      <td>138</td>\n",
              "      <td>166</td>\n",
              "      <td>0</td>\n",
              "      <td>0</td>\n",
              "      <td>125</td>\n",
              "      <td>1</td>\n",
              "      <td>3.6</td>\n",
              "      <td>1</td>\n",
              "      <td>1</td>\n",
              "      <td>2</td>\n",
              "      <td>0</td>\n",
              "    </tr>\n",
              "    <tr>\n",
              "      <th>280</th>\n",
              "      <td>42</td>\n",
              "      <td>1</td>\n",
              "      <td>0</td>\n",
              "      <td>136</td>\n",
              "      <td>315</td>\n",
              "      <td>0</td>\n",
              "      <td>1</td>\n",
              "      <td>125</td>\n",
              "      <td>1</td>\n",
              "      <td>1.8</td>\n",
              "      <td>1</td>\n",
              "      <td>0</td>\n",
              "      <td>1</td>\n",
              "      <td>0</td>\n",
              "    </tr>\n",
              "    <tr>\n",
              "      <th>281</th>\n",
              "      <td>52</td>\n",
              "      <td>1</td>\n",
              "      <td>0</td>\n",
              "      <td>128</td>\n",
              "      <td>204</td>\n",
              "      <td>1</td>\n",
              "      <td>1</td>\n",
              "      <td>156</td>\n",
              "      <td>1</td>\n",
              "      <td>1.0</td>\n",
              "      <td>1</td>\n",
              "      <td>0</td>\n",
              "      <td>0</td>\n",
              "      <td>0</td>\n",
              "    </tr>\n",
              "    <tr>\n",
              "      <th>282</th>\n",
              "      <td>59</td>\n",
              "      <td>1</td>\n",
              "      <td>2</td>\n",
              "      <td>126</td>\n",
              "      <td>218</td>\n",
              "      <td>1</td>\n",
              "      <td>1</td>\n",
              "      <td>134</td>\n",
              "      <td>0</td>\n",
              "      <td>2.2</td>\n",
              "      <td>1</td>\n",
              "      <td>1</td>\n",
              "      <td>1</td>\n",
              "      <td>0</td>\n",
              "    </tr>\n",
              "    <tr>\n",
              "      <th>283</th>\n",
              "      <td>40</td>\n",
              "      <td>1</td>\n",
              "      <td>0</td>\n",
              "      <td>152</td>\n",
              "      <td>223</td>\n",
              "      <td>0</td>\n",
              "      <td>1</td>\n",
              "      <td>181</td>\n",
              "      <td>0</td>\n",
              "      <td>0.0</td>\n",
              "      <td>2</td>\n",
              "      <td>0</td>\n",
              "      <td>3</td>\n",
              "      <td>0</td>\n",
              "    </tr>\n",
              "    <tr>\n",
              "      <th>284</th>\n",
              "      <td>61</td>\n",
              "      <td>1</td>\n",
              "      <td>0</td>\n",
              "      <td>140</td>\n",
              "      <td>207</td>\n",
              "      <td>0</td>\n",
              "      <td>0</td>\n",
              "      <td>138</td>\n",
              "      <td>1</td>\n",
              "      <td>1.9</td>\n",
              "      <td>2</td>\n",
              "      <td>1</td>\n",
              "      <td>3</td>\n",
              "      <td>0</td>\n",
              "    </tr>\n",
              "    <tr>\n",
              "      <th>285</th>\n",
              "      <td>46</td>\n",
              "      <td>1</td>\n",
              "      <td>0</td>\n",
              "      <td>140</td>\n",
              "      <td>311</td>\n",
              "      <td>0</td>\n",
              "      <td>1</td>\n",
              "      <td>120</td>\n",
              "      <td>1</td>\n",
              "      <td>1.8</td>\n",
              "      <td>1</td>\n",
              "      <td>2</td>\n",
              "      <td>3</td>\n",
              "      <td>0</td>\n",
              "    </tr>\n",
              "    <tr>\n",
              "      <th>286</th>\n",
              "      <td>59</td>\n",
              "      <td>1</td>\n",
              "      <td>3</td>\n",
              "      <td>134</td>\n",
              "      <td>204</td>\n",
              "      <td>0</td>\n",
              "      <td>1</td>\n",
              "      <td>162</td>\n",
              "      <td>0</td>\n",
              "      <td>0.8</td>\n",
              "      <td>2</td>\n",
              "      <td>2</td>\n",
              "      <td>2</td>\n",
              "      <td>0</td>\n",
              "    </tr>\n",
              "    <tr>\n",
              "      <th>287</th>\n",
              "      <td>57</td>\n",
              "      <td>1</td>\n",
              "      <td>1</td>\n",
              "      <td>154</td>\n",
              "      <td>232</td>\n",
              "      <td>0</td>\n",
              "      <td>0</td>\n",
              "      <td>164</td>\n",
              "      <td>0</td>\n",
              "      <td>0.0</td>\n",
              "      <td>2</td>\n",
              "      <td>1</td>\n",
              "      <td>2</td>\n",
              "      <td>0</td>\n",
              "    </tr>\n",
              "    <tr>\n",
              "      <th>288</th>\n",
              "      <td>57</td>\n",
              "      <td>1</td>\n",
              "      <td>0</td>\n",
              "      <td>110</td>\n",
              "      <td>335</td>\n",
              "      <td>0</td>\n",
              "      <td>1</td>\n",
              "      <td>143</td>\n",
              "      <td>1</td>\n",
              "      <td>3.0</td>\n",
              "      <td>1</td>\n",
              "      <td>1</td>\n",
              "      <td>3</td>\n",
              "      <td>0</td>\n",
              "    </tr>\n",
              "    <tr>\n",
              "      <th>289</th>\n",
              "      <td>55</td>\n",
              "      <td>0</td>\n",
              "      <td>0</td>\n",
              "      <td>128</td>\n",
              "      <td>205</td>\n",
              "      <td>0</td>\n",
              "      <td>2</td>\n",
              "      <td>130</td>\n",
              "      <td>1</td>\n",
              "      <td>2.0</td>\n",
              "      <td>1</td>\n",
              "      <td>1</td>\n",
              "      <td>3</td>\n",
              "      <td>0</td>\n",
              "    </tr>\n",
              "    <tr>\n",
              "      <th>290</th>\n",
              "      <td>61</td>\n",
              "      <td>1</td>\n",
              "      <td>0</td>\n",
              "      <td>148</td>\n",
              "      <td>203</td>\n",
              "      <td>0</td>\n",
              "      <td>1</td>\n",
              "      <td>161</td>\n",
              "      <td>0</td>\n",
              "      <td>0.0</td>\n",
              "      <td>2</td>\n",
              "      <td>1</td>\n",
              "      <td>3</td>\n",
              "      <td>0</td>\n",
              "    </tr>\n",
              "    <tr>\n",
              "      <th>291</th>\n",
              "      <td>58</td>\n",
              "      <td>1</td>\n",
              "      <td>0</td>\n",
              "      <td>114</td>\n",
              "      <td>318</td>\n",
              "      <td>0</td>\n",
              "      <td>2</td>\n",
              "      <td>140</td>\n",
              "      <td>0</td>\n",
              "      <td>4.4</td>\n",
              "      <td>0</td>\n",
              "      <td>3</td>\n",
              "      <td>1</td>\n",
              "      <td>0</td>\n",
              "    </tr>\n",
              "    <tr>\n",
              "      <th>292</th>\n",
              "      <td>58</td>\n",
              "      <td>0</td>\n",
              "      <td>0</td>\n",
              "      <td>170</td>\n",
              "      <td>225</td>\n",
              "      <td>1</td>\n",
              "      <td>0</td>\n",
              "      <td>146</td>\n",
              "      <td>1</td>\n",
              "      <td>2.8</td>\n",
              "      <td>1</td>\n",
              "      <td>2</td>\n",
              "      <td>1</td>\n",
              "      <td>0</td>\n",
              "    </tr>\n",
              "    <tr>\n",
              "      <th>293</th>\n",
              "      <td>67</td>\n",
              "      <td>1</td>\n",
              "      <td>2</td>\n",
              "      <td>152</td>\n",
              "      <td>212</td>\n",
              "      <td>0</td>\n",
              "      <td>0</td>\n",
              "      <td>150</td>\n",
              "      <td>0</td>\n",
              "      <td>0.8</td>\n",
              "      <td>1</td>\n",
              "      <td>0</td>\n",
              "      <td>3</td>\n",
              "      <td>0</td>\n",
              "    </tr>\n",
              "    <tr>\n",
              "      <th>294</th>\n",
              "      <td>44</td>\n",
              "      <td>1</td>\n",
              "      <td>0</td>\n",
              "      <td>120</td>\n",
              "      <td>169</td>\n",
              "      <td>0</td>\n",
              "      <td>1</td>\n",
              "      <td>144</td>\n",
              "      <td>1</td>\n",
              "      <td>2.8</td>\n",
              "      <td>0</td>\n",
              "      <td>0</td>\n",
              "      <td>1</td>\n",
              "      <td>0</td>\n",
              "    </tr>\n",
              "    <tr>\n",
              "      <th>295</th>\n",
              "      <td>63</td>\n",
              "      <td>1</td>\n",
              "      <td>0</td>\n",
              "      <td>140</td>\n",
              "      <td>187</td>\n",
              "      <td>0</td>\n",
              "      <td>0</td>\n",
              "      <td>144</td>\n",
              "      <td>1</td>\n",
              "      <td>4.0</td>\n",
              "      <td>2</td>\n",
              "      <td>2</td>\n",
              "      <td>3</td>\n",
              "      <td>0</td>\n",
              "    </tr>\n",
              "    <tr>\n",
              "      <th>296</th>\n",
              "      <td>63</td>\n",
              "      <td>0</td>\n",
              "      <td>0</td>\n",
              "      <td>124</td>\n",
              "      <td>197</td>\n",
              "      <td>0</td>\n",
              "      <td>1</td>\n",
              "      <td>136</td>\n",
              "      <td>1</td>\n",
              "      <td>0.0</td>\n",
              "      <td>1</td>\n",
              "      <td>0</td>\n",
              "      <td>2</td>\n",
              "      <td>0</td>\n",
              "    </tr>\n",
              "    <tr>\n",
              "      <th>297</th>\n",
              "      <td>59</td>\n",
              "      <td>1</td>\n",
              "      <td>0</td>\n",
              "      <td>164</td>\n",
              "      <td>176</td>\n",
              "      <td>1</td>\n",
              "      <td>0</td>\n",
              "      <td>90</td>\n",
              "      <td>0</td>\n",
              "      <td>1.0</td>\n",
              "      <td>1</td>\n",
              "      <td>2</td>\n",
              "      <td>1</td>\n",
              "      <td>0</td>\n",
              "    </tr>\n",
              "    <tr>\n",
              "      <th>298</th>\n",
              "      <td>57</td>\n",
              "      <td>0</td>\n",
              "      <td>0</td>\n",
              "      <td>140</td>\n",
              "      <td>241</td>\n",
              "      <td>0</td>\n",
              "      <td>1</td>\n",
              "      <td>123</td>\n",
              "      <td>1</td>\n",
              "      <td>0.2</td>\n",
              "      <td>1</td>\n",
              "      <td>0</td>\n",
              "      <td>3</td>\n",
              "      <td>0</td>\n",
              "    </tr>\n",
              "    <tr>\n",
              "      <th>299</th>\n",
              "      <td>45</td>\n",
              "      <td>1</td>\n",
              "      <td>3</td>\n",
              "      <td>110</td>\n",
              "      <td>264</td>\n",
              "      <td>0</td>\n",
              "      <td>1</td>\n",
              "      <td>132</td>\n",
              "      <td>0</td>\n",
              "      <td>1.2</td>\n",
              "      <td>1</td>\n",
              "      <td>0</td>\n",
              "      <td>3</td>\n",
              "      <td>0</td>\n",
              "    </tr>\n",
              "    <tr>\n",
              "      <th>300</th>\n",
              "      <td>68</td>\n",
              "      <td>1</td>\n",
              "      <td>0</td>\n",
              "      <td>144</td>\n",
              "      <td>193</td>\n",
              "      <td>1</td>\n",
              "      <td>1</td>\n",
              "      <td>141</td>\n",
              "      <td>0</td>\n",
              "      <td>3.4</td>\n",
              "      <td>1</td>\n",
              "      <td>2</td>\n",
              "      <td>3</td>\n",
              "      <td>0</td>\n",
              "    </tr>\n",
              "    <tr>\n",
              "      <th>301</th>\n",
              "      <td>57</td>\n",
              "      <td>1</td>\n",
              "      <td>0</td>\n",
              "      <td>130</td>\n",
              "      <td>131</td>\n",
              "      <td>0</td>\n",
              "      <td>1</td>\n",
              "      <td>115</td>\n",
              "      <td>1</td>\n",
              "      <td>1.2</td>\n",
              "      <td>1</td>\n",
              "      <td>1</td>\n",
              "      <td>3</td>\n",
              "      <td>0</td>\n",
              "    </tr>\n",
              "    <tr>\n",
              "      <th>302</th>\n",
              "      <td>57</td>\n",
              "      <td>0</td>\n",
              "      <td>1</td>\n",
              "      <td>130</td>\n",
              "      <td>236</td>\n",
              "      <td>0</td>\n",
              "      <td>0</td>\n",
              "      <td>174</td>\n",
              "      <td>0</td>\n",
              "      <td>0.0</td>\n",
              "      <td>1</td>\n",
              "      <td>1</td>\n",
              "      <td>2</td>\n",
              "      <td>0</td>\n",
              "    </tr>\n",
              "  </tbody>\n",
              "</table>\n",
              "<p>303 rows × 14 columns</p>\n",
              "</div>"
            ],
            "text/plain": [
              "     age  sex  cp  trestbps  chol  fbs  restecg  thalach  exang  oldpeak  \\\n",
              "0     63    1   3       145   233    1        0      150      0      2.3   \n",
              "1     37    1   2       130   250    0        1      187      0      3.5   \n",
              "2     41    0   1       130   204    0        0      172      0      1.4   \n",
              "3     56    1   1       120   236    0        1      178      0      0.8   \n",
              "4     57    0   0       120   354    0        1      163      1      0.6   \n",
              "5     57    1   0       140   192    0        1      148      0      0.4   \n",
              "6     56    0   1       140   294    0        0      153      0      1.3   \n",
              "7     44    1   1       120   263    0        1      173      0      0.0   \n",
              "8     52    1   2       172   199    1        1      162      0      0.5   \n",
              "9     57    1   2       150   168    0        1      174      0      1.6   \n",
              "10    54    1   0       140   239    0        1      160      0      1.2   \n",
              "11    48    0   2       130   275    0        1      139      0      0.2   \n",
              "12    49    1   1       130   266    0        1      171      0      0.6   \n",
              "13    64    1   3       110   211    0        0      144      1      1.8   \n",
              "14    58    0   3       150   283    1        0      162      0      1.0   \n",
              "15    50    0   2       120   219    0        1      158      0      1.6   \n",
              "16    58    0   2       120   340    0        1      172      0      0.0   \n",
              "17    66    0   3       150   226    0        1      114      0      2.6   \n",
              "18    43    1   0       150   247    0        1      171      0      1.5   \n",
              "19    69    0   3       140   239    0        1      151      0      1.8   \n",
              "20    59    1   0       135   234    0        1      161      0      0.5   \n",
              "21    44    1   2       130   233    0        1      179      1      0.4   \n",
              "22    42    1   0       140   226    0        1      178      0      0.0   \n",
              "23    61    1   2       150   243    1        1      137      1      1.0   \n",
              "24    40    1   3       140   199    0        1      178      1      1.4   \n",
              "25    71    0   1       160   302    0        1      162      0      0.4   \n",
              "26    59    1   2       150   212    1        1      157      0      1.6   \n",
              "27    51    1   2       110   175    0        1      123      0      0.6   \n",
              "28    65    0   2       140   417    1        0      157      0      0.8   \n",
              "29    53    1   2       130   197    1        0      152      0      1.2   \n",
              "..   ...  ...  ..       ...   ...  ...      ...      ...    ...      ...   \n",
              "273   58    1   0       100   234    0        1      156      0      0.1   \n",
              "274   47    1   0       110   275    0        0      118      1      1.0   \n",
              "275   52    1   0       125   212    0        1      168      0      1.0   \n",
              "276   58    1   0       146   218    0        1      105      0      2.0   \n",
              "277   57    1   1       124   261    0        1      141      0      0.3   \n",
              "278   58    0   1       136   319    1        0      152      0      0.0   \n",
              "279   61    1   0       138   166    0        0      125      1      3.6   \n",
              "280   42    1   0       136   315    0        1      125      1      1.8   \n",
              "281   52    1   0       128   204    1        1      156      1      1.0   \n",
              "282   59    1   2       126   218    1        1      134      0      2.2   \n",
              "283   40    1   0       152   223    0        1      181      0      0.0   \n",
              "284   61    1   0       140   207    0        0      138      1      1.9   \n",
              "285   46    1   0       140   311    0        1      120      1      1.8   \n",
              "286   59    1   3       134   204    0        1      162      0      0.8   \n",
              "287   57    1   1       154   232    0        0      164      0      0.0   \n",
              "288   57    1   0       110   335    0        1      143      1      3.0   \n",
              "289   55    0   0       128   205    0        2      130      1      2.0   \n",
              "290   61    1   0       148   203    0        1      161      0      0.0   \n",
              "291   58    1   0       114   318    0        2      140      0      4.4   \n",
              "292   58    0   0       170   225    1        0      146      1      2.8   \n",
              "293   67    1   2       152   212    0        0      150      0      0.8   \n",
              "294   44    1   0       120   169    0        1      144      1      2.8   \n",
              "295   63    1   0       140   187    0        0      144      1      4.0   \n",
              "296   63    0   0       124   197    0        1      136      1      0.0   \n",
              "297   59    1   0       164   176    1        0       90      0      1.0   \n",
              "298   57    0   0       140   241    0        1      123      1      0.2   \n",
              "299   45    1   3       110   264    0        1      132      0      1.2   \n",
              "300   68    1   0       144   193    1        1      141      0      3.4   \n",
              "301   57    1   0       130   131    0        1      115      1      1.2   \n",
              "302   57    0   1       130   236    0        0      174      0      0.0   \n",
              "\n",
              "     slope  ca  thal  target  \n",
              "0        0   0     1       1  \n",
              "1        0   0     2       1  \n",
              "2        2   0     2       1  \n",
              "3        2   0     2       1  \n",
              "4        2   0     2       1  \n",
              "5        1   0     1       1  \n",
              "6        1   0     2       1  \n",
              "7        2   0     3       1  \n",
              "8        2   0     3       1  \n",
              "9        2   0     2       1  \n",
              "10       2   0     2       1  \n",
              "11       2   0     2       1  \n",
              "12       2   0     2       1  \n",
              "13       1   0     2       1  \n",
              "14       2   0     2       1  \n",
              "15       1   0     2       1  \n",
              "16       2   0     2       1  \n",
              "17       0   0     2       1  \n",
              "18       2   0     2       1  \n",
              "19       2   2     2       1  \n",
              "20       1   0     3       1  \n",
              "21       2   0     2       1  \n",
              "22       2   0     2       1  \n",
              "23       1   0     2       1  \n",
              "24       2   0     3       1  \n",
              "25       2   2     2       1  \n",
              "26       2   0     2       1  \n",
              "27       2   0     2       1  \n",
              "28       2   1     2       1  \n",
              "29       0   0     2       1  \n",
              "..     ...  ..   ...     ...  \n",
              "273      2   1     3       0  \n",
              "274      1   1     2       0  \n",
              "275      2   2     3       0  \n",
              "276      1   1     3       0  \n",
              "277      2   0     3       0  \n",
              "278      2   2     2       0  \n",
              "279      1   1     2       0  \n",
              "280      1   0     1       0  \n",
              "281      1   0     0       0  \n",
              "282      1   1     1       0  \n",
              "283      2   0     3       0  \n",
              "284      2   1     3       0  \n",
              "285      1   2     3       0  \n",
              "286      2   2     2       0  \n",
              "287      2   1     2       0  \n",
              "288      1   1     3       0  \n",
              "289      1   1     3       0  \n",
              "290      2   1     3       0  \n",
              "291      0   3     1       0  \n",
              "292      1   2     1       0  \n",
              "293      1   0     3       0  \n",
              "294      0   0     1       0  \n",
              "295      2   2     3       0  \n",
              "296      1   0     2       0  \n",
              "297      1   2     1       0  \n",
              "298      1   0     3       0  \n",
              "299      1   0     3       0  \n",
              "300      1   2     3       0  \n",
              "301      1   1     3       0  \n",
              "302      1   1     2       0  \n",
              "\n",
              "[303 rows x 14 columns]"
            ]
          },
          "metadata": {
            "tags": []
          },
          "execution_count": 30
        }
      ]
    },
    {
      "metadata": {
        "id": "TaFYPJNOh6iE",
        "colab_type": "code",
        "colab": {
          "base_uri": "https://localhost:8080/",
          "height": 374
        },
        "outputId": "9ae156ac-1d1b-4938-e3d0-3c02f52302b7"
      },
      "cell_type": "code",
      "source": [
        "source = df2\n",
        "\n",
        "bar = alt.Chart(source).mark_bar().encode(\n",
        "    x='age:O',\n",
        "    y='chol:Q'\n",
        ")\n",
        "\n",
        "rule = alt.Chart(source).mark_rule(color='red').encode(\n",
        "    y='mean(chol):Q'\n",
        ")\n",
        "\n",
        "(bar + rule).properties(width=600)"
      ],
      "execution_count": 32,
      "outputs": [
        {
          "output_type": "execute_result",
          "data": {
            "text/plain": [
              "LayerChart({\n",
              "  layer: [Chart({\n",
              "    data:      age  sex  cp  trestbps  chol  fbs  restecg  thalach  exang  oldpeak  \\\n",
              "    0     63    1   3       145   233    1        0      150      0      2.3   \n",
              "    1     37    1   2       130   250    0        1      187      0      3.5   \n",
              "    2     41    0   1       130   204    0        0      172      0      1.4   \n",
              "    3     56    1   1       120   236    0        1      178      0      0.8   \n",
              "    4     57    0   0       120   354    0        1      163      1      0.6   \n",
              "    5     57    1   0       140   192    0        1      148      0      0.4   \n",
              "    6     56    0   1       140   294    0        0      153      0      1.3   \n",
              "    7     44    1   1       120   263    0        1      173      0      0.0   \n",
              "    8     52    1   2       172   199    1        1      162      0      0.5   \n",
              "    9     57    1   2       150   168    0        1      174      0      1.6   \n",
              "    10    54    1   0       140   239    0        1      160      0      1.2   \n",
              "    11    48    0   2       130   275    0        1      139      0      0.2   \n",
              "    12    49    1   1       130   266    0        1      171      0      0.6   \n",
              "    13    64    1   3       110   211    0        0      144      1      1.8   \n",
              "    14    58    0   3       150   283    1        0      162      0      1.0   \n",
              "    15    50    0   2       120   219    0        1      158      0      1.6   \n",
              "    16    58    0   2       120   340    0        1      172      0      0.0   \n",
              "    17    66    0   3       150   226    0        1      114      0      2.6   \n",
              "    18    43    1   0       150   247    0        1      171      0      1.5   \n",
              "    19    69    0   3       140   239    0        1      151      0      1.8   \n",
              "    20    59    1   0       135   234    0        1      161      0      0.5   \n",
              "    21    44    1   2       130   233    0        1      179      1      0.4   \n",
              "    22    42    1   0       140   226    0        1      178      0      0.0   \n",
              "    23    61    1   2       150   243    1        1      137      1      1.0   \n",
              "    24    40    1   3       140   199    0        1      178      1      1.4   \n",
              "    25    71    0   1       160   302    0        1      162      0      0.4   \n",
              "    26    59    1   2       150   212    1        1      157      0      1.6   \n",
              "    27    51    1   2       110   175    0        1      123      0      0.6   \n",
              "    28    65    0   2       140   417    1        0      157      0      0.8   \n",
              "    29    53    1   2       130   197    1        0      152      0      1.2   \n",
              "    ..   ...  ...  ..       ...   ...  ...      ...      ...    ...      ...   \n",
              "    273   58    1   0       100   234    0        1      156      0      0.1   \n",
              "    274   47    1   0       110   275    0        0      118      1      1.0   \n",
              "    275   52    1   0       125   212    0        1      168      0      1.0   \n",
              "    276   58    1   0       146   218    0        1      105      0      2.0   \n",
              "    277   57    1   1       124   261    0        1      141      0      0.3   \n",
              "    278   58    0   1       136   319    1        0      152      0      0.0   \n",
              "    279   61    1   0       138   166    0        0      125      1      3.6   \n",
              "    280   42    1   0       136   315    0        1      125      1      1.8   \n",
              "    281   52    1   0       128   204    1        1      156      1      1.0   \n",
              "    282   59    1   2       126   218    1        1      134      0      2.2   \n",
              "    283   40    1   0       152   223    0        1      181      0      0.0   \n",
              "    284   61    1   0       140   207    0        0      138      1      1.9   \n",
              "    285   46    1   0       140   311    0        1      120      1      1.8   \n",
              "    286   59    1   3       134   204    0        1      162      0      0.8   \n",
              "    287   57    1   1       154   232    0        0      164      0      0.0   \n",
              "    288   57    1   0       110   335    0        1      143      1      3.0   \n",
              "    289   55    0   0       128   205    0        2      130      1      2.0   \n",
              "    290   61    1   0       148   203    0        1      161      0      0.0   \n",
              "    291   58    1   0       114   318    0        2      140      0      4.4   \n",
              "    292   58    0   0       170   225    1        0      146      1      2.8   \n",
              "    293   67    1   2       152   212    0        0      150      0      0.8   \n",
              "    294   44    1   0       120   169    0        1      144      1      2.8   \n",
              "    295   63    1   0       140   187    0        0      144      1      4.0   \n",
              "    296   63    0   0       124   197    0        1      136      1      0.0   \n",
              "    297   59    1   0       164   176    1        0       90      0      1.0   \n",
              "    298   57    0   0       140   241    0        1      123      1      0.2   \n",
              "    299   45    1   3       110   264    0        1      132      0      1.2   \n",
              "    300   68    1   0       144   193    1        1      141      0      3.4   \n",
              "    301   57    1   0       130   131    0        1      115      1      1.2   \n",
              "    302   57    0   1       130   236    0        0      174      0      0.0   \n",
              "    \n",
              "         slope  ca  thal  target  \n",
              "    0        0   0     1       1  \n",
              "    1        0   0     2       1  \n",
              "    2        2   0     2       1  \n",
              "    3        2   0     2       1  \n",
              "    4        2   0     2       1  \n",
              "    5        1   0     1       1  \n",
              "    6        1   0     2       1  \n",
              "    7        2   0     3       1  \n",
              "    8        2   0     3       1  \n",
              "    9        2   0     2       1  \n",
              "    10       2   0     2       1  \n",
              "    11       2   0     2       1  \n",
              "    12       2   0     2       1  \n",
              "    13       1   0     2       1  \n",
              "    14       2   0     2       1  \n",
              "    15       1   0     2       1  \n",
              "    16       2   0     2       1  \n",
              "    17       0   0     2       1  \n",
              "    18       2   0     2       1  \n",
              "    19       2   2     2       1  \n",
              "    20       1   0     3       1  \n",
              "    21       2   0     2       1  \n",
              "    22       2   0     2       1  \n",
              "    23       1   0     2       1  \n",
              "    24       2   0     3       1  \n",
              "    25       2   2     2       1  \n",
              "    26       2   0     2       1  \n",
              "    27       2   0     2       1  \n",
              "    28       2   1     2       1  \n",
              "    29       0   0     2       1  \n",
              "    ..     ...  ..   ...     ...  \n",
              "    273      2   1     3       0  \n",
              "    274      1   1     2       0  \n",
              "    275      2   2     3       0  \n",
              "    276      1   1     3       0  \n",
              "    277      2   0     3       0  \n",
              "    278      2   2     2       0  \n",
              "    279      1   1     2       0  \n",
              "    280      1   0     1       0  \n",
              "    281      1   0     0       0  \n",
              "    282      1   1     1       0  \n",
              "    283      2   0     3       0  \n",
              "    284      2   1     3       0  \n",
              "    285      1   2     3       0  \n",
              "    286      2   2     2       0  \n",
              "    287      2   1     2       0  \n",
              "    288      1   1     3       0  \n",
              "    289      1   1     3       0  \n",
              "    290      2   1     3       0  \n",
              "    291      0   3     1       0  \n",
              "    292      1   2     1       0  \n",
              "    293      1   0     3       0  \n",
              "    294      0   0     1       0  \n",
              "    295      2   2     3       0  \n",
              "    296      1   0     2       0  \n",
              "    297      1   2     1       0  \n",
              "    298      1   0     3       0  \n",
              "    299      1   0     3       0  \n",
              "    300      1   2     3       0  \n",
              "    301      1   1     3       0  \n",
              "    302      1   1     2       0  \n",
              "    \n",
              "    [303 rows x 14 columns],\n",
              "    encoding: EncodingWithFacet({\n",
              "      x: X({\n",
              "        shorthand: 'age:O'\n",
              "      }),\n",
              "      y: Y({\n",
              "        shorthand: 'chol:Q'\n",
              "      })\n",
              "    }),\n",
              "    mark: 'bar'\n",
              "  }), Chart({\n",
              "    data:      age  sex  cp  trestbps  chol  fbs  restecg  thalach  exang  oldpeak  \\\n",
              "    0     63    1   3       145   233    1        0      150      0      2.3   \n",
              "    1     37    1   2       130   250    0        1      187      0      3.5   \n",
              "    2     41    0   1       130   204    0        0      172      0      1.4   \n",
              "    3     56    1   1       120   236    0        1      178      0      0.8   \n",
              "    4     57    0   0       120   354    0        1      163      1      0.6   \n",
              "    5     57    1   0       140   192    0        1      148      0      0.4   \n",
              "    6     56    0   1       140   294    0        0      153      0      1.3   \n",
              "    7     44    1   1       120   263    0        1      173      0      0.0   \n",
              "    8     52    1   2       172   199    1        1      162      0      0.5   \n",
              "    9     57    1   2       150   168    0        1      174      0      1.6   \n",
              "    10    54    1   0       140   239    0        1      160      0      1.2   \n",
              "    11    48    0   2       130   275    0        1      139      0      0.2   \n",
              "    12    49    1   1       130   266    0        1      171      0      0.6   \n",
              "    13    64    1   3       110   211    0        0      144      1      1.8   \n",
              "    14    58    0   3       150   283    1        0      162      0      1.0   \n",
              "    15    50    0   2       120   219    0        1      158      0      1.6   \n",
              "    16    58    0   2       120   340    0        1      172      0      0.0   \n",
              "    17    66    0   3       150   226    0        1      114      0      2.6   \n",
              "    18    43    1   0       150   247    0        1      171      0      1.5   \n",
              "    19    69    0   3       140   239    0        1      151      0      1.8   \n",
              "    20    59    1   0       135   234    0        1      161      0      0.5   \n",
              "    21    44    1   2       130   233    0        1      179      1      0.4   \n",
              "    22    42    1   0       140   226    0        1      178      0      0.0   \n",
              "    23    61    1   2       150   243    1        1      137      1      1.0   \n",
              "    24    40    1   3       140   199    0        1      178      1      1.4   \n",
              "    25    71    0   1       160   302    0        1      162      0      0.4   \n",
              "    26    59    1   2       150   212    1        1      157      0      1.6   \n",
              "    27    51    1   2       110   175    0        1      123      0      0.6   \n",
              "    28    65    0   2       140   417    1        0      157      0      0.8   \n",
              "    29    53    1   2       130   197    1        0      152      0      1.2   \n",
              "    ..   ...  ...  ..       ...   ...  ...      ...      ...    ...      ...   \n",
              "    273   58    1   0       100   234    0        1      156      0      0.1   \n",
              "    274   47    1   0       110   275    0        0      118      1      1.0   \n",
              "    275   52    1   0       125   212    0        1      168      0      1.0   \n",
              "    276   58    1   0       146   218    0        1      105      0      2.0   \n",
              "    277   57    1   1       124   261    0        1      141      0      0.3   \n",
              "    278   58    0   1       136   319    1        0      152      0      0.0   \n",
              "    279   61    1   0       138   166    0        0      125      1      3.6   \n",
              "    280   42    1   0       136   315    0        1      125      1      1.8   \n",
              "    281   52    1   0       128   204    1        1      156      1      1.0   \n",
              "    282   59    1   2       126   218    1        1      134      0      2.2   \n",
              "    283   40    1   0       152   223    0        1      181      0      0.0   \n",
              "    284   61    1   0       140   207    0        0      138      1      1.9   \n",
              "    285   46    1   0       140   311    0        1      120      1      1.8   \n",
              "    286   59    1   3       134   204    0        1      162      0      0.8   \n",
              "    287   57    1   1       154   232    0        0      164      0      0.0   \n",
              "    288   57    1   0       110   335    0        1      143      1      3.0   \n",
              "    289   55    0   0       128   205    0        2      130      1      2.0   \n",
              "    290   61    1   0       148   203    0        1      161      0      0.0   \n",
              "    291   58    1   0       114   318    0        2      140      0      4.4   \n",
              "    292   58    0   0       170   225    1        0      146      1      2.8   \n",
              "    293   67    1   2       152   212    0        0      150      0      0.8   \n",
              "    294   44    1   0       120   169    0        1      144      1      2.8   \n",
              "    295   63    1   0       140   187    0        0      144      1      4.0   \n",
              "    296   63    0   0       124   197    0        1      136      1      0.0   \n",
              "    297   59    1   0       164   176    1        0       90      0      1.0   \n",
              "    298   57    0   0       140   241    0        1      123      1      0.2   \n",
              "    299   45    1   3       110   264    0        1      132      0      1.2   \n",
              "    300   68    1   0       144   193    1        1      141      0      3.4   \n",
              "    301   57    1   0       130   131    0        1      115      1      1.2   \n",
              "    302   57    0   1       130   236    0        0      174      0      0.0   \n",
              "    \n",
              "         slope  ca  thal  target  \n",
              "    0        0   0     1       1  \n",
              "    1        0   0     2       1  \n",
              "    2        2   0     2       1  \n",
              "    3        2   0     2       1  \n",
              "    4        2   0     2       1  \n",
              "    5        1   0     1       1  \n",
              "    6        1   0     2       1  \n",
              "    7        2   0     3       1  \n",
              "    8        2   0     3       1  \n",
              "    9        2   0     2       1  \n",
              "    10       2   0     2       1  \n",
              "    11       2   0     2       1  \n",
              "    12       2   0     2       1  \n",
              "    13       1   0     2       1  \n",
              "    14       2   0     2       1  \n",
              "    15       1   0     2       1  \n",
              "    16       2   0     2       1  \n",
              "    17       0   0     2       1  \n",
              "    18       2   0     2       1  \n",
              "    19       2   2     2       1  \n",
              "    20       1   0     3       1  \n",
              "    21       2   0     2       1  \n",
              "    22       2   0     2       1  \n",
              "    23       1   0     2       1  \n",
              "    24       2   0     3       1  \n",
              "    25       2   2     2       1  \n",
              "    26       2   0     2       1  \n",
              "    27       2   0     2       1  \n",
              "    28       2   1     2       1  \n",
              "    29       0   0     2       1  \n",
              "    ..     ...  ..   ...     ...  \n",
              "    273      2   1     3       0  \n",
              "    274      1   1     2       0  \n",
              "    275      2   2     3       0  \n",
              "    276      1   1     3       0  \n",
              "    277      2   0     3       0  \n",
              "    278      2   2     2       0  \n",
              "    279      1   1     2       0  \n",
              "    280      1   0     1       0  \n",
              "    281      1   0     0       0  \n",
              "    282      1   1     1       0  \n",
              "    283      2   0     3       0  \n",
              "    284      2   1     3       0  \n",
              "    285      1   2     3       0  \n",
              "    286      2   2     2       0  \n",
              "    287      2   1     2       0  \n",
              "    288      1   1     3       0  \n",
              "    289      1   1     3       0  \n",
              "    290      2   1     3       0  \n",
              "    291      0   3     1       0  \n",
              "    292      1   2     1       0  \n",
              "    293      1   0     3       0  \n",
              "    294      0   0     1       0  \n",
              "    295      2   2     3       0  \n",
              "    296      1   0     2       0  \n",
              "    297      1   2     1       0  \n",
              "    298      1   0     3       0  \n",
              "    299      1   0     3       0  \n",
              "    300      1   2     3       0  \n",
              "    301      1   1     3       0  \n",
              "    302      1   1     2       0  \n",
              "    \n",
              "    [303 rows x 14 columns],\n",
              "    encoding: EncodingWithFacet({\n",
              "      y: Y({\n",
              "        shorthand: 'mean(chol):Q'\n",
              "      })\n",
              "    }),\n",
              "    mark: MarkDef({\n",
              "      color: 'red',\n",
              "      type: 'rule'\n",
              "    })\n",
              "  })],\n",
              "  width: 600\n",
              "})"
            ],
            "text/html": [
              "<!DOCTYPE html>\n",
              "<html>\n",
              "<head>\n",
              "  <style>\n",
              "    .vega-actions a {\n",
              "        margin-right: 12px;\n",
              "        color: #757575;\n",
              "        font-weight: normal;\n",
              "        font-size: 13px;\n",
              "    }\n",
              "    .error {\n",
              "        color: red;\n",
              "    }\n",
              "  </style>\n",
              "  <script type=\"text/javascript\" src=\"https://cdn.jsdelivr.net/npm//vega@4\"></script>\n",
              "  <script type=\"text/javascript\" src=\"https://cdn.jsdelivr.net/npm//vega-lite@2.6.0\"></script>\n",
              "  <script type=\"text/javascript\" src=\"https://cdn.jsdelivr.net/npm//vega-embed@3\"></script>\n",
              "</head>\n",
              "<body>\n",
              "  <div id=\"altair-viz\"></div>\n",
              "  <script>\n",
              "      var spec = {\"config\": {\"view\": {\"width\": 400, \"height\": 300}}, \"layer\": [{\"data\": {\"name\": \"data-a24de27fcaca3464660850dd7c56a142\"}, \"mark\": \"bar\", \"encoding\": {\"x\": {\"type\": \"ordinal\", \"field\": \"age\"}, \"y\": {\"type\": \"quantitative\", \"field\": \"chol\"}}}, {\"data\": {\"name\": \"data-a24de27fcaca3464660850dd7c56a142\"}, \"mark\": {\"type\": \"rule\", \"color\": \"red\"}, \"encoding\": {\"y\": {\"type\": \"quantitative\", \"aggregate\": \"mean\", \"field\": \"chol\"}}}], \"width\": 600, \"$schema\": \"https://vega.github.io/schema/vega-lite/v2.6.0.json\", \"datasets\": {\"data-a24de27fcaca3464660850dd7c56a142\": [{\"age\": 63, \"sex\": 1, \"cp\": 3, \"trestbps\": 145, \"chol\": 233, \"fbs\": 1, \"restecg\": 0, \"thalach\": 150, \"exang\": 0, \"oldpeak\": 2.3, \"slope\": 0, \"ca\": 0, \"thal\": 1, \"target\": 1}, {\"age\": 37, \"sex\": 1, \"cp\": 2, \"trestbps\": 130, \"chol\": 250, \"fbs\": 0, \"restecg\": 1, \"thalach\": 187, \"exang\": 0, \"oldpeak\": 3.5, \"slope\": 0, \"ca\": 0, \"thal\": 2, \"target\": 1}, {\"age\": 41, \"sex\": 0, \"cp\": 1, \"trestbps\": 130, \"chol\": 204, \"fbs\": 0, \"restecg\": 0, \"thalach\": 172, \"exang\": 0, \"oldpeak\": 1.4, \"slope\": 2, \"ca\": 0, \"thal\": 2, \"target\": 1}, {\"age\": 56, \"sex\": 1, \"cp\": 1, \"trestbps\": 120, \"chol\": 236, \"fbs\": 0, \"restecg\": 1, \"thalach\": 178, \"exang\": 0, \"oldpeak\": 0.8, \"slope\": 2, \"ca\": 0, \"thal\": 2, \"target\": 1}, {\"age\": 57, \"sex\": 0, \"cp\": 0, \"trestbps\": 120, \"chol\": 354, \"fbs\": 0, \"restecg\": 1, \"thalach\": 163, \"exang\": 1, \"oldpeak\": 0.6, \"slope\": 2, \"ca\": 0, \"thal\": 2, \"target\": 1}, {\"age\": 57, \"sex\": 1, \"cp\": 0, \"trestbps\": 140, \"chol\": 192, \"fbs\": 0, \"restecg\": 1, \"thalach\": 148, \"exang\": 0, \"oldpeak\": 0.4, \"slope\": 1, \"ca\": 0, \"thal\": 1, \"target\": 1}, {\"age\": 56, \"sex\": 0, \"cp\": 1, \"trestbps\": 140, \"chol\": 294, \"fbs\": 0, \"restecg\": 0, \"thalach\": 153, \"exang\": 0, \"oldpeak\": 1.3, \"slope\": 1, \"ca\": 0, \"thal\": 2, \"target\": 1}, {\"age\": 44, \"sex\": 1, \"cp\": 1, \"trestbps\": 120, \"chol\": 263, \"fbs\": 0, \"restecg\": 1, \"thalach\": 173, \"exang\": 0, \"oldpeak\": 0.0, \"slope\": 2, \"ca\": 0, \"thal\": 3, \"target\": 1}, {\"age\": 52, \"sex\": 1, \"cp\": 2, \"trestbps\": 172, \"chol\": 199, \"fbs\": 1, \"restecg\": 1, \"thalach\": 162, \"exang\": 0, \"oldpeak\": 0.5, \"slope\": 2, \"ca\": 0, \"thal\": 3, \"target\": 1}, {\"age\": 57, \"sex\": 1, \"cp\": 2, \"trestbps\": 150, \"chol\": 168, \"fbs\": 0, \"restecg\": 1, \"thalach\": 174, \"exang\": 0, \"oldpeak\": 1.6, \"slope\": 2, \"ca\": 0, \"thal\": 2, \"target\": 1}, {\"age\": 54, \"sex\": 1, \"cp\": 0, \"trestbps\": 140, \"chol\": 239, \"fbs\": 0, \"restecg\": 1, \"thalach\": 160, \"exang\": 0, \"oldpeak\": 1.2, \"slope\": 2, \"ca\": 0, \"thal\": 2, \"target\": 1}, {\"age\": 48, \"sex\": 0, \"cp\": 2, \"trestbps\": 130, \"chol\": 275, \"fbs\": 0, \"restecg\": 1, \"thalach\": 139, \"exang\": 0, \"oldpeak\": 0.2, \"slope\": 2, \"ca\": 0, \"thal\": 2, \"target\": 1}, {\"age\": 49, \"sex\": 1, \"cp\": 1, \"trestbps\": 130, \"chol\": 266, \"fbs\": 0, \"restecg\": 1, \"thalach\": 171, \"exang\": 0, \"oldpeak\": 0.6, \"slope\": 2, \"ca\": 0, \"thal\": 2, \"target\": 1}, {\"age\": 64, \"sex\": 1, \"cp\": 3, \"trestbps\": 110, \"chol\": 211, \"fbs\": 0, \"restecg\": 0, \"thalach\": 144, \"exang\": 1, \"oldpeak\": 1.8, \"slope\": 1, \"ca\": 0, \"thal\": 2, \"target\": 1}, {\"age\": 58, \"sex\": 0, \"cp\": 3, \"trestbps\": 150, \"chol\": 283, \"fbs\": 1, \"restecg\": 0, \"thalach\": 162, \"exang\": 0, \"oldpeak\": 1.0, \"slope\": 2, \"ca\": 0, \"thal\": 2, \"target\": 1}, {\"age\": 50, \"sex\": 0, \"cp\": 2, \"trestbps\": 120, \"chol\": 219, \"fbs\": 0, \"restecg\": 1, \"thalach\": 158, \"exang\": 0, \"oldpeak\": 1.6, \"slope\": 1, \"ca\": 0, \"thal\": 2, \"target\": 1}, {\"age\": 58, \"sex\": 0, \"cp\": 2, \"trestbps\": 120, \"chol\": 340, \"fbs\": 0, \"restecg\": 1, \"thalach\": 172, \"exang\": 0, \"oldpeak\": 0.0, \"slope\": 2, \"ca\": 0, \"thal\": 2, \"target\": 1}, {\"age\": 66, \"sex\": 0, \"cp\": 3, \"trestbps\": 150, \"chol\": 226, \"fbs\": 0, \"restecg\": 1, \"thalach\": 114, \"exang\": 0, \"oldpeak\": 2.6, \"slope\": 0, \"ca\": 0, \"thal\": 2, \"target\": 1}, {\"age\": 43, \"sex\": 1, \"cp\": 0, \"trestbps\": 150, \"chol\": 247, \"fbs\": 0, \"restecg\": 1, \"thalach\": 171, \"exang\": 0, \"oldpeak\": 1.5, \"slope\": 2, \"ca\": 0, \"thal\": 2, \"target\": 1}, {\"age\": 69, \"sex\": 0, \"cp\": 3, \"trestbps\": 140, \"chol\": 239, \"fbs\": 0, \"restecg\": 1, \"thalach\": 151, \"exang\": 0, \"oldpeak\": 1.8, \"slope\": 2, \"ca\": 2, \"thal\": 2, \"target\": 1}, {\"age\": 59, \"sex\": 1, \"cp\": 0, \"trestbps\": 135, \"chol\": 234, \"fbs\": 0, \"restecg\": 1, \"thalach\": 161, \"exang\": 0, \"oldpeak\": 0.5, \"slope\": 1, \"ca\": 0, \"thal\": 3, \"target\": 1}, {\"age\": 44, \"sex\": 1, \"cp\": 2, \"trestbps\": 130, \"chol\": 233, \"fbs\": 0, \"restecg\": 1, \"thalach\": 179, \"exang\": 1, \"oldpeak\": 0.4, \"slope\": 2, \"ca\": 0, \"thal\": 2, \"target\": 1}, {\"age\": 42, \"sex\": 1, \"cp\": 0, \"trestbps\": 140, \"chol\": 226, \"fbs\": 0, \"restecg\": 1, \"thalach\": 178, \"exang\": 0, \"oldpeak\": 0.0, \"slope\": 2, \"ca\": 0, \"thal\": 2, \"target\": 1}, {\"age\": 61, \"sex\": 1, \"cp\": 2, \"trestbps\": 150, \"chol\": 243, \"fbs\": 1, \"restecg\": 1, \"thalach\": 137, \"exang\": 1, \"oldpeak\": 1.0, \"slope\": 1, \"ca\": 0, \"thal\": 2, \"target\": 1}, {\"age\": 40, \"sex\": 1, \"cp\": 3, \"trestbps\": 140, \"chol\": 199, \"fbs\": 0, \"restecg\": 1, \"thalach\": 178, \"exang\": 1, \"oldpeak\": 1.4, \"slope\": 2, \"ca\": 0, \"thal\": 3, \"target\": 1}, {\"age\": 71, \"sex\": 0, \"cp\": 1, \"trestbps\": 160, \"chol\": 302, \"fbs\": 0, \"restecg\": 1, \"thalach\": 162, \"exang\": 0, \"oldpeak\": 0.4, \"slope\": 2, \"ca\": 2, \"thal\": 2, \"target\": 1}, {\"age\": 59, \"sex\": 1, \"cp\": 2, \"trestbps\": 150, \"chol\": 212, \"fbs\": 1, \"restecg\": 1, \"thalach\": 157, \"exang\": 0, \"oldpeak\": 1.6, \"slope\": 2, \"ca\": 0, \"thal\": 2, \"target\": 1}, {\"age\": 51, \"sex\": 1, \"cp\": 2, \"trestbps\": 110, \"chol\": 175, \"fbs\": 0, \"restecg\": 1, \"thalach\": 123, \"exang\": 0, \"oldpeak\": 0.6, \"slope\": 2, \"ca\": 0, \"thal\": 2, \"target\": 1}, {\"age\": 65, \"sex\": 0, \"cp\": 2, \"trestbps\": 140, \"chol\": 417, \"fbs\": 1, \"restecg\": 0, \"thalach\": 157, \"exang\": 0, \"oldpeak\": 0.8, \"slope\": 2, \"ca\": 1, \"thal\": 2, \"target\": 1}, {\"age\": 53, \"sex\": 1, \"cp\": 2, \"trestbps\": 130, \"chol\": 197, \"fbs\": 1, \"restecg\": 0, \"thalach\": 152, \"exang\": 0, \"oldpeak\": 1.2, \"slope\": 0, \"ca\": 0, \"thal\": 2, \"target\": 1}, {\"age\": 41, \"sex\": 0, \"cp\": 1, \"trestbps\": 105, \"chol\": 198, \"fbs\": 0, \"restecg\": 1, \"thalach\": 168, \"exang\": 0, \"oldpeak\": 0.0, \"slope\": 2, \"ca\": 1, \"thal\": 2, \"target\": 1}, {\"age\": 65, \"sex\": 1, \"cp\": 0, \"trestbps\": 120, \"chol\": 177, \"fbs\": 0, \"restecg\": 1, \"thalach\": 140, \"exang\": 0, \"oldpeak\": 0.4, \"slope\": 2, \"ca\": 0, \"thal\": 3, \"target\": 1}, {\"age\": 44, \"sex\": 1, \"cp\": 1, \"trestbps\": 130, \"chol\": 219, \"fbs\": 0, \"restecg\": 0, \"thalach\": 188, \"exang\": 0, \"oldpeak\": 0.0, \"slope\": 2, \"ca\": 0, \"thal\": 2, \"target\": 1}, {\"age\": 54, \"sex\": 1, \"cp\": 2, \"trestbps\": 125, \"chol\": 273, \"fbs\": 0, \"restecg\": 0, \"thalach\": 152, \"exang\": 0, \"oldpeak\": 0.5, \"slope\": 0, \"ca\": 1, \"thal\": 2, \"target\": 1}, {\"age\": 51, \"sex\": 1, \"cp\": 3, \"trestbps\": 125, \"chol\": 213, \"fbs\": 0, \"restecg\": 0, \"thalach\": 125, \"exang\": 1, \"oldpeak\": 1.4, \"slope\": 2, \"ca\": 1, \"thal\": 2, \"target\": 1}, {\"age\": 46, \"sex\": 0, \"cp\": 2, \"trestbps\": 142, \"chol\": 177, \"fbs\": 0, \"restecg\": 0, \"thalach\": 160, \"exang\": 1, \"oldpeak\": 1.4, \"slope\": 0, \"ca\": 0, \"thal\": 2, \"target\": 1}, {\"age\": 54, \"sex\": 0, \"cp\": 2, \"trestbps\": 135, \"chol\": 304, \"fbs\": 1, \"restecg\": 1, \"thalach\": 170, \"exang\": 0, \"oldpeak\": 0.0, \"slope\": 2, \"ca\": 0, \"thal\": 2, \"target\": 1}, {\"age\": 54, \"sex\": 1, \"cp\": 2, \"trestbps\": 150, \"chol\": 232, \"fbs\": 0, \"restecg\": 0, \"thalach\": 165, \"exang\": 0, \"oldpeak\": 1.6, \"slope\": 2, \"ca\": 0, \"thal\": 3, \"target\": 1}, {\"age\": 65, \"sex\": 0, \"cp\": 2, \"trestbps\": 155, \"chol\": 269, \"fbs\": 0, \"restecg\": 1, \"thalach\": 148, \"exang\": 0, \"oldpeak\": 0.8, \"slope\": 2, \"ca\": 0, \"thal\": 2, \"target\": 1}, {\"age\": 65, \"sex\": 0, \"cp\": 2, \"trestbps\": 160, \"chol\": 360, \"fbs\": 0, \"restecg\": 0, \"thalach\": 151, \"exang\": 0, \"oldpeak\": 0.8, \"slope\": 2, \"ca\": 0, \"thal\": 2, \"target\": 1}, {\"age\": 51, \"sex\": 0, \"cp\": 2, \"trestbps\": 140, \"chol\": 308, \"fbs\": 0, \"restecg\": 0, \"thalach\": 142, \"exang\": 0, \"oldpeak\": 1.5, \"slope\": 2, \"ca\": 1, \"thal\": 2, \"target\": 1}, {\"age\": 48, \"sex\": 1, \"cp\": 1, \"trestbps\": 130, \"chol\": 245, \"fbs\": 0, \"restecg\": 0, \"thalach\": 180, \"exang\": 0, \"oldpeak\": 0.2, \"slope\": 1, \"ca\": 0, \"thal\": 2, \"target\": 1}, {\"age\": 45, \"sex\": 1, \"cp\": 0, \"trestbps\": 104, \"chol\": 208, \"fbs\": 0, \"restecg\": 0, \"thalach\": 148, \"exang\": 1, \"oldpeak\": 3.0, \"slope\": 1, \"ca\": 0, \"thal\": 2, \"target\": 1}, {\"age\": 53, \"sex\": 0, \"cp\": 0, \"trestbps\": 130, \"chol\": 264, \"fbs\": 0, \"restecg\": 0, \"thalach\": 143, \"exang\": 0, \"oldpeak\": 0.4, \"slope\": 1, \"ca\": 0, \"thal\": 2, \"target\": 1}, {\"age\": 39, \"sex\": 1, \"cp\": 2, \"trestbps\": 140, \"chol\": 321, \"fbs\": 0, \"restecg\": 0, \"thalach\": 182, \"exang\": 0, \"oldpeak\": 0.0, \"slope\": 2, \"ca\": 0, \"thal\": 2, \"target\": 1}, {\"age\": 52, \"sex\": 1, \"cp\": 1, \"trestbps\": 120, \"chol\": 325, \"fbs\": 0, \"restecg\": 1, \"thalach\": 172, \"exang\": 0, \"oldpeak\": 0.2, \"slope\": 2, \"ca\": 0, \"thal\": 2, \"target\": 1}, {\"age\": 44, \"sex\": 1, \"cp\": 2, \"trestbps\": 140, \"chol\": 235, \"fbs\": 0, \"restecg\": 0, \"thalach\": 180, \"exang\": 0, \"oldpeak\": 0.0, \"slope\": 2, \"ca\": 0, \"thal\": 2, \"target\": 1}, {\"age\": 47, \"sex\": 1, \"cp\": 2, \"trestbps\": 138, \"chol\": 257, \"fbs\": 0, \"restecg\": 0, \"thalach\": 156, \"exang\": 0, \"oldpeak\": 0.0, \"slope\": 2, \"ca\": 0, \"thal\": 2, \"target\": 1}, {\"age\": 53, \"sex\": 0, \"cp\": 2, \"trestbps\": 128, \"chol\": 216, \"fbs\": 0, \"restecg\": 0, \"thalach\": 115, \"exang\": 0, \"oldpeak\": 0.0, \"slope\": 2, \"ca\": 0, \"thal\": 0, \"target\": 1}, {\"age\": 53, \"sex\": 0, \"cp\": 0, \"trestbps\": 138, \"chol\": 234, \"fbs\": 0, \"restecg\": 0, \"thalach\": 160, \"exang\": 0, \"oldpeak\": 0.0, \"slope\": 2, \"ca\": 0, \"thal\": 2, \"target\": 1}, {\"age\": 51, \"sex\": 0, \"cp\": 2, \"trestbps\": 130, \"chol\": 256, \"fbs\": 0, \"restecg\": 0, \"thalach\": 149, \"exang\": 0, \"oldpeak\": 0.5, \"slope\": 2, \"ca\": 0, \"thal\": 2, \"target\": 1}, {\"age\": 66, \"sex\": 1, \"cp\": 0, \"trestbps\": 120, \"chol\": 302, \"fbs\": 0, \"restecg\": 0, \"thalach\": 151, \"exang\": 0, \"oldpeak\": 0.4, \"slope\": 1, \"ca\": 0, \"thal\": 2, \"target\": 1}, {\"age\": 62, \"sex\": 1, \"cp\": 2, \"trestbps\": 130, \"chol\": 231, \"fbs\": 0, \"restecg\": 1, \"thalach\": 146, \"exang\": 0, \"oldpeak\": 1.8, \"slope\": 1, \"ca\": 3, \"thal\": 3, \"target\": 1}, {\"age\": 44, \"sex\": 0, \"cp\": 2, \"trestbps\": 108, \"chol\": 141, \"fbs\": 0, \"restecg\": 1, \"thalach\": 175, \"exang\": 0, \"oldpeak\": 0.6, \"slope\": 1, \"ca\": 0, \"thal\": 2, \"target\": 1}, {\"age\": 63, \"sex\": 0, \"cp\": 2, \"trestbps\": 135, \"chol\": 252, \"fbs\": 0, \"restecg\": 0, \"thalach\": 172, \"exang\": 0, \"oldpeak\": 0.0, \"slope\": 2, \"ca\": 0, \"thal\": 2, \"target\": 1}, {\"age\": 52, \"sex\": 1, \"cp\": 1, \"trestbps\": 134, \"chol\": 201, \"fbs\": 0, \"restecg\": 1, \"thalach\": 158, \"exang\": 0, \"oldpeak\": 0.8, \"slope\": 2, \"ca\": 1, \"thal\": 2, \"target\": 1}, {\"age\": 48, \"sex\": 1, \"cp\": 0, \"trestbps\": 122, \"chol\": 222, \"fbs\": 0, \"restecg\": 0, \"thalach\": 186, \"exang\": 0, \"oldpeak\": 0.0, \"slope\": 2, \"ca\": 0, \"thal\": 2, \"target\": 1}, {\"age\": 45, \"sex\": 1, \"cp\": 0, \"trestbps\": 115, \"chol\": 260, \"fbs\": 0, \"restecg\": 0, \"thalach\": 185, \"exang\": 0, \"oldpeak\": 0.0, \"slope\": 2, \"ca\": 0, \"thal\": 2, \"target\": 1}, {\"age\": 34, \"sex\": 1, \"cp\": 3, \"trestbps\": 118, \"chol\": 182, \"fbs\": 0, \"restecg\": 0, \"thalach\": 174, \"exang\": 0, \"oldpeak\": 0.0, \"slope\": 2, \"ca\": 0, \"thal\": 2, \"target\": 1}, {\"age\": 57, \"sex\": 0, \"cp\": 0, \"trestbps\": 128, \"chol\": 303, \"fbs\": 0, \"restecg\": 0, \"thalach\": 159, \"exang\": 0, \"oldpeak\": 0.0, \"slope\": 2, \"ca\": 1, \"thal\": 2, \"target\": 1}, {\"age\": 71, \"sex\": 0, \"cp\": 2, \"trestbps\": 110, \"chol\": 265, \"fbs\": 1, \"restecg\": 0, \"thalach\": 130, \"exang\": 0, \"oldpeak\": 0.0, \"slope\": 2, \"ca\": 1, \"thal\": 2, \"target\": 1}, {\"age\": 54, \"sex\": 1, \"cp\": 1, \"trestbps\": 108, \"chol\": 309, \"fbs\": 0, \"restecg\": 1, \"thalach\": 156, \"exang\": 0, \"oldpeak\": 0.0, \"slope\": 2, \"ca\": 0, \"thal\": 3, \"target\": 1}, {\"age\": 52, \"sex\": 1, \"cp\": 3, \"trestbps\": 118, \"chol\": 186, \"fbs\": 0, \"restecg\": 0, \"thalach\": 190, \"exang\": 0, \"oldpeak\": 0.0, \"slope\": 1, \"ca\": 0, \"thal\": 1, \"target\": 1}, {\"age\": 41, \"sex\": 1, \"cp\": 1, \"trestbps\": 135, \"chol\": 203, \"fbs\": 0, \"restecg\": 1, \"thalach\": 132, \"exang\": 0, \"oldpeak\": 0.0, \"slope\": 1, \"ca\": 0, \"thal\": 1, \"target\": 1}, {\"age\": 58, \"sex\": 1, \"cp\": 2, \"trestbps\": 140, \"chol\": 211, \"fbs\": 1, \"restecg\": 0, \"thalach\": 165, \"exang\": 0, \"oldpeak\": 0.0, \"slope\": 2, \"ca\": 0, \"thal\": 2, \"target\": 1}, {\"age\": 35, \"sex\": 0, \"cp\": 0, \"trestbps\": 138, \"chol\": 183, \"fbs\": 0, \"restecg\": 1, \"thalach\": 182, \"exang\": 0, \"oldpeak\": 1.4, \"slope\": 2, \"ca\": 0, \"thal\": 2, \"target\": 1}, {\"age\": 51, \"sex\": 1, \"cp\": 2, \"trestbps\": 100, \"chol\": 222, \"fbs\": 0, \"restecg\": 1, \"thalach\": 143, \"exang\": 1, \"oldpeak\": 1.2, \"slope\": 1, \"ca\": 0, \"thal\": 2, \"target\": 1}, {\"age\": 45, \"sex\": 0, \"cp\": 1, \"trestbps\": 130, \"chol\": 234, \"fbs\": 0, \"restecg\": 0, \"thalach\": 175, \"exang\": 0, \"oldpeak\": 0.6, \"slope\": 1, \"ca\": 0, \"thal\": 2, \"target\": 1}, {\"age\": 44, \"sex\": 1, \"cp\": 1, \"trestbps\": 120, \"chol\": 220, \"fbs\": 0, \"restecg\": 1, \"thalach\": 170, \"exang\": 0, \"oldpeak\": 0.0, \"slope\": 2, \"ca\": 0, \"thal\": 2, \"target\": 1}, {\"age\": 62, \"sex\": 0, \"cp\": 0, \"trestbps\": 124, \"chol\": 209, \"fbs\": 0, \"restecg\": 1, \"thalach\": 163, \"exang\": 0, \"oldpeak\": 0.0, \"slope\": 2, \"ca\": 0, \"thal\": 2, \"target\": 1}, {\"age\": 54, \"sex\": 1, \"cp\": 2, \"trestbps\": 120, \"chol\": 258, \"fbs\": 0, \"restecg\": 0, \"thalach\": 147, \"exang\": 0, \"oldpeak\": 0.4, \"slope\": 1, \"ca\": 0, \"thal\": 3, \"target\": 1}, {\"age\": 51, \"sex\": 1, \"cp\": 2, \"trestbps\": 94, \"chol\": 227, \"fbs\": 0, \"restecg\": 1, \"thalach\": 154, \"exang\": 1, \"oldpeak\": 0.0, \"slope\": 2, \"ca\": 1, \"thal\": 3, \"target\": 1}, {\"age\": 29, \"sex\": 1, \"cp\": 1, \"trestbps\": 130, \"chol\": 204, \"fbs\": 0, \"restecg\": 0, \"thalach\": 202, \"exang\": 0, \"oldpeak\": 0.0, \"slope\": 2, \"ca\": 0, \"thal\": 2, \"target\": 1}, {\"age\": 51, \"sex\": 1, \"cp\": 0, \"trestbps\": 140, \"chol\": 261, \"fbs\": 0, \"restecg\": 0, \"thalach\": 186, \"exang\": 1, \"oldpeak\": 0.0, \"slope\": 2, \"ca\": 0, \"thal\": 2, \"target\": 1}, {\"age\": 43, \"sex\": 0, \"cp\": 2, \"trestbps\": 122, \"chol\": 213, \"fbs\": 0, \"restecg\": 1, \"thalach\": 165, \"exang\": 0, \"oldpeak\": 0.2, \"slope\": 1, \"ca\": 0, \"thal\": 2, \"target\": 1}, {\"age\": 55, \"sex\": 0, \"cp\": 1, \"trestbps\": 135, \"chol\": 250, \"fbs\": 0, \"restecg\": 0, \"thalach\": 161, \"exang\": 0, \"oldpeak\": 1.4, \"slope\": 1, \"ca\": 0, \"thal\": 2, \"target\": 1}, {\"age\": 51, \"sex\": 1, \"cp\": 2, \"trestbps\": 125, \"chol\": 245, \"fbs\": 1, \"restecg\": 0, \"thalach\": 166, \"exang\": 0, \"oldpeak\": 2.4, \"slope\": 1, \"ca\": 0, \"thal\": 2, \"target\": 1}, {\"age\": 59, \"sex\": 1, \"cp\": 1, \"trestbps\": 140, \"chol\": 221, \"fbs\": 0, \"restecg\": 1, \"thalach\": 164, \"exang\": 1, \"oldpeak\": 0.0, \"slope\": 2, \"ca\": 0, \"thal\": 2, \"target\": 1}, {\"age\": 52, \"sex\": 1, \"cp\": 1, \"trestbps\": 128, \"chol\": 205, \"fbs\": 1, \"restecg\": 1, \"thalach\": 184, \"exang\": 0, \"oldpeak\": 0.0, \"slope\": 2, \"ca\": 0, \"thal\": 2, \"target\": 1}, {\"age\": 58, \"sex\": 1, \"cp\": 2, \"trestbps\": 105, \"chol\": 240, \"fbs\": 0, \"restecg\": 0, \"thalach\": 154, \"exang\": 1, \"oldpeak\": 0.6, \"slope\": 1, \"ca\": 0, \"thal\": 3, \"target\": 1}, {\"age\": 41, \"sex\": 1, \"cp\": 2, \"trestbps\": 112, \"chol\": 250, \"fbs\": 0, \"restecg\": 1, \"thalach\": 179, \"exang\": 0, \"oldpeak\": 0.0, \"slope\": 2, \"ca\": 0, \"thal\": 2, \"target\": 1}, {\"age\": 45, \"sex\": 1, \"cp\": 1, \"trestbps\": 128, \"chol\": 308, \"fbs\": 0, \"restecg\": 0, \"thalach\": 170, \"exang\": 0, \"oldpeak\": 0.0, \"slope\": 2, \"ca\": 0, \"thal\": 2, \"target\": 1}, {\"age\": 60, \"sex\": 0, \"cp\": 2, \"trestbps\": 102, \"chol\": 318, \"fbs\": 0, \"restecg\": 1, \"thalach\": 160, \"exang\": 0, \"oldpeak\": 0.0, \"slope\": 2, \"ca\": 1, \"thal\": 2, \"target\": 1}, {\"age\": 52, \"sex\": 1, \"cp\": 3, \"trestbps\": 152, \"chol\": 298, \"fbs\": 1, \"restecg\": 1, \"thalach\": 178, \"exang\": 0, \"oldpeak\": 1.2, \"slope\": 1, \"ca\": 0, \"thal\": 3, \"target\": 1}, {\"age\": 42, \"sex\": 0, \"cp\": 0, \"trestbps\": 102, \"chol\": 265, \"fbs\": 0, \"restecg\": 0, \"thalach\": 122, \"exang\": 0, \"oldpeak\": 0.6, \"slope\": 1, \"ca\": 0, \"thal\": 2, \"target\": 1}, {\"age\": 67, \"sex\": 0, \"cp\": 2, \"trestbps\": 115, \"chol\": 564, \"fbs\": 0, \"restecg\": 0, \"thalach\": 160, \"exang\": 0, \"oldpeak\": 1.6, \"slope\": 1, \"ca\": 0, \"thal\": 3, \"target\": 1}, {\"age\": 68, \"sex\": 1, \"cp\": 2, \"trestbps\": 118, \"chol\": 277, \"fbs\": 0, \"restecg\": 1, \"thalach\": 151, \"exang\": 0, \"oldpeak\": 1.0, \"slope\": 2, \"ca\": 1, \"thal\": 3, \"target\": 1}, {\"age\": 46, \"sex\": 1, \"cp\": 1, \"trestbps\": 101, \"chol\": 197, \"fbs\": 1, \"restecg\": 1, \"thalach\": 156, \"exang\": 0, \"oldpeak\": 0.0, \"slope\": 2, \"ca\": 0, \"thal\": 3, \"target\": 1}, {\"age\": 54, \"sex\": 0, \"cp\": 2, \"trestbps\": 110, \"chol\": 214, \"fbs\": 0, \"restecg\": 1, \"thalach\": 158, \"exang\": 0, \"oldpeak\": 1.6, \"slope\": 1, \"ca\": 0, \"thal\": 2, \"target\": 1}, {\"age\": 58, \"sex\": 0, \"cp\": 0, \"trestbps\": 100, \"chol\": 248, \"fbs\": 0, \"restecg\": 0, \"thalach\": 122, \"exang\": 0, \"oldpeak\": 1.0, \"slope\": 1, \"ca\": 0, \"thal\": 2, \"target\": 1}, {\"age\": 48, \"sex\": 1, \"cp\": 2, \"trestbps\": 124, \"chol\": 255, \"fbs\": 1, \"restecg\": 1, \"thalach\": 175, \"exang\": 0, \"oldpeak\": 0.0, \"slope\": 2, \"ca\": 2, \"thal\": 2, \"target\": 1}, {\"age\": 57, \"sex\": 1, \"cp\": 0, \"trestbps\": 132, \"chol\": 207, \"fbs\": 0, \"restecg\": 1, \"thalach\": 168, \"exang\": 1, \"oldpeak\": 0.0, \"slope\": 2, \"ca\": 0, \"thal\": 3, \"target\": 1}, {\"age\": 52, \"sex\": 1, \"cp\": 2, \"trestbps\": 138, \"chol\": 223, \"fbs\": 0, \"restecg\": 1, \"thalach\": 169, \"exang\": 0, \"oldpeak\": 0.0, \"slope\": 2, \"ca\": 4, \"thal\": 2, \"target\": 1}, {\"age\": 54, \"sex\": 0, \"cp\": 1, \"trestbps\": 132, \"chol\": 288, \"fbs\": 1, \"restecg\": 0, \"thalach\": 159, \"exang\": 1, \"oldpeak\": 0.0, \"slope\": 2, \"ca\": 1, \"thal\": 2, \"target\": 1}, {\"age\": 45, \"sex\": 0, \"cp\": 1, \"trestbps\": 112, \"chol\": 160, \"fbs\": 0, \"restecg\": 1, \"thalach\": 138, \"exang\": 0, \"oldpeak\": 0.0, \"slope\": 1, \"ca\": 0, \"thal\": 2, \"target\": 1}, {\"age\": 53, \"sex\": 1, \"cp\": 0, \"trestbps\": 142, \"chol\": 226, \"fbs\": 0, \"restecg\": 0, \"thalach\": 111, \"exang\": 1, \"oldpeak\": 0.0, \"slope\": 2, \"ca\": 0, \"thal\": 3, \"target\": 1}, {\"age\": 62, \"sex\": 0, \"cp\": 0, \"trestbps\": 140, \"chol\": 394, \"fbs\": 0, \"restecg\": 0, \"thalach\": 157, \"exang\": 0, \"oldpeak\": 1.2, \"slope\": 1, \"ca\": 0, \"thal\": 2, \"target\": 1}, {\"age\": 52, \"sex\": 1, \"cp\": 0, \"trestbps\": 108, \"chol\": 233, \"fbs\": 1, \"restecg\": 1, \"thalach\": 147, \"exang\": 0, \"oldpeak\": 0.1, \"slope\": 2, \"ca\": 3, \"thal\": 3, \"target\": 1}, {\"age\": 43, \"sex\": 1, \"cp\": 2, \"trestbps\": 130, \"chol\": 315, \"fbs\": 0, \"restecg\": 1, \"thalach\": 162, \"exang\": 0, \"oldpeak\": 1.9, \"slope\": 2, \"ca\": 1, \"thal\": 2, \"target\": 1}, {\"age\": 53, \"sex\": 1, \"cp\": 2, \"trestbps\": 130, \"chol\": 246, \"fbs\": 1, \"restecg\": 0, \"thalach\": 173, \"exang\": 0, \"oldpeak\": 0.0, \"slope\": 2, \"ca\": 3, \"thal\": 2, \"target\": 1}, {\"age\": 42, \"sex\": 1, \"cp\": 3, \"trestbps\": 148, \"chol\": 244, \"fbs\": 0, \"restecg\": 0, \"thalach\": 178, \"exang\": 0, \"oldpeak\": 0.8, \"slope\": 2, \"ca\": 2, \"thal\": 2, \"target\": 1}, {\"age\": 59, \"sex\": 1, \"cp\": 3, \"trestbps\": 178, \"chol\": 270, \"fbs\": 0, \"restecg\": 0, \"thalach\": 145, \"exang\": 0, \"oldpeak\": 4.2, \"slope\": 0, \"ca\": 0, \"thal\": 3, \"target\": 1}, {\"age\": 63, \"sex\": 0, \"cp\": 1, \"trestbps\": 140, \"chol\": 195, \"fbs\": 0, \"restecg\": 1, \"thalach\": 179, \"exang\": 0, \"oldpeak\": 0.0, \"slope\": 2, \"ca\": 2, \"thal\": 2, \"target\": 1}, {\"age\": 42, \"sex\": 1, \"cp\": 2, \"trestbps\": 120, \"chol\": 240, \"fbs\": 1, \"restecg\": 1, \"thalach\": 194, \"exang\": 0, \"oldpeak\": 0.8, \"slope\": 0, \"ca\": 0, \"thal\": 3, \"target\": 1}, {\"age\": 50, \"sex\": 1, \"cp\": 2, \"trestbps\": 129, \"chol\": 196, \"fbs\": 0, \"restecg\": 1, \"thalach\": 163, \"exang\": 0, \"oldpeak\": 0.0, \"slope\": 2, \"ca\": 0, \"thal\": 2, \"target\": 1}, {\"age\": 68, \"sex\": 0, \"cp\": 2, \"trestbps\": 120, \"chol\": 211, \"fbs\": 0, \"restecg\": 0, \"thalach\": 115, \"exang\": 0, \"oldpeak\": 1.5, \"slope\": 1, \"ca\": 0, \"thal\": 2, \"target\": 1}, {\"age\": 69, \"sex\": 1, \"cp\": 3, \"trestbps\": 160, \"chol\": 234, \"fbs\": 1, \"restecg\": 0, \"thalach\": 131, \"exang\": 0, \"oldpeak\": 0.1, \"slope\": 1, \"ca\": 1, \"thal\": 2, \"target\": 1}, {\"age\": 45, \"sex\": 0, \"cp\": 0, \"trestbps\": 138, \"chol\": 236, \"fbs\": 0, \"restecg\": 0, \"thalach\": 152, \"exang\": 1, \"oldpeak\": 0.2, \"slope\": 1, \"ca\": 0, \"thal\": 2, \"target\": 1}, {\"age\": 50, \"sex\": 0, \"cp\": 1, \"trestbps\": 120, \"chol\": 244, \"fbs\": 0, \"restecg\": 1, \"thalach\": 162, \"exang\": 0, \"oldpeak\": 1.1, \"slope\": 2, \"ca\": 0, \"thal\": 2, \"target\": 1}, {\"age\": 50, \"sex\": 0, \"cp\": 0, \"trestbps\": 110, \"chol\": 254, \"fbs\": 0, \"restecg\": 0, \"thalach\": 159, \"exang\": 0, \"oldpeak\": 0.0, \"slope\": 2, \"ca\": 0, \"thal\": 2, \"target\": 1}, {\"age\": 64, \"sex\": 0, \"cp\": 0, \"trestbps\": 180, \"chol\": 325, \"fbs\": 0, \"restecg\": 1, \"thalach\": 154, \"exang\": 1, \"oldpeak\": 0.0, \"slope\": 2, \"ca\": 0, \"thal\": 2, \"target\": 1}, {\"age\": 57, \"sex\": 1, \"cp\": 2, \"trestbps\": 150, \"chol\": 126, \"fbs\": 1, \"restecg\": 1, \"thalach\": 173, \"exang\": 0, \"oldpeak\": 0.2, \"slope\": 2, \"ca\": 1, \"thal\": 3, \"target\": 1}, {\"age\": 64, \"sex\": 0, \"cp\": 2, \"trestbps\": 140, \"chol\": 313, \"fbs\": 0, \"restecg\": 1, \"thalach\": 133, \"exang\": 0, \"oldpeak\": 0.2, \"slope\": 2, \"ca\": 0, \"thal\": 3, \"target\": 1}, {\"age\": 43, \"sex\": 1, \"cp\": 0, \"trestbps\": 110, \"chol\": 211, \"fbs\": 0, \"restecg\": 1, \"thalach\": 161, \"exang\": 0, \"oldpeak\": 0.0, \"slope\": 2, \"ca\": 0, \"thal\": 3, \"target\": 1}, {\"age\": 55, \"sex\": 1, \"cp\": 1, \"trestbps\": 130, \"chol\": 262, \"fbs\": 0, \"restecg\": 1, \"thalach\": 155, \"exang\": 0, \"oldpeak\": 0.0, \"slope\": 2, \"ca\": 0, \"thal\": 2, \"target\": 1}, {\"age\": 37, \"sex\": 0, \"cp\": 2, \"trestbps\": 120, \"chol\": 215, \"fbs\": 0, \"restecg\": 1, \"thalach\": 170, \"exang\": 0, \"oldpeak\": 0.0, \"slope\": 2, \"ca\": 0, \"thal\": 2, \"target\": 1}, {\"age\": 41, \"sex\": 1, \"cp\": 2, \"trestbps\": 130, \"chol\": 214, \"fbs\": 0, \"restecg\": 0, \"thalach\": 168, \"exang\": 0, \"oldpeak\": 2.0, \"slope\": 1, \"ca\": 0, \"thal\": 2, \"target\": 1}, {\"age\": 56, \"sex\": 1, \"cp\": 3, \"trestbps\": 120, \"chol\": 193, \"fbs\": 0, \"restecg\": 0, \"thalach\": 162, \"exang\": 0, \"oldpeak\": 1.9, \"slope\": 1, \"ca\": 0, \"thal\": 3, \"target\": 1}, {\"age\": 46, \"sex\": 0, \"cp\": 1, \"trestbps\": 105, \"chol\": 204, \"fbs\": 0, \"restecg\": 1, \"thalach\": 172, \"exang\": 0, \"oldpeak\": 0.0, \"slope\": 2, \"ca\": 0, \"thal\": 2, \"target\": 1}, {\"age\": 46, \"sex\": 0, \"cp\": 0, \"trestbps\": 138, \"chol\": 243, \"fbs\": 0, \"restecg\": 0, \"thalach\": 152, \"exang\": 1, \"oldpeak\": 0.0, \"slope\": 1, \"ca\": 0, \"thal\": 2, \"target\": 1}, {\"age\": 64, \"sex\": 0, \"cp\": 0, \"trestbps\": 130, \"chol\": 303, \"fbs\": 0, \"restecg\": 1, \"thalach\": 122, \"exang\": 0, \"oldpeak\": 2.0, \"slope\": 1, \"ca\": 2, \"thal\": 2, \"target\": 1}, {\"age\": 59, \"sex\": 1, \"cp\": 0, \"trestbps\": 138, \"chol\": 271, \"fbs\": 0, \"restecg\": 0, \"thalach\": 182, \"exang\": 0, \"oldpeak\": 0.0, \"slope\": 2, \"ca\": 0, \"thal\": 2, \"target\": 1}, {\"age\": 41, \"sex\": 0, \"cp\": 2, \"trestbps\": 112, \"chol\": 268, \"fbs\": 0, \"restecg\": 0, \"thalach\": 172, \"exang\": 1, \"oldpeak\": 0.0, \"slope\": 2, \"ca\": 0, \"thal\": 2, \"target\": 1}, {\"age\": 54, \"sex\": 0, \"cp\": 2, \"trestbps\": 108, \"chol\": 267, \"fbs\": 0, \"restecg\": 0, \"thalach\": 167, \"exang\": 0, \"oldpeak\": 0.0, \"slope\": 2, \"ca\": 0, \"thal\": 2, \"target\": 1}, {\"age\": 39, \"sex\": 0, \"cp\": 2, \"trestbps\": 94, \"chol\": 199, \"fbs\": 0, \"restecg\": 1, \"thalach\": 179, \"exang\": 0, \"oldpeak\": 0.0, \"slope\": 2, \"ca\": 0, \"thal\": 2, \"target\": 1}, {\"age\": 34, \"sex\": 0, \"cp\": 1, \"trestbps\": 118, \"chol\": 210, \"fbs\": 0, \"restecg\": 1, \"thalach\": 192, \"exang\": 0, \"oldpeak\": 0.7, \"slope\": 2, \"ca\": 0, \"thal\": 2, \"target\": 1}, {\"age\": 47, \"sex\": 1, \"cp\": 0, \"trestbps\": 112, \"chol\": 204, \"fbs\": 0, \"restecg\": 1, \"thalach\": 143, \"exang\": 0, \"oldpeak\": 0.1, \"slope\": 2, \"ca\": 0, \"thal\": 2, \"target\": 1}, {\"age\": 67, \"sex\": 0, \"cp\": 2, \"trestbps\": 152, \"chol\": 277, \"fbs\": 0, \"restecg\": 1, \"thalach\": 172, \"exang\": 0, \"oldpeak\": 0.0, \"slope\": 2, \"ca\": 1, \"thal\": 2, \"target\": 1}, {\"age\": 52, \"sex\": 0, \"cp\": 2, \"trestbps\": 136, \"chol\": 196, \"fbs\": 0, \"restecg\": 0, \"thalach\": 169, \"exang\": 0, \"oldpeak\": 0.1, \"slope\": 1, \"ca\": 0, \"thal\": 2, \"target\": 1}, {\"age\": 74, \"sex\": 0, \"cp\": 1, \"trestbps\": 120, \"chol\": 269, \"fbs\": 0, \"restecg\": 0, \"thalach\": 121, \"exang\": 1, \"oldpeak\": 0.2, \"slope\": 2, \"ca\": 1, \"thal\": 2, \"target\": 1}, {\"age\": 54, \"sex\": 0, \"cp\": 2, \"trestbps\": 160, \"chol\": 201, \"fbs\": 0, \"restecg\": 1, \"thalach\": 163, \"exang\": 0, \"oldpeak\": 0.0, \"slope\": 2, \"ca\": 1, \"thal\": 2, \"target\": 1}, {\"age\": 49, \"sex\": 0, \"cp\": 1, \"trestbps\": 134, \"chol\": 271, \"fbs\": 0, \"restecg\": 1, \"thalach\": 162, \"exang\": 0, \"oldpeak\": 0.0, \"slope\": 1, \"ca\": 0, \"thal\": 2, \"target\": 1}, {\"age\": 42, \"sex\": 1, \"cp\": 1, \"trestbps\": 120, \"chol\": 295, \"fbs\": 0, \"restecg\": 1, \"thalach\": 162, \"exang\": 0, \"oldpeak\": 0.0, \"slope\": 2, \"ca\": 0, \"thal\": 2, \"target\": 1}, {\"age\": 41, \"sex\": 1, \"cp\": 1, \"trestbps\": 110, \"chol\": 235, \"fbs\": 0, \"restecg\": 1, \"thalach\": 153, \"exang\": 0, \"oldpeak\": 0.0, \"slope\": 2, \"ca\": 0, \"thal\": 2, \"target\": 1}, {\"age\": 41, \"sex\": 0, \"cp\": 1, \"trestbps\": 126, \"chol\": 306, \"fbs\": 0, \"restecg\": 1, \"thalach\": 163, \"exang\": 0, \"oldpeak\": 0.0, \"slope\": 2, \"ca\": 0, \"thal\": 2, \"target\": 1}, {\"age\": 49, \"sex\": 0, \"cp\": 0, \"trestbps\": 130, \"chol\": 269, \"fbs\": 0, \"restecg\": 1, \"thalach\": 163, \"exang\": 0, \"oldpeak\": 0.0, \"slope\": 2, \"ca\": 0, \"thal\": 2, \"target\": 1}, {\"age\": 60, \"sex\": 0, \"cp\": 2, \"trestbps\": 120, \"chol\": 178, \"fbs\": 1, \"restecg\": 1, \"thalach\": 96, \"exang\": 0, \"oldpeak\": 0.0, \"slope\": 2, \"ca\": 0, \"thal\": 2, \"target\": 1}, {\"age\": 62, \"sex\": 1, \"cp\": 1, \"trestbps\": 128, \"chol\": 208, \"fbs\": 1, \"restecg\": 0, \"thalach\": 140, \"exang\": 0, \"oldpeak\": 0.0, \"slope\": 2, \"ca\": 0, \"thal\": 2, \"target\": 1}, {\"age\": 57, \"sex\": 1, \"cp\": 0, \"trestbps\": 110, \"chol\": 201, \"fbs\": 0, \"restecg\": 1, \"thalach\": 126, \"exang\": 1, \"oldpeak\": 1.5, \"slope\": 1, \"ca\": 0, \"thal\": 1, \"target\": 1}, {\"age\": 64, \"sex\": 1, \"cp\": 0, \"trestbps\": 128, \"chol\": 263, \"fbs\": 0, \"restecg\": 1, \"thalach\": 105, \"exang\": 1, \"oldpeak\": 0.2, \"slope\": 1, \"ca\": 1, \"thal\": 3, \"target\": 1}, {\"age\": 51, \"sex\": 0, \"cp\": 2, \"trestbps\": 120, \"chol\": 295, \"fbs\": 0, \"restecg\": 0, \"thalach\": 157, \"exang\": 0, \"oldpeak\": 0.6, \"slope\": 2, \"ca\": 0, \"thal\": 2, \"target\": 1}, {\"age\": 43, \"sex\": 1, \"cp\": 0, \"trestbps\": 115, \"chol\": 303, \"fbs\": 0, \"restecg\": 1, \"thalach\": 181, \"exang\": 0, \"oldpeak\": 1.2, \"slope\": 1, \"ca\": 0, \"thal\": 2, \"target\": 1}, {\"age\": 42, \"sex\": 0, \"cp\": 2, \"trestbps\": 120, \"chol\": 209, \"fbs\": 0, \"restecg\": 1, \"thalach\": 173, \"exang\": 0, \"oldpeak\": 0.0, \"slope\": 1, \"ca\": 0, \"thal\": 2, \"target\": 1}, {\"age\": 67, \"sex\": 0, \"cp\": 0, \"trestbps\": 106, \"chol\": 223, \"fbs\": 0, \"restecg\": 1, \"thalach\": 142, \"exang\": 0, \"oldpeak\": 0.3, \"slope\": 2, \"ca\": 2, \"thal\": 2, \"target\": 1}, {\"age\": 76, \"sex\": 0, \"cp\": 2, \"trestbps\": 140, \"chol\": 197, \"fbs\": 0, \"restecg\": 2, \"thalach\": 116, \"exang\": 0, \"oldpeak\": 1.1, \"slope\": 1, \"ca\": 0, \"thal\": 2, \"target\": 1}, {\"age\": 70, \"sex\": 1, \"cp\": 1, \"trestbps\": 156, \"chol\": 245, \"fbs\": 0, \"restecg\": 0, \"thalach\": 143, \"exang\": 0, \"oldpeak\": 0.0, \"slope\": 2, \"ca\": 0, \"thal\": 2, \"target\": 1}, {\"age\": 44, \"sex\": 0, \"cp\": 2, \"trestbps\": 118, \"chol\": 242, \"fbs\": 0, \"restecg\": 1, \"thalach\": 149, \"exang\": 0, \"oldpeak\": 0.3, \"slope\": 1, \"ca\": 1, \"thal\": 2, \"target\": 1}, {\"age\": 60, \"sex\": 0, \"cp\": 3, \"trestbps\": 150, \"chol\": 240, \"fbs\": 0, \"restecg\": 1, \"thalach\": 171, \"exang\": 0, \"oldpeak\": 0.9, \"slope\": 2, \"ca\": 0, \"thal\": 2, \"target\": 1}, {\"age\": 44, \"sex\": 1, \"cp\": 2, \"trestbps\": 120, \"chol\": 226, \"fbs\": 0, \"restecg\": 1, \"thalach\": 169, \"exang\": 0, \"oldpeak\": 0.0, \"slope\": 2, \"ca\": 0, \"thal\": 2, \"target\": 1}, {\"age\": 42, \"sex\": 1, \"cp\": 2, \"trestbps\": 130, \"chol\": 180, \"fbs\": 0, \"restecg\": 1, \"thalach\": 150, \"exang\": 0, \"oldpeak\": 0.0, \"slope\": 2, \"ca\": 0, \"thal\": 2, \"target\": 1}, {\"age\": 66, \"sex\": 1, \"cp\": 0, \"trestbps\": 160, \"chol\": 228, \"fbs\": 0, \"restecg\": 0, \"thalach\": 138, \"exang\": 0, \"oldpeak\": 2.3, \"slope\": 2, \"ca\": 0, \"thal\": 1, \"target\": 1}, {\"age\": 71, \"sex\": 0, \"cp\": 0, \"trestbps\": 112, \"chol\": 149, \"fbs\": 0, \"restecg\": 1, \"thalach\": 125, \"exang\": 0, \"oldpeak\": 1.6, \"slope\": 1, \"ca\": 0, \"thal\": 2, \"target\": 1}, {\"age\": 64, \"sex\": 1, \"cp\": 3, \"trestbps\": 170, \"chol\": 227, \"fbs\": 0, \"restecg\": 0, \"thalach\": 155, \"exang\": 0, \"oldpeak\": 0.6, \"slope\": 1, \"ca\": 0, \"thal\": 3, \"target\": 1}, {\"age\": 66, \"sex\": 0, \"cp\": 2, \"trestbps\": 146, \"chol\": 278, \"fbs\": 0, \"restecg\": 0, \"thalach\": 152, \"exang\": 0, \"oldpeak\": 0.0, \"slope\": 1, \"ca\": 1, \"thal\": 2, \"target\": 1}, {\"age\": 39, \"sex\": 0, \"cp\": 2, \"trestbps\": 138, \"chol\": 220, \"fbs\": 0, \"restecg\": 1, \"thalach\": 152, \"exang\": 0, \"oldpeak\": 0.0, \"slope\": 1, \"ca\": 0, \"thal\": 2, \"target\": 1}, {\"age\": 58, \"sex\": 0, \"cp\": 0, \"trestbps\": 130, \"chol\": 197, \"fbs\": 0, \"restecg\": 1, \"thalach\": 131, \"exang\": 0, \"oldpeak\": 0.6, \"slope\": 1, \"ca\": 0, \"thal\": 2, \"target\": 1}, {\"age\": 47, \"sex\": 1, \"cp\": 2, \"trestbps\": 130, \"chol\": 253, \"fbs\": 0, \"restecg\": 1, \"thalach\": 179, \"exang\": 0, \"oldpeak\": 0.0, \"slope\": 2, \"ca\": 0, \"thal\": 2, \"target\": 1}, {\"age\": 35, \"sex\": 1, \"cp\": 1, \"trestbps\": 122, \"chol\": 192, \"fbs\": 0, \"restecg\": 1, \"thalach\": 174, \"exang\": 0, \"oldpeak\": 0.0, \"slope\": 2, \"ca\": 0, \"thal\": 2, \"target\": 1}, {\"age\": 58, \"sex\": 1, \"cp\": 1, \"trestbps\": 125, \"chol\": 220, \"fbs\": 0, \"restecg\": 1, \"thalach\": 144, \"exang\": 0, \"oldpeak\": 0.4, \"slope\": 1, \"ca\": 4, \"thal\": 3, \"target\": 1}, {\"age\": 56, \"sex\": 1, \"cp\": 1, \"trestbps\": 130, \"chol\": 221, \"fbs\": 0, \"restecg\": 0, \"thalach\": 163, \"exang\": 0, \"oldpeak\": 0.0, \"slope\": 2, \"ca\": 0, \"thal\": 3, \"target\": 1}, {\"age\": 56, \"sex\": 1, \"cp\": 1, \"trestbps\": 120, \"chol\": 240, \"fbs\": 0, \"restecg\": 1, \"thalach\": 169, \"exang\": 0, \"oldpeak\": 0.0, \"slope\": 0, \"ca\": 0, \"thal\": 2, \"target\": 1}, {\"age\": 55, \"sex\": 0, \"cp\": 1, \"trestbps\": 132, \"chol\": 342, \"fbs\": 0, \"restecg\": 1, \"thalach\": 166, \"exang\": 0, \"oldpeak\": 1.2, \"slope\": 2, \"ca\": 0, \"thal\": 2, \"target\": 1}, {\"age\": 41, \"sex\": 1, \"cp\": 1, \"trestbps\": 120, \"chol\": 157, \"fbs\": 0, \"restecg\": 1, \"thalach\": 182, \"exang\": 0, \"oldpeak\": 0.0, \"slope\": 2, \"ca\": 0, \"thal\": 2, \"target\": 1}, {\"age\": 38, \"sex\": 1, \"cp\": 2, \"trestbps\": 138, \"chol\": 175, \"fbs\": 0, \"restecg\": 1, \"thalach\": 173, \"exang\": 0, \"oldpeak\": 0.0, \"slope\": 2, \"ca\": 4, \"thal\": 2, \"target\": 1}, {\"age\": 38, \"sex\": 1, \"cp\": 2, \"trestbps\": 138, \"chol\": 175, \"fbs\": 0, \"restecg\": 1, \"thalach\": 173, \"exang\": 0, \"oldpeak\": 0.0, \"slope\": 2, \"ca\": 4, \"thal\": 2, \"target\": 1}, {\"age\": 67, \"sex\": 1, \"cp\": 0, \"trestbps\": 160, \"chol\": 286, \"fbs\": 0, \"restecg\": 0, \"thalach\": 108, \"exang\": 1, \"oldpeak\": 1.5, \"slope\": 1, \"ca\": 3, \"thal\": 2, \"target\": 0}, {\"age\": 67, \"sex\": 1, \"cp\": 0, \"trestbps\": 120, \"chol\": 229, \"fbs\": 0, \"restecg\": 0, \"thalach\": 129, \"exang\": 1, \"oldpeak\": 2.6, \"slope\": 1, \"ca\": 2, \"thal\": 3, \"target\": 0}, {\"age\": 62, \"sex\": 0, \"cp\": 0, \"trestbps\": 140, \"chol\": 268, \"fbs\": 0, \"restecg\": 0, \"thalach\": 160, \"exang\": 0, \"oldpeak\": 3.6, \"slope\": 0, \"ca\": 2, \"thal\": 2, \"target\": 0}, {\"age\": 63, \"sex\": 1, \"cp\": 0, \"trestbps\": 130, \"chol\": 254, \"fbs\": 0, \"restecg\": 0, \"thalach\": 147, \"exang\": 0, \"oldpeak\": 1.4, \"slope\": 1, \"ca\": 1, \"thal\": 3, \"target\": 0}, {\"age\": 53, \"sex\": 1, \"cp\": 0, \"trestbps\": 140, \"chol\": 203, \"fbs\": 1, \"restecg\": 0, \"thalach\": 155, \"exang\": 1, \"oldpeak\": 3.1, \"slope\": 0, \"ca\": 0, \"thal\": 3, \"target\": 0}, {\"age\": 56, \"sex\": 1, \"cp\": 2, \"trestbps\": 130, \"chol\": 256, \"fbs\": 1, \"restecg\": 0, \"thalach\": 142, \"exang\": 1, \"oldpeak\": 0.6, \"slope\": 1, \"ca\": 1, \"thal\": 1, \"target\": 0}, {\"age\": 48, \"sex\": 1, \"cp\": 1, \"trestbps\": 110, \"chol\": 229, \"fbs\": 0, \"restecg\": 1, \"thalach\": 168, \"exang\": 0, \"oldpeak\": 1.0, \"slope\": 0, \"ca\": 0, \"thal\": 3, \"target\": 0}, {\"age\": 58, \"sex\": 1, \"cp\": 1, \"trestbps\": 120, \"chol\": 284, \"fbs\": 0, \"restecg\": 0, \"thalach\": 160, \"exang\": 0, \"oldpeak\": 1.8, \"slope\": 1, \"ca\": 0, \"thal\": 2, \"target\": 0}, {\"age\": 58, \"sex\": 1, \"cp\": 2, \"trestbps\": 132, \"chol\": 224, \"fbs\": 0, \"restecg\": 0, \"thalach\": 173, \"exang\": 0, \"oldpeak\": 3.2, \"slope\": 2, \"ca\": 2, \"thal\": 3, \"target\": 0}, {\"age\": 60, \"sex\": 1, \"cp\": 0, \"trestbps\": 130, \"chol\": 206, \"fbs\": 0, \"restecg\": 0, \"thalach\": 132, \"exang\": 1, \"oldpeak\": 2.4, \"slope\": 1, \"ca\": 2, \"thal\": 3, \"target\": 0}, {\"age\": 40, \"sex\": 1, \"cp\": 0, \"trestbps\": 110, \"chol\": 167, \"fbs\": 0, \"restecg\": 0, \"thalach\": 114, \"exang\": 1, \"oldpeak\": 2.0, \"slope\": 1, \"ca\": 0, \"thal\": 3, \"target\": 0}, {\"age\": 60, \"sex\": 1, \"cp\": 0, \"trestbps\": 117, \"chol\": 230, \"fbs\": 1, \"restecg\": 1, \"thalach\": 160, \"exang\": 1, \"oldpeak\": 1.4, \"slope\": 2, \"ca\": 2, \"thal\": 3, \"target\": 0}, {\"age\": 64, \"sex\": 1, \"cp\": 2, \"trestbps\": 140, \"chol\": 335, \"fbs\": 0, \"restecg\": 1, \"thalach\": 158, \"exang\": 0, \"oldpeak\": 0.0, \"slope\": 2, \"ca\": 0, \"thal\": 2, \"target\": 0}, {\"age\": 43, \"sex\": 1, \"cp\": 0, \"trestbps\": 120, \"chol\": 177, \"fbs\": 0, \"restecg\": 0, \"thalach\": 120, \"exang\": 1, \"oldpeak\": 2.5, \"slope\": 1, \"ca\": 0, \"thal\": 3, \"target\": 0}, {\"age\": 57, \"sex\": 1, \"cp\": 0, \"trestbps\": 150, \"chol\": 276, \"fbs\": 0, \"restecg\": 0, \"thalach\": 112, \"exang\": 1, \"oldpeak\": 0.6, \"slope\": 1, \"ca\": 1, \"thal\": 1, \"target\": 0}, {\"age\": 55, \"sex\": 1, \"cp\": 0, \"trestbps\": 132, \"chol\": 353, \"fbs\": 0, \"restecg\": 1, \"thalach\": 132, \"exang\": 1, \"oldpeak\": 1.2, \"slope\": 1, \"ca\": 1, \"thal\": 3, \"target\": 0}, {\"age\": 65, \"sex\": 0, \"cp\": 0, \"trestbps\": 150, \"chol\": 225, \"fbs\": 0, \"restecg\": 0, \"thalach\": 114, \"exang\": 0, \"oldpeak\": 1.0, \"slope\": 1, \"ca\": 3, \"thal\": 3, \"target\": 0}, {\"age\": 61, \"sex\": 0, \"cp\": 0, \"trestbps\": 130, \"chol\": 330, \"fbs\": 0, \"restecg\": 0, \"thalach\": 169, \"exang\": 0, \"oldpeak\": 0.0, \"slope\": 2, \"ca\": 0, \"thal\": 2, \"target\": 0}, {\"age\": 58, \"sex\": 1, \"cp\": 2, \"trestbps\": 112, \"chol\": 230, \"fbs\": 0, \"restecg\": 0, \"thalach\": 165, \"exang\": 0, \"oldpeak\": 2.5, \"slope\": 1, \"ca\": 1, \"thal\": 3, \"target\": 0}, {\"age\": 50, \"sex\": 1, \"cp\": 0, \"trestbps\": 150, \"chol\": 243, \"fbs\": 0, \"restecg\": 0, \"thalach\": 128, \"exang\": 0, \"oldpeak\": 2.6, \"slope\": 1, \"ca\": 0, \"thal\": 3, \"target\": 0}, {\"age\": 44, \"sex\": 1, \"cp\": 0, \"trestbps\": 112, \"chol\": 290, \"fbs\": 0, \"restecg\": 0, \"thalach\": 153, \"exang\": 0, \"oldpeak\": 0.0, \"slope\": 2, \"ca\": 1, \"thal\": 2, \"target\": 0}, {\"age\": 60, \"sex\": 1, \"cp\": 0, \"trestbps\": 130, \"chol\": 253, \"fbs\": 0, \"restecg\": 1, \"thalach\": 144, \"exang\": 1, \"oldpeak\": 1.4, \"slope\": 2, \"ca\": 1, \"thal\": 3, \"target\": 0}, {\"age\": 54, \"sex\": 1, \"cp\": 0, \"trestbps\": 124, \"chol\": 266, \"fbs\": 0, \"restecg\": 0, \"thalach\": 109, \"exang\": 1, \"oldpeak\": 2.2, \"slope\": 1, \"ca\": 1, \"thal\": 3, \"target\": 0}, {\"age\": 50, \"sex\": 1, \"cp\": 2, \"trestbps\": 140, \"chol\": 233, \"fbs\": 0, \"restecg\": 1, \"thalach\": 163, \"exang\": 0, \"oldpeak\": 0.6, \"slope\": 1, \"ca\": 1, \"thal\": 3, \"target\": 0}, {\"age\": 41, \"sex\": 1, \"cp\": 0, \"trestbps\": 110, \"chol\": 172, \"fbs\": 0, \"restecg\": 0, \"thalach\": 158, \"exang\": 0, \"oldpeak\": 0.0, \"slope\": 2, \"ca\": 0, \"thal\": 3, \"target\": 0}, {\"age\": 51, \"sex\": 0, \"cp\": 0, \"trestbps\": 130, \"chol\": 305, \"fbs\": 0, \"restecg\": 1, \"thalach\": 142, \"exang\": 1, \"oldpeak\": 1.2, \"slope\": 1, \"ca\": 0, \"thal\": 3, \"target\": 0}, {\"age\": 58, \"sex\": 1, \"cp\": 0, \"trestbps\": 128, \"chol\": 216, \"fbs\": 0, \"restecg\": 0, \"thalach\": 131, \"exang\": 1, \"oldpeak\": 2.2, \"slope\": 1, \"ca\": 3, \"thal\": 3, \"target\": 0}, {\"age\": 54, \"sex\": 1, \"cp\": 0, \"trestbps\": 120, \"chol\": 188, \"fbs\": 0, \"restecg\": 1, \"thalach\": 113, \"exang\": 0, \"oldpeak\": 1.4, \"slope\": 1, \"ca\": 1, \"thal\": 3, \"target\": 0}, {\"age\": 60, \"sex\": 1, \"cp\": 0, \"trestbps\": 145, \"chol\": 282, \"fbs\": 0, \"restecg\": 0, \"thalach\": 142, \"exang\": 1, \"oldpeak\": 2.8, \"slope\": 1, \"ca\": 2, \"thal\": 3, \"target\": 0}, {\"age\": 60, \"sex\": 1, \"cp\": 2, \"trestbps\": 140, \"chol\": 185, \"fbs\": 0, \"restecg\": 0, \"thalach\": 155, \"exang\": 0, \"oldpeak\": 3.0, \"slope\": 1, \"ca\": 0, \"thal\": 2, \"target\": 0}, {\"age\": 59, \"sex\": 1, \"cp\": 0, \"trestbps\": 170, \"chol\": 326, \"fbs\": 0, \"restecg\": 0, \"thalach\": 140, \"exang\": 1, \"oldpeak\": 3.4, \"slope\": 0, \"ca\": 0, \"thal\": 3, \"target\": 0}, {\"age\": 46, \"sex\": 1, \"cp\": 2, \"trestbps\": 150, \"chol\": 231, \"fbs\": 0, \"restecg\": 1, \"thalach\": 147, \"exang\": 0, \"oldpeak\": 3.6, \"slope\": 1, \"ca\": 0, \"thal\": 2, \"target\": 0}, {\"age\": 67, \"sex\": 1, \"cp\": 0, \"trestbps\": 125, \"chol\": 254, \"fbs\": 1, \"restecg\": 1, \"thalach\": 163, \"exang\": 0, \"oldpeak\": 0.2, \"slope\": 1, \"ca\": 2, \"thal\": 3, \"target\": 0}, {\"age\": 62, \"sex\": 1, \"cp\": 0, \"trestbps\": 120, \"chol\": 267, \"fbs\": 0, \"restecg\": 1, \"thalach\": 99, \"exang\": 1, \"oldpeak\": 1.8, \"slope\": 1, \"ca\": 2, \"thal\": 3, \"target\": 0}, {\"age\": 65, \"sex\": 1, \"cp\": 0, \"trestbps\": 110, \"chol\": 248, \"fbs\": 0, \"restecg\": 0, \"thalach\": 158, \"exang\": 0, \"oldpeak\": 0.6, \"slope\": 2, \"ca\": 2, \"thal\": 1, \"target\": 0}, {\"age\": 44, \"sex\": 1, \"cp\": 0, \"trestbps\": 110, \"chol\": 197, \"fbs\": 0, \"restecg\": 0, \"thalach\": 177, \"exang\": 0, \"oldpeak\": 0.0, \"slope\": 2, \"ca\": 1, \"thal\": 2, \"target\": 0}, {\"age\": 60, \"sex\": 1, \"cp\": 0, \"trestbps\": 125, \"chol\": 258, \"fbs\": 0, \"restecg\": 0, \"thalach\": 141, \"exang\": 1, \"oldpeak\": 2.8, \"slope\": 1, \"ca\": 1, \"thal\": 3, \"target\": 0}, {\"age\": 58, \"sex\": 1, \"cp\": 0, \"trestbps\": 150, \"chol\": 270, \"fbs\": 0, \"restecg\": 0, \"thalach\": 111, \"exang\": 1, \"oldpeak\": 0.8, \"slope\": 2, \"ca\": 0, \"thal\": 3, \"target\": 0}, {\"age\": 68, \"sex\": 1, \"cp\": 2, \"trestbps\": 180, \"chol\": 274, \"fbs\": 1, \"restecg\": 0, \"thalach\": 150, \"exang\": 1, \"oldpeak\": 1.6, \"slope\": 1, \"ca\": 0, \"thal\": 3, \"target\": 0}, {\"age\": 62, \"sex\": 0, \"cp\": 0, \"trestbps\": 160, \"chol\": 164, \"fbs\": 0, \"restecg\": 0, \"thalach\": 145, \"exang\": 0, \"oldpeak\": 6.2, \"slope\": 0, \"ca\": 3, \"thal\": 3, \"target\": 0}, {\"age\": 52, \"sex\": 1, \"cp\": 0, \"trestbps\": 128, \"chol\": 255, \"fbs\": 0, \"restecg\": 1, \"thalach\": 161, \"exang\": 1, \"oldpeak\": 0.0, \"slope\": 2, \"ca\": 1, \"thal\": 3, \"target\": 0}, {\"age\": 59, \"sex\": 1, \"cp\": 0, \"trestbps\": 110, \"chol\": 239, \"fbs\": 0, \"restecg\": 0, \"thalach\": 142, \"exang\": 1, \"oldpeak\": 1.2, \"slope\": 1, \"ca\": 1, \"thal\": 3, \"target\": 0}, {\"age\": 60, \"sex\": 0, \"cp\": 0, \"trestbps\": 150, \"chol\": 258, \"fbs\": 0, \"restecg\": 0, \"thalach\": 157, \"exang\": 0, \"oldpeak\": 2.6, \"slope\": 1, \"ca\": 2, \"thal\": 3, \"target\": 0}, {\"age\": 49, \"sex\": 1, \"cp\": 2, \"trestbps\": 120, \"chol\": 188, \"fbs\": 0, \"restecg\": 1, \"thalach\": 139, \"exang\": 0, \"oldpeak\": 2.0, \"slope\": 1, \"ca\": 3, \"thal\": 3, \"target\": 0}, {\"age\": 59, \"sex\": 1, \"cp\": 0, \"trestbps\": 140, \"chol\": 177, \"fbs\": 0, \"restecg\": 1, \"thalach\": 162, \"exang\": 1, \"oldpeak\": 0.0, \"slope\": 2, \"ca\": 1, \"thal\": 3, \"target\": 0}, {\"age\": 57, \"sex\": 1, \"cp\": 2, \"trestbps\": 128, \"chol\": 229, \"fbs\": 0, \"restecg\": 0, \"thalach\": 150, \"exang\": 0, \"oldpeak\": 0.4, \"slope\": 1, \"ca\": 1, \"thal\": 3, \"target\": 0}, {\"age\": 61, \"sex\": 1, \"cp\": 0, \"trestbps\": 120, \"chol\": 260, \"fbs\": 0, \"restecg\": 1, \"thalach\": 140, \"exang\": 1, \"oldpeak\": 3.6, \"slope\": 1, \"ca\": 1, \"thal\": 3, \"target\": 0}, {\"age\": 39, \"sex\": 1, \"cp\": 0, \"trestbps\": 118, \"chol\": 219, \"fbs\": 0, \"restecg\": 1, \"thalach\": 140, \"exang\": 0, \"oldpeak\": 1.2, \"slope\": 1, \"ca\": 0, \"thal\": 3, \"target\": 0}, {\"age\": 61, \"sex\": 0, \"cp\": 0, \"trestbps\": 145, \"chol\": 307, \"fbs\": 0, \"restecg\": 0, \"thalach\": 146, \"exang\": 1, \"oldpeak\": 1.0, \"slope\": 1, \"ca\": 0, \"thal\": 3, \"target\": 0}, {\"age\": 56, \"sex\": 1, \"cp\": 0, \"trestbps\": 125, \"chol\": 249, \"fbs\": 1, \"restecg\": 0, \"thalach\": 144, \"exang\": 1, \"oldpeak\": 1.2, \"slope\": 1, \"ca\": 1, \"thal\": 2, \"target\": 0}, {\"age\": 43, \"sex\": 0, \"cp\": 0, \"trestbps\": 132, \"chol\": 341, \"fbs\": 1, \"restecg\": 0, \"thalach\": 136, \"exang\": 1, \"oldpeak\": 3.0, \"slope\": 1, \"ca\": 0, \"thal\": 3, \"target\": 0}, {\"age\": 62, \"sex\": 0, \"cp\": 2, \"trestbps\": 130, \"chol\": 263, \"fbs\": 0, \"restecg\": 1, \"thalach\": 97, \"exang\": 0, \"oldpeak\": 1.2, \"slope\": 1, \"ca\": 1, \"thal\": 3, \"target\": 0}, {\"age\": 63, \"sex\": 1, \"cp\": 0, \"trestbps\": 130, \"chol\": 330, \"fbs\": 1, \"restecg\": 0, \"thalach\": 132, \"exang\": 1, \"oldpeak\": 1.8, \"slope\": 2, \"ca\": 3, \"thal\": 3, \"target\": 0}, {\"age\": 65, \"sex\": 1, \"cp\": 0, \"trestbps\": 135, \"chol\": 254, \"fbs\": 0, \"restecg\": 0, \"thalach\": 127, \"exang\": 0, \"oldpeak\": 2.8, \"slope\": 1, \"ca\": 1, \"thal\": 3, \"target\": 0}, {\"age\": 48, \"sex\": 1, \"cp\": 0, \"trestbps\": 130, \"chol\": 256, \"fbs\": 1, \"restecg\": 0, \"thalach\": 150, \"exang\": 1, \"oldpeak\": 0.0, \"slope\": 2, \"ca\": 2, \"thal\": 3, \"target\": 0}, {\"age\": 63, \"sex\": 0, \"cp\": 0, \"trestbps\": 150, \"chol\": 407, \"fbs\": 0, \"restecg\": 0, \"thalach\": 154, \"exang\": 0, \"oldpeak\": 4.0, \"slope\": 1, \"ca\": 3, \"thal\": 3, \"target\": 0}, {\"age\": 55, \"sex\": 1, \"cp\": 0, \"trestbps\": 140, \"chol\": 217, \"fbs\": 0, \"restecg\": 1, \"thalach\": 111, \"exang\": 1, \"oldpeak\": 5.6, \"slope\": 0, \"ca\": 0, \"thal\": 3, \"target\": 0}, {\"age\": 65, \"sex\": 1, \"cp\": 3, \"trestbps\": 138, \"chol\": 282, \"fbs\": 1, \"restecg\": 0, \"thalach\": 174, \"exang\": 0, \"oldpeak\": 1.4, \"slope\": 1, \"ca\": 1, \"thal\": 2, \"target\": 0}, {\"age\": 56, \"sex\": 0, \"cp\": 0, \"trestbps\": 200, \"chol\": 288, \"fbs\": 1, \"restecg\": 0, \"thalach\": 133, \"exang\": 1, \"oldpeak\": 4.0, \"slope\": 0, \"ca\": 2, \"thal\": 3, \"target\": 0}, {\"age\": 54, \"sex\": 1, \"cp\": 0, \"trestbps\": 110, \"chol\": 239, \"fbs\": 0, \"restecg\": 1, \"thalach\": 126, \"exang\": 1, \"oldpeak\": 2.8, \"slope\": 1, \"ca\": 1, \"thal\": 3, \"target\": 0}, {\"age\": 70, \"sex\": 1, \"cp\": 0, \"trestbps\": 145, \"chol\": 174, \"fbs\": 0, \"restecg\": 1, \"thalach\": 125, \"exang\": 1, \"oldpeak\": 2.6, \"slope\": 0, \"ca\": 0, \"thal\": 3, \"target\": 0}, {\"age\": 62, \"sex\": 1, \"cp\": 1, \"trestbps\": 120, \"chol\": 281, \"fbs\": 0, \"restecg\": 0, \"thalach\": 103, \"exang\": 0, \"oldpeak\": 1.4, \"slope\": 1, \"ca\": 1, \"thal\": 3, \"target\": 0}, {\"age\": 35, \"sex\": 1, \"cp\": 0, \"trestbps\": 120, \"chol\": 198, \"fbs\": 0, \"restecg\": 1, \"thalach\": 130, \"exang\": 1, \"oldpeak\": 1.6, \"slope\": 1, \"ca\": 0, \"thal\": 3, \"target\": 0}, {\"age\": 59, \"sex\": 1, \"cp\": 3, \"trestbps\": 170, \"chol\": 288, \"fbs\": 0, \"restecg\": 0, \"thalach\": 159, \"exang\": 0, \"oldpeak\": 0.2, \"slope\": 1, \"ca\": 0, \"thal\": 3, \"target\": 0}, {\"age\": 64, \"sex\": 1, \"cp\": 2, \"trestbps\": 125, \"chol\": 309, \"fbs\": 0, \"restecg\": 1, \"thalach\": 131, \"exang\": 1, \"oldpeak\": 1.8, \"slope\": 1, \"ca\": 0, \"thal\": 3, \"target\": 0}, {\"age\": 47, \"sex\": 1, \"cp\": 2, \"trestbps\": 108, \"chol\": 243, \"fbs\": 0, \"restecg\": 1, \"thalach\": 152, \"exang\": 0, \"oldpeak\": 0.0, \"slope\": 2, \"ca\": 0, \"thal\": 2, \"target\": 0}, {\"age\": 57, \"sex\": 1, \"cp\": 0, \"trestbps\": 165, \"chol\": 289, \"fbs\": 1, \"restecg\": 0, \"thalach\": 124, \"exang\": 0, \"oldpeak\": 1.0, \"slope\": 1, \"ca\": 3, \"thal\": 3, \"target\": 0}, {\"age\": 55, \"sex\": 1, \"cp\": 0, \"trestbps\": 160, \"chol\": 289, \"fbs\": 0, \"restecg\": 0, \"thalach\": 145, \"exang\": 1, \"oldpeak\": 0.8, \"slope\": 1, \"ca\": 1, \"thal\": 3, \"target\": 0}, {\"age\": 64, \"sex\": 1, \"cp\": 0, \"trestbps\": 120, \"chol\": 246, \"fbs\": 0, \"restecg\": 0, \"thalach\": 96, \"exang\": 1, \"oldpeak\": 2.2, \"slope\": 0, \"ca\": 1, \"thal\": 2, \"target\": 0}, {\"age\": 70, \"sex\": 1, \"cp\": 0, \"trestbps\": 130, \"chol\": 322, \"fbs\": 0, \"restecg\": 0, \"thalach\": 109, \"exang\": 0, \"oldpeak\": 2.4, \"slope\": 1, \"ca\": 3, \"thal\": 2, \"target\": 0}, {\"age\": 51, \"sex\": 1, \"cp\": 0, \"trestbps\": 140, \"chol\": 299, \"fbs\": 0, \"restecg\": 1, \"thalach\": 173, \"exang\": 1, \"oldpeak\": 1.6, \"slope\": 2, \"ca\": 0, \"thal\": 3, \"target\": 0}, {\"age\": 58, \"sex\": 1, \"cp\": 0, \"trestbps\": 125, \"chol\": 300, \"fbs\": 0, \"restecg\": 0, \"thalach\": 171, \"exang\": 0, \"oldpeak\": 0.0, \"slope\": 2, \"ca\": 2, \"thal\": 3, \"target\": 0}, {\"age\": 60, \"sex\": 1, \"cp\": 0, \"trestbps\": 140, \"chol\": 293, \"fbs\": 0, \"restecg\": 0, \"thalach\": 170, \"exang\": 0, \"oldpeak\": 1.2, \"slope\": 1, \"ca\": 2, \"thal\": 3, \"target\": 0}, {\"age\": 77, \"sex\": 1, \"cp\": 0, \"trestbps\": 125, \"chol\": 304, \"fbs\": 0, \"restecg\": 0, \"thalach\": 162, \"exang\": 1, \"oldpeak\": 0.0, \"slope\": 2, \"ca\": 3, \"thal\": 2, \"target\": 0}, {\"age\": 35, \"sex\": 1, \"cp\": 0, \"trestbps\": 126, \"chol\": 282, \"fbs\": 0, \"restecg\": 0, \"thalach\": 156, \"exang\": 1, \"oldpeak\": 0.0, \"slope\": 2, \"ca\": 0, \"thal\": 3, \"target\": 0}, {\"age\": 70, \"sex\": 1, \"cp\": 2, \"trestbps\": 160, \"chol\": 269, \"fbs\": 0, \"restecg\": 1, \"thalach\": 112, \"exang\": 1, \"oldpeak\": 2.9, \"slope\": 1, \"ca\": 1, \"thal\": 3, \"target\": 0}, {\"age\": 59, \"sex\": 0, \"cp\": 0, \"trestbps\": 174, \"chol\": 249, \"fbs\": 0, \"restecg\": 1, \"thalach\": 143, \"exang\": 1, \"oldpeak\": 0.0, \"slope\": 1, \"ca\": 0, \"thal\": 2, \"target\": 0}, {\"age\": 64, \"sex\": 1, \"cp\": 0, \"trestbps\": 145, \"chol\": 212, \"fbs\": 0, \"restecg\": 0, \"thalach\": 132, \"exang\": 0, \"oldpeak\": 2.0, \"slope\": 1, \"ca\": 2, \"thal\": 1, \"target\": 0}, {\"age\": 57, \"sex\": 1, \"cp\": 0, \"trestbps\": 152, \"chol\": 274, \"fbs\": 0, \"restecg\": 1, \"thalach\": 88, \"exang\": 1, \"oldpeak\": 1.2, \"slope\": 1, \"ca\": 1, \"thal\": 3, \"target\": 0}, {\"age\": 56, \"sex\": 1, \"cp\": 0, \"trestbps\": 132, \"chol\": 184, \"fbs\": 0, \"restecg\": 0, \"thalach\": 105, \"exang\": 1, \"oldpeak\": 2.1, \"slope\": 1, \"ca\": 1, \"thal\": 1, \"target\": 0}, {\"age\": 48, \"sex\": 1, \"cp\": 0, \"trestbps\": 124, \"chol\": 274, \"fbs\": 0, \"restecg\": 0, \"thalach\": 166, \"exang\": 0, \"oldpeak\": 0.5, \"slope\": 1, \"ca\": 0, \"thal\": 3, \"target\": 0}, {\"age\": 56, \"sex\": 0, \"cp\": 0, \"trestbps\": 134, \"chol\": 409, \"fbs\": 0, \"restecg\": 0, \"thalach\": 150, \"exang\": 1, \"oldpeak\": 1.9, \"slope\": 1, \"ca\": 2, \"thal\": 3, \"target\": 0}, {\"age\": 66, \"sex\": 1, \"cp\": 1, \"trestbps\": 160, \"chol\": 246, \"fbs\": 0, \"restecg\": 1, \"thalach\": 120, \"exang\": 1, \"oldpeak\": 0.0, \"slope\": 1, \"ca\": 3, \"thal\": 1, \"target\": 0}, {\"age\": 54, \"sex\": 1, \"cp\": 1, \"trestbps\": 192, \"chol\": 283, \"fbs\": 0, \"restecg\": 0, \"thalach\": 195, \"exang\": 0, \"oldpeak\": 0.0, \"slope\": 2, \"ca\": 1, \"thal\": 3, \"target\": 0}, {\"age\": 69, \"sex\": 1, \"cp\": 2, \"trestbps\": 140, \"chol\": 254, \"fbs\": 0, \"restecg\": 0, \"thalach\": 146, \"exang\": 0, \"oldpeak\": 2.0, \"slope\": 1, \"ca\": 3, \"thal\": 3, \"target\": 0}, {\"age\": 51, \"sex\": 1, \"cp\": 0, \"trestbps\": 140, \"chol\": 298, \"fbs\": 0, \"restecg\": 1, \"thalach\": 122, \"exang\": 1, \"oldpeak\": 4.2, \"slope\": 1, \"ca\": 3, \"thal\": 3, \"target\": 0}, {\"age\": 43, \"sex\": 1, \"cp\": 0, \"trestbps\": 132, \"chol\": 247, \"fbs\": 1, \"restecg\": 0, \"thalach\": 143, \"exang\": 1, \"oldpeak\": 0.1, \"slope\": 1, \"ca\": 4, \"thal\": 3, \"target\": 0}, {\"age\": 62, \"sex\": 0, \"cp\": 0, \"trestbps\": 138, \"chol\": 294, \"fbs\": 1, \"restecg\": 1, \"thalach\": 106, \"exang\": 0, \"oldpeak\": 1.9, \"slope\": 1, \"ca\": 3, \"thal\": 2, \"target\": 0}, {\"age\": 67, \"sex\": 1, \"cp\": 0, \"trestbps\": 100, \"chol\": 299, \"fbs\": 0, \"restecg\": 0, \"thalach\": 125, \"exang\": 1, \"oldpeak\": 0.9, \"slope\": 1, \"ca\": 2, \"thal\": 2, \"target\": 0}, {\"age\": 59, \"sex\": 1, \"cp\": 3, \"trestbps\": 160, \"chol\": 273, \"fbs\": 0, \"restecg\": 0, \"thalach\": 125, \"exang\": 0, \"oldpeak\": 0.0, \"slope\": 2, \"ca\": 0, \"thal\": 2, \"target\": 0}, {\"age\": 45, \"sex\": 1, \"cp\": 0, \"trestbps\": 142, \"chol\": 309, \"fbs\": 0, \"restecg\": 0, \"thalach\": 147, \"exang\": 1, \"oldpeak\": 0.0, \"slope\": 1, \"ca\": 3, \"thal\": 3, \"target\": 0}, {\"age\": 58, \"sex\": 1, \"cp\": 0, \"trestbps\": 128, \"chol\": 259, \"fbs\": 0, \"restecg\": 0, \"thalach\": 130, \"exang\": 1, \"oldpeak\": 3.0, \"slope\": 1, \"ca\": 2, \"thal\": 3, \"target\": 0}, {\"age\": 50, \"sex\": 1, \"cp\": 0, \"trestbps\": 144, \"chol\": 200, \"fbs\": 0, \"restecg\": 0, \"thalach\": 126, \"exang\": 1, \"oldpeak\": 0.9, \"slope\": 1, \"ca\": 0, \"thal\": 3, \"target\": 0}, {\"age\": 62, \"sex\": 0, \"cp\": 0, \"trestbps\": 150, \"chol\": 244, \"fbs\": 0, \"restecg\": 1, \"thalach\": 154, \"exang\": 1, \"oldpeak\": 1.4, \"slope\": 1, \"ca\": 0, \"thal\": 2, \"target\": 0}, {\"age\": 38, \"sex\": 1, \"cp\": 3, \"trestbps\": 120, \"chol\": 231, \"fbs\": 0, \"restecg\": 1, \"thalach\": 182, \"exang\": 1, \"oldpeak\": 3.8, \"slope\": 1, \"ca\": 0, \"thal\": 3, \"target\": 0}, {\"age\": 66, \"sex\": 0, \"cp\": 0, \"trestbps\": 178, \"chol\": 228, \"fbs\": 1, \"restecg\": 1, \"thalach\": 165, \"exang\": 1, \"oldpeak\": 1.0, \"slope\": 1, \"ca\": 2, \"thal\": 3, \"target\": 0}, {\"age\": 52, \"sex\": 1, \"cp\": 0, \"trestbps\": 112, \"chol\": 230, \"fbs\": 0, \"restecg\": 1, \"thalach\": 160, \"exang\": 0, \"oldpeak\": 0.0, \"slope\": 2, \"ca\": 1, \"thal\": 2, \"target\": 0}, {\"age\": 53, \"sex\": 1, \"cp\": 0, \"trestbps\": 123, \"chol\": 282, \"fbs\": 0, \"restecg\": 1, \"thalach\": 95, \"exang\": 1, \"oldpeak\": 2.0, \"slope\": 1, \"ca\": 2, \"thal\": 3, \"target\": 0}, {\"age\": 63, \"sex\": 0, \"cp\": 0, \"trestbps\": 108, \"chol\": 269, \"fbs\": 0, \"restecg\": 1, \"thalach\": 169, \"exang\": 1, \"oldpeak\": 1.8, \"slope\": 1, \"ca\": 2, \"thal\": 2, \"target\": 0}, {\"age\": 54, \"sex\": 1, \"cp\": 0, \"trestbps\": 110, \"chol\": 206, \"fbs\": 0, \"restecg\": 0, \"thalach\": 108, \"exang\": 1, \"oldpeak\": 0.0, \"slope\": 1, \"ca\": 1, \"thal\": 2, \"target\": 0}, {\"age\": 66, \"sex\": 1, \"cp\": 0, \"trestbps\": 112, \"chol\": 212, \"fbs\": 0, \"restecg\": 0, \"thalach\": 132, \"exang\": 1, \"oldpeak\": 0.1, \"slope\": 2, \"ca\": 1, \"thal\": 2, \"target\": 0}, {\"age\": 55, \"sex\": 0, \"cp\": 0, \"trestbps\": 180, \"chol\": 327, \"fbs\": 0, \"restecg\": 2, \"thalach\": 117, \"exang\": 1, \"oldpeak\": 3.4, \"slope\": 1, \"ca\": 0, \"thal\": 2, \"target\": 0}, {\"age\": 49, \"sex\": 1, \"cp\": 2, \"trestbps\": 118, \"chol\": 149, \"fbs\": 0, \"restecg\": 0, \"thalach\": 126, \"exang\": 0, \"oldpeak\": 0.8, \"slope\": 2, \"ca\": 3, \"thal\": 2, \"target\": 0}, {\"age\": 54, \"sex\": 1, \"cp\": 0, \"trestbps\": 122, \"chol\": 286, \"fbs\": 0, \"restecg\": 0, \"thalach\": 116, \"exang\": 1, \"oldpeak\": 3.2, \"slope\": 1, \"ca\": 2, \"thal\": 2, \"target\": 0}, {\"age\": 56, \"sex\": 1, \"cp\": 0, \"trestbps\": 130, \"chol\": 283, \"fbs\": 1, \"restecg\": 0, \"thalach\": 103, \"exang\": 1, \"oldpeak\": 1.6, \"slope\": 0, \"ca\": 0, \"thal\": 3, \"target\": 0}, {\"age\": 46, \"sex\": 1, \"cp\": 0, \"trestbps\": 120, \"chol\": 249, \"fbs\": 0, \"restecg\": 0, \"thalach\": 144, \"exang\": 0, \"oldpeak\": 0.8, \"slope\": 2, \"ca\": 0, \"thal\": 3, \"target\": 0}, {\"age\": 61, \"sex\": 1, \"cp\": 3, \"trestbps\": 134, \"chol\": 234, \"fbs\": 0, \"restecg\": 1, \"thalach\": 145, \"exang\": 0, \"oldpeak\": 2.6, \"slope\": 1, \"ca\": 2, \"thal\": 2, \"target\": 0}, {\"age\": 67, \"sex\": 1, \"cp\": 0, \"trestbps\": 120, \"chol\": 237, \"fbs\": 0, \"restecg\": 1, \"thalach\": 71, \"exang\": 0, \"oldpeak\": 1.0, \"slope\": 1, \"ca\": 0, \"thal\": 2, \"target\": 0}, {\"age\": 58, \"sex\": 1, \"cp\": 0, \"trestbps\": 100, \"chol\": 234, \"fbs\": 0, \"restecg\": 1, \"thalach\": 156, \"exang\": 0, \"oldpeak\": 0.1, \"slope\": 2, \"ca\": 1, \"thal\": 3, \"target\": 0}, {\"age\": 47, \"sex\": 1, \"cp\": 0, \"trestbps\": 110, \"chol\": 275, \"fbs\": 0, \"restecg\": 0, \"thalach\": 118, \"exang\": 1, \"oldpeak\": 1.0, \"slope\": 1, \"ca\": 1, \"thal\": 2, \"target\": 0}, {\"age\": 52, \"sex\": 1, \"cp\": 0, \"trestbps\": 125, \"chol\": 212, \"fbs\": 0, \"restecg\": 1, \"thalach\": 168, \"exang\": 0, \"oldpeak\": 1.0, \"slope\": 2, \"ca\": 2, \"thal\": 3, \"target\": 0}, {\"age\": 58, \"sex\": 1, \"cp\": 0, \"trestbps\": 146, \"chol\": 218, \"fbs\": 0, \"restecg\": 1, \"thalach\": 105, \"exang\": 0, \"oldpeak\": 2.0, \"slope\": 1, \"ca\": 1, \"thal\": 3, \"target\": 0}, {\"age\": 57, \"sex\": 1, \"cp\": 1, \"trestbps\": 124, \"chol\": 261, \"fbs\": 0, \"restecg\": 1, \"thalach\": 141, \"exang\": 0, \"oldpeak\": 0.3, \"slope\": 2, \"ca\": 0, \"thal\": 3, \"target\": 0}, {\"age\": 58, \"sex\": 0, \"cp\": 1, \"trestbps\": 136, \"chol\": 319, \"fbs\": 1, \"restecg\": 0, \"thalach\": 152, \"exang\": 0, \"oldpeak\": 0.0, \"slope\": 2, \"ca\": 2, \"thal\": 2, \"target\": 0}, {\"age\": 61, \"sex\": 1, \"cp\": 0, \"trestbps\": 138, \"chol\": 166, \"fbs\": 0, \"restecg\": 0, \"thalach\": 125, \"exang\": 1, \"oldpeak\": 3.6, \"slope\": 1, \"ca\": 1, \"thal\": 2, \"target\": 0}, {\"age\": 42, \"sex\": 1, \"cp\": 0, \"trestbps\": 136, \"chol\": 315, \"fbs\": 0, \"restecg\": 1, \"thalach\": 125, \"exang\": 1, \"oldpeak\": 1.8, \"slope\": 1, \"ca\": 0, \"thal\": 1, \"target\": 0}, {\"age\": 52, \"sex\": 1, \"cp\": 0, \"trestbps\": 128, \"chol\": 204, \"fbs\": 1, \"restecg\": 1, \"thalach\": 156, \"exang\": 1, \"oldpeak\": 1.0, \"slope\": 1, \"ca\": 0, \"thal\": 0, \"target\": 0}, {\"age\": 59, \"sex\": 1, \"cp\": 2, \"trestbps\": 126, \"chol\": 218, \"fbs\": 1, \"restecg\": 1, \"thalach\": 134, \"exang\": 0, \"oldpeak\": 2.2, \"slope\": 1, \"ca\": 1, \"thal\": 1, \"target\": 0}, {\"age\": 40, \"sex\": 1, \"cp\": 0, \"trestbps\": 152, \"chol\": 223, \"fbs\": 0, \"restecg\": 1, \"thalach\": 181, \"exang\": 0, \"oldpeak\": 0.0, \"slope\": 2, \"ca\": 0, \"thal\": 3, \"target\": 0}, {\"age\": 61, \"sex\": 1, \"cp\": 0, \"trestbps\": 140, \"chol\": 207, \"fbs\": 0, \"restecg\": 0, \"thalach\": 138, \"exang\": 1, \"oldpeak\": 1.9, \"slope\": 2, \"ca\": 1, \"thal\": 3, \"target\": 0}, {\"age\": 46, \"sex\": 1, \"cp\": 0, \"trestbps\": 140, \"chol\": 311, \"fbs\": 0, \"restecg\": 1, \"thalach\": 120, \"exang\": 1, \"oldpeak\": 1.8, \"slope\": 1, \"ca\": 2, \"thal\": 3, \"target\": 0}, {\"age\": 59, \"sex\": 1, \"cp\": 3, \"trestbps\": 134, \"chol\": 204, \"fbs\": 0, \"restecg\": 1, \"thalach\": 162, \"exang\": 0, \"oldpeak\": 0.8, \"slope\": 2, \"ca\": 2, \"thal\": 2, \"target\": 0}, {\"age\": 57, \"sex\": 1, \"cp\": 1, \"trestbps\": 154, \"chol\": 232, \"fbs\": 0, \"restecg\": 0, \"thalach\": 164, \"exang\": 0, \"oldpeak\": 0.0, \"slope\": 2, \"ca\": 1, \"thal\": 2, \"target\": 0}, {\"age\": 57, \"sex\": 1, \"cp\": 0, \"trestbps\": 110, \"chol\": 335, \"fbs\": 0, \"restecg\": 1, \"thalach\": 143, \"exang\": 1, \"oldpeak\": 3.0, \"slope\": 1, \"ca\": 1, \"thal\": 3, \"target\": 0}, {\"age\": 55, \"sex\": 0, \"cp\": 0, \"trestbps\": 128, \"chol\": 205, \"fbs\": 0, \"restecg\": 2, \"thalach\": 130, \"exang\": 1, \"oldpeak\": 2.0, \"slope\": 1, \"ca\": 1, \"thal\": 3, \"target\": 0}, {\"age\": 61, \"sex\": 1, \"cp\": 0, \"trestbps\": 148, \"chol\": 203, \"fbs\": 0, \"restecg\": 1, \"thalach\": 161, \"exang\": 0, \"oldpeak\": 0.0, \"slope\": 2, \"ca\": 1, \"thal\": 3, \"target\": 0}, {\"age\": 58, \"sex\": 1, \"cp\": 0, \"trestbps\": 114, \"chol\": 318, \"fbs\": 0, \"restecg\": 2, \"thalach\": 140, \"exang\": 0, \"oldpeak\": 4.4, \"slope\": 0, \"ca\": 3, \"thal\": 1, \"target\": 0}, {\"age\": 58, \"sex\": 0, \"cp\": 0, \"trestbps\": 170, \"chol\": 225, \"fbs\": 1, \"restecg\": 0, \"thalach\": 146, \"exang\": 1, \"oldpeak\": 2.8, \"slope\": 1, \"ca\": 2, \"thal\": 1, \"target\": 0}, {\"age\": 67, \"sex\": 1, \"cp\": 2, \"trestbps\": 152, \"chol\": 212, \"fbs\": 0, \"restecg\": 0, \"thalach\": 150, \"exang\": 0, \"oldpeak\": 0.8, \"slope\": 1, \"ca\": 0, \"thal\": 3, \"target\": 0}, {\"age\": 44, \"sex\": 1, \"cp\": 0, \"trestbps\": 120, \"chol\": 169, \"fbs\": 0, \"restecg\": 1, \"thalach\": 144, \"exang\": 1, \"oldpeak\": 2.8, \"slope\": 0, \"ca\": 0, \"thal\": 1, \"target\": 0}, {\"age\": 63, \"sex\": 1, \"cp\": 0, \"trestbps\": 140, \"chol\": 187, \"fbs\": 0, \"restecg\": 0, \"thalach\": 144, \"exang\": 1, \"oldpeak\": 4.0, \"slope\": 2, \"ca\": 2, \"thal\": 3, \"target\": 0}, {\"age\": 63, \"sex\": 0, \"cp\": 0, \"trestbps\": 124, \"chol\": 197, \"fbs\": 0, \"restecg\": 1, \"thalach\": 136, \"exang\": 1, \"oldpeak\": 0.0, \"slope\": 1, \"ca\": 0, \"thal\": 2, \"target\": 0}, {\"age\": 59, \"sex\": 1, \"cp\": 0, \"trestbps\": 164, \"chol\": 176, \"fbs\": 1, \"restecg\": 0, \"thalach\": 90, \"exang\": 0, \"oldpeak\": 1.0, \"slope\": 1, \"ca\": 2, \"thal\": 1, \"target\": 0}, {\"age\": 57, \"sex\": 0, \"cp\": 0, \"trestbps\": 140, \"chol\": 241, \"fbs\": 0, \"restecg\": 1, \"thalach\": 123, \"exang\": 1, \"oldpeak\": 0.2, \"slope\": 1, \"ca\": 0, \"thal\": 3, \"target\": 0}, {\"age\": 45, \"sex\": 1, \"cp\": 3, \"trestbps\": 110, \"chol\": 264, \"fbs\": 0, \"restecg\": 1, \"thalach\": 132, \"exang\": 0, \"oldpeak\": 1.2, \"slope\": 1, \"ca\": 0, \"thal\": 3, \"target\": 0}, {\"age\": 68, \"sex\": 1, \"cp\": 0, \"trestbps\": 144, \"chol\": 193, \"fbs\": 1, \"restecg\": 1, \"thalach\": 141, \"exang\": 0, \"oldpeak\": 3.4, \"slope\": 1, \"ca\": 2, \"thal\": 3, \"target\": 0}, {\"age\": 57, \"sex\": 1, \"cp\": 0, \"trestbps\": 130, \"chol\": 131, \"fbs\": 0, \"restecg\": 1, \"thalach\": 115, \"exang\": 1, \"oldpeak\": 1.2, \"slope\": 1, \"ca\": 1, \"thal\": 3, \"target\": 0}, {\"age\": 57, \"sex\": 0, \"cp\": 1, \"trestbps\": 130, \"chol\": 236, \"fbs\": 0, \"restecg\": 0, \"thalach\": 174, \"exang\": 0, \"oldpeak\": 0.0, \"slope\": 1, \"ca\": 1, \"thal\": 2, \"target\": 0}]}};\n",
              "      var embedOpt = {\"mode\": \"vega-lite\"};\n",
              "\n",
              "      function showError(el, error){\n",
              "          el.innerHTML = ('<div class=\"error\" style=\"color:red;\">'\n",
              "                          + '<p>JavaScript Error: ' + error.message + '</p>'\n",
              "                          + \"<p>This usually means there's a typo in your chart specification. \"\n",
              "                          + \"See the javascript console for the full traceback.</p>\"\n",
              "                          + '</div>');\n",
              "          throw error;\n",
              "      }\n",
              "      const el = document.getElementById('altair-viz');\n",
              "      vegaEmbed(\"#altair-viz\", spec, embedOpt)\n",
              "        .catch(error => showError(el, error));\n",
              "\n",
              "  </script>\n",
              "</body>\n",
              "</html>"
            ]
          },
          "metadata": {
            "tags": []
          },
          "execution_count": 32
        }
      ]
    },
    {
      "metadata": {
        "id": "tRSw2owEZJY6",
        "colab_type": "code",
        "colab": {}
      },
      "cell_type": "code",
      "source": [
        "df2_pd = pd.crosstab(df2['Nationality'], df2['Composure'])"
      ],
      "execution_count": 0,
      "outputs": []
    },
    {
      "metadata": {
        "id": "7O-rMl5ec6C4",
        "colab_type": "code",
        "colab": {
          "base_uri": "https://localhost:8080/",
          "height": 34
        },
        "outputId": "d70e181f-15bd-4d71-fc05-963342aeb492"
      },
      "cell_type": "code",
      "source": [
        "df2_pd.shape"
      ],
      "execution_count": 20,
      "outputs": [
        {
          "output_type": "execute_result",
          "data": {
            "text/plain": [
              "(17194, 48)"
            ]
          },
          "metadata": {
            "tags": []
          },
          "execution_count": 20
        }
      ]
    },
    {
      "metadata": {
        "id": "qINsuUdIcdPW",
        "colab_type": "code",
        "colab": {
          "base_uri": "https://localhost:8080/",
          "height": 34
        },
        "outputId": "09be9ed9-ad67-4ac5-86d6-99a2ba5c801d"
      },
      "cell_type": "code",
      "source": [
        "df2['Overall'].max()"
      ],
      "execution_count": 16,
      "outputs": [
        {
          "output_type": "execute_result",
          "data": {
            "text/plain": [
              "94"
            ]
          },
          "metadata": {
            "tags": []
          },
          "execution_count": 16
        }
      ]
    },
    {
      "metadata": {
        "id": "pAIr5uvHbl83",
        "colab_type": "code",
        "colab": {
          "base_uri": "https://localhost:8080/",
          "height": 7715
        },
        "outputId": "7764c8d6-8d35-454c-b58c-398ac8f64d39"
      },
      "cell_type": "code",
      "source": [
        ""
      ],
      "execution_count": 28,
      "outputs": [
        {
          "output_type": "error",
          "ename": "MaxRowsError",
          "evalue": "ignored",
          "traceback": [
            "\u001b[0;31m---------------------------------------------------------------------------\u001b[0m",
            "\u001b[0;31mMaxRowsError\u001b[0m                              Traceback (most recent call last)",
            "\u001b[0;32m/usr/local/lib/python3.6/dist-packages/altair/vegalite/v2/api.py\u001b[0m in \u001b[0;36mto_dict\u001b[0;34m(self, *args, **kwargs)\u001b[0m\n\u001b[1;32m    400\u001b[0m         \u001b[0mcopy\u001b[0m \u001b[0;34m=\u001b[0m \u001b[0mself\u001b[0m\u001b[0;34m.\u001b[0m\u001b[0mcopy\u001b[0m\u001b[0;34m(\u001b[0m\u001b[0;34m)\u001b[0m\u001b[0;34m\u001b[0m\u001b[0;34m\u001b[0m\u001b[0m\n\u001b[1;32m    401\u001b[0m         \u001b[0moriginal_data\u001b[0m \u001b[0;34m=\u001b[0m \u001b[0mgetattr\u001b[0m\u001b[0;34m(\u001b[0m\u001b[0mcopy\u001b[0m\u001b[0;34m,\u001b[0m \u001b[0;34m'data'\u001b[0m\u001b[0;34m,\u001b[0m \u001b[0mUndefined\u001b[0m\u001b[0;34m)\u001b[0m\u001b[0;34m\u001b[0m\u001b[0;34m\u001b[0m\u001b[0m\n\u001b[0;32m--> 402\u001b[0;31m         \u001b[0mcopy\u001b[0m\u001b[0;34m.\u001b[0m\u001b[0mdata\u001b[0m \u001b[0;34m=\u001b[0m \u001b[0m_prepare_data\u001b[0m\u001b[0;34m(\u001b[0m\u001b[0moriginal_data\u001b[0m\u001b[0;34m,\u001b[0m \u001b[0mcontext\u001b[0m\u001b[0;34m)\u001b[0m\u001b[0;34m\u001b[0m\u001b[0;34m\u001b[0m\u001b[0m\n\u001b[0m\u001b[1;32m    403\u001b[0m \u001b[0;34m\u001b[0m\u001b[0m\n\u001b[1;32m    404\u001b[0m         \u001b[0;32mif\u001b[0m \u001b[0moriginal_data\u001b[0m \u001b[0;32mis\u001b[0m \u001b[0;32mnot\u001b[0m \u001b[0mUndefined\u001b[0m\u001b[0;34m:\u001b[0m\u001b[0;34m\u001b[0m\u001b[0;34m\u001b[0m\u001b[0m\n",
            "\u001b[0;32m/usr/local/lib/python3.6/dist-packages/altair/vegalite/v2/api.py\u001b[0m in \u001b[0;36m_prepare_data\u001b[0;34m(data, context)\u001b[0m\n\u001b[1;32m     82\u001b[0m     \u001b[0;31m# convert dataframes to dict\u001b[0m\u001b[0;34m\u001b[0m\u001b[0;34m\u001b[0m\u001b[0;34m\u001b[0m\u001b[0m\n\u001b[1;32m     83\u001b[0m     \u001b[0;32mif\u001b[0m \u001b[0misinstance\u001b[0m\u001b[0;34m(\u001b[0m\u001b[0mdata\u001b[0m\u001b[0;34m,\u001b[0m \u001b[0mpd\u001b[0m\u001b[0;34m.\u001b[0m\u001b[0mDataFrame\u001b[0m\u001b[0;34m)\u001b[0m\u001b[0;34m:\u001b[0m\u001b[0;34m\u001b[0m\u001b[0;34m\u001b[0m\u001b[0m\n\u001b[0;32m---> 84\u001b[0;31m         \u001b[0mdata\u001b[0m \u001b[0;34m=\u001b[0m \u001b[0mpipe\u001b[0m\u001b[0;34m(\u001b[0m\u001b[0mdata\u001b[0m\u001b[0;34m,\u001b[0m \u001b[0mdata_transformers\u001b[0m\u001b[0;34m.\u001b[0m\u001b[0mget\u001b[0m\u001b[0;34m(\u001b[0m\u001b[0;34m)\u001b[0m\u001b[0;34m)\u001b[0m\u001b[0;34m\u001b[0m\u001b[0;34m\u001b[0m\u001b[0m\n\u001b[0m\u001b[1;32m     85\u001b[0m \u001b[0;34m\u001b[0m\u001b[0m\n\u001b[1;32m     86\u001b[0m     \u001b[0;31m# convert string input to a URLData\u001b[0m\u001b[0;34m\u001b[0m\u001b[0;34m\u001b[0m\u001b[0;34m\u001b[0m\u001b[0m\n",
            "\u001b[0;32m/usr/local/lib/python3.6/dist-packages/toolz/functoolz.py\u001b[0m in \u001b[0;36mpipe\u001b[0;34m(data, *funcs)\u001b[0m\n\u001b[1;32m    550\u001b[0m     \"\"\"\n\u001b[1;32m    551\u001b[0m     \u001b[0;32mfor\u001b[0m \u001b[0mfunc\u001b[0m \u001b[0;32min\u001b[0m \u001b[0mfuncs\u001b[0m\u001b[0;34m:\u001b[0m\u001b[0;34m\u001b[0m\u001b[0;34m\u001b[0m\u001b[0m\n\u001b[0;32m--> 552\u001b[0;31m         \u001b[0mdata\u001b[0m \u001b[0;34m=\u001b[0m \u001b[0mfunc\u001b[0m\u001b[0;34m(\u001b[0m\u001b[0mdata\u001b[0m\u001b[0;34m)\u001b[0m\u001b[0;34m\u001b[0m\u001b[0;34m\u001b[0m\u001b[0m\n\u001b[0m\u001b[1;32m    553\u001b[0m     \u001b[0;32mreturn\u001b[0m \u001b[0mdata\u001b[0m\u001b[0;34m\u001b[0m\u001b[0;34m\u001b[0m\u001b[0m\n\u001b[1;32m    554\u001b[0m \u001b[0;34m\u001b[0m\u001b[0m\n",
            "\u001b[0;32m/usr/local/lib/python3.6/dist-packages/toolz/functoolz.py\u001b[0m in \u001b[0;36m__call__\u001b[0;34m(self, *args, **kwargs)\u001b[0m\n\u001b[1;32m    281\u001b[0m     \u001b[0;32mdef\u001b[0m \u001b[0m__call__\u001b[0m\u001b[0;34m(\u001b[0m\u001b[0mself\u001b[0m\u001b[0;34m,\u001b[0m \u001b[0;34m*\u001b[0m\u001b[0margs\u001b[0m\u001b[0;34m,\u001b[0m \u001b[0;34m**\u001b[0m\u001b[0mkwargs\u001b[0m\u001b[0;34m)\u001b[0m\u001b[0;34m:\u001b[0m\u001b[0;34m\u001b[0m\u001b[0;34m\u001b[0m\u001b[0m\n\u001b[1;32m    282\u001b[0m         \u001b[0;32mtry\u001b[0m\u001b[0;34m:\u001b[0m\u001b[0;34m\u001b[0m\u001b[0;34m\u001b[0m\u001b[0m\n\u001b[0;32m--> 283\u001b[0;31m             \u001b[0;32mreturn\u001b[0m \u001b[0mself\u001b[0m\u001b[0;34m.\u001b[0m\u001b[0m_partial\u001b[0m\u001b[0;34m(\u001b[0m\u001b[0;34m*\u001b[0m\u001b[0margs\u001b[0m\u001b[0;34m,\u001b[0m \u001b[0;34m**\u001b[0m\u001b[0mkwargs\u001b[0m\u001b[0;34m)\u001b[0m\u001b[0;34m\u001b[0m\u001b[0;34m\u001b[0m\u001b[0m\n\u001b[0m\u001b[1;32m    284\u001b[0m         \u001b[0;32mexcept\u001b[0m \u001b[0mTypeError\u001b[0m \u001b[0;32mas\u001b[0m \u001b[0mexc\u001b[0m\u001b[0;34m:\u001b[0m\u001b[0;34m\u001b[0m\u001b[0;34m\u001b[0m\u001b[0m\n\u001b[1;32m    285\u001b[0m             \u001b[0;32mif\u001b[0m \u001b[0mself\u001b[0m\u001b[0;34m.\u001b[0m\u001b[0m_should_curry\u001b[0m\u001b[0;34m(\u001b[0m\u001b[0margs\u001b[0m\u001b[0;34m,\u001b[0m \u001b[0mkwargs\u001b[0m\u001b[0;34m,\u001b[0m \u001b[0mexc\u001b[0m\u001b[0;34m)\u001b[0m\u001b[0;34m:\u001b[0m\u001b[0;34m\u001b[0m\u001b[0;34m\u001b[0m\u001b[0m\n",
            "\u001b[0;32m/usr/local/lib/python3.6/dist-packages/altair/vegalite/data.py\u001b[0m in \u001b[0;36mdefault_data_transformer\u001b[0;34m(data, max_rows)\u001b[0m\n\u001b[1;32m     10\u001b[0m \u001b[0;34m@\u001b[0m\u001b[0mcurry\u001b[0m\u001b[0;34m\u001b[0m\u001b[0;34m\u001b[0m\u001b[0m\n\u001b[1;32m     11\u001b[0m \u001b[0;32mdef\u001b[0m \u001b[0mdefault_data_transformer\u001b[0m\u001b[0;34m(\u001b[0m\u001b[0mdata\u001b[0m\u001b[0;34m,\u001b[0m \u001b[0mmax_rows\u001b[0m\u001b[0;34m=\u001b[0m\u001b[0;36m5000\u001b[0m\u001b[0;34m)\u001b[0m\u001b[0;34m:\u001b[0m\u001b[0;34m\u001b[0m\u001b[0;34m\u001b[0m\u001b[0m\n\u001b[0;32m---> 12\u001b[0;31m     \u001b[0;32mreturn\u001b[0m \u001b[0mpipe\u001b[0m\u001b[0;34m(\u001b[0m\u001b[0mdata\u001b[0m\u001b[0;34m,\u001b[0m \u001b[0mlimit_rows\u001b[0m\u001b[0;34m(\u001b[0m\u001b[0mmax_rows\u001b[0m\u001b[0;34m=\u001b[0m\u001b[0mmax_rows\u001b[0m\u001b[0;34m)\u001b[0m\u001b[0;34m,\u001b[0m \u001b[0mto_values\u001b[0m\u001b[0;34m)\u001b[0m\u001b[0;34m\u001b[0m\u001b[0;34m\u001b[0m\u001b[0m\n\u001b[0m\u001b[1;32m     13\u001b[0m \u001b[0;34m\u001b[0m\u001b[0m\n\u001b[1;32m     14\u001b[0m \u001b[0;34m\u001b[0m\u001b[0m\n",
            "\u001b[0;32m/usr/local/lib/python3.6/dist-packages/toolz/functoolz.py\u001b[0m in \u001b[0;36mpipe\u001b[0;34m(data, *funcs)\u001b[0m\n\u001b[1;32m    550\u001b[0m     \"\"\"\n\u001b[1;32m    551\u001b[0m     \u001b[0;32mfor\u001b[0m \u001b[0mfunc\u001b[0m \u001b[0;32min\u001b[0m \u001b[0mfuncs\u001b[0m\u001b[0;34m:\u001b[0m\u001b[0;34m\u001b[0m\u001b[0;34m\u001b[0m\u001b[0m\n\u001b[0;32m--> 552\u001b[0;31m         \u001b[0mdata\u001b[0m \u001b[0;34m=\u001b[0m \u001b[0mfunc\u001b[0m\u001b[0;34m(\u001b[0m\u001b[0mdata\u001b[0m\u001b[0;34m)\u001b[0m\u001b[0;34m\u001b[0m\u001b[0;34m\u001b[0m\u001b[0m\n\u001b[0m\u001b[1;32m    553\u001b[0m     \u001b[0;32mreturn\u001b[0m \u001b[0mdata\u001b[0m\u001b[0;34m\u001b[0m\u001b[0;34m\u001b[0m\u001b[0m\n\u001b[1;32m    554\u001b[0m \u001b[0;34m\u001b[0m\u001b[0m\n",
            "\u001b[0;32m/usr/local/lib/python3.6/dist-packages/toolz/functoolz.py\u001b[0m in \u001b[0;36m__call__\u001b[0;34m(self, *args, **kwargs)\u001b[0m\n\u001b[1;32m    281\u001b[0m     \u001b[0;32mdef\u001b[0m \u001b[0m__call__\u001b[0m\u001b[0;34m(\u001b[0m\u001b[0mself\u001b[0m\u001b[0;34m,\u001b[0m \u001b[0;34m*\u001b[0m\u001b[0margs\u001b[0m\u001b[0;34m,\u001b[0m \u001b[0;34m**\u001b[0m\u001b[0mkwargs\u001b[0m\u001b[0;34m)\u001b[0m\u001b[0;34m:\u001b[0m\u001b[0;34m\u001b[0m\u001b[0;34m\u001b[0m\u001b[0m\n\u001b[1;32m    282\u001b[0m         \u001b[0;32mtry\u001b[0m\u001b[0;34m:\u001b[0m\u001b[0;34m\u001b[0m\u001b[0;34m\u001b[0m\u001b[0m\n\u001b[0;32m--> 283\u001b[0;31m             \u001b[0;32mreturn\u001b[0m \u001b[0mself\u001b[0m\u001b[0;34m.\u001b[0m\u001b[0m_partial\u001b[0m\u001b[0;34m(\u001b[0m\u001b[0;34m*\u001b[0m\u001b[0margs\u001b[0m\u001b[0;34m,\u001b[0m \u001b[0;34m**\u001b[0m\u001b[0mkwargs\u001b[0m\u001b[0;34m)\u001b[0m\u001b[0;34m\u001b[0m\u001b[0;34m\u001b[0m\u001b[0m\n\u001b[0m\u001b[1;32m    284\u001b[0m         \u001b[0;32mexcept\u001b[0m \u001b[0mTypeError\u001b[0m \u001b[0;32mas\u001b[0m \u001b[0mexc\u001b[0m\u001b[0;34m:\u001b[0m\u001b[0;34m\u001b[0m\u001b[0;34m\u001b[0m\u001b[0m\n\u001b[1;32m    285\u001b[0m             \u001b[0;32mif\u001b[0m \u001b[0mself\u001b[0m\u001b[0;34m.\u001b[0m\u001b[0m_should_curry\u001b[0m\u001b[0;34m(\u001b[0m\u001b[0margs\u001b[0m\u001b[0;34m,\u001b[0m \u001b[0mkwargs\u001b[0m\u001b[0;34m,\u001b[0m \u001b[0mexc\u001b[0m\u001b[0;34m)\u001b[0m\u001b[0;34m:\u001b[0m\u001b[0;34m\u001b[0m\u001b[0;34m\u001b[0m\u001b[0m\n",
            "\u001b[0;32m/usr/local/lib/python3.6/dist-packages/altair/utils/data.py\u001b[0m in \u001b[0;36mlimit_rows\u001b[0;34m(data, max_rows)\u001b[0m\n\u001b[1;32m     70\u001b[0m                            \u001b[0;34m'than the maximum allowed ({}). '\u001b[0m\u001b[0;34m\u001b[0m\u001b[0;34m\u001b[0m\u001b[0m\n\u001b[1;32m     71\u001b[0m                            \u001b[0;34m'For information on how to plot larger datasets '\u001b[0m\u001b[0;34m\u001b[0m\u001b[0;34m\u001b[0m\u001b[0m\n\u001b[0;32m---> 72\u001b[0;31m                            'in Altair, see the documentation'.format(max_rows))\n\u001b[0m\u001b[1;32m     73\u001b[0m     \u001b[0;32mreturn\u001b[0m \u001b[0mdata\u001b[0m\u001b[0;34m\u001b[0m\u001b[0;34m\u001b[0m\u001b[0m\n\u001b[1;32m     74\u001b[0m \u001b[0;34m\u001b[0m\u001b[0m\n",
            "\u001b[0;31mMaxRowsError\u001b[0m: The number of rows in your dataset is greater than the maximum allowed (5000). For information on how to plot larger datasets in Altair, see the documentation"
          ]
        },
        {
          "output_type": "execute_result",
          "data": {
            "text/plain": [
              "Chart({\n",
              "  data:        Unnamed: 0      ID                  Name  Age  \\\n",
              "  0               0  158023              L. Messi   31   \n",
              "  1               1   20801     Cristiano Ronaldo   33   \n",
              "  2               2  190871             Neymar Jr   26   \n",
              "  3               3  193080                De Gea   27   \n",
              "  4               4  192985          K. De Bruyne   27   \n",
              "  5               5  183277             E. Hazard   27   \n",
              "  6               6  177003             L. Modrić   32   \n",
              "  7               7  176580             L. Suárez   31   \n",
              "  8               8  155862          Sergio Ramos   32   \n",
              "  9               9  200389              J. Oblak   25   \n",
              "  10             10  188545        R. Lewandowski   29   \n",
              "  11             11  182521              T. Kroos   28   \n",
              "  12             12  182493              D. Godín   32   \n",
              "  13             13  168542           David Silva   32   \n",
              "  14             14  215914              N. Kanté   27   \n",
              "  15             15  211110             P. Dybala   24   \n",
              "  16             16  202126               H. Kane   24   \n",
              "  17             17  194765          A. Griezmann   27   \n",
              "  18             18  192448         M. ter Stegen   26   \n",
              "  19             19  192119           T. Courtois   26   \n",
              "  20             20  189511       Sergio Busquets   29   \n",
              "  21             21  179813             E. Cavani   31   \n",
              "  22             22  167495              M. Neuer   32   \n",
              "  23             23  153079             S. Agüero   30   \n",
              "  24             24  138956          G. Chiellini   33   \n",
              "  25             25  231747             K. Mbappé   19   \n",
              "  26             26  209331              M. Salah   26   \n",
              "  27             27  200145              Casemiro   26   \n",
              "  28             28  198710          J. Rodríguez   26   \n",
              "  29             29  198219            L. Insigne   27   \n",
              "  ...           ...     ...                   ...  ...   \n",
              "  18177       18177  238550             R. Roache   18   \n",
              "  18178       18178  243158          L. Wahlstedt   18   \n",
              "  18179       18179  246243           J. Williams   17   \n",
              "  18180       18180  221669              M. Hurst   22   \n",
              "  18181       18181  245734              C. Maher   17   \n",
              "  18182       18182  246001               Y. Góez   18   \n",
              "  18183       18183   53748         K. Pilkington   44   \n",
              "  18184       18184  241657             D. Horton   18   \n",
              "  18185       18185  243961              E. Tweed   19   \n",
              "  18186       18186  240917          Zhang Yufeng   20   \n",
              "  18187       18187  240158             C. Ehlich   19   \n",
              "  18188       18188  240927            L. Collins   17   \n",
              "  18189       18189  240160            A. Kaltner   18   \n",
              "  18190       18190  245569            L. Watkins   18   \n",
              "  18191       18191  245570  J. Norville-Williams   18   \n",
              "  18192       18192  245571             S. Squire   18   \n",
              "  18193       18193  244823            N. Fuentes   18   \n",
              "  18194       18194  245862              J. Milli   18   \n",
              "  18195       18195  243582            S. Griffin   18   \n",
              "  18196       18196  238477           K. Fujikawa   19   \n",
              "  18197       18197  246167            D. Holland   18   \n",
              "  18198       18198  242844            J. Livesey   18   \n",
              "  18199       18199  244677          M. Baldisimo   18   \n",
              "  18200       18200  231381              J. Young   18   \n",
              "  18201       18201  243413              D. Walsh   18   \n",
              "  18202       18202  238813          J. Lundstram   19   \n",
              "  18203       18203  243165    N. Christoffersson   19   \n",
              "  18204       18204  241638             B. Worman   16   \n",
              "  18205       18205  246268        D. Walker-Rice   17   \n",
              "  18206       18206  246269             G. Nugent   16   \n",
              "  \n",
              "                                                  Photo          Nationality  \\\n",
              "  0      https://cdn.sofifa.org/players/4/19/158023.png            Argentina   \n",
              "  1       https://cdn.sofifa.org/players/4/19/20801.png             Portugal   \n",
              "  2      https://cdn.sofifa.org/players/4/19/190871.png               Brazil   \n",
              "  3      https://cdn.sofifa.org/players/4/19/193080.png                Spain   \n",
              "  4      https://cdn.sofifa.org/players/4/19/192985.png              Belgium   \n",
              "  5      https://cdn.sofifa.org/players/4/19/183277.png              Belgium   \n",
              "  6      https://cdn.sofifa.org/players/4/19/177003.png              Croatia   \n",
              "  7      https://cdn.sofifa.org/players/4/19/176580.png              Uruguay   \n",
              "  8      https://cdn.sofifa.org/players/4/19/155862.png                Spain   \n",
              "  9      https://cdn.sofifa.org/players/4/19/200389.png             Slovenia   \n",
              "  10     https://cdn.sofifa.org/players/4/19/188545.png               Poland   \n",
              "  11     https://cdn.sofifa.org/players/4/19/182521.png              Germany   \n",
              "  12     https://cdn.sofifa.org/players/4/19/182493.png              Uruguay   \n",
              "  13     https://cdn.sofifa.org/players/4/19/168542.png                Spain   \n",
              "  14     https://cdn.sofifa.org/players/4/19/215914.png               France   \n",
              "  15     https://cdn.sofifa.org/players/4/19/211110.png            Argentina   \n",
              "  16     https://cdn.sofifa.org/players/4/19/202126.png              England   \n",
              "  17     https://cdn.sofifa.org/players/4/19/194765.png               France   \n",
              "  18     https://cdn.sofifa.org/players/4/19/192448.png              Germany   \n",
              "  19     https://cdn.sofifa.org/players/4/19/192119.png              Belgium   \n",
              "  20     https://cdn.sofifa.org/players/4/19/189511.png                Spain   \n",
              "  21     https://cdn.sofifa.org/players/4/19/179813.png              Uruguay   \n",
              "  22     https://cdn.sofifa.org/players/4/19/167495.png              Germany   \n",
              "  23     https://cdn.sofifa.org/players/4/19/153079.png            Argentina   \n",
              "  24     https://cdn.sofifa.org/players/4/19/138956.png                Italy   \n",
              "  25     https://cdn.sofifa.org/players/4/19/231747.png               France   \n",
              "  26     https://cdn.sofifa.org/players/4/19/209331.png                Egypt   \n",
              "  27     https://cdn.sofifa.org/players/4/19/200145.png               Brazil   \n",
              "  28     https://cdn.sofifa.org/players/4/19/198710.png             Colombia   \n",
              "  29     https://cdn.sofifa.org/players/4/19/198219.png                Italy   \n",
              "  ...                                               ...                  ...   \n",
              "  18177  https://cdn.sofifa.org/players/4/19/238550.png  Republic of Ireland   \n",
              "  18178  https://cdn.sofifa.org/players/4/19/243158.png               Sweden   \n",
              "  18179  https://cdn.sofifa.org/players/4/19/246243.png              England   \n",
              "  18180  https://cdn.sofifa.org/players/4/19/221669.png             Scotland   \n",
              "  18181  https://cdn.sofifa.org/players/4/19/245734.png  Republic of Ireland   \n",
              "  18182  https://cdn.sofifa.org/players/4/19/246001.png             Colombia   \n",
              "  18183   https://cdn.sofifa.org/players/4/19/53748.png              England   \n",
              "  18184  https://cdn.sofifa.org/players/4/19/241657.png              England   \n",
              "  18185  https://cdn.sofifa.org/players/4/19/243961.png  Republic of Ireland   \n",
              "  18186  https://cdn.sofifa.org/players/4/19/240917.png             China PR   \n",
              "  18187  https://cdn.sofifa.org/players/4/19/240158.png              Germany   \n",
              "  18188  https://cdn.sofifa.org/players/4/19/240927.png                Wales   \n",
              "  18189  https://cdn.sofifa.org/players/4/19/240160.png              Germany   \n",
              "  18190  https://cdn.sofifa.org/players/4/19/245569.png              England   \n",
              "  18191  https://cdn.sofifa.org/players/4/19/245570.png              England   \n",
              "  18192  https://cdn.sofifa.org/players/4/19/245571.png              England   \n",
              "  18193  https://cdn.sofifa.org/players/4/19/244823.png                Chile   \n",
              "  18194  https://cdn.sofifa.org/players/4/19/245862.png                Italy   \n",
              "  18195  https://cdn.sofifa.org/players/4/19/243582.png  Republic of Ireland   \n",
              "  18196  https://cdn.sofifa.org/players/4/19/238477.png                Japan   \n",
              "  18197  https://cdn.sofifa.org/players/4/19/246167.png  Republic of Ireland   \n",
              "  18198  https://cdn.sofifa.org/players/4/19/242844.png              England   \n",
              "  18199  https://cdn.sofifa.org/players/4/19/244677.png               Canada   \n",
              "  18200  https://cdn.sofifa.org/players/4/19/231381.png             Scotland   \n",
              "  18201  https://cdn.sofifa.org/players/4/19/243413.png  Republic of Ireland   \n",
              "  18202  https://cdn.sofifa.org/players/4/19/238813.png              England   \n",
              "  18203  https://cdn.sofifa.org/players/4/19/243165.png               Sweden   \n",
              "  18204  https://cdn.sofifa.org/players/4/19/241638.png              England   \n",
              "  18205  https://cdn.sofifa.org/players/4/19/246268.png              England   \n",
              "  18206  https://cdn.sofifa.org/players/4/19/246269.png              England   \n",
              "  \n",
              "                                         Flag  Overall  Potential  \\\n",
              "  0       https://cdn.sofifa.org/flags/52.png       94         94   \n",
              "  1       https://cdn.sofifa.org/flags/38.png       94         94   \n",
              "  2       https://cdn.sofifa.org/flags/54.png       92         93   \n",
              "  3       https://cdn.sofifa.org/flags/45.png       91         93   \n",
              "  4        https://cdn.sofifa.org/flags/7.png       91         92   \n",
              "  5        https://cdn.sofifa.org/flags/7.png       91         91   \n",
              "  6       https://cdn.sofifa.org/flags/10.png       91         91   \n",
              "  7       https://cdn.sofifa.org/flags/60.png       91         91   \n",
              "  8       https://cdn.sofifa.org/flags/45.png       91         91   \n",
              "  9       https://cdn.sofifa.org/flags/44.png       90         93   \n",
              "  10      https://cdn.sofifa.org/flags/37.png       90         90   \n",
              "  11      https://cdn.sofifa.org/flags/21.png       90         90   \n",
              "  12      https://cdn.sofifa.org/flags/60.png       90         90   \n",
              "  13      https://cdn.sofifa.org/flags/45.png       90         90   \n",
              "  14      https://cdn.sofifa.org/flags/18.png       89         90   \n",
              "  15      https://cdn.sofifa.org/flags/52.png       89         94   \n",
              "  16      https://cdn.sofifa.org/flags/14.png       89         91   \n",
              "  17      https://cdn.sofifa.org/flags/18.png       89         90   \n",
              "  18      https://cdn.sofifa.org/flags/21.png       89         92   \n",
              "  19       https://cdn.sofifa.org/flags/7.png       89         90   \n",
              "  20      https://cdn.sofifa.org/flags/45.png       89         89   \n",
              "  21      https://cdn.sofifa.org/flags/60.png       89         89   \n",
              "  22      https://cdn.sofifa.org/flags/21.png       89         89   \n",
              "  23      https://cdn.sofifa.org/flags/52.png       89         89   \n",
              "  24      https://cdn.sofifa.org/flags/27.png       89         89   \n",
              "  25      https://cdn.sofifa.org/flags/18.png       88         95   \n",
              "  26     https://cdn.sofifa.org/flags/111.png       88         89   \n",
              "  27      https://cdn.sofifa.org/flags/54.png       88         90   \n",
              "  28      https://cdn.sofifa.org/flags/56.png       88         89   \n",
              "  29      https://cdn.sofifa.org/flags/27.png       88         88   \n",
              "  ...                                     ...      ...        ...   \n",
              "  18177   https://cdn.sofifa.org/flags/25.png       48         69   \n",
              "  18178   https://cdn.sofifa.org/flags/46.png       48         65   \n",
              "  18179   https://cdn.sofifa.org/flags/14.png       48         64   \n",
              "  18180   https://cdn.sofifa.org/flags/42.png       48         58   \n",
              "  18181   https://cdn.sofifa.org/flags/25.png       48         66   \n",
              "  18182   https://cdn.sofifa.org/flags/56.png       48         65   \n",
              "  18183   https://cdn.sofifa.org/flags/14.png       48         48   \n",
              "  18184   https://cdn.sofifa.org/flags/14.png       48         55   \n",
              "  18185   https://cdn.sofifa.org/flags/25.png       48         59   \n",
              "  18186  https://cdn.sofifa.org/flags/155.png       47         64   \n",
              "  18187   https://cdn.sofifa.org/flags/21.png       47         59   \n",
              "  18188   https://cdn.sofifa.org/flags/50.png       47         62   \n",
              "  18189   https://cdn.sofifa.org/flags/21.png       47         61   \n",
              "  18190   https://cdn.sofifa.org/flags/14.png       47         67   \n",
              "  18191   https://cdn.sofifa.org/flags/14.png       47         65   \n",
              "  18192   https://cdn.sofifa.org/flags/14.png       47         64   \n",
              "  18193   https://cdn.sofifa.org/flags/55.png       47         64   \n",
              "  18194   https://cdn.sofifa.org/flags/27.png       47         65   \n",
              "  18195   https://cdn.sofifa.org/flags/25.png       47         67   \n",
              "  18196  https://cdn.sofifa.org/flags/163.png       47         61   \n",
              "  18197   https://cdn.sofifa.org/flags/25.png       47         61   \n",
              "  18198   https://cdn.sofifa.org/flags/14.png       47         70   \n",
              "  18199   https://cdn.sofifa.org/flags/70.png       47         69   \n",
              "  18200   https://cdn.sofifa.org/flags/42.png       47         62   \n",
              "  18201   https://cdn.sofifa.org/flags/25.png       47         68   \n",
              "  18202   https://cdn.sofifa.org/flags/14.png       47         65   \n",
              "  18203   https://cdn.sofifa.org/flags/46.png       47         63   \n",
              "  18204   https://cdn.sofifa.org/flags/14.png       47         67   \n",
              "  18205   https://cdn.sofifa.org/flags/14.png       47         66   \n",
              "  18206   https://cdn.sofifa.org/flags/14.png       46         66   \n",
              "  \n",
              "                           Club      ...       Composure Marking StandingTackle  \\\n",
              "  0                FC Barcelona      ...            96.0    33.0           28.0   \n",
              "  1                    Juventus      ...            95.0    28.0           31.0   \n",
              "  2         Paris Saint-Germain      ...            94.0    27.0           24.0   \n",
              "  3           Manchester United      ...            68.0    15.0           21.0   \n",
              "  4             Manchester City      ...            88.0    68.0           58.0   \n",
              "  5                     Chelsea      ...            91.0    34.0           27.0   \n",
              "  6                 Real Madrid      ...            84.0    60.0           76.0   \n",
              "  7                FC Barcelona      ...            85.0    62.0           45.0   \n",
              "  8                 Real Madrid      ...            82.0    87.0           92.0   \n",
              "  9             Atlético Madrid      ...            70.0    27.0           12.0   \n",
              "  10          FC Bayern München      ...            86.0    34.0           42.0   \n",
              "  11                Real Madrid      ...            85.0    72.0           79.0   \n",
              "  12            Atlético Madrid      ...            82.0    90.0           89.0   \n",
              "  13            Manchester City      ...            93.0    59.0           53.0   \n",
              "  14                    Chelsea      ...            85.0    90.0           91.0   \n",
              "  15                   Juventus      ...            84.0    23.0           20.0   \n",
              "  16          Tottenham Hotspur      ...            89.0    56.0           36.0   \n",
              "  17            Atlético Madrid      ...            87.0    59.0           47.0   \n",
              "  18               FC Barcelona      ...            69.0    25.0           13.0   \n",
              "  19                Real Madrid      ...            66.0    20.0           18.0   \n",
              "  20               FC Barcelona      ...            90.0    90.0           86.0   \n",
              "  21        Paris Saint-Germain      ...            82.0    52.0           45.0   \n",
              "  22          FC Bayern München      ...            70.0    17.0           10.0   \n",
              "  23            Manchester City      ...            90.0    30.0           20.0   \n",
              "  24                   Juventus      ...            84.0    93.0           93.0   \n",
              "  25        Paris Saint-Germain      ...            86.0    34.0           34.0   \n",
              "  26                  Liverpool      ...            91.0    38.0           43.0   \n",
              "  27                Real Madrid      ...            84.0    88.0           90.0   \n",
              "  28          FC Bayern München      ...            87.0    52.0           41.0   \n",
              "  29                     Napoli      ...            83.0    51.0           24.0   \n",
              "  ...                       ...      ...             ...     ...            ...   \n",
              "  18177               Blackpool      ...            49.0    18.0           16.0   \n",
              "  18178              Dalkurd FF      ...            28.0    16.0           11.0   \n",
              "  18179        Northampton Town      ...            37.0    42.0           51.0   \n",
              "  18180        St. Johnstone FC      ...            28.0    12.0           15.0   \n",
              "  18181          Bray Wanderers      ...            38.0    43.0           49.0   \n",
              "  18182       Atlético Nacional      ...            38.0    44.0           42.0   \n",
              "  18183        Cambridge United      ...            56.0    15.0           15.0   \n",
              "  18184            Lincoln City      ...            42.0    47.0           49.0   \n",
              "  18185              Derry City      ...            43.0    39.0           39.0   \n",
              "  18186        Beijing Renhe FC      ...            39.0    53.0           41.0   \n",
              "  18187      SpVgg Unterhaching      ...            47.0    40.0           42.0   \n",
              "  18188          Newport County      ...            46.0    33.0           38.0   \n",
              "  18189      SpVgg Unterhaching      ...            37.0    28.0           15.0   \n",
              "  18190        Cambridge United      ...            46.0    35.0           44.0   \n",
              "  18191        Cambridge United      ...            36.0    45.0           42.0   \n",
              "  18192        Cambridge United      ...            38.0    41.0           41.0   \n",
              "  18193          Unión Española      ...            32.0    41.0           48.0   \n",
              "  18194                   Lecce      ...            23.0     6.0           10.0   \n",
              "  18195            Waterford FC      ...            41.0    44.0           37.0   \n",
              "  18196            Júbilo Iwata      ...            35.0    41.0           44.0   \n",
              "  18197               Cork City      ...            52.0    41.0           47.0   \n",
              "  18198           Burton Albion      ...            34.0    15.0           11.0   \n",
              "  18199  Vancouver Whitecaps FC      ...            40.0    48.0           49.0   \n",
              "  18200            Swindon Town      ...            50.0    15.0           17.0   \n",
              "  18201            Waterford FC      ...            43.0    44.0           47.0   \n",
              "  18202         Crewe Alexandra      ...            45.0    40.0           48.0   \n",
              "  18203          Trelleborgs FF      ...            42.0    22.0           15.0   \n",
              "  18204        Cambridge United      ...            41.0    32.0           13.0   \n",
              "  18205         Tranmere Rovers      ...            46.0    20.0           25.0   \n",
              "  18206         Tranmere Rovers      ...            43.0    40.0           43.0   \n",
              "  \n",
              "         SlidingTackle GKDiving  GKHandling  GKKicking  GKPositioning  \\\n",
              "  0               26.0      6.0        11.0       15.0           14.0   \n",
              "  1               23.0      7.0        11.0       15.0           14.0   \n",
              "  2               33.0      9.0         9.0       15.0           15.0   \n",
              "  3               13.0     90.0        85.0       87.0           88.0   \n",
              "  4               51.0     15.0        13.0        5.0           10.0   \n",
              "  5               22.0     11.0        12.0        6.0            8.0   \n",
              "  6               73.0     13.0         9.0        7.0           14.0   \n",
              "  7               38.0     27.0        25.0       31.0           33.0   \n",
              "  8               91.0     11.0         8.0        9.0            7.0   \n",
              "  9               18.0     86.0        92.0       78.0           88.0   \n",
              "  10              19.0     15.0         6.0       12.0            8.0   \n",
              "  11              69.0     10.0        11.0       13.0            7.0   \n",
              "  12              89.0      6.0         8.0       15.0            5.0   \n",
              "  13              29.0      6.0        15.0        7.0            6.0   \n",
              "  14              85.0     15.0        12.0       10.0            7.0   \n",
              "  15              20.0      5.0         4.0        4.0            5.0   \n",
              "  16              38.0      8.0        10.0       11.0           14.0   \n",
              "  17              48.0     14.0         8.0       14.0           13.0   \n",
              "  18              10.0     87.0        85.0       88.0           85.0   \n",
              "  19              16.0     85.0        91.0       72.0           86.0   \n",
              "  20              80.0      5.0         8.0       13.0            9.0   \n",
              "  21              39.0     12.0         5.0       13.0           13.0   \n",
              "  22              11.0     90.0        86.0       91.0           87.0   \n",
              "  23              12.0     13.0        15.0        6.0           11.0   \n",
              "  24              90.0      3.0         3.0        2.0            4.0   \n",
              "  25              32.0     13.0         5.0        7.0           11.0   \n",
              "  26              41.0     14.0        14.0        9.0           11.0   \n",
              "  27              87.0     13.0        14.0       16.0           12.0   \n",
              "  28              44.0     15.0        15.0       15.0            5.0   \n",
              "  29              22.0      8.0         4.0       14.0            9.0   \n",
              "  ...              ...      ...         ...        ...            ...   \n",
              "  18177           11.0      6.0         9.0       11.0            7.0   \n",
              "  18178           10.0     47.0        46.0       50.0           45.0   \n",
              "  18179           49.0     14.0        11.0        7.0           11.0   \n",
              "  18180           16.0     45.0        49.0       50.0           50.0   \n",
              "  18181           45.0      8.0        10.0       12.0            9.0   \n",
              "  18182           46.0      9.0        15.0       15.0            8.0   \n",
              "  18183           13.0     45.0        48.0       44.0           49.0   \n",
              "  18184           53.0     12.0         5.0       12.0           14.0   \n",
              "  18185           48.0      6.0        11.0        9.0            5.0   \n",
              "  18186           51.0     15.0         7.0       14.0            6.0   \n",
              "  18187           42.0     13.0        12.0       11.0           15.0   \n",
              "  18188           41.0      5.0        12.0        8.0           13.0   \n",
              "  18189           22.0     15.0         5.0       14.0           12.0   \n",
              "  18190           47.0     13.0         7.0       14.0           10.0   \n",
              "  18191           46.0     15.0        13.0        6.0           14.0   \n",
              "  18192           44.0     11.0        11.0        8.0           12.0   \n",
              "  18193           48.0      6.0        10.0        6.0           12.0   \n",
              "  18194           11.0     52.0        52.0       52.0           40.0   \n",
              "  18195           48.0     13.0        14.0       12.0            7.0   \n",
              "  18196           54.0     10.0        12.0        6.0           11.0   \n",
              "  18197           38.0     13.0         6.0        9.0           10.0   \n",
              "  18198           13.0     46.0        52.0       58.0           42.0   \n",
              "  18199           49.0      7.0         7.0        9.0           14.0   \n",
              "  18200           14.0     11.0        15.0       12.0           12.0   \n",
              "  18201           53.0      9.0        10.0        9.0           11.0   \n",
              "  18202           47.0     10.0        13.0        7.0            8.0   \n",
              "  18203           19.0     10.0         9.0        9.0            5.0   \n",
              "  18204           11.0      6.0         5.0       10.0            6.0   \n",
              "  18205           27.0     14.0         6.0       14.0            8.0   \n",
              "  18206           50.0     10.0        15.0        9.0           12.0   \n",
              "  \n",
              "        GKReflexes Release Clause  \n",
              "  0            8.0        €226.5M  \n",
              "  1           11.0        €127.1M  \n",
              "  2           11.0        €228.1M  \n",
              "  3           94.0        €138.6M  \n",
              "  4           13.0        €196.4M  \n",
              "  5            8.0        €172.1M  \n",
              "  6            9.0        €137.4M  \n",
              "  7           37.0          €164M  \n",
              "  8           11.0        €104.6M  \n",
              "  9           89.0        €144.5M  \n",
              "  10          10.0        €127.1M  \n",
              "  11          10.0        €156.8M  \n",
              "  12          15.0         €90.2M  \n",
              "  13          12.0          €111M  \n",
              "  14          10.0        €121.3M  \n",
              "  15           8.0        €153.5M  \n",
              "  16          11.0        €160.7M  \n",
              "  17          14.0        €165.8M  \n",
              "  18          90.0        €123.3M  \n",
              "  19          88.0        €113.7M  \n",
              "  20          13.0        €105.6M  \n",
              "  21          10.0          €111M  \n",
              "  22          87.0         €62.7M  \n",
              "  23          14.0        €119.3M  \n",
              "  24           3.0         €44.6M  \n",
              "  25           6.0        €166.1M  \n",
              "  26          14.0        €137.3M  \n",
              "  27          12.0        €126.4M  \n",
              "  28          14.0            NaN  \n",
              "  29          10.0        €105.4M  \n",
              "  ...          ...            ...  \n",
              "  18177       12.0          €193K  \n",
              "  18178       51.0           €94K  \n",
              "  18179        8.0          €119K  \n",
              "  18180       45.0           €78K  \n",
              "  18181       10.0          €109K  \n",
              "  18182        6.0          €101K  \n",
              "  18183       46.0            NaN  \n",
              "  18184       15.0           €78K  \n",
              "  18185        8.0           €88K  \n",
              "  18186        8.0          €167K  \n",
              "  18187       12.0           €66K  \n",
              "  18188       10.0          €143K  \n",
              "  18189        8.0          €125K  \n",
              "  18190        8.0          €165K  \n",
              "  18191       12.0          €119K  \n",
              "  18192       13.0          €119K  \n",
              "  18193       11.0           €99K  \n",
              "  18194       44.0          €109K  \n",
              "  18195       13.0          €153K  \n",
              "  18196        8.0          €113K  \n",
              "  18197       15.0           €88K  \n",
              "  18198       48.0          €165K  \n",
              "  18199       15.0          €175K  \n",
              "  18200       11.0          €143K  \n",
              "  18201       13.0          €153K  \n",
              "  18202        9.0          €143K  \n",
              "  18203       12.0          €113K  \n",
              "  18204       13.0          €165K  \n",
              "  18205        9.0          €143K  \n",
              "  18206        9.0          €165K  \n",
              "  \n",
              "  [18207 rows x 89 columns],\n",
              "  encoding: EncodingWithFacet({\n",
              "    x: X({\n",
              "      shorthand: 'Names'\n",
              "    }),\n",
              "    y: Y({\n",
              "      shorthand: 'Overall'\n",
              "    })\n",
              "  }),\n",
              "  mark: 'bar'\n",
              "})"
            ]
          },
          "metadata": {
            "tags": []
          },
          "execution_count": 28
        }
      ]
    },
    {
      "metadata": {
        "id": "LzZWPqvLb--1",
        "colab_type": "code",
        "colab": {}
      },
      "cell_type": "code",
      "source": [
        "data.wheat()"
      ],
      "execution_count": 0,
      "outputs": []
    }
  ]
}