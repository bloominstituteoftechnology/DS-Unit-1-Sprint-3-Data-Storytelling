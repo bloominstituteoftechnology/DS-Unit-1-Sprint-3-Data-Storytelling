{
  "nbformat": 4,
  "nbformat_minor": 0,
  "metadata": {
    "colab": {
      "name": "LS_DS_224_Sequence_your_narrative.ipynb",
      "version": "0.3.2",
      "provenance": [],
      "collapsed_sections": [],
      "include_colab_link": true
    },
    "kernelspec": {
      "display_name": "Python 3",
      "language": "python",
      "name": "python3"
    }
  },
  "cells": [
    {
      "cell_type": "markdown",
      "metadata": {
        "id": "view-in-github",
        "colab_type": "text"
      },
      "source": [
        "<a href=\"https://colab.research.google.com/github/nickwinters1/DS-Unit-1-Sprint-3-Data-Storytelling/blob/master/LS_DS_224_Sequence_your_narrative.ipynb\" target=\"_parent\"><img src=\"https://colab.research.google.com/assets/colab-badge.svg\" alt=\"Open In Colab\"/></a>"
      ]
    },
    {
      "metadata": {
        "colab_type": "text",
        "id": "JbDHnhet8CWy"
      },
      "cell_type": "markdown",
      "source": [
        "_Lambda School Data Science_\n",
        "\n",
        "# Sequence your narrative\n",
        "\n",
        "Today we will create a sequence of visualizations inspired by [Hans Rosling's 200 Countries, 200 Years, 4 Minutes](https://www.youtube.com/watch?v=jbkSRLYSojo).\n",
        "\n",
        "Using this [data from Gapminder](https://github.com/open-numbers/ddf--gapminder--systema_globalis/):\n",
        "- [Income Per Person (GDP Per Capital, Inflation Adjusted) by Geo & Time](https://raw.githubusercontent.com/open-numbers/ddf--gapminder--systema_globalis/master/ddf--datapoints--income_per_person_gdppercapita_ppp_inflation_adjusted--by--geo--time.csv)\n",
        "- [Life Expectancy (in Years) by Geo & Time](https://raw.githubusercontent.com/open-numbers/ddf--gapminder--systema_globalis/master/ddf--datapoints--life_expectancy_years--by--geo--time.csv)\n",
        "- [Population Totals, by Geo & Time](https://raw.githubusercontent.com/open-numbers/ddf--gapminder--systema_globalis/master/ddf--datapoints--population_total--by--geo--time.csv)\n",
        "- [Entities](https://raw.githubusercontent.com/open-numbers/ddf--gapminder--systema_globalis/master/ddf--entities--geo--country.csv)\n",
        "- [Concepts](https://raw.githubusercontent.com/open-numbers/ddf--gapminder--systema_globalis/master/ddf--concepts.csv)"
      ]
    },
    {
      "metadata": {
        "colab_type": "text",
        "id": "zyPYtsY6HtIK"
      },
      "cell_type": "markdown",
      "source": [
        "Objectives\n",
        "- sequence multiple visualizations\n",
        "- combine qualitative anecdotes with quantitative aggregates\n",
        "\n",
        "Links\n",
        "- [Hans Rosling’s TED talks](https://www.ted.com/speakers/hans_rosling)\n",
        "- [Spiralling global temperatures from 1850-2016](https://twitter.com/ed_hawkins/status/729753441459945474)\n",
        "- \"[The Pudding](https://pudding.cool/) explains ideas debated in culture with visual essays.\"\n",
        "- [A Data Point Walks Into a Bar](https://lisacharlotterost.github.io/2016/12/27/datapoint-in-bar/): a thoughtful blog post about emotion and empathy in data storytelling"
      ]
    },
    {
      "metadata": {
        "colab_type": "text",
        "id": "SxTJBgRAW3jD"
      },
      "cell_type": "markdown",
      "source": [
        "## Make a plan\n",
        "\n",
        "#### How to present the data?\n",
        "\n",
        "Variables --> Visual Encodings\n",
        "- Income --> x\n",
        "- Lifespan --> y\n",
        "- Region --> color\n",
        "- Population --> size\n",
        "- Year --> animation frame (alternative: small multiple)\n",
        "- Country --> annotation\n",
        "\n",
        "Qualitative --> Verbal\n",
        "- Editorial / contextual explanation --> audio narration (alternative: text)\n",
        "\n",
        "\n",
        "#### How to structure the data?\n",
        "\n",
        "| Year | Country | Region   | Income | Lifespan | Population |\n",
        "|------|---------|----------|--------|----------|------------|\n",
        "| 1818 | USA     | Americas | ###    | ##       | #          |\n",
        "| 1918 | USA     | Americas | ####   | ###      | ##         |\n",
        "| 2018 | USA     | Americas | #####  | ###      | ###        |\n",
        "| 1818 | China   | Asia     | #      | #        | #          |\n",
        "| 1918 | China   | Asia     | ##     | ##       | ###        |\n",
        "| 2018 | China   | Asia     | ###    | ###      | #####      |\n"
      ]
    },
    {
      "metadata": {
        "colab_type": "text",
        "id": "3ebEjShbWsIy"
      },
      "cell_type": "markdown",
      "source": [
        "## Upgrade Seaborn\n",
        "\n",
        "Make sure you have at least version 0.9.0.\n",
        "\n",
        "In Colab, go to **Restart runtime** after you run the `pip` command."
      ]
    },
    {
      "metadata": {
        "colab_type": "code",
        "id": "4RSxbu7rWr1p",
        "colab": {
          "base_uri": "https://localhost:8080/",
          "height": 870
        },
        "outputId": "5f3580ac-9e46-49f5-9a7c-25d89fd45cd3"
      },
      "cell_type": "code",
      "source": [
        "!pip install --upgrade seaborn"
      ],
      "execution_count": 1,
      "outputs": [
        {
          "output_type": "stream",
          "text": [
            "Requirement already up-to-date: seaborn in /usr/local/lib/python3.6/dist-packages (0.9.0)\n",
            "Requirement already satisfied, skipping upgrade: pandas>=0.15.2 in /usr/local/lib/python3.6/dist-packages (from seaborn) (0.22.0)\n",
            "Requirement already satisfied, skipping upgrade: matplotlib>=1.4.3 in /usr/local/lib/python3.6/dist-packages (from seaborn) (3.0.3)\n",
            "Requirement already satisfied, skipping upgrade: numpy>=1.9.3 in /usr/local/lib/python3.6/dist-packages (from seaborn) (1.14.6)\n",
            "Requirement already satisfied, skipping upgrade: scipy>=0.14.0 in /usr/local/lib/python3.6/dist-packages (from seaborn) (1.1.0)\n",
            "Requirement already satisfied, skipping upgrade: python-dateutil>=2 in /usr/local/lib/python3.6/dist-packages (from pandas>=0.15.2->seaborn) (2.5.3)\n",
            "Requirement already satisfied, skipping upgrade: pytz>=2011k in /usr/local/lib/python3.6/dist-packages (from pandas>=0.15.2->seaborn) (2018.9)\n",
            "Requirement already satisfied, skipping upgrade: kiwisolver>=1.0.1 in /usr/local/lib/python3.6/dist-packages (from matplotlib>=1.4.3->seaborn) (1.0.1)\n",
            "Requirement already satisfied, skipping upgrade: pyparsing!=2.0.4,!=2.1.2,!=2.1.6,>=2.0.1 in /usr/local/lib/python3.6/dist-packages (from matplotlib>=1.4.3->seaborn) (2.3.1)\n",
            "Requirement already satisfied, skipping upgrade: cycler>=0.10 in /usr/local/lib/python3.6/dist-packages (from matplotlib>=1.4.3->seaborn) (0.10.0)\n",
            "Requirement already satisfied, skipping upgrade: six>=1.5 in /usr/local/lib/python3.6/dist-packages (from python-dateutil>=2->pandas>=0.15.2->seaborn) (1.11.0)\n",
            "Requirement already satisfied, skipping upgrade: setuptools in /usr/local/lib/python3.6/dist-packages (from kiwisolver>=1.0.1->matplotlib>=1.4.3->seaborn) (40.8.0)\n"
          ],
          "name": "stdout"
        }
      ]
    },
    {
      "metadata": {
        "colab_type": "code",
        "id": "5sQ0-7JUWyN4",
        "colab": {
          "base_uri": "https://localhost:8080/",
          "height": 34
        },
        "outputId": "cdd67c55-c637-45d4-b06d-72400f39f825"
      },
      "cell_type": "code",
      "source": [
        "import seaborn as sns\n",
        "sns.__version__"
      ],
      "execution_count": 2,
      "outputs": [
        {
          "output_type": "execute_result",
          "data": {
            "text/plain": [
              "'0.9.0'"
            ]
          },
          "metadata": {
            "tags": []
          },
          "execution_count": 2
        }
      ]
    },
    {
      "metadata": {
        "colab_type": "text",
        "id": "S2dXWRTFTsgd"
      },
      "cell_type": "markdown",
      "source": [
        "## More imports"
      ]
    },
    {
      "metadata": {
        "colab_type": "code",
        "id": "y-TgL_mA8OkF",
        "colab": {}
      },
      "cell_type": "code",
      "source": [
        "%matplotlib inline\n",
        "import matplotlib.pyplot as plt\n",
        "import numpy as np\n",
        "import pandas as pd"
      ],
      "execution_count": 0,
      "outputs": []
    },
    {
      "metadata": {
        "colab_type": "text",
        "id": "CZGG5prcTxrQ"
      },
      "cell_type": "markdown",
      "source": [
        "## Load & look at data"
      ]
    },
    {
      "metadata": {
        "colab_type": "code",
        "id": "-uE25LHD8CW0",
        "colab": {}
      },
      "cell_type": "code",
      "source": [
        "income = pd.read_csv('https://raw.githubusercontent.com/open-numbers/ddf--gapminder--systema_globalis/master/ddf--datapoints--income_per_person_gdppercapita_ppp_inflation_adjusted--by--geo--time.csv')"
      ],
      "execution_count": 0,
      "outputs": []
    },
    {
      "metadata": {
        "colab_type": "code",
        "id": "gg_pJslMY2bq",
        "colab": {}
      },
      "cell_type": "code",
      "source": [
        "lifespan = pd.read_csv('https://raw.githubusercontent.com/open-numbers/ddf--gapminder--systema_globalis/master/ddf--datapoints--life_expectancy_years--by--geo--time.csv')"
      ],
      "execution_count": 0,
      "outputs": []
    },
    {
      "metadata": {
        "colab_type": "code",
        "id": "F6knDUevY-xR",
        "colab": {}
      },
      "cell_type": "code",
      "source": [
        "population = pd.read_csv('https://raw.githubusercontent.com/open-numbers/ddf--gapminder--systema_globalis/master/ddf--datapoints--population_total--by--geo--time.csv')"
      ],
      "execution_count": 0,
      "outputs": []
    },
    {
      "metadata": {
        "colab_type": "code",
        "id": "hX6abI-iZGLl",
        "colab": {}
      },
      "cell_type": "code",
      "source": [
        "entities = pd.read_csv('https://raw.githubusercontent.com/open-numbers/ddf--gapminder--systema_globalis/master/ddf--entities--geo--country.csv')"
      ],
      "execution_count": 0,
      "outputs": []
    },
    {
      "metadata": {
        "colab_type": "code",
        "id": "AI-zcaDkZHXm",
        "colab": {}
      },
      "cell_type": "code",
      "source": [
        "concepts = pd.read_csv('https://raw.githubusercontent.com/open-numbers/ddf--gapminder--systema_globalis/master/ddf--concepts.csv')"
      ],
      "execution_count": 0,
      "outputs": []
    },
    {
      "metadata": {
        "colab_type": "code",
        "id": "EgFw-g0nZLJy",
        "colab": {
          "base_uri": "https://localhost:8080/",
          "height": 34
        },
        "outputId": "98c1f2c8-6b6e-49f3-b13b-fba7e7515c58"
      },
      "cell_type": "code",
      "source": [
        "income.shape, lifespan.shape, population.shape, entities.shape, concepts.shape"
      ],
      "execution_count": 9,
      "outputs": [
        {
          "output_type": "execute_result",
          "data": {
            "text/plain": [
              "((46513, 3), (44370, 3), (59297, 3), (273, 33), (590, 16))"
            ]
          },
          "metadata": {
            "tags": []
          },
          "execution_count": 9
        }
      ]
    },
    {
      "metadata": {
        "colab_type": "code",
        "id": "I-T62v7FZQu5",
        "colab": {
          "base_uri": "https://localhost:8080/",
          "height": 204
        },
        "outputId": "31f93a36-ea23-408d-a076-3118603196de"
      },
      "cell_type": "code",
      "source": [
        "income.head()"
      ],
      "execution_count": 10,
      "outputs": [
        {
          "output_type": "execute_result",
          "data": {
            "text/html": [
              "<div>\n",
              "<style scoped>\n",
              "    .dataframe tbody tr th:only-of-type {\n",
              "        vertical-align: middle;\n",
              "    }\n",
              "\n",
              "    .dataframe tbody tr th {\n",
              "        vertical-align: top;\n",
              "    }\n",
              "\n",
              "    .dataframe thead th {\n",
              "        text-align: right;\n",
              "    }\n",
              "</style>\n",
              "<table border=\"1\" class=\"dataframe\">\n",
              "  <thead>\n",
              "    <tr style=\"text-align: right;\">\n",
              "      <th></th>\n",
              "      <th>geo</th>\n",
              "      <th>time</th>\n",
              "      <th>income_per_person_gdppercapita_ppp_inflation_adjusted</th>\n",
              "    </tr>\n",
              "  </thead>\n",
              "  <tbody>\n",
              "    <tr>\n",
              "      <th>0</th>\n",
              "      <td>afg</td>\n",
              "      <td>1800</td>\n",
              "      <td>603</td>\n",
              "    </tr>\n",
              "    <tr>\n",
              "      <th>1</th>\n",
              "      <td>afg</td>\n",
              "      <td>1801</td>\n",
              "      <td>603</td>\n",
              "    </tr>\n",
              "    <tr>\n",
              "      <th>2</th>\n",
              "      <td>afg</td>\n",
              "      <td>1802</td>\n",
              "      <td>603</td>\n",
              "    </tr>\n",
              "    <tr>\n",
              "      <th>3</th>\n",
              "      <td>afg</td>\n",
              "      <td>1803</td>\n",
              "      <td>603</td>\n",
              "    </tr>\n",
              "    <tr>\n",
              "      <th>4</th>\n",
              "      <td>afg</td>\n",
              "      <td>1804</td>\n",
              "      <td>603</td>\n",
              "    </tr>\n",
              "  </tbody>\n",
              "</table>\n",
              "</div>"
            ],
            "text/plain": [
              "   geo  time  income_per_person_gdppercapita_ppp_inflation_adjusted\n",
              "0  afg  1800                                                603    \n",
              "1  afg  1801                                                603    \n",
              "2  afg  1802                                                603    \n",
              "3  afg  1803                                                603    \n",
              "4  afg  1804                                                603    "
            ]
          },
          "metadata": {
            "tags": []
          },
          "execution_count": 10
        }
      ]
    },
    {
      "metadata": {
        "colab_type": "code",
        "id": "2zIdtDESZYG5",
        "colab": {
          "base_uri": "https://localhost:8080/",
          "height": 204
        },
        "outputId": "5189e294-b208-432b-bade-4d78273e2ad3"
      },
      "cell_type": "code",
      "source": [
        "lifespan.head()"
      ],
      "execution_count": 11,
      "outputs": [
        {
          "output_type": "execute_result",
          "data": {
            "text/html": [
              "<div>\n",
              "<style scoped>\n",
              "    .dataframe tbody tr th:only-of-type {\n",
              "        vertical-align: middle;\n",
              "    }\n",
              "\n",
              "    .dataframe tbody tr th {\n",
              "        vertical-align: top;\n",
              "    }\n",
              "\n",
              "    .dataframe thead th {\n",
              "        text-align: right;\n",
              "    }\n",
              "</style>\n",
              "<table border=\"1\" class=\"dataframe\">\n",
              "  <thead>\n",
              "    <tr style=\"text-align: right;\">\n",
              "      <th></th>\n",
              "      <th>geo</th>\n",
              "      <th>time</th>\n",
              "      <th>life_expectancy_years</th>\n",
              "    </tr>\n",
              "  </thead>\n",
              "  <tbody>\n",
              "    <tr>\n",
              "      <th>0</th>\n",
              "      <td>abw</td>\n",
              "      <td>1800</td>\n",
              "      <td>34.42</td>\n",
              "    </tr>\n",
              "    <tr>\n",
              "      <th>1</th>\n",
              "      <td>abw</td>\n",
              "      <td>1801</td>\n",
              "      <td>34.42</td>\n",
              "    </tr>\n",
              "    <tr>\n",
              "      <th>2</th>\n",
              "      <td>abw</td>\n",
              "      <td>1802</td>\n",
              "      <td>34.42</td>\n",
              "    </tr>\n",
              "    <tr>\n",
              "      <th>3</th>\n",
              "      <td>abw</td>\n",
              "      <td>1803</td>\n",
              "      <td>34.42</td>\n",
              "    </tr>\n",
              "    <tr>\n",
              "      <th>4</th>\n",
              "      <td>abw</td>\n",
              "      <td>1804</td>\n",
              "      <td>34.42</td>\n",
              "    </tr>\n",
              "  </tbody>\n",
              "</table>\n",
              "</div>"
            ],
            "text/plain": [
              "   geo  time  life_expectancy_years\n",
              "0  abw  1800                  34.42\n",
              "1  abw  1801                  34.42\n",
              "2  abw  1802                  34.42\n",
              "3  abw  1803                  34.42\n",
              "4  abw  1804                  34.42"
            ]
          },
          "metadata": {
            "tags": []
          },
          "execution_count": 11
        }
      ]
    },
    {
      "metadata": {
        "colab_type": "code",
        "id": "58AXNVMKZj3T",
        "colab": {
          "base_uri": "https://localhost:8080/",
          "height": 204
        },
        "outputId": "eb94c030-14b9-46cf-c085-79807bb070a6"
      },
      "cell_type": "code",
      "source": [
        "population.head()"
      ],
      "execution_count": 12,
      "outputs": [
        {
          "output_type": "execute_result",
          "data": {
            "text/html": [
              "<div>\n",
              "<style scoped>\n",
              "    .dataframe tbody tr th:only-of-type {\n",
              "        vertical-align: middle;\n",
              "    }\n",
              "\n",
              "    .dataframe tbody tr th {\n",
              "        vertical-align: top;\n",
              "    }\n",
              "\n",
              "    .dataframe thead th {\n",
              "        text-align: right;\n",
              "    }\n",
              "</style>\n",
              "<table border=\"1\" class=\"dataframe\">\n",
              "  <thead>\n",
              "    <tr style=\"text-align: right;\">\n",
              "      <th></th>\n",
              "      <th>geo</th>\n",
              "      <th>time</th>\n",
              "      <th>population_total</th>\n",
              "    </tr>\n",
              "  </thead>\n",
              "  <tbody>\n",
              "    <tr>\n",
              "      <th>0</th>\n",
              "      <td>afg</td>\n",
              "      <td>1800</td>\n",
              "      <td>3280000</td>\n",
              "    </tr>\n",
              "    <tr>\n",
              "      <th>1</th>\n",
              "      <td>afg</td>\n",
              "      <td>1801</td>\n",
              "      <td>3280000</td>\n",
              "    </tr>\n",
              "    <tr>\n",
              "      <th>2</th>\n",
              "      <td>afg</td>\n",
              "      <td>1802</td>\n",
              "      <td>3280000</td>\n",
              "    </tr>\n",
              "    <tr>\n",
              "      <th>3</th>\n",
              "      <td>afg</td>\n",
              "      <td>1803</td>\n",
              "      <td>3280000</td>\n",
              "    </tr>\n",
              "    <tr>\n",
              "      <th>4</th>\n",
              "      <td>afg</td>\n",
              "      <td>1804</td>\n",
              "      <td>3280000</td>\n",
              "    </tr>\n",
              "  </tbody>\n",
              "</table>\n",
              "</div>"
            ],
            "text/plain": [
              "   geo  time  population_total\n",
              "0  afg  1800           3280000\n",
              "1  afg  1801           3280000\n",
              "2  afg  1802           3280000\n",
              "3  afg  1803           3280000\n",
              "4  afg  1804           3280000"
            ]
          },
          "metadata": {
            "tags": []
          },
          "execution_count": 12
        }
      ]
    },
    {
      "metadata": {
        "colab_type": "code",
        "id": "0ywWDL2MZqlF",
        "colab": {
          "base_uri": "https://localhost:8080/",
          "height": 838
        },
        "outputId": "c7a34d05-1c45-4be2-a0aa-e5a0115b9605"
      },
      "cell_type": "code",
      "source": [
        "pd.options.display.max_columns = 500\n",
        "entities.head()"
      ],
      "execution_count": 13,
      "outputs": [
        {
          "output_type": "execute_result",
          "data": {
            "text/html": [
              "<div>\n",
              "<style scoped>\n",
              "    .dataframe tbody tr th:only-of-type {\n",
              "        vertical-align: middle;\n",
              "    }\n",
              "\n",
              "    .dataframe tbody tr th {\n",
              "        vertical-align: top;\n",
              "    }\n",
              "\n",
              "    .dataframe thead th {\n",
              "        text-align: right;\n",
              "    }\n",
              "</style>\n",
              "<table border=\"1\" class=\"dataframe\">\n",
              "  <thead>\n",
              "    <tr style=\"text-align: right;\">\n",
              "      <th></th>\n",
              "      <th>country</th>\n",
              "      <th>alt_5</th>\n",
              "      <th>alternative_1</th>\n",
              "      <th>alternative_2</th>\n",
              "      <th>alternative_3</th>\n",
              "      <th>alternative_4_cdiac</th>\n",
              "      <th>arb1</th>\n",
              "      <th>arb2</th>\n",
              "      <th>arb3</th>\n",
              "      <th>arb4</th>\n",
              "      <th>arb5</th>\n",
              "      <th>arb6</th>\n",
              "      <th>g77_and_oecd_countries</th>\n",
              "      <th>gapminder_list</th>\n",
              "      <th>god_id</th>\n",
              "      <th>gwid</th>\n",
              "      <th>income_groups</th>\n",
              "      <th>is--country</th>\n",
              "      <th>iso3166_1_alpha2</th>\n",
              "      <th>iso3166_1_alpha3</th>\n",
              "      <th>iso3166_1_numeric</th>\n",
              "      <th>iso3166_2</th>\n",
              "      <th>landlocked</th>\n",
              "      <th>latitude</th>\n",
              "      <th>longitude</th>\n",
              "      <th>main_religion_2008</th>\n",
              "      <th>name</th>\n",
              "      <th>pandg</th>\n",
              "      <th>un_state</th>\n",
              "      <th>unicode_region_subtag</th>\n",
              "      <th>upper_case_name</th>\n",
              "      <th>world_4region</th>\n",
              "      <th>world_6region</th>\n",
              "    </tr>\n",
              "  </thead>\n",
              "  <tbody>\n",
              "    <tr>\n",
              "      <th>0</th>\n",
              "      <td>abkh</td>\n",
              "      <td>NaN</td>\n",
              "      <td>NaN</td>\n",
              "      <td>NaN</td>\n",
              "      <td>NaN</td>\n",
              "      <td>NaN</td>\n",
              "      <td>NaN</td>\n",
              "      <td>NaN</td>\n",
              "      <td>NaN</td>\n",
              "      <td>NaN</td>\n",
              "      <td>NaN</td>\n",
              "      <td>NaN</td>\n",
              "      <td>others</td>\n",
              "      <td>Abkhazia</td>\n",
              "      <td>GE-AB</td>\n",
              "      <td>i0</td>\n",
              "      <td>NaN</td>\n",
              "      <td>True</td>\n",
              "      <td>NaN</td>\n",
              "      <td>NaN</td>\n",
              "      <td>NaN</td>\n",
              "      <td>NaN</td>\n",
              "      <td>NaN</td>\n",
              "      <td>NaN</td>\n",
              "      <td>NaN</td>\n",
              "      <td>NaN</td>\n",
              "      <td>Abkhazia</td>\n",
              "      <td>NaN</td>\n",
              "      <td>False</td>\n",
              "      <td>NaN</td>\n",
              "      <td>NaN</td>\n",
              "      <td>europe</td>\n",
              "      <td>europe_central_asia</td>\n",
              "    </tr>\n",
              "    <tr>\n",
              "      <th>1</th>\n",
              "      <td>abw</td>\n",
              "      <td>NaN</td>\n",
              "      <td>NaN</td>\n",
              "      <td>NaN</td>\n",
              "      <td>NaN</td>\n",
              "      <td>Aruba</td>\n",
              "      <td>NaN</td>\n",
              "      <td>NaN</td>\n",
              "      <td>NaN</td>\n",
              "      <td>NaN</td>\n",
              "      <td>NaN</td>\n",
              "      <td>NaN</td>\n",
              "      <td>others</td>\n",
              "      <td>Aruba</td>\n",
              "      <td>AW</td>\n",
              "      <td>i12</td>\n",
              "      <td>high_income</td>\n",
              "      <td>True</td>\n",
              "      <td>AW</td>\n",
              "      <td>ABW</td>\n",
              "      <td>533.0</td>\n",
              "      <td>NaN</td>\n",
              "      <td>coastline</td>\n",
              "      <td>12.50000</td>\n",
              "      <td>-69.96667</td>\n",
              "      <td>christian</td>\n",
              "      <td>Aruba</td>\n",
              "      <td>NaN</td>\n",
              "      <td>False</td>\n",
              "      <td>AW</td>\n",
              "      <td>ARUBA</td>\n",
              "      <td>americas</td>\n",
              "      <td>america</td>\n",
              "    </tr>\n",
              "    <tr>\n",
              "      <th>2</th>\n",
              "      <td>afg</td>\n",
              "      <td>NaN</td>\n",
              "      <td>Islamic Republic of Afghanistan</td>\n",
              "      <td>NaN</td>\n",
              "      <td>NaN</td>\n",
              "      <td>Afghanistan</td>\n",
              "      <td>NaN</td>\n",
              "      <td>NaN</td>\n",
              "      <td>NaN</td>\n",
              "      <td>NaN</td>\n",
              "      <td>NaN</td>\n",
              "      <td>NaN</td>\n",
              "      <td>g77</td>\n",
              "      <td>Afghanistan</td>\n",
              "      <td>AF</td>\n",
              "      <td>i1</td>\n",
              "      <td>low_income</td>\n",
              "      <td>True</td>\n",
              "      <td>AF</td>\n",
              "      <td>AFG</td>\n",
              "      <td>4.0</td>\n",
              "      <td>NaN</td>\n",
              "      <td>landlocked</td>\n",
              "      <td>33.00000</td>\n",
              "      <td>66.00000</td>\n",
              "      <td>muslim</td>\n",
              "      <td>Afghanistan</td>\n",
              "      <td>AFGHANISTAN</td>\n",
              "      <td>True</td>\n",
              "      <td>AF</td>\n",
              "      <td>AFGHANISTAN</td>\n",
              "      <td>asia</td>\n",
              "      <td>south_asia</td>\n",
              "    </tr>\n",
              "    <tr>\n",
              "      <th>3</th>\n",
              "      <td>ago</td>\n",
              "      <td>NaN</td>\n",
              "      <td>NaN</td>\n",
              "      <td>NaN</td>\n",
              "      <td>NaN</td>\n",
              "      <td>Angola</td>\n",
              "      <td>NaN</td>\n",
              "      <td>NaN</td>\n",
              "      <td>NaN</td>\n",
              "      <td>NaN</td>\n",
              "      <td>NaN</td>\n",
              "      <td>NaN</td>\n",
              "      <td>g77</td>\n",
              "      <td>Angola</td>\n",
              "      <td>AO</td>\n",
              "      <td>i7</td>\n",
              "      <td>upper_middle_income</td>\n",
              "      <td>True</td>\n",
              "      <td>AO</td>\n",
              "      <td>AGO</td>\n",
              "      <td>24.0</td>\n",
              "      <td>NaN</td>\n",
              "      <td>coastline</td>\n",
              "      <td>-12.50000</td>\n",
              "      <td>18.50000</td>\n",
              "      <td>christian</td>\n",
              "      <td>Angola</td>\n",
              "      <td>ANGOLA</td>\n",
              "      <td>True</td>\n",
              "      <td>AO</td>\n",
              "      <td>ANGOLA</td>\n",
              "      <td>africa</td>\n",
              "      <td>sub_saharan_africa</td>\n",
              "    </tr>\n",
              "    <tr>\n",
              "      <th>4</th>\n",
              "      <td>aia</td>\n",
              "      <td>NaN</td>\n",
              "      <td>NaN</td>\n",
              "      <td>NaN</td>\n",
              "      <td>NaN</td>\n",
              "      <td>NaN</td>\n",
              "      <td>NaN</td>\n",
              "      <td>NaN</td>\n",
              "      <td>NaN</td>\n",
              "      <td>NaN</td>\n",
              "      <td>NaN</td>\n",
              "      <td>NaN</td>\n",
              "      <td>others</td>\n",
              "      <td>Anguilla</td>\n",
              "      <td>AI</td>\n",
              "      <td>i8</td>\n",
              "      <td>NaN</td>\n",
              "      <td>True</td>\n",
              "      <td>AI</td>\n",
              "      <td>AIA</td>\n",
              "      <td>660.0</td>\n",
              "      <td>NaN</td>\n",
              "      <td>coastline</td>\n",
              "      <td>18.21667</td>\n",
              "      <td>-63.05000</td>\n",
              "      <td>christian</td>\n",
              "      <td>Anguilla</td>\n",
              "      <td>NaN</td>\n",
              "      <td>False</td>\n",
              "      <td>AI</td>\n",
              "      <td>ANGUILLA</td>\n",
              "      <td>americas</td>\n",
              "      <td>america</td>\n",
              "    </tr>\n",
              "  </tbody>\n",
              "</table>\n",
              "</div>"
            ],
            "text/plain": [
              "  country alt_5                    alternative_1 alternative_2 alternative_3  \\\n",
              "0    abkh   NaN                              NaN           NaN           NaN   \n",
              "1     abw   NaN                              NaN           NaN           NaN   \n",
              "2     afg   NaN  Islamic Republic of Afghanistan           NaN           NaN   \n",
              "3     ago   NaN                              NaN           NaN           NaN   \n",
              "4     aia   NaN                              NaN           NaN           NaN   \n",
              "\n",
              "  alternative_4_cdiac arb1 arb2 arb3 arb4 arb5 arb6 g77_and_oecd_countries  \\\n",
              "0                 NaN  NaN  NaN  NaN  NaN  NaN  NaN                 others   \n",
              "1               Aruba  NaN  NaN  NaN  NaN  NaN  NaN                 others   \n",
              "2         Afghanistan  NaN  NaN  NaN  NaN  NaN  NaN                    g77   \n",
              "3              Angola  NaN  NaN  NaN  NaN  NaN  NaN                    g77   \n",
              "4                 NaN  NaN  NaN  NaN  NaN  NaN  NaN                 others   \n",
              "\n",
              "  gapminder_list god_id gwid        income_groups  is--country  \\\n",
              "0       Abkhazia  GE-AB   i0                  NaN         True   \n",
              "1          Aruba     AW  i12          high_income         True   \n",
              "2    Afghanistan     AF   i1           low_income         True   \n",
              "3         Angola     AO   i7  upper_middle_income         True   \n",
              "4       Anguilla     AI   i8                  NaN         True   \n",
              "\n",
              "  iso3166_1_alpha2 iso3166_1_alpha3  iso3166_1_numeric iso3166_2  landlocked  \\\n",
              "0              NaN              NaN                NaN       NaN         NaN   \n",
              "1               AW              ABW              533.0       NaN   coastline   \n",
              "2               AF              AFG                4.0       NaN  landlocked   \n",
              "3               AO              AGO               24.0       NaN   coastline   \n",
              "4               AI              AIA              660.0       NaN   coastline   \n",
              "\n",
              "   latitude  longitude main_religion_2008         name        pandg  un_state  \\\n",
              "0       NaN        NaN                NaN     Abkhazia          NaN     False   \n",
              "1  12.50000  -69.96667          christian        Aruba          NaN     False   \n",
              "2  33.00000   66.00000             muslim  Afghanistan  AFGHANISTAN      True   \n",
              "3 -12.50000   18.50000          christian       Angola       ANGOLA      True   \n",
              "4  18.21667  -63.05000          christian     Anguilla          NaN     False   \n",
              "\n",
              "  unicode_region_subtag upper_case_name world_4region        world_6region  \n",
              "0                   NaN             NaN        europe  europe_central_asia  \n",
              "1                    AW           ARUBA      americas              america  \n",
              "2                    AF     AFGHANISTAN          asia           south_asia  \n",
              "3                    AO          ANGOLA        africa   sub_saharan_africa  \n",
              "4                    AI        ANGUILLA      americas              america  "
            ]
          },
          "metadata": {
            "tags": []
          },
          "execution_count": 13
        }
      ]
    },
    {
      "metadata": {
        "colab_type": "code",
        "id": "mk_R0eFZZ0G5",
        "colab": {
          "base_uri": "https://localhost:8080/",
          "height": 1020
        },
        "outputId": "e1dd026e-9bd2-481c-ed43-555f07e0e834"
      },
      "cell_type": "code",
      "source": [
        "concepts.head()"
      ],
      "execution_count": 14,
      "outputs": [
        {
          "output_type": "execute_result",
          "data": {
            "text/html": [
              "<div>\n",
              "<style scoped>\n",
              "    .dataframe tbody tr th:only-of-type {\n",
              "        vertical-align: middle;\n",
              "    }\n",
              "\n",
              "    .dataframe tbody tr th {\n",
              "        vertical-align: top;\n",
              "    }\n",
              "\n",
              "    .dataframe thead th {\n",
              "        text-align: right;\n",
              "    }\n",
              "</style>\n",
              "<table border=\"1\" class=\"dataframe\">\n",
              "  <thead>\n",
              "    <tr style=\"text-align: right;\">\n",
              "      <th></th>\n",
              "      <th>concept</th>\n",
              "      <th>color</th>\n",
              "      <th>concept_type</th>\n",
              "      <th>description</th>\n",
              "      <th>description_long</th>\n",
              "      <th>domain</th>\n",
              "      <th>drill_up</th>\n",
              "      <th>indicator_url</th>\n",
              "      <th>name</th>\n",
              "      <th>name_catalog</th>\n",
              "      <th>name_short</th>\n",
              "      <th>scales</th>\n",
              "      <th>source</th>\n",
              "      <th>source_long</th>\n",
              "      <th>source_url</th>\n",
              "      <th>tags</th>\n",
              "    </tr>\n",
              "  </thead>\n",
              "  <tbody>\n",
              "    <tr>\n",
              "      <th>0</th>\n",
              "      <td>adults_with_hiv_percent_age_15_49</td>\n",
              "      <td>NaN</td>\n",
              "      <td>measure</td>\n",
              "      <td>The estimated percentage of adults aged 15 to ...</td>\n",
              "      <td>NaN</td>\n",
              "      <td>NaN</td>\n",
              "      <td>NaN</td>\n",
              "      <td>NaN</td>\n",
              "      <td>Adults with HIV (%, age 15-49)</td>\n",
              "      <td>Adults with HIV (%, age 15-49)</td>\n",
              "      <td>Adults with HIV</td>\n",
              "      <td>[\"log\", \"linear\"]</td>\n",
              "      <td>NaN</td>\n",
              "      <td>NaN</td>\n",
              "      <td>https://www.gapminder.org/gapminder-world/docu...</td>\n",
              "      <td>hiv</td>\n",
              "    </tr>\n",
              "    <tr>\n",
              "      <th>1</th>\n",
              "      <td>age_at_1st_marriage_women</td>\n",
              "      <td>NaN</td>\n",
              "      <td>measure</td>\n",
              "      <td>The mean age, in years, of first marriage for ...</td>\n",
              "      <td>NaN</td>\n",
              "      <td>NaN</td>\n",
              "      <td>NaN</td>\n",
              "      <td>NaN</td>\n",
              "      <td>Age at 1st marriage (women)</td>\n",
              "      <td>Age at 1st marriage (women)</td>\n",
              "      <td>Age at 1st marriage</td>\n",
              "      <td>[\"linear\", \"log\"]</td>\n",
              "      <td>NaN</td>\n",
              "      <td>NaN</td>\n",
              "      <td>https://www.gapminder.org/data/documentation/g...</td>\n",
              "      <td>population</td>\n",
              "    </tr>\n",
              "    <tr>\n",
              "      <th>2</th>\n",
              "      <td>aged_15_24_employment_rate_percent</td>\n",
              "      <td>NaN</td>\n",
              "      <td>measure</td>\n",
              "      <td>Percentage of total population, age group 15-2...</td>\n",
              "      <td>NaN</td>\n",
              "      <td>NaN</td>\n",
              "      <td>NaN</td>\n",
              "      <td>NaN</td>\n",
              "      <td>Aged 15-24 employment rate (%)</td>\n",
              "      <td>Aged 15-24</td>\n",
              "      <td>Employment rate (%)</td>\n",
              "      <td>[\"linear\", \"log\"]</td>\n",
              "      <td>NaN</td>\n",
              "      <td>NaN</td>\n",
              "      <td>https://www.ilo.org/ilostat/</td>\n",
              "      <td>employment_rate</td>\n",
              "    </tr>\n",
              "    <tr>\n",
              "      <th>3</th>\n",
              "      <td>aged_15_24_unemployment_rate_percent</td>\n",
              "      <td>NaN</td>\n",
              "      <td>measure</td>\n",
              "      <td>Percentage of total population, age group 15-2...</td>\n",
              "      <td>NaN</td>\n",
              "      <td>NaN</td>\n",
              "      <td>NaN</td>\n",
              "      <td>NaN</td>\n",
              "      <td>Aged 15-24 unemployment rate (%)</td>\n",
              "      <td>Aged 15-24</td>\n",
              "      <td>Unemployment rate (%)</td>\n",
              "      <td>[\"linear\", \"log\"]</td>\n",
              "      <td>NaN</td>\n",
              "      <td>NaN</td>\n",
              "      <td>https://www.ilo.org/ilostat/</td>\n",
              "      <td>unemployment</td>\n",
              "    </tr>\n",
              "    <tr>\n",
              "      <th>4</th>\n",
              "      <td>aged_15_64_labour_force_participation_rate_per...</td>\n",
              "      <td>NaN</td>\n",
              "      <td>measure</td>\n",
              "      <td>For age group 15-64, percentage of all labour ...</td>\n",
              "      <td>NaN</td>\n",
              "      <td>NaN</td>\n",
              "      <td>NaN</td>\n",
              "      <td>NaN</td>\n",
              "      <td>Aged 15-64 labour force participation rate (%)</td>\n",
              "      <td>Aged 15-64</td>\n",
              "      <td>Labour force participation rate (%)</td>\n",
              "      <td>[\"linear\", \"log\"]</td>\n",
              "      <td>NaN</td>\n",
              "      <td>NaN</td>\n",
              "      <td>https://www.ilo.org/ilostat/</td>\n",
              "      <td>labour_force_participation</td>\n",
              "    </tr>\n",
              "  </tbody>\n",
              "</table>\n",
              "</div>"
            ],
            "text/plain": [
              "                                             concept color concept_type  \\\n",
              "0                  adults_with_hiv_percent_age_15_49   NaN      measure   \n",
              "1                          age_at_1st_marriage_women   NaN      measure   \n",
              "2                 aged_15_24_employment_rate_percent   NaN      measure   \n",
              "3               aged_15_24_unemployment_rate_percent   NaN      measure   \n",
              "4  aged_15_64_labour_force_participation_rate_per...   NaN      measure   \n",
              "\n",
              "                                         description description_long domain  \\\n",
              "0  The estimated percentage of adults aged 15 to ...              NaN    NaN   \n",
              "1  The mean age, in years, of first marriage for ...              NaN    NaN   \n",
              "2  Percentage of total population, age group 15-2...              NaN    NaN   \n",
              "3  Percentage of total population, age group 15-2...              NaN    NaN   \n",
              "4  For age group 15-64, percentage of all labour ...              NaN    NaN   \n",
              "\n",
              "  drill_up indicator_url                                            name  \\\n",
              "0      NaN           NaN                  Adults with HIV (%, age 15-49)   \n",
              "1      NaN           NaN                     Age at 1st marriage (women)   \n",
              "2      NaN           NaN                  Aged 15-24 employment rate (%)   \n",
              "3      NaN           NaN                Aged 15-24 unemployment rate (%)   \n",
              "4      NaN           NaN  Aged 15-64 labour force participation rate (%)   \n",
              "\n",
              "                     name_catalog                           name_short  \\\n",
              "0  Adults with HIV (%, age 15-49)                      Adults with HIV   \n",
              "1     Age at 1st marriage (women)                  Age at 1st marriage   \n",
              "2                      Aged 15-24                  Employment rate (%)   \n",
              "3                      Aged 15-24                Unemployment rate (%)   \n",
              "4                      Aged 15-64  Labour force participation rate (%)   \n",
              "\n",
              "              scales source source_long  \\\n",
              "0  [\"log\", \"linear\"]    NaN         NaN   \n",
              "1  [\"linear\", \"log\"]    NaN         NaN   \n",
              "2  [\"linear\", \"log\"]    NaN         NaN   \n",
              "3  [\"linear\", \"log\"]    NaN         NaN   \n",
              "4  [\"linear\", \"log\"]    NaN         NaN   \n",
              "\n",
              "                                          source_url  \\\n",
              "0  https://www.gapminder.org/gapminder-world/docu...   \n",
              "1  https://www.gapminder.org/data/documentation/g...   \n",
              "2                       https://www.ilo.org/ilostat/   \n",
              "3                       https://www.ilo.org/ilostat/   \n",
              "4                       https://www.ilo.org/ilostat/   \n",
              "\n",
              "                         tags  \n",
              "0                         hiv  \n",
              "1                  population  \n",
              "2             employment_rate  \n",
              "3                unemployment  \n",
              "4  labour_force_participation  "
            ]
          },
          "metadata": {
            "tags": []
          },
          "execution_count": 14
        }
      ]
    },
    {
      "metadata": {
        "colab_type": "text",
        "id": "6HYUytvLT8Kf"
      },
      "cell_type": "markdown",
      "source": [
        "## Merge data"
      ]
    },
    {
      "metadata": {
        "colab_type": "text",
        "id": "dhALZDsh9n9L"
      },
      "cell_type": "markdown",
      "source": [
        "https://github.com/pandas-dev/pandas/blob/master/doc/cheatsheet/Pandas_Cheat_Sheet.pdf"
      ]
    },
    {
      "metadata": {
        "colab_type": "code",
        "id": "A-tnI-hK6yDG",
        "colab": {}
      },
      "cell_type": "code",
      "source": [
        "df= pd.merge(income,lifespan)"
      ],
      "execution_count": 0,
      "outputs": []
    },
    {
      "metadata": {
        "id": "UgSEH8W6mwKK",
        "colab_type": "code",
        "colab": {
          "base_uri": "https://localhost:8080/",
          "height": 34
        },
        "outputId": "1aebeb13-6a23-4670-d27b-b7abc3bf2ac1"
      },
      "cell_type": "code",
      "source": [
        "df.shape\n"
      ],
      "execution_count": 16,
      "outputs": [
        {
          "output_type": "execute_result",
          "data": {
            "text/plain": [
              "(40437, 4)"
            ]
          },
          "metadata": {
            "tags": []
          },
          "execution_count": 16
        }
      ]
    },
    {
      "metadata": {
        "id": "4VY9VfQ1mwPA",
        "colab_type": "code",
        "colab": {}
      },
      "cell_type": "code",
      "source": [
        "df = pd.merge(df, population)"
      ],
      "execution_count": 0,
      "outputs": []
    },
    {
      "metadata": {
        "id": "o19dCn0AmwUT",
        "colab_type": "code",
        "colab": {
          "base_uri": "https://localhost:8080/",
          "height": 584
        },
        "outputId": "16639963-d462-49fd-84f5-301d4a73ca36"
      },
      "cell_type": "code",
      "source": [
        "df.head()"
      ],
      "execution_count": 18,
      "outputs": [
        {
          "output_type": "execute_result",
          "data": {
            "text/html": [
              "<div>\n",
              "<style scoped>\n",
              "    .dataframe tbody tr th:only-of-type {\n",
              "        vertical-align: middle;\n",
              "    }\n",
              "\n",
              "    .dataframe tbody tr th {\n",
              "        vertical-align: top;\n",
              "    }\n",
              "\n",
              "    .dataframe thead th {\n",
              "        text-align: right;\n",
              "    }\n",
              "</style>\n",
              "<table border=\"1\" class=\"dataframe\">\n",
              "  <thead>\n",
              "    <tr style=\"text-align: right;\">\n",
              "      <th></th>\n",
              "      <th>geo</th>\n",
              "      <th>time</th>\n",
              "      <th>income_per_person_gdppercapita_ppp_inflation_adjusted</th>\n",
              "      <th>life_expectancy_years</th>\n",
              "      <th>population_total</th>\n",
              "    </tr>\n",
              "  </thead>\n",
              "  <tbody>\n",
              "    <tr>\n",
              "      <th>0</th>\n",
              "      <td>afg</td>\n",
              "      <td>1800</td>\n",
              "      <td>603</td>\n",
              "      <td>28.21</td>\n",
              "      <td>3280000</td>\n",
              "    </tr>\n",
              "    <tr>\n",
              "      <th>1</th>\n",
              "      <td>afg</td>\n",
              "      <td>1801</td>\n",
              "      <td>603</td>\n",
              "      <td>28.20</td>\n",
              "      <td>3280000</td>\n",
              "    </tr>\n",
              "    <tr>\n",
              "      <th>2</th>\n",
              "      <td>afg</td>\n",
              "      <td>1802</td>\n",
              "      <td>603</td>\n",
              "      <td>28.19</td>\n",
              "      <td>3280000</td>\n",
              "    </tr>\n",
              "    <tr>\n",
              "      <th>3</th>\n",
              "      <td>afg</td>\n",
              "      <td>1803</td>\n",
              "      <td>603</td>\n",
              "      <td>28.18</td>\n",
              "      <td>3280000</td>\n",
              "    </tr>\n",
              "    <tr>\n",
              "      <th>4</th>\n",
              "      <td>afg</td>\n",
              "      <td>1804</td>\n",
              "      <td>603</td>\n",
              "      <td>28.17</td>\n",
              "      <td>3280000</td>\n",
              "    </tr>\n",
              "  </tbody>\n",
              "</table>\n",
              "</div>"
            ],
            "text/plain": [
              "   geo  time  income_per_person_gdppercapita_ppp_inflation_adjusted  \\\n",
              "0  afg  1800                                                603       \n",
              "1  afg  1801                                                603       \n",
              "2  afg  1802                                                603       \n",
              "3  afg  1803                                                603       \n",
              "4  afg  1804                                                603       \n",
              "\n",
              "   life_expectancy_years  population_total  \n",
              "0                  28.21           3280000  \n",
              "1                  28.20           3280000  \n",
              "2                  28.19           3280000  \n",
              "3                  28.18           3280000  \n",
              "4                  28.17           3280000  "
            ]
          },
          "metadata": {
            "tags": []
          },
          "execution_count": 18
        }
      ]
    },
    {
      "metadata": {
        "id": "6rrJcPV4mwZ0",
        "colab_type": "code",
        "colab": {
          "base_uri": "https://localhost:8080/",
          "height": 102
        },
        "outputId": "3a118487-13b7-48a8-f8d5-eceba1591bd6"
      },
      "cell_type": "code",
      "source": [
        "entities.world_4region.value_counts()"
      ],
      "execution_count": 19,
      "outputs": [
        {
          "output_type": "execute_result",
          "data": {
            "text/plain": [
              "asia        80\n",
              "europe      73\n",
              "africa      61\n",
              "americas    57\n",
              "Name: world_4region, dtype: int64"
            ]
          },
          "metadata": {
            "tags": []
          },
          "execution_count": 19
        }
      ]
    },
    {
      "metadata": {
        "id": "f3tO1gepmwe9",
        "colab_type": "code",
        "colab": {
          "base_uri": "https://localhost:8080/",
          "height": 136
        },
        "outputId": "668bb77e-194f-43c4-ff68-04e7b818b873"
      },
      "cell_type": "code",
      "source": [
        "entities.world_6region.value_counts()"
      ],
      "execution_count": 20,
      "outputs": [
        {
          "output_type": "execute_result",
          "data": {
            "text/plain": [
              "europe_central_asia         77\n",
              "america                     53\n",
              "sub_saharan_africa          53\n",
              "east_asia_pacific           46\n",
              "middle_east_north_africa    23\n",
              "south_asia                   8\n",
              "Name: world_6region, dtype: int64"
            ]
          },
          "metadata": {
            "tags": []
          },
          "execution_count": 20
        }
      ]
    },
    {
      "metadata": {
        "id": "Po9OH6-omwkR",
        "colab_type": "code",
        "colab": {}
      },
      "cell_type": "code",
      "source": [
        "var=['country','world_6region','name']"
      ],
      "execution_count": 0,
      "outputs": []
    },
    {
      "metadata": {
        "id": "LaBUrnkJmwpP",
        "colab_type": "code",
        "colab": {
          "base_uri": "https://localhost:8080/",
          "height": 204
        },
        "outputId": "59a47836-d6f9-4341-96cd-30f9d63374b2"
      },
      "cell_type": "code",
      "source": [
        "entities[var].head()"
      ],
      "execution_count": 22,
      "outputs": [
        {
          "output_type": "execute_result",
          "data": {
            "text/html": [
              "<div>\n",
              "<style scoped>\n",
              "    .dataframe tbody tr th:only-of-type {\n",
              "        vertical-align: middle;\n",
              "    }\n",
              "\n",
              "    .dataframe tbody tr th {\n",
              "        vertical-align: top;\n",
              "    }\n",
              "\n",
              "    .dataframe thead th {\n",
              "        text-align: right;\n",
              "    }\n",
              "</style>\n",
              "<table border=\"1\" class=\"dataframe\">\n",
              "  <thead>\n",
              "    <tr style=\"text-align: right;\">\n",
              "      <th></th>\n",
              "      <th>country</th>\n",
              "      <th>world_6region</th>\n",
              "      <th>name</th>\n",
              "    </tr>\n",
              "  </thead>\n",
              "  <tbody>\n",
              "    <tr>\n",
              "      <th>0</th>\n",
              "      <td>abkh</td>\n",
              "      <td>europe_central_asia</td>\n",
              "      <td>Abkhazia</td>\n",
              "    </tr>\n",
              "    <tr>\n",
              "      <th>1</th>\n",
              "      <td>abw</td>\n",
              "      <td>america</td>\n",
              "      <td>Aruba</td>\n",
              "    </tr>\n",
              "    <tr>\n",
              "      <th>2</th>\n",
              "      <td>afg</td>\n",
              "      <td>south_asia</td>\n",
              "      <td>Afghanistan</td>\n",
              "    </tr>\n",
              "    <tr>\n",
              "      <th>3</th>\n",
              "      <td>ago</td>\n",
              "      <td>sub_saharan_africa</td>\n",
              "      <td>Angola</td>\n",
              "    </tr>\n",
              "    <tr>\n",
              "      <th>4</th>\n",
              "      <td>aia</td>\n",
              "      <td>america</td>\n",
              "      <td>Anguilla</td>\n",
              "    </tr>\n",
              "  </tbody>\n",
              "</table>\n",
              "</div>"
            ],
            "text/plain": [
              "  country        world_6region         name\n",
              "0    abkh  europe_central_asia     Abkhazia\n",
              "1     abw              america        Aruba\n",
              "2     afg           south_asia  Afghanistan\n",
              "3     ago   sub_saharan_africa       Angola\n",
              "4     aia              america     Anguilla"
            ]
          },
          "metadata": {
            "tags": []
          },
          "execution_count": 22
        }
      ]
    },
    {
      "metadata": {
        "id": "Lr9E-X56mwuq",
        "colab_type": "code",
        "colab": {}
      },
      "cell_type": "code",
      "source": [
        "df= pd.merge(df,entities[var],how='inner',left_on='geo',right_on='country')"
      ],
      "execution_count": 0,
      "outputs": []
    },
    {
      "metadata": {
        "id": "jZD90tV9mwz1",
        "colab_type": "code",
        "colab": {
          "base_uri": "https://localhost:8080/",
          "height": 704
        },
        "outputId": "a669bafa-8109-4f8f-d085-fcbb99dbe795"
      },
      "cell_type": "code",
      "source": [
        "df.head()\n"
      ],
      "execution_count": 24,
      "outputs": [
        {
          "output_type": "execute_result",
          "data": {
            "text/html": [
              "<div>\n",
              "<style scoped>\n",
              "    .dataframe tbody tr th:only-of-type {\n",
              "        vertical-align: middle;\n",
              "    }\n",
              "\n",
              "    .dataframe tbody tr th {\n",
              "        vertical-align: top;\n",
              "    }\n",
              "\n",
              "    .dataframe thead th {\n",
              "        text-align: right;\n",
              "    }\n",
              "</style>\n",
              "<table border=\"1\" class=\"dataframe\">\n",
              "  <thead>\n",
              "    <tr style=\"text-align: right;\">\n",
              "      <th></th>\n",
              "      <th>geo</th>\n",
              "      <th>time</th>\n",
              "      <th>income_per_person_gdppercapita_ppp_inflation_adjusted</th>\n",
              "      <th>life_expectancy_years</th>\n",
              "      <th>population_total</th>\n",
              "      <th>country</th>\n",
              "      <th>world_6region</th>\n",
              "      <th>name</th>\n",
              "    </tr>\n",
              "  </thead>\n",
              "  <tbody>\n",
              "    <tr>\n",
              "      <th>0</th>\n",
              "      <td>afg</td>\n",
              "      <td>1800</td>\n",
              "      <td>603</td>\n",
              "      <td>28.21</td>\n",
              "      <td>3280000</td>\n",
              "      <td>afg</td>\n",
              "      <td>south_asia</td>\n",
              "      <td>Afghanistan</td>\n",
              "    </tr>\n",
              "    <tr>\n",
              "      <th>1</th>\n",
              "      <td>afg</td>\n",
              "      <td>1801</td>\n",
              "      <td>603</td>\n",
              "      <td>28.20</td>\n",
              "      <td>3280000</td>\n",
              "      <td>afg</td>\n",
              "      <td>south_asia</td>\n",
              "      <td>Afghanistan</td>\n",
              "    </tr>\n",
              "    <tr>\n",
              "      <th>2</th>\n",
              "      <td>afg</td>\n",
              "      <td>1802</td>\n",
              "      <td>603</td>\n",
              "      <td>28.19</td>\n",
              "      <td>3280000</td>\n",
              "      <td>afg</td>\n",
              "      <td>south_asia</td>\n",
              "      <td>Afghanistan</td>\n",
              "    </tr>\n",
              "    <tr>\n",
              "      <th>3</th>\n",
              "      <td>afg</td>\n",
              "      <td>1803</td>\n",
              "      <td>603</td>\n",
              "      <td>28.18</td>\n",
              "      <td>3280000</td>\n",
              "      <td>afg</td>\n",
              "      <td>south_asia</td>\n",
              "      <td>Afghanistan</td>\n",
              "    </tr>\n",
              "    <tr>\n",
              "      <th>4</th>\n",
              "      <td>afg</td>\n",
              "      <td>1804</td>\n",
              "      <td>603</td>\n",
              "      <td>28.17</td>\n",
              "      <td>3280000</td>\n",
              "      <td>afg</td>\n",
              "      <td>south_asia</td>\n",
              "      <td>Afghanistan</td>\n",
              "    </tr>\n",
              "  </tbody>\n",
              "</table>\n",
              "</div>"
            ],
            "text/plain": [
              "   geo  time  income_per_person_gdppercapita_ppp_inflation_adjusted  \\\n",
              "0  afg  1800                                                603       \n",
              "1  afg  1801                                                603       \n",
              "2  afg  1802                                                603       \n",
              "3  afg  1803                                                603       \n",
              "4  afg  1804                                                603       \n",
              "\n",
              "   life_expectancy_years  population_total country world_6region         name  \n",
              "0                  28.21           3280000     afg    south_asia  Afghanistan  \n",
              "1                  28.20           3280000     afg    south_asia  Afghanistan  \n",
              "2                  28.19           3280000     afg    south_asia  Afghanistan  \n",
              "3                  28.18           3280000     afg    south_asia  Afghanistan  \n",
              "4                  28.17           3280000     afg    south_asia  Afghanistan  "
            ]
          },
          "metadata": {
            "tags": []
          },
          "execution_count": 24
        }
      ]
    },
    {
      "metadata": {
        "id": "jd6nT9Wwmw5f",
        "colab_type": "code",
        "colab": {}
      },
      "cell_type": "code",
      "source": [
        "df=df.drop(columns=['geo','country'])"
      ],
      "execution_count": 0,
      "outputs": []
    },
    {
      "metadata": {
        "id": "vZ-tunC2mw-u",
        "colab_type": "code",
        "colab": {
          "base_uri": "https://localhost:8080/",
          "height": 684
        },
        "outputId": "1999e800-e0e1-4b1a-f6e4-0a9c4db80b0e"
      },
      "cell_type": "code",
      "source": [
        "df.head()"
      ],
      "execution_count": 26,
      "outputs": [
        {
          "output_type": "execute_result",
          "data": {
            "text/html": [
              "<div>\n",
              "<style scoped>\n",
              "    .dataframe tbody tr th:only-of-type {\n",
              "        vertical-align: middle;\n",
              "    }\n",
              "\n",
              "    .dataframe tbody tr th {\n",
              "        vertical-align: top;\n",
              "    }\n",
              "\n",
              "    .dataframe thead th {\n",
              "        text-align: right;\n",
              "    }\n",
              "</style>\n",
              "<table border=\"1\" class=\"dataframe\">\n",
              "  <thead>\n",
              "    <tr style=\"text-align: right;\">\n",
              "      <th></th>\n",
              "      <th>time</th>\n",
              "      <th>income_per_person_gdppercapita_ppp_inflation_adjusted</th>\n",
              "      <th>life_expectancy_years</th>\n",
              "      <th>population_total</th>\n",
              "      <th>world_6region</th>\n",
              "      <th>name</th>\n",
              "    </tr>\n",
              "  </thead>\n",
              "  <tbody>\n",
              "    <tr>\n",
              "      <th>0</th>\n",
              "      <td>1800</td>\n",
              "      <td>603</td>\n",
              "      <td>28.21</td>\n",
              "      <td>3280000</td>\n",
              "      <td>south_asia</td>\n",
              "      <td>Afghanistan</td>\n",
              "    </tr>\n",
              "    <tr>\n",
              "      <th>1</th>\n",
              "      <td>1801</td>\n",
              "      <td>603</td>\n",
              "      <td>28.20</td>\n",
              "      <td>3280000</td>\n",
              "      <td>south_asia</td>\n",
              "      <td>Afghanistan</td>\n",
              "    </tr>\n",
              "    <tr>\n",
              "      <th>2</th>\n",
              "      <td>1802</td>\n",
              "      <td>603</td>\n",
              "      <td>28.19</td>\n",
              "      <td>3280000</td>\n",
              "      <td>south_asia</td>\n",
              "      <td>Afghanistan</td>\n",
              "    </tr>\n",
              "    <tr>\n",
              "      <th>3</th>\n",
              "      <td>1803</td>\n",
              "      <td>603</td>\n",
              "      <td>28.18</td>\n",
              "      <td>3280000</td>\n",
              "      <td>south_asia</td>\n",
              "      <td>Afghanistan</td>\n",
              "    </tr>\n",
              "    <tr>\n",
              "      <th>4</th>\n",
              "      <td>1804</td>\n",
              "      <td>603</td>\n",
              "      <td>28.17</td>\n",
              "      <td>3280000</td>\n",
              "      <td>south_asia</td>\n",
              "      <td>Afghanistan</td>\n",
              "    </tr>\n",
              "  </tbody>\n",
              "</table>\n",
              "</div>"
            ],
            "text/plain": [
              "   time  income_per_person_gdppercapita_ppp_inflation_adjusted  \\\n",
              "0  1800                                                603       \n",
              "1  1801                                                603       \n",
              "2  1802                                                603       \n",
              "3  1803                                                603       \n",
              "4  1804                                                603       \n",
              "\n",
              "   life_expectancy_years  population_total world_6region         name  \n",
              "0                  28.21           3280000    south_asia  Afghanistan  \n",
              "1                  28.20           3280000    south_asia  Afghanistan  \n",
              "2                  28.19           3280000    south_asia  Afghanistan  \n",
              "3                  28.18           3280000    south_asia  Afghanistan  \n",
              "4                  28.17           3280000    south_asia  Afghanistan  "
            ]
          },
          "metadata": {
            "tags": []
          },
          "execution_count": 26
        }
      ]
    },
    {
      "metadata": {
        "id": "4CuVapXimxEb",
        "colab_type": "code",
        "colab": {
          "base_uri": "https://localhost:8080/",
          "height": 34
        },
        "outputId": "95ea7ab5-acf3-4b2a-afac-44232a800c4c"
      },
      "cell_type": "code",
      "source": [
        "df.shape\n"
      ],
      "execution_count": 27,
      "outputs": [
        {
          "output_type": "execute_result",
          "data": {
            "text/plain": [
              "(40437, 6)"
            ]
          },
          "metadata": {
            "tags": []
          },
          "execution_count": 27
        }
      ]
    },
    {
      "metadata": {
        "id": "iWL6fSZWmxL8",
        "colab_type": "code",
        "colab": {
          "base_uri": "https://localhost:8080/",
          "height": 684
        },
        "outputId": "f75a89dc-777b-45b0-86d8-4d9969ed7891"
      },
      "cell_type": "code",
      "source": [
        "df.head()"
      ],
      "execution_count": 28,
      "outputs": [
        {
          "output_type": "execute_result",
          "data": {
            "text/html": [
              "<div>\n",
              "<style scoped>\n",
              "    .dataframe tbody tr th:only-of-type {\n",
              "        vertical-align: middle;\n",
              "    }\n",
              "\n",
              "    .dataframe tbody tr th {\n",
              "        vertical-align: top;\n",
              "    }\n",
              "\n",
              "    .dataframe thead th {\n",
              "        text-align: right;\n",
              "    }\n",
              "</style>\n",
              "<table border=\"1\" class=\"dataframe\">\n",
              "  <thead>\n",
              "    <tr style=\"text-align: right;\">\n",
              "      <th></th>\n",
              "      <th>time</th>\n",
              "      <th>income_per_person_gdppercapita_ppp_inflation_adjusted</th>\n",
              "      <th>life_expectancy_years</th>\n",
              "      <th>population_total</th>\n",
              "      <th>world_6region</th>\n",
              "      <th>name</th>\n",
              "    </tr>\n",
              "  </thead>\n",
              "  <tbody>\n",
              "    <tr>\n",
              "      <th>0</th>\n",
              "      <td>1800</td>\n",
              "      <td>603</td>\n",
              "      <td>28.21</td>\n",
              "      <td>3280000</td>\n",
              "      <td>south_asia</td>\n",
              "      <td>Afghanistan</td>\n",
              "    </tr>\n",
              "    <tr>\n",
              "      <th>1</th>\n",
              "      <td>1801</td>\n",
              "      <td>603</td>\n",
              "      <td>28.20</td>\n",
              "      <td>3280000</td>\n",
              "      <td>south_asia</td>\n",
              "      <td>Afghanistan</td>\n",
              "    </tr>\n",
              "    <tr>\n",
              "      <th>2</th>\n",
              "      <td>1802</td>\n",
              "      <td>603</td>\n",
              "      <td>28.19</td>\n",
              "      <td>3280000</td>\n",
              "      <td>south_asia</td>\n",
              "      <td>Afghanistan</td>\n",
              "    </tr>\n",
              "    <tr>\n",
              "      <th>3</th>\n",
              "      <td>1803</td>\n",
              "      <td>603</td>\n",
              "      <td>28.18</td>\n",
              "      <td>3280000</td>\n",
              "      <td>south_asia</td>\n",
              "      <td>Afghanistan</td>\n",
              "    </tr>\n",
              "    <tr>\n",
              "      <th>4</th>\n",
              "      <td>1804</td>\n",
              "      <td>603</td>\n",
              "      <td>28.17</td>\n",
              "      <td>3280000</td>\n",
              "      <td>south_asia</td>\n",
              "      <td>Afghanistan</td>\n",
              "    </tr>\n",
              "  </tbody>\n",
              "</table>\n",
              "</div>"
            ],
            "text/plain": [
              "   time  income_per_person_gdppercapita_ppp_inflation_adjusted  \\\n",
              "0  1800                                                603       \n",
              "1  1801                                                603       \n",
              "2  1802                                                603       \n",
              "3  1803                                                603       \n",
              "4  1804                                                603       \n",
              "\n",
              "   life_expectancy_years  population_total world_6region         name  \n",
              "0                  28.21           3280000    south_asia  Afghanistan  \n",
              "1                  28.20           3280000    south_asia  Afghanistan  \n",
              "2                  28.19           3280000    south_asia  Afghanistan  \n",
              "3                  28.18           3280000    south_asia  Afghanistan  \n",
              "4                  28.17           3280000    south_asia  Afghanistan  "
            ]
          },
          "metadata": {
            "tags": []
          },
          "execution_count": 28
        }
      ]
    },
    {
      "metadata": {
        "colab_type": "text",
        "id": "4OdEr5IFVdF5"
      },
      "cell_type": "markdown",
      "source": [
        "## Explore data"
      ]
    },
    {
      "metadata": {
        "colab_type": "code",
        "id": "4IzXea0T64x4",
        "colab": {}
      },
      "cell_type": "code",
      "source": [
        "china=df[df.name=='China']"
      ],
      "execution_count": 0,
      "outputs": []
    },
    {
      "metadata": {
        "colab_type": "text",
        "id": "hecscpimY6Oz"
      },
      "cell_type": "markdown",
      "source": [
        "## Plot visualization"
      ]
    },
    {
      "metadata": {
        "colab_type": "code",
        "id": "_o8RmX2M67ai",
        "colab": {
          "base_uri": "https://localhost:8080/",
          "height": 1969
        },
        "outputId": "a9184057-315c-408b-a66e-65344823593f"
      },
      "cell_type": "code",
      "source": [
        "df\n"
      ],
      "execution_count": 36,
      "outputs": [
        {
          "output_type": "execute_result",
          "data": {
            "text/html": [
              "<div>\n",
              "<style scoped>\n",
              "    .dataframe tbody tr th:only-of-type {\n",
              "        vertical-align: middle;\n",
              "    }\n",
              "\n",
              "    .dataframe tbody tr th {\n",
              "        vertical-align: top;\n",
              "    }\n",
              "\n",
              "    .dataframe thead th {\n",
              "        text-align: right;\n",
              "    }\n",
              "</style>\n",
              "<table border=\"1\" class=\"dataframe\">\n",
              "  <thead>\n",
              "    <tr style=\"text-align: right;\">\n",
              "      <th></th>\n",
              "      <th>time</th>\n",
              "      <th>income_per_person_gdppercapita_ppp_inflation_adjusted</th>\n",
              "      <th>life_expectancy_years</th>\n",
              "      <th>population_total</th>\n",
              "      <th>world_6region</th>\n",
              "      <th>name</th>\n",
              "    </tr>\n",
              "  </thead>\n",
              "  <tbody>\n",
              "    <tr>\n",
              "      <th>0</th>\n",
              "      <td>1800</td>\n",
              "      <td>603</td>\n",
              "      <td>28.21</td>\n",
              "      <td>3280000</td>\n",
              "      <td>south_asia</td>\n",
              "      <td>Afghanistan</td>\n",
              "    </tr>\n",
              "    <tr>\n",
              "      <th>1</th>\n",
              "      <td>1801</td>\n",
              "      <td>603</td>\n",
              "      <td>28.20</td>\n",
              "      <td>3280000</td>\n",
              "      <td>south_asia</td>\n",
              "      <td>Afghanistan</td>\n",
              "    </tr>\n",
              "    <tr>\n",
              "      <th>2</th>\n",
              "      <td>1802</td>\n",
              "      <td>603</td>\n",
              "      <td>28.19</td>\n",
              "      <td>3280000</td>\n",
              "      <td>south_asia</td>\n",
              "      <td>Afghanistan</td>\n",
              "    </tr>\n",
              "    <tr>\n",
              "      <th>3</th>\n",
              "      <td>1803</td>\n",
              "      <td>603</td>\n",
              "      <td>28.18</td>\n",
              "      <td>3280000</td>\n",
              "      <td>south_asia</td>\n",
              "      <td>Afghanistan</td>\n",
              "    </tr>\n",
              "    <tr>\n",
              "      <th>4</th>\n",
              "      <td>1804</td>\n",
              "      <td>603</td>\n",
              "      <td>28.17</td>\n",
              "      <td>3280000</td>\n",
              "      <td>south_asia</td>\n",
              "      <td>Afghanistan</td>\n",
              "    </tr>\n",
              "    <tr>\n",
              "      <th>5</th>\n",
              "      <td>1805</td>\n",
              "      <td>603</td>\n",
              "      <td>28.16</td>\n",
              "      <td>3280000</td>\n",
              "      <td>south_asia</td>\n",
              "      <td>Afghanistan</td>\n",
              "    </tr>\n",
              "    <tr>\n",
              "      <th>6</th>\n",
              "      <td>1806</td>\n",
              "      <td>603</td>\n",
              "      <td>28.15</td>\n",
              "      <td>3280000</td>\n",
              "      <td>south_asia</td>\n",
              "      <td>Afghanistan</td>\n",
              "    </tr>\n",
              "    <tr>\n",
              "      <th>7</th>\n",
              "      <td>1807</td>\n",
              "      <td>603</td>\n",
              "      <td>28.14</td>\n",
              "      <td>3280000</td>\n",
              "      <td>south_asia</td>\n",
              "      <td>Afghanistan</td>\n",
              "    </tr>\n",
              "    <tr>\n",
              "      <th>8</th>\n",
              "      <td>1808</td>\n",
              "      <td>603</td>\n",
              "      <td>28.13</td>\n",
              "      <td>3280000</td>\n",
              "      <td>south_asia</td>\n",
              "      <td>Afghanistan</td>\n",
              "    </tr>\n",
              "    <tr>\n",
              "      <th>9</th>\n",
              "      <td>1809</td>\n",
              "      <td>603</td>\n",
              "      <td>28.12</td>\n",
              "      <td>3280000</td>\n",
              "      <td>south_asia</td>\n",
              "      <td>Afghanistan</td>\n",
              "    </tr>\n",
              "    <tr>\n",
              "      <th>10</th>\n",
              "      <td>1810</td>\n",
              "      <td>604</td>\n",
              "      <td>28.11</td>\n",
              "      <td>3280000</td>\n",
              "      <td>south_asia</td>\n",
              "      <td>Afghanistan</td>\n",
              "    </tr>\n",
              "    <tr>\n",
              "      <th>11</th>\n",
              "      <td>1811</td>\n",
              "      <td>604</td>\n",
              "      <td>28.10</td>\n",
              "      <td>3280779</td>\n",
              "      <td>south_asia</td>\n",
              "      <td>Afghanistan</td>\n",
              "    </tr>\n",
              "    <tr>\n",
              "      <th>12</th>\n",
              "      <td>1812</td>\n",
              "      <td>604</td>\n",
              "      <td>28.09</td>\n",
              "      <td>3282342</td>\n",
              "      <td>south_asia</td>\n",
              "      <td>Afghanistan</td>\n",
              "    </tr>\n",
              "    <tr>\n",
              "      <th>13</th>\n",
              "      <td>1813</td>\n",
              "      <td>604</td>\n",
              "      <td>28.08</td>\n",
              "      <td>3284692</td>\n",
              "      <td>south_asia</td>\n",
              "      <td>Afghanistan</td>\n",
              "    </tr>\n",
              "    <tr>\n",
              "      <th>14</th>\n",
              "      <td>1814</td>\n",
              "      <td>604</td>\n",
              "      <td>28.07</td>\n",
              "      <td>3287834</td>\n",
              "      <td>south_asia</td>\n",
              "      <td>Afghanistan</td>\n",
              "    </tr>\n",
              "    <tr>\n",
              "      <th>15</th>\n",
              "      <td>1815</td>\n",
              "      <td>604</td>\n",
              "      <td>28.06</td>\n",
              "      <td>3291770</td>\n",
              "      <td>south_asia</td>\n",
              "      <td>Afghanistan</td>\n",
              "    </tr>\n",
              "    <tr>\n",
              "      <th>16</th>\n",
              "      <td>1816</td>\n",
              "      <td>604</td>\n",
              "      <td>28.05</td>\n",
              "      <td>3296506</td>\n",
              "      <td>south_asia</td>\n",
              "      <td>Afghanistan</td>\n",
              "    </tr>\n",
              "    <tr>\n",
              "      <th>17</th>\n",
              "      <td>1817</td>\n",
              "      <td>604</td>\n",
              "      <td>28.04</td>\n",
              "      <td>3302044</td>\n",
              "      <td>south_asia</td>\n",
              "      <td>Afghanistan</td>\n",
              "    </tr>\n",
              "    <tr>\n",
              "      <th>18</th>\n",
              "      <td>1818</td>\n",
              "      <td>604</td>\n",
              "      <td>28.03</td>\n",
              "      <td>3308390</td>\n",
              "      <td>south_asia</td>\n",
              "      <td>Afghanistan</td>\n",
              "    </tr>\n",
              "    <tr>\n",
              "      <th>19</th>\n",
              "      <td>1819</td>\n",
              "      <td>604</td>\n",
              "      <td>28.02</td>\n",
              "      <td>3315547</td>\n",
              "      <td>south_asia</td>\n",
              "      <td>Afghanistan</td>\n",
              "    </tr>\n",
              "    <tr>\n",
              "      <th>20</th>\n",
              "      <td>1820</td>\n",
              "      <td>604</td>\n",
              "      <td>28.01</td>\n",
              "      <td>3323519</td>\n",
              "      <td>south_asia</td>\n",
              "      <td>Afghanistan</td>\n",
              "    </tr>\n",
              "    <tr>\n",
              "      <th>21</th>\n",
              "      <td>1821</td>\n",
              "      <td>607</td>\n",
              "      <td>28.00</td>\n",
              "      <td>3332311</td>\n",
              "      <td>south_asia</td>\n",
              "      <td>Afghanistan</td>\n",
              "    </tr>\n",
              "    <tr>\n",
              "      <th>22</th>\n",
              "      <td>1822</td>\n",
              "      <td>609</td>\n",
              "      <td>27.99</td>\n",
              "      <td>3341926</td>\n",
              "      <td>south_asia</td>\n",
              "      <td>Afghanistan</td>\n",
              "    </tr>\n",
              "    <tr>\n",
              "      <th>23</th>\n",
              "      <td>1823</td>\n",
              "      <td>611</td>\n",
              "      <td>27.98</td>\n",
              "      <td>3352368</td>\n",
              "      <td>south_asia</td>\n",
              "      <td>Afghanistan</td>\n",
              "    </tr>\n",
              "    <tr>\n",
              "      <th>24</th>\n",
              "      <td>1824</td>\n",
              "      <td>613</td>\n",
              "      <td>27.97</td>\n",
              "      <td>3363642</td>\n",
              "      <td>south_asia</td>\n",
              "      <td>Afghanistan</td>\n",
              "    </tr>\n",
              "    <tr>\n",
              "      <th>25</th>\n",
              "      <td>1825</td>\n",
              "      <td>615</td>\n",
              "      <td>27.95</td>\n",
              "      <td>3375751</td>\n",
              "      <td>south_asia</td>\n",
              "      <td>Afghanistan</td>\n",
              "    </tr>\n",
              "    <tr>\n",
              "      <th>26</th>\n",
              "      <td>1826</td>\n",
              "      <td>617</td>\n",
              "      <td>27.94</td>\n",
              "      <td>3388701</td>\n",
              "      <td>south_asia</td>\n",
              "      <td>Afghanistan</td>\n",
              "    </tr>\n",
              "    <tr>\n",
              "      <th>27</th>\n",
              "      <td>1827</td>\n",
              "      <td>619</td>\n",
              "      <td>27.93</td>\n",
              "      <td>3402494</td>\n",
              "      <td>south_asia</td>\n",
              "      <td>Afghanistan</td>\n",
              "    </tr>\n",
              "    <tr>\n",
              "      <th>28</th>\n",
              "      <td>1828</td>\n",
              "      <td>621</td>\n",
              "      <td>27.92</td>\n",
              "      <td>3417136</td>\n",
              "      <td>south_asia</td>\n",
              "      <td>Afghanistan</td>\n",
              "    </tr>\n",
              "    <tr>\n",
              "      <th>29</th>\n",
              "      <td>1829</td>\n",
              "      <td>623</td>\n",
              "      <td>27.91</td>\n",
              "      <td>3432630</td>\n",
              "      <td>south_asia</td>\n",
              "      <td>Afghanistan</td>\n",
              "    </tr>\n",
              "    <tr>\n",
              "      <th>...</th>\n",
              "      <td>...</td>\n",
              "      <td>...</td>\n",
              "      <td>...</td>\n",
              "      <td>...</td>\n",
              "      <td>...</td>\n",
              "      <td>...</td>\n",
              "    </tr>\n",
              "    <tr>\n",
              "      <th>40407</th>\n",
              "      <td>1989</td>\n",
              "      <td>2494</td>\n",
              "      <td>62.69</td>\n",
              "      <td>9902540</td>\n",
              "      <td>sub_saharan_africa</td>\n",
              "      <td>Zimbabwe</td>\n",
              "    </tr>\n",
              "    <tr>\n",
              "      <th>40408</th>\n",
              "      <td>1990</td>\n",
              "      <td>2593</td>\n",
              "      <td>61.69</td>\n",
              "      <td>10183113</td>\n",
              "      <td>sub_saharan_africa</td>\n",
              "      <td>Zimbabwe</td>\n",
              "    </tr>\n",
              "    <tr>\n",
              "      <th>40409</th>\n",
              "      <td>1991</td>\n",
              "      <td>2668</td>\n",
              "      <td>61.04</td>\n",
              "      <td>10443043</td>\n",
              "      <td>sub_saharan_africa</td>\n",
              "      <td>Zimbabwe</td>\n",
              "    </tr>\n",
              "    <tr>\n",
              "      <th>40410</th>\n",
              "      <td>1992</td>\n",
              "      <td>2373</td>\n",
              "      <td>59.41</td>\n",
              "      <td>10682868</td>\n",
              "      <td>sub_saharan_africa</td>\n",
              "      <td>Zimbabwe</td>\n",
              "    </tr>\n",
              "    <tr>\n",
              "      <th>40411</th>\n",
              "      <td>1993</td>\n",
              "      <td>2349</td>\n",
              "      <td>57.58</td>\n",
              "      <td>10905756</td>\n",
              "      <td>sub_saharan_africa</td>\n",
              "      <td>Zimbabwe</td>\n",
              "    </tr>\n",
              "    <tr>\n",
              "      <th>40412</th>\n",
              "      <td>1994</td>\n",
              "      <td>2517</td>\n",
              "      <td>55.78</td>\n",
              "      <td>11116948</td>\n",
              "      <td>sub_saharan_africa</td>\n",
              "      <td>Zimbabwe</td>\n",
              "    </tr>\n",
              "    <tr>\n",
              "      <th>40413</th>\n",
              "      <td>1995</td>\n",
              "      <td>2476</td>\n",
              "      <td>53.69</td>\n",
              "      <td>11320346</td>\n",
              "      <td>sub_saharan_africa</td>\n",
              "      <td>Zimbabwe</td>\n",
              "    </tr>\n",
              "    <tr>\n",
              "      <th>40414</th>\n",
              "      <td>1996</td>\n",
              "      <td>2685</td>\n",
              "      <td>52.23</td>\n",
              "      <td>11518262</td>\n",
              "      <td>sub_saharan_africa</td>\n",
              "      <td>Zimbabwe</td>\n",
              "    </tr>\n",
              "    <tr>\n",
              "      <th>40415</th>\n",
              "      <td>1997</td>\n",
              "      <td>2712</td>\n",
              "      <td>50.75</td>\n",
              "      <td>11709997</td>\n",
              "      <td>sub_saharan_africa</td>\n",
              "      <td>Zimbabwe</td>\n",
              "    </tr>\n",
              "    <tr>\n",
              "      <th>40416</th>\n",
              "      <td>1998</td>\n",
              "      <td>2748</td>\n",
              "      <td>49.12</td>\n",
              "      <td>11893272</td>\n",
              "      <td>sub_saharan_africa</td>\n",
              "      <td>Zimbabwe</td>\n",
              "    </tr>\n",
              "    <tr>\n",
              "      <th>40417</th>\n",
              "      <td>1999</td>\n",
              "      <td>2686</td>\n",
              "      <td>47.81</td>\n",
              "      <td>12064537</td>\n",
              "      <td>sub_saharan_africa</td>\n",
              "      <td>Zimbabwe</td>\n",
              "    </tr>\n",
              "    <tr>\n",
              "      <th>40418</th>\n",
              "      <td>2000</td>\n",
              "      <td>2571</td>\n",
              "      <td>46.69</td>\n",
              "      <td>12222251</td>\n",
              "      <td>sub_saharan_africa</td>\n",
              "      <td>Zimbabwe</td>\n",
              "    </tr>\n",
              "    <tr>\n",
              "      <th>40419</th>\n",
              "      <td>2001</td>\n",
              "      <td>2577</td>\n",
              "      <td>46.20</td>\n",
              "      <td>12366165</td>\n",
              "      <td>sub_saharan_africa</td>\n",
              "      <td>Zimbabwe</td>\n",
              "    </tr>\n",
              "    <tr>\n",
              "      <th>40420</th>\n",
              "      <td>2002</td>\n",
              "      <td>2323</td>\n",
              "      <td>45.58</td>\n",
              "      <td>12500525</td>\n",
              "      <td>sub_saharan_africa</td>\n",
              "      <td>Zimbabwe</td>\n",
              "    </tr>\n",
              "    <tr>\n",
              "      <th>40421</th>\n",
              "      <td>2003</td>\n",
              "      <td>1908</td>\n",
              "      <td>45.34</td>\n",
              "      <td>12633897</td>\n",
              "      <td>sub_saharan_africa</td>\n",
              "      <td>Zimbabwe</td>\n",
              "    </tr>\n",
              "    <tr>\n",
              "      <th>40422</th>\n",
              "      <td>2004</td>\n",
              "      <td>1777</td>\n",
              "      <td>45.06</td>\n",
              "      <td>12777511</td>\n",
              "      <td>sub_saharan_africa</td>\n",
              "      <td>Zimbabwe</td>\n",
              "    </tr>\n",
              "    <tr>\n",
              "      <th>40423</th>\n",
              "      <td>2005</td>\n",
              "      <td>1654</td>\n",
              "      <td>45.31</td>\n",
              "      <td>12940032</td>\n",
              "      <td>sub_saharan_africa</td>\n",
              "      <td>Zimbabwe</td>\n",
              "    </tr>\n",
              "    <tr>\n",
              "      <th>40424</th>\n",
              "      <td>2006</td>\n",
              "      <td>1575</td>\n",
              "      <td>45.70</td>\n",
              "      <td>13124267</td>\n",
              "      <td>sub_saharan_africa</td>\n",
              "      <td>Zimbabwe</td>\n",
              "    </tr>\n",
              "    <tr>\n",
              "      <th>40425</th>\n",
              "      <td>2007</td>\n",
              "      <td>1494</td>\n",
              "      <td>46.38</td>\n",
              "      <td>13329909</td>\n",
              "      <td>sub_saharan_africa</td>\n",
              "      <td>Zimbabwe</td>\n",
              "    </tr>\n",
              "    <tr>\n",
              "      <th>40426</th>\n",
              "      <td>2008</td>\n",
              "      <td>1209</td>\n",
              "      <td>46.71</td>\n",
              "      <td>13558469</td>\n",
              "      <td>sub_saharan_africa</td>\n",
              "      <td>Zimbabwe</td>\n",
              "    </tr>\n",
              "    <tr>\n",
              "      <th>40427</th>\n",
              "      <td>2009</td>\n",
              "      <td>1290</td>\n",
              "      <td>47.55</td>\n",
              "      <td>13810599</td>\n",
              "      <td>sub_saharan_africa</td>\n",
              "      <td>Zimbabwe</td>\n",
              "    </tr>\n",
              "    <tr>\n",
              "      <th>40428</th>\n",
              "      <td>2010</td>\n",
              "      <td>1460</td>\n",
              "      <td>49.57</td>\n",
              "      <td>14086317</td>\n",
              "      <td>sub_saharan_africa</td>\n",
              "      <td>Zimbabwe</td>\n",
              "    </tr>\n",
              "    <tr>\n",
              "      <th>40429</th>\n",
              "      <td>2011</td>\n",
              "      <td>1663</td>\n",
              "      <td>51.90</td>\n",
              "      <td>14386649</td>\n",
              "      <td>sub_saharan_africa</td>\n",
              "      <td>Zimbabwe</td>\n",
              "    </tr>\n",
              "    <tr>\n",
              "      <th>40430</th>\n",
              "      <td>2012</td>\n",
              "      <td>1848</td>\n",
              "      <td>54.06</td>\n",
              "      <td>14710826</td>\n",
              "      <td>sub_saharan_africa</td>\n",
              "      <td>Zimbabwe</td>\n",
              "    </tr>\n",
              "    <tr>\n",
              "      <th>40431</th>\n",
              "      <td>2013</td>\n",
              "      <td>1901</td>\n",
              "      <td>55.59</td>\n",
              "      <td>15054506</td>\n",
              "      <td>sub_saharan_africa</td>\n",
              "      <td>Zimbabwe</td>\n",
              "    </tr>\n",
              "    <tr>\n",
              "      <th>40432</th>\n",
              "      <td>2014</td>\n",
              "      <td>1908</td>\n",
              "      <td>56.99</td>\n",
              "      <td>15411675</td>\n",
              "      <td>sub_saharan_africa</td>\n",
              "      <td>Zimbabwe</td>\n",
              "    </tr>\n",
              "    <tr>\n",
              "      <th>40433</th>\n",
              "      <td>2015</td>\n",
              "      <td>1891</td>\n",
              "      <td>58.27</td>\n",
              "      <td>15777451</td>\n",
              "      <td>sub_saharan_africa</td>\n",
              "      <td>Zimbabwe</td>\n",
              "    </tr>\n",
              "    <tr>\n",
              "      <th>40434</th>\n",
              "      <td>2016</td>\n",
              "      <td>1860</td>\n",
              "      <td>59.27</td>\n",
              "      <td>16150362</td>\n",
              "      <td>sub_saharan_africa</td>\n",
              "      <td>Zimbabwe</td>\n",
              "    </tr>\n",
              "    <tr>\n",
              "      <th>40435</th>\n",
              "      <td>2017</td>\n",
              "      <td>1907</td>\n",
              "      <td>59.80</td>\n",
              "      <td>16529904</td>\n",
              "      <td>sub_saharan_africa</td>\n",
              "      <td>Zimbabwe</td>\n",
              "    </tr>\n",
              "    <tr>\n",
              "      <th>40436</th>\n",
              "      <td>2018</td>\n",
              "      <td>1952</td>\n",
              "      <td>60.18</td>\n",
              "      <td>16913261</td>\n",
              "      <td>sub_saharan_africa</td>\n",
              "      <td>Zimbabwe</td>\n",
              "    </tr>\n",
              "  </tbody>\n",
              "</table>\n",
              "<p>40437 rows × 6 columns</p>\n",
              "</div>"
            ],
            "text/plain": [
              "       time  income_per_person_gdppercapita_ppp_inflation_adjusted  \\\n",
              "0      1800                                                603       \n",
              "1      1801                                                603       \n",
              "2      1802                                                603       \n",
              "3      1803                                                603       \n",
              "4      1804                                                603       \n",
              "5      1805                                                603       \n",
              "6      1806                                                603       \n",
              "7      1807                                                603       \n",
              "8      1808                                                603       \n",
              "9      1809                                                603       \n",
              "10     1810                                                604       \n",
              "11     1811                                                604       \n",
              "12     1812                                                604       \n",
              "13     1813                                                604       \n",
              "14     1814                                                604       \n",
              "15     1815                                                604       \n",
              "16     1816                                                604       \n",
              "17     1817                                                604       \n",
              "18     1818                                                604       \n",
              "19     1819                                                604       \n",
              "20     1820                                                604       \n",
              "21     1821                                                607       \n",
              "22     1822                                                609       \n",
              "23     1823                                                611       \n",
              "24     1824                                                613       \n",
              "25     1825                                                615       \n",
              "26     1826                                                617       \n",
              "27     1827                                                619       \n",
              "28     1828                                                621       \n",
              "29     1829                                                623       \n",
              "...     ...                                                ...       \n",
              "40407  1989                                               2494       \n",
              "40408  1990                                               2593       \n",
              "40409  1991                                               2668       \n",
              "40410  1992                                               2373       \n",
              "40411  1993                                               2349       \n",
              "40412  1994                                               2517       \n",
              "40413  1995                                               2476       \n",
              "40414  1996                                               2685       \n",
              "40415  1997                                               2712       \n",
              "40416  1998                                               2748       \n",
              "40417  1999                                               2686       \n",
              "40418  2000                                               2571       \n",
              "40419  2001                                               2577       \n",
              "40420  2002                                               2323       \n",
              "40421  2003                                               1908       \n",
              "40422  2004                                               1777       \n",
              "40423  2005                                               1654       \n",
              "40424  2006                                               1575       \n",
              "40425  2007                                               1494       \n",
              "40426  2008                                               1209       \n",
              "40427  2009                                               1290       \n",
              "40428  2010                                               1460       \n",
              "40429  2011                                               1663       \n",
              "40430  2012                                               1848       \n",
              "40431  2013                                               1901       \n",
              "40432  2014                                               1908       \n",
              "40433  2015                                               1891       \n",
              "40434  2016                                               1860       \n",
              "40435  2017                                               1907       \n",
              "40436  2018                                               1952       \n",
              "\n",
              "       life_expectancy_years  population_total       world_6region  \\\n",
              "0                      28.21           3280000          south_asia   \n",
              "1                      28.20           3280000          south_asia   \n",
              "2                      28.19           3280000          south_asia   \n",
              "3                      28.18           3280000          south_asia   \n",
              "4                      28.17           3280000          south_asia   \n",
              "5                      28.16           3280000          south_asia   \n",
              "6                      28.15           3280000          south_asia   \n",
              "7                      28.14           3280000          south_asia   \n",
              "8                      28.13           3280000          south_asia   \n",
              "9                      28.12           3280000          south_asia   \n",
              "10                     28.11           3280000          south_asia   \n",
              "11                     28.10           3280779          south_asia   \n",
              "12                     28.09           3282342          south_asia   \n",
              "13                     28.08           3284692          south_asia   \n",
              "14                     28.07           3287834          south_asia   \n",
              "15                     28.06           3291770          south_asia   \n",
              "16                     28.05           3296506          south_asia   \n",
              "17                     28.04           3302044          south_asia   \n",
              "18                     28.03           3308390          south_asia   \n",
              "19                     28.02           3315547          south_asia   \n",
              "20                     28.01           3323519          south_asia   \n",
              "21                     28.00           3332311          south_asia   \n",
              "22                     27.99           3341926          south_asia   \n",
              "23                     27.98           3352368          south_asia   \n",
              "24                     27.97           3363642          south_asia   \n",
              "25                     27.95           3375751          south_asia   \n",
              "26                     27.94           3388701          south_asia   \n",
              "27                     27.93           3402494          south_asia   \n",
              "28                     27.92           3417136          south_asia   \n",
              "29                     27.91           3432630          south_asia   \n",
              "...                      ...               ...                 ...   \n",
              "40407                  62.69           9902540  sub_saharan_africa   \n",
              "40408                  61.69          10183113  sub_saharan_africa   \n",
              "40409                  61.04          10443043  sub_saharan_africa   \n",
              "40410                  59.41          10682868  sub_saharan_africa   \n",
              "40411                  57.58          10905756  sub_saharan_africa   \n",
              "40412                  55.78          11116948  sub_saharan_africa   \n",
              "40413                  53.69          11320346  sub_saharan_africa   \n",
              "40414                  52.23          11518262  sub_saharan_africa   \n",
              "40415                  50.75          11709997  sub_saharan_africa   \n",
              "40416                  49.12          11893272  sub_saharan_africa   \n",
              "40417                  47.81          12064537  sub_saharan_africa   \n",
              "40418                  46.69          12222251  sub_saharan_africa   \n",
              "40419                  46.20          12366165  sub_saharan_africa   \n",
              "40420                  45.58          12500525  sub_saharan_africa   \n",
              "40421                  45.34          12633897  sub_saharan_africa   \n",
              "40422                  45.06          12777511  sub_saharan_africa   \n",
              "40423                  45.31          12940032  sub_saharan_africa   \n",
              "40424                  45.70          13124267  sub_saharan_africa   \n",
              "40425                  46.38          13329909  sub_saharan_africa   \n",
              "40426                  46.71          13558469  sub_saharan_africa   \n",
              "40427                  47.55          13810599  sub_saharan_africa   \n",
              "40428                  49.57          14086317  sub_saharan_africa   \n",
              "40429                  51.90          14386649  sub_saharan_africa   \n",
              "40430                  54.06          14710826  sub_saharan_africa   \n",
              "40431                  55.59          15054506  sub_saharan_africa   \n",
              "40432                  56.99          15411675  sub_saharan_africa   \n",
              "40433                  58.27          15777451  sub_saharan_africa   \n",
              "40434                  59.27          16150362  sub_saharan_africa   \n",
              "40435                  59.80          16529904  sub_saharan_africa   \n",
              "40436                  60.18          16913261  sub_saharan_africa   \n",
              "\n",
              "              name  \n",
              "0      Afghanistan  \n",
              "1      Afghanistan  \n",
              "2      Afghanistan  \n",
              "3      Afghanistan  \n",
              "4      Afghanistan  \n",
              "5      Afghanistan  \n",
              "6      Afghanistan  \n",
              "7      Afghanistan  \n",
              "8      Afghanistan  \n",
              "9      Afghanistan  \n",
              "10     Afghanistan  \n",
              "11     Afghanistan  \n",
              "12     Afghanistan  \n",
              "13     Afghanistan  \n",
              "14     Afghanistan  \n",
              "15     Afghanistan  \n",
              "16     Afghanistan  \n",
              "17     Afghanistan  \n",
              "18     Afghanistan  \n",
              "19     Afghanistan  \n",
              "20     Afghanistan  \n",
              "21     Afghanistan  \n",
              "22     Afghanistan  \n",
              "23     Afghanistan  \n",
              "24     Afghanistan  \n",
              "25     Afghanistan  \n",
              "26     Afghanistan  \n",
              "27     Afghanistan  \n",
              "28     Afghanistan  \n",
              "29     Afghanistan  \n",
              "...            ...  \n",
              "40407     Zimbabwe  \n",
              "40408     Zimbabwe  \n",
              "40409     Zimbabwe  \n",
              "40410     Zimbabwe  \n",
              "40411     Zimbabwe  \n",
              "40412     Zimbabwe  \n",
              "40413     Zimbabwe  \n",
              "40414     Zimbabwe  \n",
              "40415     Zimbabwe  \n",
              "40416     Zimbabwe  \n",
              "40417     Zimbabwe  \n",
              "40418     Zimbabwe  \n",
              "40419     Zimbabwe  \n",
              "40420     Zimbabwe  \n",
              "40421     Zimbabwe  \n",
              "40422     Zimbabwe  \n",
              "40423     Zimbabwe  \n",
              "40424     Zimbabwe  \n",
              "40425     Zimbabwe  \n",
              "40426     Zimbabwe  \n",
              "40427     Zimbabwe  \n",
              "40428     Zimbabwe  \n",
              "40429     Zimbabwe  \n",
              "40430     Zimbabwe  \n",
              "40431     Zimbabwe  \n",
              "40432     Zimbabwe  \n",
              "40433     Zimbabwe  \n",
              "40434     Zimbabwe  \n",
              "40435     Zimbabwe  \n",
              "40436     Zimbabwe  \n",
              "\n",
              "[40437 rows x 6 columns]"
            ]
          },
          "metadata": {
            "tags": []
          },
          "execution_count": 36
        }
      ]
    },
    {
      "metadata": {
        "id": "HOoLtnF8nPur",
        "colab_type": "code",
        "colab": {}
      },
      "cell_type": "code",
      "source": [
        "now = df[df.time==2018]\n"
      ],
      "execution_count": 0,
      "outputs": []
    },
    {
      "metadata": {
        "id": "2WXRHOFcnPzl",
        "colab_type": "code",
        "colab": {
          "base_uri": "https://localhost:8080/",
          "height": 34
        },
        "outputId": "853a8da4-18d0-4377-b608-bbf5b2acb361"
      },
      "cell_type": "code",
      "source": [
        "now.shape\n"
      ],
      "execution_count": 40,
      "outputs": [
        {
          "output_type": "execute_result",
          "data": {
            "text/plain": [
              "(184, 6)"
            ]
          },
          "metadata": {
            "tags": []
          },
          "execution_count": 40
        }
      ]
    },
    {
      "metadata": {
        "colab_type": "text",
        "id": "8OFxenCdhocj"
      },
      "cell_type": "markdown",
      "source": [
        "## Analyze outliers"
      ]
    },
    {
      "metadata": {
        "colab_type": "code",
        "id": "D59bn-7k6-Io",
        "colab": {
          "base_uri": "https://localhost:8080/",
          "height": 386
        },
        "outputId": "fc26314b-9c7c-4143-ed44-a609e9d8b518"
      },
      "cell_type": "code",
      "source": [
        "sns.relplot(x='income_per_person_gdppercapita_ppp_inflation_adjusted',y='life_expectancy_years',hue='world_6region',size='population_total',data=now)\n"
      ],
      "execution_count": 43,
      "outputs": [
        {
          "output_type": "execute_result",
          "data": {
            "text/plain": [
              "<seaborn.axisgrid.FacetGrid at 0x7f0a7a744a20>"
            ]
          },
          "metadata": {
            "tags": []
          },
          "execution_count": 43
        },
        {
          "output_type": "display_data",
          "data": {
            "image/png": "[encoded data removed]",
            "text/plain": [
              "<Figure size 521.75x360 with 1 Axes>"
            ]
          },
          "metadata": {
            "tags": []
          }
        }
      ]
    },
    {
      "metadata": {
        "id": "axQLvZm2oL8A",
        "colab_type": "code",
        "colab": {
          "base_uri": "https://localhost:8080/",
          "height": 642
        },
        "outputId": "7a0bfc45-c2ec-40d9-c951-ee5d27bbf38a"
      },
      "cell_type": "code",
      "source": [
        "now[now.income_per_person_gdppercapita_ppp_inflation_adjusted>80000].sort_values(by='income_per_person_gdppercapita_ppp_inflation_adjusted')"
      ],
      "execution_count": 46,
      "outputs": [
        {
          "output_type": "execute_result",
          "data": {
            "text/html": [
              "<div>\n",
              "<style scoped>\n",
              "    .dataframe tbody tr th:only-of-type {\n",
              "        vertical-align: middle;\n",
              "    }\n",
              "\n",
              "    .dataframe tbody tr th {\n",
              "        vertical-align: top;\n",
              "    }\n",
              "\n",
              "    .dataframe thead th {\n",
              "        text-align: right;\n",
              "    }\n",
              "</style>\n",
              "<table border=\"1\" class=\"dataframe\">\n",
              "  <thead>\n",
              "    <tr style=\"text-align: right;\">\n",
              "      <th></th>\n",
              "      <th>time</th>\n",
              "      <th>income_per_person_gdppercapita_ppp_inflation_adjusted</th>\n",
              "      <th>life_expectancy_years</th>\n",
              "      <th>population_total</th>\n",
              "      <th>world_6region</th>\n",
              "      <th>name</th>\n",
              "    </tr>\n",
              "  </thead>\n",
              "  <tbody>\n",
              "    <tr>\n",
              "      <th>31895</th>\n",
              "      <td>2018</td>\n",
              "      <td>83888</td>\n",
              "      <td>84.03</td>\n",
              "      <td>5791901</td>\n",
              "      <td>east_asia_pacific</td>\n",
              "      <td>Singapore</td>\n",
              "    </tr>\n",
              "    <tr>\n",
              "      <th>22212</th>\n",
              "      <td>2018</td>\n",
              "      <td>99034</td>\n",
              "      <td>82.39</td>\n",
              "      <td>590321</td>\n",
              "      <td>europe_central_asia</td>\n",
              "      <td>Luxembourg</td>\n",
              "    </tr>\n",
              "    <tr>\n",
              "      <th>30362</th>\n",
              "      <td>2018</td>\n",
              "      <td>121033</td>\n",
              "      <td>80.71</td>\n",
              "      <td>2694849</td>\n",
              "      <td>middle_east_north_africa</td>\n",
              "      <td>Qatar</td>\n",
              "    </tr>\n",
              "  </tbody>\n",
              "</table>\n",
              "</div>"
            ],
            "text/plain": [
              "       time  income_per_person_gdppercapita_ppp_inflation_adjusted  \\\n",
              "31895  2018                                              83888       \n",
              "22212  2018                                              99034       \n",
              "30362  2018                                             121033       \n",
              "\n",
              "       life_expectancy_years  population_total             world_6region  \\\n",
              "31895                  84.03           5791901         east_asia_pacific   \n",
              "22212                  82.39            590321       europe_central_asia   \n",
              "30362                  80.71           2694849  middle_east_north_africa   \n",
              "\n",
              "             name  \n",
              "31895   Singapore  \n",
              "22212  Luxembourg  \n",
              "30362       Qatar  "
            ]
          },
          "metadata": {
            "tags": []
          },
          "execution_count": 46
        }
      ]
    },
    {
      "metadata": {
        "id": "zg3kShQBoOAc",
        "colab_type": "code",
        "colab": {
          "base_uri": "https://localhost:8080/",
          "height": 386
        },
        "outputId": "cd866b38-caff-4011-e829-922dd7f6d9aa"
      },
      "cell_type": "code",
      "source": [
        "sns.relplot(x='income_per_person_gdppercapita_ppp_inflation_adjusted',y='life_expectancy_years',hue='world_6region',size='population_total',data=now)\n",
        "gatar = now[now.name=='Qatar']\n",
        "gatar_income = gatar.income_per_person_gdppercapita_ppp_inflation_adjusted.values[0]\n",
        "gatat_lifespan=gatar.life_expectancy_years.values[0]\n",
        "plt.text(x=gatar_income,y=gatat_lifespan,s='Qatar')"
      ],
      "execution_count": 48,
      "outputs": [
        {
          "output_type": "execute_result",
          "data": {
            "text/plain": [
              "Text(121033, 80.71, 'Qatar')"
            ]
          },
          "metadata": {
            "tags": []
          },
          "execution_count": 48
        },
        {
          "output_type": "display_data",
          "data": {
            "image/png": "[encoded data removed]",
            "text/plain": [
              "<Figure size 521.75x360 with 1 Axes>"
            ]
          },
          "metadata": {
            "tags": []
          }
        }
      ]
    },
    {
      "metadata": {
        "colab_type": "text",
        "id": "DNTMMBkVhrGk"
      },
      "cell_type": "markdown",
      "source": [
        "## Plot multiple years"
      ]
    },
    {
      "metadata": {
        "colab_type": "code",
        "id": "JkTUmYGF7BQt",
        "colab": {}
      },
      "cell_type": "code",
      "source": [
        "time = [1818,1918,2018]\n",
        "\n",
        "centuries = df[df.time.isin(time)]"
      ],
      "execution_count": 0,
      "outputs": []
    },
    {
      "metadata": {
        "id": "J8oG0lwqqyFb",
        "colab_type": "code",
        "colab": {
          "base_uri": "https://localhost:8080/",
          "height": 406
        },
        "outputId": "87fd0b2b-f0ea-4712-a22d-509240396d06"
      },
      "cell_type": "code",
      "source": [
        "sns.relplot(x='income_per_person_gdppercapita_ppp_inflation_adjusted',y='life_expectancy_years',hue='world_6region',size='population_total',data=centuries,col='time')\n"
      ],
      "execution_count": 51,
      "outputs": [
        {
          "output_type": "execute_result",
          "data": {
            "text/plain": [
              "<seaborn.axisgrid.FacetGrid at 0x7f0a785317b8>"
            ]
          },
          "metadata": {
            "tags": []
          },
          "execution_count": 51
        },
        {
          "output_type": "display_data",
          "data": {
            "image/png": "[encoded data removed]",
            "text/plain": [
              "<Figure size 1241.75x360 with 3 Axes>"
            ]
          },
          "metadata": {
            "tags": []
          }
        }
      ]
    },
    {
      "metadata": {
        "colab_type": "text",
        "id": "BB1Ki0v6hxCA"
      },
      "cell_type": "markdown",
      "source": [
        "## Point out a story"
      ]
    },
    {
      "metadata": {
        "colab_type": "code",
        "id": "eSgZhD3v7HIe",
        "colab": {}
      },
      "cell_type": "code",
      "source": [
        "time=[1918,1938,1958,1978,1998,2018]\n"
      ],
      "execution_count": 0,
      "outputs": []
    },
    {
      "metadata": {
        "id": "D5rKmZHZrHbs",
        "colab_type": "code",
        "colab": {}
      },
      "cell_type": "code",
      "source": [
        "subset=df[df.time.isin(time)]\n"
      ],
      "execution_count": 0,
      "outputs": []
    },
    {
      "metadata": {
        "id": "GoqFYYVOrHkr",
        "colab_type": "code",
        "colab": {
          "base_uri": "https://localhost:8080/",
          "height": 2231
        },
        "outputId": "66a6af50-fd96-4b78-a759-3d3a6acc5e5c"
      },
      "cell_type": "code",
      "source": [
        "for time in time:\n",
        "  sns.relplot(x='income_per_person_gdppercapita_ppp_inflation_adjusted',y='life_expectancy_years',hue='world_6region',size='population_total',data=df[df.time==time])\n",
        "\n",
        "  plt.xscale('log')\n",
        "  plt.title(year)\n",
        "  plt.xlim(100,10000000)\n",
        "  plt.ylim(10,90)\n",
        "  plt.axhline(y=50,color='grey')"
      ],
      "execution_count": 55,
      "outputs": [
        {
          "output_type": "display_data",
          "data": {
            "image/png": "[encoded data removed]",
            "text/plain": [
              "<Figure size 521.75x360 with 1 Axes>"
            ]
          },
          "metadata": {
            "tags": []
          }
        },
        {
          "output_type": "display_data",
          "data": {
            "image/png": "[encoded data removed]",
            "text/plain": [
              "<Figure size 521.75x360 with 1 Axes>"
            ]
          },
          "metadata": {
            "tags": []
          }
        },
        {
          "output_type": "display_data",
          "data": {
            "image/png": "[encoded data removed]",
            "text/plain": [
              "<Figure size 521.75x360 with 1 Axes>"
            ]
          },
          "metadata": {
            "tags": []
          }
        },
        {
          "output_type": "display_data",
          "data": {
            "image/png": "[encoded data removed]",
            "text/plain": [
              "<Figure size 521.75x360 with 1 Axes>"
            ]
          },
          "metadata": {
            "tags": []
          }
        },
        {
          "output_type": "display_data",
          "data": {
            "image/png": "[encoded data removed]",
            "text/plain": [
              "<Figure size 521.75x360 with 1 Axes>"
            ]
          },
          "metadata": {
            "tags": []
          }
        },
        {
          "output_type": "display_data",
          "data": {
            "image/png": "[encoded data removed]",
            "text/plain": [
              "<Figure size 521.75x360 with 1 Axes>"
            ]
          },
          "metadata": {
            "tags": []
          }
        }
      ]
    },
    {
      "metadata": {
        "id": "UNN9C_rBrHrS",
        "colab_type": "code",
        "colab": {
          "base_uri": "https://localhost:8080/",
          "height": 403
        },
        "outputId": "7a8d35d9-d733-4009-94f5-a9a56ee4e8b6"
      },
      "cell_type": "code",
      "source": [
        "time=1946 \n",
        "sns.relplot(x='income_per_person_gdppercapita_ppp_inflation_adjusted',y='life_expectancy_years',hue='world_6region',size='population_total',data=df[df.time==time])\n",
        "plt.xscale('log')\n",
        "plt.title(year)\n",
        "plt.xlim(100,10000000)\n",
        "plt.ylim(10,90)\n",
        "plt.axhline(y=50,color='grey')"
      ],
      "execution_count": 58,
      "outputs": [
        {
          "output_type": "execute_result",
          "data": {
            "text/plain": [
              "<matplotlib.lines.Line2D at 0x7f0a77a30550>"
            ]
          },
          "metadata": {
            "tags": []
          },
          "execution_count": 58
        },
        {
          "output_type": "display_data",
          "data": {
            "image/png": "[encoded data removed]",
            "text/plain": [
              "<Figure size 521.75x360 with 1 Axes>"
            ]
          },
          "metadata": {
            "tags": []
          }
        }
      ]
    },
    {
      "metadata": {
        "id": "83kYdHTvlkYa",
        "colab_type": "text"
      },
      "cell_type": "markdown",
      "source": [
        "# ASSIGNMENT\n",
        "Replicate the lesson code\n",
        "\n",
        "# STRETCH OPTIONS\n",
        "\n",
        "## 1. Animate!\n",
        "- [Making animations work in Google Colaboratory](https://medium.com/lambda-school-machine-learning/making-animations-work-in-google-colaboratory-new-home-for-ml-prototyping-c6147186ae75)\n",
        "- [How to Create Animated Graphs in Python](https://towardsdatascience.com/how-to-create-animated-graphs-in-python-bb619cc2dec1)\n",
        "- [The Ultimate Day of Chicago Bikeshare](https://chrisluedtke.github.io/divvy-data.html) (Lambda School Data Science student)\n",
        "\n",
        "## 2. Work on anything related to your portfolio site / project"
      ]
    },
    {
      "metadata": {
        "id": "uprobYyVssrO",
        "colab_type": "code",
        "colab": {}
      },
      "cell_type": "code",
      "source": [
        ""
      ],
      "execution_count": 0,
      "outputs": []
    }
  ]
}
