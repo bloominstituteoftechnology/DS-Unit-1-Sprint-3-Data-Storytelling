{
 "cells": [
  {
   "cell_type": "markdown",
   "metadata": {
    "colab_type": "text",
    "id": "1nwMfulDljaS"
   },
   "source": [
    "_Lambda School Data Science_\n",
    "# Choose appropriate visualizations\n",
    "\n",
    "Objectives\n",
    "- fix misleading visualizations\n",
    "- use Seaborn to visualize distributions and relationships with continuous and discrete variables\n",
    "\n",
    "Links\n",
    "- [How to Spot Visualization Lies](https://flowingdata.com/2017/02/09/how-to-spot-visualization-lies/)\n",
    "- [Financial Times Visual Vocabulary poster](http://ft.com/vocabulary)\n",
    "- [Choosing a Python Visualization Tool flowchart](http://pbpython.com/python-vis-flowchart.html)\n",
    "- [Seaborn example gallery](http://seaborn.pydata.org/examples/index.html) & [tutorial](http://seaborn.pydata.org/tutorial.html)\n"
   ]
  },
  {
   "cell_type": "markdown",
   "metadata": {
    "colab_type": "text",
    "id": "yp50E_pnljaV"
   },
   "source": [
    "# Upgrade Seaborn\n",
    "\n",
    "Make sure you have at least version 0.9.0.\n",
    "\n",
    "On Colab, go to **Restart runtime** after you run the `pip` command."
   ]
  },
  {
   "cell_type": "code",
   "execution_count": 2,
   "metadata": {
    "colab": {
     "base_uri": "https://localhost:8080/",
     "height": 245
    },
    "colab_type": "code",
    "id": "MJAy4kPfljaV",
    "outputId": "06602629-079d-4b23-9362-1cd39c062007"
   },
   "outputs": [
    {
     "name": "stdout",
     "output_type": "stream",
     "text": [
      "Requirement already up-to-date: seaborn in /opt/conda/lib/python3.6/site-packages (0.9.0)\n",
      "Requirement already satisfied, skipping upgrade: numpy>=1.9.3 in /opt/conda/lib/python3.6/site-packages (from seaborn) (1.13.3)\n",
      "Requirement already satisfied, skipping upgrade: scipy>=0.14.0 in /opt/conda/lib/python3.6/site-packages (from seaborn) (1.1.0)\n",
      "Requirement already satisfied, skipping upgrade: pandas>=0.15.2 in /opt/conda/lib/python3.6/site-packages (from seaborn) (0.23.4)\n",
      "Requirement already satisfied, skipping upgrade: matplotlib>=1.4.3 in /opt/conda/lib/python3.6/site-packages (from seaborn) (2.2.3)\n",
      "Requirement already satisfied, skipping upgrade: pytz>=2011k in /opt/conda/lib/python3.6/site-packages (from pandas>=0.15.2->seaborn) (2018.9)\n",
      "Requirement already satisfied, skipping upgrade: python-dateutil>=2.5.0 in /opt/conda/lib/python3.6/site-packages (from pandas>=0.15.2->seaborn) (2.7.5)\n",
      "Requirement already satisfied, skipping upgrade: cycler>=0.10 in /opt/conda/lib/python3.6/site-packages (from matplotlib>=1.4.3->seaborn) (0.10.0)\n",
      "Requirement already satisfied, skipping upgrade: pyparsing!=2.0.4,!=2.1.2,!=2.1.6,>=2.0.1 in /opt/conda/lib/python3.6/site-packages (from matplotlib>=1.4.3->seaborn) (2.3.0)\n",
      "Requirement already satisfied, skipping upgrade: six>=1.10 in /opt/conda/lib/python3.6/site-packages (from matplotlib>=1.4.3->seaborn) (1.12.0)\n",
      "Requirement already satisfied, skipping upgrade: kiwisolver>=1.0.1 in /opt/conda/lib/python3.6/site-packages (from matplotlib>=1.4.3->seaborn) (1.0.1)\n",
      "Requirement already satisfied, skipping upgrade: setuptools in /opt/conda/lib/python3.6/site-packages (from kiwisolver>=1.0.1->matplotlib>=1.4.3->seaborn) (40.6.3)\n"
     ]
    }
   ],
   "source": [
    "!pip install --upgrade seaborn"
   ]
  },
  {
   "cell_type": "code",
   "execution_count": 3,
   "metadata": {
    "colab": {
     "base_uri": "https://localhost:8080/",
     "height": 34
    },
    "colab_type": "code",
    "id": "fXZFXHccljaZ",
    "outputId": "02c73018-4742-464c-c799-d94496d7f395"
   },
   "outputs": [
    {
     "data": {
      "text/plain": [
       "'0.9.0'"
      ]
     },
     "execution_count": 3,
     "metadata": {},
     "output_type": "execute_result"
    }
   ],
   "source": [
    "import seaborn as sns\n",
    "sns.__version__"
   ]
  },
  {
   "cell_type": "markdown",
   "metadata": {
    "colab_type": "text",
    "id": "Md1lMTx1ljab"
   },
   "source": [
    "# Fix misleading visualizations"
   ]
  },
  {
   "cell_type": "code",
   "execution_count": 4,
   "metadata": {
    "colab": {},
    "colab_type": "code",
    "id": "5kTa_5Lnljac"
   },
   "outputs": [],
   "source": [
    "%matplotlib inline\n",
    "import matplotlib.pyplot as plt\n",
    "import numpy as np\n",
    "import pandas as pd"
   ]
  },
  {
   "cell_type": "code",
   "execution_count": 5,
   "metadata": {
    "colab": {
     "base_uri": "https://localhost:8080/",
     "height": 227
    },
    "colab_type": "code",
    "id": "FkXJKBMOljae",
    "outputId": "73b9a96e-7f63-4ee3-99a1-f0a245ba562a"
   },
   "outputs": [
    {
     "name": "stdout",
     "output_type": "stream",
     "text": [
      "--2019-01-22 18:17:45--  https://raw.githubusercontent.com/LambdaSchool/DS-Unit-1-Sprint-3-Data-Storytelling/master/module2-choose-appropriate-visualizations/misleading.py\n",
      "Resolving raw.githubusercontent.com (raw.githubusercontent.com)... 151.101.188.133\n",
      "Connecting to raw.githubusercontent.com (raw.githubusercontent.com)|151.101.188.133|:443... connected.\n",
      "HTTP request sent, awaiting response... 200 OK\n",
      "Length: 1258 (1.2K) [text/plain]\n",
      "Saving to: ‘misleading.py.1’\n",
      "\n",
      "misleading.py.1     100%[===================>]   1.23K  --.-KB/s    in 0s      \n",
      "\n",
      "2019-01-22 18:17:46 (119 MB/s) - ‘misleading.py.1’ saved [1258/1258]\n",
      "\n"
     ]
    }
   ],
   "source": [
    "!wget https://raw.githubusercontent.com/LambdaSchool/DS-Unit-1-Sprint-3-Data-Storytelling/master/module2-choose-appropriate-visualizations/misleading.py\n",
    "    \n",
    "import misleading"
   ]
  },
  {
   "cell_type": "markdown",
   "metadata": {
    "colab_type": "text",
    "id": "CBe1A0IJljag"
   },
   "source": [
    "### Fix misleading plot #1"
   ]
  },
  {
   "cell_type": "markdown",
   "metadata": {
    "colab_type": "text",
    "id": "DRcGWCFjkK0k"
   },
   "source": [
    "Plot market share for auto insurance in the US"
   ]
  },
  {
   "cell_type": "code",
   "execution_count": 6,
   "metadata": {
    "colab": {
     "base_uri": "https://localhost:8080/",
     "height": 315
    },
    "colab_type": "code",
    "id": "nSkHZKmRljah",
    "outputId": "7fdc08d6-b5d8-4dfc-dcd6-6300885a70e2"
   },
   "outputs": [
    {
     "data": {
      "image/png": "[encoded data removed]",
      "text/plain": [
       "<Figure size 432x288 with 1 Axes>"
      ]
     },
     "metadata": {
      "needs_background": "light"
     },
     "output_type": "display_data"
    }
   ],
   "source": [
    "misleading.plot1();"
   ]
  },
  {
   "cell_type": "code",
   "execution_count": 7,
   "metadata": {
    "colab": {
     "base_uri": "https://localhost:8080/",
     "height": 315
    },
    "colab_type": "code",
    "id": "u0iHhtVHkiD5",
    "outputId": "f64fb76c-8330-4a7a-d672-d240e87bc09b"
   },
   "outputs": [
    {
     "data": {
      "image/png": "[encoded data removed]",
      "text/plain": [
       "<Figure size 432x288 with 1 Axes>"
      ]
     },
     "metadata": {
      "needs_background": "light"
     },
     "output_type": "display_data"
    }
   ],
   "source": [
    "insurance = pd.DataFrame(\n",
    "    index=['State Farm', 'GEICO'], \n",
    "    data={'Market Share %': [18.07, 12.79]})\n",
    "\n",
    "\n",
    "insurance.plot.bar();"
   ]
  },
  {
   "cell_type": "code",
   "execution_count": 8,
   "metadata": {
    "colab": {
     "base_uri": "https://localhost:8080/",
     "height": 35
    },
    "colab_type": "code",
    "id": "71Awesojkw3T",
    "outputId": "0cb57b7c-4ef7-4b34-b8e3-25f2133af465"
   },
   "outputs": [
    {
     "data": {
      "text/plain": [
       "1.4128225175918687"
      ]
     },
     "execution_count": 8,
     "metadata": {},
     "output_type": "execute_result"
    }
   ],
   "source": [
    "18.07 / 12.79"
   ]
  },
  {
   "cell_type": "code",
   "execution_count": 9,
   "metadata": {
    "colab": {
     "base_uri": "https://localhost:8080/",
     "height": 35
    },
    "colab_type": "code",
    "id": "92QMVBzYk-Q6",
    "outputId": "64757de9-4840-46e1-8493-c1f423dc8353"
   },
   "outputs": [
    {
     "data": {
      "text/plain": [
       "2.892473118279571"
      ]
     },
     "execution_count": 9,
     "metadata": {},
     "output_type": "execute_result"
    }
   ],
   "source": [
    "(18.07 - 10) / (12.79 - 10)"
   ]
  },
  {
   "cell_type": "markdown",
   "metadata": {
    "colab_type": "text",
    "id": "6RB2pFjQljal"
   },
   "source": [
    "### Fix misleading plot #2"
   ]
  },
  {
   "cell_type": "code",
   "execution_count": 10,
   "metadata": {
    "colab": {
     "base_uri": "https://localhost:8080/",
     "height": 310
    },
    "colab_type": "code",
    "id": "PAjwPf8vljam",
    "outputId": "0843a6f5-c733-4b4a-ecf2-d765c81a3d7e"
   },
   "outputs": [
    {
     "data": {
      "image/png": "[encoded data removed]",
      "text/plain": [
       "<Figure size 360x360 with 1 Axes>"
      ]
     },
     "metadata": {},
     "output_type": "display_data"
    }
   ],
   "source": [
    "misleading.plot2();"
   ]
  },
  {
   "cell_type": "code",
   "execution_count": 11,
   "metadata": {
    "colab": {
     "base_uri": "https://localhost:8080/",
     "height": 106
    },
    "colab_type": "code",
    "id": "0W_3AgGPl7Ux",
    "outputId": "0593a237-47f7-408e-8034-64a514eacd5a"
   },
   "outputs": [
    {
     "data": {
      "text/html": [
       "<div>\n",
       "<style scoped>\n",
       "    .dataframe tbody tr th:only-of-type {\n",
       "        vertical-align: middle;\n",
       "    }\n",
       "\n",
       "    .dataframe tbody tr th {\n",
       "        vertical-align: top;\n",
       "    }\n",
       "\n",
       "    .dataframe thead th {\n",
       "        text-align: right;\n",
       "    }\n",
       "</style>\n",
       "<table border=\"1\" class=\"dataframe\">\n",
       "  <thead>\n",
       "    <tr style=\"text-align: right;\">\n",
       "      <th></th>\n",
       "      <th>Market Share %</th>\n",
       "    </tr>\n",
       "  </thead>\n",
       "  <tbody>\n",
       "    <tr>\n",
       "      <th>State Farm</th>\n",
       "      <td>18.07</td>\n",
       "    </tr>\n",
       "    <tr>\n",
       "      <th>GEICO</th>\n",
       "      <td>12.79</td>\n",
       "    </tr>\n",
       "  </tbody>\n",
       "</table>\n",
       "</div>"
      ],
      "text/plain": [
       "            Market Share %\n",
       "State Farm           18.07\n",
       "GEICO                12.79"
      ]
     },
     "execution_count": 11,
     "metadata": {},
     "output_type": "execute_result"
    }
   ],
   "source": [
    "insurance"
   ]
  },
  {
   "cell_type": "code",
   "execution_count": 12,
   "metadata": {
    "colab": {},
    "colab_type": "code",
    "id": "swlWTmWOmsJI"
   },
   "outputs": [],
   "source": [
    "insurance.loc['Other'] = 100 - insurance.sum()"
   ]
  },
  {
   "cell_type": "code",
   "execution_count": 13,
   "metadata": {
    "colab": {
     "base_uri": "https://localhost:8080/",
     "height": 310
    },
    "colab_type": "code",
    "id": "8yuLqopHl9oR",
    "outputId": "0aebf782-22f0-404a-8753-9c98b1b7c903"
   },
   "outputs": [
    {
     "data": {
      "image/png": "[encoded data removed]",
      "text/plain": [
       "<Figure size 360x360 with 1 Axes>"
      ]
     },
     "metadata": {},
     "output_type": "display_data"
    }
   ],
   "source": [
    "insurance.plot.pie('Market Share %', figsize=(5, 5));"
   ]
  },
  {
   "cell_type": "markdown",
   "metadata": {
    "colab_type": "text",
    "id": "6FISiBH3ljaw"
   },
   "source": [
    "## Fix misleading plot #3"
   ]
  },
  {
   "cell_type": "markdown",
   "metadata": {
    "colab_type": "text",
    "id": "Dwcc8Jylljax"
   },
   "source": [
    "_If you're on Jupyter (not Colab) then uncomment and run this cell below:_"
   ]
  },
  {
   "cell_type": "code",
   "execution_count": 14,
   "metadata": {},
   "outputs": [
    {
     "name": "stdout",
     "output_type": "stream",
     "text": [
      "Collecting altair\n",
      "\u001b[?25l  Downloading https://files.pythonhosted.org/packages/50/e3/9c7a9e2da9889be611f676983971dfb691be4ebeddeaf33bd7ec3769ee8b/altair-2.3.0-py2.py3-none-any.whl (392kB)\n",
      "\u001b[K    100% |████████████████████████████████| 399kB 336kB/s \n",
      "\u001b[?25hCollecting vega_datasets\n",
      "\u001b[?25l  Downloading https://files.pythonhosted.org/packages/0a/53/00c0d891e2da61442745aa5f6677e93b68ea247b49ed70a7da1dd764760f/vega_datasets-0.7.0-py2.py3-none-any.whl (209kB)\n",
      "\u001b[K    100% |████████████████████████████████| 215kB 1.3MB/s \n",
      "\u001b[?25hRequirement already satisfied: entrypoints in /opt/conda/lib/python3.6/site-packages (from altair) (0.3)\n",
      "Requirement already satisfied: jsonschema in /opt/conda/lib/python3.6/site-packages (from altair) (3.0.0a3)\n",
      "Requirement already satisfied: pandas in /opt/conda/lib/python3.6/site-packages (from altair) (0.23.4)\n",
      "Requirement already satisfied: six in /opt/conda/lib/python3.6/site-packages (from altair) (1.12.0)\n",
      "Requirement already satisfied: numpy in /opt/conda/lib/python3.6/site-packages (from altair) (1.13.3)\n",
      "Requirement already satisfied: toolz in /opt/conda/lib/python3.6/site-packages (from altair) (0.9.0)\n",
      "Requirement already satisfied: jinja2 in /opt/conda/lib/python3.6/site-packages (from altair) (2.10)\n",
      "Requirement already satisfied: attrs>=17.4.0 in /opt/conda/lib/python3.6/site-packages (from jsonschema->altair) (18.2.0)\n",
      "Requirement already satisfied: pyrsistent>=0.14.0 in /opt/conda/lib/python3.6/site-packages (from jsonschema->altair) (0.14.9)\n",
      "Requirement already satisfied: python-dateutil>=2.5.0 in /opt/conda/lib/python3.6/site-packages (from pandas->altair) (2.7.5)\n",
      "Requirement already satisfied: pytz>=2011k in /opt/conda/lib/python3.6/site-packages (from pandas->altair) (2018.9)\n",
      "Requirement already satisfied: MarkupSafe>=0.23 in /opt/conda/lib/python3.6/site-packages (from jinja2->altair) (1.1.0)\n",
      "Installing collected packages: altair, vega-datasets\n",
      "Successfully installed altair-2.3.0 vega-datasets-0.7.0\n"
     ]
    }
   ],
   "source": [
    "!pip install altair vega_datasets "
   ]
  },
  {
   "cell_type": "code",
   "execution_count": 15,
   "metadata": {
    "colab": {},
    "colab_type": "code",
    "id": "TaSuwairljax"
   },
   "outputs": [],
   "source": [
    "import altair as alt\n",
    "from vega_datasets import data\n",
    "\n",
    "# In JupyterLab this line is unnecessary\n",
    "#alt.renderers.enable('notebook')"
   ]
  },
  {
   "cell_type": "code",
   "execution_count": 16,
   "metadata": {
    "colab": {
     "base_uri": "https://localhost:8080/",
     "height": 331
    },
    "colab_type": "code",
    "id": "JMirz9RMljaz",
    "outputId": "964aad4f-bb73-484d-a9d1-3ed09f348c45"
   },
   "outputs": [
    {
     "data": {
      "application/vnd.vegalite.v2+json": {
       "$schema": "https://vega.github.io/schema/vega-lite/v2.6.0.json",
       "config": {
        "view": {
         "height": 300,
         "width": 400
        }
       },
       "data": {
        "format": {
         "feature": "states",
         "type": "topojson"
        },
        "url": "https://vega.github.io/vega-datasets/data/us-10m.json"
       },
       "datasets": {
        "data-b615a17f98b0ca7d11f99dcf36616c5d": [
         {
          "BERKSHIRE HATHAWAY GRP": 282947,
          "STATE TOTAL": 3025561,
          "State Farm policy premiums": 768213,
          "id": 1,
          "state": "Alabama"
         },
         {
          "BERKSHIRE HATHAWAY GRP": 81366,
          "STATE TOTAL": 454623,
          "State Farm policy premiums": 128613,
          "id": 2,
          "state": "Alaska"
         },
         {
          "BERKSHIRE HATHAWAY GRP": 604049,
          "STATE TOTAL": 4373055,
          "State Farm policy premiums": 760003,
          "id": 4,
          "state": "Arizona"
         },
         {
          "BERKSHIRE HATHAWAY GRP": 96908,
          "STATE TOTAL": 1777917,
          "State Farm policy premiums": 454931,
          "id": 5,
          "state": "Arkansas"
         },
         {
          "BERKSHIRE HATHAWAY GRP": 2091720,
          "STATE TOTAL": 25255501,
          "State Farm policy premiums": 3655463,
          "id": 6,
          "state": "California"
         },
         {
          "BERKSHIRE HATHAWAY GRP": 365797,
          "STATE TOTAL": 4057463,
          "State Farm policy premiums": 827143,
          "id": 8,
          "state": "Colorado"
         },
         {
          "BERKSHIRE HATHAWAY GRP": 486498,
          "STATE TOTAL": 2795415,
          "State Farm policy premiums": 169773,
          "id": 9,
          "state": "Connecticut"
         },
         {
          "BERKSHIRE HATHAWAY GRP": 129033,
          "STATE TOTAL": 802005,
          "State Farm policy premiums": 191319,
          "id": 10,
          "state": "Delaware"
         },
         {
          "BERKSHIRE HATHAWAY GRP": 115149,
          "STATE TOTAL": 325239,
          "State Farm policy premiums": 67231,
          "id": 11,
          "state": "District of Columbia"
         },
         {
          "BERKSHIRE HATHAWAY GRP": 3952147,
          "STATE TOTAL": 17333354,
          "State Farm policy premiums": 2806322,
          "id": 12,
          "state": "Florida"
         },
         {
          "BERKSHIRE HATHAWAY GRP": 821326,
          "STATE TOTAL": 7571988,
          "State Farm policy premiums": 1761224,
          "id": 13,
          "state": "Georgia"
         },
         {
          "BERKSHIRE HATHAWAY GRP": 184743,
          "STATE TOTAL": 722550,
          "State Farm policy premiums": 133498,
          "id": 15,
          "state": "Hawaii"
         },
         {
          "BERKSHIRE HATHAWAY GRP": 87222,
          "STATE TOTAL": 863636,
          "State Farm policy premiums": 130613,
          "id": 16,
          "state": "Idaho"
         },
         {
          "BERKSHIRE HATHAWAY GRP": 412978,
          "STATE TOTAL": 7028885,
          "State Farm policy premiums": 2256543,
          "id": 17,
          "state": "Illinois"
         },
         {
          "BERKSHIRE HATHAWAY GRP": 201200,
          "STATE TOTAL": 3506499,
          "State Farm policy premiums": 861382,
          "id": 18,
          "state": "Indiana"
         },
         {
          "BERKSHIRE HATHAWAY GRP": 58105,
          "STATE TOTAL": 1650388,
          "State Farm policy premiums": 368898,
          "id": 19,
          "state": "Iowa"
         },
         {
          "BERKSHIRE HATHAWAY GRP": 76533,
          "STATE TOTAL": 1725608,
          "State Farm policy premiums": 351343,
          "id": 20,
          "state": "Kansas"
         },
         {
          "BERKSHIRE HATHAWAY GRP": 186915,
          "STATE TOTAL": 2805864,
          "State Farm policy premiums": 680433,
          "id": 21,
          "state": "Kentucky"
         },
         {
          "BERKSHIRE HATHAWAY GRP": 369492,
          "STATE TOTAL": 4136224,
          "State Farm policy premiums": 1415980,
          "id": 22,
          "state": "Louisiana"
         },
         {
          "BERKSHIRE HATHAWAY GRP": 68109,
          "STATE TOTAL": 699558,
          "State Farm policy premiums": 101111,
          "id": 23,
          "state": "Maine"
         },
         {
          "BERKSHIRE HATHAWAY GRP": 1059508,
          "STATE TOTAL": 4554586,
          "State Farm policy premiums": 883401,
          "id": 24,
          "state": "Maryland"
         },
         {
          "BERKSHIRE HATHAWAY GRP": 473913,
          "STATE TOTAL": 4924736,
          "State Farm policy premiums": 0,
          "id": 25,
          "state": "Massachusetts"
         },
         {
          "BERKSHIRE HATHAWAY GRP": 0,
          "STATE TOTAL": 8462142,
          "State Farm policy premiums": 1580398,
          "id": 26,
          "state": "Michigan"
         },
         {
          "BERKSHIRE HATHAWAY GRP": 108942,
          "STATE TOTAL": 3412460,
          "State Farm policy premiums": 851940,
          "id": 27,
          "state": "Minnesota"
         },
         {
          "BERKSHIRE HATHAWAY GRP": 100827,
          "STATE TOTAL": 1760180,
          "State Farm policy premiums": 467887,
          "id": 28,
          "state": "Mississippi"
         },
         {
          "BERKSHIRE HATHAWAY GRP": 214191,
          "STATE TOTAL": 3606590,
          "State Farm policy premiums": 883774,
          "id": 29,
          "state": "Missouri"
         },
         {
          "BERKSHIRE HATHAWAY GRP": 33538,
          "STATE TOTAL": 668513,
          "State Farm policy premiums": 156816,
          "id": 30,
          "state": "Montana"
         },
         {
          "BERKSHIRE HATHAWAY GRP": 61046,
          "STATE TOTAL": 1167135,
          "State Farm policy premiums": 273727,
          "id": 31,
          "state": "Nebraska"
         },
         {
          "BERKSHIRE HATHAWAY GRP": 262815,
          "STATE TOTAL": 2129828,
          "State Farm policy premiums": 404688,
          "id": 32,
          "state": "Nevada"
         },
         {
          "BERKSHIRE HATHAWAY GRP": 103403,
          "STATE TOTAL": 806545,
          "State Farm policy premiums": 103340,
          "id": 33,
          "state": "New Hampshire"
         },
         {
          "BERKSHIRE HATHAWAY GRP": 1441019,
          "STATE TOTAL": 7375823,
          "State Farm policy premiums": 619623,
          "id": 34,
          "state": "New Jersey"
         },
         {
          "BERKSHIRE HATHAWAY GRP": 174865,
          "STATE TOTAL": 1284430,
          "State Farm policy premiums": 261922,
          "id": 35,
          "state": "New Mexico"
         },
         {
          "BERKSHIRE HATHAWAY GRP": 3926684,
          "STATE TOTAL": 12633982,
          "State Farm policy premiums": 1666653,
          "id": 36,
          "state": "New York"
         },
         {
          "BERKSHIRE HATHAWAY GRP": 560700,
          "STATE TOTAL": 5543700,
          "State Farm policy premiums": 842368,
          "id": 37,
          "state": "North Carolina"
         },
         {
          "BERKSHIRE HATHAWAY GRP": 15516,
          "STATE TOTAL": 454376,
          "State Farm policy premiums": 67282,
          "id": 38,
          "state": "North Dakota"
         },
         {
          "BERKSHIRE HATHAWAY GRP": 405652,
          "STATE TOTAL": 6303148,
          "State Farm policy premiums": 1240075,
          "id": 39,
          "state": "Ohio"
         },
         {
          "BERKSHIRE HATHAWAY GRP": 151388,
          "STATE TOTAL": 2515842,
          "State Farm policy premiums": 636063,
          "id": 40,
          "state": "Oklahoma"
         },
         {
          "BERKSHIRE HATHAWAY GRP": 223187,
          "STATE TOTAL": 2647434,
          "State Farm policy premiums": 564416,
          "id": 41,
          "state": "Oregon"
         },
         {
          "BERKSHIRE HATHAWAY GRP": 602848,
          "STATE TOTAL": 8270326,
          "State Farm policy premiums": 1654528,
          "id": 42,
          "state": "Pennsylvania"
         },
         {
          "BERKSHIRE HATHAWAY GRP": 97597,
          "STATE TOTAL": 867558,
          "State Farm policy premiums": 0,
          "id": 44,
          "state": "Rhode Island"
         },
         {
          "BERKSHIRE HATHAWAY GRP": 426033,
          "STATE TOTAL": 3583918,
          "State Farm policy premiums": 874436,
          "id": 45,
          "state": "South Carolina"
         },
         {
          "BERKSHIRE HATHAWAY GRP": 15682,
          "STATE TOTAL": 508569,
          "State Farm policy premiums": 101912,
          "id": 46,
          "state": "South Dakota"
         },
         {
          "BERKSHIRE HATHAWAY GRP": 292357,
          "STATE TOTAL": 3769652,
          "State Farm policy premiums": 889329,
          "id": 47,
          "state": "Tennessee"
         },
         {
          "BERKSHIRE HATHAWAY GRP": 2127633,
          "STATE TOTAL": 19180816,
          "State Farm policy premiums": 3395165,
          "id": 48,
          "state": "Texas"
         },
         {
          "BERKSHIRE HATHAWAY GRP": 139315,
          "STATE TOTAL": 1723931,
          "State Farm policy premiums": 300403,
          "id": 49,
          "state": "Utah"
         },
         {
          "BERKSHIRE HATHAWAY GRP": 52939,
          "STATE TOTAL": 359996,
          "State Farm policy premiums": 30003,
          "id": 50,
          "state": "Vermont"
         },
         {
          "BERKSHIRE HATHAWAY GRP": 884489,
          "STATE TOTAL": 5105360,
          "State Farm policy premiums": 878312,
          "id": 51,
          "state": "Virginia"
         },
         {
          "BERKSHIRE HATHAWAY GRP": 478922,
          "STATE TOTAL": 4780616,
          "State Farm policy premiums": 794882,
          "id": 53,
          "state": "Washington"
         },
         {
          "BERKSHIRE HATHAWAY GRP": 110806,
          "STATE TOTAL": 1209872,
          "State Farm policy premiums": 323608,
          "id": 54,
          "state": "West Virginia"
         },
         {
          "BERKSHIRE HATHAWAY GRP": 131845,
          "STATE TOTAL": 2950711,
          "State Farm policy premiums": 443680,
          "id": 55,
          "state": "Wisconsin"
         },
         {
          "BERKSHIRE HATHAWAY GRP": 30187,
          "STATE TOTAL": 374169,
          "State Farm policy premiums": 90412,
          "id": 56,
          "state": "Wyoming"
         },
         {
          "BERKSHIRE HATHAWAY GRP": 0,
          "STATE TOTAL": 444480,
          "State Farm policy premiums": 0,
          "id": 72,
          "state": "Puerto Rico"
         }
        ]
       },
       "encoding": {
        "color": {
         "field": "State Farm policy premiums",
         "type": "quantitative"
        }
       },
       "height": 300,
       "mark": "geoshape",
       "projection": {
        "type": "albersUsa"
       },
       "transform": [
        {
         "from": {
          "data": {
           "name": "data-b615a17f98b0ca7d11f99dcf36616c5d"
          },
          "fields": [
           "State Farm policy premiums"
          ],
          "key": "id"
         },
         "lookup": "id"
        }
       ],
       "width": 500
      },
      "image/png": "[encoded data removed]",
      "text/plain": [
       "<VegaLite 2 object>\n",
       "\n",
       "If you see this message, it means the renderer has not been properly enabled\n",
       "for the frontend that you are using. For more information, see\n",
       "https://altair-viz.github.io/user_guide/troubleshooting.html\n"
      ]
     },
     "execution_count": 16,
     "metadata": {},
     "output_type": "execute_result"
    }
   ],
   "source": [
    "misleading.plot3()"
   ]
  },
  {
   "cell_type": "markdown",
   "metadata": {
    "colab_type": "text",
    "id": "ATUIBvKgpRZ_"
   },
   "source": [
    "#### Load the State Farm data"
   ]
  },
  {
   "cell_type": "code",
   "execution_count": 17,
   "metadata": {
    "colab": {},
    "colab_type": "code",
    "id": "BKFSf94aoziV"
   },
   "outputs": [],
   "source": [
    "# Based on https://altair-viz.github.io/gallery/choropleth_repeat.html\n",
    "url = 'https://raw.githubusercontent.com/LambdaSchool/DS-Unit-1-Sprint-3-Data-Storytelling/master/module2-choose-appropriate-visualizations/direct_written_premium_by_state_by_group_private_passenger_auto.csv'"
   ]
  },
  {
   "cell_type": "code",
   "execution_count": 18,
   "metadata": {
    "colab": {},
    "colab_type": "code",
    "id": "w7ab9p4xpiea"
   },
   "outputs": [],
   "source": [
    "df = pd.read_csv(url)\n",
    "\n",
    "df.rename(columns={'STATE FARM GRP': 'State Farm policy premiums'}, inplace=True)\n",
    "variable = 'State Farm policy premiums'"
   ]
  },
  {
   "cell_type": "markdown",
   "metadata": {
    "colab_type": "text",
    "id": "yC4HTzylpT__"
   },
   "source": [
    "#### Calculate market share percentage by state"
   ]
  },
  {
   "cell_type": "code",
   "execution_count": 19,
   "metadata": {
    "colab": {},
    "colab_type": "code",
    "id": "BKkfcfjLpooJ"
   },
   "outputs": [],
   "source": [
    "# df['State Farm policy premiums'] = revenue per state\n",
    "# df['STATE TOTAL'] = population of each state\n",
    "\n",
    "df['State Farm market share %'] = (\n",
    "    df['State Farm policy premiums'] / \n",
    "    df['STATE TOTAL'])"
   ]
  },
  {
   "cell_type": "markdown",
   "metadata": {
    "colab_type": "text",
    "id": "5Sw43VO5qW1c"
   },
   "source": [
    "#### And then map `State Farm market share %` instead of `State Farm policy premiums`"
   ]
  },
  {
   "cell_type": "code",
   "execution_count": 20,
   "metadata": {
    "colab": {
     "base_uri": "https://localhost:8080/",
     "height": 351
    },
    "colab_type": "code",
    "id": "vUC-dA30qdgi",
    "outputId": "196cf8ca-e470-4ee3-dcb2-809f6d20de1c"
   },
   "outputs": [
    {
     "data": {
      "application/vnd.vegalite.v2+json": {
       "$schema": "https://vega.github.io/schema/vega-lite/v2.6.0.json",
       "config": {
        "view": {
         "height": 300,
         "width": 400
        }
       },
       "data": {
        "format": {
         "feature": "states",
         "type": "topojson"
        },
        "url": "https://vega.github.io/vega-datasets/data/us-10m.json"
       },
       "datasets": {
        "data-d9e3a8993215d131b3b671a2164b42c1": [
         {
          "BERKSHIRE HATHAWAY GRP": 282947,
          "STATE TOTAL": 3025561,
          "State Farm market share %": 0.2539076224210981,
          "State Farm policy premiums": 768213,
          "id": 1,
          "state": "Alabama"
         },
         {
          "BERKSHIRE HATHAWAY GRP": 81366,
          "STATE TOTAL": 454623,
          "State Farm market share %": 0.28290033720247326,
          "State Farm policy premiums": 128613,
          "id": 2,
          "state": "Alaska"
         },
         {
          "BERKSHIRE HATHAWAY GRP": 604049,
          "STATE TOTAL": 4373055,
          "State Farm market share %": 0.1737922344905335,
          "State Farm policy premiums": 760003,
          "id": 4,
          "state": "Arizona"
         },
         {
          "BERKSHIRE HATHAWAY GRP": 96908,
          "STATE TOTAL": 1777917,
          "State Farm market share %": 0.25587864900329993,
          "State Farm policy premiums": 454931,
          "id": 5,
          "state": "Arkansas"
         },
         {
          "BERKSHIRE HATHAWAY GRP": 2091720,
          "STATE TOTAL": 25255501,
          "State Farm market share %": 0.14473927878128412,
          "State Farm policy premiums": 3655463,
          "id": 6,
          "state": "California"
         },
         {
          "BERKSHIRE HATHAWAY GRP": 365797,
          "STATE TOTAL": 4057463,
          "State Farm market share %": 0.20385718859297053,
          "State Farm policy premiums": 827143,
          "id": 8,
          "state": "Colorado"
         },
         {
          "BERKSHIRE HATHAWAY GRP": 486498,
          "STATE TOTAL": 2795415,
          "State Farm market share %": 0.06073266402305203,
          "State Farm policy premiums": 169773,
          "id": 9,
          "state": "Connecticut"
         },
         {
          "BERKSHIRE HATHAWAY GRP": 129033,
          "STATE TOTAL": 802005,
          "State Farm market share %": 0.23855088185235754,
          "State Farm policy premiums": 191319,
          "id": 10,
          "state": "Delaware"
         },
         {
          "BERKSHIRE HATHAWAY GRP": 115149,
          "STATE TOTAL": 325239,
          "State Farm market share %": 0.20671260211721226,
          "State Farm policy premiums": 67231,
          "id": 11,
          "state": "District of Columbia"
         },
         {
          "BERKSHIRE HATHAWAY GRP": 3952147,
          "STATE TOTAL": 17333354,
          "State Farm market share %": 0.16190299926950086,
          "State Farm policy premiums": 2806322,
          "id": 12,
          "state": "Florida"
         },
         {
          "BERKSHIRE HATHAWAY GRP": 821326,
          "STATE TOTAL": 7571988,
          "State Farm market share %": 0.23259730469726048,
          "State Farm policy premiums": 1761224,
          "id": 13,
          "state": "Georgia"
         },
         {
          "BERKSHIRE HATHAWAY GRP": 184743,
          "STATE TOTAL": 722550,
          "State Farm market share %": 0.18475953221230365,
          "State Farm policy premiums": 133498,
          "id": 15,
          "state": "Hawaii"
         },
         {
          "BERKSHIRE HATHAWAY GRP": 87222,
          "STATE TOTAL": 863636,
          "State Farm market share %": 0.15123616894154482,
          "State Farm policy premiums": 130613,
          "id": 16,
          "state": "Idaho"
         },
         {
          "BERKSHIRE HATHAWAY GRP": 412978,
          "STATE TOTAL": 7028885,
          "State Farm market share %": 0.32103854309751834,
          "State Farm policy premiums": 2256543,
          "id": 17,
          "state": "Illinois"
         },
         {
          "BERKSHIRE HATHAWAY GRP": 201200,
          "STATE TOTAL": 3506499,
          "State Farm market share %": 0.245653000328818,
          "State Farm policy premiums": 861382,
          "id": 18,
          "state": "Indiana"
         },
         {
          "BERKSHIRE HATHAWAY GRP": 58105,
          "STATE TOTAL": 1650388,
          "State Farm market share %": 0.22352198392135667,
          "State Farm policy premiums": 368898,
          "id": 19,
          "state": "Iowa"
         },
         {
          "BERKSHIRE HATHAWAY GRP": 76533,
          "STATE TOTAL": 1725608,
          "State Farm market share %": 0.20360533794465488,
          "State Farm policy premiums": 351343,
          "id": 20,
          "state": "Kansas"
         },
         {
          "BERKSHIRE HATHAWAY GRP": 186915,
          "STATE TOTAL": 2805864,
          "State Farm market share %": 0.24250391323314316,
          "State Farm policy premiums": 680433,
          "id": 21,
          "state": "Kentucky"
         },
         {
          "BERKSHIRE HATHAWAY GRP": 369492,
          "STATE TOTAL": 4136224,
          "State Farm market share %": 0.34233639183951353,
          "State Farm policy premiums": 1415980,
          "id": 22,
          "state": "Louisiana"
         },
         {
          "BERKSHIRE HATHAWAY GRP": 68109,
          "STATE TOTAL": 699558,
          "State Farm market share %": 0.1445355495898839,
          "State Farm policy premiums": 101111,
          "id": 23,
          "state": "Maine"
         },
         {
          "BERKSHIRE HATHAWAY GRP": 1059508,
          "STATE TOTAL": 4554586,
          "State Farm market share %": 0.19395857274404305,
          "State Farm policy premiums": 883401,
          "id": 24,
          "state": "Maryland"
         },
         {
          "BERKSHIRE HATHAWAY GRP": 473913,
          "STATE TOTAL": 4924736,
          "State Farm market share %": 0,
          "State Farm policy premiums": 0,
          "id": 25,
          "state": "Massachusetts"
         },
         {
          "BERKSHIRE HATHAWAY GRP": 0,
          "STATE TOTAL": 8462142,
          "State Farm market share %": 0.18676098793898754,
          "State Farm policy premiums": 1580398,
          "id": 26,
          "state": "Michigan"
         },
         {
          "BERKSHIRE HATHAWAY GRP": 108942,
          "STATE TOTAL": 3412460,
          "State Farm market share %": 0.24965567361961752,
          "State Farm policy premiums": 851940,
          "id": 27,
          "state": "Minnesota"
         },
         {
          "BERKSHIRE HATHAWAY GRP": 100827,
          "STATE TOTAL": 1760180,
          "State Farm market share %": 0.2658177004624527,
          "State Farm policy premiums": 467887,
          "id": 28,
          "state": "Mississippi"
         },
         {
          "BERKSHIRE HATHAWAY GRP": 214191,
          "STATE TOTAL": 3606590,
          "State Farm market share %": 0.24504421073645744,
          "State Farm policy premiums": 883774,
          "id": 29,
          "state": "Missouri"
         },
         {
          "BERKSHIRE HATHAWAY GRP": 33538,
          "STATE TOTAL": 668513,
          "State Farm market share %": 0.23457434634778979,
          "State Farm policy premiums": 156816,
          "id": 30,
          "state": "Montana"
         },
         {
          "BERKSHIRE HATHAWAY GRP": 61046,
          "STATE TOTAL": 1167135,
          "State Farm market share %": 0.2345289962172328,
          "State Farm policy premiums": 273727,
          "id": 31,
          "state": "Nebraska"
         },
         {
          "BERKSHIRE HATHAWAY GRP": 262815,
          "STATE TOTAL": 2129828,
          "State Farm market share %": 0.19000970970425782,
          "State Farm policy premiums": 404688,
          "id": 32,
          "state": "Nevada"
         },
         {
          "BERKSHIRE HATHAWAY GRP": 103403,
          "STATE TOTAL": 806545,
          "State Farm market share %": 0.12812676292085376,
          "State Farm policy premiums": 103340,
          "id": 33,
          "state": "New Hampshire"
         },
         {
          "BERKSHIRE HATHAWAY GRP": 1441019,
          "STATE TOTAL": 7375823,
          "State Farm market share %": 0.08400730332059216,
          "State Farm policy premiums": 619623,
          "id": 34,
          "state": "New Jersey"
         },
         {
          "BERKSHIRE HATHAWAY GRP": 174865,
          "STATE TOTAL": 1284430,
          "State Farm market share %": 0.2039208053377763,
          "State Farm policy premiums": 261922,
          "id": 35,
          "state": "New Mexico"
         },
         {
          "BERKSHIRE HATHAWAY GRP": 3926684,
          "STATE TOTAL": 12633982,
          "State Farm market share %": 0.131918266149184,
          "State Farm policy premiums": 1666653,
          "id": 36,
          "state": "New York"
         },
         {
          "BERKSHIRE HATHAWAY GRP": 560700,
          "STATE TOTAL": 5543700,
          "State Farm market share %": 0.15195050237206198,
          "State Farm policy premiums": 842368,
          "id": 37,
          "state": "North Carolina"
         },
         {
          "BERKSHIRE HATHAWAY GRP": 15516,
          "STATE TOTAL": 454376,
          "State Farm market share %": 0.14807560258464356,
          "State Farm policy premiums": 67282,
          "id": 38,
          "state": "North Dakota"
         },
         {
          "BERKSHIRE HATHAWAY GRP": 405652,
          "STATE TOTAL": 6303148,
          "State Farm market share %": 0.19673899454685181,
          "State Farm policy premiums": 1240075,
          "id": 39,
          "state": "Ohio"
         },
         {
          "BERKSHIRE HATHAWAY GRP": 151388,
          "STATE TOTAL": 2515842,
          "State Farm market share %": 0.2528231105132993,
          "State Farm policy premiums": 636063,
          "id": 40,
          "state": "Oklahoma"
         },
         {
          "BERKSHIRE HATHAWAY GRP": 223187,
          "STATE TOTAL": 2647434,
          "State Farm market share %": 0.21319360558185776,
          "State Farm policy premiums": 564416,
          "id": 41,
          "state": "Oregon"
         },
         {
          "BERKSHIRE HATHAWAY GRP": 602848,
          "STATE TOTAL": 8270326,
          "State Farm market share %": 0.20005595910004031,
          "State Farm policy premiums": 1654528,
          "id": 42,
          "state": "Pennsylvania"
         },
         {
          "BERKSHIRE HATHAWAY GRP": 97597,
          "STATE TOTAL": 867558,
          "State Farm market share %": 0,
          "State Farm policy premiums": 0,
          "id": 44,
          "state": "Rhode Island"
         },
         {
          "BERKSHIRE HATHAWAY GRP": 426033,
          "STATE TOTAL": 3583918,
          "State Farm market share %": 0.24398884126255121,
          "State Farm policy premiums": 874436,
          "id": 45,
          "state": "South Carolina"
         },
         {
          "BERKSHIRE HATHAWAY GRP": 15682,
          "STATE TOTAL": 508569,
          "State Farm market share %": 0.20038972096215066,
          "State Farm policy premiums": 101912,
          "id": 46,
          "state": "South Dakota"
         },
         {
          "BERKSHIRE HATHAWAY GRP": 292357,
          "STATE TOTAL": 3769652,
          "State Farm market share %": 0.23591806352416617,
          "State Farm policy premiums": 889329,
          "id": 47,
          "state": "Tennessee"
         },
         {
          "BERKSHIRE HATHAWAY GRP": 2127633,
          "STATE TOTAL": 19180816,
          "State Farm market share %": 0.17700837128097158,
          "State Farm policy premiums": 3395165,
          "id": 48,
          "state": "Texas"
         },
         {
          "BERKSHIRE HATHAWAY GRP": 139315,
          "STATE TOTAL": 1723931,
          "State Farm market share %": 0.17425465404357832,
          "State Farm policy premiums": 300403,
          "id": 49,
          "state": "Utah"
         },
         {
          "BERKSHIRE HATHAWAY GRP": 52939,
          "STATE TOTAL": 359996,
          "State Farm market share %": 0.0833425926954744,
          "State Farm policy premiums": 30003,
          "id": 50,
          "state": "Vermont"
         },
         {
          "BERKSHIRE HATHAWAY GRP": 884489,
          "STATE TOTAL": 5105360,
          "State Farm market share %": 0.17203723145870223,
          "State Farm policy premiums": 878312,
          "id": 51,
          "state": "Virginia"
         },
         {
          "BERKSHIRE HATHAWAY GRP": 478922,
          "STATE TOTAL": 4780616,
          "State Farm market share %": 0.16627187793372236,
          "State Farm policy premiums": 794882,
          "id": 53,
          "state": "Washington"
         },
         {
          "BERKSHIRE HATHAWAY GRP": 110806,
          "STATE TOTAL": 1209872,
          "State Farm market share %": 0.267472922755465,
          "State Farm policy premiums": 323608,
          "id": 54,
          "state": "West Virginia"
         },
         {
          "BERKSHIRE HATHAWAY GRP": 131845,
          "STATE TOTAL": 2950711,
          "State Farm market share %": 0.15036375978535343,
          "State Farm policy premiums": 443680,
          "id": 55,
          "state": "Wisconsin"
         },
         {
          "BERKSHIRE HATHAWAY GRP": 30187,
          "STATE TOTAL": 374169,
          "State Farm market share %": 0.24163412789407995,
          "State Farm policy premiums": 90412,
          "id": 56,
          "state": "Wyoming"
         },
         {
          "BERKSHIRE HATHAWAY GRP": 0,
          "STATE TOTAL": 444480,
          "State Farm market share %": 0,
          "State Farm policy premiums": 0,
          "id": 72,
          "state": "Puerto Rico"
         }
        ]
       },
       "encoding": {
        "color": {
         "field": "State Farm market share %",
         "type": "quantitative"
        }
       },
       "height": 300,
       "mark": "geoshape",
       "projection": {
        "type": "albersUsa"
       },
       "transform": [
        {
         "from": {
          "data": {
           "name": "data-d9e3a8993215d131b3b671a2164b42c1"
          },
          "fields": [
           "State Farm market share %"
          ],
          "key": "id"
         },
         "lookup": "id"
        }
       ],
       "width": 500
      },
      "image/png": "[encoded data removed]",
      "text/plain": [
       "<VegaLite 2 object>\n",
       "\n",
       "If you see this message, it means the renderer has not been properly enabled\n",
       "for the frontend that you are using. For more information, see\n",
       "https://altair-viz.github.io/user_guide/troubleshooting.html\n"
      ]
     },
     "execution_count": 20,
     "metadata": {},
     "output_type": "execute_result"
    }
   ],
   "source": [
    "variable = 'State Farm market share %'\n",
    "\n",
    "states = alt.topo_feature(data.us_10m.url, 'states')\n",
    "\n",
    "alt.Chart(states).mark_geoshape().encode(\n",
    "    alt.Color(variable, type='quantitative')\n",
    ").transform_lookup(\n",
    "    lookup='id',\n",
    "    from_=alt.LookupData(df, 'id', [variable])\n",
    ").properties(\n",
    "    width=500,\n",
    "    height=300\n",
    ").project(\n",
    "    type='albersUsa'\n",
    ")"
   ]
  },
  {
   "cell_type": "markdown",
   "metadata": {
    "colab_type": "text",
    "id": "7NfsPKUtlja3"
   },
   "source": [
    "# Use Seaborn to visualize distributions and relationships with continuous and discrete variables"
   ]
  },
  {
   "cell_type": "markdown",
   "metadata": {
    "colab_type": "text",
    "id": "DMX07pfHlja4"
   },
   "source": [
    "## 1. Anscombe dataset"
   ]
  },
  {
   "cell_type": "markdown",
   "metadata": {
    "colab_type": "text",
    "id": "ohuKP3Y2lja5"
   },
   "source": [
    "### Load dataset"
   ]
  },
  {
   "cell_type": "code",
   "execution_count": 21,
   "metadata": {
    "colab": {},
    "colab_type": "code",
    "id": "lhNEdJTslja6"
   },
   "outputs": [],
   "source": [
    "df = sns.load_dataset('anscombe')"
   ]
  },
  {
   "cell_type": "markdown",
   "metadata": {
    "colab_type": "text",
    "id": "wGpkAGL9lja9"
   },
   "source": [
    "### See the data's shape"
   ]
  },
  {
   "cell_type": "code",
   "execution_count": 22,
   "metadata": {
    "colab": {
     "base_uri": "https://localhost:8080/",
     "height": 35
    },
    "colab_type": "code",
    "id": "UJgOVrMdlja_",
    "outputId": "9f5fe6e7-5528-4b8b-b47d-1fbe64c97df5"
   },
   "outputs": [
    {
     "data": {
      "text/plain": [
       "(44, 3)"
      ]
     },
     "execution_count": 22,
     "metadata": {},
     "output_type": "execute_result"
    }
   ],
   "source": [
    "df.shape"
   ]
  },
  {
   "cell_type": "markdown",
   "metadata": {
    "colab_type": "text",
    "id": "uwhNkUorljbC"
   },
   "source": [
    "### See the data"
   ]
  },
  {
   "cell_type": "code",
   "execution_count": 23,
   "metadata": {
    "colab": {},
    "colab_type": "code",
    "id": "f6VT5CbUljbD"
   },
   "outputs": [
    {
     "data": {
      "text/html": [
       "<div>\n",
       "<style scoped>\n",
       "    .dataframe tbody tr th:only-of-type {\n",
       "        vertical-align: middle;\n",
       "    }\n",
       "\n",
       "    .dataframe tbody tr th {\n",
       "        vertical-align: top;\n",
       "    }\n",
       "\n",
       "    .dataframe thead th {\n",
       "        text-align: right;\n",
       "    }\n",
       "</style>\n",
       "<table border=\"1\" class=\"dataframe\">\n",
       "  <thead>\n",
       "    <tr style=\"text-align: right;\">\n",
       "      <th></th>\n",
       "      <th>dataset</th>\n",
       "      <th>x</th>\n",
       "      <th>y</th>\n",
       "    </tr>\n",
       "  </thead>\n",
       "  <tbody>\n",
       "    <tr>\n",
       "      <th>0</th>\n",
       "      <td>I</td>\n",
       "      <td>10.0</td>\n",
       "      <td>8.04</td>\n",
       "    </tr>\n",
       "    <tr>\n",
       "      <th>1</th>\n",
       "      <td>I</td>\n",
       "      <td>8.0</td>\n",
       "      <td>6.95</td>\n",
       "    </tr>\n",
       "    <tr>\n",
       "      <th>2</th>\n",
       "      <td>I</td>\n",
       "      <td>13.0</td>\n",
       "      <td>7.58</td>\n",
       "    </tr>\n",
       "    <tr>\n",
       "      <th>3</th>\n",
       "      <td>I</td>\n",
       "      <td>9.0</td>\n",
       "      <td>8.81</td>\n",
       "    </tr>\n",
       "    <tr>\n",
       "      <th>4</th>\n",
       "      <td>I</td>\n",
       "      <td>11.0</td>\n",
       "      <td>8.33</td>\n",
       "    </tr>\n",
       "  </tbody>\n",
       "</table>\n",
       "</div>"
      ],
      "text/plain": [
       "  dataset     x     y\n",
       "0       I  10.0  8.04\n",
       "1       I   8.0  6.95\n",
       "2       I  13.0  7.58\n",
       "3       I   9.0  8.81\n",
       "4       I  11.0  8.33"
      ]
     },
     "execution_count": 23,
     "metadata": {},
     "output_type": "execute_result"
    }
   ],
   "source": [
    "df.head()"
   ]
  },
  {
   "cell_type": "markdown",
   "metadata": {
    "colab_type": "text",
    "id": "yxMSGXfmljbE"
   },
   "source": [
    "### [Group by](https://pandas.pydata.org/pandas-docs/stable/generated/pandas.DataFrame.groupby.html) `'dataset'`"
   ]
  },
  {
   "cell_type": "code",
   "execution_count": 24,
   "metadata": {
    "colab": {},
    "colab_type": "code",
    "id": "Kqb2C6OnljbG"
   },
   "outputs": [],
   "source": [
    "df_group = df.groupby('dataset')"
   ]
  },
  {
   "cell_type": "markdown",
   "metadata": {
    "colab_type": "text",
    "id": "XE_VL_G5ljbI"
   },
   "source": [
    "### [Describe](https://pandas.pydata.org/pandas-docs/stable/generated/pandas.DataFrame.describe.html) the groups"
   ]
  },
  {
   "cell_type": "code",
   "execution_count": 25,
   "metadata": {
    "colab": {},
    "colab_type": "code",
    "id": "3owo8EHvljbJ"
   },
   "outputs": [
    {
     "data": {
      "text/html": [
       "<div>\n",
       "<style scoped>\n",
       "    .dataframe tbody tr th:only-of-type {\n",
       "        vertical-align: middle;\n",
       "    }\n",
       "\n",
       "    .dataframe tbody tr th {\n",
       "        vertical-align: top;\n",
       "    }\n",
       "\n",
       "    .dataframe thead th {\n",
       "        text-align: right;\n",
       "    }\n",
       "</style>\n",
       "<table border=\"1\" class=\"dataframe\">\n",
       "  <thead>\n",
       "    <tr style=\"text-align: right;\">\n",
       "      <th></th>\n",
       "      <th>x</th>\n",
       "      <th>y</th>\n",
       "    </tr>\n",
       "  </thead>\n",
       "  <tbody>\n",
       "    <tr>\n",
       "      <th>count</th>\n",
       "      <td>44.000000</td>\n",
       "      <td>44.000000</td>\n",
       "    </tr>\n",
       "    <tr>\n",
       "      <th>mean</th>\n",
       "      <td>9.000000</td>\n",
       "      <td>7.500682</td>\n",
       "    </tr>\n",
       "    <tr>\n",
       "      <th>std</th>\n",
       "      <td>3.198837</td>\n",
       "      <td>1.958925</td>\n",
       "    </tr>\n",
       "    <tr>\n",
       "      <th>min</th>\n",
       "      <td>4.000000</td>\n",
       "      <td>3.100000</td>\n",
       "    </tr>\n",
       "    <tr>\n",
       "      <th>25%</th>\n",
       "      <td>7.000000</td>\n",
       "      <td>6.117500</td>\n",
       "    </tr>\n",
       "    <tr>\n",
       "      <th>50%</th>\n",
       "      <td>8.000000</td>\n",
       "      <td>7.520000</td>\n",
       "    </tr>\n",
       "    <tr>\n",
       "      <th>75%</th>\n",
       "      <td>11.000000</td>\n",
       "      <td>8.747500</td>\n",
       "    </tr>\n",
       "    <tr>\n",
       "      <th>max</th>\n",
       "      <td>19.000000</td>\n",
       "      <td>12.740000</td>\n",
       "    </tr>\n",
       "  </tbody>\n",
       "</table>\n",
       "</div>"
      ],
      "text/plain": [
       "               x          y\n",
       "count  44.000000  44.000000\n",
       "mean    9.000000   7.500682\n",
       "std     3.198837   1.958925\n",
       "min     4.000000   3.100000\n",
       "25%     7.000000   6.117500\n",
       "50%     8.000000   7.520000\n",
       "75%    11.000000   8.747500\n",
       "max    19.000000  12.740000"
      ]
     },
     "execution_count": 25,
     "metadata": {},
     "output_type": "execute_result"
    }
   ],
   "source": [
    "df.describe()"
   ]
  },
  {
   "cell_type": "markdown",
   "metadata": {
    "colab_type": "text",
    "id": "VBjKXp0rljbK"
   },
   "source": [
    "### Get the [count](https://pandas.pydata.org/pandas-docs/stable/generated/pandas.DataFrame.count.html), for each column in each group"
   ]
  },
  {
   "cell_type": "code",
   "execution_count": 26,
   "metadata": {
    "colab": {},
    "colab_type": "code",
    "id": "4ruK188dljbL"
   },
   "outputs": [
    {
     "data": {
      "text/html": [
       "<div>\n",
       "<style scoped>\n",
       "    .dataframe tbody tr th:only-of-type {\n",
       "        vertical-align: middle;\n",
       "    }\n",
       "\n",
       "    .dataframe tbody tr th {\n",
       "        vertical-align: top;\n",
       "    }\n",
       "\n",
       "    .dataframe thead th {\n",
       "        text-align: right;\n",
       "    }\n",
       "</style>\n",
       "<table border=\"1\" class=\"dataframe\">\n",
       "  <thead>\n",
       "    <tr style=\"text-align: right;\">\n",
       "      <th></th>\n",
       "      <th>x</th>\n",
       "      <th>y</th>\n",
       "    </tr>\n",
       "    <tr>\n",
       "      <th>dataset</th>\n",
       "      <th></th>\n",
       "      <th></th>\n",
       "    </tr>\n",
       "  </thead>\n",
       "  <tbody>\n",
       "    <tr>\n",
       "      <th>I</th>\n",
       "      <td>11</td>\n",
       "      <td>11</td>\n",
       "    </tr>\n",
       "    <tr>\n",
       "      <th>II</th>\n",
       "      <td>11</td>\n",
       "      <td>11</td>\n",
       "    </tr>\n",
       "    <tr>\n",
       "      <th>III</th>\n",
       "      <td>11</td>\n",
       "      <td>11</td>\n",
       "    </tr>\n",
       "    <tr>\n",
       "      <th>IV</th>\n",
       "      <td>11</td>\n",
       "      <td>11</td>\n",
       "    </tr>\n",
       "  </tbody>\n",
       "</table>\n",
       "</div>"
      ],
      "text/plain": [
       "          x   y\n",
       "dataset        \n",
       "I        11  11\n",
       "II       11  11\n",
       "III      11  11\n",
       "IV       11  11"
      ]
     },
     "execution_count": 26,
     "metadata": {},
     "output_type": "execute_result"
    }
   ],
   "source": [
    "df_group.count()"
   ]
  },
  {
   "cell_type": "markdown",
   "metadata": {
    "colab_type": "text",
    "id": "Ooh4iR8gljbN"
   },
   "source": [
    "### Get the [mean](https://pandas.pydata.org/pandas-docs/stable/generated/pandas.DataFrame.mean.html) ..."
   ]
  },
  {
   "cell_type": "code",
   "execution_count": 27,
   "metadata": {
    "colab": {},
    "colab_type": "code",
    "id": "VHz1_kJNljbN"
   },
   "outputs": [
    {
     "data": {
      "text/plain": [
       "x    9.000000\n",
       "y    7.500682\n",
       "Name: mean, dtype: float64"
      ]
     },
     "execution_count": 27,
     "metadata": {},
     "output_type": "execute_result"
    }
   ],
   "source": [
    "df.describe().loc['mean']"
   ]
  },
  {
   "cell_type": "markdown",
   "metadata": {
    "colab_type": "text",
    "id": "KDpAl2z8ljbQ"
   },
   "source": [
    "### Get the [standard deviation](https://pandas.pydata.org/pandas-docs/stable/generated/pandas.DataFrame.std.html) ..."
   ]
  },
  {
   "cell_type": "code",
   "execution_count": 28,
   "metadata": {
    "colab": {},
    "colab_type": "code",
    "id": "H8sPCA70ljbQ"
   },
   "outputs": [
    {
     "data": {
      "text/plain": [
       "x    3.198837\n",
       "y    1.958925\n",
       "Name: std, dtype: float64"
      ]
     },
     "execution_count": 28,
     "metadata": {},
     "output_type": "execute_result"
    }
   ],
   "source": [
    "df.describe().loc['std']"
   ]
  },
  {
   "cell_type": "markdown",
   "metadata": {
    "colab_type": "text",
    "id": "8_J0sQ3zljbS"
   },
   "source": [
    "### Get the [correlation](https://pandas.pydata.org/pandas-docs/stable/generated/pandas.DataFrame.corr.html) ..."
   ]
  },
  {
   "cell_type": "code",
   "execution_count": 29,
   "metadata": {
    "colab": {},
    "colab_type": "code",
    "id": "oVaXOEutljbS"
   },
   "outputs": [
    {
     "data": {
      "text/html": [
       "<div>\n",
       "<style scoped>\n",
       "    .dataframe tbody tr th:only-of-type {\n",
       "        vertical-align: middle;\n",
       "    }\n",
       "\n",
       "    .dataframe tbody tr th {\n",
       "        vertical-align: top;\n",
       "    }\n",
       "\n",
       "    .dataframe thead th {\n",
       "        text-align: right;\n",
       "    }\n",
       "</style>\n",
       "<table border=\"1\" class=\"dataframe\">\n",
       "  <thead>\n",
       "    <tr style=\"text-align: right;\">\n",
       "      <th></th>\n",
       "      <th>x</th>\n",
       "      <th>y</th>\n",
       "    </tr>\n",
       "  </thead>\n",
       "  <tbody>\n",
       "    <tr>\n",
       "      <th>x</th>\n",
       "      <td>1.000000</td>\n",
       "      <td>0.816366</td>\n",
       "    </tr>\n",
       "    <tr>\n",
       "      <th>y</th>\n",
       "      <td>0.816366</td>\n",
       "      <td>1.000000</td>\n",
       "    </tr>\n",
       "  </tbody>\n",
       "</table>\n",
       "</div>"
      ],
      "text/plain": [
       "          x         y\n",
       "x  1.000000  0.816366\n",
       "y  0.816366  1.000000"
      ]
     },
     "execution_count": 29,
     "metadata": {},
     "output_type": "execute_result"
    }
   ],
   "source": [
    "df.corr()"
   ]
  },
  {
   "cell_type": "markdown",
   "metadata": {
    "colab_type": "text",
    "id": "wev2eLSsljbU"
   },
   "source": [
    "### Use pandas to [plot](https://pandas.pydata.org/pandas-docs/stable/generated/pandas.DataFrame.plot.html) the groups, as scatter plots"
   ]
  },
  {
   "cell_type": "code",
   "execution_count": 47,
   "metadata": {
    "colab": {},
    "colab_type": "code",
    "id": "OV8_BNakljbV"
   },
   "outputs": [
    {
     "data": {
      "image/png": "[encoded data removed]",
      "text/plain": [
       "<Figure size 432x288 with 1 Axes>"
      ]
     },
     "metadata": {
      "needs_background": "light"
     },
     "output_type": "display_data"
    },
    {
     "data": {
      "image/png": "[encoded data removed]",
      "text/plain": [
       "<Figure size 432x288 with 1 Axes>"
      ]
     },
     "metadata": {
      "needs_background": "light"
     },
     "output_type": "display_data"
    },
    {
     "data": {
      "image/png": "[encoded data removed]",
      "text/plain": [
       "<Figure size 432x288 with 1 Axes>"
      ]
     },
     "metadata": {
      "needs_background": "light"
     },
     "output_type": "display_data"
    },
    {
     "data": {
      "image/png": "[encoded data removed]",
      "text/plain": [
       "<Figure size 432x288 with 1 Axes>"
      ]
     },
     "metadata": {
      "needs_background": "light"
     },
     "output_type": "display_data"
    }
   ],
   "source": [
    "df_group.plot('x', 'y', kind='scatter');"
   ]
  },
  {
   "cell_type": "markdown",
   "metadata": {
    "colab_type": "text",
    "id": "aIZK7t3QljbX"
   },
   "source": [
    "### Use Seaborn to make [relational plots](http://seaborn.pydata.org/generated/seaborn.relplot.html)"
   ]
  },
  {
   "cell_type": "code",
   "execution_count": 31,
   "metadata": {
    "colab": {},
    "colab_type": "code",
    "id": "VYwZwT85tggM"
   },
   "outputs": [
    {
     "data": {
      "text/plain": [
       "<seaborn.axisgrid.FacetGrid at 0x7f124490b710>"
      ]
     },
     "execution_count": 31,
     "metadata": {},
     "output_type": "execute_result"
    },
    {
     "data": {
      "image/png": "[encoded data removed]",
      "text/plain": [
       "<Figure size 720x720 with 4 Axes>"
      ]
     },
     "metadata": {
      "needs_background": "light"
     },
     "output_type": "display_data"
    }
   ],
   "source": [
    "sns.relplot('x', 'y', col='dataset', data=df, col_wrap=2)"
   ]
  },
  {
   "cell_type": "markdown",
   "metadata": {
    "colab_type": "text",
    "id": "7pC0xmYRljbZ"
   },
   "source": [
    "### Use Seaborn to make [linear model plots](http://seaborn.pydata.org/generated/seaborn.lmplot.html)"
   ]
  },
  {
   "cell_type": "code",
   "execution_count": 48,
   "metadata": {
    "colab": {},
    "colab_type": "code",
    "id": "q0OUr1XytwG9"
   },
   "outputs": [
    {
     "data": {
      "image/png": "[encoded data removed]",
      "text/plain": [
       "<Figure size 720x720 with 4 Axes>"
      ]
     },
     "metadata": {
      "needs_background": "light"
     },
     "output_type": "display_data"
    }
   ],
   "source": [
    "sns.lmplot('x', 'y', col='dataset', hue='dataset', col_wrap=2, ci=None, data=df);"
   ]
  },
  {
   "cell_type": "markdown",
   "metadata": {
    "colab_type": "text",
    "id": "Cn-xMBPcljbc"
   },
   "source": [
    "#### Links\n",
    "- [Seaborn examples: Anscombe's quartet](http://seaborn.pydata.org/examples/anscombes_quartet.html)\n",
    "- [Wikipedia: Anscombe's quartet](https://en.wikipedia.org/wiki/Anscombe%27s_quartet)\n",
    "- [The Datasaurus Dozen](https://www.autodeskresearch.com/publications/samestats)"
   ]
  },
  {
   "cell_type": "markdown",
   "metadata": {
    "colab_type": "text",
    "id": "5vhSX9VJljbc"
   },
   "source": [
    "## 2. Tips dataset"
   ]
  },
  {
   "cell_type": "markdown",
   "metadata": {
    "colab_type": "text",
    "id": "tZrTgYtoljbc"
   },
   "source": [
    "### Load dataset"
   ]
  },
  {
   "cell_type": "code",
   "execution_count": 37,
   "metadata": {
    "colab": {},
    "colab_type": "code",
    "id": "Ms3dbDMRljbd"
   },
   "outputs": [],
   "source": [
    "tips = sns.load_dataset('tips')"
   ]
  },
  {
   "cell_type": "markdown",
   "metadata": {
    "colab_type": "text",
    "id": "YsR7xrSVljbe"
   },
   "source": [
    "### See the data's shape"
   ]
  },
  {
   "cell_type": "code",
   "execution_count": 38,
   "metadata": {
    "colab": {},
    "colab_type": "code",
    "id": "vkd17Tv7ljbf"
   },
   "outputs": [
    {
     "data": {
      "text/plain": [
       "(244, 7)"
      ]
     },
     "execution_count": 38,
     "metadata": {},
     "output_type": "execute_result"
    }
   ],
   "source": [
    "tips.shape"
   ]
  },
  {
   "cell_type": "markdown",
   "metadata": {
    "colab_type": "text",
    "id": "gRlUBLZEljbg"
   },
   "source": [
    "### See the first 5 rows"
   ]
  },
  {
   "cell_type": "code",
   "execution_count": 39,
   "metadata": {
    "colab": {},
    "colab_type": "code",
    "id": "tSi2F9ZHljbg"
   },
   "outputs": [
    {
     "data": {
      "text/html": [
       "<div>\n",
       "<style scoped>\n",
       "    .dataframe tbody tr th:only-of-type {\n",
       "        vertical-align: middle;\n",
       "    }\n",
       "\n",
       "    .dataframe tbody tr th {\n",
       "        vertical-align: top;\n",
       "    }\n",
       "\n",
       "    .dataframe thead th {\n",
       "        text-align: right;\n",
       "    }\n",
       "</style>\n",
       "<table border=\"1\" class=\"dataframe\">\n",
       "  <thead>\n",
       "    <tr style=\"text-align: right;\">\n",
       "      <th></th>\n",
       "      <th>total_bill</th>\n",
       "      <th>tip</th>\n",
       "      <th>sex</th>\n",
       "      <th>smoker</th>\n",
       "      <th>day</th>\n",
       "      <th>time</th>\n",
       "      <th>size</th>\n",
       "    </tr>\n",
       "  </thead>\n",
       "  <tbody>\n",
       "    <tr>\n",
       "      <th>0</th>\n",
       "      <td>16.99</td>\n",
       "      <td>1.01</td>\n",
       "      <td>Female</td>\n",
       "      <td>No</td>\n",
       "      <td>Sun</td>\n",
       "      <td>Dinner</td>\n",
       "      <td>2</td>\n",
       "    </tr>\n",
       "    <tr>\n",
       "      <th>1</th>\n",
       "      <td>10.34</td>\n",
       "      <td>1.66</td>\n",
       "      <td>Male</td>\n",
       "      <td>No</td>\n",
       "      <td>Sun</td>\n",
       "      <td>Dinner</td>\n",
       "      <td>3</td>\n",
       "    </tr>\n",
       "    <tr>\n",
       "      <th>2</th>\n",
       "      <td>21.01</td>\n",
       "      <td>3.50</td>\n",
       "      <td>Male</td>\n",
       "      <td>No</td>\n",
       "      <td>Sun</td>\n",
       "      <td>Dinner</td>\n",
       "      <td>3</td>\n",
       "    </tr>\n",
       "    <tr>\n",
       "      <th>3</th>\n",
       "      <td>23.68</td>\n",
       "      <td>3.31</td>\n",
       "      <td>Male</td>\n",
       "      <td>No</td>\n",
       "      <td>Sun</td>\n",
       "      <td>Dinner</td>\n",
       "      <td>2</td>\n",
       "    </tr>\n",
       "    <tr>\n",
       "      <th>4</th>\n",
       "      <td>24.59</td>\n",
       "      <td>3.61</td>\n",
       "      <td>Female</td>\n",
       "      <td>No</td>\n",
       "      <td>Sun</td>\n",
       "      <td>Dinner</td>\n",
       "      <td>4</td>\n",
       "    </tr>\n",
       "  </tbody>\n",
       "</table>\n",
       "</div>"
      ],
      "text/plain": [
       "   total_bill   tip     sex smoker  day    time  size\n",
       "0       16.99  1.01  Female     No  Sun  Dinner     2\n",
       "1       10.34  1.66    Male     No  Sun  Dinner     3\n",
       "2       21.01  3.50    Male     No  Sun  Dinner     3\n",
       "3       23.68  3.31    Male     No  Sun  Dinner     2\n",
       "4       24.59  3.61  Female     No  Sun  Dinner     4"
      ]
     },
     "execution_count": 39,
     "metadata": {},
     "output_type": "execute_result"
    }
   ],
   "source": [
    "tips.head()"
   ]
  },
  {
   "cell_type": "markdown",
   "metadata": {
    "colab_type": "text",
    "id": "sdGGrpdsljbi"
   },
   "source": [
    "### Describe the data"
   ]
  },
  {
   "cell_type": "code",
   "execution_count": 40,
   "metadata": {
    "colab": {},
    "colab_type": "code",
    "id": "NvwPj20Qljbi"
   },
   "outputs": [
    {
     "data": {
      "text/html": [
       "<div>\n",
       "<style scoped>\n",
       "    .dataframe tbody tr th:only-of-type {\n",
       "        vertical-align: middle;\n",
       "    }\n",
       "\n",
       "    .dataframe tbody tr th {\n",
       "        vertical-align: top;\n",
       "    }\n",
       "\n",
       "    .dataframe thead th {\n",
       "        text-align: right;\n",
       "    }\n",
       "</style>\n",
       "<table border=\"1\" class=\"dataframe\">\n",
       "  <thead>\n",
       "    <tr style=\"text-align: right;\">\n",
       "      <th></th>\n",
       "      <th>total_bill</th>\n",
       "      <th>tip</th>\n",
       "      <th>size</th>\n",
       "    </tr>\n",
       "  </thead>\n",
       "  <tbody>\n",
       "    <tr>\n",
       "      <th>count</th>\n",
       "      <td>244.000000</td>\n",
       "      <td>244.000000</td>\n",
       "      <td>244.000000</td>\n",
       "    </tr>\n",
       "    <tr>\n",
       "      <th>mean</th>\n",
       "      <td>19.785943</td>\n",
       "      <td>2.998279</td>\n",
       "      <td>2.569672</td>\n",
       "    </tr>\n",
       "    <tr>\n",
       "      <th>std</th>\n",
       "      <td>8.902412</td>\n",
       "      <td>1.383638</td>\n",
       "      <td>0.951100</td>\n",
       "    </tr>\n",
       "    <tr>\n",
       "      <th>min</th>\n",
       "      <td>3.070000</td>\n",
       "      <td>1.000000</td>\n",
       "      <td>1.000000</td>\n",
       "    </tr>\n",
       "    <tr>\n",
       "      <th>25%</th>\n",
       "      <td>13.347500</td>\n",
       "      <td>2.000000</td>\n",
       "      <td>2.000000</td>\n",
       "    </tr>\n",
       "    <tr>\n",
       "      <th>50%</th>\n",
       "      <td>17.795000</td>\n",
       "      <td>2.900000</td>\n",
       "      <td>2.000000</td>\n",
       "    </tr>\n",
       "    <tr>\n",
       "      <th>75%</th>\n",
       "      <td>24.127500</td>\n",
       "      <td>3.562500</td>\n",
       "      <td>3.000000</td>\n",
       "    </tr>\n",
       "    <tr>\n",
       "      <th>max</th>\n",
       "      <td>50.810000</td>\n",
       "      <td>10.000000</td>\n",
       "      <td>6.000000</td>\n",
       "    </tr>\n",
       "  </tbody>\n",
       "</table>\n",
       "</div>"
      ],
      "text/plain": [
       "       total_bill         tip        size\n",
       "count  244.000000  244.000000  244.000000\n",
       "mean    19.785943    2.998279    2.569672\n",
       "std      8.902412    1.383638    0.951100\n",
       "min      3.070000    1.000000    1.000000\n",
       "25%     13.347500    2.000000    2.000000\n",
       "50%     17.795000    2.900000    2.000000\n",
       "75%     24.127500    3.562500    3.000000\n",
       "max     50.810000   10.000000    6.000000"
      ]
     },
     "execution_count": 40,
     "metadata": {},
     "output_type": "execute_result"
    }
   ],
   "source": [
    "tips.describe()"
   ]
  },
  {
   "cell_type": "code",
   "execution_count": 41,
   "metadata": {},
   "outputs": [
    {
     "data": {
      "text/html": [
       "<div>\n",
       "<style scoped>\n",
       "    .dataframe tbody tr th:only-of-type {\n",
       "        vertical-align: middle;\n",
       "    }\n",
       "\n",
       "    .dataframe tbody tr th {\n",
       "        vertical-align: top;\n",
       "    }\n",
       "\n",
       "    .dataframe thead th {\n",
       "        text-align: right;\n",
       "    }\n",
       "</style>\n",
       "<table border=\"1\" class=\"dataframe\">\n",
       "  <thead>\n",
       "    <tr style=\"text-align: right;\">\n",
       "      <th></th>\n",
       "      <th>sex</th>\n",
       "      <th>smoker</th>\n",
       "      <th>day</th>\n",
       "      <th>time</th>\n",
       "    </tr>\n",
       "  </thead>\n",
       "  <tbody>\n",
       "    <tr>\n",
       "      <th>count</th>\n",
       "      <td>244</td>\n",
       "      <td>244</td>\n",
       "      <td>244</td>\n",
       "      <td>244</td>\n",
       "    </tr>\n",
       "    <tr>\n",
       "      <th>unique</th>\n",
       "      <td>2</td>\n",
       "      <td>2</td>\n",
       "      <td>4</td>\n",
       "      <td>2</td>\n",
       "    </tr>\n",
       "    <tr>\n",
       "      <th>top</th>\n",
       "      <td>Male</td>\n",
       "      <td>No</td>\n",
       "      <td>Sat</td>\n",
       "      <td>Dinner</td>\n",
       "    </tr>\n",
       "    <tr>\n",
       "      <th>freq</th>\n",
       "      <td>157</td>\n",
       "      <td>151</td>\n",
       "      <td>87</td>\n",
       "      <td>176</td>\n",
       "    </tr>\n",
       "  </tbody>\n",
       "</table>\n",
       "</div>"
      ],
      "text/plain": [
       "         sex smoker  day    time\n",
       "count    244    244  244     244\n",
       "unique     2      2    4       2\n",
       "top     Male     No  Sat  Dinner\n",
       "freq     157    151   87     176"
      ]
     },
     "execution_count": 41,
     "metadata": {},
     "output_type": "execute_result"
    }
   ],
   "source": [
    "tips.describe(exclude=np.number)"
   ]
  },
  {
   "cell_type": "markdown",
   "metadata": {
    "colab_type": "text",
    "id": "TDoUKNB4ljbk"
   },
   "source": [
    "### Make univariate [distribution plots](https://seaborn.pydata.org/generated/seaborn.distplot.html)"
   ]
  },
  {
   "cell_type": "code",
   "execution_count": 49,
   "metadata": {
    "colab": {},
    "colab_type": "code",
    "id": "GL7qCnO1PRbM"
   },
   "outputs": [
    {
     "data": {
      "text/plain": [
       "<matplotlib.axes._subplots.AxesSubplot at 0x7f124374bba8>"
      ]
     },
     "execution_count": 49,
     "metadata": {},
     "output_type": "execute_result"
    },
    {
     "data": {
      "image/png": "[encoded data removed]",
      "text/plain": [
       "<Figure size 432x288 with 1 Axes>"
      ]
     },
     "metadata": {
      "needs_background": "light"
     },
     "output_type": "display_data"
    }
   ],
   "source": [
    "sns.distplot(tips.tip)"
   ]
  },
  {
   "cell_type": "code",
   "execution_count": 51,
   "metadata": {},
   "outputs": [
    {
     "data": {
      "text/plain": [
       "<matplotlib.axes._subplots.AxesSubplot at 0x7f124354b6d8>"
      ]
     },
     "execution_count": 51,
     "metadata": {},
     "output_type": "execute_result"
    },
    {
     "data": {
      "image/png": "[encoded data removed]",
      "text/plain": [
       "<Figure size 432x288 with 1 Axes>"
      ]
     },
     "metadata": {
      "needs_background": "light"
     },
     "output_type": "display_data"
    }
   ],
   "source": [
    "sns.distplot(tips.total_bill)"
   ]
  },
  {
   "cell_type": "code",
   "execution_count": 52,
   "metadata": {},
   "outputs": [],
   "source": [
    "tips['percent'] = tips.tip/tips.total_bill"
   ]
  },
  {
   "cell_type": "code",
   "execution_count": 53,
   "metadata": {},
   "outputs": [
    {
     "data": {
      "text/plain": [
       "<matplotlib.axes._subplots.AxesSubplot at 0x7f124378def0>"
      ]
     },
     "execution_count": 53,
     "metadata": {},
     "output_type": "execute_result"
    },
    {
     "data": {
      "image/png": "[encoded data removed]",
      "text/plain": [
       "<Figure size 432x288 with 1 Axes>"
      ]
     },
     "metadata": {
      "needs_background": "light"
     },
     "output_type": "display_data"
    }
   ],
   "source": [
    "sns.distplot(tips.percent)"
   ]
  },
  {
   "cell_type": "markdown",
   "metadata": {
    "colab_type": "text",
    "id": "0N-6Munnljbm"
   },
   "source": [
    "### Make bivariate [relational plots](https://seaborn.pydata.org/generated/seaborn.relplot.html)"
   ]
  },
  {
   "cell_type": "code",
   "execution_count": 54,
   "metadata": {
    "colab": {},
    "colab_type": "code",
    "id": "AVWSHwa9PT1y"
   },
   "outputs": [
    {
     "data": {
      "text/plain": [
       "<seaborn.axisgrid.FacetGrid at 0x7f1243b99c88>"
      ]
     },
     "execution_count": 54,
     "metadata": {},
     "output_type": "execute_result"
    },
    {
     "data": {
      "image/png": "[encoded data removed]",
      "text/plain": [
       "<Figure size 360x360 with 1 Axes>"
      ]
     },
     "metadata": {
      "needs_background": "light"
     },
     "output_type": "display_data"
    }
   ],
   "source": [
    "sns.relplot(x='total_bill', y='tip', data=tips, alpha=0.5)"
   ]
  },
  {
   "cell_type": "code",
   "execution_count": 55,
   "metadata": {},
   "outputs": [
    {
     "data": {
      "text/plain": [
       "<seaborn.axisgrid.FacetGrid at 0x7f124564f7f0>"
      ]
     },
     "execution_count": 55,
     "metadata": {},
     "output_type": "execute_result"
    },
    {
     "data": {
      "image/png": "[encoded data removed]",
      "text/plain": [
       "<Figure size 360x360 with 1 Axes>"
      ]
     },
     "metadata": {
      "needs_background": "light"
     },
     "output_type": "display_data"
    }
   ],
   "source": [
    "sns.relplot(x='total_bill', y='percent', data=tips, alpha=0.5)"
   ]
  },
  {
   "cell_type": "markdown",
   "metadata": {
    "colab_type": "text",
    "id": "7Ug5vyBlljbp"
   },
   "source": [
    "### Make univariate [categorical plots](https://seaborn.pydata.org/generated/seaborn.catplot.html)"
   ]
  },
  {
   "cell_type": "code",
   "execution_count": 59,
   "metadata": {
    "colab": {},
    "colab_type": "code",
    "id": "0FdkIBUjPWLg"
   },
   "outputs": [
    {
     "data": {
      "text/plain": [
       "Male      157\n",
       "Female     87\n",
       "Name: sex, dtype: int64"
      ]
     },
     "execution_count": 59,
     "metadata": {},
     "output_type": "execute_result"
    }
   ],
   "source": [
    "tips.sex.value_counts()"
   ]
  },
  {
   "cell_type": "code",
   "execution_count": 60,
   "metadata": {},
   "outputs": [
    {
     "data": {
      "image/png": "[encoded data removed]",
      "text/plain": [
       "<Figure size 432x288 with 1 Axes>"
      ]
     },
     "metadata": {
      "needs_background": "light"
     },
     "output_type": "display_data"
    }
   ],
   "source": [
    "tips.sex.value_counts().plot.bar();"
   ]
  },
  {
   "cell_type": "markdown",
   "metadata": {
    "colab_type": "text",
    "id": "Ftchuwrgljbs"
   },
   "source": [
    "### Make bivariate [categorical plots](https://seaborn.pydata.org/generated/seaborn.catplot.html)"
   ]
  },
  {
   "cell_type": "code",
   "execution_count": 42,
   "metadata": {
    "colab": {},
    "colab_type": "code",
    "id": "yIGQcgB0PZnk"
   },
   "outputs": [
    {
     "data": {
      "text/plain": [
       "<seaborn.axisgrid.FacetGrid at 0x7f12839b30b8>"
      ]
     },
     "execution_count": 42,
     "metadata": {},
     "output_type": "execute_result"
    },
    {
     "data": {
      "image/png": "[encoded data removed]",
      "text/plain": [
       "<Figure size 360x360 with 1 Axes>"
      ]
     },
     "metadata": {
      "needs_background": "light"
     },
     "output_type": "display_data"
    }
   ],
   "source": [
    "sns.catplot(x='sex', y='tip', data=tips, kind='box')"
   ]
  },
  {
   "cell_type": "code",
   "execution_count": 126,
   "metadata": {},
   "outputs": [
    {
     "data": {
      "image/png": "[encoded data removed]",
      "text/plain": [
       "<Figure size 360x360 with 1 Axes>"
      ]
     },
     "metadata": {
      "needs_background": "light"
     },
     "output_type": "display_data"
    }
   ],
   "source": [
    "sns.catplot(x='sex', y='tip', data=tips, kind='strip', alpha=0.3);"
   ]
  },
  {
   "cell_type": "markdown",
   "metadata": {
    "colab_type": "text",
    "id": "FFWkWusYljbt"
   },
   "source": [
    "## 3. Flights"
   ]
  },
  {
   "cell_type": "markdown",
   "metadata": {
    "colab_type": "text",
    "id": "A9uGFj7fljbu"
   },
   "source": [
    "### Load dataset"
   ]
  },
  {
   "cell_type": "code",
   "execution_count": 61,
   "metadata": {
    "colab": {},
    "colab_type": "code",
    "id": "x9Pd0h0_ljbu"
   },
   "outputs": [],
   "source": [
    "flights = sns.load_dataset('flights')"
   ]
  },
  {
   "cell_type": "markdown",
   "metadata": {
    "colab_type": "text",
    "id": "TqUSgAUcljbx"
   },
   "source": [
    "### See the data's shape"
   ]
  },
  {
   "cell_type": "code",
   "execution_count": 62,
   "metadata": {
    "colab": {},
    "colab_type": "code",
    "id": "5WELCrPPljbx"
   },
   "outputs": [
    {
     "data": {
      "text/plain": [
       "(144, 3)"
      ]
     },
     "execution_count": 62,
     "metadata": {},
     "output_type": "execute_result"
    }
   ],
   "source": [
    "flights.shape"
   ]
  },
  {
   "cell_type": "markdown",
   "metadata": {
    "colab_type": "text",
    "id": "47WxnyjCljby"
   },
   "source": [
    "### See the first 5 rows"
   ]
  },
  {
   "cell_type": "code",
   "execution_count": 64,
   "metadata": {
    "colab": {},
    "colab_type": "code",
    "id": "xCREANeJljby"
   },
   "outputs": [
    {
     "data": {
      "text/html": [
       "<div>\n",
       "<style scoped>\n",
       "    .dataframe tbody tr th:only-of-type {\n",
       "        vertical-align: middle;\n",
       "    }\n",
       "\n",
       "    .dataframe tbody tr th {\n",
       "        vertical-align: top;\n",
       "    }\n",
       "\n",
       "    .dataframe thead th {\n",
       "        text-align: right;\n",
       "    }\n",
       "</style>\n",
       "<table border=\"1\" class=\"dataframe\">\n",
       "  <thead>\n",
       "    <tr style=\"text-align: right;\">\n",
       "      <th></th>\n",
       "      <th>year</th>\n",
       "      <th>month</th>\n",
       "      <th>passengers</th>\n",
       "    </tr>\n",
       "  </thead>\n",
       "  <tbody>\n",
       "    <tr>\n",
       "      <th>0</th>\n",
       "      <td>1949</td>\n",
       "      <td>January</td>\n",
       "      <td>112</td>\n",
       "    </tr>\n",
       "    <tr>\n",
       "      <th>1</th>\n",
       "      <td>1949</td>\n",
       "      <td>February</td>\n",
       "      <td>118</td>\n",
       "    </tr>\n",
       "    <tr>\n",
       "      <th>2</th>\n",
       "      <td>1949</td>\n",
       "      <td>March</td>\n",
       "      <td>132</td>\n",
       "    </tr>\n",
       "    <tr>\n",
       "      <th>3</th>\n",
       "      <td>1949</td>\n",
       "      <td>April</td>\n",
       "      <td>129</td>\n",
       "    </tr>\n",
       "    <tr>\n",
       "      <th>4</th>\n",
       "      <td>1949</td>\n",
       "      <td>May</td>\n",
       "      <td>121</td>\n",
       "    </tr>\n",
       "  </tbody>\n",
       "</table>\n",
       "</div>"
      ],
      "text/plain": [
       "   year     month  passengers\n",
       "0  1949   January         112\n",
       "1  1949  February         118\n",
       "2  1949     March         132\n",
       "3  1949     April         129\n",
       "4  1949       May         121"
      ]
     },
     "execution_count": 64,
     "metadata": {},
     "output_type": "execute_result"
    }
   ],
   "source": [
    "flights.head()"
   ]
  },
  {
   "cell_type": "markdown",
   "metadata": {
    "colab_type": "text",
    "id": "eUc_48wbljb0"
   },
   "source": [
    "### Describe the data"
   ]
  },
  {
   "cell_type": "code",
   "execution_count": 65,
   "metadata": {
    "colab": {},
    "colab_type": "code",
    "id": "rA0xTMd7ljb0"
   },
   "outputs": [
    {
     "data": {
      "text/html": [
       "<div>\n",
       "<style scoped>\n",
       "    .dataframe tbody tr th:only-of-type {\n",
       "        vertical-align: middle;\n",
       "    }\n",
       "\n",
       "    .dataframe tbody tr th {\n",
       "        vertical-align: top;\n",
       "    }\n",
       "\n",
       "    .dataframe thead th {\n",
       "        text-align: right;\n",
       "    }\n",
       "</style>\n",
       "<table border=\"1\" class=\"dataframe\">\n",
       "  <thead>\n",
       "    <tr style=\"text-align: right;\">\n",
       "      <th></th>\n",
       "      <th>year</th>\n",
       "      <th>passengers</th>\n",
       "    </tr>\n",
       "  </thead>\n",
       "  <tbody>\n",
       "    <tr>\n",
       "      <th>count</th>\n",
       "      <td>144.000000</td>\n",
       "      <td>144.000000</td>\n",
       "    </tr>\n",
       "    <tr>\n",
       "      <th>mean</th>\n",
       "      <td>1954.500000</td>\n",
       "      <td>280.298611</td>\n",
       "    </tr>\n",
       "    <tr>\n",
       "      <th>std</th>\n",
       "      <td>3.464102</td>\n",
       "      <td>119.966317</td>\n",
       "    </tr>\n",
       "    <tr>\n",
       "      <th>min</th>\n",
       "      <td>1949.000000</td>\n",
       "      <td>104.000000</td>\n",
       "    </tr>\n",
       "    <tr>\n",
       "      <th>25%</th>\n",
       "      <td>1951.750000</td>\n",
       "      <td>180.000000</td>\n",
       "    </tr>\n",
       "    <tr>\n",
       "      <th>50%</th>\n",
       "      <td>1954.500000</td>\n",
       "      <td>265.500000</td>\n",
       "    </tr>\n",
       "    <tr>\n",
       "      <th>75%</th>\n",
       "      <td>1957.250000</td>\n",
       "      <td>360.500000</td>\n",
       "    </tr>\n",
       "    <tr>\n",
       "      <th>max</th>\n",
       "      <td>1960.000000</td>\n",
       "      <td>622.000000</td>\n",
       "    </tr>\n",
       "  </tbody>\n",
       "</table>\n",
       "</div>"
      ],
      "text/plain": [
       "              year  passengers\n",
       "count   144.000000  144.000000\n",
       "mean   1954.500000  280.298611\n",
       "std       3.464102  119.966317\n",
       "min    1949.000000  104.000000\n",
       "25%    1951.750000  180.000000\n",
       "50%    1954.500000  265.500000\n",
       "75%    1957.250000  360.500000\n",
       "max    1960.000000  622.000000"
      ]
     },
     "execution_count": 65,
     "metadata": {},
     "output_type": "execute_result"
    }
   ],
   "source": [
    "flights.describe()"
   ]
  },
  {
   "cell_type": "code",
   "execution_count": 66,
   "metadata": {},
   "outputs": [
    {
     "data": {
      "text/html": [
       "<div>\n",
       "<style scoped>\n",
       "    .dataframe tbody tr th:only-of-type {\n",
       "        vertical-align: middle;\n",
       "    }\n",
       "\n",
       "    .dataframe tbody tr th {\n",
       "        vertical-align: top;\n",
       "    }\n",
       "\n",
       "    .dataframe thead th {\n",
       "        text-align: right;\n",
       "    }\n",
       "</style>\n",
       "<table border=\"1\" class=\"dataframe\">\n",
       "  <thead>\n",
       "    <tr style=\"text-align: right;\">\n",
       "      <th></th>\n",
       "      <th>month</th>\n",
       "    </tr>\n",
       "  </thead>\n",
       "  <tbody>\n",
       "    <tr>\n",
       "      <th>count</th>\n",
       "      <td>144</td>\n",
       "    </tr>\n",
       "    <tr>\n",
       "      <th>unique</th>\n",
       "      <td>12</td>\n",
       "    </tr>\n",
       "    <tr>\n",
       "      <th>top</th>\n",
       "      <td>December</td>\n",
       "    </tr>\n",
       "    <tr>\n",
       "      <th>freq</th>\n",
       "      <td>12</td>\n",
       "    </tr>\n",
       "  </tbody>\n",
       "</table>\n",
       "</div>"
      ],
      "text/plain": [
       "           month\n",
       "count        144\n",
       "unique        12\n",
       "top     December\n",
       "freq          12"
      ]
     },
     "execution_count": 66,
     "metadata": {},
     "output_type": "execute_result"
    }
   ],
   "source": [
    "flights.describe(exclude=np.number)"
   ]
  },
  {
   "cell_type": "markdown",
   "metadata": {
    "colab_type": "text",
    "id": "Pwg0lL5Lljb2"
   },
   "source": [
    "### Plot year & passengers"
   ]
  },
  {
   "cell_type": "code",
   "execution_count": 129,
   "metadata": {
    "colab": {},
    "colab_type": "code",
    "id": "o2reqC4Eljb2"
   },
   "outputs": [
    {
     "data": {
      "text/plain": [
       "<matplotlib.axes._subplots.AxesSubplot at 0x7f123b31bf98>"
      ]
     },
     "execution_count": 129,
     "metadata": {},
     "output_type": "execute_result"
    },
    {
     "data": {
      "image/png": "[encoded data removed]",
      "text/plain": [
       "<Figure size 432x288 with 1 Axes>"
      ]
     },
     "metadata": {
      "needs_background": "light"
     },
     "output_type": "display_data"
    }
   ],
   "source": [
    "flights.plot.scatter(x='year', y='passengers')"
   ]
  },
  {
   "cell_type": "code",
   "execution_count": 128,
   "metadata": {},
   "outputs": [
    {
     "data": {
      "text/plain": [
       "<seaborn.axisgrid.FacetGrid at 0x7f123b452c50>"
      ]
     },
     "execution_count": 128,
     "metadata": {},
     "output_type": "execute_result"
    },
    {
     "data": {
      "image/png": "[encoded data removed]",
      "text/plain": [
       "<Figure size 360x360 with 1 Axes>"
      ]
     },
     "metadata": {
      "needs_background": "light"
     },
     "output_type": "display_data"
    }
   ],
   "source": [
    "sns.relplot(x='year', y='passengers', data=flights, kind='line', ci=95)"
   ]
  },
  {
   "cell_type": "markdown",
   "metadata": {
    "colab_type": "text",
    "id": "g1TKShQ2ljb4"
   },
   "source": [
    "### Plot month & passengers"
   ]
  },
  {
   "cell_type": "code",
   "execution_count": 97,
   "metadata": {
    "colab": {},
    "colab_type": "code",
    "id": "Le0Tc5SDwoHk"
   },
   "outputs": [
    {
     "data": {
      "text/plain": [
       "<matplotlib.axes._subplots.AxesSubplot at 0x7f1241b2d6d8>"
      ]
     },
     "execution_count": 97,
     "metadata": {},
     "output_type": "execute_result"
    },
    {
     "data": {
      "image/png": "[encoded data removed]",
      "text/plain": [
       "<Figure size 432x288 with 1 Axes>"
      ]
     },
     "metadata": {
      "needs_background": "light"
     },
     "output_type": "display_data"
    }
   ],
   "source": [
    "flights[['month', 'passengers']].groupby('month').agg('sum').reset_index().plot(x='month', y='passengers', kind='bar')"
   ]
  },
  {
   "cell_type": "code",
   "execution_count": 357,
   "metadata": {},
   "outputs": [],
   "source": [
    "factorized_flights = pd.DataFrame({'month': pd.Series(flights['month'].factorize()[0]), 'passengers': flights['passengers']})"
   ]
  },
  {
   "cell_type": "code",
   "execution_count": 325,
   "metadata": {},
   "outputs": [
    {
     "data": {
      "image/png": "[encoded data removed]",
      "text/plain": [
       "<Figure size 360x360 with 1 Axes>"
      ]
     },
     "metadata": {},
     "output_type": "display_data"
    }
   ],
   "source": [
    "sns.catplot(x='month', y='passengers', data=factorized_flights, kind='strip', alpha=0.8);"
   ]
  },
  {
   "cell_type": "code",
   "execution_count": 156,
   "metadata": {},
   "outputs": [
    {
     "data": {
      "text/plain": [
       "<seaborn.axisgrid.FacetGrid at 0x7f123bff4198>"
      ]
     },
     "execution_count": 156,
     "metadata": {},
     "output_type": "execute_result"
    },
    {
     "data": {
      "image/png": "[encoded data removed]",
      "text/plain": [
       "<Figure size 360x360 with 1 Axes>"
      ]
     },
     "metadata": {
      "needs_background": "light"
     },
     "output_type": "display_data"
    }
   ],
   "source": [
    "sns.catplot(x='month', y='passengers', data=factorized_flights, kind='box')"
   ]
  },
  {
   "cell_type": "markdown",
   "metadata": {
    "colab_type": "text",
    "id": "Fh9lCwC-ljb6"
   },
   "source": [
    "### Create a [pivot table](https://pandas.pydata.org/pandas-docs/stable/generated/pandas.DataFrame.pivot_table.html) of passengers by month and year"
   ]
  },
  {
   "cell_type": "code",
   "execution_count": 102,
   "metadata": {
    "colab": {},
    "colab_type": "code",
    "id": "JJrQbsXxljb6"
   },
   "outputs": [],
   "source": [
    "pivoted_flights = flights.pivot(\n",
    "    values='passengers',\n",
    "    columns='year',\n",
    "    index='month'\n",
    ")"
   ]
  },
  {
   "cell_type": "code",
   "execution_count": 106,
   "metadata": {},
   "outputs": [
    {
     "data": {
      "text/html": [
       "<div>\n",
       "<style scoped>\n",
       "    .dataframe tbody tr th:only-of-type {\n",
       "        vertical-align: middle;\n",
       "    }\n",
       "\n",
       "    .dataframe tbody tr th {\n",
       "        vertical-align: top;\n",
       "    }\n",
       "\n",
       "    .dataframe thead th {\n",
       "        text-align: right;\n",
       "    }\n",
       "</style>\n",
       "<table border=\"1\" class=\"dataframe\">\n",
       "  <thead>\n",
       "    <tr style=\"text-align: right;\">\n",
       "      <th>year</th>\n",
       "      <th>1949</th>\n",
       "      <th>1950</th>\n",
       "      <th>1951</th>\n",
       "      <th>1952</th>\n",
       "      <th>1953</th>\n",
       "      <th>1954</th>\n",
       "      <th>1955</th>\n",
       "      <th>1956</th>\n",
       "      <th>1957</th>\n",
       "      <th>1958</th>\n",
       "      <th>1959</th>\n",
       "      <th>1960</th>\n",
       "    </tr>\n",
       "    <tr>\n",
       "      <th>month</th>\n",
       "      <th></th>\n",
       "      <th></th>\n",
       "      <th></th>\n",
       "      <th></th>\n",
       "      <th></th>\n",
       "      <th></th>\n",
       "      <th></th>\n",
       "      <th></th>\n",
       "      <th></th>\n",
       "      <th></th>\n",
       "      <th></th>\n",
       "      <th></th>\n",
       "    </tr>\n",
       "  </thead>\n",
       "  <tbody>\n",
       "    <tr>\n",
       "      <th>January</th>\n",
       "      <td>112</td>\n",
       "      <td>115</td>\n",
       "      <td>145</td>\n",
       "      <td>171</td>\n",
       "      <td>196</td>\n",
       "      <td>204</td>\n",
       "      <td>242</td>\n",
       "      <td>284</td>\n",
       "      <td>315</td>\n",
       "      <td>340</td>\n",
       "      <td>360</td>\n",
       "      <td>417</td>\n",
       "    </tr>\n",
       "    <tr>\n",
       "      <th>February</th>\n",
       "      <td>118</td>\n",
       "      <td>126</td>\n",
       "      <td>150</td>\n",
       "      <td>180</td>\n",
       "      <td>196</td>\n",
       "      <td>188</td>\n",
       "      <td>233</td>\n",
       "      <td>277</td>\n",
       "      <td>301</td>\n",
       "      <td>318</td>\n",
       "      <td>342</td>\n",
       "      <td>391</td>\n",
       "    </tr>\n",
       "    <tr>\n",
       "      <th>March</th>\n",
       "      <td>132</td>\n",
       "      <td>141</td>\n",
       "      <td>178</td>\n",
       "      <td>193</td>\n",
       "      <td>236</td>\n",
       "      <td>235</td>\n",
       "      <td>267</td>\n",
       "      <td>317</td>\n",
       "      <td>356</td>\n",
       "      <td>362</td>\n",
       "      <td>406</td>\n",
       "      <td>419</td>\n",
       "    </tr>\n",
       "    <tr>\n",
       "      <th>April</th>\n",
       "      <td>129</td>\n",
       "      <td>135</td>\n",
       "      <td>163</td>\n",
       "      <td>181</td>\n",
       "      <td>235</td>\n",
       "      <td>227</td>\n",
       "      <td>269</td>\n",
       "      <td>313</td>\n",
       "      <td>348</td>\n",
       "      <td>348</td>\n",
       "      <td>396</td>\n",
       "      <td>461</td>\n",
       "    </tr>\n",
       "    <tr>\n",
       "      <th>May</th>\n",
       "      <td>121</td>\n",
       "      <td>125</td>\n",
       "      <td>172</td>\n",
       "      <td>183</td>\n",
       "      <td>229</td>\n",
       "      <td>234</td>\n",
       "      <td>270</td>\n",
       "      <td>318</td>\n",
       "      <td>355</td>\n",
       "      <td>363</td>\n",
       "      <td>420</td>\n",
       "      <td>472</td>\n",
       "    </tr>\n",
       "    <tr>\n",
       "      <th>June</th>\n",
       "      <td>135</td>\n",
       "      <td>149</td>\n",
       "      <td>178</td>\n",
       "      <td>218</td>\n",
       "      <td>243</td>\n",
       "      <td>264</td>\n",
       "      <td>315</td>\n",
       "      <td>374</td>\n",
       "      <td>422</td>\n",
       "      <td>435</td>\n",
       "      <td>472</td>\n",
       "      <td>535</td>\n",
       "    </tr>\n",
       "    <tr>\n",
       "      <th>July</th>\n",
       "      <td>148</td>\n",
       "      <td>170</td>\n",
       "      <td>199</td>\n",
       "      <td>230</td>\n",
       "      <td>264</td>\n",
       "      <td>302</td>\n",
       "      <td>364</td>\n",
       "      <td>413</td>\n",
       "      <td>465</td>\n",
       "      <td>491</td>\n",
       "      <td>548</td>\n",
       "      <td>622</td>\n",
       "    </tr>\n",
       "    <tr>\n",
       "      <th>August</th>\n",
       "      <td>148</td>\n",
       "      <td>170</td>\n",
       "      <td>199</td>\n",
       "      <td>242</td>\n",
       "      <td>272</td>\n",
       "      <td>293</td>\n",
       "      <td>347</td>\n",
       "      <td>405</td>\n",
       "      <td>467</td>\n",
       "      <td>505</td>\n",
       "      <td>559</td>\n",
       "      <td>606</td>\n",
       "    </tr>\n",
       "    <tr>\n",
       "      <th>September</th>\n",
       "      <td>136</td>\n",
       "      <td>158</td>\n",
       "      <td>184</td>\n",
       "      <td>209</td>\n",
       "      <td>237</td>\n",
       "      <td>259</td>\n",
       "      <td>312</td>\n",
       "      <td>355</td>\n",
       "      <td>404</td>\n",
       "      <td>404</td>\n",
       "      <td>463</td>\n",
       "      <td>508</td>\n",
       "    </tr>\n",
       "    <tr>\n",
       "      <th>October</th>\n",
       "      <td>119</td>\n",
       "      <td>133</td>\n",
       "      <td>162</td>\n",
       "      <td>191</td>\n",
       "      <td>211</td>\n",
       "      <td>229</td>\n",
       "      <td>274</td>\n",
       "      <td>306</td>\n",
       "      <td>347</td>\n",
       "      <td>359</td>\n",
       "      <td>407</td>\n",
       "      <td>461</td>\n",
       "    </tr>\n",
       "    <tr>\n",
       "      <th>November</th>\n",
       "      <td>104</td>\n",
       "      <td>114</td>\n",
       "      <td>146</td>\n",
       "      <td>172</td>\n",
       "      <td>180</td>\n",
       "      <td>203</td>\n",
       "      <td>237</td>\n",
       "      <td>271</td>\n",
       "      <td>305</td>\n",
       "      <td>310</td>\n",
       "      <td>362</td>\n",
       "      <td>390</td>\n",
       "    </tr>\n",
       "    <tr>\n",
       "      <th>December</th>\n",
       "      <td>118</td>\n",
       "      <td>140</td>\n",
       "      <td>166</td>\n",
       "      <td>194</td>\n",
       "      <td>201</td>\n",
       "      <td>229</td>\n",
       "      <td>278</td>\n",
       "      <td>306</td>\n",
       "      <td>336</td>\n",
       "      <td>337</td>\n",
       "      <td>405</td>\n",
       "      <td>432</td>\n",
       "    </tr>\n",
       "  </tbody>\n",
       "</table>\n",
       "</div>"
      ],
      "text/plain": [
       "year       1949  1950  1951  1952  1953  1954  1955  1956  1957  1958  1959  \\\n",
       "month                                                                         \n",
       "January     112   115   145   171   196   204   242   284   315   340   360   \n",
       "February    118   126   150   180   196   188   233   277   301   318   342   \n",
       "March       132   141   178   193   236   235   267   317   356   362   406   \n",
       "April       129   135   163   181   235   227   269   313   348   348   396   \n",
       "May         121   125   172   183   229   234   270   318   355   363   420   \n",
       "June        135   149   178   218   243   264   315   374   422   435   472   \n",
       "July        148   170   199   230   264   302   364   413   465   491   548   \n",
       "August      148   170   199   242   272   293   347   405   467   505   559   \n",
       "September   136   158   184   209   237   259   312   355   404   404   463   \n",
       "October     119   133   162   191   211   229   274   306   347   359   407   \n",
       "November    104   114   146   172   180   203   237   271   305   310   362   \n",
       "December    118   140   166   194   201   229   278   306   336   337   405   \n",
       "\n",
       "year       1960  \n",
       "month            \n",
       "January     417  \n",
       "February    391  \n",
       "March       419  \n",
       "April       461  \n",
       "May         472  \n",
       "June        535  \n",
       "July        622  \n",
       "August      606  \n",
       "September   508  \n",
       "October     461  \n",
       "November    390  \n",
       "December    432  "
      ]
     },
     "execution_count": 106,
     "metadata": {},
     "output_type": "execute_result"
    }
   ],
   "source": [
    "pivoted_flights"
   ]
  },
  {
   "cell_type": "markdown",
   "metadata": {
    "colab_type": "text",
    "id": "MRast1t4ljb7"
   },
   "source": [
    "### Plot the pivot table as a [heat map](https://seaborn.pydata.org/generated/seaborn.heatmap.html)"
   ]
  },
  {
   "cell_type": "code",
   "execution_count": 119,
   "metadata": {},
   "outputs": [
    {
     "data": {
      "text/plain": [
       "<matplotlib.axes._subplots.AxesSubplot at 0x7f123b734ac8>"
      ]
     },
     "execution_count": 119,
     "metadata": {},
     "output_type": "execute_result"
    },
    {
     "data": {
      "image/png": "[encoded data removed]",
      "text/plain": [
       "<Figure size 720x720 with 2 Axes>"
      ]
     },
     "metadata": {
      "needs_background": "light"
     },
     "output_type": "display_data"
    }
   ],
   "source": [
    "fig, ax = plt.subplots(figsize=(10,10))\n",
    "sns.heatmap(pivoted_flights, annot=True, fmt='d', ax=ax)"
   ]
  },
  {
   "cell_type": "markdown",
   "metadata": {
    "colab_type": "text",
    "id": "xmEaapURMyKZ"
   },
   "source": [
    "# ASSIGNMENT\n",
    "\n",
    "### 1.\n",
    "\n",
    "Replicate the lesson code. I recommend that you [do not copy-paste](https://docs.google.com/document/d/1ubOw9B3Hfip27hF2ZFnW3a3z9xAgrUDRReOEo-FHCVs/edit).\n",
    "\n",
    "### 2.\n",
    "\n",
    "Choose a chart you want to make, from [FT's Visual Vocabulary poster](http://ft.com/vocabulary).\n",
    "\n",
    "Find the chart in an example gallery of a Python data visualization library:\n",
    "- [Seaborn](http://seaborn.pydata.org/examples/index.html)\n",
    "- [Altair](https://altair-viz.github.io/gallery/index.html)\n",
    "- [Matplotlib](https://matplotlib.org/gallery.html)\n",
    "- [Pandas](https://pandas.pydata.org/pandas-docs/stable/visualization.html)\n",
    "\n",
    "Reproduce the chart. [Optionally, try the \"Ben Franklin Method.\"](https://docs.google.com/document/d/1ubOw9B3Hfip27hF2ZFnW3a3z9xAgrUDRReOEo-FHCVs/edit) Experiment and make changes.\n",
    "\n",
    "Take notes. Share your work with your cohort!\n"
   ]
  },
  {
   "cell_type": "code",
   "execution_count": null,
   "metadata": {},
   "outputs": [],
   "source": [
    "!pip install plotly"
   ]
  },
  {
   "cell_type": "code",
   "execution_count": 555,
   "metadata": {},
   "outputs": [],
   "source": [
    "import altair as alt\n",
    "import plotly\n",
    "import plotly.plotly as py\n",
    "import plotly.graph_objs as go\n",
    "import plotly.figure_factory as ff\n",
    "from bokeh.palettes import inferno\n",
    "from bokeh.plotting import figure, output_file\n",
    "from bokeh.io import push_notebook, show, output_notebook"
   ]
  },
  {
   "cell_type": "code",
   "execution_count": 492,
   "metadata": {},
   "outputs": [
    {
     "data": {
      "text/html": [
       "\n",
       "    <div class=\"bk-root\">\n",
       "        <a href=\"https://bokeh.pydata.org\" target=\"_blank\" class=\"bk-logo bk-logo-small bk-logo-notebook\"></a>\n",
       "        <span id=\"0c9ccec2-8d41-4693-a092-dc6997b6988a\">Loading BokehJS ...</span>\n",
       "    </div>"
      ]
     },
     "metadata": {},
     "output_type": "display_data"
    },
    {
     "data": {
      "application/javascript": [
       "\n",
       "(function(root) {\n",
       "  function now() {\n",
       "    return new Date();\n",
       "  }\n",
       "\n",
       "  var force = true;\n",
       "\n",
       "  if (typeof (root._bokeh_onload_callbacks) === \"undefined\" || force === true) {\n",
       "    root._bokeh_onload_callbacks = [];\n",
       "    root._bokeh_is_loading = undefined;\n",
       "  }\n",
       "\n",
       "  var JS_MIME_TYPE = 'application/javascript';\n",
       "  var HTML_MIME_TYPE = 'text/html';\n",
       "  var EXEC_MIME_TYPE = 'application/vnd.bokehjs_exec.v0+json';\n",
       "  var CLASS_NAME = 'output_bokeh rendered_html';\n",
       "\n",
       "  /**\n",
       "   * Render data to the DOM node\n",
       "   */\n",
       "  function render(props, node) {\n",
       "    var script = document.createElement(\"script\");\n",
       "    node.appendChild(script);\n",
       "  }\n",
       "\n",
       "  /**\n",
       "   * Handle when an output is cleared or removed\n",
       "   */\n",
       "  function handleClearOutput(event, handle) {\n",
       "    var cell = handle.cell;\n",
       "\n",
       "    var id = cell.output_area._bokeh_element_id;\n",
       "    var server_id = cell.output_area._bokeh_server_id;\n",
       "    // Clean up Bokeh references\n",
       "    if (id != null && id in Bokeh.index) {\n",
       "      Bokeh.index[id].model.document.clear();\n",
       "      delete Bokeh.index[id];\n",
       "    }\n",
       "\n",
       "    if (server_id !== undefined) {\n",
       "      // Clean up Bokeh references\n",
       "      var cmd = \"from bokeh.io.state import curstate; print(curstate().uuid_to_server['\" + server_id + \"'].get_sessions()[0].document.roots[0]._id)\";\n",
       "      cell.notebook.kernel.execute(cmd, {\n",
       "        iopub: {\n",
       "          output: function(msg) {\n",
       "            var id = msg.content.text.trim();\n",
       "            if (id in Bokeh.index) {\n",
       "              Bokeh.index[id].model.document.clear();\n",
       "              delete Bokeh.index[id];\n",
       "            }\n",
       "          }\n",
       "        }\n",
       "      });\n",
       "      // Destroy server and session\n",
       "      var cmd = \"import bokeh.io.notebook as ion; ion.destroy_server('\" + server_id + \"')\";\n",
       "      cell.notebook.kernel.execute(cmd);\n",
       "    }\n",
       "  }\n",
       "\n",
       "  /**\n",
       "   * Handle when a new output is added\n",
       "   */\n",
       "  function handleAddOutput(event, handle) {\n",
       "    var output_area = handle.output_area;\n",
       "    var output = handle.output;\n",
       "\n",
       "    // limit handleAddOutput to display_data with EXEC_MIME_TYPE content only\n",
       "    if ((output.output_type != \"display_data\") || (!output.data.hasOwnProperty(EXEC_MIME_TYPE))) {\n",
       "      return\n",
       "    }\n",
       "\n",
       "    var toinsert = output_area.element.find(\".\" + CLASS_NAME.split(' ')[0]);\n",
       "\n",
       "    if (output.metadata[EXEC_MIME_TYPE][\"id\"] !== undefined) {\n",
       "      toinsert[toinsert.length - 1].firstChild.textContent = output.data[JS_MIME_TYPE];\n",
       "      // store reference to embed id on output_area\n",
       "      output_area._bokeh_element_id = output.metadata[EXEC_MIME_TYPE][\"id\"];\n",
       "    }\n",
       "    if (output.metadata[EXEC_MIME_TYPE][\"server_id\"] !== undefined) {\n",
       "      var bk_div = document.createElement(\"div\");\n",
       "      bk_div.innerHTML = output.data[HTML_MIME_TYPE];\n",
       "      var script_attrs = bk_div.children[0].attributes;\n",
       "      for (var i = 0; i < script_attrs.length; i++) {\n",
       "        toinsert[toinsert.length - 1].firstChild.setAttribute(script_attrs[i].name, script_attrs[i].value);\n",
       "      }\n",
       "      // store reference to server id on output_area\n",
       "      output_area._bokeh_server_id = output.metadata[EXEC_MIME_TYPE][\"server_id\"];\n",
       "    }\n",
       "  }\n",
       "\n",
       "  function register_renderer(events, OutputArea) {\n",
       "\n",
       "    function append_mime(data, metadata, element) {\n",
       "      // create a DOM node to render to\n",
       "      var toinsert = this.create_output_subarea(\n",
       "        metadata,\n",
       "        CLASS_NAME,\n",
       "        EXEC_MIME_TYPE\n",
       "      );\n",
       "      this.keyboard_manager.register_events(toinsert);\n",
       "      // Render to node\n",
       "      var props = {data: data, metadata: metadata[EXEC_MIME_TYPE]};\n",
       "      render(props, toinsert[toinsert.length - 1]);\n",
       "      element.append(toinsert);\n",
       "      return toinsert\n",
       "    }\n",
       "\n",
       "    /* Handle when an output is cleared or removed */\n",
       "    events.on('clear_output.CodeCell', handleClearOutput);\n",
       "    events.on('delete.Cell', handleClearOutput);\n",
       "\n",
       "    /* Handle when a new output is added */\n",
       "    events.on('output_added.OutputArea', handleAddOutput);\n",
       "\n",
       "    /**\n",
       "     * Register the mime type and append_mime function with output_area\n",
       "     */\n",
       "    OutputArea.prototype.register_mime_type(EXEC_MIME_TYPE, append_mime, {\n",
       "      /* Is output safe? */\n",
       "      safe: true,\n",
       "      /* Index of renderer in `output_area.display_order` */\n",
       "      index: 0\n",
       "    });\n",
       "  }\n",
       "\n",
       "  // register the mime type if in Jupyter Notebook environment and previously unregistered\n",
       "  if (root.Jupyter !== undefined) {\n",
       "    var events = require('base/js/events');\n",
       "    var OutputArea = require('notebook/js/outputarea').OutputArea;\n",
       "\n",
       "    if (OutputArea.prototype.mime_types().indexOf(EXEC_MIME_TYPE) == -1) {\n",
       "      register_renderer(events, OutputArea);\n",
       "    }\n",
       "  }\n",
       "\n",
       "  \n",
       "  if (typeof (root._bokeh_timeout) === \"undefined\" || force === true) {\n",
       "    root._bokeh_timeout = Date.now() + 5000;\n",
       "    root._bokeh_failed_load = false;\n",
       "  }\n",
       "\n",
       "  var NB_LOAD_WARNING = {'data': {'text/html':\n",
       "     \"<div style='background-color: #fdd'>\\n\"+\n",
       "     \"<p>\\n\"+\n",
       "     \"BokehJS does not appear to have successfully loaded. If loading BokehJS from CDN, this \\n\"+\n",
       "     \"may be due to a slow or bad network connection. Possible fixes:\\n\"+\n",
       "     \"</p>\\n\"+\n",
       "     \"<ul>\\n\"+\n",
       "     \"<li>re-rerun `output_notebook()` to attempt to load from CDN again, or</li>\\n\"+\n",
       "     \"<li>use INLINE resources instead, as so:</li>\\n\"+\n",
       "     \"</ul>\\n\"+\n",
       "     \"<code>\\n\"+\n",
       "     \"from bokeh.resources import INLINE\\n\"+\n",
       "     \"output_notebook(resources=INLINE)\\n\"+\n",
       "     \"</code>\\n\"+\n",
       "     \"</div>\"}};\n",
       "\n",
       "  function display_loaded() {\n",
       "    var el = document.getElementById(\"0c9ccec2-8d41-4693-a092-dc6997b6988a\");\n",
       "    if (el != null) {\n",
       "      el.textContent = \"BokehJS is loading...\";\n",
       "    }\n",
       "    if (root.Bokeh !== undefined) {\n",
       "      if (el != null) {\n",
       "        el.textContent = \"BokehJS \" + root.Bokeh.version + \" successfully loaded.\";\n",
       "      }\n",
       "    } else if (Date.now() < root._bokeh_timeout) {\n",
       "      setTimeout(display_loaded, 100)\n",
       "    }\n",
       "  }\n",
       "\n",
       "\n",
       "  function run_callbacks() {\n",
       "    try {\n",
       "      root._bokeh_onload_callbacks.forEach(function(callback) { callback() });\n",
       "    }\n",
       "    finally {\n",
       "      delete root._bokeh_onload_callbacks\n",
       "    }\n",
       "    console.info(\"Bokeh: all callbacks have finished\");\n",
       "  }\n",
       "\n",
       "  function load_libs(js_urls, callback) {\n",
       "    root._bokeh_onload_callbacks.push(callback);\n",
       "    if (root._bokeh_is_loading > 0) {\n",
       "      console.log(\"Bokeh: BokehJS is being loaded, scheduling callback at\", now());\n",
       "      return null;\n",
       "    }\n",
       "    if (js_urls == null || js_urls.length === 0) {\n",
       "      run_callbacks();\n",
       "      return null;\n",
       "    }\n",
       "    console.log(\"Bokeh: BokehJS not loaded, scheduling load and callback at\", now());\n",
       "    root._bokeh_is_loading = js_urls.length;\n",
       "    for (var i = 0; i < js_urls.length; i++) {\n",
       "      var url = js_urls[i];\n",
       "      var s = document.createElement('script');\n",
       "      s.src = url;\n",
       "      s.async = false;\n",
       "      s.onreadystatechange = s.onload = function() {\n",
       "        root._bokeh_is_loading--;\n",
       "        if (root._bokeh_is_loading === 0) {\n",
       "          console.log(\"Bokeh: all BokehJS libraries loaded\");\n",
       "          run_callbacks()\n",
       "        }\n",
       "      };\n",
       "      s.onerror = function() {\n",
       "        console.warn(\"failed to load library \" + url);\n",
       "      };\n",
       "      console.log(\"Bokeh: injecting script tag for BokehJS library: \", url);\n",
       "      document.getElementsByTagName(\"head\")[0].appendChild(s);\n",
       "    }\n",
       "  };var element = document.getElementById(\"0c9ccec2-8d41-4693-a092-dc6997b6988a\");\n",
       "  if (element == null) {\n",
       "    console.log(\"Bokeh: ERROR: autoload.js configured with elementid '0c9ccec2-8d41-4693-a092-dc6997b6988a' but no matching script tag was found. \")\n",
       "    return false;\n",
       "  }\n",
       "\n",
       "  var js_urls = [\"https://cdn.pydata.org/bokeh/release/bokeh-0.13.0.min.js\", \"https://cdn.pydata.org/bokeh/release/bokeh-widgets-0.13.0.min.js\", \"https://cdn.pydata.org/bokeh/release/bokeh-tables-0.13.0.min.js\", \"https://cdn.pydata.org/bokeh/release/bokeh-gl-0.13.0.min.js\"];\n",
       "\n",
       "  var inline_js = [\n",
       "    function(Bokeh) {\n",
       "      Bokeh.set_log_level(\"info\");\n",
       "    },\n",
       "    \n",
       "    function(Bokeh) {\n",
       "      \n",
       "    },\n",
       "    function(Bokeh) {\n",
       "      console.log(\"Bokeh: injecting CSS: https://cdn.pydata.org/bokeh/release/bokeh-0.13.0.min.css\");\n",
       "      Bokeh.embed.inject_css(\"https://cdn.pydata.org/bokeh/release/bokeh-0.13.0.min.css\");\n",
       "      console.log(\"Bokeh: injecting CSS: https://cdn.pydata.org/bokeh/release/bokeh-widgets-0.13.0.min.css\");\n",
       "      Bokeh.embed.inject_css(\"https://cdn.pydata.org/bokeh/release/bokeh-widgets-0.13.0.min.css\");\n",
       "      console.log(\"Bokeh: injecting CSS: https://cdn.pydata.org/bokeh/release/bokeh-tables-0.13.0.min.css\");\n",
       "      Bokeh.embed.inject_css(\"https://cdn.pydata.org/bokeh/release/bokeh-tables-0.13.0.min.css\");\n",
       "    }\n",
       "  ];\n",
       "\n",
       "  function run_inline_js() {\n",
       "    \n",
       "    if ((root.Bokeh !== undefined) || (force === true)) {\n",
       "      for (var i = 0; i < inline_js.length; i++) {\n",
       "        inline_js[i].call(root, root.Bokeh);\n",
       "      }if (force === true) {\n",
       "        display_loaded();\n",
       "      }} else if (Date.now() < root._bokeh_timeout) {\n",
       "      setTimeout(run_inline_js, 100);\n",
       "    } else if (!root._bokeh_failed_load) {\n",
       "      console.log(\"Bokeh: BokehJS failed to load within specified timeout.\");\n",
       "      root._bokeh_failed_load = true;\n",
       "    } else if (force !== true) {\n",
       "      var cell = $(document.getElementById(\"0c9ccec2-8d41-4693-a092-dc6997b6988a\")).parents('.cell').data().cell;\n",
       "      cell.output_area.append_execute_result(NB_LOAD_WARNING)\n",
       "    }\n",
       "\n",
       "  }\n",
       "\n",
       "  if (root._bokeh_is_loading === 0) {\n",
       "    console.log(\"Bokeh: BokehJS loaded, going straight to plotting\");\n",
       "    run_inline_js();\n",
       "  } else {\n",
       "    load_libs(js_urls, function() {\n",
       "      console.log(\"Bokeh: BokehJS plotting callback run at\", now());\n",
       "      run_inline_js();\n",
       "    });\n",
       "  }\n",
       "}(window));"
      ],
      "application/vnd.bokehjs_load.v0+json": "\n(function(root) {\n  function now() {\n    return new Date();\n  }\n\n  var force = true;\n\n  if (typeof (root._bokeh_onload_callbacks) === \"undefined\" || force === true) {\n    root._bokeh_onload_callbacks = [];\n    root._bokeh_is_loading = undefined;\n  }\n\n  \n\n  \n  if (typeof (root._bokeh_timeout) === \"undefined\" || force === true) {\n    root._bokeh_timeout = Date.now() + 5000;\n    root._bokeh_failed_load = false;\n  }\n\n  var NB_LOAD_WARNING = {'data': {'text/html':\n     \"<div style='background-color: #fdd'>\\n\"+\n     \"<p>\\n\"+\n     \"BokehJS does not appear to have successfully loaded. If loading BokehJS from CDN, this \\n\"+\n     \"may be due to a slow or bad network connection. Possible fixes:\\n\"+\n     \"</p>\\n\"+\n     \"<ul>\\n\"+\n     \"<li>re-rerun `output_notebook()` to attempt to load from CDN again, or</li>\\n\"+\n     \"<li>use INLINE resources instead, as so:</li>\\n\"+\n     \"</ul>\\n\"+\n     \"<code>\\n\"+\n     \"from bokeh.resources import INLINE\\n\"+\n     \"output_notebook(resources=INLINE)\\n\"+\n     \"</code>\\n\"+\n     \"</div>\"}};\n\n  function display_loaded() {\n    var el = document.getElementById(\"0c9ccec2-8d41-4693-a092-dc6997b6988a\");\n    if (el != null) {\n      el.textContent = \"BokehJS is loading...\";\n    }\n    if (root.Bokeh !== undefined) {\n      if (el != null) {\n        el.textContent = \"BokehJS \" + root.Bokeh.version + \" successfully loaded.\";\n      }\n    } else if (Date.now() < root._bokeh_timeout) {\n      setTimeout(display_loaded, 100)\n    }\n  }\n\n\n  function run_callbacks() {\n    try {\n      root._bokeh_onload_callbacks.forEach(function(callback) { callback() });\n    }\n    finally {\n      delete root._bokeh_onload_callbacks\n    }\n    console.info(\"Bokeh: all callbacks have finished\");\n  }\n\n  function load_libs(js_urls, callback) {\n    root._bokeh_onload_callbacks.push(callback);\n    if (root._bokeh_is_loading > 0) {\n      console.log(\"Bokeh: BokehJS is being loaded, scheduling callback at\", now());\n      return null;\n    }\n    if (js_urls == null || js_urls.length === 0) {\n      run_callbacks();\n      return null;\n    }\n    console.log(\"Bokeh: BokehJS not loaded, scheduling load and callback at\", now());\n    root._bokeh_is_loading = js_urls.length;\n    for (var i = 0; i < js_urls.length; i++) {\n      var url = js_urls[i];\n      var s = document.createElement('script');\n      s.src = url;\n      s.async = false;\n      s.onreadystatechange = s.onload = function() {\n        root._bokeh_is_loading--;\n        if (root._bokeh_is_loading === 0) {\n          console.log(\"Bokeh: all BokehJS libraries loaded\");\n          run_callbacks()\n        }\n      };\n      s.onerror = function() {\n        console.warn(\"failed to load library \" + url);\n      };\n      console.log(\"Bokeh: injecting script tag for BokehJS library: \", url);\n      document.getElementsByTagName(\"head\")[0].appendChild(s);\n    }\n  };var element = document.getElementById(\"0c9ccec2-8d41-4693-a092-dc6997b6988a\");\n  if (element == null) {\n    console.log(\"Bokeh: ERROR: autoload.js configured with elementid '0c9ccec2-8d41-4693-a092-dc6997b6988a' but no matching script tag was found. \")\n    return false;\n  }\n\n  var js_urls = [\"https://cdn.pydata.org/bokeh/release/bokeh-0.13.0.min.js\", \"https://cdn.pydata.org/bokeh/release/bokeh-widgets-0.13.0.min.js\", \"https://cdn.pydata.org/bokeh/release/bokeh-tables-0.13.0.min.js\", \"https://cdn.pydata.org/bokeh/release/bokeh-gl-0.13.0.min.js\"];\n\n  var inline_js = [\n    function(Bokeh) {\n      Bokeh.set_log_level(\"info\");\n    },\n    \n    function(Bokeh) {\n      \n    },\n    function(Bokeh) {\n      console.log(\"Bokeh: injecting CSS: https://cdn.pydata.org/bokeh/release/bokeh-0.13.0.min.css\");\n      Bokeh.embed.inject_css(\"https://cdn.pydata.org/bokeh/release/bokeh-0.13.0.min.css\");\n      console.log(\"Bokeh: injecting CSS: https://cdn.pydata.org/bokeh/release/bokeh-widgets-0.13.0.min.css\");\n      Bokeh.embed.inject_css(\"https://cdn.pydata.org/bokeh/release/bokeh-widgets-0.13.0.min.css\");\n      console.log(\"Bokeh: injecting CSS: https://cdn.pydata.org/bokeh/release/bokeh-tables-0.13.0.min.css\");\n      Bokeh.embed.inject_css(\"https://cdn.pydata.org/bokeh/release/bokeh-tables-0.13.0.min.css\");\n    }\n  ];\n\n  function run_inline_js() {\n    \n    if ((root.Bokeh !== undefined) || (force === true)) {\n      for (var i = 0; i < inline_js.length; i++) {\n        inline_js[i].call(root, root.Bokeh);\n      }if (force === true) {\n        display_loaded();\n      }} else if (Date.now() < root._bokeh_timeout) {\n      setTimeout(run_inline_js, 100);\n    } else if (!root._bokeh_failed_load) {\n      console.log(\"Bokeh: BokehJS failed to load within specified timeout.\");\n      root._bokeh_failed_load = true;\n    } else if (force !== true) {\n      var cell = $(document.getElementById(\"0c9ccec2-8d41-4693-a092-dc6997b6988a\")).parents('.cell').data().cell;\n      cell.output_area.append_execute_result(NB_LOAD_WARNING)\n    }\n\n  }\n\n  if (root._bokeh_is_loading === 0) {\n    console.log(\"Bokeh: BokehJS loaded, going straight to plotting\");\n    run_inline_js();\n  } else {\n    load_libs(js_urls, function() {\n      console.log(\"Bokeh: BokehJS plotting callback run at\", now());\n      run_inline_js();\n    });\n  }\n}(window));"
     },
     "metadata": {},
     "output_type": "display_data"
    }
   ],
   "source": [
    "output_notebook()"
   ]
  },
  {
   "cell_type": "code",
   "execution_count": 286,
   "metadata": {},
   "outputs": [],
   "source": [
    "plotly.tools.set_credentials_file(username='colejhudson', api_key='qFqMppEA5iyniB5jn5bj')"
   ]
  },
  {
   "cell_type": "code",
   "execution_count": 358,
   "metadata": {},
   "outputs": [
    {
     "data": {
      "text/html": [
       "<div>\n",
       "<style scoped>\n",
       "    .dataframe tbody tr th:only-of-type {\n",
       "        vertical-align: middle;\n",
       "    }\n",
       "\n",
       "    .dataframe tbody tr th {\n",
       "        vertical-align: top;\n",
       "    }\n",
       "\n",
       "    .dataframe thead th {\n",
       "        text-align: right;\n",
       "    }\n",
       "</style>\n",
       "<table border=\"1\" class=\"dataframe\">\n",
       "  <thead>\n",
       "    <tr style=\"text-align: right;\">\n",
       "      <th></th>\n",
       "      <th>month</th>\n",
       "      <th>passengers</th>\n",
       "      <th>year</th>\n",
       "    </tr>\n",
       "  </thead>\n",
       "  <tbody>\n",
       "    <tr>\n",
       "      <th>0</th>\n",
       "      <td>0</td>\n",
       "      <td>112</td>\n",
       "      <td>1949</td>\n",
       "    </tr>\n",
       "    <tr>\n",
       "      <th>1</th>\n",
       "      <td>1</td>\n",
       "      <td>118</td>\n",
       "      <td>1949</td>\n",
       "    </tr>\n",
       "    <tr>\n",
       "      <th>2</th>\n",
       "      <td>2</td>\n",
       "      <td>132</td>\n",
       "      <td>1949</td>\n",
       "    </tr>\n",
       "    <tr>\n",
       "      <th>3</th>\n",
       "      <td>3</td>\n",
       "      <td>129</td>\n",
       "      <td>1949</td>\n",
       "    </tr>\n",
       "    <tr>\n",
       "      <th>4</th>\n",
       "      <td>4</td>\n",
       "      <td>121</td>\n",
       "      <td>1949</td>\n",
       "    </tr>\n",
       "  </tbody>\n",
       "</table>\n",
       "</div>"
      ],
      "text/plain": [
       "   month  passengers  year\n",
       "0      0         112  1949\n",
       "1      1         118  1949\n",
       "2      2         132  1949\n",
       "3      3         129  1949\n",
       "4      4         121  1949"
      ]
     },
     "execution_count": 358,
     "metadata": {},
     "output_type": "execute_result"
    }
   ],
   "source": [
    "factorized_flights['year'] = flights['year']\n",
    "factorized_flights.head()"
   ]
  },
  {
   "cell_type": "code",
   "execution_count": 271,
   "metadata": {},
   "outputs": [
    {
     "data": {
      "application/vnd.vegalite.v2+json": {
       "$schema": "https://vega.github.io/schema/vega-lite/v2.6.0.json",
       "config": {
        "view": {
         "height": 300,
         "width": 400
        }
       },
       "data": {
        "name": "data-7421a19f4bd04f8c0350c5f15bb7ed79"
       },
       "datasets": {
        "data-7421a19f4bd04f8c0350c5f15bb7ed79": [
         {
          "month": 0,
          "passengers": 112,
          "year": 1949
         },
         {
          "month": 1,
          "passengers": 118,
          "year": 1949
         },
         {
          "month": 2,
          "passengers": 132,
          "year": 1949
         },
         {
          "month": 3,
          "passengers": 129,
          "year": 1949
         },
         {
          "month": 4,
          "passengers": 121,
          "year": 1949
         },
         {
          "month": 5,
          "passengers": 135,
          "year": 1949
         },
         {
          "month": 6,
          "passengers": 148,
          "year": 1949
         },
         {
          "month": 7,
          "passengers": 148,
          "year": 1949
         },
         {
          "month": 8,
          "passengers": 136,
          "year": 1949
         },
         {
          "month": 9,
          "passengers": 119,
          "year": 1949
         },
         {
          "month": 10,
          "passengers": 104,
          "year": 1949
         },
         {
          "month": 11,
          "passengers": 118,
          "year": 1949
         },
         {
          "month": 0,
          "passengers": 115,
          "year": 1950
         },
         {
          "month": 1,
          "passengers": 126,
          "year": 1950
         },
         {
          "month": 2,
          "passengers": 141,
          "year": 1950
         },
         {
          "month": 3,
          "passengers": 135,
          "year": 1950
         },
         {
          "month": 4,
          "passengers": 125,
          "year": 1950
         },
         {
          "month": 5,
          "passengers": 149,
          "year": 1950
         },
         {
          "month": 6,
          "passengers": 170,
          "year": 1950
         },
         {
          "month": 7,
          "passengers": 170,
          "year": 1950
         },
         {
          "month": 8,
          "passengers": 158,
          "year": 1950
         },
         {
          "month": 9,
          "passengers": 133,
          "year": 1950
         },
         {
          "month": 10,
          "passengers": 114,
          "year": 1950
         },
         {
          "month": 11,
          "passengers": 140,
          "year": 1950
         },
         {
          "month": 0,
          "passengers": 145,
          "year": 1951
         },
         {
          "month": 1,
          "passengers": 150,
          "year": 1951
         },
         {
          "month": 2,
          "passengers": 178,
          "year": 1951
         },
         {
          "month": 3,
          "passengers": 163,
          "year": 1951
         },
         {
          "month": 4,
          "passengers": 172,
          "year": 1951
         },
         {
          "month": 5,
          "passengers": 178,
          "year": 1951
         },
         {
          "month": 6,
          "passengers": 199,
          "year": 1951
         },
         {
          "month": 7,
          "passengers": 199,
          "year": 1951
         },
         {
          "month": 8,
          "passengers": 184,
          "year": 1951
         },
         {
          "month": 9,
          "passengers": 162,
          "year": 1951
         },
         {
          "month": 10,
          "passengers": 146,
          "year": 1951
         },
         {
          "month": 11,
          "passengers": 166,
          "year": 1951
         },
         {
          "month": 0,
          "passengers": 171,
          "year": 1952
         },
         {
          "month": 1,
          "passengers": 180,
          "year": 1952
         },
         {
          "month": 2,
          "passengers": 193,
          "year": 1952
         },
         {
          "month": 3,
          "passengers": 181,
          "year": 1952
         },
         {
          "month": 4,
          "passengers": 183,
          "year": 1952
         },
         {
          "month": 5,
          "passengers": 218,
          "year": 1952
         },
         {
          "month": 6,
          "passengers": 230,
          "year": 1952
         },
         {
          "month": 7,
          "passengers": 242,
          "year": 1952
         },
         {
          "month": 8,
          "passengers": 209,
          "year": 1952
         },
         {
          "month": 9,
          "passengers": 191,
          "year": 1952
         },
         {
          "month": 10,
          "passengers": 172,
          "year": 1952
         },
         {
          "month": 11,
          "passengers": 194,
          "year": 1952
         },
         {
          "month": 0,
          "passengers": 196,
          "year": 1953
         },
         {
          "month": 1,
          "passengers": 196,
          "year": 1953
         },
         {
          "month": 2,
          "passengers": 236,
          "year": 1953
         },
         {
          "month": 3,
          "passengers": 235,
          "year": 1953
         },
         {
          "month": 4,
          "passengers": 229,
          "year": 1953
         },
         {
          "month": 5,
          "passengers": 243,
          "year": 1953
         },
         {
          "month": 6,
          "passengers": 264,
          "year": 1953
         },
         {
          "month": 7,
          "passengers": 272,
          "year": 1953
         },
         {
          "month": 8,
          "passengers": 237,
          "year": 1953
         },
         {
          "month": 9,
          "passengers": 211,
          "year": 1953
         },
         {
          "month": 10,
          "passengers": 180,
          "year": 1953
         },
         {
          "month": 11,
          "passengers": 201,
          "year": 1953
         },
         {
          "month": 0,
          "passengers": 204,
          "year": 1954
         },
         {
          "month": 1,
          "passengers": 188,
          "year": 1954
         },
         {
          "month": 2,
          "passengers": 235,
          "year": 1954
         },
         {
          "month": 3,
          "passengers": 227,
          "year": 1954
         },
         {
          "month": 4,
          "passengers": 234,
          "year": 1954
         },
         {
          "month": 5,
          "passengers": 264,
          "year": 1954
         },
         {
          "month": 6,
          "passengers": 302,
          "year": 1954
         },
         {
          "month": 7,
          "passengers": 293,
          "year": 1954
         },
         {
          "month": 8,
          "passengers": 259,
          "year": 1954
         },
         {
          "month": 9,
          "passengers": 229,
          "year": 1954
         },
         {
          "month": 10,
          "passengers": 203,
          "year": 1954
         },
         {
          "month": 11,
          "passengers": 229,
          "year": 1954
         },
         {
          "month": 0,
          "passengers": 242,
          "year": 1955
         },
         {
          "month": 1,
          "passengers": 233,
          "year": 1955
         },
         {
          "month": 2,
          "passengers": 267,
          "year": 1955
         },
         {
          "month": 3,
          "passengers": 269,
          "year": 1955
         },
         {
          "month": 4,
          "passengers": 270,
          "year": 1955
         },
         {
          "month": 5,
          "passengers": 315,
          "year": 1955
         },
         {
          "month": 6,
          "passengers": 364,
          "year": 1955
         },
         {
          "month": 7,
          "passengers": 347,
          "year": 1955
         },
         {
          "month": 8,
          "passengers": 312,
          "year": 1955
         },
         {
          "month": 9,
          "passengers": 274,
          "year": 1955
         },
         {
          "month": 10,
          "passengers": 237,
          "year": 1955
         },
         {
          "month": 11,
          "passengers": 278,
          "year": 1955
         },
         {
          "month": 0,
          "passengers": 284,
          "year": 1956
         },
         {
          "month": 1,
          "passengers": 277,
          "year": 1956
         },
         {
          "month": 2,
          "passengers": 317,
          "year": 1956
         },
         {
          "month": 3,
          "passengers": 313,
          "year": 1956
         },
         {
          "month": 4,
          "passengers": 318,
          "year": 1956
         },
         {
          "month": 5,
          "passengers": 374,
          "year": 1956
         },
         {
          "month": 6,
          "passengers": 413,
          "year": 1956
         },
         {
          "month": 7,
          "passengers": 405,
          "year": 1956
         },
         {
          "month": 8,
          "passengers": 355,
          "year": 1956
         },
         {
          "month": 9,
          "passengers": 306,
          "year": 1956
         },
         {
          "month": 10,
          "passengers": 271,
          "year": 1956
         },
         {
          "month": 11,
          "passengers": 306,
          "year": 1956
         },
         {
          "month": 0,
          "passengers": 315,
          "year": 1957
         },
         {
          "month": 1,
          "passengers": 301,
          "year": 1957
         },
         {
          "month": 2,
          "passengers": 356,
          "year": 1957
         },
         {
          "month": 3,
          "passengers": 348,
          "year": 1957
         },
         {
          "month": 4,
          "passengers": 355,
          "year": 1957
         },
         {
          "month": 5,
          "passengers": 422,
          "year": 1957
         },
         {
          "month": 6,
          "passengers": 465,
          "year": 1957
         },
         {
          "month": 7,
          "passengers": 467,
          "year": 1957
         },
         {
          "month": 8,
          "passengers": 404,
          "year": 1957
         },
         {
          "month": 9,
          "passengers": 347,
          "year": 1957
         },
         {
          "month": 10,
          "passengers": 305,
          "year": 1957
         },
         {
          "month": 11,
          "passengers": 336,
          "year": 1957
         },
         {
          "month": 0,
          "passengers": 340,
          "year": 1958
         },
         {
          "month": 1,
          "passengers": 318,
          "year": 1958
         },
         {
          "month": 2,
          "passengers": 362,
          "year": 1958
         },
         {
          "month": 3,
          "passengers": 348,
          "year": 1958
         },
         {
          "month": 4,
          "passengers": 363,
          "year": 1958
         },
         {
          "month": 5,
          "passengers": 435,
          "year": 1958
         },
         {
          "month": 6,
          "passengers": 491,
          "year": 1958
         },
         {
          "month": 7,
          "passengers": 505,
          "year": 1958
         },
         {
          "month": 8,
          "passengers": 404,
          "year": 1958
         },
         {
          "month": 9,
          "passengers": 359,
          "year": 1958
         },
         {
          "month": 10,
          "passengers": 310,
          "year": 1958
         },
         {
          "month": 11,
          "passengers": 337,
          "year": 1958
         },
         {
          "month": 0,
          "passengers": 360,
          "year": 1959
         },
         {
          "month": 1,
          "passengers": 342,
          "year": 1959
         },
         {
          "month": 2,
          "passengers": 406,
          "year": 1959
         },
         {
          "month": 3,
          "passengers": 396,
          "year": 1959
         },
         {
          "month": 4,
          "passengers": 420,
          "year": 1959
         },
         {
          "month": 5,
          "passengers": 472,
          "year": 1959
         },
         {
          "month": 6,
          "passengers": 548,
          "year": 1959
         },
         {
          "month": 7,
          "passengers": 559,
          "year": 1959
         },
         {
          "month": 8,
          "passengers": 463,
          "year": 1959
         },
         {
          "month": 9,
          "passengers": 407,
          "year": 1959
         },
         {
          "month": 10,
          "passengers": 362,
          "year": 1959
         },
         {
          "month": 11,
          "passengers": 405,
          "year": 1959
         },
         {
          "month": 0,
          "passengers": 417,
          "year": 1960
         },
         {
          "month": 1,
          "passengers": 391,
          "year": 1960
         },
         {
          "month": 2,
          "passengers": 419,
          "year": 1960
         },
         {
          "month": 3,
          "passengers": 461,
          "year": 1960
         },
         {
          "month": 4,
          "passengers": 472,
          "year": 1960
         },
         {
          "month": 5,
          "passengers": 535,
          "year": 1960
         },
         {
          "month": 6,
          "passengers": 622,
          "year": 1960
         },
         {
          "month": 7,
          "passengers": 606,
          "year": 1960
         },
         {
          "month": 8,
          "passengers": 508,
          "year": 1960
         },
         {
          "month": 9,
          "passengers": 461,
          "year": 1960
         },
         {
          "month": 10,
          "passengers": 390,
          "year": 1960
         },
         {
          "month": 11,
          "passengers": 432,
          "year": 1960
         }
        ]
       },
       "encoding": {
        "color": {
         "field": "year",
         "scale": {
          "scheme": "spectral"
         },
         "type": "nominal"
        },
        "x": {
         "axis": {
          "format": "%M"
         },
         "field": "month",
         "type": "temporal"
        },
        "y": {
         "aggregate": "sum",
         "axis": null,
         "field": "passengers",
         "type": "quantitative"
        }
       },
       "mark": {
        "color": "red",
        "type": "area"
       }
      },
      "image/png": "[encoded data removed]",
      "text/plain": [
       "<VegaLite 2 object>\n",
       "\n",
       "If you see this message, it means the renderer has not been properly enabled\n",
       "for the frontend that you are using. For more information, see\n",
       "https://altair-viz.github.io/user_guide/troubleshooting.html\n"
      ]
     },
     "execution_count": 271,
     "metadata": {},
     "output_type": "execute_result"
    }
   ],
   "source": [
    "alt.Chart(factorized_flights).mark_area(\n",
    "    color='red',\n",
    ").encode(\n",
    "    alt.X('month:T', axis=alt.Axis(format='%M')),\n",
    "    alt.Y('sum(passengers):Q', axis=None),\n",
    "    alt.Color('year:N', scale=alt.Scale(scheme='spectral'))\n",
    ")"
   ]
  },
  {
   "cell_type": "code",
   "execution_count": 296,
   "metadata": {},
   "outputs": [
    {
     "name": "stderr",
     "output_type": "stream",
     "text": [
      "/opt/conda/lib/python3.6/site-packages/IPython/core/display.py:689: UserWarning:\n",
      "\n",
      "Consider using IPython.display.IFrame instead\n",
      "\n"
     ]
    },
    {
     "data": {
      "text/html": [
       "<iframe id=\"igraph\" scrolling=\"no\" style=\"border:none;\" seamless=\"seamless\" src=\"https://plot.ly/~colejhudson/6.embed\" height=\"600px\" width=\"600px\"></iframe>"
      ],
      "text/plain": [
       "<plotly.tools.PlotlyDisplay object>"
      ]
     },
     "execution_count": 296,
     "metadata": {},
     "output_type": "execute_result"
    }
   ],
   "source": [
    "x = factorized_flights['year']\n",
    "y = factorized_flights['passengers']\n",
    "\n",
    "colorscale = ['#7A4579', '#D56073', 'rgb(236,158,105)', (1, 1, 0.2), (0.98,0.98,0.98)]\n",
    "\n",
    "fig = ff.create_2d_density(\n",
    "    x, \n",
    "    y, \n",
    "    colorscale=colorscale,\n",
    "    hist_color='rgb(255, 237, 222)', \n",
    "    point_size=5\n",
    ")\n",
    "\n",
    "py.iplot(fig, filename='histogram_subplots')"
   ]
  },
  {
   "cell_type": "code",
   "execution_count": 297,
   "metadata": {},
   "outputs": [
    {
     "name": "stderr",
     "output_type": "stream",
     "text": [
      "/opt/conda/lib/python3.6/site-packages/IPython/core/display.py:689: UserWarning:\n",
      "\n",
      "Consider using IPython.display.IFrame instead\n",
      "\n"
     ]
    },
    {
     "data": {
      "text/html": [
       "<iframe id=\"igraph\" scrolling=\"no\" style=\"border:none;\" seamless=\"seamless\" src=\"https://plot.ly/~colejhudson/6.embed\" height=\"600px\" width=\"600px\"></iframe>"
      ],
      "text/plain": [
       "<plotly.tools.PlotlyDisplay object>"
      ]
     },
     "execution_count": 297,
     "metadata": {},
     "output_type": "execute_result"
    }
   ],
   "source": [
    "x = factorized_flights['month']\n",
    "y = factorized_flights['passengers']\n",
    "\n",
    "colorscale = ['#7A4579', '#D56073', 'rgb(236,158,105)', (1, 1, 0.2), (0.98,0.98,0.98)]\n",
    "\n",
    "fig = ff.create_2d_density(\n",
    "    x, \n",
    "    y, \n",
    "    colorscale=colorscale,\n",
    "    hist_color='rgb(255, 237, 222)', \n",
    "    point_size=5\n",
    ")\n",
    "\n",
    "py.iplot(fig, filename='histogram_subplots')"
   ]
  },
  {
   "cell_type": "code",
   "execution_count": 316,
   "metadata": {},
   "outputs": [
    {
     "data": {
      "text/plain": [
       "<matplotlib.axes._subplots.AxesSubplot at 0x7f1237d93128>"
      ]
     },
     "execution_count": 316,
     "metadata": {},
     "output_type": "execute_result"
    },
    {
     "data": {
      "image/png": "[encoded data removed]",
      "text/plain": [
       "<Figure size 432x288 with 1 Axes>"
      ]
     },
     "metadata": {},
     "output_type": "display_data"
    }
   ],
   "source": [
    "sns.set(style=\"whitegrid\", palette=\"muted\")\n",
    "\n",
    "# Load the example iris dataset\n",
    "iris = flights[['month', 'passengers']]\n",
    "\n",
    "# \"Melt\" the dataset to \"long-form\" or \"tidy\" representation\n",
    "iris = pd.melt(iris, \"month\", var_name=\"passengers\")\n",
    "\n",
    "# Draw a categorical scatterplot to show each observation\n",
    "sns.swarmplot(\n",
    "    x=\"passengers\", \n",
    "    y=\"value\", \n",
    "    hue=\"month\",\n",
    "    data=iris\n",
    ")"
   ]
  },
  {
   "cell_type": "code",
   "execution_count": 405,
   "metadata": {},
   "outputs": [
    {
     "data": {
      "text/html": [
       "<div>\n",
       "<style scoped>\n",
       "    .dataframe tbody tr th:only-of-type {\n",
       "        vertical-align: middle;\n",
       "    }\n",
       "\n",
       "    .dataframe tbody tr th {\n",
       "        vertical-align: top;\n",
       "    }\n",
       "\n",
       "    .dataframe thead th {\n",
       "        text-align: right;\n",
       "    }\n",
       "</style>\n",
       "<table border=\"1\" class=\"dataframe\">\n",
       "  <thead>\n",
       "    <tr style=\"text-align: right;\">\n",
       "      <th></th>\n",
       "      <th>month</th>\n",
       "      <th>passengers</th>\n",
       "      <th>year</th>\n",
       "    </tr>\n",
       "  </thead>\n",
       "  <tbody>\n",
       "    <tr>\n",
       "      <th>0</th>\n",
       "      <td>0</td>\n",
       "      <td>112</td>\n",
       "      <td>1949</td>\n",
       "    </tr>\n",
       "    <tr>\n",
       "      <th>1</th>\n",
       "      <td>1</td>\n",
       "      <td>118</td>\n",
       "      <td>1949</td>\n",
       "    </tr>\n",
       "    <tr>\n",
       "      <th>2</th>\n",
       "      <td>2</td>\n",
       "      <td>132</td>\n",
       "      <td>1949</td>\n",
       "    </tr>\n",
       "    <tr>\n",
       "      <th>3</th>\n",
       "      <td>3</td>\n",
       "      <td>129</td>\n",
       "      <td>1949</td>\n",
       "    </tr>\n",
       "    <tr>\n",
       "      <th>4</th>\n",
       "      <td>4</td>\n",
       "      <td>121</td>\n",
       "      <td>1949</td>\n",
       "    </tr>\n",
       "  </tbody>\n",
       "</table>\n",
       "</div>"
      ],
      "text/plain": [
       "   month  passengers  year\n",
       "0      0         112  1949\n",
       "1      1         118  1949\n",
       "2      2         132  1949\n",
       "3      3         129  1949\n",
       "4      4         121  1949"
      ]
     },
     "execution_count": 405,
     "metadata": {},
     "output_type": "execute_result"
    }
   ],
   "source": [
    "factorized_flights = pd.DataFrame(\n",
    "    {'month': pd.Series(flights['month'].factorize()[0]), 'passengers': flights['passengers']}\n",
    ")\n",
    "factorized_flights['year'] = flights['year']\n",
    "factorized_flights.head()"
   ]
  },
  {
   "cell_type": "code",
   "execution_count": 470,
   "metadata": {},
   "outputs": [],
   "source": [
    "df = factorized_flights"
   ]
  },
  {
   "cell_type": "code",
   "execution_count": 471,
   "metadata": {},
   "outputs": [
    {
     "data": {
      "text/html": [
       "<div>\n",
       "<style scoped>\n",
       "    .dataframe tbody tr th:only-of-type {\n",
       "        vertical-align: middle;\n",
       "    }\n",
       "\n",
       "    .dataframe tbody tr th {\n",
       "        vertical-align: top;\n",
       "    }\n",
       "\n",
       "    .dataframe thead th {\n",
       "        text-align: right;\n",
       "    }\n",
       "</style>\n",
       "<table border=\"1\" class=\"dataframe\">\n",
       "  <thead>\n",
       "    <tr style=\"text-align: right;\">\n",
       "      <th></th>\n",
       "      <th>month</th>\n",
       "      <th>passengers</th>\n",
       "      <th>year</th>\n",
       "    </tr>\n",
       "  </thead>\n",
       "  <tbody>\n",
       "    <tr>\n",
       "      <th>0</th>\n",
       "      <td>0</td>\n",
       "      <td>112</td>\n",
       "      <td>1949</td>\n",
       "    </tr>\n",
       "    <tr>\n",
       "      <th>1</th>\n",
       "      <td>1</td>\n",
       "      <td>118</td>\n",
       "      <td>1949</td>\n",
       "    </tr>\n",
       "    <tr>\n",
       "      <th>2</th>\n",
       "      <td>2</td>\n",
       "      <td>132</td>\n",
       "      <td>1949</td>\n",
       "    </tr>\n",
       "    <tr>\n",
       "      <th>3</th>\n",
       "      <td>3</td>\n",
       "      <td>129</td>\n",
       "      <td>1949</td>\n",
       "    </tr>\n",
       "    <tr>\n",
       "      <th>4</th>\n",
       "      <td>4</td>\n",
       "      <td>121</td>\n",
       "      <td>1949</td>\n",
       "    </tr>\n",
       "  </tbody>\n",
       "</table>\n",
       "</div>"
      ],
      "text/plain": [
       "   month  passengers  year\n",
       "0      0         112  1949\n",
       "1      1         118  1949\n",
       "2      2         132  1949\n",
       "3      3         129  1949\n",
       "4      4         121  1949"
      ]
     },
     "execution_count": 471,
     "metadata": {},
     "output_type": "execute_result"
    }
   ],
   "source": [
    "df.head()"
   ]
  },
  {
   "cell_type": "code",
   "execution_count": 472,
   "metadata": {},
   "outputs": [],
   "source": [
    "ndf = df.pivot(\n",
    "    index='year',\n",
    "    columns='month',\n",
    "    values='passengers'\n",
    ").reset_index()\n",
    "\n",
    "del ndf.index.name"
   ]
  },
  {
   "cell_type": "code",
   "execution_count": 511,
   "metadata": {},
   "outputs": [],
   "source": [
    "ndf['open'] = ndf[0]\n",
    "ndf['high'] = ndf[list(range(0,12))].apply(lambda x: max(x), axis=1)\n",
    "ndf['low'] = ndf[list(range(0,12))].apply(lambda x: min(x), axis=1)\n",
    "ndf['close'] = ndf[11]\n",
    "ndf['mids'] = (ndf.open + ndf.close)/2\n",
    "ndf['spans'] = abs(ndf.close-ndf.open)\n",
    "ndf['inc'] = ndf.close > ndf.open\n",
    "ndf['dec'] = ndf.open > ndf.close\n",
    "ndf['year'] = pd.to_datetime(ndf['year'].astype(str))"
   ]
  },
  {
   "cell_type": "code",
   "execution_count": 512,
   "metadata": {},
   "outputs": [
    {
     "data": {
      "text/html": [
       "<div>\n",
       "<style scoped>\n",
       "    .dataframe tbody tr th:only-of-type {\n",
       "        vertical-align: middle;\n",
       "    }\n",
       "\n",
       "    .dataframe tbody tr th {\n",
       "        vertical-align: top;\n",
       "    }\n",
       "\n",
       "    .dataframe thead th {\n",
       "        text-align: right;\n",
       "    }\n",
       "</style>\n",
       "<table border=\"1\" class=\"dataframe\">\n",
       "  <thead>\n",
       "    <tr style=\"text-align: right;\">\n",
       "      <th>month</th>\n",
       "      <th>year</th>\n",
       "      <th>0</th>\n",
       "      <th>1</th>\n",
       "      <th>2</th>\n",
       "      <th>3</th>\n",
       "      <th>4</th>\n",
       "      <th>5</th>\n",
       "      <th>6</th>\n",
       "      <th>7</th>\n",
       "      <th>8</th>\n",
       "      <th>...</th>\n",
       "      <th>10</th>\n",
       "      <th>11</th>\n",
       "      <th>open</th>\n",
       "      <th>high</th>\n",
       "      <th>low</th>\n",
       "      <th>close</th>\n",
       "      <th>mids</th>\n",
       "      <th>spans</th>\n",
       "      <th>inc</th>\n",
       "      <th>dec</th>\n",
       "    </tr>\n",
       "  </thead>\n",
       "  <tbody>\n",
       "    <tr>\n",
       "      <th>0</th>\n",
       "      <td>1949-01-01</td>\n",
       "      <td>112</td>\n",
       "      <td>118</td>\n",
       "      <td>132</td>\n",
       "      <td>129</td>\n",
       "      <td>121</td>\n",
       "      <td>135</td>\n",
       "      <td>148</td>\n",
       "      <td>148</td>\n",
       "      <td>136</td>\n",
       "      <td>...</td>\n",
       "      <td>104</td>\n",
       "      <td>118</td>\n",
       "      <td>112</td>\n",
       "      <td>148</td>\n",
       "      <td>104</td>\n",
       "      <td>118</td>\n",
       "      <td>115.0</td>\n",
       "      <td>6</td>\n",
       "      <td>True</td>\n",
       "      <td>False</td>\n",
       "    </tr>\n",
       "    <tr>\n",
       "      <th>1</th>\n",
       "      <td>1950-01-01</td>\n",
       "      <td>115</td>\n",
       "      <td>126</td>\n",
       "      <td>141</td>\n",
       "      <td>135</td>\n",
       "      <td>125</td>\n",
       "      <td>149</td>\n",
       "      <td>170</td>\n",
       "      <td>170</td>\n",
       "      <td>158</td>\n",
       "      <td>...</td>\n",
       "      <td>114</td>\n",
       "      <td>140</td>\n",
       "      <td>115</td>\n",
       "      <td>170</td>\n",
       "      <td>114</td>\n",
       "      <td>140</td>\n",
       "      <td>127.5</td>\n",
       "      <td>25</td>\n",
       "      <td>True</td>\n",
       "      <td>False</td>\n",
       "    </tr>\n",
       "    <tr>\n",
       "      <th>2</th>\n",
       "      <td>1951-01-01</td>\n",
       "      <td>145</td>\n",
       "      <td>150</td>\n",
       "      <td>178</td>\n",
       "      <td>163</td>\n",
       "      <td>172</td>\n",
       "      <td>178</td>\n",
       "      <td>199</td>\n",
       "      <td>199</td>\n",
       "      <td>184</td>\n",
       "      <td>...</td>\n",
       "      <td>146</td>\n",
       "      <td>166</td>\n",
       "      <td>145</td>\n",
       "      <td>199</td>\n",
       "      <td>145</td>\n",
       "      <td>166</td>\n",
       "      <td>155.5</td>\n",
       "      <td>21</td>\n",
       "      <td>True</td>\n",
       "      <td>False</td>\n",
       "    </tr>\n",
       "    <tr>\n",
       "      <th>3</th>\n",
       "      <td>1952-01-01</td>\n",
       "      <td>171</td>\n",
       "      <td>180</td>\n",
       "      <td>193</td>\n",
       "      <td>181</td>\n",
       "      <td>183</td>\n",
       "      <td>218</td>\n",
       "      <td>230</td>\n",
       "      <td>242</td>\n",
       "      <td>209</td>\n",
       "      <td>...</td>\n",
       "      <td>172</td>\n",
       "      <td>194</td>\n",
       "      <td>171</td>\n",
       "      <td>242</td>\n",
       "      <td>171</td>\n",
       "      <td>194</td>\n",
       "      <td>182.5</td>\n",
       "      <td>23</td>\n",
       "      <td>True</td>\n",
       "      <td>False</td>\n",
       "    </tr>\n",
       "    <tr>\n",
       "      <th>4</th>\n",
       "      <td>1953-01-01</td>\n",
       "      <td>196</td>\n",
       "      <td>196</td>\n",
       "      <td>236</td>\n",
       "      <td>235</td>\n",
       "      <td>229</td>\n",
       "      <td>243</td>\n",
       "      <td>264</td>\n",
       "      <td>272</td>\n",
       "      <td>237</td>\n",
       "      <td>...</td>\n",
       "      <td>180</td>\n",
       "      <td>201</td>\n",
       "      <td>196</td>\n",
       "      <td>272</td>\n",
       "      <td>180</td>\n",
       "      <td>201</td>\n",
       "      <td>198.5</td>\n",
       "      <td>5</td>\n",
       "      <td>True</td>\n",
       "      <td>False</td>\n",
       "    </tr>\n",
       "    <tr>\n",
       "      <th>5</th>\n",
       "      <td>1954-01-01</td>\n",
       "      <td>204</td>\n",
       "      <td>188</td>\n",
       "      <td>235</td>\n",
       "      <td>227</td>\n",
       "      <td>234</td>\n",
       "      <td>264</td>\n",
       "      <td>302</td>\n",
       "      <td>293</td>\n",
       "      <td>259</td>\n",
       "      <td>...</td>\n",
       "      <td>203</td>\n",
       "      <td>229</td>\n",
       "      <td>204</td>\n",
       "      <td>302</td>\n",
       "      <td>188</td>\n",
       "      <td>229</td>\n",
       "      <td>216.5</td>\n",
       "      <td>25</td>\n",
       "      <td>True</td>\n",
       "      <td>False</td>\n",
       "    </tr>\n",
       "    <tr>\n",
       "      <th>6</th>\n",
       "      <td>1955-01-01</td>\n",
       "      <td>242</td>\n",
       "      <td>233</td>\n",
       "      <td>267</td>\n",
       "      <td>269</td>\n",
       "      <td>270</td>\n",
       "      <td>315</td>\n",
       "      <td>364</td>\n",
       "      <td>347</td>\n",
       "      <td>312</td>\n",
       "      <td>...</td>\n",
       "      <td>237</td>\n",
       "      <td>278</td>\n",
       "      <td>242</td>\n",
       "      <td>364</td>\n",
       "      <td>233</td>\n",
       "      <td>278</td>\n",
       "      <td>260.0</td>\n",
       "      <td>36</td>\n",
       "      <td>True</td>\n",
       "      <td>False</td>\n",
       "    </tr>\n",
       "    <tr>\n",
       "      <th>7</th>\n",
       "      <td>1956-01-01</td>\n",
       "      <td>284</td>\n",
       "      <td>277</td>\n",
       "      <td>317</td>\n",
       "      <td>313</td>\n",
       "      <td>318</td>\n",
       "      <td>374</td>\n",
       "      <td>413</td>\n",
       "      <td>405</td>\n",
       "      <td>355</td>\n",
       "      <td>...</td>\n",
       "      <td>271</td>\n",
       "      <td>306</td>\n",
       "      <td>284</td>\n",
       "      <td>413</td>\n",
       "      <td>271</td>\n",
       "      <td>306</td>\n",
       "      <td>295.0</td>\n",
       "      <td>22</td>\n",
       "      <td>True</td>\n",
       "      <td>False</td>\n",
       "    </tr>\n",
       "    <tr>\n",
       "      <th>8</th>\n",
       "      <td>1957-01-01</td>\n",
       "      <td>315</td>\n",
       "      <td>301</td>\n",
       "      <td>356</td>\n",
       "      <td>348</td>\n",
       "      <td>355</td>\n",
       "      <td>422</td>\n",
       "      <td>465</td>\n",
       "      <td>467</td>\n",
       "      <td>404</td>\n",
       "      <td>...</td>\n",
       "      <td>305</td>\n",
       "      <td>336</td>\n",
       "      <td>315</td>\n",
       "      <td>467</td>\n",
       "      <td>301</td>\n",
       "      <td>336</td>\n",
       "      <td>325.5</td>\n",
       "      <td>21</td>\n",
       "      <td>True</td>\n",
       "      <td>False</td>\n",
       "    </tr>\n",
       "    <tr>\n",
       "      <th>9</th>\n",
       "      <td>1958-01-01</td>\n",
       "      <td>340</td>\n",
       "      <td>318</td>\n",
       "      <td>362</td>\n",
       "      <td>348</td>\n",
       "      <td>363</td>\n",
       "      <td>435</td>\n",
       "      <td>491</td>\n",
       "      <td>505</td>\n",
       "      <td>404</td>\n",
       "      <td>...</td>\n",
       "      <td>310</td>\n",
       "      <td>337</td>\n",
       "      <td>340</td>\n",
       "      <td>505</td>\n",
       "      <td>310</td>\n",
       "      <td>337</td>\n",
       "      <td>338.5</td>\n",
       "      <td>3</td>\n",
       "      <td>False</td>\n",
       "      <td>True</td>\n",
       "    </tr>\n",
       "    <tr>\n",
       "      <th>10</th>\n",
       "      <td>1959-01-01</td>\n",
       "      <td>360</td>\n",
       "      <td>342</td>\n",
       "      <td>406</td>\n",
       "      <td>396</td>\n",
       "      <td>420</td>\n",
       "      <td>472</td>\n",
       "      <td>548</td>\n",
       "      <td>559</td>\n",
       "      <td>463</td>\n",
       "      <td>...</td>\n",
       "      <td>362</td>\n",
       "      <td>405</td>\n",
       "      <td>360</td>\n",
       "      <td>559</td>\n",
       "      <td>342</td>\n",
       "      <td>405</td>\n",
       "      <td>382.5</td>\n",
       "      <td>45</td>\n",
       "      <td>True</td>\n",
       "      <td>False</td>\n",
       "    </tr>\n",
       "    <tr>\n",
       "      <th>11</th>\n",
       "      <td>1960-01-01</td>\n",
       "      <td>417</td>\n",
       "      <td>391</td>\n",
       "      <td>419</td>\n",
       "      <td>461</td>\n",
       "      <td>472</td>\n",
       "      <td>535</td>\n",
       "      <td>622</td>\n",
       "      <td>606</td>\n",
       "      <td>508</td>\n",
       "      <td>...</td>\n",
       "      <td>390</td>\n",
       "      <td>432</td>\n",
       "      <td>417</td>\n",
       "      <td>622</td>\n",
       "      <td>390</td>\n",
       "      <td>432</td>\n",
       "      <td>424.5</td>\n",
       "      <td>15</td>\n",
       "      <td>True</td>\n",
       "      <td>False</td>\n",
       "    </tr>\n",
       "  </tbody>\n",
       "</table>\n",
       "<p>12 rows × 21 columns</p>\n",
       "</div>"
      ],
      "text/plain": [
       "month       year    0    1    2    3    4    5    6    7    8  ...     10  \\\n",
       "0     1949-01-01  112  118  132  129  121  135  148  148  136  ...    104   \n",
       "1     1950-01-01  115  126  141  135  125  149  170  170  158  ...    114   \n",
       "2     1951-01-01  145  150  178  163  172  178  199  199  184  ...    146   \n",
       "3     1952-01-01  171  180  193  181  183  218  230  242  209  ...    172   \n",
       "4     1953-01-01  196  196  236  235  229  243  264  272  237  ...    180   \n",
       "5     1954-01-01  204  188  235  227  234  264  302  293  259  ...    203   \n",
       "6     1955-01-01  242  233  267  269  270  315  364  347  312  ...    237   \n",
       "7     1956-01-01  284  277  317  313  318  374  413  405  355  ...    271   \n",
       "8     1957-01-01  315  301  356  348  355  422  465  467  404  ...    305   \n",
       "9     1958-01-01  340  318  362  348  363  435  491  505  404  ...    310   \n",
       "10    1959-01-01  360  342  406  396  420  472  548  559  463  ...    362   \n",
       "11    1960-01-01  417  391  419  461  472  535  622  606  508  ...    390   \n",
       "\n",
       "month   11  open  high  low  close   mids  spans    inc    dec  \n",
       "0      118   112   148  104    118  115.0      6   True  False  \n",
       "1      140   115   170  114    140  127.5     25   True  False  \n",
       "2      166   145   199  145    166  155.5     21   True  False  \n",
       "3      194   171   242  171    194  182.5     23   True  False  \n",
       "4      201   196   272  180    201  198.5      5   True  False  \n",
       "5      229   204   302  188    229  216.5     25   True  False  \n",
       "6      278   242   364  233    278  260.0     36   True  False  \n",
       "7      306   284   413  271    306  295.0     22   True  False  \n",
       "8      336   315   467  301    336  325.5     21   True  False  \n",
       "9      337   340   505  310    337  338.5      3  False   True  \n",
       "10     405   360   559  342    405  382.5     45   True  False  \n",
       "11     432   417   622  390    432  424.5     15   True  False  \n",
       "\n",
       "[12 rows x 21 columns]"
      ]
     },
     "execution_count": 512,
     "metadata": {},
     "output_type": "execute_result"
    }
   ],
   "source": [
    "customer_volume = ndf\n",
    "customer_volume"
   ]
  },
  {
   "cell_type": "code",
   "execution_count": 571,
   "metadata": {},
   "outputs": [
    {
     "data": {
      "text/html": [
       "\n",
       "\n",
       "\n",
       "\n",
       "\n",
       "\n",
       "  <div class=\"bk-root\" id=\"4c6272b8-65cb-4d65-a711-2b63e8e5757d\"></div>\n"
      ]
     },
     "metadata": {},
     "output_type": "display_data"
    },
    {
     "data": {
      "application/javascript": [
       "(function(root) {\n",
       "  function embed_document(root) {\n",
       "    \n",
       "  var docs_json = {\"8c65ae58-e7f4-4857-808c-65f6216fa3e0\":{\"roots\":{\"references\":[{\"attributes\":{\"months\":[0,6]},\"id\":\"194b4144-cdb6-4a74-b7d1-ec9413cd0e43\",\"type\":\"MonthsTicker\"},{\"attributes\":{},\"id\":\"89116528-26cb-4b93-b815-3a116c1b563a\",\"type\":\"YearsTicker\"},{\"attributes\":{},\"id\":\"3b912b18-968e-4a5c-afb8-70d7c716a264\",\"type\":\"ResetTool\"},{\"attributes\":{},\"id\":\"8484bb9b-e474-4295-ad93-3afb9d2f6f13\",\"type\":\"Selection\"},{\"attributes\":{},\"id\":\"8d8952b8-7047-41ba-b3ca-4c5939dead4d\",\"type\":\"SaveTool\"},{\"attributes\":{},\"id\":\"4cdaf341-3939-4ffa-a7ba-b9a89776ad6b\",\"type\":\"UnionRenderers\"},{\"attributes\":{\"bottom_units\":\"screen\",\"fill_alpha\":{\"value\":0.5},\"fill_color\":{\"value\":\"lightgrey\"},\"left_units\":\"screen\",\"level\":\"overlay\",\"line_alpha\":{\"value\":1.0},\"line_color\":{\"value\":\"black\"},\"line_dash\":[4,4],\"line_width\":{\"value\":2},\"plot\":null,\"render_mode\":\"css\",\"right_units\":\"screen\",\"top_units\":\"screen\"},\"id\":\"4231810c-a7cc-40d0-80bf-18251838aa65\",\"type\":\"BoxAnnotation\"},{\"attributes\":{},\"id\":\"321dd698-720a-4f59-ad8e-a12fe90ccbf7\",\"type\":\"Selection\"},{\"attributes\":{\"callback\":null,\"data\":{\"bottom\":[118,140,166,194,201,229,278,306,336,405,432],\"top\":[112,115,145,171,196,204,242,284,315,360,417],\"x\":{\"__ndarray__\":\"AAAADWlJY8IAAIDncl5iwgAAAMJ8c2HCAACAnIaIYMIAAABX1zlfwgAAAAzrY13CAAAAwf6NW8IAAAB2ErhZwgAAAJTc4FfCAAAA/gM1VMIAAACzF19Swg==\",\"dtype\":\"float64\",\"shape\":[11]}},\"selected\":{\"id\":\"321dd698-720a-4f59-ad8e-a12fe90ccbf7\",\"type\":\"Selection\"},\"selection_policy\":{\"id\":\"e8097bfd-b48a-47bb-a294-e0d900249674\",\"type\":\"UnionRenderers\"}},\"id\":\"89eaea26-f381-481f-ae29-4c35a382272d\",\"type\":\"ColumnDataSource\"},{\"attributes\":{},\"id\":\"e8097bfd-b48a-47bb-a294-e0d900249674\",\"type\":\"UnionRenderers\"},{\"attributes\":{},\"id\":\"1940481d-af9d-406e-9d67-6eaf4311a00e\",\"type\":\"Selection\"},{\"attributes\":{},\"id\":\"39733626-671a-430f-a392-1da516c795b6\",\"type\":\"UnionRenderers\"},{\"attributes\":{\"bottom\":{\"field\":\"bottom\"},\"fill_color\":{\"value\":\"#35B778\"},\"top\":{\"field\":\"top\"},\"width\":{\"value\":31536000000},\"x\":{\"field\":\"x\"}},\"id\":\"1b45481b-d91f-4f6e-8f95-46f339553fff\",\"type\":\"VBar\"},{\"attributes\":{\"bottom\":{\"field\":\"bottom\"},\"fill_alpha\":{\"value\":0.1},\"fill_color\":{\"value\":\"#1f77b4\"},\"line_alpha\":{\"value\":0.1},\"line_color\":{\"value\":\"#1f77b4\"},\"top\":{\"field\":\"top\"},\"width\":{\"value\":31536000000},\"x\":{\"field\":\"x\"}},\"id\":\"1e885392-2927-43a3-a43b-a1782405deb1\",\"type\":\"VBar\"},{\"attributes\":{\"data_source\":{\"id\":\"89eaea26-f381-481f-ae29-4c35a382272d\",\"type\":\"ColumnDataSource\"},\"glyph\":{\"id\":\"1b45481b-d91f-4f6e-8f95-46f339553fff\",\"type\":\"VBar\"},\"hover_glyph\":null,\"muted_glyph\":null,\"nonselection_glyph\":{\"id\":\"1e885392-2927-43a3-a43b-a1782405deb1\",\"type\":\"VBar\"},\"selection_glyph\":null,\"view\":{\"id\":\"9497aa14-4479-4dfa-843e-f43624973367\",\"type\":\"CDSView\"}},\"id\":\"189a9d00-6429-4ee7-8998-0b3722dff3de\",\"type\":\"GlyphRenderer\"},{\"attributes\":{},\"id\":\"c82604c1-df83-4a24-9f6c-28739cc1c24e\",\"type\":\"PanTool\"},{\"attributes\":{\"callback\":null,\"data\":{\"bottom\":[337],\"top\":[340],\"x\":{\"__ndarray__\":\"AAAASfAKVsI=\",\"dtype\":\"float64\",\"shape\":[1]}},\"selected\":{\"id\":\"1940481d-af9d-406e-9d67-6eaf4311a00e\",\"type\":\"Selection\"},\"selection_policy\":{\"id\":\"39733626-671a-430f-a392-1da516c795b6\",\"type\":\"UnionRenderers\"}},\"id\":\"6c17a3a5-f0d2-458d-8ef2-b904f78e87ad\",\"type\":\"ColumnDataSource\"},{\"attributes\":{\"source\":{\"id\":\"89eaea26-f381-481f-ae29-4c35a382272d\",\"type\":\"ColumnDataSource\"}},\"id\":\"9497aa14-4479-4dfa-843e-f43624973367\",\"type\":\"CDSView\"},{\"attributes\":{},\"id\":\"29c2e56b-0dc3-47cc-bcf1-e658f9653104\",\"type\":\"BasicTickFormatter\"},{\"attributes\":{\"x0\":{\"field\":\"x0\"},\"x1\":{\"field\":\"x1\"},\"y0\":{\"field\":\"y0\"},\"y1\":{\"field\":\"y1\"}},\"id\":\"487787c8-558c-4e36-883e-1911f487860a\",\"type\":\"Segment\"},{\"attributes\":{\"formatter\":{\"id\":\"21b2272c-d846-4640-9111-60dcc6434159\",\"type\":\"DatetimeTickFormatter\"},\"plot\":{\"id\":\"f0458079-0021-4274-a336-bbdd5f6312f9\",\"subtype\":\"Figure\",\"type\":\"Plot\"},\"ticker\":{\"id\":\"6caeec92-ed47-4a6c-a28d-13e89d427146\",\"type\":\"DatetimeTicker\"}},\"id\":\"fb070f25-decd-4ec2-b9a8-846f7846867f\",\"type\":\"DatetimeAxis\"},{\"attributes\":{\"grid_line_alpha\":{\"value\":0.3},\"plot\":{\"id\":\"f0458079-0021-4274-a336-bbdd5f6312f9\",\"subtype\":\"Figure\",\"type\":\"Plot\"},\"ticker\":{\"id\":\"6caeec92-ed47-4a6c-a28d-13e89d427146\",\"type\":\"DatetimeTicker\"}},\"id\":\"432b4eae-d2e6-4b26-a76c-b0e99d35c946\",\"type\":\"Grid\"},{\"attributes\":{\"callback\":null,\"data\":{\"x0\":{\"__ndarray__\":\"AAAADWlJY8IAAIDncl5iwgAAAMJ8c2HCAACAnIaIYMIAAABX1zlfwgAAAAzrY13CAAAAwf6NW8IAAAB2ErhZwgAAAJTc4FfCAAAASfAKVsIAAAD+AzVUwgAAALMXX1LC\",\"dtype\":\"float64\",\"shape\":[12]},\"x1\":{\"__ndarray__\":\"AAAADWlJY8IAAIDncl5iwgAAAMJ8c2HCAACAnIaIYMIAAABX1zlfwgAAAAzrY13CAAAAwf6NW8IAAAB2ErhZwgAAAJTc4FfCAAAASfAKVsIAAAD+AzVUwgAAALMXX1LC\",\"dtype\":\"float64\",\"shape\":[12]},\"y0\":[148,170,199,242,272,302,364,413,467,505,559,622],\"y1\":[104,114,145,171,180,188,233,271,301,310,342,390]},\"selected\":{\"id\":\"8484bb9b-e474-4295-ad93-3afb9d2f6f13\",\"type\":\"Selection\"},\"selection_policy\":{\"id\":\"4cdaf341-3939-4ffa-a7ba-b9a89776ad6b\",\"type\":\"UnionRenderers\"}},\"id\":\"7c13ed1b-1387-414f-8c8b-010faf0478f5\",\"type\":\"ColumnDataSource\"},{\"attributes\":{\"callback\":null},\"id\":\"d1a3c811-8b0f-4886-b9e0-dc15b4df5d25\",\"type\":\"DataRange1d\"},{\"attributes\":{\"mantissas\":[1,2,5],\"max_interval\":500.0,\"num_minor_ticks\":0},\"id\":\"3bc79daf-5bf8-4b47-8afd-27a39d7f1fe0\",\"type\":\"AdaptiveTicker\"},{\"attributes\":{\"source\":{\"id\":\"7c13ed1b-1387-414f-8c8b-010faf0478f5\",\"type\":\"ColumnDataSource\"}},\"id\":\"6b06dae3-1dae-4c6b-aad8-47895ee28849\",\"type\":\"CDSView\"},{\"attributes\":{\"bottom\":{\"field\":\"bottom\"},\"fill_color\":{\"value\":\"red\"},\"top\":{\"field\":\"top\"},\"width\":{\"value\":31536000000},\"x\":{\"field\":\"x\"}},\"id\":\"0dd6eb4d-0d49-445b-99cc-5420ad34f762\",\"type\":\"VBar\"},{\"attributes\":{\"bottom\":{\"field\":\"bottom\"},\"fill_alpha\":{\"value\":0.1},\"fill_color\":{\"value\":\"#1f77b4\"},\"line_alpha\":{\"value\":0.1},\"line_color\":{\"value\":\"#1f77b4\"},\"top\":{\"field\":\"top\"},\"width\":{\"value\":31536000000},\"x\":{\"field\":\"x\"}},\"id\":\"6050efe2-5c65-4b4d-8ff4-c42f6f978e8a\",\"type\":\"VBar\"},{\"attributes\":{\"num_minor_ticks\":5,\"tickers\":[{\"id\":\"3bc79daf-5bf8-4b47-8afd-27a39d7f1fe0\",\"type\":\"AdaptiveTicker\"},{\"id\":\"af02eaf3-1655-4683-ba11-efc838bbc4a7\",\"type\":\"AdaptiveTicker\"},{\"id\":\"432ac492-1f41-47cd-a121-165042785bf6\",\"type\":\"AdaptiveTicker\"},{\"id\":\"ea1a5d1d-f3ed-46f1-b54b-b19f287b3d96\",\"type\":\"DaysTicker\"},{\"id\":\"b365e3d3-3054-4173-8143-cf2a68ed3ca2\",\"type\":\"DaysTicker\"},{\"id\":\"56204107-aa3b-4899-b3a2-36a9c53d99e3\",\"type\":\"DaysTicker\"},{\"id\":\"81f146f2-ca7b-4a87-9e15-db1a32404aa0\",\"type\":\"DaysTicker\"},{\"id\":\"6b2a5a1f-7fe1-479b-bf5a-a9b8c6c7f026\",\"type\":\"MonthsTicker\"},{\"id\":\"a99a543d-fea7-4de5-9071-7f523636a705\",\"type\":\"MonthsTicker\"},{\"id\":\"0dc10e2a-40d9-4614-8ce1-20e41a11e746\",\"type\":\"MonthsTicker\"},{\"id\":\"194b4144-cdb6-4a74-b7d1-ec9413cd0e43\",\"type\":\"MonthsTicker\"},{\"id\":\"89116528-26cb-4b93-b815-3a116c1b563a\",\"type\":\"YearsTicker\"}]},\"id\":\"6caeec92-ed47-4a6c-a28d-13e89d427146\",\"type\":\"DatetimeTicker\"},{\"attributes\":{\"data_source\":{\"id\":\"6c17a3a5-f0d2-458d-8ef2-b904f78e87ad\",\"type\":\"ColumnDataSource\"},\"glyph\":{\"id\":\"0dd6eb4d-0d49-445b-99cc-5420ad34f762\",\"type\":\"VBar\"},\"hover_glyph\":null,\"muted_glyph\":null,\"nonselection_glyph\":{\"id\":\"6050efe2-5c65-4b4d-8ff4-c42f6f978e8a\",\"type\":\"VBar\"},\"selection_glyph\":null,\"view\":{\"id\":\"d3189c94-9961-4eea-9c1a-6fd3287a7ca9\",\"type\":\"CDSView\"}},\"id\":\"e2008310-c1b5-4460-bb50-392b386f9400\",\"type\":\"GlyphRenderer\"},{\"attributes\":{\"below\":[{\"id\":\"fb070f25-decd-4ec2-b9a8-846f7846867f\",\"type\":\"DatetimeAxis\"}],\"left\":[{\"id\":\"eb246ce2-4473-4507-aa81-f372a42ce62c\",\"type\":\"LinearAxis\"}],\"renderers\":[{\"id\":\"fb070f25-decd-4ec2-b9a8-846f7846867f\",\"type\":\"DatetimeAxis\"},{\"id\":\"432b4eae-d2e6-4b26-a76c-b0e99d35c946\",\"type\":\"Grid\"},{\"id\":\"eb246ce2-4473-4507-aa81-f372a42ce62c\",\"type\":\"LinearAxis\"},{\"id\":\"1fa0db2e-ab79-4e59-86be-0b2715f19fb1\",\"type\":\"Grid\"},{\"id\":\"4231810c-a7cc-40d0-80bf-18251838aa65\",\"type\":\"BoxAnnotation\"},{\"id\":\"95f4f2b7-853d-4f1e-a1b2-b76e3b9fafe3\",\"type\":\"GlyphRenderer\"},{\"id\":\"189a9d00-6429-4ee7-8998-0b3722dff3de\",\"type\":\"GlyphRenderer\"},{\"id\":\"e2008310-c1b5-4460-bb50-392b386f9400\",\"type\":\"GlyphRenderer\"}],\"title\":{\"id\":\"e47dac89-4117-4e51-8bac-134dd6d9d723\",\"type\":\"Title\"},\"toolbar\":{\"id\":\"6bc7a3fe-5b18-4073-8d8f-333f6600d251\",\"type\":\"Toolbar\"},\"x_range\":{\"id\":\"4d5005e4-8c87-42f1-aabb-b4febddbc1f3\",\"type\":\"DataRange1d\"},\"x_scale\":{\"id\":\"3f05ed5e-1bb6-40e8-a0b7-1003e3c1f20e\",\"type\":\"LinearScale\"},\"y_range\":{\"id\":\"d1a3c811-8b0f-4886-b9e0-dc15b4df5d25\",\"type\":\"DataRange1d\"},\"y_scale\":{\"id\":\"d269a370-28d0-4882-8926-1a770261db81\",\"type\":\"LinearScale\"}},\"id\":\"f0458079-0021-4274-a336-bbdd5f6312f9\",\"subtype\":\"Figure\",\"type\":\"Plot\"},{\"attributes\":{\"source\":{\"id\":\"6c17a3a5-f0d2-458d-8ef2-b904f78e87ad\",\"type\":\"ColumnDataSource\"}},\"id\":\"d3189c94-9961-4eea-9c1a-6fd3287a7ca9\",\"type\":\"CDSView\"},{\"attributes\":{},\"id\":\"21b2272c-d846-4640-9111-60dcc6434159\",\"type\":\"DatetimeTickFormatter\"},{\"attributes\":{},\"id\":\"d269a370-28d0-4882-8926-1a770261db81\",\"type\":\"LinearScale\"},{\"attributes\":{\"callback\":null},\"id\":\"4d5005e4-8c87-42f1-aabb-b4febddbc1f3\",\"type\":\"DataRange1d\"},{\"attributes\":{\"overlay\":{\"id\":\"4231810c-a7cc-40d0-80bf-18251838aa65\",\"type\":\"BoxAnnotation\"}},\"id\":\"811da213-8690-47d7-ba52-cd45867b1e2a\",\"type\":\"BoxZoomTool\"},{\"attributes\":{\"base\":60,\"mantissas\":[1,2,5,10,15,20,30],\"max_interval\":1800000.0,\"min_interval\":1000.0,\"num_minor_ticks\":0},\"id\":\"af02eaf3-1655-4683-ba11-efc838bbc4a7\",\"type\":\"AdaptiveTicker\"},{\"attributes\":{\"plot\":null,\"text\":\"MSFT Candlestick\"},\"id\":\"e47dac89-4117-4e51-8bac-134dd6d9d723\",\"type\":\"Title\"},{\"attributes\":{},\"id\":\"3f05ed5e-1bb6-40e8-a0b7-1003e3c1f20e\",\"type\":\"LinearScale\"},{\"attributes\":{\"base\":24,\"mantissas\":[1,2,4,6,8,12],\"max_interval\":43200000.0,\"min_interval\":3600000.0,\"num_minor_ticks\":0},\"id\":\"432ac492-1f41-47cd-a121-165042785bf6\",\"type\":\"AdaptiveTicker\"},{\"attributes\":{\"active_drag\":\"auto\",\"active_inspect\":\"auto\",\"active_multi\":null,\"active_scroll\":\"auto\",\"active_tap\":\"auto\",\"tools\":[{\"id\":\"c82604c1-df83-4a24-9f6c-28739cc1c24e\",\"type\":\"PanTool\"},{\"id\":\"ac473aa2-c618-4080-86cc-4503dcfcbef7\",\"type\":\"WheelZoomTool\"},{\"id\":\"811da213-8690-47d7-ba52-cd45867b1e2a\",\"type\":\"BoxZoomTool\"},{\"id\":\"3b912b18-968e-4a5c-afb8-70d7c716a264\",\"type\":\"ResetTool\"},{\"id\":\"8d8952b8-7047-41ba-b3ca-4c5939dead4d\",\"type\":\"SaveTool\"}]},\"id\":\"6bc7a3fe-5b18-4073-8d8f-333f6600d251\",\"type\":\"Toolbar\"},{\"attributes\":{},\"id\":\"ac473aa2-c618-4080-86cc-4503dcfcbef7\",\"type\":\"WheelZoomTool\"},{\"attributes\":{\"days\":[1,2,3,4,5,6,7,8,9,10,11,12,13,14,15,16,17,18,19,20,21,22,23,24,25,26,27,28,29,30,31]},\"id\":\"ea1a5d1d-f3ed-46f1-b54b-b19f287b3d96\",\"type\":\"DaysTicker\"},{\"attributes\":{\"data_source\":{\"id\":\"7c13ed1b-1387-414f-8c8b-010faf0478f5\",\"type\":\"ColumnDataSource\"},\"glyph\":{\"id\":\"487787c8-558c-4e36-883e-1911f487860a\",\"type\":\"Segment\"},\"hover_glyph\":null,\"muted_glyph\":null,\"nonselection_glyph\":{\"id\":\"729ad11c-9278-4b87-ab83-c309877aa4ab\",\"type\":\"Segment\"},\"selection_glyph\":null,\"view\":{\"id\":\"6b06dae3-1dae-4c6b-aad8-47895ee28849\",\"type\":\"CDSView\"}},\"id\":\"95f4f2b7-853d-4f1e-a1b2-b76e3b9fafe3\",\"type\":\"GlyphRenderer\"},{\"attributes\":{\"days\":[1,4,7,10,13,16,19,22,25,28]},\"id\":\"b365e3d3-3054-4173-8143-cf2a68ed3ca2\",\"type\":\"DaysTicker\"},{\"attributes\":{\"days\":[1,8,15,22]},\"id\":\"56204107-aa3b-4899-b3a2-36a9c53d99e3\",\"type\":\"DaysTicker\"},{\"attributes\":{\"line_alpha\":{\"value\":0.1},\"line_color\":{\"value\":\"#1f77b4\"},\"x0\":{\"field\":\"x0\"},\"x1\":{\"field\":\"x1\"},\"y0\":{\"field\":\"y0\"},\"y1\":{\"field\":\"y1\"}},\"id\":\"729ad11c-9278-4b87-ab83-c309877aa4ab\",\"type\":\"Segment\"},{\"attributes\":{\"days\":[1,15]},\"id\":\"81f146f2-ca7b-4a87-9e15-db1a32404aa0\",\"type\":\"DaysTicker\"},{\"attributes\":{\"dimension\":1,\"grid_line_alpha\":{\"value\":0.3},\"plot\":{\"id\":\"f0458079-0021-4274-a336-bbdd5f6312f9\",\"subtype\":\"Figure\",\"type\":\"Plot\"},\"ticker\":{\"id\":\"bb599088-e558-4382-a73d-a4aa400de53e\",\"type\":\"BasicTicker\"}},\"id\":\"1fa0db2e-ab79-4e59-86be-0b2715f19fb1\",\"type\":\"Grid\"},{\"attributes\":{\"months\":[0,1,2,3,4,5,6,7,8,9,10,11]},\"id\":\"6b2a5a1f-7fe1-479b-bf5a-a9b8c6c7f026\",\"type\":\"MonthsTicker\"},{\"attributes\":{\"formatter\":{\"id\":\"29c2e56b-0dc3-47cc-bcf1-e658f9653104\",\"type\":\"BasicTickFormatter\"},\"plot\":{\"id\":\"f0458079-0021-4274-a336-bbdd5f6312f9\",\"subtype\":\"Figure\",\"type\":\"Plot\"},\"ticker\":{\"id\":\"bb599088-e558-4382-a73d-a4aa400de53e\",\"type\":\"BasicTicker\"}},\"id\":\"eb246ce2-4473-4507-aa81-f372a42ce62c\",\"type\":\"LinearAxis\"},{\"attributes\":{\"months\":[0,2,4,6,8,10]},\"id\":\"a99a543d-fea7-4de5-9071-7f523636a705\",\"type\":\"MonthsTicker\"},{\"attributes\":{},\"id\":\"bb599088-e558-4382-a73d-a4aa400de53e\",\"type\":\"BasicTicker\"},{\"attributes\":{\"months\":[0,4,8]},\"id\":\"0dc10e2a-40d9-4614-8ce1-20e41a11e746\",\"type\":\"MonthsTicker\"}],\"root_ids\":[\"f0458079-0021-4274-a336-bbdd5f6312f9\"]},\"title\":\"Bokeh Application\",\"version\":\"0.13.0\"}};\n",
       "  var render_items = [{\"docid\":\"8c65ae58-e7f4-4857-808c-65f6216fa3e0\",\"roots\":{\"f0458079-0021-4274-a336-bbdd5f6312f9\":\"4c6272b8-65cb-4d65-a711-2b63e8e5757d\"}}];\n",
       "  root.Bokeh.embed.embed_items_notebook(docs_json, render_items);\n",
       "\n",
       "  }\n",
       "  if (root.Bokeh !== undefined) {\n",
       "    embed_document(root);\n",
       "  } else {\n",
       "    var attempts = 0;\n",
       "    var timer = setInterval(function(root) {\n",
       "      if (root.Bokeh !== undefined) {\n",
       "        embed_document(root);\n",
       "        clearInterval(timer);\n",
       "      }\n",
       "      attempts++;\n",
       "      if (attempts > 100) {\n",
       "        console.log(\"Bokeh: ERROR: Unable to run BokehJS code because BokehJS library is missing\")\n",
       "        clearInterval(timer);\n",
       "      }\n",
       "    }, 10, root)\n",
       "  }\n",
       "})(window);"
      ],
      "application/vnd.bokehjs_exec.v0+json": ""
     },
     "metadata": {
      "application/vnd.bokehjs_exec.v0+json": {
       "id": "f0458079-0021-4274-a336-bbdd5f6312f9"
      }
     },
     "output_type": "display_data"
    }
   ],
   "source": [
    "TOOLS = \"pan,wheel_zoom,box_zoom,reset,save\"\n",
    "\n",
    "p = figure(\n",
    "    x_axis_type=\"datetime\", \n",
    "    tools=TOOLS, \n",
    "    plot_width=600, \n",
    "    plot_height=600,\n",
    "    title = \"MSFT Candlestick\"\n",
    ")\n",
    "\n",
    "w = (24*60*60*1000)*365 # half day in ms\n",
    "\n",
    "inc = customer_volume['inc']\n",
    "dec = customer_volume['dec']\n",
    "\n",
    "palette = inferno(40)\n",
    "up = '#35B778'\n",
    "down = 'red'\n",
    "\n",
    "p.grid.grid_line_alpha=0.3\n",
    "\n",
    "p.segment(\n",
    "    customer_volume['year'], \n",
    "    customer_volume['high'], \n",
    "    customer_volume['year'], \n",
    "    customer_volume['low'], \n",
    "    color=\"black\"\n",
    ")\n",
    "\n",
    "# Draw up years\n",
    "p.vbar(\n",
    "    customer_volume['year'][inc], \n",
    "    w, \n",
    "    customer_volume['open'][inc], \n",
    "    customer_volume['close'][inc], \n",
    "    fill_color=up, \n",
    "    line_color=\"black\")\n",
    "\n",
    "# Draw down years\n",
    "p.vbar(\n",
    "    customer_volume['year'][dec], \n",
    "    w, \n",
    "    customer_volume['open'][dec], \n",
    "    customer_volume['close'][dec], \n",
    "    fill_color=down,\n",
    "    line_color=\"black\"\n",
    ")\n",
    "\n",
    "show(p)"
   ]
  }
 ],
 "metadata": {
  "colab": {
   "collapsed_sections": [
    "Cn-xMBPcljbc"
   ],
   "name": "LS_DS_222_Choose_appropriate_visualizations LIVE LESSON.ipynb",
   "provenance": [],
   "version": "0.3.2"
  },
  "kernelspec": {
   "display_name": "Python 3",
   "language": "python",
   "name": "python3"
  },
  "language_info": {
   "codemirror_mode": {
    "name": "ipython",
    "version": 3
   },
   "file_extension": ".py",
   "mimetype": "text/x-python",
   "name": "python",
   "nbconvert_exporter": "python",
   "pygments_lexer": "ipython3",
   "version": "3.6.7"
  }
 },
 "nbformat": 4,
 "nbformat_minor": 2
}
