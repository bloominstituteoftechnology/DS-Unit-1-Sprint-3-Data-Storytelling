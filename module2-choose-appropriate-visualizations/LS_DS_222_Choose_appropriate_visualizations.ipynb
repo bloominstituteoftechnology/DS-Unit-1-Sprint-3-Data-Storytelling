{
  "nbformat": 4,
  "nbformat_minor": 0,
  "metadata": {
    "colab": {
      "name": "LS_DS_222_Choose_appropriate_visualizations.ipynb",
      "version": "0.3.2",
      "provenance": [],
      "collapsed_sections": [
        "Cn-xMBPcljbc"
      ],
      "include_colab_link": true
    },
    "kernelspec": {
      "display_name": "Python 3",
      "language": "python",
      "name": "python3"
    }
  },
  "cells": [
    {
      "cell_type": "markdown",
      "metadata": {
        "id": "view-in-github",
        "colab_type": "text"
      },
      "source": [
        "<a href=\"https://colab.research.google.com/github/will-cotton4/DS-Unit-1-Sprint-3-Data-Storytelling/blob/master/module2-choose-appropriate-visualizations/LS_DS_222_Choose_appropriate_visualizations.ipynb\" target=\"_parent\"><img src=\"https://colab.research.google.com/assets/colab-badge.svg\" alt=\"Open In Colab\"/></a>"
      ]
    },
    {
      "metadata": {
        "colab_type": "text",
        "id": "1nwMfulDljaS"
      },
      "cell_type": "markdown",
      "source": [
        "_Lambda School Data Science_\n",
        "# Choose appropriate visualizations\n",
        "\n",
        "Objectives\n",
        "- fix misleading visualizations\n",
        "- use Seaborn to visualize distributions and relationships with continuous and discrete variables\n",
        "\n",
        "Links\n",
        "- [How to Spot Visualization Lies](https://flowingdata.com/2017/02/09/how-to-spot-visualization-lies/)\n",
        "- [Visual Vocabulary - Vega Edition](http://ft.com/vocabulary)\n",
        "- [Choosing a Python Visualization Tool flowchart](http://pbpython.com/python-vis-flowchart.html)\n",
        "- [Searborn example gallery](http://seaborn.pydata.org/examples/index.html) & [tutorial](http://seaborn.pydata.org/tutorial.html)\n"
      ]
    },
    {
      "metadata": {
        "colab_type": "text",
        "id": "yp50E_pnljaV"
      },
      "cell_type": "markdown",
      "source": [
        "# Upgrade Seaborn\n",
        "\n",
        "Make sure you have at least version 0.9.0.\n",
        "\n",
        "On Colab, go to **Restart runtime** after you run the `pip` command."
      ]
    },
    {
      "metadata": {
        "colab_type": "code",
        "id": "MJAy4kPfljaV",
        "colab": {
          "base_uri": "https://localhost:8080/",
          "height": 425
        },
        "outputId": "f062ee10-1144-4e19-849f-5a0a337861f7"
      },
      "cell_type": "code",
      "source": [
        "!pip install --upgrade seaborn"
      ],
      "execution_count": 1,
      "outputs": [
        {
          "output_type": "stream",
          "text": [
            "Collecting seaborn\n",
            "\u001b[?25l  Downloading https://files.pythonhosted.org/packages/a8/76/220ba4420459d9c4c9c9587c6ce607bf56c25b3d3d2de62056efe482dadc/seaborn-0.9.0-py3-none-any.whl (208kB)\n",
            "\r\u001b[K    4% |█▋                              | 10kB 13.7MB/s eta 0:00:01\r\u001b[K    9% |███▏                            | 20kB 2.8MB/s eta 0:00:01\r\u001b[K    14% |████▊                           | 30kB 4.1MB/s eta 0:00:01\r\u001b[K    19% |██████▎                         | 40kB 2.9MB/s eta 0:00:01\r\u001b[K    24% |███████▉                        | 51kB 3.5MB/s eta 0:00:01\r\u001b[K    29% |█████████▌                      | 61kB 4.1MB/s eta 0:00:01\r\u001b[K    34% |███████████                     | 71kB 4.8MB/s eta 0:00:01\r\u001b[K    39% |████████████▋                   | 81kB 5.3MB/s eta 0:00:01\r\u001b[K    44% |██████████████▏                 | 92kB 6.0MB/s eta 0:00:01\r\u001b[K    49% |███████████████▊                | 102kB 4.8MB/s eta 0:00:01\r\u001b[K    54% |█████████████████▎              | 112kB 4.9MB/s eta 0:00:01\r\u001b[K    59% |███████████████████             | 122kB 7.0MB/s eta 0:00:01\r\u001b[K    63% |████████████████████▌           | 133kB 7.0MB/s eta 0:00:01\r\u001b[K    68% |██████████████████████          | 143kB 12.7MB/s eta 0:00:01\r\u001b[K    73% |███████████████████████▋        | 153kB 12.9MB/s eta 0:00:01\r\u001b[K    78% |█████████████████████████▏      | 163kB 13.1MB/s eta 0:00:01\r\u001b[K    83% |██████████████████████████▊     | 174kB 12.6MB/s eta 0:00:01\r\u001b[K    88% |████████████████████████████▍   | 184kB 12.7MB/s eta 0:00:01\r\u001b[K    93% |██████████████████████████████  | 194kB 12.8MB/s eta 0:00:01\r\u001b[K    98% |███████████████████████████████▌| 204kB 39.0MB/s eta 0:00:01\r\u001b[K    100% |████████████████████████████████| 215kB 26.3MB/s \n",
            "\u001b[?25hRequirement already satisfied, skipping upgrade: pandas>=0.15.2 in /usr/local/lib/python3.6/dist-packages (from seaborn) (0.22.0)\n",
            "Requirement already satisfied, skipping upgrade: matplotlib>=1.4.3 in /usr/local/lib/python3.6/dist-packages (from seaborn) (3.0.3)\n",
            "Requirement already satisfied, skipping upgrade: numpy>=1.9.3 in /usr/local/lib/python3.6/dist-packages (from seaborn) (1.14.6)\n",
            "Requirement already satisfied, skipping upgrade: scipy>=0.14.0 in /usr/local/lib/python3.6/dist-packages (from seaborn) (1.1.0)\n",
            "Requirement already satisfied, skipping upgrade: pytz>=2011k in /usr/local/lib/python3.6/dist-packages (from pandas>=0.15.2->seaborn) (2018.9)\n",
            "Requirement already satisfied, skipping upgrade: python-dateutil>=2 in /usr/local/lib/python3.6/dist-packages (from pandas>=0.15.2->seaborn) (2.5.3)\n",
            "Requirement already satisfied, skipping upgrade: pyparsing!=2.0.4,!=2.1.2,!=2.1.6,>=2.0.1 in /usr/local/lib/python3.6/dist-packages (from matplotlib>=1.4.3->seaborn) (2.3.1)\n",
            "Requirement already satisfied, skipping upgrade: cycler>=0.10 in /usr/local/lib/python3.6/dist-packages (from matplotlib>=1.4.3->seaborn) (0.10.0)\n",
            "Requirement already satisfied, skipping upgrade: kiwisolver>=1.0.1 in /usr/local/lib/python3.6/dist-packages (from matplotlib>=1.4.3->seaborn) (1.0.1)\n",
            "Requirement already satisfied, skipping upgrade: six>=1.5 in /usr/local/lib/python3.6/dist-packages (from python-dateutil>=2->pandas>=0.15.2->seaborn) (1.11.0)\n",
            "Requirement already satisfied, skipping upgrade: setuptools in /usr/local/lib/python3.6/dist-packages (from kiwisolver>=1.0.1->matplotlib>=1.4.3->seaborn) (40.8.0)\n",
            "Installing collected packages: seaborn\n",
            "  Found existing installation: seaborn 0.7.1\n",
            "    Uninstalling seaborn-0.7.1:\n",
            "      Successfully uninstalled seaborn-0.7.1\n",
            "Successfully installed seaborn-0.9.0\n"
          ],
          "name": "stdout"
        },
        {
          "output_type": "display_data",
          "data": {
            "application/vnd.colab-display-data+json": {
              "pip_warning": {
                "packages": [
                  "seaborn"
                ]
              }
            }
          },
          "metadata": {
            "tags": []
          }
        }
      ]
    },
    {
      "metadata": {
        "colab_type": "code",
        "id": "fXZFXHccljaZ",
        "colab": {
          "base_uri": "https://localhost:8080/",
          "height": 34
        },
        "outputId": "3843ffb3-ad26-4576-cf01-1c8d3f076c13"
      },
      "cell_type": "code",
      "source": [
        "import seaborn as sns\n",
        "sns.__version__"
      ],
      "execution_count": 1,
      "outputs": [
        {
          "output_type": "execute_result",
          "data": {
            "text/plain": [
              "'0.9.0'"
            ]
          },
          "metadata": {
            "tags": []
          },
          "execution_count": 1
        }
      ]
    },
    {
      "metadata": {
        "colab_type": "text",
        "id": "Md1lMTx1ljab"
      },
      "cell_type": "markdown",
      "source": [
        "# Fix misleading visualizations"
      ]
    },
    {
      "metadata": {
        "colab_type": "code",
        "id": "5kTa_5Lnljac",
        "colab": {}
      },
      "cell_type": "code",
      "source": [
        "%matplotlib inline\n",
        "import matplotlib.pyplot as plt\n",
        "import numpy as np\n",
        "import pandas as pd"
      ],
      "execution_count": 0,
      "outputs": []
    },
    {
      "metadata": {
        "colab_type": "code",
        "id": "FkXJKBMOljae",
        "colab": {
          "base_uri": "https://localhost:8080/",
          "height": 204
        },
        "outputId": "bb2fa965-15d2-427d-d2d4-504729304127"
      },
      "cell_type": "code",
      "source": [
        "!wget https://raw.githubusercontent.com/LambdaSchool/DS-Unit-1-Sprint-3-Data-Storytelling/master/module2-choose-appropriate-visualizations/misleading.py\n",
        "    \n",
        "import misleading"
      ],
      "execution_count": 3,
      "outputs": [
        {
          "output_type": "stream",
          "text": [
            "--2019-04-02 16:22:58--  https://raw.githubusercontent.com/LambdaSchool/DS-Unit-1-Sprint-3-Data-Storytelling/master/module2-choose-appropriate-visualizations/misleading.py\n",
            "Resolving raw.githubusercontent.com (raw.githubusercontent.com)... 151.101.0.133, 151.101.64.133, 151.101.128.133, ...\n",
            "Connecting to raw.githubusercontent.com (raw.githubusercontent.com)|151.101.0.133|:443... connected.\n",
            "HTTP request sent, awaiting response... 200 OK\n",
            "Length: 1258 (1.2K) [text/plain]\n",
            "Saving to: ‘misleading.py’\n",
            "\n",
            "\rmisleading.py         0%[                    ]       0  --.-KB/s               \rmisleading.py       100%[===================>]   1.23K  --.-KB/s    in 0s      \n",
            "\n",
            "2019-04-02 16:22:58 (213 MB/s) - ‘misleading.py’ saved [1258/1258]\n",
            "\n"
          ],
          "name": "stdout"
        }
      ]
    },
    {
      "metadata": {
        "colab_type": "text",
        "id": "CBe1A0IJljag"
      },
      "cell_type": "markdown",
      "source": [
        "### Fix misleading plot #1"
      ]
    },
    {
      "metadata": {
        "colab_type": "code",
        "id": "nSkHZKmRljah",
        "colab": {
          "base_uri": "https://localhost:8080/",
          "height": 314
        },
        "outputId": "d0a483b7-b3ed-4a78-f2bf-c522995532b7"
      },
      "cell_type": "code",
      "source": [
        "misleading.plot1();"
      ],
      "execution_count": 4,
      "outputs": [
        {
          "output_type": "display_data",
          "data": {
            "image/png": "[encoded data removed]",
            "text/plain": [
              "<Figure size 432x288 with 1 Axes>"
            ]
          },
          "metadata": {
            "tags": []
          }
        }
      ]
    },
    {
      "metadata": {
        "id": "KqviKGjg4DZf",
        "colab_type": "code",
        "colab": {
          "base_uri": "https://localhost:8080/",
          "height": 331
        },
        "outputId": "e4628be9-7c3e-44ca-8440-6afdffca71d0"
      },
      "cell_type": "code",
      "source": [
        "insurance = pd.DataFrame(\n",
        "    index=['State Farm', 'GEICO'],\n",
        "    data={'Market Share %': [18.07, 12.79]})\n",
        "\n",
        "insurance.plot.bar(ylim = (0,20))"
      ],
      "execution_count": 7,
      "outputs": [
        {
          "output_type": "execute_result",
          "data": {
            "text/plain": [
              "<matplotlib.axes._subplots.AxesSubplot at 0x7fda8e1e4b38>"
            ]
          },
          "metadata": {
            "tags": []
          },
          "execution_count": 7
        },
        {
          "output_type": "display_data",
          "data": {
            "image/png": "[encoded data removed]",
            "text/plain": [
              "<Figure size 432x288 with 1 Axes>"
            ]
          },
          "metadata": {
            "tags": []
          }
        }
      ]
    },
    {
      "metadata": {
        "colab_type": "text",
        "id": "6RB2pFjQljal"
      },
      "cell_type": "markdown",
      "source": [
        "### Fix misleading plot #2"
      ]
    },
    {
      "metadata": {
        "colab_type": "code",
        "id": "PAjwPf8vljam",
        "colab": {
          "base_uri": "https://localhost:8080/",
          "height": 310
        },
        "outputId": "ec082f09-444e-4b99-ca91-00954159d513"
      },
      "cell_type": "code",
      "source": [
        "misleading.plot2();"
      ],
      "execution_count": 5,
      "outputs": [
        {
          "output_type": "display_data",
          "data": {
            "image/png": "[encoded data removed]",
            "text/plain": [
              "<Figure size 360x360 with 1 Axes>"
            ]
          },
          "metadata": {
            "tags": []
          }
        }
      ]
    },
    {
      "metadata": {
        "id": "yrQkO_e75T7-",
        "colab_type": "text"
      },
      "cell_type": "markdown",
      "source": [
        ""
      ]
    },
    {
      "metadata": {
        "id": "c4i2EbdG5UNZ",
        "colab_type": "code",
        "colab": {
          "base_uri": "https://localhost:8080/",
          "height": 142
        },
        "outputId": "be476f54-e4f9-4970-d7c3-8eb09067a5dc"
      },
      "cell_type": "code",
      "source": [
        "other = pd.DataFrame(\n",
        "    index = ['Other'],\n",
        "    data = {'Market Share %': [100-18.07-12.79]})\n",
        "insurance = insurance.append(other)\n",
        "insurance"
      ],
      "execution_count": 9,
      "outputs": [
        {
          "output_type": "execute_result",
          "data": {
            "text/html": [
              "<div>\n",
              "<style scoped>\n",
              "    .dataframe tbody tr th:only-of-type {\n",
              "        vertical-align: middle;\n",
              "    }\n",
              "\n",
              "    .dataframe tbody tr th {\n",
              "        vertical-align: top;\n",
              "    }\n",
              "\n",
              "    .dataframe thead th {\n",
              "        text-align: right;\n",
              "    }\n",
              "</style>\n",
              "<table border=\"1\" class=\"dataframe\">\n",
              "  <thead>\n",
              "    <tr style=\"text-align: right;\">\n",
              "      <th></th>\n",
              "      <th>Market Share %</th>\n",
              "    </tr>\n",
              "  </thead>\n",
              "  <tbody>\n",
              "    <tr>\n",
              "      <th>State Farm</th>\n",
              "      <td>18.07</td>\n",
              "    </tr>\n",
              "    <tr>\n",
              "      <th>GEICO</th>\n",
              "      <td>12.79</td>\n",
              "    </tr>\n",
              "    <tr>\n",
              "      <th>Other</th>\n",
              "      <td>69.14</td>\n",
              "    </tr>\n",
              "  </tbody>\n",
              "</table>\n",
              "</div>"
            ],
            "text/plain": [
              "            Market Share %\n",
              "State Farm           18.07\n",
              "GEICO                12.79\n",
              "Other                69.14"
            ]
          },
          "metadata": {
            "tags": []
          },
          "execution_count": 9
        }
      ]
    },
    {
      "metadata": {
        "id": "FxV1llzh5oDw",
        "colab_type": "code",
        "colab": {
          "base_uri": "https://localhost:8080/",
          "height": 327
        },
        "outputId": "70d70999-6bd6-4cbe-a535-67d52a5fc4f1"
      },
      "cell_type": "code",
      "source": [
        "insurance.plot.pie('Market Share %', figsize = (5,5))"
      ],
      "execution_count": 10,
      "outputs": [
        {
          "output_type": "execute_result",
          "data": {
            "text/plain": [
              "<matplotlib.axes._subplots.AxesSubplot at 0x7fda90f30f98>"
            ]
          },
          "metadata": {
            "tags": []
          },
          "execution_count": 10
        },
        {
          "output_type": "display_data",
          "data": {
            "image/png": "[encoded data removed]",
            "text/plain": [
              "<Figure size 360x360 with 1 Axes>"
            ]
          },
          "metadata": {
            "tags": []
          }
        }
      ]
    },
    {
      "metadata": {
        "colab_type": "text",
        "id": "6FISiBH3ljaw"
      },
      "cell_type": "markdown",
      "source": [
        "## Fix misleading plot #3"
      ]
    },
    {
      "metadata": {
        "colab_type": "text",
        "id": "Dwcc8Jylljax"
      },
      "cell_type": "markdown",
      "source": [
        "_If you're on Jupyter (not Colab) then uncomment and run this cell below:_"
      ]
    },
    {
      "metadata": {
        "colab_type": "code",
        "id": "TaSuwairljax",
        "colab": {}
      },
      "cell_type": "code",
      "source": [
        "# import altair as alt\n",
        "# alt.renderers.enable('notebook')"
      ],
      "execution_count": 0,
      "outputs": []
    },
    {
      "metadata": {
        "colab_type": "code",
        "id": "JMirz9RMljaz",
        "colab": {
          "base_uri": "https://localhost:8080/",
          "height": 331
        },
        "outputId": "5f8c2fff-8863-4157-c7b2-a8690b4e8c39"
      },
      "cell_type": "code",
      "source": [
        "misleading.plot3()"
      ],
      "execution_count": 11,
      "outputs": [
        {
          "output_type": "execute_result",
          "data": {
            "text/plain": [
              "Chart({\n",
              "  data: UrlData({\n",
              "    format: TopoDataFormat({\n",
              "      feature: 'states',\n",
              "      type: 'topojson'\n",
              "    }),\n",
              "    url: 'https://vega.github.io/vega-datasets/data/us-10m.json'\n",
              "  }),\n",
              "  encoding: EncodingWithFacet({\n",
              "    color: Color({\n",
              "      shorthand: 'State Farm policy premiums',\n",
              "      type: 'quantitative'\n",
              "    })\n",
              "  }),\n",
              "  height: 300,\n",
              "  mark: 'geoshape',\n",
              "  projection: Projection({\n",
              "    type: 'albersUsa'\n",
              "  }),\n",
              "  transform: [LookupTransform({\n",
              "    from: LookupData({\n",
              "      data:                    state  id  State Farm policy premiums  \\\n",
              "      0                Alabama   1                      768213   \n",
              "      1                 Alaska   2                      128613   \n",
              "      2                Arizona   4                      760003   \n",
              "      3               Arkansas   5                      454931   \n",
              "      4             California   6                     3655463   \n",
              "      5               Colorado   8                      827143   \n",
              "      6            Connecticut   9                      169773   \n",
              "      7               Delaware  10                      191319   \n",
              "      8   District of Columbia  11                       67231   \n",
              "      9                Florida  12                     2806322   \n",
              "      10               Georgia  13                     1761224   \n",
              "      11                Hawaii  15                      133498   \n",
              "      12                 Idaho  16                      130613   \n",
              "      13              Illinois  17                     2256543   \n",
              "      14               Indiana  18                      861382   \n",
              "      15                  Iowa  19                      368898   \n",
              "      16                Kansas  20                      351343   \n",
              "      17              Kentucky  21                      680433   \n",
              "      18             Louisiana  22                     1415980   \n",
              "      19                 Maine  23                      101111   \n",
              "      20              Maryland  24                      883401   \n",
              "      21         Massachusetts  25                           0   \n",
              "      22              Michigan  26                     1580398   \n",
              "      23             Minnesota  27                      851940   \n",
              "      24           Mississippi  28                      467887   \n",
              "      25              Missouri  29                      883774   \n",
              "      26               Montana  30                      156816   \n",
              "      27              Nebraska  31                      273727   \n",
              "      28                Nevada  32                      404688   \n",
              "      29         New Hampshire  33                      103340   \n",
              "      30            New Jersey  34                      619623   \n",
              "      31            New Mexico  35                      261922   \n",
              "      32              New York  36                     1666653   \n",
              "      33        North Carolina  37                      842368   \n",
              "      34          North Dakota  38                       67282   \n",
              "      35                  Ohio  39                     1240075   \n",
              "      36              Oklahoma  40                      636063   \n",
              "      37                Oregon  41                      564416   \n",
              "      38          Pennsylvania  42                     1654528   \n",
              "      39          Rhode Island  44                           0   \n",
              "      40        South Carolina  45                      874436   \n",
              "      41          South Dakota  46                      101912   \n",
              "      42             Tennessee  47                      889329   \n",
              "      43                 Texas  48                     3395165   \n",
              "      44                  Utah  49                      300403   \n",
              "      45               Vermont  50                       30003   \n",
              "      46              Virginia  51                      878312   \n",
              "      47            Washington  53                      794882   \n",
              "      48         West Virginia  54                      323608   \n",
              "      49             Wisconsin  55                      443680   \n",
              "      50               Wyoming  56                       90412   \n",
              "      51           Puerto Rico  72                           0   \n",
              "      \n",
              "          BERKSHIRE HATHAWAY GRP  STATE TOTAL  \n",
              "      0                   282947      3025561  \n",
              "      1                    81366       454623  \n",
              "      2                   604049      4373055  \n",
              "      3                    96908      1777917  \n",
              "      4                  2091720     25255501  \n",
              "      5                   365797      4057463  \n",
              "      6                   486498      2795415  \n",
              "      7                   129033       802005  \n",
              "      8                   115149       325239  \n",
              "      9                  3952147     17333354  \n",
              "      10                  821326      7571988  \n",
              "      11                  184743       722550  \n",
              "      12                   87222       863636  \n",
              "      13                  412978      7028885  \n",
              "      14                  201200      3506499  \n",
              "      15                   58105      1650388  \n",
              "      16                   76533      1725608  \n",
              "      17                  186915      2805864  \n",
              "      18                  369492      4136224  \n",
              "      19                   68109       699558  \n",
              "      20                 1059508      4554586  \n",
              "      21                  473913      4924736  \n",
              "      22                       0      8462142  \n",
              "      23                  108942      3412460  \n",
              "      24                  100827      1760180  \n",
              "      25                  214191      3606590  \n",
              "      26                   33538       668513  \n",
              "      27                   61046      1167135  \n",
              "      28                  262815      2129828  \n",
              "      29                  103403       806545  \n",
              "      30                 1441019      7375823  \n",
              "      31                  174865      1284430  \n",
              "      32                 3926684     12633982  \n",
              "      33                  560700      5543700  \n",
              "      34                   15516       454376  \n",
              "      35                  405652      6303148  \n",
              "      36                  151388      2515842  \n",
              "      37                  223187      2647434  \n",
              "      38                  602848      8270326  \n",
              "      39                   97597       867558  \n",
              "      40                  426033      3583918  \n",
              "      41                   15682       508569  \n",
              "      42                  292357      3769652  \n",
              "      43                 2127633     19180816  \n",
              "      44                  139315      1723931  \n",
              "      45                   52939       359996  \n",
              "      46                  884489      5105360  \n",
              "      47                  478922      4780616  \n",
              "      48                  110806      1209872  \n",
              "      49                  131845      2950711  \n",
              "      50                   30187       374169  \n",
              "      51                       0       444480  ,\n",
              "      fields: ['State Farm policy premiums'],\n",
              "      key: 'id'\n",
              "    }),\n",
              "    lookup: 'id'\n",
              "  })],\n",
              "  width: 500\n",
              "})"
            ],
            "text/html": [
              "<!DOCTYPE html>\n",
              "<html>\n",
              "<head>\n",
              "  <style>\n",
              "    .vega-actions a {\n",
              "        margin-right: 12px;\n",
              "        color: #757575;\n",
              "        font-weight: normal;\n",
              "        font-size: 13px;\n",
              "    }\n",
              "    .error {\n",
              "        color: red;\n",
              "    }\n",
              "  </style>\n",
              "  <script type=\"text/javascript\" src=\"https://cdn.jsdelivr.net/npm//vega@4\"></script>\n",
              "  <script type=\"text/javascript\" src=\"https://cdn.jsdelivr.net/npm//vega-lite@2.6.0\"></script>\n",
              "  <script type=\"text/javascript\" src=\"https://cdn.jsdelivr.net/npm//vega-embed@3\"></script>\n",
              "</head>\n",
              "<body>\n",
              "  <div id=\"altair-viz\"></div>\n",
              "  <script>\n",
              "      var spec = {\"config\": {\"view\": {\"width\": 400, \"height\": 300}}, \"data\": {\"url\": \"https://vega.github.io/vega-datasets/data/us-10m.json\", \"format\": {\"feature\": \"states\", \"type\": \"topojson\"}}, \"mark\": \"geoshape\", \"encoding\": {\"color\": {\"type\": \"quantitative\", \"field\": \"State Farm policy premiums\"}}, \"height\": 300, \"projection\": {\"type\": \"albersUsa\"}, \"transform\": [{\"lookup\": \"id\", \"from\": {\"data\": {\"name\": \"data-b615a17f98b0ca7d11f99dcf36616c5d\"}, \"key\": \"id\", \"fields\": [\"State Farm policy premiums\"]}}], \"width\": 500, \"$schema\": \"https://vega.github.io/schema/vega-lite/v2.6.0.json\", \"datasets\": {\"data-b615a17f98b0ca7d11f99dcf36616c5d\": [{\"state\": \"Alabama\", \"id\": 1, \"State Farm policy premiums\": 768213, \"BERKSHIRE HATHAWAY GRP\": 282947, \"STATE TOTAL\": 3025561}, {\"state\": \"Alaska\", \"id\": 2, \"State Farm policy premiums\": 128613, \"BERKSHIRE HATHAWAY GRP\": 81366, \"STATE TOTAL\": 454623}, {\"state\": \"Arizona\", \"id\": 4, \"State Farm policy premiums\": 760003, \"BERKSHIRE HATHAWAY GRP\": 604049, \"STATE TOTAL\": 4373055}, {\"state\": \"Arkansas\", \"id\": 5, \"State Farm policy premiums\": 454931, \"BERKSHIRE HATHAWAY GRP\": 96908, \"STATE TOTAL\": 1777917}, {\"state\": \"California\", \"id\": 6, \"State Farm policy premiums\": 3655463, \"BERKSHIRE HATHAWAY GRP\": 2091720, \"STATE TOTAL\": 25255501}, {\"state\": \"Colorado\", \"id\": 8, \"State Farm policy premiums\": 827143, \"BERKSHIRE HATHAWAY GRP\": 365797, \"STATE TOTAL\": 4057463}, {\"state\": \"Connecticut\", \"id\": 9, \"State Farm policy premiums\": 169773, \"BERKSHIRE HATHAWAY GRP\": 486498, \"STATE TOTAL\": 2795415}, {\"state\": \"Delaware\", \"id\": 10, \"State Farm policy premiums\": 191319, \"BERKSHIRE HATHAWAY GRP\": 129033, \"STATE TOTAL\": 802005}, {\"state\": \"District of Columbia\", \"id\": 11, \"State Farm policy premiums\": 67231, \"BERKSHIRE HATHAWAY GRP\": 115149, \"STATE TOTAL\": 325239}, {\"state\": \"Florida\", \"id\": 12, \"State Farm policy premiums\": 2806322, \"BERKSHIRE HATHAWAY GRP\": 3952147, \"STATE TOTAL\": 17333354}, {\"state\": \"Georgia\", \"id\": 13, \"State Farm policy premiums\": 1761224, \"BERKSHIRE HATHAWAY GRP\": 821326, \"STATE TOTAL\": 7571988}, {\"state\": \"Hawaii\", \"id\": 15, \"State Farm policy premiums\": 133498, \"BERKSHIRE HATHAWAY GRP\": 184743, \"STATE TOTAL\": 722550}, {\"state\": \"Idaho\", \"id\": 16, \"State Farm policy premiums\": 130613, \"BERKSHIRE HATHAWAY GRP\": 87222, \"STATE TOTAL\": 863636}, {\"state\": \"Illinois\", \"id\": 17, \"State Farm policy premiums\": 2256543, \"BERKSHIRE HATHAWAY GRP\": 412978, \"STATE TOTAL\": 7028885}, {\"state\": \"Indiana\", \"id\": 18, \"State Farm policy premiums\": 861382, \"BERKSHIRE HATHAWAY GRP\": 201200, \"STATE TOTAL\": 3506499}, {\"state\": \"Iowa\", \"id\": 19, \"State Farm policy premiums\": 368898, \"BERKSHIRE HATHAWAY GRP\": 58105, \"STATE TOTAL\": 1650388}, {\"state\": \"Kansas\", \"id\": 20, \"State Farm policy premiums\": 351343, \"BERKSHIRE HATHAWAY GRP\": 76533, \"STATE TOTAL\": 1725608}, {\"state\": \"Kentucky\", \"id\": 21, \"State Farm policy premiums\": 680433, \"BERKSHIRE HATHAWAY GRP\": 186915, \"STATE TOTAL\": 2805864}, {\"state\": \"Louisiana\", \"id\": 22, \"State Farm policy premiums\": 1415980, \"BERKSHIRE HATHAWAY GRP\": 369492, \"STATE TOTAL\": 4136224}, {\"state\": \"Maine\", \"id\": 23, \"State Farm policy premiums\": 101111, \"BERKSHIRE HATHAWAY GRP\": 68109, \"STATE TOTAL\": 699558}, {\"state\": \"Maryland\", \"id\": 24, \"State Farm policy premiums\": 883401, \"BERKSHIRE HATHAWAY GRP\": 1059508, \"STATE TOTAL\": 4554586}, {\"state\": \"Massachusetts\", \"id\": 25, \"State Farm policy premiums\": 0, \"BERKSHIRE HATHAWAY GRP\": 473913, \"STATE TOTAL\": 4924736}, {\"state\": \"Michigan\", \"id\": 26, \"State Farm policy premiums\": 1580398, \"BERKSHIRE HATHAWAY GRP\": 0, \"STATE TOTAL\": 8462142}, {\"state\": \"Minnesota\", \"id\": 27, \"State Farm policy premiums\": 851940, \"BERKSHIRE HATHAWAY GRP\": 108942, \"STATE TOTAL\": 3412460}, {\"state\": \"Mississippi\", \"id\": 28, \"State Farm policy premiums\": 467887, \"BERKSHIRE HATHAWAY GRP\": 100827, \"STATE TOTAL\": 1760180}, {\"state\": \"Missouri\", \"id\": 29, \"State Farm policy premiums\": 883774, \"BERKSHIRE HATHAWAY GRP\": 214191, \"STATE TOTAL\": 3606590}, {\"state\": \"Montana\", \"id\": 30, \"State Farm policy premiums\": 156816, \"BERKSHIRE HATHAWAY GRP\": 33538, \"STATE TOTAL\": 668513}, {\"state\": \"Nebraska\", \"id\": 31, \"State Farm policy premiums\": 273727, \"BERKSHIRE HATHAWAY GRP\": 61046, \"STATE TOTAL\": 1167135}, {\"state\": \"Nevada\", \"id\": 32, \"State Farm policy premiums\": 404688, \"BERKSHIRE HATHAWAY GRP\": 262815, \"STATE TOTAL\": 2129828}, {\"state\": \"New Hampshire\", \"id\": 33, \"State Farm policy premiums\": 103340, \"BERKSHIRE HATHAWAY GRP\": 103403, \"STATE TOTAL\": 806545}, {\"state\": \"New Jersey\", \"id\": 34, \"State Farm policy premiums\": 619623, \"BERKSHIRE HATHAWAY GRP\": 1441019, \"STATE TOTAL\": 7375823}, {\"state\": \"New Mexico\", \"id\": 35, \"State Farm policy premiums\": 261922, \"BERKSHIRE HATHAWAY GRP\": 174865, \"STATE TOTAL\": 1284430}, {\"state\": \"New York\", \"id\": 36, \"State Farm policy premiums\": 1666653, \"BERKSHIRE HATHAWAY GRP\": 3926684, \"STATE TOTAL\": 12633982}, {\"state\": \"North Carolina\", \"id\": 37, \"State Farm policy premiums\": 842368, \"BERKSHIRE HATHAWAY GRP\": 560700, \"STATE TOTAL\": 5543700}, {\"state\": \"North Dakota\", \"id\": 38, \"State Farm policy premiums\": 67282, \"BERKSHIRE HATHAWAY GRP\": 15516, \"STATE TOTAL\": 454376}, {\"state\": \"Ohio\", \"id\": 39, \"State Farm policy premiums\": 1240075, \"BERKSHIRE HATHAWAY GRP\": 405652, \"STATE TOTAL\": 6303148}, {\"state\": \"Oklahoma\", \"id\": 40, \"State Farm policy premiums\": 636063, \"BERKSHIRE HATHAWAY GRP\": 151388, \"STATE TOTAL\": 2515842}, {\"state\": \"Oregon\", \"id\": 41, \"State Farm policy premiums\": 564416, \"BERKSHIRE HATHAWAY GRP\": 223187, \"STATE TOTAL\": 2647434}, {\"state\": \"Pennsylvania\", \"id\": 42, \"State Farm policy premiums\": 1654528, \"BERKSHIRE HATHAWAY GRP\": 602848, \"STATE TOTAL\": 8270326}, {\"state\": \"Rhode Island\", \"id\": 44, \"State Farm policy premiums\": 0, \"BERKSHIRE HATHAWAY GRP\": 97597, \"STATE TOTAL\": 867558}, {\"state\": \"South Carolina\", \"id\": 45, \"State Farm policy premiums\": 874436, \"BERKSHIRE HATHAWAY GRP\": 426033, \"STATE TOTAL\": 3583918}, {\"state\": \"South Dakota\", \"id\": 46, \"State Farm policy premiums\": 101912, \"BERKSHIRE HATHAWAY GRP\": 15682, \"STATE TOTAL\": 508569}, {\"state\": \"Tennessee\", \"id\": 47, \"State Farm policy premiums\": 889329, \"BERKSHIRE HATHAWAY GRP\": 292357, \"STATE TOTAL\": 3769652}, {\"state\": \"Texas\", \"id\": 48, \"State Farm policy premiums\": 3395165, \"BERKSHIRE HATHAWAY GRP\": 2127633, \"STATE TOTAL\": 19180816}, {\"state\": \"Utah\", \"id\": 49, \"State Farm policy premiums\": 300403, \"BERKSHIRE HATHAWAY GRP\": 139315, \"STATE TOTAL\": 1723931}, {\"state\": \"Vermont\", \"id\": 50, \"State Farm policy premiums\": 30003, \"BERKSHIRE HATHAWAY GRP\": 52939, \"STATE TOTAL\": 359996}, {\"state\": \"Virginia\", \"id\": 51, \"State Farm policy premiums\": 878312, \"BERKSHIRE HATHAWAY GRP\": 884489, \"STATE TOTAL\": 5105360}, {\"state\": \"Washington\", \"id\": 53, \"State Farm policy premiums\": 794882, \"BERKSHIRE HATHAWAY GRP\": 478922, \"STATE TOTAL\": 4780616}, {\"state\": \"West Virginia\", \"id\": 54, \"State Farm policy premiums\": 323608, \"BERKSHIRE HATHAWAY GRP\": 110806, \"STATE TOTAL\": 1209872}, {\"state\": \"Wisconsin\", \"id\": 55, \"State Farm policy premiums\": 443680, \"BERKSHIRE HATHAWAY GRP\": 131845, \"STATE TOTAL\": 2950711}, {\"state\": \"Wyoming\", \"id\": 56, \"State Farm policy premiums\": 90412, \"BERKSHIRE HATHAWAY GRP\": 30187, \"STATE TOTAL\": 374169}, {\"state\": \"Puerto Rico\", \"id\": 72, \"State Farm policy premiums\": 0, \"BERKSHIRE HATHAWAY GRP\": 0, \"STATE TOTAL\": 444480}]}};\n",
              "      var embedOpt = {\"mode\": \"vega-lite\"};\n",
              "\n",
              "      function showError(el, error){\n",
              "          el.innerHTML = ('<div class=\"error\" style=\"color:red;\">'\n",
              "                          + '<p>JavaScript Error: ' + error.message + '</p>'\n",
              "                          + \"<p>This usually means there's a typo in your chart specification. \"\n",
              "                          + \"See the javascript console for the full traceback.</p>\"\n",
              "                          + '</div>');\n",
              "          throw error;\n",
              "      }\n",
              "      const el = document.getElementById('altair-viz');\n",
              "      vegaEmbed(\"#altair-viz\", spec, embedOpt)\n",
              "        .catch(error => showError(el, error));\n",
              "\n",
              "  </script>\n",
              "</body>\n",
              "</html>"
            ]
          },
          "metadata": {
            "tags": []
          },
          "execution_count": 11
        }
      ]
    },
    {
      "metadata": {
        "id": "vNZnh21a5zmL",
        "colab_type": "code",
        "colab": {
          "base_uri": "https://localhost:8080/",
          "height": 957
        },
        "outputId": "a4bce765-a7a4-462e-fa0c-e0e85953420c"
      },
      "cell_type": "code",
      "source": [
        "import altair as alt\n",
        "from vega_datasets import data\n",
        "\n",
        "states = alt.topo_feature(data.us_10m.url, 'states')\n",
        "source = data.population_engineers_hurricanes.url\n",
        "variable_list = ['population', 'engineers', 'hurricanes']\n",
        "\n",
        "alt.Chart(states).mark_geoshape().encode(\n",
        "    alt.Color(alt.repeat('row'), type='quantitative')\n",
        ").transform_lookup(\n",
        "    lookup='id',\n",
        "    from_=alt.LookupData(source, 'id', variable_list)\n",
        ").properties(\n",
        "    width=500,\n",
        "    height=300\n",
        ").project(\n",
        "    type='albersUsa'\n",
        ").repeat(\n",
        "    row=variable_list\n",
        ").resolve_scale(\n",
        "    color='independent'\n",
        ")"
      ],
      "execution_count": 14,
      "outputs": [
        {
          "output_type": "execute_result",
          "data": {
            "text/plain": [
              "RepeatChart({\n",
              "  repeat: Repeat({\n",
              "    row: ['population', 'engineers', 'hurricanes']\n",
              "  }),\n",
              "  resolve: Resolve({\n",
              "    scale: ScaleResolveMap({\n",
              "      color: 'independent'\n",
              "    })\n",
              "  }),\n",
              "  spec: Chart({\n",
              "    data: UrlData({\n",
              "      format: TopoDataFormat({\n",
              "        feature: 'states',\n",
              "        type: 'topojson'\n",
              "      }),\n",
              "      url: 'https://vega.github.io/vega-datasets/data/us-10m.json'\n",
              "    }),\n",
              "    encoding: EncodingWithFacet({\n",
              "      color: Color({\n",
              "        shorthand: RepeatRef({\n",
              "          repeat: 'row'\n",
              "        }),\n",
              "        type: 'quantitative'\n",
              "      })\n",
              "    }),\n",
              "    height: 300,\n",
              "    mark: 'geoshape',\n",
              "    projection: Projection({\n",
              "      type: 'albersUsa'\n",
              "    }),\n",
              "    transform: [LookupTransform({\n",
              "      from: LookupData({\n",
              "        data: 'https://vega.github.io/vega-datasets/data/population_engineers_hurricanes.csv',\n",
              "        fields: ['population', 'engineers', 'hurricanes'],\n",
              "        key: 'id'\n",
              "      }),\n",
              "      lookup: 'id'\n",
              "    })],\n",
              "    width: 500\n",
              "  })\n",
              "})"
            ],
            "text/html": [
              "<!DOCTYPE html>\n",
              "<html>\n",
              "<head>\n",
              "  <style>\n",
              "    .vega-actions a {\n",
              "        margin-right: 12px;\n",
              "        color: #757575;\n",
              "        font-weight: normal;\n",
              "        font-size: 13px;\n",
              "    }\n",
              "    .error {\n",
              "        color: red;\n",
              "    }\n",
              "  </style>\n",
              "  <script type=\"text/javascript\" src=\"https://cdn.jsdelivr.net/npm//vega@4\"></script>\n",
              "  <script type=\"text/javascript\" src=\"https://cdn.jsdelivr.net/npm//vega-lite@2.6.0\"></script>\n",
              "  <script type=\"text/javascript\" src=\"https://cdn.jsdelivr.net/npm//vega-embed@3\"></script>\n",
              "</head>\n",
              "<body>\n",
              "  <div id=\"altair-viz\"></div>\n",
              "  <script>\n",
              "      var spec = {\"config\": {\"view\": {\"width\": 400, \"height\": 300}}, \"repeat\": {\"row\": [\"population\", \"engineers\", \"hurricanes\"]}, \"spec\": {\"data\": {\"url\": \"https://vega.github.io/vega-datasets/data/us-10m.json\", \"format\": {\"feature\": \"states\", \"type\": \"topojson\"}}, \"mark\": \"geoshape\", \"encoding\": {\"color\": {\"type\": \"quantitative\", \"field\": {\"repeat\": \"row\"}}}, \"height\": 300, \"projection\": {\"type\": \"albersUsa\"}, \"transform\": [{\"lookup\": \"id\", \"from\": {\"data\": {\"url\": \"https://vega.github.io/vega-datasets/data/population_engineers_hurricanes.csv\"}, \"key\": \"id\", \"fields\": [\"population\", \"engineers\", \"hurricanes\"]}}], \"width\": 500}, \"resolve\": {\"scale\": {\"color\": \"independent\"}}, \"$schema\": \"https://vega.github.io/schema/vega-lite/v2.6.0.json\"};\n",
              "      var embedOpt = {\"mode\": \"vega-lite\"};\n",
              "\n",
              "      function showError(el, error){\n",
              "          el.innerHTML = ('<div class=\"error\" style=\"color:red;\">'\n",
              "                          + '<p>JavaScript Error: ' + error.message + '</p>'\n",
              "                          + \"<p>This usually means there's a typo in your chart specification. \"\n",
              "                          + \"See the javascript console for the full traceback.</p>\"\n",
              "                          + '</div>');\n",
              "          throw error;\n",
              "      }\n",
              "      const el = document.getElementById('altair-viz');\n",
              "      vegaEmbed(\"#altair-viz\", spec, embedOpt)\n",
              "        .catch(error => showError(el, error));\n",
              "\n",
              "  </script>\n",
              "</body>\n",
              "</html>"
            ]
          },
          "metadata": {
            "tags": []
          },
          "execution_count": 14
        }
      ]
    },
    {
      "metadata": {
        "id": "OFgXu8xF7iiO",
        "colab_type": "code",
        "colab": {}
      },
      "cell_type": "code",
      "source": [
        ""
      ],
      "execution_count": 0,
      "outputs": []
    },
    {
      "metadata": {
        "colab_type": "text",
        "id": "7NfsPKUtlja3"
      },
      "cell_type": "markdown",
      "source": [
        "# Use Seaborn to visualize distributions and relationships with continuous and discrete variables"
      ]
    },
    {
      "metadata": {
        "colab_type": "text",
        "id": "DMX07pfHlja4"
      },
      "cell_type": "markdown",
      "source": [
        "## 1. Anscombe dataset"
      ]
    },
    {
      "metadata": {
        "colab_type": "text",
        "id": "ohuKP3Y2lja5"
      },
      "cell_type": "markdown",
      "source": [
        "### Load dataset"
      ]
    },
    {
      "metadata": {
        "colab_type": "code",
        "id": "lhNEdJTslja6",
        "colab": {}
      },
      "cell_type": "code",
      "source": [
        "df = sns.load_dataset('anscombe')"
      ],
      "execution_count": 0,
      "outputs": []
    },
    {
      "metadata": {
        "colab_type": "text",
        "id": "wGpkAGL9lja9"
      },
      "cell_type": "markdown",
      "source": [
        "### See the data's shape"
      ]
    },
    {
      "metadata": {
        "colab_type": "code",
        "id": "UJgOVrMdlja_",
        "colab": {
          "base_uri": "https://localhost:8080/",
          "height": 34
        },
        "outputId": "a3420b78-f383-4ebc-daa7-0b1ae9e6ad0b"
      },
      "cell_type": "code",
      "source": [
        "df.shape"
      ],
      "execution_count": 16,
      "outputs": [
        {
          "output_type": "execute_result",
          "data": {
            "text/plain": [
              "(44, 3)"
            ]
          },
          "metadata": {
            "tags": []
          },
          "execution_count": 16
        }
      ]
    },
    {
      "metadata": {
        "colab_type": "text",
        "id": "uwhNkUorljbC"
      },
      "cell_type": "markdown",
      "source": [
        "### See the data"
      ]
    },
    {
      "metadata": {
        "colab_type": "code",
        "id": "f6VT5CbUljbD",
        "colab": {
          "base_uri": "https://localhost:8080/",
          "height": 204
        },
        "outputId": "e53ab3c7-7037-4dcd-d63d-51c7ef1ff959"
      },
      "cell_type": "code",
      "source": [
        "df.head()"
      ],
      "execution_count": 17,
      "outputs": [
        {
          "output_type": "execute_result",
          "data": {
            "text/html": [
              "<div>\n",
              "<style scoped>\n",
              "    .dataframe tbody tr th:only-of-type {\n",
              "        vertical-align: middle;\n",
              "    }\n",
              "\n",
              "    .dataframe tbody tr th {\n",
              "        vertical-align: top;\n",
              "    }\n",
              "\n",
              "    .dataframe thead th {\n",
              "        text-align: right;\n",
              "    }\n",
              "</style>\n",
              "<table border=\"1\" class=\"dataframe\">\n",
              "  <thead>\n",
              "    <tr style=\"text-align: right;\">\n",
              "      <th></th>\n",
              "      <th>dataset</th>\n",
              "      <th>x</th>\n",
              "      <th>y</th>\n",
              "    </tr>\n",
              "  </thead>\n",
              "  <tbody>\n",
              "    <tr>\n",
              "      <th>0</th>\n",
              "      <td>I</td>\n",
              "      <td>10.0</td>\n",
              "      <td>8.04</td>\n",
              "    </tr>\n",
              "    <tr>\n",
              "      <th>1</th>\n",
              "      <td>I</td>\n",
              "      <td>8.0</td>\n",
              "      <td>6.95</td>\n",
              "    </tr>\n",
              "    <tr>\n",
              "      <th>2</th>\n",
              "      <td>I</td>\n",
              "      <td>13.0</td>\n",
              "      <td>7.58</td>\n",
              "    </tr>\n",
              "    <tr>\n",
              "      <th>3</th>\n",
              "      <td>I</td>\n",
              "      <td>9.0</td>\n",
              "      <td>8.81</td>\n",
              "    </tr>\n",
              "    <tr>\n",
              "      <th>4</th>\n",
              "      <td>I</td>\n",
              "      <td>11.0</td>\n",
              "      <td>8.33</td>\n",
              "    </tr>\n",
              "  </tbody>\n",
              "</table>\n",
              "</div>"
            ],
            "text/plain": [
              "  dataset     x     y\n",
              "0       I  10.0  8.04\n",
              "1       I   8.0  6.95\n",
              "2       I  13.0  7.58\n",
              "3       I   9.0  8.81\n",
              "4       I  11.0  8.33"
            ]
          },
          "metadata": {
            "tags": []
          },
          "execution_count": 17
        }
      ]
    },
    {
      "metadata": {
        "colab_type": "text",
        "id": "yxMSGXfmljbE"
      },
      "cell_type": "markdown",
      "source": [
        "### [Group by](https://pandas.pydata.org/pandas-docs/stable/generated/pandas.DataFrame.groupby.html) `'dataset'`"
      ]
    },
    {
      "metadata": {
        "colab_type": "code",
        "id": "Kqb2C6OnljbG",
        "colab": {}
      },
      "cell_type": "code",
      "source": [
        "groups = df.groupby('dataset')"
      ],
      "execution_count": 0,
      "outputs": []
    },
    {
      "metadata": {
        "colab_type": "text",
        "id": "XE_VL_G5ljbI"
      },
      "cell_type": "markdown",
      "source": [
        "### [Describe](https://pandas.pydata.org/pandas-docs/stable/generated/pandas.DataFrame.describe.html) the groups"
      ]
    },
    {
      "metadata": {
        "colab_type": "code",
        "id": "3owo8EHvljbJ",
        "colab": {
          "base_uri": "https://localhost:8080/",
          "height": 235
        },
        "outputId": "348ceb35-1350-42b6-a113-25a95dda1d40"
      },
      "cell_type": "code",
      "source": [
        "groups.describe()"
      ],
      "execution_count": 19,
      "outputs": [
        {
          "output_type": "execute_result",
          "data": {
            "text/html": [
              "<div>\n",
              "<style scoped>\n",
              "    .dataframe tbody tr th:only-of-type {\n",
              "        vertical-align: middle;\n",
              "    }\n",
              "\n",
              "    .dataframe tbody tr th {\n",
              "        vertical-align: top;\n",
              "    }\n",
              "\n",
              "    .dataframe thead tr th {\n",
              "        text-align: left;\n",
              "    }\n",
              "\n",
              "    .dataframe thead tr:last-of-type th {\n",
              "        text-align: right;\n",
              "    }\n",
              "</style>\n",
              "<table border=\"1\" class=\"dataframe\">\n",
              "  <thead>\n",
              "    <tr>\n",
              "      <th></th>\n",
              "      <th colspan=\"8\" halign=\"left\">x</th>\n",
              "      <th colspan=\"8\" halign=\"left\">y</th>\n",
              "    </tr>\n",
              "    <tr>\n",
              "      <th></th>\n",
              "      <th>count</th>\n",
              "      <th>mean</th>\n",
              "      <th>std</th>\n",
              "      <th>min</th>\n",
              "      <th>25%</th>\n",
              "      <th>50%</th>\n",
              "      <th>75%</th>\n",
              "      <th>max</th>\n",
              "      <th>count</th>\n",
              "      <th>mean</th>\n",
              "      <th>std</th>\n",
              "      <th>min</th>\n",
              "      <th>25%</th>\n",
              "      <th>50%</th>\n",
              "      <th>75%</th>\n",
              "      <th>max</th>\n",
              "    </tr>\n",
              "    <tr>\n",
              "      <th>dataset</th>\n",
              "      <th></th>\n",
              "      <th></th>\n",
              "      <th></th>\n",
              "      <th></th>\n",
              "      <th></th>\n",
              "      <th></th>\n",
              "      <th></th>\n",
              "      <th></th>\n",
              "      <th></th>\n",
              "      <th></th>\n",
              "      <th></th>\n",
              "      <th></th>\n",
              "      <th></th>\n",
              "      <th></th>\n",
              "      <th></th>\n",
              "      <th></th>\n",
              "    </tr>\n",
              "  </thead>\n",
              "  <tbody>\n",
              "    <tr>\n",
              "      <th>I</th>\n",
              "      <td>11.0</td>\n",
              "      <td>9.0</td>\n",
              "      <td>3.316625</td>\n",
              "      <td>4.0</td>\n",
              "      <td>6.5</td>\n",
              "      <td>9.0</td>\n",
              "      <td>11.5</td>\n",
              "      <td>14.0</td>\n",
              "      <td>11.0</td>\n",
              "      <td>7.500909</td>\n",
              "      <td>2.031568</td>\n",
              "      <td>4.26</td>\n",
              "      <td>6.315</td>\n",
              "      <td>7.58</td>\n",
              "      <td>8.57</td>\n",
              "      <td>10.84</td>\n",
              "    </tr>\n",
              "    <tr>\n",
              "      <th>II</th>\n",
              "      <td>11.0</td>\n",
              "      <td>9.0</td>\n",
              "      <td>3.316625</td>\n",
              "      <td>4.0</td>\n",
              "      <td>6.5</td>\n",
              "      <td>9.0</td>\n",
              "      <td>11.5</td>\n",
              "      <td>14.0</td>\n",
              "      <td>11.0</td>\n",
              "      <td>7.500909</td>\n",
              "      <td>2.031657</td>\n",
              "      <td>3.10</td>\n",
              "      <td>6.695</td>\n",
              "      <td>8.14</td>\n",
              "      <td>8.95</td>\n",
              "      <td>9.26</td>\n",
              "    </tr>\n",
              "    <tr>\n",
              "      <th>III</th>\n",
              "      <td>11.0</td>\n",
              "      <td>9.0</td>\n",
              "      <td>3.316625</td>\n",
              "      <td>4.0</td>\n",
              "      <td>6.5</td>\n",
              "      <td>9.0</td>\n",
              "      <td>11.5</td>\n",
              "      <td>14.0</td>\n",
              "      <td>11.0</td>\n",
              "      <td>7.500000</td>\n",
              "      <td>2.030424</td>\n",
              "      <td>5.39</td>\n",
              "      <td>6.250</td>\n",
              "      <td>7.11</td>\n",
              "      <td>7.98</td>\n",
              "      <td>12.74</td>\n",
              "    </tr>\n",
              "    <tr>\n",
              "      <th>IV</th>\n",
              "      <td>11.0</td>\n",
              "      <td>9.0</td>\n",
              "      <td>3.316625</td>\n",
              "      <td>8.0</td>\n",
              "      <td>8.0</td>\n",
              "      <td>8.0</td>\n",
              "      <td>8.0</td>\n",
              "      <td>19.0</td>\n",
              "      <td>11.0</td>\n",
              "      <td>7.500909</td>\n",
              "      <td>2.030579</td>\n",
              "      <td>5.25</td>\n",
              "      <td>6.170</td>\n",
              "      <td>7.04</td>\n",
              "      <td>8.19</td>\n",
              "      <td>12.50</td>\n",
              "    </tr>\n",
              "  </tbody>\n",
              "</table>\n",
              "</div>"
            ],
            "text/plain": [
              "            x                                               y            \\\n",
              "        count mean       std  min  25%  50%   75%   max count      mean   \n",
              "dataset                                                                   \n",
              "I        11.0  9.0  3.316625  4.0  6.5  9.0  11.5  14.0  11.0  7.500909   \n",
              "II       11.0  9.0  3.316625  4.0  6.5  9.0  11.5  14.0  11.0  7.500909   \n",
              "III      11.0  9.0  3.316625  4.0  6.5  9.0  11.5  14.0  11.0  7.500000   \n",
              "IV       11.0  9.0  3.316625  8.0  8.0  8.0   8.0  19.0  11.0  7.500909   \n",
              "\n",
              "                                                   \n",
              "              std   min    25%   50%   75%    max  \n",
              "dataset                                            \n",
              "I        2.031568  4.26  6.315  7.58  8.57  10.84  \n",
              "II       2.031657  3.10  6.695  8.14  8.95   9.26  \n",
              "III      2.030424  5.39  6.250  7.11  7.98  12.74  \n",
              "IV       2.030579  5.25  6.170  7.04  8.19  12.50  "
            ]
          },
          "metadata": {
            "tags": []
          },
          "execution_count": 19
        }
      ]
    },
    {
      "metadata": {
        "colab_type": "text",
        "id": "VBjKXp0rljbK"
      },
      "cell_type": "markdown",
      "source": [
        "### Get the [count](https://pandas.pydata.org/pandas-docs/stable/generated/pandas.DataFrame.count.html), for each column in each group"
      ]
    },
    {
      "metadata": {
        "colab_type": "code",
        "id": "4ruK188dljbL",
        "colab": {
          "base_uri": "https://localhost:8080/",
          "height": 204
        },
        "outputId": "c6d940a7-6393-4bf7-9956-8bc98fde7add"
      },
      "cell_type": "code",
      "source": [
        "groups.count()"
      ],
      "execution_count": 20,
      "outputs": [
        {
          "output_type": "execute_result",
          "data": {
            "text/html": [
              "<div>\n",
              "<style scoped>\n",
              "    .dataframe tbody tr th:only-of-type {\n",
              "        vertical-align: middle;\n",
              "    }\n",
              "\n",
              "    .dataframe tbody tr th {\n",
              "        vertical-align: top;\n",
              "    }\n",
              "\n",
              "    .dataframe thead th {\n",
              "        text-align: right;\n",
              "    }\n",
              "</style>\n",
              "<table border=\"1\" class=\"dataframe\">\n",
              "  <thead>\n",
              "    <tr style=\"text-align: right;\">\n",
              "      <th></th>\n",
              "      <th>x</th>\n",
              "      <th>y</th>\n",
              "    </tr>\n",
              "    <tr>\n",
              "      <th>dataset</th>\n",
              "      <th></th>\n",
              "      <th></th>\n",
              "    </tr>\n",
              "  </thead>\n",
              "  <tbody>\n",
              "    <tr>\n",
              "      <th>I</th>\n",
              "      <td>11</td>\n",
              "      <td>11</td>\n",
              "    </tr>\n",
              "    <tr>\n",
              "      <th>II</th>\n",
              "      <td>11</td>\n",
              "      <td>11</td>\n",
              "    </tr>\n",
              "    <tr>\n",
              "      <th>III</th>\n",
              "      <td>11</td>\n",
              "      <td>11</td>\n",
              "    </tr>\n",
              "    <tr>\n",
              "      <th>IV</th>\n",
              "      <td>11</td>\n",
              "      <td>11</td>\n",
              "    </tr>\n",
              "  </tbody>\n",
              "</table>\n",
              "</div>"
            ],
            "text/plain": [
              "          x   y\n",
              "dataset        \n",
              "I        11  11\n",
              "II       11  11\n",
              "III      11  11\n",
              "IV       11  11"
            ]
          },
          "metadata": {
            "tags": []
          },
          "execution_count": 20
        }
      ]
    },
    {
      "metadata": {
        "colab_type": "text",
        "id": "Ooh4iR8gljbN"
      },
      "cell_type": "markdown",
      "source": [
        "### Get the [mean](https://pandas.pydata.org/pandas-docs/stable/generated/pandas.DataFrame.mean.html) ..."
      ]
    },
    {
      "metadata": {
        "colab_type": "code",
        "id": "VHz1_kJNljbN",
        "colab": {
          "base_uri": "https://localhost:8080/",
          "height": 204
        },
        "outputId": "a57e063d-46b8-4ff4-842b-4cfb1e1c0112"
      },
      "cell_type": "code",
      "source": [
        "groups.mean()"
      ],
      "execution_count": 21,
      "outputs": [
        {
          "output_type": "execute_result",
          "data": {
            "text/html": [
              "<div>\n",
              "<style scoped>\n",
              "    .dataframe tbody tr th:only-of-type {\n",
              "        vertical-align: middle;\n",
              "    }\n",
              "\n",
              "    .dataframe tbody tr th {\n",
              "        vertical-align: top;\n",
              "    }\n",
              "\n",
              "    .dataframe thead th {\n",
              "        text-align: right;\n",
              "    }\n",
              "</style>\n",
              "<table border=\"1\" class=\"dataframe\">\n",
              "  <thead>\n",
              "    <tr style=\"text-align: right;\">\n",
              "      <th></th>\n",
              "      <th>x</th>\n",
              "      <th>y</th>\n",
              "    </tr>\n",
              "    <tr>\n",
              "      <th>dataset</th>\n",
              "      <th></th>\n",
              "      <th></th>\n",
              "    </tr>\n",
              "  </thead>\n",
              "  <tbody>\n",
              "    <tr>\n",
              "      <th>I</th>\n",
              "      <td>9.0</td>\n",
              "      <td>7.500909</td>\n",
              "    </tr>\n",
              "    <tr>\n",
              "      <th>II</th>\n",
              "      <td>9.0</td>\n",
              "      <td>7.500909</td>\n",
              "    </tr>\n",
              "    <tr>\n",
              "      <th>III</th>\n",
              "      <td>9.0</td>\n",
              "      <td>7.500000</td>\n",
              "    </tr>\n",
              "    <tr>\n",
              "      <th>IV</th>\n",
              "      <td>9.0</td>\n",
              "      <td>7.500909</td>\n",
              "    </tr>\n",
              "  </tbody>\n",
              "</table>\n",
              "</div>"
            ],
            "text/plain": [
              "           x         y\n",
              "dataset               \n",
              "I        9.0  7.500909\n",
              "II       9.0  7.500909\n",
              "III      9.0  7.500000\n",
              "IV       9.0  7.500909"
            ]
          },
          "metadata": {
            "tags": []
          },
          "execution_count": 21
        }
      ]
    },
    {
      "metadata": {
        "colab_type": "text",
        "id": "KDpAl2z8ljbQ"
      },
      "cell_type": "markdown",
      "source": [
        "### Get the [standard deviation](https://pandas.pydata.org/pandas-docs/stable/generated/pandas.DataFrame.std.html) ..."
      ]
    },
    {
      "metadata": {
        "colab_type": "code",
        "id": "H8sPCA70ljbQ",
        "colab": {
          "base_uri": "https://localhost:8080/",
          "height": 204
        },
        "outputId": "4b1e6bca-cca6-4b8e-bec5-84bb78147800"
      },
      "cell_type": "code",
      "source": [
        "groups.std()"
      ],
      "execution_count": 22,
      "outputs": [
        {
          "output_type": "execute_result",
          "data": {
            "text/html": [
              "<div>\n",
              "<style scoped>\n",
              "    .dataframe tbody tr th:only-of-type {\n",
              "        vertical-align: middle;\n",
              "    }\n",
              "\n",
              "    .dataframe tbody tr th {\n",
              "        vertical-align: top;\n",
              "    }\n",
              "\n",
              "    .dataframe thead th {\n",
              "        text-align: right;\n",
              "    }\n",
              "</style>\n",
              "<table border=\"1\" class=\"dataframe\">\n",
              "  <thead>\n",
              "    <tr style=\"text-align: right;\">\n",
              "      <th></th>\n",
              "      <th>x</th>\n",
              "      <th>y</th>\n",
              "    </tr>\n",
              "    <tr>\n",
              "      <th>dataset</th>\n",
              "      <th></th>\n",
              "      <th></th>\n",
              "    </tr>\n",
              "  </thead>\n",
              "  <tbody>\n",
              "    <tr>\n",
              "      <th>I</th>\n",
              "      <td>3.316625</td>\n",
              "      <td>2.031568</td>\n",
              "    </tr>\n",
              "    <tr>\n",
              "      <th>II</th>\n",
              "      <td>3.316625</td>\n",
              "      <td>2.031657</td>\n",
              "    </tr>\n",
              "    <tr>\n",
              "      <th>III</th>\n",
              "      <td>3.316625</td>\n",
              "      <td>2.030424</td>\n",
              "    </tr>\n",
              "    <tr>\n",
              "      <th>IV</th>\n",
              "      <td>3.316625</td>\n",
              "      <td>2.030579</td>\n",
              "    </tr>\n",
              "  </tbody>\n",
              "</table>\n",
              "</div>"
            ],
            "text/plain": [
              "                x         y\n",
              "dataset                    \n",
              "I        3.316625  2.031568\n",
              "II       3.316625  2.031657\n",
              "III      3.316625  2.030424\n",
              "IV       3.316625  2.030579"
            ]
          },
          "metadata": {
            "tags": []
          },
          "execution_count": 22
        }
      ]
    },
    {
      "metadata": {
        "colab_type": "text",
        "id": "8_J0sQ3zljbS"
      },
      "cell_type": "markdown",
      "source": [
        "### Get the [correlation](https://pandas.pydata.org/pandas-docs/stable/generated/pandas.DataFrame.corr.html) ..."
      ]
    },
    {
      "metadata": {
        "colab_type": "code",
        "id": "oVaXOEutljbS",
        "colab": {
          "base_uri": "https://localhost:8080/",
          "height": 111
        },
        "outputId": "9ea493ed-1b91-4447-bd2c-129aeab9800b"
      },
      "cell_type": "code",
      "source": [
        "df.corr()"
      ],
      "execution_count": 24,
      "outputs": [
        {
          "output_type": "execute_result",
          "data": {
            "text/html": [
              "<div>\n",
              "<style scoped>\n",
              "    .dataframe tbody tr th:only-of-type {\n",
              "        vertical-align: middle;\n",
              "    }\n",
              "\n",
              "    .dataframe tbody tr th {\n",
              "        vertical-align: top;\n",
              "    }\n",
              "\n",
              "    .dataframe thead th {\n",
              "        text-align: right;\n",
              "    }\n",
              "</style>\n",
              "<table border=\"1\" class=\"dataframe\">\n",
              "  <thead>\n",
              "    <tr style=\"text-align: right;\">\n",
              "      <th></th>\n",
              "      <th>x</th>\n",
              "      <th>y</th>\n",
              "    </tr>\n",
              "  </thead>\n",
              "  <tbody>\n",
              "    <tr>\n",
              "      <th>x</th>\n",
              "      <td>1.000000</td>\n",
              "      <td>0.816366</td>\n",
              "    </tr>\n",
              "    <tr>\n",
              "      <th>y</th>\n",
              "      <td>0.816366</td>\n",
              "      <td>1.000000</td>\n",
              "    </tr>\n",
              "  </tbody>\n",
              "</table>\n",
              "</div>"
            ],
            "text/plain": [
              "          x         y\n",
              "x  1.000000  0.816366\n",
              "y  0.816366  1.000000"
            ]
          },
          "metadata": {
            "tags": []
          },
          "execution_count": 24
        }
      ]
    },
    {
      "metadata": {
        "id": "JODKgrcICpvF",
        "colab_type": "code",
        "colab": {
          "base_uri": "https://localhost:8080/",
          "height": 328
        },
        "outputId": "89c5941d-8c9b-419a-93f6-ba37b96c126b"
      },
      "cell_type": "code",
      "source": [
        "groups.corr()"
      ],
      "execution_count": 25,
      "outputs": [
        {
          "output_type": "execute_result",
          "data": {
            "text/html": [
              "<div>\n",
              "<style scoped>\n",
              "    .dataframe tbody tr th:only-of-type {\n",
              "        vertical-align: middle;\n",
              "    }\n",
              "\n",
              "    .dataframe tbody tr th {\n",
              "        vertical-align: top;\n",
              "    }\n",
              "\n",
              "    .dataframe thead th {\n",
              "        text-align: right;\n",
              "    }\n",
              "</style>\n",
              "<table border=\"1\" class=\"dataframe\">\n",
              "  <thead>\n",
              "    <tr style=\"text-align: right;\">\n",
              "      <th></th>\n",
              "      <th></th>\n",
              "      <th>x</th>\n",
              "      <th>y</th>\n",
              "    </tr>\n",
              "    <tr>\n",
              "      <th>dataset</th>\n",
              "      <th></th>\n",
              "      <th></th>\n",
              "      <th></th>\n",
              "    </tr>\n",
              "  </thead>\n",
              "  <tbody>\n",
              "    <tr>\n",
              "      <th rowspan=\"2\" valign=\"top\">I</th>\n",
              "      <th>x</th>\n",
              "      <td>1.000000</td>\n",
              "      <td>0.816421</td>\n",
              "    </tr>\n",
              "    <tr>\n",
              "      <th>y</th>\n",
              "      <td>0.816421</td>\n",
              "      <td>1.000000</td>\n",
              "    </tr>\n",
              "    <tr>\n",
              "      <th rowspan=\"2\" valign=\"top\">II</th>\n",
              "      <th>x</th>\n",
              "      <td>1.000000</td>\n",
              "      <td>0.816237</td>\n",
              "    </tr>\n",
              "    <tr>\n",
              "      <th>y</th>\n",
              "      <td>0.816237</td>\n",
              "      <td>1.000000</td>\n",
              "    </tr>\n",
              "    <tr>\n",
              "      <th rowspan=\"2\" valign=\"top\">III</th>\n",
              "      <th>x</th>\n",
              "      <td>1.000000</td>\n",
              "      <td>0.816287</td>\n",
              "    </tr>\n",
              "    <tr>\n",
              "      <th>y</th>\n",
              "      <td>0.816287</td>\n",
              "      <td>1.000000</td>\n",
              "    </tr>\n",
              "    <tr>\n",
              "      <th rowspan=\"2\" valign=\"top\">IV</th>\n",
              "      <th>x</th>\n",
              "      <td>1.000000</td>\n",
              "      <td>0.816521</td>\n",
              "    </tr>\n",
              "    <tr>\n",
              "      <th>y</th>\n",
              "      <td>0.816521</td>\n",
              "      <td>1.000000</td>\n",
              "    </tr>\n",
              "  </tbody>\n",
              "</table>\n",
              "</div>"
            ],
            "text/plain": [
              "                  x         y\n",
              "dataset                      \n",
              "I       x  1.000000  0.816421\n",
              "        y  0.816421  1.000000\n",
              "II      x  1.000000  0.816237\n",
              "        y  0.816237  1.000000\n",
              "III     x  1.000000  0.816287\n",
              "        y  0.816287  1.000000\n",
              "IV      x  1.000000  0.816521\n",
              "        y  0.816521  1.000000"
            ]
          },
          "metadata": {
            "tags": []
          },
          "execution_count": 25
        }
      ]
    },
    {
      "metadata": {
        "colab_type": "text",
        "id": "wev2eLSsljbU"
      },
      "cell_type": "markdown",
      "source": [
        "### Use pandas to [plot](https://pandas.pydata.org/pandas-docs/stable/generated/pandas.DataFrame.plot.html) the groups, as scatter plots"
      ]
    },
    {
      "metadata": {
        "colab_type": "code",
        "id": "OV8_BNakljbV",
        "colab": {
          "base_uri": "https://localhost:8080/",
          "height": 1081
        },
        "outputId": "56723b80-9b94-45f5-f7a9-7cd735924c3f"
      },
      "cell_type": "code",
      "source": [
        "groups.plot('x', 'y', kind='scatter');"
      ],
      "execution_count": 27,
      "outputs": [
        {
          "output_type": "display_data",
          "data": {
            "image/png": "[encoded data removed]",
            "text/plain": [
              "<Figure size 432x288 with 1 Axes>"
            ]
          },
          "metadata": {
            "tags": []
          }
        },
        {
          "output_type": "display_data",
          "data": {
            "image/png": "[encoded data removed]",
            "text/plain": [
              "<Figure size 432x288 with 1 Axes>"
            ]
          },
          "metadata": {
            "tags": []
          }
        },
        {
          "output_type": "display_data",
          "data": {
            "image/png": "[encoded data removed]",
            "text/plain": [
              "<Figure size 432x288 with 1 Axes>"
            ]
          },
          "metadata": {
            "tags": []
          }
        },
        {
          "output_type": "display_data",
          "data": {
            "image/png": "[encoded data removed]",
            "text/plain": [
              "<Figure size 432x288 with 1 Axes>"
            ]
          },
          "metadata": {
            "tags": []
          }
        }
      ]
    },
    {
      "metadata": {
        "colab_type": "text",
        "id": "aIZK7t3QljbX"
      },
      "cell_type": "markdown",
      "source": [
        "### Use Seaborn to make [relational plots](http://seaborn.pydata.org/generated/seaborn.relplot.html)"
      ]
    },
    {
      "metadata": {
        "colab_type": "code",
        "id": "VYwZwT85tggM",
        "colab": {
          "base_uri": "https://localhost:8080/",
          "height": 746
        },
        "outputId": "7b1b60e2-b3b7-4eae-8f3a-15aa24c856e4"
      },
      "cell_type": "code",
      "source": [
        "sns.relplot('x','y', col = 'dataset', data = df, col_wrap = 2)"
      ],
      "execution_count": 31,
      "outputs": [
        {
          "output_type": "execute_result",
          "data": {
            "text/plain": [
              "<seaborn.axisgrid.FacetGrid at 0x7fda8cc5f6d8>"
            ]
          },
          "metadata": {
            "tags": []
          },
          "execution_count": 31
        },
        {
          "output_type": "display_data",
          "data": {
            "image/png": "[encoded data removed]",
            "text/plain": [
              "<Figure size 720x720 with 4 Axes>"
            ]
          },
          "metadata": {
            "tags": []
          }
        }
      ]
    },
    {
      "metadata": {
        "colab_type": "text",
        "id": "7pC0xmYRljbZ"
      },
      "cell_type": "markdown",
      "source": [
        "### Use Seaborn to make [linear model plots](http://seaborn.pydata.org/generated/seaborn.lmplot.html)"
      ]
    },
    {
      "metadata": {
        "colab_type": "code",
        "id": "q0OUr1XytwG9",
        "colab": {
          "base_uri": "https://localhost:8080/",
          "height": 746
        },
        "outputId": "07a93e80-1f00-4212-dfae-1d251c38ebd5"
      },
      "cell_type": "code",
      "source": [
        "sns.lmplot('x', 'y', col='dataset', hue='dataset', data=df, col_wrap = 2)"
      ],
      "execution_count": 32,
      "outputs": [
        {
          "output_type": "execute_result",
          "data": {
            "text/plain": [
              "<seaborn.axisgrid.FacetGrid at 0x7fda8c5b7d68>"
            ]
          },
          "metadata": {
            "tags": []
          },
          "execution_count": 32
        },
        {
          "output_type": "display_data",
          "data": {
            "image/png": "[encoded data removed]",
            "text/plain": [
              "<Figure size 720x720 with 4 Axes>"
            ]
          },
          "metadata": {
            "tags": []
          }
        }
      ]
    },
    {
      "metadata": {
        "colab_type": "text",
        "id": "Cn-xMBPcljbc"
      },
      "cell_type": "markdown",
      "source": [
        "#### Links\n",
        "- [Seaborn examples: Anscombe's quartet](http://seaborn.pydata.org/examples/anscombes_quartet.html)\n",
        "- [Wikipedia: Anscombe's quartet](https://en.wikipedia.org/wiki/Anscombe%27s_quartet)\n",
        "- [The Datasaurus Dozen](https://www.autodeskresearch.com/publications/samestats)"
      ]
    },
    {
      "metadata": {
        "colab_type": "text",
        "id": "5vhSX9VJljbc"
      },
      "cell_type": "markdown",
      "source": [
        "## 2. Tips dataset"
      ]
    },
    {
      "metadata": {
        "colab_type": "text",
        "id": "tZrTgYtoljbc"
      },
      "cell_type": "markdown",
      "source": [
        "### Load dataset"
      ]
    },
    {
      "metadata": {
        "colab_type": "code",
        "id": "Ms3dbDMRljbd",
        "colab": {}
      },
      "cell_type": "code",
      "source": [
        "tips = sns.load_dataset('tips')"
      ],
      "execution_count": 0,
      "outputs": []
    },
    {
      "metadata": {
        "colab_type": "text",
        "id": "YsR7xrSVljbe"
      },
      "cell_type": "markdown",
      "source": [
        "### See the data's shape"
      ]
    },
    {
      "metadata": {
        "colab_type": "code",
        "id": "vkd17Tv7ljbf",
        "colab": {
          "base_uri": "https://localhost:8080/",
          "height": 34
        },
        "outputId": "6abe293b-954b-4177-84d4-0948b54a8b42"
      },
      "cell_type": "code",
      "source": [
        "tips.shape"
      ],
      "execution_count": 34,
      "outputs": [
        {
          "output_type": "execute_result",
          "data": {
            "text/plain": [
              "(244, 7)"
            ]
          },
          "metadata": {
            "tags": []
          },
          "execution_count": 34
        }
      ]
    },
    {
      "metadata": {
        "colab_type": "text",
        "id": "gRlUBLZEljbg"
      },
      "cell_type": "markdown",
      "source": [
        "### See the first 5 rows"
      ]
    },
    {
      "metadata": {
        "colab_type": "code",
        "id": "tSi2F9ZHljbg",
        "colab": {
          "base_uri": "https://localhost:8080/",
          "height": 204
        },
        "outputId": "7dd1fea6-8231-435a-f44d-ebd0ed0cba33"
      },
      "cell_type": "code",
      "source": [
        "tips.head()"
      ],
      "execution_count": 35,
      "outputs": [
        {
          "output_type": "execute_result",
          "data": {
            "text/html": [
              "<div>\n",
              "<style scoped>\n",
              "    .dataframe tbody tr th:only-of-type {\n",
              "        vertical-align: middle;\n",
              "    }\n",
              "\n",
              "    .dataframe tbody tr th {\n",
              "        vertical-align: top;\n",
              "    }\n",
              "\n",
              "    .dataframe thead th {\n",
              "        text-align: right;\n",
              "    }\n",
              "</style>\n",
              "<table border=\"1\" class=\"dataframe\">\n",
              "  <thead>\n",
              "    <tr style=\"text-align: right;\">\n",
              "      <th></th>\n",
              "      <th>total_bill</th>\n",
              "      <th>tip</th>\n",
              "      <th>sex</th>\n",
              "      <th>smoker</th>\n",
              "      <th>day</th>\n",
              "      <th>time</th>\n",
              "      <th>size</th>\n",
              "    </tr>\n",
              "  </thead>\n",
              "  <tbody>\n",
              "    <tr>\n",
              "      <th>0</th>\n",
              "      <td>16.99</td>\n",
              "      <td>1.01</td>\n",
              "      <td>Female</td>\n",
              "      <td>No</td>\n",
              "      <td>Sun</td>\n",
              "      <td>Dinner</td>\n",
              "      <td>2</td>\n",
              "    </tr>\n",
              "    <tr>\n",
              "      <th>1</th>\n",
              "      <td>10.34</td>\n",
              "      <td>1.66</td>\n",
              "      <td>Male</td>\n",
              "      <td>No</td>\n",
              "      <td>Sun</td>\n",
              "      <td>Dinner</td>\n",
              "      <td>3</td>\n",
              "    </tr>\n",
              "    <tr>\n",
              "      <th>2</th>\n",
              "      <td>21.01</td>\n",
              "      <td>3.50</td>\n",
              "      <td>Male</td>\n",
              "      <td>No</td>\n",
              "      <td>Sun</td>\n",
              "      <td>Dinner</td>\n",
              "      <td>3</td>\n",
              "    </tr>\n",
              "    <tr>\n",
              "      <th>3</th>\n",
              "      <td>23.68</td>\n",
              "      <td>3.31</td>\n",
              "      <td>Male</td>\n",
              "      <td>No</td>\n",
              "      <td>Sun</td>\n",
              "      <td>Dinner</td>\n",
              "      <td>2</td>\n",
              "    </tr>\n",
              "    <tr>\n",
              "      <th>4</th>\n",
              "      <td>24.59</td>\n",
              "      <td>3.61</td>\n",
              "      <td>Female</td>\n",
              "      <td>No</td>\n",
              "      <td>Sun</td>\n",
              "      <td>Dinner</td>\n",
              "      <td>4</td>\n",
              "    </tr>\n",
              "  </tbody>\n",
              "</table>\n",
              "</div>"
            ],
            "text/plain": [
              "   total_bill   tip     sex smoker  day    time  size\n",
              "0       16.99  1.01  Female     No  Sun  Dinner     2\n",
              "1       10.34  1.66    Male     No  Sun  Dinner     3\n",
              "2       21.01  3.50    Male     No  Sun  Dinner     3\n",
              "3       23.68  3.31    Male     No  Sun  Dinner     2\n",
              "4       24.59  3.61  Female     No  Sun  Dinner     4"
            ]
          },
          "metadata": {
            "tags": []
          },
          "execution_count": 35
        }
      ]
    },
    {
      "metadata": {
        "colab_type": "text",
        "id": "sdGGrpdsljbi"
      },
      "cell_type": "markdown",
      "source": [
        "### Describe the data"
      ]
    },
    {
      "metadata": {
        "colab_type": "code",
        "id": "NvwPj20Qljbi",
        "colab": {
          "base_uri": "https://localhost:8080/",
          "height": 297
        },
        "outputId": "212d0130-9fd2-4ee9-8c15-5a703b4efdb5"
      },
      "cell_type": "code",
      "source": [
        "tips.describe()"
      ],
      "execution_count": 39,
      "outputs": [
        {
          "output_type": "execute_result",
          "data": {
            "text/html": [
              "<div>\n",
              "<style scoped>\n",
              "    .dataframe tbody tr th:only-of-type {\n",
              "        vertical-align: middle;\n",
              "    }\n",
              "\n",
              "    .dataframe tbody tr th {\n",
              "        vertical-align: top;\n",
              "    }\n",
              "\n",
              "    .dataframe thead th {\n",
              "        text-align: right;\n",
              "    }\n",
              "</style>\n",
              "<table border=\"1\" class=\"dataframe\">\n",
              "  <thead>\n",
              "    <tr style=\"text-align: right;\">\n",
              "      <th></th>\n",
              "      <th>total_bill</th>\n",
              "      <th>tip</th>\n",
              "      <th>smoker</th>\n",
              "      <th>size</th>\n",
              "    </tr>\n",
              "  </thead>\n",
              "  <tbody>\n",
              "    <tr>\n",
              "      <th>count</th>\n",
              "      <td>244.000000</td>\n",
              "      <td>244.000000</td>\n",
              "      <td>244.000000</td>\n",
              "      <td>244.000000</td>\n",
              "    </tr>\n",
              "    <tr>\n",
              "      <th>mean</th>\n",
              "      <td>19.785943</td>\n",
              "      <td>2.998279</td>\n",
              "      <td>0.381148</td>\n",
              "      <td>2.569672</td>\n",
              "    </tr>\n",
              "    <tr>\n",
              "      <th>std</th>\n",
              "      <td>8.902412</td>\n",
              "      <td>1.383638</td>\n",
              "      <td>0.486667</td>\n",
              "      <td>0.951100</td>\n",
              "    </tr>\n",
              "    <tr>\n",
              "      <th>min</th>\n",
              "      <td>3.070000</td>\n",
              "      <td>1.000000</td>\n",
              "      <td>0.000000</td>\n",
              "      <td>1.000000</td>\n",
              "    </tr>\n",
              "    <tr>\n",
              "      <th>25%</th>\n",
              "      <td>13.347500</td>\n",
              "      <td>2.000000</td>\n",
              "      <td>0.000000</td>\n",
              "      <td>2.000000</td>\n",
              "    </tr>\n",
              "    <tr>\n",
              "      <th>50%</th>\n",
              "      <td>17.795000</td>\n",
              "      <td>2.900000</td>\n",
              "      <td>0.000000</td>\n",
              "      <td>2.000000</td>\n",
              "    </tr>\n",
              "    <tr>\n",
              "      <th>75%</th>\n",
              "      <td>24.127500</td>\n",
              "      <td>3.562500</td>\n",
              "      <td>1.000000</td>\n",
              "      <td>3.000000</td>\n",
              "    </tr>\n",
              "    <tr>\n",
              "      <th>max</th>\n",
              "      <td>50.810000</td>\n",
              "      <td>10.000000</td>\n",
              "      <td>1.000000</td>\n",
              "      <td>6.000000</td>\n",
              "    </tr>\n",
              "  </tbody>\n",
              "</table>\n",
              "</div>"
            ],
            "text/plain": [
              "       total_bill         tip      smoker        size\n",
              "count  244.000000  244.000000  244.000000  244.000000\n",
              "mean    19.785943    2.998279    0.381148    2.569672\n",
              "std      8.902412    1.383638    0.486667    0.951100\n",
              "min      3.070000    1.000000    0.000000    1.000000\n",
              "25%     13.347500    2.000000    0.000000    2.000000\n",
              "50%     17.795000    2.900000    0.000000    2.000000\n",
              "75%     24.127500    3.562500    1.000000    3.000000\n",
              "max     50.810000   10.000000    1.000000    6.000000"
            ]
          },
          "metadata": {
            "tags": []
          },
          "execution_count": 39
        }
      ]
    },
    {
      "metadata": {
        "id": "vqziXWcqHLZR",
        "colab_type": "code",
        "colab": {}
      },
      "cell_type": "code",
      "source": [
        "tips['smoker'] = tips['smoker'].replace({'No': 0, 'Yes': 1})"
      ],
      "execution_count": 0,
      "outputs": []
    },
    {
      "metadata": {
        "colab_type": "text",
        "id": "TDoUKNB4ljbk"
      },
      "cell_type": "markdown",
      "source": [
        "### Make univariate [distribution plots](https://seaborn.pydata.org/generated/seaborn.distplot.html)"
      ]
    },
    {
      "metadata": {
        "colab_type": "code",
        "id": "GL7qCnO1PRbM",
        "colab": {
          "base_uri": "https://localhost:8080/",
          "height": 300
        },
        "outputId": "e7ee6bd2-c137-40c6-b2f7-3734d499a6c9"
      },
      "cell_type": "code",
      "source": [
        "sns.distplot(tips.tip)"
      ],
      "execution_count": 41,
      "outputs": [
        {
          "output_type": "execute_result",
          "data": {
            "text/plain": [
              "<matplotlib.axes._subplots.AxesSubplot at 0x7fda8c3922b0>"
            ]
          },
          "metadata": {
            "tags": []
          },
          "execution_count": 41
        },
        {
          "output_type": "display_data",
          "data": {
            "image/png": "[encoded data removed]",
            "text/plain": [
              "<Figure size 432x288 with 1 Axes>"
            ]
          },
          "metadata": {
            "tags": []
          }
        }
      ]
    },
    {
      "metadata": {
        "id": "E727xLRjIjeL",
        "colab_type": "code",
        "colab": {
          "base_uri": "https://localhost:8080/",
          "height": 301
        },
        "outputId": "37522671-9935-43cf-e60c-e6eaea3e7d8c"
      },
      "cell_type": "code",
      "source": [
        "sns.distplot(tips.total_bill)"
      ],
      "execution_count": 42,
      "outputs": [
        {
          "output_type": "execute_result",
          "data": {
            "text/plain": [
              "<matplotlib.axes._subplots.AxesSubplot at 0x7fda8c3ab470>"
            ]
          },
          "metadata": {
            "tags": []
          },
          "execution_count": 42
        },
        {
          "output_type": "display_data",
          "data": {
            "image/png": "[encoded data removed]",
            "text/plain": [
              "<Figure size 432x288 with 1 Axes>"
            ]
          },
          "metadata": {
            "tags": []
          }
        }
      ]
    },
    {
      "metadata": {
        "id": "9tmBjw7XImBc",
        "colab_type": "code",
        "colab": {
          "base_uri": "https://localhost:8080/",
          "height": 286
        },
        "outputId": "f2eb4df5-6624-4ce0-fea5-6d38c28cd22b"
      },
      "cell_type": "code",
      "source": [
        "sns.distplot(tips.tip/tips.total_bill)"
      ],
      "execution_count": 44,
      "outputs": [
        {
          "output_type": "execute_result",
          "data": {
            "text/plain": [
              "<matplotlib.axes._subplots.AxesSubplot at 0x7fda8c2aad30>"
            ]
          },
          "metadata": {
            "tags": []
          },
          "execution_count": 44
        },
        {
          "output_type": "display_data",
          "data": {
            "image/png": "[encoded data removed]",
            "text/plain": [
              "<Figure size 432x288 with 1 Axes>"
            ]
          },
          "metadata": {
            "tags": []
          }
        }
      ]
    },
    {
      "metadata": {
        "colab_type": "text",
        "id": "0N-6Munnljbm"
      },
      "cell_type": "markdown",
      "source": [
        "### Make bivariate [relational plots](https://seaborn.pydata.org/generated/seaborn.relplot.html)"
      ]
    },
    {
      "metadata": {
        "colab_type": "code",
        "id": "AVWSHwa9PT1y",
        "colab": {
          "base_uri": "https://localhost:8080/",
          "height": 386
        },
        "outputId": "f6afc67a-fe04-4ecc-eacc-b5c179f02dd8"
      },
      "cell_type": "code",
      "source": [
        "sns.relplot('total_bill','tip', data = tips, alpha = 0.5)"
      ],
      "execution_count": 47,
      "outputs": [
        {
          "output_type": "execute_result",
          "data": {
            "text/plain": [
              "<seaborn.axisgrid.FacetGrid at 0x7fda8c4366d8>"
            ]
          },
          "metadata": {
            "tags": []
          },
          "execution_count": 47
        },
        {
          "output_type": "display_data",
          "data": {
            "image/png": "[encoded data removed]",
            "text/plain": [
              "<Figure size 360x360 with 1 Axes>"
            ]
          },
          "metadata": {
            "tags": []
          }
        }
      ]
    },
    {
      "metadata": {
        "colab_type": "text",
        "id": "7Ug5vyBlljbp"
      },
      "cell_type": "markdown",
      "source": [
        "### Make univariate [categorical plots](https://seaborn.pydata.org/generated/seaborn.catplot.html)"
      ]
    },
    {
      "metadata": {
        "colab_type": "code",
        "id": "0FdkIBUjPWLg",
        "colab": {
          "base_uri": "https://localhost:8080/",
          "height": 312
        },
        "outputId": "270e1b6d-4436-4c09-a714-31a241407e8f"
      },
      "cell_type": "code",
      "source": [
        "tips.sex.value_counts().plot.bar()"
      ],
      "execution_count": 48,
      "outputs": [
        {
          "output_type": "execute_result",
          "data": {
            "text/plain": [
              "<matplotlib.axes._subplots.AxesSubplot at 0x7fda8bf5e240>"
            ]
          },
          "metadata": {
            "tags": []
          },
          "execution_count": 48
        },
        {
          "output_type": "display_data",
          "data": {
            "image/png": "[encoded data removed]",
            "text/plain": [
              "<Figure size 432x288 with 1 Axes>"
            ]
          },
          "metadata": {
            "tags": []
          }
        }
      ]
    },
    {
      "metadata": {
        "colab_type": "text",
        "id": "Ftchuwrgljbs"
      },
      "cell_type": "markdown",
      "source": [
        "### Make bivariate [categorical plots](https://seaborn.pydata.org/generated/seaborn.catplot.html)"
      ]
    },
    {
      "metadata": {
        "colab_type": "code",
        "id": "yIGQcgB0PZnk",
        "colab": {
          "base_uri": "https://localhost:8080/",
          "height": 386
        },
        "outputId": "c8da6fea-eeae-4dda-d21b-a324deaa2b37"
      },
      "cell_type": "code",
      "source": [
        "sns.catplot('day', data = tips, kind = 'count')"
      ],
      "execution_count": 49,
      "outputs": [
        {
          "output_type": "execute_result",
          "data": {
            "text/plain": [
              "<seaborn.axisgrid.FacetGrid at 0x7fda8bf574a8>"
            ]
          },
          "metadata": {
            "tags": []
          },
          "execution_count": 49
        },
        {
          "output_type": "display_data",
          "data": {
            "image/png": "[encoded data removed]",
            "text/plain": [
              "<Figure size 360x360 with 1 Axes>"
            ]
          },
          "metadata": {
            "tags": []
          }
        }
      ]
    },
    {
      "metadata": {
        "colab_type": "text",
        "id": "FFWkWusYljbt"
      },
      "cell_type": "markdown",
      "source": [
        "## 3. Flights"
      ]
    },
    {
      "metadata": {
        "colab_type": "text",
        "id": "A9uGFj7fljbu"
      },
      "cell_type": "markdown",
      "source": [
        "### Load dataset"
      ]
    },
    {
      "metadata": {
        "colab_type": "code",
        "id": "x9Pd0h0_ljbu",
        "colab": {}
      },
      "cell_type": "code",
      "source": [
        "flights = sns.load_dataset('flights')"
      ],
      "execution_count": 0,
      "outputs": []
    },
    {
      "metadata": {
        "colab_type": "text",
        "id": "TqUSgAUcljbx"
      },
      "cell_type": "markdown",
      "source": [
        "### See the data's shape"
      ]
    },
    {
      "metadata": {
        "colab_type": "code",
        "id": "5WELCrPPljbx",
        "colab": {
          "base_uri": "https://localhost:8080/",
          "height": 34
        },
        "outputId": "ca970d97-22fe-4c17-823c-78e607f2ea4f"
      },
      "cell_type": "code",
      "source": [
        "flights.shape"
      ],
      "execution_count": 54,
      "outputs": [
        {
          "output_type": "execute_result",
          "data": {
            "text/plain": [
              "(144, 3)"
            ]
          },
          "metadata": {
            "tags": []
          },
          "execution_count": 54
        }
      ]
    },
    {
      "metadata": {
        "colab_type": "text",
        "id": "47WxnyjCljby"
      },
      "cell_type": "markdown",
      "source": [
        "### See the first 5 rows"
      ]
    },
    {
      "metadata": {
        "colab_type": "code",
        "id": "xCREANeJljby",
        "colab": {
          "base_uri": "https://localhost:8080/",
          "height": 204
        },
        "outputId": "8a6845ee-ae6c-4419-b891-51343bd58bec"
      },
      "cell_type": "code",
      "source": [
        "flights.head()"
      ],
      "execution_count": 55,
      "outputs": [
        {
          "output_type": "execute_result",
          "data": {
            "text/html": [
              "<div>\n",
              "<style scoped>\n",
              "    .dataframe tbody tr th:only-of-type {\n",
              "        vertical-align: middle;\n",
              "    }\n",
              "\n",
              "    .dataframe tbody tr th {\n",
              "        vertical-align: top;\n",
              "    }\n",
              "\n",
              "    .dataframe thead th {\n",
              "        text-align: right;\n",
              "    }\n",
              "</style>\n",
              "<table border=\"1\" class=\"dataframe\">\n",
              "  <thead>\n",
              "    <tr style=\"text-align: right;\">\n",
              "      <th></th>\n",
              "      <th>year</th>\n",
              "      <th>month</th>\n",
              "      <th>passengers</th>\n",
              "    </tr>\n",
              "  </thead>\n",
              "  <tbody>\n",
              "    <tr>\n",
              "      <th>0</th>\n",
              "      <td>1949</td>\n",
              "      <td>January</td>\n",
              "      <td>112</td>\n",
              "    </tr>\n",
              "    <tr>\n",
              "      <th>1</th>\n",
              "      <td>1949</td>\n",
              "      <td>February</td>\n",
              "      <td>118</td>\n",
              "    </tr>\n",
              "    <tr>\n",
              "      <th>2</th>\n",
              "      <td>1949</td>\n",
              "      <td>March</td>\n",
              "      <td>132</td>\n",
              "    </tr>\n",
              "    <tr>\n",
              "      <th>3</th>\n",
              "      <td>1949</td>\n",
              "      <td>April</td>\n",
              "      <td>129</td>\n",
              "    </tr>\n",
              "    <tr>\n",
              "      <th>4</th>\n",
              "      <td>1949</td>\n",
              "      <td>May</td>\n",
              "      <td>121</td>\n",
              "    </tr>\n",
              "  </tbody>\n",
              "</table>\n",
              "</div>"
            ],
            "text/plain": [
              "   year     month  passengers\n",
              "0  1949   January         112\n",
              "1  1949  February         118\n",
              "2  1949     March         132\n",
              "3  1949     April         129\n",
              "4  1949       May         121"
            ]
          },
          "metadata": {
            "tags": []
          },
          "execution_count": 55
        }
      ]
    },
    {
      "metadata": {
        "colab_type": "text",
        "id": "eUc_48wbljb0"
      },
      "cell_type": "markdown",
      "source": [
        "### Describe the data"
      ]
    },
    {
      "metadata": {
        "colab_type": "code",
        "id": "rA0xTMd7ljb0",
        "colab": {
          "base_uri": "https://localhost:8080/",
          "height": 297
        },
        "outputId": "4ef93223-612b-46ec-c65b-9b26156902fe"
      },
      "cell_type": "code",
      "source": [
        "flights.describe()"
      ],
      "execution_count": 56,
      "outputs": [
        {
          "output_type": "execute_result",
          "data": {
            "text/html": [
              "<div>\n",
              "<style scoped>\n",
              "    .dataframe tbody tr th:only-of-type {\n",
              "        vertical-align: middle;\n",
              "    }\n",
              "\n",
              "    .dataframe tbody tr th {\n",
              "        vertical-align: top;\n",
              "    }\n",
              "\n",
              "    .dataframe thead th {\n",
              "        text-align: right;\n",
              "    }\n",
              "</style>\n",
              "<table border=\"1\" class=\"dataframe\">\n",
              "  <thead>\n",
              "    <tr style=\"text-align: right;\">\n",
              "      <th></th>\n",
              "      <th>year</th>\n",
              "      <th>passengers</th>\n",
              "    </tr>\n",
              "  </thead>\n",
              "  <tbody>\n",
              "    <tr>\n",
              "      <th>count</th>\n",
              "      <td>144.000000</td>\n",
              "      <td>144.000000</td>\n",
              "    </tr>\n",
              "    <tr>\n",
              "      <th>mean</th>\n",
              "      <td>1954.500000</td>\n",
              "      <td>280.298611</td>\n",
              "    </tr>\n",
              "    <tr>\n",
              "      <th>std</th>\n",
              "      <td>3.464102</td>\n",
              "      <td>119.966317</td>\n",
              "    </tr>\n",
              "    <tr>\n",
              "      <th>min</th>\n",
              "      <td>1949.000000</td>\n",
              "      <td>104.000000</td>\n",
              "    </tr>\n",
              "    <tr>\n",
              "      <th>25%</th>\n",
              "      <td>1951.750000</td>\n",
              "      <td>180.000000</td>\n",
              "    </tr>\n",
              "    <tr>\n",
              "      <th>50%</th>\n",
              "      <td>1954.500000</td>\n",
              "      <td>265.500000</td>\n",
              "    </tr>\n",
              "    <tr>\n",
              "      <th>75%</th>\n",
              "      <td>1957.250000</td>\n",
              "      <td>360.500000</td>\n",
              "    </tr>\n",
              "    <tr>\n",
              "      <th>max</th>\n",
              "      <td>1960.000000</td>\n",
              "      <td>622.000000</td>\n",
              "    </tr>\n",
              "  </tbody>\n",
              "</table>\n",
              "</div>"
            ],
            "text/plain": [
              "              year  passengers\n",
              "count   144.000000  144.000000\n",
              "mean   1954.500000  280.298611\n",
              "std       3.464102  119.966317\n",
              "min    1949.000000  104.000000\n",
              "25%    1951.750000  180.000000\n",
              "50%    1954.500000  265.500000\n",
              "75%    1957.250000  360.500000\n",
              "max    1960.000000  622.000000"
            ]
          },
          "metadata": {
            "tags": []
          },
          "execution_count": 56
        }
      ]
    },
    {
      "metadata": {
        "colab_type": "text",
        "id": "Pwg0lL5Lljb2"
      },
      "cell_type": "markdown",
      "source": [
        "### Plot year & passengers"
      ]
    },
    {
      "metadata": {
        "colab_type": "code",
        "id": "o2reqC4Eljb2",
        "colab": {
          "base_uri": "https://localhost:8080/",
          "height": 540
        },
        "outputId": "f304548c-d01f-4314-8dbc-f917a106a90c"
      },
      "cell_type": "code",
      "source": [
        "sns.relplot('passengers', 'year', flights)"
      ],
      "execution_count": 57,
      "outputs": [
        {
          "output_type": "error",
          "ename": "ValueError",
          "evalue": "ignored",
          "traceback": [
            "\u001b[0;31m---------------------------------------------------------------------------\u001b[0m",
            "\u001b[0;31mValueError\u001b[0m                                Traceback (most recent call last)",
            "\u001b[0;32m<ipython-input-57-5d92cd1c1d4a>\u001b[0m in \u001b[0;36m<module>\u001b[0;34m()\u001b[0m\n\u001b[0;32m----> 1\u001b[0;31m \u001b[0msns\u001b[0m\u001b[0;34m.\u001b[0m\u001b[0mrelplot\u001b[0m\u001b[0;34m(\u001b[0m\u001b[0;34m'passengers'\u001b[0m\u001b[0;34m,\u001b[0m \u001b[0;34m'year'\u001b[0m\u001b[0;34m,\u001b[0m \u001b[0mflights\u001b[0m\u001b[0;34m)\u001b[0m\u001b[0;34m\u001b[0m\u001b[0;34m\u001b[0m\u001b[0m\n\u001b[0m",
            "\u001b[0;32m/usr/local/lib/python3.6/dist-packages/seaborn/relational.py\u001b[0m in \u001b[0;36mrelplot\u001b[0;34m(x, y, hue, size, style, data, row, col, col_wrap, row_order, col_order, palette, hue_order, hue_norm, sizes, size_order, size_norm, markers, dashes, style_order, legend, kind, height, aspect, facet_kws, **kwargs)\u001b[0m\n\u001b[1;32m   1574\u001b[0m         \u001b[0msizes\u001b[0m\u001b[0;34m=\u001b[0m\u001b[0msizes\u001b[0m\u001b[0;34m,\u001b[0m \u001b[0msize_order\u001b[0m\u001b[0;34m=\u001b[0m\u001b[0msize_order\u001b[0m\u001b[0;34m,\u001b[0m \u001b[0msize_norm\u001b[0m\u001b[0;34m=\u001b[0m\u001b[0msize_norm\u001b[0m\u001b[0;34m,\u001b[0m\u001b[0;34m\u001b[0m\u001b[0;34m\u001b[0m\u001b[0m\n\u001b[1;32m   1575\u001b[0m         \u001b[0mmarkers\u001b[0m\u001b[0;34m=\u001b[0m\u001b[0mmarkers\u001b[0m\u001b[0;34m,\u001b[0m \u001b[0mdashes\u001b[0m\u001b[0;34m=\u001b[0m\u001b[0mdashes\u001b[0m\u001b[0;34m,\u001b[0m \u001b[0mstyle_order\u001b[0m\u001b[0;34m=\u001b[0m\u001b[0mstyle_order\u001b[0m\u001b[0;34m,\u001b[0m\u001b[0;34m\u001b[0m\u001b[0;34m\u001b[0m\u001b[0m\n\u001b[0;32m-> 1576\u001b[0;31m         \u001b[0mlegend\u001b[0m\u001b[0;34m=\u001b[0m\u001b[0mlegend\u001b[0m\u001b[0;34m,\u001b[0m\u001b[0;34m\u001b[0m\u001b[0;34m\u001b[0m\u001b[0m\n\u001b[0m\u001b[1;32m   1577\u001b[0m     )\n\u001b[1;32m   1578\u001b[0m \u001b[0;34m\u001b[0m\u001b[0m\n",
            "\u001b[0;32m/usr/local/lib/python3.6/dist-packages/seaborn/relational.py\u001b[0m in \u001b[0;36m__init__\u001b[0;34m(self, x, y, hue, size, style, data, palette, hue_order, hue_norm, sizes, size_order, size_norm, dashes, markers, style_order, x_bins, y_bins, units, estimator, ci, n_boot, alpha, x_jitter, y_jitter, legend)\u001b[0m\n\u001b[1;32m    850\u001b[0m \u001b[0;34m\u001b[0m\u001b[0m\n\u001b[1;32m    851\u001b[0m         plot_data = self.establish_variables(\n\u001b[0;32m--> 852\u001b[0;31m             \u001b[0mx\u001b[0m\u001b[0;34m,\u001b[0m \u001b[0my\u001b[0m\u001b[0;34m,\u001b[0m \u001b[0mhue\u001b[0m\u001b[0;34m,\u001b[0m \u001b[0msize\u001b[0m\u001b[0;34m,\u001b[0m \u001b[0mstyle\u001b[0m\u001b[0;34m,\u001b[0m \u001b[0munits\u001b[0m\u001b[0;34m,\u001b[0m \u001b[0mdata\u001b[0m\u001b[0;34m\u001b[0m\u001b[0;34m\u001b[0m\u001b[0m\n\u001b[0m\u001b[1;32m    853\u001b[0m         )\n\u001b[1;32m    854\u001b[0m \u001b[0;34m\u001b[0m\u001b[0m\n",
            "\u001b[0;32m/usr/local/lib/python3.6/dist-packages/seaborn/relational.py\u001b[0m in \u001b[0;36mestablish_variables\u001b[0;34m(self, x, y, hue, size, style, units, data)\u001b[0m\n\u001b[1;32m    140\u001b[0m                 \u001b[0;32mif\u001b[0m \u001b[0misinstance\u001b[0m\u001b[0;34m(\u001b[0m\u001b[0mvar\u001b[0m\u001b[0;34m,\u001b[0m \u001b[0mstring_types\u001b[0m\u001b[0;34m)\u001b[0m\u001b[0;34m:\u001b[0m\u001b[0;34m\u001b[0m\u001b[0;34m\u001b[0m\u001b[0m\n\u001b[1;32m    141\u001b[0m                     \u001b[0merr\u001b[0m \u001b[0;34m=\u001b[0m \u001b[0;34m\"Could not interpret input '{}'\"\u001b[0m\u001b[0;34m.\u001b[0m\u001b[0mformat\u001b[0m\u001b[0;34m(\u001b[0m\u001b[0mvar\u001b[0m\u001b[0;34m)\u001b[0m\u001b[0;34m\u001b[0m\u001b[0;34m\u001b[0m\u001b[0m\n\u001b[0;32m--> 142\u001b[0;31m                     \u001b[0;32mraise\u001b[0m \u001b[0mValueError\u001b[0m\u001b[0;34m(\u001b[0m\u001b[0merr\u001b[0m\u001b[0;34m)\u001b[0m\u001b[0;34m\u001b[0m\u001b[0;34m\u001b[0m\u001b[0m\n\u001b[0m\u001b[1;32m    143\u001b[0m \u001b[0;34m\u001b[0m\u001b[0m\n\u001b[1;32m    144\u001b[0m             \u001b[0;31m# Extract variable names\u001b[0m\u001b[0;34m\u001b[0m\u001b[0;34m\u001b[0m\u001b[0;34m\u001b[0m\u001b[0m\n",
            "\u001b[0;31mValueError\u001b[0m: Could not interpret input 'passengers'"
          ]
        }
      ]
    },
    {
      "metadata": {
        "colab_type": "text",
        "id": "g1TKShQ2ljb4"
      },
      "cell_type": "markdown",
      "source": [
        "### Plot month & passengers"
      ]
    },
    {
      "metadata": {
        "colab_type": "code",
        "id": "Le0Tc5SDwoHk",
        "colab": {}
      },
      "cell_type": "code",
      "source": [
        ""
      ],
      "execution_count": 0,
      "outputs": []
    },
    {
      "metadata": {
        "colab_type": "text",
        "id": "Fh9lCwC-ljb6"
      },
      "cell_type": "markdown",
      "source": [
        "### Create a [pivot table](https://pandas.pydata.org/pandas-docs/stable/generated/pandas.DataFrame.pivot_table.html) of passengers by month and year"
      ]
    },
    {
      "metadata": {
        "colab_type": "code",
        "id": "JJrQbsXxljb6",
        "colab": {}
      },
      "cell_type": "code",
      "source": [
        ""
      ],
      "execution_count": 0,
      "outputs": []
    },
    {
      "metadata": {
        "colab_type": "text",
        "id": "MRast1t4ljb7"
      },
      "cell_type": "markdown",
      "source": [
        "### Plot the pivot table as a [heat map](https://seaborn.pydata.org/generated/seaborn.heatmap.html)"
      ]
    },
    {
      "metadata": {
        "colab_type": "code",
        "id": "nLGYX_5Bljb9",
        "colab": {}
      },
      "cell_type": "code",
      "source": [
        ""
      ],
      "execution_count": 0,
      "outputs": []
    },
    {
      "metadata": {
        "colab_type": "text",
        "id": "xmEaapURMyKZ"
      },
      "cell_type": "markdown",
      "source": [
        "# ASSIGNMENT\n",
        "\n",
        "### 1.\n",
        "\n",
        "Replicate the lesson code. I recommend that you [do not copy-paste](https://docs.google.com/document/d/1ubOw9B3Hfip27hF2ZFnW3a3z9xAgrUDRReOEo-FHCVs/edit).\n",
        "\n",
        "### 2.\n",
        "\n",
        "Choose a chart you want to make, from [Visual Vocabulary - Vega Edition](http://ft.com/vocabulary).\n",
        "\n",
        "Find the chart in an example gallery of a Python data visualization library:\n",
        "- [Seaborn](http://seaborn.pydata.org/examples/index.html)\n",
        "- [Altair](https://altair-viz.github.io/gallery/index.html)\n",
        "- [Matplotlib](https://matplotlib.org/gallery.html)\n",
        "- [Pandas](https://pandas.pydata.org/pandas-docs/stable/visualization.html)\n",
        "\n",
        "Reproduce the chart. [Optionally, try the \"Ben Franklin Method.\"](https://docs.google.com/document/d/1ubOw9B3Hfip27hF2ZFnW3a3z9xAgrUDRReOEo-FHCVs/edit) If you want, experiment and make changes.\n",
        "\n",
        "Take notes. Consider sharing your work with your cohort!"
      ]
    }
  ]
}