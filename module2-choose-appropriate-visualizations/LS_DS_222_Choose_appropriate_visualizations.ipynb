{
  "nbformat": 4,
  "nbformat_minor": 0,
  "metadata": {
    "colab": {
      "name": "LS_DS_222_Choose_appropriate_visualizations.ipynb",
      "version": "0.3.2",
      "provenance": [],
      "collapsed_sections": [
        "Cn-xMBPcljbc"
      ],
      "include_colab_link": true
    },
    "kernelspec": {
      "display_name": "Python 3",
      "language": "python",
      "name": "python3"
    }
  },
  "cells": [
    {
      "cell_type": "markdown",
      "metadata": {
        "id": "view-in-github",
        "colab_type": "text"
      },
      "source": [
        "<a href=\"https://colab.research.google.com/github/bundickm/DS-Unit-1-Sprint-3-Data-Storytelling/blob/master/module2-choose-appropriate-visualizations/LS_DS_222_Choose_appropriate_visualizations.ipynb\" target=\"_parent\"><img src=\"https://colab.research.google.com/assets/colab-badge.svg\" alt=\"Open In Colab\"/></a>"
      ]
    },
    {
      "metadata": {
        "colab_type": "text",
        "id": "1nwMfulDljaS"
      },
      "cell_type": "markdown",
      "source": [
        "_Lambda School Data Science_\n",
        "# Choose appropriate visualizations\n",
        "\n",
        "Objectives\n",
        "- fix misleading visualizations\n",
        "- use Seaborn to visualize distributions and relationships with continuous and discrete variables\n",
        "\n",
        "Links\n",
        "- [How to Spot Visualization Lies](https://flowingdata.com/2017/02/09/how-to-spot-visualization-lies/)\n",
        "- [Visual Vocabulary - Vega Edition](http://ft.com/vocabulary)\n",
        "- [Choosing a Python Visualization Tool flowchart](http://pbpython.com/python-vis-flowchart.html)\n",
        "- [Searborn example gallery](http://seaborn.pydata.org/examples/index.html) & [tutorial](http://seaborn.pydata.org/tutorial.html)\n"
      ]
    },
    {
      "metadata": {
        "colab_type": "text",
        "id": "yp50E_pnljaV"
      },
      "cell_type": "markdown",
      "source": [
        "# Upgrade Seaborn\n",
        "\n",
        "Make sure you have at least version 0.9.0.\n",
        "\n",
        "On Colab, go to **Restart runtime** after you run the `pip` command."
      ]
    },
    {
      "metadata": {
        "colab_type": "code",
        "id": "MJAy4kPfljaV",
        "colab": {
          "base_uri": "https://localhost:8080/",
          "height": 453
        },
        "outputId": "4a0d12c9-820f-49f5-e729-fb2166a50930"
      },
      "cell_type": "code",
      "source": [
        "!pip install --upgrade seaborn"
      ],
      "execution_count": 1,
      "outputs": [
        {
          "output_type": "stream",
          "text": [
            "Collecting seaborn\n",
            "\u001b[?25l  Downloading https://files.pythonhosted.org/packages/a8/76/220ba4420459d9c4c9c9587c6ce607bf56c25b3d3d2de62056efe482dadc/seaborn-0.9.0-py3-none-any.whl (208kB)\n",
            "\r\u001b[K    4% |█▋                              | 10kB 14.1MB/s eta 0:00:01\r\u001b[K    9% |███▏                            | 20kB 3.1MB/s eta 0:00:01\r\u001b[K    14% |████▊                           | 30kB 4.5MB/s eta 0:00:01\r\u001b[K    19% |██████▎                         | 40kB 2.8MB/s eta 0:00:01\r\u001b[K    24% |███████▉                        | 51kB 3.4MB/s eta 0:00:01\r\u001b[K    29% |█████████▌                      | 61kB 4.1MB/s eta 0:00:01\r\u001b[K    34% |███████████                     | 71kB 4.7MB/s eta 0:00:01\r\u001b[K    39% |████████████▋                   | 81kB 5.3MB/s eta 0:00:01\r\u001b[K    44% |██████████████▏                 | 92kB 5.9MB/s eta 0:00:01\r\u001b[K    49% |███████████████▊                | 102kB 4.6MB/s eta 0:00:01\r\u001b[K    54% |█████████████████▎              | 112kB 4.7MB/s eta 0:00:01\r\u001b[K    59% |███████████████████             | 122kB 6.4MB/s eta 0:00:01\r\u001b[K    63% |████████████████████▌           | 133kB 6.3MB/s eta 0:00:01\r\u001b[K    68% |██████████████████████          | 143kB 11.7MB/s eta 0:00:01\r\u001b[K    73% |███████████████████████▋        | 153kB 12.1MB/s eta 0:00:01\r\u001b[K    78% |█████████████████████████▏      | 163kB 12.2MB/s eta 0:00:01\r\u001b[K    83% |██████████████████████████▊     | 174kB 11.8MB/s eta 0:00:01\r\u001b[K    88% |████████████████████████████▍   | 184kB 11.9MB/s eta 0:00:01\r\u001b[K    93% |██████████████████████████████  | 194kB 11.9MB/s eta 0:00:01\r\u001b[K    98% |███████████████████████████████▌| 204kB 39.5MB/s eta 0:00:01\r\u001b[K    100% |████████████████████████████████| 215kB 26.2MB/s \n",
            "\u001b[?25hRequirement already satisfied, skipping upgrade: pandas>=0.15.2 in /usr/local/lib/python3.6/dist-packages (from seaborn) (0.22.0)\n",
            "Requirement already satisfied, skipping upgrade: numpy>=1.9.3 in /usr/local/lib/python3.6/dist-packages (from seaborn) (1.14.6)\n",
            "Requirement already satisfied, skipping upgrade: scipy>=0.14.0 in /usr/local/lib/python3.6/dist-packages (from seaborn) (1.1.0)\n",
            "Requirement already satisfied, skipping upgrade: matplotlib>=1.4.3 in /usr/local/lib/python3.6/dist-packages (from seaborn) (3.0.3)\n",
            "Requirement already satisfied, skipping upgrade: pytz>=2011k in /usr/local/lib/python3.6/dist-packages (from pandas>=0.15.2->seaborn) (2018.9)\n",
            "Requirement already satisfied, skipping upgrade: python-dateutil>=2 in /usr/local/lib/python3.6/dist-packages (from pandas>=0.15.2->seaborn) (2.5.3)\n",
            "Requirement already satisfied, skipping upgrade: kiwisolver>=1.0.1 in /usr/local/lib/python3.6/dist-packages (from matplotlib>=1.4.3->seaborn) (1.0.1)\n",
            "Requirement already satisfied, skipping upgrade: pyparsing!=2.0.4,!=2.1.2,!=2.1.6,>=2.0.1 in /usr/local/lib/python3.6/dist-packages (from matplotlib>=1.4.3->seaborn) (2.3.1)\n",
            "Requirement already satisfied, skipping upgrade: cycler>=0.10 in /usr/local/lib/python3.6/dist-packages (from matplotlib>=1.4.3->seaborn) (0.10.0)\n",
            "Requirement already satisfied, skipping upgrade: six>=1.5 in /usr/local/lib/python3.6/dist-packages (from python-dateutil>=2->pandas>=0.15.2->seaborn) (1.11.0)\n",
            "Requirement already satisfied, skipping upgrade: setuptools in /usr/local/lib/python3.6/dist-packages (from kiwisolver>=1.0.1->matplotlib>=1.4.3->seaborn) (40.8.0)\n",
            "Installing collected packages: seaborn\n",
            "  Found existing installation: seaborn 0.7.1\n",
            "    Uninstalling seaborn-0.7.1:\n",
            "      Successfully uninstalled seaborn-0.7.1\n",
            "Successfully installed seaborn-0.9.0\n"
          ],
          "name": "stdout"
        },
        {
          "output_type": "display_data",
          "data": {
            "application/vnd.colab-display-data+json": {
              "pip_warning": {
                "packages": [
                  "seaborn"
                ]
              }
            }
          },
          "metadata": {
            "tags": []
          }
        }
      ]
    },
    {
      "metadata": {
        "colab_type": "code",
        "id": "fXZFXHccljaZ",
        "colab": {
          "base_uri": "https://localhost:8080/",
          "height": 35
        },
        "outputId": "bf8368ff-9973-4083-a5a5-849da8448f5a"
      },
      "cell_type": "code",
      "source": [
        "import seaborn as sns\n",
        "sns.__version__"
      ],
      "execution_count": 91,
      "outputs": [
        {
          "output_type": "execute_result",
          "data": {
            "text/plain": [
              "'0.9.0'"
            ]
          },
          "metadata": {
            "tags": []
          },
          "execution_count": 91
        }
      ]
    },
    {
      "metadata": {
        "colab_type": "text",
        "id": "Md1lMTx1ljab"
      },
      "cell_type": "markdown",
      "source": [
        "# Fix misleading visualizations"
      ]
    },
    {
      "metadata": {
        "colab_type": "code",
        "id": "5kTa_5Lnljac",
        "colab": {}
      },
      "cell_type": "code",
      "source": [
        "%matplotlib inline\n",
        "import matplotlib.pyplot as plt\n",
        "import numpy as np\n",
        "import pandas as pd"
      ],
      "execution_count": 0,
      "outputs": []
    },
    {
      "metadata": {
        "colab_type": "code",
        "id": "FkXJKBMOljae",
        "colab": {
          "base_uri": "https://localhost:8080/",
          "height": 217
        },
        "outputId": "df0862bc-c169-4b02-85c5-a6b4ae64a7a9"
      },
      "cell_type": "code",
      "source": [
        "!wget https://raw.githubusercontent.com/LambdaSchool/DS-Unit-1-Sprint-3-Data-Storytelling/master/module2-choose-appropriate-visualizations/misleading.py\n",
        "    \n",
        "import misleading"
      ],
      "execution_count": 15,
      "outputs": [
        {
          "output_type": "stream",
          "text": [
            "--2019-04-02 19:51:14--  https://raw.githubusercontent.com/LambdaSchool/DS-Unit-1-Sprint-3-Data-Storytelling/master/module2-choose-appropriate-visualizations/misleading.py\n",
            "Resolving raw.githubusercontent.com (raw.githubusercontent.com)... 151.101.0.133, 151.101.64.133, 151.101.128.133, ...\n",
            "Connecting to raw.githubusercontent.com (raw.githubusercontent.com)|151.101.0.133|:443... connected.\n",
            "HTTP request sent, awaiting response... 200 OK\n",
            "Length: 1258 (1.2K) [text/plain]\n",
            "Saving to: ‘misleading.py’\n",
            "\n",
            "\rmisleading.py         0%[                    ]       0  --.-KB/s               \rmisleading.py       100%[===================>]   1.23K  --.-KB/s    in 0s      \n",
            "\n",
            "2019-04-02 19:51:14 (134 MB/s) - ‘misleading.py’ saved [1258/1258]\n",
            "\n"
          ],
          "name": "stdout"
        }
      ]
    },
    {
      "metadata": {
        "colab_type": "text",
        "id": "CBe1A0IJljag"
      },
      "cell_type": "markdown",
      "source": [
        "### Fix misleading plot #1"
      ]
    },
    {
      "metadata": {
        "colab_type": "code",
        "id": "nSkHZKmRljah",
        "colab": {
          "base_uri": "https://localhost:8080/",
          "height": 314
        },
        "outputId": "630e0f11-745c-4363-cbcd-5a7c4cc842f8"
      },
      "cell_type": "code",
      "source": [
        "misleading.plot1();"
      ],
      "execution_count": 16,
      "outputs": [
        {
          "output_type": "display_data",
          "data": {
            "image/png": "[encoded data removed]",
            "text/plain": [
              "<Figure size 432x288 with 1 Axes>"
            ]
          },
          "metadata": {
            "tags": []
          }
        }
      ]
    },
    {
      "metadata": {
        "id": "dOJlXbTz4HA2",
        "colab_type": "code",
        "colab": {
          "base_uri": "https://localhost:8080/",
          "height": 332
        },
        "outputId": "e23f0c6e-da96-4109-82bf-0d0c64e88c2c"
      },
      "cell_type": "code",
      "source": [
        "insurance = pd.DataFrame(index=['State Farm', 'GEICO'], data={'Market Share %':[18.07,12.79]})\n",
        "insurance.plot.bar(ylim=(0,20))"
      ],
      "execution_count": 17,
      "outputs": [
        {
          "output_type": "execute_result",
          "data": {
            "text/plain": [
              "<matplotlib.axes._subplots.AxesSubplot at 0x7f51ea964160>"
            ]
          },
          "metadata": {
            "tags": []
          },
          "execution_count": 17
        },
        {
          "output_type": "display_data",
          "data": {
            "image/png": "[encoded data removed]",
            "text/plain": [
              "<Figure size 432x288 with 1 Axes>"
            ]
          },
          "metadata": {
            "tags": []
          }
        }
      ]
    },
    {
      "metadata": {
        "colab_type": "text",
        "id": "6RB2pFjQljal"
      },
      "cell_type": "markdown",
      "source": [
        "### Fix misleading plot #2"
      ]
    },
    {
      "metadata": {
        "colab_type": "code",
        "id": "PAjwPf8vljam",
        "colab": {
          "base_uri": "https://localhost:8080/",
          "height": 310
        },
        "outputId": "dae5fbbb-fbeb-4a8c-df50-a402fda4a8a8"
      },
      "cell_type": "code",
      "source": [
        "misleading.plot2();"
      ],
      "execution_count": 18,
      "outputs": [
        {
          "output_type": "display_data",
          "data": {
            "image/png": "[encoded data removed]",
            "text/plain": [
              "<Figure size 360x360 with 1 Axes>"
            ]
          },
          "metadata": {
            "tags": []
          }
        }
      ]
    },
    {
      "metadata": {
        "id": "fHOn3Ip65LQj",
        "colab_type": "code",
        "colab": {
          "base_uri": "https://localhost:8080/",
          "height": 143
        },
        "outputId": "b0d02fb3-247d-471e-e409-7e9346f5a5d5"
      },
      "cell_type": "code",
      "source": [
        "other = pd.DataFrame(index=['Other'], data={'Market Share %':[100- 18.07- 12.79]})\n",
        "insurance = insurance.append(other)\n",
        "insurance"
      ],
      "execution_count": 19,
      "outputs": [
        {
          "output_type": "execute_result",
          "data": {
            "text/html": [
              "<div>\n",
              "<style scoped>\n",
              "    .dataframe tbody tr th:only-of-type {\n",
              "        vertical-align: middle;\n",
              "    }\n",
              "\n",
              "    .dataframe tbody tr th {\n",
              "        vertical-align: top;\n",
              "    }\n",
              "\n",
              "    .dataframe thead th {\n",
              "        text-align: right;\n",
              "    }\n",
              "</style>\n",
              "<table border=\"1\" class=\"dataframe\">\n",
              "  <thead>\n",
              "    <tr style=\"text-align: right;\">\n",
              "      <th></th>\n",
              "      <th>Market Share %</th>\n",
              "    </tr>\n",
              "  </thead>\n",
              "  <tbody>\n",
              "    <tr>\n",
              "      <th>State Farm</th>\n",
              "      <td>18.07</td>\n",
              "    </tr>\n",
              "    <tr>\n",
              "      <th>GEICO</th>\n",
              "      <td>12.79</td>\n",
              "    </tr>\n",
              "    <tr>\n",
              "      <th>Other</th>\n",
              "      <td>69.14</td>\n",
              "    </tr>\n",
              "  </tbody>\n",
              "</table>\n",
              "</div>"
            ],
            "text/plain": [
              "            Market Share %\n",
              "State Farm           18.07\n",
              "GEICO                12.79\n",
              "Other                69.14"
            ]
          },
          "metadata": {
            "tags": []
          },
          "execution_count": 19
        }
      ]
    },
    {
      "metadata": {
        "id": "h-jYVDR35nsV",
        "colab_type": "code",
        "colab": {
          "base_uri": "https://localhost:8080/",
          "height": 328
        },
        "outputId": "82feef00-4e8e-4f8c-e8f4-064c9e2ec5d2"
      },
      "cell_type": "code",
      "source": [
        "insurance.plot.pie('Market Share %', figsize=(5,5))"
      ],
      "execution_count": 20,
      "outputs": [
        {
          "output_type": "execute_result",
          "data": {
            "text/plain": [
              "<matplotlib.axes._subplots.AxesSubplot at 0x7f51ea896898>"
            ]
          },
          "metadata": {
            "tags": []
          },
          "execution_count": 20
        },
        {
          "output_type": "display_data",
          "data": {
            "image/png": "[encoded data removed]",
            "text/plain": [
              "<Figure size 360x360 with 1 Axes>"
            ]
          },
          "metadata": {
            "tags": []
          }
        }
      ]
    },
    {
      "metadata": {
        "colab_type": "text",
        "id": "6FISiBH3ljaw"
      },
      "cell_type": "markdown",
      "source": [
        "### Fix misleading plot #3"
      ]
    },
    {
      "metadata": {
        "colab_type": "text",
        "id": "Dwcc8Jylljax"
      },
      "cell_type": "markdown",
      "source": [
        "_If you're on Jupyter (not Colab) then uncomment and run this cell below:_"
      ]
    },
    {
      "metadata": {
        "colab_type": "code",
        "id": "TaSuwairljax",
        "colab": {}
      },
      "cell_type": "code",
      "source": [
        "# import altair as alt\n",
        "# alt.renderers.enable('notebook')"
      ],
      "execution_count": 0,
      "outputs": []
    },
    {
      "metadata": {
        "colab_type": "code",
        "id": "JMirz9RMljaz",
        "colab": {
          "base_uri": "https://localhost:8080/",
          "height": 331
        },
        "outputId": "dd4d7229-f0c8-4244-a457-cf59a46859cc"
      },
      "cell_type": "code",
      "source": [
        "misleading.plot3()"
      ],
      "execution_count": 22,
      "outputs": [
        {
          "output_type": "execute_result",
          "data": {
            "text/plain": [
              "Chart({\n",
              "  data: UrlData({\n",
              "    format: TopoDataFormat({\n",
              "      feature: 'states',\n",
              "      type: 'topojson'\n",
              "    }),\n",
              "    url: 'https://vega.github.io/vega-datasets/data/us-10m.json'\n",
              "  }),\n",
              "  encoding: EncodingWithFacet({\n",
              "    color: Color({\n",
              "      shorthand: 'State Farm policy premiums',\n",
              "      type: 'quantitative'\n",
              "    })\n",
              "  }),\n",
              "  height: 300,\n",
              "  mark: 'geoshape',\n",
              "  projection: Projection({\n",
              "    type: 'albersUsa'\n",
              "  }),\n",
              "  transform: [LookupTransform({\n",
              "    from: LookupData({\n",
              "      data:                    state  id  State Farm policy premiums  \\\n",
              "      0                Alabama   1                      768213   \n",
              "      1                 Alaska   2                      128613   \n",
              "      2                Arizona   4                      760003   \n",
              "      3               Arkansas   5                      454931   \n",
              "      4             California   6                     3655463   \n",
              "      5               Colorado   8                      827143   \n",
              "      6            Connecticut   9                      169773   \n",
              "      7               Delaware  10                      191319   \n",
              "      8   District of Columbia  11                       67231   \n",
              "      9                Florida  12                     2806322   \n",
              "      10               Georgia  13                     1761224   \n",
              "      11                Hawaii  15                      133498   \n",
              "      12                 Idaho  16                      130613   \n",
              "      13              Illinois  17                     2256543   \n",
              "      14               Indiana  18                      861382   \n",
              "      15                  Iowa  19                      368898   \n",
              "      16                Kansas  20                      351343   \n",
              "      17              Kentucky  21                      680433   \n",
              "      18             Louisiana  22                     1415980   \n",
              "      19                 Maine  23                      101111   \n",
              "      20              Maryland  24                      883401   \n",
              "      21         Massachusetts  25                           0   \n",
              "      22              Michigan  26                     1580398   \n",
              "      23             Minnesota  27                      851940   \n",
              "      24           Mississippi  28                      467887   \n",
              "      25              Missouri  29                      883774   \n",
              "      26               Montana  30                      156816   \n",
              "      27              Nebraska  31                      273727   \n",
              "      28                Nevada  32                      404688   \n",
              "      29         New Hampshire  33                      103340   \n",
              "      30            New Jersey  34                      619623   \n",
              "      31            New Mexico  35                      261922   \n",
              "      32              New York  36                     1666653   \n",
              "      33        North Carolina  37                      842368   \n",
              "      34          North Dakota  38                       67282   \n",
              "      35                  Ohio  39                     1240075   \n",
              "      36              Oklahoma  40                      636063   \n",
              "      37                Oregon  41                      564416   \n",
              "      38          Pennsylvania  42                     1654528   \n",
              "      39          Rhode Island  44                           0   \n",
              "      40        South Carolina  45                      874436   \n",
              "      41          South Dakota  46                      101912   \n",
              "      42             Tennessee  47                      889329   \n",
              "      43                 Texas  48                     3395165   \n",
              "      44                  Utah  49                      300403   \n",
              "      45               Vermont  50                       30003   \n",
              "      46              Virginia  51                      878312   \n",
              "      47            Washington  53                      794882   \n",
              "      48         West Virginia  54                      323608   \n",
              "      49             Wisconsin  55                      443680   \n",
              "      50               Wyoming  56                       90412   \n",
              "      51           Puerto Rico  72                           0   \n",
              "      \n",
              "          BERKSHIRE HATHAWAY GRP  STATE TOTAL  \n",
              "      0                   282947      3025561  \n",
              "      1                    81366       454623  \n",
              "      2                   604049      4373055  \n",
              "      3                    96908      1777917  \n",
              "      4                  2091720     25255501  \n",
              "      5                   365797      4057463  \n",
              "      6                   486498      2795415  \n",
              "      7                   129033       802005  \n",
              "      8                   115149       325239  \n",
              "      9                  3952147     17333354  \n",
              "      10                  821326      7571988  \n",
              "      11                  184743       722550  \n",
              "      12                   87222       863636  \n",
              "      13                  412978      7028885  \n",
              "      14                  201200      3506499  \n",
              "      15                   58105      1650388  \n",
              "      16                   76533      1725608  \n",
              "      17                  186915      2805864  \n",
              "      18                  369492      4136224  \n",
              "      19                   68109       699558  \n",
              "      20                 1059508      4554586  \n",
              "      21                  473913      4924736  \n",
              "      22                       0      8462142  \n",
              "      23                  108942      3412460  \n",
              "      24                  100827      1760180  \n",
              "      25                  214191      3606590  \n",
              "      26                   33538       668513  \n",
              "      27                   61046      1167135  \n",
              "      28                  262815      2129828  \n",
              "      29                  103403       806545  \n",
              "      30                 1441019      7375823  \n",
              "      31                  174865      1284430  \n",
              "      32                 3926684     12633982  \n",
              "      33                  560700      5543700  \n",
              "      34                   15516       454376  \n",
              "      35                  405652      6303148  \n",
              "      36                  151388      2515842  \n",
              "      37                  223187      2647434  \n",
              "      38                  602848      8270326  \n",
              "      39                   97597       867558  \n",
              "      40                  426033      3583918  \n",
              "      41                   15682       508569  \n",
              "      42                  292357      3769652  \n",
              "      43                 2127633     19180816  \n",
              "      44                  139315      1723931  \n",
              "      45                   52939       359996  \n",
              "      46                  884489      5105360  \n",
              "      47                  478922      4780616  \n",
              "      48                  110806      1209872  \n",
              "      49                  131845      2950711  \n",
              "      50                   30187       374169  \n",
              "      51                       0       444480  ,\n",
              "      fields: ['State Farm policy premiums'],\n",
              "      key: 'id'\n",
              "    }),\n",
              "    lookup: 'id'\n",
              "  })],\n",
              "  width: 500\n",
              "})"
            ],
            "text/html": [
              "<!DOCTYPE html>\n",
              "<html>\n",
              "<head>\n",
              "  <style>\n",
              "    .vega-actions a {\n",
              "        margin-right: 12px;\n",
              "        color: #757575;\n",
              "        font-weight: normal;\n",
              "        font-size: 13px;\n",
              "    }\n",
              "    .error {\n",
              "        color: red;\n",
              "    }\n",
              "  </style>\n",
              "  <script type=\"text/javascript\" src=\"https://cdn.jsdelivr.net/npm//vega@4\"></script>\n",
              "  <script type=\"text/javascript\" src=\"https://cdn.jsdelivr.net/npm//vega-lite@2.6.0\"></script>\n",
              "  <script type=\"text/javascript\" src=\"https://cdn.jsdelivr.net/npm//vega-embed@3\"></script>\n",
              "</head>\n",
              "<body>\n",
              "  <div id=\"altair-viz\"></div>\n",
              "  <script>\n",
              "      var spec = {\"config\": {\"view\": {\"width\": 400, \"height\": 300}}, \"data\": {\"url\": \"https://vega.github.io/vega-datasets/data/us-10m.json\", \"format\": {\"feature\": \"states\", \"type\": \"topojson\"}}, \"mark\": \"geoshape\", \"encoding\": {\"color\": {\"type\": \"quantitative\", \"field\": \"State Farm policy premiums\"}}, \"height\": 300, \"projection\": {\"type\": \"albersUsa\"}, \"transform\": [{\"lookup\": \"id\", \"from\": {\"data\": {\"name\": \"data-b615a17f98b0ca7d11f99dcf36616c5d\"}, \"key\": \"id\", \"fields\": [\"State Farm policy premiums\"]}}], \"width\": 500, \"$schema\": \"https://vega.github.io/schema/vega-lite/v2.6.0.json\", \"datasets\": {\"data-b615a17f98b0ca7d11f99dcf36616c5d\": [{\"state\": \"Alabama\", \"id\": 1, \"State Farm policy premiums\": 768213, \"BERKSHIRE HATHAWAY GRP\": 282947, \"STATE TOTAL\": 3025561}, {\"state\": \"Alaska\", \"id\": 2, \"State Farm policy premiums\": 128613, \"BERKSHIRE HATHAWAY GRP\": 81366, \"STATE TOTAL\": 454623}, {\"state\": \"Arizona\", \"id\": 4, \"State Farm policy premiums\": 760003, \"BERKSHIRE HATHAWAY GRP\": 604049, \"STATE TOTAL\": 4373055}, {\"state\": \"Arkansas\", \"id\": 5, \"State Farm policy premiums\": 454931, \"BERKSHIRE HATHAWAY GRP\": 96908, \"STATE TOTAL\": 1777917}, {\"state\": \"California\", \"id\": 6, \"State Farm policy premiums\": 3655463, \"BERKSHIRE HATHAWAY GRP\": 2091720, \"STATE TOTAL\": 25255501}, {\"state\": \"Colorado\", \"id\": 8, \"State Farm policy premiums\": 827143, \"BERKSHIRE HATHAWAY GRP\": 365797, \"STATE TOTAL\": 4057463}, {\"state\": \"Connecticut\", \"id\": 9, \"State Farm policy premiums\": 169773, \"BERKSHIRE HATHAWAY GRP\": 486498, \"STATE TOTAL\": 2795415}, {\"state\": \"Delaware\", \"id\": 10, \"State Farm policy premiums\": 191319, \"BERKSHIRE HATHAWAY GRP\": 129033, \"STATE TOTAL\": 802005}, {\"state\": \"District of Columbia\", \"id\": 11, \"State Farm policy premiums\": 67231, \"BERKSHIRE HATHAWAY GRP\": 115149, \"STATE TOTAL\": 325239}, {\"state\": \"Florida\", \"id\": 12, \"State Farm policy premiums\": 2806322, \"BERKSHIRE HATHAWAY GRP\": 3952147, \"STATE TOTAL\": 17333354}, {\"state\": \"Georgia\", \"id\": 13, \"State Farm policy premiums\": 1761224, \"BERKSHIRE HATHAWAY GRP\": 821326, \"STATE TOTAL\": 7571988}, {\"state\": \"Hawaii\", \"id\": 15, \"State Farm policy premiums\": 133498, \"BERKSHIRE HATHAWAY GRP\": 184743, \"STATE TOTAL\": 722550}, {\"state\": \"Idaho\", \"id\": 16, \"State Farm policy premiums\": 130613, \"BERKSHIRE HATHAWAY GRP\": 87222, \"STATE TOTAL\": 863636}, {\"state\": \"Illinois\", \"id\": 17, \"State Farm policy premiums\": 2256543, \"BERKSHIRE HATHAWAY GRP\": 412978, \"STATE TOTAL\": 7028885}, {\"state\": \"Indiana\", \"id\": 18, \"State Farm policy premiums\": 861382, \"BERKSHIRE HATHAWAY GRP\": 201200, \"STATE TOTAL\": 3506499}, {\"state\": \"Iowa\", \"id\": 19, \"State Farm policy premiums\": 368898, \"BERKSHIRE HATHAWAY GRP\": 58105, \"STATE TOTAL\": 1650388}, {\"state\": \"Kansas\", \"id\": 20, \"State Farm policy premiums\": 351343, \"BERKSHIRE HATHAWAY GRP\": 76533, \"STATE TOTAL\": 1725608}, {\"state\": \"Kentucky\", \"id\": 21, \"State Farm policy premiums\": 680433, \"BERKSHIRE HATHAWAY GRP\": 186915, \"STATE TOTAL\": 2805864}, {\"state\": \"Louisiana\", \"id\": 22, \"State Farm policy premiums\": 1415980, \"BERKSHIRE HATHAWAY GRP\": 369492, \"STATE TOTAL\": 4136224}, {\"state\": \"Maine\", \"id\": 23, \"State Farm policy premiums\": 101111, \"BERKSHIRE HATHAWAY GRP\": 68109, \"STATE TOTAL\": 699558}, {\"state\": \"Maryland\", \"id\": 24, \"State Farm policy premiums\": 883401, \"BERKSHIRE HATHAWAY GRP\": 1059508, \"STATE TOTAL\": 4554586}, {\"state\": \"Massachusetts\", \"id\": 25, \"State Farm policy premiums\": 0, \"BERKSHIRE HATHAWAY GRP\": 473913, \"STATE TOTAL\": 4924736}, {\"state\": \"Michigan\", \"id\": 26, \"State Farm policy premiums\": 1580398, \"BERKSHIRE HATHAWAY GRP\": 0, \"STATE TOTAL\": 8462142}, {\"state\": \"Minnesota\", \"id\": 27, \"State Farm policy premiums\": 851940, \"BERKSHIRE HATHAWAY GRP\": 108942, \"STATE TOTAL\": 3412460}, {\"state\": \"Mississippi\", \"id\": 28, \"State Farm policy premiums\": 467887, \"BERKSHIRE HATHAWAY GRP\": 100827, \"STATE TOTAL\": 1760180}, {\"state\": \"Missouri\", \"id\": 29, \"State Farm policy premiums\": 883774, \"BERKSHIRE HATHAWAY GRP\": 214191, \"STATE TOTAL\": 3606590}, {\"state\": \"Montana\", \"id\": 30, \"State Farm policy premiums\": 156816, \"BERKSHIRE HATHAWAY GRP\": 33538, \"STATE TOTAL\": 668513}, {\"state\": \"Nebraska\", \"id\": 31, \"State Farm policy premiums\": 273727, \"BERKSHIRE HATHAWAY GRP\": 61046, \"STATE TOTAL\": 1167135}, {\"state\": \"Nevada\", \"id\": 32, \"State Farm policy premiums\": 404688, \"BERKSHIRE HATHAWAY GRP\": 262815, \"STATE TOTAL\": 2129828}, {\"state\": \"New Hampshire\", \"id\": 33, \"State Farm policy premiums\": 103340, \"BERKSHIRE HATHAWAY GRP\": 103403, \"STATE TOTAL\": 806545}, {\"state\": \"New Jersey\", \"id\": 34, \"State Farm policy premiums\": 619623, \"BERKSHIRE HATHAWAY GRP\": 1441019, \"STATE TOTAL\": 7375823}, {\"state\": \"New Mexico\", \"id\": 35, \"State Farm policy premiums\": 261922, \"BERKSHIRE HATHAWAY GRP\": 174865, \"STATE TOTAL\": 1284430}, {\"state\": \"New York\", \"id\": 36, \"State Farm policy premiums\": 1666653, \"BERKSHIRE HATHAWAY GRP\": 3926684, \"STATE TOTAL\": 12633982}, {\"state\": \"North Carolina\", \"id\": 37, \"State Farm policy premiums\": 842368, \"BERKSHIRE HATHAWAY GRP\": 560700, \"STATE TOTAL\": 5543700}, {\"state\": \"North Dakota\", \"id\": 38, \"State Farm policy premiums\": 67282, \"BERKSHIRE HATHAWAY GRP\": 15516, \"STATE TOTAL\": 454376}, {\"state\": \"Ohio\", \"id\": 39, \"State Farm policy premiums\": 1240075, \"BERKSHIRE HATHAWAY GRP\": 405652, \"STATE TOTAL\": 6303148}, {\"state\": \"Oklahoma\", \"id\": 40, \"State Farm policy premiums\": 636063, \"BERKSHIRE HATHAWAY GRP\": 151388, \"STATE TOTAL\": 2515842}, {\"state\": \"Oregon\", \"id\": 41, \"State Farm policy premiums\": 564416, \"BERKSHIRE HATHAWAY GRP\": 223187, \"STATE TOTAL\": 2647434}, {\"state\": \"Pennsylvania\", \"id\": 42, \"State Farm policy premiums\": 1654528, \"BERKSHIRE HATHAWAY GRP\": 602848, \"STATE TOTAL\": 8270326}, {\"state\": \"Rhode Island\", \"id\": 44, \"State Farm policy premiums\": 0, \"BERKSHIRE HATHAWAY GRP\": 97597, \"STATE TOTAL\": 867558}, {\"state\": \"South Carolina\", \"id\": 45, \"State Farm policy premiums\": 874436, \"BERKSHIRE HATHAWAY GRP\": 426033, \"STATE TOTAL\": 3583918}, {\"state\": \"South Dakota\", \"id\": 46, \"State Farm policy premiums\": 101912, \"BERKSHIRE HATHAWAY GRP\": 15682, \"STATE TOTAL\": 508569}, {\"state\": \"Tennessee\", \"id\": 47, \"State Farm policy premiums\": 889329, \"BERKSHIRE HATHAWAY GRP\": 292357, \"STATE TOTAL\": 3769652}, {\"state\": \"Texas\", \"id\": 48, \"State Farm policy premiums\": 3395165, \"BERKSHIRE HATHAWAY GRP\": 2127633, \"STATE TOTAL\": 19180816}, {\"state\": \"Utah\", \"id\": 49, \"State Farm policy premiums\": 300403, \"BERKSHIRE HATHAWAY GRP\": 139315, \"STATE TOTAL\": 1723931}, {\"state\": \"Vermont\", \"id\": 50, \"State Farm policy premiums\": 30003, \"BERKSHIRE HATHAWAY GRP\": 52939, \"STATE TOTAL\": 359996}, {\"state\": \"Virginia\", \"id\": 51, \"State Farm policy premiums\": 878312, \"BERKSHIRE HATHAWAY GRP\": 884489, \"STATE TOTAL\": 5105360}, {\"state\": \"Washington\", \"id\": 53, \"State Farm policy premiums\": 794882, \"BERKSHIRE HATHAWAY GRP\": 478922, \"STATE TOTAL\": 4780616}, {\"state\": \"West Virginia\", \"id\": 54, \"State Farm policy premiums\": 323608, \"BERKSHIRE HATHAWAY GRP\": 110806, \"STATE TOTAL\": 1209872}, {\"state\": \"Wisconsin\", \"id\": 55, \"State Farm policy premiums\": 443680, \"BERKSHIRE HATHAWAY GRP\": 131845, \"STATE TOTAL\": 2950711}, {\"state\": \"Wyoming\", \"id\": 56, \"State Farm policy premiums\": 90412, \"BERKSHIRE HATHAWAY GRP\": 30187, \"STATE TOTAL\": 374169}, {\"state\": \"Puerto Rico\", \"id\": 72, \"State Farm policy premiums\": 0, \"BERKSHIRE HATHAWAY GRP\": 0, \"STATE TOTAL\": 444480}]}};\n",
              "      var embedOpt = {\"mode\": \"vega-lite\"};\n",
              "\n",
              "      function showError(el, error){\n",
              "          el.innerHTML = ('<div class=\"error\" style=\"color:red;\">'\n",
              "                          + '<p>JavaScript Error: ' + error.message + '</p>'\n",
              "                          + \"<p>This usually means there's a typo in your chart specification. \"\n",
              "                          + \"See the javascript console for the full traceback.</p>\"\n",
              "                          + '</div>');\n",
              "          throw error;\n",
              "      }\n",
              "      const el = document.getElementById('altair-viz');\n",
              "      vegaEmbed(\"#altair-viz\", spec, embedOpt)\n",
              "        .catch(error => showError(el, error));\n",
              "\n",
              "  </script>\n",
              "</body>\n",
              "</html>"
            ]
          },
          "metadata": {
            "tags": []
          },
          "execution_count": 22
        }
      ]
    },
    {
      "metadata": {
        "id": "FdRGV3hW7_2g",
        "colab_type": "code",
        "colab": {}
      },
      "cell_type": "code",
      "source": [
        "url = 'https://raw.githubusercontent.com/bundickm/DS-Unit-1-Sprint-3-Data-Storytelling/master/module2-choose-appropriate-visualizations/direct_written_premium_by_state_by_group_private_passenger_auto.csv'\n",
        "df = pd.read_csv(url)"
      ],
      "execution_count": 0,
      "outputs": []
    },
    {
      "metadata": {
        "id": "r5MbLyX98Pgs",
        "colab_type": "code",
        "colab": {
          "base_uri": "https://localhost:8080/",
          "height": 206
        },
        "outputId": "df30c5aa-9a98-4da9-b795-4e8666c0f902"
      },
      "cell_type": "code",
      "source": [
        "df = df.rename(columns={'STATE FARM GRP': 'State Farm Policy Premiums'})\n",
        "df.head()"
      ],
      "execution_count": 24,
      "outputs": [
        {
          "output_type": "execute_result",
          "data": {
            "text/html": [
              "<div>\n",
              "<style scoped>\n",
              "    .dataframe tbody tr th:only-of-type {\n",
              "        vertical-align: middle;\n",
              "    }\n",
              "\n",
              "    .dataframe tbody tr th {\n",
              "        vertical-align: top;\n",
              "    }\n",
              "\n",
              "    .dataframe thead th {\n",
              "        text-align: right;\n",
              "    }\n",
              "</style>\n",
              "<table border=\"1\" class=\"dataframe\">\n",
              "  <thead>\n",
              "    <tr style=\"text-align: right;\">\n",
              "      <th></th>\n",
              "      <th>state</th>\n",
              "      <th>id</th>\n",
              "      <th>State Farm Policy Premiums</th>\n",
              "      <th>BERKSHIRE HATHAWAY GRP</th>\n",
              "      <th>STATE TOTAL</th>\n",
              "    </tr>\n",
              "  </thead>\n",
              "  <tbody>\n",
              "    <tr>\n",
              "      <th>0</th>\n",
              "      <td>Alabama</td>\n",
              "      <td>1</td>\n",
              "      <td>768213</td>\n",
              "      <td>282947</td>\n",
              "      <td>3025561</td>\n",
              "    </tr>\n",
              "    <tr>\n",
              "      <th>1</th>\n",
              "      <td>Alaska</td>\n",
              "      <td>2</td>\n",
              "      <td>128613</td>\n",
              "      <td>81366</td>\n",
              "      <td>454623</td>\n",
              "    </tr>\n",
              "    <tr>\n",
              "      <th>2</th>\n",
              "      <td>Arizona</td>\n",
              "      <td>4</td>\n",
              "      <td>760003</td>\n",
              "      <td>604049</td>\n",
              "      <td>4373055</td>\n",
              "    </tr>\n",
              "    <tr>\n",
              "      <th>3</th>\n",
              "      <td>Arkansas</td>\n",
              "      <td>5</td>\n",
              "      <td>454931</td>\n",
              "      <td>96908</td>\n",
              "      <td>1777917</td>\n",
              "    </tr>\n",
              "    <tr>\n",
              "      <th>4</th>\n",
              "      <td>California</td>\n",
              "      <td>6</td>\n",
              "      <td>3655463</td>\n",
              "      <td>2091720</td>\n",
              "      <td>25255501</td>\n",
              "    </tr>\n",
              "  </tbody>\n",
              "</table>\n",
              "</div>"
            ],
            "text/plain": [
              "        state  id  State Farm Policy Premiums  BERKSHIRE HATHAWAY GRP  \\\n",
              "0     Alabama   1                      768213                  282947   \n",
              "1      Alaska   2                      128613                   81366   \n",
              "2     Arizona   4                      760003                  604049   \n",
              "3    Arkansas   5                      454931                   96908   \n",
              "4  California   6                     3655463                 2091720   \n",
              "\n",
              "   STATE TOTAL  \n",
              "0      3025561  \n",
              "1       454623  \n",
              "2      4373055  \n",
              "3      1777917  \n",
              "4     25255501  "
            ]
          },
          "metadata": {
            "tags": []
          },
          "execution_count": 24
        }
      ]
    },
    {
      "metadata": {
        "id": "Hz05jfMI808M",
        "colab_type": "code",
        "colab": {
          "base_uri": "https://localhost:8080/",
          "height": 206
        },
        "outputId": "48e4b156-61b3-4b32-f543-c2ea9e9d2872"
      },
      "cell_type": "code",
      "source": [
        "df['State Farm Market Share %'] = df['State Farm Policy Premiums'] / df['STATE TOTAL']\n",
        "df.head()"
      ],
      "execution_count": 25,
      "outputs": [
        {
          "output_type": "execute_result",
          "data": {
            "text/html": [
              "<div>\n",
              "<style scoped>\n",
              "    .dataframe tbody tr th:only-of-type {\n",
              "        vertical-align: middle;\n",
              "    }\n",
              "\n",
              "    .dataframe tbody tr th {\n",
              "        vertical-align: top;\n",
              "    }\n",
              "\n",
              "    .dataframe thead th {\n",
              "        text-align: right;\n",
              "    }\n",
              "</style>\n",
              "<table border=\"1\" class=\"dataframe\">\n",
              "  <thead>\n",
              "    <tr style=\"text-align: right;\">\n",
              "      <th></th>\n",
              "      <th>state</th>\n",
              "      <th>id</th>\n",
              "      <th>State Farm Policy Premiums</th>\n",
              "      <th>BERKSHIRE HATHAWAY GRP</th>\n",
              "      <th>STATE TOTAL</th>\n",
              "      <th>State Farm Market Share %</th>\n",
              "    </tr>\n",
              "  </thead>\n",
              "  <tbody>\n",
              "    <tr>\n",
              "      <th>0</th>\n",
              "      <td>Alabama</td>\n",
              "      <td>1</td>\n",
              "      <td>768213</td>\n",
              "      <td>282947</td>\n",
              "      <td>3025561</td>\n",
              "      <td>0.253908</td>\n",
              "    </tr>\n",
              "    <tr>\n",
              "      <th>1</th>\n",
              "      <td>Alaska</td>\n",
              "      <td>2</td>\n",
              "      <td>128613</td>\n",
              "      <td>81366</td>\n",
              "      <td>454623</td>\n",
              "      <td>0.282900</td>\n",
              "    </tr>\n",
              "    <tr>\n",
              "      <th>2</th>\n",
              "      <td>Arizona</td>\n",
              "      <td>4</td>\n",
              "      <td>760003</td>\n",
              "      <td>604049</td>\n",
              "      <td>4373055</td>\n",
              "      <td>0.173792</td>\n",
              "    </tr>\n",
              "    <tr>\n",
              "      <th>3</th>\n",
              "      <td>Arkansas</td>\n",
              "      <td>5</td>\n",
              "      <td>454931</td>\n",
              "      <td>96908</td>\n",
              "      <td>1777917</td>\n",
              "      <td>0.255879</td>\n",
              "    </tr>\n",
              "    <tr>\n",
              "      <th>4</th>\n",
              "      <td>California</td>\n",
              "      <td>6</td>\n",
              "      <td>3655463</td>\n",
              "      <td>2091720</td>\n",
              "      <td>25255501</td>\n",
              "      <td>0.144739</td>\n",
              "    </tr>\n",
              "  </tbody>\n",
              "</table>\n",
              "</div>"
            ],
            "text/plain": [
              "        state  id  State Farm Policy Premiums  BERKSHIRE HATHAWAY GRP  \\\n",
              "0     Alabama   1                      768213                  282947   \n",
              "1      Alaska   2                      128613                   81366   \n",
              "2     Arizona   4                      760003                  604049   \n",
              "3    Arkansas   5                      454931                   96908   \n",
              "4  California   6                     3655463                 2091720   \n",
              "\n",
              "   STATE TOTAL  State Farm Market Share %  \n",
              "0      3025561                   0.253908  \n",
              "1       454623                   0.282900  \n",
              "2      4373055                   0.173792  \n",
              "3      1777917                   0.255879  \n",
              "4     25255501                   0.144739  "
            ]
          },
          "metadata": {
            "tags": []
          },
          "execution_count": 25
        }
      ]
    },
    {
      "metadata": {
        "id": "rgIz5xyfm4Eg",
        "colab_type": "code",
        "colab": {}
      },
      "cell_type": "code",
      "source": [
        "import altair as alt\n",
        "from vega_datasets import data"
      ],
      "execution_count": 0,
      "outputs": []
    },
    {
      "metadata": {
        "id": "60kMxfVJ7E0Q",
        "colab_type": "code",
        "colab": {
          "base_uri": "https://localhost:8080/",
          "height": 244
        },
        "outputId": "c680b23d-0f11-4b76-bcdd-9f1f10a216d2"
      },
      "cell_type": "code",
      "source": [
        "\n",
        "\n",
        "variable = 'State Farm Market Share %'\n",
        "alt.Chart(states).mark_geoshape().encode(\n",
        "    alt.Color(variable, type='quantitative')\n",
        ").transform_lookup(\n",
        "    lookup='id',\n",
        "    from_=alt.LookupData(df, 'id', [variable])\n",
        ").properties(\n",
        "    width=500,\n",
        "    height=300\n",
        ").project(\n",
        "    type='albersUsa')"
      ],
      "execution_count": 26,
      "outputs": [
        {
          "output_type": "error",
          "ename": "NameError",
          "evalue": "ignored",
          "traceback": [
            "\u001b[0;31m---------------------------------------------------------------------------\u001b[0m",
            "\u001b[0;31mNameError\u001b[0m                                 Traceback (most recent call last)",
            "\u001b[0;32m<ipython-input-26-1a318c01dfc2>\u001b[0m in \u001b[0;36m<module>\u001b[0;34m()\u001b[0m\n\u001b[1;32m      3\u001b[0m \u001b[0;34m\u001b[0m\u001b[0m\n\u001b[1;32m      4\u001b[0m \u001b[0mvariable\u001b[0m \u001b[0;34m=\u001b[0m \u001b[0;34m'State Farm Market Share %'\u001b[0m\u001b[0;34m\u001b[0m\u001b[0;34m\u001b[0m\u001b[0m\n\u001b[0;32m----> 5\u001b[0;31m alt.Chart(states).mark_geoshape().encode(\n\u001b[0m\u001b[1;32m      6\u001b[0m     \u001b[0malt\u001b[0m\u001b[0;34m.\u001b[0m\u001b[0mColor\u001b[0m\u001b[0;34m(\u001b[0m\u001b[0mvariable\u001b[0m\u001b[0;34m,\u001b[0m \u001b[0mtype\u001b[0m\u001b[0;34m=\u001b[0m\u001b[0;34m'quantitative'\u001b[0m\u001b[0;34m)\u001b[0m\u001b[0;34m\u001b[0m\u001b[0;34m\u001b[0m\u001b[0m\n\u001b[1;32m      7\u001b[0m \u001b[0;34m)\u001b[0m\u001b[0;34m.\u001b[0m\u001b[0mtransform_lookup\u001b[0m\u001b[0;34m(\u001b[0m\u001b[0;34m\u001b[0m\u001b[0;34m\u001b[0m\u001b[0m\n",
            "\u001b[0;31mNameError\u001b[0m: name 'states' is not defined"
          ]
        }
      ]
    },
    {
      "metadata": {
        "colab_type": "text",
        "id": "7NfsPKUtlja3"
      },
      "cell_type": "markdown",
      "source": [
        "# Use Seaborn to visualize distributions and relationships with continuous and discrete variables"
      ]
    },
    {
      "metadata": {
        "colab_type": "text",
        "id": "DMX07pfHlja4"
      },
      "cell_type": "markdown",
      "source": [
        "## 1. Anscombe dataset"
      ]
    },
    {
      "metadata": {
        "colab_type": "text",
        "id": "ohuKP3Y2lja5"
      },
      "cell_type": "markdown",
      "source": [
        "### Load dataset"
      ]
    },
    {
      "metadata": {
        "colab_type": "code",
        "id": "lhNEdJTslja6",
        "colab": {}
      },
      "cell_type": "code",
      "source": [
        "df = sns.load_dataset('anscombe')"
      ],
      "execution_count": 0,
      "outputs": []
    },
    {
      "metadata": {
        "colab_type": "text",
        "id": "wGpkAGL9lja9"
      },
      "cell_type": "markdown",
      "source": [
        "### See the data's shape"
      ]
    },
    {
      "metadata": {
        "colab_type": "code",
        "id": "UJgOVrMdlja_",
        "colab": {
          "base_uri": "https://localhost:8080/",
          "height": 35
        },
        "outputId": "ec260250-2b2e-46f5-f564-c8dc9777ca18"
      },
      "cell_type": "code",
      "source": [
        "df.shape"
      ],
      "execution_count": 106,
      "outputs": [
        {
          "output_type": "execute_result",
          "data": {
            "text/plain": [
              "(44, 3)"
            ]
          },
          "metadata": {
            "tags": []
          },
          "execution_count": 106
        }
      ]
    },
    {
      "metadata": {
        "colab_type": "text",
        "id": "uwhNkUorljbC"
      },
      "cell_type": "markdown",
      "source": [
        "### See the data"
      ]
    },
    {
      "metadata": {
        "colab_type": "code",
        "id": "f6VT5CbUljbD",
        "colab": {
          "base_uri": "https://localhost:8080/",
          "height": 206
        },
        "outputId": "7d506f86-2df8-4dcb-9aa9-6f5633b73238"
      },
      "cell_type": "code",
      "source": [
        "df.head()"
      ],
      "execution_count": 107,
      "outputs": [
        {
          "output_type": "execute_result",
          "data": {
            "text/html": [
              "<div>\n",
              "<style scoped>\n",
              "    .dataframe tbody tr th:only-of-type {\n",
              "        vertical-align: middle;\n",
              "    }\n",
              "\n",
              "    .dataframe tbody tr th {\n",
              "        vertical-align: top;\n",
              "    }\n",
              "\n",
              "    .dataframe thead th {\n",
              "        text-align: right;\n",
              "    }\n",
              "</style>\n",
              "<table border=\"1\" class=\"dataframe\">\n",
              "  <thead>\n",
              "    <tr style=\"text-align: right;\">\n",
              "      <th></th>\n",
              "      <th>dataset</th>\n",
              "      <th>x</th>\n",
              "      <th>y</th>\n",
              "    </tr>\n",
              "  </thead>\n",
              "  <tbody>\n",
              "    <tr>\n",
              "      <th>0</th>\n",
              "      <td>I</td>\n",
              "      <td>10.0</td>\n",
              "      <td>8.04</td>\n",
              "    </tr>\n",
              "    <tr>\n",
              "      <th>1</th>\n",
              "      <td>I</td>\n",
              "      <td>8.0</td>\n",
              "      <td>6.95</td>\n",
              "    </tr>\n",
              "    <tr>\n",
              "      <th>2</th>\n",
              "      <td>I</td>\n",
              "      <td>13.0</td>\n",
              "      <td>7.58</td>\n",
              "    </tr>\n",
              "    <tr>\n",
              "      <th>3</th>\n",
              "      <td>I</td>\n",
              "      <td>9.0</td>\n",
              "      <td>8.81</td>\n",
              "    </tr>\n",
              "    <tr>\n",
              "      <th>4</th>\n",
              "      <td>I</td>\n",
              "      <td>11.0</td>\n",
              "      <td>8.33</td>\n",
              "    </tr>\n",
              "  </tbody>\n",
              "</table>\n",
              "</div>"
            ],
            "text/plain": [
              "  dataset     x     y\n",
              "0       I  10.0  8.04\n",
              "1       I   8.0  6.95\n",
              "2       I  13.0  7.58\n",
              "3       I   9.0  8.81\n",
              "4       I  11.0  8.33"
            ]
          },
          "metadata": {
            "tags": []
          },
          "execution_count": 107
        }
      ]
    },
    {
      "metadata": {
        "id": "NAhqtSjRBFeB",
        "colab_type": "code",
        "colab": {}
      },
      "cell_type": "code",
      "source": [
        ""
      ],
      "execution_count": 0,
      "outputs": []
    },
    {
      "metadata": {
        "colab_type": "text",
        "id": "yxMSGXfmljbE"
      },
      "cell_type": "markdown",
      "source": [
        "### [Group by](https://pandas.pydata.org/pandas-docs/stable/generated/pandas.DataFrame.groupby.html) `'dataset'`"
      ]
    },
    {
      "metadata": {
        "colab_type": "code",
        "id": "Kqb2C6OnljbG",
        "colab": {}
      },
      "cell_type": "code",
      "source": [
        "groups = df.groupby('dataset')"
      ],
      "execution_count": 0,
      "outputs": []
    },
    {
      "metadata": {
        "colab_type": "text",
        "id": "XE_VL_G5ljbI"
      },
      "cell_type": "markdown",
      "source": [
        "### [Describe](https://pandas.pydata.org/pandas-docs/stable/generated/pandas.DataFrame.describe.html) the groups"
      ]
    },
    {
      "metadata": {
        "colab_type": "code",
        "id": "3owo8EHvljbJ",
        "colab": {
          "base_uri": "https://localhost:8080/",
          "height": 237
        },
        "outputId": "f37b0847-6055-43c9-d42d-2a34d5d80e39"
      },
      "cell_type": "code",
      "source": [
        "groups.describe()"
      ],
      "execution_count": 109,
      "outputs": [
        {
          "output_type": "execute_result",
          "data": {
            "text/html": [
              "<div>\n",
              "<style scoped>\n",
              "    .dataframe tbody tr th:only-of-type {\n",
              "        vertical-align: middle;\n",
              "    }\n",
              "\n",
              "    .dataframe tbody tr th {\n",
              "        vertical-align: top;\n",
              "    }\n",
              "\n",
              "    .dataframe thead tr th {\n",
              "        text-align: left;\n",
              "    }\n",
              "\n",
              "    .dataframe thead tr:last-of-type th {\n",
              "        text-align: right;\n",
              "    }\n",
              "</style>\n",
              "<table border=\"1\" class=\"dataframe\">\n",
              "  <thead>\n",
              "    <tr>\n",
              "      <th></th>\n",
              "      <th colspan=\"8\" halign=\"left\">x</th>\n",
              "      <th colspan=\"8\" halign=\"left\">y</th>\n",
              "    </tr>\n",
              "    <tr>\n",
              "      <th></th>\n",
              "      <th>count</th>\n",
              "      <th>mean</th>\n",
              "      <th>std</th>\n",
              "      <th>min</th>\n",
              "      <th>25%</th>\n",
              "      <th>50%</th>\n",
              "      <th>75%</th>\n",
              "      <th>max</th>\n",
              "      <th>count</th>\n",
              "      <th>mean</th>\n",
              "      <th>std</th>\n",
              "      <th>min</th>\n",
              "      <th>25%</th>\n",
              "      <th>50%</th>\n",
              "      <th>75%</th>\n",
              "      <th>max</th>\n",
              "    </tr>\n",
              "    <tr>\n",
              "      <th>dataset</th>\n",
              "      <th></th>\n",
              "      <th></th>\n",
              "      <th></th>\n",
              "      <th></th>\n",
              "      <th></th>\n",
              "      <th></th>\n",
              "      <th></th>\n",
              "      <th></th>\n",
              "      <th></th>\n",
              "      <th></th>\n",
              "      <th></th>\n",
              "      <th></th>\n",
              "      <th></th>\n",
              "      <th></th>\n",
              "      <th></th>\n",
              "      <th></th>\n",
              "    </tr>\n",
              "  </thead>\n",
              "  <tbody>\n",
              "    <tr>\n",
              "      <th>I</th>\n",
              "      <td>11.0</td>\n",
              "      <td>9.0</td>\n",
              "      <td>3.316625</td>\n",
              "      <td>4.0</td>\n",
              "      <td>6.5</td>\n",
              "      <td>9.0</td>\n",
              "      <td>11.5</td>\n",
              "      <td>14.0</td>\n",
              "      <td>11.0</td>\n",
              "      <td>7.500909</td>\n",
              "      <td>2.031568</td>\n",
              "      <td>4.26</td>\n",
              "      <td>6.315</td>\n",
              "      <td>7.58</td>\n",
              "      <td>8.57</td>\n",
              "      <td>10.84</td>\n",
              "    </tr>\n",
              "    <tr>\n",
              "      <th>II</th>\n",
              "      <td>11.0</td>\n",
              "      <td>9.0</td>\n",
              "      <td>3.316625</td>\n",
              "      <td>4.0</td>\n",
              "      <td>6.5</td>\n",
              "      <td>9.0</td>\n",
              "      <td>11.5</td>\n",
              "      <td>14.0</td>\n",
              "      <td>11.0</td>\n",
              "      <td>7.500909</td>\n",
              "      <td>2.031657</td>\n",
              "      <td>3.10</td>\n",
              "      <td>6.695</td>\n",
              "      <td>8.14</td>\n",
              "      <td>8.95</td>\n",
              "      <td>9.26</td>\n",
              "    </tr>\n",
              "    <tr>\n",
              "      <th>III</th>\n",
              "      <td>11.0</td>\n",
              "      <td>9.0</td>\n",
              "      <td>3.316625</td>\n",
              "      <td>4.0</td>\n",
              "      <td>6.5</td>\n",
              "      <td>9.0</td>\n",
              "      <td>11.5</td>\n",
              "      <td>14.0</td>\n",
              "      <td>11.0</td>\n",
              "      <td>7.500000</td>\n",
              "      <td>2.030424</td>\n",
              "      <td>5.39</td>\n",
              "      <td>6.250</td>\n",
              "      <td>7.11</td>\n",
              "      <td>7.98</td>\n",
              "      <td>12.74</td>\n",
              "    </tr>\n",
              "    <tr>\n",
              "      <th>IV</th>\n",
              "      <td>11.0</td>\n",
              "      <td>9.0</td>\n",
              "      <td>3.316625</td>\n",
              "      <td>8.0</td>\n",
              "      <td>8.0</td>\n",
              "      <td>8.0</td>\n",
              "      <td>8.0</td>\n",
              "      <td>19.0</td>\n",
              "      <td>11.0</td>\n",
              "      <td>7.500909</td>\n",
              "      <td>2.030579</td>\n",
              "      <td>5.25</td>\n",
              "      <td>6.170</td>\n",
              "      <td>7.04</td>\n",
              "      <td>8.19</td>\n",
              "      <td>12.50</td>\n",
              "    </tr>\n",
              "  </tbody>\n",
              "</table>\n",
              "</div>"
            ],
            "text/plain": [
              "            x                                               y            \\\n",
              "        count mean       std  min  25%  50%   75%   max count      mean   \n",
              "dataset                                                                   \n",
              "I        11.0  9.0  3.316625  4.0  6.5  9.0  11.5  14.0  11.0  7.500909   \n",
              "II       11.0  9.0  3.316625  4.0  6.5  9.0  11.5  14.0  11.0  7.500909   \n",
              "III      11.0  9.0  3.316625  4.0  6.5  9.0  11.5  14.0  11.0  7.500000   \n",
              "IV       11.0  9.0  3.316625  8.0  8.0  8.0   8.0  19.0  11.0  7.500909   \n",
              "\n",
              "                                                   \n",
              "              std   min    25%   50%   75%    max  \n",
              "dataset                                            \n",
              "I        2.031568  4.26  6.315  7.58  8.57  10.84  \n",
              "II       2.031657  3.10  6.695  8.14  8.95   9.26  \n",
              "III      2.030424  5.39  6.250  7.11  7.98  12.74  \n",
              "IV       2.030579  5.25  6.170  7.04  8.19  12.50  "
            ]
          },
          "metadata": {
            "tags": []
          },
          "execution_count": 109
        }
      ]
    },
    {
      "metadata": {
        "colab_type": "text",
        "id": "VBjKXp0rljbK"
      },
      "cell_type": "markdown",
      "source": [
        "### Get the [count](https://pandas.pydata.org/pandas-docs/stable/generated/pandas.DataFrame.count.html), for each column in each group"
      ]
    },
    {
      "metadata": {
        "colab_type": "code",
        "id": "4ruK188dljbL",
        "colab": {
          "base_uri": "https://localhost:8080/",
          "height": 206
        },
        "outputId": "5917e98a-cb3e-4656-dfb4-d6ebdbe253b1"
      },
      "cell_type": "code",
      "source": [
        "groups.count()"
      ],
      "execution_count": 110,
      "outputs": [
        {
          "output_type": "execute_result",
          "data": {
            "text/html": [
              "<div>\n",
              "<style scoped>\n",
              "    .dataframe tbody tr th:only-of-type {\n",
              "        vertical-align: middle;\n",
              "    }\n",
              "\n",
              "    .dataframe tbody tr th {\n",
              "        vertical-align: top;\n",
              "    }\n",
              "\n",
              "    .dataframe thead th {\n",
              "        text-align: right;\n",
              "    }\n",
              "</style>\n",
              "<table border=\"1\" class=\"dataframe\">\n",
              "  <thead>\n",
              "    <tr style=\"text-align: right;\">\n",
              "      <th></th>\n",
              "      <th>x</th>\n",
              "      <th>y</th>\n",
              "    </tr>\n",
              "    <tr>\n",
              "      <th>dataset</th>\n",
              "      <th></th>\n",
              "      <th></th>\n",
              "    </tr>\n",
              "  </thead>\n",
              "  <tbody>\n",
              "    <tr>\n",
              "      <th>I</th>\n",
              "      <td>11</td>\n",
              "      <td>11</td>\n",
              "    </tr>\n",
              "    <tr>\n",
              "      <th>II</th>\n",
              "      <td>11</td>\n",
              "      <td>11</td>\n",
              "    </tr>\n",
              "    <tr>\n",
              "      <th>III</th>\n",
              "      <td>11</td>\n",
              "      <td>11</td>\n",
              "    </tr>\n",
              "    <tr>\n",
              "      <th>IV</th>\n",
              "      <td>11</td>\n",
              "      <td>11</td>\n",
              "    </tr>\n",
              "  </tbody>\n",
              "</table>\n",
              "</div>"
            ],
            "text/plain": [
              "          x   y\n",
              "dataset        \n",
              "I        11  11\n",
              "II       11  11\n",
              "III      11  11\n",
              "IV       11  11"
            ]
          },
          "metadata": {
            "tags": []
          },
          "execution_count": 110
        }
      ]
    },
    {
      "metadata": {
        "colab_type": "text",
        "id": "Ooh4iR8gljbN"
      },
      "cell_type": "markdown",
      "source": [
        "### Get the [mean](https://pandas.pydata.org/pandas-docs/stable/generated/pandas.DataFrame.mean.html) ..."
      ]
    },
    {
      "metadata": {
        "colab_type": "code",
        "id": "VHz1_kJNljbN",
        "colab": {
          "base_uri": "https://localhost:8080/",
          "height": 206
        },
        "outputId": "9c3bfb1c-7b48-4aef-f3c2-ec0e85603910"
      },
      "cell_type": "code",
      "source": [
        "groups.mean()"
      ],
      "execution_count": 111,
      "outputs": [
        {
          "output_type": "execute_result",
          "data": {
            "text/html": [
              "<div>\n",
              "<style scoped>\n",
              "    .dataframe tbody tr th:only-of-type {\n",
              "        vertical-align: middle;\n",
              "    }\n",
              "\n",
              "    .dataframe tbody tr th {\n",
              "        vertical-align: top;\n",
              "    }\n",
              "\n",
              "    .dataframe thead th {\n",
              "        text-align: right;\n",
              "    }\n",
              "</style>\n",
              "<table border=\"1\" class=\"dataframe\">\n",
              "  <thead>\n",
              "    <tr style=\"text-align: right;\">\n",
              "      <th></th>\n",
              "      <th>x</th>\n",
              "      <th>y</th>\n",
              "    </tr>\n",
              "    <tr>\n",
              "      <th>dataset</th>\n",
              "      <th></th>\n",
              "      <th></th>\n",
              "    </tr>\n",
              "  </thead>\n",
              "  <tbody>\n",
              "    <tr>\n",
              "      <th>I</th>\n",
              "      <td>9.0</td>\n",
              "      <td>7.500909</td>\n",
              "    </tr>\n",
              "    <tr>\n",
              "      <th>II</th>\n",
              "      <td>9.0</td>\n",
              "      <td>7.500909</td>\n",
              "    </tr>\n",
              "    <tr>\n",
              "      <th>III</th>\n",
              "      <td>9.0</td>\n",
              "      <td>7.500000</td>\n",
              "    </tr>\n",
              "    <tr>\n",
              "      <th>IV</th>\n",
              "      <td>9.0</td>\n",
              "      <td>7.500909</td>\n",
              "    </tr>\n",
              "  </tbody>\n",
              "</table>\n",
              "</div>"
            ],
            "text/plain": [
              "           x         y\n",
              "dataset               \n",
              "I        9.0  7.500909\n",
              "II       9.0  7.500909\n",
              "III      9.0  7.500000\n",
              "IV       9.0  7.500909"
            ]
          },
          "metadata": {
            "tags": []
          },
          "execution_count": 111
        }
      ]
    },
    {
      "metadata": {
        "colab_type": "text",
        "id": "KDpAl2z8ljbQ"
      },
      "cell_type": "markdown",
      "source": [
        "### Get the [standard deviation](https://pandas.pydata.org/pandas-docs/stable/generated/pandas.DataFrame.std.html) ..."
      ]
    },
    {
      "metadata": {
        "colab_type": "code",
        "id": "H8sPCA70ljbQ",
        "colab": {
          "base_uri": "https://localhost:8080/",
          "height": 206
        },
        "outputId": "827219a5-c9e0-4def-f8b6-dbcdaab58880"
      },
      "cell_type": "code",
      "source": [
        "groups.std()"
      ],
      "execution_count": 112,
      "outputs": [
        {
          "output_type": "execute_result",
          "data": {
            "text/html": [
              "<div>\n",
              "<style scoped>\n",
              "    .dataframe tbody tr th:only-of-type {\n",
              "        vertical-align: middle;\n",
              "    }\n",
              "\n",
              "    .dataframe tbody tr th {\n",
              "        vertical-align: top;\n",
              "    }\n",
              "\n",
              "    .dataframe thead th {\n",
              "        text-align: right;\n",
              "    }\n",
              "</style>\n",
              "<table border=\"1\" class=\"dataframe\">\n",
              "  <thead>\n",
              "    <tr style=\"text-align: right;\">\n",
              "      <th></th>\n",
              "      <th>x</th>\n",
              "      <th>y</th>\n",
              "    </tr>\n",
              "    <tr>\n",
              "      <th>dataset</th>\n",
              "      <th></th>\n",
              "      <th></th>\n",
              "    </tr>\n",
              "  </thead>\n",
              "  <tbody>\n",
              "    <tr>\n",
              "      <th>I</th>\n",
              "      <td>3.316625</td>\n",
              "      <td>2.031568</td>\n",
              "    </tr>\n",
              "    <tr>\n",
              "      <th>II</th>\n",
              "      <td>3.316625</td>\n",
              "      <td>2.031657</td>\n",
              "    </tr>\n",
              "    <tr>\n",
              "      <th>III</th>\n",
              "      <td>3.316625</td>\n",
              "      <td>2.030424</td>\n",
              "    </tr>\n",
              "    <tr>\n",
              "      <th>IV</th>\n",
              "      <td>3.316625</td>\n",
              "      <td>2.030579</td>\n",
              "    </tr>\n",
              "  </tbody>\n",
              "</table>\n",
              "</div>"
            ],
            "text/plain": [
              "                x         y\n",
              "dataset                    \n",
              "I        3.316625  2.031568\n",
              "II       3.316625  2.031657\n",
              "III      3.316625  2.030424\n",
              "IV       3.316625  2.030579"
            ]
          },
          "metadata": {
            "tags": []
          },
          "execution_count": 112
        }
      ]
    },
    {
      "metadata": {
        "colab_type": "text",
        "id": "8_J0sQ3zljbS"
      },
      "cell_type": "markdown",
      "source": [
        "### Get the [correlation](https://pandas.pydata.org/pandas-docs/stable/generated/pandas.DataFrame.corr.html) ..."
      ]
    },
    {
      "metadata": {
        "colab_type": "code",
        "id": "oVaXOEutljbS",
        "colab": {
          "base_uri": "https://localhost:8080/",
          "height": 332
        },
        "outputId": "102be1e8-21ec-4d12-d267-cb757ff957e4"
      },
      "cell_type": "code",
      "source": [
        "groups.corr()"
      ],
      "execution_count": 113,
      "outputs": [
        {
          "output_type": "execute_result",
          "data": {
            "text/html": [
              "<div>\n",
              "<style scoped>\n",
              "    .dataframe tbody tr th:only-of-type {\n",
              "        vertical-align: middle;\n",
              "    }\n",
              "\n",
              "    .dataframe tbody tr th {\n",
              "        vertical-align: top;\n",
              "    }\n",
              "\n",
              "    .dataframe thead th {\n",
              "        text-align: right;\n",
              "    }\n",
              "</style>\n",
              "<table border=\"1\" class=\"dataframe\">\n",
              "  <thead>\n",
              "    <tr style=\"text-align: right;\">\n",
              "      <th></th>\n",
              "      <th></th>\n",
              "      <th>x</th>\n",
              "      <th>y</th>\n",
              "    </tr>\n",
              "    <tr>\n",
              "      <th>dataset</th>\n",
              "      <th></th>\n",
              "      <th></th>\n",
              "      <th></th>\n",
              "    </tr>\n",
              "  </thead>\n",
              "  <tbody>\n",
              "    <tr>\n",
              "      <th rowspan=\"2\" valign=\"top\">I</th>\n",
              "      <th>x</th>\n",
              "      <td>1.000000</td>\n",
              "      <td>0.816421</td>\n",
              "    </tr>\n",
              "    <tr>\n",
              "      <th>y</th>\n",
              "      <td>0.816421</td>\n",
              "      <td>1.000000</td>\n",
              "    </tr>\n",
              "    <tr>\n",
              "      <th rowspan=\"2\" valign=\"top\">II</th>\n",
              "      <th>x</th>\n",
              "      <td>1.000000</td>\n",
              "      <td>0.816237</td>\n",
              "    </tr>\n",
              "    <tr>\n",
              "      <th>y</th>\n",
              "      <td>0.816237</td>\n",
              "      <td>1.000000</td>\n",
              "    </tr>\n",
              "    <tr>\n",
              "      <th rowspan=\"2\" valign=\"top\">III</th>\n",
              "      <th>x</th>\n",
              "      <td>1.000000</td>\n",
              "      <td>0.816287</td>\n",
              "    </tr>\n",
              "    <tr>\n",
              "      <th>y</th>\n",
              "      <td>0.816287</td>\n",
              "      <td>1.000000</td>\n",
              "    </tr>\n",
              "    <tr>\n",
              "      <th rowspan=\"2\" valign=\"top\">IV</th>\n",
              "      <th>x</th>\n",
              "      <td>1.000000</td>\n",
              "      <td>0.816521</td>\n",
              "    </tr>\n",
              "    <tr>\n",
              "      <th>y</th>\n",
              "      <td>0.816521</td>\n",
              "      <td>1.000000</td>\n",
              "    </tr>\n",
              "  </tbody>\n",
              "</table>\n",
              "</div>"
            ],
            "text/plain": [
              "                  x         y\n",
              "dataset                      \n",
              "I       x  1.000000  0.816421\n",
              "        y  0.816421  1.000000\n",
              "II      x  1.000000  0.816237\n",
              "        y  0.816237  1.000000\n",
              "III     x  1.000000  0.816287\n",
              "        y  0.816287  1.000000\n",
              "IV      x  1.000000  0.816521\n",
              "        y  0.816521  1.000000"
            ]
          },
          "metadata": {
            "tags": []
          },
          "execution_count": 113
        }
      ]
    },
    {
      "metadata": {
        "colab_type": "text",
        "id": "wev2eLSsljbU"
      },
      "cell_type": "markdown",
      "source": [
        "### Use pandas to [plot](https://pandas.pydata.org/pandas-docs/stable/generated/pandas.DataFrame.plot.html) the groups, as scatter plots"
      ]
    },
    {
      "metadata": {
        "colab_type": "code",
        "id": "OV8_BNakljbV",
        "colab": {
          "base_uri": "https://localhost:8080/",
          "height": 1081
        },
        "outputId": "63524179-1f86-46ff-c136-e8928cc953aa"
      },
      "cell_type": "code",
      "source": [
        "groups.plot('x','y',kind='scatter');"
      ],
      "execution_count": 114,
      "outputs": [
        {
          "output_type": "display_data",
          "data": {
            "image/png": "[encoded data removed]",
            "text/plain": [
              "<Figure size 432x288 with 1 Axes>"
            ]
          },
          "metadata": {
            "tags": []
          }
        },
        {
          "output_type": "display_data",
          "data": {
            "image/png": "[encoded data removed]",
            "text/plain": [
              "<Figure size 432x288 with 1 Axes>"
            ]
          },
          "metadata": {
            "tags": []
          }
        },
        {
          "output_type": "display_data",
          "data": {
            "image/png": "[encoded data removed]",
            "text/plain": [
              "<Figure size 432x288 with 1 Axes>"
            ]
          },
          "metadata": {
            "tags": []
          }
        },
        {
          "output_type": "display_data",
          "data": {
            "image/png": "[encoded data removed]",
            "text/plain": [
              "<Figure size 432x288 with 1 Axes>"
            ]
          },
          "metadata": {
            "tags": []
          }
        }
      ]
    },
    {
      "metadata": {
        "colab_type": "text",
        "id": "aIZK7t3QljbX"
      },
      "cell_type": "markdown",
      "source": [
        "### Use Seaborn to make [relational plots](http://seaborn.pydata.org/generated/seaborn.relplot.html)"
      ]
    },
    {
      "metadata": {
        "colab_type": "code",
        "id": "VYwZwT85tggM",
        "colab": {
          "base_uri": "https://localhost:8080/",
          "height": 387
        },
        "outputId": "10846bcc-f95b-45c4-caad-26f91d732835"
      },
      "cell_type": "code",
      "source": [
        "sns.relplot('x','y', data=df)"
      ],
      "execution_count": 115,
      "outputs": [
        {
          "output_type": "execute_result",
          "data": {
            "text/plain": [
              "<seaborn.axisgrid.FacetGrid at 0x7fb00b9195f8>"
            ]
          },
          "metadata": {
            "tags": []
          },
          "execution_count": 115
        },
        {
          "output_type": "display_data",
          "data": {
            "image/png": "[encoded data removed]",
            "text/plain": [
              "<Figure size 360x360 with 1 Axes>"
            ]
          },
          "metadata": {
            "tags": []
          }
        }
      ]
    },
    {
      "metadata": {
        "colab_type": "text",
        "id": "7pC0xmYRljbZ"
      },
      "cell_type": "markdown",
      "source": [
        "### Use Seaborn to make [linear model plots](http://seaborn.pydata.org/generated/seaborn.lmplot.html)"
      ]
    },
    {
      "metadata": {
        "colab_type": "code",
        "id": "q0OUr1XytwG9",
        "colab": {
          "base_uri": "https://localhost:8080/",
          "height": 387
        },
        "outputId": "bd499a6d-4ddb-4163-9056-893dee22be43"
      },
      "cell_type": "code",
      "source": [
        "sns.lmplot('x','y', col='dataset',hue='dataset',data=df)"
      ],
      "execution_count": 116,
      "outputs": [
        {
          "output_type": "execute_result",
          "data": {
            "text/plain": [
              "<seaborn.axisgrid.FacetGrid at 0x7fb00e7c2358>"
            ]
          },
          "metadata": {
            "tags": []
          },
          "execution_count": 116
        },
        {
          "output_type": "display_data",
          "data": {
            "image/png": "[encoded data removed]",
            "text/plain": [
              "<Figure size 1440x360 with 4 Axes>"
            ]
          },
          "metadata": {
            "tags": []
          }
        }
      ]
    },
    {
      "metadata": {
        "colab_type": "text",
        "id": "Cn-xMBPcljbc"
      },
      "cell_type": "markdown",
      "source": [
        "#### Links\n",
        "- [Seaborn examples: Anscombe's quartet](http://seaborn.pydata.org/examples/anscombes_quartet.html)\n",
        "- [Wikipedia: Anscombe's quartet](https://en.wikipedia.org/wiki/Anscombe%27s_quartet)\n",
        "- [The Datasaurus Dozen](https://www.autodeskresearch.com/publications/samestats)"
      ]
    },
    {
      "metadata": {
        "colab_type": "text",
        "id": "5vhSX9VJljbc"
      },
      "cell_type": "markdown",
      "source": [
        "## 2. Tips dataset"
      ]
    },
    {
      "metadata": {
        "colab_type": "text",
        "id": "tZrTgYtoljbc"
      },
      "cell_type": "markdown",
      "source": [
        "### Load dataset"
      ]
    },
    {
      "metadata": {
        "colab_type": "code",
        "id": "Ms3dbDMRljbd",
        "colab": {}
      },
      "cell_type": "code",
      "source": [
        "tips = sns.load_dataset('tips')"
      ],
      "execution_count": 0,
      "outputs": []
    },
    {
      "metadata": {
        "colab_type": "text",
        "id": "YsR7xrSVljbe"
      },
      "cell_type": "markdown",
      "source": [
        "### See the data's shape"
      ]
    },
    {
      "metadata": {
        "colab_type": "code",
        "id": "vkd17Tv7ljbf",
        "colab": {
          "base_uri": "https://localhost:8080/",
          "height": 35
        },
        "outputId": "4ae99a4e-403a-46c2-900a-bbdfb6a34fc7"
      },
      "cell_type": "code",
      "source": [
        "tips.shape"
      ],
      "execution_count": 118,
      "outputs": [
        {
          "output_type": "execute_result",
          "data": {
            "text/plain": [
              "(244, 7)"
            ]
          },
          "metadata": {
            "tags": []
          },
          "execution_count": 118
        }
      ]
    },
    {
      "metadata": {
        "colab_type": "text",
        "id": "gRlUBLZEljbg"
      },
      "cell_type": "markdown",
      "source": [
        "### See the first 5 rows"
      ]
    },
    {
      "metadata": {
        "colab_type": "code",
        "id": "tSi2F9ZHljbg",
        "colab": {
          "base_uri": "https://localhost:8080/",
          "height": 206
        },
        "outputId": "06aa5c06-a227-44cf-a6bc-dd2276236cec"
      },
      "cell_type": "code",
      "source": [
        "tips.head()"
      ],
      "execution_count": 119,
      "outputs": [
        {
          "output_type": "execute_result",
          "data": {
            "text/html": [
              "<div>\n",
              "<style scoped>\n",
              "    .dataframe tbody tr th:only-of-type {\n",
              "        vertical-align: middle;\n",
              "    }\n",
              "\n",
              "    .dataframe tbody tr th {\n",
              "        vertical-align: top;\n",
              "    }\n",
              "\n",
              "    .dataframe thead th {\n",
              "        text-align: right;\n",
              "    }\n",
              "</style>\n",
              "<table border=\"1\" class=\"dataframe\">\n",
              "  <thead>\n",
              "    <tr style=\"text-align: right;\">\n",
              "      <th></th>\n",
              "      <th>total_bill</th>\n",
              "      <th>tip</th>\n",
              "      <th>sex</th>\n",
              "      <th>smoker</th>\n",
              "      <th>day</th>\n",
              "      <th>time</th>\n",
              "      <th>size</th>\n",
              "    </tr>\n",
              "  </thead>\n",
              "  <tbody>\n",
              "    <tr>\n",
              "      <th>0</th>\n",
              "      <td>16.99</td>\n",
              "      <td>1.01</td>\n",
              "      <td>Female</td>\n",
              "      <td>No</td>\n",
              "      <td>Sun</td>\n",
              "      <td>Dinner</td>\n",
              "      <td>2</td>\n",
              "    </tr>\n",
              "    <tr>\n",
              "      <th>1</th>\n",
              "      <td>10.34</td>\n",
              "      <td>1.66</td>\n",
              "      <td>Male</td>\n",
              "      <td>No</td>\n",
              "      <td>Sun</td>\n",
              "      <td>Dinner</td>\n",
              "      <td>3</td>\n",
              "    </tr>\n",
              "    <tr>\n",
              "      <th>2</th>\n",
              "      <td>21.01</td>\n",
              "      <td>3.50</td>\n",
              "      <td>Male</td>\n",
              "      <td>No</td>\n",
              "      <td>Sun</td>\n",
              "      <td>Dinner</td>\n",
              "      <td>3</td>\n",
              "    </tr>\n",
              "    <tr>\n",
              "      <th>3</th>\n",
              "      <td>23.68</td>\n",
              "      <td>3.31</td>\n",
              "      <td>Male</td>\n",
              "      <td>No</td>\n",
              "      <td>Sun</td>\n",
              "      <td>Dinner</td>\n",
              "      <td>2</td>\n",
              "    </tr>\n",
              "    <tr>\n",
              "      <th>4</th>\n",
              "      <td>24.59</td>\n",
              "      <td>3.61</td>\n",
              "      <td>Female</td>\n",
              "      <td>No</td>\n",
              "      <td>Sun</td>\n",
              "      <td>Dinner</td>\n",
              "      <td>4</td>\n",
              "    </tr>\n",
              "  </tbody>\n",
              "</table>\n",
              "</div>"
            ],
            "text/plain": [
              "   total_bill   tip     sex smoker  day    time  size\n",
              "0       16.99  1.01  Female     No  Sun  Dinner     2\n",
              "1       10.34  1.66    Male     No  Sun  Dinner     3\n",
              "2       21.01  3.50    Male     No  Sun  Dinner     3\n",
              "3       23.68  3.31    Male     No  Sun  Dinner     2\n",
              "4       24.59  3.61  Female     No  Sun  Dinner     4"
            ]
          },
          "metadata": {
            "tags": []
          },
          "execution_count": 119
        }
      ]
    },
    {
      "metadata": {
        "id": "Itqkz5zrHMzU",
        "colab_type": "code",
        "colab": {
          "base_uri": "https://localhost:8080/",
          "height": 206
        },
        "outputId": "7d839390-4e86-4b3a-fb48-1ef51947feb2"
      },
      "cell_type": "code",
      "source": [
        "tips['smoker'] = ~tips['smoker'].astype(bool)\n",
        "tips.head()"
      ],
      "execution_count": 120,
      "outputs": [
        {
          "output_type": "execute_result",
          "data": {
            "text/html": [
              "<div>\n",
              "<style scoped>\n",
              "    .dataframe tbody tr th:only-of-type {\n",
              "        vertical-align: middle;\n",
              "    }\n",
              "\n",
              "    .dataframe tbody tr th {\n",
              "        vertical-align: top;\n",
              "    }\n",
              "\n",
              "    .dataframe thead th {\n",
              "        text-align: right;\n",
              "    }\n",
              "</style>\n",
              "<table border=\"1\" class=\"dataframe\">\n",
              "  <thead>\n",
              "    <tr style=\"text-align: right;\">\n",
              "      <th></th>\n",
              "      <th>total_bill</th>\n",
              "      <th>tip</th>\n",
              "      <th>sex</th>\n",
              "      <th>smoker</th>\n",
              "      <th>day</th>\n",
              "      <th>time</th>\n",
              "      <th>size</th>\n",
              "    </tr>\n",
              "  </thead>\n",
              "  <tbody>\n",
              "    <tr>\n",
              "      <th>0</th>\n",
              "      <td>16.99</td>\n",
              "      <td>1.01</td>\n",
              "      <td>Female</td>\n",
              "      <td>False</td>\n",
              "      <td>Sun</td>\n",
              "      <td>Dinner</td>\n",
              "      <td>2</td>\n",
              "    </tr>\n",
              "    <tr>\n",
              "      <th>1</th>\n",
              "      <td>10.34</td>\n",
              "      <td>1.66</td>\n",
              "      <td>Male</td>\n",
              "      <td>False</td>\n",
              "      <td>Sun</td>\n",
              "      <td>Dinner</td>\n",
              "      <td>3</td>\n",
              "    </tr>\n",
              "    <tr>\n",
              "      <th>2</th>\n",
              "      <td>21.01</td>\n",
              "      <td>3.50</td>\n",
              "      <td>Male</td>\n",
              "      <td>False</td>\n",
              "      <td>Sun</td>\n",
              "      <td>Dinner</td>\n",
              "      <td>3</td>\n",
              "    </tr>\n",
              "    <tr>\n",
              "      <th>3</th>\n",
              "      <td>23.68</td>\n",
              "      <td>3.31</td>\n",
              "      <td>Male</td>\n",
              "      <td>False</td>\n",
              "      <td>Sun</td>\n",
              "      <td>Dinner</td>\n",
              "      <td>2</td>\n",
              "    </tr>\n",
              "    <tr>\n",
              "      <th>4</th>\n",
              "      <td>24.59</td>\n",
              "      <td>3.61</td>\n",
              "      <td>Female</td>\n",
              "      <td>False</td>\n",
              "      <td>Sun</td>\n",
              "      <td>Dinner</td>\n",
              "      <td>4</td>\n",
              "    </tr>\n",
              "  </tbody>\n",
              "</table>\n",
              "</div>"
            ],
            "text/plain": [
              "   total_bill   tip     sex  smoker  day    time  size\n",
              "0       16.99  1.01  Female   False  Sun  Dinner     2\n",
              "1       10.34  1.66    Male   False  Sun  Dinner     3\n",
              "2       21.01  3.50    Male   False  Sun  Dinner     3\n",
              "3       23.68  3.31    Male   False  Sun  Dinner     2\n",
              "4       24.59  3.61  Female   False  Sun  Dinner     4"
            ]
          },
          "metadata": {
            "tags": []
          },
          "execution_count": 120
        }
      ]
    },
    {
      "metadata": {
        "colab_type": "text",
        "id": "sdGGrpdsljbi"
      },
      "cell_type": "markdown",
      "source": [
        "### Describe the data"
      ]
    },
    {
      "metadata": {
        "colab_type": "code",
        "id": "NvwPj20Qljbi",
        "colab": {
          "base_uri": "https://localhost:8080/",
          "height": 300
        },
        "outputId": "88808c5e-f230-49d6-cec7-4431fb7ee02a"
      },
      "cell_type": "code",
      "source": [
        "tips.describe()"
      ],
      "execution_count": 121,
      "outputs": [
        {
          "output_type": "execute_result",
          "data": {
            "text/html": [
              "<div>\n",
              "<style scoped>\n",
              "    .dataframe tbody tr th:only-of-type {\n",
              "        vertical-align: middle;\n",
              "    }\n",
              "\n",
              "    .dataframe tbody tr th {\n",
              "        vertical-align: top;\n",
              "    }\n",
              "\n",
              "    .dataframe thead th {\n",
              "        text-align: right;\n",
              "    }\n",
              "</style>\n",
              "<table border=\"1\" class=\"dataframe\">\n",
              "  <thead>\n",
              "    <tr style=\"text-align: right;\">\n",
              "      <th></th>\n",
              "      <th>total_bill</th>\n",
              "      <th>tip</th>\n",
              "      <th>size</th>\n",
              "    </tr>\n",
              "  </thead>\n",
              "  <tbody>\n",
              "    <tr>\n",
              "      <th>count</th>\n",
              "      <td>244.000000</td>\n",
              "      <td>244.000000</td>\n",
              "      <td>244.000000</td>\n",
              "    </tr>\n",
              "    <tr>\n",
              "      <th>mean</th>\n",
              "      <td>19.785943</td>\n",
              "      <td>2.998279</td>\n",
              "      <td>2.569672</td>\n",
              "    </tr>\n",
              "    <tr>\n",
              "      <th>std</th>\n",
              "      <td>8.902412</td>\n",
              "      <td>1.383638</td>\n",
              "      <td>0.951100</td>\n",
              "    </tr>\n",
              "    <tr>\n",
              "      <th>min</th>\n",
              "      <td>3.070000</td>\n",
              "      <td>1.000000</td>\n",
              "      <td>1.000000</td>\n",
              "    </tr>\n",
              "    <tr>\n",
              "      <th>25%</th>\n",
              "      <td>13.347500</td>\n",
              "      <td>2.000000</td>\n",
              "      <td>2.000000</td>\n",
              "    </tr>\n",
              "    <tr>\n",
              "      <th>50%</th>\n",
              "      <td>17.795000</td>\n",
              "      <td>2.900000</td>\n",
              "      <td>2.000000</td>\n",
              "    </tr>\n",
              "    <tr>\n",
              "      <th>75%</th>\n",
              "      <td>24.127500</td>\n",
              "      <td>3.562500</td>\n",
              "      <td>3.000000</td>\n",
              "    </tr>\n",
              "    <tr>\n",
              "      <th>max</th>\n",
              "      <td>50.810000</td>\n",
              "      <td>10.000000</td>\n",
              "      <td>6.000000</td>\n",
              "    </tr>\n",
              "  </tbody>\n",
              "</table>\n",
              "</div>"
            ],
            "text/plain": [
              "       total_bill         tip        size\n",
              "count  244.000000  244.000000  244.000000\n",
              "mean    19.785943    2.998279    2.569672\n",
              "std      8.902412    1.383638    0.951100\n",
              "min      3.070000    1.000000    1.000000\n",
              "25%     13.347500    2.000000    2.000000\n",
              "50%     17.795000    2.900000    2.000000\n",
              "75%     24.127500    3.562500    3.000000\n",
              "max     50.810000   10.000000    6.000000"
            ]
          },
          "metadata": {
            "tags": []
          },
          "execution_count": 121
        }
      ]
    },
    {
      "metadata": {
        "colab_type": "text",
        "id": "TDoUKNB4ljbk"
      },
      "cell_type": "markdown",
      "source": [
        "### Make univariate [distribution plots](https://seaborn.pydata.org/generated/seaborn.distplot.html)"
      ]
    },
    {
      "metadata": {
        "colab_type": "code",
        "id": "GL7qCnO1PRbM",
        "colab": {
          "base_uri": "https://localhost:8080/",
          "height": 301
        },
        "outputId": "9888242d-919a-4923-89b0-a6826f225805"
      },
      "cell_type": "code",
      "source": [
        "sns.distplot(tips['tip'])"
      ],
      "execution_count": 122,
      "outputs": [
        {
          "output_type": "execute_result",
          "data": {
            "text/plain": [
              "<matplotlib.axes._subplots.AxesSubplot at 0x7fb00b747438>"
            ]
          },
          "metadata": {
            "tags": []
          },
          "execution_count": 122
        },
        {
          "output_type": "display_data",
          "data": {
            "image/png": "[encoded data removed]",
            "text/plain": [
              "<Figure size 432x288 with 1 Axes>"
            ]
          },
          "metadata": {
            "tags": []
          }
        }
      ]
    },
    {
      "metadata": {
        "id": "MFXFX7ARIkxC",
        "colab_type": "code",
        "colab": {
          "base_uri": "https://localhost:8080/",
          "height": 302
        },
        "outputId": "f0b986c4-6a47-4099-dbf2-45f211c01a10"
      },
      "cell_type": "code",
      "source": [
        "sns.distplot(tips['total_bill'])"
      ],
      "execution_count": 123,
      "outputs": [
        {
          "output_type": "execute_result",
          "data": {
            "text/plain": [
              "<matplotlib.axes._subplots.AxesSubplot at 0x7fb00b717c18>"
            ]
          },
          "metadata": {
            "tags": []
          },
          "execution_count": 123
        },
        {
          "output_type": "display_data",
          "data": {
            "image/png": "[encoded data removed]",
            "text/plain": [
              "<Figure size 432x288 with 1 Axes>"
            ]
          },
          "metadata": {
            "tags": []
          }
        }
      ]
    },
    {
      "metadata": {
        "id": "IkkWs4pTJKZ8",
        "colab_type": "code",
        "colab": {
          "base_uri": "https://localhost:8080/",
          "height": 301
        },
        "outputId": "da02027e-48d9-47ef-9027-97cd6ae52b7e"
      },
      "cell_type": "code",
      "source": [
        "tips['percent'] = tips['tip']/tips['total_bill']\n",
        "sns.distplot(tips['percent'])"
      ],
      "execution_count": 124,
      "outputs": [
        {
          "output_type": "execute_result",
          "data": {
            "text/plain": [
              "<matplotlib.axes._subplots.AxesSubplot at 0x7fb00b5e7f28>"
            ]
          },
          "metadata": {
            "tags": []
          },
          "execution_count": 124
        },
        {
          "output_type": "display_data",
          "data": {
            "image/png": "[encoded data removed]",
            "text/plain": [
              "<Figure size 432x288 with 1 Axes>"
            ]
          },
          "metadata": {
            "tags": []
          }
        }
      ]
    },
    {
      "metadata": {
        "id": "FSG7DPILJ4XL",
        "colab_type": "code",
        "colab": {
          "base_uri": "https://localhost:8080/",
          "height": 399
        },
        "outputId": "b886b3ae-e00d-4642-ad41-b30039dc1035"
      },
      "cell_type": "code",
      "source": [
        "tips['percent'].value_counts(bins=20).sort_index()"
      ],
      "execution_count": 125,
      "outputs": [
        {
          "output_type": "execute_result",
          "data": {
            "text/plain": [
              "(0.034, 0.0694]     6\n",
              "(0.0694, 0.103]    25\n",
              "(0.103, 0.137]     42\n",
              "(0.137, 0.171]     78\n",
              "(0.171, 0.204]     60\n",
              "(0.204, 0.238]     20\n",
              "(0.238, 0.272]      7\n",
              "(0.272, 0.306]      3\n",
              "(0.306, 0.339]      1\n",
              "(0.339, 0.373]      0\n",
              "(0.373, 0.407]      0\n",
              "(0.407, 0.44]       1\n",
              "(0.44, 0.474]       0\n",
              "(0.474, 0.508]      0\n",
              "(0.508, 0.542]      0\n",
              "(0.542, 0.575]      0\n",
              "(0.575, 0.609]      0\n",
              "(0.609, 0.643]      0\n",
              "(0.643, 0.677]      0\n",
              "(0.677, 0.71]       1\n",
              "Name: percent, dtype: int64"
            ]
          },
          "metadata": {
            "tags": []
          },
          "execution_count": 125
        }
      ]
    },
    {
      "metadata": {
        "colab_type": "text",
        "id": "0N-6Munnljbm"
      },
      "cell_type": "markdown",
      "source": [
        "### Make bivariate [relational plots](https://seaborn.pydata.org/generated/seaborn.relplot.html)"
      ]
    },
    {
      "metadata": {
        "colab_type": "code",
        "id": "AVWSHwa9PT1y",
        "colab": {
          "base_uri": "https://localhost:8080/",
          "height": 387
        },
        "outputId": "ee7bba51-ca53-4617-b2f7-c5e2499465f7"
      },
      "cell_type": "code",
      "source": [
        "sns.relplot('total_bill', 'tip', data=tips, alpha=.5)"
      ],
      "execution_count": 126,
      "outputs": [
        {
          "output_type": "execute_result",
          "data": {
            "text/plain": [
              "<seaborn.axisgrid.FacetGrid at 0x7fb00b5640f0>"
            ]
          },
          "metadata": {
            "tags": []
          },
          "execution_count": 126
        },
        {
          "output_type": "display_data",
          "data": {
            "image/png": "[encoded data removed]",
            "text/plain": [
              "<Figure size 360x360 with 1 Axes>"
            ]
          },
          "metadata": {
            "tags": []
          }
        }
      ]
    },
    {
      "metadata": {
        "id": "yVpIJ8jCLgFJ",
        "colab_type": "code",
        "colab": {
          "base_uri": "https://localhost:8080/",
          "height": 387
        },
        "outputId": "ffaa524b-28aa-4042-ebd2-af3e10531a64"
      },
      "cell_type": "code",
      "source": [
        "sns.relplot('total_bill', 'percent', data=tips, alpha=.5)"
      ],
      "execution_count": 127,
      "outputs": [
        {
          "output_type": "execute_result",
          "data": {
            "text/plain": [
              "<seaborn.axisgrid.FacetGrid at 0x7fb00b4fe1d0>"
            ]
          },
          "metadata": {
            "tags": []
          },
          "execution_count": 127
        },
        {
          "output_type": "display_data",
          "data": {
            "image/png": "[encoded data removed]",
            "text/plain": [
              "<Figure size 360x360 with 1 Axes>"
            ]
          },
          "metadata": {
            "tags": []
          }
        }
      ]
    },
    {
      "metadata": {
        "colab_type": "text",
        "id": "7Ug5vyBlljbp"
      },
      "cell_type": "markdown",
      "source": [
        "### Make univariate [categorical plots](https://seaborn.pydata.org/generated/seaborn.catplot.html)"
      ]
    },
    {
      "metadata": {
        "id": "yWwIR5OJLw-o",
        "colab_type": "code",
        "colab": {
          "base_uri": "https://localhost:8080/",
          "height": 72
        },
        "outputId": "fbbbb1ec-0d2b-4255-cc91-9837de03ff3f"
      },
      "cell_type": "code",
      "source": [
        "tips['sex'].value_counts()"
      ],
      "execution_count": 128,
      "outputs": [
        {
          "output_type": "execute_result",
          "data": {
            "text/plain": [
              "Male      157\n",
              "Female     87\n",
              "Name: sex, dtype: int64"
            ]
          },
          "metadata": {
            "tags": []
          },
          "execution_count": 128
        }
      ]
    },
    {
      "metadata": {
        "colab_type": "code",
        "id": "0FdkIBUjPWLg",
        "colab": {
          "base_uri": "https://localhost:8080/",
          "height": 313
        },
        "outputId": "3d502324-90f7-4ee0-e31e-4bb620031f52"
      },
      "cell_type": "code",
      "source": [
        "tips['sex'].value_counts().plot.bar()"
      ],
      "execution_count": 129,
      "outputs": [
        {
          "output_type": "execute_result",
          "data": {
            "text/plain": [
              "<matplotlib.axes._subplots.AxesSubplot at 0x7fb00b4ad550>"
            ]
          },
          "metadata": {
            "tags": []
          },
          "execution_count": 129
        },
        {
          "output_type": "display_data",
          "data": {
            "image/png": "[encoded data removed]",
            "text/plain": [
              "<Figure size 432x288 with 1 Axes>"
            ]
          },
          "metadata": {
            "tags": []
          }
        }
      ]
    },
    {
      "metadata": {
        "id": "ARdUOhoRMIa9",
        "colab_type": "code",
        "colab": {
          "base_uri": "https://localhost:8080/",
          "height": 387
        },
        "outputId": "76066bdf-2deb-4abb-864e-2c0b5d01eb1c"
      },
      "cell_type": "code",
      "source": [
        "sns.catplot('day', data=tips, kind='count')"
      ],
      "execution_count": 130,
      "outputs": [
        {
          "output_type": "execute_result",
          "data": {
            "text/plain": [
              "<seaborn.axisgrid.FacetGrid at 0x7fb00b594278>"
            ]
          },
          "metadata": {
            "tags": []
          },
          "execution_count": 130
        },
        {
          "output_type": "display_data",
          "data": {
            "image/png": "[encoded data removed]",
            "text/plain": [
              "<Figure size 360x360 with 1 Axes>"
            ]
          },
          "metadata": {
            "tags": []
          }
        }
      ]
    },
    {
      "metadata": {
        "colab_type": "text",
        "id": "Ftchuwrgljbs"
      },
      "cell_type": "markdown",
      "source": [
        "### Make bivariate [categorical plots](https://seaborn.pydata.org/generated/seaborn.catplot.html)"
      ]
    },
    {
      "metadata": {
        "colab_type": "code",
        "id": "yIGQcgB0PZnk",
        "colab": {
          "base_uri": "https://localhost:8080/",
          "height": 387
        },
        "outputId": "0f344c7a-6910-4f35-bb1d-67746103b491"
      },
      "cell_type": "code",
      "source": [
        "sns.catplot('sex','percent', data=tips, kind='strip', alpha=.5)"
      ],
      "execution_count": 131,
      "outputs": [
        {
          "output_type": "execute_result",
          "data": {
            "text/plain": [
              "<seaborn.axisgrid.FacetGrid at 0x7fb00b4fe048>"
            ]
          },
          "metadata": {
            "tags": []
          },
          "execution_count": 131
        },
        {
          "output_type": "display_data",
          "data": {
            "image/png": "[encoded data removed]",
            "text/plain": [
              "<Figure size 360x360 with 1 Axes>"
            ]
          },
          "metadata": {
            "tags": []
          }
        }
      ]
    },
    {
      "metadata": {
        "id": "sXCI85ZUMaiU",
        "colab_type": "code",
        "colab": {
          "base_uri": "https://localhost:8080/",
          "height": 90
        },
        "outputId": "d8759885-225c-48f6-902a-4fd0b61f18a3"
      },
      "cell_type": "code",
      "source": [
        "tips.groupby('sex')['percent'].mean()"
      ],
      "execution_count": 133,
      "outputs": [
        {
          "output_type": "execute_result",
          "data": {
            "text/plain": [
              "sex\n",
              "Male      0.157651\n",
              "Female    0.166491\n",
              "Name: percent, dtype: float64"
            ]
          },
          "metadata": {
            "tags": []
          },
          "execution_count": 133
        }
      ]
    },
    {
      "metadata": {
        "colab_type": "text",
        "id": "FFWkWusYljbt"
      },
      "cell_type": "markdown",
      "source": [
        "## 3. Flights"
      ]
    },
    {
      "metadata": {
        "colab_type": "text",
        "id": "A9uGFj7fljbu"
      },
      "cell_type": "markdown",
      "source": [
        "### Load dataset"
      ]
    },
    {
      "metadata": {
        "colab_type": "code",
        "id": "x9Pd0h0_ljbu",
        "colab": {}
      },
      "cell_type": "code",
      "source": [
        "flights = sns.load_dataset('flights')"
      ],
      "execution_count": 0,
      "outputs": []
    },
    {
      "metadata": {
        "colab_type": "text",
        "id": "TqUSgAUcljbx"
      },
      "cell_type": "markdown",
      "source": [
        "### See the data's shape"
      ]
    },
    {
      "metadata": {
        "colab_type": "code",
        "id": "5WELCrPPljbx",
        "colab": {
          "base_uri": "https://localhost:8080/",
          "height": 35
        },
        "outputId": "eb70e810-c423-4d1d-a505-0974e3d79fad"
      },
      "cell_type": "code",
      "source": [
        "flights.shape"
      ],
      "execution_count": 135,
      "outputs": [
        {
          "output_type": "execute_result",
          "data": {
            "text/plain": [
              "(144, 3)"
            ]
          },
          "metadata": {
            "tags": []
          },
          "execution_count": 135
        }
      ]
    },
    {
      "metadata": {
        "colab_type": "text",
        "id": "47WxnyjCljby"
      },
      "cell_type": "markdown",
      "source": [
        "### See the first 5 rows"
      ]
    },
    {
      "metadata": {
        "colab_type": "code",
        "id": "xCREANeJljby",
        "colab": {
          "base_uri": "https://localhost:8080/",
          "height": 206
        },
        "outputId": "2a7c9192-a906-46f3-fb3e-19cb2a736853"
      },
      "cell_type": "code",
      "source": [
        "flights.head()"
      ],
      "execution_count": 136,
      "outputs": [
        {
          "output_type": "execute_result",
          "data": {
            "text/html": [
              "<div>\n",
              "<style scoped>\n",
              "    .dataframe tbody tr th:only-of-type {\n",
              "        vertical-align: middle;\n",
              "    }\n",
              "\n",
              "    .dataframe tbody tr th {\n",
              "        vertical-align: top;\n",
              "    }\n",
              "\n",
              "    .dataframe thead th {\n",
              "        text-align: right;\n",
              "    }\n",
              "</style>\n",
              "<table border=\"1\" class=\"dataframe\">\n",
              "  <thead>\n",
              "    <tr style=\"text-align: right;\">\n",
              "      <th></th>\n",
              "      <th>year</th>\n",
              "      <th>month</th>\n",
              "      <th>passengers</th>\n",
              "    </tr>\n",
              "  </thead>\n",
              "  <tbody>\n",
              "    <tr>\n",
              "      <th>0</th>\n",
              "      <td>1949</td>\n",
              "      <td>January</td>\n",
              "      <td>112</td>\n",
              "    </tr>\n",
              "    <tr>\n",
              "      <th>1</th>\n",
              "      <td>1949</td>\n",
              "      <td>February</td>\n",
              "      <td>118</td>\n",
              "    </tr>\n",
              "    <tr>\n",
              "      <th>2</th>\n",
              "      <td>1949</td>\n",
              "      <td>March</td>\n",
              "      <td>132</td>\n",
              "    </tr>\n",
              "    <tr>\n",
              "      <th>3</th>\n",
              "      <td>1949</td>\n",
              "      <td>April</td>\n",
              "      <td>129</td>\n",
              "    </tr>\n",
              "    <tr>\n",
              "      <th>4</th>\n",
              "      <td>1949</td>\n",
              "      <td>May</td>\n",
              "      <td>121</td>\n",
              "    </tr>\n",
              "  </tbody>\n",
              "</table>\n",
              "</div>"
            ],
            "text/plain": [
              "   year     month  passengers\n",
              "0  1949   January         112\n",
              "1  1949  February         118\n",
              "2  1949     March         132\n",
              "3  1949     April         129\n",
              "4  1949       May         121"
            ]
          },
          "metadata": {
            "tags": []
          },
          "execution_count": 136
        }
      ]
    },
    {
      "metadata": {
        "colab_type": "text",
        "id": "eUc_48wbljb0"
      },
      "cell_type": "markdown",
      "source": [
        "### Describe the data"
      ]
    },
    {
      "metadata": {
        "colab_type": "code",
        "id": "rA0xTMd7ljb0",
        "colab": {
          "base_uri": "https://localhost:8080/",
          "height": 300
        },
        "outputId": "dfc69381-c3f4-4f33-aab9-9f98901e877e"
      },
      "cell_type": "code",
      "source": [
        "flights.describe()"
      ],
      "execution_count": 137,
      "outputs": [
        {
          "output_type": "execute_result",
          "data": {
            "text/html": [
              "<div>\n",
              "<style scoped>\n",
              "    .dataframe tbody tr th:only-of-type {\n",
              "        vertical-align: middle;\n",
              "    }\n",
              "\n",
              "    .dataframe tbody tr th {\n",
              "        vertical-align: top;\n",
              "    }\n",
              "\n",
              "    .dataframe thead th {\n",
              "        text-align: right;\n",
              "    }\n",
              "</style>\n",
              "<table border=\"1\" class=\"dataframe\">\n",
              "  <thead>\n",
              "    <tr style=\"text-align: right;\">\n",
              "      <th></th>\n",
              "      <th>year</th>\n",
              "      <th>passengers</th>\n",
              "    </tr>\n",
              "  </thead>\n",
              "  <tbody>\n",
              "    <tr>\n",
              "      <th>count</th>\n",
              "      <td>144.000000</td>\n",
              "      <td>144.000000</td>\n",
              "    </tr>\n",
              "    <tr>\n",
              "      <th>mean</th>\n",
              "      <td>1954.500000</td>\n",
              "      <td>280.298611</td>\n",
              "    </tr>\n",
              "    <tr>\n",
              "      <th>std</th>\n",
              "      <td>3.464102</td>\n",
              "      <td>119.966317</td>\n",
              "    </tr>\n",
              "    <tr>\n",
              "      <th>min</th>\n",
              "      <td>1949.000000</td>\n",
              "      <td>104.000000</td>\n",
              "    </tr>\n",
              "    <tr>\n",
              "      <th>25%</th>\n",
              "      <td>1951.750000</td>\n",
              "      <td>180.000000</td>\n",
              "    </tr>\n",
              "    <tr>\n",
              "      <th>50%</th>\n",
              "      <td>1954.500000</td>\n",
              "      <td>265.500000</td>\n",
              "    </tr>\n",
              "    <tr>\n",
              "      <th>75%</th>\n",
              "      <td>1957.250000</td>\n",
              "      <td>360.500000</td>\n",
              "    </tr>\n",
              "    <tr>\n",
              "      <th>max</th>\n",
              "      <td>1960.000000</td>\n",
              "      <td>622.000000</td>\n",
              "    </tr>\n",
              "  </tbody>\n",
              "</table>\n",
              "</div>"
            ],
            "text/plain": [
              "              year  passengers\n",
              "count   144.000000  144.000000\n",
              "mean   1954.500000  280.298611\n",
              "std       3.464102  119.966317\n",
              "min    1949.000000  104.000000\n",
              "25%    1951.750000  180.000000\n",
              "50%    1954.500000  265.500000\n",
              "75%    1957.250000  360.500000\n",
              "max    1960.000000  622.000000"
            ]
          },
          "metadata": {
            "tags": []
          },
          "execution_count": 137
        }
      ]
    },
    {
      "metadata": {
        "colab_type": "text",
        "id": "Pwg0lL5Lljb2"
      },
      "cell_type": "markdown",
      "source": [
        "### Plot year & passengers"
      ]
    },
    {
      "metadata": {
        "colab_type": "code",
        "id": "o2reqC4Eljb2",
        "colab": {
          "base_uri": "https://localhost:8080/",
          "height": 369
        },
        "outputId": "f69f3899-bee2-4c81-e540-45860c430c57"
      },
      "cell_type": "code",
      "source": [
        "sns.relplot('year', 'passengers', data=flights);"
      ],
      "execution_count": 138,
      "outputs": [
        {
          "output_type": "display_data",
          "data": {
            "image/png": "[encoded data removed]",
            "text/plain": [
              "<Figure size 360x360 with 1 Axes>"
            ]
          },
          "metadata": {
            "tags": []
          }
        }
      ]
    },
    {
      "metadata": {
        "id": "shpN1mu9M1xu",
        "colab_type": "code",
        "colab": {
          "base_uri": "https://localhost:8080/",
          "height": 369
        },
        "outputId": "0877f3a6-84ad-4efb-d17e-45175316cc0a"
      },
      "cell_type": "code",
      "source": [
        "sns.relplot('year', 'passengers', data=flights, kind='line', ci=95);"
      ],
      "execution_count": 139,
      "outputs": [
        {
          "output_type": "display_data",
          "data": {
            "image/png": "[encoded data removed]",
            "text/plain": [
              "<Figure size 360x360 with 1 Axes>"
            ]
          },
          "metadata": {
            "tags": []
          }
        }
      ]
    },
    {
      "metadata": {
        "colab_type": "text",
        "id": "g1TKShQ2ljb4"
      },
      "cell_type": "markdown",
      "source": [
        "### Plot month & passengers"
      ]
    },
    {
      "metadata": {
        "colab_type": "code",
        "id": "Le0Tc5SDwoHk",
        "colab": {
          "base_uri": "https://localhost:8080/",
          "height": 450
        },
        "outputId": "03915ae5-387a-4b22-86e7-e30035951158"
      },
      "cell_type": "code",
      "source": [
        "sns.catplot('month', 'passengers',data=flights);\n",
        "plt.xticks(rotation=90)"
      ],
      "execution_count": 140,
      "outputs": [
        {
          "output_type": "execute_result",
          "data": {
            "text/plain": [
              "(array([ 0,  1,  2,  3,  4,  5,  6,  7,  8,  9, 10, 11]),\n",
              " <a list of 12 Text xticklabel objects>)"
            ]
          },
          "metadata": {
            "tags": []
          },
          "execution_count": 140
        },
        {
          "output_type": "display_data",
          "data": {
            "image/png": "[encoded data removed]",
            "text/plain": [
              "<Figure size 360x360 with 1 Axes>"
            ]
          },
          "metadata": {
            "tags": []
          }
        }
      ]
    },
    {
      "metadata": {
        "colab_type": "text",
        "id": "Fh9lCwC-ljb6"
      },
      "cell_type": "markdown",
      "source": [
        "### Create a [pivot table](https://pandas.pydata.org/pandas-docs/stable/generated/pandas.DataFrame.pivot_table.html) of passengers by month and year"
      ]
    },
    {
      "metadata": {
        "colab_type": "code",
        "id": "JJrQbsXxljb6",
        "colab": {
          "base_uri": "https://localhost:8080/",
          "height": 457
        },
        "outputId": "557d7c3c-9c4b-4e96-a02d-e41242617d5d"
      },
      "cell_type": "code",
      "source": [
        "table = flights.pivot_table('passengers','month','year')\n",
        "table"
      ],
      "execution_count": 141,
      "outputs": [
        {
          "output_type": "execute_result",
          "data": {
            "text/html": [
              "<div>\n",
              "<style scoped>\n",
              "    .dataframe tbody tr th:only-of-type {\n",
              "        vertical-align: middle;\n",
              "    }\n",
              "\n",
              "    .dataframe tbody tr th {\n",
              "        vertical-align: top;\n",
              "    }\n",
              "\n",
              "    .dataframe thead th {\n",
              "        text-align: right;\n",
              "    }\n",
              "</style>\n",
              "<table border=\"1\" class=\"dataframe\">\n",
              "  <thead>\n",
              "    <tr style=\"text-align: right;\">\n",
              "      <th>year</th>\n",
              "      <th>1949</th>\n",
              "      <th>1950</th>\n",
              "      <th>1951</th>\n",
              "      <th>1952</th>\n",
              "      <th>1953</th>\n",
              "      <th>1954</th>\n",
              "      <th>1955</th>\n",
              "      <th>1956</th>\n",
              "      <th>1957</th>\n",
              "      <th>1958</th>\n",
              "      <th>1959</th>\n",
              "      <th>1960</th>\n",
              "    </tr>\n",
              "    <tr>\n",
              "      <th>month</th>\n",
              "      <th></th>\n",
              "      <th></th>\n",
              "      <th></th>\n",
              "      <th></th>\n",
              "      <th></th>\n",
              "      <th></th>\n",
              "      <th></th>\n",
              "      <th></th>\n",
              "      <th></th>\n",
              "      <th></th>\n",
              "      <th></th>\n",
              "      <th></th>\n",
              "    </tr>\n",
              "  </thead>\n",
              "  <tbody>\n",
              "    <tr>\n",
              "      <th>January</th>\n",
              "      <td>112</td>\n",
              "      <td>115</td>\n",
              "      <td>145</td>\n",
              "      <td>171</td>\n",
              "      <td>196</td>\n",
              "      <td>204</td>\n",
              "      <td>242</td>\n",
              "      <td>284</td>\n",
              "      <td>315</td>\n",
              "      <td>340</td>\n",
              "      <td>360</td>\n",
              "      <td>417</td>\n",
              "    </tr>\n",
              "    <tr>\n",
              "      <th>February</th>\n",
              "      <td>118</td>\n",
              "      <td>126</td>\n",
              "      <td>150</td>\n",
              "      <td>180</td>\n",
              "      <td>196</td>\n",
              "      <td>188</td>\n",
              "      <td>233</td>\n",
              "      <td>277</td>\n",
              "      <td>301</td>\n",
              "      <td>318</td>\n",
              "      <td>342</td>\n",
              "      <td>391</td>\n",
              "    </tr>\n",
              "    <tr>\n",
              "      <th>March</th>\n",
              "      <td>132</td>\n",
              "      <td>141</td>\n",
              "      <td>178</td>\n",
              "      <td>193</td>\n",
              "      <td>236</td>\n",
              "      <td>235</td>\n",
              "      <td>267</td>\n",
              "      <td>317</td>\n",
              "      <td>356</td>\n",
              "      <td>362</td>\n",
              "      <td>406</td>\n",
              "      <td>419</td>\n",
              "    </tr>\n",
              "    <tr>\n",
              "      <th>April</th>\n",
              "      <td>129</td>\n",
              "      <td>135</td>\n",
              "      <td>163</td>\n",
              "      <td>181</td>\n",
              "      <td>235</td>\n",
              "      <td>227</td>\n",
              "      <td>269</td>\n",
              "      <td>313</td>\n",
              "      <td>348</td>\n",
              "      <td>348</td>\n",
              "      <td>396</td>\n",
              "      <td>461</td>\n",
              "    </tr>\n",
              "    <tr>\n",
              "      <th>May</th>\n",
              "      <td>121</td>\n",
              "      <td>125</td>\n",
              "      <td>172</td>\n",
              "      <td>183</td>\n",
              "      <td>229</td>\n",
              "      <td>234</td>\n",
              "      <td>270</td>\n",
              "      <td>318</td>\n",
              "      <td>355</td>\n",
              "      <td>363</td>\n",
              "      <td>420</td>\n",
              "      <td>472</td>\n",
              "    </tr>\n",
              "    <tr>\n",
              "      <th>June</th>\n",
              "      <td>135</td>\n",
              "      <td>149</td>\n",
              "      <td>178</td>\n",
              "      <td>218</td>\n",
              "      <td>243</td>\n",
              "      <td>264</td>\n",
              "      <td>315</td>\n",
              "      <td>374</td>\n",
              "      <td>422</td>\n",
              "      <td>435</td>\n",
              "      <td>472</td>\n",
              "      <td>535</td>\n",
              "    </tr>\n",
              "    <tr>\n",
              "      <th>July</th>\n",
              "      <td>148</td>\n",
              "      <td>170</td>\n",
              "      <td>199</td>\n",
              "      <td>230</td>\n",
              "      <td>264</td>\n",
              "      <td>302</td>\n",
              "      <td>364</td>\n",
              "      <td>413</td>\n",
              "      <td>465</td>\n",
              "      <td>491</td>\n",
              "      <td>548</td>\n",
              "      <td>622</td>\n",
              "    </tr>\n",
              "    <tr>\n",
              "      <th>August</th>\n",
              "      <td>148</td>\n",
              "      <td>170</td>\n",
              "      <td>199</td>\n",
              "      <td>242</td>\n",
              "      <td>272</td>\n",
              "      <td>293</td>\n",
              "      <td>347</td>\n",
              "      <td>405</td>\n",
              "      <td>467</td>\n",
              "      <td>505</td>\n",
              "      <td>559</td>\n",
              "      <td>606</td>\n",
              "    </tr>\n",
              "    <tr>\n",
              "      <th>September</th>\n",
              "      <td>136</td>\n",
              "      <td>158</td>\n",
              "      <td>184</td>\n",
              "      <td>209</td>\n",
              "      <td>237</td>\n",
              "      <td>259</td>\n",
              "      <td>312</td>\n",
              "      <td>355</td>\n",
              "      <td>404</td>\n",
              "      <td>404</td>\n",
              "      <td>463</td>\n",
              "      <td>508</td>\n",
              "    </tr>\n",
              "    <tr>\n",
              "      <th>October</th>\n",
              "      <td>119</td>\n",
              "      <td>133</td>\n",
              "      <td>162</td>\n",
              "      <td>191</td>\n",
              "      <td>211</td>\n",
              "      <td>229</td>\n",
              "      <td>274</td>\n",
              "      <td>306</td>\n",
              "      <td>347</td>\n",
              "      <td>359</td>\n",
              "      <td>407</td>\n",
              "      <td>461</td>\n",
              "    </tr>\n",
              "    <tr>\n",
              "      <th>November</th>\n",
              "      <td>104</td>\n",
              "      <td>114</td>\n",
              "      <td>146</td>\n",
              "      <td>172</td>\n",
              "      <td>180</td>\n",
              "      <td>203</td>\n",
              "      <td>237</td>\n",
              "      <td>271</td>\n",
              "      <td>305</td>\n",
              "      <td>310</td>\n",
              "      <td>362</td>\n",
              "      <td>390</td>\n",
              "    </tr>\n",
              "    <tr>\n",
              "      <th>December</th>\n",
              "      <td>118</td>\n",
              "      <td>140</td>\n",
              "      <td>166</td>\n",
              "      <td>194</td>\n",
              "      <td>201</td>\n",
              "      <td>229</td>\n",
              "      <td>278</td>\n",
              "      <td>306</td>\n",
              "      <td>336</td>\n",
              "      <td>337</td>\n",
              "      <td>405</td>\n",
              "      <td>432</td>\n",
              "    </tr>\n",
              "  </tbody>\n",
              "</table>\n",
              "</div>"
            ],
            "text/plain": [
              "year       1949  1950  1951  1952  1953  1954  1955  1956  1957  1958  1959  \\\n",
              "month                                                                         \n",
              "January     112   115   145   171   196   204   242   284   315   340   360   \n",
              "February    118   126   150   180   196   188   233   277   301   318   342   \n",
              "March       132   141   178   193   236   235   267   317   356   362   406   \n",
              "April       129   135   163   181   235   227   269   313   348   348   396   \n",
              "May         121   125   172   183   229   234   270   318   355   363   420   \n",
              "June        135   149   178   218   243   264   315   374   422   435   472   \n",
              "July        148   170   199   230   264   302   364   413   465   491   548   \n",
              "August      148   170   199   242   272   293   347   405   467   505   559   \n",
              "September   136   158   184   209   237   259   312   355   404   404   463   \n",
              "October     119   133   162   191   211   229   274   306   347   359   407   \n",
              "November    104   114   146   172   180   203   237   271   305   310   362   \n",
              "December    118   140   166   194   201   229   278   306   336   337   405   \n",
              "\n",
              "year       1960  \n",
              "month            \n",
              "January     417  \n",
              "February    391  \n",
              "March       419  \n",
              "April       461  \n",
              "May         472  \n",
              "June        535  \n",
              "July        622  \n",
              "August      606  \n",
              "September   508  \n",
              "October     461  \n",
              "November    390  \n",
              "December    432  "
            ]
          },
          "metadata": {
            "tags": []
          },
          "execution_count": 141
        }
      ]
    },
    {
      "metadata": {
        "colab_type": "text",
        "id": "MRast1t4ljb7"
      },
      "cell_type": "markdown",
      "source": [
        "### Plot the pivot table as a [heat map](https://seaborn.pydata.org/generated/seaborn.heatmap.html)"
      ]
    },
    {
      "metadata": {
        "colab_type": "code",
        "id": "nLGYX_5Bljb9",
        "colab": {
          "base_uri": "https://localhost:8080/",
          "height": 555
        },
        "outputId": "b06d8b82-7755-4863-8f5a-c83a76eb5223"
      },
      "cell_type": "code",
      "source": [
        "plt.figure(figsize=(16,9))\n",
        "sns.heatmap(table,annot=True,fmt='d');"
      ],
      "execution_count": 142,
      "outputs": [
        {
          "output_type": "display_data",
          "data": {
            "image/png": "[encoded data removed]",
            "text/plain": [
              "<Figure size 1152x648 with 2 Axes>"
            ]
          },
          "metadata": {
            "tags": []
          }
        }
      ]
    },
    {
      "metadata": {
        "colab_type": "text",
        "id": "xmEaapURMyKZ"
      },
      "cell_type": "markdown",
      "source": [
        "# ASSIGNMENT\n",
        "\n",
        "### 1.\n",
        "\n",
        "Replicate the lesson code. I recommend that you [do not copy-paste](https://docs.google.com/document/d/1ubOw9B3Hfip27hF2ZFnW3a3z9xAgrUDRReOEo-FHCVs/edit).  - ***Completed: See above***"
      ]
    },
    {
      "metadata": {
        "id": "IuRbRWz5dWTw",
        "colab_type": "text"
      },
      "cell_type": "markdown",
      "source": [
        "### 2.\n",
        "\n",
        "Choose a chart you want to make, from [Visual Vocabulary - Vega Edition](http://ft.com/vocabulary).\n",
        "\n",
        "Find the chart in an example gallery of a Python data visualization library:\n",
        "- [Seaborn](http://seaborn.pydata.org/examples/index.html)\n",
        "- [Altair](https://altair-viz.github.io/gallery/index.html)\n",
        "- [Matplotlib](https://matplotlib.org/gallery.html)\n",
        "- [Pandas](https://pandas.pydata.org/pandas-docs/stable/visualization.html)\n",
        "\n",
        "Reproduce the chart. [Optionally, try the \"Ben Franklin Method.\"](https://docs.google.com/document/d/1ubOw9B3Hfip27hF2ZFnW3a3z9xAgrUDRReOEo-FHCVs/edit) If you want, experiment and make changes.\n",
        "\n",
        "Take notes. Consider sharing your work with your cohort!"
      ]
    },
    {
      "metadata": {
        "id": "uEcvycghjhkZ",
        "colab_type": "text"
      },
      "cell_type": "markdown",
      "source": [
        "####Bubble Plot"
      ]
    },
    {
      "metadata": {
        "id": "puqDHGLJesrU",
        "colab_type": "code",
        "colab": {
          "base_uri": "https://localhost:8080/",
          "height": 441
        },
        "outputId": "5e7fd812-a632-4c48-c67e-dbbbaa3c502f"
      },
      "cell_type": "code",
      "source": [
        "#bubble plot with the tips data frame from above\n",
        "sns.relplot(x=\"total_bill\", y=\"tip\", hue=\"sex\", size=\"percent\",\n",
        "            sizes=(40, 400), alpha=.5, palette=\"muted\",\n",
        "            height=6, data=tips);"
      ],
      "execution_count": 143,
      "outputs": [
        {
          "output_type": "display_data",
          "data": {
            "image/png": "[encoded data removed]",
            "text/plain": [
              "<Figure size 506.375x432 with 1 Axes>"
            ]
          },
          "metadata": {
            "tags": []
          }
        }
      ]
    },
    {
      "metadata": {
        "id": "ZTtNR0xnjlJH",
        "colab_type": "text"
      },
      "cell_type": "markdown",
      "source": [
        "####Box Plot\n",
        "Imported the instacart data to test the data set usability after downcasting it to save space"
      ]
    },
    {
      "metadata": {
        "id": "grorTaROfpJm",
        "colab_type": "code",
        "colab": {}
      },
      "cell_type": "code",
      "source": [
        "!wget https://s3.amazonaws.com/instacart-datasets/instacart_online_grocery_shopping_2017_05_01.tar.gz\n",
        "!tar --gunzip --extract --verbose --file=instacart_online_grocery_shopping_2017_05_01.tar.gz\n",
        "%cd instacart_2017_05_01\n",
        "import pandas as pd"
      ],
      "execution_count": 0,
      "outputs": []
    },
    {
      "metadata": {
        "id": "xokGVfgyhxzb",
        "colab_type": "code",
        "colab": {}
      },
      "cell_type": "code",
      "source": [
        "data_types = {'order_id':'uint32',\n",
        "              'user_id':'uint32',\n",
        "              'eval_set':'category',\n",
        "              'order_number':'uint32',\n",
        "              'order_dow':'uint8',\n",
        "              'order_hour_of_day':'uint8',\n",
        "              'days_since_prior_order':'float16',\n",
        "              'product_id':'uint32', \n",
        "              'add_to_cart_order':'uint8', \n",
        "              'reordered':'bool',\n",
        "              'department_id':'uint8',\n",
        "              'aisle_id':'uint8'}\n",
        "              \n",
        "aisles = pd.read_csv('aisles.csv', dtype=data_types)\n",
        "departments = pd.read_csv('departments.csv', dtype=data_types)\n",
        "order_products_prior = pd.read_csv('order_products__prior.csv', dtype=data_types)\n",
        "order_products_train = pd.read_csv('order_products__train.csv', dtype=data_types)\n",
        "order_products = pd.concat([order_products_prior, order_products_train])\n",
        "orders = pd.read_csv('orders.csv', dtype=data_types)\n",
        "products = pd.read_csv('products.csv', dtype=data_types)\n",
        "orders = pd.read_csv('orders.csv', dtype=data_types)"
      ],
      "execution_count": 0,
      "outputs": []
    },
    {
      "metadata": {
        "id": "IKtrpaEAhzKS",
        "colab_type": "code",
        "colab": {}
      },
      "cell_type": "code",
      "source": [
        "instacart = orders.merge(order_products).merge(products).merge(aisles).merge(departments)"
      ],
      "execution_count": 0,
      "outputs": []
    },
    {
      "metadata": {
        "id": "7JfwY6eviC4y",
        "colab_type": "code",
        "colab": {
          "base_uri": "https://localhost:8080/",
          "height": 281
        },
        "outputId": "62b2c1d2-31d7-4596-987e-6002a37a89f0"
      },
      "cell_type": "code",
      "source": [
        "fig1, ax1 = plt.subplots()\n",
        "ax1.set_title('Order Hour of Day Spread')\n",
        "ax1.boxplot(instacart['order_hour_of_day']);"
      ],
      "execution_count": 10,
      "outputs": [
        {
          "output_type": "display_data",
          "data": {
            "image/png": "[encoded data removed]",
            "text/plain": [
              "<Figure size 432x288 with 1 Axes>"
            ]
          },
          "metadata": {
            "tags": []
          }
        }
      ]
    },
    {
      "metadata": {
        "id": "0TQax4MZkmDB",
        "colab_type": "text"
      },
      "cell_type": "markdown",
      "source": [
        "###Interactive Bar Plot"
      ]
    },
    {
      "metadata": {
        "id": "CxshA9Gci7ck",
        "colab_type": "code",
        "colab": {
          "base_uri": "https://localhost:8080/",
          "height": 204
        },
        "outputId": "41f8d8e2-5c97-4956-8a11-4493c3971a96"
      },
      "cell_type": "code",
      "source": [
        "source = alt.UrlData(\n",
        "    data.flights_2k.url,\n",
        "    format={'parse': {'date': 'date'}}\n",
        ")\n",
        "\n",
        "brush = alt.selection(type='interval', encodings=['x'])\n",
        "\n",
        "# Define the base chart, with the common parts of the\n",
        "# background and highlights\n",
        "base = alt.Chart().mark_bar().encode(\n",
        "    x=alt.X(alt.repeat('column'), type='quantitative', bin=alt.Bin(maxbins=20)),\n",
        "    y='count()'\n",
        ").properties(\n",
        "    width=180,\n",
        "    height=130\n",
        ")\n",
        "\n",
        "# blue background with selection\n",
        "background = base.properties(selection=brush)\n",
        "\n",
        "# yellow highlights on the transformed data\n",
        "highlight = base.encode(\n",
        "    color=alt.value('goldenrod')\n",
        ").transform_filter(brush)\n",
        "\n",
        "# layer the two charts & repeat\n",
        "alt.layer(\n",
        "    background,\n",
        "    highlight,\n",
        "    data=source\n",
        ").transform_calculate(\n",
        "    \"time\",\n",
        "    \"hours(datum.date)\"\n",
        ").repeat(column=[\"distance\", \"delay\", \"time\"])"
      ],
      "execution_count": 28,
      "outputs": [
        {
          "output_type": "execute_result",
          "data": {
            "text/plain": [
              "RepeatChart({\n",
              "  repeat: Repeat({\n",
              "    column: ['distance', 'delay', 'time']\n",
              "  }),\n",
              "  spec: LayerChart({\n",
              "    data: UrlData({\n",
              "      format: {'parse': {'date': 'date'}},\n",
              "      url: 'https://vega.github.io/vega-datasets/data/flights-2k.json'\n",
              "    }),\n",
              "    layer: [Chart({\n",
              "      encoding: EncodingWithFacet({\n",
              "        x: X({\n",
              "          bin: BinParams({\n",
              "            maxbins: 20\n",
              "          }),\n",
              "          shorthand: RepeatRef({\n",
              "            repeat: 'column'\n",
              "          }),\n",
              "          type: 'quantitative'\n",
              "        }),\n",
              "        y: Y({\n",
              "          shorthand: 'count()'\n",
              "        })\n",
              "      }),\n",
              "      height: 130,\n",
              "      mark: 'bar',\n",
              "      selection: NamedSelection({\n",
              "        selector001: SelectionDef({\n",
              "          encodings: ['x'],\n",
              "          type: 'interval'\n",
              "        })\n",
              "      }),\n",
              "      width: 180\n",
              "    }), Chart({\n",
              "      encoding: EncodingWithFacet({\n",
              "        color: ColorValue({\n",
              "          value: 'goldenrod'\n",
              "        }),\n",
              "        x: X({\n",
              "          bin: BinParams({\n",
              "            maxbins: 20\n",
              "          }),\n",
              "          shorthand: RepeatRef({\n",
              "            repeat: 'column'\n",
              "          }),\n",
              "          type: 'quantitative'\n",
              "        }),\n",
              "        y: Y({\n",
              "          shorthand: 'count()'\n",
              "        })\n",
              "      }),\n",
              "      height: 130,\n",
              "      mark: 'bar',\n",
              "      transform: [FilterTransform({\n",
              "        filter: {'selection': 'selector001'}\n",
              "      })],\n",
              "      width: 180\n",
              "    })],\n",
              "    transform: [CalculateTransform({\n",
              "      as: 'time',\n",
              "      calculate: 'hours(datum.date)'\n",
              "    })]\n",
              "  })\n",
              "})"
            ],
            "text/html": [
              "<!DOCTYPE html>\n",
              "<html>\n",
              "<head>\n",
              "  <style>\n",
              "    .vega-actions a {\n",
              "        margin-right: 12px;\n",
              "        color: #757575;\n",
              "        font-weight: normal;\n",
              "        font-size: 13px;\n",
              "    }\n",
              "    .error {\n",
              "        color: red;\n",
              "    }\n",
              "  </style>\n",
              "  <script type=\"text/javascript\" src=\"https://cdn.jsdelivr.net/npm//vega@4\"></script>\n",
              "  <script type=\"text/javascript\" src=\"https://cdn.jsdelivr.net/npm//vega-lite@2.6.0\"></script>\n",
              "  <script type=\"text/javascript\" src=\"https://cdn.jsdelivr.net/npm//vega-embed@3\"></script>\n",
              "</head>\n",
              "<body>\n",
              "  <div id=\"altair-viz\"></div>\n",
              "  <script>\n",
              "      var spec = {\"config\": {\"view\": {\"width\": 400, \"height\": 300}}, \"repeat\": {\"column\": [\"distance\", \"delay\", \"time\"]}, \"spec\": {\"layer\": [{\"mark\": \"bar\", \"encoding\": {\"x\": {\"type\": \"quantitative\", \"bin\": {\"maxbins\": 20}, \"field\": {\"repeat\": \"column\"}}, \"y\": {\"type\": \"quantitative\", \"aggregate\": \"count\"}}, \"height\": 130, \"selection\": {\"selector001\": {\"type\": \"interval\", \"encodings\": [\"x\"]}}, \"width\": 180}, {\"mark\": \"bar\", \"encoding\": {\"color\": {\"value\": \"goldenrod\"}, \"x\": {\"type\": \"quantitative\", \"bin\": {\"maxbins\": 20}, \"field\": {\"repeat\": \"column\"}}, \"y\": {\"type\": \"quantitative\", \"aggregate\": \"count\"}}, \"height\": 130, \"transform\": [{\"filter\": {\"selection\": \"selector001\"}}], \"width\": 180}], \"data\": {\"url\": \"https://vega.github.io/vega-datasets/data/flights-2k.json\", \"format\": {\"parse\": {\"date\": \"date\"}}}, \"transform\": [{\"calculate\": \"hours(datum.date)\", \"as\": \"time\"}]}, \"$schema\": \"https://vega.github.io/schema/vega-lite/v2.6.0.json\"};\n",
              "      var embedOpt = {\"mode\": \"vega-lite\"};\n",
              "\n",
              "      function showError(el, error){\n",
              "          el.innerHTML = ('<div class=\"error\" style=\"color:red;\">'\n",
              "                          + '<p>JavaScript Error: ' + error.message + '</p>'\n",
              "                          + \"<p>This usually means there's a typo in your chart specification. \"\n",
              "                          + \"See the javascript console for the full traceback.</p>\"\n",
              "                          + '</div>');\n",
              "          throw error;\n",
              "      }\n",
              "      const el = document.getElementById('altair-viz');\n",
              "      vegaEmbed(\"#altair-viz\", spec, embedOpt)\n",
              "        .catch(error => showError(el, error));\n",
              "\n",
              "  </script>\n",
              "</body>\n",
              "</html>"
            ]
          },
          "metadata": {
            "tags": []
          },
          "execution_count": 28
        }
      ]
    },
    {
      "metadata": {
        "id": "OTGCXN7QoTYJ",
        "colab_type": "text"
      },
      "cell_type": "markdown",
      "source": [
        "###Bar Chart with Negative Values\n",
        "Plotting employment change during the Great Recession"
      ]
    },
    {
      "metadata": {
        "id": "7DGjgXVSmmQe",
        "colab_type": "code",
        "colab": {
          "base_uri": "https://localhost:8080/",
          "height": 373
        },
        "outputId": "ce6ceab1-4ea8-4381-f093-4c410de90e69"
      },
      "cell_type": "code",
      "source": [
        "import altair as alt\n",
        "import pandas as pd\n",
        "from vega_datasets import data\n",
        "\n",
        "#setting up the data sets needed for the graph\n",
        "source = data.us_employment()\n",
        "presidents = pd.DataFrame([\n",
        "    {\n",
        "        \"start\": \"2006-01-01\",\n",
        "        \"end\": \"2009-01-19\",\n",
        "        \"president\": \"Bush\"\n",
        "    },\n",
        "    {\n",
        "        \"start\": \"2009-01-20\",\n",
        "        \"end\": \"2015-12-31\",\n",
        "        \"president\": \"Obama\"\n",
        "    }\n",
        "])\n",
        "\n",
        "#defining coloring, titles, and labels - This chunk is the core of the graph\n",
        "bars = alt.Chart(\n",
        "    source,\n",
        "    title=\"The U.S. employment crash during the Great Recession\"\n",
        ").mark_bar().encode(\n",
        "    x=alt.X(\"month:T\", title=\"\"),\n",
        "    y=alt.Y(\"nonfarm_change:Q\", title=\"Change in non-farm employment (in thousands)\"),\n",
        "    color=alt.condition(             #coloring based on condition\n",
        "        alt.datum.nonfarm_change > 0, \n",
        "        alt.value(\"green\"),\n",
        "        alt.value(\"red\")\n",
        "    )\n",
        ")\n",
        "\n",
        "#Place a vertical line at change of president\n",
        "rule = alt.Chart(presidents).mark_rule(\n",
        "    color=\"black\",\n",
        "    strokeWidth=2\n",
        ").encode(\n",
        "    x='end:T'\n",
        ").transform_filter(alt.datum.president == \"Bush\")\n",
        "\n",
        "#Setting text on the graph\n",
        "text = alt.Chart(presidents).mark_text(\n",
        "    align='left',\n",
        "    baseline='middle',\n",
        "    dx=7,\n",
        "    dy=-135,\n",
        "    size=11\n",
        ").encode(\n",
        "    x='start:T',\n",
        "    x2='end:T',\n",
        "    text='president',\n",
        "    color=alt.value('#000000')\n",
        ")\n",
        "\n",
        "(bars + rule + text).properties(width=600)"
      ],
      "execution_count": 7,
      "outputs": [
        {
          "output_type": "execute_result",
          "data": {
            "text/plain": [
              "LayerChart({\n",
              "  layer: [Chart({\n",
              "    data:           month  nonfarm  private  goods_producing  service_providing  \\\n",
              "    0    2006-01-01   135450   113603            22467             112983   \n",
              "    1    2006-02-01   135762   113884            22535             113227   \n",
              "    2    2006-03-01   136059   114156            22572             113487   \n",
              "    3    2006-04-01   136227   114308            22631             113596   \n",
              "    4    2006-05-01   136258   114332            22597             113661   \n",
              "    5    2006-06-01   136337   114415            22598             113739   \n",
              "    6    2006-07-01   136543   114570            22590             113953   \n",
              "    7    2006-08-01   136722   114711            22572             114150   \n",
              "    8    2006-09-01   136870   114788            22537             114333   \n",
              "    9    2006-10-01   136882   114814            22456             114426   \n",
              "    10   2006-11-01   137090   115007            22408             114682   \n",
              "    11   2006-12-01   137263   115175            22405             114858   \n",
              "    12   2007-01-01   137497   115402            22439             115058   \n",
              "    13   2007-02-01   137582   115451            22334             115248   \n",
              "    14   2007-03-01   137796   115647            22391             115405   \n",
              "    15   2007-04-01   137855   115680            22350             115505   \n",
              "    16   2007-05-01   138008   115815            22323             115685   \n",
              "    17   2007-06-01   138085   115878            22323             115762   \n",
              "    18   2007-07-01   138055   115884            22277             115778   \n",
              "    19   2007-08-01   138027   115801            22165             115862   \n",
              "    20   2007-09-01   138123   115844            22093             116030   \n",
              "    21   2007-10-01   138201   115904            22056             116145   \n",
              "    22   2007-11-01   138307   115973            22015             116292   \n",
              "    23   2007-12-01   138411   116035            21976             116435   \n",
              "    24   2008-01-01   138419   116031            21947             116472   \n",
              "    25   2008-02-01   138338   115921            21897             116441   \n",
              "    26   2008-03-01   138283   115840            21820             116463   \n",
              "    27   2008-04-01   138054   115604            21681             116373   \n",
              "    28   2008-05-01   137870   115387            21599             116271   \n",
              "    29   2008-06-01   137716   115199            21483             116233   \n",
              "    ..          ...      ...      ...              ...                ...   \n",
              "    90   2013-07-01   136391   114576            18705             117686   \n",
              "    91   2013-08-01   136651   114820            18756             117895   \n",
              "    92   2013-09-01   136852   115017            18810             118042   \n",
              "    93   2013-10-01   137062   115232            18857             118205   \n",
              "    94   2013-11-01   137283   115440            18911             118372   \n",
              "    95   2013-12-01   137376   115556            18881             118495   \n",
              "    96   2014-01-01   137550   115740            18934             118616   \n",
              "    97   2014-02-01   137732   115909            18986             118746   \n",
              "    98   2014-03-01   137993   116162            19041             118952   \n",
              "    99   2014-04-01   138304   116447            19102             119202   \n",
              "    100  2014-05-01   138556   116693            19145             119411   \n",
              "    101  2014-06-01   138862   116967            19194             119668   \n",
              "    102  2014-07-01   139058   117180            19261             119797   \n",
              "    103  2014-08-01   139284   117421            19307             119977   \n",
              "    104  2014-09-01   139568   117672            19364             120204   \n",
              "    105  2014-10-01   139823   117906            19411             120412   \n",
              "    106  2014-11-01   140130   118196            19451             120679   \n",
              "    107  2014-12-01   140381   118432            19482             120899   \n",
              "    108  2015-01-01   140592   118637            19516             121076   \n",
              "    109  2015-02-01   140859   118884            19532             121327   \n",
              "    110  2015-03-01   140937   118973            19512             121425   \n",
              "    111  2015-04-01   141219   119219            19551             121668   \n",
              "    112  2015-05-01   141545   119535            19584             121961   \n",
              "    113  2015-06-01   141736   119724            19601             122135   \n",
              "    114  2015-07-01   141992   119958            19629             122363   \n",
              "    115  2015-08-01   142156   120084            19628             122528   \n",
              "    116  2015-09-01   142244   120203            19622             122622   \n",
              "    117  2015-10-01   142595   120536            19669             122926   \n",
              "    118  2015-11-01   142859   120775            19701             123158   \n",
              "    119  2015-12-01   143093   120993            19737             123356   \n",
              "    \n",
              "         private_service_providing  mining_and_logging  construction  \\\n",
              "    0                        91136                 656          7601   \n",
              "    1                        91349                 662          7664   \n",
              "    2                        91584                 669          7689   \n",
              "    3                        91677                 679          7726   \n",
              "    4                        91735                 681          7713   \n",
              "    5                        91817                 686          7699   \n",
              "    6                        91980                 690          7712   \n",
              "    7                        92139                 693          7720   \n",
              "    8                        92251                 694          7718   \n",
              "    9                        92358                 699          7682   \n",
              "    10                       92599                 701          7666   \n",
              "    11                       92770                 705          7685   \n",
              "    12                       92963                 706          7725   \n",
              "    13                       93117                 711          7626   \n",
              "    14                       93256                 715          7706   \n",
              "    15                       93330                 719          7686   \n",
              "    16                       93492                 721          7673   \n",
              "    17                       93555                 725          7687   \n",
              "    18                       93607                 728          7660   \n",
              "    19                       93636                 727          7610   \n",
              "    20                       93751                 726          7577   \n",
              "    21                       93848                 727          7565   \n",
              "    22                       93958                 735          7523   \n",
              "    23                       94059                 740          7490   \n",
              "    24                       94084                 746          7476   \n",
              "    25                       94024                 748          7453   \n",
              "    26                       94020                 755          7406   \n",
              "    27                       93923                 755          7327   \n",
              "    28                       93788                 761          7274   \n",
              "    29                       93716                 766          7213   \n",
              "    ..                         ...                 ...           ...   \n",
              "    90                       95871                 862          5859   \n",
              "    91                       96064                 864          5878   \n",
              "    92                       96207                 868          5910   \n",
              "    93                       96375                 870          5931   \n",
              "    94                       96529                 869          5963   \n",
              "    95                       96675                 866          5932   \n",
              "    96                       96806                 871          5981   \n",
              "    97                       96923                 874          6007   \n",
              "    98                       97121                 879          6041   \n",
              "    99                       97345                 886          6081   \n",
              "    100                      97548                 887          6111   \n",
              "    101                      97773                 892          6131   \n",
              "    102                      97919                 897          6174   \n",
              "    103                      98114                 897          6204   \n",
              "    104                      98308                 904          6236   \n",
              "    105                      98495                 901          6254   \n",
              "    106                      98745                 899          6270   \n",
              "    107                      98950                 896          6295   \n",
              "    108                      99121                 888          6332   \n",
              "    109                      99352                 875          6356   \n",
              "    110                      99461                 859          6340   \n",
              "    111                      99668                 843          6390   \n",
              "    112                      99951                 820          6428   \n",
              "    113                     100123                 817          6444   \n",
              "    114                     100329                 808          6466   \n",
              "    115                     100456                 797          6485   \n",
              "    116                     100581                 779          6498   \n",
              "    117                     100867                 771          6540   \n",
              "    118                     101074                 755          6592   \n",
              "    119                     101256                 745          6632   \n",
              "    \n",
              "         manufacturing  durable_goods       ...        \\\n",
              "    0            14210           8982       ...         \n",
              "    1            14209           8986       ...         \n",
              "    2            14214           9000       ...         \n",
              "    3            14226           9020       ...         \n",
              "    4            14203           9017       ...         \n",
              "    5            14213           9028       ...         \n",
              "    6            14188           9008       ...         \n",
              "    7            14159           8992       ...         \n",
              "    8            14125           8972       ...         \n",
              "    9            14075           8945       ...         \n",
              "    10           14041           8918       ...         \n",
              "    11           14015           8913       ...         \n",
              "    12           14008           8890       ...         \n",
              "    13           13997           8889       ...         \n",
              "    14           13970           8871       ...         \n",
              "    15           13945           8860       ...         \n",
              "    16           13929           8846       ...         \n",
              "    17           13911           8830       ...         \n",
              "    18           13889           8815       ...         \n",
              "    19           13828           8778       ...         \n",
              "    20           13790           8752       ...         \n",
              "    21           13764           8727       ...         \n",
              "    22           13757           8724       ...         \n",
              "    23           13746           8707       ...         \n",
              "    24           13725           8693       ...         \n",
              "    25           13696           8673       ...         \n",
              "    26           13659           8646       ...         \n",
              "    27           13599           8597       ...         \n",
              "    28           13564           8579       ...         \n",
              "    29           13504           8542       ...         \n",
              "    ..             ...            ...       ...         \n",
              "    90           11984           7517       ...         \n",
              "    91           12014           7547       ...         \n",
              "    92           12032           7564       ...         \n",
              "    93           12056           7576       ...         \n",
              "    94           12079           7589       ...         \n",
              "    95           12083           7591       ...         \n",
              "    96           12082           7584       ...         \n",
              "    97           12105           7604       ...         \n",
              "    98           12121           7622       ...         \n",
              "    99           12135           7633       ...         \n",
              "    100          12147           7649       ...         \n",
              "    101          12171           7670       ...         \n",
              "    102          12190           7687       ...         \n",
              "    103          12206           7698       ...         \n",
              "    104          12224           7708       ...         \n",
              "    105          12256           7729       ...         \n",
              "    106          12282           7746       ...         \n",
              "    107          12291           7751       ...         \n",
              "    108          12296           7754       ...         \n",
              "    109          12301           7761       ...         \n",
              "    110          12313           7766       ...         \n",
              "    111          12318           7764       ...         \n",
              "    112          12336           7774       ...         \n",
              "    113          12340           7776       ...         \n",
              "    114          12355           7776       ...         \n",
              "    115          12346           7774       ...         \n",
              "    116          12345           7770       ...         \n",
              "    117          12358           7768       ...         \n",
              "    118          12354           7753       ...         \n",
              "    119          12360           7747       ...         \n",
              "    \n",
              "         transportation_and_warehousing  utilities  information  \\\n",
              "    0                            4420.0      549.8         3052   \n",
              "    1                            4429.4      550.1         3052   \n",
              "    2                            4429.7      547.5         3055   \n",
              "    3                            4445.4      548.9         3046   \n",
              "    4                            4459.4      548.3         3039   \n",
              "    5                            4465.1      547.6         3036   \n",
              "    6                            4479.3      547.9         3031   \n",
              "    7                            4479.5      548.0         3035   \n",
              "    8                            4486.6      548.5         3028   \n",
              "    9                            4496.1      546.9         3024   \n",
              "    10                           4509.3      548.0         3025   \n",
              "    11                           4529.2      548.5         3032   \n",
              "    12                           4530.2      548.6         3029   \n",
              "    13                           4530.1      548.5         3033   \n",
              "    14                           4535.3      549.1         3029   \n",
              "    15                           4537.6      551.4         3034   \n",
              "    16                           4541.1      553.7         3040   \n",
              "    17                           4538.3      554.9         3038   \n",
              "    18                           4539.1      555.0         3037   \n",
              "    19                           4534.7      555.8         3029   \n",
              "    20                           4559.9      555.4         3030   \n",
              "    21                           4555.1      555.8         3028   \n",
              "    22                           4551.1      555.5         3025   \n",
              "    23                           4548.0      557.1         3024   \n",
              "    24                           4551.4      557.0         3025   \n",
              "    25                           4552.3      556.3         3019   \n",
              "    26                           4554.8      556.4         3021   \n",
              "    27                           4560.6      556.9         3012   \n",
              "    28                           4543.8      556.8         3008   \n",
              "    29                           4536.6      557.8         3001   \n",
              "    ..                              ...        ...          ...   \n",
              "    90                           4470.6      551.4         2720   \n",
              "    91                           4488.2      551.0         2690   \n",
              "    92                           4518.4      551.4         2707   \n",
              "    93                           4522.8      551.1         2719   \n",
              "    94                           4541.5      552.2         2724   \n",
              "    95                           4549.5      550.5         2726   \n",
              "    96                           4569.7      549.2         2723   \n",
              "    97                           4570.5      549.0         2719   \n",
              "    98                           4584.6      551.1         2724   \n",
              "    99                           4598.4      550.2         2722   \n",
              "    100                          4627.4      550.1         2718   \n",
              "    101                          4650.8      551.0         2724   \n",
              "    102                          4669.7      551.2         2727   \n",
              "    103                          4685.0      553.1         2734   \n",
              "    104                          4701.5      551.3         2732   \n",
              "    105                          4722.7      552.0         2728   \n",
              "    106                          4739.4      552.4         2736   \n",
              "    107                          4769.1      554.1         2737   \n",
              "    108                          4791.6      554.6         2737   \n",
              "    109                          4799.6      554.2         2741   \n",
              "    110                          4813.6      554.7         2735   \n",
              "    111                          4824.0      555.1         2742   \n",
              "    112                          4843.7      556.2         2750   \n",
              "    113                          4869.7      555.6         2751   \n",
              "    114                          4892.0      557.2         2754   \n",
              "    115                          4903.8      557.8         2754   \n",
              "    116                          4910.9      556.7         2761   \n",
              "    117                          4903.0      555.9         2768   \n",
              "    118                          4924.7      556.6         2754   \n",
              "    119                          4950.9      556.5         2762   \n",
              "    \n",
              "         financial_activities  professional_and_business_services  \\\n",
              "    0                    8307                               17299   \n",
              "    1                    8332                               17365   \n",
              "    2                    8348                               17438   \n",
              "    3                    8369                               17462   \n",
              "    4                    8376                               17512   \n",
              "    5                    8362                               17583   \n",
              "    6                    8366                               17632   \n",
              "    7                    8374                               17681   \n",
              "    8                    8390                               17676   \n",
              "    9                    8385                               17685   \n",
              "    10                   8394                               17745   \n",
              "    11                   8394                               17771   \n",
              "    12                   8389                               17834   \n",
              "    13                   8390                               17868   \n",
              "    14                   8379                               17880   \n",
              "    15                   8360                               17906   \n",
              "    16                   8371                               17939   \n",
              "    17                   8369                               17949   \n",
              "    18                   8370                               17959   \n",
              "    19                   8341                               17967   \n",
              "    20                   8319                               17979   \n",
              "    21                   8306                               18010   \n",
              "    22                   8292                               18009   \n",
              "    23                   8282                               18051   \n",
              "    24                   8277                               18030   \n",
              "    25                   8268                               17985   \n",
              "    26                   8266                               17942   \n",
              "    27                   8258                               17939   \n",
              "    28                   8246                               17882   \n",
              "    29                   8236                               17850   \n",
              "    ..                    ...                                 ...   \n",
              "    90                   7903                               18566   \n",
              "    91                   7901                               18603   \n",
              "    92                   7904                               18643   \n",
              "    93                   7910                               18666   \n",
              "    94                   7912                               18700   \n",
              "    95                   7914                               18712   \n",
              "    96                   7915                               18773   \n",
              "    97                   7932                               18844   \n",
              "    98                   7933                               18887   \n",
              "    99                   7945                               18943   \n",
              "    100                  7953                               18984   \n",
              "    101                  7965                               19048   \n",
              "    102                  7978                               19083   \n",
              "    103                  7993                               19143   \n",
              "    104                  8008                               19200   \n",
              "    105                  8020                               19219   \n",
              "    106                  8034                               19283   \n",
              "    107                  8042                               19350   \n",
              "    108                  8060                               19371   \n",
              "    109                  8072                               19424   \n",
              "    110                  8082                               19447   \n",
              "    111                  8087                               19499   \n",
              "    112                  8096                               19571   \n",
              "    113                  8112                               19634   \n",
              "    114                  8134                               19665   \n",
              "    115                  8146                               19697   \n",
              "    116                  8152                               19717   \n",
              "    117                  8168                               19791   \n",
              "    118                  8181                               19835   \n",
              "    119                  8188                               19892   \n",
              "    \n",
              "         education_and_health_services  leisure_and_hospitality  other_services  \\\n",
              "    0                            17946                    12945            5425   \n",
              "    1                            17998                    12980            5426   \n",
              "    2                            18045                    13034            5425   \n",
              "    3                            18070                    13074            5426   \n",
              "    4                            18100                    13052            5433   \n",
              "    5                            18102                    13061            5432   \n",
              "    6                            18128                    13130            5429   \n",
              "    7                            18182                    13152            5432   \n",
              "    8                            18248                    13150            5448   \n",
              "    9                            18288                    13187            5454   \n",
              "    10                           18337                    13251            5455   \n",
              "    11                           18378                    13292            5466   \n",
              "    12                           18415                    13338            5467   \n",
              "    13                           18451                    13361            5474   \n",
              "    14                           18507                    13363            5484   \n",
              "    15                           18563                    13375            5491   \n",
              "    16                           18608                    13404            5496   \n",
              "    17                           18661                    13413            5499   \n",
              "    18                           18691                    13417            5500   \n",
              "    19                           18755                    13419            5496   \n",
              "    20                           18812                    13461            5492   \n",
              "    21                           18849                    13499            5494   \n",
              "    22                           18875                    13535            5505   \n",
              "    23                           18924                    13550            5516   \n",
              "    24                           18978                    13542            5522   \n",
              "    25                           19018                    13543            5533   \n",
              "    26                           19068                    13531            5539   \n",
              "    27                           19126                    13511            5540   \n",
              "    28                           19166                    13498            5536   \n",
              "    29                           19224                    13482            5525   \n",
              "    ..                             ...                      ...             ...   \n",
              "    90                           21074                    14288            5483   \n",
              "    91                           21143                    14327            5494   \n",
              "    92                           21133                    14339            5502   \n",
              "    93                           21158                    14395            5509   \n",
              "    94                           21194                    14432            5513   \n",
              "    95                           21196                    14454            5525   \n",
              "    96                           21225                    14486            5533   \n",
              "    97                           21246                    14516            5534   \n",
              "    98                           21292                    14562            5553   \n",
              "    99                           21314                    14610            5564   \n",
              "    100                          21370                    14663            5567   \n",
              "    101                          21416                    14689            5563   \n",
              "    102                          21449                    14702            5565   \n",
              "    103                          21499                    14727            5581   \n",
              "    104                          21540                    14771            5574   \n",
              "    105                          21575                    14818            5580   \n",
              "    106                          21625                    14847            5591   \n",
              "    107                          21676                    14890            5592   \n",
              "    108                          21741                    14916            5599   \n",
              "    109                          21787                    14990            5605   \n",
              "    110                          21829                    14990            5606   \n",
              "    111                          21905                    15019            5613   \n",
              "    112                          21952                    15101            5624   \n",
              "    113                          22002                    15109            5618   \n",
              "    114                          22051                    15154            5629   \n",
              "    115                          22093                    15201            5619   \n",
              "    116                          22138                    15263            5620   \n",
              "    117                          22217                    15324            5629   \n",
              "    118                          22263                    15366            5638   \n",
              "    119                          22318                    15408            5652   \n",
              "    \n",
              "         government  nonfarm_change  \n",
              "    0         21847             282  \n",
              "    1         21878             312  \n",
              "    2         21903             297  \n",
              "    3         21919             168  \n",
              "    4         21926              31  \n",
              "    5         21922              79  \n",
              "    6         21973             206  \n",
              "    7         22011             179  \n",
              "    8         22082             148  \n",
              "    9         22068              12  \n",
              "    10        22083             208  \n",
              "    11        22088             173  \n",
              "    12        22095             234  \n",
              "    13        22131              85  \n",
              "    14        22149             214  \n",
              "    15        22175              59  \n",
              "    16        22193             153  \n",
              "    17        22207              77  \n",
              "    18        22171             -30  \n",
              "    19        22226             -28  \n",
              "    20        22279              96  \n",
              "    21        22297              78  \n",
              "    22        22334             106  \n",
              "    23        22376             104  \n",
              "    24        22388               8  \n",
              "    25        22417             -81  \n",
              "    26        22443             -55  \n",
              "    27        22450            -229  \n",
              "    28        22483            -184  \n",
              "    29        22517            -154  \n",
              "    ..          ...             ...  \n",
              "    90        21815             111  \n",
              "    91        21831             260  \n",
              "    92        21835             201  \n",
              "    93        21830             210  \n",
              "    94        21843             221  \n",
              "    95        21820              93  \n",
              "    96        21810             174  \n",
              "    97        21823             182  \n",
              "    98        21831             261  \n",
              "    99        21857             311  \n",
              "    100       21863             252  \n",
              "    101       21895             306  \n",
              "    102       21878             196  \n",
              "    103       21863             226  \n",
              "    104       21896             284  \n",
              "    105       21917             255  \n",
              "    106       21934             307  \n",
              "    107       21949             251  \n",
              "    108       21955             211  \n",
              "    109       21975             267  \n",
              "    110       21964              78  \n",
              "    111       22000             282  \n",
              "    112       22010             326  \n",
              "    113       22012             191  \n",
              "    114       22034             256  \n",
              "    115       22072             164  \n",
              "    116       22041              88  \n",
              "    117       22059             351  \n",
              "    118       22084             264  \n",
              "    119       22100             234  \n",
              "    \n",
              "    [120 rows x 24 columns],\n",
              "    encoding: EncodingWithFacet({\n",
              "      color: ColorValue({\n",
              "        condition: ColorValue({\n",
              "          test: (datum.nonfarm_change > 0),\n",
              "          value: 'green'\n",
              "        }),\n",
              "        value: 'red'\n",
              "      }),\n",
              "      x: X({\n",
              "        shorthand: 'month:T',\n",
              "        title: ''\n",
              "      }),\n",
              "      y: Y({\n",
              "        shorthand: 'nonfarm_change:Q',\n",
              "        title: 'Change in non-farm employment (in thousands)'\n",
              "      })\n",
              "    }),\n",
              "    mark: 'bar',\n",
              "    title: 'The U.S. employment crash during the Great Recession'\n",
              "  }), Chart({\n",
              "    data:           end president       start\n",
              "    0  2009-01-19      Bush  2006-01-01\n",
              "    1  2015-12-31     Obama  2009-01-20,\n",
              "    encoding: EncodingWithFacet({\n",
              "      x: X({\n",
              "        shorthand: 'end:T'\n",
              "      })\n",
              "    }),\n",
              "    mark: MarkDef({\n",
              "      color: 'black',\n",
              "      strokeWidth: 2,\n",
              "      type: 'rule'\n",
              "    }),\n",
              "    transform: [FilterTransform({\n",
              "      filter: (datum.president === 'Bush')\n",
              "    })]\n",
              "  }), Chart({\n",
              "    data:           end president       start\n",
              "    0  2009-01-19      Bush  2006-01-01\n",
              "    1  2015-12-31     Obama  2009-01-20,\n",
              "    encoding: EncodingWithFacet({\n",
              "      color: ColorValue({\n",
              "        value: '#000000'\n",
              "      }),\n",
              "      text: Text({\n",
              "        shorthand: 'president'\n",
              "      }),\n",
              "      x: X({\n",
              "        shorthand: 'start:T'\n",
              "      }),\n",
              "      x2: X2({\n",
              "        shorthand: 'end:T'\n",
              "      })\n",
              "    }),\n",
              "    mark: MarkDef({\n",
              "      align: 'left',\n",
              "      baseline: 'middle',\n",
              "      dx: 7,\n",
              "      dy: -135,\n",
              "      size: 11,\n",
              "      type: 'text'\n",
              "    })\n",
              "  })],\n",
              "  width: 600\n",
              "})"
            ],
            "text/html": [
              "<!DOCTYPE html>\n",
              "<html>\n",
              "<head>\n",
              "  <style>\n",
              "    .vega-actions a {\n",
              "        margin-right: 12px;\n",
              "        color: #757575;\n",
              "        font-weight: normal;\n",
              "        font-size: 13px;\n",
              "    }\n",
              "    .error {\n",
              "        color: red;\n",
              "    }\n",
              "  </style>\n",
              "  <script type=\"text/javascript\" src=\"https://cdn.jsdelivr.net/npm//vega@4\"></script>\n",
              "  <script type=\"text/javascript\" src=\"https://cdn.jsdelivr.net/npm//vega-lite@2.6.0\"></script>\n",
              "  <script type=\"text/javascript\" src=\"https://cdn.jsdelivr.net/npm//vega-embed@3\"></script>\n",
              "</head>\n",
              "<body>\n",
              "  <div id=\"altair-viz\"></div>\n",
              "  <script>\n",
              "      var spec = {\"config\": {\"view\": {\"width\": 400, \"height\": 300}}, \"layer\": [{\"data\": {\"name\": \"data-60e3b6f2e240ab5be59fc377b9a014c5\"}, \"mark\": \"bar\", \"encoding\": {\"color\": {\"condition\": {\"value\": \"green\", \"test\": \"(datum.nonfarm_change > 0)\"}, \"value\": \"red\"}, \"x\": {\"type\": \"temporal\", \"field\": \"month\", \"title\": \"\"}, \"y\": {\"type\": \"quantitative\", \"field\": \"nonfarm_change\", \"title\": \"Change in non-farm employment (in thousands)\"}}, \"title\": \"The U.S. employment crash during the Great Recession\"}, {\"data\": {\"name\": \"data-4464eab5de1054f6c3b8d89b9e0a031a\"}, \"mark\": {\"type\": \"rule\", \"color\": \"black\", \"strokeWidth\": 2}, \"encoding\": {\"x\": {\"type\": \"temporal\", \"field\": \"end\"}}, \"transform\": [{\"filter\": \"(datum.president === 'Bush')\"}]}, {\"data\": {\"name\": \"data-4464eab5de1054f6c3b8d89b9e0a031a\"}, \"mark\": {\"type\": \"text\", \"align\": \"left\", \"baseline\": \"middle\", \"dx\": 7, \"dy\": -135, \"size\": 11}, \"encoding\": {\"color\": {\"value\": \"#000000\"}, \"text\": {\"type\": \"nominal\", \"field\": \"president\"}, \"x\": {\"type\": \"temporal\", \"field\": \"start\"}, \"x2\": {\"type\": \"temporal\", \"field\": \"end\"}}}], \"width\": 600, \"$schema\": \"https://vega.github.io/schema/vega-lite/v2.6.0.json\", \"datasets\": {\"data-60e3b6f2e240ab5be59fc377b9a014c5\": [{\"month\": \"2006-01-01\", \"nonfarm\": 135450, \"private\": 113603, \"goods_producing\": 22467, \"service_providing\": 112983, \"private_service_providing\": 91136, \"mining_and_logging\": 656, \"construction\": 7601, \"manufacturing\": 14210, \"durable_goods\": 8982, \"nondurable_goods\": 5228, \"trade_transportation_utilties\": 26162, \"wholesale_trade\": 5840.4, \"retail_trade\": 15351.5, \"transportation_and_warehousing\": 4420.0, \"utilities\": 549.8, \"information\": 3052, \"financial_activities\": 8307, \"professional_and_business_services\": 17299, \"education_and_health_services\": 17946, \"leisure_and_hospitality\": 12945, \"other_services\": 5425, \"government\": 21847, \"nonfarm_change\": 282}, {\"month\": \"2006-02-01\", \"nonfarm\": 135762, \"private\": 113884, \"goods_producing\": 22535, \"service_providing\": 113227, \"private_service_providing\": 91349, \"mining_and_logging\": 662, \"construction\": 7664, \"manufacturing\": 14209, \"durable_goods\": 8986, \"nondurable_goods\": 5223, \"trade_transportation_utilties\": 26196, \"wholesale_trade\": 5854.8, \"retail_trade\": 15361.3, \"transportation_and_warehousing\": 4429.4, \"utilities\": 550.1, \"information\": 3052, \"financial_activities\": 8332, \"professional_and_business_services\": 17365, \"education_and_health_services\": 17998, \"leisure_and_hospitality\": 12980, \"other_services\": 5426, \"government\": 21878, \"nonfarm_change\": 312}, {\"month\": \"2006-03-01\", \"nonfarm\": 136059, \"private\": 114156, \"goods_producing\": 22572, \"service_providing\": 113487, \"private_service_providing\": 91584, \"mining_and_logging\": 669, \"construction\": 7689, \"manufacturing\": 14214, \"durable_goods\": 9000, \"nondurable_goods\": 5214, \"trade_transportation_utilties\": 26239, \"wholesale_trade\": 5873.3, \"retail_trade\": 15388.0, \"transportation_and_warehousing\": 4429.7, \"utilities\": 547.5, \"information\": 3055, \"financial_activities\": 8348, \"professional_and_business_services\": 17438, \"education_and_health_services\": 18045, \"leisure_and_hospitality\": 13034, \"other_services\": 5425, \"government\": 21903, \"nonfarm_change\": 297}, {\"month\": \"2006-04-01\", \"nonfarm\": 136227, \"private\": 114308, \"goods_producing\": 22631, \"service_providing\": 113596, \"private_service_providing\": 91677, \"mining_and_logging\": 679, \"construction\": 7726, \"manufacturing\": 14226, \"durable_goods\": 9020, \"nondurable_goods\": 5206, \"trade_transportation_utilties\": 26230, \"wholesale_trade\": 5886.9, \"retail_trade\": 15348.5, \"transportation_and_warehousing\": 4445.4, \"utilities\": 548.9, \"information\": 3046, \"financial_activities\": 8369, \"professional_and_business_services\": 17462, \"education_and_health_services\": 18070, \"leisure_and_hospitality\": 13074, \"other_services\": 5426, \"government\": 21919, \"nonfarm_change\": 168}, {\"month\": \"2006-05-01\", \"nonfarm\": 136258, \"private\": 114332, \"goods_producing\": 22597, \"service_providing\": 113661, \"private_service_providing\": 91735, \"mining_and_logging\": 681, \"construction\": 7713, \"manufacturing\": 14203, \"durable_goods\": 9017, \"nondurable_goods\": 5186, \"trade_transportation_utilties\": 26223, \"wholesale_trade\": 5897.2, \"retail_trade\": 15318.1, \"transportation_and_warehousing\": 4459.4, \"utilities\": 548.3, \"information\": 3039, \"financial_activities\": 8376, \"professional_and_business_services\": 17512, \"education_and_health_services\": 18100, \"leisure_and_hospitality\": 13052, \"other_services\": 5433, \"government\": 21926, \"nonfarm_change\": 31}, {\"month\": \"2006-06-01\", \"nonfarm\": 136337, \"private\": 114415, \"goods_producing\": 22598, \"service_providing\": 113739, \"private_service_providing\": 91817, \"mining_and_logging\": 686, \"construction\": 7699, \"manufacturing\": 14213, \"durable_goods\": 9028, \"nondurable_goods\": 5185, \"trade_transportation_utilties\": 26241, \"wholesale_trade\": 5903.0, \"retail_trade\": 15325.5, \"transportation_and_warehousing\": 4465.1, \"utilities\": 547.6, \"information\": 3036, \"financial_activities\": 8362, \"professional_and_business_services\": 17583, \"education_and_health_services\": 18102, \"leisure_and_hospitality\": 13061, \"other_services\": 5432, \"government\": 21922, \"nonfarm_change\": 79}, {\"month\": \"2006-07-01\", \"nonfarm\": 136543, \"private\": 114570, \"goods_producing\": 22590, \"service_providing\": 113953, \"private_service_providing\": 91980, \"mining_and_logging\": 690, \"construction\": 7712, \"manufacturing\": 14188, \"durable_goods\": 9008, \"nondurable_goods\": 5180, \"trade_transportation_utilties\": 26264, \"wholesale_trade\": 5911.2, \"retail_trade\": 15326.0, \"transportation_and_warehousing\": 4479.3, \"utilities\": 547.9, \"information\": 3031, \"financial_activities\": 8366, \"professional_and_business_services\": 17632, \"education_and_health_services\": 18128, \"leisure_and_hospitality\": 13130, \"other_services\": 5429, \"government\": 21973, \"nonfarm_change\": 206}, {\"month\": \"2006-08-01\", \"nonfarm\": 136722, \"private\": 114711, \"goods_producing\": 22572, \"service_providing\": 114150, \"private_service_providing\": 92139, \"mining_and_logging\": 693, \"construction\": 7720, \"manufacturing\": 14159, \"durable_goods\": 8992, \"nondurable_goods\": 5167, \"trade_transportation_utilties\": 26283, \"wholesale_trade\": 5918.2, \"retail_trade\": 15337.5, \"transportation_and_warehousing\": 4479.5, \"utilities\": 548.0, \"information\": 3035, \"financial_activities\": 8374, \"professional_and_business_services\": 17681, \"education_and_health_services\": 18182, \"leisure_and_hospitality\": 13152, \"other_services\": 5432, \"government\": 22011, \"nonfarm_change\": 179}, {\"month\": \"2006-09-01\", \"nonfarm\": 136870, \"private\": 114788, \"goods_producing\": 22537, \"service_providing\": 114333, \"private_service_providing\": 92251, \"mining_and_logging\": 694, \"construction\": 7718, \"manufacturing\": 14125, \"durable_goods\": 8972, \"nondurable_goods\": 5153, \"trade_transportation_utilties\": 26311, \"wholesale_trade\": 5927.6, \"retail_trade\": 15347.8, \"transportation_and_warehousing\": 4486.6, \"utilities\": 548.5, \"information\": 3028, \"financial_activities\": 8390, \"professional_and_business_services\": 17676, \"education_and_health_services\": 18248, \"leisure_and_hospitality\": 13150, \"other_services\": 5448, \"government\": 22082, \"nonfarm_change\": 148}, {\"month\": \"2006-10-01\", \"nonfarm\": 136882, \"private\": 114814, \"goods_producing\": 22456, \"service_providing\": 114426, \"private_service_providing\": 92358, \"mining_and_logging\": 699, \"construction\": 7682, \"manufacturing\": 14075, \"durable_goods\": 8945, \"nondurable_goods\": 5130, \"trade_transportation_utilties\": 26335, \"wholesale_trade\": 5925.8, \"retail_trade\": 15366.2, \"transportation_and_warehousing\": 4496.1, \"utilities\": 546.9, \"information\": 3024, \"financial_activities\": 8385, \"professional_and_business_services\": 17685, \"education_and_health_services\": 18288, \"leisure_and_hospitality\": 13187, \"other_services\": 5454, \"government\": 22068, \"nonfarm_change\": 12}, {\"month\": \"2006-11-01\", \"nonfarm\": 137090, \"private\": 115007, \"goods_producing\": 22408, \"service_providing\": 114682, \"private_service_providing\": 92599, \"mining_and_logging\": 701, \"construction\": 7666, \"manufacturing\": 14041, \"durable_goods\": 8918, \"nondurable_goods\": 5123, \"trade_transportation_utilties\": 26392, \"wholesale_trade\": 5942.7, \"retail_trade\": 15391.5, \"transportation_and_warehousing\": 4509.3, \"utilities\": 548.0, \"information\": 3025, \"financial_activities\": 8394, \"professional_and_business_services\": 17745, \"education_and_health_services\": 18337, \"leisure_and_hospitality\": 13251, \"other_services\": 5455, \"government\": 22083, \"nonfarm_change\": 208}, {\"month\": \"2006-12-01\", \"nonfarm\": 137263, \"private\": 115175, \"goods_producing\": 22405, \"service_providing\": 114858, \"private_service_providing\": 92770, \"mining_and_logging\": 705, \"construction\": 7685, \"manufacturing\": 14015, \"durable_goods\": 8913, \"nondurable_goods\": 5102, \"trade_transportation_utilties\": 26437, \"wholesale_trade\": 5964.6, \"retail_trade\": 15394.2, \"transportation_and_warehousing\": 4529.2, \"utilities\": 548.5, \"information\": 3032, \"financial_activities\": 8394, \"professional_and_business_services\": 17771, \"education_and_health_services\": 18378, \"leisure_and_hospitality\": 13292, \"other_services\": 5466, \"government\": 22088, \"nonfarm_change\": 173}, {\"month\": \"2007-01-01\", \"nonfarm\": 137497, \"private\": 115402, \"goods_producing\": 22439, \"service_providing\": 115058, \"private_service_providing\": 92963, \"mining_and_logging\": 706, \"construction\": 7725, \"manufacturing\": 14008, \"durable_goods\": 8890, \"nondurable_goods\": 5118, \"trade_transportation_utilties\": 26491, \"wholesale_trade\": 5969.3, \"retail_trade\": 15443.3, \"transportation_and_warehousing\": 4530.2, \"utilities\": 548.6, \"information\": 3029, \"financial_activities\": 8389, \"professional_and_business_services\": 17834, \"education_and_health_services\": 18415, \"leisure_and_hospitality\": 13338, \"other_services\": 5467, \"government\": 22095, \"nonfarm_change\": 234}, {\"month\": \"2007-02-01\", \"nonfarm\": 137582, \"private\": 115451, \"goods_producing\": 22334, \"service_providing\": 115248, \"private_service_providing\": 93117, \"mining_and_logging\": 711, \"construction\": 7626, \"manufacturing\": 13997, \"durable_goods\": 8889, \"nondurable_goods\": 5108, \"trade_transportation_utilties\": 26540, \"wholesale_trade\": 5986.7, \"retail_trade\": 15474.7, \"transportation_and_warehousing\": 4530.1, \"utilities\": 548.5, \"information\": 3033, \"financial_activities\": 8390, \"professional_and_business_services\": 17868, \"education_and_health_services\": 18451, \"leisure_and_hospitality\": 13361, \"other_services\": 5474, \"government\": 22131, \"nonfarm_change\": 85}, {\"month\": \"2007-03-01\", \"nonfarm\": 137796, \"private\": 115647, \"goods_producing\": 22391, \"service_providing\": 115405, \"private_service_providing\": 93256, \"mining_and_logging\": 715, \"construction\": 7706, \"manufacturing\": 13970, \"durable_goods\": 8871, \"nondurable_goods\": 5099, \"trade_transportation_utilties\": 26614, \"wholesale_trade\": 5987.4, \"retail_trade\": 15542.2, \"transportation_and_warehousing\": 4535.3, \"utilities\": 549.1, \"information\": 3029, \"financial_activities\": 8379, \"professional_and_business_services\": 17880, \"education_and_health_services\": 18507, \"leisure_and_hospitality\": 13363, \"other_services\": 5484, \"government\": 22149, \"nonfarm_change\": 214}, {\"month\": \"2007-04-01\", \"nonfarm\": 137855, \"private\": 115680, \"goods_producing\": 22350, \"service_providing\": 115505, \"private_service_providing\": 93330, \"mining_and_logging\": 719, \"construction\": 7686, \"manufacturing\": 13945, \"durable_goods\": 8860, \"nondurable_goods\": 5085, \"trade_transportation_utilties\": 26601, \"wholesale_trade\": 6003.6, \"retail_trade\": 15508.5, \"transportation_and_warehousing\": 4537.6, \"utilities\": 551.4, \"information\": 3034, \"financial_activities\": 8360, \"professional_and_business_services\": 17906, \"education_and_health_services\": 18563, \"leisure_and_hospitality\": 13375, \"other_services\": 5491, \"government\": 22175, \"nonfarm_change\": 59}, {\"month\": \"2007-05-01\", \"nonfarm\": 138008, \"private\": 115815, \"goods_producing\": 22323, \"service_providing\": 115685, \"private_service_providing\": 93492, \"mining_and_logging\": 721, \"construction\": 7673, \"manufacturing\": 13929, \"durable_goods\": 8846, \"nondurable_goods\": 5083, \"trade_transportation_utilties\": 26634, \"wholesale_trade\": 6010.4, \"retail_trade\": 15528.7, \"transportation_and_warehousing\": 4541.1, \"utilities\": 553.7, \"information\": 3040, \"financial_activities\": 8371, \"professional_and_business_services\": 17939, \"education_and_health_services\": 18608, \"leisure_and_hospitality\": 13404, \"other_services\": 5496, \"government\": 22193, \"nonfarm_change\": 153}, {\"month\": \"2007-06-01\", \"nonfarm\": 138085, \"private\": 115878, \"goods_producing\": 22323, \"service_providing\": 115762, \"private_service_providing\": 93555, \"mining_and_logging\": 725, \"construction\": 7687, \"manufacturing\": 13911, \"durable_goods\": 8830, \"nondurable_goods\": 5081, \"trade_transportation_utilties\": 26626, \"wholesale_trade\": 6024.4, \"retail_trade\": 15507.9, \"transportation_and_warehousing\": 4538.3, \"utilities\": 554.9, \"information\": 3038, \"financial_activities\": 8369, \"professional_and_business_services\": 17949, \"education_and_health_services\": 18661, \"leisure_and_hospitality\": 13413, \"other_services\": 5499, \"government\": 22207, \"nonfarm_change\": 77}, {\"month\": \"2007-07-01\", \"nonfarm\": 138055, \"private\": 115884, \"goods_producing\": 22277, \"service_providing\": 115778, \"private_service_providing\": 93607, \"mining_and_logging\": 728, \"construction\": 7660, \"manufacturing\": 13889, \"durable_goods\": 8815, \"nondurable_goods\": 5074, \"trade_transportation_utilties\": 26633, \"wholesale_trade\": 6029.8, \"retail_trade\": 15509.2, \"transportation_and_warehousing\": 4539.1, \"utilities\": 555.0, \"information\": 3037, \"financial_activities\": 8370, \"professional_and_business_services\": 17959, \"education_and_health_services\": 18691, \"leisure_and_hospitality\": 13417, \"other_services\": 5500, \"government\": 22171, \"nonfarm_change\": -30}, {\"month\": \"2007-08-01\", \"nonfarm\": 138027, \"private\": 115801, \"goods_producing\": 22165, \"service_providing\": 115862, \"private_service_providing\": 93636, \"mining_and_logging\": 727, \"construction\": 7610, \"manufacturing\": 13828, \"durable_goods\": 8778, \"nondurable_goods\": 5050, \"trade_transportation_utilties\": 26629, \"wholesale_trade\": 6031.0, \"retail_trade\": 15507.2, \"transportation_and_warehousing\": 4534.7, \"utilities\": 555.8, \"information\": 3029, \"financial_activities\": 8341, \"professional_and_business_services\": 17967, \"education_and_health_services\": 18755, \"leisure_and_hospitality\": 13419, \"other_services\": 5496, \"government\": 22226, \"nonfarm_change\": -28}, {\"month\": \"2007-09-01\", \"nonfarm\": 138123, \"private\": 115844, \"goods_producing\": 22093, \"service_providing\": 116030, \"private_service_providing\": 93751, \"mining_and_logging\": 726, \"construction\": 7577, \"manufacturing\": 13790, \"durable_goods\": 8752, \"nondurable_goods\": 5038, \"trade_transportation_utilties\": 26658, \"wholesale_trade\": 6028.3, \"retail_trade\": 15514.7, \"transportation_and_warehousing\": 4559.9, \"utilities\": 555.4, \"information\": 3030, \"financial_activities\": 8319, \"professional_and_business_services\": 17979, \"education_and_health_services\": 18812, \"leisure_and_hospitality\": 13461, \"other_services\": 5492, \"government\": 22279, \"nonfarm_change\": 96}, {\"month\": \"2007-10-01\", \"nonfarm\": 138201, \"private\": 115904, \"goods_producing\": 22056, \"service_providing\": 116145, \"private_service_providing\": 93848, \"mining_and_logging\": 727, \"construction\": 7565, \"manufacturing\": 13764, \"durable_goods\": 8727, \"nondurable_goods\": 5037, \"trade_transportation_utilties\": 26662, \"wholesale_trade\": 6035.8, \"retail_trade\": 15515.3, \"transportation_and_warehousing\": 4555.1, \"utilities\": 555.8, \"information\": 3028, \"financial_activities\": 8306, \"professional_and_business_services\": 18010, \"education_and_health_services\": 18849, \"leisure_and_hospitality\": 13499, \"other_services\": 5494, \"government\": 22297, \"nonfarm_change\": 78}, {\"month\": \"2007-11-01\", \"nonfarm\": 138307, \"private\": 115973, \"goods_producing\": 22015, \"service_providing\": 116292, \"private_service_providing\": 93958, \"mining_and_logging\": 735, \"construction\": 7523, \"manufacturing\": 13757, \"durable_goods\": 8724, \"nondurable_goods\": 5033, \"trade_transportation_utilties\": 26717, \"wholesale_trade\": 6041.8, \"retail_trade\": 15568.7, \"transportation_and_warehousing\": 4551.1, \"utilities\": 555.5, \"information\": 3025, \"financial_activities\": 8292, \"professional_and_business_services\": 18009, \"education_and_health_services\": 18875, \"leisure_and_hospitality\": 13535, \"other_services\": 5505, \"government\": 22334, \"nonfarm_change\": 106}, {\"month\": \"2007-12-01\", \"nonfarm\": 138411, \"private\": 116035, \"goods_producing\": 21976, \"service_providing\": 116435, \"private_service_providing\": 94059, \"mining_and_logging\": 740, \"construction\": 7490, \"manufacturing\": 13746, \"durable_goods\": 8707, \"nondurable_goods\": 5039, \"trade_transportation_utilties\": 26712, \"wholesale_trade\": 6037.8, \"retail_trade\": 15568.8, \"transportation_and_warehousing\": 4548.0, \"utilities\": 557.1, \"information\": 3024, \"financial_activities\": 8282, \"professional_and_business_services\": 18051, \"education_and_health_services\": 18924, \"leisure_and_hospitality\": 13550, \"other_services\": 5516, \"government\": 22376, \"nonfarm_change\": 104}, {\"month\": \"2008-01-01\", \"nonfarm\": 138419, \"private\": 116031, \"goods_producing\": 21947, \"service_providing\": 116472, \"private_service_providing\": 94084, \"mining_and_logging\": 746, \"construction\": 7476, \"manufacturing\": 13725, \"durable_goods\": 8693, \"nondurable_goods\": 5032, \"trade_transportation_utilties\": 26710, \"wholesale_trade\": 6035.7, \"retail_trade\": 15565.6, \"transportation_and_warehousing\": 4551.4, \"utilities\": 557.0, \"information\": 3025, \"financial_activities\": 8277, \"professional_and_business_services\": 18030, \"education_and_health_services\": 18978, \"leisure_and_hospitality\": 13542, \"other_services\": 5522, \"government\": 22388, \"nonfarm_change\": 8}, {\"month\": \"2008-02-01\", \"nonfarm\": 138338, \"private\": 115921, \"goods_producing\": 21897, \"service_providing\": 116441, \"private_service_providing\": 94024, \"mining_and_logging\": 748, \"construction\": 7453, \"manufacturing\": 13696, \"durable_goods\": 8673, \"nondurable_goods\": 5023, \"trade_transportation_utilties\": 26658, \"wholesale_trade\": 6026.2, \"retail_trade\": 15523.0, \"transportation_and_warehousing\": 4552.3, \"utilities\": 556.3, \"information\": 3019, \"financial_activities\": 8268, \"professional_and_business_services\": 17985, \"education_and_health_services\": 19018, \"leisure_and_hospitality\": 13543, \"other_services\": 5533, \"government\": 22417, \"nonfarm_change\": -81}, {\"month\": \"2008-03-01\", \"nonfarm\": 138283, \"private\": 115840, \"goods_producing\": 21820, \"service_providing\": 116463, \"private_service_providing\": 94020, \"mining_and_logging\": 755, \"construction\": 7406, \"manufacturing\": 13659, \"durable_goods\": 8646, \"nondurable_goods\": 5013, \"trade_transportation_utilties\": 26653, \"wholesale_trade\": 6015.4, \"retail_trade\": 15526.2, \"transportation_and_warehousing\": 4554.8, \"utilities\": 556.4, \"information\": 3021, \"financial_activities\": 8266, \"professional_and_business_services\": 17942, \"education_and_health_services\": 19068, \"leisure_and_hospitality\": 13531, \"other_services\": 5539, \"government\": 22443, \"nonfarm_change\": -55}, {\"month\": \"2008-04-01\", \"nonfarm\": 138054, \"private\": 115604, \"goods_producing\": 21681, \"service_providing\": 116373, \"private_service_providing\": 93923, \"mining_and_logging\": 755, \"construction\": 7327, \"manufacturing\": 13599, \"durable_goods\": 8597, \"nondurable_goods\": 5002, \"trade_transportation_utilties\": 26537, \"wholesale_trade\": 5993.0, \"retail_trade\": 15426.1, \"transportation_and_warehousing\": 4560.6, \"utilities\": 556.9, \"information\": 3012, \"financial_activities\": 8258, \"professional_and_business_services\": 17939, \"education_and_health_services\": 19126, \"leisure_and_hospitality\": 13511, \"other_services\": 5540, \"government\": 22450, \"nonfarm_change\": -229}, {\"month\": \"2008-05-01\", \"nonfarm\": 137870, \"private\": 115387, \"goods_producing\": 21599, \"service_providing\": 116271, \"private_service_providing\": 93788, \"mining_and_logging\": 761, \"construction\": 7274, \"manufacturing\": 13564, \"durable_goods\": 8579, \"nondurable_goods\": 4985, \"trade_transportation_utilties\": 26452, \"wholesale_trade\": 5980.2, \"retail_trade\": 15370.9, \"transportation_and_warehousing\": 4543.8, \"utilities\": 556.8, \"information\": 3008, \"financial_activities\": 8246, \"professional_and_business_services\": 17882, \"education_and_health_services\": 19166, \"leisure_and_hospitality\": 13498, \"other_services\": 5536, \"government\": 22483, \"nonfarm_change\": -184}, {\"month\": \"2008-06-01\", \"nonfarm\": 137716, \"private\": 115199, \"goods_producing\": 21483, \"service_providing\": 116233, \"private_service_providing\": 93716, \"mining_and_logging\": 766, \"construction\": 7213, \"manufacturing\": 13504, \"durable_goods\": 8542, \"nondurable_goods\": 4962, \"trade_transportation_utilties\": 26398, \"wholesale_trade\": 5965.8, \"retail_trade\": 15337.4, \"transportation_and_warehousing\": 4536.6, \"utilities\": 557.8, \"information\": 3001, \"financial_activities\": 8236, \"professional_and_business_services\": 17850, \"education_and_health_services\": 19224, \"leisure_and_hospitality\": 13482, \"other_services\": 5525, \"government\": 22517, \"nonfarm_change\": -154}, {\"month\": \"2008-07-01\", \"nonfarm\": 137503, \"private\": 114935, \"goods_producing\": 21360, \"service_providing\": 116143, \"private_service_providing\": 93575, \"mining_and_logging\": 770, \"construction\": 7160, \"manufacturing\": 13430, \"durable_goods\": 8488, \"nondurable_goods\": 4942, \"trade_transportation_utilties\": 26333, \"wholesale_trade\": 5946.3, \"retail_trade\": 15300.0, \"transportation_and_warehousing\": 4527.3, \"utilities\": 559.6, \"information\": 2987, \"financial_activities\": 8219, \"professional_and_business_services\": 17777, \"education_and_health_services\": 19275, \"leisure_and_hospitality\": 13463, \"other_services\": 5521, \"government\": 22568, \"nonfarm_change\": -213}, {\"month\": \"2008-08-01\", \"nonfarm\": 137226, \"private\": 114659, \"goods_producing\": 21250, \"service_providing\": 115976, \"private_service_providing\": 93409, \"mining_and_logging\": 778, \"construction\": 7114, \"manufacturing\": 13358, \"durable_goods\": 8430, \"nondurable_goods\": 4928, \"trade_transportation_utilties\": 26238, \"wholesale_trade\": 5926.3, \"retail_trade\": 15241.1, \"transportation_and_warehousing\": 4511.2, \"utilities\": 558.9, \"information\": 2973, \"financial_activities\": 8204, \"professional_and_business_services\": 17713, \"education_and_health_services\": 19337, \"leisure_and_hospitality\": 13431, \"other_services\": 5513, \"government\": 22567, \"nonfarm_change\": -277}, {\"month\": \"2008-09-01\", \"nonfarm\": 136783, \"private\": 114246, \"goods_producing\": 21101, \"service_providing\": 115682, \"private_service_providing\": 93145, \"mining_and_logging\": 782, \"construction\": 7044, \"manufacturing\": 13275, \"durable_goods\": 8372, \"nondurable_goods\": 4903, \"trade_transportation_utilties\": 26123, \"wholesale_trade\": 5914.0, \"retail_trade\": 15171.9, \"transportation_and_warehousing\": 4477.6, \"utilities\": 559.4, \"information\": 2961, \"financial_activities\": 8170, \"professional_and_business_services\": 17657, \"education_and_health_services\": 19343, \"leisure_and_hospitality\": 13379, \"other_services\": 5512, \"government\": 22537, \"nonfarm_change\": -443}, {\"month\": \"2008-10-01\", \"nonfarm\": 136308, \"private\": 113759, \"goods_producing\": 20895, \"service_providing\": 115413, \"private_service_providing\": 92864, \"mining_and_logging\": 781, \"construction\": 6967, \"manufacturing\": 13147, \"durable_goods\": 8275, \"nondurable_goods\": 4872, \"trade_transportation_utilties\": 26002, \"wholesale_trade\": 5876.3, \"retail_trade\": 15101.4, \"transportation_and_warehousing\": 4463.4, \"utilities\": 560.9, \"information\": 2950, \"financial_activities\": 8138, \"professional_and_business_services\": 17543, \"education_and_health_services\": 19363, \"leisure_and_hospitality\": 13352, \"other_services\": 5516, \"government\": 22549, \"nonfarm_change\": -475}, {\"month\": \"2008-11-01\", \"nonfarm\": 135549, \"private\": 112989, \"goods_producing\": 20623, \"service_providing\": 114926, \"private_service_providing\": 92366, \"mining_and_logging\": 776, \"construction\": 6813, \"manufacturing\": 13034, \"durable_goods\": 8193, \"nondurable_goods\": 4841, \"trade_transportation_utilties\": 25808, \"wholesale_trade\": 5838.2, \"retail_trade\": 14986.6, \"transportation_and_warehousing\": 4420.9, \"utilities\": 562.5, \"information\": 2932, \"financial_activities\": 8101, \"professional_and_business_services\": 17348, \"education_and_health_services\": 19401, \"leisure_and_hospitality\": 13300, \"other_services\": 5476, \"government\": 22560, \"nonfarm_change\": -759}, {\"month\": \"2008-12-01\", \"nonfarm\": 134842, \"private\": 112286, \"goods_producing\": 20322, \"service_providing\": 114520, \"private_service_providing\": 91964, \"mining_and_logging\": 771, \"construction\": 6701, \"manufacturing\": 12850, \"durable_goods\": 8065, \"nondurable_goods\": 4785, \"trade_transportation_utilties\": 25622, \"wholesale_trade\": 5797.0, \"retail_trade\": 14866.7, \"transportation_and_warehousing\": 4395.2, \"utilities\": 562.9, \"information\": 2909, \"financial_activities\": 8070, \"professional_and_business_services\": 17219, \"education_and_health_services\": 19442, \"leisure_and_hospitality\": 13256, \"other_services\": 5446, \"government\": 22556, \"nonfarm_change\": -707}, {\"month\": \"2009-01-01\", \"nonfarm\": 134055, \"private\": 111476, \"goods_producing\": 19889, \"service_providing\": 114166, \"private_service_providing\": 91587, \"mining_and_logging\": 761, \"construction\": 6567, \"manufacturing\": 12561, \"durable_goods\": 7832, \"nondurable_goods\": 4729, \"trade_transportation_utilties\": 25485, \"wholesale_trade\": 5762.7, \"retail_trade\": 14788.4, \"transportation_and_warehousing\": 4371.1, \"utilities\": 563.0, \"information\": 2891, \"financial_activities\": 8018, \"professional_and_business_services\": 17061, \"education_and_health_services\": 19482, \"leisure_and_hospitality\": 13222, \"other_services\": 5428, \"government\": 22579, \"nonfarm_change\": -787}, {\"month\": \"2009-02-01\", \"nonfarm\": 133351, \"private\": 110775, \"goods_producing\": 19575, \"service_providing\": 113776, \"private_service_providing\": 91200, \"mining_and_logging\": 749, \"construction\": 6446, \"manufacturing\": 12380, \"durable_goods\": 7699, \"nondurable_goods\": 4681, \"trade_transportation_utilties\": 25345, \"wholesale_trade\": 5717.9, \"retail_trade\": 14716.7, \"transportation_and_warehousing\": 4346.8, \"utilities\": 563.6, \"information\": 2878, \"financial_activities\": 7970, \"professional_and_business_services\": 16896, \"education_and_health_services\": 19507, \"leisure_and_hospitality\": 13193, \"other_services\": 5411, \"government\": 22576, \"nonfarm_change\": -704}, {\"month\": \"2009-03-01\", \"nonfarm\": 132549, \"private\": 109989, \"goods_producing\": 19227, \"service_providing\": 113322, \"private_service_providing\": 90762, \"mining_and_logging\": 728, \"construction\": 6291, \"manufacturing\": 12208, \"durable_goods\": 7577, \"nondurable_goods\": 4631, \"trade_transportation_utilties\": 25192, \"wholesale_trade\": 5673.0, \"retail_trade\": 14641.6, \"transportation_and_warehousing\": 4314.3, \"utilities\": 563.0, \"information\": 2864, \"financial_activities\": 7927, \"professional_and_business_services\": 16755, \"education_and_health_services\": 19514, \"leisure_and_hospitality\": 13127, \"other_services\": 5383, \"government\": 22560, \"nonfarm_change\": -802}, {\"month\": \"2009-04-01\", \"nonfarm\": 131845, \"private\": 109168, \"goods_producing\": 18894, \"service_providing\": 112951, \"private_service_providing\": 90274, \"mining_and_logging\": 710, \"construction\": 6154, \"manufacturing\": 12030, \"durable_goods\": 7428, \"nondurable_goods\": 4602, \"trade_transportation_utilties\": 25014, \"wholesale_trade\": 5627.5, \"retail_trade\": 14556.1, \"transportation_and_warehousing\": 4268.7, \"utilities\": 561.3, \"information\": 2833, \"financial_activities\": 7870, \"professional_and_business_services\": 16608, \"education_and_health_services\": 19521, \"leisure_and_hospitality\": 13056, \"other_services\": 5372, \"government\": 22677, \"nonfarm_change\": -704}, {\"month\": \"2009-05-01\", \"nonfarm\": 131491, \"private\": 108874, \"goods_producing\": 18655, \"service_providing\": 112836, \"private_service_providing\": 90219, \"mining_and_logging\": 693, \"construction\": 6100, \"manufacturing\": 11862, \"durable_goods\": 7289, \"nondurable_goods\": 4573, \"trade_transportation_utilties\": 24965, \"wholesale_trade\": 5602.9, \"retail_trade\": 14553.5, \"transportation_and_warehousing\": 4249.2, \"utilities\": 559.8, \"information\": 2807, \"financial_activities\": 7844, \"professional_and_business_services\": 16546, \"education_and_health_services\": 19582, \"leisure_and_hospitality\": 13106, \"other_services\": 5369, \"government\": 22617, \"nonfarm_change\": -354}, {\"month\": \"2009-06-01\", \"nonfarm\": 131022, \"private\": 108446, \"goods_producing\": 18422, \"service_providing\": 112600, \"private_service_providing\": 90024, \"mining_and_logging\": 686, \"construction\": 6010, \"manufacturing\": 11726, \"durable_goods\": 7182, \"nondurable_goods\": 4544, \"trade_transportation_utilties\": 24909, \"wholesale_trade\": 5577.4, \"retail_trade\": 14537.2, \"transportation_and_warehousing\": 4233.8, \"utilities\": 560.1, \"information\": 2796, \"financial_activities\": 7821, \"professional_and_business_services\": 16436, \"education_and_health_services\": 19614, \"leisure_and_hospitality\": 13076, \"other_services\": 5372, \"government\": 22576, \"nonfarm_change\": -469}, {\"month\": \"2009-07-01\", \"nonfarm\": 130680, \"private\": 108159, \"goods_producing\": 18278, \"service_providing\": 112402, \"private_service_providing\": 89881, \"mining_and_logging\": 678, \"construction\": 5932, \"manufacturing\": 11668, \"durable_goods\": 7146, \"nondurable_goods\": 4522, \"trade_transportation_utilties\": 24808, \"wholesale_trade\": 5552.5, \"retail_trade\": 14486.3, \"transportation_and_warehousing\": 4210.0, \"utilities\": 558.8, \"information\": 2780, \"financial_activities\": 7807, \"professional_and_business_services\": 16411, \"education_and_health_services\": 19629, \"leisure_and_hospitality\": 13078, \"other_services\": 5368, \"government\": 22521, \"nonfarm_change\": -342}, {\"month\": \"2009-08-01\", \"nonfarm\": 130484, \"private\": 107947, \"goods_producing\": 18151, \"service_providing\": 112333, \"private_service_providing\": 89796, \"mining_and_logging\": 670, \"construction\": 5855, \"manufacturing\": 11626, \"durable_goods\": 7113, \"nondurable_goods\": 4513, \"trade_transportation_utilties\": 24769, \"wholesale_trade\": 5535.0, \"retail_trade\": 14477.3, \"transportation_and_warehousing\": 4198.9, \"utilities\": 557.9, \"information\": 2767, \"financial_activities\": 7782, \"professional_and_business_services\": 16392, \"education_and_health_services\": 19681, \"leisure_and_hospitality\": 13046, \"other_services\": 5359, \"government\": 22537, \"nonfarm_change\": -196}, {\"month\": \"2009-09-01\", \"nonfarm\": 130255, \"private\": 107804, \"goods_producing\": 18043, \"service_providing\": 112212, \"private_service_providing\": 89761, \"mining_and_logging\": 665, \"construction\": 5787, \"manufacturing\": 11591, \"durable_goods\": 7084, \"nondurable_goods\": 4507, \"trade_transportation_utilties\": 24716, \"wholesale_trade\": 5518.8, \"retail_trade\": 14445.9, \"transportation_and_warehousing\": 4192.0, \"utilities\": 558.8, \"information\": 2768, \"financial_activities\": 7769, \"professional_and_business_services\": 16409, \"education_and_health_services\": 19692, \"leisure_and_hospitality\": 13054, \"other_services\": 5353, \"government\": 22451, \"nonfarm_change\": -229}, {\"month\": \"2009-10-01\", \"nonfarm\": 130046, \"private\": 107522, \"goods_producing\": 17915, \"service_providing\": 112131, \"private_service_providing\": 89607, \"mining_and_logging\": 661, \"construction\": 5716, \"manufacturing\": 11538, \"durable_goods\": 7044, \"nondurable_goods\": 4494, \"trade_transportation_utilties\": 24612, \"wholesale_trade\": 5500.1, \"retail_trade\": 14379.2, \"transportation_and_warehousing\": 4173.9, \"utilities\": 558.6, \"information\": 2763, \"financial_activities\": 7754, \"professional_and_business_services\": 16414, \"education_and_health_services\": 19736, \"leisure_and_hospitality\": 12995, \"other_services\": 5333, \"government\": 22524, \"nonfarm_change\": -209}, {\"month\": \"2009-11-01\", \"nonfarm\": 130058, \"private\": 107525, \"goods_producing\": 17869, \"service_providing\": 112189, \"private_service_providing\": 89656, \"mining_and_logging\": 664, \"construction\": 5696, \"manufacturing\": 11509, \"durable_goods\": 7020, \"nondurable_goods\": 4489, \"trade_transportation_utilties\": 24590, \"wholesale_trade\": 5489.4, \"retail_trade\": 14374.8, \"transportation_and_warehousing\": 4168.7, \"utilities\": 557.5, \"information\": 2752, \"financial_activities\": 7756, \"professional_and_business_services\": 16478, \"education_and_health_services\": 19770, \"leisure_and_hospitality\": 12986, \"other_services\": 5324, \"government\": 22533, \"nonfarm_change\": 12}, {\"month\": \"2009-12-01\", \"nonfarm\": 129781, \"private\": 107299, \"goods_producing\": 17792, \"service_providing\": 111989, \"private_service_providing\": 89507, \"mining_and_logging\": 663, \"construction\": 5654, \"manufacturing\": 11475, \"durable_goods\": 6999, \"nondurable_goods\": 4476, \"trade_transportation_utilties\": 24475, \"wholesale_trade\": 5475.1, \"retail_trade\": 14326.4, \"transportation_and_warehousing\": 4117.2, \"utilities\": 556.0, \"information\": 2743, \"financial_activities\": 7743, \"professional_and_business_services\": 16478, \"education_and_health_services\": 19804, \"leisure_and_hospitality\": 12944, \"other_services\": 5320, \"government\": 22482, \"nonfarm_change\": -277}, {\"month\": \"2010-01-01\", \"nonfarm\": 129799, \"private\": 107308, \"goods_producing\": 17707, \"service_providing\": 112092, \"private_service_providing\": 89601, \"mining_and_logging\": 667, \"construction\": 5580, \"manufacturing\": 11460, \"durable_goods\": 6989, \"nondurable_goods\": 4471, \"trade_transportation_utilties\": 24543, \"wholesale_trade\": 5455.3, \"retail_trade\": 14393.1, \"transportation_and_warehousing\": 4138.7, \"utilities\": 556.0, \"information\": 2737, \"financial_activities\": 7733, \"professional_and_business_services\": 16513, \"education_and_health_services\": 19820, \"leisure_and_hospitality\": 12932, \"other_services\": 5323, \"government\": 22491, \"nonfarm_change\": 18}, {\"month\": \"2010-02-01\", \"nonfarm\": 129726, \"private\": 107250, \"goods_producing\": 17627, \"service_providing\": 112099, \"private_service_providing\": 89623, \"mining_and_logging\": 674, \"construction\": 5500, \"manufacturing\": 11453, \"durable_goods\": 6985, \"nondurable_goods\": 4468, \"trade_transportation_utilties\": 24534, \"wholesale_trade\": 5443.6, \"retail_trade\": 14395.7, \"transportation_and_warehousing\": 4140.0, \"utilities\": 554.8, \"information\": 2737, \"financial_activities\": 7724, \"professional_and_business_services\": 16546, \"education_and_health_services\": 19839, \"leisure_and_hospitality\": 12927, \"other_services\": 5316, \"government\": 22476, \"nonfarm_change\": -73}, {\"month\": \"2010-03-01\", \"nonfarm\": 129919, \"private\": 107401, \"goods_producing\": 17672, \"service_providing\": 112247, \"private_service_providing\": 89729, \"mining_and_logging\": 682, \"construction\": 5537, \"manufacturing\": 11453, \"durable_goods\": 6996, \"nondurable_goods\": 4457, \"trade_transportation_utilties\": 24594, \"wholesale_trade\": 5444.3, \"retail_trade\": 14442.7, \"transportation_and_warehousing\": 4152.1, \"utilities\": 554.5, \"information\": 2718, \"financial_activities\": 7708, \"professional_and_business_services\": 16541, \"education_and_health_services\": 19896, \"leisure_and_hospitality\": 12943, \"other_services\": 5329, \"government\": 22518, \"nonfarm_change\": 193}, {\"month\": \"2010-04-01\", \"nonfarm\": 130140, \"private\": 107571, \"goods_producing\": 17729, \"service_providing\": 112411, \"private_service_providing\": 89842, \"mining_and_logging\": 687, \"construction\": 5553, \"manufacturing\": 11489, \"durable_goods\": 7026, \"nondurable_goods\": 4463, \"trade_transportation_utilties\": 24580, \"wholesale_trade\": 5443.4, \"retail_trade\": 14423.3, \"transportation_and_warehousing\": 4158.9, \"utilities\": 554.2, \"information\": 2715, \"financial_activities\": 7713, \"professional_and_business_services\": 16618, \"education_and_health_services\": 19902, \"leisure_and_hospitality\": 12979, \"other_services\": 5335, \"government\": 22569, \"nonfarm_change\": 221}, {\"month\": \"2010-05-01\", \"nonfarm\": 130662, \"private\": 107666, \"goods_producing\": 17742, \"service_providing\": 112920, \"private_service_providing\": 89924, \"mining_and_logging\": 697, \"construction\": 5520, \"manufacturing\": 11525, \"durable_goods\": 7053, \"nondurable_goods\": 4472, \"trade_transportation_utilties\": 24597, \"wholesale_trade\": 5439.0, \"retail_trade\": 14435.6, \"transportation_and_warehousing\": 4169.1, \"utilities\": 553.6, \"information\": 2709, \"financial_activities\": 7699, \"professional_and_business_services\": 16643, \"education_and_health_services\": 19934, \"leisure_and_hospitality\": 13012, \"other_services\": 5330, \"government\": 22996, \"nonfarm_change\": 522}, {\"month\": \"2010-06-01\", \"nonfarm\": 130522, \"private\": 107782, \"goods_producing\": 17763, \"service_providing\": 112759, \"private_service_providing\": 90019, \"mining_and_logging\": 702, \"construction\": 5516, \"manufacturing\": 11545, \"durable_goods\": 7072, \"nondurable_goods\": 4473, \"trade_transportation_utilties\": 24621, \"wholesale_trade\": 5442.9, \"retail_trade\": 14436.1, \"transportation_and_warehousing\": 4190.0, \"utilities\": 552.0, \"information\": 2703, \"financial_activities\": 7689, \"professional_and_business_services\": 16702, \"education_and_health_services\": 19955, \"leisure_and_hospitality\": 13034, \"other_services\": 5315, \"government\": 22740, \"nonfarm_change\": -140}, {\"month\": \"2010-07-01\", \"nonfarm\": 130444, \"private\": 107875, \"goods_producing\": 17777, \"service_providing\": 112667, \"private_service_providing\": 90098, \"mining_and_logging\": 708, \"construction\": 5508, \"manufacturing\": 11561, \"durable_goods\": 7083, \"nondurable_goods\": 4478, \"trade_transportation_utilties\": 24650, \"wholesale_trade\": 5445.9, \"retail_trade\": 14445.6, \"transportation_and_warehousing\": 4206.7, \"utilities\": 551.4, \"information\": 2703, \"financial_activities\": 7676, \"professional_and_business_services\": 16715, \"education_and_health_services\": 19980, \"leisure_and_hospitality\": 13048, \"other_services\": 5326, \"government\": 22569, \"nonfarm_change\": -78}, {\"month\": \"2010-08-01\", \"nonfarm\": 130428, \"private\": 108008, \"goods_producing\": 17793, \"service_providing\": 112635, \"private_service_providing\": 90215, \"mining_and_logging\": 716, \"construction\": 5524, \"manufacturing\": 11553, \"durable_goods\": 7090, \"nondurable_goods\": 4463, \"trade_transportation_utilties\": 24648, \"wholesale_trade\": 5446.4, \"retail_trade\": 14450.0, \"transportation_and_warehousing\": 4200.0, \"utilities\": 551.5, \"information\": 2702, \"financial_activities\": 7676, \"professional_and_business_services\": 16768, \"education_and_health_services\": 20017, \"leisure_and_hospitality\": 13081, \"other_services\": 5323, \"government\": 22420, \"nonfarm_change\": -16}, {\"month\": \"2010-09-01\", \"nonfarm\": 130365, \"private\": 108118, \"goods_producing\": 17787, \"service_providing\": 112578, \"private_service_providing\": 90331, \"mining_and_logging\": 723, \"construction\": 5501, \"manufacturing\": 11563, \"durable_goods\": 7105, \"nondurable_goods\": 4458, \"trade_transportation_utilties\": 24696, \"wholesale_trade\": 5454.4, \"retail_trade\": 14472.6, \"transportation_and_warehousing\": 4219.3, \"utilities\": 549.4, \"information\": 2697, \"financial_activities\": 7683, \"professional_and_business_services\": 16785, \"education_and_health_services\": 20001, \"leisure_and_hospitality\": 13137, \"other_services\": 5332, \"government\": 22247, \"nonfarm_change\": -63}, {\"month\": \"2010-10-01\", \"nonfarm\": 130632, \"private\": 108335, \"goods_producing\": 17801, \"service_providing\": 112831, \"private_service_providing\": 90534, \"mining_and_logging\": 731, \"construction\": 5508, \"manufacturing\": 11562, \"durable_goods\": 7109, \"nondurable_goods\": 4453, \"trade_transportation_utilties\": 24748, \"wholesale_trade\": 5463.5, \"retail_trade\": 14503.7, \"transportation_and_warehousing\": 4229.3, \"utilities\": 551.6, \"information\": 2695, \"financial_activities\": 7682, \"professional_and_business_services\": 16851, \"education_and_health_services\": 20074, \"leisure_and_hospitality\": 13127, \"other_services\": 5357, \"government\": 22297, \"nonfarm_change\": 267}, {\"month\": \"2010-11-01\", \"nonfarm\": 130761, \"private\": 108474, \"goods_producing\": 17827, \"service_providing\": 112934, \"private_service_providing\": 90647, \"mining_and_logging\": 736, \"construction\": 5506, \"manufacturing\": 11585, \"durable_goods\": 7125, \"nondurable_goods\": 4460, \"trade_transportation_utilties\": 24735, \"wholesale_trade\": 5469.7, \"retail_trade\": 14480.0, \"transportation_and_warehousing\": 4234.1, \"utilities\": 551.1, \"information\": 2689, \"financial_activities\": 7679, \"professional_and_business_services\": 16953, \"education_and_health_services\": 20119, \"leisure_and_hospitality\": 13126, \"other_services\": 5346, \"government\": 22287, \"nonfarm_change\": 129}, {\"month\": \"2010-12-01\", \"nonfarm\": 130834, \"private\": 108568, \"goods_producing\": 17796, \"service_providing\": 113038, \"private_service_providing\": 90772, \"mining_and_logging\": 734, \"construction\": 5467, \"manufacturing\": 11595, \"durable_goods\": 7137, \"nondurable_goods\": 4458, \"trade_transportation_utilties\": 24759, \"wholesale_trade\": 5476.4, \"retail_trade\": 14467.4, \"transportation_and_warehousing\": 4261.5, \"utilities\": 553.3, \"information\": 2682, \"financial_activities\": 7683, \"professional_and_business_services\": 17020, \"education_and_health_services\": 20134, \"leisure_and_hospitality\": 13157, \"other_services\": 5337, \"government\": 22266, \"nonfarm_change\": 73}, {\"month\": \"2011-01-01\", \"nonfarm\": 130878, \"private\": 108620, \"goods_producing\": 17784, \"service_providing\": 113094, \"private_service_providing\": 90836, \"mining_and_logging\": 736, \"construction\": 5427, \"manufacturing\": 11621, \"durable_goods\": 7168, \"nondurable_goods\": 4453, \"trade_transportation_utilties\": 24795, \"wholesale_trade\": 5481.4, \"retail_trade\": 14531.4, \"transportation_and_warehousing\": 4230.5, \"utilities\": 551.5, \"information\": 2678, \"financial_activities\": 7680, \"professional_and_business_services\": 17054, \"education_and_health_services\": 20153, \"leisure_and_hospitality\": 13149, \"other_services\": 5327, \"government\": 22258, \"nonfarm_change\": 44}, {\"month\": \"2011-02-01\", \"nonfarm\": 131060, \"private\": 108845, \"goods_producing\": 17844, \"service_providing\": 113216, \"private_service_providing\": 91001, \"mining_and_logging\": 739, \"construction\": 5451, \"manufacturing\": 11654, \"durable_goods\": 7195, \"nondurable_goods\": 4459, \"trade_transportation_utilties\": 24864, \"wholesale_trade\": 5493.9, \"retail_trade\": 14553.6, \"transportation_and_warehousing\": 4263.6, \"utilities\": 553.3, \"information\": 2673, \"financial_activities\": 7676, \"professional_and_business_services\": 17100, \"education_and_health_services\": 20163, \"leisure_and_hospitality\": 13188, \"other_services\": 5337, \"government\": 22215, \"nonfarm_change\": 182}, {\"month\": \"2011-03-01\", \"nonfarm\": 131314, \"private\": 109122, \"goods_producing\": 17906, \"service_providing\": 113408, \"private_service_providing\": 91216, \"mining_and_logging\": 754, \"construction\": 5477, \"manufacturing\": 11675, \"durable_goods\": 7214, \"nondurable_goods\": 4461, \"trade_transportation_utilties\": 24922, \"wholesale_trade\": 5512.4, \"retail_trade\": 14584.2, \"transportation_and_warehousing\": 4272.5, \"utilities\": 552.7, \"information\": 2672, \"financial_activities\": 7681, \"professional_and_business_services\": 17184, \"education_and_health_services\": 20177, \"leisure_and_hospitality\": 13247, \"other_services\": 5333, \"government\": 22192, \"nonfarm_change\": 254}, {\"month\": \"2011-04-01\", \"nonfarm\": 131637, \"private\": 109453, \"goods_producing\": 17957, \"service_providing\": 113680, \"private_service_providing\": 91496, \"mining_and_logging\": 768, \"construction\": 5485, \"manufacturing\": 11704, \"durable_goods\": 7240, \"nondurable_goods\": 4464, \"trade_transportation_utilties\": 25014, \"wholesale_trade\": 5527.7, \"retail_trade\": 14641.7, \"transportation_and_warehousing\": 4291.0, \"utilities\": 553.7, \"information\": 2674, \"financial_activities\": 7685, \"professional_and_business_services\": 17246, \"education_and_health_services\": 20237, \"leisure_and_hospitality\": 13298, \"other_services\": 5342, \"government\": 22184, \"nonfarm_change\": 323}, {\"month\": \"2011-05-01\", \"nonfarm\": 131718, \"private\": 109589, \"goods_producing\": 18007, \"service_providing\": 113711, \"private_service_providing\": 91582, \"mining_and_logging\": 778, \"construction\": 5516, \"manufacturing\": 11713, \"durable_goods\": 7257, \"nondurable_goods\": 4456, \"trade_transportation_utilties\": 25024, \"wholesale_trade\": 5531.4, \"retail_trade\": 14640.2, \"transportation_and_warehousing\": 4299.3, \"utilities\": 553.1, \"information\": 2679, \"financial_activities\": 7701, \"professional_and_business_services\": 17287, \"education_and_health_services\": 20252, \"leisure_and_hospitality\": 13293, \"other_services\": 5346, \"government\": 22129, \"nonfarm_change\": 81}, {\"month\": \"2011-06-01\", \"nonfarm\": 131952, \"private\": 109788, \"goods_producing\": 18045, \"service_providing\": 113907, \"private_service_providing\": 91743, \"mining_and_logging\": 790, \"construction\": 5528, \"manufacturing\": 11727, \"durable_goods\": 7275, \"nondurable_goods\": 4452, \"trade_transportation_utilties\": 25084, \"wholesale_trade\": 5540.9, \"retail_trade\": 14675.7, \"transportation_and_warehousing\": 4314.2, \"utilities\": 553.0, \"information\": 2685, \"financial_activities\": 7691, \"professional_and_business_services\": 17300, \"education_and_health_services\": 20288, \"leisure_and_hospitality\": 13343, \"other_services\": 5352, \"government\": 22164, \"nonfarm_change\": 234}, {\"month\": \"2011-07-01\", \"nonfarm\": 132024, \"private\": 109975, \"goods_producing\": 18094, \"service_providing\": 113930, \"private_service_providing\": 91881, \"mining_and_logging\": 801, \"construction\": 5547, \"manufacturing\": 11746, \"durable_goods\": 7289, \"nondurable_goods\": 4457, \"trade_transportation_utilties\": 25129, \"wholesale_trade\": 5545.5, \"retail_trade\": 14717.5, \"transportation_and_warehousing\": 4314.8, \"utilities\": 551.6, \"information\": 2676, \"financial_activities\": 7694, \"professional_and_business_services\": 17326, \"education_and_health_services\": 20327, \"leisure_and_hospitality\": 13370, \"other_services\": 5359, \"government\": 22049, \"nonfarm_change\": 72}, {\"month\": \"2011-08-01\", \"nonfarm\": 132136, \"private\": 110119, \"goods_producing\": 18120, \"service_providing\": 114016, \"private_service_providing\": 91999, \"mining_and_logging\": 804, \"construction\": 5552, \"manufacturing\": 11764, \"durable_goods\": 7303, \"nondurable_goods\": 4461, \"trade_transportation_utilties\": 25141, \"wholesale_trade\": 5554.1, \"retail_trade\": 14714.9, \"transportation_and_warehousing\": 4320.0, \"utilities\": 552.1, \"information\": 2634, \"financial_activities\": 7698, \"professional_and_business_services\": 17388, \"education_and_health_services\": 20367, \"leisure_and_hospitality\": 13395, \"other_services\": 5376, \"government\": 22017, \"nonfarm_change\": 112}, {\"month\": \"2011-09-01\", \"nonfarm\": 132369, \"private\": 110386, \"goods_producing\": 18167, \"service_providing\": 114202, \"private_service_providing\": 92219, \"mining_and_logging\": 814, \"construction\": 5584, \"manufacturing\": 11769, \"durable_goods\": 7313, \"nondurable_goods\": 4456, \"trade_transportation_utilties\": 25180, \"wholesale_trade\": 5559.4, \"retail_trade\": 14738.7, \"transportation_and_warehousing\": 4329.0, \"utilities\": 552.6, \"information\": 2677, \"financial_activities\": 7693, \"professional_and_business_services\": 17447, \"education_and_health_services\": 20415, \"leisure_and_hospitality\": 13426, \"other_services\": 5381, \"government\": 21983, \"nonfarm_change\": 233}, {\"month\": \"2011-10-01\", \"nonfarm\": 132578, \"private\": 110580, \"goods_producing\": 18188, \"service_providing\": 114390, \"private_service_providing\": 92392, \"mining_and_logging\": 820, \"construction\": 5588, \"manufacturing\": 11780, \"durable_goods\": 7330, \"nondurable_goods\": 4450, \"trade_transportation_utilties\": 25209, \"wholesale_trade\": 5576.5, \"retail_trade\": 14743.8, \"transportation_and_warehousing\": 4336.3, \"utilities\": 552.1, \"information\": 2677, \"financial_activities\": 7706, \"professional_and_business_services\": 17497, \"education_and_health_services\": 20457, \"leisure_and_hospitality\": 13464, \"other_services\": 5382, \"government\": 21998, \"nonfarm_change\": 209}, {\"month\": \"2011-11-01\", \"nonfarm\": 132723, \"private\": 110752, \"goods_producing\": 18187, \"service_providing\": 114536, \"private_service_providing\": 92565, \"mining_and_logging\": 824, \"construction\": 5593, \"manufacturing\": 11770, \"durable_goods\": 7331, \"nondurable_goods\": 4439, \"trade_transportation_utilties\": 25232, \"wholesale_trade\": 5588.5, \"retail_trade\": 14751.3, \"transportation_and_warehousing\": 4339.4, \"utilities\": 552.6, \"information\": 2676, \"financial_activities\": 7719, \"professional_and_business_services\": 17541, \"education_and_health_services\": 20496, \"leisure_and_hospitality\": 13511, \"other_services\": 5390, \"government\": 21971, \"nonfarm_change\": 145}, {\"month\": \"2011-12-01\", \"nonfarm\": 132924, \"private\": 110970, \"goods_producing\": 18244, \"service_providing\": 114680, \"private_service_providing\": 92726, \"mining_and_logging\": 831, \"construction\": 5611, \"manufacturing\": 11802, \"durable_goods\": 7368, \"nondurable_goods\": 4434, \"trade_transportation_utilties\": 25247, \"wholesale_trade\": 5605.1, \"retail_trade\": 14745.5, \"transportation_and_warehousing\": 4344.3, \"utilities\": 552.2, \"information\": 2678, \"financial_activities\": 7727, \"professional_and_business_services\": 17603, \"education_and_health_services\": 20530, \"leisure_and_hospitality\": 13538, \"other_services\": 5403, \"government\": 21954, \"nonfarm_change\": 201}, {\"month\": \"2012-01-01\", \"nonfarm\": 133272, \"private\": 111326, \"goods_producing\": 18304, \"service_providing\": 114968, \"private_service_providing\": 93022, \"mining_and_logging\": 840, \"construction\": 5626, \"manufacturing\": 11838, \"durable_goods\": 7398, \"nondurable_goods\": 4440, \"trade_transportation_utilties\": 25347, \"wholesale_trade\": 5620.5, \"retail_trade\": 14813.1, \"transportation_and_warehousing\": 4360.3, \"utilities\": 553.3, \"information\": 2665, \"financial_activities\": 7736, \"professional_and_business_services\": 17686, \"education_and_health_services\": 20574, \"leisure_and_hospitality\": 13600, \"other_services\": 5414, \"government\": 21946, \"nonfarm_change\": 348}, {\"month\": \"2012-02-01\", \"nonfarm\": 133505, \"private\": 111558, \"goods_producing\": 18334, \"service_providing\": 115171, \"private_service_providing\": 93224, \"mining_and_logging\": 845, \"construction\": 5629, \"manufacturing\": 11860, \"durable_goods\": 7420, \"nondurable_goods\": 4440, \"trade_transportation_utilties\": 25352, \"wholesale_trade\": 5630.3, \"retail_trade\": 14784.4, \"transportation_and_warehousing\": 4384.5, \"utilities\": 553.2, \"information\": 2676, \"financial_activities\": 7744, \"professional_and_business_services\": 17739, \"education_and_health_services\": 20657, \"leisure_and_hospitality\": 13641, \"other_services\": 5415, \"government\": 21947, \"nonfarm_change\": 233}, {\"month\": \"2012-03-01\", \"nonfarm\": 133769, \"private\": 111826, \"goods_producing\": 18372, \"service_providing\": 115397, \"private_service_providing\": 93454, \"mining_and_logging\": 849, \"construction\": 5625, \"manufacturing\": 11898, \"durable_goods\": 7446, \"nondurable_goods\": 4452, \"trade_transportation_utilties\": 25407, \"wholesale_trade\": 5640.1, \"retail_trade\": 14820.0, \"transportation_and_warehousing\": 4393.5, \"utilities\": 553.6, \"information\": 2678, \"financial_activities\": 7768, \"professional_and_business_services\": 17784, \"education_and_health_services\": 20689, \"leisure_and_hospitality\": 13706, \"other_services\": 5422, \"government\": 21943, \"nonfarm_change\": 264}, {\"month\": \"2012-04-01\", \"nonfarm\": 133841, \"private\": 111910, \"goods_producing\": 18384, \"service_providing\": 115457, \"private_service_providing\": 93526, \"mining_and_logging\": 850, \"construction\": 5618, \"manufacturing\": 11916, \"durable_goods\": 7461, \"nondurable_goods\": 4455, \"trade_transportation_utilties\": 25411, \"wholesale_trade\": 5652.3, \"retail_trade\": 14831.3, \"transportation_and_warehousing\": 4374.2, \"utilities\": 553.4, \"information\": 2679, \"financial_activities\": 7771, \"professional_and_business_services\": 17832, \"education_and_health_services\": 20707, \"leisure_and_hospitality\": 13709, \"other_services\": 5417, \"government\": 21931, \"nonfarm_change\": 72}, {\"month\": \"2012-05-01\", \"nonfarm\": 133958, \"private\": 112047, \"goods_producing\": 18386, \"service_providing\": 115572, \"private_service_providing\": 93661, \"mining_and_logging\": 855, \"construction\": 5604, \"manufacturing\": 11927, \"durable_goods\": 7471, \"nondurable_goods\": 4456, \"trade_transportation_utilties\": 25457, \"wholesale_trade\": 5663.1, \"retail_trade\": 14829.4, \"transportation_and_warehousing\": 4411.0, \"utilities\": 553.2, \"information\": 2685, \"financial_activities\": 7781, \"professional_and_business_services\": 17869, \"education_and_health_services\": 20747, \"leisure_and_hospitality\": 13705, \"other_services\": 5417, \"government\": 21911, \"nonfarm_change\": 117}, {\"month\": \"2012-06-01\", \"nonfarm\": 134026, \"private\": 112096, \"goods_producing\": 18411, \"service_providing\": 115615, \"private_service_providing\": 93685, \"mining_and_logging\": 854, \"construction\": 5621, \"manufacturing\": 11936, \"durable_goods\": 7480, \"nondurable_goods\": 4456, \"trade_transportation_utilties\": 25445, \"wholesale_trade\": 5671.9, \"retail_trade\": 14810.0, \"transportation_and_warehousing\": 4409.2, \"utilities\": 554.0, \"information\": 2674, \"financial_activities\": 7781, \"professional_and_business_services\": 17921, \"education_and_health_services\": 20738, \"leisure_and_hospitality\": 13702, \"other_services\": 5424, \"government\": 21930, \"nonfarm_change\": 68}, {\"month\": \"2012-07-01\", \"nonfarm\": 134182, \"private\": 112269, \"goods_producing\": 18447, \"service_providing\": 115735, \"private_service_providing\": 93822, \"mining_and_logging\": 851, \"construction\": 5632, \"manufacturing\": 11964, \"durable_goods\": 7503, \"nondurable_goods\": 4461, \"trade_transportation_utilties\": 25450, \"wholesale_trade\": 5679.2, \"retail_trade\": 14803.7, \"transportation_and_warehousing\": 4420.4, \"utilities\": 546.6, \"information\": 2680, \"financial_activities\": 7779, \"professional_and_business_services\": 17972, \"education_and_health_services\": 20773, \"leisure_and_hospitality\": 13735, \"other_services\": 5433, \"government\": 21913, \"nonfarm_change\": 156}, {\"month\": \"2012-08-01\", \"nonfarm\": 134355, \"private\": 112439, \"goods_producing\": 18459, \"service_providing\": 115896, \"private_service_providing\": 93980, \"mining_and_logging\": 851, \"construction\": 5648, \"manufacturing\": 11960, \"durable_goods\": 7492, \"nondurable_goods\": 4468, \"trade_transportation_utilties\": 25483, \"wholesale_trade\": 5685.1, \"retail_trade\": 14811.0, \"transportation_and_warehousing\": 4432.5, \"utilities\": 554.2, \"information\": 2676, \"financial_activities\": 7787, \"professional_and_business_services\": 17998, \"education_and_health_services\": 20801, \"leisure_and_hospitality\": 13804, \"other_services\": 5431, \"government\": 21916, \"nonfarm_change\": 173}, {\"month\": \"2012-09-01\", \"nonfarm\": 134549, \"private\": 112624, \"goods_producing\": 18461, \"service_providing\": 116088, \"private_service_providing\": 94163, \"mining_and_logging\": 846, \"construction\": 5661, \"manufacturing\": 11954, \"durable_goods\": 7483, \"nondurable_goods\": 4471, \"trade_transportation_utilties\": 25514, \"wholesale_trade\": 5676.3, \"retail_trade\": 14845.9, \"transportation_and_warehousing\": 4437.0, \"utilities\": 554.4, \"information\": 2670, \"financial_activities\": 7801, \"professional_and_business_services\": 18023, \"education_and_health_services\": 20841, \"leisure_and_hospitality\": 13872, \"other_services\": 5442, \"government\": 21925, \"nonfarm_change\": 194}, {\"month\": \"2012-10-01\", \"nonfarm\": 134702, \"private\": 112799, \"goods_producing\": 18472, \"service_providing\": 116230, \"private_service_providing\": 94327, \"mining_and_logging\": 837, \"construction\": 5674, \"manufacturing\": 11961, \"durable_goods\": 7485, \"nondurable_goods\": 4476, \"trade_transportation_utilties\": 25560, \"wholesale_trade\": 5691.6, \"retail_trade\": 14867.1, \"transportation_and_warehousing\": 4447.8, \"utilities\": 553.9, \"information\": 2667, \"financial_activities\": 7809, \"professional_and_business_services\": 18081, \"education_and_health_services\": 20881, \"leisure_and_hospitality\": 13883, \"other_services\": 5446, \"government\": 21903, \"nonfarm_change\": 153}, {\"month\": \"2012-11-01\", \"nonfarm\": 134832, \"private\": 112949, \"goods_producing\": 18477, \"service_providing\": 116355, \"private_service_providing\": 94472, \"mining_and_logging\": 843, \"construction\": 5684, \"manufacturing\": 11950, \"durable_goods\": 7488, \"nondurable_goods\": 4462, \"trade_transportation_utilties\": 25614, \"wholesale_trade\": 5693.5, \"retail_trade\": 14930.1, \"transportation_and_warehousing\": 4439.2, \"utilities\": 551.5, \"information\": 2674, \"financial_activities\": 7816, \"professional_and_business_services\": 18122, \"education_and_health_services\": 20887, \"leisure_and_hospitality\": 13910, \"other_services\": 5449, \"government\": 21883, \"nonfarm_change\": 130}, {\"month\": \"2012-12-01\", \"nonfarm\": 135075, \"private\": 113188, \"goods_producing\": 18532, \"service_providing\": 116543, \"private_service_providing\": 94656, \"mining_and_logging\": 848, \"construction\": 5724, \"manufacturing\": 11960, \"durable_goods\": 7505, \"nondurable_goods\": 4455, \"trade_transportation_utilties\": 25633, \"wholesale_trade\": 5704.0, \"retail_trade\": 14905.1, \"transportation_and_warehousing\": 4472.6, \"utilities\": 551.5, \"information\": 2675, \"financial_activities\": 7826, \"professional_and_business_services\": 18157, \"education_and_health_services\": 20935, \"leisure_and_hospitality\": 13978, \"other_services\": 5452, \"government\": 21887, \"nonfarm_change\": 243}, {\"month\": \"2013-01-01\", \"nonfarm\": 135282, \"private\": 113413, \"goods_producing\": 18580, \"service_providing\": 116702, \"private_service_providing\": 94833, \"mining_and_logging\": 851, \"construction\": 5746, \"manufacturing\": 11983, \"durable_goods\": 7515, \"nondurable_goods\": 4468, \"trade_transportation_utilties\": 25679, \"wholesale_trade\": 5715.5, \"retail_trade\": 14928.6, \"transportation_and_warehousing\": 4482.7, \"utilities\": 551.8, \"information\": 2661, \"financial_activities\": 7836, \"professional_and_business_services\": 18206, \"education_and_health_services\": 20956, \"leisure_and_hospitality\": 14037, \"other_services\": 5458, \"government\": 21869, \"nonfarm_change\": 207}, {\"month\": \"2013-02-01\", \"nonfarm\": 135547, \"private\": 113666, \"goods_producing\": 18638, \"service_providing\": 116909, \"private_service_providing\": 95028, \"mining_and_logging\": 858, \"construction\": 5784, \"manufacturing\": 11996, \"durable_goods\": 7523, \"nondurable_goods\": 4473, \"trade_transportation_utilties\": 25679, \"wholesale_trade\": 5711.1, \"retail_trade\": 14941.7, \"transportation_and_warehousing\": 4474.3, \"utilities\": 552.2, \"information\": 2699, \"financial_activities\": 7852, \"professional_and_business_services\": 18302, \"education_and_health_services\": 20958, \"leisure_and_hospitality\": 14082, \"other_services\": 5456, \"government\": 21881, \"nonfarm_change\": 265}, {\"month\": \"2013-03-01\", \"nonfarm\": 135703, \"private\": 113833, \"goods_producing\": 18660, \"service_providing\": 117043, \"private_service_providing\": 95173, \"mining_and_logging\": 859, \"construction\": 5802, \"manufacturing\": 11999, \"durable_goods\": 7531, \"nondurable_goods\": 4468, \"trade_transportation_utilties\": 25680, \"wholesale_trade\": 5713.7, \"retail_trade\": 14941.4, \"transportation_and_warehousing\": 4473.9, \"utilities\": 550.6, \"information\": 2699, \"financial_activities\": 7857, \"professional_and_business_services\": 18366, \"education_and_health_services\": 21007, \"leisure_and_hospitality\": 14113, \"other_services\": 5451, \"government\": 21870, \"nonfarm_change\": 156}, {\"month\": \"2013-04-01\", \"nonfarm\": 135882, \"private\": 114013, \"goods_producing\": 18653, \"service_providing\": 117229, \"private_service_providing\": 95360, \"mining_and_logging\": 857, \"construction\": 5796, \"manufacturing\": 12000, \"durable_goods\": 7534, \"nondurable_goods\": 4466, \"trade_transportation_utilties\": 25710, \"wholesale_trade\": 5714.9, \"retail_trade\": 14961.7, \"transportation_and_warehousing\": 4480.7, \"utilities\": 552.3, \"information\": 2696, \"financial_activities\": 7872, \"professional_and_business_services\": 18421, \"education_and_health_services\": 21054, \"leisure_and_hospitality\": 14152, \"other_services\": 5455, \"government\": 21869, \"nonfarm_change\": 179}, {\"month\": \"2013-05-01\", \"nonfarm\": 136122, \"private\": 114258, \"goods_producing\": 18691, \"service_providing\": 117431, \"private_service_providing\": 95567, \"mining_and_logging\": 862, \"construction\": 5829, \"manufacturing\": 12000, \"durable_goods\": 7533, \"nondurable_goods\": 4467, \"trade_transportation_utilties\": 25749, \"wholesale_trade\": 5721.0, \"retail_trade\": 14996.2, \"transportation_and_warehousing\": 4479.1, \"utilities\": 553.0, \"information\": 2711, \"financial_activities\": 7885, \"professional_and_business_services\": 18488, \"education_and_health_services\": 21071, \"leisure_and_hospitality\": 14193, \"other_services\": 5470, \"government\": 21864, \"nonfarm_change\": 240}, {\"month\": \"2013-06-01\", \"nonfarm\": 136280, \"private\": 114440, \"goods_producing\": 18724, \"service_providing\": 117556, \"private_service_providing\": 95716, \"mining_and_logging\": 865, \"construction\": 5855, \"manufacturing\": 12004, \"durable_goods\": 7539, \"nondurable_goods\": 4465, \"trade_transportation_utilties\": 25803, \"wholesale_trade\": 5723.9, \"retail_trade\": 15039.8, \"transportation_and_warehousing\": 4484.8, \"utilities\": 554.7, \"information\": 2707, \"financial_activities\": 7887, \"professional_and_business_services\": 18517, \"education_and_health_services\": 21070, \"leisure_and_hospitality\": 14252, \"other_services\": 5480, \"government\": 21840, \"nonfarm_change\": 158}, {\"month\": \"2013-07-01\", \"nonfarm\": 136391, \"private\": 114576, \"goods_producing\": 18705, \"service_providing\": 117686, \"private_service_providing\": 95871, \"mining_and_logging\": 862, \"construction\": 5859, \"manufacturing\": 11984, \"durable_goods\": 7517, \"nondurable_goods\": 4467, \"trade_transportation_utilties\": 25837, \"wholesale_trade\": 5734.6, \"retail_trade\": 15080.5, \"transportation_and_warehousing\": 4470.6, \"utilities\": 551.4, \"information\": 2720, \"financial_activities\": 7903, \"professional_and_business_services\": 18566, \"education_and_health_services\": 21074, \"leisure_and_hospitality\": 14288, \"other_services\": 5483, \"government\": 21815, \"nonfarm_change\": 111}, {\"month\": \"2013-08-01\", \"nonfarm\": 136651, \"private\": 114820, \"goods_producing\": 18756, \"service_providing\": 117895, \"private_service_providing\": 96064, \"mining_and_logging\": 864, \"construction\": 5878, \"manufacturing\": 12014, \"durable_goods\": 7547, \"nondurable_goods\": 4467, \"trade_transportation_utilties\": 25906, \"wholesale_trade\": 5743.7, \"retail_trade\": 15123.2, \"transportation_and_warehousing\": 4488.2, \"utilities\": 551.0, \"information\": 2690, \"financial_activities\": 7901, \"professional_and_business_services\": 18603, \"education_and_health_services\": 21143, \"leisure_and_hospitality\": 14327, \"other_services\": 5494, \"government\": 21831, \"nonfarm_change\": 260}, {\"month\": \"2013-09-01\", \"nonfarm\": 136852, \"private\": 115017, \"goods_producing\": 18810, \"service_providing\": 118042, \"private_service_providing\": 96207, \"mining_and_logging\": 868, \"construction\": 5910, \"manufacturing\": 12032, \"durable_goods\": 7564, \"nondurable_goods\": 4468, \"trade_transportation_utilties\": 25979, \"wholesale_trade\": 5752.8, \"retail_trade\": 15156.7, \"transportation_and_warehousing\": 4518.4, \"utilities\": 551.4, \"information\": 2707, \"financial_activities\": 7904, \"professional_and_business_services\": 18643, \"education_and_health_services\": 21133, \"leisure_and_hospitality\": 14339, \"other_services\": 5502, \"government\": 21835, \"nonfarm_change\": 201}, {\"month\": \"2013-10-01\", \"nonfarm\": 137062, \"private\": 115232, \"goods_producing\": 18857, \"service_providing\": 118205, \"private_service_providing\": 96375, \"mining_and_logging\": 870, \"construction\": 5931, \"manufacturing\": 12056, \"durable_goods\": 7576, \"nondurable_goods\": 4480, \"trade_transportation_utilties\": 26018, \"wholesale_trade\": 5748.7, \"retail_trade\": 15195.6, \"transportation_and_warehousing\": 4522.8, \"utilities\": 551.1, \"information\": 2719, \"financial_activities\": 7910, \"professional_and_business_services\": 18666, \"education_and_health_services\": 21158, \"leisure_and_hospitality\": 14395, \"other_services\": 5509, \"government\": 21830, \"nonfarm_change\": 210}, {\"month\": \"2013-11-01\", \"nonfarm\": 137283, \"private\": 115440, \"goods_producing\": 18911, \"service_providing\": 118372, \"private_service_providing\": 96529, \"mining_and_logging\": 869, \"construction\": 5963, \"manufacturing\": 12079, \"durable_goods\": 7589, \"nondurable_goods\": 4490, \"trade_transportation_utilties\": 26054, \"wholesale_trade\": 5760.0, \"retail_trade\": 15199.8, \"transportation_and_warehousing\": 4541.5, \"utilities\": 552.2, \"information\": 2724, \"financial_activities\": 7912, \"professional_and_business_services\": 18700, \"education_and_health_services\": 21194, \"leisure_and_hospitality\": 14432, \"other_services\": 5513, \"government\": 21843, \"nonfarm_change\": 221}, {\"month\": \"2013-12-01\", \"nonfarm\": 137376, \"private\": 115556, \"goods_producing\": 18881, \"service_providing\": 118495, \"private_service_providing\": 96675, \"mining_and_logging\": 866, \"construction\": 5932, \"manufacturing\": 12083, \"durable_goods\": 7591, \"nondurable_goods\": 4492, \"trade_transportation_utilties\": 26148, \"wholesale_trade\": 5762.8, \"retail_trade\": 15285.6, \"transportation_and_warehousing\": 4549.5, \"utilities\": 550.5, \"information\": 2726, \"financial_activities\": 7914, \"professional_and_business_services\": 18712, \"education_and_health_services\": 21196, \"leisure_and_hospitality\": 14454, \"other_services\": 5525, \"government\": 21820, \"nonfarm_change\": 93}, {\"month\": \"2014-01-01\", \"nonfarm\": 137550, \"private\": 115740, \"goods_producing\": 18934, \"service_providing\": 118616, \"private_service_providing\": 96806, \"mining_and_logging\": 871, \"construction\": 5981, \"manufacturing\": 12082, \"durable_goods\": 7584, \"nondurable_goods\": 4498, \"trade_transportation_utilties\": 26151, \"wholesale_trade\": 5776.2, \"retail_trade\": 15256.3, \"transportation_and_warehousing\": 4569.7, \"utilities\": 549.2, \"information\": 2723, \"financial_activities\": 7915, \"professional_and_business_services\": 18773, \"education_and_health_services\": 21225, \"leisure_and_hospitality\": 14486, \"other_services\": 5533, \"government\": 21810, \"nonfarm_change\": 174}, {\"month\": \"2014-02-01\", \"nonfarm\": 137732, \"private\": 115909, \"goods_producing\": 18986, \"service_providing\": 118746, \"private_service_providing\": 96923, \"mining_and_logging\": 874, \"construction\": 6007, \"manufacturing\": 12105, \"durable_goods\": 7604, \"nondurable_goods\": 4501, \"trade_transportation_utilties\": 26132, \"wholesale_trade\": 5782.7, \"retail_trade\": 15229.9, \"transportation_and_warehousing\": 4570.5, \"utilities\": 549.0, \"information\": 2719, \"financial_activities\": 7932, \"professional_and_business_services\": 18844, \"education_and_health_services\": 21246, \"leisure_and_hospitality\": 14516, \"other_services\": 5534, \"government\": 21823, \"nonfarm_change\": 182}, {\"month\": \"2014-03-01\", \"nonfarm\": 137993, \"private\": 116162, \"goods_producing\": 19041, \"service_providing\": 118952, \"private_service_providing\": 97121, \"mining_and_logging\": 879, \"construction\": 6041, \"manufacturing\": 12121, \"durable_goods\": 7622, \"nondurable_goods\": 4499, \"trade_transportation_utilties\": 26170, \"wholesale_trade\": 5785.8, \"retail_trade\": 15248.8, \"transportation_and_warehousing\": 4584.6, \"utilities\": 551.1, \"information\": 2724, \"financial_activities\": 7933, \"professional_and_business_services\": 18887, \"education_and_health_services\": 21292, \"leisure_and_hospitality\": 14562, \"other_services\": 5553, \"government\": 21831, \"nonfarm_change\": 261}, {\"month\": \"2014-04-01\", \"nonfarm\": 138304, \"private\": 116447, \"goods_producing\": 19102, \"service_providing\": 119202, \"private_service_providing\": 97345, \"mining_and_logging\": 886, \"construction\": 6081, \"manufacturing\": 12135, \"durable_goods\": 7633, \"nondurable_goods\": 4502, \"trade_transportation_utilties\": 26247, \"wholesale_trade\": 5802.9, \"retail_trade\": 15295.6, \"transportation_and_warehousing\": 4598.4, \"utilities\": 550.2, \"information\": 2722, \"financial_activities\": 7945, \"professional_and_business_services\": 18943, \"education_and_health_services\": 21314, \"leisure_and_hospitality\": 14610, \"other_services\": 5564, \"government\": 21857, \"nonfarm_change\": 311}, {\"month\": \"2014-05-01\", \"nonfarm\": 138556, \"private\": 116693, \"goods_producing\": 19145, \"service_providing\": 119411, \"private_service_providing\": 97548, \"mining_and_logging\": 887, \"construction\": 6111, \"manufacturing\": 12147, \"durable_goods\": 7649, \"nondurable_goods\": 4498, \"trade_transportation_utilties\": 26293, \"wholesale_trade\": 5807.7, \"retail_trade\": 15307.5, \"transportation_and_warehousing\": 4627.4, \"utilities\": 550.1, \"information\": 2718, \"financial_activities\": 7953, \"professional_and_business_services\": 18984, \"education_and_health_services\": 21370, \"leisure_and_hospitality\": 14663, \"other_services\": 5567, \"government\": 21863, \"nonfarm_change\": 252}, {\"month\": \"2014-06-01\", \"nonfarm\": 138862, \"private\": 116967, \"goods_producing\": 19194, \"service_providing\": 119668, \"private_service_providing\": 97773, \"mining_and_logging\": 892, \"construction\": 6131, \"manufacturing\": 12171, \"durable_goods\": 7670, \"nondurable_goods\": 4501, \"trade_transportation_utilties\": 26368, \"wholesale_trade\": 5818.6, \"retail_trade\": 15347.9, \"transportation_and_warehousing\": 4650.8, \"utilities\": 551.0, \"information\": 2724, \"financial_activities\": 7965, \"professional_and_business_services\": 19048, \"education_and_health_services\": 21416, \"leisure_and_hospitality\": 14689, \"other_services\": 5563, \"government\": 21895, \"nonfarm_change\": 306}, {\"month\": \"2014-07-01\", \"nonfarm\": 139058, \"private\": 117180, \"goods_producing\": 19261, \"service_providing\": 119797, \"private_service_providing\": 97919, \"mining_and_logging\": 897, \"construction\": 6174, \"manufacturing\": 12190, \"durable_goods\": 7687, \"nondurable_goods\": 4503, \"trade_transportation_utilties\": 26415, \"wholesale_trade\": 5824.3, \"retail_trade\": 15369.5, \"transportation_and_warehousing\": 4669.7, \"utilities\": 551.2, \"information\": 2727, \"financial_activities\": 7978, \"professional_and_business_services\": 19083, \"education_and_health_services\": 21449, \"leisure_and_hospitality\": 14702, \"other_services\": 5565, \"government\": 21878, \"nonfarm_change\": 196}, {\"month\": \"2014-08-01\", \"nonfarm\": 139284, \"private\": 117421, \"goods_producing\": 19307, \"service_providing\": 119977, \"private_service_providing\": 98114, \"mining_and_logging\": 897, \"construction\": 6204, \"manufacturing\": 12206, \"durable_goods\": 7698, \"nondurable_goods\": 4508, \"trade_transportation_utilties\": 26437, \"wholesale_trade\": 5824.6, \"retail_trade\": 15374.7, \"transportation_and_warehousing\": 4685.0, \"utilities\": 553.1, \"information\": 2734, \"financial_activities\": 7993, \"professional_and_business_services\": 19143, \"education_and_health_services\": 21499, \"leisure_and_hospitality\": 14727, \"other_services\": 5581, \"government\": 21863, \"nonfarm_change\": 226}, {\"month\": \"2014-09-01\", \"nonfarm\": 139568, \"private\": 117672, \"goods_producing\": 19364, \"service_providing\": 120204, \"private_service_providing\": 98308, \"mining_and_logging\": 904, \"construction\": 6236, \"manufacturing\": 12224, \"durable_goods\": 7708, \"nondurable_goods\": 4516, \"trade_transportation_utilties\": 26483, \"wholesale_trade\": 5823.5, \"retail_trade\": 15406.3, \"transportation_and_warehousing\": 4701.5, \"utilities\": 551.3, \"information\": 2732, \"financial_activities\": 8008, \"professional_and_business_services\": 19200, \"education_and_health_services\": 21540, \"leisure_and_hospitality\": 14771, \"other_services\": 5574, \"government\": 21896, \"nonfarm_change\": 284}, {\"month\": \"2014-10-01\", \"nonfarm\": 139823, \"private\": 117906, \"goods_producing\": 19411, \"service_providing\": 120412, \"private_service_providing\": 98495, \"mining_and_logging\": 901, \"construction\": 6254, \"manufacturing\": 12256, \"durable_goods\": 7729, \"nondurable_goods\": 4527, \"trade_transportation_utilties\": 26555, \"wholesale_trade\": 5832.3, \"retail_trade\": 15447.6, \"transportation_and_warehousing\": 4722.7, \"utilities\": 552.0, \"information\": 2728, \"financial_activities\": 8020, \"professional_and_business_services\": 19219, \"education_and_health_services\": 21575, \"leisure_and_hospitality\": 14818, \"other_services\": 5580, \"government\": 21917, \"nonfarm_change\": 255}, {\"month\": \"2014-11-01\", \"nonfarm\": 140130, \"private\": 118196, \"goods_producing\": 19451, \"service_providing\": 120679, \"private_service_providing\": 98745, \"mining_and_logging\": 899, \"construction\": 6270, \"manufacturing\": 12282, \"durable_goods\": 7746, \"nondurable_goods\": 4536, \"trade_transportation_utilties\": 26629, \"wholesale_trade\": 5835.5, \"retail_trade\": 15501.9, \"transportation_and_warehousing\": 4739.4, \"utilities\": 552.4, \"information\": 2736, \"financial_activities\": 8034, \"professional_and_business_services\": 19283, \"education_and_health_services\": 21625, \"leisure_and_hospitality\": 14847, \"other_services\": 5591, \"government\": 21934, \"nonfarm_change\": 307}, {\"month\": \"2014-12-01\", \"nonfarm\": 140381, \"private\": 118432, \"goods_producing\": 19482, \"service_providing\": 120899, \"private_service_providing\": 98950, \"mining_and_logging\": 896, \"construction\": 6295, \"manufacturing\": 12291, \"durable_goods\": 7751, \"nondurable_goods\": 4540, \"trade_transportation_utilties\": 26663, \"wholesale_trade\": 5844.0, \"retail_trade\": 15495.5, \"transportation_and_warehousing\": 4769.1, \"utilities\": 554.1, \"information\": 2737, \"financial_activities\": 8042, \"professional_and_business_services\": 19350, \"education_and_health_services\": 21676, \"leisure_and_hospitality\": 14890, \"other_services\": 5592, \"government\": 21949, \"nonfarm_change\": 251}, {\"month\": \"2015-01-01\", \"nonfarm\": 140592, \"private\": 118637, \"goods_producing\": 19516, \"service_providing\": 121076, \"private_service_providing\": 99121, \"mining_and_logging\": 888, \"construction\": 6332, \"manufacturing\": 12296, \"durable_goods\": 7754, \"nondurable_goods\": 4542, \"trade_transportation_utilties\": 26697, \"wholesale_trade\": 5848.9, \"retail_trade\": 15501.7, \"transportation_and_warehousing\": 4791.6, \"utilities\": 554.6, \"information\": 2737, \"financial_activities\": 8060, \"professional_and_business_services\": 19371, \"education_and_health_services\": 21741, \"leisure_and_hospitality\": 14916, \"other_services\": 5599, \"government\": 21955, \"nonfarm_change\": 211}, {\"month\": \"2015-02-01\", \"nonfarm\": 140859, \"private\": 118884, \"goods_producing\": 19532, \"service_providing\": 121327, \"private_service_providing\": 99352, \"mining_and_logging\": 875, \"construction\": 6356, \"manufacturing\": 12301, \"durable_goods\": 7761, \"nondurable_goods\": 4540, \"trade_transportation_utilties\": 26733, \"wholesale_trade\": 5857.7, \"retail_trade\": 15521.6, \"transportation_and_warehousing\": 4799.6, \"utilities\": 554.2, \"information\": 2741, \"financial_activities\": 8072, \"professional_and_business_services\": 19424, \"education_and_health_services\": 21787, \"leisure_and_hospitality\": 14990, \"other_services\": 5605, \"government\": 21975, \"nonfarm_change\": 267}, {\"month\": \"2015-03-01\", \"nonfarm\": 140937, \"private\": 118973, \"goods_producing\": 19512, \"service_providing\": 121425, \"private_service_providing\": 99461, \"mining_and_logging\": 859, \"construction\": 6340, \"manufacturing\": 12313, \"durable_goods\": 7766, \"nondurable_goods\": 4547, \"trade_transportation_utilties\": 26772, \"wholesale_trade\": 5858.7, \"retail_trade\": 15545.1, \"transportation_and_warehousing\": 4813.6, \"utilities\": 554.7, \"information\": 2735, \"financial_activities\": 8082, \"professional_and_business_services\": 19447, \"education_and_health_services\": 21829, \"leisure_and_hospitality\": 14990, \"other_services\": 5606, \"government\": 21964, \"nonfarm_change\": 78}, {\"month\": \"2015-04-01\", \"nonfarm\": 141219, \"private\": 119219, \"goods_producing\": 19551, \"service_providing\": 121668, \"private_service_providing\": 99668, \"mining_and_logging\": 843, \"construction\": 6390, \"manufacturing\": 12318, \"durable_goods\": 7764, \"nondurable_goods\": 4554, \"trade_transportation_utilties\": 26803, \"wholesale_trade\": 5854.8, \"retail_trade\": 15568.8, \"transportation_and_warehousing\": 4824.0, \"utilities\": 555.1, \"information\": 2742, \"financial_activities\": 8087, \"professional_and_business_services\": 19499, \"education_and_health_services\": 21905, \"leisure_and_hospitality\": 15019, \"other_services\": 5613, \"government\": 22000, \"nonfarm_change\": 282}, {\"month\": \"2015-05-01\", \"nonfarm\": 141545, \"private\": 119535, \"goods_producing\": 19584, \"service_providing\": 121961, \"private_service_providing\": 99951, \"mining_and_logging\": 820, \"construction\": 6428, \"manufacturing\": 12336, \"durable_goods\": 7774, \"nondurable_goods\": 4562, \"trade_transportation_utilties\": 26857, \"wholesale_trade\": 5859.6, \"retail_trade\": 15597.2, \"transportation_and_warehousing\": 4843.7, \"utilities\": 556.2, \"information\": 2750, \"financial_activities\": 8096, \"professional_and_business_services\": 19571, \"education_and_health_services\": 21952, \"leisure_and_hospitality\": 15101, \"other_services\": 5624, \"government\": 22010, \"nonfarm_change\": 326}, {\"month\": \"2015-06-01\", \"nonfarm\": 141736, \"private\": 119724, \"goods_producing\": 19601, \"service_providing\": 122135, \"private_service_providing\": 100123, \"mining_and_logging\": 817, \"construction\": 6444, \"manufacturing\": 12340, \"durable_goods\": 7776, \"nondurable_goods\": 4564, \"trade_transportation_utilties\": 26897, \"wholesale_trade\": 5857.1, \"retail_trade\": 15615.0, \"transportation_and_warehousing\": 4869.7, \"utilities\": 555.6, \"information\": 2751, \"financial_activities\": 8112, \"professional_and_business_services\": 19634, \"education_and_health_services\": 22002, \"leisure_and_hospitality\": 15109, \"other_services\": 5618, \"government\": 22012, \"nonfarm_change\": 191}, {\"month\": \"2015-07-01\", \"nonfarm\": 141992, \"private\": 119958, \"goods_producing\": 19629, \"service_providing\": 122363, \"private_service_providing\": 100329, \"mining_and_logging\": 808, \"construction\": 6466, \"manufacturing\": 12355, \"durable_goods\": 7776, \"nondurable_goods\": 4579, \"trade_transportation_utilties\": 26942, \"wholesale_trade\": 5857.4, \"retail_trade\": 15635.6, \"transportation_and_warehousing\": 4892.0, \"utilities\": 557.2, \"information\": 2754, \"financial_activities\": 8134, \"professional_and_business_services\": 19665, \"education_and_health_services\": 22051, \"leisure_and_hospitality\": 15154, \"other_services\": 5629, \"government\": 22034, \"nonfarm_change\": 256}, {\"month\": \"2015-08-01\", \"nonfarm\": 142156, \"private\": 120084, \"goods_producing\": 19628, \"service_providing\": 122528, \"private_service_providing\": 100456, \"mining_and_logging\": 797, \"construction\": 6485, \"manufacturing\": 12346, \"durable_goods\": 7774, \"nondurable_goods\": 4572, \"trade_transportation_utilties\": 26946, \"wholesale_trade\": 5854.8, \"retail_trade\": 15629.7, \"transportation_and_warehousing\": 4903.8, \"utilities\": 557.8, \"information\": 2754, \"financial_activities\": 8146, \"professional_and_business_services\": 19697, \"education_and_health_services\": 22093, \"leisure_and_hospitality\": 15201, \"other_services\": 5619, \"government\": 22072, \"nonfarm_change\": 164}, {\"month\": \"2015-09-01\", \"nonfarm\": 142244, \"private\": 120203, \"goods_producing\": 19622, \"service_providing\": 122622, \"private_service_providing\": 100581, \"mining_and_logging\": 779, \"construction\": 6498, \"manufacturing\": 12345, \"durable_goods\": 7770, \"nondurable_goods\": 4575, \"trade_transportation_utilties\": 26930, \"wholesale_trade\": 5842.1, \"retail_trade\": 15620.5, \"transportation_and_warehousing\": 4910.9, \"utilities\": 556.7, \"information\": 2761, \"financial_activities\": 8152, \"professional_and_business_services\": 19717, \"education_and_health_services\": 22138, \"leisure_and_hospitality\": 15263, \"other_services\": 5620, \"government\": 22041, \"nonfarm_change\": 88}, {\"month\": \"2015-10-01\", \"nonfarm\": 142595, \"private\": 120536, \"goods_producing\": 19669, \"service_providing\": 122926, \"private_service_providing\": 100867, \"mining_and_logging\": 771, \"construction\": 6540, \"manufacturing\": 12358, \"durable_goods\": 7768, \"nondurable_goods\": 4590, \"trade_transportation_utilties\": 26970, \"wholesale_trade\": 5849.6, \"retail_trade\": 15661.9, \"transportation_and_warehousing\": 4903.0, \"utilities\": 555.9, \"information\": 2768, \"financial_activities\": 8168, \"professional_and_business_services\": 19791, \"education_and_health_services\": 22217, \"leisure_and_hospitality\": 15324, \"other_services\": 5629, \"government\": 22059, \"nonfarm_change\": 351}, {\"month\": \"2015-11-01\", \"nonfarm\": 142859, \"private\": 120775, \"goods_producing\": 19701, \"service_providing\": 123158, \"private_service_providing\": 101074, \"mining_and_logging\": 755, \"construction\": 6592, \"manufacturing\": 12354, \"durable_goods\": 7753, \"nondurable_goods\": 4601, \"trade_transportation_utilties\": 27037, \"wholesale_trade\": 5851.8, \"retail_trade\": 15704.2, \"transportation_and_warehousing\": 4924.7, \"utilities\": 556.6, \"information\": 2754, \"financial_activities\": 8181, \"professional_and_business_services\": 19835, \"education_and_health_services\": 22263, \"leisure_and_hospitality\": 15366, \"other_services\": 5638, \"government\": 22084, \"nonfarm_change\": 264}, {\"month\": \"2015-12-01\", \"nonfarm\": 143093, \"private\": 120993, \"goods_producing\": 19737, \"service_providing\": 123356, \"private_service_providing\": 101256, \"mining_and_logging\": 745, \"construction\": 6632, \"manufacturing\": 12360, \"durable_goods\": 7747, \"nondurable_goods\": 4613, \"trade_transportation_utilties\": 27036, \"wholesale_trade\": 5850.5, \"retail_trade\": 15677.8, \"transportation_and_warehousing\": 4950.9, \"utilities\": 556.5, \"information\": 2762, \"financial_activities\": 8188, \"professional_and_business_services\": 19892, \"education_and_health_services\": 22318, \"leisure_and_hospitality\": 15408, \"other_services\": 5652, \"government\": 22100, \"nonfarm_change\": 234}], \"data-4464eab5de1054f6c3b8d89b9e0a031a\": [{\"end\": \"2009-01-19\", \"president\": \"Bush\", \"start\": \"2006-01-01\"}, {\"end\": \"2015-12-31\", \"president\": \"Obama\", \"start\": \"2009-01-20\"}]}};\n",
              "      var embedOpt = {\"mode\": \"vega-lite\"};\n",
              "\n",
              "      function showError(el, error){\n",
              "          el.innerHTML = ('<div class=\"error\" style=\"color:red;\">'\n",
              "                          + '<p>JavaScript Error: ' + error.message + '</p>'\n",
              "                          + \"<p>This usually means there's a typo in your chart specification. \"\n",
              "                          + \"See the javascript console for the full traceback.</p>\"\n",
              "                          + '</div>');\n",
              "          throw error;\n",
              "      }\n",
              "      const el = document.getElementById('altair-viz');\n",
              "      vegaEmbed(\"#altair-viz\", spec, embedOpt)\n",
              "        .catch(error => showError(el, error));\n",
              "\n",
              "  </script>\n",
              "</body>\n",
              "</html>"
            ]
          },
          "metadata": {
            "tags": []
          },
          "execution_count": 7
        }
      ]
    },
    {
      "metadata": {
        "id": "euQELsIfpYRc",
        "colab_type": "code",
        "colab": {
          "base_uri": "https://localhost:8080/",
          "height": 436
        },
        "outputId": "d68ac20d-9d5c-461e-9f16-961d51475706"
      },
      "cell_type": "code",
      "source": [
        "#looking at alt.datum\n",
        "help(alt.datum)"
      ],
      "execution_count": 9,
      "outputs": [
        {
          "output_type": "stream",
          "text": [
            "Help on DatumType in module altair.expr.core object:\n",
            "\n",
            "class DatumType(builtins.object)\n",
            " |  An object to assist in building Vega-Lite Expressions\n",
            " |  \n",
            " |  Methods defined here:\n",
            " |  \n",
            " |  __getattr__(self, attr)\n",
            " |  \n",
            " |  __getitem__(self, attr)\n",
            " |  \n",
            " |  __repr__(self)\n",
            " |      Return repr(self).\n",
            " |  \n",
            " |  ----------------------------------------------------------------------\n",
            " |  Data descriptors defined here:\n",
            " |  \n",
            " |  __dict__\n",
            " |      dictionary for instance variables (if defined)\n",
            " |  \n",
            " |  __weakref__\n",
            " |      list of weak references to the object (if defined)\n",
            "\n"
          ],
          "name": "stdout"
        }
      ]
    },
    {
      "metadata": {
        "id": "kz9Xs472st7d",
        "colab_type": "code",
        "colab": {
          "base_uri": "https://localhost:8080/",
          "height": 1346
        },
        "outputId": "b33e6d40-17d1-44db-9a50-e24fe3e2003f"
      },
      "cell_type": "code",
      "source": [
        "source = data.barley()\n",
        "\n",
        "alt.Chart(source, title=\"The Morris Mistake\").mark_point().encode(\n",
        "    #what's mapped on the x axis\n",
        "    alt.X(\n",
        "        'yield:Q',\n",
        "        title=\"Barley Yield (bushels/acre)\", #X label at very bottom\n",
        "        scale=alt.Scale(zero=False), #start at 0?\n",
        "        axis=alt.Axis(grid=False) #vertical grid lines off\n",
        "    ),\n",
        "    \n",
        "    #what's mapped on the y axis\n",
        "    alt.Y(\n",
        "        'variety:N',\n",
        "        title=\"\",\n",
        "        sort=alt.EncodingSortField(field='yield', op='sum', order='descending'),\n",
        "        scale=alt.Scale(rangeStep=20),\n",
        "        axis=alt.Axis(grid=True)\n",
        "    ),\n",
        "    \n",
        "    color=alt.Color('year:N', legend=alt.Legend(title=\"Year\")),\n",
        "    row=alt.Row(\n",
        "        'site:N',\n",
        "        title=\"\",\n",
        "        sort=alt.EncodingSortField(field='yield', op='sum', order='descending'),\n",
        "    )\n",
        ").configure_view(stroke=\"transparent\") #drops the top and bottom bar of each graph section"
      ],
      "execution_count": 19,
      "outputs": [
        {
          "output_type": "execute_result",
          "data": {
            "text/plain": [
              "Chart({\n",
              "  config: Config({\n",
              "    view: ViewConfig({\n",
              "      stroke: 'transparent'\n",
              "    })\n",
              "  }),\n",
              "  data:                 site           variety  year     yield\n",
              "  0    University Farm         Manchuria  1931  27.00000\n",
              "  1             Waseca         Manchuria  1931  48.86667\n",
              "  2             Morris         Manchuria  1931  27.43334\n",
              "  3          Crookston         Manchuria  1931  39.93333\n",
              "  4       Grand Rapids         Manchuria  1931  32.96667\n",
              "  5             Duluth         Manchuria  1931  28.96667\n",
              "  6    University Farm           Glabron  1931  43.06666\n",
              "  7             Waseca           Glabron  1931  55.20000\n",
              "  8             Morris           Glabron  1931  28.76667\n",
              "  9          Crookston           Glabron  1931  38.13333\n",
              "  10      Grand Rapids           Glabron  1931  29.13333\n",
              "  11            Duluth           Glabron  1931  29.66667\n",
              "  12   University Farm          Svansota  1931  35.13333\n",
              "  13            Waseca          Svansota  1931  47.33333\n",
              "  14            Morris          Svansota  1931  25.76667\n",
              "  15         Crookston          Svansota  1931  40.46667\n",
              "  16      Grand Rapids          Svansota  1931  29.66667\n",
              "  17            Duluth          Svansota  1931  25.70000\n",
              "  18   University Farm            Velvet  1931  39.90000\n",
              "  19            Waseca            Velvet  1931  50.23333\n",
              "  20            Morris            Velvet  1931  26.13333\n",
              "  21         Crookston            Velvet  1931  41.33333\n",
              "  22      Grand Rapids            Velvet  1931  23.03333\n",
              "  23            Duluth            Velvet  1931  26.30000\n",
              "  24   University Farm             Trebi  1931  36.56666\n",
              "  25            Waseca             Trebi  1931  63.83330\n",
              "  26            Morris             Trebi  1931  43.76667\n",
              "  27         Crookston             Trebi  1931  46.93333\n",
              "  28      Grand Rapids             Trebi  1931  29.76667\n",
              "  29            Duluth             Trebi  1931  33.93333\n",
              "  ..               ...               ...   ...       ...\n",
              "  90   University Farm           No. 457  1932  26.43334\n",
              "  91            Waseca           No. 457  1932  42.20000\n",
              "  92            Morris           No. 457  1932  43.53334\n",
              "  93         Crookston           No. 457  1932  34.33333\n",
              "  94      Grand Rapids           No. 457  1932  19.46667\n",
              "  95            Duluth           No. 457  1932  22.70000\n",
              "  96   University Farm           No. 462  1932  25.56667\n",
              "  97            Waseca           No. 462  1932  44.70000\n",
              "  98            Morris           No. 462  1932  47.00000\n",
              "  99         Crookston           No. 462  1932  30.53333\n",
              "  100     Grand Rapids           No. 462  1932  19.90000\n",
              "  101           Duluth           No. 462  1932  22.50000\n",
              "  102  University Farm          Peatland  1932  28.06667\n",
              "  103           Waseca          Peatland  1932  36.03333\n",
              "  104           Morris          Peatland  1932  43.20000\n",
              "  105        Crookston          Peatland  1932  25.23333\n",
              "  106     Grand Rapids          Peatland  1932  26.76667\n",
              "  107           Duluth          Peatland  1932  31.36667\n",
              "  108  University Farm           No. 475  1932  30.00000\n",
              "  109           Waseca           No. 475  1932  41.26667\n",
              "  110           Morris           No. 475  1932  44.23333\n",
              "  111        Crookston           No. 475  1932  32.13333\n",
              "  112     Grand Rapids           No. 475  1932  15.23333\n",
              "  113           Duluth           No. 475  1932  27.36667\n",
              "  114  University Farm  Wisconsin No. 38  1932  38.00000\n",
              "  115           Waseca  Wisconsin No. 38  1932  58.16667\n",
              "  116           Morris  Wisconsin No. 38  1932  47.16667\n",
              "  117        Crookston  Wisconsin No. 38  1932  35.90000\n",
              "  118     Grand Rapids  Wisconsin No. 38  1932  20.66667\n",
              "  119           Duluth  Wisconsin No. 38  1932  29.33333\n",
              "  \n",
              "  [120 rows x 4 columns],\n",
              "  encoding: EncodingWithFacet({\n",
              "    color: Color({\n",
              "      legend: Legend({\n",
              "        title: 'Year'\n",
              "      }),\n",
              "      shorthand: 'year:N'\n",
              "    }),\n",
              "    row: Row({\n",
              "      shorthand: 'site:N',\n",
              "      sort: EncodingSortField({\n",
              "        field: 'yield',\n",
              "        op: 'sum',\n",
              "        order: 'descending'\n",
              "      }),\n",
              "      title: ''\n",
              "    }),\n",
              "    x: X({\n",
              "      axis: Axis({\n",
              "        grid: False\n",
              "      }),\n",
              "      scale: Scale({\n",
              "        zero: False\n",
              "      }),\n",
              "      shorthand: 'yield:Q',\n",
              "      title: 'Barley Yield (bushels/acre)'\n",
              "    }),\n",
              "    y: Y({\n",
              "      axis: Axis({\n",
              "        grid: True\n",
              "      }),\n",
              "      scale: Scale({\n",
              "        rangeStep: 20\n",
              "      }),\n",
              "      shorthand: 'variety:N',\n",
              "      sort: EncodingSortField({\n",
              "        field: 'yield',\n",
              "        op: 'sum',\n",
              "        order: 'descending'\n",
              "      }),\n",
              "      title: ''\n",
              "    })\n",
              "  }),\n",
              "  mark: 'point',\n",
              "  title: 'The Morris Mistake'\n",
              "})"
            ],
            "text/html": [
              "<!DOCTYPE html>\n",
              "<html>\n",
              "<head>\n",
              "  <style>\n",
              "    .vega-actions a {\n",
              "        margin-right: 12px;\n",
              "        color: #757575;\n",
              "        font-weight: normal;\n",
              "        font-size: 13px;\n",
              "    }\n",
              "    .error {\n",
              "        color: red;\n",
              "    }\n",
              "  </style>\n",
              "  <script type=\"text/javascript\" src=\"https://cdn.jsdelivr.net/npm//vega@4\"></script>\n",
              "  <script type=\"text/javascript\" src=\"https://cdn.jsdelivr.net/npm//vega-lite@2.6.0\"></script>\n",
              "  <script type=\"text/javascript\" src=\"https://cdn.jsdelivr.net/npm//vega-embed@3\"></script>\n",
              "</head>\n",
              "<body>\n",
              "  <div id=\"altair-viz\"></div>\n",
              "  <script>\n",
              "      var spec = {\"config\": {\"view\": {\"width\": 400, \"height\": 300, \"stroke\": \"transparent\"}}, \"data\": {\"name\": \"data-093ece8c35bb2d41094cfb6138ec810b\"}, \"mark\": \"point\", \"encoding\": {\"color\": {\"type\": \"nominal\", \"field\": \"year\", \"legend\": {\"title\": \"Year\"}}, \"row\": {\"type\": \"nominal\", \"field\": \"site\", \"sort\": {\"op\": \"sum\", \"field\": \"yield\", \"order\": \"descending\"}, \"title\": \"\"}, \"x\": {\"type\": \"quantitative\", \"axis\": {\"grid\": false}, \"field\": \"yield\", \"scale\": {\"zero\": false}, \"title\": \"Barley Yield (bushels/acre)\"}, \"y\": {\"type\": \"nominal\", \"axis\": {\"grid\": true}, \"field\": \"variety\", \"scale\": {\"rangeStep\": 20}, \"sort\": {\"op\": \"sum\", \"field\": \"yield\", \"order\": \"descending\"}, \"title\": \"\"}}, \"title\": \"The Morris Mistake\", \"$schema\": \"https://vega.github.io/schema/vega-lite/v2.6.0.json\", \"datasets\": {\"data-093ece8c35bb2d41094cfb6138ec810b\": [{\"site\": \"University Farm\", \"variety\": \"Manchuria\", \"year\": 1931, \"yield\": 27.0}, {\"site\": \"Waseca\", \"variety\": \"Manchuria\", \"year\": 1931, \"yield\": 48.86667}, {\"site\": \"Morris\", \"variety\": \"Manchuria\", \"year\": 1931, \"yield\": 27.43334}, {\"site\": \"Crookston\", \"variety\": \"Manchuria\", \"year\": 1931, \"yield\": 39.93333}, {\"site\": \"Grand Rapids\", \"variety\": \"Manchuria\", \"year\": 1931, \"yield\": 32.96667}, {\"site\": \"Duluth\", \"variety\": \"Manchuria\", \"year\": 1931, \"yield\": 28.96667}, {\"site\": \"University Farm\", \"variety\": \"Glabron\", \"year\": 1931, \"yield\": 43.06666}, {\"site\": \"Waseca\", \"variety\": \"Glabron\", \"year\": 1931, \"yield\": 55.2}, {\"site\": \"Morris\", \"variety\": \"Glabron\", \"year\": 1931, \"yield\": 28.76667}, {\"site\": \"Crookston\", \"variety\": \"Glabron\", \"year\": 1931, \"yield\": 38.13333}, {\"site\": \"Grand Rapids\", \"variety\": \"Glabron\", \"year\": 1931, \"yield\": 29.13333}, {\"site\": \"Duluth\", \"variety\": \"Glabron\", \"year\": 1931, \"yield\": 29.66667}, {\"site\": \"University Farm\", \"variety\": \"Svansota\", \"year\": 1931, \"yield\": 35.13333}, {\"site\": \"Waseca\", \"variety\": \"Svansota\", \"year\": 1931, \"yield\": 47.33333}, {\"site\": \"Morris\", \"variety\": \"Svansota\", \"year\": 1931, \"yield\": 25.76667}, {\"site\": \"Crookston\", \"variety\": \"Svansota\", \"year\": 1931, \"yield\": 40.46667}, {\"site\": \"Grand Rapids\", \"variety\": \"Svansota\", \"year\": 1931, \"yield\": 29.66667}, {\"site\": \"Duluth\", \"variety\": \"Svansota\", \"year\": 1931, \"yield\": 25.7}, {\"site\": \"University Farm\", \"variety\": \"Velvet\", \"year\": 1931, \"yield\": 39.9}, {\"site\": \"Waseca\", \"variety\": \"Velvet\", \"year\": 1931, \"yield\": 50.23333}, {\"site\": \"Morris\", \"variety\": \"Velvet\", \"year\": 1931, \"yield\": 26.13333}, {\"site\": \"Crookston\", \"variety\": \"Velvet\", \"year\": 1931, \"yield\": 41.33333}, {\"site\": \"Grand Rapids\", \"variety\": \"Velvet\", \"year\": 1931, \"yield\": 23.03333}, {\"site\": \"Duluth\", \"variety\": \"Velvet\", \"year\": 1931, \"yield\": 26.3}, {\"site\": \"University Farm\", \"variety\": \"Trebi\", \"year\": 1931, \"yield\": 36.56666}, {\"site\": \"Waseca\", \"variety\": \"Trebi\", \"year\": 1931, \"yield\": 63.8333}, {\"site\": \"Morris\", \"variety\": \"Trebi\", \"year\": 1931, \"yield\": 43.76667}, {\"site\": \"Crookston\", \"variety\": \"Trebi\", \"year\": 1931, \"yield\": 46.93333}, {\"site\": \"Grand Rapids\", \"variety\": \"Trebi\", \"year\": 1931, \"yield\": 29.76667}, {\"site\": \"Duluth\", \"variety\": \"Trebi\", \"year\": 1931, \"yield\": 33.93333}, {\"site\": \"University Farm\", \"variety\": \"No. 457\", \"year\": 1931, \"yield\": 43.26667}, {\"site\": \"Waseca\", \"variety\": \"No. 457\", \"year\": 1931, \"yield\": 58.1}, {\"site\": \"Morris\", \"variety\": \"No. 457\", \"year\": 1931, \"yield\": 28.7}, {\"site\": \"Crookston\", \"variety\": \"No. 457\", \"year\": 1931, \"yield\": 45.66667}, {\"site\": \"Grand Rapids\", \"variety\": \"No. 457\", \"year\": 1931, \"yield\": 32.16667}, {\"site\": \"Duluth\", \"variety\": \"No. 457\", \"year\": 1931, \"yield\": 33.6}, {\"site\": \"University Farm\", \"variety\": \"No. 462\", \"year\": 1931, \"yield\": 36.6}, {\"site\": \"Waseca\", \"variety\": \"No. 462\", \"year\": 1931, \"yield\": 65.7667}, {\"site\": \"Morris\", \"variety\": \"No. 462\", \"year\": 1931, \"yield\": 30.36667}, {\"site\": \"Crookston\", \"variety\": \"No. 462\", \"year\": 1931, \"yield\": 48.56666}, {\"site\": \"Grand Rapids\", \"variety\": \"No. 462\", \"year\": 1931, \"yield\": 24.93334}, {\"site\": \"Duluth\", \"variety\": \"No. 462\", \"year\": 1931, \"yield\": 28.1}, {\"site\": \"University Farm\", \"variety\": \"Peatland\", \"year\": 1931, \"yield\": 32.76667}, {\"site\": \"Waseca\", \"variety\": \"Peatland\", \"year\": 1931, \"yield\": 48.56666}, {\"site\": \"Morris\", \"variety\": \"Peatland\", \"year\": 1931, \"yield\": 29.86667}, {\"site\": \"Crookston\", \"variety\": \"Peatland\", \"year\": 1931, \"yield\": 41.6}, {\"site\": \"Grand Rapids\", \"variety\": \"Peatland\", \"year\": 1931, \"yield\": 34.7}, {\"site\": \"Duluth\", \"variety\": \"Peatland\", \"year\": 1931, \"yield\": 32.0}, {\"site\": \"University Farm\", \"variety\": \"No. 475\", \"year\": 1931, \"yield\": 24.66667}, {\"site\": \"Waseca\", \"variety\": \"No. 475\", \"year\": 1931, \"yield\": 46.76667}, {\"site\": \"Morris\", \"variety\": \"No. 475\", \"year\": 1931, \"yield\": 22.6}, {\"site\": \"Crookston\", \"variety\": \"No. 475\", \"year\": 1931, \"yield\": 44.1}, {\"site\": \"Grand Rapids\", \"variety\": \"No. 475\", \"year\": 1931, \"yield\": 19.7}, {\"site\": \"Duluth\", \"variety\": \"No. 475\", \"year\": 1931, \"yield\": 33.06666}, {\"site\": \"University Farm\", \"variety\": \"Wisconsin No. 38\", \"year\": 1931, \"yield\": 39.3}, {\"site\": \"Waseca\", \"variety\": \"Wisconsin No. 38\", \"year\": 1931, \"yield\": 58.8}, {\"site\": \"Morris\", \"variety\": \"Wisconsin No. 38\", \"year\": 1931, \"yield\": 29.46667}, {\"site\": \"Crookston\", \"variety\": \"Wisconsin No. 38\", \"year\": 1931, \"yield\": 49.86667}, {\"site\": \"Grand Rapids\", \"variety\": \"Wisconsin No. 38\", \"year\": 1931, \"yield\": 34.46667}, {\"site\": \"Duluth\", \"variety\": \"Wisconsin No. 38\", \"year\": 1931, \"yield\": 31.6}, {\"site\": \"University Farm\", \"variety\": \"Manchuria\", \"year\": 1932, \"yield\": 26.9}, {\"site\": \"Waseca\", \"variety\": \"Manchuria\", \"year\": 1932, \"yield\": 33.46667}, {\"site\": \"Morris\", \"variety\": \"Manchuria\", \"year\": 1932, \"yield\": 34.36666}, {\"site\": \"Crookston\", \"variety\": \"Manchuria\", \"year\": 1932, \"yield\": 32.96667}, {\"site\": \"Grand Rapids\", \"variety\": \"Manchuria\", \"year\": 1932, \"yield\": 22.13333}, {\"site\": \"Duluth\", \"variety\": \"Manchuria\", \"year\": 1932, \"yield\": 22.56667}, {\"site\": \"University Farm\", \"variety\": \"Glabron\", \"year\": 1932, \"yield\": 36.8}, {\"site\": \"Waseca\", \"variety\": \"Glabron\", \"year\": 1932, \"yield\": 37.73333}, {\"site\": \"Morris\", \"variety\": \"Glabron\", \"year\": 1932, \"yield\": 35.13333}, {\"site\": \"Crookston\", \"variety\": \"Glabron\", \"year\": 1932, \"yield\": 26.16667}, {\"site\": \"Grand Rapids\", \"variety\": \"Glabron\", \"year\": 1932, \"yield\": 14.43333}, {\"site\": \"Duluth\", \"variety\": \"Glabron\", \"year\": 1932, \"yield\": 25.86667}, {\"site\": \"University Farm\", \"variety\": \"Svansota\", \"year\": 1932, \"yield\": 27.43334}, {\"site\": \"Waseca\", \"variety\": \"Svansota\", \"year\": 1932, \"yield\": 38.5}, {\"site\": \"Morris\", \"variety\": \"Svansota\", \"year\": 1932, \"yield\": 35.03333}, {\"site\": \"Crookston\", \"variety\": \"Svansota\", \"year\": 1932, \"yield\": 20.63333}, {\"site\": \"Grand Rapids\", \"variety\": \"Svansota\", \"year\": 1932, \"yield\": 16.63333}, {\"site\": \"Duluth\", \"variety\": \"Svansota\", \"year\": 1932, \"yield\": 22.23333}, {\"site\": \"University Farm\", \"variety\": \"Velvet\", \"year\": 1932, \"yield\": 26.8}, {\"site\": \"Waseca\", \"variety\": \"Velvet\", \"year\": 1932, \"yield\": 37.4}, {\"site\": \"Morris\", \"variety\": \"Velvet\", \"year\": 1932, \"yield\": 38.83333}, {\"site\": \"Crookston\", \"variety\": \"Velvet\", \"year\": 1932, \"yield\": 32.06666}, {\"site\": \"Grand Rapids\", \"variety\": \"Velvet\", \"year\": 1932, \"yield\": 32.23333}, {\"site\": \"Duluth\", \"variety\": \"Velvet\", \"year\": 1932, \"yield\": 22.46667}, {\"site\": \"University Farm\", \"variety\": \"Trebi\", \"year\": 1932, \"yield\": 29.06667}, {\"site\": \"Waseca\", \"variety\": \"Trebi\", \"year\": 1932, \"yield\": 49.2333}, {\"site\": \"Morris\", \"variety\": \"Trebi\", \"year\": 1932, \"yield\": 46.63333}, {\"site\": \"Crookston\", \"variety\": \"Trebi\", \"year\": 1932, \"yield\": 41.83333}, {\"site\": \"Grand Rapids\", \"variety\": \"Trebi\", \"year\": 1932, \"yield\": 20.63333}, {\"site\": \"Duluth\", \"variety\": \"Trebi\", \"year\": 1932, \"yield\": 30.6}, {\"site\": \"University Farm\", \"variety\": \"No. 457\", \"year\": 1932, \"yield\": 26.43334}, {\"site\": \"Waseca\", \"variety\": \"No. 457\", \"year\": 1932, \"yield\": 42.2}, {\"site\": \"Morris\", \"variety\": \"No. 457\", \"year\": 1932, \"yield\": 43.53334}, {\"site\": \"Crookston\", \"variety\": \"No. 457\", \"year\": 1932, \"yield\": 34.33333}, {\"site\": \"Grand Rapids\", \"variety\": \"No. 457\", \"year\": 1932, \"yield\": 19.46667}, {\"site\": \"Duluth\", \"variety\": \"No. 457\", \"year\": 1932, \"yield\": 22.7}, {\"site\": \"University Farm\", \"variety\": \"No. 462\", \"year\": 1932, \"yield\": 25.56667}, {\"site\": \"Waseca\", \"variety\": \"No. 462\", \"year\": 1932, \"yield\": 44.7}, {\"site\": \"Morris\", \"variety\": \"No. 462\", \"year\": 1932, \"yield\": 47.0}, {\"site\": \"Crookston\", \"variety\": \"No. 462\", \"year\": 1932, \"yield\": 30.53333}, {\"site\": \"Grand Rapids\", \"variety\": \"No. 462\", \"year\": 1932, \"yield\": 19.9}, {\"site\": \"Duluth\", \"variety\": \"No. 462\", \"year\": 1932, \"yield\": 22.5}, {\"site\": \"University Farm\", \"variety\": \"Peatland\", \"year\": 1932, \"yield\": 28.06667}, {\"site\": \"Waseca\", \"variety\": \"Peatland\", \"year\": 1932, \"yield\": 36.03333}, {\"site\": \"Morris\", \"variety\": \"Peatland\", \"year\": 1932, \"yield\": 43.2}, {\"site\": \"Crookston\", \"variety\": \"Peatland\", \"year\": 1932, \"yield\": 25.23333}, {\"site\": \"Grand Rapids\", \"variety\": \"Peatland\", \"year\": 1932, \"yield\": 26.76667}, {\"site\": \"Duluth\", \"variety\": \"Peatland\", \"year\": 1932, \"yield\": 31.36667}, {\"site\": \"University Farm\", \"variety\": \"No. 475\", \"year\": 1932, \"yield\": 30.0}, {\"site\": \"Waseca\", \"variety\": \"No. 475\", \"year\": 1932, \"yield\": 41.26667}, {\"site\": \"Morris\", \"variety\": \"No. 475\", \"year\": 1932, \"yield\": 44.23333}, {\"site\": \"Crookston\", \"variety\": \"No. 475\", \"year\": 1932, \"yield\": 32.13333}, {\"site\": \"Grand Rapids\", \"variety\": \"No. 475\", \"year\": 1932, \"yield\": 15.23333}, {\"site\": \"Duluth\", \"variety\": \"No. 475\", \"year\": 1932, \"yield\": 27.36667}, {\"site\": \"University Farm\", \"variety\": \"Wisconsin No. 38\", \"year\": 1932, \"yield\": 38.0}, {\"site\": \"Waseca\", \"variety\": \"Wisconsin No. 38\", \"year\": 1932, \"yield\": 58.16667}, {\"site\": \"Morris\", \"variety\": \"Wisconsin No. 38\", \"year\": 1932, \"yield\": 47.16667}, {\"site\": \"Crookston\", \"variety\": \"Wisconsin No. 38\", \"year\": 1932, \"yield\": 35.9}, {\"site\": \"Grand Rapids\", \"variety\": \"Wisconsin No. 38\", \"year\": 1932, \"yield\": 20.66667}, {\"site\": \"Duluth\", \"variety\": \"Wisconsin No. 38\", \"year\": 1932, \"yield\": 29.33333}]}};\n",
              "      var embedOpt = {\"mode\": \"vega-lite\"};\n",
              "\n",
              "      function showError(el, error){\n",
              "          el.innerHTML = ('<div class=\"error\" style=\"color:red;\">'\n",
              "                          + '<p>JavaScript Error: ' + error.message + '</p>'\n",
              "                          + \"<p>This usually means there's a typo in your chart specification. \"\n",
              "                          + \"See the javascript console for the full traceback.</p>\"\n",
              "                          + '</div>');\n",
              "          throw error;\n",
              "      }\n",
              "      const el = document.getElementById('altair-viz');\n",
              "      vegaEmbed(\"#altair-viz\", spec, embedOpt)\n",
              "        .catch(error => showError(el, error));\n",
              "\n",
              "  </script>\n",
              "</body>\n",
              "</html>"
            ]
          },
          "metadata": {
            "tags": []
          },
          "execution_count": 19
        }
      ]
    }
  ]
}