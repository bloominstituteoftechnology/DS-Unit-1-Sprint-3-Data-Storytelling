{
  "nbformat": 4,
  "nbformat_minor": 0,
  "metadata": {
    "colab": {
      "name": "Copy of LS_DS_222_Choose_appropriate_visualizations LIVE LESSON.ipynb",
      "version": "0.3.2",
      "provenance": [],
      "collapsed_sections": [
        "Cn-xMBPcljbc"
      ],
      "include_colab_link": true
    },
    "kernelspec": {
      "display_name": "Python 3",
      "language": "python",
      "name": "python3"
    }
  },
  "cells": [
    {
      "cell_type": "markdown",
      "metadata": {
        "id": "view-in-github",
        "colab_type": "text"
      },
      "source": [
        "<a href=\"https://colab.research.google.com/github/derek-shing/DS-Unit-1-Sprint-3-Data-Storytelling/blob/master/Copy_of_LS_DS_222_Choose_appropriate_visualizations_LIVE_LESSON.ipynb\" target=\"_parent\"><img src=\"https://colab.research.google.com/assets/colab-badge.svg\" alt=\"Open In Colab\"/></a>"
      ]
    },
    {
      "metadata": {
        "colab_type": "text",
        "id": "1nwMfulDljaS"
      },
      "cell_type": "markdown",
      "source": [
        "_Lambda School Data Science_\n",
        "# Choose appropriate visualizations\n",
        "\n",
        "Objectives\n",
        "- fix misleading visualizations\n",
        "- use Seaborn to visualize distributions and relationships with continuous and discrete variables\n",
        "\n",
        "Links\n",
        "- [How to Spot Visualization Lies](https://flowingdata.com/2017/02/09/how-to-spot-visualization-lies/)\n",
        "- [Financial Times Visual Vocabulary poster](http://ft.com/vocabulary)\n",
        "- [Choosing a Python Visualization Tool flowchart](http://pbpython.com/python-vis-flowchart.html)\n",
        "- [Seaborn example gallery](http://seaborn.pydata.org/examples/index.html) & [tutorial](http://seaborn.pydata.org/tutorial.html)\n"
      ]
    },
    {
      "metadata": {
        "colab_type": "text",
        "id": "yp50E_pnljaV"
      },
      "cell_type": "markdown",
      "source": [
        "# Upgrade Seaborn\n",
        "\n",
        "Make sure you have at least version 0.9.0.\n",
        "\n",
        "On Colab, go to **Restart runtime** after you run the `pip` command."
      ]
    },
    {
      "metadata": {
        "colab_type": "code",
        "id": "MJAy4kPfljaV",
        "colab": {}
      },
      "cell_type": "code",
      "source": [
        "!pip install --upgrade seaborn"
      ],
      "execution_count": 0,
      "outputs": []
    },
    {
      "metadata": {
        "colab_type": "code",
        "id": "fXZFXHccljaZ",
        "outputId": "9e6b9e9f-1600-41ef-a6e7-2abdba068a88",
        "colab": {
          "base_uri": "https://localhost:8080/",
          "height": 34
        }
      },
      "cell_type": "code",
      "source": [
        "import seaborn as sns\n",
        "sns.__version__"
      ],
      "execution_count": 3,
      "outputs": [
        {
          "output_type": "execute_result",
          "data": {
            "text/plain": [
              "'0.9.0'"
            ]
          },
          "metadata": {
            "tags": []
          },
          "execution_count": 3
        }
      ]
    },
    {
      "metadata": {
        "colab_type": "text",
        "id": "Md1lMTx1ljab"
      },
      "cell_type": "markdown",
      "source": [
        "# Fix misleading visualizations"
      ]
    },
    {
      "metadata": {
        "colab_type": "code",
        "id": "5kTa_5Lnljac",
        "colab": {}
      },
      "cell_type": "code",
      "source": [
        "%matplotlib inline\n",
        "import matplotlib.pyplot as plt\n",
        "import numpy as np\n",
        "import pandas as pd"
      ],
      "execution_count": 0,
      "outputs": []
    },
    {
      "metadata": {
        "colab_type": "code",
        "id": "FkXJKBMOljae",
        "colab": {
          "base_uri": "https://localhost:8080/",
          "height": 224
        },
        "outputId": "907b5fe9-d272-4074-cf07-ddc7addd98cd"
      },
      "cell_type": "code",
      "source": [
        "!wget https://raw.githubusercontent.com/LambdaSchool/DS-Unit-1-Sprint-3-Data-Storytelling/master/module2-choose-appropriate-visualizations/misleading.py\n",
        "    \n",
        "import misleading"
      ],
      "execution_count": 22,
      "outputs": [
        {
          "output_type": "stream",
          "text": [
            "--2019-01-22 17:33:48--  https://raw.githubusercontent.com/LambdaSchool/DS-Unit-1-Sprint-3-Data-Storytelling/master/module2-choose-appropriate-visualizations/misleading.py\n",
            "Resolving raw.githubusercontent.com (raw.githubusercontent.com)... 151.101.0.133, 151.101.64.133, 151.101.128.133, ...\n",
            "Connecting to raw.githubusercontent.com (raw.githubusercontent.com)|151.101.0.133|:443... connected.\n",
            "HTTP request sent, awaiting response... 200 OK\n",
            "Length: 1258 (1.2K) [text/plain]\n",
            "Saving to: ‘misleading.py.1’\n",
            "\n",
            "\rmisleading.py.1       0%[                    ]       0  --.-KB/s               \rmisleading.py.1     100%[===================>]   1.23K  --.-KB/s    in 0s      \n",
            "\n",
            "2019-01-22 17:33:48 (187 MB/s) - ‘misleading.py.1’ saved [1258/1258]\n",
            "\n"
          ],
          "name": "stdout"
        }
      ]
    },
    {
      "metadata": {
        "colab_type": "text",
        "id": "CBe1A0IJljag"
      },
      "cell_type": "markdown",
      "source": [
        "### Fix misleading plot #1"
      ]
    },
    {
      "metadata": {
        "colab_type": "code",
        "id": "nSkHZKmRljah",
        "colab": {}
      },
      "cell_type": "code",
      "source": [
        "misleading.plot1();"
      ],
      "execution_count": 0,
      "outputs": []
    },
    {
      "metadata": {
        "id": "UOH6ZuQ7kRaV",
        "colab_type": "code",
        "colab": {}
      },
      "cell_type": "code",
      "source": [
        "misleading??\n"
      ],
      "execution_count": 0,
      "outputs": []
    },
    {
      "metadata": {
        "id": "EldHif0Ekusu",
        "colab_type": "code",
        "colab": {}
      },
      "cell_type": "code",
      "source": [
        "insurance = pd.DataFrame(\n",
        "    index=['State Farm', 'GEICO'], \n",
        "    data={'Market Share %': [18.07, 12.79]})\n",
        "\n",
        "\n",
        "def plot1():\n",
        "    return insurance.plot.bar()\n",
        "  \n"
      ],
      "execution_count": 0,
      "outputs": []
    },
    {
      "metadata": {
        "id": "-6x87oAakugc",
        "colab_type": "code",
        "colab": {}
      },
      "cell_type": "code",
      "source": [
        ""
      ],
      "execution_count": 0,
      "outputs": []
    },
    {
      "metadata": {
        "colab_type": "text",
        "id": "6RB2pFjQljal"
      },
      "cell_type": "markdown",
      "source": [
        "### Fix misleading plot #2"
      ]
    },
    {
      "metadata": {
        "colab_type": "code",
        "id": "PAjwPf8vljam",
        "colab": {
          "base_uri": "https://localhost:8080/",
          "height": 303
        },
        "outputId": "ed5e8f83-02ae-4fc4-9b48-46db54f4f087"
      },
      "cell_type": "code",
      "source": [
        "misleading.plot2();"
      ],
      "execution_count": 15,
      "outputs": [
        {
          "output_type": "display_data",
          "data": {
            "image/png": "[encoded data removed]",
            "text/plain": [
              "<Figure size 360x360 with 1 Axes>"
            ]
          },
          "metadata": {
            "tags": []
          }
        }
      ]
    },
    {
      "metadata": {
        "id": "P4kybG_jliFu",
        "colab_type": "code",
        "colab": {}
      },
      "cell_type": "code",
      "source": [
        "def plot2():\n",
        "    return insurance.plot.pie('Market Share %', figsize=(5, 5))"
      ],
      "execution_count": 0,
      "outputs": []
    },
    {
      "metadata": {
        "id": "q8IL8MYdmL5x",
        "colab_type": "code",
        "colab": {
          "base_uri": "https://localhost:8080/",
          "height": 173
        },
        "outputId": "9d95164b-e22f-46ed-998a-d4f7fe2618a5"
      },
      "cell_type": "code",
      "source": [
        "insurance.append(['Other', 100 - insurance.sum()])"
      ],
      "execution_count": 24,
      "outputs": [
        {
          "output_type": "execute_result",
          "data": {
            "text/html": [
              "<div>\n",
              "<style scoped>\n",
              "    .dataframe tbody tr th:only-of-type {\n",
              "        vertical-align: middle;\n",
              "    }\n",
              "\n",
              "    .dataframe tbody tr th {\n",
              "        vertical-align: top;\n",
              "    }\n",
              "\n",
              "    .dataframe thead th {\n",
              "        text-align: right;\n",
              "    }\n",
              "</style>\n",
              "<table border=\"1\" class=\"dataframe\">\n",
              "  <thead>\n",
              "    <tr style=\"text-align: right;\">\n",
              "      <th></th>\n",
              "      <th>Market Share %</th>\n",
              "      <th>0</th>\n",
              "    </tr>\n",
              "  </thead>\n",
              "  <tbody>\n",
              "    <tr>\n",
              "      <th>State Farm</th>\n",
              "      <td>18.07</td>\n",
              "      <td>NaN</td>\n",
              "    </tr>\n",
              "    <tr>\n",
              "      <th>GEICO</th>\n",
              "      <td>12.79</td>\n",
              "      <td>NaN</td>\n",
              "    </tr>\n",
              "    <tr>\n",
              "      <th>0</th>\n",
              "      <td>NaN</td>\n",
              "      <td>Other</td>\n",
              "    </tr>\n",
              "    <tr>\n",
              "      <th>1</th>\n",
              "      <td>NaN</td>\n",
              "      <td>Market Share %    69.14\n",
              "dtype: float64</td>\n",
              "    </tr>\n",
              "  </tbody>\n",
              "</table>\n",
              "</div>"
            ],
            "text/plain": [
              "            Market Share %                                       0\n",
              "State Farm           18.07                                     NaN\n",
              "GEICO                12.79                                     NaN\n",
              "0                      NaN                                   Other\n",
              "1                      NaN  Market Share %    69.14\n",
              "dtype: float64"
            ]
          },
          "metadata": {
            "tags": []
          },
          "execution_count": 24
        }
      ]
    },
    {
      "metadata": {
        "id": "pHRVqfuYncts",
        "colab_type": "code",
        "colab": {
          "base_uri": "https://localhost:8080/",
          "height": 111
        },
        "outputId": "700d0341-54f8-4e49-e62b-cc1a5083c7b0"
      },
      "cell_type": "code",
      "source": [
        "insurance\n"
      ],
      "execution_count": 25,
      "outputs": [
        {
          "output_type": "execute_result",
          "data": {
            "text/html": [
              "<div>\n",
              "<style scoped>\n",
              "    .dataframe tbody tr th:only-of-type {\n",
              "        vertical-align: middle;\n",
              "    }\n",
              "\n",
              "    .dataframe tbody tr th {\n",
              "        vertical-align: top;\n",
              "    }\n",
              "\n",
              "    .dataframe thead th {\n",
              "        text-align: right;\n",
              "    }\n",
              "</style>\n",
              "<table border=\"1\" class=\"dataframe\">\n",
              "  <thead>\n",
              "    <tr style=\"text-align: right;\">\n",
              "      <th></th>\n",
              "      <th>Market Share %</th>\n",
              "    </tr>\n",
              "  </thead>\n",
              "  <tbody>\n",
              "    <tr>\n",
              "      <th>State Farm</th>\n",
              "      <td>18.07</td>\n",
              "    </tr>\n",
              "    <tr>\n",
              "      <th>GEICO</th>\n",
              "      <td>12.79</td>\n",
              "    </tr>\n",
              "  </tbody>\n",
              "</table>\n",
              "</div>"
            ],
            "text/plain": [
              "            Market Share %\n",
              "State Farm           18.07\n",
              "GEICO                12.79"
            ]
          },
          "metadata": {
            "tags": []
          },
          "execution_count": 25
        }
      ]
    },
    {
      "metadata": {
        "colab_type": "text",
        "id": "6FISiBH3ljaw"
      },
      "cell_type": "markdown",
      "source": [
        "## Fix misleading plot #3"
      ]
    },
    {
      "metadata": {
        "colab_type": "text",
        "id": "Dwcc8Jylljax"
      },
      "cell_type": "markdown",
      "source": [
        "_If you're on Jupyter (not Colab) then uncomment and run this cell below:_"
      ]
    },
    {
      "metadata": {
        "colab_type": "code",
        "id": "TaSuwairljax",
        "colab": {}
      },
      "cell_type": "code",
      "source": [
        "# import altair as alt\n",
        "# alt.renderers.enable('notebook')"
      ],
      "execution_count": 0,
      "outputs": []
    },
    {
      "metadata": {
        "colab_type": "code",
        "id": "JMirz9RMljaz",
        "colab": {
          "base_uri": "https://localhost:8080/",
          "height": 331
        },
        "outputId": "0d15b914-ad5f-41d6-ced9-61bd2d930426"
      },
      "cell_type": "code",
      "source": [
        "misleading.plot3()"
      ],
      "execution_count": 26,
      "outputs": [
        {
          "output_type": "execute_result",
          "data": {
            "text/plain": [
              "Chart({\n",
              "  data: UrlData({\n",
              "    format: TopoDataFormat({\n",
              "      feature: 'states',\n",
              "      type: 'topojson'\n",
              "    }),\n",
              "    url: 'https://vega.github.io/vega-datasets/data/us-10m.json'\n",
              "  }),\n",
              "  encoding: EncodingWithFacet({\n",
              "    color: Color({\n",
              "      shorthand: 'State Farm policy premiums',\n",
              "      type: 'quantitative'\n",
              "    })\n",
              "  }),\n",
              "  height: 300,\n",
              "  mark: 'geoshape',\n",
              "  projection: Projection({\n",
              "    type: 'albersUsa'\n",
              "  }),\n",
              "  transform: [LookupTransform({\n",
              "    from: LookupData({\n",
              "      data:                    state  id  State Farm policy premiums  \\\n",
              "      0                Alabama   1                      768213   \n",
              "      1                 Alaska   2                      128613   \n",
              "      2                Arizona   4                      760003   \n",
              "      3               Arkansas   5                      454931   \n",
              "      4             California   6                     3655463   \n",
              "      5               Colorado   8                      827143   \n",
              "      6            Connecticut   9                      169773   \n",
              "      7               Delaware  10                      191319   \n",
              "      8   District of Columbia  11                       67231   \n",
              "      9                Florida  12                     2806322   \n",
              "      10               Georgia  13                     1761224   \n",
              "      11                Hawaii  15                      133498   \n",
              "      12                 Idaho  16                      130613   \n",
              "      13              Illinois  17                     2256543   \n",
              "      14               Indiana  18                      861382   \n",
              "      15                  Iowa  19                      368898   \n",
              "      16                Kansas  20                      351343   \n",
              "      17              Kentucky  21                      680433   \n",
              "      18             Louisiana  22                     1415980   \n",
              "      19                 Maine  23                      101111   \n",
              "      20              Maryland  24                      883401   \n",
              "      21         Massachusetts  25                           0   \n",
              "      22              Michigan  26                     1580398   \n",
              "      23             Minnesota  27                      851940   \n",
              "      24           Mississippi  28                      467887   \n",
              "      25              Missouri  29                      883774   \n",
              "      26               Montana  30                      156816   \n",
              "      27              Nebraska  31                      273727   \n",
              "      28                Nevada  32                      404688   \n",
              "      29         New Hampshire  33                      103340   \n",
              "      30            New Jersey  34                      619623   \n",
              "      31            New Mexico  35                      261922   \n",
              "      32              New York  36                     1666653   \n",
              "      33        North Carolina  37                      842368   \n",
              "      34          North Dakota  38                       67282   \n",
              "      35                  Ohio  39                     1240075   \n",
              "      36              Oklahoma  40                      636063   \n",
              "      37                Oregon  41                      564416   \n",
              "      38          Pennsylvania  42                     1654528   \n",
              "      39          Rhode Island  44                           0   \n",
              "      40        South Carolina  45                      874436   \n",
              "      41          South Dakota  46                      101912   \n",
              "      42             Tennessee  47                      889329   \n",
              "      43                 Texas  48                     3395165   \n",
              "      44                  Utah  49                      300403   \n",
              "      45               Vermont  50                       30003   \n",
              "      46              Virginia  51                      878312   \n",
              "      47            Washington  53                      794882   \n",
              "      48         West Virginia  54                      323608   \n",
              "      49             Wisconsin  55                      443680   \n",
              "      50               Wyoming  56                       90412   \n",
              "      51           Puerto Rico  72                           0   \n",
              "      \n",
              "          BERKSHIRE HATHAWAY GRP  STATE TOTAL  \n",
              "      0                   282947      3025561  \n",
              "      1                    81366       454623  \n",
              "      2                   604049      4373055  \n",
              "      3                    96908      1777917  \n",
              "      4                  2091720     25255501  \n",
              "      5                   365797      4057463  \n",
              "      6                   486498      2795415  \n",
              "      7                   129033       802005  \n",
              "      8                   115149       325239  \n",
              "      9                  3952147     17333354  \n",
              "      10                  821326      7571988  \n",
              "      11                  184743       722550  \n",
              "      12                   87222       863636  \n",
              "      13                  412978      7028885  \n",
              "      14                  201200      3506499  \n",
              "      15                   58105      1650388  \n",
              "      16                   76533      1725608  \n",
              "      17                  186915      2805864  \n",
              "      18                  369492      4136224  \n",
              "      19                   68109       699558  \n",
              "      20                 1059508      4554586  \n",
              "      21                  473913      4924736  \n",
              "      22                       0      8462142  \n",
              "      23                  108942      3412460  \n",
              "      24                  100827      1760180  \n",
              "      25                  214191      3606590  \n",
              "      26                   33538       668513  \n",
              "      27                   61046      1167135  \n",
              "      28                  262815      2129828  \n",
              "      29                  103403       806545  \n",
              "      30                 1441019      7375823  \n",
              "      31                  174865      1284430  \n",
              "      32                 3926684     12633982  \n",
              "      33                  560700      5543700  \n",
              "      34                   15516       454376  \n",
              "      35                  405652      6303148  \n",
              "      36                  151388      2515842  \n",
              "      37                  223187      2647434  \n",
              "      38                  602848      8270326  \n",
              "      39                   97597       867558  \n",
              "      40                  426033      3583918  \n",
              "      41                   15682       508569  \n",
              "      42                  292357      3769652  \n",
              "      43                 2127633     19180816  \n",
              "      44                  139315      1723931  \n",
              "      45                   52939       359996  \n",
              "      46                  884489      5105360  \n",
              "      47                  478922      4780616  \n",
              "      48                  110806      1209872  \n",
              "      49                  131845      2950711  \n",
              "      50                   30187       374169  \n",
              "      51                       0       444480  ,\n",
              "      fields: ['State Farm policy premiums'],\n",
              "      key: 'id'\n",
              "    }),\n",
              "    lookup: 'id'\n",
              "  })],\n",
              "  width: 500\n",
              "})"
            ],
            "text/html": [
              "<!DOCTYPE html>\n",
              "<html>\n",
              "<head>\n",
              "  <style>\n",
              "    .vega-actions a {\n",
              "        margin-right: 12px;\n",
              "        color: #757575;\n",
              "        font-weight: normal;\n",
              "        font-size: 13px;\n",
              "    }\n",
              "    .error {\n",
              "        color: red;\n",
              "    }\n",
              "  </style>\n",
              "  <script type=\"text/javascript\" src=\"https://cdn.jsdelivr.net/npm//vega@4\"></script>\n",
              "  <script type=\"text/javascript\" src=\"https://cdn.jsdelivr.net/npm//vega-lite@2.6.0\"></script>\n",
              "  <script type=\"text/javascript\" src=\"https://cdn.jsdelivr.net/npm//vega-embed@3\"></script>\n",
              "</head>\n",
              "<body>\n",
              "  <div id=\"altair-viz\"></div>\n",
              "  <script>\n",
              "      var spec = {\"config\": {\"view\": {\"width\": 400, \"height\": 300}}, \"data\": {\"url\": \"https://vega.github.io/vega-datasets/data/us-10m.json\", \"format\": {\"feature\": \"states\", \"type\": \"topojson\"}}, \"mark\": \"geoshape\", \"encoding\": {\"color\": {\"type\": \"quantitative\", \"field\": \"State Farm policy premiums\"}}, \"height\": 300, \"projection\": {\"type\": \"albersUsa\"}, \"transform\": [{\"lookup\": \"id\", \"from\": {\"data\": {\"name\": \"data-b615a17f98b0ca7d11f99dcf36616c5d\"}, \"key\": \"id\", \"fields\": [\"State Farm policy premiums\"]}}], \"width\": 500, \"$schema\": \"https://vega.github.io/schema/vega-lite/v2.6.0.json\", \"datasets\": {\"data-b615a17f98b0ca7d11f99dcf36616c5d\": [{\"state\": \"Alabama\", \"id\": 1, \"State Farm policy premiums\": 768213, \"BERKSHIRE HATHAWAY GRP\": 282947, \"STATE TOTAL\": 3025561}, {\"state\": \"Alaska\", \"id\": 2, \"State Farm policy premiums\": 128613, \"BERKSHIRE HATHAWAY GRP\": 81366, \"STATE TOTAL\": 454623}, {\"state\": \"Arizona\", \"id\": 4, \"State Farm policy premiums\": 760003, \"BERKSHIRE HATHAWAY GRP\": 604049, \"STATE TOTAL\": 4373055}, {\"state\": \"Arkansas\", \"id\": 5, \"State Farm policy premiums\": 454931, \"BERKSHIRE HATHAWAY GRP\": 96908, \"STATE TOTAL\": 1777917}, {\"state\": \"California\", \"id\": 6, \"State Farm policy premiums\": 3655463, \"BERKSHIRE HATHAWAY GRP\": 2091720, \"STATE TOTAL\": 25255501}, {\"state\": \"Colorado\", \"id\": 8, \"State Farm policy premiums\": 827143, \"BERKSHIRE HATHAWAY GRP\": 365797, \"STATE TOTAL\": 4057463}, {\"state\": \"Connecticut\", \"id\": 9, \"State Farm policy premiums\": 169773, \"BERKSHIRE HATHAWAY GRP\": 486498, \"STATE TOTAL\": 2795415}, {\"state\": \"Delaware\", \"id\": 10, \"State Farm policy premiums\": 191319, \"BERKSHIRE HATHAWAY GRP\": 129033, \"STATE TOTAL\": 802005}, {\"state\": \"District of Columbia\", \"id\": 11, \"State Farm policy premiums\": 67231, \"BERKSHIRE HATHAWAY GRP\": 115149, \"STATE TOTAL\": 325239}, {\"state\": \"Florida\", \"id\": 12, \"State Farm policy premiums\": 2806322, \"BERKSHIRE HATHAWAY GRP\": 3952147, \"STATE TOTAL\": 17333354}, {\"state\": \"Georgia\", \"id\": 13, \"State Farm policy premiums\": 1761224, \"BERKSHIRE HATHAWAY GRP\": 821326, \"STATE TOTAL\": 7571988}, {\"state\": \"Hawaii\", \"id\": 15, \"State Farm policy premiums\": 133498, \"BERKSHIRE HATHAWAY GRP\": 184743, \"STATE TOTAL\": 722550}, {\"state\": \"Idaho\", \"id\": 16, \"State Farm policy premiums\": 130613, \"BERKSHIRE HATHAWAY GRP\": 87222, \"STATE TOTAL\": 863636}, {\"state\": \"Illinois\", \"id\": 17, \"State Farm policy premiums\": 2256543, \"BERKSHIRE HATHAWAY GRP\": 412978, \"STATE TOTAL\": 7028885}, {\"state\": \"Indiana\", \"id\": 18, \"State Farm policy premiums\": 861382, \"BERKSHIRE HATHAWAY GRP\": 201200, \"STATE TOTAL\": 3506499}, {\"state\": \"Iowa\", \"id\": 19, \"State Farm policy premiums\": 368898, \"BERKSHIRE HATHAWAY GRP\": 58105, \"STATE TOTAL\": 1650388}, {\"state\": \"Kansas\", \"id\": 20, \"State Farm policy premiums\": 351343, \"BERKSHIRE HATHAWAY GRP\": 76533, \"STATE TOTAL\": 1725608}, {\"state\": \"Kentucky\", \"id\": 21, \"State Farm policy premiums\": 680433, \"BERKSHIRE HATHAWAY GRP\": 186915, \"STATE TOTAL\": 2805864}, {\"state\": \"Louisiana\", \"id\": 22, \"State Farm policy premiums\": 1415980, \"BERKSHIRE HATHAWAY GRP\": 369492, \"STATE TOTAL\": 4136224}, {\"state\": \"Maine\", \"id\": 23, \"State Farm policy premiums\": 101111, \"BERKSHIRE HATHAWAY GRP\": 68109, \"STATE TOTAL\": 699558}, {\"state\": \"Maryland\", \"id\": 24, \"State Farm policy premiums\": 883401, \"BERKSHIRE HATHAWAY GRP\": 1059508, \"STATE TOTAL\": 4554586}, {\"state\": \"Massachusetts\", \"id\": 25, \"State Farm policy premiums\": 0, \"BERKSHIRE HATHAWAY GRP\": 473913, \"STATE TOTAL\": 4924736}, {\"state\": \"Michigan\", \"id\": 26, \"State Farm policy premiums\": 1580398, \"BERKSHIRE HATHAWAY GRP\": 0, \"STATE TOTAL\": 8462142}, {\"state\": \"Minnesota\", \"id\": 27, \"State Farm policy premiums\": 851940, \"BERKSHIRE HATHAWAY GRP\": 108942, \"STATE TOTAL\": 3412460}, {\"state\": \"Mississippi\", \"id\": 28, \"State Farm policy premiums\": 467887, \"BERKSHIRE HATHAWAY GRP\": 100827, \"STATE TOTAL\": 1760180}, {\"state\": \"Missouri\", \"id\": 29, \"State Farm policy premiums\": 883774, \"BERKSHIRE HATHAWAY GRP\": 214191, \"STATE TOTAL\": 3606590}, {\"state\": \"Montana\", \"id\": 30, \"State Farm policy premiums\": 156816, \"BERKSHIRE HATHAWAY GRP\": 33538, \"STATE TOTAL\": 668513}, {\"state\": \"Nebraska\", \"id\": 31, \"State Farm policy premiums\": 273727, \"BERKSHIRE HATHAWAY GRP\": 61046, \"STATE TOTAL\": 1167135}, {\"state\": \"Nevada\", \"id\": 32, \"State Farm policy premiums\": 404688, \"BERKSHIRE HATHAWAY GRP\": 262815, \"STATE TOTAL\": 2129828}, {\"state\": \"New Hampshire\", \"id\": 33, \"State Farm policy premiums\": 103340, \"BERKSHIRE HATHAWAY GRP\": 103403, \"STATE TOTAL\": 806545}, {\"state\": \"New Jersey\", \"id\": 34, \"State Farm policy premiums\": 619623, \"BERKSHIRE HATHAWAY GRP\": 1441019, \"STATE TOTAL\": 7375823}, {\"state\": \"New Mexico\", \"id\": 35, \"State Farm policy premiums\": 261922, \"BERKSHIRE HATHAWAY GRP\": 174865, \"STATE TOTAL\": 1284430}, {\"state\": \"New York\", \"id\": 36, \"State Farm policy premiums\": 1666653, \"BERKSHIRE HATHAWAY GRP\": 3926684, \"STATE TOTAL\": 12633982}, {\"state\": \"North Carolina\", \"id\": 37, \"State Farm policy premiums\": 842368, \"BERKSHIRE HATHAWAY GRP\": 560700, \"STATE TOTAL\": 5543700}, {\"state\": \"North Dakota\", \"id\": 38, \"State Farm policy premiums\": 67282, \"BERKSHIRE HATHAWAY GRP\": 15516, \"STATE TOTAL\": 454376}, {\"state\": \"Ohio\", \"id\": 39, \"State Farm policy premiums\": 1240075, \"BERKSHIRE HATHAWAY GRP\": 405652, \"STATE TOTAL\": 6303148}, {\"state\": \"Oklahoma\", \"id\": 40, \"State Farm policy premiums\": 636063, \"BERKSHIRE HATHAWAY GRP\": 151388, \"STATE TOTAL\": 2515842}, {\"state\": \"Oregon\", \"id\": 41, \"State Farm policy premiums\": 564416, \"BERKSHIRE HATHAWAY GRP\": 223187, \"STATE TOTAL\": 2647434}, {\"state\": \"Pennsylvania\", \"id\": 42, \"State Farm policy premiums\": 1654528, \"BERKSHIRE HATHAWAY GRP\": 602848, \"STATE TOTAL\": 8270326}, {\"state\": \"Rhode Island\", \"id\": 44, \"State Farm policy premiums\": 0, \"BERKSHIRE HATHAWAY GRP\": 97597, \"STATE TOTAL\": 867558}, {\"state\": \"South Carolina\", \"id\": 45, \"State Farm policy premiums\": 874436, \"BERKSHIRE HATHAWAY GRP\": 426033, \"STATE TOTAL\": 3583918}, {\"state\": \"South Dakota\", \"id\": 46, \"State Farm policy premiums\": 101912, \"BERKSHIRE HATHAWAY GRP\": 15682, \"STATE TOTAL\": 508569}, {\"state\": \"Tennessee\", \"id\": 47, \"State Farm policy premiums\": 889329, \"BERKSHIRE HATHAWAY GRP\": 292357, \"STATE TOTAL\": 3769652}, {\"state\": \"Texas\", \"id\": 48, \"State Farm policy premiums\": 3395165, \"BERKSHIRE HATHAWAY GRP\": 2127633, \"STATE TOTAL\": 19180816}, {\"state\": \"Utah\", \"id\": 49, \"State Farm policy premiums\": 300403, \"BERKSHIRE HATHAWAY GRP\": 139315, \"STATE TOTAL\": 1723931}, {\"state\": \"Vermont\", \"id\": 50, \"State Farm policy premiums\": 30003, \"BERKSHIRE HATHAWAY GRP\": 52939, \"STATE TOTAL\": 359996}, {\"state\": \"Virginia\", \"id\": 51, \"State Farm policy premiums\": 878312, \"BERKSHIRE HATHAWAY GRP\": 884489, \"STATE TOTAL\": 5105360}, {\"state\": \"Washington\", \"id\": 53, \"State Farm policy premiums\": 794882, \"BERKSHIRE HATHAWAY GRP\": 478922, \"STATE TOTAL\": 4780616}, {\"state\": \"West Virginia\", \"id\": 54, \"State Farm policy premiums\": 323608, \"BERKSHIRE HATHAWAY GRP\": 110806, \"STATE TOTAL\": 1209872}, {\"state\": \"Wisconsin\", \"id\": 55, \"State Farm policy premiums\": 443680, \"BERKSHIRE HATHAWAY GRP\": 131845, \"STATE TOTAL\": 2950711}, {\"state\": \"Wyoming\", \"id\": 56, \"State Farm policy premiums\": 90412, \"BERKSHIRE HATHAWAY GRP\": 30187, \"STATE TOTAL\": 374169}, {\"state\": \"Puerto Rico\", \"id\": 72, \"State Farm policy premiums\": 0, \"BERKSHIRE HATHAWAY GRP\": 0, \"STATE TOTAL\": 444480}]}};\n",
              "      var embedOpt = {\"mode\": \"vega-lite\"};\n",
              "\n",
              "      function showError(el, error){\n",
              "          el.innerHTML = ('<div class=\"error\" style=\"color:red;\">'\n",
              "                          + '<p>JavaScript Error: ' + error.message + '</p>'\n",
              "                          + \"<p>This usually means there's a typo in your chart specification. \"\n",
              "                          + \"See the javascript console for the full traceback.</p>\"\n",
              "                          + '</div>');\n",
              "          throw error;\n",
              "      }\n",
              "      const el = document.getElementById('altair-viz');\n",
              "      vegaEmbed(\"#altair-viz\", spec, embedOpt)\n",
              "        .catch(error => showError(el, error));\n",
              "\n",
              "  </script>\n",
              "</body>\n",
              "</html>"
            ]
          },
          "metadata": {
            "tags": []
          },
          "execution_count": 26
        }
      ]
    },
    {
      "metadata": {
        "id": "4QbRjPXyo26D",
        "colab_type": "code",
        "colab": {}
      },
      "cell_type": "code",
      "source": [
        "misleading??\n"
      ],
      "execution_count": 0,
      "outputs": []
    },
    {
      "metadata": {
        "id": "D2e6GLXWpUfk",
        "colab_type": "code",
        "colab": {}
      },
      "cell_type": "code",
      "source": [
        "def plot3():\n",
        "    # Based on https://altair-viz.github.io/gallery/choropleth_repeat.html\n",
        "    import altair as alt\n",
        "    from vega_datasets import data\n",
        "\n",
        "    url = 'https://raw.githubusercontent.com/LambdaSchool/DS-Unit-1-Sprint-3-Data-Storytelling/master/module2-choose-appropriate-visualizations/direct_written_premium_by_state_by_group_private_passenger_auto.csv'\n",
        "    df = pd.read_csv(url)\n",
        "    df.rename(columns={'STATE FARM GRP': 'State Farm policy premiums'}, inplace=True)\n",
        "    var iable = 'State Farm policy premiums'\n",
        "\n",
        "    states = alt.topo_feature(data.us_10m.url, 'states')\n",
        "\n",
        "    return alt.Chart(states).mark_geoshape().encode(\n",
        "        alt.Color(variable, type='quantitative')\n",
        "    ).transform_lookup(\n",
        "        lookup='id',\n",
        "        from_=alt.LookupData(df, 'id', [variable])\n",
        "    ).properties(\n",
        "        width=500,\n",
        "        height=300\n",
        "    ).project(\n",
        "        type='albersUsa'\n",
        "    )"
      ],
      "execution_count": 0,
      "outputs": []
    },
    {
      "metadata": {
        "id": "nguXXTumpppM",
        "colab_type": "code",
        "colab": {}
      },
      "cell_type": "code",
      "source": [
        "url = 'https://raw.githubusercontent.com/LambdaSchool/DS-Unit-1-Sprint-3-Data-Storytelling/master/module2-choose-appropriate-visualizations/direct_written_premium_by_state_by_group_private_passenger_auto.csv'\n",
        "df = pd.read_csv(url)\n",
        "df.rename(columns={'STATE FARM GRP': 'State Farm policy premiums'}, inplace=True)\n",
        "variable = 'State Farm policy premiums'\n"
      ],
      "execution_count": 0,
      "outputs": []
    },
    {
      "metadata": {
        "id": "QNf1MAdNqAFj",
        "colab_type": "code",
        "colab": {}
      },
      "cell_type": "code",
      "source": [
        "df"
      ],
      "execution_count": 0,
      "outputs": []
    },
    {
      "metadata": {
        "id": "Q0qTzICFpyvQ",
        "colab_type": "code",
        "colab": {}
      },
      "cell_type": "code",
      "source": [
        "df['State Farm market share %']=(df['State Farm policy premiums']/df['STATE TOTAL'])"
      ],
      "execution_count": 0,
      "outputs": []
    },
    {
      "metadata": {
        "id": "ZHMp4HWdrYk9",
        "colab_type": "code",
        "colab": {}
      },
      "cell_type": "code",
      "source": [
        ""
      ],
      "execution_count": 0,
      "outputs": []
    },
    {
      "metadata": {
        "id": "hHRpe0hQq-MU",
        "colab_type": "code",
        "colab": {
          "base_uri": "https://localhost:8080/",
          "height": 236
        },
        "outputId": "e7479913-c934-403e-bf6e-8334bea90be5"
      },
      "cell_type": "code",
      "source": [
        "    import altair as alt\n",
        "    variable = 'State Farm market share %'\n",
        "\n",
        "    states = alt.topo_feature(data.us_10m.url, 'states')\n",
        "\n",
        "    alt.Chart(states).mark_geoshape().encode(\n",
        "        alt.Color(variable, type='quantitative')\n",
        "    ).transform_lookup(\n",
        "        lookup='id',\n",
        "        from_=alt.LookupData(df, 'id', [variable])\n",
        "    ).properties(\n",
        "        width=500,\n",
        "        height=300\n",
        "    ).project(\n",
        "        type='albersUsa'\n",
        "    )"
      ],
      "execution_count": 38,
      "outputs": [
        {
          "output_type": "error",
          "ename": "NameError",
          "evalue": "ignored",
          "traceback": [
            "\u001b[0;31m---------------------------------------------------------------------------\u001b[0m",
            "\u001b[0;31mNameError\u001b[0m                                 Traceback (most recent call last)",
            "\u001b[0;32m<ipython-input-38-80ce9ba8018a>\u001b[0m in \u001b[0;36m<module>\u001b[0;34m()\u001b[0m\n\u001b[1;32m      2\u001b[0m \u001b[0mvariable\u001b[0m \u001b[0;34m=\u001b[0m \u001b[0;34m'State Farm market share %'\u001b[0m\u001b[0;34m\u001b[0m\u001b[0;34m\u001b[0m\u001b[0m\n\u001b[1;32m      3\u001b[0m \u001b[0;34m\u001b[0m\u001b[0m\n\u001b[0;32m----> 4\u001b[0;31m \u001b[0mstates\u001b[0m \u001b[0;34m=\u001b[0m \u001b[0malt\u001b[0m\u001b[0;34m.\u001b[0m\u001b[0mtopo_feature\u001b[0m\u001b[0;34m(\u001b[0m\u001b[0mdata\u001b[0m\u001b[0;34m.\u001b[0m\u001b[0mus_10m\u001b[0m\u001b[0;34m.\u001b[0m\u001b[0murl\u001b[0m\u001b[0;34m,\u001b[0m \u001b[0;34m'states'\u001b[0m\u001b[0;34m)\u001b[0m\u001b[0;34m\u001b[0m\u001b[0;34m\u001b[0m\u001b[0m\n\u001b[0m\u001b[1;32m      5\u001b[0m \u001b[0;34m\u001b[0m\u001b[0m\n\u001b[1;32m      6\u001b[0m alt.Chart(states).mark_geoshape().encode(\n",
            "\u001b[0;31mNameError\u001b[0m: name 'data' is not defined"
          ]
        }
      ]
    },
    {
      "metadata": {
        "colab_type": "text",
        "id": "7NfsPKUtlja3"
      },
      "cell_type": "markdown",
      "source": [
        "# Use Seaborn to visualize distributions and relationships with continuous and discrete variables"
      ]
    },
    {
      "metadata": {
        "colab_type": "text",
        "id": "DMX07pfHlja4"
      },
      "cell_type": "markdown",
      "source": [
        "## 1. Anscombe dataset"
      ]
    },
    {
      "metadata": {
        "colab_type": "text",
        "id": "ohuKP3Y2lja5"
      },
      "cell_type": "markdown",
      "source": [
        "### Load dataset"
      ]
    },
    {
      "metadata": {
        "colab_type": "code",
        "id": "lhNEdJTslja6",
        "colab": {}
      },
      "cell_type": "code",
      "source": [
        "df = sns.load_dataset('anscombe')"
      ],
      "execution_count": 0,
      "outputs": []
    },
    {
      "metadata": {
        "colab_type": "text",
        "id": "wGpkAGL9lja9"
      },
      "cell_type": "markdown",
      "source": [
        "### See the data's shape"
      ]
    },
    {
      "metadata": {
        "colab_type": "code",
        "id": "UJgOVrMdlja_",
        "colab": {
          "base_uri": "https://localhost:8080/",
          "height": 34
        },
        "outputId": "728996cb-175f-4c61-fc28-e6d5219abc08"
      },
      "cell_type": "code",
      "source": [
        "df.shape"
      ],
      "execution_count": 3,
      "outputs": [
        {
          "output_type": "execute_result",
          "data": {
            "text/plain": [
              "(44, 3)"
            ]
          },
          "metadata": {
            "tags": []
          },
          "execution_count": 3
        }
      ]
    },
    {
      "metadata": {
        "colab_type": "text",
        "id": "uwhNkUorljbC"
      },
      "cell_type": "markdown",
      "source": [
        "### See the data"
      ]
    },
    {
      "metadata": {
        "colab_type": "code",
        "id": "f6VT5CbUljbD",
        "colab": {}
      },
      "cell_type": "code",
      "source": [
        "df"
      ],
      "execution_count": 0,
      "outputs": []
    },
    {
      "metadata": {
        "colab_type": "text",
        "id": "yxMSGXfmljbE"
      },
      "cell_type": "markdown",
      "source": [
        "### [Group by](https://pandas.pydata.org/pandas-docs/stable/generated/pandas.DataFrame.groupby.html) `'dataset'`"
      ]
    },
    {
      "metadata": {
        "colab_type": "code",
        "id": "Kqb2C6OnljbG",
        "colab": {
          "base_uri": "https://localhost:8080/",
          "height": 168
        },
        "outputId": "109b4214-b9f2-4a20-8169-1883ad4a2dca"
      },
      "cell_type": "code",
      "source": [
        "group = df.groupby('dataset')"
      ],
      "execution_count": 7,
      "outputs": [
        {
          "output_type": "error",
          "ename": "NameError",
          "evalue": "ignored",
          "traceback": [
            "\u001b[0;31m---------------------------------------------------------------------------\u001b[0m",
            "\u001b[0;31mNameError\u001b[0m                                 Traceback (most recent call last)",
            "\u001b[0;32m<ipython-input-7-7c7d7fa6cff0>\u001b[0m in \u001b[0;36m<module>\u001b[0;34m()\u001b[0m\n\u001b[0;32m----> 1\u001b[0;31m \u001b[0mgroup\u001b[0m \u001b[0;34m=\u001b[0m \u001b[0mdf\u001b[0m\u001b[0;34m.\u001b[0m\u001b[0mgroupby\u001b[0m\u001b[0;34m(\u001b[0m\u001b[0;34m'dataset'\u001b[0m\u001b[0;34m)\u001b[0m\u001b[0;34m\u001b[0m\u001b[0;34m\u001b[0m\u001b[0m\n\u001b[0m",
            "\u001b[0;31mNameError\u001b[0m: name 'df' is not defined"
          ]
        }
      ]
    },
    {
      "metadata": {
        "colab_type": "text",
        "id": "XE_VL_G5ljbI"
      },
      "cell_type": "markdown",
      "source": [
        "### [Describe](https://pandas.pydata.org/pandas-docs/stable/generated/pandas.DataFrame.describe.html) the groups"
      ]
    },
    {
      "metadata": {
        "colab_type": "code",
        "id": "3owo8EHvljbJ",
        "colab": {
          "base_uri": "https://localhost:8080/",
          "height": 235
        },
        "outputId": "8e49687d-8982-41dd-ab17-090c10de32a0"
      },
      "cell_type": "code",
      "source": [
        "group.describe()"
      ],
      "execution_count": 5,
      "outputs": [
        {
          "output_type": "execute_result",
          "data": {
            "text/html": [
              "<div>\n",
              "<style scoped>\n",
              "    .dataframe tbody tr th:only-of-type {\n",
              "        vertical-align: middle;\n",
              "    }\n",
              "\n",
              "    .dataframe tbody tr th {\n",
              "        vertical-align: top;\n",
              "    }\n",
              "\n",
              "    .dataframe thead tr th {\n",
              "        text-align: left;\n",
              "    }\n",
              "\n",
              "    .dataframe thead tr:last-of-type th {\n",
              "        text-align: right;\n",
              "    }\n",
              "</style>\n",
              "<table border=\"1\" class=\"dataframe\">\n",
              "  <thead>\n",
              "    <tr>\n",
              "      <th></th>\n",
              "      <th colspan=\"8\" halign=\"left\">x</th>\n",
              "      <th colspan=\"8\" halign=\"left\">y</th>\n",
              "    </tr>\n",
              "    <tr>\n",
              "      <th></th>\n",
              "      <th>count</th>\n",
              "      <th>mean</th>\n",
              "      <th>std</th>\n",
              "      <th>min</th>\n",
              "      <th>25%</th>\n",
              "      <th>50%</th>\n",
              "      <th>75%</th>\n",
              "      <th>max</th>\n",
              "      <th>count</th>\n",
              "      <th>mean</th>\n",
              "      <th>std</th>\n",
              "      <th>min</th>\n",
              "      <th>25%</th>\n",
              "      <th>50%</th>\n",
              "      <th>75%</th>\n",
              "      <th>max</th>\n",
              "    </tr>\n",
              "    <tr>\n",
              "      <th>dataset</th>\n",
              "      <th></th>\n",
              "      <th></th>\n",
              "      <th></th>\n",
              "      <th></th>\n",
              "      <th></th>\n",
              "      <th></th>\n",
              "      <th></th>\n",
              "      <th></th>\n",
              "      <th></th>\n",
              "      <th></th>\n",
              "      <th></th>\n",
              "      <th></th>\n",
              "      <th></th>\n",
              "      <th></th>\n",
              "      <th></th>\n",
              "      <th></th>\n",
              "    </tr>\n",
              "  </thead>\n",
              "  <tbody>\n",
              "    <tr>\n",
              "      <th>I</th>\n",
              "      <td>11.0</td>\n",
              "      <td>9.0</td>\n",
              "      <td>3.316625</td>\n",
              "      <td>4.0</td>\n",
              "      <td>6.5</td>\n",
              "      <td>9.0</td>\n",
              "      <td>11.5</td>\n",
              "      <td>14.0</td>\n",
              "      <td>11.0</td>\n",
              "      <td>7.500909</td>\n",
              "      <td>2.031568</td>\n",
              "      <td>4.26</td>\n",
              "      <td>6.315</td>\n",
              "      <td>7.58</td>\n",
              "      <td>8.57</td>\n",
              "      <td>10.84</td>\n",
              "    </tr>\n",
              "    <tr>\n",
              "      <th>II</th>\n",
              "      <td>11.0</td>\n",
              "      <td>9.0</td>\n",
              "      <td>3.316625</td>\n",
              "      <td>4.0</td>\n",
              "      <td>6.5</td>\n",
              "      <td>9.0</td>\n",
              "      <td>11.5</td>\n",
              "      <td>14.0</td>\n",
              "      <td>11.0</td>\n",
              "      <td>7.500909</td>\n",
              "      <td>2.031657</td>\n",
              "      <td>3.10</td>\n",
              "      <td>6.695</td>\n",
              "      <td>8.14</td>\n",
              "      <td>8.95</td>\n",
              "      <td>9.26</td>\n",
              "    </tr>\n",
              "    <tr>\n",
              "      <th>III</th>\n",
              "      <td>11.0</td>\n",
              "      <td>9.0</td>\n",
              "      <td>3.316625</td>\n",
              "      <td>4.0</td>\n",
              "      <td>6.5</td>\n",
              "      <td>9.0</td>\n",
              "      <td>11.5</td>\n",
              "      <td>14.0</td>\n",
              "      <td>11.0</td>\n",
              "      <td>7.500000</td>\n",
              "      <td>2.030424</td>\n",
              "      <td>5.39</td>\n",
              "      <td>6.250</td>\n",
              "      <td>7.11</td>\n",
              "      <td>7.98</td>\n",
              "      <td>12.74</td>\n",
              "    </tr>\n",
              "    <tr>\n",
              "      <th>IV</th>\n",
              "      <td>11.0</td>\n",
              "      <td>9.0</td>\n",
              "      <td>3.316625</td>\n",
              "      <td>8.0</td>\n",
              "      <td>8.0</td>\n",
              "      <td>8.0</td>\n",
              "      <td>8.0</td>\n",
              "      <td>19.0</td>\n",
              "      <td>11.0</td>\n",
              "      <td>7.500909</td>\n",
              "      <td>2.030579</td>\n",
              "      <td>5.25</td>\n",
              "      <td>6.170</td>\n",
              "      <td>7.04</td>\n",
              "      <td>8.19</td>\n",
              "      <td>12.50</td>\n",
              "    </tr>\n",
              "  </tbody>\n",
              "</table>\n",
              "</div>"
            ],
            "text/plain": [
              "            x                                               y            \\\n",
              "        count mean       std  min  25%  50%   75%   max count      mean   \n",
              "dataset                                                                   \n",
              "I        11.0  9.0  3.316625  4.0  6.5  9.0  11.5  14.0  11.0  7.500909   \n",
              "II       11.0  9.0  3.316625  4.0  6.5  9.0  11.5  14.0  11.0  7.500909   \n",
              "III      11.0  9.0  3.316625  4.0  6.5  9.0  11.5  14.0  11.0  7.500000   \n",
              "IV       11.0  9.0  3.316625  8.0  8.0  8.0   8.0  19.0  11.0  7.500909   \n",
              "\n",
              "                                                   \n",
              "              std   min    25%   50%   75%    max  \n",
              "dataset                                            \n",
              "I        2.031568  4.26  6.315  7.58  8.57  10.84  \n",
              "II       2.031657  3.10  6.695  8.14  8.95   9.26  \n",
              "III      2.030424  5.39  6.250  7.11  7.98  12.74  \n",
              "IV       2.030579  5.25  6.170  7.04  8.19  12.50  "
            ]
          },
          "metadata": {
            "tags": []
          },
          "execution_count": 5
        }
      ]
    },
    {
      "metadata": {
        "colab_type": "text",
        "id": "VBjKXp0rljbK"
      },
      "cell_type": "markdown",
      "source": [
        "### Get the [count](https://pandas.pydata.org/pandas-docs/stable/generated/pandas.DataFrame.count.html), for each column in each group"
      ]
    },
    {
      "metadata": {
        "colab_type": "code",
        "id": "4ruK188dljbL",
        "colab": {
          "base_uri": "https://localhost:8080/",
          "height": 204
        },
        "outputId": "1da12991-26c3-43ed-fb63-637bf44fc0e6"
      },
      "cell_type": "code",
      "source": [
        "group.count()"
      ],
      "execution_count": 6,
      "outputs": [
        {
          "output_type": "execute_result",
          "data": {
            "text/html": [
              "<div>\n",
              "<style scoped>\n",
              "    .dataframe tbody tr th:only-of-type {\n",
              "        vertical-align: middle;\n",
              "    }\n",
              "\n",
              "    .dataframe tbody tr th {\n",
              "        vertical-align: top;\n",
              "    }\n",
              "\n",
              "    .dataframe thead th {\n",
              "        text-align: right;\n",
              "    }\n",
              "</style>\n",
              "<table border=\"1\" class=\"dataframe\">\n",
              "  <thead>\n",
              "    <tr style=\"text-align: right;\">\n",
              "      <th></th>\n",
              "      <th>x</th>\n",
              "      <th>y</th>\n",
              "    </tr>\n",
              "    <tr>\n",
              "      <th>dataset</th>\n",
              "      <th></th>\n",
              "      <th></th>\n",
              "    </tr>\n",
              "  </thead>\n",
              "  <tbody>\n",
              "    <tr>\n",
              "      <th>I</th>\n",
              "      <td>11</td>\n",
              "      <td>11</td>\n",
              "    </tr>\n",
              "    <tr>\n",
              "      <th>II</th>\n",
              "      <td>11</td>\n",
              "      <td>11</td>\n",
              "    </tr>\n",
              "    <tr>\n",
              "      <th>III</th>\n",
              "      <td>11</td>\n",
              "      <td>11</td>\n",
              "    </tr>\n",
              "    <tr>\n",
              "      <th>IV</th>\n",
              "      <td>11</td>\n",
              "      <td>11</td>\n",
              "    </tr>\n",
              "  </tbody>\n",
              "</table>\n",
              "</div>"
            ],
            "text/plain": [
              "          x   y\n",
              "dataset        \n",
              "I        11  11\n",
              "II       11  11\n",
              "III      11  11\n",
              "IV       11  11"
            ]
          },
          "metadata": {
            "tags": []
          },
          "execution_count": 6
        }
      ]
    },
    {
      "metadata": {
        "colab_type": "text",
        "id": "Ooh4iR8gljbN"
      },
      "cell_type": "markdown",
      "source": [
        "### Get the [mean](https://pandas.pydata.org/pandas-docs/stable/generated/pandas.DataFrame.mean.html) ..."
      ]
    },
    {
      "metadata": {
        "colab_type": "code",
        "id": "VHz1_kJNljbN",
        "colab": {
          "base_uri": "https://localhost:8080/",
          "height": 204
        },
        "outputId": "998474a8-8eeb-4f02-e498-a99ecd40049b"
      },
      "cell_type": "code",
      "source": [
        "group.mean()"
      ],
      "execution_count": 46,
      "outputs": [
        {
          "output_type": "execute_result",
          "data": {
            "text/html": [
              "<div>\n",
              "<style scoped>\n",
              "    .dataframe tbody tr th:only-of-type {\n",
              "        vertical-align: middle;\n",
              "    }\n",
              "\n",
              "    .dataframe tbody tr th {\n",
              "        vertical-align: top;\n",
              "    }\n",
              "\n",
              "    .dataframe thead th {\n",
              "        text-align: right;\n",
              "    }\n",
              "</style>\n",
              "<table border=\"1\" class=\"dataframe\">\n",
              "  <thead>\n",
              "    <tr style=\"text-align: right;\">\n",
              "      <th></th>\n",
              "      <th>x</th>\n",
              "      <th>y</th>\n",
              "    </tr>\n",
              "    <tr>\n",
              "      <th>dataset</th>\n",
              "      <th></th>\n",
              "      <th></th>\n",
              "    </tr>\n",
              "  </thead>\n",
              "  <tbody>\n",
              "    <tr>\n",
              "      <th>I</th>\n",
              "      <td>9.0</td>\n",
              "      <td>7.500909</td>\n",
              "    </tr>\n",
              "    <tr>\n",
              "      <th>II</th>\n",
              "      <td>9.0</td>\n",
              "      <td>7.500909</td>\n",
              "    </tr>\n",
              "    <tr>\n",
              "      <th>III</th>\n",
              "      <td>9.0</td>\n",
              "      <td>7.500000</td>\n",
              "    </tr>\n",
              "    <tr>\n",
              "      <th>IV</th>\n",
              "      <td>9.0</td>\n",
              "      <td>7.500909</td>\n",
              "    </tr>\n",
              "  </tbody>\n",
              "</table>\n",
              "</div>"
            ],
            "text/plain": [
              "           x         y\n",
              "dataset               \n",
              "I        9.0  7.500909\n",
              "II       9.0  7.500909\n",
              "III      9.0  7.500000\n",
              "IV       9.0  7.500909"
            ]
          },
          "metadata": {
            "tags": []
          },
          "execution_count": 46
        }
      ]
    },
    {
      "metadata": {
        "colab_type": "text",
        "id": "KDpAl2z8ljbQ"
      },
      "cell_type": "markdown",
      "source": [
        "### Get the [standard deviation](https://pandas.pydata.org/pandas-docs/stable/generated/pandas.DataFrame.std.html) ..."
      ]
    },
    {
      "metadata": {
        "colab_type": "code",
        "id": "H8sPCA70ljbQ",
        "colab": {
          "base_uri": "https://localhost:8080/",
          "height": 204
        },
        "outputId": "147dc78d-2e7d-4537-b4f2-9eda0823c4b8"
      },
      "cell_type": "code",
      "source": [
        "group.std()"
      ],
      "execution_count": 47,
      "outputs": [
        {
          "output_type": "execute_result",
          "data": {
            "text/html": [
              "<div>\n",
              "<style scoped>\n",
              "    .dataframe tbody tr th:only-of-type {\n",
              "        vertical-align: middle;\n",
              "    }\n",
              "\n",
              "    .dataframe tbody tr th {\n",
              "        vertical-align: top;\n",
              "    }\n",
              "\n",
              "    .dataframe thead th {\n",
              "        text-align: right;\n",
              "    }\n",
              "</style>\n",
              "<table border=\"1\" class=\"dataframe\">\n",
              "  <thead>\n",
              "    <tr style=\"text-align: right;\">\n",
              "      <th></th>\n",
              "      <th>x</th>\n",
              "      <th>y</th>\n",
              "    </tr>\n",
              "    <tr>\n",
              "      <th>dataset</th>\n",
              "      <th></th>\n",
              "      <th></th>\n",
              "    </tr>\n",
              "  </thead>\n",
              "  <tbody>\n",
              "    <tr>\n",
              "      <th>I</th>\n",
              "      <td>3.316625</td>\n",
              "      <td>2.031568</td>\n",
              "    </tr>\n",
              "    <tr>\n",
              "      <th>II</th>\n",
              "      <td>3.316625</td>\n",
              "      <td>2.031657</td>\n",
              "    </tr>\n",
              "    <tr>\n",
              "      <th>III</th>\n",
              "      <td>3.316625</td>\n",
              "      <td>2.030424</td>\n",
              "    </tr>\n",
              "    <tr>\n",
              "      <th>IV</th>\n",
              "      <td>3.316625</td>\n",
              "      <td>2.030579</td>\n",
              "    </tr>\n",
              "  </tbody>\n",
              "</table>\n",
              "</div>"
            ],
            "text/plain": [
              "                x         y\n",
              "dataset                    \n",
              "I        3.316625  2.031568\n",
              "II       3.316625  2.031657\n",
              "III      3.316625  2.030424\n",
              "IV       3.316625  2.030579"
            ]
          },
          "metadata": {
            "tags": []
          },
          "execution_count": 47
        }
      ]
    },
    {
      "metadata": {
        "colab_type": "text",
        "id": "8_J0sQ3zljbS"
      },
      "cell_type": "markdown",
      "source": [
        "### Get the [correlation](https://pandas.pydata.org/pandas-docs/stable/generated/pandas.DataFrame.corr.html) ..."
      ]
    },
    {
      "metadata": {
        "colab_type": "code",
        "id": "oVaXOEutljbS",
        "colab": {
          "base_uri": "https://localhost:8080/",
          "height": 328
        },
        "outputId": "6a53ccca-246e-4cfe-a355-84921e7435eb"
      },
      "cell_type": "code",
      "source": [
        "group.corr()"
      ],
      "execution_count": 48,
      "outputs": [
        {
          "output_type": "execute_result",
          "data": {
            "text/html": [
              "<div>\n",
              "<style scoped>\n",
              "    .dataframe tbody tr th:only-of-type {\n",
              "        vertical-align: middle;\n",
              "    }\n",
              "\n",
              "    .dataframe tbody tr th {\n",
              "        vertical-align: top;\n",
              "    }\n",
              "\n",
              "    .dataframe thead th {\n",
              "        text-align: right;\n",
              "    }\n",
              "</style>\n",
              "<table border=\"1\" class=\"dataframe\">\n",
              "  <thead>\n",
              "    <tr style=\"text-align: right;\">\n",
              "      <th></th>\n",
              "      <th></th>\n",
              "      <th>x</th>\n",
              "      <th>y</th>\n",
              "    </tr>\n",
              "    <tr>\n",
              "      <th>dataset</th>\n",
              "      <th></th>\n",
              "      <th></th>\n",
              "      <th></th>\n",
              "    </tr>\n",
              "  </thead>\n",
              "  <tbody>\n",
              "    <tr>\n",
              "      <th rowspan=\"2\" valign=\"top\">I</th>\n",
              "      <th>x</th>\n",
              "      <td>1.000000</td>\n",
              "      <td>0.816421</td>\n",
              "    </tr>\n",
              "    <tr>\n",
              "      <th>y</th>\n",
              "      <td>0.816421</td>\n",
              "      <td>1.000000</td>\n",
              "    </tr>\n",
              "    <tr>\n",
              "      <th rowspan=\"2\" valign=\"top\">II</th>\n",
              "      <th>x</th>\n",
              "      <td>1.000000</td>\n",
              "      <td>0.816237</td>\n",
              "    </tr>\n",
              "    <tr>\n",
              "      <th>y</th>\n",
              "      <td>0.816237</td>\n",
              "      <td>1.000000</td>\n",
              "    </tr>\n",
              "    <tr>\n",
              "      <th rowspan=\"2\" valign=\"top\">III</th>\n",
              "      <th>x</th>\n",
              "      <td>1.000000</td>\n",
              "      <td>0.816287</td>\n",
              "    </tr>\n",
              "    <tr>\n",
              "      <th>y</th>\n",
              "      <td>0.816287</td>\n",
              "      <td>1.000000</td>\n",
              "    </tr>\n",
              "    <tr>\n",
              "      <th rowspan=\"2\" valign=\"top\">IV</th>\n",
              "      <th>x</th>\n",
              "      <td>1.000000</td>\n",
              "      <td>0.816521</td>\n",
              "    </tr>\n",
              "    <tr>\n",
              "      <th>y</th>\n",
              "      <td>0.816521</td>\n",
              "      <td>1.000000</td>\n",
              "    </tr>\n",
              "  </tbody>\n",
              "</table>\n",
              "</div>"
            ],
            "text/plain": [
              "                  x         y\n",
              "dataset                      \n",
              "I       x  1.000000  0.816421\n",
              "        y  0.816421  1.000000\n",
              "II      x  1.000000  0.816237\n",
              "        y  0.816237  1.000000\n",
              "III     x  1.000000  0.816287\n",
              "        y  0.816287  1.000000\n",
              "IV      x  1.000000  0.816521\n",
              "        y  0.816521  1.000000"
            ]
          },
          "metadata": {
            "tags": []
          },
          "execution_count": 48
        }
      ]
    },
    {
      "metadata": {
        "colab_type": "text",
        "id": "wev2eLSsljbU"
      },
      "cell_type": "markdown",
      "source": [
        "### Use pandas to [plot](https://pandas.pydata.org/pandas-docs/stable/generated/pandas.DataFrame.plot.html) the groups, as scatter plots"
      ]
    },
    {
      "metadata": {
        "colab_type": "code",
        "id": "OV8_BNakljbV",
        "colab": {}
      },
      "cell_type": "code",
      "source": [
        "group.plot('x','y', kind='scatter')"
      ],
      "execution_count": 0,
      "outputs": []
    },
    {
      "metadata": {
        "colab_type": "text",
        "id": "aIZK7t3QljbX"
      },
      "cell_type": "markdown",
      "source": [
        "### Use Seaborn to make [relational plots](http://seaborn.pydata.org/generated/seaborn.relplot.html)"
      ]
    },
    {
      "metadata": {
        "colab_type": "code",
        "id": "VYwZwT85tggM",
        "colab": {
          "base_uri": "https://localhost:8080/",
          "height": 406
        },
        "outputId": "d44b4feb-330d-4a5e-ea0b-10156c378633"
      },
      "cell_type": "code",
      "source": [
        "sns.relplot('x','y',col='dataset', data=df)"
      ],
      "execution_count": 8,
      "outputs": [
        {
          "output_type": "execute_result",
          "data": {
            "text/plain": [
              "<seaborn.axisgrid.FacetGrid at 0x7fd65046cba8>"
            ]
          },
          "metadata": {
            "tags": []
          },
          "execution_count": 8
        },
        {
          "output_type": "display_data",
          "data": {
            "image/png": "[encoded data removed]",
            "text/plain": [
              "<Figure size 1440x360 with 4 Axes>"
            ]
          },
          "metadata": {
            "tags": []
          }
        }
      ]
    },
    {
      "metadata": {
        "colab_type": "text",
        "id": "7pC0xmYRljbZ"
      },
      "cell_type": "markdown",
      "source": [
        "### Use Seaborn to make [linear model plots](http://seaborn.pydata.org/generated/seaborn.lmplot.html)"
      ]
    },
    {
      "metadata": {
        "colab_type": "code",
        "id": "q0OUr1XytwG9",
        "colab": {
          "base_uri": "https://localhost:8080/",
          "height": 746
        },
        "outputId": "d8780ea0-2065-456f-e326-b522c931d072"
      },
      "cell_type": "code",
      "source": [
        "sns.lmplot('x','y',col='dataset',col_wrap=2,ci=None,data=df)"
      ],
      "execution_count": 10,
      "outputs": [
        {
          "output_type": "execute_result",
          "data": {
            "text/plain": [
              "<seaborn.axisgrid.FacetGrid at 0x7fd639f71e10>"
            ]
          },
          "metadata": {
            "tags": []
          },
          "execution_count": 10
        },
        {
          "output_type": "display_data",
          "data": {
            "image/png": "[encoded data removed]",
            "text/plain": [
              "<Figure size 720x720 with 4 Axes>"
            ]
          },
          "metadata": {
            "tags": []
          }
        }
      ]
    },
    {
      "metadata": {
        "colab_type": "text",
        "id": "Cn-xMBPcljbc"
      },
      "cell_type": "markdown",
      "source": [
        "#### Links\n",
        "- [Seaborn examples: Anscombe's quartet](http://seaborn.pydata.org/examples/anscombes_quartet.html)\n",
        "- [Wikipedia: Anscombe's quartet](https://en.wikipedia.org/wiki/Anscombe%27s_quartet)\n",
        "- [The Datasaurus Dozen](https://www.autodeskresearch.com/publications/samestats)"
      ]
    },
    {
      "metadata": {
        "colab_type": "text",
        "id": "5vhSX9VJljbc"
      },
      "cell_type": "markdown",
      "source": [
        "## 2. Tips dataset"
      ]
    },
    {
      "metadata": {
        "colab_type": "text",
        "id": "tZrTgYtoljbc"
      },
      "cell_type": "markdown",
      "source": [
        "### Load dataset"
      ]
    },
    {
      "metadata": {
        "colab_type": "code",
        "id": "Ms3dbDMRljbd",
        "colab": {}
      },
      "cell_type": "code",
      "source": [
        "tips = sns.load_dataset('tips')"
      ],
      "execution_count": 0,
      "outputs": []
    },
    {
      "metadata": {
        "id": "Owd5JLKTw4vY",
        "colab_type": "code",
        "colab": {}
      },
      "cell_type": "code",
      "source": [
        ""
      ],
      "execution_count": 0,
      "outputs": []
    },
    {
      "metadata": {
        "colab_type": "text",
        "id": "YsR7xrSVljbe"
      },
      "cell_type": "markdown",
      "source": [
        "### See the data's shape"
      ]
    },
    {
      "metadata": {
        "colab_type": "code",
        "id": "vkd17Tv7ljbf",
        "colab": {
          "base_uri": "https://localhost:8080/",
          "height": 34
        },
        "outputId": "ac6b89ff-782e-43e7-a8f9-7c98968926d5"
      },
      "cell_type": "code",
      "source": [
        "tips.shape"
      ],
      "execution_count": 12,
      "outputs": [
        {
          "output_type": "execute_result",
          "data": {
            "text/plain": [
              "(244, 7)"
            ]
          },
          "metadata": {
            "tags": []
          },
          "execution_count": 12
        }
      ]
    },
    {
      "metadata": {
        "colab_type": "text",
        "id": "gRlUBLZEljbg"
      },
      "cell_type": "markdown",
      "source": [
        "### See the first 5 rows"
      ]
    },
    {
      "metadata": {
        "colab_type": "code",
        "id": "tSi2F9ZHljbg",
        "colab": {
          "base_uri": "https://localhost:8080/",
          "height": 204
        },
        "outputId": "bab733c1-b74a-4b0f-cf9a-9550d3a097ff"
      },
      "cell_type": "code",
      "source": [
        "tips.head()"
      ],
      "execution_count": 13,
      "outputs": [
        {
          "output_type": "execute_result",
          "data": {
            "text/html": [
              "<div>\n",
              "<style scoped>\n",
              "    .dataframe tbody tr th:only-of-type {\n",
              "        vertical-align: middle;\n",
              "    }\n",
              "\n",
              "    .dataframe tbody tr th {\n",
              "        vertical-align: top;\n",
              "    }\n",
              "\n",
              "    .dataframe thead th {\n",
              "        text-align: right;\n",
              "    }\n",
              "</style>\n",
              "<table border=\"1\" class=\"dataframe\">\n",
              "  <thead>\n",
              "    <tr style=\"text-align: right;\">\n",
              "      <th></th>\n",
              "      <th>total_bill</th>\n",
              "      <th>tip</th>\n",
              "      <th>sex</th>\n",
              "      <th>smoker</th>\n",
              "      <th>day</th>\n",
              "      <th>time</th>\n",
              "      <th>size</th>\n",
              "    </tr>\n",
              "  </thead>\n",
              "  <tbody>\n",
              "    <tr>\n",
              "      <th>0</th>\n",
              "      <td>16.99</td>\n",
              "      <td>1.01</td>\n",
              "      <td>Female</td>\n",
              "      <td>No</td>\n",
              "      <td>Sun</td>\n",
              "      <td>Dinner</td>\n",
              "      <td>2</td>\n",
              "    </tr>\n",
              "    <tr>\n",
              "      <th>1</th>\n",
              "      <td>10.34</td>\n",
              "      <td>1.66</td>\n",
              "      <td>Male</td>\n",
              "      <td>No</td>\n",
              "      <td>Sun</td>\n",
              "      <td>Dinner</td>\n",
              "      <td>3</td>\n",
              "    </tr>\n",
              "    <tr>\n",
              "      <th>2</th>\n",
              "      <td>21.01</td>\n",
              "      <td>3.50</td>\n",
              "      <td>Male</td>\n",
              "      <td>No</td>\n",
              "      <td>Sun</td>\n",
              "      <td>Dinner</td>\n",
              "      <td>3</td>\n",
              "    </tr>\n",
              "    <tr>\n",
              "      <th>3</th>\n",
              "      <td>23.68</td>\n",
              "      <td>3.31</td>\n",
              "      <td>Male</td>\n",
              "      <td>No</td>\n",
              "      <td>Sun</td>\n",
              "      <td>Dinner</td>\n",
              "      <td>2</td>\n",
              "    </tr>\n",
              "    <tr>\n",
              "      <th>4</th>\n",
              "      <td>24.59</td>\n",
              "      <td>3.61</td>\n",
              "      <td>Female</td>\n",
              "      <td>No</td>\n",
              "      <td>Sun</td>\n",
              "      <td>Dinner</td>\n",
              "      <td>4</td>\n",
              "    </tr>\n",
              "  </tbody>\n",
              "</table>\n",
              "</div>"
            ],
            "text/plain": [
              "   total_bill   tip     sex smoker  day    time  size\n",
              "0       16.99  1.01  Female     No  Sun  Dinner     2\n",
              "1       10.34  1.66    Male     No  Sun  Dinner     3\n",
              "2       21.01  3.50    Male     No  Sun  Dinner     3\n",
              "3       23.68  3.31    Male     No  Sun  Dinner     2\n",
              "4       24.59  3.61  Female     No  Sun  Dinner     4"
            ]
          },
          "metadata": {
            "tags": []
          },
          "execution_count": 13
        }
      ]
    },
    {
      "metadata": {
        "colab_type": "text",
        "id": "sdGGrpdsljbi"
      },
      "cell_type": "markdown",
      "source": [
        "### Describe the data"
      ]
    },
    {
      "metadata": {
        "colab_type": "code",
        "id": "NvwPj20Qljbi",
        "colab": {
          "base_uri": "https://localhost:8080/",
          "height": 297
        },
        "outputId": "70a7bd4f-b6a0-4be6-ec8d-9fd9ccdc78b7"
      },
      "cell_type": "code",
      "source": [
        "tips.describe()"
      ],
      "execution_count": 14,
      "outputs": [
        {
          "output_type": "execute_result",
          "data": {
            "text/html": [
              "<div>\n",
              "<style scoped>\n",
              "    .dataframe tbody tr th:only-of-type {\n",
              "        vertical-align: middle;\n",
              "    }\n",
              "\n",
              "    .dataframe tbody tr th {\n",
              "        vertical-align: top;\n",
              "    }\n",
              "\n",
              "    .dataframe thead th {\n",
              "        text-align: right;\n",
              "    }\n",
              "</style>\n",
              "<table border=\"1\" class=\"dataframe\">\n",
              "  <thead>\n",
              "    <tr style=\"text-align: right;\">\n",
              "      <th></th>\n",
              "      <th>total_bill</th>\n",
              "      <th>tip</th>\n",
              "      <th>size</th>\n",
              "    </tr>\n",
              "  </thead>\n",
              "  <tbody>\n",
              "    <tr>\n",
              "      <th>count</th>\n",
              "      <td>244.000000</td>\n",
              "      <td>244.000000</td>\n",
              "      <td>244.000000</td>\n",
              "    </tr>\n",
              "    <tr>\n",
              "      <th>mean</th>\n",
              "      <td>19.785943</td>\n",
              "      <td>2.998279</td>\n",
              "      <td>2.569672</td>\n",
              "    </tr>\n",
              "    <tr>\n",
              "      <th>std</th>\n",
              "      <td>8.902412</td>\n",
              "      <td>1.383638</td>\n",
              "      <td>0.951100</td>\n",
              "    </tr>\n",
              "    <tr>\n",
              "      <th>min</th>\n",
              "      <td>3.070000</td>\n",
              "      <td>1.000000</td>\n",
              "      <td>1.000000</td>\n",
              "    </tr>\n",
              "    <tr>\n",
              "      <th>25%</th>\n",
              "      <td>13.347500</td>\n",
              "      <td>2.000000</td>\n",
              "      <td>2.000000</td>\n",
              "    </tr>\n",
              "    <tr>\n",
              "      <th>50%</th>\n",
              "      <td>17.795000</td>\n",
              "      <td>2.900000</td>\n",
              "      <td>2.000000</td>\n",
              "    </tr>\n",
              "    <tr>\n",
              "      <th>75%</th>\n",
              "      <td>24.127500</td>\n",
              "      <td>3.562500</td>\n",
              "      <td>3.000000</td>\n",
              "    </tr>\n",
              "    <tr>\n",
              "      <th>max</th>\n",
              "      <td>50.810000</td>\n",
              "      <td>10.000000</td>\n",
              "      <td>6.000000</td>\n",
              "    </tr>\n",
              "  </tbody>\n",
              "</table>\n",
              "</div>"
            ],
            "text/plain": [
              "       total_bill         tip        size\n",
              "count  244.000000  244.000000  244.000000\n",
              "mean    19.785943    2.998279    2.569672\n",
              "std      8.902412    1.383638    0.951100\n",
              "min      3.070000    1.000000    1.000000\n",
              "25%     13.347500    2.000000    2.000000\n",
              "50%     17.795000    2.900000    2.000000\n",
              "75%     24.127500    3.562500    3.000000\n",
              "max     50.810000   10.000000    6.000000"
            ]
          },
          "metadata": {
            "tags": []
          },
          "execution_count": 14
        }
      ]
    },
    {
      "metadata": {
        "colab_type": "text",
        "id": "TDoUKNB4ljbk"
      },
      "cell_type": "markdown",
      "source": [
        "### Make univariate [distribution plots](https://seaborn.pydata.org/generated/seaborn.distplot.html)"
      ]
    },
    {
      "metadata": {
        "id": "GL7qCnO1PRbM",
        "colab_type": "code",
        "colab": {
          "base_uri": "https://localhost:8080/",
          "height": 300
        },
        "outputId": "244d7d45-44ee-4d19-a382-33f7aaf3fc7b"
      },
      "cell_type": "code",
      "source": [
        "sns.distplot(tips.tip)"
      ],
      "execution_count": 16,
      "outputs": [
        {
          "output_type": "execute_result",
          "data": {
            "text/plain": [
              "<matplotlib.axes._subplots.AxesSubplot at 0x7fd6396569e8>"
            ]
          },
          "metadata": {
            "tags": []
          },
          "execution_count": 16
        },
        {
          "output_type": "display_data",
          "data": {
            "image/png": "[encoded data removed]",
            "text/plain": [
              "<Figure size 432x288 with 1 Axes>"
            ]
          },
          "metadata": {
            "tags": []
          }
        }
      ]
    },
    {
      "metadata": {
        "colab_type": "text",
        "id": "0N-6Munnljbm"
      },
      "cell_type": "markdown",
      "source": [
        "### Make bivariate [relational plots](https://seaborn.pydata.org/generated/seaborn.relplot.html)"
      ]
    },
    {
      "metadata": {
        "id": "MZlRZ9zJ1-D8",
        "colab_type": "code",
        "colab": {}
      },
      "cell_type": "code",
      "source": [
        "tips['percent']= tips.tip/tips.total_bill"
      ],
      "execution_count": 0,
      "outputs": []
    },
    {
      "metadata": {
        "id": "PYQWem7b2Jbe",
        "colab_type": "code",
        "colab": {
          "base_uri": "https://localhost:8080/",
          "height": 300
        },
        "outputId": "8caf52ee-07ae-43c0-bbef-73c3bc2962ff"
      },
      "cell_type": "code",
      "source": [
        "sns.distplot(tips.percent)"
      ],
      "execution_count": 18,
      "outputs": [
        {
          "output_type": "execute_result",
          "data": {
            "text/plain": [
              "<matplotlib.axes._subplots.AxesSubplot at 0x7fd6395eada0>"
            ]
          },
          "metadata": {
            "tags": []
          },
          "execution_count": 18
        },
        {
          "output_type": "display_data",
          "data": {
            "image/png": "[encoded data removed]",
            "text/plain": [
              "<Figure size 432x288 with 1 Axes>"
            ]
          },
          "metadata": {
            "tags": []
          }
        }
      ]
    },
    {
      "metadata": {
        "id": "AVWSHwa9PT1y",
        "colab_type": "code",
        "colab": {
          "base_uri": "https://localhost:8080/",
          "height": 386
        },
        "outputId": "415b5b5a-6ea3-46e3-9072-320cadbdaf34"
      },
      "cell_type": "code",
      "source": [
        "sns.relplot(x='total_bill',y='percent',data=tips,alpha=0.5)"
      ],
      "execution_count": 20,
      "outputs": [
        {
          "output_type": "execute_result",
          "data": {
            "text/plain": [
              "<seaborn.axisgrid.FacetGrid at 0x7fd639645a20>"
            ]
          },
          "metadata": {
            "tags": []
          },
          "execution_count": 20
        },
        {
          "output_type": "display_data",
          "data": {
            "image/png": "[encoded data removed]",
            "text/plain": [
              "<Figure size 360x360 with 1 Axes>"
            ]
          },
          "metadata": {
            "tags": []
          }
        }
      ]
    },
    {
      "metadata": {
        "colab_type": "text",
        "id": "7Ug5vyBlljbp"
      },
      "cell_type": "markdown",
      "source": [
        "### Make univariate [categorical plots](https://seaborn.pydata.org/generated/seaborn.catplot.html)"
      ]
    },
    {
      "metadata": {
        "id": "0FdkIBUjPWLg",
        "colab_type": "code",
        "colab": {
          "base_uri": "https://localhost:8080/",
          "height": 300
        },
        "outputId": "fe53410f-35b0-4748-c3d1-83dad2613891"
      },
      "cell_type": "code",
      "source": [
        "sns.stripplot(x='day',y='total_bill',data=tips)"
      ],
      "execution_count": 21,
      "outputs": [
        {
          "output_type": "execute_result",
          "data": {
            "text/plain": [
              "<matplotlib.axes._subplots.AxesSubplot at 0x7fd638247828>"
            ]
          },
          "metadata": {
            "tags": []
          },
          "execution_count": 21
        },
        {
          "output_type": "display_data",
          "data": {
            "image/png": "[encoded data removed]",
            "text/plain": [
              "<Figure size 432x288 with 1 Axes>"
            ]
          },
          "metadata": {
            "tags": []
          }
        }
      ]
    },
    {
      "metadata": {
        "id": "QboZfWW24qfB",
        "colab_type": "code",
        "colab": {
          "base_uri": "https://localhost:8080/",
          "height": 386
        },
        "outputId": "059adb1b-3f34-4db3-a541-50426ad4efca"
      },
      "cell_type": "code",
      "source": [
        "sns.catplot('sex',data=tips,kind='count')"
      ],
      "execution_count": 23,
      "outputs": [
        {
          "output_type": "execute_result",
          "data": {
            "text/plain": [
              "<seaborn.axisgrid.FacetGrid at 0x7fd6381acda0>"
            ]
          },
          "metadata": {
            "tags": []
          },
          "execution_count": 23
        },
        {
          "output_type": "display_data",
          "data": {
            "image/png": "[encoded data removed]",
            "text/plain": [
              "<Figure size 360x360 with 1 Axes>"
            ]
          },
          "metadata": {
            "tags": []
          }
        }
      ]
    },
    {
      "metadata": {
        "id": "0cdoFgRg5GEk",
        "colab_type": "code",
        "colab": {}
      },
      "cell_type": "code",
      "source": [
        ""
      ],
      "execution_count": 0,
      "outputs": []
    },
    {
      "metadata": {
        "colab_type": "text",
        "id": "Ftchuwrgljbs"
      },
      "cell_type": "markdown",
      "source": [
        "### Make bivariate [categorical plots](https://seaborn.pydata.org/generated/seaborn.catplot.html)"
      ]
    },
    {
      "metadata": {
        "id": "yIGQcgB0PZnk",
        "colab_type": "code",
        "colab": {
          "base_uri": "https://localhost:8080/",
          "height": 386
        },
        "outputId": "4e3e661f-ecfa-4213-f2b2-4229526613c0"
      },
      "cell_type": "code",
      "source": [
        "sns.catplot(x='sex',y='tip',data=tips, kind='strip',alpha=0.5)"
      ],
      "execution_count": 24,
      "outputs": [
        {
          "output_type": "execute_result",
          "data": {
            "text/plain": [
              "<seaborn.axisgrid.FacetGrid at 0x7fd63824f710>"
            ]
          },
          "metadata": {
            "tags": []
          },
          "execution_count": 24
        },
        {
          "output_type": "display_data",
          "data": {
            "image/png": "[encoded data removed]",
            "text/plain": [
              "<Figure size 360x360 with 1 Axes>"
            ]
          },
          "metadata": {
            "tags": []
          }
        }
      ]
    },
    {
      "metadata": {
        "id": "puXfBmFX5l9f",
        "colab_type": "code",
        "colab": {
          "base_uri": "https://localhost:8080/",
          "height": 386
        },
        "outputId": "f477f7f0-7310-4c99-debe-854105812054"
      },
      "cell_type": "code",
      "source": [
        "sns.catplot(x='sex',y='tip',data=tips, kind='box')"
      ],
      "execution_count": 26,
      "outputs": [
        {
          "output_type": "execute_result",
          "data": {
            "text/plain": [
              "<seaborn.axisgrid.FacetGrid at 0x7fd6380e3b38>"
            ]
          },
          "metadata": {
            "tags": []
          },
          "execution_count": 26
        },
        {
          "output_type": "display_data",
          "data": {
            "image/png": "[encoded data removed]",
            "text/plain": [
              "<Figure size 360x360 with 1 Axes>"
            ]
          },
          "metadata": {
            "tags": []
          }
        }
      ]
    },
    {
      "metadata": {
        "id": "_g7orSeG7Aru",
        "colab_type": "code",
        "colab": {
          "base_uri": "https://localhost:8080/",
          "height": 386
        },
        "outputId": "5ffa6b43-68cd-4023-e16e-17b983f80c81"
      },
      "cell_type": "code",
      "source": [
        "sns.catplot(x='sex',y='percent',kind='bar',data=tips)"
      ],
      "execution_count": 30,
      "outputs": [
        {
          "output_type": "execute_result",
          "data": {
            "text/plain": [
              "<seaborn.axisgrid.FacetGrid at 0x7fd63822e7f0>"
            ]
          },
          "metadata": {
            "tags": []
          },
          "execution_count": 30
        },
        {
          "output_type": "display_data",
          "data": {
            "image/png": "[encoded data removed]",
            "text/plain": [
              "<Figure size 360x360 with 1 Axes>"
            ]
          },
          "metadata": {
            "tags": []
          }
        }
      ]
    },
    {
      "metadata": {
        "colab_type": "text",
        "id": "FFWkWusYljbt"
      },
      "cell_type": "markdown",
      "source": [
        "## 3. Flights"
      ]
    },
    {
      "metadata": {
        "colab_type": "text",
        "id": "A9uGFj7fljbu"
      },
      "cell_type": "markdown",
      "source": [
        "### Load dataset"
      ]
    },
    {
      "metadata": {
        "colab_type": "code",
        "id": "x9Pd0h0_ljbu",
        "colab": {}
      },
      "cell_type": "code",
      "source": [
        "flights = sns.load_dataset('flights')"
      ],
      "execution_count": 0,
      "outputs": []
    },
    {
      "metadata": {
        "colab_type": "text",
        "id": "TqUSgAUcljbx"
      },
      "cell_type": "markdown",
      "source": [
        "### See the data's shape"
      ]
    },
    {
      "metadata": {
        "colab_type": "code",
        "id": "5WELCrPPljbx",
        "colab": {
          "base_uri": "https://localhost:8080/",
          "height": 34
        },
        "outputId": "45ca80f7-2466-4eed-ac20-10902497fd87"
      },
      "cell_type": "code",
      "source": [
        "flights.shape"
      ],
      "execution_count": 32,
      "outputs": [
        {
          "output_type": "execute_result",
          "data": {
            "text/plain": [
              "(144, 3)"
            ]
          },
          "metadata": {
            "tags": []
          },
          "execution_count": 32
        }
      ]
    },
    {
      "metadata": {
        "colab_type": "text",
        "id": "47WxnyjCljby"
      },
      "cell_type": "markdown",
      "source": [
        "### See the first 5 rows"
      ]
    },
    {
      "metadata": {
        "colab_type": "code",
        "id": "xCREANeJljby",
        "colab": {
          "base_uri": "https://localhost:8080/",
          "height": 204
        },
        "outputId": "841d9dac-cbdc-4c3f-f50c-fceb114b9c9a"
      },
      "cell_type": "code",
      "source": [
        "flights.head()"
      ],
      "execution_count": 33,
      "outputs": [
        {
          "output_type": "execute_result",
          "data": {
            "text/html": [
              "<div>\n",
              "<style scoped>\n",
              "    .dataframe tbody tr th:only-of-type {\n",
              "        vertical-align: middle;\n",
              "    }\n",
              "\n",
              "    .dataframe tbody tr th {\n",
              "        vertical-align: top;\n",
              "    }\n",
              "\n",
              "    .dataframe thead th {\n",
              "        text-align: right;\n",
              "    }\n",
              "</style>\n",
              "<table border=\"1\" class=\"dataframe\">\n",
              "  <thead>\n",
              "    <tr style=\"text-align: right;\">\n",
              "      <th></th>\n",
              "      <th>year</th>\n",
              "      <th>month</th>\n",
              "      <th>passengers</th>\n",
              "    </tr>\n",
              "  </thead>\n",
              "  <tbody>\n",
              "    <tr>\n",
              "      <th>0</th>\n",
              "      <td>1949</td>\n",
              "      <td>January</td>\n",
              "      <td>112</td>\n",
              "    </tr>\n",
              "    <tr>\n",
              "      <th>1</th>\n",
              "      <td>1949</td>\n",
              "      <td>February</td>\n",
              "      <td>118</td>\n",
              "    </tr>\n",
              "    <tr>\n",
              "      <th>2</th>\n",
              "      <td>1949</td>\n",
              "      <td>March</td>\n",
              "      <td>132</td>\n",
              "    </tr>\n",
              "    <tr>\n",
              "      <th>3</th>\n",
              "      <td>1949</td>\n",
              "      <td>April</td>\n",
              "      <td>129</td>\n",
              "    </tr>\n",
              "    <tr>\n",
              "      <th>4</th>\n",
              "      <td>1949</td>\n",
              "      <td>May</td>\n",
              "      <td>121</td>\n",
              "    </tr>\n",
              "  </tbody>\n",
              "</table>\n",
              "</div>"
            ],
            "text/plain": [
              "   year     month  passengers\n",
              "0  1949   January         112\n",
              "1  1949  February         118\n",
              "2  1949     March         132\n",
              "3  1949     April         129\n",
              "4  1949       May         121"
            ]
          },
          "metadata": {
            "tags": []
          },
          "execution_count": 33
        }
      ]
    },
    {
      "metadata": {
        "colab_type": "text",
        "id": "eUc_48wbljb0"
      },
      "cell_type": "markdown",
      "source": [
        "### Describe the data"
      ]
    },
    {
      "metadata": {
        "colab_type": "code",
        "id": "rA0xTMd7ljb0",
        "colab": {
          "base_uri": "https://localhost:8080/",
          "height": 297
        },
        "outputId": "15e9a08d-f8a0-429d-c55d-65ed9cad4381"
      },
      "cell_type": "code",
      "source": [
        "flights.describe()"
      ],
      "execution_count": 34,
      "outputs": [
        {
          "output_type": "execute_result",
          "data": {
            "text/html": [
              "<div>\n",
              "<style scoped>\n",
              "    .dataframe tbody tr th:only-of-type {\n",
              "        vertical-align: middle;\n",
              "    }\n",
              "\n",
              "    .dataframe tbody tr th {\n",
              "        vertical-align: top;\n",
              "    }\n",
              "\n",
              "    .dataframe thead th {\n",
              "        text-align: right;\n",
              "    }\n",
              "</style>\n",
              "<table border=\"1\" class=\"dataframe\">\n",
              "  <thead>\n",
              "    <tr style=\"text-align: right;\">\n",
              "      <th></th>\n",
              "      <th>year</th>\n",
              "      <th>passengers</th>\n",
              "    </tr>\n",
              "  </thead>\n",
              "  <tbody>\n",
              "    <tr>\n",
              "      <th>count</th>\n",
              "      <td>144.000000</td>\n",
              "      <td>144.000000</td>\n",
              "    </tr>\n",
              "    <tr>\n",
              "      <th>mean</th>\n",
              "      <td>1954.500000</td>\n",
              "      <td>280.298611</td>\n",
              "    </tr>\n",
              "    <tr>\n",
              "      <th>std</th>\n",
              "      <td>3.464102</td>\n",
              "      <td>119.966317</td>\n",
              "    </tr>\n",
              "    <tr>\n",
              "      <th>min</th>\n",
              "      <td>1949.000000</td>\n",
              "      <td>104.000000</td>\n",
              "    </tr>\n",
              "    <tr>\n",
              "      <th>25%</th>\n",
              "      <td>1951.750000</td>\n",
              "      <td>180.000000</td>\n",
              "    </tr>\n",
              "    <tr>\n",
              "      <th>50%</th>\n",
              "      <td>1954.500000</td>\n",
              "      <td>265.500000</td>\n",
              "    </tr>\n",
              "    <tr>\n",
              "      <th>75%</th>\n",
              "      <td>1957.250000</td>\n",
              "      <td>360.500000</td>\n",
              "    </tr>\n",
              "    <tr>\n",
              "      <th>max</th>\n",
              "      <td>1960.000000</td>\n",
              "      <td>622.000000</td>\n",
              "    </tr>\n",
              "  </tbody>\n",
              "</table>\n",
              "</div>"
            ],
            "text/plain": [
              "              year  passengers\n",
              "count   144.000000  144.000000\n",
              "mean   1954.500000  280.298611\n",
              "std       3.464102  119.966317\n",
              "min    1949.000000  104.000000\n",
              "25%    1951.750000  180.000000\n",
              "50%    1954.500000  265.500000\n",
              "75%    1957.250000  360.500000\n",
              "max    1960.000000  622.000000"
            ]
          },
          "metadata": {
            "tags": []
          },
          "execution_count": 34
        }
      ]
    },
    {
      "metadata": {
        "colab_type": "text",
        "id": "Pwg0lL5Lljb2"
      },
      "cell_type": "markdown",
      "source": [
        "### Plot year & passengers"
      ]
    },
    {
      "metadata": {
        "colab_type": "code",
        "id": "o2reqC4Eljb2",
        "colab": {
          "base_uri": "https://localhost:8080/",
          "height": 386
        },
        "outputId": "a0213144-1550-46f9-f1f0-cac5ebcbff2f"
      },
      "cell_type": "code",
      "source": [
        "sns.relplot(x='year',y='passengers',data=flights)"
      ],
      "execution_count": 35,
      "outputs": [
        {
          "output_type": "execute_result",
          "data": {
            "text/plain": [
              "<seaborn.axisgrid.FacetGrid at 0x7fd637ede0f0>"
            ]
          },
          "metadata": {
            "tags": []
          },
          "execution_count": 35
        },
        {
          "output_type": "display_data",
          "data": {
            "image/png": "[encoded data removed]",
            "text/plain": [
              "<Figure size 360x360 with 1 Axes>"
            ]
          },
          "metadata": {
            "tags": []
          }
        }
      ]
    },
    {
      "metadata": {
        "colab_type": "text",
        "id": "g1TKShQ2ljb4"
      },
      "cell_type": "markdown",
      "source": [
        "### Plot month & passengers"
      ]
    },
    {
      "metadata": {
        "colab_type": "code",
        "id": "Le0Tc5SDwoHk",
        "colab": {
          "base_uri": "https://localhost:8080/",
          "height": 386
        },
        "outputId": "5c886786-1e27-4ff4-9176-756590a84c8a"
      },
      "cell_type": "code",
      "source": [
        "sns.catplot(x='month',y='passengers',data=flights, kind='box')"
      ],
      "execution_count": 37,
      "outputs": [
        {
          "output_type": "execute_result",
          "data": {
            "text/plain": [
              "<seaborn.axisgrid.FacetGrid at 0x7fd637f1ab38>"
            ]
          },
          "metadata": {
            "tags": []
          },
          "execution_count": 37
        },
        {
          "output_type": "display_data",
          "data": {
            "image/png": "[encoded data removed]",
            "text/plain": [
              "<Figure size 360x360 with 1 Axes>"
            ]
          },
          "metadata": {
            "tags": []
          }
        }
      ]
    },
    {
      "metadata": {
        "colab_type": "text",
        "id": "Fh9lCwC-ljb6"
      },
      "cell_type": "markdown",
      "source": [
        "### Create a [pivot table](https://pandas.pydata.org/pandas-docs/stable/generated/pandas.DataFrame.pivot_table.html) of passengers by month and year"
      ]
    },
    {
      "metadata": {
        "colab_type": "code",
        "id": "JJrQbsXxljb6",
        "colab": {}
      },
      "cell_type": "code",
      "source": [
        ""
      ],
      "execution_count": 0,
      "outputs": []
    },
    {
      "metadata": {
        "colab_type": "text",
        "id": "MRast1t4ljb7"
      },
      "cell_type": "markdown",
      "source": [
        "### Plot the pivot table as a [heat map](https://seaborn.pydata.org/generated/seaborn.heatmap.html)"
      ]
    },
    {
      "metadata": {
        "colab_type": "code",
        "id": "nLGYX_5Bljb9",
        "colab": {}
      },
      "cell_type": "code",
      "source": [
        ""
      ],
      "execution_count": 0,
      "outputs": []
    },
    {
      "metadata": {
        "id": "xmEaapURMyKZ",
        "colab_type": "text"
      },
      "cell_type": "markdown",
      "source": [
        "# ASSIGNMENT\n",
        "\n",
        "### 1.\n",
        "\n",
        "Replicate the lesson code. I recommend that you [do not copy-paste](https://docs.google.com/document/d/1ubOw9B3Hfip27hF2ZFnW3a3z9xAgrUDRReOEo-FHCVs/edit).\n",
        "\n",
        "### 2.\n",
        "\n",
        "Choose a chart you want to make, from [FT's Visual Vocabulary poster](http://ft.com/vocabulary).\n",
        "\n",
        "Find the chart in an example gallery of a Python data visualization library:\n",
        "- [Seaborn](http://seaborn.pydata.org/examples/index.html)\n",
        "- [Altair](https://altair-viz.github.io/gallery/index.html)\n",
        "- [Matplotlib](https://matplotlib.org/gallery.html)\n",
        "- [Pandas](https://pandas.pydata.org/pandas-docs/stable/visualization.html)\n",
        "\n",
        "Reproduce the chart. [Optionally, try the \"Ben Franklin Method.\"](https://docs.google.com/document/d/1ubOw9B3Hfip27hF2ZFnW3a3z9xAgrUDRReOEo-FHCVs/edit) Experiment and make changes.\n",
        "\n",
        "Take notes. Share your work with your cohort!\n"
      ]
    },
    {
      "metadata": {
        "id": "Z2yEOOvhwu75",
        "colab_type": "code",
        "colab": {
          "base_uri": "https://localhost:8080/",
          "height": 300
        },
        "outputId": "8542d072-3448-4546-c83c-8728c6a2b3e3"
      },
      "cell_type": "code",
      "source": [
        "#Dotplot using seaborn\n",
        "\n",
        "Dotsns.pointplot(x=\"tip\", y=\"day\", data=tips, join=False)"
      ],
      "execution_count": 9,
      "outputs": [
        {
          "output_type": "execute_result",
          "data": {
            "text/plain": [
              "<matplotlib.axes._subplots.AxesSubplot at 0x7f67cd0d7668>"
            ]
          },
          "metadata": {
            "tags": []
          },
          "execution_count": 9
        },
        {
          "output_type": "display_data",
          "data": {
            "image/png": "[encoded data removed]",
            "text/plain": [
              "<Figure size 432x288 with 1 Axes>"
            ]
          },
          "metadata": {
            "tags": []
          }
        }
      ]
    },
    {
      "metadata": {
        "id": "cMXmDw__zk7N",
        "colab_type": "code",
        "colab": {}
      },
      "cell_type": "code",
      "source": [
        "#Dotplot using Altair\n",
        "\n",
        "import altair as alt\n",
        "\n",
        "base = alt.Chart(tips)"
      ],
      "execution_count": 0,
      "outputs": []
    },
    {
      "metadata": {
        "id": "rmaHzhgu1eWP",
        "colab_type": "code",
        "colab": {}
      },
      "cell_type": "code",
      "source": [
        "points = base.mark_point(filled=True, size=50).encode(\n",
        "    x=alt.X(\n",
        "        \"tip\",\n",
        "        scale=alt.Scale(domain=(0,10)),\n",
        "        axis=alt.Axis(title='tip')\n",
        "    ),\n",
        "    y=alt.Y(\n",
        "        'day',\n",
        "        scale=alt.Scale(zero=False, domain=('Sat','Sun','Thur','Fri')),\n",
        "        axis=alt.Axis(title=\"day\")\n",
        "    ),\n",
        "    color=alt.value('black')\n",
        ")"
      ],
      "execution_count": 0,
      "outputs": []
    },
    {
      "metadata": {
        "id": "tbN-Q-HB3g1f",
        "colab_type": "code",
        "colab": {
          "base_uri": "https://localhost:8080/",
          "height": 102
        },
        "outputId": "94a0093e-57db-42ee-a33e-ac515404c07a"
      },
      "cell_type": "code",
      "source": [
        "tips['day'].value_counts()"
      ],
      "execution_count": 16,
      "outputs": [
        {
          "output_type": "execute_result",
          "data": {
            "text/plain": [
              "Sat     87\n",
              "Sun     76\n",
              "Thur    62\n",
              "Fri     19\n",
              "Name: day, dtype: int64"
            ]
          },
          "metadata": {
            "tags": []
          },
          "execution_count": 16
        }
      ]
    },
    {
      "metadata": {
        "id": "wEYW9BA72d6J",
        "colab_type": "code",
        "colab": {}
      },
      "cell_type": "code",
      "source": [
        "tips"
      ],
      "execution_count": 0,
      "outputs": []
    },
    {
      "metadata": {
        "id": "Gq3ybIWI2Gan",
        "colab_type": "code",
        "colab": {
          "base_uri": "https://localhost:8080/",
          "height": 150
        },
        "outputId": "def6e342-36d8-447a-dfd1-e6eb6a34ce1c"
      },
      "cell_type": "code",
      "source": [
        "points"
      ],
      "execution_count": 26,
      "outputs": [
        {
          "output_type": "execute_result",
          "data": {
            "text/plain": [
              "Chart({\n",
              "  data:      total_bill   tip     sex smoker   day    time  size\n",
              "  0         16.99  1.01  Female     No   Sun  Dinner     2\n",
              "  1         10.34  1.66    Male     No   Sun  Dinner     3\n",
              "  2         21.01  3.50    Male     No   Sun  Dinner     3\n",
              "  3         23.68  3.31    Male     No   Sun  Dinner     2\n",
              "  4         24.59  3.61  Female     No   Sun  Dinner     4\n",
              "  5         25.29  4.71    Male     No   Sun  Dinner     4\n",
              "  6          8.77  2.00    Male     No   Sun  Dinner     2\n",
              "  7         26.88  3.12    Male     No   Sun  Dinner     4\n",
              "  8         15.04  1.96    Male     No   Sun  Dinner     2\n",
              "  9         14.78  3.23    Male     No   Sun  Dinner     2\n",
              "  10        10.27  1.71    Male     No   Sun  Dinner     2\n",
              "  11        35.26  5.00  Female     No   Sun  Dinner     4\n",
              "  12        15.42  1.57    Male     No   Sun  Dinner     2\n",
              "  13        18.43  3.00    Male     No   Sun  Dinner     4\n",
              "  14        14.83  3.02  Female     No   Sun  Dinner     2\n",
              "  15        21.58  3.92    Male     No   Sun  Dinner     2\n",
              "  16        10.33  1.67  Female     No   Sun  Dinner     3\n",
              "  17        16.29  3.71    Male     No   Sun  Dinner     3\n",
              "  18        16.97  3.50  Female     No   Sun  Dinner     3\n",
              "  19        20.65  3.35    Male     No   Sat  Dinner     3\n",
              "  20        17.92  4.08    Male     No   Sat  Dinner     2\n",
              "  21        20.29  2.75  Female     No   Sat  Dinner     2\n",
              "  22        15.77  2.23  Female     No   Sat  Dinner     2\n",
              "  23        39.42  7.58    Male     No   Sat  Dinner     4\n",
              "  24        19.82  3.18    Male     No   Sat  Dinner     2\n",
              "  25        17.81  2.34    Male     No   Sat  Dinner     4\n",
              "  26        13.37  2.00    Male     No   Sat  Dinner     2\n",
              "  27        12.69  2.00    Male     No   Sat  Dinner     2\n",
              "  28        21.70  4.30    Male     No   Sat  Dinner     2\n",
              "  29        19.65  3.00  Female     No   Sat  Dinner     2\n",
              "  ..          ...   ...     ...    ...   ...     ...   ...\n",
              "  214       28.17  6.50  Female    Yes   Sat  Dinner     3\n",
              "  215       12.90  1.10  Female    Yes   Sat  Dinner     2\n",
              "  216       28.15  3.00    Male    Yes   Sat  Dinner     5\n",
              "  217       11.59  1.50    Male    Yes   Sat  Dinner     2\n",
              "  218        7.74  1.44    Male    Yes   Sat  Dinner     2\n",
              "  219       30.14  3.09  Female    Yes   Sat  Dinner     4\n",
              "  220       12.16  2.20    Male    Yes   Fri   Lunch     2\n",
              "  221       13.42  3.48  Female    Yes   Fri   Lunch     2\n",
              "  222        8.58  1.92    Male    Yes   Fri   Lunch     1\n",
              "  223       15.98  3.00  Female     No   Fri   Lunch     3\n",
              "  224       13.42  1.58    Male    Yes   Fri   Lunch     2\n",
              "  225       16.27  2.50  Female    Yes   Fri   Lunch     2\n",
              "  226       10.09  2.00  Female    Yes   Fri   Lunch     2\n",
              "  227       20.45  3.00    Male     No   Sat  Dinner     4\n",
              "  228       13.28  2.72    Male     No   Sat  Dinner     2\n",
              "  229       22.12  2.88  Female    Yes   Sat  Dinner     2\n",
              "  230       24.01  2.00    Male    Yes   Sat  Dinner     4\n",
              "  231       15.69  3.00    Male    Yes   Sat  Dinner     3\n",
              "  232       11.61  3.39    Male     No   Sat  Dinner     2\n",
              "  233       10.77  1.47    Male     No   Sat  Dinner     2\n",
              "  234       15.53  3.00    Male    Yes   Sat  Dinner     2\n",
              "  235       10.07  1.25    Male     No   Sat  Dinner     2\n",
              "  236       12.60  1.00    Male    Yes   Sat  Dinner     2\n",
              "  237       32.83  1.17    Male    Yes   Sat  Dinner     2\n",
              "  238       35.83  4.67  Female     No   Sat  Dinner     3\n",
              "  239       29.03  5.92    Male     No   Sat  Dinner     3\n",
              "  240       27.18  2.00  Female    Yes   Sat  Dinner     2\n",
              "  241       22.67  2.00    Male    Yes   Sat  Dinner     2\n",
              "  242       17.82  1.75    Male     No   Sat  Dinner     2\n",
              "  243       18.78  3.00  Female     No  Thur  Dinner     2\n",
              "  \n",
              "  [244 rows x 7 columns],\n",
              "  encoding: EncodingWithFacet({\n",
              "    color: ColorValue({\n",
              "      value: 'black'\n",
              "    }),\n",
              "    x: X({\n",
              "      axis: Axis({\n",
              "        title: 'tip'\n",
              "      }),\n",
              "      scale: Scale({\n",
              "        domain: (0, 10)\n",
              "      }),\n",
              "      shorthand: 'tip'\n",
              "    }),\n",
              "    y: Y({\n",
              "      axis: Axis({\n",
              "        title: 'day'\n",
              "      }),\n",
              "      scale: Scale({\n",
              "        domain: ('Sat', 'Sun', 'Thur', 'Fri'),\n",
              "        zero: False\n",
              "      }),\n",
              "      shorthand: 'day'\n",
              "    })\n",
              "  }),\n",
              "  mark: MarkDef({\n",
              "    filled: True,\n",
              "    size: 50,\n",
              "    type: 'point'\n",
              "  })\n",
              "})"
            ],
            "text/html": [
              "<!DOCTYPE html>\n",
              "<html>\n",
              "<head>\n",
              "  <style>\n",
              "    .vega-actions a {\n",
              "        margin-right: 12px;\n",
              "        color: #757575;\n",
              "        font-weight: normal;\n",
              "        font-size: 13px;\n",
              "    }\n",
              "    .error {\n",
              "        color: red;\n",
              "    }\n",
              "  </style>\n",
              "  <script type=\"text/javascript\" src=\"https://cdn.jsdelivr.net/npm//vega@4\"></script>\n",
              "  <script type=\"text/javascript\" src=\"https://cdn.jsdelivr.net/npm//vega-lite@2.6.0\"></script>\n",
              "  <script type=\"text/javascript\" src=\"https://cdn.jsdelivr.net/npm//vega-embed@3\"></script>\n",
              "</head>\n",
              "<body>\n",
              "  <div id=\"altair-viz\"></div>\n",
              "  <script>\n",
              "      var spec = {\"config\": {\"view\": {\"width\": 400, \"height\": 300}}, \"data\": {\"name\": \"data-362d1a3aede62850ce7cd49b1d5f5d1d\"}, \"mark\": {\"type\": \"point\", \"filled\": true, \"size\": 50}, \"encoding\": {\"color\": {\"value\": \"black\"}, \"x\": {\"type\": \"quantitative\", \"axis\": {\"title\": \"tip\"}, \"field\": \"tip\", \"scale\": {\"domain\": [0, 10]}}, \"y\": {\"type\": \"nominal\", \"axis\": {\"title\": \"day\"}, \"field\": \"day\", \"scale\": {\"domain\": [\"Sat\", \"Sun\", \"Thur\", \"Fri\"], \"zero\": false}}}, \"$schema\": \"https://vega.github.io/schema/vega-lite/v2.6.0.json\", \"datasets\": {\"data-362d1a3aede62850ce7cd49b1d5f5d1d\": [{\"total_bill\": 16.99, \"tip\": 1.01, \"sex\": \"Female\", \"smoker\": \"No\", \"day\": \"Sun\", \"time\": \"Dinner\", \"size\": 2}, {\"total_bill\": 10.34, \"tip\": 1.66, \"sex\": \"Male\", \"smoker\": \"No\", \"day\": \"Sun\", \"time\": \"Dinner\", \"size\": 3}, {\"total_bill\": 21.01, \"tip\": 3.5, \"sex\": \"Male\", \"smoker\": \"No\", \"day\": \"Sun\", \"time\": \"Dinner\", \"size\": 3}, {\"total_bill\": 23.68, \"tip\": 3.31, \"sex\": \"Male\", \"smoker\": \"No\", \"day\": \"Sun\", \"time\": \"Dinner\", \"size\": 2}, {\"total_bill\": 24.59, \"tip\": 3.61, \"sex\": \"Female\", \"smoker\": \"No\", \"day\": \"Sun\", \"time\": \"Dinner\", \"size\": 4}, {\"total_bill\": 25.29, \"tip\": 4.71, \"sex\": \"Male\", \"smoker\": \"No\", \"day\": \"Sun\", \"time\": \"Dinner\", \"size\": 4}, {\"total_bill\": 8.77, \"tip\": 2.0, \"sex\": \"Male\", \"smoker\": \"No\", \"day\": \"Sun\", \"time\": \"Dinner\", \"size\": 2}, {\"total_bill\": 26.88, \"tip\": 3.12, \"sex\": \"Male\", \"smoker\": \"No\", \"day\": \"Sun\", \"time\": \"Dinner\", \"size\": 4}, {\"total_bill\": 15.04, \"tip\": 1.96, \"sex\": \"Male\", \"smoker\": \"No\", \"day\": \"Sun\", \"time\": \"Dinner\", \"size\": 2}, {\"total_bill\": 14.78, \"tip\": 3.23, \"sex\": \"Male\", \"smoker\": \"No\", \"day\": \"Sun\", \"time\": \"Dinner\", \"size\": 2}, {\"total_bill\": 10.27, \"tip\": 1.71, \"sex\": \"Male\", \"smoker\": \"No\", \"day\": \"Sun\", \"time\": \"Dinner\", \"size\": 2}, {\"total_bill\": 35.26, \"tip\": 5.0, \"sex\": \"Female\", \"smoker\": \"No\", \"day\": \"Sun\", \"time\": \"Dinner\", \"size\": 4}, {\"total_bill\": 15.42, \"tip\": 1.57, \"sex\": \"Male\", \"smoker\": \"No\", \"day\": \"Sun\", \"time\": \"Dinner\", \"size\": 2}, {\"total_bill\": 18.43, \"tip\": 3.0, \"sex\": \"Male\", \"smoker\": \"No\", \"day\": \"Sun\", \"time\": \"Dinner\", \"size\": 4}, {\"total_bill\": 14.83, \"tip\": 3.02, \"sex\": \"Female\", \"smoker\": \"No\", \"day\": \"Sun\", \"time\": \"Dinner\", \"size\": 2}, {\"total_bill\": 21.58, \"tip\": 3.92, \"sex\": \"Male\", \"smoker\": \"No\", \"day\": \"Sun\", \"time\": \"Dinner\", \"size\": 2}, {\"total_bill\": 10.33, \"tip\": 1.67, \"sex\": \"Female\", \"smoker\": \"No\", \"day\": \"Sun\", \"time\": \"Dinner\", \"size\": 3}, {\"total_bill\": 16.29, \"tip\": 3.71, \"sex\": \"Male\", \"smoker\": \"No\", \"day\": \"Sun\", \"time\": \"Dinner\", \"size\": 3}, {\"total_bill\": 16.97, \"tip\": 3.5, \"sex\": \"Female\", \"smoker\": \"No\", \"day\": \"Sun\", \"time\": \"Dinner\", \"size\": 3}, {\"total_bill\": 20.65, \"tip\": 3.35, \"sex\": \"Male\", \"smoker\": \"No\", \"day\": \"Sat\", \"time\": \"Dinner\", \"size\": 3}, {\"total_bill\": 17.92, \"tip\": 4.08, \"sex\": \"Male\", \"smoker\": \"No\", \"day\": \"Sat\", \"time\": \"Dinner\", \"size\": 2}, {\"total_bill\": 20.29, \"tip\": 2.75, \"sex\": \"Female\", \"smoker\": \"No\", \"day\": \"Sat\", \"time\": \"Dinner\", \"size\": 2}, {\"total_bill\": 15.77, \"tip\": 2.23, \"sex\": \"Female\", \"smoker\": \"No\", \"day\": \"Sat\", \"time\": \"Dinner\", \"size\": 2}, {\"total_bill\": 39.42, \"tip\": 7.58, \"sex\": \"Male\", \"smoker\": \"No\", \"day\": \"Sat\", \"time\": \"Dinner\", \"size\": 4}, {\"total_bill\": 19.82, \"tip\": 3.18, \"sex\": \"Male\", \"smoker\": \"No\", \"day\": \"Sat\", \"time\": \"Dinner\", \"size\": 2}, {\"total_bill\": 17.81, \"tip\": 2.34, \"sex\": \"Male\", \"smoker\": \"No\", \"day\": \"Sat\", \"time\": \"Dinner\", \"size\": 4}, {\"total_bill\": 13.37, \"tip\": 2.0, \"sex\": \"Male\", \"smoker\": \"No\", \"day\": \"Sat\", \"time\": \"Dinner\", \"size\": 2}, {\"total_bill\": 12.69, \"tip\": 2.0, \"sex\": \"Male\", \"smoker\": \"No\", \"day\": \"Sat\", \"time\": \"Dinner\", \"size\": 2}, {\"total_bill\": 21.7, \"tip\": 4.3, \"sex\": \"Male\", \"smoker\": \"No\", \"day\": \"Sat\", \"time\": \"Dinner\", \"size\": 2}, {\"total_bill\": 19.65, \"tip\": 3.0, \"sex\": \"Female\", \"smoker\": \"No\", \"day\": \"Sat\", \"time\": \"Dinner\", \"size\": 2}, {\"total_bill\": 9.55, \"tip\": 1.45, \"sex\": \"Male\", \"smoker\": \"No\", \"day\": \"Sat\", \"time\": \"Dinner\", \"size\": 2}, {\"total_bill\": 18.35, \"tip\": 2.5, \"sex\": \"Male\", \"smoker\": \"No\", \"day\": \"Sat\", \"time\": \"Dinner\", \"size\": 4}, {\"total_bill\": 15.06, \"tip\": 3.0, \"sex\": \"Female\", \"smoker\": \"No\", \"day\": \"Sat\", \"time\": \"Dinner\", \"size\": 2}, {\"total_bill\": 20.69, \"tip\": 2.45, \"sex\": \"Female\", \"smoker\": \"No\", \"day\": \"Sat\", \"time\": \"Dinner\", \"size\": 4}, {\"total_bill\": 17.78, \"tip\": 3.27, \"sex\": \"Male\", \"smoker\": \"No\", \"day\": \"Sat\", \"time\": \"Dinner\", \"size\": 2}, {\"total_bill\": 24.06, \"tip\": 3.6, \"sex\": \"Male\", \"smoker\": \"No\", \"day\": \"Sat\", \"time\": \"Dinner\", \"size\": 3}, {\"total_bill\": 16.31, \"tip\": 2.0, \"sex\": \"Male\", \"smoker\": \"No\", \"day\": \"Sat\", \"time\": \"Dinner\", \"size\": 3}, {\"total_bill\": 16.93, \"tip\": 3.07, \"sex\": \"Female\", \"smoker\": \"No\", \"day\": \"Sat\", \"time\": \"Dinner\", \"size\": 3}, {\"total_bill\": 18.69, \"tip\": 2.31, \"sex\": \"Male\", \"smoker\": \"No\", \"day\": \"Sat\", \"time\": \"Dinner\", \"size\": 3}, {\"total_bill\": 31.27, \"tip\": 5.0, \"sex\": \"Male\", \"smoker\": \"No\", \"day\": \"Sat\", \"time\": \"Dinner\", \"size\": 3}, {\"total_bill\": 16.04, \"tip\": 2.24, \"sex\": \"Male\", \"smoker\": \"No\", \"day\": \"Sat\", \"time\": \"Dinner\", \"size\": 3}, {\"total_bill\": 17.46, \"tip\": 2.54, \"sex\": \"Male\", \"smoker\": \"No\", \"day\": \"Sun\", \"time\": \"Dinner\", \"size\": 2}, {\"total_bill\": 13.94, \"tip\": 3.06, \"sex\": \"Male\", \"smoker\": \"No\", \"day\": \"Sun\", \"time\": \"Dinner\", \"size\": 2}, {\"total_bill\": 9.68, \"tip\": 1.32, \"sex\": \"Male\", \"smoker\": \"No\", \"day\": \"Sun\", \"time\": \"Dinner\", \"size\": 2}, {\"total_bill\": 30.4, \"tip\": 5.6, \"sex\": \"Male\", \"smoker\": \"No\", \"day\": \"Sun\", \"time\": \"Dinner\", \"size\": 4}, {\"total_bill\": 18.29, \"tip\": 3.0, \"sex\": \"Male\", \"smoker\": \"No\", \"day\": \"Sun\", \"time\": \"Dinner\", \"size\": 2}, {\"total_bill\": 22.23, \"tip\": 5.0, \"sex\": \"Male\", \"smoker\": \"No\", \"day\": \"Sun\", \"time\": \"Dinner\", \"size\": 2}, {\"total_bill\": 32.4, \"tip\": 6.0, \"sex\": \"Male\", \"smoker\": \"No\", \"day\": \"Sun\", \"time\": \"Dinner\", \"size\": 4}, {\"total_bill\": 28.55, \"tip\": 2.05, \"sex\": \"Male\", \"smoker\": \"No\", \"day\": \"Sun\", \"time\": \"Dinner\", \"size\": 3}, {\"total_bill\": 18.04, \"tip\": 3.0, \"sex\": \"Male\", \"smoker\": \"No\", \"day\": \"Sun\", \"time\": \"Dinner\", \"size\": 2}, {\"total_bill\": 12.54, \"tip\": 2.5, \"sex\": \"Male\", \"smoker\": \"No\", \"day\": \"Sun\", \"time\": \"Dinner\", \"size\": 2}, {\"total_bill\": 10.29, \"tip\": 2.6, \"sex\": \"Female\", \"smoker\": \"No\", \"day\": \"Sun\", \"time\": \"Dinner\", \"size\": 2}, {\"total_bill\": 34.81, \"tip\": 5.2, \"sex\": \"Female\", \"smoker\": \"No\", \"day\": \"Sun\", \"time\": \"Dinner\", \"size\": 4}, {\"total_bill\": 9.94, \"tip\": 1.56, \"sex\": \"Male\", \"smoker\": \"No\", \"day\": \"Sun\", \"time\": \"Dinner\", \"size\": 2}, {\"total_bill\": 25.56, \"tip\": 4.34, \"sex\": \"Male\", \"smoker\": \"No\", \"day\": \"Sun\", \"time\": \"Dinner\", \"size\": 4}, {\"total_bill\": 19.49, \"tip\": 3.51, \"sex\": \"Male\", \"smoker\": \"No\", \"day\": \"Sun\", \"time\": \"Dinner\", \"size\": 2}, {\"total_bill\": 38.01, \"tip\": 3.0, \"sex\": \"Male\", \"smoker\": \"Yes\", \"day\": \"Sat\", \"time\": \"Dinner\", \"size\": 4}, {\"total_bill\": 26.41, \"tip\": 1.5, \"sex\": \"Female\", \"smoker\": \"No\", \"day\": \"Sat\", \"time\": \"Dinner\", \"size\": 2}, {\"total_bill\": 11.24, \"tip\": 1.76, \"sex\": \"Male\", \"smoker\": \"Yes\", \"day\": \"Sat\", \"time\": \"Dinner\", \"size\": 2}, {\"total_bill\": 48.27, \"tip\": 6.73, \"sex\": \"Male\", \"smoker\": \"No\", \"day\": \"Sat\", \"time\": \"Dinner\", \"size\": 4}, {\"total_bill\": 20.29, \"tip\": 3.21, \"sex\": \"Male\", \"smoker\": \"Yes\", \"day\": \"Sat\", \"time\": \"Dinner\", \"size\": 2}, {\"total_bill\": 13.81, \"tip\": 2.0, \"sex\": \"Male\", \"smoker\": \"Yes\", \"day\": \"Sat\", \"time\": \"Dinner\", \"size\": 2}, {\"total_bill\": 11.02, \"tip\": 1.98, \"sex\": \"Male\", \"smoker\": \"Yes\", \"day\": \"Sat\", \"time\": \"Dinner\", \"size\": 2}, {\"total_bill\": 18.29, \"tip\": 3.76, \"sex\": \"Male\", \"smoker\": \"Yes\", \"day\": \"Sat\", \"time\": \"Dinner\", \"size\": 4}, {\"total_bill\": 17.59, \"tip\": 2.64, \"sex\": \"Male\", \"smoker\": \"No\", \"day\": \"Sat\", \"time\": \"Dinner\", \"size\": 3}, {\"total_bill\": 20.08, \"tip\": 3.15, \"sex\": \"Male\", \"smoker\": \"No\", \"day\": \"Sat\", \"time\": \"Dinner\", \"size\": 3}, {\"total_bill\": 16.45, \"tip\": 2.47, \"sex\": \"Female\", \"smoker\": \"No\", \"day\": \"Sat\", \"time\": \"Dinner\", \"size\": 2}, {\"total_bill\": 3.07, \"tip\": 1.0, \"sex\": \"Female\", \"smoker\": \"Yes\", \"day\": \"Sat\", \"time\": \"Dinner\", \"size\": 1}, {\"total_bill\": 20.23, \"tip\": 2.01, \"sex\": \"Male\", \"smoker\": \"No\", \"day\": \"Sat\", \"time\": \"Dinner\", \"size\": 2}, {\"total_bill\": 15.01, \"tip\": 2.09, \"sex\": \"Male\", \"smoker\": \"Yes\", \"day\": \"Sat\", \"time\": \"Dinner\", \"size\": 2}, {\"total_bill\": 12.02, \"tip\": 1.97, \"sex\": \"Male\", \"smoker\": \"No\", \"day\": \"Sat\", \"time\": \"Dinner\", \"size\": 2}, {\"total_bill\": 17.07, \"tip\": 3.0, \"sex\": \"Female\", \"smoker\": \"No\", \"day\": \"Sat\", \"time\": \"Dinner\", \"size\": 3}, {\"total_bill\": 26.86, \"tip\": 3.14, \"sex\": \"Female\", \"smoker\": \"Yes\", \"day\": \"Sat\", \"time\": \"Dinner\", \"size\": 2}, {\"total_bill\": 25.28, \"tip\": 5.0, \"sex\": \"Female\", \"smoker\": \"Yes\", \"day\": \"Sat\", \"time\": \"Dinner\", \"size\": 2}, {\"total_bill\": 14.73, \"tip\": 2.2, \"sex\": \"Female\", \"smoker\": \"No\", \"day\": \"Sat\", \"time\": \"Dinner\", \"size\": 2}, {\"total_bill\": 10.51, \"tip\": 1.25, \"sex\": \"Male\", \"smoker\": \"No\", \"day\": \"Sat\", \"time\": \"Dinner\", \"size\": 2}, {\"total_bill\": 17.92, \"tip\": 3.08, \"sex\": \"Male\", \"smoker\": \"Yes\", \"day\": \"Sat\", \"time\": \"Dinner\", \"size\": 2}, {\"total_bill\": 27.2, \"tip\": 4.0, \"sex\": \"Male\", \"smoker\": \"No\", \"day\": \"Thur\", \"time\": \"Lunch\", \"size\": 4}, {\"total_bill\": 22.76, \"tip\": 3.0, \"sex\": \"Male\", \"smoker\": \"No\", \"day\": \"Thur\", \"time\": \"Lunch\", \"size\": 2}, {\"total_bill\": 17.29, \"tip\": 2.71, \"sex\": \"Male\", \"smoker\": \"No\", \"day\": \"Thur\", \"time\": \"Lunch\", \"size\": 2}, {\"total_bill\": 19.44, \"tip\": 3.0, \"sex\": \"Male\", \"smoker\": \"Yes\", \"day\": \"Thur\", \"time\": \"Lunch\", \"size\": 2}, {\"total_bill\": 16.66, \"tip\": 3.4, \"sex\": \"Male\", \"smoker\": \"No\", \"day\": \"Thur\", \"time\": \"Lunch\", \"size\": 2}, {\"total_bill\": 10.07, \"tip\": 1.83, \"sex\": \"Female\", \"smoker\": \"No\", \"day\": \"Thur\", \"time\": \"Lunch\", \"size\": 1}, {\"total_bill\": 32.68, \"tip\": 5.0, \"sex\": \"Male\", \"smoker\": \"Yes\", \"day\": \"Thur\", \"time\": \"Lunch\", \"size\": 2}, {\"total_bill\": 15.98, \"tip\": 2.03, \"sex\": \"Male\", \"smoker\": \"No\", \"day\": \"Thur\", \"time\": \"Lunch\", \"size\": 2}, {\"total_bill\": 34.83, \"tip\": 5.17, \"sex\": \"Female\", \"smoker\": \"No\", \"day\": \"Thur\", \"time\": \"Lunch\", \"size\": 4}, {\"total_bill\": 13.03, \"tip\": 2.0, \"sex\": \"Male\", \"smoker\": \"No\", \"day\": \"Thur\", \"time\": \"Lunch\", \"size\": 2}, {\"total_bill\": 18.28, \"tip\": 4.0, \"sex\": \"Male\", \"smoker\": \"No\", \"day\": \"Thur\", \"time\": \"Lunch\", \"size\": 2}, {\"total_bill\": 24.71, \"tip\": 5.85, \"sex\": \"Male\", \"smoker\": \"No\", \"day\": \"Thur\", \"time\": \"Lunch\", \"size\": 2}, {\"total_bill\": 21.16, \"tip\": 3.0, \"sex\": \"Male\", \"smoker\": \"No\", \"day\": \"Thur\", \"time\": \"Lunch\", \"size\": 2}, {\"total_bill\": 28.97, \"tip\": 3.0, \"sex\": \"Male\", \"smoker\": \"Yes\", \"day\": \"Fri\", \"time\": \"Dinner\", \"size\": 2}, {\"total_bill\": 22.49, \"tip\": 3.5, \"sex\": \"Male\", \"smoker\": \"No\", \"day\": \"Fri\", \"time\": \"Dinner\", \"size\": 2}, {\"total_bill\": 5.75, \"tip\": 1.0, \"sex\": \"Female\", \"smoker\": \"Yes\", \"day\": \"Fri\", \"time\": \"Dinner\", \"size\": 2}, {\"total_bill\": 16.32, \"tip\": 4.3, \"sex\": \"Female\", \"smoker\": \"Yes\", \"day\": \"Fri\", \"time\": \"Dinner\", \"size\": 2}, {\"total_bill\": 22.75, \"tip\": 3.25, \"sex\": \"Female\", \"smoker\": \"No\", \"day\": \"Fri\", \"time\": \"Dinner\", \"size\": 2}, {\"total_bill\": 40.17, \"tip\": 4.73, \"sex\": \"Male\", \"smoker\": \"Yes\", \"day\": \"Fri\", \"time\": \"Dinner\", \"size\": 4}, {\"total_bill\": 27.28, \"tip\": 4.0, \"sex\": \"Male\", \"smoker\": \"Yes\", \"day\": \"Fri\", \"time\": \"Dinner\", \"size\": 2}, {\"total_bill\": 12.03, \"tip\": 1.5, \"sex\": \"Male\", \"smoker\": \"Yes\", \"day\": \"Fri\", \"time\": \"Dinner\", \"size\": 2}, {\"total_bill\": 21.01, \"tip\": 3.0, \"sex\": \"Male\", \"smoker\": \"Yes\", \"day\": \"Fri\", \"time\": \"Dinner\", \"size\": 2}, {\"total_bill\": 12.46, \"tip\": 1.5, \"sex\": \"Male\", \"smoker\": \"No\", \"day\": \"Fri\", \"time\": \"Dinner\", \"size\": 2}, {\"total_bill\": 11.35, \"tip\": 2.5, \"sex\": \"Female\", \"smoker\": \"Yes\", \"day\": \"Fri\", \"time\": \"Dinner\", \"size\": 2}, {\"total_bill\": 15.38, \"tip\": 3.0, \"sex\": \"Female\", \"smoker\": \"Yes\", \"day\": \"Fri\", \"time\": \"Dinner\", \"size\": 2}, {\"total_bill\": 44.3, \"tip\": 2.5, \"sex\": \"Female\", \"smoker\": \"Yes\", \"day\": \"Sat\", \"time\": \"Dinner\", \"size\": 3}, {\"total_bill\": 22.42, \"tip\": 3.48, \"sex\": \"Female\", \"smoker\": \"Yes\", \"day\": \"Sat\", \"time\": \"Dinner\", \"size\": 2}, {\"total_bill\": 20.92, \"tip\": 4.08, \"sex\": \"Female\", \"smoker\": \"No\", \"day\": \"Sat\", \"time\": \"Dinner\", \"size\": 2}, {\"total_bill\": 15.36, \"tip\": 1.64, \"sex\": \"Male\", \"smoker\": \"Yes\", \"day\": \"Sat\", \"time\": \"Dinner\", \"size\": 2}, {\"total_bill\": 20.49, \"tip\": 4.06, \"sex\": \"Male\", \"smoker\": \"Yes\", \"day\": \"Sat\", \"time\": \"Dinner\", \"size\": 2}, {\"total_bill\": 25.21, \"tip\": 4.29, \"sex\": \"Male\", \"smoker\": \"Yes\", \"day\": \"Sat\", \"time\": \"Dinner\", \"size\": 2}, {\"total_bill\": 18.24, \"tip\": 3.76, \"sex\": \"Male\", \"smoker\": \"No\", \"day\": \"Sat\", \"time\": \"Dinner\", \"size\": 2}, {\"total_bill\": 14.31, \"tip\": 4.0, \"sex\": \"Female\", \"smoker\": \"Yes\", \"day\": \"Sat\", \"time\": \"Dinner\", \"size\": 2}, {\"total_bill\": 14.0, \"tip\": 3.0, \"sex\": \"Male\", \"smoker\": \"No\", \"day\": \"Sat\", \"time\": \"Dinner\", \"size\": 2}, {\"total_bill\": 7.25, \"tip\": 1.0, \"sex\": \"Female\", \"smoker\": \"No\", \"day\": \"Sat\", \"time\": \"Dinner\", \"size\": 1}, {\"total_bill\": 38.07, \"tip\": 4.0, \"sex\": \"Male\", \"smoker\": \"No\", \"day\": \"Sun\", \"time\": \"Dinner\", \"size\": 3}, {\"total_bill\": 23.95, \"tip\": 2.55, \"sex\": \"Male\", \"smoker\": \"No\", \"day\": \"Sun\", \"time\": \"Dinner\", \"size\": 2}, {\"total_bill\": 25.71, \"tip\": 4.0, \"sex\": \"Female\", \"smoker\": \"No\", \"day\": \"Sun\", \"time\": \"Dinner\", \"size\": 3}, {\"total_bill\": 17.31, \"tip\": 3.5, \"sex\": \"Female\", \"smoker\": \"No\", \"day\": \"Sun\", \"time\": \"Dinner\", \"size\": 2}, {\"total_bill\": 29.93, \"tip\": 5.07, \"sex\": \"Male\", \"smoker\": \"No\", \"day\": \"Sun\", \"time\": \"Dinner\", \"size\": 4}, {\"total_bill\": 10.65, \"tip\": 1.5, \"sex\": \"Female\", \"smoker\": \"No\", \"day\": \"Thur\", \"time\": \"Lunch\", \"size\": 2}, {\"total_bill\": 12.43, \"tip\": 1.8, \"sex\": \"Female\", \"smoker\": \"No\", \"day\": \"Thur\", \"time\": \"Lunch\", \"size\": 2}, {\"total_bill\": 24.08, \"tip\": 2.92, \"sex\": \"Female\", \"smoker\": \"No\", \"day\": \"Thur\", \"time\": \"Lunch\", \"size\": 4}, {\"total_bill\": 11.69, \"tip\": 2.31, \"sex\": \"Male\", \"smoker\": \"No\", \"day\": \"Thur\", \"time\": \"Lunch\", \"size\": 2}, {\"total_bill\": 13.42, \"tip\": 1.68, \"sex\": \"Female\", \"smoker\": \"No\", \"day\": \"Thur\", \"time\": \"Lunch\", \"size\": 2}, {\"total_bill\": 14.26, \"tip\": 2.5, \"sex\": \"Male\", \"smoker\": \"No\", \"day\": \"Thur\", \"time\": \"Lunch\", \"size\": 2}, {\"total_bill\": 15.95, \"tip\": 2.0, \"sex\": \"Male\", \"smoker\": \"No\", \"day\": \"Thur\", \"time\": \"Lunch\", \"size\": 2}, {\"total_bill\": 12.48, \"tip\": 2.52, \"sex\": \"Female\", \"smoker\": \"No\", \"day\": \"Thur\", \"time\": \"Lunch\", \"size\": 2}, {\"total_bill\": 29.8, \"tip\": 4.2, \"sex\": \"Female\", \"smoker\": \"No\", \"day\": \"Thur\", \"time\": \"Lunch\", \"size\": 6}, {\"total_bill\": 8.52, \"tip\": 1.48, \"sex\": \"Male\", \"smoker\": \"No\", \"day\": \"Thur\", \"time\": \"Lunch\", \"size\": 2}, {\"total_bill\": 14.52, \"tip\": 2.0, \"sex\": \"Female\", \"smoker\": \"No\", \"day\": \"Thur\", \"time\": \"Lunch\", \"size\": 2}, {\"total_bill\": 11.38, \"tip\": 2.0, \"sex\": \"Female\", \"smoker\": \"No\", \"day\": \"Thur\", \"time\": \"Lunch\", \"size\": 2}, {\"total_bill\": 22.82, \"tip\": 2.18, \"sex\": \"Male\", \"smoker\": \"No\", \"day\": \"Thur\", \"time\": \"Lunch\", \"size\": 3}, {\"total_bill\": 19.08, \"tip\": 1.5, \"sex\": \"Male\", \"smoker\": \"No\", \"day\": \"Thur\", \"time\": \"Lunch\", \"size\": 2}, {\"total_bill\": 20.27, \"tip\": 2.83, \"sex\": \"Female\", \"smoker\": \"No\", \"day\": \"Thur\", \"time\": \"Lunch\", \"size\": 2}, {\"total_bill\": 11.17, \"tip\": 1.5, \"sex\": \"Female\", \"smoker\": \"No\", \"day\": \"Thur\", \"time\": \"Lunch\", \"size\": 2}, {\"total_bill\": 12.26, \"tip\": 2.0, \"sex\": \"Female\", \"smoker\": \"No\", \"day\": \"Thur\", \"time\": \"Lunch\", \"size\": 2}, {\"total_bill\": 18.26, \"tip\": 3.25, \"sex\": \"Female\", \"smoker\": \"No\", \"day\": \"Thur\", \"time\": \"Lunch\", \"size\": 2}, {\"total_bill\": 8.51, \"tip\": 1.25, \"sex\": \"Female\", \"smoker\": \"No\", \"day\": \"Thur\", \"time\": \"Lunch\", \"size\": 2}, {\"total_bill\": 10.33, \"tip\": 2.0, \"sex\": \"Female\", \"smoker\": \"No\", \"day\": \"Thur\", \"time\": \"Lunch\", \"size\": 2}, {\"total_bill\": 14.15, \"tip\": 2.0, \"sex\": \"Female\", \"smoker\": \"No\", \"day\": \"Thur\", \"time\": \"Lunch\", \"size\": 2}, {\"total_bill\": 16.0, \"tip\": 2.0, \"sex\": \"Male\", \"smoker\": \"Yes\", \"day\": \"Thur\", \"time\": \"Lunch\", \"size\": 2}, {\"total_bill\": 13.16, \"tip\": 2.75, \"sex\": \"Female\", \"smoker\": \"No\", \"day\": \"Thur\", \"time\": \"Lunch\", \"size\": 2}, {\"total_bill\": 17.47, \"tip\": 3.5, \"sex\": \"Female\", \"smoker\": \"No\", \"day\": \"Thur\", \"time\": \"Lunch\", \"size\": 2}, {\"total_bill\": 34.3, \"tip\": 6.7, \"sex\": \"Male\", \"smoker\": \"No\", \"day\": \"Thur\", \"time\": \"Lunch\", \"size\": 6}, {\"total_bill\": 41.19, \"tip\": 5.0, \"sex\": \"Male\", \"smoker\": \"No\", \"day\": \"Thur\", \"time\": \"Lunch\", \"size\": 5}, {\"total_bill\": 27.05, \"tip\": 5.0, \"sex\": \"Female\", \"smoker\": \"No\", \"day\": \"Thur\", \"time\": \"Lunch\", \"size\": 6}, {\"total_bill\": 16.43, \"tip\": 2.3, \"sex\": \"Female\", \"smoker\": \"No\", \"day\": \"Thur\", \"time\": \"Lunch\", \"size\": 2}, {\"total_bill\": 8.35, \"tip\": 1.5, \"sex\": \"Female\", \"smoker\": \"No\", \"day\": \"Thur\", \"time\": \"Lunch\", \"size\": 2}, {\"total_bill\": 18.64, \"tip\": 1.36, \"sex\": \"Female\", \"smoker\": \"No\", \"day\": \"Thur\", \"time\": \"Lunch\", \"size\": 3}, {\"total_bill\": 11.87, \"tip\": 1.63, \"sex\": \"Female\", \"smoker\": \"No\", \"day\": \"Thur\", \"time\": \"Lunch\", \"size\": 2}, {\"total_bill\": 9.78, \"tip\": 1.73, \"sex\": \"Male\", \"smoker\": \"No\", \"day\": \"Thur\", \"time\": \"Lunch\", \"size\": 2}, {\"total_bill\": 7.51, \"tip\": 2.0, \"sex\": \"Male\", \"smoker\": \"No\", \"day\": \"Thur\", \"time\": \"Lunch\", \"size\": 2}, {\"total_bill\": 14.07, \"tip\": 2.5, \"sex\": \"Male\", \"smoker\": \"No\", \"day\": \"Sun\", \"time\": \"Dinner\", \"size\": 2}, {\"total_bill\": 13.13, \"tip\": 2.0, \"sex\": \"Male\", \"smoker\": \"No\", \"day\": \"Sun\", \"time\": \"Dinner\", \"size\": 2}, {\"total_bill\": 17.26, \"tip\": 2.74, \"sex\": \"Male\", \"smoker\": \"No\", \"day\": \"Sun\", \"time\": \"Dinner\", \"size\": 3}, {\"total_bill\": 24.55, \"tip\": 2.0, \"sex\": \"Male\", \"smoker\": \"No\", \"day\": \"Sun\", \"time\": \"Dinner\", \"size\": 4}, {\"total_bill\": 19.77, \"tip\": 2.0, \"sex\": \"Male\", \"smoker\": \"No\", \"day\": \"Sun\", \"time\": \"Dinner\", \"size\": 4}, {\"total_bill\": 29.85, \"tip\": 5.14, \"sex\": \"Female\", \"smoker\": \"No\", \"day\": \"Sun\", \"time\": \"Dinner\", \"size\": 5}, {\"total_bill\": 48.17, \"tip\": 5.0, \"sex\": \"Male\", \"smoker\": \"No\", \"day\": \"Sun\", \"time\": \"Dinner\", \"size\": 6}, {\"total_bill\": 25.0, \"tip\": 3.75, \"sex\": \"Female\", \"smoker\": \"No\", \"day\": \"Sun\", \"time\": \"Dinner\", \"size\": 4}, {\"total_bill\": 13.39, \"tip\": 2.61, \"sex\": \"Female\", \"smoker\": \"No\", \"day\": \"Sun\", \"time\": \"Dinner\", \"size\": 2}, {\"total_bill\": 16.49, \"tip\": 2.0, \"sex\": \"Male\", \"smoker\": \"No\", \"day\": \"Sun\", \"time\": \"Dinner\", \"size\": 4}, {\"total_bill\": 21.5, \"tip\": 3.5, \"sex\": \"Male\", \"smoker\": \"No\", \"day\": \"Sun\", \"time\": \"Dinner\", \"size\": 4}, {\"total_bill\": 12.66, \"tip\": 2.5, \"sex\": \"Male\", \"smoker\": \"No\", \"day\": \"Sun\", \"time\": \"Dinner\", \"size\": 2}, {\"total_bill\": 16.21, \"tip\": 2.0, \"sex\": \"Female\", \"smoker\": \"No\", \"day\": \"Sun\", \"time\": \"Dinner\", \"size\": 3}, {\"total_bill\": 13.81, \"tip\": 2.0, \"sex\": \"Male\", \"smoker\": \"No\", \"day\": \"Sun\", \"time\": \"Dinner\", \"size\": 2}, {\"total_bill\": 17.51, \"tip\": 3.0, \"sex\": \"Female\", \"smoker\": \"Yes\", \"day\": \"Sun\", \"time\": \"Dinner\", \"size\": 2}, {\"total_bill\": 24.52, \"tip\": 3.48, \"sex\": \"Male\", \"smoker\": \"No\", \"day\": \"Sun\", \"time\": \"Dinner\", \"size\": 3}, {\"total_bill\": 20.76, \"tip\": 2.24, \"sex\": \"Male\", \"smoker\": \"No\", \"day\": \"Sun\", \"time\": \"Dinner\", \"size\": 2}, {\"total_bill\": 31.71, \"tip\": 4.5, \"sex\": \"Male\", \"smoker\": \"No\", \"day\": \"Sun\", \"time\": \"Dinner\", \"size\": 4}, {\"total_bill\": 10.59, \"tip\": 1.61, \"sex\": \"Female\", \"smoker\": \"Yes\", \"day\": \"Sat\", \"time\": \"Dinner\", \"size\": 2}, {\"total_bill\": 10.63, \"tip\": 2.0, \"sex\": \"Female\", \"smoker\": \"Yes\", \"day\": \"Sat\", \"time\": \"Dinner\", \"size\": 2}, {\"total_bill\": 50.81, \"tip\": 10.0, \"sex\": \"Male\", \"smoker\": \"Yes\", \"day\": \"Sat\", \"time\": \"Dinner\", \"size\": 3}, {\"total_bill\": 15.81, \"tip\": 3.16, \"sex\": \"Male\", \"smoker\": \"Yes\", \"day\": \"Sat\", \"time\": \"Dinner\", \"size\": 2}, {\"total_bill\": 7.25, \"tip\": 5.15, \"sex\": \"Male\", \"smoker\": \"Yes\", \"day\": \"Sun\", \"time\": \"Dinner\", \"size\": 2}, {\"total_bill\": 31.85, \"tip\": 3.18, \"sex\": \"Male\", \"smoker\": \"Yes\", \"day\": \"Sun\", \"time\": \"Dinner\", \"size\": 2}, {\"total_bill\": 16.82, \"tip\": 4.0, \"sex\": \"Male\", \"smoker\": \"Yes\", \"day\": \"Sun\", \"time\": \"Dinner\", \"size\": 2}, {\"total_bill\": 32.9, \"tip\": 3.11, \"sex\": \"Male\", \"smoker\": \"Yes\", \"day\": \"Sun\", \"time\": \"Dinner\", \"size\": 2}, {\"total_bill\": 17.89, \"tip\": 2.0, \"sex\": \"Male\", \"smoker\": \"Yes\", \"day\": \"Sun\", \"time\": \"Dinner\", \"size\": 2}, {\"total_bill\": 14.48, \"tip\": 2.0, \"sex\": \"Male\", \"smoker\": \"Yes\", \"day\": \"Sun\", \"time\": \"Dinner\", \"size\": 2}, {\"total_bill\": 9.6, \"tip\": 4.0, \"sex\": \"Female\", \"smoker\": \"Yes\", \"day\": \"Sun\", \"time\": \"Dinner\", \"size\": 2}, {\"total_bill\": 34.63, \"tip\": 3.55, \"sex\": \"Male\", \"smoker\": \"Yes\", \"day\": \"Sun\", \"time\": \"Dinner\", \"size\": 2}, {\"total_bill\": 34.65, \"tip\": 3.68, \"sex\": \"Male\", \"smoker\": \"Yes\", \"day\": \"Sun\", \"time\": \"Dinner\", \"size\": 4}, {\"total_bill\": 23.33, \"tip\": 5.65, \"sex\": \"Male\", \"smoker\": \"Yes\", \"day\": \"Sun\", \"time\": \"Dinner\", \"size\": 2}, {\"total_bill\": 45.35, \"tip\": 3.5, \"sex\": \"Male\", \"smoker\": \"Yes\", \"day\": \"Sun\", \"time\": \"Dinner\", \"size\": 3}, {\"total_bill\": 23.17, \"tip\": 6.5, \"sex\": \"Male\", \"smoker\": \"Yes\", \"day\": \"Sun\", \"time\": \"Dinner\", \"size\": 4}, {\"total_bill\": 40.55, \"tip\": 3.0, \"sex\": \"Male\", \"smoker\": \"Yes\", \"day\": \"Sun\", \"time\": \"Dinner\", \"size\": 2}, {\"total_bill\": 20.69, \"tip\": 5.0, \"sex\": \"Male\", \"smoker\": \"No\", \"day\": \"Sun\", \"time\": \"Dinner\", \"size\": 5}, {\"total_bill\": 20.9, \"tip\": 3.5, \"sex\": \"Female\", \"smoker\": \"Yes\", \"day\": \"Sun\", \"time\": \"Dinner\", \"size\": 3}, {\"total_bill\": 30.46, \"tip\": 2.0, \"sex\": \"Male\", \"smoker\": \"Yes\", \"day\": \"Sun\", \"time\": \"Dinner\", \"size\": 5}, {\"total_bill\": 18.15, \"tip\": 3.5, \"sex\": \"Female\", \"smoker\": \"Yes\", \"day\": \"Sun\", \"time\": \"Dinner\", \"size\": 3}, {\"total_bill\": 23.1, \"tip\": 4.0, \"sex\": \"Male\", \"smoker\": \"Yes\", \"day\": \"Sun\", \"time\": \"Dinner\", \"size\": 3}, {\"total_bill\": 15.69, \"tip\": 1.5, \"sex\": \"Male\", \"smoker\": \"Yes\", \"day\": \"Sun\", \"time\": \"Dinner\", \"size\": 2}, {\"total_bill\": 19.81, \"tip\": 4.19, \"sex\": \"Female\", \"smoker\": \"Yes\", \"day\": \"Thur\", \"time\": \"Lunch\", \"size\": 2}, {\"total_bill\": 28.44, \"tip\": 2.56, \"sex\": \"Male\", \"smoker\": \"Yes\", \"day\": \"Thur\", \"time\": \"Lunch\", \"size\": 2}, {\"total_bill\": 15.48, \"tip\": 2.02, \"sex\": \"Male\", \"smoker\": \"Yes\", \"day\": \"Thur\", \"time\": \"Lunch\", \"size\": 2}, {\"total_bill\": 16.58, \"tip\": 4.0, \"sex\": \"Male\", \"smoker\": \"Yes\", \"day\": \"Thur\", \"time\": \"Lunch\", \"size\": 2}, {\"total_bill\": 7.56, \"tip\": 1.44, \"sex\": \"Male\", \"smoker\": \"No\", \"day\": \"Thur\", \"time\": \"Lunch\", \"size\": 2}, {\"total_bill\": 10.34, \"tip\": 2.0, \"sex\": \"Male\", \"smoker\": \"Yes\", \"day\": \"Thur\", \"time\": \"Lunch\", \"size\": 2}, {\"total_bill\": 43.11, \"tip\": 5.0, \"sex\": \"Female\", \"smoker\": \"Yes\", \"day\": \"Thur\", \"time\": \"Lunch\", \"size\": 4}, {\"total_bill\": 13.0, \"tip\": 2.0, \"sex\": \"Female\", \"smoker\": \"Yes\", \"day\": \"Thur\", \"time\": \"Lunch\", \"size\": 2}, {\"total_bill\": 13.51, \"tip\": 2.0, \"sex\": \"Male\", \"smoker\": \"Yes\", \"day\": \"Thur\", \"time\": \"Lunch\", \"size\": 2}, {\"total_bill\": 18.71, \"tip\": 4.0, \"sex\": \"Male\", \"smoker\": \"Yes\", \"day\": \"Thur\", \"time\": \"Lunch\", \"size\": 3}, {\"total_bill\": 12.74, \"tip\": 2.01, \"sex\": \"Female\", \"smoker\": \"Yes\", \"day\": \"Thur\", \"time\": \"Lunch\", \"size\": 2}, {\"total_bill\": 13.0, \"tip\": 2.0, \"sex\": \"Female\", \"smoker\": \"Yes\", \"day\": \"Thur\", \"time\": \"Lunch\", \"size\": 2}, {\"total_bill\": 16.4, \"tip\": 2.5, \"sex\": \"Female\", \"smoker\": \"Yes\", \"day\": \"Thur\", \"time\": \"Lunch\", \"size\": 2}, {\"total_bill\": 20.53, \"tip\": 4.0, \"sex\": \"Male\", \"smoker\": \"Yes\", \"day\": \"Thur\", \"time\": \"Lunch\", \"size\": 4}, {\"total_bill\": 16.47, \"tip\": 3.23, \"sex\": \"Female\", \"smoker\": \"Yes\", \"day\": \"Thur\", \"time\": \"Lunch\", \"size\": 3}, {\"total_bill\": 26.59, \"tip\": 3.41, \"sex\": \"Male\", \"smoker\": \"Yes\", \"day\": \"Sat\", \"time\": \"Dinner\", \"size\": 3}, {\"total_bill\": 38.73, \"tip\": 3.0, \"sex\": \"Male\", \"smoker\": \"Yes\", \"day\": \"Sat\", \"time\": \"Dinner\", \"size\": 4}, {\"total_bill\": 24.27, \"tip\": 2.03, \"sex\": \"Male\", \"smoker\": \"Yes\", \"day\": \"Sat\", \"time\": \"Dinner\", \"size\": 2}, {\"total_bill\": 12.76, \"tip\": 2.23, \"sex\": \"Female\", \"smoker\": \"Yes\", \"day\": \"Sat\", \"time\": \"Dinner\", \"size\": 2}, {\"total_bill\": 30.06, \"tip\": 2.0, \"sex\": \"Male\", \"smoker\": \"Yes\", \"day\": \"Sat\", \"time\": \"Dinner\", \"size\": 3}, {\"total_bill\": 25.89, \"tip\": 5.16, \"sex\": \"Male\", \"smoker\": \"Yes\", \"day\": \"Sat\", \"time\": \"Dinner\", \"size\": 4}, {\"total_bill\": 48.33, \"tip\": 9.0, \"sex\": \"Male\", \"smoker\": \"No\", \"day\": \"Sat\", \"time\": \"Dinner\", \"size\": 4}, {\"total_bill\": 13.27, \"tip\": 2.5, \"sex\": \"Female\", \"smoker\": \"Yes\", \"day\": \"Sat\", \"time\": \"Dinner\", \"size\": 2}, {\"total_bill\": 28.17, \"tip\": 6.5, \"sex\": \"Female\", \"smoker\": \"Yes\", \"day\": \"Sat\", \"time\": \"Dinner\", \"size\": 3}, {\"total_bill\": 12.9, \"tip\": 1.1, \"sex\": \"Female\", \"smoker\": \"Yes\", \"day\": \"Sat\", \"time\": \"Dinner\", \"size\": 2}, {\"total_bill\": 28.15, \"tip\": 3.0, \"sex\": \"Male\", \"smoker\": \"Yes\", \"day\": \"Sat\", \"time\": \"Dinner\", \"size\": 5}, {\"total_bill\": 11.59, \"tip\": 1.5, \"sex\": \"Male\", \"smoker\": \"Yes\", \"day\": \"Sat\", \"time\": \"Dinner\", \"size\": 2}, {\"total_bill\": 7.74, \"tip\": 1.44, \"sex\": \"Male\", \"smoker\": \"Yes\", \"day\": \"Sat\", \"time\": \"Dinner\", \"size\": 2}, {\"total_bill\": 30.14, \"tip\": 3.09, \"sex\": \"Female\", \"smoker\": \"Yes\", \"day\": \"Sat\", \"time\": \"Dinner\", \"size\": 4}, {\"total_bill\": 12.16, \"tip\": 2.2, \"sex\": \"Male\", \"smoker\": \"Yes\", \"day\": \"Fri\", \"time\": \"Lunch\", \"size\": 2}, {\"total_bill\": 13.42, \"tip\": 3.48, \"sex\": \"Female\", \"smoker\": \"Yes\", \"day\": \"Fri\", \"time\": \"Lunch\", \"size\": 2}, {\"total_bill\": 8.58, \"tip\": 1.92, \"sex\": \"Male\", \"smoker\": \"Yes\", \"day\": \"Fri\", \"time\": \"Lunch\", \"size\": 1}, {\"total_bill\": 15.98, \"tip\": 3.0, \"sex\": \"Female\", \"smoker\": \"No\", \"day\": \"Fri\", \"time\": \"Lunch\", \"size\": 3}, {\"total_bill\": 13.42, \"tip\": 1.58, \"sex\": \"Male\", \"smoker\": \"Yes\", \"day\": \"Fri\", \"time\": \"Lunch\", \"size\": 2}, {\"total_bill\": 16.27, \"tip\": 2.5, \"sex\": \"Female\", \"smoker\": \"Yes\", \"day\": \"Fri\", \"time\": \"Lunch\", \"size\": 2}, {\"total_bill\": 10.09, \"tip\": 2.0, \"sex\": \"Female\", \"smoker\": \"Yes\", \"day\": \"Fri\", \"time\": \"Lunch\", \"size\": 2}, {\"total_bill\": 20.45, \"tip\": 3.0, \"sex\": \"Male\", \"smoker\": \"No\", \"day\": \"Sat\", \"time\": \"Dinner\", \"size\": 4}, {\"total_bill\": 13.28, \"tip\": 2.72, \"sex\": \"Male\", \"smoker\": \"No\", \"day\": \"Sat\", \"time\": \"Dinner\", \"size\": 2}, {\"total_bill\": 22.12, \"tip\": 2.88, \"sex\": \"Female\", \"smoker\": \"Yes\", \"day\": \"Sat\", \"time\": \"Dinner\", \"size\": 2}, {\"total_bill\": 24.01, \"tip\": 2.0, \"sex\": \"Male\", \"smoker\": \"Yes\", \"day\": \"Sat\", \"time\": \"Dinner\", \"size\": 4}, {\"total_bill\": 15.69, \"tip\": 3.0, \"sex\": \"Male\", \"smoker\": \"Yes\", \"day\": \"Sat\", \"time\": \"Dinner\", \"size\": 3}, {\"total_bill\": 11.61, \"tip\": 3.39, \"sex\": \"Male\", \"smoker\": \"No\", \"day\": \"Sat\", \"time\": \"Dinner\", \"size\": 2}, {\"total_bill\": 10.77, \"tip\": 1.47, \"sex\": \"Male\", \"smoker\": \"No\", \"day\": \"Sat\", \"time\": \"Dinner\", \"size\": 2}, {\"total_bill\": 15.53, \"tip\": 3.0, \"sex\": \"Male\", \"smoker\": \"Yes\", \"day\": \"Sat\", \"time\": \"Dinner\", \"size\": 2}, {\"total_bill\": 10.07, \"tip\": 1.25, \"sex\": \"Male\", \"smoker\": \"No\", \"day\": \"Sat\", \"time\": \"Dinner\", \"size\": 2}, {\"total_bill\": 12.6, \"tip\": 1.0, \"sex\": \"Male\", \"smoker\": \"Yes\", \"day\": \"Sat\", \"time\": \"Dinner\", \"size\": 2}, {\"total_bill\": 32.83, \"tip\": 1.17, \"sex\": \"Male\", \"smoker\": \"Yes\", \"day\": \"Sat\", \"time\": \"Dinner\", \"size\": 2}, {\"total_bill\": 35.83, \"tip\": 4.67, \"sex\": \"Female\", \"smoker\": \"No\", \"day\": \"Sat\", \"time\": \"Dinner\", \"size\": 3}, {\"total_bill\": 29.03, \"tip\": 5.92, \"sex\": \"Male\", \"smoker\": \"No\", \"day\": \"Sat\", \"time\": \"Dinner\", \"size\": 3}, {\"total_bill\": 27.18, \"tip\": 2.0, \"sex\": \"Female\", \"smoker\": \"Yes\", \"day\": \"Sat\", \"time\": \"Dinner\", \"size\": 2}, {\"total_bill\": 22.67, \"tip\": 2.0, \"sex\": \"Male\", \"smoker\": \"Yes\", \"day\": \"Sat\", \"time\": \"Dinner\", \"size\": 2}, {\"total_bill\": 17.82, \"tip\": 1.75, \"sex\": \"Male\", \"smoker\": \"No\", \"day\": \"Sat\", \"time\": \"Dinner\", \"size\": 2}, {\"total_bill\": 18.78, \"tip\": 3.0, \"sex\": \"Female\", \"smoker\": \"No\", \"day\": \"Thur\", \"time\": \"Dinner\", \"size\": 2}]}};\n",
              "      var embedOpt = {\"mode\": \"vega-lite\"};\n",
              "\n",
              "      function showError(el, error){\n",
              "          el.innerHTML = ('<div class=\"error\" style=\"color:red;\">'\n",
              "                          + '<p>JavaScript Error: ' + error.message + '</p>'\n",
              "                          + \"<p>This usually means there's a typo in your chart specification. \"\n",
              "                          + \"See the javascript console for the full traceback.</p>\"\n",
              "                          + '</div>');\n",
              "          throw error;\n",
              "      }\n",
              "      const el = document.getElementById('altair-viz');\n",
              "      vegaEmbed(\"#altair-viz\", spec, embedOpt)\n",
              "        .catch(error => showError(el, error));\n",
              "\n",
              "  </script>\n",
              "</body>\n",
              "</html>"
            ]
          },
          "metadata": {
            "tags": []
          },
          "execution_count": 26
        }
      ]
    },
    {
      "metadata": {
        "id": "L_ZNIPBgA7uB",
        "colab_type": "code",
        "colab": {
          "base_uri": "https://localhost:8080/",
          "height": 315
        },
        "outputId": "ddec06fb-784c-4690-94c9-5e8287b9d43f"
      },
      "cell_type": "code",
      "source": [
        "df.head()"
      ],
      "execution_count": 29,
      "outputs": [
        {
          "output_type": "execute_result",
          "data": {
            "text/html": [
              "<div>\n",
              "<style scoped>\n",
              "    .dataframe tbody tr th:only-of-type {\n",
              "        vertical-align: middle;\n",
              "    }\n",
              "\n",
              "    .dataframe tbody tr th {\n",
              "        vertical-align: top;\n",
              "    }\n",
              "\n",
              "    .dataframe thead tr th {\n",
              "        text-align: left;\n",
              "    }\n",
              "</style>\n",
              "<table border=\"1\" class=\"dataframe\">\n",
              "  <thead>\n",
              "    <tr>\n",
              "      <th>network</th>\n",
              "      <th colspan=\"2\" halign=\"left\">1</th>\n",
              "      <th colspan=\"2\" halign=\"left\">3</th>\n",
              "      <th colspan=\"2\" halign=\"left\">4</th>\n",
              "      <th colspan=\"2\" halign=\"left\">5</th>\n",
              "      <th colspan=\"2\" halign=\"left\">6</th>\n",
              "      <th>...</th>\n",
              "      <th colspan=\"3\" halign=\"left\">16</th>\n",
              "      <th colspan=\"7\" halign=\"left\">17</th>\n",
              "    </tr>\n",
              "    <tr>\n",
              "      <th>node</th>\n",
              "      <th colspan=\"2\" halign=\"left\">1</th>\n",
              "      <th colspan=\"2\" halign=\"left\">1</th>\n",
              "      <th colspan=\"2\" halign=\"left\">1</th>\n",
              "      <th colspan=\"2\" halign=\"left\">1</th>\n",
              "      <th colspan=\"2\" halign=\"left\">1</th>\n",
              "      <th>...</th>\n",
              "      <th>3</th>\n",
              "      <th colspan=\"2\" halign=\"left\">4</th>\n",
              "      <th colspan=\"2\" halign=\"left\">1</th>\n",
              "      <th colspan=\"2\" halign=\"left\">2</th>\n",
              "      <th colspan=\"2\" halign=\"left\">3</th>\n",
              "      <th>4</th>\n",
              "    </tr>\n",
              "    <tr>\n",
              "      <th>hemi</th>\n",
              "      <th>lh</th>\n",
              "      <th>rh</th>\n",
              "      <th>lh</th>\n",
              "      <th>rh</th>\n",
              "      <th>lh</th>\n",
              "      <th>rh</th>\n",
              "      <th>lh</th>\n",
              "      <th>rh</th>\n",
              "      <th>lh</th>\n",
              "      <th>rh</th>\n",
              "      <th>...</th>\n",
              "      <th>rh</th>\n",
              "      <th>lh</th>\n",
              "      <th>rh</th>\n",
              "      <th>lh</th>\n",
              "      <th>rh</th>\n",
              "      <th>lh</th>\n",
              "      <th>rh</th>\n",
              "      <th>lh</th>\n",
              "      <th>rh</th>\n",
              "      <th>lh</th>\n",
              "    </tr>\n",
              "  </thead>\n",
              "  <tbody>\n",
              "    <tr>\n",
              "      <th>0</th>\n",
              "      <td>56.055744</td>\n",
              "      <td>92.031036</td>\n",
              "      <td>26.203819</td>\n",
              "      <td>-49.715569</td>\n",
              "      <td>47.461037</td>\n",
              "      <td>26.746613</td>\n",
              "      <td>-35.898861</td>\n",
              "      <td>-1.889181</td>\n",
              "      <td>5.898688</td>\n",
              "      <td>-43.692322</td>\n",
              "      <td>...</td>\n",
              "      <td>0.607904</td>\n",
              "      <td>-70.270546</td>\n",
              "      <td>77.365776</td>\n",
              "      <td>-21.734550</td>\n",
              "      <td>1.028253</td>\n",
              "      <td>7.791784</td>\n",
              "      <td>68.903725</td>\n",
              "      <td>-10.520872</td>\n",
              "      <td>120.490463</td>\n",
              "      <td>-39.686432</td>\n",
              "    </tr>\n",
              "    <tr>\n",
              "      <th>1</th>\n",
              "      <td>55.547253</td>\n",
              "      <td>43.690075</td>\n",
              "      <td>-28.274963</td>\n",
              "      <td>-39.050129</td>\n",
              "      <td>-1.210660</td>\n",
              "      <td>-19.012897</td>\n",
              "      <td>19.568010</td>\n",
              "      <td>15.902983</td>\n",
              "      <td>-23.231823</td>\n",
              "      <td>-10.745867</td>\n",
              "      <td>...</td>\n",
              "      <td>57.495071</td>\n",
              "      <td>-76.393219</td>\n",
              "      <td>127.261360</td>\n",
              "      <td>-13.035799</td>\n",
              "      <td>46.381824</td>\n",
              "      <td>-15.752450</td>\n",
              "      <td>31.000332</td>\n",
              "      <td>-39.607521</td>\n",
              "      <td>24.764011</td>\n",
              "      <td>-36.771008</td>\n",
              "    </tr>\n",
              "    <tr>\n",
              "      <th>2</th>\n",
              "      <td>60.997768</td>\n",
              "      <td>63.438793</td>\n",
              "      <td>-18.842947</td>\n",
              "      <td>-1.214659</td>\n",
              "      <td>-65.575806</td>\n",
              "      <td>-85.777428</td>\n",
              "      <td>19.247454</td>\n",
              "      <td>37.209419</td>\n",
              "      <td>2.392153</td>\n",
              "      <td>16.509109</td>\n",
              "      <td>...</td>\n",
              "      <td>28.317369</td>\n",
              "      <td>9.063977</td>\n",
              "      <td>45.493263</td>\n",
              "      <td>26.033442</td>\n",
              "      <td>34.212200</td>\n",
              "      <td>1.326110</td>\n",
              "      <td>-22.580757</td>\n",
              "      <td>12.985169</td>\n",
              "      <td>-75.027451</td>\n",
              "      <td>6.434262</td>\n",
              "    </tr>\n",
              "    <tr>\n",
              "      <th>3</th>\n",
              "      <td>18.514868</td>\n",
              "      <td>12.657158</td>\n",
              "      <td>-7.420454</td>\n",
              "      <td>17.119448</td>\n",
              "      <td>-41.800869</td>\n",
              "      <td>-58.610184</td>\n",
              "      <td>32.896915</td>\n",
              "      <td>11.199619</td>\n",
              "      <td>-14.665752</td>\n",
              "      <td>2.073715</td>\n",
              "      <td>...</td>\n",
              "      <td>71.439629</td>\n",
              "      <td>65.842979</td>\n",
              "      <td>-10.697547</td>\n",
              "      <td>55.297466</td>\n",
              "      <td>4.255006</td>\n",
              "      <td>-2.420144</td>\n",
              "      <td>12.098393</td>\n",
              "      <td>-15.819172</td>\n",
              "      <td>-37.361431</td>\n",
              "      <td>-4.650954</td>\n",
              "    </tr>\n",
              "    <tr>\n",
              "      <th>4</th>\n",
              "      <td>-2.527392</td>\n",
              "      <td>-63.104668</td>\n",
              "      <td>-45.216927</td>\n",
              "      <td>3.483550</td>\n",
              "      <td>-62.613335</td>\n",
              "      <td>-49.076508</td>\n",
              "      <td>18.396759</td>\n",
              "      <td>3.219077</td>\n",
              "      <td>-41.856911</td>\n",
              "      <td>-24.690414</td>\n",
              "      <td>...</td>\n",
              "      <td>95.597565</td>\n",
              "      <td>50.960453</td>\n",
              "      <td>-23.197300</td>\n",
              "      <td>43.067562</td>\n",
              "      <td>52.219875</td>\n",
              "      <td>28.232882</td>\n",
              "      <td>-11.719750</td>\n",
              "      <td>5.453649</td>\n",
              "      <td>5.169828</td>\n",
              "      <td>87.809135</td>\n",
              "    </tr>\n",
              "  </tbody>\n",
              "</table>\n",
              "<p>5 rows × 52 columns</p>\n",
              "</div>"
            ],
            "text/plain": [
              "network          1                     3                     4             \\\n",
              "node             1                     1                     1              \n",
              "hemi            lh         rh         lh         rh         lh         rh   \n",
              "0        56.055744  92.031036  26.203819 -49.715569  47.461037  26.746613   \n",
              "1        55.547253  43.690075 -28.274963 -39.050129  -1.210660 -19.012897   \n",
              "2        60.997768  63.438793 -18.842947  -1.214659 -65.575806 -85.777428   \n",
              "3        18.514868  12.657158  -7.420454  17.119448 -41.800869 -58.610184   \n",
              "4        -2.527392 -63.104668 -45.216927   3.483550 -62.613335 -49.076508   \n",
              "\n",
              "network          5                     6               ...             16  \\\n",
              "node             1                     1               ...              3   \n",
              "hemi            lh         rh         lh         rh    ...             rh   \n",
              "0       -35.898861  -1.889181   5.898688 -43.692322    ...       0.607904   \n",
              "1        19.568010  15.902983 -23.231823 -10.745867    ...      57.495071   \n",
              "2        19.247454  37.209419   2.392153  16.509109    ...      28.317369   \n",
              "3        32.896915  11.199619 -14.665752   2.073715    ...      71.439629   \n",
              "4        18.396759   3.219077 -41.856911 -24.690414    ...      95.597565   \n",
              "\n",
              "network                                17                                   \\\n",
              "node             4                      1                     2              \n",
              "hemi            lh          rh         lh         rh         lh         rh   \n",
              "0       -70.270546   77.365776 -21.734550   1.028253   7.791784  68.903725   \n",
              "1       -76.393219  127.261360 -13.035799  46.381824 -15.752450  31.000332   \n",
              "2         9.063977   45.493263  26.033442  34.212200   1.326110 -22.580757   \n",
              "3        65.842979  -10.697547  55.297466   4.255006  -2.420144  12.098393   \n",
              "4        50.960453  -23.197300  43.067562  52.219875  28.232882 -11.719750   \n",
              "\n",
              "network                                    \n",
              "node             3                      4  \n",
              "hemi            lh          rh         lh  \n",
              "0       -10.520872  120.490463 -39.686432  \n",
              "1       -39.607521   24.764011 -36.771008  \n",
              "2        12.985169  -75.027451   6.434262  \n",
              "3       -15.819172  -37.361431  -4.650954  \n",
              "4         5.453649    5.169828  87.809135  \n",
              "\n",
              "[5 rows x 52 columns]"
            ]
          },
          "metadata": {
            "tags": []
          },
          "execution_count": 29
        }
      ]
    },
    {
      "metadata": {
        "id": "20fQH5GkBU65",
        "colab_type": "code",
        "colab": {
          "base_uri": "https://localhost:8080/",
          "height": 34
        },
        "outputId": "c117f0b5-2bbf-4fab-db96-f9cdfc627c0a"
      },
      "cell_type": "code",
      "source": [
        "df.shape"
      ],
      "execution_count": 30,
      "outputs": [
        {
          "output_type": "execute_result",
          "data": {
            "text/plain": [
              "(920, 52)"
            ]
          },
          "metadata": {
            "tags": []
          },
          "execution_count": 30
        }
      ]
    },
    {
      "metadata": {
        "id": "y6NKmT1O2Hk3",
        "colab_type": "code",
        "colab": {
          "base_uri": "https://localhost:8080/",
          "height": 400
        },
        "outputId": "a5163fe9-83f8-4acf-d75f-baa8881b1531"
      },
      "cell_type": "code",
      "source": [
        "import seaborn as sns\n",
        "import matplotlib.pyplot as plt\n",
        "sns.set(style=\"whitegrid\")\n",
        "\n",
        "# Load the example dataset of brain network correlations\n",
        "df = sns.load_dataset(\"brain_networks\", header=[0, 1, 2], index_col=0)\n",
        "\n",
        "# Pull out a specific subset of networks\n",
        "used_networks = [1, 3, 4, 5, 6, 7, 8, 11, 12, 13, 16, 17]\n",
        "used_columns = (df.columns.get_level_values(\"network\")\n",
        "                          .astype(int)\n",
        "                          .isin(used_networks))\n",
        "df = df.loc[:, used_columns]\n",
        "\n",
        "# Compute the correlation matrix and average over networks\n",
        "corr_df = df.corr().groupby(level=\"network\").mean()\n",
        "corr_df.index = corr_df.index.astype(int)\n",
        "corr_df = corr_df.sort_index().T\n",
        "\n",
        "# Set up the matplotlib figure\n",
        "f, ax = plt.subplots(figsize=(11, 6))\n",
        "\n",
        "# Draw a violinplot with a narrower bandwidth than the default\n",
        "sns.violinplot(data=corr_df, palette=\"Set3\", bw=.2, cut=1, linewidth=1)\n",
        "\n",
        "# Finalize the figure\n",
        "ax.set(ylim=(-.7, 1.05))\n",
        "sns.despine(left=True, bottom=True)"
      ],
      "execution_count": 28,
      "outputs": [
        {
          "output_type": "display_data",
          "data": {
            "image/png": "[encoded data removed]",
            "text/plain": [
              "<Figure size 792x432 with 1 Axes>"
            ]
          },
          "metadata": {
            "tags": []
          }
        }
      ]
    }
  ]
}