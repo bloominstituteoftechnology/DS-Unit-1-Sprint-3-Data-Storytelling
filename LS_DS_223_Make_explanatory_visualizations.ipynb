{
  "nbformat": 4,
  "nbformat_minor": 0,
  "metadata": {
    "colab": {
      "name": "LS_DS_223_Make_explanatory_visualizations LIVE LESSON.ipynb",
      "version": "0.3.2",
      "provenance": [],
      "collapsed_sections": [],
      "include_colab_link": true
    },
    "kernelspec": {
      "display_name": "Python 3",
      "language": "python",
      "name": "python3"
    }
  },
  "cells": [
    {
      "cell_type": "markdown",
      "metadata": {
        "id": "view-in-github",
        "colab_type": "text"
      },
      "source": [
        "<a href=\"https://colab.research.google.com/github/donaldocelaj/DS-Unit-1-Sprint-3-Data-Storytelling/blob/master/LS_DS_223_Make_explanatory_visualizations.ipynb\" target=\"_parent\"><img src=\"https://colab.research.google.com/assets/colab-badge.svg\" alt=\"Open In Colab\"/></a>"
      ]
    },
    {
      "metadata": {
        "id": "-8-trVo__vRE",
        "colab_type": "text"
      },
      "cell_type": "markdown",
      "source": [
        "_Lambda School Data Science_\n",
        "\n",
        "# Make explanatory visualizations\n",
        "\n",
        "\n",
        "\n",
        "\n",
        "Tody we will reproduce this [example by FiveThirtyEight:](https://fivethirtyeight.com/features/al-gores-new-movie-exposes-the-big-flaw-in-online-movie-ratings/)"
      ]
    },
    {
      "metadata": {
        "id": "ya_w5WORGs-n",
        "colab_type": "code",
        "outputId": "7aa266a6-101d-4f09-fc44-a374a08602f1",
        "colab": {
          "base_uri": "https://localhost:8080/",
          "height": 355
        }
      },
      "cell_type": "code",
      "source": [
        "from IPython.display import display, Image\n",
        "\n",
        "url = 'https://fivethirtyeight.com/wp-content/uploads/2017/09/mehtahickey-inconvenient-0830-1.png'\n",
        "example = Image(url=url, width=400)\n",
        "\n",
        "display(example)"
      ],
      "execution_count": 0,
      "outputs": [
        {
          "output_type": "display_data",
          "data": {
            "text/html": [
              "<img src=\"https://fivethirtyeight.com/wp-content/uploads/2017/09/mehtahickey-inconvenient-0830-1.png\" width=\"400\"/>"
            ],
            "text/plain": [
              "<IPython.core.display.Image object>"
            ]
          },
          "metadata": {
            "tags": []
          }
        }
      ]
    },
    {
      "metadata": {
        "id": "HP4DALiRG3sC",
        "colab_type": "text"
      },
      "cell_type": "markdown",
      "source": [
        "Using this data: https://github.com/fivethirtyeight/data/tree/master/inconvenient-sequel"
      ]
    },
    {
      "metadata": {
        "id": "HioPkYtUG03B",
        "colab_type": "text"
      },
      "cell_type": "markdown",
      "source": [
        "Objectives\n",
        "- add emphasis and annotations to transform visualizations from exploratory to explanatory\n",
        "- remove clutter from visualizations\n",
        "\n",
        "Links\n",
        "- [Strong Titles Are The Biggest Bang for Your Buck](http://stephanieevergreen.com/strong-titles/)\n",
        "- [Remove to improve (the data-ink ratio)](https://www.darkhorseanalytics.com/blog/data-looks-better-naked)\n",
        "- [How to Generate FiveThirtyEight Graphs in Python](https://www.dataquest.io/blog/making-538-plots/)"
      ]
    },
    {
      "metadata": {
        "id": "0w_iMnQ6-VoQ",
        "colab_type": "text"
      },
      "cell_type": "markdown",
      "source": [
        "## Make prototypes\n",
        "\n",
        "This helps us understand the problem. We'll just make up some plausible fake data. The purpose is to understand what we're looking for, when we wrangle the real data. (If you don't know what you're looking for, it's going to be hard to find!)\n",
        "\n",
        "One format could be a list of 10 numbers. (The aggregated counts of ratings.)"
      ]
    },
    {
      "metadata": {
        "id": "5uz0eEaEN-GO",
        "colab_type": "code",
        "outputId": "294f82a1-fde4-466a-d6c9-62766afec667",
        "colab": {
          "base_uri": "https://localhost:8080/",
          "height": 282
        }
      },
      "cell_type": "code",
      "source": [
        "%matplotlib inline\n",
        "import matplotlib.pyplot as plt\n",
        "import numpy as np\n",
        "import pandas as pd\n",
        "\n",
        "plt.style.use('fivethirtyeight')\n",
        "\n",
        "fake = pd.Series([38, 3, 2, 1, 2, 4, 6, 5, 5, 33], \n",
        "                 index=range(1,11))\n",
        "\n",
        "fake.plot.bar(color='C1', width=0.9);"
      ],
      "execution_count": 0,
      "outputs": [
        {
          "output_type": "display_data",
          "data": {
            "image/png": "[encoded data removed]",
            "text/plain": [
              "<Figure size 432x288 with 1 Axes>"
            ]
          },
          "metadata": {
            "tags": []
          }
        }
      ]
    },
    {
      "metadata": {
        "id": "Ik3F5-zjThPy",
        "colab_type": "text"
      },
      "cell_type": "markdown",
      "source": [
        "Another data format could be the raw votes themselves.  It looks like a sideways histogram.\n",
        "\n",
        "So if I can find either of these data representations in the underlying raw data, then I can replicate the chart."
      ]
    },
    {
      "metadata": {
        "id": "KZ0VLOV8OyRr",
        "colab_type": "code",
        "outputId": "60a49503-4e2e-40ce-c31d-3e5469282b3c",
        "colab": {
          "base_uri": "https://localhost:8080/",
          "height": 285
        }
      },
      "cell_type": "code",
      "source": [
        "fake2 = pd.Series(\n",
        "    [1, 1, 1, 1, 1, 1, 1, 1, 1, 1, 1, 1, 1, 1, 1, 1, 1, 1, 1, 1, 1, 1, 1, 1,\n",
        "     2, 2, 2, \n",
        "     3, 3, 3,\n",
        "     4, 4,\n",
        "     5, 5, 5,\n",
        "     6, 6, 6, 6,\n",
        "     7, 7, 7, 7, 7,\n",
        "     8, 8, 8, 8,\n",
        "     9, 9, 9, 9, \n",
        "     10, 10, 10, 10, 10, 10, 10, 10, 10, 10, 10, 10, 10, 10, 10, 10, 10, 10])\n",
        "\n",
        "fake2.value_counts().sort_index().plot.bar(color='C1', width=0.9);"
      ],
      "execution_count": 0,
      "outputs": [
        {
          "output_type": "display_data",
          "data": {
            "image/png": "[encoded data removed]",
            "text/plain": [
              "<Figure size 432x288 with 1 Axes>"
            ]
          },
          "metadata": {
            "tags": []
          }
        }
      ]
    },
    {
      "metadata": {
        "id": "mZb3UZWO-q05",
        "colab_type": "text"
      },
      "cell_type": "markdown",
      "source": [
        "## Annotate with text"
      ]
    },
    {
      "metadata": {
        "id": "f6U1vswr_uWp",
        "colab_type": "code",
        "outputId": "1cf7faa9-ef35-479a-de71-455dd32007ce",
        "colab": {
          "base_uri": "https://localhost:8080/",
          "height": 370
        }
      },
      "cell_type": "code",
      "source": [
        "plt.style.use('fivethirtyeight')\n",
        "\n",
        "fake = pd.Series([38, 3, 2, 1, 2, 4, 6, 5, 5, 33], \n",
        "                 index=range(1,11))\n",
        "\n",
        "ax = fake.plot.bar(color='C1', width=0.9)\n",
        "\n",
        "ax.tick_params(labelrotation=0)\n",
        "\n",
        "ax.text(x=-2, y=50, s=\"'An Inconvenient Sequel: Truth To Power' is divisive\", \n",
        "        fontsize=16, fontweight='bold')\n",
        "\n",
        "ax.text(x=-2, y=46, s='IMDb ratings for the film as of Aug. 29')\n",
        "\n",
        "ax.set(xlabel='Rating', \n",
        "       ylabel='Percent of total votes', \n",
        "       yticks=range(0,50,10));"
      ],
      "execution_count": 0,
      "outputs": [
        {
          "output_type": "display_data",
          "data": {
            "image/png": "[encoded data removed]",
            "text/plain": [
              "<Figure size 432x288 with 1 Axes>"
            ]
          },
          "metadata": {
            "tags": []
          }
        }
      ]
    },
    {
      "metadata": {
        "id": "x8jRZkpB_MJ6",
        "colab_type": "text"
      },
      "cell_type": "markdown",
      "source": [
        "## Reproduce with real data"
      ]
    },
    {
      "metadata": {
        "id": "3SOHJckDUPI8",
        "colab_type": "code",
        "colab": {}
      },
      "cell_type": "code",
      "source": [
        "df = pd.read_csv('https://raw.githubusercontent.com/fivethirtyeight/data/master/inconvenient-sequel/ratings.csv')"
      ],
      "execution_count": 0,
      "outputs": []
    },
    {
      "metadata": {
        "id": "lD4wNdIWT4mc",
        "colab_type": "text"
      },
      "cell_type": "markdown",
      "source": [
        "The chart only has 10 datapoints. The dataset has over 2 million. How are we going to find the 10 datapoints in all this data? With data wrangling skills."
      ]
    },
    {
      "metadata": {
        "id": "rEz-U-wO5g0k",
        "colab_type": "code",
        "outputId": "43e5b3f7-b7e4-4ccf-af87-f27c8dbff648",
        "colab": {
          "base_uri": "https://localhost:8080/",
          "height": 34
        }
      },
      "cell_type": "code",
      "source": [
        "width, height = df.shape\n",
        "width * height"
      ],
      "execution_count": 0,
      "outputs": [
        {
          "output_type": "execute_result",
          "data": {
            "text/plain": [
              "2161431"
            ]
          },
          "metadata": {
            "tags": []
          },
          "execution_count": 6
        }
      ]
    },
    {
      "metadata": {
        "id": "8FJVQ5YdURXd",
        "colab_type": "text"
      },
      "cell_type": "markdown",
      "source": [
        "Some questions we can ask:\n",
        "- Are there other movies included in this dataset? Is that why it's so big?\n",
        "- Is the data an event log of votes that I need to sum up? Or are the vote counts cumulative snapshots from the web scraping, and I can just take the final count from the last date and time?\n",
        "\n",
        "If this seems tedious and confusing, even for a simple example, then welcome to the real world of data science! \"80%\" is data wrangling. You'll be hired by businesses where data is not in pristine state and not well documented.\n",
        "\n",
        "These columns look useful. But I want to look at the timestamps to better understand the data.\n"
      ]
    },
    {
      "metadata": {
        "id": "7N5jjAV15s37",
        "colab_type": "code",
        "colab": {}
      },
      "cell_type": "code",
      "source": [
        "pd.options.display.max_columns = 500\n",
        "df.head()"
      ],
      "execution_count": 0,
      "outputs": []
    },
    {
      "metadata": {
        "id": "f9EWtHhgUFOs",
        "colab_type": "text"
      },
      "cell_type": "markdown",
      "source": [
        "The date range matches the documentation on GitHub."
      ]
    },
    {
      "metadata": {
        "id": "fGYObvwr6yXj",
        "colab_type": "code",
        "colab": {}
      },
      "cell_type": "code",
      "source": [
        "df.timestamp = pd.to_datetime(df.timestamp)"
      ],
      "execution_count": 0,
      "outputs": []
    },
    {
      "metadata": {
        "id": "SIkeu0Sd7D9v",
        "colab_type": "code",
        "colab": {}
      },
      "cell_type": "code",
      "source": [
        "df.timestamp.describe()"
      ],
      "execution_count": 0,
      "outputs": []
    },
    {
      "metadata": {
        "id": "mg1xktb6UxsM",
        "colab_type": "text"
      },
      "cell_type": "markdown",
      "source": [
        "I can use the timestamp as the index, and look at day from the last day:"
      ]
    },
    {
      "metadata": {
        "id": "3NphHQrb7Fv4",
        "colab_type": "code",
        "colab": {}
      },
      "cell_type": "code",
      "source": [
        "df = df.set_index('timestamp')"
      ],
      "execution_count": 0,
      "outputs": []
    },
    {
      "metadata": {
        "id": "_20wLvTX7XSI",
        "colab_type": "code",
        "colab": {}
      },
      "cell_type": "code",
      "source": [
        "df['2017-08-29']"
      ],
      "execution_count": 0,
      "outputs": []
    },
    {
      "metadata": {
        "id": "vA-YbkvPU9bO",
        "colab_type": "text"
      },
      "cell_type": "markdown",
      "source": [
        "Even when I'm filtering to just the last date, there's still a lot of data here. Maybe the web scraper is hitting this repeatedly?\n",
        "\n",
        "I still want to verify, is this only one movie? I'll look at `links` and `category`"
      ]
    },
    {
      "metadata": {
        "id": "V55BWHqdVHbd",
        "colab_type": "code",
        "colab": {}
      },
      "cell_type": "code",
      "source": [
        "df.link.value_counts()"
      ],
      "execution_count": 0,
      "outputs": []
    },
    {
      "metadata": {
        "id": "ZSF9RWKq74Zl",
        "colab_type": "code",
        "colab": {}
      },
      "cell_type": "code",
      "source": [
        "df.category.value_counts()"
      ],
      "execution_count": 0,
      "outputs": []
    },
    {
      "metadata": {
        "id": "aoD_Tu7aWtkH",
        "colab_type": "text"
      },
      "cell_type": "markdown",
      "source": [
        "We want total votes, so it looks like the right category is all `'IMDb users'`"
      ]
    },
    {
      "metadata": {
        "id": "s3Z-uBl976we",
        "colab_type": "code",
        "colab": {}
      },
      "cell_type": "code",
      "source": [
        "df[df.category=='IMDb users']"
      ],
      "execution_count": 0,
      "outputs": []
    },
    {
      "metadata": {
        "id": "l_pNQ5VLVLje",
        "colab_type": "text"
      },
      "cell_type": "markdown",
      "source": [
        "The data appears to only be ratings for this one movie.\n",
        "\n",
        "And it looks like it is cumulative, so I shouldn't have to add anything up. I can just take the last timestamp. But I want to be sure. So I just look at the last day, and plot the number of respondents. It always goes up — \"increasing monotonically.\" This verifies that the vote counts are cumulative."
      ]
    },
    {
      "metadata": {
        "id": "A2GipXpz84EB",
        "colab_type": "code",
        "colab": {}
      },
      "cell_type": "code",
      "source": [
        "lastday = df['2017-08-29']"
      ],
      "execution_count": 0,
      "outputs": []
    },
    {
      "metadata": {
        "id": "XEtu4l9n9N6f",
        "colab_type": "code",
        "outputId": "b485db7c-6f95-4dc2-b992-333143c99935",
        "colab": {
          "base_uri": "https://localhost:8080/",
          "height": 281
        }
      },
      "cell_type": "code",
      "source": [
        "lastday[lastday.category=='IMDb users'].respondents.plot();"
      ],
      "execution_count": 0,
      "outputs": [
        {
          "output_type": "display_data",
          "data": {
            "image/png": "[encoded data removed]",
            "text/plain": [
              "<Figure size 432x288 with 1 Axes>"
            ]
          },
          "metadata": {
            "tags": []
          }
        }
      ]
    },
    {
      "metadata": {
        "id": "__yKue-lVnto",
        "colab_type": "text"
      },
      "cell_type": "markdown",
      "source": [
        "So this is the data we want!"
      ]
    },
    {
      "metadata": {
        "id": "RiNFrkL292ag",
        "colab_type": "code",
        "colab": {}
      },
      "cell_type": "code",
      "source": [
        "final = df.tail(1)"
      ],
      "execution_count": 0,
      "outputs": []
    },
    {
      "metadata": {
        "id": "1XfsWoXp94gh",
        "colab_type": "code",
        "colab": {}
      },
      "cell_type": "code",
      "source": [
        "columns = [str(i) + '_pct' for i in range(1,11)]\n",
        "final[columns]"
      ],
      "execution_count": 0,
      "outputs": []
    },
    {
      "metadata": {
        "id": "Mqdijg9sVru2",
        "colab_type": "text"
      },
      "cell_type": "markdown",
      "source": [
        "When we transpose, it looks like the format we want, from the first \"mockup\" with fake data"
      ]
    },
    {
      "metadata": {
        "id": "OgdFPGcj-Xws",
        "colab_type": "code",
        "colab": {}
      },
      "cell_type": "code",
      "source": [
        "data = final[columns].T"
      ],
      "execution_count": 0,
      "outputs": []
    },
    {
      "metadata": {
        "id": "K6C-i8X9V2W8",
        "colab_type": "text"
      },
      "cell_type": "markdown",
      "source": [
        "When we plot it, we get a bar chart with the correct bar heights, from real world data.\n",
        "\n",
        "Out of 2 million data points, we found the 10 we need to reproduce the particular chart. It might have seemed difficult, but we did it with no documentation on the data other than one sentence on GitHub. And we did exploratory data analysis to verify that our assumptions were correct: that we were using the correct data and interpreting it correctly."
      ]
    },
    {
      "metadata": {
        "id": "ZO3HedAbVzwl",
        "colab_type": "code",
        "outputId": "fde445bf-02b8-460b-f0d2-9a7374211d28",
        "colab": {
          "base_uri": "https://localhost:8080/",
          "height": 304
        }
      },
      "cell_type": "code",
      "source": [
        "data.plot.bar();"
      ],
      "execution_count": 0,
      "outputs": [
        {
          "output_type": "display_data",
          "data": {
            "image/png": "[encoded data removed]",
            "text/plain": [
              "<Figure size 432x288 with 1 Axes>"
            ]
          },
          "metadata": {
            "tags": []
          }
        }
      ]
    },
    {
      "metadata": {
        "id": "HObTUIpzWJm_",
        "colab_type": "text"
      },
      "cell_type": "markdown",
      "source": [
        "Then we just copy & paste our code from before, to add the annotations, plus a few details:"
      ]
    },
    {
      "metadata": {
        "id": "5qjY63HL_Z89",
        "colab_type": "code",
        "colab": {}
      },
      "cell_type": "code",
      "source": [
        "data.index = range(1, 11)"
      ],
      "execution_count": 0,
      "outputs": []
    },
    {
      "metadata": {
        "id": "1Gsat6lg-m8M",
        "colab_type": "code",
        "outputId": "c30eef28-c0c6-4f04-9e33-569c898f3a17",
        "colab": {
          "base_uri": "https://localhost:8080/",
          "height": 368
        }
      },
      "cell_type": "code",
      "source": [
        "plt.style.use('fivethirtyeight')\n",
        "\n",
        "ax = data.plot.bar(color='C1', width=0.9, legend=False)\n",
        "\n",
        "ax.tick_params(labelrotation=0)\n",
        "\n",
        "ax.text(x=-2, y=50, s=\"'An Inconvenient Sequel: Truth To Power' is divisive\", \n",
        "        fontsize=16, fontweight='bold')\n",
        "\n",
        "ax.text(x=-2, y=46, s='IMDb ratings for the film as of Aug. 29')\n",
        "\n",
        "ax.set(xlabel='Rating', \n",
        "       ylabel='Percent of total votes', \n",
        "       yticks=range(0,50,10));"
      ],
      "execution_count": 0,
      "outputs": [
        {
          "output_type": "display_data",
          "data": {
            "image/png": "[encoded data removed]",
            "text/plain": [
              "<Figure size 432x288 with 1 Axes>"
            ]
          },
          "metadata": {
            "tags": []
          }
        }
      ]
    },
    {
      "metadata": {
        "id": "NMEswXWh9mqw",
        "colab_type": "text"
      },
      "cell_type": "markdown",
      "source": [
        "# ASSIGNMENT\n",
        "\n",
        "Replicate the lesson code. I recommend that you [do not copy-paste](https://docs.google.com/document/d/1ubOw9B3Hfip27hF2ZFnW3a3z9xAgrUDRReOEo-FHCVs/edit).\n",
        "\n",
        "# STRETCH OPTIONS\n",
        "\n",
        "#### Reproduce another example from [FiveThityEight's shared data repository](https://data.fivethirtyeight.com/).\n",
        "\n",
        "If you aren't sure what to choose, try:\n",
        "- the chart titled [\"Men dominated Al Gore's IMDb movie rating\"](https://fivethirtyeight.com/features/al-gores-new-movie-exposes-the-big-flaw-in-online-movie-ratings/)\n",
        "- or the tutorial, [How to Generate FiveThirtyEight Graphs in Python](https://www.dataquest.io/blog/making-538-plots/)\n",
        "\n",
        "Other options include:\n",
        "- [thanksgiving-2015](https://fivethirtyeight.com/features/heres-what-your-part-of-america-eats-on-thanksgiving/) (try the [`altair`](https://altair-viz.github.io/gallery/index.html#maps) library)\n",
        "- [candy-power-ranking](https://fivethirtyeight.com/features/the-ultimate-halloween-candy-power-ranking/) (try the [`statsmodels`](https://www.statsmodels.org/stable/index.html) library)\n",
        "- or another example of your choice!\n",
        "\n",
        "#### Make more charts!\n",
        "\n",
        "Choose a chart you want to make, from [FT's Visual Vocabulary poster](http://ft.com/vocabulary).\n",
        "\n",
        "Find the chart in an example gallery of a Python data visualization library:\n",
        "- [Seaborn](http://seaborn.pydata.org/examples/index.html)\n",
        "- [Altair](https://altair-viz.github.io/gallery/index.html)\n",
        "- [Matplotlib](https://matplotlib.org/gallery.html)\n",
        "- [Pandas](https://pandas.pydata.org/pandas-docs/stable/visualization.html)\n",
        "\n",
        "Reproduce the chart. [Optionally, try the \"Ben Franklin Method.\"](https://docs.google.com/document/d/1ubOw9B3Hfip27hF2ZFnW3a3z9xAgrUDRReOEo-FHCVs/edit) If you want, experiment and make changes.\n",
        "\n",
        "Take notes. Consider sharing your work with your cohort!\n",
        "\n",
        "\n",
        "\n",
        "\n",
        "\n",
        "\n",
        "\n"
      ]
    }
  ]
}