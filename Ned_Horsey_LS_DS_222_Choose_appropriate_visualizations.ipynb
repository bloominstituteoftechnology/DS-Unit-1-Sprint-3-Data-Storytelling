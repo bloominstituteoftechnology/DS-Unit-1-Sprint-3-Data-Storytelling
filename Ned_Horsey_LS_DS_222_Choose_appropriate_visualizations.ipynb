{
  "nbformat": 4,
  "nbformat_minor": 0,
  "metadata": {
    "colab": {
      "name": "Ned_Horsey_LS_DS_222_Choose_appropriate_visualizations.ipynb",
      "version": "0.3.2",
      "provenance": [],
      "collapsed_sections": [
        "Cn-xMBPcljbc"
      ],
      "include_colab_link": true
    },
    "kernelspec": {
      "display_name": "Python 3",
      "language": "python",
      "name": "python3"
    }
  },
  "cells": [
    {
      "cell_type": "markdown",
      "metadata": {
        "id": "view-in-github",
        "colab_type": "text"
      },
      "source": [
        "<a href=\"https://colab.research.google.com/github/Rice-from-data/DS-Unit-1-Sprint-3-Data-Storytelling/blob/master/Ned_Horsey_LS_DS_222_Choose_appropriate_visualizations.ipynb\" target=\"_parent\"><img src=\"https://colab.research.google.com/assets/colab-badge.svg\" alt=\"Open In Colab\"/></a>"
      ]
    },
    {
      "metadata": {
        "colab_type": "text",
        "id": "1nwMfulDljaS"
      },
      "cell_type": "markdown",
      "source": [
        "_Lambda School Data Science_\n",
        "# Choose appropriate visualizations\n",
        "\n",
        "Objectives\n",
        "- fix misleading visualizations\n",
        "- use Seaborn to visualize distributions and relationships with continuous and discrete variables\n",
        "\n",
        "Links\n",
        "- [How to Spot Visualization Lies](https://flowingdata.com/2017/02/09/how-to-spot-visualization-lies/)\n",
        "- [Visual Vocabulary - Vega Edition](http://ft.com/vocabulary)\n",
        "- [Choosing a Python Visualization Tool flowchart](http://pbpython.com/python-vis-flowchart.html)\n",
        "- [Searborn example gallery](http://seaborn.pydata.org/examples/index.html) & [tutorial](http://seaborn.pydata.org/tutorial.html)\n"
      ]
    },
    {
      "metadata": {
        "colab_type": "text",
        "id": "yp50E_pnljaV"
      },
      "cell_type": "markdown",
      "source": [
        "# Upgrade Seaborn\n",
        "\n",
        "Make sure you have at least version 0.9.0.\n",
        "\n",
        "On Colab, go to **Restart runtime** after you run the `pip` command."
      ]
    },
    {
      "metadata": {
        "colab_type": "code",
        "id": "MJAy4kPfljaV",
        "colab": {
          "base_uri": "https://localhost:8080/",
          "height": 441
        },
        "outputId": "1e36bd0a-77c8-477e-8b71-9e90d22ded1c"
      },
      "cell_type": "code",
      "source": [
        "!pip install --upgrade seaborn"
      ],
      "execution_count": 1,
      "outputs": [
        {
          "output_type": "stream",
          "text": [
            "Collecting seaborn\n",
            "\u001b[?25l  Downloading https://files.pythonhosted.org/packages/a8/76/220ba4420459d9c4c9c9587c6ce607bf56c25b3d3d2de62056efe482dadc/seaborn-0.9.0-py3-none-any.whl (208kB)\n",
            "\r\u001b[K    4% |█▋                              | 10kB 14.1MB/s eta 0:00:01\r\u001b[K    9% |███▏                            | 20kB 3.4MB/s eta 0:00:01\r\u001b[K    14% |████▊                           | 30kB 4.8MB/s eta 0:00:01\r\u001b[K    19% |██████▎                         | 40kB 3.0MB/s eta 0:00:01\r\u001b[K    24% |███████▉                        | 51kB 3.7MB/s eta 0:00:01\r\u001b[K    29% |█████████▌                      | 61kB 4.4MB/s eta 0:00:01\r\u001b[K    34% |███████████                     | 71kB 5.1MB/s eta 0:00:01\r\u001b[K    39% |████████████▋                   | 81kB 5.6MB/s eta 0:00:01\r\u001b[K    44% |██████████████▏                 | 92kB 6.3MB/s eta 0:00:01\r\u001b[K    49% |███████████████▊                | 102kB 4.9MB/s eta 0:00:01\r\u001b[K    54% |█████████████████▎              | 112kB 4.9MB/s eta 0:00:01\r\u001b[K    59% |███████████████████             | 122kB 6.5MB/s eta 0:00:01\r\u001b[K    63% |████████████████████▌           | 133kB 6.5MB/s eta 0:00:01\r\u001b[K    68% |██████████████████████          | 143kB 11.7MB/s eta 0:00:01\r\u001b[K    73% |███████████████████████▋        | 153kB 11.9MB/s eta 0:00:01\r\u001b[K    78% |█████████████████████████▏      | 163kB 11.9MB/s eta 0:00:01\r\u001b[K    83% |██████████████████████████▊     | 174kB 11.6MB/s eta 0:00:01\r\u001b[K    88% |████████████████████████████▍   | 184kB 11.8MB/s eta 0:00:01\r\u001b[K    93% |██████████████████████████████  | 194kB 11.8MB/s eta 0:00:01\r\u001b[K    98% |███████████████████████████████▌| 204kB 35.8MB/s eta 0:00:01\r\u001b[K    100% |████████████████████████████████| 215kB 25.5MB/s \n",
            "\u001b[?25hRequirement already satisfied, skipping upgrade: scipy>=0.14.0 in /usr/local/lib/python3.6/dist-packages (from seaborn) (1.1.0)\n",
            "Requirement already satisfied, skipping upgrade: pandas>=0.15.2 in /usr/local/lib/python3.6/dist-packages (from seaborn) (0.22.0)\n",
            "Requirement already satisfied, skipping upgrade: numpy>=1.9.3 in /usr/local/lib/python3.6/dist-packages (from seaborn) (1.14.6)\n",
            "Requirement already satisfied, skipping upgrade: matplotlib>=1.4.3 in /usr/local/lib/python3.6/dist-packages (from seaborn) (3.0.3)\n",
            "Requirement already satisfied, skipping upgrade: python-dateutil>=2 in /usr/local/lib/python3.6/dist-packages (from pandas>=0.15.2->seaborn) (2.5.3)\n",
            "Requirement already satisfied, skipping upgrade: pytz>=2011k in /usr/local/lib/python3.6/dist-packages (from pandas>=0.15.2->seaborn) (2018.9)\n",
            "Requirement already satisfied, skipping upgrade: cycler>=0.10 in /usr/local/lib/python3.6/dist-packages (from matplotlib>=1.4.3->seaborn) (0.10.0)\n",
            "Requirement already satisfied, skipping upgrade: pyparsing!=2.0.4,!=2.1.2,!=2.1.6,>=2.0.1 in /usr/local/lib/python3.6/dist-packages (from matplotlib>=1.4.3->seaborn) (2.3.1)\n",
            "Requirement already satisfied, skipping upgrade: kiwisolver>=1.0.1 in /usr/local/lib/python3.6/dist-packages (from matplotlib>=1.4.3->seaborn) (1.0.1)\n",
            "Requirement already satisfied, skipping upgrade: six>=1.5 in /usr/local/lib/python3.6/dist-packages (from python-dateutil>=2->pandas>=0.15.2->seaborn) (1.11.0)\n",
            "Requirement already satisfied, skipping upgrade: setuptools in /usr/local/lib/python3.6/dist-packages (from kiwisolver>=1.0.1->matplotlib>=1.4.3->seaborn) (40.8.0)\n",
            "Installing collected packages: seaborn\n",
            "  Found existing installation: seaborn 0.7.1\n",
            "    Uninstalling seaborn-0.7.1:\n",
            "      Successfully uninstalled seaborn-0.7.1\n",
            "Successfully installed seaborn-0.9.0\n"
          ],
          "name": "stdout"
        },
        {
          "output_type": "display_data",
          "data": {
            "application/vnd.colab-display-data+json": {
              "pip_warning": {
                "packages": [
                  "seaborn"
                ]
              }
            }
          },
          "metadata": {
            "tags": []
          }
        }
      ]
    },
    {
      "metadata": {
        "colab_type": "code",
        "id": "fXZFXHccljaZ",
        "colab": {
          "base_uri": "https://localhost:8080/",
          "height": 34
        },
        "outputId": "41b797ef-59e5-4452-be7a-e647455d79fc"
      },
      "cell_type": "code",
      "source": [
        "import seaborn as sns\n",
        "sns.__version__"
      ],
      "execution_count": 2,
      "outputs": [
        {
          "output_type": "execute_result",
          "data": {
            "text/plain": [
              "'0.9.0'"
            ]
          },
          "metadata": {
            "tags": []
          },
          "execution_count": 2
        }
      ]
    },
    {
      "metadata": {
        "colab_type": "text",
        "id": "Md1lMTx1ljab"
      },
      "cell_type": "markdown",
      "source": [
        "# Fix misleading visualizations"
      ]
    },
    {
      "metadata": {
        "colab_type": "code",
        "id": "5kTa_5Lnljac",
        "colab": {}
      },
      "cell_type": "code",
      "source": [
        "%matplotlib inline\n",
        "import matplotlib.pyplot as plt\n",
        "import numpy as np\n",
        "import pandas as pd"
      ],
      "execution_count": 0,
      "outputs": []
    },
    {
      "metadata": {
        "colab_type": "code",
        "id": "FkXJKBMOljae",
        "colab": {
          "base_uri": "https://localhost:8080/",
          "height": 222
        },
        "outputId": "0916a01e-acfa-4c90-e0ee-0e86296643ce"
      },
      "cell_type": "code",
      "source": [
        "!wget https://raw.githubusercontent.com/LambdaSchool/DS-Unit-1-Sprint-3-Data-Storytelling/master/module2-choose-appropriate-visualizations/misleading.py\n",
        "    \n",
        "import misleading"
      ],
      "execution_count": 4,
      "outputs": [
        {
          "output_type": "stream",
          "text": [
            "--2019-04-02 16:22:20--  https://raw.githubusercontent.com/LambdaSchool/DS-Unit-1-Sprint-3-Data-Storytelling/master/module2-choose-appropriate-visualizations/misleading.py\n",
            "Resolving raw.githubusercontent.com (raw.githubusercontent.com)... 151.101.0.133, 151.101.64.133, 151.101.128.133, ...\n",
            "Connecting to raw.githubusercontent.com (raw.githubusercontent.com)|151.101.0.133|:443... connected.\n",
            "HTTP request sent, awaiting response... 200 OK\n",
            "Length: 1258 (1.2K) [text/plain]\n",
            "Saving to: ‘misleading.py’\n",
            "\n",
            "\rmisleading.py         0%[                    ]       0  --.-KB/s               \rmisleading.py       100%[===================>]   1.23K  --.-KB/s    in 0s      \n",
            "\n",
            "2019-04-02 16:22:20 (150 MB/s) - ‘misleading.py’ saved [1258/1258]\n",
            "\n"
          ],
          "name": "stdout"
        }
      ]
    },
    {
      "metadata": {
        "colab_type": "text",
        "id": "CBe1A0IJljag"
      },
      "cell_type": "markdown",
      "source": [
        "### Fix misleading plot #1"
      ]
    },
    {
      "metadata": {
        "colab_type": "code",
        "id": "nSkHZKmRljah",
        "colab": {
          "base_uri": "https://localhost:8080/",
          "height": 314
        },
        "outputId": "2e922d8f-a312-4dbd-ef99-06ebfa4cbf9b"
      },
      "cell_type": "code",
      "source": [
        "misleading.plot1();"
      ],
      "execution_count": 5,
      "outputs": [
        {
          "output_type": "display_data",
          "data": {
            "image/png": "[encoded data removed]",
            "text/plain": [
              "<Figure size 432x288 with 1 Axes>"
            ]
          },
          "metadata": {
            "tags": []
          }
        }
      ]
    },
    {
      "metadata": {
        "id": "drDmLNdI3-EM",
        "colab_type": "code",
        "colab": {}
      },
      "cell_type": "code",
      "source": [
        "insurance = pd.DataFrame(\n",
        "    index=['State Farm', 'GEICO'], \n",
        "    data={'Market Share %': [18.07, 12.79]})\n",
        "\n",
        "def plot1():\n",
        "    return insurance.plot.bar()"
      ],
      "execution_count": 0,
      "outputs": []
    },
    {
      "metadata": {
        "id": "dkF_lxaZ4t0K",
        "colab_type": "code",
        "colab": {
          "base_uri": "https://localhost:8080/",
          "height": 314
        },
        "outputId": "e3426b84-4e5d-4fb8-9318-c3780c392d2e"
      },
      "cell_type": "code",
      "source": [
        "insurance.plot.bar();"
      ],
      "execution_count": 14,
      "outputs": [
        {
          "output_type": "display_data",
          "data": {
            "image/png": "[encoded data removed]",
            "text/plain": [
              "<Figure size 432x288 with 1 Axes>"
            ]
          },
          "metadata": {
            "tags": []
          }
        }
      ]
    },
    {
      "metadata": {
        "colab_type": "text",
        "id": "6RB2pFjQljal"
      },
      "cell_type": "markdown",
      "source": [
        "### Fix misleading plot #2"
      ]
    },
    {
      "metadata": {
        "colab_type": "code",
        "id": "PAjwPf8vljam",
        "colab": {
          "base_uri": "https://localhost:8080/",
          "height": 310
        },
        "outputId": "f7313bfa-aa18-4e18-b970-c14314d325d1"
      },
      "cell_type": "code",
      "source": [
        "misleading.plot2();"
      ],
      "execution_count": 12,
      "outputs": [
        {
          "output_type": "display_data",
          "data": {
            "image/png": "[encoded data removed]",
            "text/plain": [
              "<Figure size 360x360 with 1 Axes>"
            ]
          },
          "metadata": {
            "tags": []
          }
        }
      ]
    },
    {
      "metadata": {
        "id": "ezmRhqFs5XUw",
        "colab_type": "code",
        "colab": {
          "base_uri": "https://localhost:8080/",
          "height": 136
        },
        "outputId": "9e45235c-f275-426e-eda8-a86bd1635ec2"
      },
      "cell_type": "code",
      "source": [
        "other = pd.DataFrame(\n",
        "    index=['Other'], \n",
        "    data={'Market Share %': [100 - 18.07 - 12.79]})\n",
        "\n",
        "insurance = insurance.append(other)\n",
        "\n",
        "insurance"
      ],
      "execution_count": 15,
      "outputs": [
        {
          "output_type": "execute_result",
          "data": {
            "text/html": [
              "<div>\n",
              "<style scoped>\n",
              "    .dataframe tbody tr th:only-of-type {\n",
              "        vertical-align: middle;\n",
              "    }\n",
              "\n",
              "    .dataframe tbody tr th {\n",
              "        vertical-align: top;\n",
              "    }\n",
              "\n",
              "    .dataframe thead th {\n",
              "        text-align: right;\n",
              "    }\n",
              "</style>\n",
              "<table border=\"1\" class=\"dataframe\">\n",
              "  <thead>\n",
              "    <tr style=\"text-align: right;\">\n",
              "      <th></th>\n",
              "      <th>Market Share %</th>\n",
              "    </tr>\n",
              "  </thead>\n",
              "  <tbody>\n",
              "    <tr>\n",
              "      <th>State Farm</th>\n",
              "      <td>18.07</td>\n",
              "    </tr>\n",
              "    <tr>\n",
              "      <th>GEICO</th>\n",
              "      <td>12.79</td>\n",
              "    </tr>\n",
              "    <tr>\n",
              "      <th>Other</th>\n",
              "      <td>69.14</td>\n",
              "    </tr>\n",
              "  </tbody>\n",
              "</table>\n",
              "</div>"
            ],
            "text/plain": [
              "            Market Share %\n",
              "State Farm           18.07\n",
              "GEICO                12.79\n",
              "Other                69.14"
            ]
          },
          "metadata": {
            "tags": []
          },
          "execution_count": 15
        }
      ]
    },
    {
      "metadata": {
        "id": "EdVxZPDt5lqB",
        "colab_type": "code",
        "colab": {
          "base_uri": "https://localhost:8080/",
          "height": 326
        },
        "outputId": "383c94dc-bf91-4964-8416-dd6d6f6feee7"
      },
      "cell_type": "code",
      "source": [
        "insurance.plot.pie('Market Share %', figsize=(5,5))"
      ],
      "execution_count": 16,
      "outputs": [
        {
          "output_type": "execute_result",
          "data": {
            "text/plain": [
              "<matplotlib.axes._subplots.AxesSubplot at 0x7f124102def0>"
            ]
          },
          "metadata": {
            "tags": []
          },
          "execution_count": 16
        },
        {
          "output_type": "display_data",
          "data": {
            "image/png": "[encoded data removed]",
            "text/plain": [
              "<Figure size 360x360 with 1 Axes>"
            ]
          },
          "metadata": {
            "tags": []
          }
        }
      ]
    },
    {
      "metadata": {
        "colab_type": "text",
        "id": "6FISiBH3ljaw"
      },
      "cell_type": "markdown",
      "source": [
        "## Fix misleading plot #3"
      ]
    },
    {
      "metadata": {
        "colab_type": "text",
        "id": "Dwcc8Jylljax"
      },
      "cell_type": "markdown",
      "source": [
        "_If you're on Jupyter (not Colab) then uncomment and run this cell below:_"
      ]
    },
    {
      "metadata": {
        "colab_type": "code",
        "id": "TaSuwairljax",
        "colab": {}
      },
      "cell_type": "code",
      "source": [
        "# import altair as alt\n",
        "# alt.renderers.enable('notebook')"
      ],
      "execution_count": 0,
      "outputs": []
    },
    {
      "metadata": {
        "colab_type": "code",
        "id": "JMirz9RMljaz",
        "colab": {
          "base_uri": "https://localhost:8080/",
          "height": 331
        },
        "outputId": "91a33c55-eae9-4299-8618-eed213b03c85"
      },
      "cell_type": "code",
      "source": [
        "misleading.plot3()"
      ],
      "execution_count": 18,
      "outputs": [
        {
          "output_type": "execute_result",
          "data": {
            "text/plain": [
              "Chart({\n",
              "  data: UrlData({\n",
              "    format: TopoDataFormat({\n",
              "      feature: 'states',\n",
              "      type: 'topojson'\n",
              "    }),\n",
              "    url: 'https://vega.github.io/vega-datasets/data/us-10m.json'\n",
              "  }),\n",
              "  encoding: EncodingWithFacet({\n",
              "    color: Color({\n",
              "      shorthand: 'State Farm policy premiums',\n",
              "      type: 'quantitative'\n",
              "    })\n",
              "  }),\n",
              "  height: 300,\n",
              "  mark: 'geoshape',\n",
              "  projection: Projection({\n",
              "    type: 'albersUsa'\n",
              "  }),\n",
              "  transform: [LookupTransform({\n",
              "    from: LookupData({\n",
              "      data:                    state  id  State Farm policy premiums  \\\n",
              "      0                Alabama   1                      768213   \n",
              "      1                 Alaska   2                      128613   \n",
              "      2                Arizona   4                      760003   \n",
              "      3               Arkansas   5                      454931   \n",
              "      4             California   6                     3655463   \n",
              "      5               Colorado   8                      827143   \n",
              "      6            Connecticut   9                      169773   \n",
              "      7               Delaware  10                      191319   \n",
              "      8   District of Columbia  11                       67231   \n",
              "      9                Florida  12                     2806322   \n",
              "      10               Georgia  13                     1761224   \n",
              "      11                Hawaii  15                      133498   \n",
              "      12                 Idaho  16                      130613   \n",
              "      13              Illinois  17                     2256543   \n",
              "      14               Indiana  18                      861382   \n",
              "      15                  Iowa  19                      368898   \n",
              "      16                Kansas  20                      351343   \n",
              "      17              Kentucky  21                      680433   \n",
              "      18             Louisiana  22                     1415980   \n",
              "      19                 Maine  23                      101111   \n",
              "      20              Maryland  24                      883401   \n",
              "      21         Massachusetts  25                           0   \n",
              "      22              Michigan  26                     1580398   \n",
              "      23             Minnesota  27                      851940   \n",
              "      24           Mississippi  28                      467887   \n",
              "      25              Missouri  29                      883774   \n",
              "      26               Montana  30                      156816   \n",
              "      27              Nebraska  31                      273727   \n",
              "      28                Nevada  32                      404688   \n",
              "      29         New Hampshire  33                      103340   \n",
              "      30            New Jersey  34                      619623   \n",
              "      31            New Mexico  35                      261922   \n",
              "      32              New York  36                     1666653   \n",
              "      33        North Carolina  37                      842368   \n",
              "      34          North Dakota  38                       67282   \n",
              "      35                  Ohio  39                     1240075   \n",
              "      36              Oklahoma  40                      636063   \n",
              "      37                Oregon  41                      564416   \n",
              "      38          Pennsylvania  42                     1654528   \n",
              "      39          Rhode Island  44                           0   \n",
              "      40        South Carolina  45                      874436   \n",
              "      41          South Dakota  46                      101912   \n",
              "      42             Tennessee  47                      889329   \n",
              "      43                 Texas  48                     3395165   \n",
              "      44                  Utah  49                      300403   \n",
              "      45               Vermont  50                       30003   \n",
              "      46              Virginia  51                      878312   \n",
              "      47            Washington  53                      794882   \n",
              "      48         West Virginia  54                      323608   \n",
              "      49             Wisconsin  55                      443680   \n",
              "      50               Wyoming  56                       90412   \n",
              "      51           Puerto Rico  72                           0   \n",
              "      \n",
              "          BERKSHIRE HATHAWAY GRP  STATE TOTAL  \n",
              "      0                   282947      3025561  \n",
              "      1                    81366       454623  \n",
              "      2                   604049      4373055  \n",
              "      3                    96908      1777917  \n",
              "      4                  2091720     25255501  \n",
              "      5                   365797      4057463  \n",
              "      6                   486498      2795415  \n",
              "      7                   129033       802005  \n",
              "      8                   115149       325239  \n",
              "      9                  3952147     17333354  \n",
              "      10                  821326      7571988  \n",
              "      11                  184743       722550  \n",
              "      12                   87222       863636  \n",
              "      13                  412978      7028885  \n",
              "      14                  201200      3506499  \n",
              "      15                   58105      1650388  \n",
              "      16                   76533      1725608  \n",
              "      17                  186915      2805864  \n",
              "      18                  369492      4136224  \n",
              "      19                   68109       699558  \n",
              "      20                 1059508      4554586  \n",
              "      21                  473913      4924736  \n",
              "      22                       0      8462142  \n",
              "      23                  108942      3412460  \n",
              "      24                  100827      1760180  \n",
              "      25                  214191      3606590  \n",
              "      26                   33538       668513  \n",
              "      27                   61046      1167135  \n",
              "      28                  262815      2129828  \n",
              "      29                  103403       806545  \n",
              "      30                 1441019      7375823  \n",
              "      31                  174865      1284430  \n",
              "      32                 3926684     12633982  \n",
              "      33                  560700      5543700  \n",
              "      34                   15516       454376  \n",
              "      35                  405652      6303148  \n",
              "      36                  151388      2515842  \n",
              "      37                  223187      2647434  \n",
              "      38                  602848      8270326  \n",
              "      39                   97597       867558  \n",
              "      40                  426033      3583918  \n",
              "      41                   15682       508569  \n",
              "      42                  292357      3769652  \n",
              "      43                 2127633     19180816  \n",
              "      44                  139315      1723931  \n",
              "      45                   52939       359996  \n",
              "      46                  884489      5105360  \n",
              "      47                  478922      4780616  \n",
              "      48                  110806      1209872  \n",
              "      49                  131845      2950711  \n",
              "      50                   30187       374169  \n",
              "      51                       0       444480  ,\n",
              "      fields: ['State Farm policy premiums'],\n",
              "      key: 'id'\n",
              "    }),\n",
              "    lookup: 'id'\n",
              "  })],\n",
              "  width: 500\n",
              "})"
            ],
            "text/html": [
              "<!DOCTYPE html>\n",
              "<html>\n",
              "<head>\n",
              "  <style>\n",
              "    .vega-actions a {\n",
              "        margin-right: 12px;\n",
              "        color: #757575;\n",
              "        font-weight: normal;\n",
              "        font-size: 13px;\n",
              "    }\n",
              "    .error {\n",
              "        color: red;\n",
              "    }\n",
              "  </style>\n",
              "  <script type=\"text/javascript\" src=\"https://cdn.jsdelivr.net/npm//vega@4\"></script>\n",
              "  <script type=\"text/javascript\" src=\"https://cdn.jsdelivr.net/npm//vega-lite@2.6.0\"></script>\n",
              "  <script type=\"text/javascript\" src=\"https://cdn.jsdelivr.net/npm//vega-embed@3\"></script>\n",
              "</head>\n",
              "<body>\n",
              "  <div id=\"altair-viz\"></div>\n",
              "  <script>\n",
              "      var spec = {\"config\": {\"view\": {\"width\": 400, \"height\": 300}}, \"data\": {\"url\": \"https://vega.github.io/vega-datasets/data/us-10m.json\", \"format\": {\"feature\": \"states\", \"type\": \"topojson\"}}, \"mark\": \"geoshape\", \"encoding\": {\"color\": {\"type\": \"quantitative\", \"field\": \"State Farm policy premiums\"}}, \"height\": 300, \"projection\": {\"type\": \"albersUsa\"}, \"transform\": [{\"lookup\": \"id\", \"from\": {\"data\": {\"name\": \"data-b615a17f98b0ca7d11f99dcf36616c5d\"}, \"key\": \"id\", \"fields\": [\"State Farm policy premiums\"]}}], \"width\": 500, \"$schema\": \"https://vega.github.io/schema/vega-lite/v2.6.0.json\", \"datasets\": {\"data-b615a17f98b0ca7d11f99dcf36616c5d\": [{\"state\": \"Alabama\", \"id\": 1, \"State Farm policy premiums\": 768213, \"BERKSHIRE HATHAWAY GRP\": 282947, \"STATE TOTAL\": 3025561}, {\"state\": \"Alaska\", \"id\": 2, \"State Farm policy premiums\": 128613, \"BERKSHIRE HATHAWAY GRP\": 81366, \"STATE TOTAL\": 454623}, {\"state\": \"Arizona\", \"id\": 4, \"State Farm policy premiums\": 760003, \"BERKSHIRE HATHAWAY GRP\": 604049, \"STATE TOTAL\": 4373055}, {\"state\": \"Arkansas\", \"id\": 5, \"State Farm policy premiums\": 454931, \"BERKSHIRE HATHAWAY GRP\": 96908, \"STATE TOTAL\": 1777917}, {\"state\": \"California\", \"id\": 6, \"State Farm policy premiums\": 3655463, \"BERKSHIRE HATHAWAY GRP\": 2091720, \"STATE TOTAL\": 25255501}, {\"state\": \"Colorado\", \"id\": 8, \"State Farm policy premiums\": 827143, \"BERKSHIRE HATHAWAY GRP\": 365797, \"STATE TOTAL\": 4057463}, {\"state\": \"Connecticut\", \"id\": 9, \"State Farm policy premiums\": 169773, \"BERKSHIRE HATHAWAY GRP\": 486498, \"STATE TOTAL\": 2795415}, {\"state\": \"Delaware\", \"id\": 10, \"State Farm policy premiums\": 191319, \"BERKSHIRE HATHAWAY GRP\": 129033, \"STATE TOTAL\": 802005}, {\"state\": \"District of Columbia\", \"id\": 11, \"State Farm policy premiums\": 67231, \"BERKSHIRE HATHAWAY GRP\": 115149, \"STATE TOTAL\": 325239}, {\"state\": \"Florida\", \"id\": 12, \"State Farm policy premiums\": 2806322, \"BERKSHIRE HATHAWAY GRP\": 3952147, \"STATE TOTAL\": 17333354}, {\"state\": \"Georgia\", \"id\": 13, \"State Farm policy premiums\": 1761224, \"BERKSHIRE HATHAWAY GRP\": 821326, \"STATE TOTAL\": 7571988}, {\"state\": \"Hawaii\", \"id\": 15, \"State Farm policy premiums\": 133498, \"BERKSHIRE HATHAWAY GRP\": 184743, \"STATE TOTAL\": 722550}, {\"state\": \"Idaho\", \"id\": 16, \"State Farm policy premiums\": 130613, \"BERKSHIRE HATHAWAY GRP\": 87222, \"STATE TOTAL\": 863636}, {\"state\": \"Illinois\", \"id\": 17, \"State Farm policy premiums\": 2256543, \"BERKSHIRE HATHAWAY GRP\": 412978, \"STATE TOTAL\": 7028885}, {\"state\": \"Indiana\", \"id\": 18, \"State Farm policy premiums\": 861382, \"BERKSHIRE HATHAWAY GRP\": 201200, \"STATE TOTAL\": 3506499}, {\"state\": \"Iowa\", \"id\": 19, \"State Farm policy premiums\": 368898, \"BERKSHIRE HATHAWAY GRP\": 58105, \"STATE TOTAL\": 1650388}, {\"state\": \"Kansas\", \"id\": 20, \"State Farm policy premiums\": 351343, \"BERKSHIRE HATHAWAY GRP\": 76533, \"STATE TOTAL\": 1725608}, {\"state\": \"Kentucky\", \"id\": 21, \"State Farm policy premiums\": 680433, \"BERKSHIRE HATHAWAY GRP\": 186915, \"STATE TOTAL\": 2805864}, {\"state\": \"Louisiana\", \"id\": 22, \"State Farm policy premiums\": 1415980, \"BERKSHIRE HATHAWAY GRP\": 369492, \"STATE TOTAL\": 4136224}, {\"state\": \"Maine\", \"id\": 23, \"State Farm policy premiums\": 101111, \"BERKSHIRE HATHAWAY GRP\": 68109, \"STATE TOTAL\": 699558}, {\"state\": \"Maryland\", \"id\": 24, \"State Farm policy premiums\": 883401, \"BERKSHIRE HATHAWAY GRP\": 1059508, \"STATE TOTAL\": 4554586}, {\"state\": \"Massachusetts\", \"id\": 25, \"State Farm policy premiums\": 0, \"BERKSHIRE HATHAWAY GRP\": 473913, \"STATE TOTAL\": 4924736}, {\"state\": \"Michigan\", \"id\": 26, \"State Farm policy premiums\": 1580398, \"BERKSHIRE HATHAWAY GRP\": 0, \"STATE TOTAL\": 8462142}, {\"state\": \"Minnesota\", \"id\": 27, \"State Farm policy premiums\": 851940, \"BERKSHIRE HATHAWAY GRP\": 108942, \"STATE TOTAL\": 3412460}, {\"state\": \"Mississippi\", \"id\": 28, \"State Farm policy premiums\": 467887, \"BERKSHIRE HATHAWAY GRP\": 100827, \"STATE TOTAL\": 1760180}, {\"state\": \"Missouri\", \"id\": 29, \"State Farm policy premiums\": 883774, \"BERKSHIRE HATHAWAY GRP\": 214191, \"STATE TOTAL\": 3606590}, {\"state\": \"Montana\", \"id\": 30, \"State Farm policy premiums\": 156816, \"BERKSHIRE HATHAWAY GRP\": 33538, \"STATE TOTAL\": 668513}, {\"state\": \"Nebraska\", \"id\": 31, \"State Farm policy premiums\": 273727, \"BERKSHIRE HATHAWAY GRP\": 61046, \"STATE TOTAL\": 1167135}, {\"state\": \"Nevada\", \"id\": 32, \"State Farm policy premiums\": 404688, \"BERKSHIRE HATHAWAY GRP\": 262815, \"STATE TOTAL\": 2129828}, {\"state\": \"New Hampshire\", \"id\": 33, \"State Farm policy premiums\": 103340, \"BERKSHIRE HATHAWAY GRP\": 103403, \"STATE TOTAL\": 806545}, {\"state\": \"New Jersey\", \"id\": 34, \"State Farm policy premiums\": 619623, \"BERKSHIRE HATHAWAY GRP\": 1441019, \"STATE TOTAL\": 7375823}, {\"state\": \"New Mexico\", \"id\": 35, \"State Farm policy premiums\": 261922, \"BERKSHIRE HATHAWAY GRP\": 174865, \"STATE TOTAL\": 1284430}, {\"state\": \"New York\", \"id\": 36, \"State Farm policy premiums\": 1666653, \"BERKSHIRE HATHAWAY GRP\": 3926684, \"STATE TOTAL\": 12633982}, {\"state\": \"North Carolina\", \"id\": 37, \"State Farm policy premiums\": 842368, \"BERKSHIRE HATHAWAY GRP\": 560700, \"STATE TOTAL\": 5543700}, {\"state\": \"North Dakota\", \"id\": 38, \"State Farm policy premiums\": 67282, \"BERKSHIRE HATHAWAY GRP\": 15516, \"STATE TOTAL\": 454376}, {\"state\": \"Ohio\", \"id\": 39, \"State Farm policy premiums\": 1240075, \"BERKSHIRE HATHAWAY GRP\": 405652, \"STATE TOTAL\": 6303148}, {\"state\": \"Oklahoma\", \"id\": 40, \"State Farm policy premiums\": 636063, \"BERKSHIRE HATHAWAY GRP\": 151388, \"STATE TOTAL\": 2515842}, {\"state\": \"Oregon\", \"id\": 41, \"State Farm policy premiums\": 564416, \"BERKSHIRE HATHAWAY GRP\": 223187, \"STATE TOTAL\": 2647434}, {\"state\": \"Pennsylvania\", \"id\": 42, \"State Farm policy premiums\": 1654528, \"BERKSHIRE HATHAWAY GRP\": 602848, \"STATE TOTAL\": 8270326}, {\"state\": \"Rhode Island\", \"id\": 44, \"State Farm policy premiums\": 0, \"BERKSHIRE HATHAWAY GRP\": 97597, \"STATE TOTAL\": 867558}, {\"state\": \"South Carolina\", \"id\": 45, \"State Farm policy premiums\": 874436, \"BERKSHIRE HATHAWAY GRP\": 426033, \"STATE TOTAL\": 3583918}, {\"state\": \"South Dakota\", \"id\": 46, \"State Farm policy premiums\": 101912, \"BERKSHIRE HATHAWAY GRP\": 15682, \"STATE TOTAL\": 508569}, {\"state\": \"Tennessee\", \"id\": 47, \"State Farm policy premiums\": 889329, \"BERKSHIRE HATHAWAY GRP\": 292357, \"STATE TOTAL\": 3769652}, {\"state\": \"Texas\", \"id\": 48, \"State Farm policy premiums\": 3395165, \"BERKSHIRE HATHAWAY GRP\": 2127633, \"STATE TOTAL\": 19180816}, {\"state\": \"Utah\", \"id\": 49, \"State Farm policy premiums\": 300403, \"BERKSHIRE HATHAWAY GRP\": 139315, \"STATE TOTAL\": 1723931}, {\"state\": \"Vermont\", \"id\": 50, \"State Farm policy premiums\": 30003, \"BERKSHIRE HATHAWAY GRP\": 52939, \"STATE TOTAL\": 359996}, {\"state\": \"Virginia\", \"id\": 51, \"State Farm policy premiums\": 878312, \"BERKSHIRE HATHAWAY GRP\": 884489, \"STATE TOTAL\": 5105360}, {\"state\": \"Washington\", \"id\": 53, \"State Farm policy premiums\": 794882, \"BERKSHIRE HATHAWAY GRP\": 478922, \"STATE TOTAL\": 4780616}, {\"state\": \"West Virginia\", \"id\": 54, \"State Farm policy premiums\": 323608, \"BERKSHIRE HATHAWAY GRP\": 110806, \"STATE TOTAL\": 1209872}, {\"state\": \"Wisconsin\", \"id\": 55, \"State Farm policy premiums\": 443680, \"BERKSHIRE HATHAWAY GRP\": 131845, \"STATE TOTAL\": 2950711}, {\"state\": \"Wyoming\", \"id\": 56, \"State Farm policy premiums\": 90412, \"BERKSHIRE HATHAWAY GRP\": 30187, \"STATE TOTAL\": 374169}, {\"state\": \"Puerto Rico\", \"id\": 72, \"State Farm policy premiums\": 0, \"BERKSHIRE HATHAWAY GRP\": 0, \"STATE TOTAL\": 444480}]}};\n",
              "      var embedOpt = {\"mode\": \"vega-lite\"};\n",
              "\n",
              "      function showError(el, error){\n",
              "          el.innerHTML = ('<div class=\"error\" style=\"color:red;\">'\n",
              "                          + '<p>JavaScript Error: ' + error.message + '</p>'\n",
              "                          + \"<p>This usually means there's a typo in your chart specification. \"\n",
              "                          + \"See the javascript console for the full traceback.</p>\"\n",
              "                          + '</div>');\n",
              "          throw error;\n",
              "      }\n",
              "      const el = document.getElementById('altair-viz');\n",
              "      vegaEmbed(\"#altair-viz\", spec, embedOpt)\n",
              "        .catch(error => showError(el, error));\n",
              "\n",
              "  </script>\n",
              "</body>\n",
              "</html>"
            ]
          },
          "metadata": {
            "tags": []
          },
          "execution_count": 18
        }
      ]
    },
    {
      "metadata": {
        "id": "W-h3blnj8Psx",
        "colab_type": "code",
        "colab": {}
      },
      "cell_type": "code",
      "source": [
        "url = 'https://raw.githubusercontent.com/LambdaSchool/DS-Unit-1-Sprint-3-Data-Storytelling/master/module2-choose-appropriate-visualizations/direct_written_premium_by_state_by_group_private_passenger_auto.csv'\n",
        "df = pd.read_csv(url)"
      ],
      "execution_count": 0,
      "outputs": []
    },
    {
      "metadata": {
        "id": "QEZmsekr8TIs",
        "colab_type": "code",
        "colab": {
          "base_uri": "https://localhost:8080/",
          "height": 195
        },
        "outputId": "7a3a64c6-ea3d-4ba4-b7df-df6a29c78139"
      },
      "cell_type": "code",
      "source": [
        "df.rename(columns={'STATE FARM GRP' : 'State Farm policy premiums'}, inplace=True)\n",
        "\n",
        "df.head()"
      ],
      "execution_count": 28,
      "outputs": [
        {
          "output_type": "execute_result",
          "data": {
            "text/html": [
              "<div>\n",
              "<style scoped>\n",
              "    .dataframe tbody tr th:only-of-type {\n",
              "        vertical-align: middle;\n",
              "    }\n",
              "\n",
              "    .dataframe tbody tr th {\n",
              "        vertical-align: top;\n",
              "    }\n",
              "\n",
              "    .dataframe thead th {\n",
              "        text-align: right;\n",
              "    }\n",
              "</style>\n",
              "<table border=\"1\" class=\"dataframe\">\n",
              "  <thead>\n",
              "    <tr style=\"text-align: right;\">\n",
              "      <th></th>\n",
              "      <th>state</th>\n",
              "      <th>id</th>\n",
              "      <th>State Farm policy premiums</th>\n",
              "      <th>BERKSHIRE HATHAWAY GRP</th>\n",
              "      <th>STATE TOTAL</th>\n",
              "    </tr>\n",
              "  </thead>\n",
              "  <tbody>\n",
              "    <tr>\n",
              "      <th>0</th>\n",
              "      <td>Alabama</td>\n",
              "      <td>1</td>\n",
              "      <td>768213</td>\n",
              "      <td>282947</td>\n",
              "      <td>3025561</td>\n",
              "    </tr>\n",
              "    <tr>\n",
              "      <th>1</th>\n",
              "      <td>Alaska</td>\n",
              "      <td>2</td>\n",
              "      <td>128613</td>\n",
              "      <td>81366</td>\n",
              "      <td>454623</td>\n",
              "    </tr>\n",
              "    <tr>\n",
              "      <th>2</th>\n",
              "      <td>Arizona</td>\n",
              "      <td>4</td>\n",
              "      <td>760003</td>\n",
              "      <td>604049</td>\n",
              "      <td>4373055</td>\n",
              "    </tr>\n",
              "    <tr>\n",
              "      <th>3</th>\n",
              "      <td>Arkansas</td>\n",
              "      <td>5</td>\n",
              "      <td>454931</td>\n",
              "      <td>96908</td>\n",
              "      <td>1777917</td>\n",
              "    </tr>\n",
              "    <tr>\n",
              "      <th>4</th>\n",
              "      <td>California</td>\n",
              "      <td>6</td>\n",
              "      <td>3655463</td>\n",
              "      <td>2091720</td>\n",
              "      <td>25255501</td>\n",
              "    </tr>\n",
              "  </tbody>\n",
              "</table>\n",
              "</div>"
            ],
            "text/plain": [
              "        state  id  State Farm policy premiums  BERKSHIRE HATHAWAY GRP  \\\n",
              "0     Alabama   1                      768213                  282947   \n",
              "1      Alaska   2                      128613                   81366   \n",
              "2     Arizona   4                      760003                  604049   \n",
              "3    Arkansas   5                      454931                   96908   \n",
              "4  California   6                     3655463                 2091720   \n",
              "\n",
              "   STATE TOTAL  \n",
              "0      3025561  \n",
              "1       454623  \n",
              "2      4373055  \n",
              "3      1777917  \n",
              "4     25255501  "
            ]
          },
          "metadata": {
            "tags": []
          },
          "execution_count": 28
        }
      ]
    },
    {
      "metadata": {
        "id": "wi6NbJkP9FvV",
        "colab_type": "code",
        "colab": {
          "base_uri": "https://localhost:8080/",
          "height": 118
        },
        "outputId": "1db8bf5c-6624-490f-9d8a-c2c0caf8f7d7"
      },
      "cell_type": "code",
      "source": [
        "(df['State Farm policy premiums'] + df['BERKSHIRE HATHAWAY GRP'] == df['STATE TOTAL']).head()"
      ],
      "execution_count": 29,
      "outputs": [
        {
          "output_type": "execute_result",
          "data": {
            "text/plain": [
              "0    False\n",
              "1    False\n",
              "2    False\n",
              "3    False\n",
              "4    False\n",
              "dtype: bool"
            ]
          },
          "metadata": {
            "tags": []
          },
          "execution_count": 29
        }
      ]
    },
    {
      "metadata": {
        "id": "0CMIIADP80Tj",
        "colab_type": "code",
        "colab": {
          "base_uri": "https://localhost:8080/",
          "height": 195
        },
        "outputId": "2bd49172-c468-446d-fe01-695c7b3fe782"
      },
      "cell_type": "code",
      "source": [
        "df['State Farm Market share %'] = (df['State Farm policy premiums'] / df['STATE TOTAL']) * 100\n",
        "df.head()"
      ],
      "execution_count": 32,
      "outputs": [
        {
          "output_type": "execute_result",
          "data": {
            "text/html": [
              "<div>\n",
              "<style scoped>\n",
              "    .dataframe tbody tr th:only-of-type {\n",
              "        vertical-align: middle;\n",
              "    }\n",
              "\n",
              "    .dataframe tbody tr th {\n",
              "        vertical-align: top;\n",
              "    }\n",
              "\n",
              "    .dataframe thead th {\n",
              "        text-align: right;\n",
              "    }\n",
              "</style>\n",
              "<table border=\"1\" class=\"dataframe\">\n",
              "  <thead>\n",
              "    <tr style=\"text-align: right;\">\n",
              "      <th></th>\n",
              "      <th>state</th>\n",
              "      <th>id</th>\n",
              "      <th>State Farm policy premiums</th>\n",
              "      <th>BERKSHIRE HATHAWAY GRP</th>\n",
              "      <th>STATE TOTAL</th>\n",
              "      <th>State Farm Market share %</th>\n",
              "    </tr>\n",
              "  </thead>\n",
              "  <tbody>\n",
              "    <tr>\n",
              "      <th>0</th>\n",
              "      <td>Alabama</td>\n",
              "      <td>1</td>\n",
              "      <td>768213</td>\n",
              "      <td>282947</td>\n",
              "      <td>3025561</td>\n",
              "      <td>25.390762</td>\n",
              "    </tr>\n",
              "    <tr>\n",
              "      <th>1</th>\n",
              "      <td>Alaska</td>\n",
              "      <td>2</td>\n",
              "      <td>128613</td>\n",
              "      <td>81366</td>\n",
              "      <td>454623</td>\n",
              "      <td>28.290034</td>\n",
              "    </tr>\n",
              "    <tr>\n",
              "      <th>2</th>\n",
              "      <td>Arizona</td>\n",
              "      <td>4</td>\n",
              "      <td>760003</td>\n",
              "      <td>604049</td>\n",
              "      <td>4373055</td>\n",
              "      <td>17.379223</td>\n",
              "    </tr>\n",
              "    <tr>\n",
              "      <th>3</th>\n",
              "      <td>Arkansas</td>\n",
              "      <td>5</td>\n",
              "      <td>454931</td>\n",
              "      <td>96908</td>\n",
              "      <td>1777917</td>\n",
              "      <td>25.587865</td>\n",
              "    </tr>\n",
              "    <tr>\n",
              "      <th>4</th>\n",
              "      <td>California</td>\n",
              "      <td>6</td>\n",
              "      <td>3655463</td>\n",
              "      <td>2091720</td>\n",
              "      <td>25255501</td>\n",
              "      <td>14.473928</td>\n",
              "    </tr>\n",
              "  </tbody>\n",
              "</table>\n",
              "</div>"
            ],
            "text/plain": [
              "        state  id  State Farm policy premiums  BERKSHIRE HATHAWAY GRP  \\\n",
              "0     Alabama   1                      768213                  282947   \n",
              "1      Alaska   2                      128613                   81366   \n",
              "2     Arizona   4                      760003                  604049   \n",
              "3    Arkansas   5                      454931                   96908   \n",
              "4  California   6                     3655463                 2091720   \n",
              "\n",
              "   STATE TOTAL  State Farm Market share %  \n",
              "0      3025561                  25.390762  \n",
              "1       454623                  28.290034  \n",
              "2      4373055                  17.379223  \n",
              "3      1777917                  25.587865  \n",
              "4     25255501                  14.473928  "
            ]
          },
          "metadata": {
            "tags": []
          },
          "execution_count": 32
        }
      ]
    },
    {
      "metadata": {
        "id": "fx4mybVl7D2m",
        "colab_type": "code",
        "colab": {
          "base_uri": "https://localhost:8080/",
          "height": 331
        },
        "outputId": "7b022b45-e9cb-4faf-f5c1-73a9a4b4a680"
      },
      "cell_type": "code",
      "source": [
        "import altair as alt\n",
        "from vega_datasets import data\n",
        "\n",
        "states = alt.topo_feature(data.us_10m.url, 'states')\n",
        "# source = data.population_engineers_hurricanes.url\n",
        "variable = 'State Farm Market share %'\n",
        "\n",
        "alt.Chart(states).mark_geoshape().encode(\n",
        "    alt.Color(variable, type='quantitative')\n",
        ").transform_lookup(\n",
        "    lookup='id',\n",
        "    from_=alt.LookupData(df, 'id', [variable])\n",
        ").properties(\n",
        "    width=500,\n",
        "    height=300\n",
        ").project(\n",
        "    type='albersUsa'\n",
        ")"
      ],
      "execution_count": 35,
      "outputs": [
        {
          "output_type": "execute_result",
          "data": {
            "text/plain": [
              "Chart({\n",
              "  data: UrlData({\n",
              "    format: TopoDataFormat({\n",
              "      feature: 'states',\n",
              "      type: 'topojson'\n",
              "    }),\n",
              "    url: 'https://vega.github.io/vega-datasets/data/us-10m.json'\n",
              "  }),\n",
              "  encoding: EncodingWithFacet({\n",
              "    color: Color({\n",
              "      shorthand: 'State Farm Market share %',\n",
              "      type: 'quantitative'\n",
              "    })\n",
              "  }),\n",
              "  height: 300,\n",
              "  mark: 'geoshape',\n",
              "  projection: Projection({\n",
              "    type: 'albersUsa'\n",
              "  }),\n",
              "  transform: [LookupTransform({\n",
              "    from: LookupData({\n",
              "      data:                    state  id  State Farm policy premiums  \\\n",
              "      0                Alabama   1                      768213   \n",
              "      1                 Alaska   2                      128613   \n",
              "      2                Arizona   4                      760003   \n",
              "      3               Arkansas   5                      454931   \n",
              "      4             California   6                     3655463   \n",
              "      5               Colorado   8                      827143   \n",
              "      6            Connecticut   9                      169773   \n",
              "      7               Delaware  10                      191319   \n",
              "      8   District of Columbia  11                       67231   \n",
              "      9                Florida  12                     2806322   \n",
              "      10               Georgia  13                     1761224   \n",
              "      11                Hawaii  15                      133498   \n",
              "      12                 Idaho  16                      130613   \n",
              "      13              Illinois  17                     2256543   \n",
              "      14               Indiana  18                      861382   \n",
              "      15                  Iowa  19                      368898   \n",
              "      16                Kansas  20                      351343   \n",
              "      17              Kentucky  21                      680433   \n",
              "      18             Louisiana  22                     1415980   \n",
              "      19                 Maine  23                      101111   \n",
              "      20              Maryland  24                      883401   \n",
              "      21         Massachusetts  25                           0   \n",
              "      22              Michigan  26                     1580398   \n",
              "      23             Minnesota  27                      851940   \n",
              "      24           Mississippi  28                      467887   \n",
              "      25              Missouri  29                      883774   \n",
              "      26               Montana  30                      156816   \n",
              "      27              Nebraska  31                      273727   \n",
              "      28                Nevada  32                      404688   \n",
              "      29         New Hampshire  33                      103340   \n",
              "      30            New Jersey  34                      619623   \n",
              "      31            New Mexico  35                      261922   \n",
              "      32              New York  36                     1666653   \n",
              "      33        North Carolina  37                      842368   \n",
              "      34          North Dakota  38                       67282   \n",
              "      35                  Ohio  39                     1240075   \n",
              "      36              Oklahoma  40                      636063   \n",
              "      37                Oregon  41                      564416   \n",
              "      38          Pennsylvania  42                     1654528   \n",
              "      39          Rhode Island  44                           0   \n",
              "      40        South Carolina  45                      874436   \n",
              "      41          South Dakota  46                      101912   \n",
              "      42             Tennessee  47                      889329   \n",
              "      43                 Texas  48                     3395165   \n",
              "      44                  Utah  49                      300403   \n",
              "      45               Vermont  50                       30003   \n",
              "      46              Virginia  51                      878312   \n",
              "      47            Washington  53                      794882   \n",
              "      48         West Virginia  54                      323608   \n",
              "      49             Wisconsin  55                      443680   \n",
              "      50               Wyoming  56                       90412   \n",
              "      51           Puerto Rico  72                           0   \n",
              "      \n",
              "          BERKSHIRE HATHAWAY GRP  STATE TOTAL  State Farm Market share %  \n",
              "      0                   282947      3025561                  25.390762  \n",
              "      1                    81366       454623                  28.290034  \n",
              "      2                   604049      4373055                  17.379223  \n",
              "      3                    96908      1777917                  25.587865  \n",
              "      4                  2091720     25255501                  14.473928  \n",
              "      5                   365797      4057463                  20.385719  \n",
              "      6                   486498      2795415                   6.073266  \n",
              "      7                   129033       802005                  23.855088  \n",
              "      8                   115149       325239                  20.671260  \n",
              "      9                  3952147     17333354                  16.190300  \n",
              "      10                  821326      7571988                  23.259730  \n",
              "      11                  184743       722550                  18.475953  \n",
              "      12                   87222       863636                  15.123617  \n",
              "      13                  412978      7028885                  32.103854  \n",
              "      14                  201200      3506499                  24.565300  \n",
              "      15                   58105      1650388                  22.352198  \n",
              "      16                   76533      1725608                  20.360534  \n",
              "      17                  186915      2805864                  24.250391  \n",
              "      18                  369492      4136224                  34.233639  \n",
              "      19                   68109       699558                  14.453555  \n",
              "      20                 1059508      4554586                  19.395857  \n",
              "      21                  473913      4924736                   0.000000  \n",
              "      22                       0      8462142                  18.676099  \n",
              "      23                  108942      3412460                  24.965567  \n",
              "      24                  100827      1760180                  26.581770  \n",
              "      25                  214191      3606590                  24.504421  \n",
              "      26                   33538       668513                  23.457435  \n",
              "      27                   61046      1167135                  23.452900  \n",
              "      28                  262815      2129828                  19.000971  \n",
              "      29                  103403       806545                  12.812676  \n",
              "      30                 1441019      7375823                   8.400730  \n",
              "      31                  174865      1284430                  20.392081  \n",
              "      32                 3926684     12633982                  13.191827  \n",
              "      33                  560700      5543700                  15.195050  \n",
              "      34                   15516       454376                  14.807560  \n",
              "      35                  405652      6303148                  19.673899  \n",
              "      36                  151388      2515842                  25.282311  \n",
              "      37                  223187      2647434                  21.319361  \n",
              "      38                  602848      8270326                  20.005596  \n",
              "      39                   97597       867558                   0.000000  \n",
              "      40                  426033      3583918                  24.398884  \n",
              "      41                   15682       508569                  20.038972  \n",
              "      42                  292357      3769652                  23.591806  \n",
              "      43                 2127633     19180816                  17.700837  \n",
              "      44                  139315      1723931                  17.425465  \n",
              "      45                   52939       359996                   8.334259  \n",
              "      46                  884489      5105360                  17.203723  \n",
              "      47                  478922      4780616                  16.627188  \n",
              "      48                  110806      1209872                  26.747292  \n",
              "      49                  131845      2950711                  15.036376  \n",
              "      50                   30187       374169                  24.163413  \n",
              "      51                       0       444480                   0.000000  ,\n",
              "      fields: ['State Farm Market share %'],\n",
              "      key: 'id'\n",
              "    }),\n",
              "    lookup: 'id'\n",
              "  })],\n",
              "  width: 500\n",
              "})"
            ],
            "text/html": [
              "<!DOCTYPE html>\n",
              "<html>\n",
              "<head>\n",
              "  <style>\n",
              "    .vega-actions a {\n",
              "        margin-right: 12px;\n",
              "        color: #757575;\n",
              "        font-weight: normal;\n",
              "        font-size: 13px;\n",
              "    }\n",
              "    .error {\n",
              "        color: red;\n",
              "    }\n",
              "  </style>\n",
              "  <script type=\"text/javascript\" src=\"https://cdn.jsdelivr.net/npm//vega@4\"></script>\n",
              "  <script type=\"text/javascript\" src=\"https://cdn.jsdelivr.net/npm//vega-lite@2.6.0\"></script>\n",
              "  <script type=\"text/javascript\" src=\"https://cdn.jsdelivr.net/npm//vega-embed@3\"></script>\n",
              "</head>\n",
              "<body>\n",
              "  <div id=\"altair-viz\"></div>\n",
              "  <script>\n",
              "      var spec = {\"config\": {\"view\": {\"width\": 400, \"height\": 300}}, \"data\": {\"url\": \"https://vega.github.io/vega-datasets/data/us-10m.json\", \"format\": {\"feature\": \"states\", \"type\": \"topojson\"}}, \"mark\": \"geoshape\", \"encoding\": {\"color\": {\"type\": \"quantitative\", \"field\": \"State Farm Market share %\"}}, \"height\": 300, \"projection\": {\"type\": \"albersUsa\"}, \"transform\": [{\"lookup\": \"id\", \"from\": {\"data\": {\"name\": \"data-abd6c5116a211b194f48a59842b9ce81\"}, \"key\": \"id\", \"fields\": [\"State Farm Market share %\"]}}], \"width\": 500, \"$schema\": \"https://vega.github.io/schema/vega-lite/v2.6.0.json\", \"datasets\": {\"data-abd6c5116a211b194f48a59842b9ce81\": [{\"state\": \"Alabama\", \"id\": 1, \"State Farm policy premiums\": 768213, \"BERKSHIRE HATHAWAY GRP\": 282947, \"STATE TOTAL\": 3025561, \"State Farm Market share %\": 25.39076224210981}, {\"state\": \"Alaska\", \"id\": 2, \"State Farm policy premiums\": 128613, \"BERKSHIRE HATHAWAY GRP\": 81366, \"STATE TOTAL\": 454623, \"State Farm Market share %\": 28.290033720247326}, {\"state\": \"Arizona\", \"id\": 4, \"State Farm policy premiums\": 760003, \"BERKSHIRE HATHAWAY GRP\": 604049, \"STATE TOTAL\": 4373055, \"State Farm Market share %\": 17.37922344905335}, {\"state\": \"Arkansas\", \"id\": 5, \"State Farm policy premiums\": 454931, \"BERKSHIRE HATHAWAY GRP\": 96908, \"STATE TOTAL\": 1777917, \"State Farm Market share %\": 25.587864900329993}, {\"state\": \"California\", \"id\": 6, \"State Farm policy premiums\": 3655463, \"BERKSHIRE HATHAWAY GRP\": 2091720, \"STATE TOTAL\": 25255501, \"State Farm Market share %\": 14.473927878128412}, {\"state\": \"Colorado\", \"id\": 8, \"State Farm policy premiums\": 827143, \"BERKSHIRE HATHAWAY GRP\": 365797, \"STATE TOTAL\": 4057463, \"State Farm Market share %\": 20.385718859297054}, {\"state\": \"Connecticut\", \"id\": 9, \"State Farm policy premiums\": 169773, \"BERKSHIRE HATHAWAY GRP\": 486498, \"STATE TOTAL\": 2795415, \"State Farm Market share %\": 6.073266402305203}, {\"state\": \"Delaware\", \"id\": 10, \"State Farm policy premiums\": 191319, \"BERKSHIRE HATHAWAY GRP\": 129033, \"STATE TOTAL\": 802005, \"State Farm Market share %\": 23.855088185235754}, {\"state\": \"District of Columbia\", \"id\": 11, \"State Farm policy premiums\": 67231, \"BERKSHIRE HATHAWAY GRP\": 115149, \"STATE TOTAL\": 325239, \"State Farm Market share %\": 20.671260211721226}, {\"state\": \"Florida\", \"id\": 12, \"State Farm policy premiums\": 2806322, \"BERKSHIRE HATHAWAY GRP\": 3952147, \"STATE TOTAL\": 17333354, \"State Farm Market share %\": 16.190299926950086}, {\"state\": \"Georgia\", \"id\": 13, \"State Farm policy premiums\": 1761224, \"BERKSHIRE HATHAWAY GRP\": 821326, \"STATE TOTAL\": 7571988, \"State Farm Market share %\": 23.259730469726048}, {\"state\": \"Hawaii\", \"id\": 15, \"State Farm policy premiums\": 133498, \"BERKSHIRE HATHAWAY GRP\": 184743, \"STATE TOTAL\": 722550, \"State Farm Market share %\": 18.475953221230366}, {\"state\": \"Idaho\", \"id\": 16, \"State Farm policy premiums\": 130613, \"BERKSHIRE HATHAWAY GRP\": 87222, \"STATE TOTAL\": 863636, \"State Farm Market share %\": 15.123616894154482}, {\"state\": \"Illinois\", \"id\": 17, \"State Farm policy premiums\": 2256543, \"BERKSHIRE HATHAWAY GRP\": 412978, \"STATE TOTAL\": 7028885, \"State Farm Market share %\": 32.10385430975183}, {\"state\": \"Indiana\", \"id\": 18, \"State Farm policy premiums\": 861382, \"BERKSHIRE HATHAWAY GRP\": 201200, \"STATE TOTAL\": 3506499, \"State Farm Market share %\": 24.5653000328818}, {\"state\": \"Iowa\", \"id\": 19, \"State Farm policy premiums\": 368898, \"BERKSHIRE HATHAWAY GRP\": 58105, \"STATE TOTAL\": 1650388, \"State Farm Market share %\": 22.352198392135666}, {\"state\": \"Kansas\", \"id\": 20, \"State Farm policy premiums\": 351343, \"BERKSHIRE HATHAWAY GRP\": 76533, \"STATE TOTAL\": 1725608, \"State Farm Market share %\": 20.36053379446549}, {\"state\": \"Kentucky\", \"id\": 21, \"State Farm policy premiums\": 680433, \"BERKSHIRE HATHAWAY GRP\": 186915, \"STATE TOTAL\": 2805864, \"State Farm Market share %\": 24.250391323314314}, {\"state\": \"Louisiana\", \"id\": 22, \"State Farm policy premiums\": 1415980, \"BERKSHIRE HATHAWAY GRP\": 369492, \"STATE TOTAL\": 4136224, \"State Farm Market share %\": 34.233639183951354}, {\"state\": \"Maine\", \"id\": 23, \"State Farm policy premiums\": 101111, \"BERKSHIRE HATHAWAY GRP\": 68109, \"STATE TOTAL\": 699558, \"State Farm Market share %\": 14.453554958988391}, {\"state\": \"Maryland\", \"id\": 24, \"State Farm policy premiums\": 883401, \"BERKSHIRE HATHAWAY GRP\": 1059508, \"STATE TOTAL\": 4554586, \"State Farm Market share %\": 19.395857274404303}, {\"state\": \"Massachusetts\", \"id\": 25, \"State Farm policy premiums\": 0, \"BERKSHIRE HATHAWAY GRP\": 473913, \"STATE TOTAL\": 4924736, \"State Farm Market share %\": 0.0}, {\"state\": \"Michigan\", \"id\": 26, \"State Farm policy premiums\": 1580398, \"BERKSHIRE HATHAWAY GRP\": 0, \"STATE TOTAL\": 8462142, \"State Farm Market share %\": 18.676098793898753}, {\"state\": \"Minnesota\", \"id\": 27, \"State Farm policy premiums\": 851940, \"BERKSHIRE HATHAWAY GRP\": 108942, \"STATE TOTAL\": 3412460, \"State Farm Market share %\": 24.965567361961753}, {\"state\": \"Mississippi\", \"id\": 28, \"State Farm policy premiums\": 467887, \"BERKSHIRE HATHAWAY GRP\": 100827, \"STATE TOTAL\": 1760180, \"State Farm Market share %\": 26.581770046245268}, {\"state\": \"Missouri\", \"id\": 29, \"State Farm policy premiums\": 883774, \"BERKSHIRE HATHAWAY GRP\": 214191, \"STATE TOTAL\": 3606590, \"State Farm Market share %\": 24.504421073645744}, {\"state\": \"Montana\", \"id\": 30, \"State Farm policy premiums\": 156816, \"BERKSHIRE HATHAWAY GRP\": 33538, \"STATE TOTAL\": 668513, \"State Farm Market share %\": 23.457434634778977}, {\"state\": \"Nebraska\", \"id\": 31, \"State Farm policy premiums\": 273727, \"BERKSHIRE HATHAWAY GRP\": 61046, \"STATE TOTAL\": 1167135, \"State Farm Market share %\": 23.45289962172328}, {\"state\": \"Nevada\", \"id\": 32, \"State Farm policy premiums\": 404688, \"BERKSHIRE HATHAWAY GRP\": 262815, \"STATE TOTAL\": 2129828, \"State Farm Market share %\": 19.000970970425783}, {\"state\": \"New Hampshire\", \"id\": 33, \"State Farm policy premiums\": 103340, \"BERKSHIRE HATHAWAY GRP\": 103403, \"STATE TOTAL\": 806545, \"State Farm Market share %\": 12.812676292085376}, {\"state\": \"New Jersey\", \"id\": 34, \"State Farm policy premiums\": 619623, \"BERKSHIRE HATHAWAY GRP\": 1441019, \"STATE TOTAL\": 7375823, \"State Farm Market share %\": 8.400730332059215}, {\"state\": \"New Mexico\", \"id\": 35, \"State Farm policy premiums\": 261922, \"BERKSHIRE HATHAWAY GRP\": 174865, \"STATE TOTAL\": 1284430, \"State Farm Market share %\": 20.39208053377763}, {\"state\": \"New York\", \"id\": 36, \"State Farm policy premiums\": 1666653, \"BERKSHIRE HATHAWAY GRP\": 3926684, \"STATE TOTAL\": 12633982, \"State Farm Market share %\": 13.191826614918401}, {\"state\": \"North Carolina\", \"id\": 37, \"State Farm policy premiums\": 842368, \"BERKSHIRE HATHAWAY GRP\": 560700, \"STATE TOTAL\": 5543700, \"State Farm Market share %\": 15.195050237206198}, {\"state\": \"North Dakota\", \"id\": 38, \"State Farm policy premiums\": 67282, \"BERKSHIRE HATHAWAY GRP\": 15516, \"STATE TOTAL\": 454376, \"State Farm Market share %\": 14.807560258464356}, {\"state\": \"Ohio\", \"id\": 39, \"State Farm policy premiums\": 1240075, \"BERKSHIRE HATHAWAY GRP\": 405652, \"STATE TOTAL\": 6303148, \"State Farm Market share %\": 19.67389945468518}, {\"state\": \"Oklahoma\", \"id\": 40, \"State Farm policy premiums\": 636063, \"BERKSHIRE HATHAWAY GRP\": 151388, \"STATE TOTAL\": 2515842, \"State Farm Market share %\": 25.28231105132993}, {\"state\": \"Oregon\", \"id\": 41, \"State Farm policy premiums\": 564416, \"BERKSHIRE HATHAWAY GRP\": 223187, \"STATE TOTAL\": 2647434, \"State Farm Market share %\": 21.319360558185778}, {\"state\": \"Pennsylvania\", \"id\": 42, \"State Farm policy premiums\": 1654528, \"BERKSHIRE HATHAWAY GRP\": 602848, \"STATE TOTAL\": 8270326, \"State Farm Market share %\": 20.005595910004033}, {\"state\": \"Rhode Island\", \"id\": 44, \"State Farm policy premiums\": 0, \"BERKSHIRE HATHAWAY GRP\": 97597, \"STATE TOTAL\": 867558, \"State Farm Market share %\": 0.0}, {\"state\": \"South Carolina\", \"id\": 45, \"State Farm policy premiums\": 874436, \"BERKSHIRE HATHAWAY GRP\": 426033, \"STATE TOTAL\": 3583918, \"State Farm Market share %\": 24.398884126255123}, {\"state\": \"South Dakota\", \"id\": 46, \"State Farm policy premiums\": 101912, \"BERKSHIRE HATHAWAY GRP\": 15682, \"STATE TOTAL\": 508569, \"State Farm Market share %\": 20.038972096215065}, {\"state\": \"Tennessee\", \"id\": 47, \"State Farm policy premiums\": 889329, \"BERKSHIRE HATHAWAY GRP\": 292357, \"STATE TOTAL\": 3769652, \"State Farm Market share %\": 23.591806352416615}, {\"state\": \"Texas\", \"id\": 48, \"State Farm policy premiums\": 3395165, \"BERKSHIRE HATHAWAY GRP\": 2127633, \"STATE TOTAL\": 19180816, \"State Farm Market share %\": 17.700837128097156}, {\"state\": \"Utah\", \"id\": 49, \"State Farm policy premiums\": 300403, \"BERKSHIRE HATHAWAY GRP\": 139315, \"STATE TOTAL\": 1723931, \"State Farm Market share %\": 17.42546540435783}, {\"state\": \"Vermont\", \"id\": 50, \"State Farm policy premiums\": 30003, \"BERKSHIRE HATHAWAY GRP\": 52939, \"STATE TOTAL\": 359996, \"State Farm Market share %\": 8.33425926954744}, {\"state\": \"Virginia\", \"id\": 51, \"State Farm policy premiums\": 878312, \"BERKSHIRE HATHAWAY GRP\": 884489, \"STATE TOTAL\": 5105360, \"State Farm Market share %\": 17.203723145870224}, {\"state\": \"Washington\", \"id\": 53, \"State Farm policy premiums\": 794882, \"BERKSHIRE HATHAWAY GRP\": 478922, \"STATE TOTAL\": 4780616, \"State Farm Market share %\": 16.627187793372237}, {\"state\": \"West Virginia\", \"id\": 54, \"State Farm policy premiums\": 323608, \"BERKSHIRE HATHAWAY GRP\": 110806, \"STATE TOTAL\": 1209872, \"State Farm Market share %\": 26.747292275546503}, {\"state\": \"Wisconsin\", \"id\": 55, \"State Farm policy premiums\": 443680, \"BERKSHIRE HATHAWAY GRP\": 131845, \"STATE TOTAL\": 2950711, \"State Farm Market share %\": 15.036375978535343}, {\"state\": \"Wyoming\", \"id\": 56, \"State Farm policy premiums\": 90412, \"BERKSHIRE HATHAWAY GRP\": 30187, \"STATE TOTAL\": 374169, \"State Farm Market share %\": 24.163412789407996}, {\"state\": \"Puerto Rico\", \"id\": 72, \"State Farm policy premiums\": 0, \"BERKSHIRE HATHAWAY GRP\": 0, \"STATE TOTAL\": 444480, \"State Farm Market share %\": 0.0}]}};\n",
              "      var embedOpt = {\"mode\": \"vega-lite\"};\n",
              "\n",
              "      function showError(el, error){\n",
              "          el.innerHTML = ('<div class=\"error\" style=\"color:red;\">'\n",
              "                          + '<p>JavaScript Error: ' + error.message + '</p>'\n",
              "                          + \"<p>This usually means there's a typo in your chart specification. \"\n",
              "                          + \"See the javascript console for the full traceback.</p>\"\n",
              "                          + '</div>');\n",
              "          throw error;\n",
              "      }\n",
              "      const el = document.getElementById('altair-viz');\n",
              "      vegaEmbed(\"#altair-viz\", spec, embedOpt)\n",
              "        .catch(error => showError(el, error));\n",
              "\n",
              "  </script>\n",
              "</body>\n",
              "</html>"
            ]
          },
          "metadata": {
            "tags": []
          },
          "execution_count": 35
        }
      ]
    },
    {
      "metadata": {
        "colab_type": "text",
        "id": "7NfsPKUtlja3"
      },
      "cell_type": "markdown",
      "source": [
        "# Use Seaborn to visualize distributions and relationships with continuous and discrete variables"
      ]
    },
    {
      "metadata": {
        "colab_type": "text",
        "id": "DMX07pfHlja4"
      },
      "cell_type": "markdown",
      "source": [
        "## 1. Anscombe dataset"
      ]
    },
    {
      "metadata": {
        "colab_type": "text",
        "id": "ohuKP3Y2lja5"
      },
      "cell_type": "markdown",
      "source": [
        "### Load dataset"
      ]
    },
    {
      "metadata": {
        "colab_type": "code",
        "id": "lhNEdJTslja6",
        "colab": {}
      },
      "cell_type": "code",
      "source": [
        "df = sns.load_dataset('anscombe')"
      ],
      "execution_count": 0,
      "outputs": []
    },
    {
      "metadata": {
        "colab_type": "text",
        "id": "wGpkAGL9lja9"
      },
      "cell_type": "markdown",
      "source": [
        "### See the data's shape"
      ]
    },
    {
      "metadata": {
        "colab_type": "code",
        "id": "UJgOVrMdlja_",
        "colab": {
          "base_uri": "https://localhost:8080/",
          "height": 34
        },
        "outputId": "159742cd-c1e9-4613-94d2-1e5f2f572de8"
      },
      "cell_type": "code",
      "source": [
        "df.shape"
      ],
      "execution_count": 37,
      "outputs": [
        {
          "output_type": "execute_result",
          "data": {
            "text/plain": [
              "(44, 3)"
            ]
          },
          "metadata": {
            "tags": []
          },
          "execution_count": 37
        }
      ]
    },
    {
      "metadata": {
        "colab_type": "text",
        "id": "uwhNkUorljbC"
      },
      "cell_type": "markdown",
      "source": [
        "### See the data"
      ]
    },
    {
      "metadata": {
        "colab_type": "code",
        "id": "f6VT5CbUljbD",
        "colab": {
          "base_uri": "https://localhost:8080/",
          "height": 343
        },
        "outputId": "6c21254f-a64c-48a2-c336-c82b5e6a6be4"
      },
      "cell_type": "code",
      "source": [
        "df.sample(10)"
      ],
      "execution_count": 39,
      "outputs": [
        {
          "output_type": "execute_result",
          "data": {
            "text/html": [
              "<div>\n",
              "<style scoped>\n",
              "    .dataframe tbody tr th:only-of-type {\n",
              "        vertical-align: middle;\n",
              "    }\n",
              "\n",
              "    .dataframe tbody tr th {\n",
              "        vertical-align: top;\n",
              "    }\n",
              "\n",
              "    .dataframe thead th {\n",
              "        text-align: right;\n",
              "    }\n",
              "</style>\n",
              "<table border=\"1\" class=\"dataframe\">\n",
              "  <thead>\n",
              "    <tr style=\"text-align: right;\">\n",
              "      <th></th>\n",
              "      <th>dataset</th>\n",
              "      <th>x</th>\n",
              "      <th>y</th>\n",
              "    </tr>\n",
              "  </thead>\n",
              "  <tbody>\n",
              "    <tr>\n",
              "      <th>30</th>\n",
              "      <td>III</td>\n",
              "      <td>12.0</td>\n",
              "      <td>8.15</td>\n",
              "    </tr>\n",
              "    <tr>\n",
              "      <th>4</th>\n",
              "      <td>I</td>\n",
              "      <td>11.0</td>\n",
              "      <td>8.33</td>\n",
              "    </tr>\n",
              "    <tr>\n",
              "      <th>43</th>\n",
              "      <td>IV</td>\n",
              "      <td>8.0</td>\n",
              "      <td>6.89</td>\n",
              "    </tr>\n",
              "    <tr>\n",
              "      <th>1</th>\n",
              "      <td>I</td>\n",
              "      <td>8.0</td>\n",
              "      <td>6.95</td>\n",
              "    </tr>\n",
              "    <tr>\n",
              "      <th>25</th>\n",
              "      <td>III</td>\n",
              "      <td>9.0</td>\n",
              "      <td>7.11</td>\n",
              "    </tr>\n",
              "    <tr>\n",
              "      <th>9</th>\n",
              "      <td>I</td>\n",
              "      <td>7.0</td>\n",
              "      <td>4.82</td>\n",
              "    </tr>\n",
              "    <tr>\n",
              "      <th>34</th>\n",
              "      <td>IV</td>\n",
              "      <td>8.0</td>\n",
              "      <td>5.76</td>\n",
              "    </tr>\n",
              "    <tr>\n",
              "      <th>12</th>\n",
              "      <td>II</td>\n",
              "      <td>8.0</td>\n",
              "      <td>8.14</td>\n",
              "    </tr>\n",
              "    <tr>\n",
              "      <th>24</th>\n",
              "      <td>III</td>\n",
              "      <td>13.0</td>\n",
              "      <td>12.74</td>\n",
              "    </tr>\n",
              "    <tr>\n",
              "      <th>31</th>\n",
              "      <td>III</td>\n",
              "      <td>7.0</td>\n",
              "      <td>6.42</td>\n",
              "    </tr>\n",
              "  </tbody>\n",
              "</table>\n",
              "</div>"
            ],
            "text/plain": [
              "   dataset     x      y\n",
              "30     III  12.0   8.15\n",
              "4        I  11.0   8.33\n",
              "43      IV   8.0   6.89\n",
              "1        I   8.0   6.95\n",
              "25     III   9.0   7.11\n",
              "9        I   7.0   4.82\n",
              "34      IV   8.0   5.76\n",
              "12      II   8.0   8.14\n",
              "24     III  13.0  12.74\n",
              "31     III   7.0   6.42"
            ]
          },
          "metadata": {
            "tags": []
          },
          "execution_count": 39
        }
      ]
    },
    {
      "metadata": {
        "colab_type": "text",
        "id": "yxMSGXfmljbE"
      },
      "cell_type": "markdown",
      "source": [
        "### [Group by](https://pandas.pydata.org/pandas-docs/stable/generated/pandas.DataFrame.groupby.html) `'dataset'`"
      ]
    },
    {
      "metadata": {
        "colab_type": "code",
        "id": "Kqb2C6OnljbG",
        "colab": {}
      },
      "cell_type": "code",
      "source": [
        "groups = df.groupby('dataset')"
      ],
      "execution_count": 0,
      "outputs": []
    },
    {
      "metadata": {
        "colab_type": "text",
        "id": "XE_VL_G5ljbI"
      },
      "cell_type": "markdown",
      "source": [
        "### [Describe](https://pandas.pydata.org/pandas-docs/stable/generated/pandas.DataFrame.describe.html) the groups"
      ]
    },
    {
      "metadata": {
        "colab_type": "code",
        "id": "3owo8EHvljbJ",
        "colab": {
          "base_uri": "https://localhost:8080/",
          "height": 225
        },
        "outputId": "23962e19-054c-47be-a345-de18d0fd9321"
      },
      "cell_type": "code",
      "source": [
        "groups.describe()"
      ],
      "execution_count": 44,
      "outputs": [
        {
          "output_type": "execute_result",
          "data": {
            "text/html": [
              "<div>\n",
              "<style scoped>\n",
              "    .dataframe tbody tr th:only-of-type {\n",
              "        vertical-align: middle;\n",
              "    }\n",
              "\n",
              "    .dataframe tbody tr th {\n",
              "        vertical-align: top;\n",
              "    }\n",
              "\n",
              "    .dataframe thead tr th {\n",
              "        text-align: left;\n",
              "    }\n",
              "\n",
              "    .dataframe thead tr:last-of-type th {\n",
              "        text-align: right;\n",
              "    }\n",
              "</style>\n",
              "<table border=\"1\" class=\"dataframe\">\n",
              "  <thead>\n",
              "    <tr>\n",
              "      <th></th>\n",
              "      <th colspan=\"8\" halign=\"left\">x</th>\n",
              "      <th colspan=\"8\" halign=\"left\">y</th>\n",
              "    </tr>\n",
              "    <tr>\n",
              "      <th></th>\n",
              "      <th>count</th>\n",
              "      <th>mean</th>\n",
              "      <th>std</th>\n",
              "      <th>min</th>\n",
              "      <th>25%</th>\n",
              "      <th>50%</th>\n",
              "      <th>75%</th>\n",
              "      <th>max</th>\n",
              "      <th>count</th>\n",
              "      <th>mean</th>\n",
              "      <th>std</th>\n",
              "      <th>min</th>\n",
              "      <th>25%</th>\n",
              "      <th>50%</th>\n",
              "      <th>75%</th>\n",
              "      <th>max</th>\n",
              "    </tr>\n",
              "    <tr>\n",
              "      <th>dataset</th>\n",
              "      <th></th>\n",
              "      <th></th>\n",
              "      <th></th>\n",
              "      <th></th>\n",
              "      <th></th>\n",
              "      <th></th>\n",
              "      <th></th>\n",
              "      <th></th>\n",
              "      <th></th>\n",
              "      <th></th>\n",
              "      <th></th>\n",
              "      <th></th>\n",
              "      <th></th>\n",
              "      <th></th>\n",
              "      <th></th>\n",
              "      <th></th>\n",
              "    </tr>\n",
              "  </thead>\n",
              "  <tbody>\n",
              "    <tr>\n",
              "      <th>I</th>\n",
              "      <td>11.0</td>\n",
              "      <td>9.0</td>\n",
              "      <td>3.316625</td>\n",
              "      <td>4.0</td>\n",
              "      <td>6.5</td>\n",
              "      <td>9.0</td>\n",
              "      <td>11.5</td>\n",
              "      <td>14.0</td>\n",
              "      <td>11.0</td>\n",
              "      <td>7.500909</td>\n",
              "      <td>2.031568</td>\n",
              "      <td>4.26</td>\n",
              "      <td>6.315</td>\n",
              "      <td>7.58</td>\n",
              "      <td>8.57</td>\n",
              "      <td>10.84</td>\n",
              "    </tr>\n",
              "    <tr>\n",
              "      <th>II</th>\n",
              "      <td>11.0</td>\n",
              "      <td>9.0</td>\n",
              "      <td>3.316625</td>\n",
              "      <td>4.0</td>\n",
              "      <td>6.5</td>\n",
              "      <td>9.0</td>\n",
              "      <td>11.5</td>\n",
              "      <td>14.0</td>\n",
              "      <td>11.0</td>\n",
              "      <td>7.500909</td>\n",
              "      <td>2.031657</td>\n",
              "      <td>3.10</td>\n",
              "      <td>6.695</td>\n",
              "      <td>8.14</td>\n",
              "      <td>8.95</td>\n",
              "      <td>9.26</td>\n",
              "    </tr>\n",
              "    <tr>\n",
              "      <th>III</th>\n",
              "      <td>11.0</td>\n",
              "      <td>9.0</td>\n",
              "      <td>3.316625</td>\n",
              "      <td>4.0</td>\n",
              "      <td>6.5</td>\n",
              "      <td>9.0</td>\n",
              "      <td>11.5</td>\n",
              "      <td>14.0</td>\n",
              "      <td>11.0</td>\n",
              "      <td>7.500000</td>\n",
              "      <td>2.030424</td>\n",
              "      <td>5.39</td>\n",
              "      <td>6.250</td>\n",
              "      <td>7.11</td>\n",
              "      <td>7.98</td>\n",
              "      <td>12.74</td>\n",
              "    </tr>\n",
              "    <tr>\n",
              "      <th>IV</th>\n",
              "      <td>11.0</td>\n",
              "      <td>9.0</td>\n",
              "      <td>3.316625</td>\n",
              "      <td>8.0</td>\n",
              "      <td>8.0</td>\n",
              "      <td>8.0</td>\n",
              "      <td>8.0</td>\n",
              "      <td>19.0</td>\n",
              "      <td>11.0</td>\n",
              "      <td>7.500909</td>\n",
              "      <td>2.030579</td>\n",
              "      <td>5.25</td>\n",
              "      <td>6.170</td>\n",
              "      <td>7.04</td>\n",
              "      <td>8.19</td>\n",
              "      <td>12.50</td>\n",
              "    </tr>\n",
              "  </tbody>\n",
              "</table>\n",
              "</div>"
            ],
            "text/plain": [
              "            x                                               y            \\\n",
              "        count mean       std  min  25%  50%   75%   max count      mean   \n",
              "dataset                                                                   \n",
              "I        11.0  9.0  3.316625  4.0  6.5  9.0  11.5  14.0  11.0  7.500909   \n",
              "II       11.0  9.0  3.316625  4.0  6.5  9.0  11.5  14.0  11.0  7.500909   \n",
              "III      11.0  9.0  3.316625  4.0  6.5  9.0  11.5  14.0  11.0  7.500000   \n",
              "IV       11.0  9.0  3.316625  8.0  8.0  8.0   8.0  19.0  11.0  7.500909   \n",
              "\n",
              "                                                   \n",
              "              std   min    25%   50%   75%    max  \n",
              "dataset                                            \n",
              "I        2.031568  4.26  6.315  7.58  8.57  10.84  \n",
              "II       2.031657  3.10  6.695  8.14  8.95   9.26  \n",
              "III      2.030424  5.39  6.250  7.11  7.98  12.74  \n",
              "IV       2.030579  5.25  6.170  7.04  8.19  12.50  "
            ]
          },
          "metadata": {
            "tags": []
          },
          "execution_count": 44
        }
      ]
    },
    {
      "metadata": {
        "colab_type": "text",
        "id": "VBjKXp0rljbK"
      },
      "cell_type": "markdown",
      "source": [
        "### Get the [count](https://pandas.pydata.org/pandas-docs/stable/generated/pandas.DataFrame.count.html), for each column in each group"
      ]
    },
    {
      "metadata": {
        "colab_type": "code",
        "id": "4ruK188dljbL",
        "colab": {
          "base_uri": "https://localhost:8080/",
          "height": 195
        },
        "outputId": "7f17b01a-c35c-4b64-9a4d-90adb961a4aa"
      },
      "cell_type": "code",
      "source": [
        "groups.count()"
      ],
      "execution_count": 45,
      "outputs": [
        {
          "output_type": "execute_result",
          "data": {
            "text/html": [
              "<div>\n",
              "<style scoped>\n",
              "    .dataframe tbody tr th:only-of-type {\n",
              "        vertical-align: middle;\n",
              "    }\n",
              "\n",
              "    .dataframe tbody tr th {\n",
              "        vertical-align: top;\n",
              "    }\n",
              "\n",
              "    .dataframe thead th {\n",
              "        text-align: right;\n",
              "    }\n",
              "</style>\n",
              "<table border=\"1\" class=\"dataframe\">\n",
              "  <thead>\n",
              "    <tr style=\"text-align: right;\">\n",
              "      <th></th>\n",
              "      <th>x</th>\n",
              "      <th>y</th>\n",
              "    </tr>\n",
              "    <tr>\n",
              "      <th>dataset</th>\n",
              "      <th></th>\n",
              "      <th></th>\n",
              "    </tr>\n",
              "  </thead>\n",
              "  <tbody>\n",
              "    <tr>\n",
              "      <th>I</th>\n",
              "      <td>11</td>\n",
              "      <td>11</td>\n",
              "    </tr>\n",
              "    <tr>\n",
              "      <th>II</th>\n",
              "      <td>11</td>\n",
              "      <td>11</td>\n",
              "    </tr>\n",
              "    <tr>\n",
              "      <th>III</th>\n",
              "      <td>11</td>\n",
              "      <td>11</td>\n",
              "    </tr>\n",
              "    <tr>\n",
              "      <th>IV</th>\n",
              "      <td>11</td>\n",
              "      <td>11</td>\n",
              "    </tr>\n",
              "  </tbody>\n",
              "</table>\n",
              "</div>"
            ],
            "text/plain": [
              "          x   y\n",
              "dataset        \n",
              "I        11  11\n",
              "II       11  11\n",
              "III      11  11\n",
              "IV       11  11"
            ]
          },
          "metadata": {
            "tags": []
          },
          "execution_count": 45
        }
      ]
    },
    {
      "metadata": {
        "colab_type": "text",
        "id": "Ooh4iR8gljbN"
      },
      "cell_type": "markdown",
      "source": [
        "### Get the [mean](https://pandas.pydata.org/pandas-docs/stable/generated/pandas.DataFrame.mean.html) ..."
      ]
    },
    {
      "metadata": {
        "colab_type": "code",
        "id": "VHz1_kJNljbN",
        "colab": {
          "base_uri": "https://localhost:8080/",
          "height": 195
        },
        "outputId": "7c19f884-258d-4f1a-e441-0c6e73b6fc66"
      },
      "cell_type": "code",
      "source": [
        "groups.mean()"
      ],
      "execution_count": 46,
      "outputs": [
        {
          "output_type": "execute_result",
          "data": {
            "text/html": [
              "<div>\n",
              "<style scoped>\n",
              "    .dataframe tbody tr th:only-of-type {\n",
              "        vertical-align: middle;\n",
              "    }\n",
              "\n",
              "    .dataframe tbody tr th {\n",
              "        vertical-align: top;\n",
              "    }\n",
              "\n",
              "    .dataframe thead th {\n",
              "        text-align: right;\n",
              "    }\n",
              "</style>\n",
              "<table border=\"1\" class=\"dataframe\">\n",
              "  <thead>\n",
              "    <tr style=\"text-align: right;\">\n",
              "      <th></th>\n",
              "      <th>x</th>\n",
              "      <th>y</th>\n",
              "    </tr>\n",
              "    <tr>\n",
              "      <th>dataset</th>\n",
              "      <th></th>\n",
              "      <th></th>\n",
              "    </tr>\n",
              "  </thead>\n",
              "  <tbody>\n",
              "    <tr>\n",
              "      <th>I</th>\n",
              "      <td>9.0</td>\n",
              "      <td>7.500909</td>\n",
              "    </tr>\n",
              "    <tr>\n",
              "      <th>II</th>\n",
              "      <td>9.0</td>\n",
              "      <td>7.500909</td>\n",
              "    </tr>\n",
              "    <tr>\n",
              "      <th>III</th>\n",
              "      <td>9.0</td>\n",
              "      <td>7.500000</td>\n",
              "    </tr>\n",
              "    <tr>\n",
              "      <th>IV</th>\n",
              "      <td>9.0</td>\n",
              "      <td>7.500909</td>\n",
              "    </tr>\n",
              "  </tbody>\n",
              "</table>\n",
              "</div>"
            ],
            "text/plain": [
              "           x         y\n",
              "dataset               \n",
              "I        9.0  7.500909\n",
              "II       9.0  7.500909\n",
              "III      9.0  7.500000\n",
              "IV       9.0  7.500909"
            ]
          },
          "metadata": {
            "tags": []
          },
          "execution_count": 46
        }
      ]
    },
    {
      "metadata": {
        "colab_type": "text",
        "id": "KDpAl2z8ljbQ"
      },
      "cell_type": "markdown",
      "source": [
        "### Get the [standard deviation](https://pandas.pydata.org/pandas-docs/stable/generated/pandas.DataFrame.std.html) ..."
      ]
    },
    {
      "metadata": {
        "colab_type": "code",
        "id": "H8sPCA70ljbQ",
        "colab": {
          "base_uri": "https://localhost:8080/",
          "height": 195
        },
        "outputId": "d18034b3-de39-450e-bb5e-1459105df439"
      },
      "cell_type": "code",
      "source": [
        "groups.std()"
      ],
      "execution_count": 48,
      "outputs": [
        {
          "output_type": "execute_result",
          "data": {
            "text/html": [
              "<div>\n",
              "<style scoped>\n",
              "    .dataframe tbody tr th:only-of-type {\n",
              "        vertical-align: middle;\n",
              "    }\n",
              "\n",
              "    .dataframe tbody tr th {\n",
              "        vertical-align: top;\n",
              "    }\n",
              "\n",
              "    .dataframe thead th {\n",
              "        text-align: right;\n",
              "    }\n",
              "</style>\n",
              "<table border=\"1\" class=\"dataframe\">\n",
              "  <thead>\n",
              "    <tr style=\"text-align: right;\">\n",
              "      <th></th>\n",
              "      <th>x</th>\n",
              "      <th>y</th>\n",
              "    </tr>\n",
              "    <tr>\n",
              "      <th>dataset</th>\n",
              "      <th></th>\n",
              "      <th></th>\n",
              "    </tr>\n",
              "  </thead>\n",
              "  <tbody>\n",
              "    <tr>\n",
              "      <th>I</th>\n",
              "      <td>3.316625</td>\n",
              "      <td>2.031568</td>\n",
              "    </tr>\n",
              "    <tr>\n",
              "      <th>II</th>\n",
              "      <td>3.316625</td>\n",
              "      <td>2.031657</td>\n",
              "    </tr>\n",
              "    <tr>\n",
              "      <th>III</th>\n",
              "      <td>3.316625</td>\n",
              "      <td>2.030424</td>\n",
              "    </tr>\n",
              "    <tr>\n",
              "      <th>IV</th>\n",
              "      <td>3.316625</td>\n",
              "      <td>2.030579</td>\n",
              "    </tr>\n",
              "  </tbody>\n",
              "</table>\n",
              "</div>"
            ],
            "text/plain": [
              "                x         y\n",
              "dataset                    \n",
              "I        3.316625  2.031568\n",
              "II       3.316625  2.031657\n",
              "III      3.316625  2.030424\n",
              "IV       3.316625  2.030579"
            ]
          },
          "metadata": {
            "tags": []
          },
          "execution_count": 48
        }
      ]
    },
    {
      "metadata": {
        "colab_type": "text",
        "id": "8_J0sQ3zljbS"
      },
      "cell_type": "markdown",
      "source": [
        "### Get the [correlation](https://pandas.pydata.org/pandas-docs/stable/generated/pandas.DataFrame.corr.html) ..."
      ]
    },
    {
      "metadata": {
        "colab_type": "code",
        "id": "oVaXOEutljbS",
        "colab": {
          "base_uri": "https://localhost:8080/",
          "height": 314
        },
        "outputId": "6526c13c-00a4-472a-8d56-ab4ca374ba6f"
      },
      "cell_type": "code",
      "source": [
        "groups.corr()"
      ],
      "execution_count": 49,
      "outputs": [
        {
          "output_type": "execute_result",
          "data": {
            "text/html": [
              "<div>\n",
              "<style scoped>\n",
              "    .dataframe tbody tr th:only-of-type {\n",
              "        vertical-align: middle;\n",
              "    }\n",
              "\n",
              "    .dataframe tbody tr th {\n",
              "        vertical-align: top;\n",
              "    }\n",
              "\n",
              "    .dataframe thead th {\n",
              "        text-align: right;\n",
              "    }\n",
              "</style>\n",
              "<table border=\"1\" class=\"dataframe\">\n",
              "  <thead>\n",
              "    <tr style=\"text-align: right;\">\n",
              "      <th></th>\n",
              "      <th></th>\n",
              "      <th>x</th>\n",
              "      <th>y</th>\n",
              "    </tr>\n",
              "    <tr>\n",
              "      <th>dataset</th>\n",
              "      <th></th>\n",
              "      <th></th>\n",
              "      <th></th>\n",
              "    </tr>\n",
              "  </thead>\n",
              "  <tbody>\n",
              "    <tr>\n",
              "      <th rowspan=\"2\" valign=\"top\">I</th>\n",
              "      <th>x</th>\n",
              "      <td>1.000000</td>\n",
              "      <td>0.816421</td>\n",
              "    </tr>\n",
              "    <tr>\n",
              "      <th>y</th>\n",
              "      <td>0.816421</td>\n",
              "      <td>1.000000</td>\n",
              "    </tr>\n",
              "    <tr>\n",
              "      <th rowspan=\"2\" valign=\"top\">II</th>\n",
              "      <th>x</th>\n",
              "      <td>1.000000</td>\n",
              "      <td>0.816237</td>\n",
              "    </tr>\n",
              "    <tr>\n",
              "      <th>y</th>\n",
              "      <td>0.816237</td>\n",
              "      <td>1.000000</td>\n",
              "    </tr>\n",
              "    <tr>\n",
              "      <th rowspan=\"2\" valign=\"top\">III</th>\n",
              "      <th>x</th>\n",
              "      <td>1.000000</td>\n",
              "      <td>0.816287</td>\n",
              "    </tr>\n",
              "    <tr>\n",
              "      <th>y</th>\n",
              "      <td>0.816287</td>\n",
              "      <td>1.000000</td>\n",
              "    </tr>\n",
              "    <tr>\n",
              "      <th rowspan=\"2\" valign=\"top\">IV</th>\n",
              "      <th>x</th>\n",
              "      <td>1.000000</td>\n",
              "      <td>0.816521</td>\n",
              "    </tr>\n",
              "    <tr>\n",
              "      <th>y</th>\n",
              "      <td>0.816521</td>\n",
              "      <td>1.000000</td>\n",
              "    </tr>\n",
              "  </tbody>\n",
              "</table>\n",
              "</div>"
            ],
            "text/plain": [
              "                  x         y\n",
              "dataset                      \n",
              "I       x  1.000000  0.816421\n",
              "        y  0.816421  1.000000\n",
              "II      x  1.000000  0.816237\n",
              "        y  0.816237  1.000000\n",
              "III     x  1.000000  0.816287\n",
              "        y  0.816287  1.000000\n",
              "IV      x  1.000000  0.816521\n",
              "        y  0.816521  1.000000"
            ]
          },
          "metadata": {
            "tags": []
          },
          "execution_count": 49
        }
      ]
    },
    {
      "metadata": {
        "colab_type": "text",
        "id": "wev2eLSsljbU"
      },
      "cell_type": "markdown",
      "source": [
        "### Use pandas to [plot](https://pandas.pydata.org/pandas-docs/stable/generated/pandas.DataFrame.plot.html) the groups, as scatter plots"
      ]
    },
    {
      "metadata": {
        "colab_type": "code",
        "id": "OV8_BNakljbV",
        "colab": {
          "base_uri": "https://localhost:8080/",
          "height": 1082
        },
        "outputId": "6c3ff38f-a813-4e89-afb4-7aa23cfb19e4"
      },
      "cell_type": "code",
      "source": [
        "groups.plot('x','y', kind = 'scatter');"
      ],
      "execution_count": 53,
      "outputs": [
        {
          "output_type": "display_data",
          "data": {
            "image/png": "[encoded data removed]",
            "text/plain": [
              "<Figure size 432x288 with 1 Axes>"
            ]
          },
          "metadata": {
            "tags": []
          }
        },
        {
          "output_type": "display_data",
          "data": {
            "image/png": "[encoded data removed]",
            "text/plain": [
              "<Figure size 432x288 with 1 Axes>"
            ]
          },
          "metadata": {
            "tags": []
          }
        },
        {
          "output_type": "display_data",
          "data": {
            "image/png": "[encoded data removed]",
            "text/plain": [
              "<Figure size 432x288 with 1 Axes>"
            ]
          },
          "metadata": {
            "tags": []
          }
        },
        {
          "output_type": "display_data",
          "data": {
            "image/png": "[encoded data removed]",
            "text/plain": [
              "<Figure size 432x288 with 1 Axes>"
            ]
          },
          "metadata": {
            "tags": []
          }
        }
      ]
    },
    {
      "metadata": {
        "colab_type": "text",
        "id": "aIZK7t3QljbX"
      },
      "cell_type": "markdown",
      "source": [
        "### Use Seaborn to make [relational plots](http://seaborn.pydata.org/generated/seaborn.relplot.html)"
      ]
    },
    {
      "metadata": {
        "colab_type": "code",
        "id": "VYwZwT85tggM",
        "colab": {
          "base_uri": "https://localhost:8080/",
          "height": 746
        },
        "outputId": "c8bf2eba-48e0-45d2-cc72-74773c5707f1"
      },
      "cell_type": "code",
      "source": [
        "sns.relplot('x','y', col='dataset', data=df, col_wrap=2)"
      ],
      "execution_count": 68,
      "outputs": [
        {
          "output_type": "execute_result",
          "data": {
            "text/plain": [
              "<seaborn.axisgrid.FacetGrid at 0x7f123e546198>"
            ]
          },
          "metadata": {
            "tags": []
          },
          "execution_count": 68
        },
        {
          "output_type": "display_data",
          "data": {
            "image/png": "[encoded data removed]",
            "text/plain": [
              "<Figure size 720x720 with 4 Axes>"
            ]
          },
          "metadata": {
            "tags": []
          }
        }
      ]
    },
    {
      "metadata": {
        "colab_type": "text",
        "id": "7pC0xmYRljbZ"
      },
      "cell_type": "markdown",
      "source": [
        "### Use Seaborn to make [linear model plots](http://seaborn.pydata.org/generated/seaborn.lmplot.html)"
      ]
    },
    {
      "metadata": {
        "colab_type": "code",
        "id": "q0OUr1XytwG9",
        "colab": {
          "base_uri": "https://localhost:8080/",
          "height": 746
        },
        "outputId": "1801b5cc-8e05-4b0b-9ea3-f2a51eccc677"
      },
      "cell_type": "code",
      "source": [
        "sns.lmplot('x', 'y', col='dataset', data=df, col_wrap=2, hue='dataset', ci=None)"
      ],
      "execution_count": 70,
      "outputs": [
        {
          "output_type": "execute_result",
          "data": {
            "text/plain": [
              "<seaborn.axisgrid.FacetGrid at 0x7f123ea55c88>"
            ]
          },
          "metadata": {
            "tags": []
          },
          "execution_count": 70
        },
        {
          "output_type": "display_data",
          "data": {
            "image/png": "[encoded data removed]",
            "text/plain": [
              "<Figure size 720x720 with 4 Axes>"
            ]
          },
          "metadata": {
            "tags": []
          }
        }
      ]
    },
    {
      "metadata": {
        "colab_type": "text",
        "id": "Cn-xMBPcljbc"
      },
      "cell_type": "markdown",
      "source": [
        "#### Links\n",
        "- [Seaborn examples: Anscombe's quartet](http://seaborn.pydata.org/examples/anscombes_quartet.html)\n",
        "- [Wikipedia: Anscombe's quartet](https://en.wikipedia.org/wiki/Anscombe%27s_quartet)\n",
        "- [The Datasaurus Dozen](https://www.autodeskresearch.com/publications/samestats)"
      ]
    },
    {
      "metadata": {
        "colab_type": "text",
        "id": "5vhSX9VJljbc"
      },
      "cell_type": "markdown",
      "source": [
        "## 2. Tips dataset"
      ]
    },
    {
      "metadata": {
        "colab_type": "text",
        "id": "tZrTgYtoljbc"
      },
      "cell_type": "markdown",
      "source": [
        "### Load dataset"
      ]
    },
    {
      "metadata": {
        "colab_type": "code",
        "id": "Ms3dbDMRljbd",
        "colab": {}
      },
      "cell_type": "code",
      "source": [
        "tips = sns.load_dataset('tips')"
      ],
      "execution_count": 0,
      "outputs": []
    },
    {
      "metadata": {
        "colab_type": "text",
        "id": "YsR7xrSVljbe"
      },
      "cell_type": "markdown",
      "source": [
        "### See the data's shape"
      ]
    },
    {
      "metadata": {
        "colab_type": "code",
        "id": "vkd17Tv7ljbf",
        "colab": {
          "base_uri": "https://localhost:8080/",
          "height": 34
        },
        "outputId": "04f11b26-aebd-4257-894e-516464e668f4"
      },
      "cell_type": "code",
      "source": [
        "tips.shape"
      ],
      "execution_count": 60,
      "outputs": [
        {
          "output_type": "execute_result",
          "data": {
            "text/plain": [
              "(244, 7)"
            ]
          },
          "metadata": {
            "tags": []
          },
          "execution_count": 60
        }
      ]
    },
    {
      "metadata": {
        "colab_type": "text",
        "id": "gRlUBLZEljbg"
      },
      "cell_type": "markdown",
      "source": [
        "### See the first 5 rows"
      ]
    },
    {
      "metadata": {
        "colab_type": "code",
        "id": "tSi2F9ZHljbg",
        "colab": {}
      },
      "cell_type": "code",
      "source": [
        "tips.head()\n",
        "\n",
        "tips['smoker'].replace({'No':0, 'Yes':1}, inplace=True)"
      ],
      "execution_count": 0,
      "outputs": []
    },
    {
      "metadata": {
        "colab_type": "text",
        "id": "sdGGrpdsljbi"
      },
      "cell_type": "markdown",
      "source": [
        "### Describe the data"
      ]
    },
    {
      "metadata": {
        "colab_type": "code",
        "id": "NvwPj20Qljbi",
        "colab": {
          "base_uri": "https://localhost:8080/",
          "height": 284
        },
        "outputId": "da966c19-3667-4702-de20-6a0a98240a3c"
      },
      "cell_type": "code",
      "source": [
        "tips.describe()"
      ],
      "execution_count": 67,
      "outputs": [
        {
          "output_type": "execute_result",
          "data": {
            "text/html": [
              "<div>\n",
              "<style scoped>\n",
              "    .dataframe tbody tr th:only-of-type {\n",
              "        vertical-align: middle;\n",
              "    }\n",
              "\n",
              "    .dataframe tbody tr th {\n",
              "        vertical-align: top;\n",
              "    }\n",
              "\n",
              "    .dataframe thead th {\n",
              "        text-align: right;\n",
              "    }\n",
              "</style>\n",
              "<table border=\"1\" class=\"dataframe\">\n",
              "  <thead>\n",
              "    <tr style=\"text-align: right;\">\n",
              "      <th></th>\n",
              "      <th>total_bill</th>\n",
              "      <th>tip</th>\n",
              "      <th>smoker</th>\n",
              "      <th>size</th>\n",
              "    </tr>\n",
              "  </thead>\n",
              "  <tbody>\n",
              "    <tr>\n",
              "      <th>count</th>\n",
              "      <td>244.000000</td>\n",
              "      <td>244.000000</td>\n",
              "      <td>244.000000</td>\n",
              "      <td>244.000000</td>\n",
              "    </tr>\n",
              "    <tr>\n",
              "      <th>mean</th>\n",
              "      <td>19.785943</td>\n",
              "      <td>2.998279</td>\n",
              "      <td>0.381148</td>\n",
              "      <td>2.569672</td>\n",
              "    </tr>\n",
              "    <tr>\n",
              "      <th>std</th>\n",
              "      <td>8.902412</td>\n",
              "      <td>1.383638</td>\n",
              "      <td>0.486667</td>\n",
              "      <td>0.951100</td>\n",
              "    </tr>\n",
              "    <tr>\n",
              "      <th>min</th>\n",
              "      <td>3.070000</td>\n",
              "      <td>1.000000</td>\n",
              "      <td>0.000000</td>\n",
              "      <td>1.000000</td>\n",
              "    </tr>\n",
              "    <tr>\n",
              "      <th>25%</th>\n",
              "      <td>13.347500</td>\n",
              "      <td>2.000000</td>\n",
              "      <td>0.000000</td>\n",
              "      <td>2.000000</td>\n",
              "    </tr>\n",
              "    <tr>\n",
              "      <th>50%</th>\n",
              "      <td>17.795000</td>\n",
              "      <td>2.900000</td>\n",
              "      <td>0.000000</td>\n",
              "      <td>2.000000</td>\n",
              "    </tr>\n",
              "    <tr>\n",
              "      <th>75%</th>\n",
              "      <td>24.127500</td>\n",
              "      <td>3.562500</td>\n",
              "      <td>1.000000</td>\n",
              "      <td>3.000000</td>\n",
              "    </tr>\n",
              "    <tr>\n",
              "      <th>max</th>\n",
              "      <td>50.810000</td>\n",
              "      <td>10.000000</td>\n",
              "      <td>1.000000</td>\n",
              "      <td>6.000000</td>\n",
              "    </tr>\n",
              "  </tbody>\n",
              "</table>\n",
              "</div>"
            ],
            "text/plain": [
              "       total_bill         tip      smoker        size\n",
              "count  244.000000  244.000000  244.000000  244.000000\n",
              "mean    19.785943    2.998279    0.381148    2.569672\n",
              "std      8.902412    1.383638    0.486667    0.951100\n",
              "min      3.070000    1.000000    0.000000    1.000000\n",
              "25%     13.347500    2.000000    0.000000    2.000000\n",
              "50%     17.795000    2.900000    0.000000    2.000000\n",
              "75%     24.127500    3.562500    1.000000    3.000000\n",
              "max     50.810000   10.000000    1.000000    6.000000"
            ]
          },
          "metadata": {
            "tags": []
          },
          "execution_count": 67
        }
      ]
    },
    {
      "metadata": {
        "colab_type": "text",
        "id": "TDoUKNB4ljbk"
      },
      "cell_type": "markdown",
      "source": [
        "### Make univariate [distribution plots](https://seaborn.pydata.org/generated/seaborn.distplot.html)"
      ]
    },
    {
      "metadata": {
        "colab_type": "code",
        "id": "GL7qCnO1PRbM",
        "colab": {
          "base_uri": "https://localhost:8080/",
          "height": 300
        },
        "outputId": "2b4c124e-eaf2-4ec2-9178-4eb275569fc6"
      },
      "cell_type": "code",
      "source": [
        "sns.distplot(tips.tip)"
      ],
      "execution_count": 71,
      "outputs": [
        {
          "output_type": "execute_result",
          "data": {
            "text/plain": [
              "<matplotlib.axes._subplots.AxesSubplot at 0x7f124106b0b8>"
            ]
          },
          "metadata": {
            "tags": []
          },
          "execution_count": 71
        },
        {
          "output_type": "display_data",
          "data": {
            "image/png": "[encoded data removed]",
            "text/plain": [
              "<Figure size 432x288 with 1 Axes>"
            ]
          },
          "metadata": {
            "tags": []
          }
        }
      ]
    },
    {
      "metadata": {
        "id": "vHT-B2dYIhM8",
        "colab_type": "code",
        "colab": {
          "base_uri": "https://localhost:8080/",
          "height": 301
        },
        "outputId": "715702af-bf30-4b94-daa6-1cb58a164ee1"
      },
      "cell_type": "code",
      "source": [
        "sns.distplot(tips.total_bill)"
      ],
      "execution_count": 72,
      "outputs": [
        {
          "output_type": "execute_result",
          "data": {
            "text/plain": [
              "<matplotlib.axes._subplots.AxesSubplot at 0x7f123ed0c0f0>"
            ]
          },
          "metadata": {
            "tags": []
          },
          "execution_count": 72
        },
        {
          "output_type": "display_data",
          "data": {
            "image/png": "[encoded data removed]",
            "text/plain": [
              "<Figure size 432x288 with 1 Axes>"
            ]
          },
          "metadata": {
            "tags": []
          }
        }
      ]
    },
    {
      "metadata": {
        "id": "FjsZ01mgJOKY",
        "colab_type": "code",
        "colab": {
          "base_uri": "https://localhost:8080/",
          "height": 300
        },
        "outputId": "ddb6c72f-199e-4bc1-c0c2-9f9fd7286580"
      },
      "cell_type": "code",
      "source": [
        "tips['percent'] =tips['tip'] / tips['total_bill']\n",
        "\n",
        "sns.distplot(tips['percent'].value_counts())"
      ],
      "execution_count": 74,
      "outputs": [
        {
          "output_type": "execute_result",
          "data": {
            "text/plain": [
              "<matplotlib.axes._subplots.AxesSubplot at 0x7f123e295cf8>"
            ]
          },
          "metadata": {
            "tags": []
          },
          "execution_count": 74
        },
        {
          "output_type": "display_data",
          "data": {
            "image/png": "[encoded data removed]",
            "text/plain": [
              "<Figure size 432x288 with 1 Axes>"
            ]
          },
          "metadata": {
            "tags": []
          }
        }
      ]
    },
    {
      "metadata": {
        "id": "KBMt7MUeJ04J",
        "colab_type": "code",
        "colab": {
          "base_uri": "https://localhost:8080/",
          "height": 370
        },
        "outputId": "2385b78a-3c13-4e4f-bdae-aa2003ebce3e"
      },
      "cell_type": "code",
      "source": [
        "tips['percent'].value_counts(bins=20).sort_index()"
      ],
      "execution_count": 78,
      "outputs": [
        {
          "output_type": "execute_result",
          "data": {
            "text/plain": [
              "(0.034, 0.0694]     6\n",
              "(0.0694, 0.103]    25\n",
              "(0.103, 0.137]     42\n",
              "(0.137, 0.171]     78\n",
              "(0.171, 0.204]     60\n",
              "(0.204, 0.238]     20\n",
              "(0.238, 0.272]      7\n",
              "(0.272, 0.306]      3\n",
              "(0.306, 0.339]      1\n",
              "(0.339, 0.373]      0\n",
              "(0.373, 0.407]      0\n",
              "(0.407, 0.44]       1\n",
              "(0.44, 0.474]       0\n",
              "(0.474, 0.508]      0\n",
              "(0.508, 0.542]      0\n",
              "(0.542, 0.575]      0\n",
              "(0.575, 0.609]      0\n",
              "(0.609, 0.643]      0\n",
              "(0.643, 0.677]      0\n",
              "(0.677, 0.71]       1\n",
              "Name: percent, dtype: int64"
            ]
          },
          "metadata": {
            "tags": []
          },
          "execution_count": 78
        }
      ]
    },
    {
      "metadata": {
        "colab_type": "text",
        "id": "0N-6Munnljbm"
      },
      "cell_type": "markdown",
      "source": [
        "### Make bivariate [relational plots](https://seaborn.pydata.org/generated/seaborn.relplot.html)"
      ]
    },
    {
      "metadata": {
        "colab_type": "code",
        "id": "AVWSHwa9PT1y",
        "colab": {
          "base_uri": "https://localhost:8080/",
          "height": 386
        },
        "outputId": "2c382757-1005-4512-8760-5c0827ede9a3"
      },
      "cell_type": "code",
      "source": [
        "sns.relplot('total_bill', 'tip', data=tips, alpha=0.5)\n",
        "\n",
        "# sns.relplot('x','y', col='dataset', data=df, col_wrap=2)"
      ],
      "execution_count": 79,
      "outputs": [
        {
          "output_type": "execute_result",
          "data": {
            "text/plain": [
              "<seaborn.axisgrid.FacetGrid at 0x7f123e20bf98>"
            ]
          },
          "metadata": {
            "tags": []
          },
          "execution_count": 79
        },
        {
          "output_type": "display_data",
          "data": {
            "image/png": "[encoded data removed]",
            "text/plain": [
              "<Figure size 360x360 with 1 Axes>"
            ]
          },
          "metadata": {
            "tags": []
          }
        }
      ]
    },
    {
      "metadata": {
        "id": "pB561IbXLjrV",
        "colab_type": "code",
        "colab": {
          "base_uri": "https://localhost:8080/",
          "height": 386
        },
        "outputId": "c4207774-0ec4-4af0-eb63-f7a86e4d4a6e"
      },
      "cell_type": "code",
      "source": [
        "sns.relplot('total_bill', 'percent', data=tips, alpha=0.5)\n"
      ],
      "execution_count": 80,
      "outputs": [
        {
          "output_type": "execute_result",
          "data": {
            "text/plain": [
              "<seaborn.axisgrid.FacetGrid at 0x7f123ea42748>"
            ]
          },
          "metadata": {
            "tags": []
          },
          "execution_count": 80
        },
        {
          "output_type": "display_data",
          "data": {
            "image/png": "[encoded data removed]",
            "text/plain": [
              "<Figure size 360x360 with 1 Axes>"
            ]
          },
          "metadata": {
            "tags": []
          }
        }
      ]
    },
    {
      "metadata": {
        "colab_type": "text",
        "id": "7Ug5vyBlljbp"
      },
      "cell_type": "markdown",
      "source": [
        "### Make univariate [categorical plots](https://seaborn.pydata.org/generated/seaborn.catplot.html)"
      ]
    },
    {
      "metadata": {
        "colab_type": "code",
        "id": "yIGQcgB0PZnk",
        "colab": {
          "base_uri": "https://localhost:8080/",
          "height": 386
        },
        "outputId": "09aea391-6aac-4d8a-e8b5-1b262edd6980"
      },
      "cell_type": "code",
      "source": [
        "sns.catplot('day', data=tips, kind='count')"
      ],
      "execution_count": 83,
      "outputs": [
        {
          "output_type": "execute_result",
          "data": {
            "text/plain": [
              "<seaborn.axisgrid.FacetGrid at 0x7f123e28a9b0>"
            ]
          },
          "metadata": {
            "tags": []
          },
          "execution_count": 83
        },
        {
          "output_type": "display_data",
          "data": {
            "image/png": "[encoded data removed]",
            "text/plain": [
              "<Figure size 360x360 with 1 Axes>"
            ]
          },
          "metadata": {
            "tags": []
          }
        }
      ]
    },
    {
      "metadata": {
        "colab_type": "code",
        "id": "0FdkIBUjPWLg",
        "colab": {
          "base_uri": "https://localhost:8080/",
          "height": 67
        },
        "outputId": "c102a7ff-60c0-4319-e39c-de8bcbdc41bc"
      },
      "cell_type": "code",
      "source": [
        "tips['sex'].value_counts()"
      ],
      "execution_count": 81,
      "outputs": [
        {
          "output_type": "execute_result",
          "data": {
            "text/plain": [
              "Male      157\n",
              "Female     87\n",
              "Name: sex, dtype: int64"
            ]
          },
          "metadata": {
            "tags": []
          },
          "execution_count": 81
        }
      ]
    },
    {
      "metadata": {
        "colab_type": "text",
        "id": "Ftchuwrgljbs"
      },
      "cell_type": "markdown",
      "source": [
        "### Make bivariate [categorical plots](https://seaborn.pydata.org/generated/seaborn.catplot.html)"
      ]
    },
    {
      "metadata": {
        "id": "TVKLJ1bALtyy",
        "colab_type": "code",
        "colab": {
          "base_uri": "https://localhost:8080/",
          "height": 312
        },
        "outputId": "87e63db6-7196-45a7-db2c-3b3b6a6216a0"
      },
      "cell_type": "code",
      "source": [
        "tips['sex'].value_counts().plot.bar()"
      ],
      "execution_count": 82,
      "outputs": [
        {
          "output_type": "execute_result",
          "data": {
            "text/plain": [
              "<matplotlib.axes._subplots.AxesSubplot at 0x7f123e102d68>"
            ]
          },
          "metadata": {
            "tags": []
          },
          "execution_count": 82
        },
        {
          "output_type": "display_data",
          "data": {
            "image/png": "[encoded data removed]",
            "text/plain": [
              "<Figure size 432x288 with 1 Axes>"
            ]
          },
          "metadata": {
            "tags": []
          }
        }
      ]
    },
    {
      "metadata": {
        "id": "2w2-MDWeMQap",
        "colab_type": "code",
        "colab": {
          "base_uri": "https://localhost:8080/",
          "height": 386
        },
        "outputId": "bb8a8e09-cd9c-4675-f248-cddb9d9ffa65"
      },
      "cell_type": "code",
      "source": [
        "sns.catplot('sex', 'percent', data=tips, kind='strip', alpha=0.5)"
      ],
      "execution_count": 85,
      "outputs": [
        {
          "output_type": "execute_result",
          "data": {
            "text/plain": [
              "<seaborn.axisgrid.FacetGrid at 0x7f123e098f60>"
            ]
          },
          "metadata": {
            "tags": []
          },
          "execution_count": 85
        },
        {
          "output_type": "display_data",
          "data": {
            "image/png": "[encoded data removed]",
            "text/plain": [
              "<Figure size 360x360 with 1 Axes>"
            ]
          },
          "metadata": {
            "tags": []
          }
        }
      ]
    },
    {
      "metadata": {
        "colab_type": "text",
        "id": "FFWkWusYljbt"
      },
      "cell_type": "markdown",
      "source": [
        "## 3. Flights"
      ]
    },
    {
      "metadata": {
        "colab_type": "text",
        "id": "A9uGFj7fljbu"
      },
      "cell_type": "markdown",
      "source": [
        "### Load dataset"
      ]
    },
    {
      "metadata": {
        "colab_type": "code",
        "id": "x9Pd0h0_ljbu",
        "colab": {}
      },
      "cell_type": "code",
      "source": [
        "flights = sns.load_dataset('flights')"
      ],
      "execution_count": 0,
      "outputs": []
    },
    {
      "metadata": {
        "colab_type": "text",
        "id": "TqUSgAUcljbx"
      },
      "cell_type": "markdown",
      "source": [
        "### See the data's shape"
      ]
    },
    {
      "metadata": {
        "colab_type": "code",
        "id": "5WELCrPPljbx",
        "colab": {
          "base_uri": "https://localhost:8080/",
          "height": 34
        },
        "outputId": "f735208c-364f-4a8d-8721-6eae32887266"
      },
      "cell_type": "code",
      "source": [
        "flights.shape"
      ],
      "execution_count": 87,
      "outputs": [
        {
          "output_type": "execute_result",
          "data": {
            "text/plain": [
              "(144, 3)"
            ]
          },
          "metadata": {
            "tags": []
          },
          "execution_count": 87
        }
      ]
    },
    {
      "metadata": {
        "colab_type": "text",
        "id": "47WxnyjCljby"
      },
      "cell_type": "markdown",
      "source": [
        "### See the first 5 rows"
      ]
    },
    {
      "metadata": {
        "colab_type": "code",
        "id": "xCREANeJljby",
        "colab": {
          "base_uri": "https://localhost:8080/",
          "height": 195
        },
        "outputId": "582cb04d-e178-416c-8b76-98c317e32ab5"
      },
      "cell_type": "code",
      "source": [
        "flights.head()"
      ],
      "execution_count": 88,
      "outputs": [
        {
          "output_type": "execute_result",
          "data": {
            "text/html": [
              "<div>\n",
              "<style scoped>\n",
              "    .dataframe tbody tr th:only-of-type {\n",
              "        vertical-align: middle;\n",
              "    }\n",
              "\n",
              "    .dataframe tbody tr th {\n",
              "        vertical-align: top;\n",
              "    }\n",
              "\n",
              "    .dataframe thead th {\n",
              "        text-align: right;\n",
              "    }\n",
              "</style>\n",
              "<table border=\"1\" class=\"dataframe\">\n",
              "  <thead>\n",
              "    <tr style=\"text-align: right;\">\n",
              "      <th></th>\n",
              "      <th>year</th>\n",
              "      <th>month</th>\n",
              "      <th>passengers</th>\n",
              "    </tr>\n",
              "  </thead>\n",
              "  <tbody>\n",
              "    <tr>\n",
              "      <th>0</th>\n",
              "      <td>1949</td>\n",
              "      <td>January</td>\n",
              "      <td>112</td>\n",
              "    </tr>\n",
              "    <tr>\n",
              "      <th>1</th>\n",
              "      <td>1949</td>\n",
              "      <td>February</td>\n",
              "      <td>118</td>\n",
              "    </tr>\n",
              "    <tr>\n",
              "      <th>2</th>\n",
              "      <td>1949</td>\n",
              "      <td>March</td>\n",
              "      <td>132</td>\n",
              "    </tr>\n",
              "    <tr>\n",
              "      <th>3</th>\n",
              "      <td>1949</td>\n",
              "      <td>April</td>\n",
              "      <td>129</td>\n",
              "    </tr>\n",
              "    <tr>\n",
              "      <th>4</th>\n",
              "      <td>1949</td>\n",
              "      <td>May</td>\n",
              "      <td>121</td>\n",
              "    </tr>\n",
              "  </tbody>\n",
              "</table>\n",
              "</div>"
            ],
            "text/plain": [
              "   year     month  passengers\n",
              "0  1949   January         112\n",
              "1  1949  February         118\n",
              "2  1949     March         132\n",
              "3  1949     April         129\n",
              "4  1949       May         121"
            ]
          },
          "metadata": {
            "tags": []
          },
          "execution_count": 88
        }
      ]
    },
    {
      "metadata": {
        "colab_type": "text",
        "id": "eUc_48wbljb0"
      },
      "cell_type": "markdown",
      "source": [
        "### Describe the data"
      ]
    },
    {
      "metadata": {
        "colab_type": "code",
        "id": "rA0xTMd7ljb0",
        "colab": {
          "base_uri": "https://localhost:8080/",
          "height": 284
        },
        "outputId": "91e6c12a-670f-4640-8a15-02a1bc9df814"
      },
      "cell_type": "code",
      "source": [
        "flights.describe()"
      ],
      "execution_count": 89,
      "outputs": [
        {
          "output_type": "execute_result",
          "data": {
            "text/html": [
              "<div>\n",
              "<style scoped>\n",
              "    .dataframe tbody tr th:only-of-type {\n",
              "        vertical-align: middle;\n",
              "    }\n",
              "\n",
              "    .dataframe tbody tr th {\n",
              "        vertical-align: top;\n",
              "    }\n",
              "\n",
              "    .dataframe thead th {\n",
              "        text-align: right;\n",
              "    }\n",
              "</style>\n",
              "<table border=\"1\" class=\"dataframe\">\n",
              "  <thead>\n",
              "    <tr style=\"text-align: right;\">\n",
              "      <th></th>\n",
              "      <th>year</th>\n",
              "      <th>passengers</th>\n",
              "    </tr>\n",
              "  </thead>\n",
              "  <tbody>\n",
              "    <tr>\n",
              "      <th>count</th>\n",
              "      <td>144.000000</td>\n",
              "      <td>144.000000</td>\n",
              "    </tr>\n",
              "    <tr>\n",
              "      <th>mean</th>\n",
              "      <td>1954.500000</td>\n",
              "      <td>280.298611</td>\n",
              "    </tr>\n",
              "    <tr>\n",
              "      <th>std</th>\n",
              "      <td>3.464102</td>\n",
              "      <td>119.966317</td>\n",
              "    </tr>\n",
              "    <tr>\n",
              "      <th>min</th>\n",
              "      <td>1949.000000</td>\n",
              "      <td>104.000000</td>\n",
              "    </tr>\n",
              "    <tr>\n",
              "      <th>25%</th>\n",
              "      <td>1951.750000</td>\n",
              "      <td>180.000000</td>\n",
              "    </tr>\n",
              "    <tr>\n",
              "      <th>50%</th>\n",
              "      <td>1954.500000</td>\n",
              "      <td>265.500000</td>\n",
              "    </tr>\n",
              "    <tr>\n",
              "      <th>75%</th>\n",
              "      <td>1957.250000</td>\n",
              "      <td>360.500000</td>\n",
              "    </tr>\n",
              "    <tr>\n",
              "      <th>max</th>\n",
              "      <td>1960.000000</td>\n",
              "      <td>622.000000</td>\n",
              "    </tr>\n",
              "  </tbody>\n",
              "</table>\n",
              "</div>"
            ],
            "text/plain": [
              "              year  passengers\n",
              "count   144.000000  144.000000\n",
              "mean   1954.500000  280.298611\n",
              "std       3.464102  119.966317\n",
              "min    1949.000000  104.000000\n",
              "25%    1951.750000  180.000000\n",
              "50%    1954.500000  265.500000\n",
              "75%    1957.250000  360.500000\n",
              "max    1960.000000  622.000000"
            ]
          },
          "metadata": {
            "tags": []
          },
          "execution_count": 89
        }
      ]
    },
    {
      "metadata": {
        "colab_type": "text",
        "id": "Pwg0lL5Lljb2"
      },
      "cell_type": "markdown",
      "source": [
        "### Plot year & passengers"
      ]
    },
    {
      "metadata": {
        "colab_type": "code",
        "id": "o2reqC4Eljb2",
        "colab": {
          "base_uri": "https://localhost:8080/",
          "height": 386
        },
        "outputId": "8a2294d5-1202-4127-834a-c17ed97365cf"
      },
      "cell_type": "code",
      "source": [
        "sns.relplot('year', 'passengers', data=flights)"
      ],
      "execution_count": 90,
      "outputs": [
        {
          "output_type": "execute_result",
          "data": {
            "text/plain": [
              "<seaborn.axisgrid.FacetGrid at 0x7f123df80550>"
            ]
          },
          "metadata": {
            "tags": []
          },
          "execution_count": 90
        },
        {
          "output_type": "display_data",
          "data": {
            "image/png": "[encoded data removed]",
            "text/plain": [
              "<Figure size 360x360 with 1 Axes>"
            ]
          },
          "metadata": {
            "tags": []
          }
        }
      ]
    },
    {
      "metadata": {
        "id": "RKQ7ymeFM2-0",
        "colab_type": "code",
        "colab": {
          "base_uri": "https://localhost:8080/",
          "height": 386
        },
        "outputId": "e699a76a-fb08-4d6f-80fd-4599e9f5383b"
      },
      "cell_type": "code",
      "source": [
        "sns.relplot('year', 'passengers', data=flights, kind='line', ci=95)"
      ],
      "execution_count": 92,
      "outputs": [
        {
          "output_type": "execute_result",
          "data": {
            "text/plain": [
              "<seaborn.axisgrid.FacetGrid at 0x7f123dfa96d8>"
            ]
          },
          "metadata": {
            "tags": []
          },
          "execution_count": 92
        },
        {
          "output_type": "display_data",
          "data": {
            "image/png": "[encoded data removed]",
            "text/plain": [
              "<Figure size 360x360 with 1 Axes>"
            ]
          },
          "metadata": {
            "tags": []
          }
        }
      ]
    },
    {
      "metadata": {
        "colab_type": "text",
        "id": "g1TKShQ2ljb4"
      },
      "cell_type": "markdown",
      "source": [
        "### Plot month & passengers"
      ]
    },
    {
      "metadata": {
        "colab_type": "code",
        "id": "Le0Tc5SDwoHk",
        "colab": {
          "base_uri": "https://localhost:8080/",
          "height": 447
        },
        "outputId": "9e1d33e9-f27d-47d7-e638-c208ff78c997"
      },
      "cell_type": "code",
      "source": [
        "sns.catplot('month', 'passengers', data=flights)\n",
        "plt.xticks(rotation=90)"
      ],
      "execution_count": 100,
      "outputs": [
        {
          "output_type": "execute_result",
          "data": {
            "text/plain": [
              "(array([ 0,  1,  2,  3,  4,  5,  6,  7,  8,  9, 10, 11]),\n",
              " <a list of 12 Text xticklabel objects>)"
            ]
          },
          "metadata": {
            "tags": []
          },
          "execution_count": 100
        },
        {
          "output_type": "display_data",
          "data": {
            "image/png": "[encoded data removed]",
            "text/plain": [
              "<Figure size 360x360 with 1 Axes>"
            ]
          },
          "metadata": {
            "tags": []
          }
        }
      ]
    },
    {
      "metadata": {
        "colab_type": "text",
        "id": "Fh9lCwC-ljb6"
      },
      "cell_type": "markdown",
      "source": [
        "### Create a [pivot table](https://pandas.pydata.org/pandas-docs/stable/generated/pandas.DataFrame.pivot_table.html) of passengers by month and year"
      ]
    },
    {
      "metadata": {
        "id": "GaPezXUslkKo",
        "colab_type": "code",
        "colab": {
          "base_uri": "https://localhost:8080/",
          "height": 225
        },
        "outputId": "51f105a1-b8b1-4937-a8d5-e3d5eade484c"
      },
      "cell_type": "code",
      "source": [
        "flights.pivot_table(index='month', columns='year', values='passengers')[:5]"
      ],
      "execution_count": 103,
      "outputs": [
        {
          "output_type": "execute_result",
          "data": {
            "text/html": [
              "<div>\n",
              "<style scoped>\n",
              "    .dataframe tbody tr th:only-of-type {\n",
              "        vertical-align: middle;\n",
              "    }\n",
              "\n",
              "    .dataframe tbody tr th {\n",
              "        vertical-align: top;\n",
              "    }\n",
              "\n",
              "    .dataframe thead th {\n",
              "        text-align: right;\n",
              "    }\n",
              "</style>\n",
              "<table border=\"1\" class=\"dataframe\">\n",
              "  <thead>\n",
              "    <tr style=\"text-align: right;\">\n",
              "      <th>year</th>\n",
              "      <th>1949</th>\n",
              "      <th>1950</th>\n",
              "      <th>1951</th>\n",
              "      <th>1952</th>\n",
              "      <th>1953</th>\n",
              "      <th>1954</th>\n",
              "      <th>1955</th>\n",
              "      <th>1956</th>\n",
              "      <th>1957</th>\n",
              "      <th>1958</th>\n",
              "      <th>1959</th>\n",
              "      <th>1960</th>\n",
              "    </tr>\n",
              "    <tr>\n",
              "      <th>month</th>\n",
              "      <th></th>\n",
              "      <th></th>\n",
              "      <th></th>\n",
              "      <th></th>\n",
              "      <th></th>\n",
              "      <th></th>\n",
              "      <th></th>\n",
              "      <th></th>\n",
              "      <th></th>\n",
              "      <th></th>\n",
              "      <th></th>\n",
              "      <th></th>\n",
              "    </tr>\n",
              "  </thead>\n",
              "  <tbody>\n",
              "    <tr>\n",
              "      <th>January</th>\n",
              "      <td>112</td>\n",
              "      <td>115</td>\n",
              "      <td>145</td>\n",
              "      <td>171</td>\n",
              "      <td>196</td>\n",
              "      <td>204</td>\n",
              "      <td>242</td>\n",
              "      <td>284</td>\n",
              "      <td>315</td>\n",
              "      <td>340</td>\n",
              "      <td>360</td>\n",
              "      <td>417</td>\n",
              "    </tr>\n",
              "    <tr>\n",
              "      <th>February</th>\n",
              "      <td>118</td>\n",
              "      <td>126</td>\n",
              "      <td>150</td>\n",
              "      <td>180</td>\n",
              "      <td>196</td>\n",
              "      <td>188</td>\n",
              "      <td>233</td>\n",
              "      <td>277</td>\n",
              "      <td>301</td>\n",
              "      <td>318</td>\n",
              "      <td>342</td>\n",
              "      <td>391</td>\n",
              "    </tr>\n",
              "    <tr>\n",
              "      <th>March</th>\n",
              "      <td>132</td>\n",
              "      <td>141</td>\n",
              "      <td>178</td>\n",
              "      <td>193</td>\n",
              "      <td>236</td>\n",
              "      <td>235</td>\n",
              "      <td>267</td>\n",
              "      <td>317</td>\n",
              "      <td>356</td>\n",
              "      <td>362</td>\n",
              "      <td>406</td>\n",
              "      <td>419</td>\n",
              "    </tr>\n",
              "    <tr>\n",
              "      <th>April</th>\n",
              "      <td>129</td>\n",
              "      <td>135</td>\n",
              "      <td>163</td>\n",
              "      <td>181</td>\n",
              "      <td>235</td>\n",
              "      <td>227</td>\n",
              "      <td>269</td>\n",
              "      <td>313</td>\n",
              "      <td>348</td>\n",
              "      <td>348</td>\n",
              "      <td>396</td>\n",
              "      <td>461</td>\n",
              "    </tr>\n",
              "    <tr>\n",
              "      <th>May</th>\n",
              "      <td>121</td>\n",
              "      <td>125</td>\n",
              "      <td>172</td>\n",
              "      <td>183</td>\n",
              "      <td>229</td>\n",
              "      <td>234</td>\n",
              "      <td>270</td>\n",
              "      <td>318</td>\n",
              "      <td>355</td>\n",
              "      <td>363</td>\n",
              "      <td>420</td>\n",
              "      <td>472</td>\n",
              "    </tr>\n",
              "  </tbody>\n",
              "</table>\n",
              "</div>"
            ],
            "text/plain": [
              "year      1949  1950  1951  1952  1953  1954  1955  1956  1957  1958  1959  \\\n",
              "month                                                                        \n",
              "January    112   115   145   171   196   204   242   284   315   340   360   \n",
              "February   118   126   150   180   196   188   233   277   301   318   342   \n",
              "March      132   141   178   193   236   235   267   317   356   362   406   \n",
              "April      129   135   163   181   235   227   269   313   348   348   396   \n",
              "May        121   125   172   183   229   234   270   318   355   363   420   \n",
              "\n",
              "year      1960  \n",
              "month           \n",
              "January    417  \n",
              "February   391  \n",
              "March      419  \n",
              "April      461  \n",
              "May        472  "
            ]
          },
          "metadata": {
            "tags": []
          },
          "execution_count": 103
        }
      ]
    },
    {
      "metadata": {
        "colab_type": "code",
        "id": "JJrQbsXxljb6",
        "colab": {
          "base_uri": "https://localhost:8080/",
          "height": 225
        },
        "outputId": "e330d8e9-aed3-4a16-8872-c5081f2790f6"
      },
      "cell_type": "code",
      "source": [
        "table = flights.pivot_table('passengers', 'month', 'year')\n",
        "\n",
        "table.head()"
      ],
      "execution_count": 95,
      "outputs": [
        {
          "output_type": "execute_result",
          "data": {
            "text/html": [
              "<div>\n",
              "<style scoped>\n",
              "    .dataframe tbody tr th:only-of-type {\n",
              "        vertical-align: middle;\n",
              "    }\n",
              "\n",
              "    .dataframe tbody tr th {\n",
              "        vertical-align: top;\n",
              "    }\n",
              "\n",
              "    .dataframe thead th {\n",
              "        text-align: right;\n",
              "    }\n",
              "</style>\n",
              "<table border=\"1\" class=\"dataframe\">\n",
              "  <thead>\n",
              "    <tr style=\"text-align: right;\">\n",
              "      <th>year</th>\n",
              "      <th>1949</th>\n",
              "      <th>1950</th>\n",
              "      <th>1951</th>\n",
              "      <th>1952</th>\n",
              "      <th>1953</th>\n",
              "      <th>1954</th>\n",
              "      <th>1955</th>\n",
              "      <th>1956</th>\n",
              "      <th>1957</th>\n",
              "      <th>1958</th>\n",
              "      <th>1959</th>\n",
              "      <th>1960</th>\n",
              "    </tr>\n",
              "    <tr>\n",
              "      <th>month</th>\n",
              "      <th></th>\n",
              "      <th></th>\n",
              "      <th></th>\n",
              "      <th></th>\n",
              "      <th></th>\n",
              "      <th></th>\n",
              "      <th></th>\n",
              "      <th></th>\n",
              "      <th></th>\n",
              "      <th></th>\n",
              "      <th></th>\n",
              "      <th></th>\n",
              "    </tr>\n",
              "  </thead>\n",
              "  <tbody>\n",
              "    <tr>\n",
              "      <th>January</th>\n",
              "      <td>112</td>\n",
              "      <td>115</td>\n",
              "      <td>145</td>\n",
              "      <td>171</td>\n",
              "      <td>196</td>\n",
              "      <td>204</td>\n",
              "      <td>242</td>\n",
              "      <td>284</td>\n",
              "      <td>315</td>\n",
              "      <td>340</td>\n",
              "      <td>360</td>\n",
              "      <td>417</td>\n",
              "    </tr>\n",
              "    <tr>\n",
              "      <th>February</th>\n",
              "      <td>118</td>\n",
              "      <td>126</td>\n",
              "      <td>150</td>\n",
              "      <td>180</td>\n",
              "      <td>196</td>\n",
              "      <td>188</td>\n",
              "      <td>233</td>\n",
              "      <td>277</td>\n",
              "      <td>301</td>\n",
              "      <td>318</td>\n",
              "      <td>342</td>\n",
              "      <td>391</td>\n",
              "    </tr>\n",
              "    <tr>\n",
              "      <th>March</th>\n",
              "      <td>132</td>\n",
              "      <td>141</td>\n",
              "      <td>178</td>\n",
              "      <td>193</td>\n",
              "      <td>236</td>\n",
              "      <td>235</td>\n",
              "      <td>267</td>\n",
              "      <td>317</td>\n",
              "      <td>356</td>\n",
              "      <td>362</td>\n",
              "      <td>406</td>\n",
              "      <td>419</td>\n",
              "    </tr>\n",
              "    <tr>\n",
              "      <th>April</th>\n",
              "      <td>129</td>\n",
              "      <td>135</td>\n",
              "      <td>163</td>\n",
              "      <td>181</td>\n",
              "      <td>235</td>\n",
              "      <td>227</td>\n",
              "      <td>269</td>\n",
              "      <td>313</td>\n",
              "      <td>348</td>\n",
              "      <td>348</td>\n",
              "      <td>396</td>\n",
              "      <td>461</td>\n",
              "    </tr>\n",
              "    <tr>\n",
              "      <th>May</th>\n",
              "      <td>121</td>\n",
              "      <td>125</td>\n",
              "      <td>172</td>\n",
              "      <td>183</td>\n",
              "      <td>229</td>\n",
              "      <td>234</td>\n",
              "      <td>270</td>\n",
              "      <td>318</td>\n",
              "      <td>355</td>\n",
              "      <td>363</td>\n",
              "      <td>420</td>\n",
              "      <td>472</td>\n",
              "    </tr>\n",
              "  </tbody>\n",
              "</table>\n",
              "</div>"
            ],
            "text/plain": [
              "year      1949  1950  1951  1952  1953  1954  1955  1956  1957  1958  1959  \\\n",
              "month                                                                        \n",
              "January    112   115   145   171   196   204   242   284   315   340   360   \n",
              "February   118   126   150   180   196   188   233   277   301   318   342   \n",
              "March      132   141   178   193   236   235   267   317   356   362   406   \n",
              "April      129   135   163   181   235   227   269   313   348   348   396   \n",
              "May        121   125   172   183   229   234   270   318   355   363   420   \n",
              "\n",
              "year      1960  \n",
              "month           \n",
              "January    417  \n",
              "February   391  \n",
              "March      419  \n",
              "April      461  \n",
              "May        472  "
            ]
          },
          "metadata": {
            "tags": []
          },
          "execution_count": 95
        }
      ]
    },
    {
      "metadata": {
        "colab_type": "text",
        "id": "MRast1t4ljb7"
      },
      "cell_type": "markdown",
      "source": [
        "### Plot the pivot table as a [heat map](https://seaborn.pydata.org/generated/seaborn.heatmap.html)"
      ]
    },
    {
      "metadata": {
        "colab_type": "code",
        "id": "nLGYX_5Bljb9",
        "colab": {
          "base_uri": "https://localhost:8080/",
          "height": 555
        },
        "outputId": "3aa89d25-6dc9-494d-f4bf-46c733f3bb1d"
      },
      "cell_type": "code",
      "source": [
        "plt.figure(figsize=(16,9))\n",
        "sns.heatmap(table, annot=True, fmt='d');"
      ],
      "execution_count": 96,
      "outputs": [
        {
          "output_type": "display_data",
          "data": {
            "image/png": "[encoded data removed]",
            "text/plain": [
              "<Figure size 1152x648 with 2 Axes>"
            ]
          },
          "metadata": {
            "tags": []
          }
        }
      ]
    },
    {
      "metadata": {
        "colab_type": "text",
        "id": "xmEaapURMyKZ"
      },
      "cell_type": "markdown",
      "source": [
        "# ASSIGNMENT\n",
        "\n",
        "### 1.\n",
        "\n",
        "Replicate the lesson code. I recommend that you [do not copy-paste](https://docs.google.com/document/d/1ubOw9B3Hfip27hF2ZFnW3a3z9xAgrUDRReOEo-FHCVs/edit).\n",
        "\n",
        "### 2.\n",
        "\n",
        "Choose a chart you want to make, from [Visual Vocabulary - Vega Edition](http://ft.com/vocabulary).\n",
        "\n",
        "Find the chart in an example gallery of a Python data visualization library:\n",
        "- [Seaborn](http://seaborn.pydata.org/examples/index.html)\n",
        "- [Altair](https://altair-viz.github.io/gallery/index.html)\n",
        "- [Matplotlib](https://matplotlib.org/gallery.html)\n",
        "- [Pandas](https://pandas.pydata.org/pandas-docs/stable/visualization.html)\n",
        "\n",
        "Reproduce the chart. [Optionally, try the \"Ben Franklin Method.\"](https://docs.google.com/document/d/1ubOw9B3Hfip27hF2ZFnW3a3z9xAgrUDRReOEo-FHCVs/edit) If you want, experiment and make changes.\n",
        "\n",
        "Take notes. Consider sharing your work with your cohort!"
      ]
    },
    {
      "metadata": {
        "id": "I3lAj_YZmJnc",
        "colab_type": "code",
        "colab": {
          "resources": {
            "http://localhost:8080/nbextensions/google.colab/files.js": {
              "data": "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",
              "ok": true,
              "headers": [
                [
                  "content-type",
                  "application/javascript"
                ]
              ],
              "status": 200,
              "status_text": ""
            }
          },
          "base_uri": "https://localhost:8080/",
          "height": 74
        },
        "outputId": "811fe327-2a0d-4780-8e4c-423927ccc001"
      },
      "cell_type": "code",
      "source": [
        "# Source and inspiration for the following example:https://altair-viz.github.io/gallery/layered_histogram.html\n",
        "\n",
        "# I'm using a dataset from iea.org on electricity consumption in GwH\n",
        "\n",
        "from google.colab import files\n",
        "upload = files.upload()"
      ],
      "execution_count": 106,
      "outputs": [
        {
          "output_type": "display_data",
          "data": {
            "text/html": [
              "\n",
              "     <input type=\"file\" id=\"files-abd61819-1bac-4c88-87c5-872aeae391fe\" name=\"files[]\" multiple disabled />\n",
              "     <output id=\"result-abd61819-1bac-4c88-87c5-872aeae391fe\">\n",
              "      Upload widget is only available when the cell has been executed in the\n",
              "      current browser session. Please rerun this cell to enable.\n",
              "      </output>\n",
              "      <script src=\"/nbextensions/google.colab/files.js\"></script> "
            ],
            "text/plain": [
              "<IPython.core.display.HTML object>"
            ]
          },
          "metadata": {
            "tags": []
          }
        },
        {
          "output_type": "stream",
          "text": [
            "Saving power_data.xlsx to power_data.xlsx\n"
          ],
          "name": "stdout"
        }
      ]
    },
    {
      "metadata": {
        "id": "WJG81oyyvcG2",
        "colab_type": "code",
        "colab": {}
      },
      "cell_type": "code",
      "source": [
        "xls = pd.ExcelFile('power_data.xlsx')\n",
        "df = pd.read_excel(xls, 'Sheet1')"
      ],
      "execution_count": 0,
      "outputs": []
    },
    {
      "metadata": {
        "id": "5p1fxbvbvrFE",
        "colab_type": "code",
        "colab": {
          "base_uri": "https://localhost:8080/",
          "height": 34
        },
        "outputId": "3d371fd2-0218-40dc-d8b0-8bc025427a3b"
      },
      "cell_type": "code",
      "source": [
        "df.shape"
      ],
      "execution_count": 111,
      "outputs": [
        {
          "output_type": "execute_result",
          "data": {
            "text/plain": [
              "(72, 228)"
            ]
          },
          "metadata": {
            "tags": []
          },
          "execution_count": 111
        }
      ]
    },
    {
      "metadata": {
        "id": "QDTHaTa5yWU5",
        "colab_type": "code",
        "colab": {
          "base_uri": "https://localhost:8080/",
          "height": 328
        },
        "outputId": "00f4d083-5066-407c-fde8-21d6f1459da6"
      },
      "cell_type": "code",
      "source": [
        "df1 = df.reset_index().rename(columns={'level_0': 'country', 'level_1': 'elec_consumption'})\n",
        "df1.sample(5)\n",
        "# Checking the columns and relabeling a little"
      ],
      "execution_count": 118,
      "outputs": [
        {
          "output_type": "execute_result",
          "data": {
            "text/html": [
              "<div>\n",
              "<style scoped>\n",
              "    .dataframe tbody tr th:only-of-type {\n",
              "        vertical-align: middle;\n",
              "    }\n",
              "\n",
              "    .dataframe tbody tr th {\n",
              "        vertical-align: top;\n",
              "    }\n",
              "\n",
              "    .dataframe thead th {\n",
              "        text-align: right;\n",
              "    }\n",
              "</style>\n",
              "<table border=\"1\" class=\"dataframe\">\n",
              "  <thead>\n",
              "    <tr style=\"text-align: right;\">\n",
              "      <th></th>\n",
              "      <th>country</th>\n",
              "      <th>elec_consumption</th>\n",
              "      <th>2000-01-01 00:00:00</th>\n",
              "      <th>2000-02-01 00:00:00</th>\n",
              "      <th>2000-03-01 00:00:00</th>\n",
              "      <th>2000-04-01 00:00:00</th>\n",
              "      <th>2000-05-01 00:00:00</th>\n",
              "      <th>2000-06-01 00:00:00</th>\n",
              "      <th>2000-07-01 00:00:00</th>\n",
              "      <th>2000-08-01 00:00:00</th>\n",
              "      <th>...</th>\n",
              "      <th>2018-03-01 00:00:00</th>\n",
              "      <th>2018-04-01 00:00:00</th>\n",
              "      <th>2018-05-01 00:00:00</th>\n",
              "      <th>2018-06-01 00:00:00</th>\n",
              "      <th>2018-07-01 00:00:00</th>\n",
              "      <th>2018-08-01 00:00:00</th>\n",
              "      <th>2018-09-01 00:00:00</th>\n",
              "      <th>2018-10-01 00:00:00</th>\n",
              "      <th>2018-11-01 00:00:00</th>\n",
              "      <th>2018-12-01 00:00:00</th>\n",
              "    </tr>\n",
              "  </thead>\n",
              "  <tbody>\n",
              "    <tr>\n",
              "      <th>60</th>\n",
              "      <td>UNITED KINGDOM</td>\n",
              "      <td>=Indigenous Production</td>\n",
              "      <td>32679</td>\n",
              "      <td>31557</td>\n",
              "      <td>35386</td>\n",
              "      <td>28510</td>\n",
              "      <td>27058</td>\n",
              "      <td>28916</td>\n",
              "      <td>25388</td>\n",
              "      <td>24289</td>\n",
              "      <td>...</td>\n",
              "      <td>30385.037</td>\n",
              "      <td>26154.641</td>\n",
              "      <td>24327.645</td>\n",
              "      <td>22996.213</td>\n",
              "      <td>23765.974</td>\n",
              "      <td>23702.335</td>\n",
              "      <td>23990.332</td>\n",
              "      <td>26829.961</td>\n",
              "      <td>28285.923</td>\n",
              "      <td>28392.097</td>\n",
              "    </tr>\n",
              "    <tr>\n",
              "      <th>63</th>\n",
              "      <td>UNITED KINGDOM</td>\n",
              "      <td>= Electricity Supplied</td>\n",
              "      <td>33466</td>\n",
              "      <td>32603</td>\n",
              "      <td>36791</td>\n",
              "      <td>29534</td>\n",
              "      <td>28347</td>\n",
              "      <td>30382</td>\n",
              "      <td>26494</td>\n",
              "      <td>25511</td>\n",
              "      <td>...</td>\n",
              "      <td>31889.845</td>\n",
              "      <td>27772.320</td>\n",
              "      <td>26035.573</td>\n",
              "      <td>24629.997</td>\n",
              "      <td>25660.963</td>\n",
              "      <td>25316.309</td>\n",
              "      <td>25188.824</td>\n",
              "      <td>27660.944</td>\n",
              "      <td>29375.256</td>\n",
              "      <td>29943.583</td>\n",
              "    </tr>\n",
              "    <tr>\n",
              "      <th>19</th>\n",
              "      <td>BELGIUM</td>\n",
              "      <td>+ Geothermal/Other</td>\n",
              "      <td>1</td>\n",
              "      <td>1</td>\n",
              "      <td>1</td>\n",
              "      <td>1</td>\n",
              "      <td>1</td>\n",
              "      <td>1</td>\n",
              "      <td>1</td>\n",
              "      <td>1</td>\n",
              "      <td>...</td>\n",
              "      <td>1073.096</td>\n",
              "      <td>990.905</td>\n",
              "      <td>965.869</td>\n",
              "      <td>898.266</td>\n",
              "      <td>931.589</td>\n",
              "      <td>902.705</td>\n",
              "      <td>823.398</td>\n",
              "      <td>920.286</td>\n",
              "      <td>982.105</td>\n",
              "      <td>1129.047</td>\n",
              "    </tr>\n",
              "    <tr>\n",
              "      <th>17</th>\n",
              "      <td>BELGIUM</td>\n",
              "      <td>+ Nuclear</td>\n",
              "      <td>4101</td>\n",
              "      <td>3069</td>\n",
              "      <td>3917</td>\n",
              "      <td>3561</td>\n",
              "      <td>3662</td>\n",
              "      <td>3547</td>\n",
              "      <td>3336</td>\n",
              "      <td>3755</td>\n",
              "      <td>...</td>\n",
              "      <td>3640.093</td>\n",
              "      <td>2713.188</td>\n",
              "      <td>2438.077</td>\n",
              "      <td>2077.419</td>\n",
              "      <td>2175.661</td>\n",
              "      <td>1878.140</td>\n",
              "      <td>1376.825</td>\n",
              "      <td>991.276</td>\n",
              "      <td>1127.076</td>\n",
              "      <td>1628.774</td>\n",
              "    </tr>\n",
              "    <tr>\n",
              "      <th>37</th>\n",
              "      <td>SWEDEN</td>\n",
              "      <td>+ Imports</td>\n",
              "      <td>1130</td>\n",
              "      <td>938</td>\n",
              "      <td>1576</td>\n",
              "      <td>1228</td>\n",
              "      <td>1869</td>\n",
              "      <td>1974</td>\n",
              "      <td>1557</td>\n",
              "      <td>1835</td>\n",
              "      <td>...</td>\n",
              "      <td>1384.791</td>\n",
              "      <td>867.690</td>\n",
              "      <td>509.421</td>\n",
              "      <td>865.458</td>\n",
              "      <td>1240.044</td>\n",
              "      <td>1342.427</td>\n",
              "      <td>1129.024</td>\n",
              "      <td>1205.569</td>\n",
              "      <td>1284.362</td>\n",
              "      <td>886.143</td>\n",
              "    </tr>\n",
              "  </tbody>\n",
              "</table>\n",
              "<p>5 rows × 230 columns</p>\n",
              "</div>"
            ],
            "text/plain": [
              "           country        elec_consumption  2000-01-01 00:00:00  \\\n",
              "60  UNITED KINGDOM  =Indigenous Production                32679   \n",
              "63  UNITED KINGDOM  = Electricity Supplied                33466   \n",
              "19         BELGIUM      + Geothermal/Other                    1   \n",
              "17         BELGIUM               + Nuclear                 4101   \n",
              "37          SWEDEN               + Imports                 1130   \n",
              "\n",
              "    2000-02-01 00:00:00  2000-03-01 00:00:00  2000-04-01 00:00:00  \\\n",
              "60                31557                35386                28510   \n",
              "63                32603                36791                29534   \n",
              "19                    1                    1                    1   \n",
              "17                 3069                 3917                 3561   \n",
              "37                  938                 1576                 1228   \n",
              "\n",
              "    2000-05-01 00:00:00  2000-06-01 00:00:00  2000-07-01 00:00:00  \\\n",
              "60                27058                28916                25388   \n",
              "63                28347                30382                26494   \n",
              "19                    1                    1                    1   \n",
              "17                 3662                 3547                 3336   \n",
              "37                 1869                 1974                 1557   \n",
              "\n",
              "    2000-08-01 00:00:00         ...           2018-03-01 00:00:00  \\\n",
              "60                24289         ...                     30385.037   \n",
              "63                25511         ...                     31889.845   \n",
              "19                    1         ...                      1073.096   \n",
              "17                 3755         ...                      3640.093   \n",
              "37                 1835         ...                      1384.791   \n",
              "\n",
              "    2018-04-01 00:00:00  2018-05-01 00:00:00  2018-06-01 00:00:00  \\\n",
              "60            26154.641            24327.645            22996.213   \n",
              "63            27772.320            26035.573            24629.997   \n",
              "19              990.905              965.869              898.266   \n",
              "17             2713.188             2438.077             2077.419   \n",
              "37              867.690              509.421              865.458   \n",
              "\n",
              "    2018-07-01 00:00:00  2018-08-01 00:00:00  2018-09-01 00:00:00  \\\n",
              "60            23765.974            23702.335            23990.332   \n",
              "63            25660.963            25316.309            25188.824   \n",
              "19              931.589              902.705              823.398   \n",
              "17             2175.661             1878.140             1376.825   \n",
              "37             1240.044             1342.427             1129.024   \n",
              "\n",
              "    2018-10-01 00:00:00  2018-11-01 00:00:00  2018-12-01 00:00:00  \n",
              "60            26829.961            28285.923            28392.097  \n",
              "63            27660.944            29375.256            29943.583  \n",
              "19              920.286              982.105             1129.047  \n",
              "17              991.276             1127.076             1628.774  \n",
              "37             1205.569             1284.362              886.143  \n",
              "\n",
              "[5 rows x 230 columns]"
            ]
          },
          "metadata": {
            "tags": []
          },
          "execution_count": 118
        }
      ]
    },
    {
      "metadata": {
        "id": "wkP7JhZN0ALd",
        "colab_type": "code",
        "colab": {
          "base_uri": "https://localhost:8080/",
          "height": 67
        },
        "outputId": "fb28a409-9380-47f9-8e4e-be6a941d4c8c"
      },
      "cell_type": "code",
      "source": [
        "df1['elec_consumption'].unique()"
      ],
      "execution_count": 121,
      "outputs": [
        {
          "output_type": "execute_result",
          "data": {
            "text/plain": [
              "array(['+ Combustible Fuels', '+ Nuclear', '+ Hydro',\n",
              "       '+ Geothermal/Other', '=Indigenous Production', '+ Imports',\n",
              "       '- Exports', '= Electricity Supplied'], dtype=object)"
            ]
          },
          "metadata": {
            "tags": []
          },
          "execution_count": 121
        }
      ]
    },
    {
      "metadata": {
        "id": "iMLLTnh5yfJF",
        "colab_type": "code",
        "colab": {}
      },
      "cell_type": "code",
      "source": [
        "df_elec = df1[(df1['elec_consumption'] == '= Electricity Supplied')]"
      ],
      "execution_count": 0,
      "outputs": []
    },
    {
      "metadata": {
        "id": "rPPCi9DXz6cc",
        "colab_type": "code",
        "colab": {
          "base_uri": "https://localhost:8080/",
          "height": 362
        },
        "outputId": "192f5c44-b6c7-4e50-e96b-9d6c75eac71a"
      },
      "cell_type": "code",
      "source": [
        "df_elec.drop(labels='elec_consumption', axis=1, inplace=True)\n",
        "df_elec.head()\n",
        "# this is what we reallywant, total electricity consumption in GwH"
      ],
      "execution_count": 143,
      "outputs": [
        {
          "output_type": "stream",
          "text": [
            "/usr/local/lib/python3.6/dist-packages/ipykernel_launcher.py:1: SettingWithCopyWarning: \n",
            "A value is trying to be set on a copy of a slice from a DataFrame\n",
            "\n",
            "See the caveats in the documentation: http://pandas.pydata.org/pandas-docs/stable/indexing.html#indexing-view-versus-copy\n",
            "  \"\"\"Entry point for launching an IPython kernel.\n"
          ],
          "name": "stderr"
        },
        {
          "output_type": "execute_result",
          "data": {
            "text/html": [
              "<div>\n",
              "<style scoped>\n",
              "    .dataframe tbody tr th:only-of-type {\n",
              "        vertical-align: middle;\n",
              "    }\n",
              "\n",
              "    .dataframe tbody tr th {\n",
              "        vertical-align: top;\n",
              "    }\n",
              "\n",
              "    .dataframe thead th {\n",
              "        text-align: right;\n",
              "    }\n",
              "</style>\n",
              "<table border=\"1\" class=\"dataframe\">\n",
              "  <thead>\n",
              "    <tr style=\"text-align: right;\">\n",
              "      <th></th>\n",
              "      <th>country</th>\n",
              "      <th>2000-01-01 00:00:00</th>\n",
              "      <th>2000-02-01 00:00:00</th>\n",
              "      <th>2000-03-01 00:00:00</th>\n",
              "      <th>2000-04-01 00:00:00</th>\n",
              "      <th>2000-05-01 00:00:00</th>\n",
              "      <th>2000-06-01 00:00:00</th>\n",
              "      <th>2000-07-01 00:00:00</th>\n",
              "      <th>2000-08-01 00:00:00</th>\n",
              "      <th>2000-09-01 00:00:00</th>\n",
              "      <th>...</th>\n",
              "      <th>2018-03-01 00:00:00</th>\n",
              "      <th>2018-04-01 00:00:00</th>\n",
              "      <th>2018-05-01 00:00:00</th>\n",
              "      <th>2018-06-01 00:00:00</th>\n",
              "      <th>2018-07-01 00:00:00</th>\n",
              "      <th>2018-08-01 00:00:00</th>\n",
              "      <th>2018-09-01 00:00:00</th>\n",
              "      <th>2018-10-01 00:00:00</th>\n",
              "      <th>2018-11-01 00:00:00</th>\n",
              "      <th>2018-12-01 00:00:00</th>\n",
              "    </tr>\n",
              "  </thead>\n",
              "  <tbody>\n",
              "    <tr>\n",
              "      <th>7</th>\n",
              "      <td>AUSTRALIA</td>\n",
              "      <td>15947</td>\n",
              "      <td>15941</td>\n",
              "      <td>15920</td>\n",
              "      <td>16370</td>\n",
              "      <td>16362</td>\n",
              "      <td>16376</td>\n",
              "      <td>17060</td>\n",
              "      <td>17050</td>\n",
              "      <td>17039</td>\n",
              "      <td>...</td>\n",
              "      <td>20623.168</td>\n",
              "      <td>19049.186</td>\n",
              "      <td>20025.355</td>\n",
              "      <td>21106.515</td>\n",
              "      <td>21277.615</td>\n",
              "      <td>21135.555</td>\n",
              "      <td>19129.448</td>\n",
              "      <td>19157.929</td>\n",
              "      <td>19105.374</td>\n",
              "      <td>20449.693</td>\n",
              "    </tr>\n",
              "    <tr>\n",
              "      <th>15</th>\n",
              "      <td>AUSTRIA</td>\n",
              "      <td>5496</td>\n",
              "      <td>5011</td>\n",
              "      <td>5196</td>\n",
              "      <td>4606</td>\n",
              "      <td>4516</td>\n",
              "      <td>4353</td>\n",
              "      <td>4536</td>\n",
              "      <td>4483</td>\n",
              "      <td>4651</td>\n",
              "      <td>...</td>\n",
              "      <td>6898.876</td>\n",
              "      <td>5717.977</td>\n",
              "      <td>5662.147</td>\n",
              "      <td>5578.271</td>\n",
              "      <td>5605.814</td>\n",
              "      <td>5776.974</td>\n",
              "      <td>5755.544</td>\n",
              "      <td>6226.108</td>\n",
              "      <td>6397.011</td>\n",
              "      <td>6846.912</td>\n",
              "    </tr>\n",
              "    <tr>\n",
              "      <th>23</th>\n",
              "      <td>BELGIUM</td>\n",
              "      <td>7696</td>\n",
              "      <td>7242</td>\n",
              "      <td>7563</td>\n",
              "      <td>6812</td>\n",
              "      <td>6830</td>\n",
              "      <td>6462</td>\n",
              "      <td>6307</td>\n",
              "      <td>6429</td>\n",
              "      <td>6717</td>\n",
              "      <td>...</td>\n",
              "      <td>8237.257</td>\n",
              "      <td>7117.822</td>\n",
              "      <td>7120.987</td>\n",
              "      <td>6906.738</td>\n",
              "      <td>7050.026</td>\n",
              "      <td>6937.855</td>\n",
              "      <td>6788.497</td>\n",
              "      <td>7436.242</td>\n",
              "      <td>7655.145</td>\n",
              "      <td>7906.133</td>\n",
              "    </tr>\n",
              "    <tr>\n",
              "      <th>31</th>\n",
              "      <td>CANADA</td>\n",
              "      <td>54479</td>\n",
              "      <td>49009</td>\n",
              "      <td>47972</td>\n",
              "      <td>43255</td>\n",
              "      <td>42674</td>\n",
              "      <td>41318</td>\n",
              "      <td>41733</td>\n",
              "      <td>42775</td>\n",
              "      <td>41125</td>\n",
              "      <td>...</td>\n",
              "      <td>53883.451</td>\n",
              "      <td>48024.485</td>\n",
              "      <td>44613.695</td>\n",
              "      <td>43447.221</td>\n",
              "      <td>47329.112</td>\n",
              "      <td>47395.937</td>\n",
              "      <td>44140.237</td>\n",
              "      <td>48168.848</td>\n",
              "      <td>52941.991</td>\n",
              "      <td>57520.888</td>\n",
              "    </tr>\n",
              "    <tr>\n",
              "      <th>39</th>\n",
              "      <td>SWEDEN</td>\n",
              "      <td>14907</td>\n",
              "      <td>13906</td>\n",
              "      <td>14215</td>\n",
              "      <td>11895</td>\n",
              "      <td>10892</td>\n",
              "      <td>9783</td>\n",
              "      <td>9361</td>\n",
              "      <td>10456</td>\n",
              "      <td>11080</td>\n",
              "      <td>...</td>\n",
              "      <td>14859.112</td>\n",
              "      <td>11207.536</td>\n",
              "      <td>9775.073</td>\n",
              "      <td>8910.630</td>\n",
              "      <td>8472.861</td>\n",
              "      <td>9182.441</td>\n",
              "      <td>9560.354</td>\n",
              "      <td>11173.143</td>\n",
              "      <td>12460.198</td>\n",
              "      <td>14052.092</td>\n",
              "    </tr>\n",
              "  </tbody>\n",
              "</table>\n",
              "<p>5 rows × 229 columns</p>\n",
              "</div>"
            ],
            "text/plain": [
              "      country  2000-01-01 00:00:00  2000-02-01 00:00:00  2000-03-01 00:00:00  \\\n",
              "7   AUSTRALIA                15947                15941                15920   \n",
              "15    AUSTRIA                 5496                 5011                 5196   \n",
              "23    BELGIUM                 7696                 7242                 7563   \n",
              "31     CANADA                54479                49009                47972   \n",
              "39     SWEDEN                14907                13906                14215   \n",
              "\n",
              "    2000-04-01 00:00:00  2000-05-01 00:00:00  2000-06-01 00:00:00  \\\n",
              "7                 16370                16362                16376   \n",
              "15                 4606                 4516                 4353   \n",
              "23                 6812                 6830                 6462   \n",
              "31                43255                42674                41318   \n",
              "39                11895                10892                 9783   \n",
              "\n",
              "    2000-07-01 00:00:00  2000-08-01 00:00:00  2000-09-01 00:00:00  \\\n",
              "7                 17060                17050                17039   \n",
              "15                 4536                 4483                 4651   \n",
              "23                 6307                 6429                 6717   \n",
              "31                41733                42775                41125   \n",
              "39                 9361                10456                11080   \n",
              "\n",
              "           ...           2018-03-01 00:00:00  2018-04-01 00:00:00  \\\n",
              "7          ...                     20623.168            19049.186   \n",
              "15         ...                      6898.876             5717.977   \n",
              "23         ...                      8237.257             7117.822   \n",
              "31         ...                     53883.451            48024.485   \n",
              "39         ...                     14859.112            11207.536   \n",
              "\n",
              "    2018-05-01 00:00:00  2018-06-01 00:00:00  2018-07-01 00:00:00  \\\n",
              "7             20025.355            21106.515            21277.615   \n",
              "15             5662.147             5578.271             5605.814   \n",
              "23             7120.987             6906.738             7050.026   \n",
              "31            44613.695            43447.221            47329.112   \n",
              "39             9775.073             8910.630             8472.861   \n",
              "\n",
              "    2018-08-01 00:00:00  2018-09-01 00:00:00  2018-10-01 00:00:00  \\\n",
              "7             21135.555            19129.448            19157.929   \n",
              "15             5776.974             5755.544             6226.108   \n",
              "23             6937.855             6788.497             7436.242   \n",
              "31            47395.937            44140.237            48168.848   \n",
              "39             9182.441             9560.354            11173.143   \n",
              "\n",
              "    2018-11-01 00:00:00  2018-12-01 00:00:00  \n",
              "7             19105.374            20449.693  \n",
              "15             6397.011             6846.912  \n",
              "23             7655.145             7906.133  \n",
              "31            52941.991            57520.888  \n",
              "39            12460.198            14052.092  \n",
              "\n",
              "[5 rows x 229 columns]"
            ]
          },
          "metadata": {
            "tags": []
          },
          "execution_count": 143
        }
      ]
    },
    {
      "metadata": {
        "id": "cON3-YODCkQW",
        "colab_type": "code",
        "colab": {
          "base_uri": "https://localhost:8080/",
          "height": 195
        },
        "outputId": "20f48369-3099-41e5-c07d-04187f22d1af"
      },
      "cell_type": "code",
      "source": [
        "tidy = df_elec.melt(id_vars='country').rename(columns = {'variable': 'Time', 'value': 'Electricity Consumper per Month (GWh)'})\n",
        "tidy.head()"
      ],
      "execution_count": 192,
      "outputs": [
        {
          "output_type": "execute_result",
          "data": {
            "text/html": [
              "<div>\n",
              "<style scoped>\n",
              "    .dataframe tbody tr th:only-of-type {\n",
              "        vertical-align: middle;\n",
              "    }\n",
              "\n",
              "    .dataframe tbody tr th {\n",
              "        vertical-align: top;\n",
              "    }\n",
              "\n",
              "    .dataframe thead th {\n",
              "        text-align: right;\n",
              "    }\n",
              "</style>\n",
              "<table border=\"1\" class=\"dataframe\">\n",
              "  <thead>\n",
              "    <tr style=\"text-align: right;\">\n",
              "      <th></th>\n",
              "      <th>country</th>\n",
              "      <th>Time</th>\n",
              "      <th>Electricity Consumper per Month (GWh)</th>\n",
              "    </tr>\n",
              "  </thead>\n",
              "  <tbody>\n",
              "    <tr>\n",
              "      <th>0</th>\n",
              "      <td>AUSTRALIA</td>\n",
              "      <td>2000-01-01</td>\n",
              "      <td>15947.0</td>\n",
              "    </tr>\n",
              "    <tr>\n",
              "      <th>1</th>\n",
              "      <td>AUSTRIA</td>\n",
              "      <td>2000-01-01</td>\n",
              "      <td>5496.0</td>\n",
              "    </tr>\n",
              "    <tr>\n",
              "      <th>2</th>\n",
              "      <td>BELGIUM</td>\n",
              "      <td>2000-01-01</td>\n",
              "      <td>7696.0</td>\n",
              "    </tr>\n",
              "    <tr>\n",
              "      <th>3</th>\n",
              "      <td>CANADA</td>\n",
              "      <td>2000-01-01</td>\n",
              "      <td>54479.0</td>\n",
              "    </tr>\n",
              "    <tr>\n",
              "      <th>4</th>\n",
              "      <td>SWEDEN</td>\n",
              "      <td>2000-01-01</td>\n",
              "      <td>14907.0</td>\n",
              "    </tr>\n",
              "  </tbody>\n",
              "</table>\n",
              "</div>"
            ],
            "text/plain": [
              "     country       Time  Electricity Consumper per Month (GWh)\n",
              "0  AUSTRALIA 2000-01-01                                15947.0\n",
              "1    AUSTRIA 2000-01-01                                 5496.0\n",
              "2    BELGIUM 2000-01-01                                 7696.0\n",
              "3     CANADA 2000-01-01                                54479.0\n",
              "4     SWEDEN 2000-01-01                                14907.0"
            ]
          },
          "metadata": {
            "tags": []
          },
          "execution_count": 192
        }
      ]
    },
    {
      "metadata": {
        "id": "Xn6cT23lHSf6",
        "colab_type": "code",
        "colab": {
          "base_uri": "https://localhost:8080/",
          "height": 84
        },
        "outputId": "ff8d5a95-5411-41f3-b3e6-5e0feabf8795"
      },
      "cell_type": "code",
      "source": [
        "tidy.dtypes"
      ],
      "execution_count": 193,
      "outputs": [
        {
          "output_type": "execute_result",
          "data": {
            "text/plain": [
              "country                                          object\n",
              "Time                                     datetime64[ns]\n",
              "Electricity Consumper per Month (GWh)           float64\n",
              "dtype: object"
            ]
          },
          "metadata": {
            "tags": []
          },
          "execution_count": 193
        }
      ]
    },
    {
      "metadata": {
        "id": "1PVTof3dGnx1",
        "colab_type": "code",
        "colab": {
          "base_uri": "https://localhost:8080/",
          "height": 372
        },
        "outputId": "e525bed1-3f3d-4bdf-9fb8-01232e687e02"
      },
      "cell_type": "code",
      "source": [
        "import altair as alt\n",
        "\n",
        "alt.Chart(tidy).mark_line().encode(\n",
        "              x='Time',\n",
        "              y='Electricity Consumper per Month (GWh)',\n",
        "              color='country'\n",
        ")"
      ],
      "execution_count": 194,
      "outputs": [
        {
          "output_type": "execute_result",
          "data": {
            "text/plain": [
              "Chart({\n",
              "  data:              country       Time  Electricity Consumper per Month (GWh)\n",
              "  0          AUSTRALIA 2000-01-01                              15947.000\n",
              "  1            AUSTRIA 2000-01-01                               5496.000\n",
              "  2            BELGIUM 2000-01-01                               7696.000\n",
              "  3             CANADA 2000-01-01                              54479.000\n",
              "  4             SWEDEN 2000-01-01                              14907.000\n",
              "  5        SWITZERLAND 2000-01-01                               5560.000\n",
              "  6             TURKEY 2000-01-01                              10836.000\n",
              "  7     UNITED KINGDOM 2000-01-01                              33466.000\n",
              "  8      UNITED STATES 2000-01-01                             327718.000\n",
              "  9          AUSTRALIA 2000-02-01                              15941.000\n",
              "  10           AUSTRIA 2000-02-01                               5011.000\n",
              "  11           BELGIUM 2000-02-01                               7242.000\n",
              "  12            CANADA 2000-02-01                              49009.000\n",
              "  13            SWEDEN 2000-02-01                              13906.000\n",
              "  14       SWITZERLAND 2000-02-01                               5074.000\n",
              "  15            TURKEY 2000-02-01                              10572.000\n",
              "  16    UNITED KINGDOM 2000-02-01                              32603.000\n",
              "  17     UNITED STATES 2000-02-01                             294305.000\n",
              "  18         AUSTRALIA 2000-03-01                              15920.000\n",
              "  19           AUSTRIA 2000-03-01                               5196.000\n",
              "  20           BELGIUM 2000-03-01                               7563.000\n",
              "  21            CANADA 2000-03-01                              47972.000\n",
              "  22            SWEDEN 2000-03-01                              14215.000\n",
              "  23       SWITZERLAND 2000-03-01                               5141.000\n",
              "  24            TURKEY 2000-03-01                              10556.000\n",
              "  25    UNITED KINGDOM 2000-03-01                              36791.000\n",
              "  26     UNITED STATES 2000-03-01                             297826.000\n",
              "  27         AUSTRALIA 2000-04-01                              16370.000\n",
              "  28           AUSTRIA 2000-04-01                               4606.000\n",
              "  29           BELGIUM 2000-04-01                               6812.000\n",
              "  ...              ...        ...                                    ...\n",
              "  2022          TURKEY 2018-09-01                              24272.404\n",
              "  2023  UNITED KINGDOM 2018-09-01                              25188.824\n",
              "  2024   UNITED STATES 2018-09-01                             364865.471\n",
              "  2025       AUSTRALIA 2018-10-01                              19157.929\n",
              "  2026         AUSTRIA 2018-10-01                               6226.108\n",
              "  2027         BELGIUM 2018-10-01                               7436.242\n",
              "  2028          CANADA 2018-10-01                              48168.848\n",
              "  2029          SWEDEN 2018-10-01                              11173.143\n",
              "  2030     SWITZERLAND 2018-10-01                               5037.350\n",
              "  2031          TURKEY 2018-10-01                              22638.700\n",
              "  2032  UNITED KINGDOM 2018-10-01                              27660.944\n",
              "  2033   UNITED STATES 2018-10-01                             331479.502\n",
              "  2034       AUSTRALIA 2018-11-01                              19105.374\n",
              "  2035         AUSTRIA 2018-11-01                               6397.011\n",
              "  2036         BELGIUM 2018-11-01                               7655.145\n",
              "  2037          CANADA 2018-11-01                              52941.991\n",
              "  2038          SWEDEN 2018-11-01                              12460.198\n",
              "  2039     SWITZERLAND 2018-11-01                               5812.055\n",
              "  2040          TURKEY 2018-11-01                              23012.606\n",
              "  2041  UNITED KINGDOM 2018-11-01                              29375.256\n",
              "  2042   UNITED STATES 2018-11-01                             327820.780\n",
              "  2043       AUSTRALIA 2018-12-01                              20449.693\n",
              "  2044         AUSTRIA 2018-12-01                               6846.912\n",
              "  2045         BELGIUM 2018-12-01                               7906.133\n",
              "  2046          CANADA 2018-12-01                              57520.888\n",
              "  2047          SWEDEN 2018-12-01                              14052.092\n",
              "  2048     SWITZERLAND 2018-12-01                               6143.523\n",
              "  2049          TURKEY 2018-12-01                              24656.185\n",
              "  2050  UNITED KINGDOM 2018-12-01                              29943.583\n",
              "  2051   UNITED STATES 2018-12-01                             343587.247\n",
              "  \n",
              "  [2052 rows x 3 columns],\n",
              "  encoding: EncodingWithFacet({\n",
              "    color: Color({\n",
              "      shorthand: 'country'\n",
              "    }),\n",
              "    x: X({\n",
              "      shorthand: 'Time'\n",
              "    }),\n",
              "    y: Y({\n",
              "      shorthand: 'Electricity Consumper per Month (GWh)'\n",
              "    })\n",
              "  }),\n",
              "  mark: 'line'\n",
              "})"
            ],
            "text/html": [
              "<!DOCTYPE html>\n",
              "<html>\n",
              "<head>\n",
              "  <style>\n",
              "    .vega-actions a {\n",
              "        margin-right: 12px;\n",
              "        color: #757575;\n",
              "        font-weight: normal;\n",
              "        font-size: 13px;\n",
              "    }\n",
              "    .error {\n",
              "        color: red;\n",
              "    }\n",
              "  </style>\n",
              "  <script type=\"text/javascript\" src=\"https://cdn.jsdelivr.net/npm//vega@4\"></script>\n",
              "  <script type=\"text/javascript\" src=\"https://cdn.jsdelivr.net/npm//vega-lite@2.6.0\"></script>\n",
              "  <script type=\"text/javascript\" src=\"https://cdn.jsdelivr.net/npm//vega-embed@3\"></script>\n",
              "</head>\n",
              "<body>\n",
              "  <div id=\"altair-viz\"></div>\n",
              "  <script>\n",
              "      var spec = {\"config\": {\"view\": {\"width\": 400, \"height\": 300}}, \"data\": {\"name\": \"data-984253a26b3e563fdfae56f82cb59d03\"}, \"mark\": \"line\", \"encoding\": {\"color\": {\"type\": \"nominal\", \"field\": \"country\"}, \"x\": {\"type\": \"temporal\", \"field\": \"Time\"}, \"y\": {\"type\": \"quantitative\", \"field\": \"Electricity Consumper per Month (GWh)\"}}, \"$schema\": \"https://vega.github.io/schema/vega-lite/v2.6.0.json\", \"datasets\": {\"data-984253a26b3e563fdfae56f82cb59d03\": [{\"country\": \"AUSTRALIA\", \"Time\": \"2000-01-01T00:00:00\", \"Electricity Consumper per Month (GWh)\": 15947.0}, {\"country\": \"AUSTRIA\", \"Time\": \"2000-01-01T00:00:00\", \"Electricity Consumper per Month (GWh)\": 5496.0}, {\"country\": \"BELGIUM\", \"Time\": \"2000-01-01T00:00:00\", \"Electricity Consumper per Month (GWh)\": 7696.0}, {\"country\": \"CANADA\", \"Time\": \"2000-01-01T00:00:00\", \"Electricity Consumper per Month (GWh)\": 54479.0}, {\"country\": \"SWEDEN\", \"Time\": \"2000-01-01T00:00:00\", \"Electricity Consumper per Month (GWh)\": 14907.0}, {\"country\": \"SWITZERLAND\", \"Time\": \"2000-01-01T00:00:00\", \"Electricity Consumper per Month (GWh)\": 5560.0}, {\"country\": \"TURKEY\", \"Time\": \"2000-01-01T00:00:00\", \"Electricity Consumper per Month (GWh)\": 10836.0}, {\"country\": \"UNITED KINGDOM\", \"Time\": \"2000-01-01T00:00:00\", \"Electricity Consumper per Month (GWh)\": 33466.0}, {\"country\": \"UNITED STATES\", \"Time\": \"2000-01-01T00:00:00\", \"Electricity Consumper per Month (GWh)\": 327718.0}, {\"country\": \"AUSTRALIA\", \"Time\": \"2000-02-01T00:00:00\", \"Electricity Consumper per Month (GWh)\": 15941.0}, {\"country\": \"AUSTRIA\", \"Time\": \"2000-02-01T00:00:00\", \"Electricity Consumper per Month (GWh)\": 5011.0}, {\"country\": \"BELGIUM\", \"Time\": \"2000-02-01T00:00:00\", \"Electricity Consumper per Month (GWh)\": 7242.0}, {\"country\": \"CANADA\", \"Time\": \"2000-02-01T00:00:00\", \"Electricity Consumper per Month (GWh)\": 49009.0}, {\"country\": \"SWEDEN\", \"Time\": \"2000-02-01T00:00:00\", \"Electricity Consumper per Month (GWh)\": 13906.0}, {\"country\": \"SWITZERLAND\", \"Time\": \"2000-02-01T00:00:00\", \"Electricity Consumper per Month (GWh)\": 5074.0}, {\"country\": \"TURKEY\", \"Time\": \"2000-02-01T00:00:00\", \"Electricity Consumper per Month (GWh)\": 10572.0}, {\"country\": \"UNITED KINGDOM\", \"Time\": \"2000-02-01T00:00:00\", \"Electricity Consumper per Month (GWh)\": 32603.0}, {\"country\": \"UNITED STATES\", \"Time\": \"2000-02-01T00:00:00\", \"Electricity Consumper per Month (GWh)\": 294305.0}, {\"country\": \"AUSTRALIA\", \"Time\": \"2000-03-01T00:00:00\", \"Electricity Consumper per Month (GWh)\": 15920.0}, {\"country\": \"AUSTRIA\", \"Time\": \"2000-03-01T00:00:00\", \"Electricity Consumper per Month (GWh)\": 5196.0}, {\"country\": \"BELGIUM\", \"Time\": \"2000-03-01T00:00:00\", \"Electricity Consumper per Month (GWh)\": 7563.0}, {\"country\": \"CANADA\", \"Time\": \"2000-03-01T00:00:00\", \"Electricity Consumper per Month (GWh)\": 47972.0}, {\"country\": \"SWEDEN\", \"Time\": \"2000-03-01T00:00:00\", \"Electricity Consumper per Month (GWh)\": 14215.0}, {\"country\": \"SWITZERLAND\", \"Time\": \"2000-03-01T00:00:00\", \"Electricity Consumper per Month (GWh)\": 5141.0}, {\"country\": \"TURKEY\", \"Time\": \"2000-03-01T00:00:00\", \"Electricity Consumper per Month (GWh)\": 10556.0}, {\"country\": \"UNITED KINGDOM\", \"Time\": \"2000-03-01T00:00:00\", \"Electricity Consumper per Month (GWh)\": 36791.0}, {\"country\": \"UNITED STATES\", \"Time\": \"2000-03-01T00:00:00\", \"Electricity Consumper per Month (GWh)\": 297826.0}, {\"country\": \"AUSTRALIA\", \"Time\": \"2000-04-01T00:00:00\", \"Electricity Consumper per Month (GWh)\": 16370.0}, {\"country\": \"AUSTRIA\", \"Time\": \"2000-04-01T00:00:00\", \"Electricity Consumper per Month (GWh)\": 4606.0}, {\"country\": \"BELGIUM\", \"Time\": \"2000-04-01T00:00:00\", \"Electricity Consumper per Month (GWh)\": 6812.0}, {\"country\": \"CANADA\", \"Time\": \"2000-04-01T00:00:00\", \"Electricity Consumper per Month (GWh)\": 43255.0}, {\"country\": \"SWEDEN\", \"Time\": \"2000-04-01T00:00:00\", \"Electricity Consumper per Month (GWh)\": 11895.0}, {\"country\": \"SWITZERLAND\", \"Time\": \"2000-04-01T00:00:00\", \"Electricity Consumper per Month (GWh)\": 4579.0}, {\"country\": \"TURKEY\", \"Time\": \"2000-04-01T00:00:00\", \"Electricity Consumper per Month (GWh)\": 9418.0}, {\"country\": \"UNITED KINGDOM\", \"Time\": \"2000-04-01T00:00:00\", \"Electricity Consumper per Month (GWh)\": 29534.0}, {\"country\": \"UNITED STATES\", \"Time\": \"2000-04-01T00:00:00\", \"Electricity Consumper per Month (GWh)\": 281266.0}, {\"country\": \"AUSTRALIA\", \"Time\": \"2000-05-01T00:00:00\", \"Electricity Consumper per Month (GWh)\": 16362.0}, {\"country\": \"AUSTRIA\", \"Time\": \"2000-05-01T00:00:00\", \"Electricity Consumper per Month (GWh)\": 4516.0}, {\"country\": \"BELGIUM\", \"Time\": \"2000-05-01T00:00:00\", \"Electricity Consumper per Month (GWh)\": 6830.0}, {\"country\": \"CANADA\", \"Time\": \"2000-05-01T00:00:00\", \"Electricity Consumper per Month (GWh)\": 42674.0}, {\"country\": \"SWEDEN\", \"Time\": \"2000-05-01T00:00:00\", \"Electricity Consumper per Month (GWh)\": 10892.0}, {\"country\": \"SWITZERLAND\", \"Time\": \"2000-05-01T00:00:00\", \"Electricity Consumper per Month (GWh)\": 4674.0}, {\"country\": \"TURKEY\", \"Time\": \"2000-05-01T00:00:00\", \"Electricity Consumper per Month (GWh)\": 9623.0}, {\"country\": \"UNITED KINGDOM\", \"Time\": \"2000-05-01T00:00:00\", \"Electricity Consumper per Month (GWh)\": 28347.0}, {\"country\": \"UNITED STATES\", \"Time\": \"2000-05-01T00:00:00\", \"Electricity Consumper per Month (GWh)\": 315839.0}, {\"country\": \"AUSTRALIA\", \"Time\": \"2000-06-01T00:00:00\", \"Electricity Consumper per Month (GWh)\": 16376.0}, {\"country\": \"AUSTRIA\", \"Time\": \"2000-06-01T00:00:00\", \"Electricity Consumper per Month (GWh)\": 4353.0}, {\"country\": \"BELGIUM\", \"Time\": \"2000-06-01T00:00:00\", \"Electricity Consumper per Month (GWh)\": 6462.0}, {\"country\": \"CANADA\", \"Time\": \"2000-06-01T00:00:00\", \"Electricity Consumper per Month (GWh)\": 41318.0}, {\"country\": \"SWEDEN\", \"Time\": \"2000-06-01T00:00:00\", \"Electricity Consumper per Month (GWh)\": 9783.0}, {\"country\": \"SWITZERLAND\", \"Time\": \"2000-06-01T00:00:00\", \"Electricity Consumper per Month (GWh)\": 4489.0}, {\"country\": \"TURKEY\", \"Time\": \"2000-06-01T00:00:00\", \"Electricity Consumper per Month (GWh)\": 9668.0}, {\"country\": \"UNITED KINGDOM\", \"Time\": \"2000-06-01T00:00:00\", \"Electricity Consumper per Month (GWh)\": 30382.0}, {\"country\": \"UNITED STATES\", \"Time\": \"2000-06-01T00:00:00\", \"Electricity Consumper per Month (GWh)\": 335602.0}, {\"country\": \"AUSTRALIA\", \"Time\": \"2000-07-01T00:00:00\", \"Electricity Consumper per Month (GWh)\": 17060.0}, {\"country\": \"AUSTRIA\", \"Time\": \"2000-07-01T00:00:00\", \"Electricity Consumper per Month (GWh)\": 4536.0}, {\"country\": \"BELGIUM\", \"Time\": \"2000-07-01T00:00:00\", \"Electricity Consumper per Month (GWh)\": 6307.0}, {\"country\": \"CANADA\", \"Time\": \"2000-07-01T00:00:00\", \"Electricity Consumper per Month (GWh)\": 41733.0}, {\"country\": \"SWEDEN\", \"Time\": \"2000-07-01T00:00:00\", \"Electricity Consumper per Month (GWh)\": 9361.0}, {\"country\": \"SWITZERLAND\", \"Time\": \"2000-07-01T00:00:00\", \"Electricity Consumper per Month (GWh)\": 4400.0}, {\"country\": \"TURKEY\", \"Time\": \"2000-07-01T00:00:00\", \"Electricity Consumper per Month (GWh)\": 10841.0}, {\"country\": \"UNITED KINGDOM\", \"Time\": \"2000-07-01T00:00:00\", \"Electricity Consumper per Month (GWh)\": 26494.0}, {\"country\": \"UNITED STATES\", \"Time\": \"2000-07-01T00:00:00\", \"Electricity Consumper per Month (GWh)\": 359246.0}, {\"country\": \"AUSTRALIA\", \"Time\": \"2000-08-01T00:00:00\", \"Electricity Consumper per Month (GWh)\": 17050.0}, {\"country\": \"AUSTRIA\", \"Time\": \"2000-08-01T00:00:00\", \"Electricity Consumper per Month (GWh)\": 4483.0}, {\"country\": \"BELGIUM\", \"Time\": \"2000-08-01T00:00:00\", \"Electricity Consumper per Month (GWh)\": 6429.0}, {\"country\": \"CANADA\", \"Time\": \"2000-08-01T00:00:00\", \"Electricity Consumper per Month (GWh)\": 42775.0}, {\"country\": \"SWEDEN\", \"Time\": \"2000-08-01T00:00:00\", \"Electricity Consumper per Month (GWh)\": 10456.0}, {\"country\": \"SWITZERLAND\", \"Time\": \"2000-08-01T00:00:00\", \"Electricity Consumper per Month (GWh)\": 4515.0}, {\"country\": \"TURKEY\", \"Time\": \"2000-08-01T00:00:00\", \"Electricity Consumper per Month (GWh)\": 8878.0}, {\"country\": \"UNITED KINGDOM\", \"Time\": \"2000-08-01T00:00:00\", \"Electricity Consumper per Month (GWh)\": 25511.0}, {\"country\": \"UNITED STATES\", \"Time\": \"2000-08-01T00:00:00\", \"Electricity Consumper per Month (GWh)\": 373613.0}, {\"country\": \"AUSTRALIA\", \"Time\": \"2000-09-01T00:00:00\", \"Electricity Consumper per Month (GWh)\": 17039.0}, {\"country\": \"AUSTRIA\", \"Time\": \"2000-09-01T00:00:00\", \"Electricity Consumper per Month (GWh)\": 4651.0}, {\"country\": \"BELGIUM\", \"Time\": \"2000-09-01T00:00:00\", \"Electricity Consumper per Month (GWh)\": 6717.0}, {\"country\": \"CANADA\", \"Time\": \"2000-09-01T00:00:00\", \"Electricity Consumper per Month (GWh)\": 41125.0}, {\"country\": \"SWEDEN\", \"Time\": \"2000-09-01T00:00:00\", \"Electricity Consumper per Month (GWh)\": 11080.0}, {\"country\": \"SWITZERLAND\", \"Time\": \"2000-09-01T00:00:00\", \"Electricity Consumper per Month (GWh)\": 4600.0}, {\"country\": \"TURKEY\", \"Time\": \"2000-09-01T00:00:00\", \"Electricity Consumper per Month (GWh)\": 10019.0}, {\"country\": \"UNITED KINGDOM\", \"Time\": \"2000-09-01T00:00:00\", \"Electricity Consumper per Month (GWh)\": 31750.0}, {\"country\": \"UNITED STATES\", \"Time\": \"2000-09-01T00:00:00\", \"Electricity Consumper per Month (GWh)\": 323805.0}, {\"country\": \"AUSTRALIA\", \"Time\": \"2000-10-01T00:00:00\", \"Electricity Consumper per Month (GWh)\": 15848.0}, {\"country\": \"AUSTRIA\", \"Time\": \"2000-10-01T00:00:00\", \"Electricity Consumper per Month (GWh)\": 5002.0}, {\"country\": \"BELGIUM\", \"Time\": \"2000-10-01T00:00:00\", \"Electricity Consumper per Month (GWh)\": 7373.0}, {\"country\": \"CANADA\", \"Time\": \"2000-10-01T00:00:00\", \"Electricity Consumper per Month (GWh)\": 43881.0}, {\"country\": \"SWEDEN\", \"Time\": \"2000-10-01T00:00:00\", \"Electricity Consumper per Month (GWh)\": 12151.0}, {\"country\": \"SWITZERLAND\", \"Time\": \"2000-10-01T00:00:00\", \"Electricity Consumper per Month (GWh)\": 4958.0}, {\"country\": \"TURKEY\", \"Time\": \"2000-10-01T00:00:00\", \"Electricity Consumper per Month (GWh)\": 10272.0}, {\"country\": \"UNITED KINGDOM\", \"Time\": \"2000-10-01T00:00:00\", \"Electricity Consumper per Month (GWh)\": 30099.0}, {\"country\": \"UNITED STATES\", \"Time\": \"2000-10-01T00:00:00\", \"Electricity Consumper per Month (GWh)\": 301598.0}, {\"country\": \"AUSTRALIA\", \"Time\": \"2000-11-01T00:00:00\", \"Electricity Consumper per Month (GWh)\": 15848.0}, {\"country\": \"AUSTRIA\", \"Time\": \"2000-11-01T00:00:00\", \"Electricity Consumper per Month (GWh)\": 5097.0}, {\"country\": \"BELGIUM\", \"Time\": \"2000-11-01T00:00:00\", \"Electricity Consumper per Month (GWh)\": 7484.0}, {\"country\": \"CANADA\", \"Time\": \"2000-11-01T00:00:00\", \"Electricity Consumper per Month (GWh)\": 46602.0}, {\"country\": \"SWEDEN\", \"Time\": \"2000-11-01T00:00:00\", \"Electricity Consumper per Month (GWh)\": 13158.0}, {\"country\": \"SWITZERLAND\", \"Time\": \"2000-11-01T00:00:00\", \"Electricity Consumper per Month (GWh)\": 5167.0}, {\"country\": \"TURKEY\", \"Time\": \"2000-11-01T00:00:00\", \"Electricity Consumper per Month (GWh)\": 10508.0}, {\"country\": \"UNITED KINGDOM\", \"Time\": \"2000-11-01T00:00:00\", \"Electricity Consumper per Month (GWh)\": 32424.0}, {\"country\": \"UNITED STATES\", \"Time\": \"2000-11-01T00:00:00\", \"Electricity Consumper per Month (GWh)\": 300836.0}, {\"country\": \"AUSTRALIA\", \"Time\": \"2000-12-01T00:00:00\", \"Electricity Consumper per Month (GWh)\": 15849.0}, {\"country\": \"AUSTRIA\", \"Time\": \"2000-12-01T00:00:00\", \"Electricity Consumper per Month (GWh)\": 5317.0}, {\"country\": \"BELGIUM\", \"Time\": \"2000-12-01T00:00:00\", \"Electricity Consumper per Month (GWh)\": 7671.0}, {\"country\": \"CANADA\", \"Time\": \"2000-12-01T00:00:00\", \"Electricity Consumper per Month (GWh)\": 56197.0}, {\"country\": \"SWEDEN\", \"Time\": \"2000-12-01T00:00:00\", \"Electricity Consumper per Month (GWh)\": 14467.0}, {\"country\": \"SWITZERLAND\", \"Time\": \"2000-12-01T00:00:00\", \"Electricity Consumper per Month (GWh)\": 5269.0}, {\"country\": \"TURKEY\", \"Time\": \"2000-12-01T00:00:00\", \"Electricity Consumper per Month (GWh)\": 10862.0}, {\"country\": \"UNITED KINGDOM\", \"Time\": \"2000-12-01T00:00:00\", \"Electricity Consumper per Month (GWh)\": 37535.0}, {\"country\": \"UNITED STATES\", \"Time\": \"2000-12-01T00:00:00\", \"Electricity Consumper per Month (GWh)\": 338813.0}, {\"country\": \"AUSTRALIA\", \"Time\": \"2001-01-01T00:00:00\", \"Electricity Consumper per Month (GWh)\": 17160.0}, {\"country\": \"AUSTRIA\", \"Time\": \"2001-01-01T00:00:00\", \"Electricity Consumper per Month (GWh)\": 5637.0}, {\"country\": \"BELGIUM\", \"Time\": \"2001-01-01T00:00:00\", \"Electricity Consumper per Month (GWh)\": 8049.0}, {\"country\": \"CANADA\", \"Time\": \"2001-01-01T00:00:00\", \"Electricity Consumper per Month (GWh)\": 54435.0}, {\"country\": \"SWEDEN\", \"Time\": \"2001-01-01T00:00:00\", \"Electricity Consumper per Month (GWh)\": 15660.0}, {\"country\": \"SWITZERLAND\", \"Time\": \"2001-01-01T00:00:00\", \"Electricity Consumper per Month (GWh)\": 5615.0}, {\"country\": \"TURKEY\", \"Time\": \"2001-01-01T00:00:00\", \"Electricity Consumper per Month (GWh)\": 11092.0}, {\"country\": \"UNITED KINGDOM\", \"Time\": \"2001-01-01T00:00:00\", \"Electricity Consumper per Month (GWh)\": 35582.0}, {\"country\": \"UNITED STATES\", \"Time\": \"2001-01-01T00:00:00\", \"Electricity Consumper per Month (GWh)\": 336691.0}, {\"country\": \"AUSTRALIA\", \"Time\": \"2001-02-01T00:00:00\", \"Electricity Consumper per Month (GWh)\": 17154.0}, {\"country\": \"AUSTRIA\", \"Time\": \"2001-02-01T00:00:00\", \"Electricity Consumper per Month (GWh)\": 5009.0}, {\"country\": \"BELGIUM\", \"Time\": \"2001-02-01T00:00:00\", \"Electricity Consumper per Month (GWh)\": 7228.0}, {\"country\": \"CANADA\", \"Time\": \"2001-02-01T00:00:00\", \"Electricity Consumper per Month (GWh)\": 50500.0}, {\"country\": \"SWEDEN\", \"Time\": \"2001-02-01T00:00:00\", \"Electricity Consumper per Month (GWh)\": 14541.0}, {\"country\": \"SWITZERLAND\", \"Time\": \"2001-02-01T00:00:00\", \"Electricity Consumper per Month (GWh)\": 5034.0}, {\"country\": \"TURKEY\", \"Time\": \"2001-02-01T00:00:00\", \"Electricity Consumper per Month (GWh)\": 9986.0}, {\"country\": \"UNITED KINGDOM\", \"Time\": \"2001-02-01T00:00:00\", \"Electricity Consumper per Month (GWh)\": 33213.0}, {\"country\": \"UNITED STATES\", \"Time\": \"2001-02-01T00:00:00\", \"Electricity Consumper per Month (GWh)\": 286144.0}, {\"country\": \"AUSTRALIA\", \"Time\": \"2001-03-01T00:00:00\", \"Electricity Consumper per Month (GWh)\": 17124.0}, {\"country\": \"AUSTRIA\", \"Time\": \"2001-03-01T00:00:00\", \"Electricity Consumper per Month (GWh)\": 5292.0}, {\"country\": \"BELGIUM\", \"Time\": \"2001-03-01T00:00:00\", \"Electricity Consumper per Month (GWh)\": 7742.0}, {\"country\": \"CANADA\", \"Time\": \"2001-03-01T00:00:00\", \"Electricity Consumper per Month (GWh)\": 50050.0}, {\"country\": \"SWEDEN\", \"Time\": \"2001-03-01T00:00:00\", \"Electricity Consumper per Month (GWh)\": 15039.0}, {\"country\": \"SWITZERLAND\", \"Time\": \"2001-03-01T00:00:00\", \"Electricity Consumper per Month (GWh)\": 5354.0}, {\"country\": \"TURKEY\", \"Time\": \"2001-03-01T00:00:00\", \"Electricity Consumper per Month (GWh)\": 9289.0}, {\"country\": \"UNITED KINGDOM\", \"Time\": \"2001-03-01T00:00:00\", \"Electricity Consumper per Month (GWh)\": 37234.0}, {\"country\": \"UNITED STATES\", \"Time\": \"2001-03-01T00:00:00\", \"Electricity Consumper per Month (GWh)\": 303369.0}, {\"country\": \"AUSTRALIA\", \"Time\": \"2001-04-01T00:00:00\", \"Electricity Consumper per Month (GWh)\": 16910.0}, {\"country\": \"AUSTRIA\", \"Time\": \"2001-04-01T00:00:00\", \"Electricity Consumper per Month (GWh)\": 4802.0}, {\"country\": \"BELGIUM\", \"Time\": \"2001-04-01T00:00:00\", \"Electricity Consumper per Month (GWh)\": 7042.0}, {\"country\": \"CANADA\", \"Time\": \"2001-04-01T00:00:00\", \"Electricity Consumper per Month (GWh)\": 43586.0}, {\"country\": \"SWEDEN\", \"Time\": \"2001-04-01T00:00:00\", \"Electricity Consumper per Month (GWh)\": 12388.0}, {\"country\": \"SWITZERLAND\", \"Time\": \"2001-04-01T00:00:00\", \"Electricity Consumper per Month (GWh)\": 4834.0}, {\"country\": \"TURKEY\", \"Time\": \"2001-04-01T00:00:00\", \"Electricity Consumper per Month (GWh)\": 9190.0}, {\"country\": \"UNITED KINGDOM\", \"Time\": \"2001-04-01T00:00:00\", \"Electricity Consumper per Month (GWh)\": 30861.0}, {\"country\": \"UNITED STATES\", \"Time\": \"2001-04-01T00:00:00\", \"Electricity Consumper per Month (GWh)\": 280950.0}, {\"country\": \"AUSTRALIA\", \"Time\": \"2001-05-01T00:00:00\", \"Electricity Consumper per Month (GWh)\": 16901.0}, {\"country\": \"AUSTRIA\", \"Time\": \"2001-05-01T00:00:00\", \"Electricity Consumper per Month (GWh)\": 4755.0}, {\"country\": \"BELGIUM\", \"Time\": \"2001-05-01T00:00:00\", \"Electricity Consumper per Month (GWh)\": 6783.0}, {\"country\": \"CANADA\", \"Time\": \"2001-05-01T00:00:00\", \"Electricity Consumper per Month (GWh)\": 42210.0}, {\"country\": \"SWEDEN\", \"Time\": \"2001-05-01T00:00:00\", \"Electricity Consumper per Month (GWh)\": 11102.0}, {\"country\": \"SWITZERLAND\", \"Time\": \"2001-05-01T00:00:00\", \"Electricity Consumper per Month (GWh)\": 4768.0}, {\"country\": \"TURKEY\", \"Time\": \"2001-05-01T00:00:00\", \"Electricity Consumper per Month (GWh)\": 9247.0}, {\"country\": \"UNITED KINGDOM\", \"Time\": \"2001-05-01T00:00:00\", \"Electricity Consumper per Month (GWh)\": 27926.0}, {\"country\": \"UNITED STATES\", \"Time\": \"2001-05-01T00:00:00\", \"Electricity Consumper per Month (GWh)\": 306245.0}, {\"country\": \"AUSTRALIA\", \"Time\": \"2001-06-01T00:00:00\", \"Electricity Consumper per Month (GWh)\": 16922.0}, {\"country\": \"AUSTRIA\", \"Time\": \"2001-06-01T00:00:00\", \"Electricity Consumper per Month (GWh)\": 4549.0}, {\"country\": \"BELGIUM\", \"Time\": \"2001-06-01T00:00:00\", \"Electricity Consumper per Month (GWh)\": 6502.0}, {\"country\": \"CANADA\", \"Time\": \"2001-06-01T00:00:00\", \"Electricity Consumper per Month (GWh)\": 41752.0}, {\"country\": \"SWEDEN\", \"Time\": \"2001-06-01T00:00:00\", \"Electricity Consumper per Month (GWh)\": 9917.0}, {\"country\": \"SWITZERLAND\", \"Time\": \"2001-06-01T00:00:00\", \"Electricity Consumper per Month (GWh)\": 4610.0}, {\"country\": \"TURKEY\", \"Time\": \"2001-06-01T00:00:00\", \"Electricity Consumper per Month (GWh)\": 9418.0}, {\"country\": \"UNITED KINGDOM\", \"Time\": \"2001-06-01T00:00:00\", \"Electricity Consumper per Month (GWh)\": 29746.0}, {\"country\": \"UNITED STATES\", \"Time\": \"2001-06-01T00:00:00\", \"Electricity Consumper per Month (GWh)\": 330042.0}, {\"country\": \"AUSTRALIA\", \"Time\": \"2001-07-01T00:00:00\", \"Electricity Consumper per Month (GWh)\": 17306.0}, {\"country\": \"AUSTRIA\", \"Time\": \"2001-07-01T00:00:00\", \"Electricity Consumper per Month (GWh)\": 4639.0}, {\"country\": \"BELGIUM\", \"Time\": \"2001-07-01T00:00:00\", \"Electricity Consumper per Month (GWh)\": 6312.0}, {\"country\": \"CANADA\", \"Time\": \"2001-07-01T00:00:00\", \"Electricity Consumper per Month (GWh)\": 42096.0}, {\"country\": \"SWEDEN\", \"Time\": \"2001-07-01T00:00:00\", \"Electricity Consumper per Month (GWh)\": 9063.0}, {\"country\": \"SWITZERLAND\", \"Time\": \"2001-07-01T00:00:00\", \"Electricity Consumper per Month (GWh)\": 4586.0}, {\"country\": \"TURKEY\", \"Time\": \"2001-07-01T00:00:00\", \"Electricity Consumper per Month (GWh)\": 10536.0}, {\"country\": \"UNITED KINGDOM\", \"Time\": \"2001-07-01T00:00:00\", \"Electricity Consumper per Month (GWh)\": 26776.0}, {\"country\": \"UNITED STATES\", \"Time\": \"2001-07-01T00:00:00\", \"Electricity Consumper per Month (GWh)\": 360429.0}, {\"country\": \"AUSTRALIA\", \"Time\": \"2001-08-01T00:00:00\", \"Electricity Consumper per Month (GWh)\": 17292.0}, {\"country\": \"AUSTRIA\", \"Time\": \"2001-08-01T00:00:00\", \"Electricity Consumper per Month (GWh)\": 4549.0}, {\"country\": \"BELGIUM\", \"Time\": \"2001-08-01T00:00:00\", \"Electricity Consumper per Month (GWh)\": 6484.0}, {\"country\": \"CANADA\", \"Time\": \"2001-08-01T00:00:00\", \"Electricity Consumper per Month (GWh)\": 43524.0}, {\"country\": \"SWEDEN\", \"Time\": \"2001-08-01T00:00:00\", \"Electricity Consumper per Month (GWh)\": 10153.0}, {\"country\": \"SWITZERLAND\", \"Time\": \"2001-08-01T00:00:00\", \"Electricity Consumper per Month (GWh)\": 4570.0}, {\"country\": \"TURKEY\", \"Time\": \"2001-08-01T00:00:00\", \"Electricity Consumper per Month (GWh)\": 10714.0}, {\"country\": \"UNITED KINGDOM\", \"Time\": \"2001-08-01T00:00:00\", \"Electricity Consumper per Month (GWh)\": 26607.0}, {\"country\": \"UNITED STATES\", \"Time\": \"2001-08-01T00:00:00\", \"Electricity Consumper per Month (GWh)\": 372942.0}, {\"country\": \"AUSTRALIA\", \"Time\": \"2001-09-01T00:00:00\", \"Electricity Consumper per Month (GWh)\": 17279.0}, {\"country\": \"AUSTRIA\", \"Time\": \"2001-09-01T00:00:00\", \"Electricity Consumper per Month (GWh)\": 4736.0}, {\"country\": \"BELGIUM\", \"Time\": \"2001-09-01T00:00:00\", \"Electricity Consumper per Month (GWh)\": 6767.0}, {\"country\": \"CANADA\", \"Time\": \"2001-09-01T00:00:00\", \"Electricity Consumper per Month (GWh)\": 40347.0}, {\"country\": \"SWEDEN\", \"Time\": \"2001-09-01T00:00:00\", \"Electricity Consumper per Month (GWh)\": 10903.0}, {\"country\": \"SWITZERLAND\", \"Time\": \"2001-09-01T00:00:00\", \"Electricity Consumper per Month (GWh)\": 4660.0}, {\"country\": \"TURKEY\", \"Time\": \"2001-09-01T00:00:00\", \"Electricity Consumper per Month (GWh)\": 9706.0}, {\"country\": \"UNITED KINGDOM\", \"Time\": \"2001-09-01T00:00:00\", \"Electricity Consumper per Month (GWh)\": 30702.0}, {\"country\": \"UNITED STATES\", \"Time\": \"2001-09-01T00:00:00\", \"Electricity Consumper per Month (GWh)\": 307116.0}, {\"country\": \"AUSTRALIA\", \"Time\": \"2001-10-01T00:00:00\", \"Electricity Consumper per Month (GWh)\": 16751.0}, {\"country\": \"AUSTRIA\", \"Time\": \"2001-10-01T00:00:00\", \"Electricity Consumper per Month (GWh)\": 5114.0}, {\"country\": \"BELGIUM\", \"Time\": \"2001-10-01T00:00:00\", \"Electricity Consumper per Month (GWh)\": 7215.0}, {\"country\": \"CANADA\", \"Time\": \"2001-10-01T00:00:00\", \"Electricity Consumper per Month (GWh)\": 43415.0}, {\"country\": \"SWEDEN\", \"Time\": \"2001-10-01T00:00:00\", \"Electricity Consumper per Month (GWh)\": 12230.0}, {\"country\": \"SWITZERLAND\", \"Time\": \"2001-10-01T00:00:00\", \"Electricity Consumper per Month (GWh)\": 4881.0}, {\"country\": \"TURKEY\", \"Time\": \"2001-10-01T00:00:00\", \"Electricity Consumper per Month (GWh)\": 9883.0}, {\"country\": \"UNITED KINGDOM\", \"Time\": \"2001-10-01T00:00:00\", \"Electricity Consumper per Month (GWh)\": 29567.0}, {\"country\": \"UNITED STATES\", \"Time\": \"2001-10-01T00:00:00\", \"Electricity Consumper per Month (GWh)\": 293341.0}, {\"country\": \"AUSTRALIA\", \"Time\": \"2001-11-01T00:00:00\", \"Electricity Consumper per Month (GWh)\": 16715.0}, {\"country\": \"AUSTRIA\", \"Time\": \"2001-11-01T00:00:00\", \"Electricity Consumper per Month (GWh)\": 5444.0}, {\"country\": \"BELGIUM\", \"Time\": \"2001-11-01T00:00:00\", \"Electricity Consumper per Month (GWh)\": 7437.0}, {\"country\": \"CANADA\", \"Time\": \"2001-11-01T00:00:00\", \"Electricity Consumper per Month (GWh)\": 45814.0}, {\"country\": \"SWEDEN\", \"Time\": \"2001-11-01T00:00:00\", \"Electricity Consumper per Month (GWh)\": 13998.0}, {\"country\": \"SWITZERLAND\", \"Time\": \"2001-11-01T00:00:00\", \"Electricity Consumper per Month (GWh)\": 5342.0}, {\"country\": \"TURKEY\", \"Time\": \"2001-11-01T00:00:00\", \"Electricity Consumper per Month (GWh)\": 10412.0}, {\"country\": \"UNITED KINGDOM\", \"Time\": \"2001-11-01T00:00:00\", \"Electricity Consumper per Month (GWh)\": 32386.0}, {\"country\": \"UNITED STATES\", \"Time\": \"2001-11-01T00:00:00\", \"Electricity Consumper per Month (GWh)\": 276754.0}, {\"country\": \"AUSTRALIA\", \"Time\": \"2001-12-01T00:00:00\", \"Electricity Consumper per Month (GWh)\": 16734.0}, {\"country\": \"AUSTRIA\", \"Time\": \"2001-12-01T00:00:00\", \"Electricity Consumper per Month (GWh)\": 5887.0}, {\"country\": \"BELGIUM\", \"Time\": \"2001-12-01T00:00:00\", \"Electricity Consumper per Month (GWh)\": 7761.0}, {\"country\": \"CANADA\", \"Time\": \"2001-12-01T00:00:00\", \"Electricity Consumper per Month (GWh)\": 49661.0}, {\"country\": \"SWEDEN\", \"Time\": \"2001-12-01T00:00:00\", \"Electricity Consumper per Month (GWh)\": 15349.0}, {\"country\": \"SWITZERLAND\", \"Time\": \"2001-12-01T00:00:00\", \"Electricity Consumper per Month (GWh)\": 5626.0}, {\"country\": \"TURKEY\", \"Time\": \"2001-12-01T00:00:00\", \"Electricity Consumper per Month (GWh)\": 10924.0}, {\"country\": \"UNITED KINGDOM\", \"Time\": \"2001-12-01T00:00:00\", \"Electricity Consumper per Month (GWh)\": 37194.0}, {\"country\": \"UNITED STATES\", \"Time\": \"2001-12-01T00:00:00\", \"Electricity Consumper per Month (GWh)\": 304650.0}, {\"country\": \"AUSTRALIA\", \"Time\": \"2002-01-01T00:00:00\", \"Electricity Consumper per Month (GWh)\": 17353.0}, {\"country\": \"AUSTRIA\", \"Time\": \"2002-01-01T00:00:00\", \"Electricity Consumper per Month (GWh)\": 5666.0}, {\"country\": \"BELGIUM\", \"Time\": \"2002-01-01T00:00:00\", \"Electricity Consumper per Month (GWh)\": 7962.0}, {\"country\": \"CANADA\", \"Time\": \"2002-01-01T00:00:00\", \"Electricity Consumper per Month (GWh)\": 52002.0}, {\"country\": \"SWEDEN\", \"Time\": \"2002-01-01T00:00:00\", \"Electricity Consumper per Month (GWh)\": 15546.0}, {\"country\": \"SWITZERLAND\", \"Time\": \"2002-01-01T00:00:00\", \"Electricity Consumper per Month (GWh)\": 5821.0}, {\"country\": \"TURKEY\", \"Time\": \"2002-01-01T00:00:00\", \"Electricity Consumper per Month (GWh)\": 11491.0}, {\"country\": \"UNITED KINGDOM\", \"Time\": \"2002-01-01T00:00:00\", \"Electricity Consumper per Month (GWh)\": 35271.0}, {\"country\": \"UNITED STATES\", \"Time\": \"2002-01-01T00:00:00\", \"Electricity Consumper per Month (GWh)\": 325100.0}, {\"country\": \"AUSTRALIA\", \"Time\": \"2002-02-01T00:00:00\", \"Electricity Consumper per Month (GWh)\": 17339.0}, {\"country\": \"AUSTRIA\", \"Time\": \"2002-02-01T00:00:00\", \"Electricity Consumper per Month (GWh)\": 4859.0}, {\"country\": \"BELGIUM\", \"Time\": \"2002-02-01T00:00:00\", \"Electricity Consumper per Month (GWh)\": 7002.0}, {\"country\": \"CANADA\", \"Time\": \"2002-02-01T00:00:00\", \"Electricity Consumper per Month (GWh)\": 49174.0}, {\"country\": \"SWEDEN\", \"Time\": \"2002-02-01T00:00:00\", \"Electricity Consumper per Month (GWh)\": 13401.0}, {\"country\": \"SWITZERLAND\", \"Time\": \"2002-02-01T00:00:00\", \"Electricity Consumper per Month (GWh)\": 4991.0}, {\"country\": \"TURKEY\", \"Time\": \"2002-02-01T00:00:00\", \"Electricity Consumper per Month (GWh)\": 9534.0}, {\"country\": \"UNITED KINGDOM\", \"Time\": \"2002-02-01T00:00:00\", \"Electricity Consumper per Month (GWh)\": 32285.0}, {\"country\": \"UNITED STATES\", \"Time\": \"2002-02-01T00:00:00\", \"Electricity Consumper per Month (GWh)\": 285914.0}, {\"country\": \"AUSTRALIA\", \"Time\": \"2002-03-01T00:00:00\", \"Electricity Consumper per Month (GWh)\": 17288.0}, {\"country\": \"AUSTRIA\", \"Time\": \"2002-03-01T00:00:00\", \"Electricity Consumper per Month (GWh)\": 5069.0}, {\"country\": \"BELGIUM\", \"Time\": \"2002-03-01T00:00:00\", \"Electricity Consumper per Month (GWh)\": 7454.0}, {\"country\": \"CANADA\", \"Time\": \"2002-03-01T00:00:00\", \"Electricity Consumper per Month (GWh)\": 50463.0}, {\"country\": \"SWEDEN\", \"Time\": \"2002-03-01T00:00:00\", \"Electricity Consumper per Month (GWh)\": 14180.0}, {\"country\": \"SWITZERLAND\", \"Time\": \"2002-03-01T00:00:00\", \"Electricity Consumper per Month (GWh)\": 5183.0}, {\"country\": \"TURKEY\", \"Time\": \"2002-03-01T00:00:00\", \"Electricity Consumper per Month (GWh)\": 10714.0}, {\"country\": \"UNITED KINGDOM\", \"Time\": \"2002-03-01T00:00:00\", \"Electricity Consumper per Month (GWh)\": 36360.0}, {\"country\": \"UNITED STATES\", \"Time\": \"2002-03-01T00:00:00\", \"Electricity Consumper per Month (GWh)\": 306469.0}, {\"country\": \"AUSTRALIA\", \"Time\": \"2002-04-01T00:00:00\", \"Electricity Consumper per Month (GWh)\": 17575.0}, {\"country\": \"AUSTRIA\", \"Time\": \"2002-04-01T00:00:00\", \"Electricity Consumper per Month (GWh)\": 4808.0}, {\"country\": \"BELGIUM\", \"Time\": \"2002-04-01T00:00:00\", \"Electricity Consumper per Month (GWh)\": 6938.0}, {\"country\": \"CANADA\", \"Time\": \"2002-04-01T00:00:00\", \"Electricity Consumper per Month (GWh)\": 44880.0}, {\"country\": \"SWEDEN\", \"Time\": \"2002-04-01T00:00:00\", \"Electricity Consumper per Month (GWh)\": 12114.0}, {\"country\": \"SWITZERLAND\", \"Time\": \"2002-04-01T00:00:00\", \"Electricity Consumper per Month (GWh)\": 4840.0}, {\"country\": \"TURKEY\", \"Time\": \"2002-04-01T00:00:00\", \"Electricity Consumper per Month (GWh)\": 10162.0}, {\"country\": \"UNITED KINGDOM\", \"Time\": \"2002-04-01T00:00:00\", \"Electricity Consumper per Month (GWh)\": 29492.0}, {\"country\": \"UNITED STATES\", \"Time\": \"2002-04-01T00:00:00\", \"Electricity Consumper per Month (GWh)\": 294059.0}, {\"country\": \"AUSTRALIA\", \"Time\": \"2002-05-01T00:00:00\", \"Electricity Consumper per Month (GWh)\": 17557.0}, {\"country\": \"AUSTRIA\", \"Time\": \"2002-05-01T00:00:00\", \"Electricity Consumper per Month (GWh)\": 4729.0}, {\"country\": \"BELGIUM\", \"Time\": \"2002-05-01T00:00:00\", \"Electricity Consumper per Month (GWh)\": 6870.0}, {\"country\": \"CANADA\", \"Time\": \"2002-05-01T00:00:00\", \"Electricity Consumper per Month (GWh)\": 44541.0}, {\"country\": \"SWEDEN\", \"Time\": \"2002-05-01T00:00:00\", \"Electricity Consumper per Month (GWh)\": 10781.0}, {\"country\": \"SWITZERLAND\", \"Time\": \"2002-05-01T00:00:00\", \"Electricity Consumper per Month (GWh)\": 4817.0}, {\"country\": \"TURKEY\", \"Time\": \"2002-05-01T00:00:00\", \"Electricity Consumper per Month (GWh)\": 9964.0}, {\"country\": \"UNITED KINGDOM\", \"Time\": \"2002-05-01T00:00:00\", \"Electricity Consumper per Month (GWh)\": 29047.0}, {\"country\": \"UNITED STATES\", \"Time\": \"2002-05-01T00:00:00\", \"Electricity Consumper per Month (GWh)\": 311380.0}, {\"country\": \"AUSTRALIA\", \"Time\": \"2002-06-01T00:00:00\", \"Electricity Consumper per Month (GWh)\": 17590.0}, {\"country\": \"AUSTRIA\", \"Time\": \"2002-06-01T00:00:00\", \"Electricity Consumper per Month (GWh)\": 4724.0}, {\"country\": \"BELGIUM\", \"Time\": \"2002-06-01T00:00:00\", \"Electricity Consumper per Month (GWh)\": 6655.0}, {\"country\": \"CANADA\", \"Time\": \"2002-06-01T00:00:00\", \"Electricity Consumper per Month (GWh)\": 42021.0}, {\"country\": \"SWEDEN\", \"Time\": \"2002-06-01T00:00:00\", \"Electricity Consumper per Month (GWh)\": 9680.0}, {\"country\": \"SWITZERLAND\", \"Time\": \"2002-06-01T00:00:00\", \"Electricity Consumper per Month (GWh)\": 4790.0}, {\"country\": \"TURKEY\", \"Time\": \"2002-06-01T00:00:00\", \"Electricity Consumper per Month (GWh)\": 10003.0}, {\"country\": \"UNITED KINGDOM\", \"Time\": \"2002-06-01T00:00:00\", \"Electricity Consumper per Month (GWh)\": 29724.0}, {\"country\": \"UNITED STATES\", \"Time\": \"2002-06-01T00:00:00\", \"Electricity Consumper per Month (GWh)\": 346368.0}, {\"country\": \"AUSTRALIA\", \"Time\": \"2002-07-01T00:00:00\", \"Electricity Consumper per Month (GWh)\": 18241.0}, {\"country\": \"AUSTRIA\", \"Time\": \"2002-07-01T00:00:00\", \"Electricity Consumper per Month (GWh)\": 4805.0}, {\"country\": \"BELGIUM\", \"Time\": \"2002-07-01T00:00:00\", \"Electricity Consumper per Month (GWh)\": 6492.0}, {\"country\": \"CANADA\", \"Time\": \"2002-07-01T00:00:00\", \"Electricity Consumper per Month (GWh)\": 45121.0}, {\"country\": \"SWEDEN\", \"Time\": \"2002-07-01T00:00:00\", \"Electricity Consumper per Month (GWh)\": 9131.0}, {\"country\": \"SWITZERLAND\", \"Time\": \"2002-07-01T00:00:00\", \"Electricity Consumper per Month (GWh)\": 4699.0}, {\"country\": \"TURKEY\", \"Time\": \"2002-07-01T00:00:00\", \"Electricity Consumper per Month (GWh)\": 11262.0}, {\"country\": \"UNITED KINGDOM\", \"Time\": \"2002-07-01T00:00:00\", \"Electricity Consumper per Month (GWh)\": 27583.0}, {\"country\": \"UNITED STATES\", \"Time\": \"2002-07-01T00:00:00\", \"Electricity Consumper per Month (GWh)\": 388760.0}, {\"country\": \"AUSTRALIA\", \"Time\": \"2002-08-01T00:00:00\", \"Electricity Consumper per Month (GWh)\": 18219.0}, {\"country\": \"AUSTRIA\", \"Time\": \"2002-08-01T00:00:00\", \"Electricity Consumper per Month (GWh)\": 4663.0}, {\"country\": \"BELGIUM\", \"Time\": \"2002-08-01T00:00:00\", \"Electricity Consumper per Month (GWh)\": 6574.0}, {\"country\": \"CANADA\", \"Time\": \"2002-08-01T00:00:00\", \"Electricity Consumper per Month (GWh)\": 43915.0}, {\"country\": \"SWEDEN\", \"Time\": \"2002-08-01T00:00:00\", \"Electricity Consumper per Month (GWh)\": 9920.0}, {\"country\": \"SWITZERLAND\", \"Time\": \"2002-08-01T00:00:00\", \"Electricity Consumper per Month (GWh)\": 4628.0}, {\"country\": \"TURKEY\", \"Time\": \"2002-08-01T00:00:00\", \"Electricity Consumper per Month (GWh)\": 11141.0}, {\"country\": \"UNITED KINGDOM\", \"Time\": \"2002-08-01T00:00:00\", \"Electricity Consumper per Month (GWh)\": 27448.0}, {\"country\": \"UNITED STATES\", \"Time\": \"2002-08-01T00:00:00\", \"Electricity Consumper per Month (GWh)\": 381236.0}, {\"country\": \"AUSTRALIA\", \"Time\": \"2002-09-01T00:00:00\", \"Electricity Consumper per Month (GWh)\": 18199.0}, {\"country\": \"AUSTRIA\", \"Time\": \"2002-09-01T00:00:00\", \"Electricity Consumper per Month (GWh)\": 4747.0}, {\"country\": \"BELGIUM\", \"Time\": \"2002-09-01T00:00:00\", \"Electricity Consumper per Month (GWh)\": 6806.0}, {\"country\": \"CANADA\", \"Time\": \"2002-09-01T00:00:00\", \"Electricity Consumper per Month (GWh)\": 43299.0}, {\"country\": \"SWEDEN\", \"Time\": \"2002-09-01T00:00:00\", \"Electricity Consumper per Month (GWh)\": 10579.0}, {\"country\": \"SWITZERLAND\", \"Time\": \"2002-09-01T00:00:00\", \"Electricity Consumper per Month (GWh)\": 4836.0}, {\"country\": \"TURKEY\", \"Time\": \"2002-09-01T00:00:00\", \"Electricity Consumper per Month (GWh)\": 10091.0}, {\"country\": \"UNITED KINGDOM\", \"Time\": \"2002-09-01T00:00:00\", \"Electricity Consumper per Month (GWh)\": 30045.0}, {\"country\": \"UNITED STATES\", \"Time\": \"2002-09-01T00:00:00\", \"Electricity Consumper per Month (GWh)\": 336068.0}, {\"country\": \"AUSTRALIA\", \"Time\": \"2002-10-01T00:00:00\", \"Electricity Consumper per Month (GWh)\": 17440.0}, {\"country\": \"AUSTRIA\", \"Time\": \"2002-10-01T00:00:00\", \"Electricity Consumper per Month (GWh)\": 5232.0}, {\"country\": \"BELGIUM\", \"Time\": \"2002-10-01T00:00:00\", \"Electricity Consumper per Month (GWh)\": 7604.0}, {\"country\": \"CANADA\", \"Time\": \"2002-10-01T00:00:00\", \"Electricity Consumper per Month (GWh)\": 45769.0}, {\"country\": \"SWEDEN\", \"Time\": \"2002-10-01T00:00:00\", \"Electricity Consumper per Month (GWh)\": 13481.0}, {\"country\": \"SWITZERLAND\", \"Time\": \"2002-10-01T00:00:00\", \"Electricity Consumper per Month (GWh)\": 5161.0}, {\"country\": \"TURKEY\", \"Time\": \"2002-10-01T00:00:00\", \"Electricity Consumper per Month (GWh)\": 10294.0}, {\"country\": \"UNITED KINGDOM\", \"Time\": \"2002-10-01T00:00:00\", \"Electricity Consumper per Month (GWh)\": 29952.0}, {\"country\": \"UNITED STATES\", \"Time\": \"2002-10-01T00:00:00\", \"Electricity Consumper per Month (GWh)\": 311185.0}, {\"country\": \"AUSTRALIA\", \"Time\": \"2002-11-01T00:00:00\", \"Electricity Consumper per Month (GWh)\": 17383.0}, {\"country\": \"AUSTRIA\", \"Time\": \"2002-11-01T00:00:00\", \"Electricity Consumper per Month (GWh)\": 5204.0}, {\"country\": \"BELGIUM\", \"Time\": \"2002-11-01T00:00:00\", \"Electricity Consumper per Month (GWh)\": 7452.0}, {\"country\": \"CANADA\", \"Time\": \"2002-11-01T00:00:00\", \"Electricity Consumper per Month (GWh)\": 48146.0}, {\"country\": \"SWEDEN\", \"Time\": \"2002-11-01T00:00:00\", \"Electricity Consumper per Month (GWh)\": 14258.0}, {\"country\": \"SWITZERLAND\", \"Time\": \"2002-11-01T00:00:00\", \"Electricity Consumper per Month (GWh)\": 5318.0}, {\"country\": \"TURKEY\", \"Time\": \"2002-11-01T00:00:00\", \"Electricity Consumper per Month (GWh)\": 10741.0}, {\"country\": \"UNITED KINGDOM\", \"Time\": \"2002-11-01T00:00:00\", \"Electricity Consumper per Month (GWh)\": 32125.0}, {\"country\": \"UNITED STATES\", \"Time\": \"2002-11-01T00:00:00\", \"Electricity Consumper per Month (GWh)\": 299932.0}, {\"country\": \"AUSTRALIA\", \"Time\": \"2002-12-01T00:00:00\", \"Electricity Consumper per Month (GWh)\": 17418.0}, {\"country\": \"AUSTRIA\", \"Time\": \"2002-12-01T00:00:00\", \"Electricity Consumper per Month (GWh)\": 5511.0}, {\"country\": \"BELGIUM\", \"Time\": \"2002-12-01T00:00:00\", \"Electricity Consumper per Month (GWh)\": 7937.0}, {\"country\": \"CANADA\", \"Time\": \"2002-12-01T00:00:00\", \"Electricity Consumper per Month (GWh)\": 52750.0}, {\"country\": \"SWEDEN\", \"Time\": \"2002-12-01T00:00:00\", \"Electricity Consumper per Month (GWh)\": 15518.0}, {\"country\": \"SWITZERLAND\", \"Time\": \"2002-12-01T00:00:00\", \"Electricity Consumper per Month (GWh)\": 5533.0}, {\"country\": \"TURKEY\", \"Time\": \"2002-12-01T00:00:00\", \"Electricity Consumper per Month (GWh)\": 11477.0}, {\"country\": \"UNITED KINGDOM\", \"Time\": \"2002-12-01T00:00:00\", \"Electricity Consumper per Month (GWh)\": 39201.0}, {\"country\": \"UNITED STATES\", \"Time\": \"2002-12-01T00:00:00\", \"Electricity Consumper per Month (GWh)\": 328257.0}, {\"country\": \"AUSTRALIA\", \"Time\": \"2003-01-01T00:00:00\", \"Electricity Consumper per Month (GWh)\": 17579.0}, {\"country\": \"AUSTRIA\", \"Time\": \"2003-01-01T00:00:00\", \"Electricity Consumper per Month (GWh)\": 5839.0}, {\"country\": \"BELGIUM\", \"Time\": \"2003-01-01T00:00:00\", \"Electricity Consumper per Month (GWh)\": 8274.0}, {\"country\": \"CANADA\", \"Time\": \"2003-01-01T00:00:00\", \"Electricity Consumper per Month (GWh)\": 57252.0}, {\"country\": \"SWEDEN\", \"Time\": \"2003-01-01T00:00:00\", \"Electricity Consumper per Month (GWh)\": 15654.0}, {\"country\": \"SWITZERLAND\", \"Time\": \"2003-01-01T00:00:00\", \"Electricity Consumper per Month (GWh)\": 5787.0}, {\"country\": \"TURKEY\", \"Time\": \"2003-01-01T00:00:00\", \"Electricity Consumper per Month (GWh)\": 11970.0}, {\"country\": \"UNITED KINGDOM\", \"Time\": \"2003-01-01T00:00:00\", \"Electricity Consumper per Month (GWh)\": 33485.0}, {\"country\": \"UNITED STATES\", \"Time\": \"2003-01-01T00:00:00\", \"Electricity Consumper per Month (GWh)\": 346408.0}, {\"country\": \"AUSTRALIA\", \"Time\": \"2003-02-01T00:00:00\", \"Electricity Consumper per Month (GWh)\": 17571.0}, {\"country\": \"AUSTRIA\", \"Time\": \"2003-02-01T00:00:00\", \"Electricity Consumper per Month (GWh)\": 5426.0}, {\"country\": \"BELGIUM\", \"Time\": \"2003-02-01T00:00:00\", \"Electricity Consumper per Month (GWh)\": 7515.0}, {\"country\": \"CANADA\", \"Time\": \"2003-02-01T00:00:00\", \"Electricity Consumper per Month (GWh)\": 51465.0}, {\"country\": \"SWEDEN\", \"Time\": \"2003-02-01T00:00:00\", \"Electricity Consumper per Month (GWh)\": 14055.0}, {\"country\": \"SWITZERLAND\", \"Time\": \"2003-02-01T00:00:00\", \"Electricity Consumper per Month (GWh)\": 5436.0}, {\"country\": \"TURKEY\", \"Time\": \"2003-02-01T00:00:00\", \"Electricity Consumper per Month (GWh)\": 10502.0}, {\"country\": \"UNITED KINGDOM\", \"Time\": \"2003-02-01T00:00:00\", \"Electricity Consumper per Month (GWh)\": 33496.0}, {\"country\": \"UNITED STATES\", \"Time\": \"2003-02-01T00:00:00\", \"Electricity Consumper per Month (GWh)\": 303265.0}, {\"country\": \"AUSTRALIA\", \"Time\": \"2003-03-01T00:00:00\", \"Electricity Consumper per Month (GWh)\": 17529.0}, {\"country\": \"AUSTRIA\", \"Time\": \"2003-03-01T00:00:00\", \"Electricity Consumper per Month (GWh)\": 5528.0}, {\"country\": \"BELGIUM\", \"Time\": \"2003-03-01T00:00:00\", \"Electricity Consumper per Month (GWh)\": 7568.0}, {\"country\": \"CANADA\", \"Time\": \"2003-03-01T00:00:00\", \"Electricity Consumper per Month (GWh)\": 52227.0}, {\"country\": \"SWEDEN\", \"Time\": \"2003-03-01T00:00:00\", \"Electricity Consumper per Month (GWh)\": 13719.0}, {\"country\": \"SWITZERLAND\", \"Time\": \"2003-03-01T00:00:00\", \"Electricity Consumper per Month (GWh)\": 5255.0}, {\"country\": \"TURKEY\", \"Time\": \"2003-03-01T00:00:00\", \"Electricity Consumper per Month (GWh)\": 11987.0}, {\"country\": \"UNITED KINGDOM\", \"Time\": \"2003-03-01T00:00:00\", \"Electricity Consumper per Month (GWh)\": 36826.0}, {\"country\": \"UNITED STATES\", \"Time\": \"2003-03-01T00:00:00\", \"Electricity Consumper per Month (GWh)\": 306863.0}, {\"country\": \"AUSTRALIA\", \"Time\": \"2003-04-01T00:00:00\", \"Electricity Consumper per Month (GWh)\": 17486.0}, {\"country\": \"AUSTRIA\", \"Time\": \"2003-04-01T00:00:00\", \"Electricity Consumper per Month (GWh)\": 4934.0}, {\"country\": \"BELGIUM\", \"Time\": \"2003-04-01T00:00:00\", \"Electricity Consumper per Month (GWh)\": 7073.0}, {\"country\": \"CANADA\", \"Time\": \"2003-04-01T00:00:00\", \"Electricity Consumper per Month (GWh)\": 45353.0}, {\"country\": \"SWEDEN\", \"Time\": \"2003-04-01T00:00:00\", \"Electricity Consumper per Month (GWh)\": 12305.0}, {\"country\": \"SWITZERLAND\", \"Time\": \"2003-04-01T00:00:00\", \"Electricity Consumper per Month (GWh)\": 4867.0}, {\"country\": \"TURKEY\", \"Time\": \"2003-04-01T00:00:00\", \"Electricity Consumper per Month (GWh)\": 10692.0}, {\"country\": \"UNITED KINGDOM\", \"Time\": \"2003-04-01T00:00:00\", \"Electricity Consumper per Month (GWh)\": 29194.0}, {\"country\": \"UNITED STATES\", \"Time\": \"2003-04-01T00:00:00\", \"Electricity Consumper per Month (GWh)\": 289027.0}, {\"country\": \"AUSTRALIA\", \"Time\": \"2003-05-01T00:00:00\", \"Electricity Consumper per Month (GWh)\": 17474.0}, {\"country\": \"AUSTRIA\", \"Time\": \"2003-05-01T00:00:00\", \"Electricity Consumper per Month (GWh)\": 4769.0}, {\"country\": \"BELGIUM\", \"Time\": \"2003-05-01T00:00:00\", \"Electricity Consumper per Month (GWh)\": 6923.0}, {\"country\": \"CANADA\", \"Time\": \"2003-05-01T00:00:00\", \"Electricity Consumper per Month (GWh)\": 42687.0}, {\"country\": \"SWEDEN\", \"Time\": \"2003-05-01T00:00:00\", \"Electricity Consumper per Month (GWh)\": 10837.0}, {\"country\": \"SWITZERLAND\", \"Time\": \"2003-05-01T00:00:00\", \"Electricity Consumper per Month (GWh)\": 5093.0}, {\"country\": \"TURKEY\", \"Time\": \"2003-05-01T00:00:00\", \"Electricity Consumper per Month (GWh)\": 10559.0}, {\"country\": \"UNITED KINGDOM\", \"Time\": \"2003-05-01T00:00:00\", \"Electricity Consumper per Month (GWh)\": 27877.0}, {\"country\": \"UNITED STATES\", \"Time\": \"2003-05-01T00:00:00\", \"Electricity Consumper per Month (GWh)\": 310846.0}, {\"country\": \"AUSTRALIA\", \"Time\": \"2003-06-01T00:00:00\", \"Electricity Consumper per Month (GWh)\": 17503.0}, {\"country\": \"AUSTRIA\", \"Time\": \"2003-06-01T00:00:00\", \"Electricity Consumper per Month (GWh)\": 4645.0}, {\"country\": \"BELGIUM\", \"Time\": \"2003-06-01T00:00:00\", \"Electricity Consumper per Month (GWh)\": 6628.0}, {\"country\": \"CANADA\", \"Time\": \"2003-06-01T00:00:00\", \"Electricity Consumper per Month (GWh)\": 41021.0}, {\"country\": \"SWEDEN\", \"Time\": \"2003-06-01T00:00:00\", \"Electricity Consumper per Month (GWh)\": 9547.0}, {\"country\": \"SWITZERLAND\", \"Time\": \"2003-06-01T00:00:00\", \"Electricity Consumper per Month (GWh)\": 5186.0}, {\"country\": \"TURKEY\", \"Time\": \"2003-06-01T00:00:00\", \"Electricity Consumper per Month (GWh)\": 10663.0}, {\"country\": \"UNITED KINGDOM\", \"Time\": \"2003-06-01T00:00:00\", \"Electricity Consumper per Month (GWh)\": 32122.0}, {\"country\": \"UNITED STATES\", \"Time\": \"2003-06-01T00:00:00\", \"Electricity Consumper per Month (GWh)\": 332464.0}, {\"country\": \"AUSTRALIA\", \"Time\": \"2003-07-01T00:00:00\", \"Electricity Consumper per Month (GWh)\": 18428.0}, {\"country\": \"AUSTRIA\", \"Time\": \"2003-07-01T00:00:00\", \"Electricity Consumper per Month (GWh)\": 4856.0}, {\"country\": \"BELGIUM\", \"Time\": \"2003-07-01T00:00:00\", \"Electricity Consumper per Month (GWh)\": 6543.0}, {\"country\": \"CANADA\", \"Time\": \"2003-07-01T00:00:00\", \"Electricity Consumper per Month (GWh)\": 43887.0}, {\"country\": \"SWEDEN\", \"Time\": \"2003-07-01T00:00:00\", \"Electricity Consumper per Month (GWh)\": 8870.0}, {\"country\": \"SWITZERLAND\", \"Time\": \"2003-07-01T00:00:00\", \"Electricity Consumper per Month (GWh)\": 5175.0}, {\"country\": \"TURKEY\", \"Time\": \"2003-07-01T00:00:00\", \"Electricity Consumper per Month (GWh)\": 11961.0}, {\"country\": \"UNITED KINGDOM\", \"Time\": \"2003-07-01T00:00:00\", \"Electricity Consumper per Month (GWh)\": 27387.0}, {\"country\": \"UNITED STATES\", \"Time\": \"2003-07-01T00:00:00\", \"Electricity Consumper per Month (GWh)\": 380945.0}, {\"country\": \"AUSTRALIA\", \"Time\": \"2003-08-01T00:00:00\", \"Electricity Consumper per Month (GWh)\": 18407.0}, {\"country\": \"AUSTRIA\", \"Time\": \"2003-08-01T00:00:00\", \"Electricity Consumper per Month (GWh)\": 4858.0}, {\"country\": \"BELGIUM\", \"Time\": \"2003-08-01T00:00:00\", \"Electricity Consumper per Month (GWh)\": 6779.0}, {\"country\": \"CANADA\", \"Time\": \"2003-08-01T00:00:00\", \"Electricity Consumper per Month (GWh)\": 43939.0}, {\"country\": \"SWEDEN\", \"Time\": \"2003-08-01T00:00:00\", \"Electricity Consumper per Month (GWh)\": 9790.0}, {\"country\": \"SWITZERLAND\", \"Time\": \"2003-08-01T00:00:00\", \"Electricity Consumper per Month (GWh)\": 4910.0}, {\"country\": \"TURKEY\", \"Time\": \"2003-08-01T00:00:00\", \"Electricity Consumper per Month (GWh)\": 12104.0}, {\"country\": \"UNITED KINGDOM\", \"Time\": \"2003-08-01T00:00:00\", \"Electricity Consumper per Month (GWh)\": 26503.0}, {\"country\": \"UNITED STATES\", \"Time\": \"2003-08-01T00:00:00\", \"Electricity Consumper per Month (GWh)\": 387704.0}, {\"country\": \"AUSTRALIA\", \"Time\": \"2003-09-01T00:00:00\", \"Electricity Consumper per Month (GWh)\": 18386.0}, {\"country\": \"AUSTRIA\", \"Time\": \"2003-09-01T00:00:00\", \"Electricity Consumper per Month (GWh)\": 4854.0}, {\"country\": \"BELGIUM\", \"Time\": \"2003-09-01T00:00:00\", \"Electricity Consumper per Month (GWh)\": 6818.0}, {\"country\": \"CANADA\", \"Time\": \"2003-09-01T00:00:00\", \"Electricity Consumper per Month (GWh)\": 41073.0}, {\"country\": \"SWEDEN\", \"Time\": \"2003-09-01T00:00:00\", \"Electricity Consumper per Month (GWh)\": 10378.0}, {\"country\": \"SWITZERLAND\", \"Time\": \"2003-09-01T00:00:00\", \"Electricity Consumper per Month (GWh)\": 4834.0}, {\"country\": \"TURKEY\", \"Time\": \"2003-09-01T00:00:00\", \"Electricity Consumper per Month (GWh)\": 10702.0}, {\"country\": \"UNITED KINGDOM\", \"Time\": \"2003-09-01T00:00:00\", \"Electricity Consumper per Month (GWh)\": 32772.0}, {\"country\": \"UNITED STATES\", \"Time\": \"2003-09-01T00:00:00\", \"Electricity Consumper per Month (GWh)\": 325964.0}, {\"country\": \"AUSTRALIA\", \"Time\": \"2003-10-01T00:00:00\", \"Electricity Consumper per Month (GWh)\": 17481.0}, {\"country\": \"AUSTRIA\", \"Time\": \"2003-10-01T00:00:00\", \"Electricity Consumper per Month (GWh)\": 5391.0}, {\"country\": \"BELGIUM\", \"Time\": \"2003-10-01T00:00:00\", \"Electricity Consumper per Month (GWh)\": 7652.0}, {\"country\": \"CANADA\", \"Time\": \"2003-10-01T00:00:00\", \"Electricity Consumper per Month (GWh)\": 44655.0}, {\"country\": \"SWEDEN\", \"Time\": \"2003-10-01T00:00:00\", \"Electricity Consumper per Month (GWh)\": 12969.0}, {\"country\": \"SWITZERLAND\", \"Time\": \"2003-10-01T00:00:00\", \"Electricity Consumper per Month (GWh)\": 5174.0}, {\"country\": \"TURKEY\", \"Time\": \"2003-10-01T00:00:00\", \"Electricity Consumper per Month (GWh)\": 11139.0}, {\"country\": \"UNITED KINGDOM\", \"Time\": \"2003-10-01T00:00:00\", \"Electricity Consumper per Month (GWh)\": 30939.0}, {\"country\": \"UNITED STATES\", \"Time\": \"2003-10-01T00:00:00\", \"Electricity Consumper per Month (GWh)\": 307370.0}, {\"country\": \"AUSTRALIA\", \"Time\": \"2003-11-01T00:00:00\", \"Electricity Consumper per Month (GWh)\": 17428.0}, {\"country\": \"AUSTRIA\", \"Time\": \"2003-11-01T00:00:00\", \"Electricity Consumper per Month (GWh)\": 5378.0}, {\"country\": \"BELGIUM\", \"Time\": \"2003-11-01T00:00:00\", \"Electricity Consumper per Month (GWh)\": 7537.0}, {\"country\": \"CANADA\", \"Time\": \"2003-11-01T00:00:00\", \"Electricity Consumper per Month (GWh)\": 47179.0}, {\"country\": \"SWEDEN\", \"Time\": \"2003-11-01T00:00:00\", \"Electricity Consumper per Month (GWh)\": 13080.0}, {\"country\": \"SWITZERLAND\", \"Time\": \"2003-11-01T00:00:00\", \"Electricity Consumper per Month (GWh)\": 5100.0}, {\"country\": \"TURKEY\", \"Time\": \"2003-11-01T00:00:00\", \"Electricity Consumper per Month (GWh)\": 11009.0}, {\"country\": \"UNITED KINGDOM\", \"Time\": \"2003-11-01T00:00:00\", \"Electricity Consumper per Month (GWh)\": 32205.0}, {\"country\": \"UNITED STATES\", \"Time\": \"2003-11-01T00:00:00\", \"Electricity Consumper per Month (GWh)\": 299686.0}, {\"country\": \"AUSTRALIA\", \"Time\": \"2003-12-01T00:00:00\", \"Electricity Consumper per Month (GWh)\": 17455.0}, {\"country\": \"AUSTRIA\", \"Time\": \"2003-12-01T00:00:00\", \"Electricity Consumper per Month (GWh)\": 5716.0}, {\"country\": \"BELGIUM\", \"Time\": \"2003-12-01T00:00:00\", \"Electricity Consumper per Month (GWh)\": 7954.0}, {\"country\": \"CANADA\", \"Time\": \"2003-12-01T00:00:00\", \"Electricity Consumper per Month (GWh)\": 52656.0}, {\"country\": \"SWEDEN\", \"Time\": \"2003-12-01T00:00:00\", \"Electricity Consumper per Month (GWh)\": 14165.0}, {\"country\": \"SWITZERLAND\", \"Time\": \"2003-12-01T00:00:00\", \"Electricity Consumper per Month (GWh)\": 5384.0}, {\"country\": \"TURKEY\", \"Time\": \"2003-12-01T00:00:00\", \"Electricity Consumper per Month (GWh)\": 12533.0}, {\"country\": \"UNITED KINGDOM\", \"Time\": \"2003-12-01T00:00:00\", \"Electricity Consumper per Month (GWh)\": 39426.0}, {\"country\": \"UNITED STATES\", \"Time\": \"2003-12-01T00:00:00\", \"Electricity Consumper per Month (GWh)\": 334713.0}, {\"country\": \"AUSTRALIA\", \"Time\": \"2004-01-01T00:00:00\", \"Electricity Consumper per Month (GWh)\": 18601.0}, {\"country\": \"AUSTRIA\", \"Time\": \"2004-01-01T00:00:00\", \"Electricity Consumper per Month (GWh)\": 6007.0}, {\"country\": \"BELGIUM\", \"Time\": \"2004-01-01T00:00:00\", \"Electricity Consumper per Month (GWh)\": 8303.0}, {\"country\": \"CANADA\", \"Time\": \"2004-01-01T00:00:00\", \"Electricity Consumper per Month (GWh)\": 59109.0}, {\"country\": \"SWEDEN\", \"Time\": \"2004-01-01T00:00:00\", \"Electricity Consumper per Month (GWh)\": 15683.0}, {\"country\": \"SWITZERLAND\", \"Time\": \"2004-01-01T00:00:00\", \"Electricity Consumper per Month (GWh)\": 5663.0}, {\"country\": \"TURKEY\", \"Time\": \"2004-01-01T00:00:00\", \"Electricity Consumper per Month (GWh)\": 12478.0}, {\"country\": \"UNITED KINGDOM\", \"Time\": \"2004-01-01T00:00:00\", \"Electricity Consumper per Month (GWh)\": 34139.0}, {\"country\": \"UNITED STATES\", \"Time\": \"2004-01-01T00:00:00\", \"Electricity Consumper per Month (GWh)\": 349541.0}, {\"country\": \"AUSTRALIA\", \"Time\": \"2004-02-01T00:00:00\", \"Electricity Consumper per Month (GWh)\": 18586.0}, {\"country\": \"AUSTRIA\", \"Time\": \"2004-02-01T00:00:00\", \"Electricity Consumper per Month (GWh)\": 5503.0}, {\"country\": \"BELGIUM\", \"Time\": \"2004-02-01T00:00:00\", \"Electricity Consumper per Month (GWh)\": 7673.0}, {\"country\": \"CANADA\", \"Time\": \"2004-02-01T00:00:00\", \"Electricity Consumper per Month (GWh)\": 51507.0}, {\"country\": \"SWEDEN\", \"Time\": \"2004-02-01T00:00:00\", \"Electricity Consumper per Month (GWh)\": 14020.0}, {\"country\": \"SWITZERLAND\", \"Time\": \"2004-02-01T00:00:00\", \"Electricity Consumper per Month (GWh)\": 5186.0}, {\"country\": \"TURKEY\", \"Time\": \"2004-02-01T00:00:00\", \"Electricity Consumper per Month (GWh)\": 11178.0}, {\"country\": \"UNITED KINGDOM\", \"Time\": \"2004-02-01T00:00:00\", \"Electricity Consumper per Month (GWh)\": 33917.0}, {\"country\": \"UNITED STATES\", \"Time\": \"2004-02-01T00:00:00\", \"Electricity Consumper per Month (GWh)\": 316599.0}, {\"country\": \"AUSTRALIA\", \"Time\": \"2004-03-01T00:00:00\", \"Electricity Consumper per Month (GWh)\": 18528.0}, {\"country\": \"AUSTRIA\", \"Time\": \"2004-03-01T00:00:00\", \"Electricity Consumper per Month (GWh)\": 5717.0}, {\"country\": \"BELGIUM\", \"Time\": \"2004-03-01T00:00:00\", \"Electricity Consumper per Month (GWh)\": 7973.0}, {\"country\": \"CANADA\", \"Time\": \"2004-03-01T00:00:00\", \"Electricity Consumper per Month (GWh)\": 51060.0}, {\"country\": \"SWEDEN\", \"Time\": \"2004-03-01T00:00:00\", \"Electricity Consumper per Month (GWh)\": 14108.0}, {\"country\": \"SWITZERLAND\", \"Time\": \"2004-03-01T00:00:00\", \"Electricity Consumper per Month (GWh)\": 5497.0}, {\"country\": \"TURKEY\", \"Time\": \"2004-03-01T00:00:00\", \"Electricity Consumper per Month (GWh)\": 12147.0}, {\"country\": \"UNITED KINGDOM\", \"Time\": \"2004-03-01T00:00:00\", \"Electricity Consumper per Month (GWh)\": 39607.0}, {\"country\": \"UNITED STATES\", \"Time\": \"2004-03-01T00:00:00\", \"Electricity Consumper per Month (GWh)\": 310618.0}, {\"country\": \"AUSTRALIA\", \"Time\": \"2004-04-01T00:00:00\", \"Electricity Consumper per Month (GWh)\": 18515.0}, {\"country\": \"AUSTRIA\", \"Time\": \"2004-04-01T00:00:00\", \"Electricity Consumper per Month (GWh)\": 4985.0}, {\"country\": \"BELGIUM\", \"Time\": \"2004-04-01T00:00:00\", \"Electricity Consumper per Month (GWh)\": 7230.0}, {\"country\": \"CANADA\", \"Time\": \"2004-04-01T00:00:00\", \"Electricity Consumper per Month (GWh)\": 44938.0}, {\"country\": \"SWEDEN\", \"Time\": \"2004-04-01T00:00:00\", \"Electricity Consumper per Month (GWh)\": 11519.0}, {\"country\": \"SWITZERLAND\", \"Time\": \"2004-04-01T00:00:00\", \"Electricity Consumper per Month (GWh)\": 4817.0}, {\"country\": \"TURKEY\", \"Time\": \"2004-04-01T00:00:00\", \"Electricity Consumper per Month (GWh)\": 11397.0}, {\"country\": \"UNITED KINGDOM\", \"Time\": \"2004-04-01T00:00:00\", \"Electricity Consumper per Month (GWh)\": 29565.0}, {\"country\": \"UNITED STATES\", \"Time\": \"2004-04-01T00:00:00\", \"Electricity Consumper per Month (GWh)\": 293253.0}, {\"country\": \"AUSTRALIA\", \"Time\": \"2004-05-01T00:00:00\", \"Electricity Consumper per Month (GWh)\": 18495.0}, {\"country\": \"AUSTRIA\", \"Time\": \"2004-05-01T00:00:00\", \"Electricity Consumper per Month (GWh)\": 4806.0}, {\"country\": \"BELGIUM\", \"Time\": \"2004-05-01T00:00:00\", \"Electricity Consumper per Month (GWh)\": 7013.0}, {\"country\": \"CANADA\", \"Time\": \"2004-05-01T00:00:00\", \"Electricity Consumper per Month (GWh)\": 43071.0}, {\"country\": \"SWEDEN\", \"Time\": \"2004-05-01T00:00:00\", \"Electricity Consumper per Month (GWh)\": 10717.0}, {\"country\": \"SWITZERLAND\", \"Time\": \"2004-05-01T00:00:00\", \"Electricity Consumper per Month (GWh)\": 5082.0}, {\"country\": \"TURKEY\", \"Time\": \"2004-05-01T00:00:00\", \"Electricity Consumper per Month (GWh)\": 11438.0}, {\"country\": \"UNITED KINGDOM\", \"Time\": \"2004-05-01T00:00:00\", \"Electricity Consumper per Month (GWh)\": 27630.0}, {\"country\": \"UNITED STATES\", \"Time\": \"2004-05-01T00:00:00\", \"Electricity Consumper per Month (GWh)\": 330843.0}, {\"country\": \"AUSTRALIA\", \"Time\": \"2004-06-01T00:00:00\", \"Electricity Consumper per Month (GWh)\": 18529.0}, {\"country\": \"AUSTRIA\", \"Time\": \"2004-06-01T00:00:00\", \"Electricity Consumper per Month (GWh)\": 4866.0}, {\"country\": \"BELGIUM\", \"Time\": \"2004-06-01T00:00:00\", \"Electricity Consumper per Month (GWh)\": 6730.0}, {\"country\": \"CANADA\", \"Time\": \"2004-06-01T00:00:00\", \"Electricity Consumper per Month (GWh)\": 41813.0}, {\"country\": \"SWEDEN\", \"Time\": \"2004-06-01T00:00:00\", \"Electricity Consumper per Month (GWh)\": 9848.0}, {\"country\": \"SWITZERLAND\", \"Time\": \"2004-06-01T00:00:00\", \"Electricity Consumper per Month (GWh)\": 5105.0}, {\"country\": \"TURKEY\", \"Time\": \"2004-06-01T00:00:00\", \"Electricity Consumper per Month (GWh)\": 11517.0}, {\"country\": \"UNITED KINGDOM\", \"Time\": \"2004-06-01T00:00:00\", \"Electricity Consumper per Month (GWh)\": 28125.0}, {\"country\": \"UNITED STATES\", \"Time\": \"2004-06-01T00:00:00\", \"Electricity Consumper per Month (GWh)\": 349227.0}, {\"country\": \"AUSTRALIA\", \"Time\": \"2004-07-01T00:00:00\", \"Electricity Consumper per Month (GWh)\": 18979.0}, {\"country\": \"AUSTRIA\", \"Time\": \"2004-07-01T00:00:00\", \"Electricity Consumper per Month (GWh)\": 4970.0}, {\"country\": \"BELGIUM\", \"Time\": \"2004-07-01T00:00:00\", \"Electricity Consumper per Month (GWh)\": 6726.0}, {\"country\": \"CANADA\", \"Time\": \"2004-07-01T00:00:00\", \"Electricity Consumper per Month (GWh)\": 43945.0}, {\"country\": \"SWEDEN\", \"Time\": \"2004-07-01T00:00:00\", \"Electricity Consumper per Month (GWh)\": 9192.0}, {\"country\": \"SWITZERLAND\", \"Time\": \"2004-07-01T00:00:00\", \"Electricity Consumper per Month (GWh)\": 5255.0}, {\"country\": \"TURKEY\", \"Time\": \"2004-07-01T00:00:00\", \"Electricity Consumper per Month (GWh)\": 12726.0}, {\"country\": \"UNITED KINGDOM\", \"Time\": \"2004-07-01T00:00:00\", \"Electricity Consumper per Month (GWh)\": 29152.0}, {\"country\": \"UNITED STATES\", \"Time\": \"2004-07-01T00:00:00\", \"Electricity Consumper per Month (GWh)\": 383642.0}, {\"country\": \"AUSTRALIA\", \"Time\": \"2004-08-01T00:00:00\", \"Electricity Consumper per Month (GWh)\": 18953.0}, {\"country\": \"AUSTRIA\", \"Time\": \"2004-08-01T00:00:00\", \"Electricity Consumper per Month (GWh)\": 4817.0}, {\"country\": \"BELGIUM\", \"Time\": \"2004-08-01T00:00:00\", \"Electricity Consumper per Month (GWh)\": 6886.0}, {\"country\": \"CANADA\", \"Time\": \"2004-08-01T00:00:00\", \"Electricity Consumper per Month (GWh)\": 43410.0}, {\"country\": \"SWEDEN\", \"Time\": \"2004-08-01T00:00:00\", \"Electricity Consumper per Month (GWh)\": 9963.0}, {\"country\": \"SWITZERLAND\", \"Time\": \"2004-08-01T00:00:00\", \"Electricity Consumper per Month (GWh)\": 4966.0}, {\"country\": \"TURKEY\", \"Time\": \"2004-08-01T00:00:00\", \"Electricity Consumper per Month (GWh)\": 12794.0}, {\"country\": \"UNITED KINGDOM\", \"Time\": \"2004-08-01T00:00:00\", \"Electricity Consumper per Month (GWh)\": 29352.0}, {\"country\": \"UNITED STATES\", \"Time\": \"2004-08-01T00:00:00\", \"Electricity Consumper per Month (GWh)\": 375330.0}, {\"country\": \"AUSTRALIA\", \"Time\": \"2004-09-01T00:00:00\", \"Electricity Consumper per Month (GWh)\": 18927.0}, {\"country\": \"AUSTRIA\", \"Time\": \"2004-09-01T00:00:00\", \"Electricity Consumper per Month (GWh)\": 4917.0}, {\"country\": \"BELGIUM\", \"Time\": \"2004-09-01T00:00:00\", \"Electricity Consumper per Month (GWh)\": 7204.0}, {\"country\": \"CANADA\", \"Time\": \"2004-09-01T00:00:00\", \"Electricity Consumper per Month (GWh)\": 42141.0}, {\"country\": \"SWEDEN\", \"Time\": \"2004-09-01T00:00:00\", \"Electricity Consumper per Month (GWh)\": 10402.0}, {\"country\": \"SWITZERLAND\", \"Time\": \"2004-09-01T00:00:00\", \"Electricity Consumper per Month (GWh)\": 4918.0}, {\"country\": \"TURKEY\", \"Time\": \"2004-09-01T00:00:00\", \"Electricity Consumper per Month (GWh)\": 12037.0}, {\"country\": \"UNITED KINGDOM\", \"Time\": \"2004-09-01T00:00:00\", \"Electricity Consumper per Month (GWh)\": 29313.0}, {\"country\": \"UNITED STATES\", \"Time\": \"2004-09-01T00:00:00\", \"Electricity Consumper per Month (GWh)\": 339652.0}, {\"country\": \"AUSTRALIA\", \"Time\": \"2004-10-01T00:00:00\", \"Electricity Consumper per Month (GWh)\": 17743.0}, {\"country\": \"AUSTRIA\", \"Time\": \"2004-10-01T00:00:00\", \"Electricity Consumper per Month (GWh)\": 5306.0}, {\"country\": \"BELGIUM\", \"Time\": \"2004-10-01T00:00:00\", \"Electricity Consumper per Month (GWh)\": 7685.0}, {\"country\": \"CANADA\", \"Time\": \"2004-10-01T00:00:00\", \"Electricity Consumper per Month (GWh)\": 45145.0}, {\"country\": \"SWEDEN\", \"Time\": \"2004-10-01T00:00:00\", \"Electricity Consumper per Month (GWh)\": 12379.0}, {\"country\": \"SWITZERLAND\", \"Time\": \"2004-10-01T00:00:00\", \"Electricity Consumper per Month (GWh)\": 5208.0}, {\"country\": \"TURKEY\", \"Time\": \"2004-10-01T00:00:00\", \"Electricity Consumper per Month (GWh)\": 11790.0}, {\"country\": \"UNITED KINGDOM\", \"Time\": \"2004-10-01T00:00:00\", \"Electricity Consumper per Month (GWh)\": 33046.0}, {\"country\": \"UNITED STATES\", \"Time\": \"2004-10-01T00:00:00\", \"Electricity Consumper per Month (GWh)\": 316117.0}, {\"country\": \"AUSTRALIA\", \"Time\": \"2004-11-01T00:00:00\", \"Electricity Consumper per Month (GWh)\": 17679.0}, {\"country\": \"AUSTRIA\", \"Time\": \"2004-11-01T00:00:00\", \"Electricity Consumper per Month (GWh)\": 5598.0}, {\"country\": \"BELGIUM\", \"Time\": \"2004-11-01T00:00:00\", \"Electricity Consumper per Month (GWh)\": 7826.0}, {\"country\": \"CANADA\", \"Time\": \"2004-11-01T00:00:00\", \"Electricity Consumper per Month (GWh)\": 48303.0}, {\"country\": \"SWEDEN\", \"Time\": \"2004-11-01T00:00:00\", \"Electricity Consumper per Month (GWh)\": 13942.0}, {\"country\": \"SWITZERLAND\", \"Time\": \"2004-11-01T00:00:00\", \"Electricity Consumper per Month (GWh)\": 5464.0}, {\"country\": \"TURKEY\", \"Time\": \"2004-11-01T00:00:00\", \"Electricity Consumper per Month (GWh)\": 11610.0}, {\"country\": \"UNITED KINGDOM\", \"Time\": \"2004-11-01T00:00:00\", \"Electricity Consumper per Month (GWh)\": 34407.0}, {\"country\": \"UNITED STATES\", \"Time\": \"2004-11-01T00:00:00\", \"Electricity Consumper per Month (GWh)\": 306138.0}, {\"country\": \"AUSTRALIA\", \"Time\": \"2004-12-01T00:00:00\", \"Electricity Consumper per Month (GWh)\": 17710.0}, {\"country\": \"AUSTRIA\", \"Time\": \"2004-12-01T00:00:00\", \"Electricity Consumper per Month (GWh)\": 6042.0}, {\"country\": \"BELGIUM\", \"Time\": \"2004-12-01T00:00:00\", \"Electricity Consumper per Month (GWh)\": 8259.0}, {\"country\": \"CANADA\", \"Time\": \"2004-12-01T00:00:00\", \"Electricity Consumper per Month (GWh)\": 55655.0}, {\"country\": \"SWEDEN\", \"Time\": \"2004-12-01T00:00:00\", \"Electricity Consumper per Month (GWh)\": 14652.0}, {\"country\": \"SWITZERLAND\", \"Time\": \"2004-12-01T00:00:00\", \"Electricity Consumper per Month (GWh)\": 5700.0}, {\"country\": \"TURKEY\", \"Time\": \"2004-12-01T00:00:00\", \"Electricity Consumper per Month (GWh)\": 13272.0}, {\"country\": \"UNITED KINGDOM\", \"Time\": \"2004-12-01T00:00:00\", \"Electricity Consumper per Month (GWh)\": 36073.0}, {\"country\": \"UNITED STATES\", \"Time\": \"2004-12-01T00:00:00\", \"Electricity Consumper per Month (GWh)\": 346172.0}, {\"country\": \"AUSTRALIA\", \"Time\": \"2005-01-01T00:00:00\", \"Electricity Consumper per Month (GWh)\": 19389.0}, {\"country\": \"AUSTRIA\", \"Time\": \"2005-01-01T00:00:00\", \"Electricity Consumper per Month (GWh)\": 6004.0}, {\"country\": \"BELGIUM\", \"Time\": \"2005-01-01T00:00:00\", \"Electricity Consumper per Month (GWh)\": 8335.0}, {\"country\": \"CANADA\", \"Time\": \"2005-01-01T00:00:00\", \"Electricity Consumper per Month (GWh)\": 57975.0}, {\"country\": \"SWEDEN\", \"Time\": \"2005-01-01T00:00:00\", \"Electricity Consumper per Month (GWh)\": 14664.0}, {\"country\": \"SWITZERLAND\", \"Time\": \"2005-01-01T00:00:00\", \"Electricity Consumper per Month (GWh)\": 5970.0}, {\"country\": \"TURKEY\", \"Time\": \"2005-01-01T00:00:00\", \"Electricity Consumper per Month (GWh)\": 12687.0}, {\"country\": \"UNITED KINGDOM\", \"Time\": \"2005-01-01T00:00:00\", \"Electricity Consumper per Month (GWh)\": 36400.0}, {\"country\": \"UNITED STATES\", \"Time\": \"2005-01-01T00:00:00\", \"Electricity Consumper per Month (GWh)\": 347608.0}, {\"country\": \"AUSTRALIA\", \"Time\": \"2005-02-01T00:00:00\", \"Electricity Consumper per Month (GWh)\": 19374.0}, {\"country\": \"AUSTRIA\", \"Time\": \"2005-02-01T00:00:00\", \"Electricity Consumper per Month (GWh)\": 5666.0}, {\"country\": \"BELGIUM\", \"Time\": \"2005-02-01T00:00:00\", \"Electricity Consumper per Month (GWh)\": 7685.0}, {\"country\": \"CANADA\", \"Time\": \"2005-02-01T00:00:00\", \"Electricity Consumper per Month (GWh)\": 50004.0}, {\"country\": \"SWEDEN\", \"Time\": \"2005-02-01T00:00:00\", \"Electricity Consumper per Month (GWh)\": 13888.0}, {\"country\": \"SWITZERLAND\", \"Time\": \"2005-02-01T00:00:00\", \"Electricity Consumper per Month (GWh)\": 5573.0}, {\"country\": \"TURKEY\", \"Time\": \"2005-02-01T00:00:00\", \"Electricity Consumper per Month (GWh)\": 12049.0}, {\"country\": \"UNITED KINGDOM\", \"Time\": \"2005-02-01T00:00:00\", \"Electricity Consumper per Month (GWh)\": 33948.0}, {\"country\": \"UNITED STATES\", \"Time\": \"2005-02-01T00:00:00\", \"Electricity Consumper per Month (GWh)\": 302476.0}, {\"country\": \"AUSTRALIA\", \"Time\": \"2005-03-01T00:00:00\", \"Electricity Consumper per Month (GWh)\": 19308.0}, {\"country\": \"AUSTRIA\", \"Time\": \"2005-03-01T00:00:00\", \"Electricity Consumper per Month (GWh)\": 5879.0}, {\"country\": \"BELGIUM\", \"Time\": \"2005-03-01T00:00:00\", \"Electricity Consumper per Month (GWh)\": 8005.0}, {\"country\": \"CANADA\", \"Time\": \"2005-03-01T00:00:00\", \"Electricity Consumper per Month (GWh)\": 52298.0}, {\"country\": \"SWEDEN\", \"Time\": \"2005-03-01T00:00:00\", \"Electricity Consumper per Month (GWh)\": 14777.0}, {\"country\": \"SWITZERLAND\", \"Time\": \"2005-03-01T00:00:00\", \"Electricity Consumper per Month (GWh)\": 5642.0}, {\"country\": \"TURKEY\", \"Time\": \"2005-03-01T00:00:00\", \"Electricity Consumper per Month (GWh)\": 12949.0}, {\"country\": \"UNITED KINGDOM\", \"Time\": \"2005-03-01T00:00:00\", \"Electricity Consumper per Month (GWh)\": 35680.0}, {\"country\": \"UNITED STATES\", \"Time\": \"2005-03-01T00:00:00\", \"Electricity Consumper per Month (GWh)\": 322003.0}, {\"country\": \"AUSTRALIA\", \"Time\": \"2005-04-01T00:00:00\", \"Electricity Consumper per Month (GWh)\": 19288.0}, {\"country\": \"AUSTRIA\", \"Time\": \"2005-04-01T00:00:00\", \"Electricity Consumper per Month (GWh)\": 5063.0}, {\"country\": \"BELGIUM\", \"Time\": \"2005-04-01T00:00:00\", \"Electricity Consumper per Month (GWh)\": 7307.0}, {\"country\": \"CANADA\", \"Time\": \"2005-04-01T00:00:00\", \"Electricity Consumper per Month (GWh)\": 45479.0}, {\"country\": \"SWEDEN\", \"Time\": \"2005-04-01T00:00:00\", \"Electricity Consumper per Month (GWh)\": 11843.0}, {\"country\": \"SWITZERLAND\", \"Time\": \"2005-04-01T00:00:00\", \"Electricity Consumper per Month (GWh)\": 5084.0}, {\"country\": \"TURKEY\", \"Time\": \"2005-04-01T00:00:00\", \"Electricity Consumper per Month (GWh)\": 12069.0}, {\"country\": \"UNITED KINGDOM\", \"Time\": \"2005-04-01T00:00:00\", \"Electricity Consumper per Month (GWh)\": 31786.0}, {\"country\": \"UNITED STATES\", \"Time\": \"2005-04-01T00:00:00\", \"Electricity Consumper per Month (GWh)\": 293141.0}, {\"country\": \"AUSTRALIA\", \"Time\": \"2005-05-01T00:00:00\", \"Electricity Consumper per Month (GWh)\": 19268.0}, {\"country\": \"AUSTRIA\", \"Time\": \"2005-05-01T00:00:00\", \"Electricity Consumper per Month (GWh)\": 4907.0}, {\"country\": \"BELGIUM\", \"Time\": \"2005-05-01T00:00:00\", \"Electricity Consumper per Month (GWh)\": 7151.0}, {\"country\": \"CANADA\", \"Time\": \"2005-05-01T00:00:00\", \"Electricity Consumper per Month (GWh)\": 44327.0}, {\"country\": \"SWEDEN\", \"Time\": \"2005-05-01T00:00:00\", \"Electricity Consumper per Month (GWh)\": 11112.0}, {\"country\": \"SWITZERLAND\", \"Time\": \"2005-05-01T00:00:00\", \"Electricity Consumper per Month (GWh)\": 4932.0}, {\"country\": \"TURKEY\", \"Time\": \"2005-05-01T00:00:00\", \"Electricity Consumper per Month (GWh)\": 12286.0}, {\"country\": \"UNITED KINGDOM\", \"Time\": \"2005-05-01T00:00:00\", \"Electricity Consumper per Month (GWh)\": 30268.0}, {\"country\": \"UNITED STATES\", \"Time\": \"2005-05-01T00:00:00\", \"Electricity Consumper per Month (GWh)\": 319170.0}, {\"country\": \"AUSTRALIA\", \"Time\": \"2005-06-01T00:00:00\", \"Electricity Consumper per Month (GWh)\": 19312.0}, {\"country\": \"AUSTRIA\", \"Time\": \"2005-06-01T00:00:00\", \"Electricity Consumper per Month (GWh)\": 4992.0}, {\"country\": \"BELGIUM\", \"Time\": \"2005-06-01T00:00:00\", \"Electricity Consumper per Month (GWh)\": 6979.0}, {\"country\": \"CANADA\", \"Time\": \"2005-06-01T00:00:00\", \"Electricity Consumper per Month (GWh)\": 44856.0}, {\"country\": \"SWEDEN\", \"Time\": \"2005-06-01T00:00:00\", \"Electricity Consumper per Month (GWh)\": 10034.0}, {\"country\": \"SWITZERLAND\", \"Time\": \"2005-06-01T00:00:00\", \"Electricity Consumper per Month (GWh)\": 4967.0}, {\"country\": \"TURKEY\", \"Time\": \"2005-06-01T00:00:00\", \"Electricity Consumper per Month (GWh)\": 12115.0}, {\"country\": \"UNITED KINGDOM\", \"Time\": \"2005-06-01T00:00:00\", \"Electricity Consumper per Month (GWh)\": 28936.0}, {\"country\": \"UNITED STATES\", \"Time\": \"2005-06-01T00:00:00\", \"Electricity Consumper per Month (GWh)\": 368293.0}, {\"country\": \"AUSTRALIA\", \"Time\": \"2005-07-01T00:00:00\", \"Electricity Consumper per Month (GWh)\": 19599.0}, {\"country\": \"AUSTRIA\", \"Time\": \"2005-07-01T00:00:00\", \"Electricity Consumper per Month (GWh)\": 5092.0}, {\"country\": \"BELGIUM\", \"Time\": \"2005-07-01T00:00:00\", \"Electricity Consumper per Month (GWh)\": 6646.0}, {\"country\": \"CANADA\", \"Time\": \"2005-07-01T00:00:00\", \"Electricity Consumper per Month (GWh)\": 46592.0}, {\"country\": \"SWEDEN\", \"Time\": \"2005-07-01T00:00:00\", \"Electricity Consumper per Month (GWh)\": 9190.0}, {\"country\": \"SWITZERLAND\", \"Time\": \"2005-07-01T00:00:00\", \"Electricity Consumper per Month (GWh)\": 4954.0}, {\"country\": \"TURKEY\", \"Time\": \"2005-07-01T00:00:00\", \"Electricity Consumper per Month (GWh)\": 13689.0}, {\"country\": \"UNITED KINGDOM\", \"Time\": \"2005-07-01T00:00:00\", \"Electricity Consumper per Month (GWh)\": 29248.0}, {\"country\": \"UNITED STATES\", \"Time\": \"2005-07-01T00:00:00\", \"Electricity Consumper per Month (GWh)\": 408488.0}, {\"country\": \"AUSTRALIA\", \"Time\": \"2005-08-01T00:00:00\", \"Electricity Consumper per Month (GWh)\": 19569.0}, {\"country\": \"AUSTRIA\", \"Time\": \"2005-08-01T00:00:00\", \"Electricity Consumper per Month (GWh)\": 4852.0}, {\"country\": \"BELGIUM\", \"Time\": \"2005-08-01T00:00:00\", \"Electricity Consumper per Month (GWh)\": 6807.0}, {\"country\": \"CANADA\", \"Time\": \"2005-08-01T00:00:00\", \"Electricity Consumper per Month (GWh)\": 46448.0}, {\"country\": \"SWEDEN\", \"Time\": \"2005-08-01T00:00:00\", \"Electricity Consumper per Month (GWh)\": 10133.0}, {\"country\": \"SWITZERLAND\", \"Time\": \"2005-08-01T00:00:00\", \"Electricity Consumper per Month (GWh)\": 4879.0}, {\"country\": \"TURKEY\", \"Time\": \"2005-08-01T00:00:00\", \"Electricity Consumper per Month (GWh)\": 14120.0}, {\"country\": \"UNITED KINGDOM\", \"Time\": \"2005-08-01T00:00:00\", \"Electricity Consumper per Month (GWh)\": 29040.0}, {\"country\": \"UNITED STATES\", \"Time\": \"2005-08-01T00:00:00\", \"Electricity Consumper per Month (GWh)\": 411854.0}, {\"country\": \"AUSTRALIA\", \"Time\": \"2005-09-01T00:00:00\", \"Electricity Consumper per Month (GWh)\": 19541.0}, {\"country\": \"AUSTRIA\", \"Time\": \"2005-09-01T00:00:00\", \"Electricity Consumper per Month (GWh)\": 5021.0}, {\"country\": \"BELGIUM\", \"Time\": \"2005-09-01T00:00:00\", \"Electricity Consumper per Month (GWh)\": 7127.0}, {\"country\": \"CANADA\", \"Time\": \"2005-09-01T00:00:00\", \"Electricity Consumper per Month (GWh)\": 43490.0}, {\"country\": \"SWEDEN\", \"Time\": \"2005-09-01T00:00:00\", \"Electricity Consumper per Month (GWh)\": 10682.0}, {\"country\": \"SWITZERLAND\", \"Time\": \"2005-09-01T00:00:00\", \"Electricity Consumper per Month (GWh)\": 5026.0}, {\"country\": \"TURKEY\", \"Time\": \"2005-09-01T00:00:00\", \"Electricity Consumper per Month (GWh)\": 12710.0}, {\"country\": \"UNITED KINGDOM\", \"Time\": \"2005-09-01T00:00:00\", \"Electricity Consumper per Month (GWh)\": 29293.0}, {\"country\": \"UNITED STATES\", \"Time\": \"2005-09-01T00:00:00\", \"Electricity Consumper per Month (GWh)\": 355214.0}, {\"country\": \"AUSTRALIA\", \"Time\": \"2005-10-01T00:00:00\", \"Electricity Consumper per Month (GWh)\": 19165.0}, {\"country\": \"AUSTRIA\", \"Time\": \"2005-10-01T00:00:00\", \"Electricity Consumper per Month (GWh)\": 5402.0}, {\"country\": \"BELGIUM\", \"Time\": \"2005-10-01T00:00:00\", \"Electricity Consumper per Month (GWh)\": 7433.0}, {\"country\": \"CANADA\", \"Time\": \"2005-10-01T00:00:00\", \"Electricity Consumper per Month (GWh)\": 45868.0}, {\"country\": \"SWEDEN\", \"Time\": \"2005-10-01T00:00:00\", \"Electricity Consumper per Month (GWh)\": 12273.0}, {\"country\": \"SWITZERLAND\", \"Time\": \"2005-10-01T00:00:00\", \"Electricity Consumper per Month (GWh)\": 5314.0}, {\"country\": \"TURKEY\", \"Time\": \"2005-10-01T00:00:00\", \"Electricity Consumper per Month (GWh)\": 12885.0}, {\"country\": \"UNITED KINGDOM\", \"Time\": \"2005-10-01T00:00:00\", \"Electricity Consumper per Month (GWh)\": 32289.0}, {\"country\": \"UNITED STATES\", \"Time\": \"2005-10-01T00:00:00\", \"Electricity Consumper per Month (GWh)\": 320780.0}, {\"country\": \"AUSTRALIA\", \"Time\": \"2005-11-01T00:00:00\", \"Electricity Consumper per Month (GWh)\": 19088.0}, {\"country\": \"AUSTRIA\", \"Time\": \"2005-11-01T00:00:00\", \"Electricity Consumper per Month (GWh)\": 5867.0}, {\"country\": \"BELGIUM\", \"Time\": \"2005-11-01T00:00:00\", \"Electricity Consumper per Month (GWh)\": 7902.0}, {\"country\": \"CANADA\", \"Time\": \"2005-11-01T00:00:00\", \"Electricity Consumper per Month (GWh)\": 49100.0}, {\"country\": \"SWEDEN\", \"Time\": \"2005-11-01T00:00:00\", \"Electricity Consumper per Month (GWh)\": 13338.0}, {\"country\": \"SWITZERLAND\", \"Time\": \"2005-11-01T00:00:00\", \"Electricity Consumper per Month (GWh)\": 5619.0}, {\"country\": \"TURKEY\", \"Time\": \"2005-11-01T00:00:00\", \"Electricity Consumper per Month (GWh)\": 12814.0}, {\"country\": \"UNITED KINGDOM\", \"Time\": \"2005-11-01T00:00:00\", \"Electricity Consumper per Month (GWh)\": 35207.0}, {\"country\": \"UNITED STATES\", \"Time\": \"2005-11-01T00:00:00\", \"Electricity Consumper per Month (GWh)\": 310200.0}, {\"country\": \"AUSTRALIA\", \"Time\": \"2005-12-01T00:00:00\", \"Electricity Consumper per Month (GWh)\": 19129.0}, {\"country\": \"AUSTRIA\", \"Time\": \"2005-12-01T00:00:00\", \"Electricity Consumper per Month (GWh)\": 6133.0}, {\"country\": \"BELGIUM\", \"Time\": \"2005-12-01T00:00:00\", \"Electricity Consumper per Month (GWh)\": 8327.0}, {\"country\": \"CANADA\", \"Time\": \"2005-12-01T00:00:00\", \"Electricity Consumper per Month (GWh)\": 55701.0}, {\"country\": \"SWEDEN\", \"Time\": \"2005-12-01T00:00:00\", \"Electricity Consumper per Month (GWh)\": 15289.0}, {\"country\": \"SWITZERLAND\", \"Time\": \"2005-12-01T00:00:00\", \"Electricity Consumper per Month (GWh)\": 6195.0}, {\"country\": \"TURKEY\", \"Time\": \"2005-12-01T00:00:00\", \"Electricity Consumper per Month (GWh)\": 13926.0}, {\"country\": \"UNITED KINGDOM\", \"Time\": \"2005-12-01T00:00:00\", \"Electricity Consumper per Month (GWh)\": 36716.0}, {\"country\": \"UNITED STATES\", \"Time\": \"2005-12-01T00:00:00\", \"Electricity Consumper per Month (GWh)\": 352954.0}, {\"country\": \"AUSTRALIA\", \"Time\": \"2006-01-01T00:00:00\", \"Electricity Consumper per Month (GWh)\": 18578.459}, {\"country\": \"AUSTRIA\", \"Time\": \"2006-01-01T00:00:00\", \"Electricity Consumper per Month (GWh)\": 6582.369999999999}, {\"country\": \"BELGIUM\", \"Time\": \"2006-01-01T00:00:00\", \"Electricity Consumper per Month (GWh)\": 8646.09}, {\"country\": \"CANADA\", \"Time\": \"2006-01-01T00:00:00\", \"Electricity Consumper per Month (GWh)\": 55357.261}, {\"country\": \"SWEDEN\", \"Time\": \"2006-01-01T00:00:00\", \"Electricity Consumper per Month (GWh)\": 16015.109}, {\"country\": \"SWITZERLAND\", \"Time\": \"2006-01-01T00:00:00\", \"Electricity Consumper per Month (GWh)\": 6336.728}, {\"country\": \"TURKEY\", \"Time\": \"2006-01-01T00:00:00\", \"Electricity Consumper per Month (GWh)\": 13647.171}, {\"country\": \"UNITED KINGDOM\", \"Time\": \"2006-01-01T00:00:00\", \"Electricity Consumper per Month (GWh)\": 37761.809}, {\"country\": \"UNITED STATES\", \"Time\": \"2006-01-01T00:00:00\", \"Electricity Consumper per Month (GWh)\": 333350.683}, {\"country\": \"AUSTRALIA\", \"Time\": \"2006-02-01T00:00:00\", \"Electricity Consumper per Month (GWh)\": 18571.788}, {\"country\": \"AUSTRIA\", \"Time\": \"2006-02-01T00:00:00\", \"Electricity Consumper per Month (GWh)\": 5930.058}, {\"country\": \"BELGIUM\", \"Time\": \"2006-02-01T00:00:00\", \"Electricity Consumper per Month (GWh)\": 7903.025}, {\"country\": \"CANADA\", \"Time\": \"2006-02-01T00:00:00\", \"Electricity Consumper per Month (GWh)\": 51379.214}, {\"country\": \"SWEDEN\", \"Time\": \"2006-02-01T00:00:00\", \"Electricity Consumper per Month (GWh)\": 14301.807}, {\"country\": \"SWITZERLAND\", \"Time\": \"2006-02-01T00:00:00\", \"Electricity Consumper per Month (GWh)\": 5672.688}, {\"country\": \"TURKEY\", \"Time\": \"2006-02-01T00:00:00\", \"Electricity Consumper per Month (GWh)\": 13028.771}, {\"country\": \"UNITED KINGDOM\", \"Time\": \"2006-02-01T00:00:00\", \"Electricity Consumper per Month (GWh)\": 33837.263999999996}, {\"country\": \"UNITED STATES\", \"Time\": \"2006-02-01T00:00:00\", \"Electricity Consumper per Month (GWh)\": 311513.776}, {\"country\": \"AUSTRALIA\", \"Time\": \"2006-03-01T00:00:00\", \"Electricity Consumper per Month (GWh)\": 18530.348}, {\"country\": \"AUSTRIA\", \"Time\": \"2006-03-01T00:00:00\", \"Electricity Consumper per Month (GWh)\": 6224.7080000000005}, {\"country\": \"BELGIUM\", \"Time\": \"2006-03-01T00:00:00\", \"Electricity Consumper per Month (GWh)\": 8406.264}, {\"country\": \"CANADA\", \"Time\": \"2006-03-01T00:00:00\", \"Electricity Consumper per Month (GWh)\": 52875.064}, {\"country\": \"SWEDEN\", \"Time\": \"2006-03-01T00:00:00\", \"Electricity Consumper per Month (GWh)\": 15527.344}, {\"country\": \"SWITZERLAND\", \"Time\": \"2006-03-01T00:00:00\", \"Electricity Consumper per Month (GWh)\": 6025.944}, {\"country\": \"TURKEY\", \"Time\": \"2006-03-01T00:00:00\", \"Electricity Consumper per Month (GWh)\": 13928.478}, {\"country\": \"UNITED KINGDOM\", \"Time\": \"2006-03-01T00:00:00\", \"Electricity Consumper per Month (GWh)\": 36641.958999999995}, {\"country\": \"UNITED STATES\", \"Time\": \"2006-03-01T00:00:00\", \"Electricity Consumper per Month (GWh)\": 322760.422}, {\"country\": \"AUSTRALIA\", \"Time\": \"2006-04-01T00:00:00\", \"Electricity Consumper per Month (GWh)\": 18513.2}, {\"country\": \"AUSTRIA\", \"Time\": \"2006-04-01T00:00:00\", \"Electricity Consumper per Month (GWh)\": 5183.223}, {\"country\": \"BELGIUM\", \"Time\": \"2006-04-01T00:00:00\", \"Electricity Consumper per Month (GWh)\": 7437.351000000001}, {\"country\": \"CANADA\", \"Time\": \"2006-04-01T00:00:00\", \"Electricity Consumper per Month (GWh)\": 45329.979}, {\"country\": \"SWEDEN\", \"Time\": \"2006-04-01T00:00:00\", \"Electricity Consumper per Month (GWh)\": 12285.306}, {\"country\": \"SWITZERLAND\", \"Time\": \"2006-04-01T00:00:00\", \"Electricity Consumper per Month (GWh)\": 5059.968}, {\"country\": \"TURKEY\", \"Time\": \"2006-04-01T00:00:00\", \"Electricity Consumper per Month (GWh)\": 12789.182999999999}, {\"country\": \"UNITED KINGDOM\", \"Time\": \"2006-04-01T00:00:00\", \"Electricity Consumper per Month (GWh)\": 30754.078999999998}, {\"country\": \"UNITED STATES\", \"Time\": \"2006-04-01T00:00:00\", \"Electricity Consumper per Month (GWh)\": 301845.599}, {\"country\": \"AUSTRALIA\", \"Time\": \"2006-05-01T00:00:00\", \"Electricity Consumper per Month (GWh)\": 18503.961}, {\"country\": \"AUSTRIA\", \"Time\": \"2006-05-01T00:00:00\", \"Electricity Consumper per Month (GWh)\": 5187.071}, {\"country\": \"BELGIUM\", \"Time\": \"2006-05-01T00:00:00\", \"Electricity Consumper per Month (GWh)\": 7407.766}, {\"country\": \"CANADA\", \"Time\": \"2006-05-01T00:00:00\", \"Electricity Consumper per Month (GWh)\": 44331.743}, {\"country\": \"SWEDEN\", \"Time\": \"2006-05-01T00:00:00\", \"Electricity Consumper per Month (GWh)\": 11044.775}, {\"country\": \"SWITZERLAND\", \"Time\": \"2006-05-01T00:00:00\", \"Electricity Consumper per Month (GWh)\": 5081.215}, {\"country\": \"TURKEY\", \"Time\": \"2006-05-01T00:00:00\", \"Electricity Consumper per Month (GWh)\": 13379.977}, {\"country\": \"UNITED KINGDOM\", \"Time\": \"2006-05-01T00:00:00\", \"Electricity Consumper per Month (GWh)\": 30148.257999999998}, {\"country\": \"UNITED STATES\", \"Time\": \"2006-05-01T00:00:00\", \"Electricity Consumper per Month (GWh)\": 334849.71900000004}, {\"country\": \"AUSTRALIA\", \"Time\": \"2006-06-01T00:00:00\", \"Electricity Consumper per Month (GWh)\": 18544.798}, {\"country\": \"AUSTRIA\", \"Time\": \"2006-06-01T00:00:00\", \"Electricity Consumper per Month (GWh)\": 5171.438}, {\"country\": \"BELGIUM\", \"Time\": \"2006-06-01T00:00:00\", \"Electricity Consumper per Month (GWh)\": 7149.156}, {\"country\": \"CANADA\", \"Time\": \"2006-06-01T00:00:00\", \"Electricity Consumper per Month (GWh)\": 43592.24599999999}, {\"country\": \"SWEDEN\", \"Time\": \"2006-06-01T00:00:00\", \"Electricity Consumper per Month (GWh)\": 9797.551000000001}, {\"country\": \"SWITZERLAND\", \"Time\": \"2006-06-01T00:00:00\", \"Electricity Consumper per Month (GWh)\": 4986.018}, {\"country\": \"TURKEY\", \"Time\": \"2006-06-01T00:00:00\", \"Electricity Consumper per Month (GWh)\": 13774.824}, {\"country\": \"UNITED KINGDOM\", \"Time\": \"2006-06-01T00:00:00\", \"Electricity Consumper per Month (GWh)\": 28464.681}, {\"country\": \"UNITED STATES\", \"Time\": \"2006-06-01T00:00:00\", \"Electricity Consumper per Month (GWh)\": 368924.78400000004}, {\"country\": \"AUSTRALIA\", \"Time\": \"2006-07-01T00:00:00\", \"Electricity Consumper per Month (GWh)\": 19563.461}, {\"country\": \"AUSTRIA\", \"Time\": \"2006-07-01T00:00:00\", \"Electricity Consumper per Month (GWh)\": 5329.961}, {\"country\": \"BELGIUM\", \"Time\": \"2006-07-01T00:00:00\", \"Electricity Consumper per Month (GWh)\": 7053.666}, {\"country\": \"CANADA\", \"Time\": \"2006-07-01T00:00:00\", \"Electricity Consumper per Month (GWh)\": 46105.119}, {\"country\": \"SWEDEN\", \"Time\": \"2006-07-01T00:00:00\", \"Electricity Consumper per Month (GWh)\": 9205.891}, {\"country\": \"SWITZERLAND\", \"Time\": \"2006-07-01T00:00:00\", \"Electricity Consumper per Month (GWh)\": 4998.302}, {\"country\": \"TURKEY\", \"Time\": \"2006-07-01T00:00:00\", \"Electricity Consumper per Month (GWh)\": 14853.089000000002}, {\"country\": \"UNITED KINGDOM\", \"Time\": \"2006-07-01T00:00:00\", \"Electricity Consumper per Month (GWh)\": 29309.677}, {\"country\": \"UNITED STATES\", \"Time\": \"2006-07-01T00:00:00\", \"Electricity Consumper per Month (GWh)\": 416756.11000000004}, {\"country\": \"AUSTRALIA\", \"Time\": \"2006-08-01T00:00:00\", \"Electricity Consumper per Month (GWh)\": 19540.359}, {\"country\": \"AUSTRIA\", \"Time\": \"2006-08-01T00:00:00\", \"Electricity Consumper per Month (GWh)\": 4975.344999999999}, {\"country\": \"BELGIUM\", \"Time\": \"2006-08-01T00:00:00\", \"Electricity Consumper per Month (GWh)\": 7003.737}, {\"country\": \"CANADA\", \"Time\": \"2006-08-01T00:00:00\", \"Electricity Consumper per Month (GWh)\": 45215.155}, {\"country\": \"SWEDEN\", \"Time\": \"2006-08-01T00:00:00\", \"Electricity Consumper per Month (GWh)\": 9866.708999999999}, {\"country\": \"SWITZERLAND\", \"Time\": \"2006-08-01T00:00:00\", \"Electricity Consumper per Month (GWh)\": 4901.709}, {\"country\": \"TURKEY\", \"Time\": \"2006-08-01T00:00:00\", \"Electricity Consumper per Month (GWh)\": 15628.051}, {\"country\": \"UNITED KINGDOM\", \"Time\": \"2006-08-01T00:00:00\", \"Electricity Consumper per Month (GWh)\": 28742.543}, {\"country\": \"UNITED STATES\", \"Time\": \"2006-08-01T00:00:00\", \"Electricity Consumper per Month (GWh)\": 414370.605}, {\"country\": \"AUSTRALIA\", \"Time\": \"2006-09-01T00:00:00\", \"Electricity Consumper per Month (GWh)\": 19517.577}, {\"country\": \"AUSTRIA\", \"Time\": \"2006-09-01T00:00:00\", \"Electricity Consumper per Month (GWh)\": 5134.161}, {\"country\": \"BELGIUM\", \"Time\": \"2006-09-01T00:00:00\", \"Electricity Consumper per Month (GWh)\": 7268.848000000001}, {\"country\": \"CANADA\", \"Time\": \"2006-09-01T00:00:00\", \"Electricity Consumper per Month (GWh)\": 42257.115000000005}, {\"country\": \"SWEDEN\", \"Time\": \"2006-09-01T00:00:00\", \"Electricity Consumper per Month (GWh)\": 10085.134999999998}, {\"country\": \"SWITZERLAND\", \"Time\": \"2006-09-01T00:00:00\", \"Electricity Consumper per Month (GWh)\": 5005.855}, {\"country\": \"TURKEY\", \"Time\": \"2006-09-01T00:00:00\", \"Electricity Consumper per Month (GWh)\": 13797.728}, {\"country\": \"UNITED KINGDOM\", \"Time\": \"2006-09-01T00:00:00\", \"Electricity Consumper per Month (GWh)\": 29679.126}, {\"country\": \"UNITED STATES\", \"Time\": \"2006-09-01T00:00:00\", \"Electricity Consumper per Month (GWh)\": 334705.43600000005}, {\"country\": \"AUSTRALIA\", \"Time\": \"2006-10-01T00:00:00\", \"Electricity Consumper per Month (GWh)\": 18805.545}, {\"country\": \"AUSTRIA\", \"Time\": \"2006-10-01T00:00:00\", \"Electricity Consumper per Month (GWh)\": 5538.356000000001}, {\"country\": \"BELGIUM\", \"Time\": \"2006-10-01T00:00:00\", \"Electricity Consumper per Month (GWh)\": 7762.944}, {\"country\": \"CANADA\", \"Time\": \"2006-10-01T00:00:00\", \"Electricity Consumper per Month (GWh)\": 45969.193}, {\"country\": \"SWEDEN\", \"Time\": \"2006-10-01T00:00:00\", \"Electricity Consumper per Month (GWh)\": 11688.730000000001}, {\"country\": \"SWITZERLAND\", \"Time\": \"2006-10-01T00:00:00\", \"Electricity Consumper per Month (GWh)\": 5226.450000000001}, {\"country\": \"TURKEY\", \"Time\": \"2006-10-01T00:00:00\", \"Electricity Consumper per Month (GWh)\": 13180.313000000002}, {\"country\": \"UNITED KINGDOM\", \"Time\": \"2006-10-01T00:00:00\", \"Electricity Consumper per Month (GWh)\": 31552.746}, {\"country\": \"UNITED STATES\", \"Time\": \"2006-10-01T00:00:00\", \"Electricity Consumper per Month (GWh)\": 324039.993}, {\"country\": \"AUSTRALIA\", \"Time\": \"2006-11-01T00:00:00\", \"Electricity Consumper per Month (GWh)\": 18728.694}, {\"country\": \"AUSTRIA\", \"Time\": \"2006-11-01T00:00:00\", \"Electricity Consumper per Month (GWh)\": 5721.254}, {\"country\": \"BELGIUM\", \"Time\": \"2006-11-01T00:00:00\", \"Electricity Consumper per Month (GWh)\": 7869.032}, {\"country\": \"CANADA\", \"Time\": \"2006-11-01T00:00:00\", \"Electricity Consumper per Month (GWh)\": 47971.225999999995}, {\"country\": \"SWEDEN\", \"Time\": \"2006-11-01T00:00:00\", \"Electricity Consumper per Month (GWh)\": 12973.797}, {\"country\": \"SWITZERLAND\", \"Time\": \"2006-11-01T00:00:00\", \"Electricity Consumper per Month (GWh)\": 5525.843000000001}, {\"country\": \"TURKEY\", \"Time\": \"2006-11-01T00:00:00\", \"Electricity Consumper per Month (GWh)\": 14465.725}, {\"country\": \"UNITED KINGDOM\", \"Time\": \"2006-11-01T00:00:00\", \"Electricity Consumper per Month (GWh)\": 34121.848}, {\"country\": \"UNITED STATES\", \"Time\": \"2006-11-01T00:00:00\", \"Electricity Consumper per Month (GWh)\": 311912.979}, {\"country\": \"AUSTRALIA\", \"Time\": \"2006-12-01T00:00:00\", \"Electricity Consumper per Month (GWh)\": 18785.081}, {\"country\": \"AUSTRIA\", \"Time\": \"2006-12-01T00:00:00\", \"Electricity Consumper per Month (GWh)\": 6088.476}, {\"country\": \"BELGIUM\", \"Time\": \"2006-12-01T00:00:00\", \"Electricity Consumper per Month (GWh)\": 8226.121000000001}, {\"country\": \"CANADA\", \"Time\": \"2006-12-01T00:00:00\", \"Electricity Consumper per Month (GWh)\": 53062.68400000001}, {\"country\": \"SWEDEN\", \"Time\": \"2006-12-01T00:00:00\", \"Electricity Consumper per Month (GWh)\": 13621.843}, {\"country\": \"SWITZERLAND\", \"Time\": \"2006-12-01T00:00:00\", \"Electricity Consumper per Month (GWh)\": 5874.280999999999}, {\"country\": \"TURKEY\", \"Time\": \"2006-12-01T00:00:00\", \"Electricity Consumper per Month (GWh)\": 15406.690999999999}, {\"country\": \"UNITED KINGDOM\", \"Time\": \"2006-12-01T00:00:00\", \"Electricity Consumper per Month (GWh)\": 35282.009999999995}, {\"country\": \"UNITED STATES\", \"Time\": \"2006-12-01T00:00:00\", \"Electricity Consumper per Month (GWh)\": 341184.89600000007}, {\"country\": \"AUSTRALIA\", \"Time\": \"2007-01-01T00:00:00\", \"Electricity Consumper per Month (GWh)\": 19090.456}, {\"country\": \"AUSTRIA\", \"Time\": \"2007-01-01T00:00:00\", \"Electricity Consumper per Month (GWh)\": 6220.120999999999}, {\"country\": \"BELGIUM\", \"Time\": \"2007-01-01T00:00:00\", \"Electricity Consumper per Month (GWh)\": 8475.115000000002}, {\"country\": \"CANADA\", \"Time\": \"2007-01-01T00:00:00\", \"Electricity Consumper per Month (GWh)\": 56597.897}, {\"country\": \"SWEDEN\", \"Time\": \"2007-01-01T00:00:00\", \"Electricity Consumper per Month (GWh)\": 14966.562}, {\"country\": \"SWITZERLAND\", \"Time\": \"2007-01-01T00:00:00\", \"Electricity Consumper per Month (GWh)\": 5920.274000000001}, {\"country\": \"TURKEY\", \"Time\": \"2007-01-01T00:00:00\", \"Electricity Consumper per Month (GWh)\": 15040.411999999998}, {\"country\": \"UNITED KINGDOM\", \"Time\": \"2007-01-01T00:00:00\", \"Electricity Consumper per Month (GWh)\": 36420.283}, {\"country\": \"UNITED STATES\", \"Time\": \"2007-01-01T00:00:00\", \"Electricity Consumper per Month (GWh)\": 358400.108}, {\"country\": \"AUSTRALIA\", \"Time\": \"2007-02-01T00:00:00\", \"Electricity Consumper per Month (GWh)\": 18732.643}, {\"country\": \"AUSTRIA\", \"Time\": \"2007-02-01T00:00:00\", \"Electricity Consumper per Month (GWh)\": 5564.122}, {\"country\": \"BELGIUM\", \"Time\": \"2007-02-01T00:00:00\", \"Electricity Consumper per Month (GWh)\": 7622.053}, {\"country\": \"CANADA\", \"Time\": \"2007-02-01T00:00:00\", \"Electricity Consumper per Month (GWh)\": 52841.026}, {\"country\": \"SWEDEN\", \"Time\": \"2007-02-01T00:00:00\", \"Electricity Consumper per Month (GWh)\": 14345.104}, {\"country\": \"SWITZERLAND\", \"Time\": \"2007-02-01T00:00:00\", \"Electricity Consumper per Month (GWh)\": 5339.409}, {\"country\": \"TURKEY\", \"Time\": \"2007-02-01T00:00:00\", \"Electricity Consumper per Month (GWh)\": 13925.635}, {\"country\": \"UNITED KINGDOM\", \"Time\": \"2007-02-01T00:00:00\", \"Electricity Consumper per Month (GWh)\": 32901.272}, {\"country\": \"UNITED STATES\", \"Time\": \"2007-02-01T00:00:00\", \"Electricity Consumper per Month (GWh)\": 329131.31799999997}, {\"country\": \"AUSTRALIA\", \"Time\": \"2007-03-01T00:00:00\", \"Electricity Consumper per Month (GWh)\": 18664.434}, {\"country\": \"AUSTRIA\", \"Time\": \"2007-03-01T00:00:00\", \"Electricity Consumper per Month (GWh)\": 5889.824999999999}, {\"country\": \"BELGIUM\", \"Time\": \"2007-03-01T00:00:00\", \"Electricity Consumper per Month (GWh)\": 8079.705}, {\"country\": \"CANADA\", \"Time\": \"2007-03-01T00:00:00\", \"Electricity Consumper per Month (GWh)\": 52816.137}, {\"country\": \"SWEDEN\", \"Time\": \"2007-03-01T00:00:00\", \"Electricity Consumper per Month (GWh)\": 13618.115}, {\"country\": \"SWITZERLAND\", \"Time\": \"2007-03-01T00:00:00\", \"Electricity Consumper per Month (GWh)\": 5660.8060000000005}, {\"country\": \"TURKEY\", \"Time\": \"2007-03-01T00:00:00\", \"Electricity Consumper per Month (GWh)\": 14954.3}, {\"country\": \"UNITED KINGDOM\", \"Time\": \"2007-03-01T00:00:00\", \"Electricity Consumper per Month (GWh)\": 34595.377}, {\"country\": \"UNITED STATES\", \"Time\": \"2007-03-01T00:00:00\", \"Electricity Consumper per Month (GWh)\": 326068.782}, {\"country\": \"AUSTRALIA\", \"Time\": \"2007-04-01T00:00:00\", \"Electricity Consumper per Month (GWh)\": 18544.123}, {\"country\": \"AUSTRIA\", \"Time\": \"2007-04-01T00:00:00\", \"Electricity Consumper per Month (GWh)\": 5171.429}, {\"country\": \"BELGIUM\", \"Time\": \"2007-04-01T00:00:00\", \"Electricity Consumper per Month (GWh)\": 7250.093}, {\"country\": \"CANADA\", \"Time\": \"2007-04-01T00:00:00\", \"Electricity Consumper per Month (GWh)\": 46611.286}, {\"country\": \"SWEDEN\", \"Time\": \"2007-04-01T00:00:00\", \"Electricity Consumper per Month (GWh)\": 11523.594}, {\"country\": \"SWITZERLAND\", \"Time\": \"2007-04-01T00:00:00\", \"Electricity Consumper per Month (GWh)\": 4884.085}, {\"country\": \"TURKEY\", \"Time\": \"2007-04-01T00:00:00\", \"Electricity Consumper per Month (GWh)\": 14163.225}, {\"country\": \"UNITED KINGDOM\", \"Time\": \"2007-04-01T00:00:00\", \"Electricity Consumper per Month (GWh)\": 29665.28}, {\"country\": \"UNITED STATES\", \"Time\": \"2007-04-01T00:00:00\", \"Electricity Consumper per Month (GWh)\": 308486.87200000003}, {\"country\": \"AUSTRALIA\", \"Time\": \"2007-05-01T00:00:00\", \"Electricity Consumper per Month (GWh)\": 18522.462}, {\"country\": \"AUSTRIA\", \"Time\": \"2007-05-01T00:00:00\", \"Electricity Consumper per Month (GWh)\": 5219.399}, {\"country\": \"BELGIUM\", \"Time\": \"2007-05-01T00:00:00\", \"Electricity Consumper per Month (GWh)\": 7332.293999999999}, {\"country\": \"CANADA\", \"Time\": \"2007-05-01T00:00:00\", \"Electricity Consumper per Month (GWh)\": 44093.688}, {\"country\": \"SWEDEN\", \"Time\": \"2007-05-01T00:00:00\", \"Electricity Consumper per Month (GWh)\": 11034.909}, {\"country\": \"SWITZERLAND\", \"Time\": \"2007-05-01T00:00:00\", \"Electricity Consumper per Month (GWh)\": 4993.742}, {\"country\": \"TURKEY\", \"Time\": \"2007-05-01T00:00:00\", \"Electricity Consumper per Month (GWh)\": 14458.800000000001}, {\"country\": \"UNITED KINGDOM\", \"Time\": \"2007-05-01T00:00:00\", \"Electricity Consumper per Month (GWh)\": 30154.324}, {\"country\": \"UNITED STATES\", \"Time\": \"2007-05-01T00:00:00\", \"Electricity Consumper per Month (GWh)\": 337077.406}, {\"country\": \"AUSTRALIA\", \"Time\": \"2007-06-01T00:00:00\", \"Electricity Consumper per Month (GWh)\": 18571.165}, {\"country\": \"AUSTRIA\", \"Time\": \"2007-06-01T00:00:00\", \"Electricity Consumper per Month (GWh)\": 5232.166}, {\"country\": \"BELGIUM\", \"Time\": \"2007-06-01T00:00:00\", \"Electricity Consumper per Month (GWh)\": 7180.240000000002}, {\"country\": \"CANADA\", \"Time\": \"2007-06-01T00:00:00\", \"Electricity Consumper per Month (GWh)\": 43095.07399999999}, {\"country\": \"SWEDEN\", \"Time\": \"2007-06-01T00:00:00\", \"Electricity Consumper per Month (GWh)\": 9928.143}, {\"country\": \"SWITZERLAND\", \"Time\": \"2007-06-01T00:00:00\", \"Electricity Consumper per Month (GWh)\": 4937.117}, {\"country\": \"TURKEY\", \"Time\": \"2007-06-01T00:00:00\", \"Electricity Consumper per Month (GWh)\": 14885.775}, {\"country\": \"UNITED KINGDOM\", \"Time\": \"2007-06-01T00:00:00\", \"Electricity Consumper per Month (GWh)\": 28606.93}, {\"country\": \"UNITED STATES\", \"Time\": \"2007-06-01T00:00:00\", \"Electricity Consumper per Month (GWh)\": 369027.088}, {\"country\": \"AUSTRALIA\", \"Time\": \"2007-07-01T00:00:00\", \"Electricity Consumper per Month (GWh)\": 19548.733}, {\"country\": \"AUSTRIA\", \"Time\": \"2007-07-01T00:00:00\", \"Electricity Consumper per Month (GWh)\": 5395.2119999999995}, {\"country\": \"BELGIUM\", \"Time\": \"2007-07-01T00:00:00\", \"Electricity Consumper per Month (GWh)\": 6972.330999999999}, {\"country\": \"CANADA\", \"Time\": \"2007-07-01T00:00:00\", \"Electricity Consumper per Month (GWh)\": 44478.737}, {\"country\": \"SWEDEN\", \"Time\": \"2007-07-01T00:00:00\", \"Electricity Consumper per Month (GWh)\": 9469.597}, {\"country\": \"SWITZERLAND\", \"Time\": \"2007-07-01T00:00:00\", \"Electricity Consumper per Month (GWh)\": 4855.362000000001}, {\"country\": \"TURKEY\", \"Time\": \"2007-07-01T00:00:00\", \"Electricity Consumper per Month (GWh)\": 16756.378}, {\"country\": \"UNITED KINGDOM\", \"Time\": \"2007-07-01T00:00:00\", \"Electricity Consumper per Month (GWh)\": 29071.652}, {\"country\": \"UNITED STATES\", \"Time\": \"2007-07-01T00:00:00\", \"Electricity Consumper per Month (GWh)\": 399942.67699999997}, {\"country\": \"AUSTRALIA\", \"Time\": \"2007-08-01T00:00:00\", \"Electricity Consumper per Month (GWh)\": 19503.027}, {\"country\": \"AUSTRIA\", \"Time\": \"2007-08-01T00:00:00\", \"Electricity Consumper per Month (GWh)\": 5133.435}, {\"country\": \"BELGIUM\", \"Time\": \"2007-08-01T00:00:00\", \"Electricity Consumper per Month (GWh)\": 7164.029}, {\"country\": \"CANADA\", \"Time\": \"2007-08-01T00:00:00\", \"Electricity Consumper per Month (GWh)\": 45003.766}, {\"country\": \"SWEDEN\", \"Time\": \"2007-08-01T00:00:00\", \"Electricity Consumper per Month (GWh)\": 10265.759}, {\"country\": \"SWITZERLAND\", \"Time\": \"2007-08-01T00:00:00\", \"Electricity Consumper per Month (GWh)\": 4890.363}, {\"country\": \"TURKEY\", \"Time\": \"2007-08-01T00:00:00\", \"Electricity Consumper per Month (GWh)\": 16827.894}, {\"country\": \"UNITED KINGDOM\", \"Time\": \"2007-08-01T00:00:00\", \"Electricity Consumper per Month (GWh)\": 29017.956}, {\"country\": \"UNITED STATES\", \"Time\": \"2007-08-01T00:00:00\", \"Electricity Consumper per Month (GWh)\": 427923.77}, {\"country\": \"AUSTRALIA\", \"Time\": \"2007-09-01T00:00:00\", \"Electricity Consumper per Month (GWh)\": 19457.758}, {\"country\": \"AUSTRIA\", \"Time\": \"2007-09-01T00:00:00\", \"Electricity Consumper per Month (GWh)\": 5276.263}, {\"country\": \"BELGIUM\", \"Time\": \"2007-09-01T00:00:00\", \"Electricity Consumper per Month (GWh)\": 7291.119999999999}, {\"country\": \"CANADA\", \"Time\": \"2007-09-01T00:00:00\", \"Electricity Consumper per Month (GWh)\": 41748.403000000006}, {\"country\": \"SWEDEN\", \"Time\": \"2007-09-01T00:00:00\", \"Electricity Consumper per Month (GWh)\": 10707.797}, {\"country\": \"SWITZERLAND\", \"Time\": \"2007-09-01T00:00:00\", \"Electricity Consumper per Month (GWh)\": 4984.15}, {\"country\": \"TURKEY\", \"Time\": \"2007-09-01T00:00:00\", \"Electricity Consumper per Month (GWh)\": 14934.218}, {\"country\": \"UNITED KINGDOM\", \"Time\": \"2007-09-01T00:00:00\", \"Electricity Consumper per Month (GWh)\": 29265.733000000004}, {\"country\": \"UNITED STATES\", \"Time\": \"2007-09-01T00:00:00\", \"Electricity Consumper per Month (GWh)\": 359235.836}, {\"country\": \"AUSTRALIA\", \"Time\": \"2007-10-01T00:00:00\", \"Electricity Consumper per Month (GWh)\": 18350.345}, {\"country\": \"AUSTRIA\", \"Time\": \"2007-10-01T00:00:00\", \"Electricity Consumper per Month (GWh)\": 5857.192000000001}, {\"country\": \"BELGIUM\", \"Time\": \"2007-10-01T00:00:00\", \"Electricity Consumper per Month (GWh)\": 7964.267}, {\"country\": \"CANADA\", \"Time\": \"2007-10-01T00:00:00\", \"Electricity Consumper per Month (GWh)\": 45120.203}, {\"country\": \"SWEDEN\", \"Time\": \"2007-10-01T00:00:00\", \"Electricity Consumper per Month (GWh)\": 12430.51}, {\"country\": \"SWITZERLAND\", \"Time\": \"2007-10-01T00:00:00\", \"Electricity Consumper per Month (GWh)\": 5392.812}, {\"country\": \"TURKEY\", \"Time\": \"2007-10-01T00:00:00\", \"Electricity Consumper per Month (GWh)\": 14384.824000000002}, {\"country\": \"UNITED KINGDOM\", \"Time\": \"2007-10-01T00:00:00\", \"Electricity Consumper per Month (GWh)\": 32955.469000000005}, {\"country\": \"UNITED STATES\", \"Time\": \"2007-10-01T00:00:00\", \"Electricity Consumper per Month (GWh)\": 336960.713}, {\"country\": \"AUSTRALIA\", \"Time\": \"2007-11-01T00:00:00\", \"Electricity Consumper per Month (GWh)\": 18235.023}, {\"country\": \"AUSTRIA\", \"Time\": \"2007-11-01T00:00:00\", \"Electricity Consumper per Month (GWh)\": 5941.482}, {\"country\": \"BELGIUM\", \"Time\": \"2007-11-01T00:00:00\", \"Electricity Consumper per Month (GWh)\": 8140.848999999999}, {\"country\": \"CANADA\", \"Time\": \"2007-11-01T00:00:00\", \"Electricity Consumper per Month (GWh)\": 49448.431}, {\"country\": \"SWEDEN\", \"Time\": \"2007-11-01T00:00:00\", \"Electricity Consumper per Month (GWh)\": 13779.886}, {\"country\": \"SWITZERLAND\", \"Time\": \"2007-11-01T00:00:00\", \"Electricity Consumper per Month (GWh)\": 5837.862000000001}, {\"country\": \"TURKEY\", \"Time\": \"2007-11-01T00:00:00\", \"Electricity Consumper per Month (GWh)\": 15383.318999999998}, {\"country\": \"UNITED KINGDOM\", \"Time\": \"2007-11-01T00:00:00\", \"Electricity Consumper per Month (GWh)\": 35385.394}, {\"country\": \"UNITED STATES\", \"Time\": \"2007-11-01T00:00:00\", \"Electricity Consumper per Month (GWh)\": 318875.047}, {\"country\": \"AUSTRALIA\", \"Time\": \"2007-12-01T00:00:00\", \"Electricity Consumper per Month (GWh)\": 18294.588}, {\"country\": \"AUSTRIA\", \"Time\": \"2007-12-01T00:00:00\", \"Electricity Consumper per Month (GWh)\": 6324.752}, {\"country\": \"BELGIUM\", \"Time\": \"2007-12-01T00:00:00\", \"Electricity Consumper per Month (GWh)\": 8404.901}, {\"country\": \"CANADA\", \"Time\": \"2007-12-01T00:00:00\", \"Electricity Consumper per Month (GWh)\": 56450.352}, {\"country\": \"SWEDEN\", \"Time\": \"2007-12-01T00:00:00\", \"Electricity Consumper per Month (GWh)\": 14379.025}, {\"country\": \"SWITZERLAND\", \"Time\": \"2007-12-01T00:00:00\", \"Electricity Consumper per Month (GWh)\": 6062.019}, {\"country\": \"TURKEY\", \"Time\": \"2007-12-01T00:00:00\", \"Electricity Consumper per Month (GWh)\": 16067.222}, {\"country\": \"UNITED KINGDOM\", \"Time\": \"2007-12-01T00:00:00\", \"Electricity Consumper per Month (GWh)\": 36311.33}, {\"country\": \"UNITED STATES\", \"Time\": \"2007-12-01T00:00:00\", \"Electricity Consumper per Month (GWh)\": 350675.386}, {\"country\": \"AUSTRALIA\", \"Time\": \"2008-01-01T00:00:00\", \"Electricity Consumper per Month (GWh)\": 19590.932}, {\"country\": \"AUSTRIA\", \"Time\": \"2008-01-01T00:00:00\", \"Electricity Consumper per Month (GWh)\": 6344.619000000001}, {\"country\": \"BELGIUM\", \"Time\": \"2008-01-01T00:00:00\", \"Electricity Consumper per Month (GWh)\": 8614.347000000002}, {\"country\": \"CANADA\", \"Time\": \"2008-01-01T00:00:00\", \"Electricity Consumper per Month (GWh)\": 57075.907}, {\"country\": \"SWEDEN\", \"Time\": \"2008-01-01T00:00:00\", \"Electricity Consumper per Month (GWh)\": 14819.034000000003}, {\"country\": \"SWITZERLAND\", \"Time\": \"2008-01-01T00:00:00\", \"Electricity Consumper per Month (GWh)\": 6130.405999999999}, {\"country\": \"TURKEY\", \"Time\": \"2008-01-01T00:00:00\", \"Electricity Consumper per Month (GWh)\": 17202.93}, {\"country\": \"UNITED KINGDOM\", \"Time\": \"2008-01-01T00:00:00\", \"Electricity Consumper per Month (GWh)\": 36884.826}, {\"country\": \"UNITED STATES\", \"Time\": \"2008-01-01T00:00:00\", \"Electricity Consumper per Month (GWh)\": 373545.22099999996}, {\"country\": \"AUSTRALIA\", \"Time\": \"2008-02-01T00:00:00\", \"Electricity Consumper per Month (GWh)\": 19582.523}, {\"country\": \"AUSTRIA\", \"Time\": \"2008-02-01T00:00:00\", \"Electricity Consumper per Month (GWh)\": 5834.109}, {\"country\": \"BELGIUM\", \"Time\": \"2008-02-01T00:00:00\", \"Electricity Consumper per Month (GWh)\": 7975.523999999999}, {\"country\": \"CANADA\", \"Time\": \"2008-02-01T00:00:00\", \"Electricity Consumper per Month (GWh)\": 53886.94699999999}, {\"country\": \"SWEDEN\", \"Time\": \"2008-02-01T00:00:00\", \"Electricity Consumper per Month (GWh)\": 13541.295}, {\"country\": \"SWITZERLAND\", \"Time\": \"2008-02-01T00:00:00\", \"Electricity Consumper per Month (GWh)\": 5642.1939999999995}, {\"country\": \"TURKEY\", \"Time\": \"2008-02-01T00:00:00\", \"Electricity Consumper per Month (GWh)\": 15781.387999999999}, {\"country\": \"UNITED KINGDOM\", \"Time\": \"2008-02-01T00:00:00\", \"Electricity Consumper per Month (GWh)\": 34076.975}, {\"country\": \"UNITED STATES\", \"Time\": \"2008-02-01T00:00:00\", \"Electricity Consumper per Month (GWh)\": 329533.386}, {\"country\": \"AUSTRALIA\", \"Time\": \"2008-03-01T00:00:00\", \"Electricity Consumper per Month (GWh)\": 19502.949}, {\"country\": \"AUSTRIA\", \"Time\": \"2008-03-01T00:00:00\", \"Electricity Consumper per Month (GWh)\": 5979.215}, {\"country\": \"BELGIUM\", \"Time\": \"2008-03-01T00:00:00\", \"Electricity Consumper per Month (GWh)\": 8213.249}, {\"country\": \"CANADA\", \"Time\": \"2008-03-01T00:00:00\", \"Electricity Consumper per Month (GWh)\": 53764.187}, {\"country\": \"SWEDEN\", \"Time\": \"2008-03-01T00:00:00\", \"Electricity Consumper per Month (GWh)\": 14045.085}, {\"country\": \"SWITZERLAND\", \"Time\": \"2008-03-01T00:00:00\", \"Electricity Consumper per Month (GWh)\": 5741.959999999999}, {\"country\": \"TURKEY\", \"Time\": \"2008-03-01T00:00:00\", \"Electricity Consumper per Month (GWh)\": 15544.702}, {\"country\": \"UNITED KINGDOM\", \"Time\": \"2008-03-01T00:00:00\", \"Electricity Consumper per Month (GWh)\": 34806.953}, {\"country\": \"UNITED STATES\", \"Time\": \"2008-03-01T00:00:00\", \"Electricity Consumper per Month (GWh)\": 328971.234}, {\"country\": \"AUSTRALIA\", \"Time\": \"2008-04-01T00:00:00\", \"Electricity Consumper per Month (GWh)\": 18649.686}, {\"country\": \"AUSTRIA\", \"Time\": \"2008-04-01T00:00:00\", \"Electricity Consumper per Month (GWh)\": 5515.147000000001}, {\"country\": \"BELGIUM\", \"Time\": \"2008-04-01T00:00:00\", \"Electricity Consumper per Month (GWh)\": 7725.866999999999}, {\"country\": \"CANADA\", \"Time\": \"2008-04-01T00:00:00\", \"Electricity Consumper per Month (GWh)\": 46200.053}, {\"country\": \"SWEDEN\", \"Time\": \"2008-04-01T00:00:00\", \"Electricity Consumper per Month (GWh)\": 12112.809}, {\"country\": \"SWITZERLAND\", \"Time\": \"2008-04-01T00:00:00\", \"Electricity Consumper per Month (GWh)\": 5458.106}, {\"country\": \"TURKEY\", \"Time\": \"2008-04-01T00:00:00\", \"Electricity Consumper per Month (GWh)\": 15002.281}, {\"country\": \"UNITED KINGDOM\", \"Time\": \"2008-04-01T00:00:00\", \"Electricity Consumper per Month (GWh)\": 32378.933999999997}, {\"country\": \"UNITED STATES\", \"Time\": \"2008-04-01T00:00:00\", \"Electricity Consumper per Month (GWh)\": 309967.09099999996}, {\"country\": \"AUSTRALIA\", \"Time\": \"2008-05-01T00:00:00\", \"Electricity Consumper per Month (GWh)\": 18636.992}, {\"country\": \"AUSTRIA\", \"Time\": \"2008-05-01T00:00:00\", \"Electricity Consumper per Month (GWh)\": 5401.288}, {\"country\": \"BELGIUM\", \"Time\": \"2008-05-01T00:00:00\", \"Electricity Consumper per Month (GWh)\": 7393.967}, {\"country\": \"CANADA\", \"Time\": \"2008-05-01T00:00:00\", \"Electricity Consumper per Month (GWh)\": 45139.479999999996}, {\"country\": \"SWEDEN\", \"Time\": \"2008-05-01T00:00:00\", \"Electricity Consumper per Month (GWh)\": 10937.900000000001}, {\"country\": \"SWITZERLAND\", \"Time\": \"2008-05-01T00:00:00\", \"Electricity Consumper per Month (GWh)\": 5157.76}, {\"country\": \"TURKEY\", \"Time\": \"2008-05-01T00:00:00\", \"Electricity Consumper per Month (GWh)\": 15591.286999999998}, {\"country\": \"UNITED KINGDOM\", \"Time\": \"2008-05-01T00:00:00\", \"Electricity Consumper per Month (GWh)\": 29319.453999999998}, {\"country\": \"UNITED STATES\", \"Time\": \"2008-05-01T00:00:00\", \"Electricity Consumper per Month (GWh)\": 330618.639}, {\"country\": \"AUSTRALIA\", \"Time\": \"2008-06-01T00:00:00\", \"Electricity Consumper per Month (GWh)\": 18720.444}, {\"country\": \"AUSTRIA\", \"Time\": \"2008-06-01T00:00:00\", \"Electricity Consumper per Month (GWh)\": 5276.55}, {\"country\": \"BELGIUM\", \"Time\": \"2008-06-01T00:00:00\", \"Electricity Consumper per Month (GWh)\": 7247.746}, {\"country\": \"CANADA\", \"Time\": \"2008-06-01T00:00:00\", \"Electricity Consumper per Month (GWh)\": 42990.779}, {\"country\": \"SWEDEN\", \"Time\": \"2008-06-01T00:00:00\", \"Electricity Consumper per Month (GWh)\": 9884.448}, {\"country\": \"SWITZERLAND\", \"Time\": \"2008-06-01T00:00:00\", \"Electricity Consumper per Month (GWh)\": 5072.122}, {\"country\": \"TURKEY\", \"Time\": \"2008-06-01T00:00:00\", \"Electricity Consumper per Month (GWh)\": 15809.192}, {\"country\": \"UNITED KINGDOM\", \"Time\": \"2008-06-01T00:00:00\", \"Electricity Consumper per Month (GWh)\": 28025.028000000002}, {\"country\": \"UNITED STATES\", \"Time\": \"2008-06-01T00:00:00\", \"Electricity Consumper per Month (GWh)\": 379358.50499999995}, {\"country\": \"AUSTRALIA\", \"Time\": \"2008-07-01T00:00:00\", \"Electricity Consumper per Month (GWh)\": 21181.662}, {\"country\": \"AUSTRIA\", \"Time\": \"2008-07-01T00:00:00\", \"Electricity Consumper per Month (GWh)\": 5324.321}, {\"country\": \"BELGIUM\", \"Time\": \"2008-07-01T00:00:00\", \"Electricity Consumper per Month (GWh)\": 7137.3189999999995}, {\"country\": \"CANADA\", \"Time\": \"2008-07-01T00:00:00\", \"Electricity Consumper per Month (GWh)\": 45560.664}, {\"country\": \"SWEDEN\", \"Time\": \"2008-07-01T00:00:00\", \"Electricity Consumper per Month (GWh)\": 9406.018}, {\"country\": \"SWITZERLAND\", \"Time\": \"2008-07-01T00:00:00\", \"Electricity Consumper per Month (GWh)\": 5033.816999999999}, {\"country\": \"TURKEY\", \"Time\": \"2008-07-01T00:00:00\", \"Electricity Consumper per Month (GWh)\": 17529.579999999998}, {\"country\": \"UNITED KINGDOM\", \"Time\": \"2008-07-01T00:00:00\", \"Electricity Consumper per Month (GWh)\": 29145.070999999996}, {\"country\": \"UNITED STATES\", \"Time\": \"2008-07-01T00:00:00\", \"Electricity Consumper per Month (GWh)\": 410208.25899999996}, {\"country\": \"AUSTRALIA\", \"Time\": \"2008-08-01T00:00:00\", \"Electricity Consumper per Month (GWh)\": 21105.847}, {\"country\": \"AUSTRIA\", \"Time\": \"2008-08-01T00:00:00\", \"Electricity Consumper per Month (GWh)\": 5081.725}, {\"country\": \"BELGIUM\", \"Time\": \"2008-08-01T00:00:00\", \"Electricity Consumper per Month (GWh)\": 7051.484}, {\"country\": \"CANADA\", \"Time\": \"2008-08-01T00:00:00\", \"Electricity Consumper per Month (GWh)\": 44515.331000000006}, {\"country\": \"SWEDEN\", \"Time\": \"2008-08-01T00:00:00\", \"Electricity Consumper per Month (GWh)\": 10054.252}, {\"country\": \"SWITZERLAND\", \"Time\": \"2008-08-01T00:00:00\", \"Electricity Consumper per Month (GWh)\": 4998.57}, {\"country\": \"TURKEY\", \"Time\": \"2008-08-01T00:00:00\", \"Electricity Consumper per Month (GWh)\": 17597.650999999998}, {\"country\": \"UNITED KINGDOM\", \"Time\": \"2008-08-01T00:00:00\", \"Electricity Consumper per Month (GWh)\": 28814.287}, {\"country\": \"UNITED STATES\", \"Time\": \"2008-08-01T00:00:00\", \"Electricity Consumper per Month (GWh)\": 395457.48}, {\"country\": \"AUSTRALIA\", \"Time\": \"2008-09-01T00:00:00\", \"Electricity Consumper per Month (GWh)\": 18779.099}, {\"country\": \"AUSTRIA\", \"Time\": \"2008-09-01T00:00:00\", \"Electricity Consumper per Month (GWh)\": 5467.77}, {\"country\": \"BELGIUM\", \"Time\": \"2008-09-01T00:00:00\", \"Electricity Consumper per Month (GWh)\": 7359.052}, {\"country\": \"CANADA\", \"Time\": \"2008-09-01T00:00:00\", \"Electricity Consumper per Month (GWh)\": 42062.492}, {\"country\": \"SWEDEN\", \"Time\": \"2008-09-01T00:00:00\", \"Electricity Consumper per Month (GWh)\": 10719.798}, {\"country\": \"SWITZERLAND\", \"Time\": \"2008-09-01T00:00:00\", \"Electricity Consumper per Month (GWh)\": 5143.404}, {\"country\": \"TURKEY\", \"Time\": \"2008-09-01T00:00:00\", \"Electricity Consumper per Month (GWh)\": 15313.494999999999}, {\"country\": \"UNITED KINGDOM\", \"Time\": \"2008-09-01T00:00:00\", \"Electricity Consumper per Month (GWh)\": 29182.9}, {\"country\": \"UNITED STATES\", \"Time\": \"2008-09-01T00:00:00\", \"Electricity Consumper per Month (GWh)\": 343227.944}, {\"country\": \"AUSTRALIA\", \"Time\": \"2008-10-01T00:00:00\", \"Electricity Consumper per Month (GWh)\": 19109.916}, {\"country\": \"AUSTRIA\", \"Time\": \"2008-10-01T00:00:00\", \"Electricity Consumper per Month (GWh)\": 5888.159}, {\"country\": \"BELGIUM\", \"Time\": \"2008-10-01T00:00:00\", \"Electricity Consumper per Month (GWh)\": 7871.496999999999}, {\"country\": \"CANADA\", \"Time\": \"2008-10-01T00:00:00\", \"Electricity Consumper per Month (GWh)\": 45861.388}, {\"country\": \"SWEDEN\", \"Time\": \"2008-10-01T00:00:00\", \"Electricity Consumper per Month (GWh)\": 11962.774}, {\"country\": \"SWITZERLAND\", \"Time\": \"2008-10-01T00:00:00\", \"Electricity Consumper per Month (GWh)\": 5509.956}, {\"country\": \"TURKEY\", \"Time\": \"2008-10-01T00:00:00\", \"Electricity Consumper per Month (GWh)\": 14220.777}, {\"country\": \"UNITED KINGDOM\", \"Time\": \"2008-10-01T00:00:00\", \"Electricity Consumper per Month (GWh)\": 32310.671}, {\"country\": \"UNITED STATES\", \"Time\": \"2008-10-01T00:00:00\", \"Electricity Consumper per Month (GWh)\": 322165.867}, {\"country\": \"AUSTRALIA\", \"Time\": \"2008-11-01T00:00:00\", \"Electricity Consumper per Month (GWh)\": 18607.464}, {\"country\": \"AUSTRIA\", \"Time\": \"2008-11-01T00:00:00\", \"Electricity Consumper per Month (GWh)\": 5780.965}, {\"country\": \"BELGIUM\", \"Time\": \"2008-11-01T00:00:00\", \"Electricity Consumper per Month (GWh)\": 7618.097}, {\"country\": \"CANADA\", \"Time\": \"2008-11-01T00:00:00\", \"Electricity Consumper per Month (GWh)\": 47832.14000000001}, {\"country\": \"SWEDEN\", \"Time\": \"2008-11-01T00:00:00\", \"Electricity Consumper per Month (GWh)\": 13072.87}, {\"country\": \"SWITZERLAND\", \"Time\": \"2008-11-01T00:00:00\", \"Electricity Consumper per Month (GWh)\": 5702.832999999999}, {\"country\": \"TURKEY\", \"Time\": \"2008-11-01T00:00:00\", \"Electricity Consumper per Month (GWh)\": 14741.305}, {\"country\": \"UNITED KINGDOM\", \"Time\": \"2008-11-01T00:00:00\", \"Electricity Consumper per Month (GWh)\": 33273.538}, {\"country\": \"UNITED STATES\", \"Time\": \"2008-11-01T00:00:00\", \"Electricity Consumper per Month (GWh)\": 313595.687}, {\"country\": \"AUSTRALIA\", \"Time\": \"2008-12-01T00:00:00\", \"Electricity Consumper per Month (GWh)\": 19346.843}, {\"country\": \"AUSTRIA\", \"Time\": \"2008-12-01T00:00:00\", \"Electricity Consumper per Month (GWh)\": 6073.8679999999995}, {\"country\": \"BELGIUM\", \"Time\": \"2008-12-01T00:00:00\", \"Electricity Consumper per Month (GWh)\": 7772.851}, {\"country\": \"CANADA\", \"Time\": \"2008-12-01T00:00:00\", \"Electricity Consumper per Month (GWh)\": 55688.629}, {\"country\": \"SWEDEN\", \"Time\": \"2008-12-01T00:00:00\", \"Electricity Consumper per Month (GWh)\": 13892.716}, {\"country\": \"SWITZERLAND\", \"Time\": \"2008-12-01T00:00:00\", \"Electricity Consumper per Month (GWh)\": 6101.871999999999}, {\"country\": \"TURKEY\", \"Time\": \"2008-12-01T00:00:00\", \"Electricity Consumper per Month (GWh)\": 15095.411999999998}, {\"country\": \"UNITED KINGDOM\", \"Time\": \"2008-12-01T00:00:00\", \"Electricity Consumper per Month (GWh)\": 35355.362}, {\"country\": \"UNITED STATES\", \"Time\": \"2008-12-01T00:00:00\", \"Electricity Consumper per Month (GWh)\": 348264.688}, {\"country\": \"AUSTRALIA\", \"Time\": \"2009-01-01T00:00:00\", \"Electricity Consumper per Month (GWh)\": 21052.411}, {\"country\": \"AUSTRIA\", \"Time\": \"2009-01-01T00:00:00\", \"Electricity Consumper per Month (GWh)\": 6364.737}, {\"country\": \"BELGIUM\", \"Time\": \"2009-01-01T00:00:00\", \"Electricity Consumper per Month (GWh)\": 8195.518}, {\"country\": \"CANADA\", \"Time\": \"2009-01-01T00:00:00\", \"Electricity Consumper per Month (GWh)\": 59336.511999999995}, {\"country\": \"SWEDEN\", \"Time\": \"2009-01-01T00:00:00\", \"Electricity Consumper per Month (GWh)\": 14552.268}, {\"country\": \"SWITZERLAND\", \"Time\": \"2009-01-01T00:00:00\", \"Electricity Consumper per Month (GWh)\": 6352.415000000001}, {\"country\": \"TURKEY\", \"Time\": \"2009-01-01T00:00:00\", \"Electricity Consumper per Month (GWh)\": 16098.57}, {\"country\": \"UNITED KINGDOM\", \"Time\": \"2009-01-01T00:00:00\", \"Electricity Consumper per Month (GWh)\": 36490.12100000001}, {\"country\": \"UNITED STATES\", \"Time\": \"2009-01-01T00:00:00\", \"Electricity Consumper per Month (GWh)\": 360180.32899999997}, {\"country\": \"AUSTRALIA\", \"Time\": \"2009-02-01T00:00:00\", \"Electricity Consumper per Month (GWh)\": 18363.348}, {\"country\": \"AUSTRIA\", \"Time\": \"2009-02-01T00:00:00\", \"Electricity Consumper per Month (GWh)\": 5709.643999999999}, {\"country\": \"BELGIUM\", \"Time\": \"2009-02-01T00:00:00\", \"Electricity Consumper per Month (GWh)\": 7298.125}, {\"country\": \"CANADA\", \"Time\": \"2009-02-01T00:00:00\", \"Electricity Consumper per Month (GWh)\": 50085.65700000001}, {\"country\": \"SWEDEN\", \"Time\": \"2009-02-01T00:00:00\", \"Electricity Consumper per Month (GWh)\": 13410.758}, {\"country\": \"SWITZERLAND\", \"Time\": \"2009-02-01T00:00:00\", \"Electricity Consumper per Month (GWh)\": 5643.396}, {\"country\": \"TURKEY\", \"Time\": \"2009-02-01T00:00:00\", \"Electricity Consumper per Month (GWh)\": 14335.15}, {\"country\": \"UNITED KINGDOM\", \"Time\": \"2009-02-01T00:00:00\", \"Electricity Consumper per Month (GWh)\": 32543.927}, {\"country\": \"UNITED STATES\", \"Time\": \"2009-02-01T00:00:00\", \"Electricity Consumper per Month (GWh)\": 305955.52}, {\"country\": \"AUSTRALIA\", \"Time\": \"2009-03-01T00:00:00\", \"Electricity Consumper per Month (GWh)\": 18635.918}, {\"country\": \"AUSTRIA\", \"Time\": \"2009-03-01T00:00:00\", \"Electricity Consumper per Month (GWh)\": 5885.514999999999}, {\"country\": \"BELGIUM\", \"Time\": \"2009-03-01T00:00:00\", \"Electricity Consumper per Month (GWh)\": 7345.245000000001}, {\"country\": \"CANADA\", \"Time\": \"2009-03-01T00:00:00\", \"Electricity Consumper per Month (GWh)\": 51461.591}, {\"country\": \"SWEDEN\", \"Time\": \"2009-03-01T00:00:00\", \"Electricity Consumper per Month (GWh)\": 13300.033000000001}, {\"country\": \"SWITZERLAND\", \"Time\": \"2009-03-01T00:00:00\", \"Electricity Consumper per Month (GWh)\": 5790.49}, {\"country\": \"TURKEY\", \"Time\": \"2009-03-01T00:00:00\", \"Electricity Consumper per Month (GWh)\": 15302.053000000002}, {\"country\": \"UNITED KINGDOM\", \"Time\": \"2009-03-01T00:00:00\", \"Electricity Consumper per Month (GWh)\": 32809.573000000004}, {\"country\": \"UNITED STATES\", \"Time\": \"2009-03-01T00:00:00\", \"Electricity Consumper per Month (GWh)\": 314024.62700000004}, {\"country\": \"AUSTRALIA\", \"Time\": \"2009-04-01T00:00:00\", \"Electricity Consumper per Month (GWh)\": 17841.528}, {\"country\": \"AUSTRIA\", \"Time\": \"2009-04-01T00:00:00\", \"Electricity Consumper per Month (GWh)\": 5082.522}, {\"country\": \"BELGIUM\", \"Time\": \"2009-04-01T00:00:00\", \"Electricity Consumper per Month (GWh)\": 6596.13}, {\"country\": \"CANADA\", \"Time\": \"2009-04-01T00:00:00\", \"Electricity Consumper per Month (GWh)\": 44044.889}, {\"country\": \"SWEDEN\", \"Time\": \"2009-04-01T00:00:00\", \"Electricity Consumper per Month (GWh)\": 10534.534}, {\"country\": \"SWITZERLAND\", \"Time\": \"2009-04-01T00:00:00\", \"Electricity Consumper per Month (GWh)\": 4842.057}, {\"country\": \"TURKEY\", \"Time\": \"2009-04-01T00:00:00\", \"Electricity Consumper per Month (GWh)\": 14274.747000000001}, {\"country\": \"UNITED KINGDOM\", \"Time\": \"2009-04-01T00:00:00\", \"Electricity Consumper per Month (GWh)\": 28333.551999999996}, {\"country\": \"UNITED STATES\", \"Time\": \"2009-04-01T00:00:00\", \"Electricity Consumper per Month (GWh)\": 293779.378}, {\"country\": \"AUSTRALIA\", \"Time\": \"2009-05-01T00:00:00\", \"Electricity Consumper per Month (GWh)\": 19325.898}, {\"country\": \"AUSTRIA\", \"Time\": \"2009-05-01T00:00:00\", \"Electricity Consumper per Month (GWh)\": 5083.766}, {\"country\": \"BELGIUM\", \"Time\": \"2009-05-01T00:00:00\", \"Electricity Consumper per Month (GWh)\": 6676.634}, {\"country\": \"CANADA\", \"Time\": \"2009-05-01T00:00:00\", \"Electricity Consumper per Month (GWh)\": 41392.01}, {\"country\": \"SWEDEN\", \"Time\": \"2009-05-01T00:00:00\", \"Electricity Consumper per Month (GWh)\": 9983.099999999999}, {\"country\": \"SWITZERLAND\", \"Time\": \"2009-05-01T00:00:00\", \"Electricity Consumper per Month (GWh)\": 4909.256}, {\"country\": \"TURKEY\", \"Time\": \"2009-05-01T00:00:00\", \"Electricity Consumper per Month (GWh)\": 14724.807999999999}, {\"country\": \"UNITED KINGDOM\", \"Time\": \"2009-05-01T00:00:00\", \"Electricity Consumper per Month (GWh)\": 28185.651}, {\"country\": \"UNITED STATES\", \"Time\": \"2009-05-01T00:00:00\", \"Electricity Consumper per Month (GWh)\": 317249.44499999995}, {\"country\": \"AUSTRALIA\", \"Time\": \"2009-06-01T00:00:00\", \"Electricity Consumper per Month (GWh)\": 19338.068}, {\"country\": \"AUSTRIA\", \"Time\": \"2009-06-01T00:00:00\", \"Electricity Consumper per Month (GWh)\": 4975.880999999999}, {\"country\": \"BELGIUM\", \"Time\": \"2009-06-01T00:00:00\", \"Electricity Consumper per Month (GWh)\": 6580.217}, {\"country\": \"CANADA\", \"Time\": \"2009-06-01T00:00:00\", \"Electricity Consumper per Month (GWh)\": 40355.42999999999}, {\"country\": \"SWEDEN\", \"Time\": \"2009-06-01T00:00:00\", \"Electricity Consumper per Month (GWh)\": 9480.497}, {\"country\": \"SWITZERLAND\", \"Time\": \"2009-06-01T00:00:00\", \"Electricity Consumper per Month (GWh)\": 4791.737}, {\"country\": \"TURKEY\", \"Time\": \"2009-06-01T00:00:00\", \"Electricity Consumper per Month (GWh)\": 15297.83}, {\"country\": \"UNITED KINGDOM\", \"Time\": \"2009-06-01T00:00:00\", \"Electricity Consumper per Month (GWh)\": 27301.962}, {\"country\": \"UNITED STATES\", \"Time\": \"2009-06-01T00:00:00\", \"Electricity Consumper per Month (GWh)\": 353833.92600000004}, {\"country\": \"AUSTRALIA\", \"Time\": \"2009-07-01T00:00:00\", \"Electricity Consumper per Month (GWh)\": 20380.807}, {\"country\": \"AUSTRIA\", \"Time\": \"2009-07-01T00:00:00\", \"Electricity Consumper per Month (GWh)\": 5246.576999999999}, {\"country\": \"BELGIUM\", \"Time\": \"2009-07-01T00:00:00\", \"Electricity Consumper per Month (GWh)\": 6507.061000000001}, {\"country\": \"CANADA\", \"Time\": \"2009-07-01T00:00:00\", \"Electricity Consumper per Month (GWh)\": 41829.237}, {\"country\": \"SWEDEN\", \"Time\": \"2009-07-01T00:00:00\", \"Electricity Consumper per Month (GWh)\": 8512.693}, {\"country\": \"SWITZERLAND\", \"Time\": \"2009-07-01T00:00:00\", \"Electricity Consumper per Month (GWh)\": 4916.311}, {\"country\": \"TURKEY\", \"Time\": \"2009-07-01T00:00:00\", \"Electricity Consumper per Month (GWh)\": 17048.582000000002}, {\"country\": \"UNITED KINGDOM\", \"Time\": \"2009-07-01T00:00:00\", \"Electricity Consumper per Month (GWh)\": 27561.864}, {\"country\": \"UNITED STATES\", \"Time\": \"2009-07-01T00:00:00\", \"Electricity Consumper per Month (GWh)\": 378736.762}, {\"country\": \"AUSTRALIA\", \"Time\": \"2009-08-01T00:00:00\", \"Electricity Consumper per Month (GWh)\": 19221.722}, {\"country\": \"AUSTRIA\", \"Time\": \"2009-08-01T00:00:00\", \"Electricity Consumper per Month (GWh)\": 5067.77}, {\"country\": \"BELGIUM\", \"Time\": \"2009-08-01T00:00:00\", \"Electricity Consumper per Month (GWh)\": 6658.11}, {\"country\": \"CANADA\", \"Time\": \"2009-08-01T00:00:00\", \"Electricity Consumper per Month (GWh)\": 42546.345}, {\"country\": \"SWEDEN\", \"Time\": \"2009-08-01T00:00:00\", \"Electricity Consumper per Month (GWh)\": 9358.010999999999}, {\"country\": \"SWITZERLAND\", \"Time\": \"2009-08-01T00:00:00\", \"Electricity Consumper per Month (GWh)\": 4911.387}, {\"country\": \"TURKEY\", \"Time\": \"2009-08-01T00:00:00\", \"Electricity Consumper per Month (GWh)\": 17003.915}, {\"country\": \"UNITED KINGDOM\", \"Time\": \"2009-08-01T00:00:00\", \"Electricity Consumper per Month (GWh)\": 27323.049}, {\"country\": \"UNITED STATES\", \"Time\": \"2009-08-01T00:00:00\", \"Electricity Consumper per Month (GWh)\": 387911.189}, {\"country\": \"AUSTRALIA\", \"Time\": \"2009-09-01T00:00:00\", \"Electricity Consumper per Month (GWh)\": 18203.779}, {\"country\": \"AUSTRIA\", \"Time\": \"2009-09-01T00:00:00\", \"Electricity Consumper per Month (GWh)\": 5280.942}, {\"country\": \"BELGIUM\", \"Time\": \"2009-09-01T00:00:00\", \"Electricity Consumper per Month (GWh)\": 6982.673}, {\"country\": \"CANADA\", \"Time\": \"2009-09-01T00:00:00\", \"Electricity Consumper per Month (GWh)\": 40483.384}, {\"country\": \"SWEDEN\", \"Time\": \"2009-09-01T00:00:00\", \"Electricity Consumper per Month (GWh)\": 9893.184000000001}, {\"country\": \"SWITZERLAND\", \"Time\": \"2009-09-01T00:00:00\", \"Electricity Consumper per Month (GWh)\": 4970.599}, {\"country\": \"TURKEY\", \"Time\": \"2009-09-01T00:00:00\", \"Electricity Consumper per Month (GWh)\": 14744.831999999999}, {\"country\": \"UNITED KINGDOM\", \"Time\": \"2009-09-01T00:00:00\", \"Electricity Consumper per Month (GWh)\": 27486.957}, {\"country\": \"UNITED STATES\", \"Time\": \"2009-09-01T00:00:00\", \"Electricity Consumper per Month (GWh)\": 332059.864}, {\"country\": \"AUSTRALIA\", \"Time\": \"2009-10-01T00:00:00\", \"Electricity Consumper per Month (GWh)\": 19611.4}, {\"country\": \"AUSTRIA\", \"Time\": \"2009-10-01T00:00:00\", \"Electricity Consumper per Month (GWh)\": 5806.781}, {\"country\": \"BELGIUM\", \"Time\": \"2009-10-01T00:00:00\", \"Electricity Consumper per Month (GWh)\": 7491.994000000001}, {\"country\": \"CANADA\", \"Time\": \"2009-10-01T00:00:00\", \"Electricity Consumper per Month (GWh)\": 45177.96}, {\"country\": \"SWEDEN\", \"Time\": \"2009-10-01T00:00:00\", \"Electricity Consumper per Month (GWh)\": 12141.538999999999}, {\"country\": \"SWITZERLAND\", \"Time\": \"2009-10-01T00:00:00\", \"Electricity Consumper per Month (GWh)\": 5390.115}, {\"country\": \"TURKEY\", \"Time\": \"2009-10-01T00:00:00\", \"Electricity Consumper per Month (GWh)\": 15280.074}, {\"country\": \"UNITED KINGDOM\", \"Time\": \"2009-10-01T00:00:00\", \"Electricity Consumper per Month (GWh)\": 29977.850000000002}, {\"country\": \"UNITED STATES\", \"Time\": \"2009-10-01T00:00:00\", \"Electricity Consumper per Month (GWh)\": 312134.92299999995}, {\"country\": \"AUSTRALIA\", \"Time\": \"2009-11-01T00:00:00\", \"Electricity Consumper per Month (GWh)\": 22112.551}, {\"country\": \"AUSTRIA\", \"Time\": \"2009-11-01T00:00:00\", \"Electricity Consumper per Month (GWh)\": 5924.144}, {\"country\": \"BELGIUM\", \"Time\": \"2009-11-01T00:00:00\", \"Electricity Consumper per Month (GWh)\": 7351.003000000001}, {\"country\": \"CANADA\", \"Time\": \"2009-11-01T00:00:00\", \"Electricity Consumper per Month (GWh)\": 45850.932}, {\"country\": \"SWEDEN\", \"Time\": \"2009-11-01T00:00:00\", \"Electricity Consumper per Month (GWh)\": 12320.95}, {\"country\": \"SWITZERLAND\", \"Time\": \"2009-11-01T00:00:00\", \"Electricity Consumper per Month (GWh)\": 5564.451}, {\"country\": \"TURKEY\", \"Time\": \"2009-11-01T00:00:00\", \"Electricity Consumper per Month (GWh)\": 14946.584}, {\"country\": \"UNITED KINGDOM\", \"Time\": \"2009-11-01T00:00:00\", \"Electricity Consumper per Month (GWh)\": 31259.499}, {\"country\": \"UNITED STATES\", \"Time\": \"2009-11-01T00:00:00\", \"Electricity Consumper per Month (GWh)\": 300965.602}, {\"country\": \"AUSTRALIA\", \"Time\": \"2009-12-01T00:00:00\", \"Electricity Consumper per Month (GWh)\": 20455.353}, {\"country\": \"AUSTRIA\", \"Time\": \"2009-12-01T00:00:00\", \"Electricity Consumper per Month (GWh)\": 6292.906999999999}, {\"country\": \"BELGIUM\", \"Time\": \"2009-12-01T00:00:00\", \"Electricity Consumper per Month (GWh)\": 8005.287999999999}, {\"country\": \"CANADA\", \"Time\": \"2009-12-01T00:00:00\", \"Electricity Consumper per Month (GWh)\": 55409.055}, {\"country\": \"SWEDEN\", \"Time\": \"2009-12-01T00:00:00\", \"Electricity Consumper per Month (GWh)\": 14540.43}, {\"country\": \"SWITZERLAND\", \"Time\": \"2009-12-01T00:00:00\", \"Electricity Consumper per Month (GWh)\": 6119.786}, {\"country\": \"TURKEY\", \"Time\": \"2009-12-01T00:00:00\", \"Electricity Consumper per Month (GWh)\": 16827.857}, {\"country\": \"UNITED KINGDOM\", \"Time\": \"2009-12-01T00:00:00\", \"Electricity Consumper per Month (GWh)\": 33733.99600000001}, {\"country\": \"UNITED STATES\", \"Time\": \"2009-12-01T00:00:00\", \"Electricity Consumper per Month (GWh)\": 355981.438}, {\"country\": \"AUSTRALIA\", \"Time\": \"2010-01-01T00:00:00\", \"Electricity Consumper per Month (GWh)\": 20739.227}, {\"country\": \"AUSTRIA\", \"Time\": \"2010-01-01T00:00:00\", \"Electricity Consumper per Month (GWh)\": 6611.409}, {\"country\": \"BELGIUM\", \"Time\": \"2010-01-01T00:00:00\", \"Electricity Consumper per Month (GWh)\": 8556.359}, {\"country\": \"CANADA\", \"Time\": \"2010-01-01T00:00:00\", \"Electricity Consumper per Month (GWh)\": 56320.883}, {\"country\": \"SWEDEN\", \"Time\": \"2010-01-01T00:00:00\", \"Electricity Consumper per Month (GWh)\": 16279.000999999998}, {\"country\": \"SWITZERLAND\", \"Time\": \"2010-01-01T00:00:00\", \"Electricity Consumper per Month (GWh)\": 6338.251}, {\"country\": \"TURKEY\", \"Time\": \"2010-01-01T00:00:00\", \"Electricity Consumper per Month (GWh)\": 16765.652000000002}, {\"country\": \"UNITED KINGDOM\", \"Time\": \"2010-01-01T00:00:00\", \"Electricity Consumper per Month (GWh)\": 36781.783}, {\"country\": \"UNITED STATES\", \"Time\": \"2010-01-01T00:00:00\", \"Electricity Consumper per Month (GWh)\": 369085.645}, {\"country\": \"AUSTRALIA\", \"Time\": \"2010-02-01T00:00:00\", \"Electricity Consumper per Month (GWh)\": 19137.652}, {\"country\": \"AUSTRIA\", \"Time\": \"2010-02-01T00:00:00\", \"Electricity Consumper per Month (GWh)\": 6028.05}, {\"country\": \"BELGIUM\", \"Time\": \"2010-02-01T00:00:00\", \"Electricity Consumper per Month (GWh)\": 7700.150000000001}, {\"country\": \"CANADA\", \"Time\": \"2010-02-01T00:00:00\", \"Electricity Consumper per Month (GWh)\": 49949.869999999995}, {\"country\": \"SWEDEN\", \"Time\": \"2010-02-01T00:00:00\", \"Electricity Consumper per Month (GWh)\": 14272.465}, {\"country\": \"SWITZERLAND\", \"Time\": \"2010-02-01T00:00:00\", \"Electricity Consumper per Month (GWh)\": 5690.126}, {\"country\": \"TURKEY\", \"Time\": \"2010-02-01T00:00:00\", \"Electricity Consumper per Month (GWh)\": 15231.375}, {\"country\": \"UNITED KINGDOM\", \"Time\": \"2010-02-01T00:00:00\", \"Electricity Consumper per Month (GWh)\": 32362.81}, {\"country\": \"UNITED STATES\", \"Time\": \"2010-02-01T00:00:00\", \"Electricity Consumper per Month (GWh)\": 325801.288}, {\"country\": \"AUSTRALIA\", \"Time\": \"2010-03-01T00:00:00\", \"Electricity Consumper per Month (GWh)\": 19473.694}, {\"country\": \"AUSTRIA\", \"Time\": \"2010-03-01T00:00:00\", \"Electricity Consumper per Month (GWh)\": 6345.771}, {\"country\": \"BELGIUM\", \"Time\": \"2010-03-01T00:00:00\", \"Electricity Consumper per Month (GWh)\": 8046.346}, {\"country\": \"CANADA\", \"Time\": \"2010-03-01T00:00:00\", \"Electricity Consumper per Month (GWh)\": 49565.698}, {\"country\": \"SWEDEN\", \"Time\": \"2010-03-01T00:00:00\", \"Electricity Consumper per Month (GWh)\": 13950.518999999998}, {\"country\": \"SWITZERLAND\", \"Time\": \"2010-03-01T00:00:00\", \"Electricity Consumper per Month (GWh)\": 5973.006000000001}, {\"country\": \"TURKEY\", \"Time\": \"2010-03-01T00:00:00\", \"Electricity Consumper per Month (GWh)\": 16488.516}, {\"country\": \"UNITED KINGDOM\", \"Time\": \"2010-03-01T00:00:00\", \"Electricity Consumper per Month (GWh)\": 33374.535}, {\"country\": \"UNITED STATES\", \"Time\": \"2010-03-01T00:00:00\", \"Electricity Consumper per Month (GWh)\": 317818.147}, {\"country\": \"AUSTRALIA\", \"Time\": \"2010-04-01T00:00:00\", \"Electricity Consumper per Month (GWh)\": 18089.041}, {\"country\": \"AUSTRIA\", \"Time\": \"2010-04-01T00:00:00\", \"Electricity Consumper per Month (GWh)\": 5515.671000000001}, {\"country\": \"BELGIUM\", \"Time\": \"2010-04-01T00:00:00\", \"Electricity Consumper per Month (GWh)\": 7395.036}, {\"country\": \"CANADA\", \"Time\": \"2010-04-01T00:00:00\", \"Electricity Consumper per Month (GWh)\": 43182.644}, {\"country\": \"SWEDEN\", \"Time\": \"2010-04-01T00:00:00\", \"Electricity Consumper per Month (GWh)\": 11249.739000000001}, {\"country\": \"SWITZERLAND\", \"Time\": \"2010-04-01T00:00:00\", \"Electricity Consumper per Month (GWh)\": 5130.849999999999}, {\"country\": \"TURKEY\", \"Time\": \"2010-04-01T00:00:00\", \"Electricity Consumper per Month (GWh)\": 15718.141000000001}, {\"country\": \"UNITED KINGDOM\", \"Time\": \"2010-04-01T00:00:00\", \"Electricity Consumper per Month (GWh)\": 28846.717999999997}, {\"country\": \"UNITED STATES\", \"Time\": \"2010-04-01T00:00:00\", \"Electricity Consumper per Month (GWh)\": 292983.448}, {\"country\": \"AUSTRALIA\", \"Time\": \"2010-05-01T00:00:00\", \"Electricity Consumper per Month (GWh)\": 19796.108}, {\"country\": \"AUSTRIA\", \"Time\": \"2010-05-01T00:00:00\", \"Electricity Consumper per Month (GWh)\": 5355.112}, {\"country\": \"BELGIUM\", \"Time\": \"2010-05-01T00:00:00\", \"Electricity Consumper per Month (GWh)\": 7346.798999999999}, {\"country\": \"CANADA\", \"Time\": \"2010-05-01T00:00:00\", \"Electricity Consumper per Month (GWh)\": 42939.551}, {\"country\": \"SWEDEN\", \"Time\": \"2010-05-01T00:00:00\", \"Electricity Consumper per Month (GWh)\": 10723.228000000001}, {\"country\": \"SWITZERLAND\", \"Time\": \"2010-05-01T00:00:00\", \"Electricity Consumper per Month (GWh)\": 5215.292000000001}, {\"country\": \"TURKEY\", \"Time\": \"2010-05-01T00:00:00\", \"Electricity Consumper per Month (GWh)\": 16031.638}, {\"country\": \"UNITED KINGDOM\", \"Time\": \"2010-05-01T00:00:00\", \"Electricity Consumper per Month (GWh)\": 28489.26}, {\"country\": \"UNITED STATES\", \"Time\": \"2010-05-01T00:00:00\", \"Electricity Consumper per Month (GWh)\": 333710.53900000005}, {\"country\": \"AUSTRALIA\", \"Time\": \"2010-06-01T00:00:00\", \"Electricity Consumper per Month (GWh)\": 20162.666}, {\"country\": \"AUSTRIA\", \"Time\": \"2010-06-01T00:00:00\", \"Electricity Consumper per Month (GWh)\": 5317.530000000001}, {\"country\": \"BELGIUM\", \"Time\": \"2010-06-01T00:00:00\", \"Electricity Consumper per Month (GWh)\": 7163.3279999999995}, {\"country\": \"CANADA\", \"Time\": \"2010-06-01T00:00:00\", \"Electricity Consumper per Month (GWh)\": 41673.949}, {\"country\": \"SWEDEN\", \"Time\": \"2010-06-01T00:00:00\", \"Electricity Consumper per Month (GWh)\": 9742.090999999999}, {\"country\": \"SWITZERLAND\", \"Time\": \"2010-06-01T00:00:00\", \"Electricity Consumper per Month (GWh)\": 5196.048999999999}, {\"country\": \"TURKEY\", \"Time\": \"2010-06-01T00:00:00\", \"Electricity Consumper per Month (GWh)\": 16583.2}, {\"country\": \"UNITED KINGDOM\", \"Time\": \"2010-06-01T00:00:00\", \"Electricity Consumper per Month (GWh)\": 26789.615}, {\"country\": \"UNITED STATES\", \"Time\": \"2010-06-01T00:00:00\", \"Electricity Consumper per Month (GWh)\": 383454.41000000003}, {\"country\": \"AUSTRALIA\", \"Time\": \"2010-07-01T00:00:00\", \"Electricity Consumper per Month (GWh)\": 21142.735}, {\"country\": \"AUSTRIA\", \"Time\": \"2010-07-01T00:00:00\", \"Electricity Consumper per Month (GWh)\": 5623.139}, {\"country\": \"BELGIUM\", \"Time\": \"2010-07-01T00:00:00\", \"Electricity Consumper per Month (GWh)\": 7035.313}, {\"country\": \"CANADA\", \"Time\": \"2010-07-01T00:00:00\", \"Electricity Consumper per Month (GWh)\": 44051.314999999995}, {\"country\": \"SWEDEN\", \"Time\": \"2010-07-01T00:00:00\", \"Electricity Consumper per Month (GWh)\": 9128.828000000001}, {\"country\": \"SWITZERLAND\", \"Time\": \"2010-07-01T00:00:00\", \"Electricity Consumper per Month (GWh)\": 5158.671}, {\"country\": \"TURKEY\", \"Time\": \"2010-07-01T00:00:00\", \"Electricity Consumper per Month (GWh)\": 18731.282}, {\"country\": \"UNITED KINGDOM\", \"Time\": \"2010-07-01T00:00:00\", \"Electricity Consumper per Month (GWh)\": 27429.496999999996}, {\"country\": \"UNITED STATES\", \"Time\": \"2010-07-01T00:00:00\", \"Electricity Consumper per Month (GWh)\": 417587.201}, {\"country\": \"AUSTRALIA\", \"Time\": \"2010-08-01T00:00:00\", \"Electricity Consumper per Month (GWh)\": 21105.796}, {\"country\": \"AUSTRIA\", \"Time\": \"2010-08-01T00:00:00\", \"Electricity Consumper per Month (GWh)\": 5398.445}, {\"country\": \"BELGIUM\", \"Time\": \"2010-08-01T00:00:00\", \"Electricity Consumper per Month (GWh)\": 7086.483}, {\"country\": \"CANADA\", \"Time\": \"2010-08-01T00:00:00\", \"Electricity Consumper per Month (GWh)\": 43372.951}, {\"country\": \"SWEDEN\", \"Time\": \"2010-08-01T00:00:00\", \"Electricity Consumper per Month (GWh)\": 9723.071}, {\"country\": \"SWITZERLAND\", \"Time\": \"2010-08-01T00:00:00\", \"Electricity Consumper per Month (GWh)\": 5072.456}, {\"country\": \"TURKEY\", \"Time\": \"2010-08-01T00:00:00\", \"Electricity Consumper per Month (GWh)\": 19695.375}, {\"country\": \"UNITED KINGDOM\", \"Time\": \"2010-08-01T00:00:00\", \"Electricity Consumper per Month (GWh)\": 26772.381999999998}, {\"country\": \"UNITED STATES\", \"Time\": \"2010-08-01T00:00:00\", \"Electricity Consumper per Month (GWh)\": 414852.879}, {\"country\": \"AUSTRALIA\", \"Time\": \"2010-09-01T00:00:00\", \"Electricity Consumper per Month (GWh)\": 19778.19}, {\"country\": \"AUSTRIA\", \"Time\": \"2010-09-01T00:00:00\", \"Electricity Consumper per Month (GWh)\": 5378.696}, {\"country\": \"BELGIUM\", \"Time\": \"2010-09-01T00:00:00\", \"Electricity Consumper per Month (GWh)\": 7253.259}, {\"country\": \"CANADA\", \"Time\": \"2010-09-01T00:00:00\", \"Electricity Consumper per Month (GWh)\": 41024.973}, {\"country\": \"SWEDEN\", \"Time\": \"2010-09-01T00:00:00\", \"Electricity Consumper per Month (GWh)\": 10219.619}, {\"country\": \"SWITZERLAND\", \"Time\": \"2010-09-01T00:00:00\", \"Electricity Consumper per Month (GWh)\": 5052.618}, {\"country\": \"TURKEY\", \"Time\": \"2010-09-01T00:00:00\", \"Electricity Consumper per Month (GWh)\": 16497.274999999998}, {\"country\": \"UNITED KINGDOM\", \"Time\": \"2010-09-01T00:00:00\", \"Electricity Consumper per Month (GWh)\": 27533.25}, {\"country\": \"UNITED STATES\", \"Time\": \"2010-09-01T00:00:00\", \"Electricity Consumper per Month (GWh)\": 349115.159}, {\"country\": \"AUSTRALIA\", \"Time\": \"2010-10-01T00:00:00\", \"Electricity Consumper per Month (GWh)\": 19057.644}, {\"country\": \"AUSTRIA\", \"Time\": \"2010-10-01T00:00:00\", \"Electricity Consumper per Month (GWh)\": 5840.404}, {\"country\": \"BELGIUM\", \"Time\": \"2010-10-01T00:00:00\", \"Electricity Consumper per Month (GWh)\": 7757.708999999999}, {\"country\": \"CANADA\", \"Time\": \"2010-10-01T00:00:00\", \"Electricity Consumper per Month (GWh)\": 44406.424000000006}, {\"country\": \"SWEDEN\", \"Time\": \"2010-10-01T00:00:00\", \"Electricity Consumper per Month (GWh)\": 12148.836}, {\"country\": \"SWITZERLAND\", \"Time\": \"2010-10-01T00:00:00\", \"Electricity Consumper per Month (GWh)\": 5551.152999999999}, {\"country\": \"TURKEY\", \"Time\": \"2010-10-01T00:00:00\", \"Electricity Consumper per Month (GWh)\": 16493.541}, {\"country\": \"UNITED KINGDOM\", \"Time\": \"2010-10-01T00:00:00\", \"Electricity Consumper per Month (GWh)\": 30281.833}, {\"country\": \"UNITED STATES\", \"Time\": \"2010-10-01T00:00:00\", \"Electricity Consumper per Month (GWh)\": 309798.698}, {\"country\": \"AUSTRALIA\", \"Time\": \"2010-11-01T00:00:00\", \"Electricity Consumper per Month (GWh)\": 18816.968}, {\"country\": \"AUSTRIA\", \"Time\": \"2010-11-01T00:00:00\", \"Electricity Consumper per Month (GWh)\": 6089.8859999999995}, {\"country\": \"BELGIUM\", \"Time\": \"2010-11-01T00:00:00\", \"Electricity Consumper per Month (GWh)\": 7968.745}, {\"country\": \"CANADA\", \"Time\": \"2010-11-01T00:00:00\", \"Electricity Consumper per Month (GWh)\": 48460.85600000001}, {\"country\": \"SWEDEN\", \"Time\": \"2010-11-01T00:00:00\", \"Electricity Consumper per Month (GWh)\": 13870.124}, {\"country\": \"SWITZERLAND\", \"Time\": \"2010-11-01T00:00:00\", \"Electricity Consumper per Month (GWh)\": 5865.129999999999}, {\"country\": \"TURKEY\", \"Time\": \"2010-11-01T00:00:00\", \"Electricity Consumper per Month (GWh)\": 15715.233}, {\"country\": \"UNITED KINGDOM\", \"Time\": \"2010-11-01T00:00:00\", \"Electricity Consumper per Month (GWh)\": 32824.373}, {\"country\": \"UNITED STATES\", \"Time\": \"2010-11-01T00:00:00\", \"Electricity Consumper per Month (GWh)\": 307831.60099999997}, {\"country\": \"AUSTRALIA\", \"Time\": \"2010-12-01T00:00:00\", \"Electricity Consumper per Month (GWh)\": 19325.286}, {\"country\": \"AUSTRIA\", \"Time\": \"2010-12-01T00:00:00\", \"Electricity Consumper per Month (GWh)\": 6652.511}, {\"country\": \"BELGIUM\", \"Time\": \"2010-12-01T00:00:00\", \"Electricity Consumper per Month (GWh)\": 8727.473}, {\"country\": \"CANADA\", \"Time\": \"2010-12-01T00:00:00\", \"Electricity Consumper per Month (GWh)\": 55413.884}, {\"country\": \"SWEDEN\", \"Time\": \"2010-12-01T00:00:00\", \"Electricity Consumper per Month (GWh)\": 16049.477}, {\"country\": \"SWITZERLAND\", \"Time\": \"2010-12-01T00:00:00\", \"Electricity Consumper per Month (GWh)\": 6407.396000000001}, {\"country\": \"TURKEY\", \"Time\": \"2010-12-01T00:00:00\", \"Electricity Consumper per Month (GWh)\": 18320.773}, {\"country\": \"UNITED KINGDOM\", \"Time\": \"2010-12-01T00:00:00\", \"Electricity Consumper per Month (GWh)\": 37120.947}, {\"country\": \"UNITED STATES\", \"Time\": \"2010-12-01T00:00:00\", \"Electricity Consumper per Month (GWh)\": 362895.984}, {\"country\": \"AUSTRALIA\", \"Time\": \"2011-01-01T00:00:00\", \"Electricity Consumper per Month (GWh)\": 23481.031}, {\"country\": \"AUSTRIA\", \"Time\": \"2011-01-01T00:00:00\", \"Electricity Consumper per Month (GWh)\": 6657.638999999999}, {\"country\": \"BELGIUM\", \"Time\": \"2011-01-01T00:00:00\", \"Electricity Consumper per Month (GWh)\": 8540.284}, {\"country\": \"CANADA\", \"Time\": \"2011-01-01T00:00:00\", \"Electricity Consumper per Month (GWh)\": 59555.993}, {\"country\": \"SWEDEN\", \"Time\": \"2011-01-01T00:00:00\", \"Electricity Consumper per Month (GWh)\": 15063.616999999998}, {\"country\": \"SWITZERLAND\", \"Time\": \"2011-01-01T00:00:00\", \"Electricity Consumper per Month (GWh)\": 6341.5419999999995}, {\"country\": \"TURKEY\", \"Time\": \"2011-01-01T00:00:00\", \"Electricity Consumper per Month (GWh)\": 18596.103000000003}, {\"country\": \"UNITED KINGDOM\", \"Time\": \"2011-01-01T00:00:00\", \"Electricity Consumper per Month (GWh)\": 35894.517}, {\"country\": \"UNITED STATES\", \"Time\": \"2011-01-01T00:00:00\", \"Electricity Consumper per Month (GWh)\": 369896.282}, {\"country\": \"AUSTRALIA\", \"Time\": \"2011-02-01T00:00:00\", \"Electricity Consumper per Month (GWh)\": 20277.274}, {\"country\": \"AUSTRIA\", \"Time\": \"2011-02-01T00:00:00\", \"Electricity Consumper per Month (GWh)\": 6139.0070000000005}, {\"country\": \"BELGIUM\", \"Time\": \"2011-02-01T00:00:00\", \"Electricity Consumper per Month (GWh)\": 7670.648}, {\"country\": \"CANADA\", \"Time\": \"2011-02-01T00:00:00\", \"Electricity Consumper per Month (GWh)\": 52353.082}, {\"country\": \"SWEDEN\", \"Time\": \"2011-02-01T00:00:00\", \"Electricity Consumper per Month (GWh)\": 14044.083}, {\"country\": \"SWITZERLAND\", \"Time\": \"2011-02-01T00:00:00\", \"Electricity Consumper per Month (GWh)\": 5723.750999999999}, {\"country\": \"TURKEY\", \"Time\": \"2011-02-01T00:00:00\", \"Electricity Consumper per Month (GWh)\": 16926.07}, {\"country\": \"UNITED KINGDOM\", \"Time\": \"2011-02-01T00:00:00\", \"Electricity Consumper per Month (GWh)\": 31394.147999999997}, {\"country\": \"UNITED STATES\", \"Time\": \"2011-02-01T00:00:00\", \"Electricity Consumper per Month (GWh)\": 318007.518}, {\"country\": \"AUSTRALIA\", \"Time\": \"2011-03-01T00:00:00\", \"Electricity Consumper per Month (GWh)\": 19911.147}, {\"country\": \"AUSTRIA\", \"Time\": \"2011-03-01T00:00:00\", \"Electricity Consumper per Month (GWh)\": 6431.798000000001}, {\"country\": \"BELGIUM\", \"Time\": \"2011-03-01T00:00:00\", \"Electricity Consumper per Month (GWh)\": 8050.795}, {\"country\": \"CANADA\", \"Time\": \"2011-03-01T00:00:00\", \"Electricity Consumper per Month (GWh)\": 53840.558999999994}, {\"country\": \"SWEDEN\", \"Time\": \"2011-03-01T00:00:00\", \"Electricity Consumper per Month (GWh)\": 13731.417}, {\"country\": \"SWITZERLAND\", \"Time\": \"2011-03-01T00:00:00\", \"Electricity Consumper per Month (GWh)\": 6007.451}, {\"country\": \"TURKEY\", \"Time\": \"2011-03-01T00:00:00\", \"Electricity Consumper per Month (GWh)\": 18348.907}, {\"country\": \"UNITED KINGDOM\", \"Time\": \"2011-03-01T00:00:00\", \"Electricity Consumper per Month (GWh)\": 32951.572}, {\"country\": \"UNITED STATES\", \"Time\": \"2011-03-01T00:00:00\", \"Electricity Consumper per Month (GWh)\": 323992.62600000005}, {\"country\": \"AUSTRALIA\", \"Time\": \"2011-04-01T00:00:00\", \"Electricity Consumper per Month (GWh)\": 17890.309}, {\"country\": \"AUSTRIA\", \"Time\": \"2011-04-01T00:00:00\", \"Electricity Consumper per Month (GWh)\": 5524.478}, {\"country\": \"BELGIUM\", \"Time\": \"2011-04-01T00:00:00\", \"Electricity Consumper per Month (GWh)\": 7202.133}, {\"country\": \"CANADA\", \"Time\": \"2011-04-01T00:00:00\", \"Electricity Consumper per Month (GWh)\": 46660.33699999999}, {\"country\": \"SWEDEN\", \"Time\": \"2011-04-01T00:00:00\", \"Electricity Consumper per Month (GWh)\": 10908.984}, {\"country\": \"SWITZERLAND\", \"Time\": \"2011-04-01T00:00:00\", \"Electricity Consumper per Month (GWh)\": 5029.267}, {\"country\": \"TURKEY\", \"Time\": \"2011-04-01T00:00:00\", \"Electricity Consumper per Month (GWh)\": 17055.215000000004}, {\"country\": \"UNITED KINGDOM\", \"Time\": \"2011-04-01T00:00:00\", \"Electricity Consumper per Month (GWh)\": 27417.513}, {\"country\": \"UNITED STATES\", \"Time\": \"2011-04-01T00:00:00\", \"Electricity Consumper per Month (GWh)\": 307431.98500000004}, {\"country\": \"AUSTRALIA\", \"Time\": \"2011-05-01T00:00:00\", \"Electricity Consumper per Month (GWh)\": 19934.423}, {\"country\": \"AUSTRIA\", \"Time\": \"2011-05-01T00:00:00\", \"Electricity Consumper per Month (GWh)\": 5550.499}, {\"country\": \"BELGIUM\", \"Time\": \"2011-05-01T00:00:00\", \"Electricity Consumper per Month (GWh)\": 7274.35}, {\"country\": \"CANADA\", \"Time\": \"2011-05-01T00:00:00\", \"Electricity Consumper per Month (GWh)\": 43940.409999999996}, {\"country\": \"SWEDEN\", \"Time\": \"2011-05-01T00:00:00\", \"Electricity Consumper per Month (GWh)\": 10513.627}, {\"country\": \"SWITZERLAND\", \"Time\": \"2011-05-01T00:00:00\", \"Electricity Consumper per Month (GWh)\": 5180.704}, {\"country\": \"TURKEY\", \"Time\": \"2011-05-01T00:00:00\", \"Electricity Consumper per Month (GWh)\": 16833.022}, {\"country\": \"UNITED KINGDOM\", \"Time\": \"2011-05-01T00:00:00\", \"Electricity Consumper per Month (GWh)\": 27821.382999999998}, {\"country\": \"UNITED STATES\", \"Time\": \"2011-05-01T00:00:00\", \"Electricity Consumper per Month (GWh)\": 331031.926}, {\"country\": \"AUSTRALIA\", \"Time\": \"2011-06-01T00:00:00\", \"Electricity Consumper per Month (GWh)\": 20018.199}, {\"country\": \"AUSTRIA\", \"Time\": \"2011-06-01T00:00:00\", \"Electricity Consumper per Month (GWh)\": 5343.528}, {\"country\": \"BELGIUM\", \"Time\": \"2011-06-01T00:00:00\", \"Electricity Consumper per Month (GWh)\": 7017.262}, {\"country\": \"CANADA\", \"Time\": \"2011-06-01T00:00:00\", \"Electricity Consumper per Month (GWh)\": 41959.64}, {\"country\": \"SWEDEN\", \"Time\": \"2011-06-01T00:00:00\", \"Electricity Consumper per Month (GWh)\": 9461.187}, {\"country\": \"SWITZERLAND\", \"Time\": \"2011-06-01T00:00:00\", \"Electricity Consumper per Month (GWh)\": 4992.566000000001}, {\"country\": \"TURKEY\", \"Time\": \"2011-06-01T00:00:00\", \"Electricity Consumper per Month (GWh)\": 17150.724}, {\"country\": \"UNITED KINGDOM\", \"Time\": \"2011-06-01T00:00:00\", \"Electricity Consumper per Month (GWh)\": 26984.987999999998}, {\"country\": \"UNITED STATES\", \"Time\": \"2011-06-01T00:00:00\", \"Electricity Consumper per Month (GWh)\": 374678.289}, {\"country\": \"AUSTRALIA\", \"Time\": \"2011-07-01T00:00:00\", \"Electricity Consumper per Month (GWh)\": 21013.273}, {\"country\": \"AUSTRIA\", \"Time\": \"2011-07-01T00:00:00\", \"Electricity Consumper per Month (GWh)\": 5600.416}, {\"country\": \"BELGIUM\", \"Time\": \"2011-07-01T00:00:00\", \"Electricity Consumper per Month (GWh)\": 6822.729}, {\"country\": \"CANADA\", \"Time\": \"2011-07-01T00:00:00\", \"Electricity Consumper per Month (GWh)\": 45520.085}, {\"country\": \"SWEDEN\", \"Time\": \"2011-07-01T00:00:00\", \"Electricity Consumper per Month (GWh)\": 9046.397}, {\"country\": \"SWITZERLAND\", \"Time\": \"2011-07-01T00:00:00\", \"Electricity Consumper per Month (GWh)\": 5005.746999999999}, {\"country\": \"TURKEY\", \"Time\": \"2011-07-01T00:00:00\", \"Electricity Consumper per Month (GWh)\": 20045.771}, {\"country\": \"UNITED KINGDOM\", \"Time\": \"2011-07-01T00:00:00\", \"Electricity Consumper per Month (GWh)\": 26935.796}, {\"country\": \"UNITED STATES\", \"Time\": \"2011-07-01T00:00:00\", \"Electricity Consumper per Month (GWh)\": 427506.456}, {\"country\": \"AUSTRALIA\", \"Time\": \"2011-08-01T00:00:00\", \"Electricity Consumper per Month (GWh)\": 20146.965}, {\"country\": \"AUSTRIA\", \"Time\": \"2011-08-01T00:00:00\", \"Electricity Consumper per Month (GWh)\": 5466.0419999999995}, {\"country\": \"BELGIUM\", \"Time\": \"2011-08-01T00:00:00\", \"Electricity Consumper per Month (GWh)\": 6895.792999999999}, {\"country\": \"CANADA\", \"Time\": \"2011-08-01T00:00:00\", \"Electricity Consumper per Month (GWh)\": 44899.686}, {\"country\": \"SWEDEN\", \"Time\": \"2011-08-01T00:00:00\", \"Electricity Consumper per Month (GWh)\": 9725.997}, {\"country\": \"SWITZERLAND\", \"Time\": \"2011-08-01T00:00:00\", \"Electricity Consumper per Month (GWh)\": 5049.142000000001}, {\"country\": \"TURKEY\", \"Time\": \"2011-08-01T00:00:00\", \"Electricity Consumper per Month (GWh)\": 19644.096}, {\"country\": \"UNITED KINGDOM\", \"Time\": \"2011-08-01T00:00:00\", \"Electricity Consumper per Month (GWh)\": 27272.700999999997}, {\"country\": \"UNITED STATES\", \"Time\": \"2011-08-01T00:00:00\", \"Electricity Consumper per Month (GWh)\": 414177.96}, {\"country\": \"AUSTRALIA\", \"Time\": \"2011-09-01T00:00:00\", \"Electricity Consumper per Month (GWh)\": 18561.292}, {\"country\": \"AUSTRIA\", \"Time\": \"2011-09-01T00:00:00\", \"Electricity Consumper per Month (GWh)\": 5575.5869999999995}, {\"country\": \"BELGIUM\", \"Time\": \"2011-09-01T00:00:00\", \"Electricity Consumper per Month (GWh)\": 6958.120999999999}, {\"country\": \"CANADA\", \"Time\": \"2011-09-01T00:00:00\", \"Electricity Consumper per Month (GWh)\": 42492.437}, {\"country\": \"SWEDEN\", \"Time\": \"2011-09-01T00:00:00\", \"Electricity Consumper per Month (GWh)\": 10222.685}, {\"country\": \"SWITZERLAND\", \"Time\": \"2011-09-01T00:00:00\", \"Electricity Consumper per Month (GWh)\": 4992.196}, {\"country\": \"TURKEY\", \"Time\": \"2011-09-01T00:00:00\", \"Electricity Consumper per Month (GWh)\": 18020.314}, {\"country\": \"UNITED KINGDOM\", \"Time\": \"2011-09-01T00:00:00\", \"Electricity Consumper per Month (GWh)\": 27694.637}, {\"country\": \"UNITED STATES\", \"Time\": \"2011-09-01T00:00:00\", \"Electricity Consumper per Month (GWh)\": 343125.452}, {\"country\": \"AUSTRALIA\", \"Time\": \"2011-10-01T00:00:00\", \"Electricity Consumper per Month (GWh)\": 19020.364}, {\"country\": \"AUSTRIA\", \"Time\": \"2011-10-01T00:00:00\", \"Electricity Consumper per Month (GWh)\": 5863.863}, {\"country\": \"BELGIUM\", \"Time\": \"2011-10-01T00:00:00\", \"Electricity Consumper per Month (GWh)\": 7430.476000000001}, {\"country\": \"CANADA\", \"Time\": \"2011-10-01T00:00:00\", \"Electricity Consumper per Month (GWh)\": 44758.842000000004}, {\"country\": \"SWEDEN\", \"Time\": \"2011-10-01T00:00:00\", \"Electricity Consumper per Month (GWh)\": 11653.334}, {\"country\": \"SWITZERLAND\", \"Time\": \"2011-10-01T00:00:00\", \"Electricity Consumper per Month (GWh)\": 5345.651}, {\"country\": \"TURKEY\", \"Time\": \"2011-10-01T00:00:00\", \"Electricity Consumper per Month (GWh)\": 17817.747}, {\"country\": \"UNITED KINGDOM\", \"Time\": \"2011-10-01T00:00:00\", \"Electricity Consumper per Month (GWh)\": 29360.637}, {\"country\": \"UNITED STATES\", \"Time\": \"2011-10-01T00:00:00\", \"Electricity Consumper per Month (GWh)\": 314224.861}, {\"country\": \"AUSTRALIA\", \"Time\": \"2011-11-01T00:00:00\", \"Electricity Consumper per Month (GWh)\": 19701.167}, {\"country\": \"AUSTRIA\", \"Time\": \"2011-11-01T00:00:00\", \"Electricity Consumper per Month (GWh)\": 6086.031000000001}, {\"country\": \"BELGIUM\", \"Time\": \"2011-11-01T00:00:00\", \"Electricity Consumper per Month (GWh)\": 7507.000999999999}, {\"country\": \"CANADA\", \"Time\": \"2011-11-01T00:00:00\", \"Electricity Consumper per Month (GWh)\": 47866.030999999995}, {\"country\": \"SWEDEN\", \"Time\": \"2011-11-01T00:00:00\", \"Electricity Consumper per Month (GWh)\": 11845.093}, {\"country\": \"SWITZERLAND\", \"Time\": \"2011-11-01T00:00:00\", \"Electricity Consumper per Month (GWh)\": 5746.979000000001}, {\"country\": \"TURKEY\", \"Time\": \"2011-11-01T00:00:00\", \"Electricity Consumper per Month (GWh)\": 18034.319}, {\"country\": \"UNITED KINGDOM\", \"Time\": \"2011-11-01T00:00:00\", \"Electricity Consumper per Month (GWh)\": 30911.394}, {\"country\": \"UNITED STATES\", \"Time\": \"2011-11-01T00:00:00\", \"Electricity Consumper per Month (GWh)\": 308124.51999999996}, {\"country\": \"AUSTRALIA\", \"Time\": \"2011-12-01T00:00:00\", \"Electricity Consumper per Month (GWh)\": 19028.444}, {\"country\": \"AUSTRIA\", \"Time\": \"2011-12-01T00:00:00\", \"Electricity Consumper per Month (GWh)\": 6525.47}, {\"country\": \"BELGIUM\", \"Time\": \"2011-12-01T00:00:00\", \"Electricity Consumper per Month (GWh)\": 7826.41}, {\"country\": \"CANADA\", \"Time\": \"2011-12-01T00:00:00\", \"Electricity Consumper per Month (GWh)\": 54143.898}, {\"country\": \"SWEDEN\", \"Time\": \"2011-12-01T00:00:00\", \"Electricity Consumper per Month (GWh)\": 13486.578000000001}, {\"country\": \"SWITZERLAND\", \"Time\": \"2011-12-01T00:00:00\", \"Electricity Consumper per Month (GWh)\": 6137.004000000001}, {\"country\": \"TURKEY\", \"Time\": \"2011-12-01T00:00:00\", \"Electricity Consumper per Month (GWh)\": 19996.711}, {\"country\": \"UNITED KINGDOM\", \"Time\": \"2011-12-01T00:00:00\", \"Electricity Consumper per Month (GWh)\": 33113.712}, {\"country\": \"UNITED STATES\", \"Time\": \"2011-12-01T00:00:00\", \"Electricity Consumper per Month (GWh)\": 341201.12600000005}, {\"country\": \"AUSTRALIA\", \"Time\": \"2012-01-01T00:00:00\", \"Electricity Consumper per Month (GWh)\": 21776.711}, {\"country\": \"AUSTRIA\", \"Time\": \"2012-01-01T00:00:00\", \"Electricity Consumper per Month (GWh)\": 6653.45}, {\"country\": \"BELGIUM\", \"Time\": \"2012-01-01T00:00:00\", \"Electricity Consumper per Month (GWh)\": 8345.44}, {\"country\": \"CANADA\", \"Time\": \"2012-01-01T00:00:00\", \"Electricity Consumper per Month (GWh)\": 56866.202000000005}, {\"country\": \"SWEDEN\", \"Time\": \"2012-01-01T00:00:00\", \"Electricity Consumper per Month (GWh)\": 14709.405000000002}, {\"country\": \"SWITZERLAND\", \"Time\": \"2012-01-01T00:00:00\", \"Electricity Consumper per Month (GWh)\": 6258.637999999999}, {\"country\": \"TURKEY\", \"Time\": \"2012-01-01T00:00:00\", \"Electricity Consumper per Month (GWh)\": 19974.844999999998}, {\"country\": \"UNITED KINGDOM\", \"Time\": \"2012-01-01T00:00:00\", \"Electricity Consumper per Month (GWh)\": 33482.471}, {\"country\": \"UNITED STATES\", \"Time\": \"2012-01-01T00:00:00\", \"Electricity Consumper per Month (GWh)\": 345792.941}, {\"country\": \"AUSTRALIA\", \"Time\": \"2012-02-01T00:00:00\", \"Electricity Consumper per Month (GWh)\": 19712.254}, {\"country\": \"AUSTRIA\", \"Time\": \"2012-02-01T00:00:00\", \"Electricity Consumper per Month (GWh)\": 6622.420999999999}, {\"country\": \"BELGIUM\", \"Time\": \"2012-02-01T00:00:00\", \"Electricity Consumper per Month (GWh)\": 8321.467}, {\"country\": \"CANADA\", \"Time\": \"2012-02-01T00:00:00\", \"Electricity Consumper per Month (GWh)\": 51105.347}, {\"country\": \"SWEDEN\", \"Time\": \"2012-02-01T00:00:00\", \"Electricity Consumper per Month (GWh)\": 14434.207999999999}, {\"country\": \"SWITZERLAND\", \"Time\": \"2012-02-01T00:00:00\", \"Electricity Consumper per Month (GWh)\": 6346.948}, {\"country\": \"TURKEY\", \"Time\": \"2012-02-01T00:00:00\", \"Electricity Consumper per Month (GWh)\": 18650.117000000002}, {\"country\": \"UNITED KINGDOM\", \"Time\": \"2012-02-01T00:00:00\", \"Electricity Consumper per Month (GWh)\": 32358.262000000002}, {\"country\": \"UNITED STATES\", \"Time\": \"2012-02-01T00:00:00\", \"Electricity Consumper per Month (GWh)\": 314014.00499999995}, {\"country\": \"AUSTRALIA\", \"Time\": \"2012-03-01T00:00:00\", \"Electricity Consumper per Month (GWh)\": 19616.871}, {\"country\": \"AUSTRIA\", \"Time\": \"2012-03-01T00:00:00\", \"Electricity Consumper per Month (GWh)\": 6386.909}, {\"country\": \"BELGIUM\", \"Time\": \"2012-03-01T00:00:00\", \"Electricity Consumper per Month (GWh)\": 7910.142000000001}, {\"country\": \"CANADA\", \"Time\": \"2012-03-01T00:00:00\", \"Electricity Consumper per Month (GWh)\": 50486.477000000006}, {\"country\": \"SWEDEN\", \"Time\": \"2012-03-01T00:00:00\", \"Electricity Consumper per Month (GWh)\": 12866.818}, {\"country\": \"SWITZERLAND\", \"Time\": \"2012-03-01T00:00:00\", \"Electricity Consumper per Month (GWh)\": 5760.746999999999}, {\"country\": \"TURKEY\", \"Time\": \"2012-03-01T00:00:00\", \"Electricity Consumper per Month (GWh)\": 19596.541}, {\"country\": \"UNITED KINGDOM\", \"Time\": \"2012-03-01T00:00:00\", \"Electricity Consumper per Month (GWh)\": 31209.832}, {\"country\": \"UNITED STATES\", \"Time\": \"2012-03-01T00:00:00\", \"Electricity Consumper per Month (GWh)\": 313267.98}, {\"country\": \"AUSTRALIA\", \"Time\": \"2012-04-01T00:00:00\", \"Electricity Consumper per Month (GWh)\": 18322.439}, {\"country\": \"AUSTRIA\", \"Time\": \"2012-04-01T00:00:00\", \"Electricity Consumper per Month (GWh)\": 5704.788}, {\"country\": \"BELGIUM\", \"Time\": \"2012-04-01T00:00:00\", \"Electricity Consumper per Month (GWh)\": 7321.292}, {\"country\": \"CANADA\", \"Time\": \"2012-04-01T00:00:00\", \"Electricity Consumper per Month (GWh)\": 44300.031}, {\"country\": \"SWEDEN\", \"Time\": \"2012-04-01T00:00:00\", \"Electricity Consumper per Month (GWh)\": 11774.786}, {\"country\": \"SWITZERLAND\", \"Time\": \"2012-04-01T00:00:00\", \"Electricity Consumper per Month (GWh)\": 5224.212}, {\"country\": \"TURKEY\", \"Time\": \"2012-04-01T00:00:00\", \"Electricity Consumper per Month (GWh)\": 17425.999}, {\"country\": \"UNITED KINGDOM\", \"Time\": \"2012-04-01T00:00:00\", \"Electricity Consumper per Month (GWh)\": 29100.152000000002}, {\"country\": \"UNITED STATES\", \"Time\": \"2012-04-01T00:00:00\", \"Electricity Consumper per Month (GWh)\": 300741.534}, {\"country\": \"AUSTRALIA\", \"Time\": \"2012-05-01T00:00:00\", \"Electricity Consumper per Month (GWh)\": 19613.598}, {\"country\": \"AUSTRIA\", \"Time\": \"2012-05-01T00:00:00\", \"Electricity Consumper per Month (GWh)\": 5570.088000000001}, {\"country\": \"BELGIUM\", \"Time\": \"2012-05-01T00:00:00\", \"Electricity Consumper per Month (GWh)\": 7191.6900000000005}, {\"country\": \"CANADA\", \"Time\": \"2012-05-01T00:00:00\", \"Electricity Consumper per Month (GWh)\": 43140.87}, {\"country\": \"SWEDEN\", \"Time\": \"2012-05-01T00:00:00\", \"Electricity Consumper per Month (GWh)\": 10614.721}, {\"country\": \"SWITZERLAND\", \"Time\": \"2012-05-01T00:00:00\", \"Electricity Consumper per Month (GWh)\": 5042.447}, {\"country\": \"TURKEY\", \"Time\": \"2012-05-01T00:00:00\", \"Electricity Consumper per Month (GWh)\": 18268.401}, {\"country\": \"UNITED KINGDOM\", \"Time\": \"2012-05-01T00:00:00\", \"Electricity Consumper per Month (GWh)\": 28801.682}, {\"country\": \"UNITED STATES\", \"Time\": \"2012-05-01T00:00:00\", \"Electricity Consumper per Month (GWh)\": 343752.86600000004}, {\"country\": \"AUSTRALIA\", \"Time\": \"2012-06-01T00:00:00\", \"Electricity Consumper per Month (GWh)\": 20066.623}, {\"country\": \"AUSTRIA\", \"Time\": \"2012-06-01T00:00:00\", \"Electricity Consumper per Month (GWh)\": 5437.812}, {\"country\": \"BELGIUM\", \"Time\": \"2012-06-01T00:00:00\", \"Electricity Consumper per Month (GWh)\": 6844.397}, {\"country\": \"CANADA\", \"Time\": \"2012-06-01T00:00:00\", \"Electricity Consumper per Month (GWh)\": 41897.585999999996}, {\"country\": \"SWEDEN\", \"Time\": \"2012-06-01T00:00:00\", \"Electricity Consumper per Month (GWh)\": 9885.224}, {\"country\": \"SWITZERLAND\", \"Time\": \"2012-06-01T00:00:00\", \"Electricity Consumper per Month (GWh)\": 5044.572}, {\"country\": \"TURKEY\", \"Time\": \"2012-06-01T00:00:00\", \"Electricity Consumper per Month (GWh)\": 19167.156}, {\"country\": \"UNITED KINGDOM\", \"Time\": \"2012-06-01T00:00:00\", \"Electricity Consumper per Month (GWh)\": 26584.492}, {\"country\": \"UNITED STATES\", \"Time\": \"2012-06-01T00:00:00\", \"Electricity Consumper per Month (GWh)\": 367928.935}, {\"country\": \"AUSTRALIA\", \"Time\": \"2012-07-01T00:00:00\", \"Electricity Consumper per Month (GWh)\": 20732.152}, {\"country\": \"AUSTRIA\", \"Time\": \"2012-07-01T00:00:00\", \"Electricity Consumper per Month (GWh)\": 5624.4220000000005}, {\"country\": \"BELGIUM\", \"Time\": \"2012-07-01T00:00:00\", \"Electricity Consumper per Month (GWh)\": 6652.98}, {\"country\": \"CANADA\", \"Time\": \"2012-07-01T00:00:00\", \"Electricity Consumper per Month (GWh)\": 44710.258}, {\"country\": \"SWEDEN\", \"Time\": \"2012-07-01T00:00:00\", \"Electricity Consumper per Month (GWh)\": 9087.114000000001}, {\"country\": \"SWITZERLAND\", \"Time\": \"2012-07-01T00:00:00\", \"Electricity Consumper per Month (GWh)\": 4977.4259999999995}, {\"country\": \"TURKEY\", \"Time\": \"2012-07-01T00:00:00\", \"Electricity Consumper per Month (GWh)\": 21746.465}, {\"country\": \"UNITED KINGDOM\", \"Time\": \"2012-07-01T00:00:00\", \"Electricity Consumper per Month (GWh)\": 27166.8}, {\"country\": \"UNITED STATES\", \"Time\": \"2012-07-01T00:00:00\", \"Electricity Consumper per Month (GWh)\": 424705.309}, {\"country\": \"AUSTRALIA\", \"Time\": \"2012-08-01T00:00:00\", \"Electricity Consumper per Month (GWh)\": 20422.434}, {\"country\": \"AUSTRIA\", \"Time\": \"2012-08-01T00:00:00\", \"Electricity Consumper per Month (GWh)\": 5590.152}, {\"country\": \"BELGIUM\", \"Time\": \"2012-08-01T00:00:00\", \"Electricity Consumper per Month (GWh)\": 6869.1}, {\"country\": \"CANADA\", \"Time\": \"2012-08-01T00:00:00\", \"Electricity Consumper per Month (GWh)\": 44268.560999999994}, {\"country\": \"SWEDEN\", \"Time\": \"2012-08-01T00:00:00\", \"Electricity Consumper per Month (GWh)\": 9741.034}, {\"country\": \"SWITZERLAND\", \"Time\": \"2012-08-01T00:00:00\", \"Electricity Consumper per Month (GWh)\": 5019.873}, {\"country\": \"TURKEY\", \"Time\": \"2012-08-01T00:00:00\", \"Electricity Consumper per Month (GWh)\": 20574.911}, {\"country\": \"UNITED KINGDOM\", \"Time\": \"2012-08-01T00:00:00\", \"Electricity Consumper per Month (GWh)\": 27033.465999999997}, {\"country\": \"UNITED STATES\", \"Time\": \"2012-08-01T00:00:00\", \"Electricity Consumper per Month (GWh)\": 404017.194}, {\"country\": \"AUSTRALIA\", \"Time\": \"2012-09-01T00:00:00\", \"Electricity Consumper per Month (GWh)\": 18352.433}, {\"country\": \"AUSTRIA\", \"Time\": \"2012-09-01T00:00:00\", \"Electricity Consumper per Month (GWh)\": 5596.094}, {\"country\": \"BELGIUM\", \"Time\": \"2012-09-01T00:00:00\", \"Electricity Consumper per Month (GWh)\": 6984.792}, {\"country\": \"CANADA\", \"Time\": \"2012-09-01T00:00:00\", \"Electricity Consumper per Month (GWh)\": 41288.739}, {\"country\": \"SWEDEN\", \"Time\": \"2012-09-01T00:00:00\", \"Electricity Consumper per Month (GWh)\": 10279.48}, {\"country\": \"SWITZERLAND\", \"Time\": \"2012-09-01T00:00:00\", \"Electricity Consumper per Month (GWh)\": 4946.529}, {\"country\": \"TURKEY\", \"Time\": \"2012-09-01T00:00:00\", \"Electricity Consumper per Month (GWh)\": 19025.973}, {\"country\": \"UNITED KINGDOM\", \"Time\": \"2012-09-01T00:00:00\", \"Electricity Consumper per Month (GWh)\": 27106.861}, {\"country\": \"UNITED STATES\", \"Time\": \"2012-09-01T00:00:00\", \"Electricity Consumper per Month (GWh)\": 340722.10599999997}, {\"country\": \"AUSTRALIA\", \"Time\": \"2012-10-01T00:00:00\", \"Electricity Consumper per Month (GWh)\": 18961.251}, {\"country\": \"AUSTRIA\", \"Time\": \"2012-10-01T00:00:00\", \"Electricity Consumper per Month (GWh)\": 6001.201}, {\"country\": \"BELGIUM\", \"Time\": \"2012-10-01T00:00:00\", \"Electricity Consumper per Month (GWh)\": 7556.262}, {\"country\": \"CANADA\", \"Time\": \"2012-10-01T00:00:00\", \"Electricity Consumper per Month (GWh)\": 46293.42}, {\"country\": \"SWEDEN\", \"Time\": \"2012-10-01T00:00:00\", \"Electricity Consumper per Month (GWh)\": 12059.028}, {\"country\": \"SWITZERLAND\", \"Time\": \"2012-10-01T00:00:00\", \"Electricity Consumper per Month (GWh)\": 5445.618}, {\"country\": \"TURKEY\", \"Time\": \"2012-10-01T00:00:00\", \"Electricity Consumper per Month (GWh)\": 17434.814}, {\"country\": \"UNITED KINGDOM\", \"Time\": \"2012-10-01T00:00:00\", \"Electricity Consumper per Month (GWh)\": 30192.155}, {\"country\": \"UNITED STATES\", \"Time\": \"2012-10-01T00:00:00\", \"Electricity Consumper per Month (GWh)\": 317766.441}, {\"country\": \"AUSTRALIA\", \"Time\": \"2012-11-01T00:00:00\", \"Electricity Consumper per Month (GWh)\": 18846.957}, {\"country\": \"AUSTRIA\", \"Time\": \"2012-11-01T00:00:00\", \"Electricity Consumper per Month (GWh)\": 6186.742}, {\"country\": \"BELGIUM\", \"Time\": \"2012-11-01T00:00:00\", \"Electricity Consumper per Month (GWh)\": 7796.937}, {\"country\": \"CANADA\", \"Time\": \"2012-11-01T00:00:00\", \"Electricity Consumper per Month (GWh)\": 49545.323000000004}, {\"country\": \"SWEDEN\", \"Time\": \"2012-11-01T00:00:00\", \"Electricity Consumper per Month (GWh)\": 12559.222}, {\"country\": \"SWITZERLAND\", \"Time\": \"2012-11-01T00:00:00\", \"Electricity Consumper per Month (GWh)\": 5715.4130000000005}, {\"country\": \"TURKEY\", \"Time\": \"2012-11-01T00:00:00\", \"Electricity Consumper per Month (GWh)\": 18404.605}, {\"country\": \"UNITED KINGDOM\", \"Time\": \"2012-11-01T00:00:00\", \"Electricity Consumper per Month (GWh)\": 31343.798000000003}, {\"country\": \"UNITED STATES\", \"Time\": \"2012-11-01T00:00:00\", \"Electricity Consumper per Month (GWh)\": 311780.89900000003}, {\"country\": \"AUSTRALIA\", \"Time\": \"2012-12-01T00:00:00\", \"Electricity Consumper per Month (GWh)\": 20085.478}, {\"country\": \"AUSTRIA\", \"Time\": \"2012-12-01T00:00:00\", \"Electricity Consumper per Month (GWh)\": 6759.888}, {\"country\": \"BELGIUM\", \"Time\": \"2012-12-01T00:00:00\", \"Electricity Consumper per Month (GWh)\": 7924.503}, {\"country\": \"CANADA\", \"Time\": \"2012-12-01T00:00:00\", \"Electricity Consumper per Month (GWh)\": 54487.187}, {\"country\": \"SWEDEN\", \"Time\": \"2012-12-01T00:00:00\", \"Electricity Consumper per Month (GWh)\": 15245.958}, {\"country\": \"SWITZERLAND\", \"Time\": \"2012-12-01T00:00:00\", \"Electricity Consumper per Month (GWh)\": 6181.578000000001}, {\"country\": \"TURKEY\", \"Time\": \"2012-12-01T00:00:00\", \"Electricity Consumper per Month (GWh)\": 20310.168}, {\"country\": \"UNITED KINGDOM\", \"Time\": \"2012-12-01T00:00:00\", \"Electricity Consumper per Month (GWh)\": 33373.028000000006}, {\"country\": \"UNITED STATES\", \"Time\": \"2012-12-01T00:00:00\", \"Electricity Consumper per Month (GWh)\": 339922.79099999997}, {\"country\": \"AUSTRALIA\", \"Time\": \"2013-01-01T00:00:00\", \"Electricity Consumper per Month (GWh)\": 24110.366}, {\"country\": \"AUSTRIA\", \"Time\": \"2013-01-01T00:00:00\", \"Electricity Consumper per Month (GWh)\": 7031.931}, {\"country\": \"BELGIUM\", \"Time\": \"2013-01-01T00:00:00\", \"Electricity Consumper per Month (GWh)\": 8575.663999999999}, {\"country\": \"CANADA\", \"Time\": \"2013-01-01T00:00:00\", \"Electricity Consumper per Month (GWh)\": 58939.310000000005}, {\"country\": \"SWEDEN\", \"Time\": \"2013-01-01T00:00:00\", \"Electricity Consumper per Month (GWh)\": 15316.363999999998}, {\"country\": \"SWITZERLAND\", \"Time\": \"2013-01-01T00:00:00\", \"Electricity Consumper per Month (GWh)\": 6291.108000000001}, {\"country\": \"TURKEY\", \"Time\": \"2013-01-01T00:00:00\", \"Electricity Consumper per Month (GWh)\": 20414.432}, {\"country\": \"UNITED KINGDOM\", \"Time\": \"2013-01-01T00:00:00\", \"Electricity Consumper per Month (GWh)\": 34573.237}, {\"country\": \"UNITED STATES\", \"Time\": \"2013-01-01T00:00:00\", \"Electricity Consumper per Month (GWh)\": 355746.30899999995}, {\"country\": \"AUSTRALIA\", \"Time\": \"2013-02-01T00:00:00\", \"Electricity Consumper per Month (GWh)\": 18554.604}, {\"country\": \"AUSTRIA\", \"Time\": \"2013-02-01T00:00:00\", \"Electricity Consumper per Month (GWh)\": 6221.168999999999}, {\"country\": \"BELGIUM\", \"Time\": \"2013-02-01T00:00:00\", \"Electricity Consumper per Month (GWh)\": 7760.838999999999}, {\"country\": \"CANADA\", \"Time\": \"2013-02-01T00:00:00\", \"Electricity Consumper per Month (GWh)\": 52079.997}, {\"country\": \"SWEDEN\", \"Time\": \"2013-02-01T00:00:00\", \"Electricity Consumper per Month (GWh)\": 13480.947}, {\"country\": \"SWITZERLAND\", \"Time\": \"2013-02-01T00:00:00\", \"Electricity Consumper per Month (GWh)\": 5921.130000000001}, {\"country\": \"TURKEY\", \"Time\": \"2013-02-01T00:00:00\", \"Electricity Consumper per Month (GWh)\": 18116.152000000002}, {\"country\": \"UNITED KINGDOM\", \"Time\": \"2013-02-01T00:00:00\", \"Electricity Consumper per Month (GWh)\": 31637.542}, {\"country\": \"UNITED STATES\", \"Time\": \"2013-02-01T00:00:00\", \"Electricity Consumper per Month (GWh)\": 316161.11000000004}, {\"country\": \"AUSTRALIA\", \"Time\": \"2013-03-01T00:00:00\", \"Electricity Consumper per Month (GWh)\": 19604.488}, {\"country\": \"AUSTRIA\", \"Time\": \"2013-03-01T00:00:00\", \"Electricity Consumper per Month (GWh)\": 6657.916}, {\"country\": \"BELGIUM\", \"Time\": \"2013-03-01T00:00:00\", \"Electricity Consumper per Month (GWh)\": 8297.898}, {\"country\": \"CANADA\", \"Time\": \"2013-03-01T00:00:00\", \"Electricity Consumper per Month (GWh)\": 52544.445}, {\"country\": \"SWEDEN\", \"Time\": \"2013-03-01T00:00:00\", \"Electricity Consumper per Month (GWh)\": 14501.368}, {\"country\": \"SWITZERLAND\", \"Time\": \"2013-03-01T00:00:00\", \"Electricity Consumper per Month (GWh)\": 6045.781999999999}, {\"country\": \"TURKEY\", \"Time\": \"2013-03-01T00:00:00\", \"Electricity Consumper per Month (GWh)\": 19679.92}, {\"country\": \"UNITED KINGDOM\", \"Time\": \"2013-03-01T00:00:00\", \"Electricity Consumper per Month (GWh)\": 33913.688}, {\"country\": \"UNITED STATES\", \"Time\": \"2013-03-01T00:00:00\", \"Electricity Consumper per Month (GWh)\": 332691.899}, {\"country\": \"AUSTRALIA\", \"Time\": \"2013-04-01T00:00:00\", \"Electricity Consumper per Month (GWh)\": 17696.622}, {\"country\": \"AUSTRIA\", \"Time\": \"2013-04-01T00:00:00\", \"Electricity Consumper per Month (GWh)\": 5888.188}, {\"country\": \"BELGIUM\", \"Time\": \"2013-04-01T00:00:00\", \"Electricity Consumper per Month (GWh)\": 7371.246999999999}, {\"country\": \"CANADA\", \"Time\": \"2013-04-01T00:00:00\", \"Electricity Consumper per Month (GWh)\": 47149.786}, {\"country\": \"SWEDEN\", \"Time\": \"2013-04-01T00:00:00\", \"Electricity Consumper per Month (GWh)\": 11812.19}, {\"country\": \"SWITZERLAND\", \"Time\": \"2013-04-01T00:00:00\", \"Electricity Consumper per Month (GWh)\": 5326.813}, {\"country\": \"TURKEY\", \"Time\": \"2013-04-01T00:00:00\", \"Electricity Consumper per Month (GWh)\": 18391.44}, {\"country\": \"UNITED KINGDOM\", \"Time\": \"2013-04-01T00:00:00\", \"Electricity Consumper per Month (GWh)\": 29386.005}, {\"country\": \"UNITED STATES\", \"Time\": \"2013-04-01T00:00:00\", \"Electricity Consumper per Month (GWh)\": 304688.105}, {\"country\": \"AUSTRALIA\", \"Time\": \"2013-05-01T00:00:00\", \"Electricity Consumper per Month (GWh)\": 19018.646}, {\"country\": \"AUSTRIA\", \"Time\": \"2013-05-01T00:00:00\", \"Electricity Consumper per Month (GWh)\": 5517.52}, {\"country\": \"BELGIUM\", \"Time\": \"2013-05-01T00:00:00\", \"Electricity Consumper per Month (GWh)\": 7184.98}, {\"country\": \"CANADA\", \"Time\": \"2013-05-01T00:00:00\", \"Electricity Consumper per Month (GWh)\": 43887.621}, {\"country\": \"SWEDEN\", \"Time\": \"2013-05-01T00:00:00\", \"Electricity Consumper per Month (GWh)\": 10102.6}, {\"country\": \"SWITZERLAND\", \"Time\": \"2013-05-01T00:00:00\", \"Electricity Consumper per Month (GWh)\": 5096.854}, {\"country\": \"TURKEY\", \"Time\": \"2013-05-01T00:00:00\", \"Electricity Consumper per Month (GWh)\": 18763.061999999998}, {\"country\": \"UNITED KINGDOM\", \"Time\": \"2013-05-01T00:00:00\", \"Electricity Consumper per Month (GWh)\": 27530.07}, {\"country\": \"UNITED STATES\", \"Time\": \"2013-05-01T00:00:00\", \"Electricity Consumper per Month (GWh)\": 330280.021}, {\"country\": \"AUSTRALIA\", \"Time\": \"2013-06-01T00:00:00\", \"Electricity Consumper per Month (GWh)\": 19136.571}, {\"country\": \"AUSTRIA\", \"Time\": \"2013-06-01T00:00:00\", \"Electricity Consumper per Month (GWh)\": 5445.495000000001}, {\"country\": \"BELGIUM\", \"Time\": \"2013-06-01T00:00:00\", \"Electricity Consumper per Month (GWh)\": 6853.829}, {\"country\": \"CANADA\", \"Time\": \"2013-06-01T00:00:00\", \"Electricity Consumper per Month (GWh)\": 42787.182}, {\"country\": \"SWEDEN\", \"Time\": \"2013-06-01T00:00:00\", \"Electricity Consumper per Month (GWh)\": 9144.906}, {\"country\": \"SWITZERLAND\", \"Time\": \"2013-06-01T00:00:00\", \"Electricity Consumper per Month (GWh)\": 4992.7119999999995}, {\"country\": \"TURKEY\", \"Time\": \"2013-06-01T00:00:00\", \"Electricity Consumper per Month (GWh)\": 19288.776}, {\"country\": \"UNITED KINGDOM\", \"Time\": \"2013-06-01T00:00:00\", \"Electricity Consumper per Month (GWh)\": 25806.637000000002}, {\"country\": \"UNITED STATES\", \"Time\": \"2013-06-01T00:00:00\", \"Electricity Consumper per Month (GWh)\": 365204.002}, {\"country\": \"AUSTRALIA\", \"Time\": \"2013-07-01T00:00:00\", \"Electricity Consumper per Month (GWh)\": 19871.975}, {\"country\": \"AUSTRIA\", \"Time\": \"2013-07-01T00:00:00\", \"Electricity Consumper per Month (GWh)\": 5589.258000000001}, {\"country\": \"BELGIUM\", \"Time\": \"2013-07-01T00:00:00\", \"Electricity Consumper per Month (GWh)\": 6899.012000000001}, {\"country\": \"CANADA\", \"Time\": \"2013-07-01T00:00:00\", \"Electricity Consumper per Month (GWh)\": 45690.191}, {\"country\": \"SWEDEN\", \"Time\": \"2013-07-01T00:00:00\", \"Electricity Consumper per Month (GWh)\": 8847.311999999998}, {\"country\": \"SWITZERLAND\", \"Time\": \"2013-07-01T00:00:00\", \"Electricity Consumper per Month (GWh)\": 5022.49}, {\"country\": \"TURKEY\", \"Time\": \"2013-07-01T00:00:00\", \"Electricity Consumper per Month (GWh)\": 21713.076999999997}, {\"country\": \"UNITED KINGDOM\", \"Time\": \"2013-07-01T00:00:00\", \"Electricity Consumper per Month (GWh)\": 26390.1}, {\"country\": \"UNITED STATES\", \"Time\": \"2013-07-01T00:00:00\", \"Electricity Consumper per Month (GWh)\": 403237.043}, {\"country\": \"AUSTRALIA\", \"Time\": \"2013-08-01T00:00:00\", \"Electricity Consumper per Month (GWh)\": 19509.997}, {\"country\": \"AUSTRIA\", \"Time\": \"2013-08-01T00:00:00\", \"Electricity Consumper per Month (GWh)\": 5612.744000000001}, {\"country\": \"BELGIUM\", \"Time\": \"2013-08-01T00:00:00\", \"Electricity Consumper per Month (GWh)\": 6847.649}, {\"country\": \"CANADA\", \"Time\": \"2013-08-01T00:00:00\", \"Electricity Consumper per Month (GWh)\": 44787.968}, {\"country\": \"SWEDEN\", \"Time\": \"2013-08-01T00:00:00\", \"Electricity Consumper per Month (GWh)\": 9528.003}, {\"country\": \"SWITZERLAND\", \"Time\": \"2013-08-01T00:00:00\", \"Electricity Consumper per Month (GWh)\": 4956.267}, {\"country\": \"TURKEY\", \"Time\": \"2013-08-01T00:00:00\", \"Electricity Consumper per Month (GWh)\": 20834.128}, {\"country\": \"UNITED KINGDOM\", \"Time\": \"2013-08-01T00:00:00\", \"Electricity Consumper per Month (GWh)\": 26182.175000000003}, {\"country\": \"UNITED STATES\", \"Time\": \"2013-08-01T00:00:00\", \"Electricity Consumper per Month (GWh)\": 393889.997}, {\"country\": \"AUSTRALIA\", \"Time\": \"2013-09-01T00:00:00\", \"Electricity Consumper per Month (GWh)\": 17972.396}, {\"country\": \"AUSTRIA\", \"Time\": \"2013-09-01T00:00:00\", \"Electricity Consumper per Month (GWh)\": 5652.344999999999}, {\"country\": \"BELGIUM\", \"Time\": \"2013-09-01T00:00:00\", \"Electricity Consumper per Month (GWh)\": 6990.72}, {\"country\": \"CANADA\", \"Time\": \"2013-09-01T00:00:00\", \"Electricity Consumper per Month (GWh)\": 42531.375}, {\"country\": \"SWEDEN\", \"Time\": \"2013-09-01T00:00:00\", \"Electricity Consumper per Month (GWh)\": 9885.93}, {\"country\": \"SWITZERLAND\", \"Time\": \"2013-09-01T00:00:00\", \"Electricity Consumper per Month (GWh)\": 5039.088}, {\"country\": \"TURKEY\", \"Time\": \"2013-09-01T00:00:00\", \"Electricity Consumper per Month (GWh)\": 19475.022}, {\"country\": \"UNITED KINGDOM\", \"Time\": \"2013-09-01T00:00:00\", \"Electricity Consumper per Month (GWh)\": 27258.349}, {\"country\": \"UNITED STATES\", \"Time\": \"2013-09-01T00:00:00\", \"Electricity Consumper per Month (GWh)\": 348069.012}, {\"country\": \"AUSTRALIA\", \"Time\": \"2013-10-01T00:00:00\", \"Electricity Consumper per Month (GWh)\": 18539.655}, {\"country\": \"AUSTRIA\", \"Time\": \"2013-10-01T00:00:00\", \"Electricity Consumper per Month (GWh)\": 6141.106999999999}, {\"country\": \"BELGIUM\", \"Time\": \"2013-10-01T00:00:00\", \"Electricity Consumper per Month (GWh)\": 7507.062999999999}, {\"country\": \"CANADA\", \"Time\": \"2013-10-01T00:00:00\", \"Electricity Consumper per Month (GWh)\": 46222.691999999995}, {\"country\": \"SWEDEN\", \"Time\": \"2013-10-01T00:00:00\", \"Electricity Consumper per Month (GWh)\": 11344.615}, {\"country\": \"SWITZERLAND\", \"Time\": \"2013-10-01T00:00:00\", \"Electricity Consumper per Month (GWh)\": 5434.403}, {\"country\": \"TURKEY\", \"Time\": \"2013-10-01T00:00:00\", \"Electricity Consumper per Month (GWh)\": 18148.155000000002}, {\"country\": \"UNITED KINGDOM\", \"Time\": \"2013-10-01T00:00:00\", \"Electricity Consumper per Month (GWh)\": 29118.931}, {\"country\": \"UNITED STATES\", \"Time\": \"2013-10-01T00:00:00\", \"Electricity Consumper per Month (GWh)\": 321811.892}, {\"country\": \"AUSTRALIA\", \"Time\": \"2013-11-01T00:00:00\", \"Electricity Consumper per Month (GWh)\": 18206.767}, {\"country\": \"AUSTRIA\", \"Time\": \"2013-11-01T00:00:00\", \"Electricity Consumper per Month (GWh)\": 6196.5}, {\"country\": \"BELGIUM\", \"Time\": \"2013-11-01T00:00:00\", \"Electricity Consumper per Month (GWh)\": 7717.705000000001}, {\"country\": \"CANADA\", \"Time\": \"2013-11-01T00:00:00\", \"Electricity Consumper per Month (GWh)\": 52159.632}, {\"country\": \"SWEDEN\", \"Time\": \"2013-11-01T00:00:00\", \"Electricity Consumper per Month (GWh)\": 12361.982}, {\"country\": \"SWITZERLAND\", \"Time\": \"2013-11-01T00:00:00\", \"Electricity Consumper per Month (GWh)\": 5806.747}, {\"country\": \"TURKEY\", \"Time\": \"2013-11-01T00:00:00\", \"Electricity Consumper per Month (GWh)\": 19170.172}, {\"country\": \"UNITED KINGDOM\", \"Time\": \"2013-11-01T00:00:00\", \"Electricity Consumper per Month (GWh)\": 31238.163}, {\"country\": \"UNITED STATES\", \"Time\": \"2013-11-01T00:00:00\", \"Electricity Consumper per Month (GWh)\": 321045.05100000004}, {\"country\": \"AUSTRALIA\", \"Time\": \"2013-12-01T00:00:00\", \"Electricity Consumper per Month (GWh)\": 19140.914}, {\"country\": \"AUSTRIA\", \"Time\": \"2013-12-01T00:00:00\", \"Electricity Consumper per Month (GWh)\": 6619.282999999999}, {\"country\": \"BELGIUM\", \"Time\": \"2013-12-01T00:00:00\", \"Electricity Consumper per Month (GWh)\": 7913.396000000001}, {\"country\": \"CANADA\", \"Time\": \"2013-12-01T00:00:00\", \"Electricity Consumper per Month (GWh)\": 59351.804000000004}, {\"country\": \"SWEDEN\", \"Time\": \"2013-12-01T00:00:00\", \"Electricity Consumper per Month (GWh)\": 13210.783}, {\"country\": \"SWITZERLAND\", \"Time\": \"2013-12-01T00:00:00\", \"Electricity Consumper per Month (GWh)\": 6198.605}, {\"country\": \"TURKEY\", \"Time\": \"2013-12-01T00:00:00\", \"Electricity Consumper per Month (GWh)\": 21184.662999999997}, {\"country\": \"UNITED KINGDOM\", \"Time\": \"2013-12-01T00:00:00\", \"Electricity Consumper per Month (GWh)\": 31830.102999999996}, {\"country\": \"UNITED STATES\", \"Time\": \"2013-12-01T00:00:00\", \"Electricity Consumper per Month (GWh)\": 359578.55899999995}, {\"country\": \"AUSTRALIA\", \"Time\": \"2014-01-01T00:00:00\", \"Electricity Consumper per Month (GWh)\": 22180.171}, {\"country\": \"AUSTRIA\", \"Time\": \"2014-01-01T00:00:00\", \"Electricity Consumper per Month (GWh)\": 6794.196}, {\"country\": \"BELGIUM\", \"Time\": \"2014-01-01T00:00:00\", \"Electricity Consumper per Month (GWh)\": 8193.433}, {\"country\": \"CANADA\", \"Time\": \"2014-01-01T00:00:00\", \"Electricity Consumper per Month (GWh)\": 61056.99100000001}, {\"country\": \"SWEDEN\", \"Time\": \"2014-01-01T00:00:00\", \"Electricity Consumper per Month (GWh)\": 14641.789}, {\"country\": \"SWITZERLAND\", \"Time\": \"2014-01-01T00:00:00\", \"Electricity Consumper per Month (GWh)\": 5888.334000000001}, {\"country\": \"TURKEY\", \"Time\": \"2014-01-01T00:00:00\", \"Electricity Consumper per Month (GWh)\": 20938.549}, {\"country\": \"UNITED KINGDOM\", \"Time\": \"2014-01-01T00:00:00\", \"Electricity Consumper per Month (GWh)\": 33039.847}, {\"country\": \"UNITED STATES\", \"Time\": \"2014-01-01T00:00:00\", \"Electricity Consumper per Month (GWh)\": 385248.805}, {\"country\": \"AUSTRALIA\", \"Time\": \"2014-02-01T00:00:00\", \"Electricity Consumper per Month (GWh)\": 19476.418}, {\"country\": \"AUSTRIA\", \"Time\": \"2014-02-01T00:00:00\", \"Electricity Consumper per Month (GWh)\": 6143.74}, {\"country\": \"BELGIUM\", \"Time\": \"2014-02-01T00:00:00\", \"Electricity Consumper per Month (GWh)\": 7403.0199999999995}, {\"country\": \"CANADA\", \"Time\": \"2014-02-01T00:00:00\", \"Electricity Consumper per Month (GWh)\": 54610.562}, {\"country\": \"SWEDEN\", \"Time\": \"2014-02-01T00:00:00\", \"Electricity Consumper per Month (GWh)\": 12214.644}, {\"country\": \"SWITZERLAND\", \"Time\": \"2014-02-01T00:00:00\", \"Electricity Consumper per Month (GWh)\": 5380.049}, {\"country\": \"TURKEY\", \"Time\": \"2014-02-01T00:00:00\", \"Electricity Consumper per Month (GWh)\": 18821.547}, {\"country\": \"UNITED KINGDOM\", \"Time\": \"2014-02-01T00:00:00\", \"Electricity Consumper per Month (GWh)\": 29571.428}, {\"country\": \"UNITED STATES\", \"Time\": \"2014-02-01T00:00:00\", \"Electricity Consumper per Month (GWh)\": 329966.704}, {\"country\": \"AUSTRALIA\", \"Time\": \"2014-03-01T00:00:00\", \"Electricity Consumper per Month (GWh)\": 19669.218}, {\"country\": \"AUSTRIA\", \"Time\": \"2014-03-01T00:00:00\", \"Electricity Consumper per Month (GWh)\": 6279.29}, {\"country\": \"BELGIUM\", \"Time\": \"2014-03-01T00:00:00\", \"Electricity Consumper per Month (GWh)\": 7611.367}, {\"country\": \"CANADA\", \"Time\": \"2014-03-01T00:00:00\", \"Electricity Consumper per Month (GWh)\": 56756.506}, {\"country\": \"SWEDEN\", \"Time\": \"2014-03-01T00:00:00\", \"Electricity Consumper per Month (GWh)\": 12493.54}, {\"country\": \"SWITZERLAND\", \"Time\": \"2014-03-01T00:00:00\", \"Electricity Consumper per Month (GWh)\": 5609.622}, {\"country\": \"TURKEY\", \"Time\": \"2014-03-01T00:00:00\", \"Electricity Consumper per Month (GWh)\": 20053.148999999998}, {\"country\": \"UNITED KINGDOM\", \"Time\": \"2014-03-01T00:00:00\", \"Electricity Consumper per Month (GWh)\": 30712.506999999998}, {\"country\": \"UNITED STATES\", \"Time\": \"2014-03-01T00:00:00\", \"Electricity Consumper per Month (GWh)\": 338521.722}, {\"country\": \"AUSTRALIA\", \"Time\": \"2014-04-01T00:00:00\", \"Electricity Consumper per Month (GWh)\": 18538.051}, {\"country\": \"AUSTRIA\", \"Time\": \"2014-04-01T00:00:00\", \"Electricity Consumper per Month (GWh)\": 5682.273}, {\"country\": \"BELGIUM\", \"Time\": \"2014-04-01T00:00:00\", \"Electricity Consumper per Month (GWh)\": 7023.871}, {\"country\": \"CANADA\", \"Time\": \"2014-04-01T00:00:00\", \"Electricity Consumper per Month (GWh)\": 48407.757}, {\"country\": \"SWEDEN\", \"Time\": \"2014-04-01T00:00:00\", \"Electricity Consumper per Month (GWh)\": 10865.391}, {\"country\": \"SWITZERLAND\", \"Time\": \"2014-04-01T00:00:00\", \"Electricity Consumper per Month (GWh)\": 5049.73}, {\"country\": \"TURKEY\", \"Time\": \"2014-04-01T00:00:00\", \"Electricity Consumper per Month (GWh)\": 19353.993}, {\"country\": \"UNITED KINGDOM\", \"Time\": \"2014-04-01T00:00:00\", \"Electricity Consumper per Month (GWh)\": 26987.509000000002}, {\"country\": \"UNITED STATES\", \"Time\": \"2014-04-01T00:00:00\", \"Electricity Consumper per Month (GWh)\": 302692.83599999995}, {\"country\": \"AUSTRALIA\", \"Time\": \"2014-05-01T00:00:00\", \"Electricity Consumper per Month (GWh)\": 19977.317}, {\"country\": \"AUSTRIA\", \"Time\": \"2014-05-01T00:00:00\", \"Electricity Consumper per Month (GWh)\": 5667.084}, {\"country\": \"BELGIUM\", \"Time\": \"2014-05-01T00:00:00\", \"Electricity Consumper per Month (GWh)\": 7031.187}, {\"country\": \"CANADA\", \"Time\": \"2014-05-01T00:00:00\", \"Electricity Consumper per Month (GWh)\": 44677.24}, {\"country\": \"SWEDEN\", \"Time\": \"2014-05-01T00:00:00\", \"Electricity Consumper per Month (GWh)\": 10194.565000000002}, {\"country\": \"SWITZERLAND\", \"Time\": \"2014-05-01T00:00:00\", \"Electricity Consumper per Month (GWh)\": 5313.584000000001}, {\"country\": \"TURKEY\", \"Time\": \"2014-05-01T00:00:00\", \"Electricity Consumper per Month (GWh)\": 19640.448}, {\"country\": \"UNITED KINGDOM\", \"Time\": \"2014-05-01T00:00:00\", \"Electricity Consumper per Month (GWh)\": 26676.381}, {\"country\": \"UNITED STATES\", \"Time\": \"2014-05-01T00:00:00\", \"Electricity Consumper per Month (GWh)\": 330718.682}, {\"country\": \"AUSTRALIA\", \"Time\": \"2014-06-01T00:00:00\", \"Electricity Consumper per Month (GWh)\": 19538.12}, {\"country\": \"AUSTRIA\", \"Time\": \"2014-06-01T00:00:00\", \"Electricity Consumper per Month (GWh)\": 5484.629999999999}, {\"country\": \"BELGIUM\", \"Time\": \"2014-06-01T00:00:00\", \"Electricity Consumper per Month (GWh)\": 6729.286}, {\"country\": \"CANADA\", \"Time\": \"2014-06-01T00:00:00\", \"Electricity Consumper per Month (GWh)\": 43259.556000000004}, {\"country\": \"SWEDEN\", \"Time\": \"2014-06-01T00:00:00\", \"Electricity Consumper per Month (GWh)\": 9208.572}, {\"country\": \"SWITZERLAND\", \"Time\": \"2014-06-01T00:00:00\", \"Electricity Consumper per Month (GWh)\": 5080.384}, {\"country\": \"TURKEY\", \"Time\": \"2014-06-01T00:00:00\", \"Electricity Consumper per Month (GWh)\": 19673.101000000002}, {\"country\": \"UNITED KINGDOM\", \"Time\": \"2014-06-01T00:00:00\", \"Electricity Consumper per Month (GWh)\": 25350.659}, {\"country\": \"UNITED STATES\", \"Time\": \"2014-06-01T00:00:00\", \"Electricity Consumper per Month (GWh)\": 365685.588}, {\"country\": \"AUSTRALIA\", \"Time\": \"2014-07-01T00:00:00\", \"Electricity Consumper per Month (GWh)\": 21118.154}, {\"country\": \"AUSTRIA\", \"Time\": \"2014-07-01T00:00:00\", \"Electricity Consumper per Month (GWh)\": 5736.281}, {\"country\": \"BELGIUM\", \"Time\": \"2014-07-01T00:00:00\", \"Electricity Consumper per Month (GWh)\": 6820.178000000001}, {\"country\": \"CANADA\", \"Time\": \"2014-07-01T00:00:00\", \"Electricity Consumper per Month (GWh)\": 45174.985}, {\"country\": \"SWEDEN\", \"Time\": \"2014-07-01T00:00:00\", \"Electricity Consumper per Month (GWh)\": 8639.646999999999}, {\"country\": \"SWITZERLAND\", \"Time\": \"2014-07-01T00:00:00\", \"Electricity Consumper per Month (GWh)\": 5338.968999999999}, {\"country\": \"TURKEY\", \"Time\": \"2014-07-01T00:00:00\", \"Electricity Consumper per Month (GWh)\": 22218.164}, {\"country\": \"UNITED KINGDOM\", \"Time\": \"2014-07-01T00:00:00\", \"Electricity Consumper per Month (GWh)\": 26040.679}, {\"country\": \"UNITED STATES\", \"Time\": \"2014-07-01T00:00:00\", \"Electricity Consumper per Month (GWh)\": 393941.032}, {\"country\": \"AUSTRALIA\", \"Time\": \"2014-08-01T00:00:00\", \"Electricity Consumper per Month (GWh)\": 20243.594}, {\"country\": \"AUSTRIA\", \"Time\": \"2014-08-01T00:00:00\", \"Electricity Consumper per Month (GWh)\": 5463.543}, {\"country\": \"BELGIUM\", \"Time\": \"2014-08-01T00:00:00\", \"Electricity Consumper per Month (GWh)\": 6795.575000000001}, {\"country\": \"CANADA\", \"Time\": \"2014-08-01T00:00:00\", \"Electricity Consumper per Month (GWh)\": 45245.554}, {\"country\": \"SWEDEN\", \"Time\": \"2014-08-01T00:00:00\", \"Electricity Consumper per Month (GWh)\": 9394.371}, {\"country\": \"SWITZERLAND\", \"Time\": \"2014-08-01T00:00:00\", \"Electricity Consumper per Month (GWh)\": 5086.423000000001}, {\"country\": \"TURKEY\", \"Time\": \"2014-08-01T00:00:00\", \"Electricity Consumper per Month (GWh)\": 23133.319}, {\"country\": \"UNITED KINGDOM\", \"Time\": \"2014-08-01T00:00:00\", \"Electricity Consumper per Month (GWh)\": 25753.649}, {\"country\": \"UNITED STATES\", \"Time\": \"2014-08-01T00:00:00\", \"Electricity Consumper per Month (GWh)\": 393329.851}, {\"country\": \"AUSTRALIA\", \"Time\": \"2014-09-01T00:00:00\", \"Electricity Consumper per Month (GWh)\": 18121.551}, {\"country\": \"AUSTRIA\", \"Time\": \"2014-09-01T00:00:00\", \"Electricity Consumper per Month (GWh)\": 5580.896999999999}, {\"country\": \"BELGIUM\", \"Time\": \"2014-09-01T00:00:00\", \"Electricity Consumper per Month (GWh)\": 7003.701000000001}, {\"country\": \"CANADA\", \"Time\": \"2014-09-01T00:00:00\", \"Electricity Consumper per Month (GWh)\": 43167.01}, {\"country\": \"SWEDEN\", \"Time\": \"2014-09-01T00:00:00\", \"Electricity Consumper per Month (GWh)\": 9751.524}, {\"country\": \"SWITZERLAND\", \"Time\": \"2014-09-01T00:00:00\", \"Electricity Consumper per Month (GWh)\": 5051.779}, {\"country\": \"TURKEY\", \"Time\": \"2014-09-01T00:00:00\", \"Electricity Consumper per Month (GWh)\": 20562.574}, {\"country\": \"UNITED KINGDOM\", \"Time\": \"2014-09-01T00:00:00\", \"Electricity Consumper per Month (GWh)\": 26287.538}, {\"country\": \"UNITED STATES\", \"Time\": \"2014-09-01T00:00:00\", \"Electricity Consumper per Month (GWh)\": 347308.506}, {\"country\": \"AUSTRALIA\", \"Time\": \"2014-10-01T00:00:00\", \"Electricity Consumper per Month (GWh)\": 18760.417}, {\"country\": \"AUSTRIA\", \"Time\": \"2014-10-01T00:00:00\", \"Electricity Consumper per Month (GWh)\": 6135.362}, {\"country\": \"BELGIUM\", \"Time\": \"2014-10-01T00:00:00\", \"Electricity Consumper per Month (GWh)\": 7539.463}, {\"country\": \"CANADA\", \"Time\": \"2014-10-01T00:00:00\", \"Electricity Consumper per Month (GWh)\": 45508.511999999995}, {\"country\": \"SWEDEN\", \"Time\": \"2014-10-01T00:00:00\", \"Electricity Consumper per Month (GWh)\": 11147.773}, {\"country\": \"SWITZERLAND\", \"Time\": \"2014-10-01T00:00:00\", \"Electricity Consumper per Month (GWh)\": 5339.6089999999995}, {\"country\": \"TURKEY\", \"Time\": \"2014-10-01T00:00:00\", \"Electricity Consumper per Month (GWh)\": 18619.918}, {\"country\": \"UNITED KINGDOM\", \"Time\": \"2014-10-01T00:00:00\", \"Electricity Consumper per Month (GWh)\": 29020.396}, {\"country\": \"UNITED STATES\", \"Time\": \"2014-10-01T00:00:00\", \"Electricity Consumper per Month (GWh)\": 320866.95700000005}, {\"country\": \"AUSTRALIA\", \"Time\": \"2014-11-01T00:00:00\", \"Electricity Consumper per Month (GWh)\": 19827.877}, {\"country\": \"AUSTRIA\", \"Time\": \"2014-11-01T00:00:00\", \"Electricity Consumper per Month (GWh)\": 6042.737}, {\"country\": \"BELGIUM\", \"Time\": \"2014-11-01T00:00:00\", \"Electricity Consumper per Month (GWh)\": 7431.478}, {\"country\": \"CANADA\", \"Time\": \"2014-11-01T00:00:00\", \"Electricity Consumper per Month (GWh)\": 51500.037}, {\"country\": \"SWEDEN\", \"Time\": \"2014-11-01T00:00:00\", \"Electricity Consumper per Month (GWh)\": 12043.112000000001}, {\"country\": \"SWITZERLAND\", \"Time\": \"2014-11-01T00:00:00\", \"Electricity Consumper per Month (GWh)\": 5512.367999999999}, {\"country\": \"TURKEY\", \"Time\": \"2014-11-01T00:00:00\", \"Electricity Consumper per Month (GWh)\": 20235.327}, {\"country\": \"UNITED KINGDOM\", \"Time\": \"2014-11-01T00:00:00\", \"Electricity Consumper per Month (GWh)\": 30296.750000000004}, {\"country\": \"UNITED STATES\", \"Time\": \"2014-11-01T00:00:00\", \"Electricity Consumper per Month (GWh)\": 324528.98099999997}, {\"country\": \"AUSTRALIA\", \"Time\": \"2014-12-01T00:00:00\", \"Electricity Consumper per Month (GWh)\": 20761.348}, {\"country\": \"AUSTRIA\", \"Time\": \"2014-12-01T00:00:00\", \"Electricity Consumper per Month (GWh)\": 6537.693}, {\"country\": \"BELGIUM\", \"Time\": \"2014-12-01T00:00:00\", \"Electricity Consumper per Month (GWh)\": 7969.441}, {\"country\": \"CANADA\", \"Time\": \"2014-12-01T00:00:00\", \"Electricity Consumper per Month (GWh)\": 56931.28800000001}, {\"country\": \"SWEDEN\", \"Time\": \"2014-12-01T00:00:00\", \"Electricity Consumper per Month (GWh)\": 13738.072}, {\"country\": \"SWITZERLAND\", \"Time\": \"2014-12-01T00:00:00\", \"Electricity Consumper per Month (GWh)\": 5866.150000000001}, {\"country\": \"TURKEY\", \"Time\": \"2014-12-01T00:00:00\", \"Electricity Consumper per Month (GWh)\": 21455.911}, {\"country\": \"UNITED KINGDOM\", \"Time\": \"2014-12-01T00:00:00\", \"Electricity Consumper per Month (GWh)\": 32400.658}, {\"country\": \"UNITED STATES\", \"Time\": \"2014-12-01T00:00:00\", \"Electricity Consumper per Month (GWh)\": 343955.33900000004}, {\"country\": \"AUSTRALIA\", \"Time\": \"2015-01-01T00:00:00\", \"Electricity Consumper per Month (GWh)\": 23219.666}, {\"country\": \"AUSTRIA\", \"Time\": \"2015-01-01T00:00:00\", \"Electricity Consumper per Month (GWh)\": 6749.862}, {\"country\": \"BELGIUM\", \"Time\": \"2015-01-01T00:00:00\", \"Electricity Consumper per Month (GWh)\": 8384.851999999999}, {\"country\": \"CANADA\", \"Time\": \"2015-01-01T00:00:00\", \"Electricity Consumper per Month (GWh)\": 61859.827}, {\"country\": \"SWEDEN\", \"Time\": \"2015-01-01T00:00:00\", \"Electricity Consumper per Month (GWh)\": 14134.523}, {\"country\": \"SWITZERLAND\", \"Time\": \"2015-01-01T00:00:00\", \"Electricity Consumper per Month (GWh)\": 6149.058}, {\"country\": \"TURKEY\", \"Time\": \"2015-01-01T00:00:00\", \"Electricity Consumper per Month (GWh)\": 21726.406}, {\"country\": \"UNITED KINGDOM\", \"Time\": \"2015-01-01T00:00:00\", \"Electricity Consumper per Month (GWh)\": 33479.199}, {\"country\": \"UNITED STATES\", \"Time\": \"2015-01-01T00:00:00\", \"Electricity Consumper per Month (GWh)\": 368396.389}, {\"country\": \"AUSTRALIA\", \"Time\": \"2015-02-01T00:00:00\", \"Electricity Consumper per Month (GWh)\": 18925.745}, {\"country\": \"AUSTRIA\", \"Time\": \"2015-02-01T00:00:00\", \"Electricity Consumper per Month (GWh)\": 6184.064}, {\"country\": \"BELGIUM\", \"Time\": \"2015-02-01T00:00:00\", \"Electricity Consumper per Month (GWh)\": 7608.862}, {\"country\": \"CANADA\", \"Time\": \"2015-02-01T00:00:00\", \"Electricity Consumper per Month (GWh)\": 56446.214}, {\"country\": \"SWEDEN\", \"Time\": \"2015-02-01T00:00:00\", \"Electricity Consumper per Month (GWh)\": 12629.589}, {\"country\": \"SWITZERLAND\", \"Time\": \"2015-02-01T00:00:00\", \"Electricity Consumper per Month (GWh)\": 5762.062000000001}, {\"country\": \"TURKEY\", \"Time\": \"2015-02-01T00:00:00\", \"Electricity Consumper per Month (GWh)\": 19545.834}, {\"country\": \"UNITED KINGDOM\", \"Time\": \"2015-02-01T00:00:00\", \"Electricity Consumper per Month (GWh)\": 30482.073}, {\"country\": \"UNITED STATES\", \"Time\": \"2015-02-01T00:00:00\", \"Electricity Consumper per Month (GWh)\": 342626.528}, {\"country\": \"AUSTRALIA\", \"Time\": \"2015-03-01T00:00:00\", \"Electricity Consumper per Month (GWh)\": 20814.195}, {\"country\": \"AUSTRIA\", \"Time\": \"2015-03-01T00:00:00\", \"Electricity Consumper per Month (GWh)\": 6438.566}, {\"country\": \"BELGIUM\", \"Time\": \"2015-03-01T00:00:00\", \"Electricity Consumper per Month (GWh)\": 7944.163}, {\"country\": \"CANADA\", \"Time\": \"2015-03-01T00:00:00\", \"Electricity Consumper per Month (GWh)\": 55153.022}, {\"country\": \"SWEDEN\", \"Time\": \"2015-03-01T00:00:00\", \"Electricity Consumper per Month (GWh)\": 12988.26}, {\"country\": \"SWITZERLAND\", \"Time\": \"2015-03-01T00:00:00\", \"Electricity Consumper per Month (GWh)\": 5675.978}, {\"country\": \"TURKEY\", \"Time\": \"2015-03-01T00:00:00\", \"Electricity Consumper per Month (GWh)\": 20742.876}, {\"country\": \"UNITED KINGDOM\", \"Time\": \"2015-03-01T00:00:00\", \"Electricity Consumper per Month (GWh)\": 31435.117000000002}, {\"country\": \"UNITED STATES\", \"Time\": \"2015-03-01T00:00:00\", \"Electricity Consumper per Month (GWh)\": 332110.201}, {\"country\": \"AUSTRALIA\", \"Time\": \"2015-04-01T00:00:00\", \"Electricity Consumper per Month (GWh)\": 18232.976}, {\"country\": \"AUSTRIA\", \"Time\": \"2015-04-01T00:00:00\", \"Electricity Consumper per Month (GWh)\": 5626.045}, {\"country\": \"BELGIUM\", \"Time\": \"2015-04-01T00:00:00\", \"Electricity Consumper per Month (GWh)\": 7195.467999999999}, {\"country\": \"CANADA\", \"Time\": \"2015-04-01T00:00:00\", \"Electricity Consumper per Month (GWh)\": 47014.26}, {\"country\": \"SWEDEN\", \"Time\": \"2015-04-01T00:00:00\", \"Electricity Consumper per Month (GWh)\": 11025.376}, {\"country\": \"SWITZERLAND\", \"Time\": \"2015-04-01T00:00:00\", \"Electricity Consumper per Month (GWh)\": 5093.906999999999}, {\"country\": \"TURKEY\", \"Time\": \"2015-04-01T00:00:00\", \"Electricity Consumper per Month (GWh)\": 19780.925}, {\"country\": \"UNITED KINGDOM\", \"Time\": \"2015-04-01T00:00:00\", \"Electricity Consumper per Month (GWh)\": 27209.698999999997}, {\"country\": \"UNITED STATES\", \"Time\": \"2015-04-01T00:00:00\", \"Electricity Consumper per Month (GWh)\": 302029.374}, {\"country\": \"AUSTRALIA\", \"Time\": \"2015-05-01T00:00:00\", \"Electricity Consumper per Month (GWh)\": 19339.881}, {\"country\": \"AUSTRIA\", \"Time\": \"2015-05-01T00:00:00\", \"Electricity Consumper per Month (GWh)\": 5561.194}, {\"country\": \"BELGIUM\", \"Time\": \"2015-05-01T00:00:00\", \"Electricity Consumper per Month (GWh)\": 7056.703}, {\"country\": \"CANADA\", \"Time\": \"2015-05-01T00:00:00\", \"Electricity Consumper per Month (GWh)\": 43097.602}, {\"country\": \"SWEDEN\", \"Time\": \"2015-05-01T00:00:00\", \"Electricity Consumper per Month (GWh)\": 10535.052}, {\"country\": \"SWITZERLAND\", \"Time\": \"2015-05-01T00:00:00\", \"Electricity Consumper per Month (GWh)\": 5369.195}, {\"country\": \"TURKEY\", \"Time\": \"2015-05-01T00:00:00\", \"Electricity Consumper per Month (GWh)\": 20488.818}, {\"country\": \"UNITED KINGDOM\", \"Time\": \"2015-05-01T00:00:00\", \"Electricity Consumper per Month (GWh)\": 27022.470999999998}, {\"country\": \"UNITED STATES\", \"Time\": \"2015-05-01T00:00:00\", \"Electricity Consumper per Month (GWh)\": 330947.14999999997}, {\"country\": \"AUSTRALIA\", \"Time\": \"2015-06-01T00:00:00\", \"Electricity Consumper per Month (GWh)\": 19167.598}, {\"country\": \"AUSTRIA\", \"Time\": \"2015-06-01T00:00:00\", \"Electricity Consumper per Month (GWh)\": 5444.469}, {\"country\": \"BELGIUM\", \"Time\": \"2015-06-01T00:00:00\", \"Electricity Consumper per Month (GWh)\": 6896.624}, {\"country\": \"CANADA\", \"Time\": \"2015-06-01T00:00:00\", \"Electricity Consumper per Month (GWh)\": 42733.623999999996}, {\"country\": \"SWEDEN\", \"Time\": \"2015-06-01T00:00:00\", \"Electricity Consumper per Month (GWh)\": 9639.148}, {\"country\": \"SWITZERLAND\", \"Time\": \"2015-06-01T00:00:00\", \"Electricity Consumper per Month (GWh)\": 5238.887999999999}, {\"country\": \"TURKEY\", \"Time\": \"2015-06-01T00:00:00\", \"Electricity Consumper per Month (GWh)\": 20167.36}, {\"country\": \"UNITED KINGDOM\", \"Time\": \"2015-06-01T00:00:00\", \"Electricity Consumper per Month (GWh)\": 25720.221}, {\"country\": \"UNITED STATES\", \"Time\": \"2015-06-01T00:00:00\", \"Electricity Consumper per Month (GWh)\": 371607.417}, {\"country\": \"AUSTRALIA\", \"Time\": \"2015-07-01T00:00:00\", \"Electricity Consumper per Month (GWh)\": 19893.895}, {\"country\": \"AUSTRIA\", \"Time\": \"2015-07-01T00:00:00\", \"Electricity Consumper per Month (GWh)\": 5815.357}, {\"country\": \"BELGIUM\", \"Time\": \"2015-07-01T00:00:00\", \"Electricity Consumper per Month (GWh)\": 6815.217000000001}, {\"country\": \"CANADA\", \"Time\": \"2015-07-01T00:00:00\", \"Electricity Consumper per Month (GWh)\": 45152.941}, {\"country\": \"SWEDEN\", \"Time\": \"2015-07-01T00:00:00\", \"Electricity Consumper per Month (GWh)\": 8939.323}, {\"country\": \"SWITZERLAND\", \"Time\": \"2015-07-01T00:00:00\", \"Electricity Consumper per Month (GWh)\": 5360.206}, {\"country\": \"TURKEY\", \"Time\": \"2015-07-01T00:00:00\", \"Electricity Consumper per Month (GWh)\": 22723.023}, {\"country\": \"UNITED KINGDOM\", \"Time\": \"2015-07-01T00:00:00\", \"Electricity Consumper per Month (GWh)\": 26210.093999999997}, {\"country\": \"UNITED STATES\", \"Time\": \"2015-07-01T00:00:00\", \"Electricity Consumper per Month (GWh)\": 410256.669}, {\"country\": \"AUSTRALIA\", \"Time\": \"2015-08-01T00:00:00\", \"Electricity Consumper per Month (GWh)\": 19082.33}, {\"country\": \"AUSTRIA\", \"Time\": \"2015-08-01T00:00:00\", \"Electricity Consumper per Month (GWh)\": 5586.366}, {\"country\": \"BELGIUM\", \"Time\": \"2015-08-01T00:00:00\", \"Electricity Consumper per Month (GWh)\": 6863.616999999999}, {\"country\": \"CANADA\", \"Time\": \"2015-08-01T00:00:00\", \"Electricity Consumper per Month (GWh)\": 45117.299}, {\"country\": \"SWEDEN\", \"Time\": \"2015-08-01T00:00:00\", \"Electricity Consumper per Month (GWh)\": 9604.983}, {\"country\": \"SWITZERLAND\", \"Time\": \"2015-08-01T00:00:00\", \"Electricity Consumper per Month (GWh)\": 4995.495}, {\"country\": \"TURKEY\", \"Time\": \"2015-08-01T00:00:00\", \"Electricity Consumper per Month (GWh)\": 24013.520999999997}, {\"country\": \"UNITED KINGDOM\", \"Time\": \"2015-08-01T00:00:00\", \"Electricity Consumper per Month (GWh)\": 25802.156}, {\"country\": \"UNITED STATES\", \"Time\": \"2015-08-01T00:00:00\", \"Electricity Consumper per Month (GWh)\": 402207.38600000006}, {\"country\": \"AUSTRALIA\", \"Time\": \"2015-09-01T00:00:00\", \"Electricity Consumper per Month (GWh)\": 17602.858}, {\"country\": \"AUSTRIA\", \"Time\": \"2015-09-01T00:00:00\", \"Electricity Consumper per Month (GWh)\": 5722.711}, {\"country\": \"BELGIUM\", \"Time\": \"2015-09-01T00:00:00\", \"Electricity Consumper per Month (GWh)\": 7015.910999999999}, {\"country\": \"CANADA\", \"Time\": \"2015-09-01T00:00:00\", \"Electricity Consumper per Month (GWh)\": 42673.509000000005}, {\"country\": \"SWEDEN\", \"Time\": \"2015-09-01T00:00:00\", \"Electricity Consumper per Month (GWh)\": 9897.289999999999}, {\"country\": \"SWITZERLAND\", \"Time\": \"2015-09-01T00:00:00\", \"Electricity Consumper per Month (GWh)\": 5045.428}, {\"country\": \"TURKEY\", \"Time\": \"2015-09-01T00:00:00\", \"Electricity Consumper per Month (GWh)\": 20781.878}, {\"country\": \"UNITED KINGDOM\", \"Time\": \"2015-09-01T00:00:00\", \"Electricity Consumper per Month (GWh)\": 26426.093}, {\"country\": \"UNITED STATES\", \"Time\": \"2015-09-01T00:00:00\", \"Electricity Consumper per Month (GWh)\": 358823.3169999999}, {\"country\": \"AUSTRALIA\", \"Time\": \"2015-10-01T00:00:00\", \"Electricity Consumper per Month (GWh)\": 17769.783}, {\"country\": \"AUSTRIA\", \"Time\": \"2015-10-01T00:00:00\", \"Electricity Consumper per Month (GWh)\": 5961.942000000001}, {\"country\": \"BELGIUM\", \"Time\": \"2015-10-01T00:00:00\", \"Electricity Consumper per Month (GWh)\": 7529.190999999999}, {\"country\": \"CANADA\", \"Time\": \"2015-10-01T00:00:00\", \"Electricity Consumper per Month (GWh)\": 45595.9}, {\"country\": \"SWEDEN\", \"Time\": \"2015-10-01T00:00:00\", \"Electricity Consumper per Month (GWh)\": 11627.568999999998}, {\"country\": \"SWITZERLAND\", \"Time\": \"2015-10-01T00:00:00\", \"Electricity Consumper per Month (GWh)\": 5350.495999999999}, {\"country\": \"TURKEY\", \"Time\": \"2015-10-01T00:00:00\", \"Electricity Consumper per Month (GWh)\": 20277.278}, {\"country\": \"UNITED KINGDOM\", \"Time\": \"2015-10-01T00:00:00\", \"Electricity Consumper per Month (GWh)\": 28965.721}, {\"country\": \"UNITED STATES\", \"Time\": \"2015-10-01T00:00:00\", \"Electricity Consumper per Month (GWh)\": 318448.121}, {\"country\": \"AUSTRALIA\", \"Time\": \"2015-11-01T00:00:00\", \"Electricity Consumper per Month (GWh)\": 18384.327}, {\"country\": \"AUSTRIA\", \"Time\": \"2015-11-01T00:00:00\", \"Electricity Consumper per Month (GWh)\": 6305.5960000000005}, {\"country\": \"BELGIUM\", \"Time\": \"2015-11-01T00:00:00\", \"Electricity Consumper per Month (GWh)\": 7507.095}, {\"country\": \"CANADA\", \"Time\": \"2015-11-01T00:00:00\", \"Electricity Consumper per Month (GWh)\": 49220.325}, {\"country\": \"SWEDEN\", \"Time\": \"2015-11-01T00:00:00\", \"Electricity Consumper per Month (GWh)\": 12268.203000000001}, {\"country\": \"SWITZERLAND\", \"Time\": \"2015-11-01T00:00:00\", \"Electricity Consumper per Month (GWh)\": 5394.414000000001}, {\"country\": \"TURKEY\", \"Time\": \"2015-11-01T00:00:00\", \"Electricity Consumper per Month (GWh)\": 20580.214000000004}, {\"country\": \"UNITED KINGDOM\", \"Time\": \"2015-11-01T00:00:00\", \"Electricity Consumper per Month (GWh)\": 30128.023999999998}, {\"country\": \"UNITED STATES\", \"Time\": \"2015-11-01T00:00:00\", \"Electricity Consumper per Month (GWh)\": 307230.511}, {\"country\": \"AUSTRALIA\", \"Time\": \"2015-12-01T00:00:00\", \"Electricity Consumper per Month (GWh)\": 19676.193}, {\"country\": \"AUSTRIA\", \"Time\": \"2015-12-01T00:00:00\", \"Electricity Consumper per Month (GWh)\": 6586.345}, {\"country\": \"BELGIUM\", \"Time\": \"2015-12-01T00:00:00\", \"Electricity Consumper per Month (GWh)\": 7604.298}, {\"country\": \"CANADA\", \"Time\": \"2015-12-01T00:00:00\", \"Electricity Consumper per Month (GWh)\": 54408.477000000006}, {\"country\": \"SWEDEN\", \"Time\": \"2015-12-01T00:00:00\", \"Electricity Consumper per Month (GWh)\": 13101.685999999998}, {\"country\": \"SWITZERLAND\", \"Time\": \"2015-12-01T00:00:00\", \"Electricity Consumper per Month (GWh)\": 5684.875}, {\"country\": \"TURKEY\", \"Time\": \"2015-12-01T00:00:00\", \"Electricity Consumper per Month (GWh)\": 23012.865999999998}, {\"country\": \"UNITED KINGDOM\", \"Time\": \"2015-12-01T00:00:00\", \"Electricity Consumper per Month (GWh)\": 30487.689}, {\"country\": \"UNITED STATES\", \"Time\": \"2015-12-01T00:00:00\", \"Electricity Consumper per Month (GWh)\": 331205.937}, {\"country\": \"AUSTRALIA\", \"Time\": \"2016-01-01T00:00:00\", \"Electricity Consumper per Month (GWh)\": 21969.438000000002}, {\"country\": \"AUSTRIA\", \"Time\": \"2016-01-01T00:00:00\", \"Electricity Consumper per Month (GWh)\": 6927.525999999998}, {\"country\": \"BELGIUM\", \"Time\": \"2016-01-01T00:00:00\", \"Electricity Consumper per Month (GWh)\": 8159.415999999999}, {\"country\": \"CANADA\", \"Time\": \"2016-01-01T00:00:00\", \"Electricity Consumper per Month (GWh)\": 57511.001}, {\"country\": \"SWEDEN\", \"Time\": \"2016-01-01T00:00:00\", \"Electricity Consumper per Month (GWh)\": 15850.406000000003}, {\"country\": \"SWITZERLAND\", \"Time\": \"2016-01-01T00:00:00\", \"Electricity Consumper per Month (GWh)\": 6225.476999999999}, {\"country\": \"TURKEY\", \"Time\": \"2016-01-01T00:00:00\", \"Electricity Consumper per Month (GWh)\": 22746.576}, {\"country\": \"UNITED KINGDOM\", \"Time\": \"2016-01-01T00:00:00\", \"Electricity Consumper per Month (GWh)\": 33083.491}, {\"country\": \"UNITED STATES\", \"Time\": \"2016-01-01T00:00:00\", \"Electricity Consumper per Month (GWh)\": 360609.494}, {\"country\": \"AUSTRALIA\", \"Time\": \"2016-02-01T00:00:00\", \"Electricity Consumper per Month (GWh)\": 22825.182999999997}, {\"country\": \"AUSTRIA\", \"Time\": \"2016-02-01T00:00:00\", \"Electricity Consumper per Month (GWh)\": 6295.463000000001}, {\"country\": \"BELGIUM\", \"Time\": \"2016-02-01T00:00:00\", \"Electricity Consumper per Month (GWh)\": 7680.287}, {\"country\": \"CANADA\", \"Time\": \"2016-02-01T00:00:00\", \"Electricity Consumper per Month (GWh)\": 53770.645000000004}, {\"country\": \"SWEDEN\", \"Time\": \"2016-02-01T00:00:00\", \"Electricity Consumper per Month (GWh)\": 13595.455}, {\"country\": \"SWITZERLAND\", \"Time\": \"2016-02-01T00:00:00\", \"Electricity Consumper per Month (GWh)\": 5782.450000000001}, {\"country\": \"TURKEY\", \"Time\": \"2016-02-01T00:00:00\", \"Electricity Consumper per Month (GWh)\": 20442.874}, {\"country\": \"UNITED KINGDOM\", \"Time\": \"2016-02-01T00:00:00\", \"Electricity Consumper per Month (GWh)\": 31001.997999999996}, {\"country\": \"UNITED STATES\", \"Time\": \"2016-02-01T00:00:00\", \"Electricity Consumper per Month (GWh)\": 320693.04000000004}, {\"country\": \"AUSTRALIA\", \"Time\": \"2016-03-01T00:00:00\", \"Electricity Consumper per Month (GWh)\": 22018.493000000002}, {\"country\": \"AUSTRIA\", \"Time\": \"2016-03-01T00:00:00\", \"Electricity Consumper per Month (GWh)\": 6393.952}, {\"country\": \"BELGIUM\", \"Time\": \"2016-03-01T00:00:00\", \"Electricity Consumper per Month (GWh)\": 7873.205}, {\"country\": \"CANADA\", \"Time\": \"2016-03-01T00:00:00\", \"Electricity Consumper per Month (GWh)\": 53661.815}, {\"country\": \"SWEDEN\", \"Time\": \"2016-03-01T00:00:00\", \"Electricity Consumper per Month (GWh)\": 13336.158}, {\"country\": \"SWITZERLAND\", \"Time\": \"2016-03-01T00:00:00\", \"Electricity Consumper per Month (GWh)\": 5925.41}, {\"country\": \"TURKEY\", \"Time\": \"2016-03-01T00:00:00\", \"Electricity Consumper per Month (GWh)\": 21898.04}, {\"country\": \"UNITED KINGDOM\", \"Time\": \"2016-03-01T00:00:00\", \"Electricity Consumper per Month (GWh)\": 31607.968}, {\"country\": \"UNITED STATES\", \"Time\": \"2016-03-01T00:00:00\", \"Electricity Consumper per Month (GWh)\": 310770.32499999995}, {\"country\": \"AUSTRALIA\", \"Time\": \"2016-04-01T00:00:00\", \"Electricity Consumper per Month (GWh)\": 21037.026}, {\"country\": \"AUSTRIA\", \"Time\": \"2016-04-01T00:00:00\", \"Electricity Consumper per Month (GWh)\": 5498.169999999999}, {\"country\": \"BELGIUM\", \"Time\": \"2016-04-01T00:00:00\", \"Electricity Consumper per Month (GWh)\": 7202.839000000001}, {\"country\": \"CANADA\", \"Time\": \"2016-04-01T00:00:00\", \"Electricity Consumper per Month (GWh)\": 48038.219999999994}, {\"country\": \"SWEDEN\", \"Time\": \"2016-04-01T00:00:00\", \"Electricity Consumper per Month (GWh)\": 11644.66}, {\"country\": \"SWITZERLAND\", \"Time\": \"2016-04-01T00:00:00\", \"Electricity Consumper per Month (GWh)\": 5239.113}, {\"country\": \"TURKEY\", \"Time\": \"2016-04-01T00:00:00\", \"Electricity Consumper per Month (GWh)\": 20678.507999999998}, {\"country\": \"UNITED KINGDOM\", \"Time\": \"2016-04-01T00:00:00\", \"Electricity Consumper per Month (GWh)\": 28785.796999999995}, {\"country\": \"UNITED STATES\", \"Time\": \"2016-04-01T00:00:00\", \"Electricity Consumper per Month (GWh)\": 298760.094}, {\"country\": \"AUSTRALIA\", \"Time\": \"2016-05-01T00:00:00\", \"Electricity Consumper per Month (GWh)\": 20714.111999999997}, {\"country\": \"AUSTRIA\", \"Time\": \"2016-05-01T00:00:00\", \"Electricity Consumper per Month (GWh)\": 5510.392}, {\"country\": \"BELGIUM\", \"Time\": \"2016-05-01T00:00:00\", \"Electricity Consumper per Month (GWh)\": 6961.191}, {\"country\": \"CANADA\", \"Time\": \"2016-05-01T00:00:00\", \"Electricity Consumper per Month (GWh)\": 41819.242}, {\"country\": \"SWEDEN\", \"Time\": \"2016-05-01T00:00:00\", \"Electricity Consumper per Month (GWh)\": 10152.165999999997}, {\"country\": \"SWITZERLAND\", \"Time\": \"2016-05-01T00:00:00\", \"Electricity Consumper per Month (GWh)\": 5129.71}, {\"country\": \"TURKEY\", \"Time\": \"2016-05-01T00:00:00\", \"Electricity Consumper per Month (GWh)\": 21216.803}, {\"country\": \"UNITED KINGDOM\", \"Time\": \"2016-05-01T00:00:00\", \"Electricity Consumper per Month (GWh)\": 26667.859}, {\"country\": \"UNITED STATES\", \"Time\": \"2016-05-01T00:00:00\", \"Electricity Consumper per Month (GWh)\": 324971.613}, {\"country\": \"AUSTRALIA\", \"Time\": \"2016-06-01T00:00:00\", \"Electricity Consumper per Month (GWh)\": 22288.363}, {\"country\": \"AUSTRIA\", \"Time\": \"2016-06-01T00:00:00\", \"Electricity Consumper per Month (GWh)\": 5451.969}, {\"country\": \"BELGIUM\", \"Time\": \"2016-06-01T00:00:00\", \"Electricity Consumper per Month (GWh)\": 6853.259}, {\"country\": \"CANADA\", \"Time\": \"2016-06-01T00:00:00\", \"Electricity Consumper per Month (GWh)\": 43281.843}, {\"country\": \"SWEDEN\", \"Time\": \"2016-06-01T00:00:00\", \"Electricity Consumper per Month (GWh)\": 9234.936000000002}, {\"country\": \"SWITZERLAND\", \"Time\": \"2016-06-01T00:00:00\", \"Electricity Consumper per Month (GWh)\": 4965.417}, {\"country\": \"TURKEY\", \"Time\": \"2016-06-01T00:00:00\", \"Electricity Consumper per Month (GWh)\": 22337.667999999998}, {\"country\": \"UNITED KINGDOM\", \"Time\": \"2016-06-01T00:00:00\", \"Electricity Consumper per Month (GWh)\": 25252.8}, {\"country\": \"UNITED STATES\", \"Time\": \"2016-06-01T00:00:00\", \"Electricity Consumper per Month (GWh)\": 377944.771}, {\"country\": \"AUSTRALIA\", \"Time\": \"2016-07-01T00:00:00\", \"Electricity Consumper per Month (GWh)\": 21877.468}, {\"country\": \"AUSTRIA\", \"Time\": \"2016-07-01T00:00:00\", \"Electricity Consumper per Month (GWh)\": 5438.071}, {\"country\": \"BELGIUM\", \"Time\": \"2016-07-01T00:00:00\", \"Electricity Consumper per Month (GWh)\": 6658.687000000001}, {\"country\": \"CANADA\", \"Time\": \"2016-07-01T00:00:00\", \"Electricity Consumper per Month (GWh)\": 43979.334}, {\"country\": \"SWEDEN\", \"Time\": \"2016-07-01T00:00:00\", \"Electricity Consumper per Month (GWh)\": 8845.555999999999}, {\"country\": \"SWITZERLAND\", \"Time\": \"2016-07-01T00:00:00\", \"Electricity Consumper per Month (GWh)\": 4955.403}, {\"country\": \"TURKEY\", \"Time\": \"2016-07-01T00:00:00\", \"Electricity Consumper per Month (GWh)\": 23552.378}, {\"country\": \"UNITED KINGDOM\", \"Time\": \"2016-07-01T00:00:00\", \"Electricity Consumper per Month (GWh)\": 25681.197}, {\"country\": \"UNITED STATES\", \"Time\": \"2016-07-01T00:00:00\", \"Electricity Consumper per Month (GWh)\": 423234.303}, {\"country\": \"AUSTRALIA\", \"Time\": \"2016-08-01T00:00:00\", \"Electricity Consumper per Month (GWh)\": 20566.532}, {\"country\": \"AUSTRIA\", \"Time\": \"2016-08-01T00:00:00\", \"Electricity Consumper per Month (GWh)\": 5387.687000000001}, {\"country\": \"BELGIUM\", \"Time\": \"2016-08-01T00:00:00\", \"Electricity Consumper per Month (GWh)\": 6829.788999999999}, {\"country\": \"CANADA\", \"Time\": \"2016-08-01T00:00:00\", \"Electricity Consumper per Month (GWh)\": 46472.219999999994}, {\"country\": \"SWEDEN\", \"Time\": \"2016-08-01T00:00:00\", \"Electricity Consumper per Month (GWh)\": 9589.296}, {\"country\": \"SWITZERLAND\", \"Time\": \"2016-08-01T00:00:00\", \"Electricity Consumper per Month (GWh)\": 4941.081999999999}, {\"country\": \"TURKEY\", \"Time\": \"2016-08-01T00:00:00\", \"Electricity Consumper per Month (GWh)\": 25493.018999999997}, {\"country\": \"UNITED KINGDOM\", \"Time\": \"2016-08-01T00:00:00\", \"Electricity Consumper per Month (GWh)\": 25510.7}, {\"country\": \"UNITED STATES\", \"Time\": \"2016-08-01T00:00:00\", \"Electricity Consumper per Month (GWh)\": 421403.68799999997}, {\"country\": \"AUSTRALIA\", \"Time\": \"2016-09-01T00:00:00\", \"Electricity Consumper per Month (GWh)\": 19138.655000000002}, {\"country\": \"AUSTRIA\", \"Time\": \"2016-09-01T00:00:00\", \"Electricity Consumper per Month (GWh)\": 5570.8949999999995}, {\"country\": \"BELGIUM\", \"Time\": \"2016-09-01T00:00:00\", \"Electricity Consumper per Month (GWh)\": 6893.982}, {\"country\": \"CANADA\", \"Time\": \"2016-09-01T00:00:00\", \"Electricity Consumper per Month (GWh)\": 44542.144}, {\"country\": \"SWEDEN\", \"Time\": \"2016-09-01T00:00:00\", \"Electricity Consumper per Month (GWh)\": 9745.565999999999}, {\"country\": \"SWITZERLAND\", \"Time\": \"2016-09-01T00:00:00\", \"Electricity Consumper per Month (GWh)\": 4928.02}, {\"country\": \"TURKEY\", \"Time\": \"2016-09-01T00:00:00\", \"Electricity Consumper per Month (GWh)\": 20643.161}, {\"country\": \"UNITED KINGDOM\", \"Time\": \"2016-09-01T00:00:00\", \"Electricity Consumper per Month (GWh)\": 25914.291999999998}, {\"country\": \"UNITED STATES\", \"Time\": \"2016-09-01T00:00:00\", \"Electricity Consumper per Month (GWh)\": 360531.073}, {\"country\": \"AUSTRALIA\", \"Time\": \"2016-10-01T00:00:00\", \"Electricity Consumper per Month (GWh)\": 18921.738}, {\"country\": \"AUSTRIA\", \"Time\": \"2016-10-01T00:00:00\", \"Electricity Consumper per Month (GWh)\": 6083.684}, {\"country\": \"BELGIUM\", \"Time\": \"2016-10-01T00:00:00\", \"Electricity Consumper per Month (GWh)\": 7501.991999999999}, {\"country\": \"CANADA\", \"Time\": \"2016-10-01T00:00:00\", \"Electricity Consumper per Month (GWh)\": 45939.187}, {\"country\": \"SWEDEN\", \"Time\": \"2016-10-01T00:00:00\", \"Electricity Consumper per Month (GWh)\": 11689.004000000003}, {\"country\": \"SWITZERLAND\", \"Time\": \"2016-10-01T00:00:00\", \"Electricity Consumper per Month (GWh)\": 5508.585999999999}, {\"country\": \"TURKEY\", \"Time\": \"2016-10-01T00:00:00\", \"Electricity Consumper per Month (GWh)\": 21142.967999999997}, {\"country\": \"UNITED KINGDOM\", \"Time\": \"2016-10-01T00:00:00\", \"Electricity Consumper per Month (GWh)\": 27074.216}, {\"country\": \"UNITED STATES\", \"Time\": \"2016-10-01T00:00:00\", \"Electricity Consumper per Month (GWh)\": 320503.91599999997}, {\"country\": \"AUSTRALIA\", \"Time\": \"2016-11-01T00:00:00\", \"Electricity Consumper per Month (GWh)\": 19427.323}, {\"country\": \"AUSTRIA\", \"Time\": \"2016-11-01T00:00:00\", \"Electricity Consumper per Month (GWh)\": 6490.552}, {\"country\": \"BELGIUM\", \"Time\": \"2016-11-01T00:00:00\", \"Electricity Consumper per Month (GWh)\": 7727.616999999999}, {\"country\": \"CANADA\", \"Time\": \"2016-11-01T00:00:00\", \"Electricity Consumper per Month (GWh)\": 47982.318}, {\"country\": \"SWEDEN\", \"Time\": \"2016-11-01T00:00:00\", \"Electricity Consumper per Month (GWh)\": 13254.737}, {\"country\": \"SWITZERLAND\", \"Time\": \"2016-11-01T00:00:00\", \"Electricity Consumper per Month (GWh)\": 5843.525}, {\"country\": \"TURKEY\", \"Time\": \"2016-11-01T00:00:00\", \"Electricity Consumper per Month (GWh)\": 21882.468000000004}, {\"country\": \"UNITED KINGDOM\", \"Time\": \"2016-11-01T00:00:00\", \"Electricity Consumper per Month (GWh)\": 29841.14}, {\"country\": \"UNITED STATES\", \"Time\": \"2016-11-01T00:00:00\", \"Electricity Consumper per Month (GWh)\": 305616.3339999999}, {\"country\": \"AUSTRALIA\", \"Time\": \"2016-12-01T00:00:00\", \"Electricity Consumper per Month (GWh)\": 20000.667999999998}, {\"country\": \"AUSTRIA\", \"Time\": \"2016-12-01T00:00:00\", \"Electricity Consumper per Month (GWh)\": 6784.91}, {\"country\": \"BELGIUM\", \"Time\": \"2016-12-01T00:00:00\", \"Electricity Consumper per Month (GWh)\": 8082.735000000001}, {\"country\": \"CANADA\", \"Time\": \"2016-12-01T00:00:00\", \"Electricity Consumper per Month (GWh)\": 57690.02999999999}, {\"country\": \"SWEDEN\", \"Time\": \"2016-12-01T00:00:00\", \"Electricity Consumper per Month (GWh)\": 13858.064000000002}, {\"country\": \"SWITZERLAND\", \"Time\": \"2016-12-01T00:00:00\", \"Electricity Consumper per Month (GWh)\": 6184.802}, {\"country\": \"TURKEY\", \"Time\": \"2016-12-01T00:00:00\", \"Electricity Consumper per Month (GWh)\": 24780.541000000005}, {\"country\": \"UNITED KINGDOM\", \"Time\": \"2016-12-01T00:00:00\", \"Electricity Consumper per Month (GWh)\": 31447.597}, {\"country\": \"UNITED STATES\", \"Time\": \"2016-12-01T00:00:00\", \"Electricity Consumper per Month (GWh)\": 354678.3490000001}, {\"country\": \"AUSTRALIA\", \"Time\": \"2017-01-01T00:00:00\", \"Electricity Consumper per Month (GWh)\": 23606.058}, {\"country\": \"AUSTRIA\", \"Time\": \"2017-01-01T00:00:00\", \"Electricity Consumper per Month (GWh)\": 7488.967}, {\"country\": \"BELGIUM\", \"Time\": \"2017-01-01T00:00:00\", \"Electricity Consumper per Month (GWh)\": 8615.347}, {\"country\": \"CANADA\", \"Time\": \"2017-01-01T00:00:00\", \"Electricity Consumper per Month (GWh)\": 56100.541000000005}, {\"country\": \"SWEDEN\", \"Time\": \"2017-01-01T00:00:00\", \"Electricity Consumper per Month (GWh)\": 14553.355}, {\"country\": \"SWITZERLAND\", \"Time\": \"2017-01-01T00:00:00\", \"Electricity Consumper per Month (GWh)\": 6708.739}, {\"country\": \"TURKEY\", \"Time\": \"2017-01-01T00:00:00\", \"Electricity Consumper per Month (GWh)\": 24104.357000000004}, {\"country\": \"UNITED KINGDOM\", \"Time\": \"2017-01-01T00:00:00\", \"Electricity Consumper per Month (GWh)\": 33217.934}, {\"country\": \"UNITED STATES\", \"Time\": \"2017-01-01T00:00:00\", \"Electricity Consumper per Month (GWh)\": 350035.74400000006}, {\"country\": \"AUSTRALIA\", \"Time\": \"2017-02-01T00:00:00\", \"Electricity Consumper per Month (GWh)\": 22280.335}, {\"country\": \"AUSTRIA\", \"Time\": \"2017-02-01T00:00:00\", \"Electricity Consumper per Month (GWh)\": 6515.709000000001}, {\"country\": \"BELGIUM\", \"Time\": \"2017-02-01T00:00:00\", \"Electricity Consumper per Month (GWh)\": 7456.388000000001}, {\"country\": \"CANADA\", \"Time\": \"2017-02-01T00:00:00\", \"Electricity Consumper per Month (GWh)\": 53812.44500000001}, {\"country\": \"SWEDEN\", \"Time\": \"2017-02-01T00:00:00\", \"Electricity Consumper per Month (GWh)\": 13106.215000000002}, {\"country\": \"SWITZERLAND\", \"Time\": \"2017-02-01T00:00:00\", \"Electricity Consumper per Month (GWh)\": 5688.48}, {\"country\": \"TURKEY\", \"Time\": \"2017-02-01T00:00:00\", \"Electricity Consumper per Month (GWh)\": 21679.106999999996}, {\"country\": \"UNITED KINGDOM\", \"Time\": \"2017-02-01T00:00:00\", \"Electricity Consumper per Month (GWh)\": 28969.954999999998}, {\"country\": \"UNITED STATES\", \"Time\": \"2017-02-01T00:00:00\", \"Electricity Consumper per Month (GWh)\": 296919.859}, {\"country\": \"AUSTRALIA\", \"Time\": \"2017-03-01T00:00:00\", \"Electricity Consumper per Month (GWh)\": 21100.784000000003}, {\"country\": \"AUSTRIA\", \"Time\": \"2017-03-01T00:00:00\", \"Electricity Consumper per Month (GWh)\": 6498.497}, {\"country\": \"BELGIUM\", \"Time\": \"2017-03-01T00:00:00\", \"Electricity Consumper per Month (GWh)\": 7728.51}, {\"country\": \"CANADA\", \"Time\": \"2017-03-01T00:00:00\", \"Electricity Consumper per Month (GWh)\": 55258.806}, {\"country\": \"SWEDEN\", \"Time\": \"2017-03-01T00:00:00\", \"Electricity Consumper per Month (GWh)\": 13174.949}, {\"country\": \"SWITZERLAND\", \"Time\": \"2017-03-01T00:00:00\", \"Electricity Consumper per Month (GWh)\": 5834.923999999999}, {\"country\": \"TURKEY\", \"Time\": \"2017-03-01T00:00:00\", \"Electricity Consumper per Month (GWh)\": 22953.639000000003}, {\"country\": \"UNITED KINGDOM\", \"Time\": \"2017-03-01T00:00:00\", \"Electricity Consumper per Month (GWh)\": 29126.559000000005}, {\"country\": \"UNITED STATES\", \"Time\": \"2017-03-01T00:00:00\", \"Electricity Consumper per Month (GWh)\": 328540.107}, {\"country\": \"AUSTRALIA\", \"Time\": \"2017-04-01T00:00:00\", \"Electricity Consumper per Month (GWh)\": 18467.165}, {\"country\": \"AUSTRIA\", \"Time\": \"2017-04-01T00:00:00\", \"Electricity Consumper per Month (GWh)\": 5823.131}, {\"country\": \"BELGIUM\", \"Time\": \"2017-04-01T00:00:00\", \"Electricity Consumper per Month (GWh)\": 7099.678000000001}, {\"country\": \"CANADA\", \"Time\": \"2017-04-01T00:00:00\", \"Electricity Consumper per Month (GWh)\": 47253.321}, {\"country\": \"SWEDEN\", \"Time\": \"2017-04-01T00:00:00\", \"Electricity Consumper per Month (GWh)\": 11377.069000000001}, {\"country\": \"SWITZERLAND\", \"Time\": \"2017-04-01T00:00:00\", \"Electricity Consumper per Month (GWh)\": 5089.340999999999}, {\"country\": \"TURKEY\", \"Time\": \"2017-04-01T00:00:00\", \"Electricity Consumper per Month (GWh)\": 21396.577}, {\"country\": \"UNITED KINGDOM\", \"Time\": \"2017-04-01T00:00:00\", \"Electricity Consumper per Month (GWh)\": 26280.776}, {\"country\": \"UNITED STATES\", \"Time\": \"2017-04-01T00:00:00\", \"Electricity Consumper per Month (GWh)\": 301991.482}, {\"country\": \"AUSTRALIA\", \"Time\": \"2017-05-01T00:00:00\", \"Electricity Consumper per Month (GWh)\": 20103.405}, {\"country\": \"AUSTRIA\", \"Time\": \"2017-05-01T00:00:00\", \"Electricity Consumper per Month (GWh)\": 5685.416}, {\"country\": \"BELGIUM\", \"Time\": \"2017-05-01T00:00:00\", \"Electricity Consumper per Month (GWh)\": 7056.973999999999}, {\"country\": \"CANADA\", \"Time\": \"2017-05-01T00:00:00\", \"Electricity Consumper per Month (GWh)\": 46615.375}, {\"country\": \"SWEDEN\", \"Time\": \"2017-05-01T00:00:00\", \"Electricity Consumper per Month (GWh)\": 10243.087}, {\"country\": \"SWITZERLAND\", \"Time\": \"2017-05-01T00:00:00\", \"Electricity Consumper per Month (GWh)\": 5258.545}, {\"country\": \"TURKEY\", \"Time\": \"2017-05-01T00:00:00\", \"Electricity Consumper per Month (GWh)\": 22287.364}, {\"country\": \"UNITED KINGDOM\", \"Time\": \"2017-05-01T00:00:00\", \"Electricity Consumper per Month (GWh)\": 26304.518000000004}, {\"country\": \"UNITED STATES\", \"Time\": \"2017-05-01T00:00:00\", \"Electricity Consumper per Month (GWh)\": 330040.29500000004}, {\"country\": \"AUSTRALIA\", \"Time\": \"2017-06-01T00:00:00\", \"Electricity Consumper per Month (GWh)\": 20766.397999999997}, {\"country\": \"AUSTRIA\", \"Time\": \"2017-06-01T00:00:00\", \"Electricity Consumper per Month (GWh)\": 5616.431}, {\"country\": \"BELGIUM\", \"Time\": \"2017-06-01T00:00:00\", \"Electricity Consumper per Month (GWh)\": 6931.689}, {\"country\": \"CANADA\", \"Time\": \"2017-06-01T00:00:00\", \"Electricity Consumper per Month (GWh)\": 44004.342}, {\"country\": \"SWEDEN\", \"Time\": \"2017-06-01T00:00:00\", \"Electricity Consumper per Month (GWh)\": 9034.351999999997}, {\"country\": \"SWITZERLAND\", \"Time\": \"2017-06-01T00:00:00\", \"Electricity Consumper per Month (GWh)\": 5123.081999999999}, {\"country\": \"TURKEY\", \"Time\": \"2017-06-01T00:00:00\", \"Electricity Consumper per Month (GWh)\": 22098.649}, {\"country\": \"UNITED KINGDOM\", \"Time\": \"2017-06-01T00:00:00\", \"Electricity Consumper per Month (GWh)\": 24823.66}, {\"country\": \"UNITED STATES\", \"Time\": \"2017-06-01T00:00:00\", \"Electricity Consumper per Month (GWh)\": 367431.467}, {\"country\": \"AUSTRALIA\", \"Time\": \"2017-07-01T00:00:00\", \"Electricity Consumper per Month (GWh)\": 21401.851000000002}, {\"country\": \"AUSTRIA\", \"Time\": \"2017-07-01T00:00:00\", \"Electricity Consumper per Month (GWh)\": 5690.302}, {\"country\": \"BELGIUM\", \"Time\": \"2017-07-01T00:00:00\", \"Electricity Consumper per Month (GWh)\": 6745.841000000001}, {\"country\": \"CANADA\", \"Time\": \"2017-07-01T00:00:00\", \"Electricity Consumper per Month (GWh)\": 46473.793}, {\"country\": \"SWEDEN\", \"Time\": \"2017-07-01T00:00:00\", \"Electricity Consumper per Month (GWh)\": 8768.327999999998}, {\"country\": \"SWITZERLAND\", \"Time\": \"2017-07-01T00:00:00\", \"Electricity Consumper per Month (GWh)\": 5088.1759999999995}, {\"country\": \"TURKEY\", \"Time\": \"2017-07-01T00:00:00\", \"Electricity Consumper per Month (GWh)\": 27329.173}, {\"country\": \"UNITED KINGDOM\", \"Time\": \"2017-07-01T00:00:00\", \"Electricity Consumper per Month (GWh)\": 25587.789000000004}, {\"country\": \"UNITED STATES\", \"Time\": \"2017-07-01T00:00:00\", \"Electricity Consumper per Month (GWh)\": 412422.14700000006}, {\"country\": \"AUSTRALIA\", \"Time\": \"2017-08-01T00:00:00\", \"Electricity Consumper per Month (GWh)\": 21002.001}, {\"country\": \"AUSTRIA\", \"Time\": \"2017-08-01T00:00:00\", \"Electricity Consumper per Month (GWh)\": 5656.759999999999}, {\"country\": \"BELGIUM\", \"Time\": \"2017-08-01T00:00:00\", \"Electricity Consumper per Month (GWh)\": 6863.625999999999}, {\"country\": \"CANADA\", \"Time\": \"2017-08-01T00:00:00\", \"Electricity Consumper per Month (GWh)\": 45212.812999999995}, {\"country\": \"SWEDEN\", \"Time\": \"2017-08-01T00:00:00\", \"Electricity Consumper per Month (GWh)\": 9345.150000000001}, {\"country\": \"SWITZERLAND\", \"Time\": \"2017-08-01T00:00:00\", \"Electricity Consumper per Month (GWh)\": 5168.933}, {\"country\": \"TURKEY\", \"Time\": \"2017-08-01T00:00:00\", \"Electricity Consumper per Month (GWh)\": 26946.873}, {\"country\": \"UNITED KINGDOM\", \"Time\": \"2017-08-01T00:00:00\", \"Electricity Consumper per Month (GWh)\": 25422.292}, {\"country\": \"UNITED STATES\", \"Time\": \"2017-08-01T00:00:00\", \"Electricity Consumper per Month (GWh)\": 391495.989}, {\"country\": \"AUSTRALIA\", \"Time\": \"2017-09-01T00:00:00\", \"Electricity Consumper per Month (GWh)\": 19308.650999999998}, {\"country\": \"AUSTRIA\", \"Time\": \"2017-09-01T00:00:00\", \"Electricity Consumper per Month (GWh)\": 5717.412}, {\"country\": \"BELGIUM\", \"Time\": \"2017-09-01T00:00:00\", \"Electricity Consumper per Month (GWh)\": 6951.606}, {\"country\": \"CANADA\", \"Time\": \"2017-09-01T00:00:00\", \"Electricity Consumper per Month (GWh)\": 43804.33}, {\"country\": \"SWEDEN\", \"Time\": \"2017-09-01T00:00:00\", \"Electricity Consumper per Month (GWh)\": 9865.098}, {\"country\": \"SWITZERLAND\", \"Time\": \"2017-09-01T00:00:00\", \"Electricity Consumper per Month (GWh)\": 5154.934}, {\"country\": \"TURKEY\", \"Time\": \"2017-09-01T00:00:00\", \"Electricity Consumper per Month (GWh)\": 23244.280999999995}, {\"country\": \"UNITED KINGDOM\", \"Time\": \"2017-09-01T00:00:00\", \"Electricity Consumper per Month (GWh)\": 25926.112999999998}, {\"country\": \"UNITED STATES\", \"Time\": \"2017-09-01T00:00:00\", \"Electricity Consumper per Month (GWh)\": 341640.687}, {\"country\": \"AUSTRALIA\", \"Time\": \"2017-10-01T00:00:00\", \"Electricity Consumper per Month (GWh)\": 19592.589}, {\"country\": \"AUSTRIA\", \"Time\": \"2017-10-01T00:00:00\", \"Electricity Consumper per Month (GWh)\": 6109.321}, {\"country\": \"BELGIUM\", \"Time\": \"2017-10-01T00:00:00\", \"Electricity Consumper per Month (GWh)\": 7546.051000000001}, {\"country\": \"CANADA\", \"Time\": \"2017-10-01T00:00:00\", \"Electricity Consumper per Month (GWh)\": 45400.278999999995}, {\"country\": \"SWEDEN\", \"Time\": \"2017-10-01T00:00:00\", \"Electricity Consumper per Month (GWh)\": 11348.462000000001}, {\"country\": \"SWITZERLAND\", \"Time\": \"2017-10-01T00:00:00\", \"Electricity Consumper per Month (GWh)\": 5475.900000000001}, {\"country\": \"TURKEY\", \"Time\": \"2017-10-01T00:00:00\", \"Electricity Consumper per Month (GWh)\": 22635.142000000003}, {\"country\": \"UNITED KINGDOM\", \"Time\": \"2017-10-01T00:00:00\", \"Electricity Consumper per Month (GWh)\": 27707.945}, {\"country\": \"UNITED STATES\", \"Time\": \"2017-10-01T00:00:00\", \"Electricity Consumper per Month (GWh)\": 326574.69}, {\"country\": \"AUSTRALIA\", \"Time\": \"2017-11-01T00:00:00\", \"Electricity Consumper per Month (GWh)\": 20025.738}, {\"country\": \"AUSTRIA\", \"Time\": \"2017-11-01T00:00:00\", \"Electricity Consumper per Month (GWh)\": 6547.019}, {\"country\": \"BELGIUM\", \"Time\": \"2017-11-01T00:00:00\", \"Electricity Consumper per Month (GWh)\": 7781.4039999999995}, {\"country\": \"CANADA\", \"Time\": \"2017-11-01T00:00:00\", \"Electricity Consumper per Month (GWh)\": 50497.955}, {\"country\": \"SWEDEN\", \"Time\": \"2017-11-01T00:00:00\", \"Electricity Consumper per Month (GWh)\": 12883.911}, {\"country\": \"SWITZERLAND\", \"Time\": \"2017-11-01T00:00:00\", \"Electricity Consumper per Month (GWh)\": 6045.4490000000005}, {\"country\": \"TURKEY\", \"Time\": \"2017-11-01T00:00:00\", \"Electricity Consumper per Month (GWh)\": 23050.285999999996}, {\"country\": \"UNITED KINGDOM\", \"Time\": \"2017-11-01T00:00:00\", \"Electricity Consumper per Month (GWh)\": 29973.126999999997}, {\"country\": \"UNITED STATES\", \"Time\": \"2017-11-01T00:00:00\", \"Electricity Consumper per Month (GWh)\": 313813.532}, {\"country\": \"AUSTRALIA\", \"Time\": \"2017-12-01T00:00:00\", \"Electricity Consumper per Month (GWh)\": 20814.84}, {\"country\": \"AUSTRIA\", \"Time\": \"2017-12-01T00:00:00\", \"Electricity Consumper per Month (GWh)\": 6879.633}, {\"country\": \"BELGIUM\", \"Time\": \"2017-12-01T00:00:00\", \"Electricity Consumper per Month (GWh)\": 8203.569}, {\"country\": \"CANADA\", \"Time\": \"2017-12-01T00:00:00\", \"Electricity Consumper per Month (GWh)\": 58106.213}, {\"country\": \"SWEDEN\", \"Time\": \"2017-12-01T00:00:00\", \"Electricity Consumper per Month (GWh)\": 14079.551000000001}, {\"country\": \"SWITZERLAND\", \"Time\": \"2017-12-01T00:00:00\", \"Electricity Consumper per Month (GWh)\": 6390.668}, {\"country\": \"TURKEY\", \"Time\": \"2017-12-01T00:00:00\", \"Electricity Consumper per Month (GWh)\": 24858.639000000003}, {\"country\": \"UNITED KINGDOM\", \"Time\": \"2017-12-01T00:00:00\", \"Electricity Consumper per Month (GWh)\": 31973.291}, {\"country\": \"UNITED STATES\", \"Time\": \"2017-12-01T00:00:00\", \"Electricity Consumper per Month (GWh)\": 353587.814}, {\"country\": \"AUSTRALIA\", \"Time\": \"2018-01-01T00:00:00\", \"Electricity Consumper per Month (GWh)\": 22575.533}, {\"country\": \"AUSTRIA\", \"Time\": \"2018-01-01T00:00:00\", \"Electricity Consumper per Month (GWh)\": 6938.641}, {\"country\": \"BELGIUM\", \"Time\": \"2018-01-01T00:00:00\", \"Electricity Consumper per Month (GWh)\": 8280.123999999998}, {\"country\": \"CANADA\", \"Time\": \"2018-01-01T00:00:00\", \"Electricity Consumper per Month (GWh)\": 61045.844000000005}, {\"country\": \"SWEDEN\", \"Time\": \"2018-01-01T00:00:00\", \"Electricity Consumper per Month (GWh)\": 14789.291999999998}, {\"country\": \"SWITZERLAND\", \"Time\": \"2018-01-01T00:00:00\", \"Electricity Consumper per Month (GWh)\": 6134.897000000001}, {\"country\": \"TURKEY\", \"Time\": \"2018-01-01T00:00:00\", \"Electricity Consumper per Month (GWh)\": 25183.032}, {\"country\": \"UNITED KINGDOM\", \"Time\": \"2018-01-01T00:00:00\", \"Electricity Consumper per Month (GWh)\": 32479.753999999994}, {\"country\": \"UNITED STATES\", \"Time\": \"2018-01-01T00:00:00\", \"Electricity Consumper per Month (GWh)\": 381754.49600000004}, {\"country\": \"AUSTRALIA\", \"Time\": \"2018-02-01T00:00:00\", \"Electricity Consumper per Month (GWh)\": 19862.764}, {\"country\": \"AUSTRIA\", \"Time\": \"2018-02-01T00:00:00\", \"Electricity Consumper per Month (GWh)\": 6525.638}, {\"country\": \"BELGIUM\", \"Time\": \"2018-02-01T00:00:00\", \"Electricity Consumper per Month (GWh)\": 7731.14}, {\"country\": \"CANADA\", \"Time\": \"2018-02-01T00:00:00\", \"Electricity Consumper per Month (GWh)\": 53191.708000000006}, {\"country\": \"SWEDEN\", \"Time\": \"2018-02-01T00:00:00\", \"Electricity Consumper per Month (GWh)\": 14269.164999999999}, {\"country\": \"SWITZERLAND\", \"Time\": \"2018-02-01T00:00:00\", \"Electricity Consumper per Month (GWh)\": 5875.683000000001}, {\"country\": \"TURKEY\", \"Time\": \"2018-02-01T00:00:00\", \"Electricity Consumper per Month (GWh)\": 22643.484999999997}, {\"country\": \"UNITED KINGDOM\", \"Time\": \"2018-02-01T00:00:00\", \"Electricity Consumper per Month (GWh)\": 29887.998999999996}, {\"country\": \"UNITED STATES\", \"Time\": \"2018-02-01T00:00:00\", \"Electricity Consumper per Month (GWh)\": 312740.37600000005}, {\"country\": \"AUSTRALIA\", \"Time\": \"2018-03-01T00:00:00\", \"Electricity Consumper per Month (GWh)\": 20623.168000000005}, {\"country\": \"AUSTRIA\", \"Time\": \"2018-03-01T00:00:00\", \"Electricity Consumper per Month (GWh)\": 6898.876}, {\"country\": \"BELGIUM\", \"Time\": \"2018-03-01T00:00:00\", \"Electricity Consumper per Month (GWh)\": 8237.257000000001}, {\"country\": \"CANADA\", \"Time\": \"2018-03-01T00:00:00\", \"Electricity Consumper per Month (GWh)\": 53883.45100000001}, {\"country\": \"SWEDEN\", \"Time\": \"2018-03-01T00:00:00\", \"Electricity Consumper per Month (GWh)\": 14859.112000000001}, {\"country\": \"SWITZERLAND\", \"Time\": \"2018-03-01T00:00:00\", \"Electricity Consumper per Month (GWh)\": 6171.954}, {\"country\": \"TURKEY\", \"Time\": \"2018-03-01T00:00:00\", \"Electricity Consumper per Month (GWh)\": 23433.318999999996}, {\"country\": \"UNITED KINGDOM\", \"Time\": \"2018-03-01T00:00:00\", \"Electricity Consumper per Month (GWh)\": 31889.845}, {\"country\": \"UNITED STATES\", \"Time\": \"2018-03-01T00:00:00\", \"Electricity Consumper per Month (GWh)\": 327040.777}, {\"country\": \"AUSTRALIA\", \"Time\": \"2018-04-01T00:00:00\", \"Electricity Consumper per Month (GWh)\": 19049.186}, {\"country\": \"AUSTRIA\", \"Time\": \"2018-04-01T00:00:00\", \"Electricity Consumper per Month (GWh)\": 5717.977}, {\"country\": \"BELGIUM\", \"Time\": \"2018-04-01T00:00:00\", \"Electricity Consumper per Month (GWh)\": 7117.822}, {\"country\": \"CANADA\", \"Time\": \"2018-04-01T00:00:00\", \"Electricity Consumper per Month (GWh)\": 48024.485}, {\"country\": \"SWEDEN\", \"Time\": \"2018-04-01T00:00:00\", \"Electricity Consumper per Month (GWh)\": 11207.536}, {\"country\": \"SWITZERLAND\", \"Time\": \"2018-04-01T00:00:00\", \"Electricity Consumper per Month (GWh)\": 5165.150000000001}, {\"country\": \"TURKEY\", \"Time\": \"2018-04-01T00:00:00\", \"Electricity Consumper per Month (GWh)\": 22850.807000000004}, {\"country\": \"UNITED KINGDOM\", \"Time\": \"2018-04-01T00:00:00\", \"Electricity Consumper per Month (GWh)\": 27772.32}, {\"country\": \"UNITED STATES\", \"Time\": \"2018-04-01T00:00:00\", \"Electricity Consumper per Month (GWh)\": 310340.391}, {\"country\": \"AUSTRALIA\", \"Time\": \"2018-05-01T00:00:00\", \"Electricity Consumper per Month (GWh)\": 20025.355}, {\"country\": \"AUSTRIA\", \"Time\": \"2018-05-01T00:00:00\", \"Electricity Consumper per Month (GWh)\": 5662.147000000001}, {\"country\": \"BELGIUM\", \"Time\": \"2018-05-01T00:00:00\", \"Electricity Consumper per Month (GWh)\": 7120.986999999999}, {\"country\": \"CANADA\", \"Time\": \"2018-05-01T00:00:00\", \"Electricity Consumper per Month (GWh)\": 44613.695}, {\"country\": \"SWEDEN\", \"Time\": \"2018-05-01T00:00:00\", \"Electricity Consumper per Month (GWh)\": 9775.073}, {\"country\": \"SWITZERLAND\", \"Time\": \"2018-05-01T00:00:00\", \"Electricity Consumper per Month (GWh)\": 5229.507}, {\"country\": \"TURKEY\", \"Time\": \"2018-05-01T00:00:00\", \"Electricity Consumper per Month (GWh)\": 23228.778}, {\"country\": \"UNITED KINGDOM\", \"Time\": \"2018-05-01T00:00:00\", \"Electricity Consumper per Month (GWh)\": 26035.573000000004}, {\"country\": \"UNITED STATES\", \"Time\": \"2018-05-01T00:00:00\", \"Electricity Consumper per Month (GWh)\": 348019.908}, {\"country\": \"AUSTRALIA\", \"Time\": \"2018-06-01T00:00:00\", \"Electricity Consumper per Month (GWh)\": 21106.515}, {\"country\": \"AUSTRIA\", \"Time\": \"2018-06-01T00:00:00\", \"Electricity Consumper per Month (GWh)\": 5578.271000000001}, {\"country\": \"BELGIUM\", \"Time\": \"2018-06-01T00:00:00\", \"Electricity Consumper per Month (GWh)\": 6906.737999999999}, {\"country\": \"CANADA\", \"Time\": \"2018-06-01T00:00:00\", \"Electricity Consumper per Month (GWh)\": 43447.221}, {\"country\": \"SWEDEN\", \"Time\": \"2018-06-01T00:00:00\", \"Electricity Consumper per Month (GWh)\": 8910.630000000001}, {\"country\": \"SWITZERLAND\", \"Time\": \"2018-06-01T00:00:00\", \"Electricity Consumper per Month (GWh)\": 5157.562}, {\"country\": \"TURKEY\", \"Time\": \"2018-06-01T00:00:00\", \"Electricity Consumper per Month (GWh)\": 23087.723}, {\"country\": \"UNITED KINGDOM\", \"Time\": \"2018-06-01T00:00:00\", \"Electricity Consumper per Month (GWh)\": 24629.997}, {\"country\": \"UNITED STATES\", \"Time\": \"2018-06-01T00:00:00\", \"Electricity Consumper per Month (GWh)\": 381246.583}, {\"country\": \"AUSTRALIA\", \"Time\": \"2018-07-01T00:00:00\", \"Electricity Consumper per Month (GWh)\": 21277.614999999998}, {\"country\": \"AUSTRIA\", \"Time\": \"2018-07-01T00:00:00\", \"Electricity Consumper per Month (GWh)\": 5605.814}, {\"country\": \"BELGIUM\", \"Time\": \"2018-07-01T00:00:00\", \"Electricity Consumper per Month (GWh)\": 7050.026000000001}, {\"country\": \"CANADA\", \"Time\": \"2018-07-01T00:00:00\", \"Electricity Consumper per Month (GWh)\": 47329.11200000001}, {\"country\": \"SWEDEN\", \"Time\": \"2018-07-01T00:00:00\", \"Electricity Consumper per Month (GWh)\": 8472.860999999999}, {\"country\": \"SWITZERLAND\", \"Time\": \"2018-07-01T00:00:00\", \"Electricity Consumper per Month (GWh)\": 4955.772999999999}, {\"country\": \"TURKEY\", \"Time\": \"2018-07-01T00:00:00\", \"Electricity Consumper per Month (GWh)\": 28204.241}, {\"country\": \"UNITED KINGDOM\", \"Time\": \"2018-07-01T00:00:00\", \"Electricity Consumper per Month (GWh)\": 25660.963000000003}, {\"country\": \"UNITED STATES\", \"Time\": \"2018-07-01T00:00:00\", \"Electricity Consumper per Month (GWh)\": 420322.322}, {\"country\": \"AUSTRALIA\", \"Time\": \"2018-08-01T00:00:00\", \"Electricity Consumper per Month (GWh)\": 21135.554999999997}, {\"country\": \"AUSTRIA\", \"Time\": \"2018-08-01T00:00:00\", \"Electricity Consumper per Month (GWh)\": 5776.973999999999}, {\"country\": \"BELGIUM\", \"Time\": \"2018-08-01T00:00:00\", \"Electricity Consumper per Month (GWh)\": 6937.8550000000005}, {\"country\": \"CANADA\", \"Time\": \"2018-08-01T00:00:00\", \"Electricity Consumper per Month (GWh)\": 47395.937000000005}, {\"country\": \"SWEDEN\", \"Time\": \"2018-08-01T00:00:00\", \"Electricity Consumper per Month (GWh)\": 9182.441}, {\"country\": \"SWITZERLAND\", \"Time\": \"2018-08-01T00:00:00\", \"Electricity Consumper per Month (GWh)\": 4957.575000000001}, {\"country\": \"TURKEY\", \"Time\": \"2018-08-01T00:00:00\", \"Electricity Consumper per Month (GWh)\": 26738.438000000002}, {\"country\": \"UNITED KINGDOM\", \"Time\": \"2018-08-01T00:00:00\", \"Electricity Consumper per Month (GWh)\": 25316.309000000005}, {\"country\": \"UNITED STATES\", \"Time\": \"2018-08-01T00:00:00\", \"Electricity Consumper per Month (GWh)\": 420380.711}, {\"country\": \"AUSTRALIA\", \"Time\": \"2018-09-01T00:00:00\", \"Electricity Consumper per Month (GWh)\": 19129.448}, {\"country\": \"AUSTRIA\", \"Time\": \"2018-09-01T00:00:00\", \"Electricity Consumper per Month (GWh)\": 5755.544}, {\"country\": \"BELGIUM\", \"Time\": \"2018-09-01T00:00:00\", \"Electricity Consumper per Month (GWh)\": 6788.496999999999}, {\"country\": \"CANADA\", \"Time\": \"2018-09-01T00:00:00\", \"Electricity Consumper per Month (GWh)\": 44140.237}, {\"country\": \"SWEDEN\", \"Time\": \"2018-09-01T00:00:00\", \"Electricity Consumper per Month (GWh)\": 9560.354}, {\"country\": \"SWITZERLAND\", \"Time\": \"2018-09-01T00:00:00\", \"Electricity Consumper per Month (GWh)\": 5037.349999999999}, {\"country\": \"TURKEY\", \"Time\": \"2018-09-01T00:00:00\", \"Electricity Consumper per Month (GWh)\": 24272.404}, {\"country\": \"UNITED KINGDOM\", \"Time\": \"2018-09-01T00:00:00\", \"Electricity Consumper per Month (GWh)\": 25188.824000000004}, {\"country\": \"UNITED STATES\", \"Time\": \"2018-09-01T00:00:00\", \"Electricity Consumper per Month (GWh)\": 364865.47099999996}, {\"country\": \"AUSTRALIA\", \"Time\": \"2018-10-01T00:00:00\", \"Electricity Consumper per Month (GWh)\": 19157.929}, {\"country\": \"AUSTRIA\", \"Time\": \"2018-10-01T00:00:00\", \"Electricity Consumper per Month (GWh)\": 6226.108}, {\"country\": \"BELGIUM\", \"Time\": \"2018-10-01T00:00:00\", \"Electricity Consumper per Month (GWh)\": 7436.242}, {\"country\": \"CANADA\", \"Time\": \"2018-10-01T00:00:00\", \"Electricity Consumper per Month (GWh)\": 48168.848}, {\"country\": \"SWEDEN\", \"Time\": \"2018-10-01T00:00:00\", \"Electricity Consumper per Month (GWh)\": 11173.143}, {\"country\": \"SWITZERLAND\", \"Time\": \"2018-10-01T00:00:00\", \"Electricity Consumper per Month (GWh)\": 5037.349999999999}, {\"country\": \"TURKEY\", \"Time\": \"2018-10-01T00:00:00\", \"Electricity Consumper per Month (GWh)\": 22638.7}, {\"country\": \"UNITED KINGDOM\", \"Time\": \"2018-10-01T00:00:00\", \"Electricity Consumper per Month (GWh)\": 27660.944000000003}, {\"country\": \"UNITED STATES\", \"Time\": \"2018-10-01T00:00:00\", \"Electricity Consumper per Month (GWh)\": 331479.50200000004}, {\"country\": \"AUSTRALIA\", \"Time\": \"2018-11-01T00:00:00\", \"Electricity Consumper per Month (GWh)\": 19105.374000000003}, {\"country\": \"AUSTRIA\", \"Time\": \"2018-11-01T00:00:00\", \"Electricity Consumper per Month (GWh)\": 6397.011}, {\"country\": \"BELGIUM\", \"Time\": \"2018-11-01T00:00:00\", \"Electricity Consumper per Month (GWh)\": 7655.144999999999}, {\"country\": \"CANADA\", \"Time\": \"2018-11-01T00:00:00\", \"Electricity Consumper per Month (GWh)\": 52941.991}, {\"country\": \"SWEDEN\", \"Time\": \"2018-11-01T00:00:00\", \"Electricity Consumper per Month (GWh)\": 12460.198}, {\"country\": \"SWITZERLAND\", \"Time\": \"2018-11-01T00:00:00\", \"Electricity Consumper per Month (GWh)\": 5812.0549999999985}, {\"country\": \"TURKEY\", \"Time\": \"2018-11-01T00:00:00\", \"Electricity Consumper per Month (GWh)\": 23012.606}, {\"country\": \"UNITED KINGDOM\", \"Time\": \"2018-11-01T00:00:00\", \"Electricity Consumper per Month (GWh)\": 29375.255999999998}, {\"country\": \"UNITED STATES\", \"Time\": \"2018-11-01T00:00:00\", \"Electricity Consumper per Month (GWh)\": 327820.77999999997}, {\"country\": \"AUSTRALIA\", \"Time\": \"2018-12-01T00:00:00\", \"Electricity Consumper per Month (GWh)\": 20449.693}, {\"country\": \"AUSTRIA\", \"Time\": \"2018-12-01T00:00:00\", \"Electricity Consumper per Month (GWh)\": 6846.912}, {\"country\": \"BELGIUM\", \"Time\": \"2018-12-01T00:00:00\", \"Electricity Consumper per Month (GWh)\": 7906.133}, {\"country\": \"CANADA\", \"Time\": \"2018-12-01T00:00:00\", \"Electricity Consumper per Month (GWh)\": 57520.88799999999}, {\"country\": \"SWEDEN\", \"Time\": \"2018-12-01T00:00:00\", \"Electricity Consumper per Month (GWh)\": 14052.091999999997}, {\"country\": \"SWITZERLAND\", \"Time\": \"2018-12-01T00:00:00\", \"Electricity Consumper per Month (GWh)\": 6143.523000000001}, {\"country\": \"TURKEY\", \"Time\": \"2018-12-01T00:00:00\", \"Electricity Consumper per Month (GWh)\": 24656.184999999998}, {\"country\": \"UNITED KINGDOM\", \"Time\": \"2018-12-01T00:00:00\", \"Electricity Consumper per Month (GWh)\": 29943.583000000002}, {\"country\": \"UNITED STATES\", \"Time\": \"2018-12-01T00:00:00\", \"Electricity Consumper per Month (GWh)\": 343587.24700000003}]}};\n",
              "      var embedOpt = {\"mode\": \"vega-lite\"};\n",
              "\n",
              "      function showError(el, error){\n",
              "          el.innerHTML = ('<div class=\"error\" style=\"color:red;\">'\n",
              "                          + '<p>JavaScript Error: ' + error.message + '</p>'\n",
              "                          + \"<p>This usually means there's a typo in your chart specification. \"\n",
              "                          + \"See the javascript console for the full traceback.</p>\"\n",
              "                          + '</div>');\n",
              "          throw error;\n",
              "      }\n",
              "      const el = document.getElementById('altair-viz');\n",
              "      vegaEmbed(\"#altair-viz\", spec, embedOpt)\n",
              "        .catch(error => showError(el, error));\n",
              "\n",
              "  </script>\n",
              "</body>\n",
              "</html>"
            ]
          },
          "metadata": {
            "tags": []
          },
          "execution_count": 194
        }
      ]
    },
    {
      "metadata": {
        "id": "2r9C0vYTBGaj",
        "colab_type": "code",
        "colab": {}
      },
      "cell_type": "code",
      "source": [
        ""
      ],
      "execution_count": 0,
      "outputs": []
    }
  ]
}