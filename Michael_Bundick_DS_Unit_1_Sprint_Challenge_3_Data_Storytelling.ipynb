{
  "nbformat": 4,
  "nbformat_minor": 0,
  "metadata": {
    "colab": {
      "name": "Michael Bundick - DS_Unit_1_Sprint_Challenge_3_Data_Storytelling.ipynb",
      "version": "0.3.2",
      "provenance": [],
      "collapsed_sections": [],
      "include_colab_link": true
    },
    "kernelspec": {
      "display_name": "Python 3",
      "language": "python",
      "name": "python3"
    }
  },
  "cells": [
    {
      "cell_type": "markdown",
      "metadata": {
        "id": "view-in-github",
        "colab_type": "text"
      },
      "source": [
        "<a href=\"https://colab.research.google.com/github/bundickm/DS-Unit-1-Sprint-3-Data-Storytelling/blob/master/Michael_Bundick_DS_Unit_1_Sprint_Challenge_3_Data_Storytelling.ipynb\" target=\"_parent\"><img src=\"https://colab.research.google.com/assets/colab-badge.svg\" alt=\"Open In Colab\"/></a>"
      ]
    },
    {
      "metadata": {
        "colab_type": "text",
        "id": "i-n_5en3ER1o"
      },
      "cell_type": "markdown",
      "source": [
        "# Data Science Unit 1 Sprint Challenge 3\n",
        "\n",
        "# Data Storytelling\n",
        "\n",
        "In this sprint challenge you'll work with a dataset from **FiveThirtyEight's article, [Every Guest Jon Stewart Ever Had On ‘The Daily Show’](https://fivethirtyeight.com/features/every-guest-jon-stewart-ever-had-on-the-daily-show/)**!"
      ]
    },
    {
      "metadata": {
        "colab_type": "text",
        "id": "Thm2n5FF2Fnp"
      },
      "cell_type": "markdown",
      "source": [
        "# Part 0 — Run this starter code\n",
        "\n",
        "You don't need to add or change anything here. Just run this cell and it loads the data for you, into a dataframe named `df`.\n",
        "\n",
        "(You can explore the data if you want, but it's not required to pass the Sprint Challenge.)"
      ]
    },
    {
      "metadata": {
        "colab_type": "code",
        "id": "0rTHgzJIuRS7",
        "colab": {}
      },
      "cell_type": "code",
      "source": [
        "%matplotlib inline\n",
        "import matplotlib.pyplot as plt\n",
        "import numpy as np\n",
        "import pandas as pd\n",
        "\n",
        "url = 'https://raw.githubusercontent.com/fivethirtyeight/data/master/daily-show-guests/daily_show_guests.csv'\n",
        "df = pd.read_csv(url).rename(columns={'YEAR': 'Year', 'Raw_Guest_List': 'Guest'})\n",
        "\n",
        "def get_occupation(group):\n",
        "    if group in ['Acting', 'Comedy', 'Musician']:\n",
        "        return 'Acting, Comedy & Music'\n",
        "    elif group in ['Media', 'media']:\n",
        "        return 'Media'\n",
        "    elif group in ['Government', 'Politician', 'Political Aide']:\n",
        "        return 'Government and Politics'\n",
        "    else:\n",
        "        return 'Other'\n",
        "      \n",
        "df['Occupation'] = df['Group'].apply(get_occupation)"
      ],
      "execution_count": 0,
      "outputs": []
    },
    {
      "metadata": {
        "colab_type": "text",
        "id": "OS0nW1vz1itX"
      },
      "cell_type": "markdown",
      "source": [
        "# Part 1 — What's the breakdown of guests’ occupations per year?\n",
        "\n",
        "For example, in 1999, what percentage of guests were actors, comedians, or musicians? What percentage were in the media? What percentage were in politics? What percentage were from another occupation?\n",
        "\n",
        "Then, what about in 2000? In 2001? And so on, up through 2015.\n",
        "\n",
        "So, **for each year of _The Daily Show_, calculate the percentage of guests from each occupation:**\n",
        "- Acting, Comedy & Music\n",
        "- Government and Politics\n",
        "- Media\n",
        "- Other\n",
        "\n",
        "#### Hints:\n",
        "You can make a crosstab. (See pandas documentation for examples, explanation, and parameters.)\n",
        "\n",
        "You'll know you've calculated correctly when the percentage of \"Acting, Comedy & Music\" guests is 90.36% in 1999, and 45% in 2015.\n",
        "\n",
        "**Optional Bonus Challenge:** Do additional insightful data exploration."
      ]
    },
    {
      "metadata": {
        "colab_type": "code",
        "id": "sRMc0H_5z6ff",
        "outputId": "7e195818-b1fb-45af-9ca4-ad1597084363",
        "colab": {
          "base_uri": "https://localhost:8080/",
          "height": 206
        }
      },
      "cell_type": "code",
      "source": [
        "#first inspection\n",
        "df.head()"
      ],
      "execution_count": 2,
      "outputs": [
        {
          "output_type": "execute_result",
          "data": {
            "text/html": [
              "<div>\n",
              "<style scoped>\n",
              "    .dataframe tbody tr th:only-of-type {\n",
              "        vertical-align: middle;\n",
              "    }\n",
              "\n",
              "    .dataframe tbody tr th {\n",
              "        vertical-align: top;\n",
              "    }\n",
              "\n",
              "    .dataframe thead th {\n",
              "        text-align: right;\n",
              "    }\n",
              "</style>\n",
              "<table border=\"1\" class=\"dataframe\">\n",
              "  <thead>\n",
              "    <tr style=\"text-align: right;\">\n",
              "      <th></th>\n",
              "      <th>Year</th>\n",
              "      <th>GoogleKnowlege_Occupation</th>\n",
              "      <th>Show</th>\n",
              "      <th>Group</th>\n",
              "      <th>Guest</th>\n",
              "      <th>Occupation</th>\n",
              "    </tr>\n",
              "  </thead>\n",
              "  <tbody>\n",
              "    <tr>\n",
              "      <th>0</th>\n",
              "      <td>1999</td>\n",
              "      <td>actor</td>\n",
              "      <td>1/11/99</td>\n",
              "      <td>Acting</td>\n",
              "      <td>Michael J. Fox</td>\n",
              "      <td>Acting, Comedy &amp; Music</td>\n",
              "    </tr>\n",
              "    <tr>\n",
              "      <th>1</th>\n",
              "      <td>1999</td>\n",
              "      <td>Comedian</td>\n",
              "      <td>1/12/99</td>\n",
              "      <td>Comedy</td>\n",
              "      <td>Sandra Bernhard</td>\n",
              "      <td>Acting, Comedy &amp; Music</td>\n",
              "    </tr>\n",
              "    <tr>\n",
              "      <th>2</th>\n",
              "      <td>1999</td>\n",
              "      <td>television actress</td>\n",
              "      <td>1/13/99</td>\n",
              "      <td>Acting</td>\n",
              "      <td>Tracey Ullman</td>\n",
              "      <td>Acting, Comedy &amp; Music</td>\n",
              "    </tr>\n",
              "    <tr>\n",
              "      <th>3</th>\n",
              "      <td>1999</td>\n",
              "      <td>film actress</td>\n",
              "      <td>1/14/99</td>\n",
              "      <td>Acting</td>\n",
              "      <td>Gillian Anderson</td>\n",
              "      <td>Acting, Comedy &amp; Music</td>\n",
              "    </tr>\n",
              "    <tr>\n",
              "      <th>4</th>\n",
              "      <td>1999</td>\n",
              "      <td>actor</td>\n",
              "      <td>1/18/99</td>\n",
              "      <td>Acting</td>\n",
              "      <td>David Alan Grier</td>\n",
              "      <td>Acting, Comedy &amp; Music</td>\n",
              "    </tr>\n",
              "  </tbody>\n",
              "</table>\n",
              "</div>"
            ],
            "text/plain": [
              "   Year GoogleKnowlege_Occupation     Show   Group             Guest  \\\n",
              "0  1999                     actor  1/11/99  Acting    Michael J. Fox   \n",
              "1  1999                  Comedian  1/12/99  Comedy   Sandra Bernhard   \n",
              "2  1999        television actress  1/13/99  Acting     Tracey Ullman   \n",
              "3  1999              film actress  1/14/99  Acting  Gillian Anderson   \n",
              "4  1999                     actor  1/18/99  Acting  David Alan Grier   \n",
              "\n",
              "               Occupation  \n",
              "0  Acting, Comedy & Music  \n",
              "1  Acting, Comedy & Music  \n",
              "2  Acting, Comedy & Music  \n",
              "3  Acting, Comedy & Music  \n",
              "4  Acting, Comedy & Music  "
            ]
          },
          "metadata": {
            "tags": []
          },
          "execution_count": 2
        }
      ]
    },
    {
      "metadata": {
        "id": "w9sp6KEbB_8g",
        "colab_type": "code",
        "outputId": "55bea56f-dd56-410b-d65e-e04e4d3f49e6",
        "colab": {
          "base_uri": "https://localhost:8080/",
          "height": 217
        }
      },
      "cell_type": "code",
      "source": [
        "#Convert 'show' to datetime. Not sure why there is year and show airdate\n",
        "df['Show'] = pd.to_datetime(df['Show'])\n",
        "df.info()"
      ],
      "execution_count": 209,
      "outputs": [
        {
          "output_type": "stream",
          "text": [
            "<class 'pandas.core.frame.DataFrame'>\n",
            "RangeIndex: 2693 entries, 0 to 2692\n",
            "Data columns (total 6 columns):\n",
            "Year                         2693 non-null int64\n",
            "GoogleKnowlege_Occupation    2667 non-null object\n",
            "Show                         2693 non-null datetime64[ns]\n",
            "Group                        2662 non-null object\n",
            "Guest                        2693 non-null object\n",
            "Occupation                   2693 non-null object\n",
            "dtypes: datetime64[ns](1), int64(1), object(4)\n",
            "memory usage: 126.3+ KB\n"
          ],
          "name": "stdout"
        }
      ]
    },
    {
      "metadata": {
        "id": "3zTyHCwsfxGs",
        "colab_type": "code",
        "colab": {
          "base_uri": "https://localhost:8080/",
          "height": 345
        },
        "outputId": "7f6f4ba3-e215-4d71-c48e-39dbdd4a3fdb"
      },
      "cell_type": "code",
      "source": [
        "#Show count was fairly steady each year except Jon's final season\n",
        "#This is a really bland graph since the values are all so close\n",
        "df['Year'].value_counts().sort_index()"
      ],
      "execution_count": 252,
      "outputs": [
        {
          "output_type": "execute_result",
          "data": {
            "text/plain": [
              "1999    166\n",
              "2000    169\n",
              "2001    157\n",
              "2002    159\n",
              "2003    166\n",
              "2004    164\n",
              "2005    162\n",
              "2006    161\n",
              "2007    141\n",
              "2008    164\n",
              "2009    163\n",
              "2010    165\n",
              "2011    163\n",
              "2012    164\n",
              "2013    166\n",
              "2014    163\n",
              "2015    100\n",
              "Name: Year, dtype: int64"
            ]
          },
          "metadata": {
            "tags": []
          },
          "execution_count": 252
        }
      ]
    },
    {
      "metadata": {
        "id": "ZqMDIHfcdM-1",
        "colab_type": "code",
        "colab": {
          "base_uri": "https://localhost:8080/",
          "height": 144
        },
        "outputId": "6be9b134-86ce-4c8e-94aa-d10417f46a18"
      },
      "cell_type": "code",
      "source": [
        "#Nulls\n",
        "df.isnull().sum()"
      ],
      "execution_count": 227,
      "outputs": [
        {
          "output_type": "execute_result",
          "data": {
            "text/plain": [
              "Year                          0\n",
              "GoogleKnowlege_Occupation    26\n",
              "Show                          0\n",
              "Group                        31\n",
              "Guest                         0\n",
              "Occupation                    0\n",
              "dtype: int64"
            ]
          },
          "metadata": {
            "tags": []
          },
          "execution_count": 227
        }
      ]
    },
    {
      "metadata": {
        "id": "j1cjWBJcd9hJ",
        "colab_type": "code",
        "colab": {
          "base_uri": "https://localhost:8080/",
          "height": 144
        },
        "outputId": "a05b5274-3afc-466e-f363-acfedc60783d"
      },
      "cell_type": "code",
      "source": [
        "#Like magic they are gone, filled with 'Misc'\n",
        "df['Group'] = df['Group'].fillna('Misc')\n",
        "df['GoogleKnowlege_Occupation'] = df['GoogleKnowlege_Occupation'].fillna('Misc')\n",
        "df.isnull().sum()"
      ],
      "execution_count": 229,
      "outputs": [
        {
          "output_type": "execute_result",
          "data": {
            "text/plain": [
              "Year                         0\n",
              "GoogleKnowlege_Occupation    0\n",
              "Show                         0\n",
              "Group                        0\n",
              "Guest                        0\n",
              "Occupation                   0\n",
              "dtype: int64"
            ]
          },
          "metadata": {
            "tags": []
          },
          "execution_count": 229
        }
      ]
    },
    {
      "metadata": {
        "id": "-x58K9HNCesU",
        "colab_type": "code",
        "colab": {}
      },
      "cell_type": "code",
      "source": [
        "#Create a table of appearances by occuppation and year,...\n",
        "#then normalize and multiply by 100 for the percent\n",
        "ds_app_rate = pd.crosstab(df['Year'], df['Occupation'], normalize='index')* 100"
      ],
      "execution_count": 0,
      "outputs": []
    },
    {
      "metadata": {
        "id": "R38bzTpFbuZe",
        "colab_type": "text"
      },
      "cell_type": "markdown",
      "source": [
        "###Percent of Guests by Occupation on 'The Daily Show'"
      ]
    },
    {
      "metadata": {
        "id": "Q9nhu6mNGMRJ",
        "colab_type": "code",
        "colab": {
          "base_uri": "https://localhost:8080/",
          "height": 614
        },
        "outputId": "356ba241-60f1-41c6-dc42-21b46e1b43bd"
      },
      "cell_type": "code",
      "source": [
        "ds_app_rate"
      ],
      "execution_count": 255,
      "outputs": [
        {
          "output_type": "execute_result",
          "data": {
            "text/html": [
              "<div>\n",
              "<style scoped>\n",
              "    .dataframe tbody tr th:only-of-type {\n",
              "        vertical-align: middle;\n",
              "    }\n",
              "\n",
              "    .dataframe tbody tr th {\n",
              "        vertical-align: top;\n",
              "    }\n",
              "\n",
              "    .dataframe thead th {\n",
              "        text-align: right;\n",
              "    }\n",
              "</style>\n",
              "<table border=\"1\" class=\"dataframe\">\n",
              "  <thead>\n",
              "    <tr style=\"text-align: right;\">\n",
              "      <th>Occupation</th>\n",
              "      <th>Acting, Comedy &amp; Music</th>\n",
              "      <th>Government and Politics</th>\n",
              "      <th>Media</th>\n",
              "      <th>Other</th>\n",
              "    </tr>\n",
              "    <tr>\n",
              "      <th>Year</th>\n",
              "      <th></th>\n",
              "      <th></th>\n",
              "      <th></th>\n",
              "      <th></th>\n",
              "    </tr>\n",
              "  </thead>\n",
              "  <tbody>\n",
              "    <tr>\n",
              "      <th>1999</th>\n",
              "      <td>90.361446</td>\n",
              "      <td>1.204819</td>\n",
              "      <td>6.626506</td>\n",
              "      <td>1.807229</td>\n",
              "    </tr>\n",
              "    <tr>\n",
              "      <th>2000</th>\n",
              "      <td>73.964497</td>\n",
              "      <td>8.284024</td>\n",
              "      <td>12.426036</td>\n",
              "      <td>5.325444</td>\n",
              "    </tr>\n",
              "    <tr>\n",
              "      <th>2001</th>\n",
              "      <td>72.611465</td>\n",
              "      <td>3.821656</td>\n",
              "      <td>19.745223</td>\n",
              "      <td>3.821656</td>\n",
              "    </tr>\n",
              "    <tr>\n",
              "      <th>2002</th>\n",
              "      <td>62.264151</td>\n",
              "      <td>6.918239</td>\n",
              "      <td>26.415094</td>\n",
              "      <td>4.402516</td>\n",
              "    </tr>\n",
              "    <tr>\n",
              "      <th>2003</th>\n",
              "      <td>56.024096</td>\n",
              "      <td>10.240964</td>\n",
              "      <td>24.698795</td>\n",
              "      <td>9.036145</td>\n",
              "    </tr>\n",
              "    <tr>\n",
              "      <th>2004</th>\n",
              "      <td>38.414634</td>\n",
              "      <td>22.560976</td>\n",
              "      <td>27.439024</td>\n",
              "      <td>11.585366</td>\n",
              "    </tr>\n",
              "    <tr>\n",
              "      <th>2005</th>\n",
              "      <td>37.037037</td>\n",
              "      <td>16.049383</td>\n",
              "      <td>33.333333</td>\n",
              "      <td>13.580247</td>\n",
              "    </tr>\n",
              "    <tr>\n",
              "      <th>2006</th>\n",
              "      <td>36.024845</td>\n",
              "      <td>19.254658</td>\n",
              "      <td>29.192547</td>\n",
              "      <td>15.527950</td>\n",
              "    </tr>\n",
              "    <tr>\n",
              "      <th>2007</th>\n",
              "      <td>25.531915</td>\n",
              "      <td>17.021277</td>\n",
              "      <td>33.333333</td>\n",
              "      <td>24.113475</td>\n",
              "    </tr>\n",
              "    <tr>\n",
              "      <th>2008</th>\n",
              "      <td>20.731707</td>\n",
              "      <td>20.121951</td>\n",
              "      <td>46.951220</td>\n",
              "      <td>12.195122</td>\n",
              "    </tr>\n",
              "    <tr>\n",
              "      <th>2009</th>\n",
              "      <td>20.858896</td>\n",
              "      <td>20.858896</td>\n",
              "      <td>36.196319</td>\n",
              "      <td>22.085890</td>\n",
              "    </tr>\n",
              "    <tr>\n",
              "      <th>2010</th>\n",
              "      <td>35.151515</td>\n",
              "      <td>18.181818</td>\n",
              "      <td>30.303030</td>\n",
              "      <td>16.363636</td>\n",
              "    </tr>\n",
              "    <tr>\n",
              "      <th>2011</th>\n",
              "      <td>33.742331</td>\n",
              "      <td>16.564417</td>\n",
              "      <td>31.288344</td>\n",
              "      <td>18.404908</td>\n",
              "    </tr>\n",
              "    <tr>\n",
              "      <th>2012</th>\n",
              "      <td>26.829268</td>\n",
              "      <td>20.121951</td>\n",
              "      <td>31.707317</td>\n",
              "      <td>21.341463</td>\n",
              "    </tr>\n",
              "    <tr>\n",
              "      <th>2013</th>\n",
              "      <td>42.771084</td>\n",
              "      <td>12.650602</td>\n",
              "      <td>30.722892</td>\n",
              "      <td>13.855422</td>\n",
              "    </tr>\n",
              "    <tr>\n",
              "      <th>2014</th>\n",
              "      <td>39.263804</td>\n",
              "      <td>12.883436</td>\n",
              "      <td>32.515337</td>\n",
              "      <td>15.337423</td>\n",
              "    </tr>\n",
              "    <tr>\n",
              "      <th>2015</th>\n",
              "      <td>45.000000</td>\n",
              "      <td>17.000000</td>\n",
              "      <td>24.000000</td>\n",
              "      <td>14.000000</td>\n",
              "    </tr>\n",
              "  </tbody>\n",
              "</table>\n",
              "</div>"
            ],
            "text/plain": [
              "Occupation  Acting, Comedy & Music  Government and Politics      Media  \\\n",
              "Year                                                                     \n",
              "1999                     90.361446                 1.204819   6.626506   \n",
              "2000                     73.964497                 8.284024  12.426036   \n",
              "2001                     72.611465                 3.821656  19.745223   \n",
              "2002                     62.264151                 6.918239  26.415094   \n",
              "2003                     56.024096                10.240964  24.698795   \n",
              "2004                     38.414634                22.560976  27.439024   \n",
              "2005                     37.037037                16.049383  33.333333   \n",
              "2006                     36.024845                19.254658  29.192547   \n",
              "2007                     25.531915                17.021277  33.333333   \n",
              "2008                     20.731707                20.121951  46.951220   \n",
              "2009                     20.858896                20.858896  36.196319   \n",
              "2010                     35.151515                18.181818  30.303030   \n",
              "2011                     33.742331                16.564417  31.288344   \n",
              "2012                     26.829268                20.121951  31.707317   \n",
              "2013                     42.771084                12.650602  30.722892   \n",
              "2014                     39.263804                12.883436  32.515337   \n",
              "2015                     45.000000                17.000000  24.000000   \n",
              "\n",
              "Occupation      Other  \n",
              "Year                   \n",
              "1999         1.807229  \n",
              "2000         5.325444  \n",
              "2001         3.821656  \n",
              "2002         4.402516  \n",
              "2003         9.036145  \n",
              "2004        11.585366  \n",
              "2005        13.580247  \n",
              "2006        15.527950  \n",
              "2007        24.113475  \n",
              "2008        12.195122  \n",
              "2009        22.085890  \n",
              "2010        16.363636  \n",
              "2011        18.404908  \n",
              "2012        21.341463  \n",
              "2013        13.855422  \n",
              "2014        15.337423  \n",
              "2015        14.000000  "
            ]
          },
          "metadata": {
            "tags": []
          },
          "execution_count": 255
        }
      ]
    },
    {
      "metadata": {
        "colab_type": "text",
        "id": "Nqf9oJJDDu-d"
      },
      "cell_type": "markdown",
      "source": [
        "# Part 2 — Recreate this explanatory visualization:"
      ]
    },
    {
      "metadata": {
        "colab_type": "code",
        "id": "scozkHQc0_eD",
        "outputId": "c057bd3a-0b69-4527-e90a-4f3f8de37ef2",
        "colab": {
          "base_uri": "https://localhost:8080/",
          "height": 406
        }
      },
      "cell_type": "code",
      "source": [
        "from IPython.display import display, Image\n",
        "png = 'https://fivethirtyeight.com/wp-content/uploads/2015/08/hickey-datalab-dailyshow.png'\n",
        "example = Image(png, width=500)\n",
        "display(example)"
      ],
      "execution_count": 43,
      "outputs": [
        {
          "output_type": "display_data",
          "data": {
            "image/png": "[encoded data removed]",
            "text/plain": [
              "<IPython.core.display.Image object>"
            ]
          },
          "metadata": {
            "tags": [],
            "image/png": {
              "width": 500
            }
          }
        }
      ]
    },
    {
      "metadata": {
        "id": "XZT3OpCREbGH",
        "colab_type": "code",
        "colab": {
          "base_uri": "https://localhost:8080/",
          "height": 321
        },
        "outputId": "b6c5aaf5-8862-48f9-b0ed-f02a5f284cb9"
      },
      "cell_type": "code",
      "source": [
        "#set the style to fivethirtyeight\n",
        "plt.style.use('fivethirtyeight');\n",
        "\n",
        "#create ax instance of the plot\n",
        "ax = ds_app_rate[['Acting, Comedy & Music', 'Government and Politics', 'Media']].plot();\n",
        "\n",
        "#Remove the legend, replace with labels next to each line\n",
        "ax.get_legend().remove();\n",
        "ax.text(x=2000.5,y=80, s=\"Acting, Comedy & Music\", fontsize=12, fontweight='bold', color=('#008fd5'));\n",
        "ax.text(x=2009,y=5, s=\"Government and Politics\", fontsize=12, fontweight='bold', color=('#fc4f30'));\n",
        "ax.text(x=2007.5,y=50, s=\"Media\", fontsize=12, fontweight='bold', color=('#e5ae38'));\n",
        "\n",
        "#Set x and y axis spacing and labels\n",
        "ax.set(yticks=range(0,101,25));\n",
        "ax.xaxis.set_ticks(np.arange(2000, 2013, 4));\n",
        "ax.grid(True);\n",
        "ax.set_xticklabels([]);\n",
        "ax.tick_params(axis='both', which='major', labelsize=12);\n",
        "\n",
        "#Details to x and y labels\n",
        "ax.text(x=1997.9, y=98.1, s='%', fontsize=12, color='black');\n",
        "ax.text(x=1999.3, y=-7.5, s=\"2000                   '04                      '08                    '12\", fontsize=12);\n",
        "\n",
        "#Set title and Subtitle\n",
        "ax.text(x=1997, y=114.5, s=\"Who Got To Be On 'The Daily Show'?\", fontsize=14, fontweight='bold');\n",
        "ax.text(x=1997, y=108, s=\"Occupation of guests, by year\", fontsize=12);\n",
        "\n",
        "#Highlight the x axis at 0\n",
        "plt.axhline(y=0, color='black', linewidth=1)\n",
        "plt.xlabel('');\n",
        "\n",
        "#This was supposed to be the grey line at the bottom of the graph but it was whiting out my 100% for some reason\n",
        "# plt.axhline(y=-17, xmin=-.05, xmax=1, clip_on=False, linewidth=17, color='grey')\n",
        "# ax.text(x=1998.3, y=-18.5, s=\"FIVETHIRTYEIGHT\", fontsize=10, color='white');\n",
        "# ax.text(x=2006, y=-17, s=\"SOURCE: WIKIPEDIA, GOOGLE KNOWLEDGE GRAPH\", fontsize=8, color='white');"
      ],
      "execution_count": 256,
      "outputs": [
        {
          "output_type": "display_data",
          "data": {
            "image/png": "[encoded data removed]",
            "text/plain": [
              "<Figure size 432x288 with 1 Axes>"
            ]
          },
          "metadata": {
            "tags": []
          }
        }
      ]
    },
    {
      "metadata": {
        "colab_type": "text",
        "id": "W7lw3JzAE6BJ"
      },
      "cell_type": "markdown",
      "source": [
        "**Hints:**\n",
        "- You can choose any Python visualization library you want. I've verified the plot can be reproduced with matplotlib, pandas plot, or seaborn. I assume other libraries like altair or plotly would work too.\n",
        "- If you choose to use seaborn, you may want to upgrade the version to 0.9.0.\n",
        "\n",
        "**Expectations:** Your plot should include:\n",
        "- 3 lines visualizing \"occupation of guests, by year.\" The shapes of the lines should look roughly identical to 538's example. Each line should be a different color. (But you don't need to use the _same_ colors as 538.)\n",
        "- Legend or labels for the lines. (But you don't need each label positioned next to its line or colored like 538.)\n",
        "- Title in the upper left: _\"Who Got To Be On 'The Daily Show'?\"_ with more visual emphasis than the subtitle. (Bolder and/or larger font.)\n",
        "- Subtitle underneath the title: _\"Occupation of guests, by year\"_\n",
        "\n",
        "**Optional Bonus Challenge:**\n",
        "- Give your plot polished aesthetics, with improved resemblance to the 538 example.\n",
        "- Any visual element not specifically mentioned in the expectations is an optional bonus."
      ]
    },
    {
      "metadata": {
        "colab_type": "text",
        "id": "LuacMjSf2ses"
      },
      "cell_type": "markdown",
      "source": [
        "# Part 3 — Who were the top 10 guests on _The Daily Show_?\n",
        "\n",
        "**Make a plot** that shows their names and number of appearances.\n",
        "\n",
        "**Add a title** of your choice.\n",
        "\n",
        "**Expectations:** It's ok to make a simple, quick plot: exploratory, instead of explanatory. \n",
        "\n",
        "**Optional Bonus Challenge:** You can change aesthetics and add more annotation. For example, in a relevant location, could you add the text \"19\" to show that Fareed Zakaria appeared 19 times on _The Daily Show_? (And so on, for each of the top 10 guests.)"
      ]
    },
    {
      "metadata": {
        "id": "lHLR1L7uTxk9",
        "colab_type": "code",
        "colab": {
          "base_uri": "https://localhost:8080/",
          "height": 217
        },
        "outputId": "1cf3e267-8a49-419d-b2c9-839e902b4be2"
      },
      "cell_type": "code",
      "source": [
        "#Look at the top ten\n",
        "df['Guest'].value_counts()[0:10]"
      ],
      "execution_count": 136,
      "outputs": [
        {
          "output_type": "execute_result",
          "data": {
            "text/plain": [
              "Fareed Zakaria    19\n",
              "Denis Leary       17\n",
              "Brian Williams    16\n",
              "Ricky Gervais     13\n",
              "Paul Rudd         13\n",
              "Tom Brokaw        12\n",
              "Will Ferrell      10\n",
              "Reza Aslan        10\n",
              "Richard Lewis     10\n",
              "Bill O'Reilly     10\n",
              "Name: Guest, dtype: int64"
            ]
          },
          "metadata": {
            "tags": []
          },
          "execution_count": 136
        }
      ]
    },
    {
      "metadata": {
        "colab_type": "code",
        "id": "tbwfBN3HsFlh",
        "colab": {
          "base_uri": "https://localhost:8080/",
          "height": 368
        },
        "outputId": "0729c83f-12ce-4f94-a1d5-3e80ee8c06c2"
      },
      "cell_type": "code",
      "source": [
        "#Set fivethirtyeight style\n",
        "plt.style.use('fivethirtyeight');\n",
        "\n",
        "#new ax instance of our plot to manipulate settings\n",
        "ax = df['Guest'].value_counts()[0:10].plot.bar();\n",
        "\n",
        "#Change the tick and label spacing on the y axis\n",
        "ax.set(yticks=range(0,20,5));\n",
        "#Turn off the x-axis grid lines, leave the labels\n",
        "ax.grid(b=False, axis='x')\n",
        "\n",
        "#Give it a declarative title like most of fivethirtyeight's\n",
        "ax.text(x=-1.3, y=21.5, s=\"'The Daily Show' Favored Media and Comedians\", fontsize=14, fontweight='bold');\n",
        "ax.text(x=-1.3, y=20, s=\"Guests, by number of appearances\", fontsize=12);\n",
        "\n",
        "#Place the value count at the top of each bar like suggested\n",
        "ax.text(x=-.22, y=18, s='19', fontweight='bold');\n",
        "ax.text(x=.78, y=16, s='17', fontweight='bold');\n",
        "ax.text(x=1.78, y=15, s='16', fontweight='bold');\n",
        "ax.text(x=2.78, y=12, s='13', fontweight='bold');\n",
        "ax.text(x=3.78, y=12, s='13', fontweight='bold');\n",
        "ax.text(x=4.78, y=11, s='12', fontweight='bold');\n",
        "ax.text(x=5.78, y=9, s='10', fontweight='bold');\n",
        "ax.text(x=6.78, y=9, s='10', fontweight='bold');\n",
        "ax.text(x=7.78, y=9, s='10', fontweight='bold');\n",
        "ax.text(x=8.78, y=9, s='10', fontweight='bold');"
      ],
      "execution_count": 175,
      "outputs": [
        {
          "output_type": "display_data",
          "data": {
            "image/png": "[encoded data removed]",
            "text/plain": [
              "<Figure size 432x288 with 1 Axes>"
            ]
          },
          "metadata": {
            "tags": []
          }
        }
      ]
    }
  ]
}